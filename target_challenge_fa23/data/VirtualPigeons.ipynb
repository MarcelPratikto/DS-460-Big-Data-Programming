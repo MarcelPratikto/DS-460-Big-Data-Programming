{
 "cells": [
  {
   "cell_type": "code",
   "execution_count": 1,
   "metadata": {},
   "outputs": [],
   "source": [
    "# %%\n",
    "import polars as pl\n",
    "import plotly.express as px\n",
    "import pyarrow.parquet as pq"
   ]
  },
  {
   "cell_type": "code",
   "execution_count": 8,
   "metadata": {},
   "outputs": [
    {
     "data": {
      "text/html": [
       "<div><style>\n",
       ".dataframe > thead > tr > th,\n",
       ".dataframe > tbody > tr > td {\n",
       "  text-align: right;\n",
       "  white-space: pre-wrap;\n",
       "}\n",
       "</style>\n",
       "<small>shape: (5, 2)</small><table border=\"1\" class=\"dataframe\"><thead><tr><th>TRACT</th><th>active_member</th></tr><tr><td>str</td><td>f64</td></tr></thead><tbody><tr><td>&quot;36061014900&quot;</td><td>null</td></tr><tr><td>&quot;49049002400&quot;</td><td>null</td></tr><tr><td>&quot;41039002101&quot;</td><td>null</td></tr><tr><td>&quot;06019004214&quot;</td><td>null</td></tr><tr><td>&quot;36061015300&quot;</td><td>null</td></tr></tbody></table></div>"
      ],
      "text/plain": [
       "shape: (5, 2)\n",
       "┌─────────────┬───────────────┐\n",
       "│ TRACT       ┆ active_member │\n",
       "│ ---         ┆ ---           │\n",
       "│ str         ┆ f64           │\n",
       "╞═════════════╪═══════════════╡\n",
       "│ 36061014900 ┆ null          │\n",
       "│ 49049002400 ┆ null          │\n",
       "│ 41039002101 ┆ null          │\n",
       "│ 06019004214 ┆ null          │\n",
       "│ 36061015300 ┆ null          │\n",
       "└─────────────┴───────────────┘"
      ]
     },
     "execution_count": 8,
     "metadata": {},
     "output_type": "execute_result"
    }
   ],
   "source": [
    "dat = pl.from_arrow(pq.read_table(\"VirtualPigeons.parquet\"))\n",
    "dat.head(5)"
   ]
  },
  {
   "cell_type": "code",
   "execution_count": 9,
   "metadata": {},
   "outputs": [
    {
     "data": {
      "text/plain": [
       "(74133, 2)"
      ]
     },
     "execution_count": 9,
     "metadata": {},
     "output_type": "execute_result"
    }
   ],
   "source": [
    "dat.shape"
   ]
  },
  {
   "cell_type": "code",
   "execution_count": 11,
   "metadata": {},
   "outputs": [
    {
     "data": {
      "text/html": [
       "<div><style>\n",
       ".dataframe > thead > tr > th,\n",
       ".dataframe > tbody > tr > td {\n",
       "  text-align: right;\n",
       "  white-space: pre-wrap;\n",
       "}\n",
       "</style>\n",
       "<small>shape: (9, 2)</small><table border=\"1\" class=\"dataframe\"><thead><tr><th>describe</th><th>active_member</th></tr><tr><td>str</td><td>f64</td></tr></thead><tbody><tr><td>&quot;count&quot;</td><td>74133.0</td></tr><tr><td>&quot;null_count&quot;</td><td>73881.0</td></tr><tr><td>&quot;mean&quot;</td><td>794.448413</td></tr><tr><td>&quot;std&quot;</td><td>1056.535352</td></tr><tr><td>&quot;min&quot;</td><td>25.0</td></tr><tr><td>&quot;25%&quot;</td><td>190.0</td></tr><tr><td>&quot;50%&quot;</td><td>450.0</td></tr><tr><td>&quot;75%&quot;</td><td>970.0</td></tr><tr><td>&quot;max&quot;</td><td>8251.0</td></tr></tbody></table></div>"
      ],
      "text/plain": [
       "shape: (9, 2)\n",
       "┌────────────┬───────────────┐\n",
       "│ describe   ┆ active_member │\n",
       "│ ---        ┆ ---           │\n",
       "│ str        ┆ f64           │\n",
       "╞════════════╪═══════════════╡\n",
       "│ count      ┆ 74133.0       │\n",
       "│ null_count ┆ 73881.0       │\n",
       "│ mean       ┆ 794.448413    │\n",
       "│ std        ┆ 1056.535352   │\n",
       "│ min        ┆ 25.0          │\n",
       "│ 25%        ┆ 190.0         │\n",
       "│ 50%        ┆ 450.0         │\n",
       "│ 75%        ┆ 970.0         │\n",
       "│ max        ┆ 8251.0        │\n",
       "└────────────┴───────────────┘"
      ]
     },
     "execution_count": 11,
     "metadata": {},
     "output_type": "execute_result"
    }
   ],
   "source": [
    "dat.select(\"active_member\").describe()"
   ]
  },
  {
   "cell_type": "code",
   "execution_count": 12,
   "metadata": {},
   "outputs": [],
   "source": [
    "rexburg_tracts = [\"16065950100\", \"16065950200\", \"16065950400\", \"16065950301\", \"16065950500\", \"16065950302\"]\n",
    "courd_tracts = [\"16055000402\", \"16055000401\", \"16055001200\", \"16055000900\"]"
   ]
  },
  {
   "cell_type": "code",
   "execution_count": 14,
   "metadata": {},
   "outputs": [
    {
     "data": {
      "text/html": [
       "<div><style>\n",
       ".dataframe > thead > tr > th,\n",
       ".dataframe > tbody > tr > td {\n",
       "  text-align: right;\n",
       "  white-space: pre-wrap;\n",
       "}\n",
       "</style>\n",
       "<small>shape: (6, 2)</small><table border=\"1\" class=\"dataframe\"><thead><tr><th>TRACT</th><th>active_member</th></tr><tr><td>str</td><td>f64</td></tr></thead><tbody><tr><td>&quot;16065950301&quot;</td><td>1746.0</td></tr><tr><td>&quot;16065950302&quot;</td><td>5525.0</td></tr><tr><td>&quot;16065950200&quot;</td><td>1204.0</td></tr><tr><td>&quot;16065950100&quot;</td><td>1996.0</td></tr><tr><td>&quot;16065950500&quot;</td><td>2088.0</td></tr><tr><td>&quot;16065950400&quot;</td><td>1521.0</td></tr></tbody></table></div>"
      ],
      "text/plain": [
       "shape: (6, 2)\n",
       "┌─────────────┬───────────────┐\n",
       "│ TRACT       ┆ active_member │\n",
       "│ ---         ┆ ---           │\n",
       "│ str         ┆ f64           │\n",
       "╞═════════════╪═══════════════╡\n",
       "│ 16065950301 ┆ 1746.0        │\n",
       "│ 16065950302 ┆ 5525.0        │\n",
       "│ 16065950200 ┆ 1204.0        │\n",
       "│ 16065950100 ┆ 1996.0        │\n",
       "│ 16065950500 ┆ 2088.0        │\n",
       "│ 16065950400 ┆ 1521.0        │\n",
       "└─────────────┴───────────────┘"
      ]
     },
     "execution_count": 14,
     "metadata": {},
     "output_type": "execute_result"
    }
   ],
   "source": [
    "dat.filter(pl.col(\"TRACT\").is_in(rexburg_tracts))"
   ]
  },
  {
   "cell_type": "code",
   "execution_count": 15,
   "metadata": {},
   "outputs": [
    {
     "data": {
      "text/html": [
       "<div><style>\n",
       ".dataframe > thead > tr > th,\n",
       ".dataframe > tbody > tr > td {\n",
       "  text-align: right;\n",
       "  white-space: pre-wrap;\n",
       "}\n",
       "</style>\n",
       "<small>shape: (4, 2)</small><table border=\"1\" class=\"dataframe\"><thead><tr><th>TRACT</th><th>active_member</th></tr><tr><td>str</td><td>f64</td></tr></thead><tbody><tr><td>&quot;16055000401&quot;</td><td>null</td></tr><tr><td>&quot;16055000402&quot;</td><td>68.0</td></tr><tr><td>&quot;16055000900&quot;</td><td>98.0</td></tr><tr><td>&quot;16055001200&quot;</td><td>147.0</td></tr></tbody></table></div>"
      ],
      "text/plain": [
       "shape: (4, 2)\n",
       "┌─────────────┬───────────────┐\n",
       "│ TRACT       ┆ active_member │\n",
       "│ ---         ┆ ---           │\n",
       "│ str         ┆ f64           │\n",
       "╞═════════════╪═══════════════╡\n",
       "│ 16055000401 ┆ null          │\n",
       "│ 16055000402 ┆ 68.0          │\n",
       "│ 16055000900 ┆ 98.0          │\n",
       "│ 16055001200 ┆ 147.0         │\n",
       "└─────────────┴───────────────┘"
      ]
     },
     "execution_count": 15,
     "metadata": {},
     "output_type": "execute_result"
    }
   ],
   "source": [
    "dat.filter(pl.col(\"TRACT\").is_in(courd_tracts))"
   ]
  },
  {
   "cell_type": "markdown",
   "metadata": {},
   "source": [
    "## Visualizations\n",
    "### Our calculations against SiliconSlayers's calculations\n",
    "\n",
    "The calculations Virtual Pigeon's and SiliconSlayers came up with are pretty closely related as can be see by this graph. There is a strong correlation, but there is an outlier that breaks away from the correlation line, telling us that our max value above 8000 is significantly greater than any of their values and they got a much lower number for that tract in comparision. Aside from that outlier the other tracts calculations line up very closely between our groups.\n",
    "\n",
    "![Plot 1](../VirtualPigeons/plot1.png)\n",
    "\n",
    "### Active counts\n",
    "\n",
    "![Plot 2](../VirtualPigeons/plot2.png)\n",
    "\n",
    "### The percent of the tract that is active\n",
    "\n",
    "![Plot 3](../VirtualPigeons/plot3.png)"
   ]
  }
 ],
 "metadata": {
  "kernelspec": {
   "display_name": "Python 3",
   "language": "python",
   "name": "python3"
  },
  "language_info": {
   "codemirror_mode": {
    "name": "ipython",
    "version": 3
   },
   "file_extension": ".py",
   "mimetype": "text/x-python",
   "name": "python",
   "nbconvert_exporter": "python",
   "pygments_lexer": "ipython3",
   "version": "3.11.5"
  }
 },
 "nbformat": 4,
 "nbformat_minor": 2
}

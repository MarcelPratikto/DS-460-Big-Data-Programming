{
 "cells": [
  {
   "cell_type": "code",
   "execution_count": 24,
   "metadata": {},
   "outputs": [],
   "source": [
    "import polars as pl\n",
    "import plotly.express as px\n",
    "import pyarrow.parquet as pq"
   ]
  },
  {
   "cell_type": "markdown",
   "metadata": {},
   "source": [
    "## Target tables"
   ]
  },
  {
   "cell_type": "code",
   "execution_count": 25,
   "metadata": {},
   "outputs": [
    {
     "data": {
      "text/html": [
       "<div><style>\n",
       ".dataframe > thead > tr > th,\n",
       ".dataframe > tbody > tr > td {\n",
       "  text-align: right;\n",
       "  white-space: pre-wrap;\n",
       "}\n",
       "</style>\n",
       "<small>shape: (5, 5)</small><table border=\"1\" class=\"dataframe\"><thead><tr><th>tractcode</th><th>population</th><th>target</th><th>cnamelong</th><th>percent_active</th></tr><tr><td>str</td><td>i64</td><td>f64</td><td>str</td><td>f64</td></tr></thead><tbody><tr><td>&quot;16029960100&quot;</td><td>4386</td><td>806.0</td><td>&quot;Caribou County…</td><td>18.376653</td></tr><tr><td>&quot;16031950100&quot;</td><td>2879</td><td>443.0</td><td>&quot;Cassia County&quot;</td><td>15.387287</td></tr><tr><td>&quot;16055000500&quot;</td><td>14213</td><td>112.5</td><td>&quot;Kootenai Count…</td><td>0.791529</td></tr><tr><td>&quot;16027021700&quot;</td><td>11701</td><td>212.5</td><td>&quot;Canyon County&quot;</td><td>1.816084</td></tr><tr><td>&quot;16067970400&quot;</td><td>4494</td><td>325.5</td><td>&quot;Minidoka Count…</td><td>7.242991</td></tr></tbody></table></div>"
      ],
      "text/plain": [
       "shape: (5, 5)\n",
       "┌─────────────┬────────────┬────────┬─────────────────┬────────────────┐\n",
       "│ tractcode   ┆ population ┆ target ┆ cnamelong       ┆ percent_active │\n",
       "│ ---         ┆ ---        ┆ ---    ┆ ---             ┆ ---            │\n",
       "│ str         ┆ i64        ┆ f64    ┆ str             ┆ f64            │\n",
       "╞═════════════╪════════════╪════════╪═════════════════╪════════════════╡\n",
       "│ 16029960100 ┆ 4386       ┆ 806.0  ┆ Caribou County  ┆ 18.376653      │\n",
       "│ 16031950100 ┆ 2879       ┆ 443.0  ┆ Cassia County   ┆ 15.387287      │\n",
       "│ 16055000500 ┆ 14213      ┆ 112.5  ┆ Kootenai County ┆ 0.791529       │\n",
       "│ 16027021700 ┆ 11701      ┆ 212.5  ┆ Canyon County   ┆ 1.816084       │\n",
       "│ 16067970400 ┆ 4494       ┆ 325.5  ┆ Minidoka County ┆ 7.242991       │\n",
       "└─────────────┴────────────┴────────┴─────────────────┴────────────────┘"
      ]
     },
     "execution_count": 25,
     "metadata": {},
     "output_type": "execute_result"
    }
   ],
   "source": [
    "dat = pl.from_arrow(pq.read_table(\"./apt103.parquet\"))\n",
    "dat = dat.with_columns(pl.col(\"tractcode\").cast(pl.Utf8)).with_columns(percent_active = (pl.col(\"target\")/pl.col(\"population\") * 100))\n",
    "dat.head(5)"
   ]
  },
  {
   "cell_type": "code",
   "execution_count": 26,
   "metadata": {},
   "outputs": [
    {
     "data": {
      "text/plain": [
       "(298, 5)"
      ]
     },
     "execution_count": 26,
     "metadata": {},
     "output_type": "execute_result"
    }
   ],
   "source": [
    "dat.shape"
   ]
  },
  {
   "cell_type": "code",
   "execution_count": 27,
   "metadata": {},
   "outputs": [
    {
     "data": {
      "text/html": [
       "<div><style>\n",
       ".dataframe > thead > tr > th,\n",
       ".dataframe > tbody > tr > td {\n",
       "  text-align: right;\n",
       "  white-space: pre-wrap;\n",
       "}\n",
       "</style>\n",
       "<small>shape: (9, 2)</small><table border=\"1\" class=\"dataframe\"><thead><tr><th>describe</th><th>target</th></tr><tr><td>str</td><td>f64</td></tr></thead><tbody><tr><td>&quot;count&quot;</td><td>298.0</td></tr><tr><td>&quot;null_count&quot;</td><td>0.0</td></tr><tr><td>&quot;mean&quot;</td><td>340.682886</td></tr><tr><td>&quot;std&quot;</td><td>403.380767</td></tr><tr><td>&quot;min&quot;</td><td>0.0</td></tr><tr><td>&quot;25%&quot;</td><td>74.0</td></tr><tr><td>&quot;50%&quot;</td><td>206.0</td></tr><tr><td>&quot;75%&quot;</td><td>433.0</td></tr><tr><td>&quot;max&quot;</td><td>3127.0</td></tr></tbody></table></div>"
      ],
      "text/plain": [
       "shape: (9, 2)\n",
       "┌────────────┬────────────┐\n",
       "│ describe   ┆ target     │\n",
       "│ ---        ┆ ---        │\n",
       "│ str        ┆ f64        │\n",
       "╞════════════╪════════════╡\n",
       "│ count      ┆ 298.0      │\n",
       "│ null_count ┆ 0.0        │\n",
       "│ mean       ┆ 340.682886 │\n",
       "│ std        ┆ 403.380767 │\n",
       "│ min        ┆ 0.0        │\n",
       "│ 25%        ┆ 74.0       │\n",
       "│ 50%        ┆ 206.0      │\n",
       "│ 75%        ┆ 433.0      │\n",
       "│ max        ┆ 3127.0     │\n",
       "└────────────┴────────────┘"
      ]
     },
     "execution_count": 27,
     "metadata": {},
     "output_type": "execute_result"
    }
   ],
   "source": [
    "dat.select(\"target\").describe()"
   ]
  },
  {
   "cell_type": "code",
   "execution_count": 28,
   "metadata": {},
   "outputs": [],
   "source": [
    "rexburg_tracts = [\"16065950100\", \"16065950200\", \"16065950400\", \"16065950301\", \"16065950500\", \"16065950302\"]\n",
    "courd_tracts = [\"16055000402\", \"16055000401\", \"16055001200\", \"16055000900\"]"
   ]
  },
  {
   "cell_type": "code",
   "execution_count": 29,
   "metadata": {},
   "outputs": [
    {
     "data": {
      "text/html": [
       "<div><style>\n",
       ".dataframe > thead > tr > th,\n",
       ".dataframe > tbody > tr > td {\n",
       "  text-align: right;\n",
       "  white-space: pre-wrap;\n",
       "}\n",
       "</style>\n",
       "<small>shape: (6, 3)</small><table border=\"1\" class=\"dataframe\"><thead><tr><th>tractcode</th><th>cnamelong</th><th>target</th></tr><tr><td>str</td><td>str</td><td>f64</td></tr></thead><tbody><tr><td>&quot;16065950500&quot;</td><td>&quot;Madison County…</td><td>1248.5</td></tr><tr><td>&quot;16065950100&quot;</td><td>&quot;Madison County…</td><td>1427.5</td></tr><tr><td>&quot;16065950302&quot;</td><td>&quot;Madison County…</td><td>3127.0</td></tr><tr><td>&quot;16065950200&quot;</td><td>&quot;Madison County…</td><td>820.0</td></tr><tr><td>&quot;16065950301&quot;</td><td>&quot;Madison County…</td><td>1392.0</td></tr><tr><td>&quot;16065950400&quot;</td><td>&quot;Madison County…</td><td>961.0</td></tr></tbody></table></div>"
      ],
      "text/plain": [
       "shape: (6, 3)\n",
       "┌─────────────┬────────────────┬────────┐\n",
       "│ tractcode   ┆ cnamelong      ┆ target │\n",
       "│ ---         ┆ ---            ┆ ---    │\n",
       "│ str         ┆ str            ┆ f64    │\n",
       "╞═════════════╪════════════════╪════════╡\n",
       "│ 16065950500 ┆ Madison County ┆ 1248.5 │\n",
       "│ 16065950100 ┆ Madison County ┆ 1427.5 │\n",
       "│ 16065950302 ┆ Madison County ┆ 3127.0 │\n",
       "│ 16065950200 ┆ Madison County ┆ 820.0  │\n",
       "│ 16065950301 ┆ Madison County ┆ 1392.0 │\n",
       "│ 16065950400 ┆ Madison County ┆ 961.0  │\n",
       "└─────────────┴────────────────┴────────┘"
      ]
     },
     "execution_count": 29,
     "metadata": {},
     "output_type": "execute_result"
    }
   ],
   "source": [
    "rexburg = dat.select(\"tractcode\", \"cnamelong\", \"target\").filter(pl.col(\"tractcode\").is_in(rexburg_tracts))\n",
    "rexburg"
   ]
  },
  {
   "cell_type": "code",
   "execution_count": 30,
   "metadata": {},
   "outputs": [
    {
     "data": {
      "text/html": [
       "<div><style>\n",
       ".dataframe > thead > tr > th,\n",
       ".dataframe > tbody > tr > td {\n",
       "  text-align: right;\n",
       "  white-space: pre-wrap;\n",
       "}\n",
       "</style>\n",
       "<small>shape: (4, 5)</small><table border=\"1\" class=\"dataframe\"><thead><tr><th>tractcode</th><th>population</th><th>target</th><th>cnamelong</th><th>percent_active</th></tr><tr><td>str</td><td>i64</td><td>f64</td><td>str</td><td>f64</td></tr></thead><tbody><tr><td>&quot;16055001200&quot;</td><td>6535</td><td>34.0</td><td>&quot;Kootenai Count…</td><td>0.520275</td></tr><tr><td>&quot;16055000402&quot;</td><td>8894</td><td>66.0</td><td>&quot;Kootenai Count…</td><td>0.742073</td></tr><tr><td>&quot;16055000401&quot;</td><td>5808</td><td>70.0</td><td>&quot;Kootenai Count…</td><td>1.205234</td></tr><tr><td>&quot;16055000900&quot;</td><td>5978</td><td>71.0</td><td>&quot;Kootenai Count…</td><td>1.187688</td></tr></tbody></table></div>"
      ],
      "text/plain": [
       "shape: (4, 5)\n",
       "┌─────────────┬────────────┬────────┬─────────────────┬────────────────┐\n",
       "│ tractcode   ┆ population ┆ target ┆ cnamelong       ┆ percent_active │\n",
       "│ ---         ┆ ---        ┆ ---    ┆ ---             ┆ ---            │\n",
       "│ str         ┆ i64        ┆ f64    ┆ str             ┆ f64            │\n",
       "╞═════════════╪════════════╪════════╪═════════════════╪════════════════╡\n",
       "│ 16055001200 ┆ 6535       ┆ 34.0   ┆ Kootenai County ┆ 0.520275       │\n",
       "│ 16055000402 ┆ 8894       ┆ 66.0   ┆ Kootenai County ┆ 0.742073       │\n",
       "│ 16055000401 ┆ 5808       ┆ 70.0   ┆ Kootenai County ┆ 1.205234       │\n",
       "│ 16055000900 ┆ 5978       ┆ 71.0   ┆ Kootenai County ┆ 1.187688       │\n",
       "└─────────────┴────────────┴────────┴─────────────────┴────────────────┘"
      ]
     },
     "execution_count": 30,
     "metadata": {},
     "output_type": "execute_result"
    }
   ],
   "source": [
    "courd = dat.filter(pl.col(\"tractcode\").is_in(courd_tracts))\n",
    "courd"
   ]
  },
  {
   "cell_type": "markdown",
   "metadata": {},
   "source": [
    "## Histograms of the target and percent active"
   ]
  },
  {
   "cell_type": "code",
   "execution_count": 34,
   "metadata": {},
   "outputs": [
    {
     "data": {
      "application/vnd.plotly.v1+json": {
       "config": {
        "plotlyServerURL": "https://plot.ly"
       },
       "data": [
        {
         "alignmentgroup": "True",
         "bingroup": "x",
         "histfunc": "sum",
         "hovertemplate": "madison_county=False<br>tractcode=%{x}<br>sum of target=%{y}<extra></extra>",
         "legendgroup": "False",
         "marker": {
          "color": "#636efa",
          "pattern": {
           "shape": ""
          }
         },
         "name": "False",
         "offsetgroup": "False",
         "orientation": "v",
         "showlegend": true,
         "type": "histogram",
         "x": [
          "16029960100",
          "16031950100",
          "16055000500",
          "16027021700",
          "16067970400",
          "16027021002",
          "16031950300",
          "16069960700",
          "16061950300",
          "16027021500",
          "16049960100",
          "16005001601",
          "16001002224",
          "16013960100",
          "16031950500",
          "16017950200",
          "16005001400",
          "16087970200",
          "16005000300",
          "16007950200",
          "16057005300",
          "16019971301",
          "16083000200",
          "16001000202",
          "16005000200",
          "16017950900",
          "16069960400",
          "16085970100",
          "16019970601",
          "16083000900",
          "16051960100",
          "16039960300",
          "16019970602",
          "16057005100",
          "16001010224",
          "16045960300",
          "16079960400",
          "16005000600",
          "16073950102",
          "16067970500",
          "16005000700",
          "16025970100",
          "16001002221",
          "16005001900",
          "16013960500",
          "16005001000",
          "16027020902",
          "16019970603",
          "16087970100",
          "16043970100",
          "16055001100",
          "16055001200",
          "16069960200",
          "16019970900",
          "16005000400",
          "16061940001",
          "16019971100",
          "16061940002",
          "16057005200",
          "16013960200",
          "16027021904",
          "16019970402",
          "16083001300",
          "16001010402",
          "16001002000",
          "16053970100",
          "16063950100",
          "16003950100",
          "16001002411",
          "16001010201",
          "16017950700",
          "16001002313",
          "16005000800",
          "16027022100",
          "16029960200",
          "16009950100",
          "16069960800",
          "16055000402",
          "16027020501",
          "16005001700",
          "16049960400",
          "16045960100",
          "16009940000",
          "16001000805",
          "16005001602",
          "16005001603",
          "16011950200",
          "16001010313",
          "16069960300",
          "16075960100",
          "16083000300",
          "16001000803",
          "16079960200",
          "16031950200",
          "16055001001",
          "16073950101",
          "16027021100",
          "16053970300",
          "16027021600",
          "16071960100",
          "16055001500",
          "16015950200",
          "16027020602",
          "16021970200",
          "16027020300",
          "16057005600",
          "16011950400",
          "16055001002",
          "16001001600",
          "16055000601",
          "16005001500",
          "16031950400",
          "16051960400",
          "16017950100",
          "16087970300",
          "16001000201",
          "16005940000",
          "16069961000",
          "16043970300",
          "16005001102",
          "16083000600",
          "16083001000",
          "16001002222",
          "16055001900",
          "16051960200",
          "16001010225",
          "16055000302",
          "16039960200",
          "16043970200",
          "16001000302",
          "16001000400",
          "16001002302",
          "16077960100",
          "16001000304",
          "16011950500",
          "16055000100",
          "16027021200",
          "16019970300",
          "16031950600",
          "16019970501",
          "16001010100",
          "16055001700",
          "16011950300",
          "16001010401",
          "16027020401",
          "16011950600",
          "16001001900",
          "16055001600",
          "16027020100",
          "16005001300",
          "16027020402",
          "16035940000",
          "16011950100",
          "16019971200",
          "16003950200",
          "16001001100",
          "16033950100",
          "16049960200",
          "16005000900",
          "16055000401",
          "16001010335",
          "16055000900",
          "16001010332",
          "16049960300",
          "16001000303",
          "16047960200",
          "16019970503",
          "16039960500",
          "16069960900",
          "16001010321",
          "16027022400",
          "16083000800",
          "16019971400",
          "16083001400",
          "16001000100",
          "16001000600",
          "16001010333",
          "16019970800",
          "16001010503",
          "16055000301",
          "16005000500",
          "16037960200",
          "16085970300",
          "16067970300",
          "16001010501",
          "16053970200",
          "16049940000",
          "16007950100",
          "16001001400",
          "16019971302",
          "16001002312",
          "16055000200",
          "16051960300",
          "16045960200",
          "16019970502",
          "16039960400",
          "16013960300",
          "16027021800",
          "16001000702",
          "16083000400",
          "16017950500",
          "16021970100",
          "16027021300",
          "16023970100",
          "16069960600",
          "16001001500",
          "16035970100",
          "16027022300",
          "16005981800",
          "16081960100",
          "16069940000",
          "16055000700",
          "16059970300",
          "16079960300",
          "16001002310",
          "16019971500",
          "16083001200",
          "16001002412",
          "16027021903",
          "16001010322",
          "16017950400",
          "16011940000",
          "16001001000",
          "16077960200",
          "16001010504",
          "16055001400",
          "16017950800",
          "16001000802",
          "16027020504",
          "16039960100",
          "16027020503",
          "16067970200",
          "16027022200",
          "16001010334",
          "16057005500",
          "16057005400",
          "16019970100",
          "16001000804",
          "16001001202",
          "16057005700",
          "16055000800",
          "16075960200",
          "16069960500",
          "16055001300",
          "16019970700",
          "16027020901",
          "16041970100",
          "16047960100",
          "16067970100",
          "16019970401",
          "16001010223",
          "16011950700",
          "16017950300",
          "16055001800",
          "16001002413",
          "16027020200",
          "16055940000",
          "16019970403",
          "16073950200",
          "16083001100",
          "16053970400",
          "16027021901",
          "16055000602",
          "16005001200",
          "16001002410",
          "16059970200",
          "16075960300",
          "16075960400",
          "16027021001",
          "16083000700",
          "16083000500",
          "16005001101",
          "16001010331",
          "16027020700",
          "16001000900",
          "16083001500",
          "16085970200",
          "16059970100",
          "16055002000",
          "16001001201",
          "16001000500",
          "16001000701",
          "16001002100",
          "16001010221",
          "16001001800",
          "16001002223",
          "16041970200",
          "16027020601",
          "16017950600",
          "16001001700",
          "16053970500",
          "16019971000"
         ],
         "xaxis": "x",
         "y": [
          806,
          443,
          112.5,
          212.5,
          325.5,
          360,
          625.5,
          16,
          0,
          218,
          0,
          159.5,
          469,
          211,
          647.5,
          132,
          253.5,
          117,
          775,
          154,
          209,
          1026.5,
          625.5,
          142,
          679.5,
          22,
          16,
          29,
          461,
          617,
          265.5,
          45.5,
          859.5,
          46.5,
          314,
          348.5,
          8,
          347,
          59,
          360.5,
          420.5,
          68,
          542,
          287.5,
          44,
          424.5,
          781.5,
          245,
          76.5,
          360.5,
          344,
          34,
          20,
          487.5,
          1080.5,
          9,
          304.5,
          26,
          155.5,
          105.5,
          90.5,
          1147.5,
          677,
          713,
          226,
          125,
          231,
          86,
          256,
          895,
          21,
          223,
          348,
          96,
          190,
          0,
          21,
          66,
          186,
          577,
          57,
          282.5,
          0,
          59,
          309,
          224.5,
          694,
          1970,
          27,
          188,
          230.5,
          206,
          19.5,
          804,
          57,
          129.5,
          908,
          248,
          155.5,
          583.5,
          69,
          240.5,
          298,
          56,
          105,
          10.5,
          763,
          74,
          128,
          26.5,
          311,
          281.5,
          1526.5,
          29.5,
          135.5,
          49,
          131,
          19,
          1589.5,
          326.5,
          274.5,
          415.5,
          324,
          24.5,
          619,
          363.5,
          175,
          159.5,
          510,
          145.5,
          169,
          237.5,
          376.5,
          182.5,
          863,
          51,
          92.5,
          1870.5,
          598.5,
          1676.5,
          240.5,
          62,
          401.5,
          1364,
          295.5,
          882,
          147,
          26.5,
          41,
          336.5,
          195,
          0,
          1516,
          428.5,
          20,
          151.5,
          0,
          51,
          113,
          70,
          830.5,
          71,
          560.5,
          0,
          96,
          227,
          1025.5,
          22,
          16,
          365.5,
          312,
          222,
          1031.5,
          198,
          134.5,
          63,
          468,
          528,
          358.5,
          39,
          345,
          69,
          98.5,
          471.5,
          205.5,
          172,
          0,
          263,
          173,
          672.5,
          116,
          154,
          1194,
          300.5,
          722,
          143,
          25,
          210.5,
          160.5,
          135,
          21,
          31.5,
          105,
          366.5,
          19,
          117.5,
          19,
          191,
          120,
          367,
          0,
          885.5,
          36,
          0,
          266.5,
          303.5,
          360.5,
          163.5,
          600.5,
          374,
          47,
          135,
          144,
          724,
          299.5,
          31.5,
          34,
          243,
          106,
          33,
          148.5,
          427.5,
          72,
          391,
          0,
          85,
          1797,
          109.5,
          349,
          64,
          57,
          131,
          11,
          110.5,
          457,
          958,
          570.5,
          203,
          210,
          685,
          511.5,
          698,
          25,
          132.5,
          464.5,
          75.5,
          0,
          1391.5,
          200,
          185,
          109,
          250.5,
          44.5,
          284.5,
          327.5,
          73,
          554,
          181.5,
          433,
          612,
          609.5,
          1107,
          1265,
          89.5,
          169.5,
          178,
          90,
          60.5,
          124,
          111,
          137.5,
          135.5,
          257,
          532,
          188,
          283.5,
          729.5,
          151,
          0,
          242,
          431,
          621
         ],
         "yaxis": "y"
        },
        {
         "alignmentgroup": "True",
         "bingroup": "x",
         "histfunc": "sum",
         "hovertemplate": "madison_county=True<br>tractcode=%{x}<br>sum of target=%{y}<extra></extra>",
         "legendgroup": "True",
         "marker": {
          "color": "#EF553B",
          "pattern": {
           "shape": ""
          }
         },
         "name": "True",
         "offsetgroup": "True",
         "orientation": "v",
         "showlegend": true,
         "type": "histogram",
         "x": [
          "16065950500",
          "16065950100",
          "16065950302",
          "16065950200",
          "16065950301",
          "16065950400"
         ],
         "xaxis": "x",
         "y": [
          1248.5,
          1427.5,
          3127,
          820,
          1392,
          961
         ],
         "yaxis": "y"
        }
       ],
       "layout": {
        "barmode": "relative",
        "legend": {
         "title": {
          "text": "madison_county"
         },
         "tracegroupgap": 0
        },
        "margin": {
         "t": 60
        },
        "template": {
         "data": {
          "bar": [
           {
            "error_x": {
             "color": "#2a3f5f"
            },
            "error_y": {
             "color": "#2a3f5f"
            },
            "marker": {
             "line": {
              "color": "#E5ECF6",
              "width": 0.5
             },
             "pattern": {
              "fillmode": "overlay",
              "size": 10,
              "solidity": 0.2
             }
            },
            "type": "bar"
           }
          ],
          "barpolar": [
           {
            "marker": {
             "line": {
              "color": "#E5ECF6",
              "width": 0.5
             },
             "pattern": {
              "fillmode": "overlay",
              "size": 10,
              "solidity": 0.2
             }
            },
            "type": "barpolar"
           }
          ],
          "carpet": [
           {
            "aaxis": {
             "endlinecolor": "#2a3f5f",
             "gridcolor": "white",
             "linecolor": "white",
             "minorgridcolor": "white",
             "startlinecolor": "#2a3f5f"
            },
            "baxis": {
             "endlinecolor": "#2a3f5f",
             "gridcolor": "white",
             "linecolor": "white",
             "minorgridcolor": "white",
             "startlinecolor": "#2a3f5f"
            },
            "type": "carpet"
           }
          ],
          "choropleth": [
           {
            "colorbar": {
             "outlinewidth": 0,
             "ticks": ""
            },
            "type": "choropleth"
           }
          ],
          "contour": [
           {
            "colorbar": {
             "outlinewidth": 0,
             "ticks": ""
            },
            "colorscale": [
             [
              0,
              "#0d0887"
             ],
             [
              0.1111111111111111,
              "#46039f"
             ],
             [
              0.2222222222222222,
              "#7201a8"
             ],
             [
              0.3333333333333333,
              "#9c179e"
             ],
             [
              0.4444444444444444,
              "#bd3786"
             ],
             [
              0.5555555555555556,
              "#d8576b"
             ],
             [
              0.6666666666666666,
              "#ed7953"
             ],
             [
              0.7777777777777778,
              "#fb9f3a"
             ],
             [
              0.8888888888888888,
              "#fdca26"
             ],
             [
              1,
              "#f0f921"
             ]
            ],
            "type": "contour"
           }
          ],
          "contourcarpet": [
           {
            "colorbar": {
             "outlinewidth": 0,
             "ticks": ""
            },
            "type": "contourcarpet"
           }
          ],
          "heatmap": [
           {
            "colorbar": {
             "outlinewidth": 0,
             "ticks": ""
            },
            "colorscale": [
             [
              0,
              "#0d0887"
             ],
             [
              0.1111111111111111,
              "#46039f"
             ],
             [
              0.2222222222222222,
              "#7201a8"
             ],
             [
              0.3333333333333333,
              "#9c179e"
             ],
             [
              0.4444444444444444,
              "#bd3786"
             ],
             [
              0.5555555555555556,
              "#d8576b"
             ],
             [
              0.6666666666666666,
              "#ed7953"
             ],
             [
              0.7777777777777778,
              "#fb9f3a"
             ],
             [
              0.8888888888888888,
              "#fdca26"
             ],
             [
              1,
              "#f0f921"
             ]
            ],
            "type": "heatmap"
           }
          ],
          "heatmapgl": [
           {
            "colorbar": {
             "outlinewidth": 0,
             "ticks": ""
            },
            "colorscale": [
             [
              0,
              "#0d0887"
             ],
             [
              0.1111111111111111,
              "#46039f"
             ],
             [
              0.2222222222222222,
              "#7201a8"
             ],
             [
              0.3333333333333333,
              "#9c179e"
             ],
             [
              0.4444444444444444,
              "#bd3786"
             ],
             [
              0.5555555555555556,
              "#d8576b"
             ],
             [
              0.6666666666666666,
              "#ed7953"
             ],
             [
              0.7777777777777778,
              "#fb9f3a"
             ],
             [
              0.8888888888888888,
              "#fdca26"
             ],
             [
              1,
              "#f0f921"
             ]
            ],
            "type": "heatmapgl"
           }
          ],
          "histogram": [
           {
            "marker": {
             "pattern": {
              "fillmode": "overlay",
              "size": 10,
              "solidity": 0.2
             }
            },
            "type": "histogram"
           }
          ],
          "histogram2d": [
           {
            "colorbar": {
             "outlinewidth": 0,
             "ticks": ""
            },
            "colorscale": [
             [
              0,
              "#0d0887"
             ],
             [
              0.1111111111111111,
              "#46039f"
             ],
             [
              0.2222222222222222,
              "#7201a8"
             ],
             [
              0.3333333333333333,
              "#9c179e"
             ],
             [
              0.4444444444444444,
              "#bd3786"
             ],
             [
              0.5555555555555556,
              "#d8576b"
             ],
             [
              0.6666666666666666,
              "#ed7953"
             ],
             [
              0.7777777777777778,
              "#fb9f3a"
             ],
             [
              0.8888888888888888,
              "#fdca26"
             ],
             [
              1,
              "#f0f921"
             ]
            ],
            "type": "histogram2d"
           }
          ],
          "histogram2dcontour": [
           {
            "colorbar": {
             "outlinewidth": 0,
             "ticks": ""
            },
            "colorscale": [
             [
              0,
              "#0d0887"
             ],
             [
              0.1111111111111111,
              "#46039f"
             ],
             [
              0.2222222222222222,
              "#7201a8"
             ],
             [
              0.3333333333333333,
              "#9c179e"
             ],
             [
              0.4444444444444444,
              "#bd3786"
             ],
             [
              0.5555555555555556,
              "#d8576b"
             ],
             [
              0.6666666666666666,
              "#ed7953"
             ],
             [
              0.7777777777777778,
              "#fb9f3a"
             ],
             [
              0.8888888888888888,
              "#fdca26"
             ],
             [
              1,
              "#f0f921"
             ]
            ],
            "type": "histogram2dcontour"
           }
          ],
          "mesh3d": [
           {
            "colorbar": {
             "outlinewidth": 0,
             "ticks": ""
            },
            "type": "mesh3d"
           }
          ],
          "parcoords": [
           {
            "line": {
             "colorbar": {
              "outlinewidth": 0,
              "ticks": ""
             }
            },
            "type": "parcoords"
           }
          ],
          "pie": [
           {
            "automargin": true,
            "type": "pie"
           }
          ],
          "scatter": [
           {
            "fillpattern": {
             "fillmode": "overlay",
             "size": 10,
             "solidity": 0.2
            },
            "type": "scatter"
           }
          ],
          "scatter3d": [
           {
            "line": {
             "colorbar": {
              "outlinewidth": 0,
              "ticks": ""
             }
            },
            "marker": {
             "colorbar": {
              "outlinewidth": 0,
              "ticks": ""
             }
            },
            "type": "scatter3d"
           }
          ],
          "scattercarpet": [
           {
            "marker": {
             "colorbar": {
              "outlinewidth": 0,
              "ticks": ""
             }
            },
            "type": "scattercarpet"
           }
          ],
          "scattergeo": [
           {
            "marker": {
             "colorbar": {
              "outlinewidth": 0,
              "ticks": ""
             }
            },
            "type": "scattergeo"
           }
          ],
          "scattergl": [
           {
            "marker": {
             "colorbar": {
              "outlinewidth": 0,
              "ticks": ""
             }
            },
            "type": "scattergl"
           }
          ],
          "scattermapbox": [
           {
            "marker": {
             "colorbar": {
              "outlinewidth": 0,
              "ticks": ""
             }
            },
            "type": "scattermapbox"
           }
          ],
          "scatterpolar": [
           {
            "marker": {
             "colorbar": {
              "outlinewidth": 0,
              "ticks": ""
             }
            },
            "type": "scatterpolar"
           }
          ],
          "scatterpolargl": [
           {
            "marker": {
             "colorbar": {
              "outlinewidth": 0,
              "ticks": ""
             }
            },
            "type": "scatterpolargl"
           }
          ],
          "scatterternary": [
           {
            "marker": {
             "colorbar": {
              "outlinewidth": 0,
              "ticks": ""
             }
            },
            "type": "scatterternary"
           }
          ],
          "surface": [
           {
            "colorbar": {
             "outlinewidth": 0,
             "ticks": ""
            },
            "colorscale": [
             [
              0,
              "#0d0887"
             ],
             [
              0.1111111111111111,
              "#46039f"
             ],
             [
              0.2222222222222222,
              "#7201a8"
             ],
             [
              0.3333333333333333,
              "#9c179e"
             ],
             [
              0.4444444444444444,
              "#bd3786"
             ],
             [
              0.5555555555555556,
              "#d8576b"
             ],
             [
              0.6666666666666666,
              "#ed7953"
             ],
             [
              0.7777777777777778,
              "#fb9f3a"
             ],
             [
              0.8888888888888888,
              "#fdca26"
             ],
             [
              1,
              "#f0f921"
             ]
            ],
            "type": "surface"
           }
          ],
          "table": [
           {
            "cells": {
             "fill": {
              "color": "#EBF0F8"
             },
             "line": {
              "color": "white"
             }
            },
            "header": {
             "fill": {
              "color": "#C8D4E3"
             },
             "line": {
              "color": "white"
             }
            },
            "type": "table"
           }
          ]
         },
         "layout": {
          "annotationdefaults": {
           "arrowcolor": "#2a3f5f",
           "arrowhead": 0,
           "arrowwidth": 1
          },
          "autotypenumbers": "strict",
          "coloraxis": {
           "colorbar": {
            "outlinewidth": 0,
            "ticks": ""
           }
          },
          "colorscale": {
           "diverging": [
            [
             0,
             "#8e0152"
            ],
            [
             0.1,
             "#c51b7d"
            ],
            [
             0.2,
             "#de77ae"
            ],
            [
             0.3,
             "#f1b6da"
            ],
            [
             0.4,
             "#fde0ef"
            ],
            [
             0.5,
             "#f7f7f7"
            ],
            [
             0.6,
             "#e6f5d0"
            ],
            [
             0.7,
             "#b8e186"
            ],
            [
             0.8,
             "#7fbc41"
            ],
            [
             0.9,
             "#4d9221"
            ],
            [
             1,
             "#276419"
            ]
           ],
           "sequential": [
            [
             0,
             "#0d0887"
            ],
            [
             0.1111111111111111,
             "#46039f"
            ],
            [
             0.2222222222222222,
             "#7201a8"
            ],
            [
             0.3333333333333333,
             "#9c179e"
            ],
            [
             0.4444444444444444,
             "#bd3786"
            ],
            [
             0.5555555555555556,
             "#d8576b"
            ],
            [
             0.6666666666666666,
             "#ed7953"
            ],
            [
             0.7777777777777778,
             "#fb9f3a"
            ],
            [
             0.8888888888888888,
             "#fdca26"
            ],
            [
             1,
             "#f0f921"
            ]
           ],
           "sequentialminus": [
            [
             0,
             "#0d0887"
            ],
            [
             0.1111111111111111,
             "#46039f"
            ],
            [
             0.2222222222222222,
             "#7201a8"
            ],
            [
             0.3333333333333333,
             "#9c179e"
            ],
            [
             0.4444444444444444,
             "#bd3786"
            ],
            [
             0.5555555555555556,
             "#d8576b"
            ],
            [
             0.6666666666666666,
             "#ed7953"
            ],
            [
             0.7777777777777778,
             "#fb9f3a"
            ],
            [
             0.8888888888888888,
             "#fdca26"
            ],
            [
             1,
             "#f0f921"
            ]
           ]
          },
          "colorway": [
           "#636efa",
           "#EF553B",
           "#00cc96",
           "#ab63fa",
           "#FFA15A",
           "#19d3f3",
           "#FF6692",
           "#B6E880",
           "#FF97FF",
           "#FECB52"
          ],
          "font": {
           "color": "#2a3f5f"
          },
          "geo": {
           "bgcolor": "white",
           "lakecolor": "white",
           "landcolor": "#E5ECF6",
           "showlakes": true,
           "showland": true,
           "subunitcolor": "white"
          },
          "hoverlabel": {
           "align": "left"
          },
          "hovermode": "closest",
          "mapbox": {
           "style": "light"
          },
          "paper_bgcolor": "white",
          "plot_bgcolor": "#E5ECF6",
          "polar": {
           "angularaxis": {
            "gridcolor": "white",
            "linecolor": "white",
            "ticks": ""
           },
           "bgcolor": "#E5ECF6",
           "radialaxis": {
            "gridcolor": "white",
            "linecolor": "white",
            "ticks": ""
           }
          },
          "scene": {
           "xaxis": {
            "backgroundcolor": "#E5ECF6",
            "gridcolor": "white",
            "gridwidth": 2,
            "linecolor": "white",
            "showbackground": true,
            "ticks": "",
            "zerolinecolor": "white"
           },
           "yaxis": {
            "backgroundcolor": "#E5ECF6",
            "gridcolor": "white",
            "gridwidth": 2,
            "linecolor": "white",
            "showbackground": true,
            "ticks": "",
            "zerolinecolor": "white"
           },
           "zaxis": {
            "backgroundcolor": "#E5ECF6",
            "gridcolor": "white",
            "gridwidth": 2,
            "linecolor": "white",
            "showbackground": true,
            "ticks": "",
            "zerolinecolor": "white"
           }
          },
          "shapedefaults": {
           "line": {
            "color": "#2a3f5f"
           }
          },
          "ternary": {
           "aaxis": {
            "gridcolor": "white",
            "linecolor": "white",
            "ticks": ""
           },
           "baxis": {
            "gridcolor": "white",
            "linecolor": "white",
            "ticks": ""
           },
           "bgcolor": "#E5ECF6",
           "caxis": {
            "gridcolor": "white",
            "linecolor": "white",
            "ticks": ""
           }
          },
          "title": {
           "x": 0.05
          },
          "xaxis": {
           "automargin": true,
           "gridcolor": "white",
           "linecolor": "white",
           "ticks": "",
           "title": {
            "standoff": 15
           },
           "zerolinecolor": "white",
           "zerolinewidth": 2
          },
          "yaxis": {
           "automargin": true,
           "gridcolor": "white",
           "linecolor": "white",
           "ticks": "",
           "title": {
            "standoff": 15
           },
           "zerolinecolor": "white",
           "zerolinewidth": 2
          }
         }
        },
        "title": {
         "text": "Count of Active Members per Idaho Tract"
        },
        "xaxis": {
         "anchor": "y",
         "domain": [
          0,
          1
         ],
         "title": {
          "text": "tractcode"
         }
        },
        "yaxis": {
         "anchor": "x",
         "domain": [
          0,
          1
         ],
         "title": {
          "text": "sum of target"
         }
        }
       }
      }
     },
     "metadata": {},
     "output_type": "display_data"
    }
   ],
   "source": [
    "dat = dat.with_columns(madison_county = pl.col(\"tractcode\").is_in(rexburg_tracts))\n",
    "fig = px.histogram(dat, x=\"tractcode\", y=\"target\", color=\"madison_county\")\n",
    "fig.update_layout(title=\"Count of Active Members per Idaho Tract\")\n",
    "fig.show()"
   ]
  },
  {
   "cell_type": "code",
   "execution_count": 32,
   "metadata": {},
   "outputs": [
    {
     "data": {
      "application/vnd.plotly.v1+json": {
       "config": {
        "plotlyServerURL": "https://plot.ly"
       },
       "data": [
        {
         "alignmentgroup": "True",
         "bingroup": "x",
         "histfunc": "sum",
         "hovertemplate": "madison_county=False<br>tractcode=%{x}<br>sum of percent_active=%{y}<extra></extra>",
         "legendgroup": "False",
         "marker": {
          "color": "#636efa",
          "pattern": {
           "shape": ""
          }
         },
         "name": "False",
         "offsetgroup": "False",
         "orientation": "v",
         "showlegend": true,
         "type": "histogram",
         "x": [
          "16029960100",
          "16031950100",
          "16055000500",
          "16027021700",
          "16067970400",
          "16027021002",
          "16031950300",
          "16069960700",
          "16061950300",
          "16027021500",
          "16049960100",
          "16005001601",
          "16001002224",
          "16013960100",
          "16031950500",
          "16017950200",
          "16005001400",
          "16087970200",
          "16005000300",
          "16007950200",
          "16057005300",
          "16019971301",
          "16083000200",
          "16001000202",
          "16005000200",
          "16017950900",
          "16069960400",
          "16085970100",
          "16019970601",
          "16083000900",
          "16051960100",
          "16039960300",
          "16019970602",
          "16057005100",
          "16001010224",
          "16045960300",
          "16079960400",
          "16005000600",
          "16073950102",
          "16067970500",
          "16005000700",
          "16025970100",
          "16001002221",
          "16005001900",
          "16013960500",
          "16005001000",
          "16027020902",
          "16019970603",
          "16087970100",
          "16043970100",
          "16055001100",
          "16055001200",
          "16069960200",
          "16019970900",
          "16005000400",
          "16061940001",
          "16019971100",
          "16061940002",
          "16057005200",
          "16013960200",
          "16027021904",
          "16019970402",
          "16083001300",
          "16001010402",
          "16001002000",
          "16053970100",
          "16063950100",
          "16003950100",
          "16001002411",
          "16001010201",
          "16017950700",
          "16001002313",
          "16005000800",
          "16027022100",
          "16029960200",
          "16009950100",
          "16069960800",
          "16055000402",
          "16027020501",
          "16005001700",
          "16049960400",
          "16045960100",
          "16009940000",
          "16001000805",
          "16005001602",
          "16005001603",
          "16011950200",
          "16001010313",
          "16069960300",
          "16075960100",
          "16083000300",
          "16001000803",
          "16079960200",
          "16031950200",
          "16055001001",
          "16073950101",
          "16027021100",
          "16053970300",
          "16027021600",
          "16071960100",
          "16055001500",
          "16015950200",
          "16027020602",
          "16021970200",
          "16027020300",
          "16057005600",
          "16011950400",
          "16055001002",
          "16001001600",
          "16055000601",
          "16005001500",
          "16031950400",
          "16051960400",
          "16017950100",
          "16087970300",
          "16001000201",
          "16005940000",
          "16069961000",
          "16043970300",
          "16005001102",
          "16083000600",
          "16083001000",
          "16001002222",
          "16055001900",
          "16051960200",
          "16001010225",
          "16055000302",
          "16039960200",
          "16043970200",
          "16001000302",
          "16001000400",
          "16001002302",
          "16077960100",
          "16001000304",
          "16011950500",
          "16055000100",
          "16027021200",
          "16019970300",
          "16031950600",
          "16019970501",
          "16001010100",
          "16055001700",
          "16011950300",
          "16001010401",
          "16027020401",
          "16011950600",
          "16001001900",
          "16055001600",
          "16027020100",
          "16005001300",
          "16027020402",
          "16035940000",
          "16011950100",
          "16019971200",
          "16003950200",
          "16001001100",
          "16033950100",
          "16049960200",
          "16005000900",
          "16055000401",
          "16001010335",
          "16055000900",
          "16001010332",
          "16049960300",
          "16001000303",
          "16047960200",
          "16019970503",
          "16039960500",
          "16069960900",
          "16001010321",
          "16027022400",
          "16083000800",
          "16019971400",
          "16083001400",
          "16001000100",
          "16001000600",
          "16001010333",
          "16019970800",
          "16001010503",
          "16055000301",
          "16005000500",
          "16037960200",
          "16085970300",
          "16067970300",
          "16001010501",
          "16053970200",
          "16049940000",
          "16007950100",
          "16001001400",
          "16019971302",
          "16001002312",
          "16055000200",
          "16051960300",
          "16045960200",
          "16019970502",
          "16039960400",
          "16013960300",
          "16027021800",
          "16001000702",
          "16083000400",
          "16017950500",
          "16021970100",
          "16027021300",
          "16023970100",
          "16069960600",
          "16001001500",
          "16035970100",
          "16027022300",
          "16005981800",
          "16081960100",
          "16069940000",
          "16055000700",
          "16059970300",
          "16079960300",
          "16001002310",
          "16019971500",
          "16083001200",
          "16001002412",
          "16027021903",
          "16001010322",
          "16017950400",
          "16011940000",
          "16001001000",
          "16077960200",
          "16001010504",
          "16055001400",
          "16017950800",
          "16001000802",
          "16027020504",
          "16039960100",
          "16027020503",
          "16067970200",
          "16027022200",
          "16001010334",
          "16057005500",
          "16057005400",
          "16019970100",
          "16001000804",
          "16001001202",
          "16057005700",
          "16055000800",
          "16075960200",
          "16069960500",
          "16055001300",
          "16019970700",
          "16027020901",
          "16041970100",
          "16047960100",
          "16067970100",
          "16019970401",
          "16001010223",
          "16011950700",
          "16017950300",
          "16055001800",
          "16001002413",
          "16027020200",
          "16055940000",
          "16019970403",
          "16073950200",
          "16083001100",
          "16053970400",
          "16027021901",
          "16055000602",
          "16005001200",
          "16001002410",
          "16059970200",
          "16075960300",
          "16075960400",
          "16027021001",
          "16083000700",
          "16083000500",
          "16005001101",
          "16001010331",
          "16027020700",
          "16001000900",
          "16083001500",
          "16085970200",
          "16059970100",
          "16055002000",
          "16001001201",
          "16001000500",
          "16001000701",
          "16001002100",
          "16001010221",
          "16001001800",
          "16001002223",
          "16041970200",
          "16027020601",
          "16017950600",
          "16001001700",
          "16053970500",
          "16019971000"
         ],
         "xaxis": "x",
         "y": [
          18.376652986776108,
          15.387287252518236,
          0.7915288820094281,
          1.8160840953764634,
          7.242990654205607,
          3.376477208778841,
          12.859786184210526,
          0.2949852507374631,
          null,
          4.365238285943131,
          null,
          6.319334389857369,
          7.358016943834326,
          3.9417149262096025,
          12.408968953622077,
          1.4236410698878343,
          6.127628716461204,
          2.9938587512794266,
          8.34949364361129,
          6.001558846453625,
          2.8579242444961026,
          16.13486325055014,
          8.79870586580391,
          2.559019643178951,
          17.18078381795196,
          0.5235602094240838,
          0.45480386583285953,
          1.1807817589576548,
          15.825609337452798,
          12.003891050583658,
          7.28395061728395,
          1.159826663267907,
          13.849500483403157,
          0.5907012195121951,
          6.603575184016824,
          5.261965876491017,
          0.15788434971383464,
          8.410082404265633,
          1.7857142857142856,
          8.272143184947224,
          9.774523477452348,
          6.488549618320611,
          5.9247923043288155,
          5.474105102817974,
          1.3451543870376033,
          13.353255740798994,
          4.786256736893679,
          10.981622590766472,
          4.273743016759776,
          33.754681647940075,
          14.351272423863163,
          0.5202754399387911,
          7.575757575757576,
          9.475218658892128,
          17.74802890932983,
          0.5309734513274336,
          9.349094258520111,
          1.228153046764289,
          2.282066334018198,
          1.0528942115768465,
          2.509706045479756,
          20.23452653852936,
          7.523894198710825,
          5.523706228695382,
          4.868591124515295,
          3.965736040609137,
          4.317757009345794,
          5.253512522907758,
          4.840234448856116,
          6.078924132309991,
          0.4124116260801257,
          5.294396961063628,
          13.540856031128405,
          1.8976082229689661,
          7.4016361511492015,
          null,
          0.5864283719631388,
          0.7420733078479874,
          5.282590173246237,
          16.230661040787624,
          4.467084639498433,
          5.830753353973169,
          null,
          1.834006838669568,
          7.972136222910217,
          7.641252552756978,
          18.049414824447336,
          6.908402300462899,
          0.6133575647432985,
          2.8326050926623476,
          4.775222705614253,
          4.768518518518518,
          0.5248990578734859,
          21.422861710631494,
          0.8782742681047766,
          2.8587196467991167,
          4.512025442258,
          4.161772109414332,
          3.5887375951996305,
          13.30672748004561,
          2.046870364876891,
          3.2596909731634587,
          3.7376144487645804,
          1.1173184357541899,
          2.0962267917748054,
          0.277337559429477,
          10.61786807681603,
          1.5788350757414125,
          2.6840008387502623,
          0.6303520456707897,
          5.3852813852813854,
          6.930083702609552,
          12.388410972244765,
          1.3507326007326008,
          3.108511126405139,
          1.4390602055800295,
          6.851464435146444,
          0.31635031635031635,
          18.775100401606426,
          8.255372945638433,
          8.711520152332593,
          4.64661149630955,
          4.741694716815455,
          0.7962300942476438,
          14.097016624914598,
          4.1609432234432235,
          2.234993614303959,
          1.7673130193905817,
          14.629948364888124,
          4.311111111111112,
          2.8341438873050477,
          2.872868029514939,
          15.825977301387137,
          2.765151515151515,
          11.480643873885858,
          0.7213578500707214,
          1.0437824418867072,
          26.76731539782484,
          20.538778311599177,
          19.34571890145396,
          2.6802630112559904,
          1.3169073916737468,
          6.8235893949694075,
          5.930434782608696,
          3.1607658573109423,
          16.7077097935215,
          3.002450980392157,
          1.0227711308375145,
          3.782287822878229,
          13.74591503267974,
          3.0918027588393846,
          null,
          18.079904591532497,
          9.374316342157076,
          0.8130081300813009,
          3.62874251497006,
          null,
          0.906344410876133,
          4.621676891615542,
          1.2052341597796143,
          3.4153061644117284,
          1.1876881900301104,
          3.77950101146325,
          null,
          4.341926729986431,
          2.9557291666666665,
          17.399049881235154,
          0.7311399135925557,
          0.49382716049382713,
          4.790301441677588,
          6.64819944598338,
          3.5271687321258343,
          11.124892148403797,
          15.852682145716573,
          3.6400541271989177,
          1.1716570578389436,
          3.6786668762773154,
          13.898394314293236,
          7.774886141834743,
          0.6139798488664987,
          17.003449975357317,
          1.6550731590309424,
          2.017202539422486,
          16.41141663766098,
          2.593387178192832,
          3.815439219165927,
          null,
          7.658707047175306,
          3.109273903666427,
          13.235583546545957,
          2.1489440533530937,
          1.5688671556642215,
          14.603718199608611,
          5.1253624424356135,
          12.617965746242573,
          1.7861603797152137,
          0.6704210244033253,
          2.8357806816650952,
          3.6002691790040378,
          2.925243770314193,
          0.6131386861313868,
          0.46099809746816917,
          3.493013972055888,
          14.199922510654787,
          0.364403528960491,
          3.075111227427375,
          0.6482429205049471,
          2.870885314895536,
          34.18803418803419,
          3.2119726938561173,
          null,
          4.3500687757909215,
          1.3076643661460225,
          null,
          2.509888867960068,
          17.990515708358032,
          4.2223003045209655,
          3.8780834914611004,
          4.878544154683565,
          5.339043540328337,
          0.6442769019876629,
          5.10783200908059,
          1.9862068965517243,
          13.681027966742251,
          4.43900993033941,
          1.1186079545454546,
          0.5224339274738783,
          4.32,
          1.874447391688771,
          1.1870503597122302,
          4.5636140135218195,
          7.523759239704329,
          1.2607249168271757,
          5.131907074419216,
          null,
          1.284764207980653,
          32.3842133717787,
          1.5782646295762468,
          5.155096011816839,
          2.052597819114817,
          1.1902276049279599,
          3.9890377588306944,
          0.2971366828741221,
          2.4876181900045027,
          8.17677580962605,
          6.884162115550446,
          8.59704641350211,
          2.7182645956079274,
          6.367495451788963,
          21.50031387319523,
          7.248122431628171,
          13.686274509803923,
          0.6925207756232686,
          1.5805797447214602,
          5.403676128431829,
          1.6129032258064515,
          null,
          11.942155853072434,
          5.3792361484669176,
          4.830287206266318,
          3.3935242839352426,
          4.338413578108764,
          0.6926070038910506,
          7.600854929201176,
          4.0002442897276165,
          2.81093569503273,
          6.723300970873787,
          3.5595214747989803,
          2.7213877191879834,
          4.647630619684082,
          9.501169134840218,
          15.116755428103238,
          4.633529907329402,
          2.294283517046911,
          2.6000920386562356,
          6.864635557269572,
          2.6706231454005933,
          2.4229074889867843,
          3.6427732079905994,
          3.3223585752768634,
          2.233593242365172,
          2.3944159745538083,
          13.483735571878281,
          6.633416458852868,
          4.205816554809844,
          5.687061183550652,
          10.683948447568834,
          2.5882756256427837,
          null,
          3.6330881249061706,
          6.247282214813741,
          12.542920622096545
         ],
         "yaxis": "y"
        },
        {
         "alignmentgroup": "True",
         "bingroup": "x",
         "histfunc": "sum",
         "hovertemplate": "madison_county=True<br>tractcode=%{x}<br>sum of percent_active=%{y}<extra></extra>",
         "legendgroup": "True",
         "marker": {
          "color": "#EF553B",
          "pattern": {
           "shape": ""
          }
         },
         "name": "True",
         "offsetgroup": "True",
         "orientation": "v",
         "showlegend": true,
         "type": "histogram",
         "x": [
          "16065950500",
          "16065950100",
          "16065950302",
          "16065950200",
          "16065950301",
          "16065950400"
         ],
         "xaxis": "x",
         "y": [
          25.626026272577995,
          23.653686826843416,
          22.574357493502742,
          17.818339852238157,
          43.391521197007485,
          14.714438830194457
         ],
         "yaxis": "y"
        }
       ],
       "layout": {
        "barmode": "relative",
        "legend": {
         "title": {
          "text": "madison_county"
         },
         "tracegroupgap": 0
        },
        "margin": {
         "t": 60
        },
        "template": {
         "data": {
          "bar": [
           {
            "error_x": {
             "color": "#2a3f5f"
            },
            "error_y": {
             "color": "#2a3f5f"
            },
            "marker": {
             "line": {
              "color": "#E5ECF6",
              "width": 0.5
             },
             "pattern": {
              "fillmode": "overlay",
              "size": 10,
              "solidity": 0.2
             }
            },
            "type": "bar"
           }
          ],
          "barpolar": [
           {
            "marker": {
             "line": {
              "color": "#E5ECF6",
              "width": 0.5
             },
             "pattern": {
              "fillmode": "overlay",
              "size": 10,
              "solidity": 0.2
             }
            },
            "type": "barpolar"
           }
          ],
          "carpet": [
           {
            "aaxis": {
             "endlinecolor": "#2a3f5f",
             "gridcolor": "white",
             "linecolor": "white",
             "minorgridcolor": "white",
             "startlinecolor": "#2a3f5f"
            },
            "baxis": {
             "endlinecolor": "#2a3f5f",
             "gridcolor": "white",
             "linecolor": "white",
             "minorgridcolor": "white",
             "startlinecolor": "#2a3f5f"
            },
            "type": "carpet"
           }
          ],
          "choropleth": [
           {
            "colorbar": {
             "outlinewidth": 0,
             "ticks": ""
            },
            "type": "choropleth"
           }
          ],
          "contour": [
           {
            "colorbar": {
             "outlinewidth": 0,
             "ticks": ""
            },
            "colorscale": [
             [
              0,
              "#0d0887"
             ],
             [
              0.1111111111111111,
              "#46039f"
             ],
             [
              0.2222222222222222,
              "#7201a8"
             ],
             [
              0.3333333333333333,
              "#9c179e"
             ],
             [
              0.4444444444444444,
              "#bd3786"
             ],
             [
              0.5555555555555556,
              "#d8576b"
             ],
             [
              0.6666666666666666,
              "#ed7953"
             ],
             [
              0.7777777777777778,
              "#fb9f3a"
             ],
             [
              0.8888888888888888,
              "#fdca26"
             ],
             [
              1,
              "#f0f921"
             ]
            ],
            "type": "contour"
           }
          ],
          "contourcarpet": [
           {
            "colorbar": {
             "outlinewidth": 0,
             "ticks": ""
            },
            "type": "contourcarpet"
           }
          ],
          "heatmap": [
           {
            "colorbar": {
             "outlinewidth": 0,
             "ticks": ""
            },
            "colorscale": [
             [
              0,
              "#0d0887"
             ],
             [
              0.1111111111111111,
              "#46039f"
             ],
             [
              0.2222222222222222,
              "#7201a8"
             ],
             [
              0.3333333333333333,
              "#9c179e"
             ],
             [
              0.4444444444444444,
              "#bd3786"
             ],
             [
              0.5555555555555556,
              "#d8576b"
             ],
             [
              0.6666666666666666,
              "#ed7953"
             ],
             [
              0.7777777777777778,
              "#fb9f3a"
             ],
             [
              0.8888888888888888,
              "#fdca26"
             ],
             [
              1,
              "#f0f921"
             ]
            ],
            "type": "heatmap"
           }
          ],
          "heatmapgl": [
           {
            "colorbar": {
             "outlinewidth": 0,
             "ticks": ""
            },
            "colorscale": [
             [
              0,
              "#0d0887"
             ],
             [
              0.1111111111111111,
              "#46039f"
             ],
             [
              0.2222222222222222,
              "#7201a8"
             ],
             [
              0.3333333333333333,
              "#9c179e"
             ],
             [
              0.4444444444444444,
              "#bd3786"
             ],
             [
              0.5555555555555556,
              "#d8576b"
             ],
             [
              0.6666666666666666,
              "#ed7953"
             ],
             [
              0.7777777777777778,
              "#fb9f3a"
             ],
             [
              0.8888888888888888,
              "#fdca26"
             ],
             [
              1,
              "#f0f921"
             ]
            ],
            "type": "heatmapgl"
           }
          ],
          "histogram": [
           {
            "marker": {
             "pattern": {
              "fillmode": "overlay",
              "size": 10,
              "solidity": 0.2
             }
            },
            "type": "histogram"
           }
          ],
          "histogram2d": [
           {
            "colorbar": {
             "outlinewidth": 0,
             "ticks": ""
            },
            "colorscale": [
             [
              0,
              "#0d0887"
             ],
             [
              0.1111111111111111,
              "#46039f"
             ],
             [
              0.2222222222222222,
              "#7201a8"
             ],
             [
              0.3333333333333333,
              "#9c179e"
             ],
             [
              0.4444444444444444,
              "#bd3786"
             ],
             [
              0.5555555555555556,
              "#d8576b"
             ],
             [
              0.6666666666666666,
              "#ed7953"
             ],
             [
              0.7777777777777778,
              "#fb9f3a"
             ],
             [
              0.8888888888888888,
              "#fdca26"
             ],
             [
              1,
              "#f0f921"
             ]
            ],
            "type": "histogram2d"
           }
          ],
          "histogram2dcontour": [
           {
            "colorbar": {
             "outlinewidth": 0,
             "ticks": ""
            },
            "colorscale": [
             [
              0,
              "#0d0887"
             ],
             [
              0.1111111111111111,
              "#46039f"
             ],
             [
              0.2222222222222222,
              "#7201a8"
             ],
             [
              0.3333333333333333,
              "#9c179e"
             ],
             [
              0.4444444444444444,
              "#bd3786"
             ],
             [
              0.5555555555555556,
              "#d8576b"
             ],
             [
              0.6666666666666666,
              "#ed7953"
             ],
             [
              0.7777777777777778,
              "#fb9f3a"
             ],
             [
              0.8888888888888888,
              "#fdca26"
             ],
             [
              1,
              "#f0f921"
             ]
            ],
            "type": "histogram2dcontour"
           }
          ],
          "mesh3d": [
           {
            "colorbar": {
             "outlinewidth": 0,
             "ticks": ""
            },
            "type": "mesh3d"
           }
          ],
          "parcoords": [
           {
            "line": {
             "colorbar": {
              "outlinewidth": 0,
              "ticks": ""
             }
            },
            "type": "parcoords"
           }
          ],
          "pie": [
           {
            "automargin": true,
            "type": "pie"
           }
          ],
          "scatter": [
           {
            "fillpattern": {
             "fillmode": "overlay",
             "size": 10,
             "solidity": 0.2
            },
            "type": "scatter"
           }
          ],
          "scatter3d": [
           {
            "line": {
             "colorbar": {
              "outlinewidth": 0,
              "ticks": ""
             }
            },
            "marker": {
             "colorbar": {
              "outlinewidth": 0,
              "ticks": ""
             }
            },
            "type": "scatter3d"
           }
          ],
          "scattercarpet": [
           {
            "marker": {
             "colorbar": {
              "outlinewidth": 0,
              "ticks": ""
             }
            },
            "type": "scattercarpet"
           }
          ],
          "scattergeo": [
           {
            "marker": {
             "colorbar": {
              "outlinewidth": 0,
              "ticks": ""
             }
            },
            "type": "scattergeo"
           }
          ],
          "scattergl": [
           {
            "marker": {
             "colorbar": {
              "outlinewidth": 0,
              "ticks": ""
             }
            },
            "type": "scattergl"
           }
          ],
          "scattermapbox": [
           {
            "marker": {
             "colorbar": {
              "outlinewidth": 0,
              "ticks": ""
             }
            },
            "type": "scattermapbox"
           }
          ],
          "scatterpolar": [
           {
            "marker": {
             "colorbar": {
              "outlinewidth": 0,
              "ticks": ""
             }
            },
            "type": "scatterpolar"
           }
          ],
          "scatterpolargl": [
           {
            "marker": {
             "colorbar": {
              "outlinewidth": 0,
              "ticks": ""
             }
            },
            "type": "scatterpolargl"
           }
          ],
          "scatterternary": [
           {
            "marker": {
             "colorbar": {
              "outlinewidth": 0,
              "ticks": ""
             }
            },
            "type": "scatterternary"
           }
          ],
          "surface": [
           {
            "colorbar": {
             "outlinewidth": 0,
             "ticks": ""
            },
            "colorscale": [
             [
              0,
              "#0d0887"
             ],
             [
              0.1111111111111111,
              "#46039f"
             ],
             [
              0.2222222222222222,
              "#7201a8"
             ],
             [
              0.3333333333333333,
              "#9c179e"
             ],
             [
              0.4444444444444444,
              "#bd3786"
             ],
             [
              0.5555555555555556,
              "#d8576b"
             ],
             [
              0.6666666666666666,
              "#ed7953"
             ],
             [
              0.7777777777777778,
              "#fb9f3a"
             ],
             [
              0.8888888888888888,
              "#fdca26"
             ],
             [
              1,
              "#f0f921"
             ]
            ],
            "type": "surface"
           }
          ],
          "table": [
           {
            "cells": {
             "fill": {
              "color": "#EBF0F8"
             },
             "line": {
              "color": "white"
             }
            },
            "header": {
             "fill": {
              "color": "#C8D4E3"
             },
             "line": {
              "color": "white"
             }
            },
            "type": "table"
           }
          ]
         },
         "layout": {
          "annotationdefaults": {
           "arrowcolor": "#2a3f5f",
           "arrowhead": 0,
           "arrowwidth": 1
          },
          "autotypenumbers": "strict",
          "coloraxis": {
           "colorbar": {
            "outlinewidth": 0,
            "ticks": ""
           }
          },
          "colorscale": {
           "diverging": [
            [
             0,
             "#8e0152"
            ],
            [
             0.1,
             "#c51b7d"
            ],
            [
             0.2,
             "#de77ae"
            ],
            [
             0.3,
             "#f1b6da"
            ],
            [
             0.4,
             "#fde0ef"
            ],
            [
             0.5,
             "#f7f7f7"
            ],
            [
             0.6,
             "#e6f5d0"
            ],
            [
             0.7,
             "#b8e186"
            ],
            [
             0.8,
             "#7fbc41"
            ],
            [
             0.9,
             "#4d9221"
            ],
            [
             1,
             "#276419"
            ]
           ],
           "sequential": [
            [
             0,
             "#0d0887"
            ],
            [
             0.1111111111111111,
             "#46039f"
            ],
            [
             0.2222222222222222,
             "#7201a8"
            ],
            [
             0.3333333333333333,
             "#9c179e"
            ],
            [
             0.4444444444444444,
             "#bd3786"
            ],
            [
             0.5555555555555556,
             "#d8576b"
            ],
            [
             0.6666666666666666,
             "#ed7953"
            ],
            [
             0.7777777777777778,
             "#fb9f3a"
            ],
            [
             0.8888888888888888,
             "#fdca26"
            ],
            [
             1,
             "#f0f921"
            ]
           ],
           "sequentialminus": [
            [
             0,
             "#0d0887"
            ],
            [
             0.1111111111111111,
             "#46039f"
            ],
            [
             0.2222222222222222,
             "#7201a8"
            ],
            [
             0.3333333333333333,
             "#9c179e"
            ],
            [
             0.4444444444444444,
             "#bd3786"
            ],
            [
             0.5555555555555556,
             "#d8576b"
            ],
            [
             0.6666666666666666,
             "#ed7953"
            ],
            [
             0.7777777777777778,
             "#fb9f3a"
            ],
            [
             0.8888888888888888,
             "#fdca26"
            ],
            [
             1,
             "#f0f921"
            ]
           ]
          },
          "colorway": [
           "#636efa",
           "#EF553B",
           "#00cc96",
           "#ab63fa",
           "#FFA15A",
           "#19d3f3",
           "#FF6692",
           "#B6E880",
           "#FF97FF",
           "#FECB52"
          ],
          "font": {
           "color": "#2a3f5f"
          },
          "geo": {
           "bgcolor": "white",
           "lakecolor": "white",
           "landcolor": "#E5ECF6",
           "showlakes": true,
           "showland": true,
           "subunitcolor": "white"
          },
          "hoverlabel": {
           "align": "left"
          },
          "hovermode": "closest",
          "mapbox": {
           "style": "light"
          },
          "paper_bgcolor": "white",
          "plot_bgcolor": "#E5ECF6",
          "polar": {
           "angularaxis": {
            "gridcolor": "white",
            "linecolor": "white",
            "ticks": ""
           },
           "bgcolor": "#E5ECF6",
           "radialaxis": {
            "gridcolor": "white",
            "linecolor": "white",
            "ticks": ""
           }
          },
          "scene": {
           "xaxis": {
            "backgroundcolor": "#E5ECF6",
            "gridcolor": "white",
            "gridwidth": 2,
            "linecolor": "white",
            "showbackground": true,
            "ticks": "",
            "zerolinecolor": "white"
           },
           "yaxis": {
            "backgroundcolor": "#E5ECF6",
            "gridcolor": "white",
            "gridwidth": 2,
            "linecolor": "white",
            "showbackground": true,
            "ticks": "",
            "zerolinecolor": "white"
           },
           "zaxis": {
            "backgroundcolor": "#E5ECF6",
            "gridcolor": "white",
            "gridwidth": 2,
            "linecolor": "white",
            "showbackground": true,
            "ticks": "",
            "zerolinecolor": "white"
           }
          },
          "shapedefaults": {
           "line": {
            "color": "#2a3f5f"
           }
          },
          "ternary": {
           "aaxis": {
            "gridcolor": "white",
            "linecolor": "white",
            "ticks": ""
           },
           "baxis": {
            "gridcolor": "white",
            "linecolor": "white",
            "ticks": ""
           },
           "bgcolor": "#E5ECF6",
           "caxis": {
            "gridcolor": "white",
            "linecolor": "white",
            "ticks": ""
           }
          },
          "title": {
           "x": 0.05
          },
          "xaxis": {
           "automargin": true,
           "gridcolor": "white",
           "linecolor": "white",
           "ticks": "",
           "title": {
            "standoff": 15
           },
           "zerolinecolor": "white",
           "zerolinewidth": 2
          },
          "yaxis": {
           "automargin": true,
           "gridcolor": "white",
           "linecolor": "white",
           "ticks": "",
           "title": {
            "standoff": 15
           },
           "zerolinecolor": "white",
           "zerolinewidth": 2
          }
         }
        },
        "title": {
         "text": "Percent of Active Members per Idaho Tract"
        },
        "xaxis": {
         "anchor": "y",
         "domain": [
          0,
          1
         ],
         "title": {
          "text": "tractcode"
         }
        },
        "yaxis": {
         "anchor": "x",
         "domain": [
          0,
          1
         ],
         "title": {
          "text": "sum of percent_active"
         }
        }
       }
      }
     },
     "metadata": {},
     "output_type": "display_data"
    }
   ],
   "source": [
    "fig = px.histogram(dat, x=\"tractcode\", y=\"percent_active\", color=\"madison_county\")\n",
    "fig.update_layout(title=\"Percent of Active Members per Idaho Tract\")\n",
    "fig.show()"
   ]
  },
  {
   "cell_type": "markdown",
   "metadata": {},
   "source": [
    "## Apt103 vs Rubber Duckies"
   ]
  },
  {
   "cell_type": "code",
   "execution_count": 33,
   "metadata": {},
   "outputs": [
    {
     "data": {
      "application/vnd.plotly.v1+json": {
       "config": {
        "plotlyServerURL": "https://plot.ly"
       },
       "data": [
        {
         "histfunc": "sum",
         "name": "APT103",
         "type": "histogram",
         "x": [
          "16065950500",
          "16065950100",
          "16055001200",
          "16055000402",
          "16065950302",
          "16055000401",
          "16055000900",
          "16065950200",
          "16065950301",
          "16065950400"
         ],
         "y": [
          1248.5,
          1427.5,
          34,
          66,
          3127,
          70,
          71,
          820,
          1392,
          961
         ]
        },
        {
         "histfunc": "sum",
         "name": "Rubber Duckies",
         "type": "histogram",
         "x": [
          "16065950500",
          "16065950100",
          "16055001200",
          "16055000402",
          "16065950302",
          "16055000401",
          "16055000900",
          "16065950200",
          "16065950301",
          "16065950400"
         ],
         "y": [
          1582,
          1798,
          65,
          94,
          4269,
          68,
          99,
          952,
          1237,
          904
         ]
        }
       ],
       "layout": {
        "template": {
         "data": {
          "bar": [
           {
            "error_x": {
             "color": "#2a3f5f"
            },
            "error_y": {
             "color": "#2a3f5f"
            },
            "marker": {
             "line": {
              "color": "#E5ECF6",
              "width": 0.5
             },
             "pattern": {
              "fillmode": "overlay",
              "size": 10,
              "solidity": 0.2
             }
            },
            "type": "bar"
           }
          ],
          "barpolar": [
           {
            "marker": {
             "line": {
              "color": "#E5ECF6",
              "width": 0.5
             },
             "pattern": {
              "fillmode": "overlay",
              "size": 10,
              "solidity": 0.2
             }
            },
            "type": "barpolar"
           }
          ],
          "carpet": [
           {
            "aaxis": {
             "endlinecolor": "#2a3f5f",
             "gridcolor": "white",
             "linecolor": "white",
             "minorgridcolor": "white",
             "startlinecolor": "#2a3f5f"
            },
            "baxis": {
             "endlinecolor": "#2a3f5f",
             "gridcolor": "white",
             "linecolor": "white",
             "minorgridcolor": "white",
             "startlinecolor": "#2a3f5f"
            },
            "type": "carpet"
           }
          ],
          "choropleth": [
           {
            "colorbar": {
             "outlinewidth": 0,
             "ticks": ""
            },
            "type": "choropleth"
           }
          ],
          "contour": [
           {
            "colorbar": {
             "outlinewidth": 0,
             "ticks": ""
            },
            "colorscale": [
             [
              0,
              "#0d0887"
             ],
             [
              0.1111111111111111,
              "#46039f"
             ],
             [
              0.2222222222222222,
              "#7201a8"
             ],
             [
              0.3333333333333333,
              "#9c179e"
             ],
             [
              0.4444444444444444,
              "#bd3786"
             ],
             [
              0.5555555555555556,
              "#d8576b"
             ],
             [
              0.6666666666666666,
              "#ed7953"
             ],
             [
              0.7777777777777778,
              "#fb9f3a"
             ],
             [
              0.8888888888888888,
              "#fdca26"
             ],
             [
              1,
              "#f0f921"
             ]
            ],
            "type": "contour"
           }
          ],
          "contourcarpet": [
           {
            "colorbar": {
             "outlinewidth": 0,
             "ticks": ""
            },
            "type": "contourcarpet"
           }
          ],
          "heatmap": [
           {
            "colorbar": {
             "outlinewidth": 0,
             "ticks": ""
            },
            "colorscale": [
             [
              0,
              "#0d0887"
             ],
             [
              0.1111111111111111,
              "#46039f"
             ],
             [
              0.2222222222222222,
              "#7201a8"
             ],
             [
              0.3333333333333333,
              "#9c179e"
             ],
             [
              0.4444444444444444,
              "#bd3786"
             ],
             [
              0.5555555555555556,
              "#d8576b"
             ],
             [
              0.6666666666666666,
              "#ed7953"
             ],
             [
              0.7777777777777778,
              "#fb9f3a"
             ],
             [
              0.8888888888888888,
              "#fdca26"
             ],
             [
              1,
              "#f0f921"
             ]
            ],
            "type": "heatmap"
           }
          ],
          "heatmapgl": [
           {
            "colorbar": {
             "outlinewidth": 0,
             "ticks": ""
            },
            "colorscale": [
             [
              0,
              "#0d0887"
             ],
             [
              0.1111111111111111,
              "#46039f"
             ],
             [
              0.2222222222222222,
              "#7201a8"
             ],
             [
              0.3333333333333333,
              "#9c179e"
             ],
             [
              0.4444444444444444,
              "#bd3786"
             ],
             [
              0.5555555555555556,
              "#d8576b"
             ],
             [
              0.6666666666666666,
              "#ed7953"
             ],
             [
              0.7777777777777778,
              "#fb9f3a"
             ],
             [
              0.8888888888888888,
              "#fdca26"
             ],
             [
              1,
              "#f0f921"
             ]
            ],
            "type": "heatmapgl"
           }
          ],
          "histogram": [
           {
            "marker": {
             "pattern": {
              "fillmode": "overlay",
              "size": 10,
              "solidity": 0.2
             }
            },
            "type": "histogram"
           }
          ],
          "histogram2d": [
           {
            "colorbar": {
             "outlinewidth": 0,
             "ticks": ""
            },
            "colorscale": [
             [
              0,
              "#0d0887"
             ],
             [
              0.1111111111111111,
              "#46039f"
             ],
             [
              0.2222222222222222,
              "#7201a8"
             ],
             [
              0.3333333333333333,
              "#9c179e"
             ],
             [
              0.4444444444444444,
              "#bd3786"
             ],
             [
              0.5555555555555556,
              "#d8576b"
             ],
             [
              0.6666666666666666,
              "#ed7953"
             ],
             [
              0.7777777777777778,
              "#fb9f3a"
             ],
             [
              0.8888888888888888,
              "#fdca26"
             ],
             [
              1,
              "#f0f921"
             ]
            ],
            "type": "histogram2d"
           }
          ],
          "histogram2dcontour": [
           {
            "colorbar": {
             "outlinewidth": 0,
             "ticks": ""
            },
            "colorscale": [
             [
              0,
              "#0d0887"
             ],
             [
              0.1111111111111111,
              "#46039f"
             ],
             [
              0.2222222222222222,
              "#7201a8"
             ],
             [
              0.3333333333333333,
              "#9c179e"
             ],
             [
              0.4444444444444444,
              "#bd3786"
             ],
             [
              0.5555555555555556,
              "#d8576b"
             ],
             [
              0.6666666666666666,
              "#ed7953"
             ],
             [
              0.7777777777777778,
              "#fb9f3a"
             ],
             [
              0.8888888888888888,
              "#fdca26"
             ],
             [
              1,
              "#f0f921"
             ]
            ],
            "type": "histogram2dcontour"
           }
          ],
          "mesh3d": [
           {
            "colorbar": {
             "outlinewidth": 0,
             "ticks": ""
            },
            "type": "mesh3d"
           }
          ],
          "parcoords": [
           {
            "line": {
             "colorbar": {
              "outlinewidth": 0,
              "ticks": ""
             }
            },
            "type": "parcoords"
           }
          ],
          "pie": [
           {
            "automargin": true,
            "type": "pie"
           }
          ],
          "scatter": [
           {
            "fillpattern": {
             "fillmode": "overlay",
             "size": 10,
             "solidity": 0.2
            },
            "type": "scatter"
           }
          ],
          "scatter3d": [
           {
            "line": {
             "colorbar": {
              "outlinewidth": 0,
              "ticks": ""
             }
            },
            "marker": {
             "colorbar": {
              "outlinewidth": 0,
              "ticks": ""
             }
            },
            "type": "scatter3d"
           }
          ],
          "scattercarpet": [
           {
            "marker": {
             "colorbar": {
              "outlinewidth": 0,
              "ticks": ""
             }
            },
            "type": "scattercarpet"
           }
          ],
          "scattergeo": [
           {
            "marker": {
             "colorbar": {
              "outlinewidth": 0,
              "ticks": ""
             }
            },
            "type": "scattergeo"
           }
          ],
          "scattergl": [
           {
            "marker": {
             "colorbar": {
              "outlinewidth": 0,
              "ticks": ""
             }
            },
            "type": "scattergl"
           }
          ],
          "scattermapbox": [
           {
            "marker": {
             "colorbar": {
              "outlinewidth": 0,
              "ticks": ""
             }
            },
            "type": "scattermapbox"
           }
          ],
          "scatterpolar": [
           {
            "marker": {
             "colorbar": {
              "outlinewidth": 0,
              "ticks": ""
             }
            },
            "type": "scatterpolar"
           }
          ],
          "scatterpolargl": [
           {
            "marker": {
             "colorbar": {
              "outlinewidth": 0,
              "ticks": ""
             }
            },
            "type": "scatterpolargl"
           }
          ],
          "scatterternary": [
           {
            "marker": {
             "colorbar": {
              "outlinewidth": 0,
              "ticks": ""
             }
            },
            "type": "scatterternary"
           }
          ],
          "surface": [
           {
            "colorbar": {
             "outlinewidth": 0,
             "ticks": ""
            },
            "colorscale": [
             [
              0,
              "#0d0887"
             ],
             [
              0.1111111111111111,
              "#46039f"
             ],
             [
              0.2222222222222222,
              "#7201a8"
             ],
             [
              0.3333333333333333,
              "#9c179e"
             ],
             [
              0.4444444444444444,
              "#bd3786"
             ],
             [
              0.5555555555555556,
              "#d8576b"
             ],
             [
              0.6666666666666666,
              "#ed7953"
             ],
             [
              0.7777777777777778,
              "#fb9f3a"
             ],
             [
              0.8888888888888888,
              "#fdca26"
             ],
             [
              1,
              "#f0f921"
             ]
            ],
            "type": "surface"
           }
          ],
          "table": [
           {
            "cells": {
             "fill": {
              "color": "#EBF0F8"
             },
             "line": {
              "color": "white"
             }
            },
            "header": {
             "fill": {
              "color": "#C8D4E3"
             },
             "line": {
              "color": "white"
             }
            },
            "type": "table"
           }
          ]
         },
         "layout": {
          "annotationdefaults": {
           "arrowcolor": "#2a3f5f",
           "arrowhead": 0,
           "arrowwidth": 1
          },
          "autotypenumbers": "strict",
          "coloraxis": {
           "colorbar": {
            "outlinewidth": 0,
            "ticks": ""
           }
          },
          "colorscale": {
           "diverging": [
            [
             0,
             "#8e0152"
            ],
            [
             0.1,
             "#c51b7d"
            ],
            [
             0.2,
             "#de77ae"
            ],
            [
             0.3,
             "#f1b6da"
            ],
            [
             0.4,
             "#fde0ef"
            ],
            [
             0.5,
             "#f7f7f7"
            ],
            [
             0.6,
             "#e6f5d0"
            ],
            [
             0.7,
             "#b8e186"
            ],
            [
             0.8,
             "#7fbc41"
            ],
            [
             0.9,
             "#4d9221"
            ],
            [
             1,
             "#276419"
            ]
           ],
           "sequential": [
            [
             0,
             "#0d0887"
            ],
            [
             0.1111111111111111,
             "#46039f"
            ],
            [
             0.2222222222222222,
             "#7201a8"
            ],
            [
             0.3333333333333333,
             "#9c179e"
            ],
            [
             0.4444444444444444,
             "#bd3786"
            ],
            [
             0.5555555555555556,
             "#d8576b"
            ],
            [
             0.6666666666666666,
             "#ed7953"
            ],
            [
             0.7777777777777778,
             "#fb9f3a"
            ],
            [
             0.8888888888888888,
             "#fdca26"
            ],
            [
             1,
             "#f0f921"
            ]
           ],
           "sequentialminus": [
            [
             0,
             "#0d0887"
            ],
            [
             0.1111111111111111,
             "#46039f"
            ],
            [
             0.2222222222222222,
             "#7201a8"
            ],
            [
             0.3333333333333333,
             "#9c179e"
            ],
            [
             0.4444444444444444,
             "#bd3786"
            ],
            [
             0.5555555555555556,
             "#d8576b"
            ],
            [
             0.6666666666666666,
             "#ed7953"
            ],
            [
             0.7777777777777778,
             "#fb9f3a"
            ],
            [
             0.8888888888888888,
             "#fdca26"
            ],
            [
             1,
             "#f0f921"
            ]
           ]
          },
          "colorway": [
           "#636efa",
           "#EF553B",
           "#00cc96",
           "#ab63fa",
           "#FFA15A",
           "#19d3f3",
           "#FF6692",
           "#B6E880",
           "#FF97FF",
           "#FECB52"
          ],
          "font": {
           "color": "#2a3f5f"
          },
          "geo": {
           "bgcolor": "white",
           "lakecolor": "white",
           "landcolor": "#E5ECF6",
           "showlakes": true,
           "showland": true,
           "subunitcolor": "white"
          },
          "hoverlabel": {
           "align": "left"
          },
          "hovermode": "closest",
          "mapbox": {
           "style": "light"
          },
          "paper_bgcolor": "white",
          "plot_bgcolor": "#E5ECF6",
          "polar": {
           "angularaxis": {
            "gridcolor": "white",
            "linecolor": "white",
            "ticks": ""
           },
           "bgcolor": "#E5ECF6",
           "radialaxis": {
            "gridcolor": "white",
            "linecolor": "white",
            "ticks": ""
           }
          },
          "scene": {
           "xaxis": {
            "backgroundcolor": "#E5ECF6",
            "gridcolor": "white",
            "gridwidth": 2,
            "linecolor": "white",
            "showbackground": true,
            "ticks": "",
            "zerolinecolor": "white"
           },
           "yaxis": {
            "backgroundcolor": "#E5ECF6",
            "gridcolor": "white",
            "gridwidth": 2,
            "linecolor": "white",
            "showbackground": true,
            "ticks": "",
            "zerolinecolor": "white"
           },
           "zaxis": {
            "backgroundcolor": "#E5ECF6",
            "gridcolor": "white",
            "gridwidth": 2,
            "linecolor": "white",
            "showbackground": true,
            "ticks": "",
            "zerolinecolor": "white"
           }
          },
          "shapedefaults": {
           "line": {
            "color": "#2a3f5f"
           }
          },
          "ternary": {
           "aaxis": {
            "gridcolor": "white",
            "linecolor": "white",
            "ticks": ""
           },
           "baxis": {
            "gridcolor": "white",
            "linecolor": "white",
            "ticks": ""
           },
           "bgcolor": "#E5ECF6",
           "caxis": {
            "gridcolor": "white",
            "linecolor": "white",
            "ticks": ""
           }
          },
          "title": {
           "x": 0.05
          },
          "xaxis": {
           "automargin": true,
           "gridcolor": "white",
           "linecolor": "white",
           "ticks": "",
           "title": {
            "standoff": 15
           },
           "zerolinecolor": "white",
           "zerolinewidth": 2
          },
          "yaxis": {
           "automargin": true,
           "gridcolor": "white",
           "linecolor": "white",
           "ticks": "",
           "title": {
            "standoff": 15
           },
           "zerolinecolor": "white",
           "zerolinewidth": 2
          }
         }
        },
        "title": {
         "text": "APT103 vs Rubber Duckies Target From Rexburg/Courd Tracts"
        }
       }
      }
     },
     "metadata": {},
     "output_type": "display_data"
    }
   ],
   "source": [
    "rd_dat = pl.from_arrow(pq.read_table(\"./data/rubber_duckies_target.parquet\"))\n",
    "rd_dat = rd_dat.with_columns(pl.col(\"tractcode\").cast(pl.Utf8))\n",
    "rd_dat = dat.join(rd_dat, how=\"left\", on=\"tractcode\")\\\n",
    "            .with_columns(rd_percent_active = (pl.col(\"rubber_duckies_target\")/pl.col(\"population\") * 100))\\\n",
    "            .drop(\"cnamelong_right\").filter(pl.col(\"tractcode\").is_in(rexburg_tracts) | pl.col(\"tractcode\").is_in(courd_tracts))\n",
    "rd_dat\n",
    "\n",
    "\n",
    "import plotly.graph_objects as go\n",
    "\n",
    "fig = go.Figure()\n",
    "fig.add_trace(go.Histogram(histfunc=\"sum\",y=rd_dat[\"target\"], x=rd_dat[\"tractcode\"], name=\"APT103\"))\n",
    "fig.add_trace(go.Histogram(histfunc=\"sum\", y=rd_dat[\"rubber_duckies_target\"], x=rd_dat[\"tractcode\"], name=\"Rubber Duckies\"))\n",
    "fig.update_layout(title=\"APT103 vs Rubber Duckies Target From Rexburg/Courd Tracts\")\n",
    "fig.show()\n"
   ]
  },
  {
   "cell_type": "markdown",
   "metadata": {},
   "source": [
    "### Differences\n",
    "\n",
    "Across the tracts in Madison county and Kootenai county, there are some subtle differences between the two teams' targets.  The largest difference being in a Madison county tract of about 1000 people.  For most other tracts the Rubber Duckies's target is slightly above that of Apt103's target.  "
   ]
  }
 ],
 "metadata": {
  "kernelspec": {
   "display_name": "Python 3",
   "language": "python",
   "name": "python3"
  },
  "language_info": {
   "codemirror_mode": {
    "name": "ipython",
    "version": 3
   },
   "file_extension": ".py",
   "mimetype": "text/x-python",
   "name": "python",
   "nbconvert_exporter": "python",
   "pygments_lexer": "ipython3",
   "version": "3.11.5"
  }
 },
 "nbformat": 4,
 "nbformat_minor": 2
}

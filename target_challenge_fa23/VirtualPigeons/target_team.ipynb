{
 "cells": [
  {
   "cell_type": "code",
   "execution_count": 0,
   "metadata": {
    "application/vnd.databricks.v1+cell": {
     "cellMetadata": {
      "byteLimit": 2048000,
      "rowLimit": 10000
     },
     "inputWidgets": {},
     "nuid": "b62f7903-44e4-4bba-945e-bde0a4a0b6ed",
     "showTitle": false,
     "title": ""
    }
   },
   "outputs": [],
   "source": [
    "from pyspark.sql.functions import col, expr, aggregate, ceil, sum, map_values, lit, explode, desc, when, avg, regexp_replace\n",
    "import pyspark.sql.functions\n",
    "import plotly.graph_objs as go\n",
    "import math\n",
    "import pandas as pd"
   ]
  },
  {
   "cell_type": "code",
   "execution_count": 0,
   "metadata": {
    "application/vnd.databricks.v1+cell": {
     "cellMetadata": {
      "byteLimit": 2048000,
      "rowLimit": 10000
     },
     "inputWidgets": {},
     "nuid": "4aa88f7c-4107-4b2f-8836-9dfc4d16f802",
     "showTitle": false,
     "title": ""
    }
   },
   "outputs": [],
   "source": [
    "# a = spark.sql(\"SELECT * \\\n",
    "#         FROM safegraph.places \\\n",
    "#         INNER JOIN safegraph.patterns ON safegraph.patterns.placekey=safegraph.places.placekey \\\n",
    "#         WHERE top_category LIKE '%Religious%'\")"
   ]
  },
  {
   "cell_type": "code",
   "execution_count": 0,
   "metadata": {
    "application/vnd.databricks.v1+cell": {
     "cellMetadata": {
      "byteLimit": 2048000,
      "rowLimit": 10000
     },
     "inputWidgets": {},
     "nuid": "3a760b8f-db20-4df4-a13d-6c4582d3d1f9",
     "showTitle": false,
     "title": ""
    }
   },
   "outputs": [],
   "source": [
    "patterns = spark.sql(\"select * from safegraph.patterns\")\n",
    "places = spark.sql(\"select * from safegraph.places\")\n",
    "patterns = patterns.withColumnRenamed(\"placekey\", \"placekey1\")\n",
    "a = places.join(patterns,places.placekey == patterns.placekey1,\"inner\")"
   ]
  },
  {
   "cell_type": "code",
   "execution_count": 0,
   "metadata": {
    "application/vnd.databricks.v1+cell": {
     "cellMetadata": {
      "byteLimit": 2048000,
      "rowLimit": 10000
     },
     "inputWidgets": {},
     "nuid": "53c81660-a156-423d-a262-4cd5a30315b4",
     "showTitle": false,
     "title": ""
    }
   },
   "outputs": [],
   "source": [
    "a = a.filter(\n",
    "    (col(\"top_category\") == \"Religious Organizations\") &\n",
    "    (col(\"location_name\").rlike(\"Latter|latter|Saints|saints|LDS|\\b[Ww]ard\\b\")) &\n",
    "    (col(\"location_name\").rlike(\"^((?!Reorganized).)*$\")) &\n",
    "    (col(\"location_name\").rlike(\"^((?!All Saints).)*$\")) &\n",
    "    (col(\"location_name\").rlike(\"^((?![cC]ath).)*$\")) &\n",
    "    (col(\"location_name\").rlike(\"^((?![Bb]ody).)*$\")) &\n",
    "    (col(\"location_name\").rlike(\"^((?![Pp]eter).)*$\")) &\n",
    "    (col(\"location_name\").rlike(\"^((?![Cc]atholic).)*$\")) &\n",
    "    (col(\"location_name\").rlike(\"^((?![Pp]res).)*$\")) &\n",
    "    (col(\"location_name\").rlike(\"^((?![Mm]inist).)*$\")) &\n",
    "    (col(\"location_name\").rlike(\"^((?![Mm]ission).)*$\")) &\n",
    "    (col(\"location_name\").rlike(\"^((?![Ww]orship).)*$\")) &\n",
    "    (col(\"location_name\").rlike(\"^((?![Rr]ain).)*$\")) &\n",
    "    (col(\"location_name\").rlike(\"^((?![Bb]aptist).)*$\")) &\n",
    "    (col(\"location_name\").rlike(\"^((?![Mm]eth).)*$\")) &\n",
    "    (col(\"location_name\").rlike(\"^((?![Ee]vang).)*$\")) &\n",
    "    (col(\"location_name\").rlike(\"^((?![Ll]utheran).)*$\")) &\n",
    "    (col(\"location_name\").rlike(\"^((?![Oo]rthodox).)*$\")) &\n",
    "    (col(\"location_name\").rlike(\"^((?![Ee]piscopal).)*$\")) &\n",
    "    (col(\"location_name\").rlike(\"^((?![Tt]abernacle).)*$\")) &\n",
    "    (col(\"location_name\").rlike(\"^((?![Hh]arvest).)*$\")) &\n",
    "    (col(\"location_name\").rlike(\"^((?![Aa]ssem).)*$\")) &\n",
    "    (col(\"location_name\").rlike(\"^((?![Mm]edia).)*$\")) &\n",
    "    (col(\"location_name\").rlike(\"^((?![Mm]artha).)*$\")) &\n",
    "    (col(\"location_name\").rlike(\"^((?![Cc]hristian).)*$\")) &\n",
    "    (col(\"location_name\").rlike(\"^((?![Uu]nited).)*$\")) &\n",
    "    (col(\"location_name\").rlike(\"^((?![Ff]ellowship).)*$\")) &\n",
    "    (col(\"location_name\").rlike(\"^((?![Ww]esl).)*$\")) &\n",
    "    (col(\"location_name\").rlike(\"^((?![C]cosmas).)*$\")) &\n",
    "    (col(\"location_name\").rlike(\"^((?![Gg]reater).)*$\")) &\n",
    "    (col(\"location_name\").rlike(\"^((?![Pp]rison).)*$\")) &\n",
    "    (col(\"location_name\").rlike(\"^((?![Cc]ommuni).)*$\")) &\n",
    "    (col(\"location_name\").rlike(\"^((?![Cc]lement).)*$\")) &\n",
    "    (col(\"location_name\").rlike(\"^((?![Vv]iridian).)*$\")) &\n",
    "    (col(\"location_name\").rlike(\"^((?![Dd]iocese).)*$\")) &\n",
    "    (col(\"location_name\").rlike(\"^((?![Hh]istory).)*$\")) &\n",
    "    (col(\"location_name\").rlike(\"^((?![Ss]chool).)*$\")) &\n",
    "    (col(\"location_name\").rlike(\"^((?![Tt]hougt).)*$\")) &\n",
    "    (col(\"location_name\").rlike(\"^((?![Hh]oliness).)*$\")) &\n",
    "    (col(\"location_name\").rlike(\"^((?![Mm]artyr).)*$\")) &\n",
    "    (col(\"location_name\").rlike(\"^((?![Jj]ames).)*$\")) &\n",
    "    (col(\"location_name\").rlike(\"^((?![Ff]ellowship).)*$\")) &\n",
    "    (col(\"location_name\").rlike(\"^((?![Hh]ouse).)*$\")) &\n",
    "    (col(\"location_name\").rlike(\"^((?![Gg]lory).)*$\")) &\n",
    "    (col(\"location_name\").rlike(\"^((?![Aa]nglican).)*$\")) &\n",
    "    (col(\"location_name\").rlike(\"^((?![Pp]oetic).)*$\")) &\n",
    "    (col(\"location_name\").rlike(\"^((?![Ss]anctuary).)*$\")) &\n",
    "    (col(\"location_name\").rlike(\"^((?![Ee]quipping).)*$\")) &\n",
    "    (col(\"location_name\").rlike(\"^((?![Jj]ohn).)*$\")) &\n",
    "    (col(\"location_name\").rlike(\"^((?![Aa]ndrew).)*$\")) &\n",
    "    (col(\"location_name\").rlike(\"^((?![Ee]manuel).)*$\")) &\n",
    "    (col(\"location_name\").rlike(\"^((?![Rr]edeemed).)*$\")) &\n",
    "    (col(\"location_name\").rlike(\"^((?![Pp]erfecting).)*$\")) &\n",
    "    (col(\"location_name\").rlike(\"^((?![Aa]ngel).)*$\")) &\n",
    "    (col(\"location_name\").rlike(\"^((?![Aa]rchangel).)*$\")) &\n",
    "    (col(\"location_name\").rlike(\"^((?![Mm]icheal).)*$\")) &\n",
    "    (col(\"location_name\").rlike(\"^((?![Tt]hought).)*$\")) &\n",
    "    (col(\"location_name\").rlike(\"^((?![Pp]ariosse).)*$\")) &\n",
    "    (col(\"location_name\").rlike(\"^((?![Cc]osmas).)*$\")) &\n",
    "    (col(\"location_name\").rlike(\"^((?![Dd]eliverance).)*$\")) &\n",
    "    (col(\"location_name\").rlike(\"^((?![Ss]ociete).)*$\")) &\n",
    "    (col(\"location_name\").rlike(\"^((?![Tt]emple).)*$\")) &\n",
    "    (col(\"location_name\").rlike(\"^((?![Ss]eminary).)*$\")) &\n",
    "    (col(\"location_name\").rlike(\"^((?![Ee]mployment).)*$\")) &\n",
    "    (col(\"location_name\").rlike(\"^((?![Ii]nstitute).)*$\")) &\n",
    "    (col(\"location_name\").rlike(\"^((?![Cc]amp).)*$\")) &\n",
    "    (col(\"location_name\").rlike(\"^((?![Ss]tudent).)*$\")) &\n",
    "    (col(\"location_name\").rlike(\"^((?![Ee]ducation).)*$\")) &\n",
    "    (col(\"location_name\").rlike(\"^((?![Ss]ocial).)*$\")) &\n",
    "    (col(\"location_name\").rlike(\"^((?![Ww]welfare).)*$\")) &\n",
    "    (col(\"location_name\").rlike(\"^((?![Cc][Ee][Ss]).)*$\")) &\n",
    "    (col(\"location_name\").rlike(\"^((?![Ff]amily).)*$\")) &\n",
    "    (col(\"location_name\").rlike(\"^((?![Mm]ary).)*$\")) &\n",
    "    (col(\"location_name\").rlike(\"^((?![Rr]ussian).)*$\")) &\n",
    "    (col(\"location_name\").rlike(\"^((?![Bb]eautif).)*$\")) &\n",
    "    (col(\"location_name\").rlike(\"^((?![Hh]eaven).)*$\")) &    \n",
    "    (col(\"location_name\").rlike(\"^((?!Inc).)*$\")) &\n",
    "    (col(\"location_name\").rlike(\"^((?!God).)*$\"))\n",
    "  )"
   ]
  },
  {
   "cell_type": "code",
   "execution_count": 0,
   "metadata": {
    "application/vnd.databricks.v1+cell": {
     "cellMetadata": {
      "byteLimit": 2048000,
      "rowLimit": 10000
     },
     "inputWidgets": {},
     "nuid": "8d903b53-07df-4955-887d-cf181381f622",
     "showTitle": false,
     "title": ""
    }
   },
   "outputs": [],
   "source": [
    "a = a.withColumn('websites', regexp_replace(col('websites'), r'[\\[\\]]', ''))\n",
    "a = a.filter((col('websites').like('%lds.org%')) | (col('websites').like('%mormon.org%')) | (col('websites').like('%churchofjesuschrist.org%')) | (col('websites').like('%comeuntochrist.org%')) | (col('websites') == ''))\n",
    "days_of_week = [\"Monday\", \"Tuesday\", \"Wednesday\", \"Thursday\", \"Friday\", \"Saturday\", \"Sunday\"]\n",
    "for day in days_of_week:\n",
    "    a = a.withColumn(day, col(\"popularity_by_day\").getItem(day))\n",
    "a = a.drop(\"popularity_by_day\")\n",
    "days_of_week = [\"Monday\", \"Tuesday\", \"Wednesday\", \"Thursday\", \"Friday\", \"Saturday\"]\n",
    "for day in days_of_week:\n",
    "    a = a.filter((col('Sunday') * 2) > col(day))\n",
    "a = a.filter(a.Sunday > 5)"
   ]
  },
  {
   "cell_type": "code",
   "execution_count": 0,
   "metadata": {
    "application/vnd.databricks.v1+cell": {
     "cellMetadata": {
      "byteLimit": 2048000,
      "rowLimit": 10000
     },
     "inputWidgets": {},
     "nuid": "f7cd048d-ea30-4fc4-ac5b-fea0f3ffe4cf",
     "showTitle": false,
     "title": ""
    }
   },
   "outputs": [],
   "source": [
    "a = a.withColumn(\"HasTemple\", (col(\"location_name\").isin([\"Rexburg Idaho Temple\", \"Church of Jesus Christ of Latter Day Saints Twin Falls Temple\", \"Church of Jesus Christ of Latter Day Saints Meridian Temple\", \"Idaho Falls Idaho Temple\"]))|(col(\"placekey\") == \"zzw-222@5w9-jb8-5fz\"))"
   ]
  },
  {
   "cell_type": "markdown",
   "metadata": {
    "application/vnd.databricks.v1+cell": {
     "cellMetadata": {
      "byteLimit": 2048000,
      "rowLimit": 10000
     },
     "inputWidgets": {},
     "nuid": "144b0236-afc4-437a-8191-801530762956",
     "showTitle": false,
     "title": ""
    }
   },
   "source": [
    "drop duplicate placekeys to remove multiple times for a single location"
   ]
  },
  {
   "cell_type": "code",
   "execution_count": 0,
   "metadata": {
    "application/vnd.databricks.v1+cell": {
     "cellMetadata": {
      "byteLimit": 2048000,
      "rowLimit": 10000
     },
     "inputWidgets": {},
     "nuid": "63cccfd9-85cf-4ede-a79a-3b8d7d693b5b",
     "showTitle": false,
     "title": ""
    }
   },
   "outputs": [],
   "source": [
    "a = a.select(\"*\").dropDuplicates([\"placekey\"])"
   ]
  },
  {
   "cell_type": "markdown",
   "metadata": {
    "application/vnd.databricks.v1+cell": {
     "cellMetadata": {
      "byteLimit": 2048000,
      "rowLimit": 10000
     },
     "inputWidgets": {},
     "nuid": "52e769a9-e1b0-4f2f-8a6b-0692a0d952a8",
     "showTitle": false,
     "title": ""
    }
   },
   "source": [
    "divides raw visits by visitor count to obtain visitor percentage and then multiplies the percent into the normalized state visit counts to create a scaler visitor scaling"
   ]
  },
  {
   "cell_type": "code",
   "execution_count": 0,
   "metadata": {
    "application/vnd.databricks.v1+cell": {
     "cellMetadata": {
      "byteLimit": 2048000,
      "rowLimit": 10000
     },
     "inputWidgets": {},
     "nuid": "fdc888d4-bd0c-4d53-aa42-e87c30ed430e",
     "showTitle": false,
     "title": ""
    }
   },
   "outputs": [],
   "source": [
    "a = a.withColumn('visitor_scaling', (col(\"normalized_visits_by_state_scaling\") * ((col(\"raw_visitor_counts\") / col(\"raw_visit_counts\")))))"
   ]
  },
  {
   "cell_type": "markdown",
   "metadata": {
    "application/vnd.databricks.v1+cell": {
     "cellMetadata": {
      "byteLimit": 2048000,
      "rowLimit": 10000
     },
     "inputWidgets": {},
     "nuid": "68116f06-0efe-4e2a-b115-5de5990e618c",
     "showTitle": false,
     "title": ""
    }
   },
   "source": [
    "aggregates the vistorhomecbgs into a total quantity to be later used"
   ]
  },
  {
   "cell_type": "code",
   "execution_count": 0,
   "metadata": {
    "application/vnd.databricks.v1+cell": {
     "cellMetadata": {
      "byteLimit": 2048000,
      "rowLimit": 10000
     },
     "inputWidgets": {},
     "nuid": "1f94c361-80fe-412d-9611-75306e2e1e45",
     "showTitle": false,
     "title": ""
    }
   },
   "outputs": [],
   "source": [
    "a = a.withColumn('totalcbgs', map_values('visitor_home_cbgs')).select(\"*\", aggregate(\"totalcbgs\", lit(0), lambda acc, x: acc + x).alias(\"total\")).drop(\"totalcbgs\")"
   ]
  },
  {
   "cell_type": "markdown",
   "metadata": {
    "application/vnd.databricks.v1+cell": {
     "cellMetadata": {
      "byteLimit": 2048000,
      "rowLimit": 10000
     },
     "inputWidgets": {},
     "nuid": "664d0a3d-c55a-4c88-adbc-a4ed9334e983",
     "showTitle": false,
     "title": ""
    }
   },
   "source": [
    "Explodes visitor home cbgs and keeps the total for each cbgs and the scaled visitor count. creates a percentage ratio of each cbgs value versus the total amount from the home aggrgation. ex 4 from a cbgs / 65 total to a building. Distributes the percentage ratio into the scaled visitor count to get the total members as a percentage of people that went to a building."
   ]
  },
  {
   "cell_type": "code",
   "execution_count": 0,
   "metadata": {
    "application/vnd.databricks.v1+cell": {
     "cellMetadata": {
      "byteLimit": 2048000,
      "rowLimit": 10000
     },
     "inputWidgets": {},
     "nuid": "c0ed1f53-a412-4c6f-a89b-1ce2f0babe89",
     "showTitle": false,
     "title": ""
    }
   },
   "outputs": [],
   "source": [
    "a = a.select(explode(a.visitor_home_cbgs).alias(\"cbgs\", \"value\"), \"total\", \"HasTemple\", 'visitor_scaling') \\\n",
    "        .withColumn(\"percent_total\", (col(\"value\") / (col(\"total\")))) \\\n",
    "        .withColumn(\"members\", col(\"percent_total\")*col(\"visitor_scaling\")) "
   ]
  },
  {
   "cell_type": "markdown",
   "metadata": {
    "application/vnd.databricks.v1+cell": {
     "cellMetadata": {
      "byteLimit": 2048000,
      "rowLimit": 10000
     },
     "inputWidgets": {},
     "nuid": "2308a806-897b-4351-ba08-9d426d9b3e61",
     "showTitle": false,
     "title": ""
    }
   },
   "source": [
    "reduces down to cbgs and members and uses ceil to remove decimals."
   ]
  },
  {
   "cell_type": "code",
   "execution_count": 0,
   "metadata": {
    "application/vnd.databricks.v1+cell": {
     "cellMetadata": {
      "byteLimit": 2048000,
      "rowLimit": 10000
     },
     "inputWidgets": {},
     "nuid": "5b460506-4094-4f1e-b3d6-d44c4cc48a2e",
     "showTitle": false,
     "title": ""
    }
   },
   "outputs": [],
   "source": [
    "a = a.select(\"cbgs\", \"HasTemple\", ceil(\"members\").alias(\"total\"))"
   ]
  },
  {
   "cell_type": "markdown",
   "metadata": {
    "application/vnd.databricks.v1+cell": {
     "cellMetadata": {
      "byteLimit": 2048000,
      "rowLimit": 10000
     },
     "inputWidgets": {},
     "nuid": "5aed68b4-d708-44e2-9db7-e6d57c531769",
     "showTitle": false,
     "title": ""
    }
   },
   "source": [
    "groupsby cbgs and sums members on cbgs"
   ]
  },
  {
   "cell_type": "code",
   "execution_count": 0,
   "metadata": {
    "application/vnd.databricks.v1+cell": {
     "cellMetadata": {
      "byteLimit": 2048000,
      "rowLimit": 10000
     },
     "inputWidgets": {},
     "nuid": "ec7c3bf4-d712-42d8-a2bb-6e45bc5cb990",
     "showTitle": false,
     "title": ""
    }
   },
   "outputs": [],
   "source": [
    "a = a.groupBy(\"cbgs\", \"HasTemple\").agg(sum(\"total\").alias(\"total_members\"))"
   ]
  },
  {
   "cell_type": "code",
   "execution_count": 0,
   "metadata": {
    "application/vnd.databricks.v1+cell": {
     "cellMetadata": {
      "byteLimit": 2048000,
      "rowLimit": 10000
     },
     "inputWidgets": {},
     "nuid": "30ba2d54-bdea-488f-bf1f-c8b67a53065c",
     "showTitle": false,
     "title": ""
    }
   },
   "outputs": [],
   "source": [
    "a.write.mode(\"overwrite\").option(\"overwriteSchema\", \"true\").saveAsTable(\"members\")"
   ]
  },
  {
   "cell_type": "markdown",
   "metadata": {
    "application/vnd.databricks.v1+cell": {
     "cellMetadata": {
      "byteLimit": 2048000,
      "rowLimit": 10000
     },
     "inputWidgets": {},
     "nuid": "bce626d6-03b2-4d1e-a968-b9c2e9583c82",
     "showTitle": false,
     "title": ""
    }
   },
   "source": [
    "joins county and track information on cbgs"
   ]
  },
  {
   "cell_type": "code",
   "execution_count": 0,
   "metadata": {
    "application/vnd.databricks.v1+cell": {
     "cellMetadata": {
      "byteLimit": 2048000,
      "rowLimit": 10000
     },
     "inputWidgets": {},
     "nuid": "81b9758a-b035-4a22-b7e8-088dd19568b3",
     "showTitle": false,
     "title": ""
    }
   },
   "outputs": [
    {
     "output_type": "stream",
     "name": "stdout",
     "output_type": "stream",
     "text": [
      "root\n |-- cbgs: string (nullable = false)\n |-- HasTemple: boolean (nullable = true)\n |-- total_members: long (nullable = true)\n\n"
     ]
    }
   ],
   "source": [
    "a.printSchema()"
   ]
  },
  {
   "cell_type": "code",
   "execution_count": 0,
   "metadata": {
    "application/vnd.databricks.v1+cell": {
     "cellMetadata": {
      "byteLimit": 2048000,
      "rowLimit": 10000
     },
     "inputWidgets": {},
     "nuid": "411754d3-d359-48f0-b152-ae4915d4ddcc",
     "showTitle": false,
     "title": ""
    }
   },
   "outputs": [],
   "source": [
    "tract = spark.sql(\"SELECT members.cbgs, members.HasTemple, members.total_members, censusblock_table.county, censusblock_table.cnamelong, censusblock_table.tractcode\\\n",
    "        FROM default.members\\\n",
    "        INNER JOIN safegraph.censusblock_table ON default.members.cbgs=safegraph.censusblock_table.blockcode\")"
   ]
  },
  {
   "cell_type": "markdown",
   "metadata": {
    "application/vnd.databricks.v1+cell": {
     "cellMetadata": {
      "byteLimit": 2048000,
      "rowLimit": 10000
     },
     "inputWidgets": {},
     "nuid": "0c808e44-e225-4660-bc8b-b5939847b476",
     "showTitle": false,
     "title": ""
    }
   },
   "source": [
    "aggregates members onto tract"
   ]
  },
  {
   "cell_type": "code",
   "execution_count": 0,
   "metadata": {
    "application/vnd.databricks.v1+cell": {
     "cellMetadata": {
      "byteLimit": 2048000,
      "rowLimit": 10000
     },
     "inputWidgets": {},
     "nuid": "d28eb47b-a546-4331-8177-b4a975a95d7f",
     "showTitle": false,
     "title": ""
    }
   },
   "outputs": [],
   "source": [
    "tracttotal = tract.select(\"total_members\",\"HasTemple\", \"county\", \"tractcode\", \"cnamelong\").groupBy(\"county\", \"tractcode\", \"HasTemple\", \"cnamelong\").agg(sum(\"total_members\").alias(\"total_members\"))"
   ]
  },
  {
   "cell_type": "code",
   "execution_count": 0,
   "metadata": {
    "application/vnd.databricks.v1+cell": {
     "cellMetadata": {
      "byteLimit": 2048000,
      "rowLimit": 10000
     },
     "inputWidgets": {},
     "nuid": "8412a1a8-9301-4385-9029-5a8c7df2ddcb",
     "showTitle": false,
     "title": ""
    }
   },
   "outputs": [],
   "source": [
    "tracttotal= tracttotal.select(\"*\").dropDuplicates([\"tractcode\"])\n",
    "tracttotal.write.mode(\"overwrite\").option(\"overwriteSchema\", \"true\").saveAsTable(\"tract\")"
   ]
  },
  {
   "cell_type": "code",
   "execution_count": 0,
   "metadata": {
    "application/vnd.databricks.v1+cell": {
     "cellMetadata": {
      "byteLimit": 2048000,
      "rowLimit": 10000
     },
     "inputWidgets": {},
     "nuid": "2232fc98-b273-4697-a715-4ab515a8c52a",
     "showTitle": false,
     "title": ""
    }
   },
   "outputs": [
    {
     "output_type": "display_data",
     "data": {
      "text/html": [
       "<style scoped>\n",
       "  .table-result-container {\n",
       "    max-height: 300px;\n",
       "    overflow: auto;\n",
       "  }\n",
       "  table, th, td {\n",
       "    border: 1px solid black;\n",
       "    border-collapse: collapse;\n",
       "  }\n",
       "  th, td {\n",
       "    padding: 5px;\n",
       "  }\n",
       "  th {\n",
       "    text-align: left;\n",
       "  }\n",
       "</style><div class='table-result-container'><table class='table-result'><thead style='background-color: white'><tr><th>county</th><th>tractcode</th><th>HasTemple</th><th>cnamelong</th><th>total_members</th></tr></thead><tbody><tr><td>003</td><td>04003001100</td><td>false</td><td>Cochise County</td><td>83</td></tr><tr><td>013</td><td>04013082009</td><td>false</td><td>Maricopa County</td><td>84</td></tr><tr><td>013</td><td>04013421304</td><td>false</td><td>Maricopa County</td><td>94</td></tr><tr><td>013</td><td>04013421801</td><td>false</td><td>Maricopa County</td><td>58</td></tr><tr><td>013</td><td>04013422513</td><td>false</td><td>Maricopa County</td><td>63</td></tr><tr><td>013</td><td>04013812400</td><td>false</td><td>Maricopa County</td><td>70</td></tr><tr><td>013</td><td>04013813300</td><td>false</td><td>Maricopa County</td><td>60</td></tr><tr><td>017</td><td>04017963300</td><td>false</td><td>Navajo County</td><td>84</td></tr><tr><td>019</td><td>04019004646</td><td>false</td><td>Pima County</td><td>74</td></tr><tr><td>027</td><td>04027001200</td><td>false</td><td>Yuma County</td><td>46</td></tr><tr><td>017</td><td>06017030709</td><td>false</td><td>El Dorado County</td><td>71</td></tr><tr><td>037</td><td>06037262100</td><td>false</td><td>Los Angeles County</td><td>71</td></tr><tr><td>037</td><td>06037503401</td><td>false</td><td>Los Angeles County</td><td>72</td></tr><tr><td>037</td><td>06037910301</td><td>false</td><td>Los Angeles County</td><td>84</td></tr><tr><td>061</td><td>06061023900</td><td>false</td><td>Placer County</td><td>74</td></tr><tr><td>071</td><td>06071012002</td><td>false</td><td>San Bernardino County</td><td>94</td></tr><tr><td>073</td><td>06073007002</td><td>false</td><td>San Diego County</td><td>65</td></tr><tr><td>073</td><td>06073015501</td><td>false</td><td>San Diego County</td><td>139</td></tr><tr><td>073</td><td>06073020103</td><td>false</td><td>San Diego County</td><td>75</td></tr><tr><td>077</td><td>06077003500</td><td>false</td><td>San Joaquin County</td><td>71</td></tr><tr><td>083</td><td>06083001304</td><td>false</td><td>Santa Barbara County</td><td>72</td></tr><tr><td>099</td><td>06099000402</td><td>false</td><td>Stanislaus County</td><td>66</td></tr><tr><td>059</td><td>08059009824</td><td>false</td><td>Jefferson County</td><td>72</td></tr><tr><td>085</td><td>08085966400</td><td>false</td><td>Montrose County</td><td>71</td></tr><tr><td>073</td><td>12073002206</td><td>false</td><td>Leon County</td><td>83</td></tr><tr><td>073</td><td>12073002508</td><td>false</td><td>Leon County</td><td>83</td></tr><tr><td>091</td><td>12091021101</td><td>false</td><td>Okaloosa County</td><td>83</td></tr><tr><td>091</td><td>12091022500</td><td>false</td><td>Okaloosa County</td><td>83</td></tr><tr><td>115</td><td>13115000700</td><td>false</td><td>Floyd County</td><td>45</td></tr><tr><td>007</td><td>15007040603</td><td>false</td><td>Kauai County</td><td>50</td></tr><tr><td>001</td><td>16001000201</td><td>false</td><td>Ada County</td><td>104</td></tr><tr><td>001</td><td>16001000202</td><td>false</td><td>Ada County</td><td>518</td></tr><tr><td>001</td><td>16001000302</td><td>false</td><td>Ada County</td><td>61</td></tr><tr><td>001</td><td>16001000303</td><td>false</td><td>Ada County</td><td>148</td></tr><tr><td>001</td><td>16001000304</td><td>false</td><td>Ada County</td><td>370</td></tr><tr><td>001</td><td>16001000400</td><td>false</td><td>Ada County</td><td>141</td></tr><tr><td>001</td><td>16001000500</td><td>false</td><td>Ada County</td><td>71</td></tr><tr><td>001</td><td>16001000600</td><td>false</td><td>Ada County</td><td>130</td></tr><tr><td>001</td><td>16001000701</td><td>false</td><td>Ada County</td><td>82</td></tr><tr><td>001</td><td>16001000702</td><td>false</td><td>Ada County</td><td>135</td></tr><tr><td>001</td><td>16001000802</td><td>false</td><td>Ada County</td><td>384</td></tr><tr><td>001</td><td>16001000803</td><td>false</td><td>Ada County</td><td>315</td></tr><tr><td>001</td><td>16001000804</td><td>false</td><td>Ada County</td><td>150</td></tr><tr><td>001</td><td>16001000900</td><td>false</td><td>Ada County</td><td>1053</td></tr><tr><td>001</td><td>16001001000</td><td>false</td><td>Ada County</td><td>364</td></tr><tr><td>001</td><td>16001001100</td><td>false</td><td>Ada County</td><td>197</td></tr><tr><td>001</td><td>16001001201</td><td>false</td><td>Ada County</td><td>344</td></tr><tr><td>001</td><td>16001001202</td><td>false</td><td>Ada County</td><td>635</td></tr><tr><td>001</td><td>16001001400</td><td>false</td><td>Ada County</td><td>510</td></tr><tr><td>001</td><td>16001001500</td><td>false</td><td>Ada County</td><td>193</td></tr><tr><td>001</td><td>16001001600</td><td>false</td><td>Ada County</td><td>64</td></tr><tr><td>001</td><td>16001001700</td><td>false</td><td>Ada County</td><td>784</td></tr><tr><td>001</td><td>16001001800</td><td>false</td><td>Ada County</td><td>647</td></tr><tr><td>001</td><td>16001001900</td><td>false</td><td>Ada County</td><td>370</td></tr><tr><td>001</td><td>16001002000</td><td>false</td><td>Ada County</td><td>578</td></tr><tr><td>001</td><td>16001002100</td><td>false</td><td>Ada County</td><td>520</td></tr><tr><td>001</td><td>16001002221</td><td>false</td><td>Ada County</td><td>897</td></tr><tr><td>001</td><td>16001002222</td><td>false</td><td>Ada County</td><td>373</td></tr><tr><td>001</td><td>16001002223</td><td>false</td><td>Ada County</td><td>409</td></tr><tr><td>001</td><td>16001002224</td><td>false</td><td>Ada County</td><td>1197</td></tr><tr><td>001</td><td>16001002302</td><td>false</td><td>Ada County</td><td>663</td></tr><tr><td>001</td><td>16001002310</td><td>false</td><td>Ada County</td><td>435</td></tr><tr><td>001</td><td>16001002312</td><td>false</td><td>Ada County</td><td>436</td></tr><tr><td>001</td><td>16001002313</td><td>false</td><td>Ada County</td><td>200</td></tr><tr><td>001</td><td>16001002410</td><td>false</td><td>Ada County</td><td>370</td></tr><tr><td>001</td><td>16001002411</td><td>false</td><td>Ada County</td><td>556</td></tr><tr><td>001</td><td>16001002412</td><td>false</td><td>Ada County</td><td>62</td></tr><tr><td>001</td><td>16001002413</td><td>false</td><td>Ada County</td><td>700</td></tr><tr><td>001</td><td>16001010100</td><td>false</td><td>Ada County</td><td>647</td></tr><tr><td>001</td><td>16001010201</td><td>false</td><td>Ada County</td><td>1760</td></tr><tr><td>001</td><td>16001010221</td><td>false</td><td>Ada County</td><td>1182</td></tr><tr><td>001</td><td>16001010223</td><td>false</td><td>Ada County</td><td>780</td></tr><tr><td>001</td><td>16001010224</td><td>false</td><td>Ada County</td><td>521</td></tr><tr><td>001</td><td>16001010225</td><td>false</td><td>Ada County</td><td>767</td></tr><tr><td>001</td><td>16001010313</td><td>false</td><td>Ada County</td><td>5967</td></tr><tr><td>001</td><td>16001010321</td><td>false</td><td>Ada County</td><td>418</td></tr><tr><td>001</td><td>16001010322</td><td>false</td><td>Ada County</td><td>765</td></tr><tr><td>001</td><td>16001010331</td><td>false</td><td>Ada County</td><td>2996</td></tr><tr><td>001</td><td>16001010332</td><td>false</td><td>Ada County</td><td>467</td></tr><tr><td>001</td><td>16001010333</td><td>false</td><td>Ada County</td><td>748</td></tr><tr><td>001</td><td>16001010334</td><td>false</td><td>Ada County</td><td>603</td></tr><tr><td>001</td><td>16001010335</td><td>false</td><td>Ada County</td><td>1161</td></tr><tr><td>001</td><td>16001010401</td><td>false</td><td>Ada County</td><td>2411</td></tr><tr><td>001</td><td>16001010402</td><td>false</td><td>Ada County</td><td>1629</td></tr><tr><td>001</td><td>16001010501</td><td>false</td><td>Ada County</td><td>206</td></tr><tr><td>001</td><td>16001010503</td><td>false</td><td>Ada County</td><td>774</td></tr><tr><td>001</td><td>16001010504</td><td>false</td><td>Ada County</td><td>504</td></tr><tr><td>005</td><td>16005000200</td><td>false</td><td>Bannock County</td><td>1413</td></tr><tr><td>005</td><td>16005000300</td><td>false</td><td>Bannock County</td><td>1781</td></tr><tr><td>005</td><td>16005000400</td><td>false</td><td>Bannock County</td><td>1897</td></tr><tr><td>005</td><td>16005000500</td><td>false</td><td>Bannock County</td><td>211</td></tr><tr><td>005</td><td>16005000600</td><td>false</td><td>Bannock County</td><td>582</td></tr><tr><td>005</td><td>16005000700</td><td>false</td><td>Bannock County</td><td>445</td></tr><tr><td>005</td><td>16005000800</td><td>false</td><td>Bannock County</td><td>488</td></tr><tr><td>005</td><td>16005000900</td><td>false</td><td>Bannock County</td><td>210</td></tr><tr><td>005</td><td>16005001000</td><td>false</td><td>Bannock County</td><td>625</td></tr><tr><td>005</td><td>16005001101</td><td>false</td><td>Bannock County</td><td>3046</td></tr><tr><td>005</td><td>16005001102</td><td>false</td><td>Bannock County</td><td>492</td></tr><tr><td>005</td><td>16005001200</td><td>false</td><td>Bannock County</td><td>190</td></tr><tr><td>005</td><td>16005001300</td><td>false</td><td>Bannock County</td><td>270</td></tr><tr><td>005</td><td>16005001400</td><td>false</td><td>Bannock County</td><td>393</td></tr><tr><td>005</td><td>16005001500</td><td>false</td><td>Bannock County</td><td>460</td></tr><tr><td>005</td><td>16005001601</td><td>false</td><td>Bannock County</td><td>217</td></tr><tr><td>005</td><td>16005001602</td><td>false</td><td>Bannock County</td><td>301</td></tr><tr><td>005</td><td>16005001603</td><td>false</td><td>Bannock County</td><td>324</td></tr><tr><td>005</td><td>16005001700</td><td>false</td><td>Bannock County</td><td>970</td></tr><tr><td>005</td><td>16005001900</td><td>false</td><td>Bannock County</td><td>450</td></tr><tr><td>005</td><td>16005940000</td><td>false</td><td>Bannock County</td><td>209</td></tr><tr><td>007</td><td>16007950100</td><td>false</td><td>Bear Lake County</td><td>876</td></tr><tr><td>007</td><td>16007950200</td><td>false</td><td>Bear Lake County</td><td>309</td></tr><tr><td>011</td><td>16011940000</td><td>false</td><td>Bingham County</td><td>109</td></tr><tr><td>011</td><td>16011950100</td><td>false</td><td>Bingham County</td><td>2691</td></tr><tr><td>011</td><td>16011950200</td><td>false</td><td>Bingham County</td><td>1093</td></tr><tr><td>011</td><td>16011950300</td><td>false</td><td>Bingham County</td><td>830</td></tr><tr><td>011</td><td>16011950400</td><td>false</td><td>Bingham County</td><td>1477</td></tr><tr><td>011</td><td>16011950500</td><td>false</td><td>Bingham County</td><td>2105</td></tr><tr><td>011</td><td>16011950600</td><td>false</td><td>Bingham County</td><td>1714</td></tr><tr><td>011</td><td>16011950700</td><td>false</td><td>Bingham County</td><td>1136</td></tr><tr><td>013</td><td>16013960100</td><td>false</td><td>Blaine County</td><td>305</td></tr><tr><td>013</td><td>16013960200</td><td>false</td><td>Blaine County</td><td>347</td></tr><tr><td>015</td><td>16015950200</td><td>false</td><td>Boise County</td><td>88</td></tr><tr><td>017</td><td>16017950200</td><td>false</td><td>Bonner County</td><td>414</td></tr><tr><td>017</td><td>16017950400</td><td>false</td><td>Bonner County</td><td>104</td></tr><tr><td>017</td><td>16017950800</td><td>false</td><td>Bonner County</td><td>72</td></tr><tr><td>019</td><td>16019970100</td><td>false</td><td>Bonneville County</td><td>2981</td></tr><tr><td>019</td><td>16019970300</td><td>false</td><td>Bonneville County</td><td>5433</td></tr><tr><td>019</td><td>16019970401</td><td>false</td><td>Bonneville County</td><td>881</td></tr><tr><td>019</td><td>16019970402</td><td>false</td><td>Bonneville County</td><td>1799</td></tr><tr><td>019</td><td>16019970403</td><td>false</td><td>Bonneville County</td><td>2281</td></tr><tr><td>019</td><td>16019970501</td><td>false</td><td>Bonneville County</td><td>3836</td></tr><tr><td>019</td><td>16019970502</td><td>false</td><td>Bonneville County</td><td>945</td></tr><tr><td>019</td><td>16019970503</td><td>false</td><td>Bonneville County</td><td>1376</td></tr><tr><td>019</td><td>16019970601</td><td>false</td><td>Bonneville County</td><td>1164</td></tr><tr><td>019</td><td>16019970602</td><td>false</td><td>Bonneville County</td><td>1538</td></tr><tr><td>019</td><td>16019970603</td><td>false</td><td>Bonneville County</td><td>344</td></tr><tr><td>019</td><td>16019970700</td><td>false</td><td>Bonneville County</td><td>670</td></tr><tr><td>019</td><td>16019970800</td><td>false</td><td>Bonneville County</td><td>700</td></tr><tr><td>019</td><td>16019970900</td><td>false</td><td>Bonneville County</td><td>716</td></tr><tr><td>019</td><td>16019971000</td><td>false</td><td>Bonneville County</td><td>913</td></tr><tr><td>019</td><td>16019971100</td><td>false</td><td>Bonneville County</td><td>644</td></tr><tr><td>019</td><td>16019971200</td><td>false</td><td>Bonneville County</td><td>686</td></tr><tr><td>019</td><td>16019971301</td><td>false</td><td>Bonneville County</td><td>1474</td></tr><tr><td>019</td><td>16019971302</td><td>false</td><td>Bonneville County</td><td>1291</td></tr><tr><td>019</td><td>16019971400</td><td>false</td><td>Bonneville County</td><td>2426</td></tr><tr><td>019</td><td>16019971500</td><td>false</td><td>Bonneville County</td><td>239</td></tr><tr><td>023</td><td>16023970100</td><td>false</td><td>Butte County</td><td>430</td></tr><tr><td>025</td><td>16025970100</td><td>false</td><td>Camas County</td><td>77</td></tr><tr><td>027</td><td>16027020100</td><td>false</td><td>Canyon County</td><td>89</td></tr><tr><td>027</td><td>16027020300</td><td>false</td><td>Canyon County</td><td>81</td></tr><tr><td>027</td><td>16027020401</td><td>false</td><td>Canyon County</td><td>460</td></tr><tr><td>027</td><td>16027020402</td><td>false</td><td>Canyon County</td><td>150</td></tr><tr><td>027</td><td>16027020501</td><td>false</td><td>Canyon County</td><td>113</td></tr><tr><td>027</td><td>16027020503</td><td>false</td><td>Canyon County</td><td>322</td></tr><tr><td>027</td><td>16027020504</td><td>false</td><td>Canyon County</td><td>83</td></tr><tr><td>027</td><td>16027020601</td><td>false</td><td>Canyon County</td><td>242</td></tr><tr><td>027</td><td>16027020602</td><td>false</td><td>Canyon County</td><td>329</td></tr><tr><td>027</td><td>16027020700</td><td>false</td><td>Canyon County</td><td>71</td></tr><tr><td>027</td><td>16027020901</td><td>false</td><td>Canyon County</td><td>2884</td></tr><tr><td>027</td><td>16027020902</td><td>false</td><td>Canyon County</td><td>1565</td></tr><tr><td>027</td><td>16027021001</td><td>false</td><td>Canyon County</td><td>501</td></tr><tr><td>027</td><td>16027021002</td><td>false</td><td>Canyon County</td><td>628</td></tr><tr><td>027</td><td>16027021100</td><td>false</td><td>Canyon County</td><td>1873</td></tr><tr><td>027</td><td>16027021200</td><td>false</td><td>Canyon County</td><td>103</td></tr><tr><td>027</td><td>16027021300</td><td>false</td><td>Canyon County</td><td>47</td></tr><tr><td>027</td><td>16027021500</td><td>false</td><td>Canyon County</td><td>257</td></tr><tr><td>027</td><td>16027021700</td><td>false</td><td>Canyon County</td><td>128</td></tr><tr><td>027</td><td>16027021800</td><td>false</td><td>Canyon County</td><td>126</td></tr><tr><td>027</td><td>16027021901</td><td>false</td><td>Canyon County</td><td>274</td></tr><tr><td>027</td><td>16027021903</td><td>false</td><td>Canyon County</td><td>510</td></tr><tr><td>027</td><td>16027021904</td><td>false</td><td>Canyon County</td><td>72</td></tr><tr><td>027</td><td>16027022200</td><td>false</td><td>Canyon County</td><td>162</td></tr><tr><td>027</td><td>16027022300</td><td>false</td><td>Canyon County</td><td>135</td></tr><tr><td>027</td><td>16027022400</td><td>false</td><td>Canyon County</td><td>510</td></tr><tr><td>029</td><td>16029960100</td><td>false</td><td>Caribou County</td><td>1406</td></tr><tr><td>029</td><td>16029960200</td><td>false</td><td>Caribou County</td><td>510</td></tr><tr><td>031</td><td>16031950100</td><td>false</td><td>Cassia County</td><td>696</td></tr><tr><td>031</td><td>16031950200</td><td>false</td><td>Cassia County</td><td>2028</td></tr><tr><td>031</td><td>16031950300</td><td>false</td><td>Cassia County</td><td>2715</td></tr><tr><td>031</td><td>16031950400</td><td>false</td><td>Cassia County</td><td>592</td></tr><tr><td>031</td><td>16031950500</td><td>false</td><td>Cassia County</td><td>2476</td></tr><tr><td>031</td><td>16031950600</td><td>false</td><td>Cassia County</td><td>1393</td></tr><tr><td>037</td><td>16037960200</td><td>false</td><td>Custer County</td><td>57</td></tr><tr><td>039</td><td>16039960200</td><td>false</td><td>Elmore County</td><td>454</td></tr><tr><td>039</td><td>16039960300</td><td>false</td><td>Elmore County</td><td>120</td></tr><tr><td>039</td><td>16039960400</td><td>false</td><td>Elmore County</td><td>450</td></tr><tr><td>041</td><td>16041970100</td><td>false</td><td>Franklin County</td><td>1765</td></tr><tr><td>041</td><td>16041970200</td><td>false</td><td>Franklin County</td><td>2149</td></tr><tr><td>043</td><td>16043970100</td><td>false</td><td>Fremont County</td><td>634</td></tr><tr><td>043</td><td>16043970200</td><td>false</td><td>Fremont County</td><td>1348</td></tr><tr><td>043</td><td>16043970300</td><td>false</td><td>Fremont County</td><td>5832</td></tr><tr><td>045</td><td>16045960100</td><td>false</td><td>Gem County</td><td>587</td></tr><tr><td>045</td><td>16045960200</td><td>false</td><td>Gem County</td><td>885</td></tr><tr><td>045</td><td>16045960300</td><td>false</td><td>Gem County</td><td>326</td></tr><tr><td>047</td><td>16047960100</td><td>false</td><td>Gooding County</td><td>603</td></tr><tr><td>047</td><td>16047960200</td><td>false</td><td>Gooding County</td><td>433</td></tr><tr><td>049</td><td>16049960400</td><td>false</td><td>Idaho County</td><td>192</td></tr><tr><td>051</td><td>16051960100</td><td>false</td><td>Jefferson County</td><td>209</td></tr><tr><td>051</td><td>16051960200</td><td>false</td><td>Jefferson County</td><td>1500</td></tr><tr><td>051</td><td>16051960300</td><td>false</td><td>Jefferson County</td><td>2392</td></tr><tr><td>051</td><td>16051960400</td><td>false</td><td>Jefferson County</td><td>2851</td></tr><tr><td>053</td><td>16053970200</td><td>false</td><td>Jerome County</td><td>328</td></tr><tr><td>053</td><td>16053970300</td><td>false</td><td>Jerome County</td><td>413</td></tr><tr><td>053</td><td>16053970400</td><td>false</td><td>Jerome County</td><td>138</td></tr><tr><td>053</td><td>16053970500</td><td>false</td><td>Jerome County</td><td>1005</td></tr><tr><td>055</td><td>16055000100</td><td>false</td><td>Kootenai County</td><td>68</td></tr><tr><td>055</td><td>16055000200</td><td>false</td><td>Kootenai County</td><td>731</td></tr><tr><td>055</td><td>16055000301</td><td>false</td><td>Kootenai County</td><td>162</td></tr><tr><td>055</td><td>16055000302</td><td>false</td><td>Kootenai County</td><td>503</td></tr><tr><td>055</td><td>16055000402</td><td>false</td><td>Kootenai County</td><td>68</td></tr><tr><td>055</td><td>16055000500</td><td>false</td><td>Kootenai County</td><td>357</td></tr><tr><td>055</td><td>16055000601</td><td>false</td><td>Kootenai County</td><td>98</td></tr><tr><td>055</td><td>16055000602</td><td>false</td><td>Kootenai County</td><td>64</td></tr><tr><td>055</td><td>16055000700</td><td>false</td><td>Kootenai County</td><td>8251</td></tr><tr><td>055</td><td>16055000800</td><td>false</td><td>Kootenai County</td><td>246</td></tr><tr><td>055</td><td>16055000900</td><td>false</td><td>Kootenai County</td><td>98</td></tr><tr><td>055</td><td>16055001001</td><td>false</td><td>Kootenai County</td><td>71</td></tr><tr><td>055</td><td>16055001002</td><td>false</td><td>Kootenai County</td><td>284</td></tr><tr><td>055</td><td>16055001100</td><td>false</td><td>Kootenai County</td><td>233</td></tr><tr><td>055</td><td>16055001200</td><td>false</td><td>Kootenai County</td><td>147</td></tr><tr><td>055</td><td>16055001300</td><td>false</td><td>Kootenai County</td><td>755</td></tr><tr><td>055</td><td>16055001400</td><td>false</td><td>Kootenai County</td><td>98</td></tr><tr><td>055</td><td>16055001500</td><td>false</td><td>Kootenai County</td><td>199</td></tr><tr><td>055</td><td>16055001700</td><td>false</td><td>Kootenai County</td><td>68</td></tr><tr><td>055</td><td>16055001800</td><td>false</td><td>Kootenai County</td><td>333</td></tr><tr><td>055</td><td>16055001900</td><td>false</td><td>Kootenai County</td><td>83</td></tr><tr><td>055</td><td>16055002000</td><td>false</td><td>Kootenai County</td><td>196</td></tr><tr><td>057</td><td>16057005100</td><td>false</td><td>Latah County</td><td>198</td></tr><tr><td>057</td><td>16057005200</td><td>false</td><td>Latah County</td><td>563</td></tr><tr><td>057</td><td>16057005500</td><td>false</td><td>Latah County</td><td>25</td></tr><tr><td>057</td><td>16057005600</td><td>false</td><td>Latah County</td><td>45</td></tr><tr><td>059</td><td>16059970100</td><td>false</td><td>Lemhi County</td><td>276</td></tr><tr><td>059</td><td>16059970200</td><td>false</td><td>Lemhi County</td><td>117</td></tr><tr><td>063</td><td>16063950100</td><td>false</td><td>Lincoln County</td><td>154</td></tr><tr><td>065</td><td>16065950100</td><td>false</td><td>Madison County</td><td>1996</td></tr><tr><td>065</td><td>16065950200</td><td>false</td><td>Madison County</td><td>1204</td></tr><tr><td>065</td><td>16065950301</td><td>false</td><td>Madison County</td><td>1746</td></tr><tr><td>065</td><td>16065950302</td><td>false</td><td>Madison County</td><td>5525</td></tr><tr><td>065</td><td>16065950400</td><td>false</td><td>Madison County</td><td>1521</td></tr><tr><td>065</td><td>16065950500</td><td>false</td><td>Madison County</td><td>2088</td></tr><tr><td>067</td><td>16067970100</td><td>false</td><td>Minidoka County</td><td>345</td></tr><tr><td>067</td><td>16067970200</td><td>false</td><td>Minidoka County</td><td>1092</td></tr><tr><td>067</td><td>16067970300</td><td>false</td><td>Minidoka County</td><td>711</td></tr><tr><td>067</td><td>16067970400</td><td>false</td><td>Minidoka County</td><td>694</td></tr><tr><td>067</td><td>16067970500</td><td>false</td><td>Minidoka County</td><td>844</td></tr><tr><td>069</td><td>16069960200</td><td>false</td><td>Nez Perce County</td><td>25</td></tr><tr><td>069</td><td>16069960400</td><td>false</td><td>Nez Perce County</td><td>60</td></tr><tr><td>069</td><td>16069960500</td><td>false</td><td>Nez Perce County</td><td>105</td></tr><tr><td>069</td><td>16069960600</td><td>false</td><td>Nez Perce County</td><td>60</td></tr><tr><td>069</td><td>16069960900</td><td>false</td><td>Nez Perce County</td><td>60</td></tr><tr><td>069</td><td>16069961000</td><td>false</td><td>Nez Perce County</td><td>60</td></tr><tr><td>071</td><td>16071960100</td><td>false</td><td>Oneida County</td><td>860</td></tr><tr><td>073</td><td>16073950101</td><td>false</td><td>Owyhee County</td><td>293</td></tr><tr><td>073</td><td>16073950102</td><td>false</td><td>Owyhee County</td><td>67</td></tr><tr><td>073</td><td>16073950200</td><td>false</td><td>Owyhee County</td><td>327</td></tr><tr><td>075</td><td>16075960100</td><td>false</td><td>Payette County</td><td>134</td></tr><tr><td>075</td><td>16075960200</td><td>false</td><td>Payette County</td><td>233</td></tr><tr><td>075</td><td>16075960300</td><td>false</td><td>Payette County</td><td>1403</td></tr><tr><td>075</td><td>16075960400</td><td>false</td><td>Payette County</td><td>157</td></tr><tr><td>077</td><td>16077960100</td><td>false</td><td>Power County</td><td>572</td></tr><tr><td>077</td><td>16077960200</td><td>false</td><td>Power County</td><td>1460</td></tr><tr><td>079</td><td>16079960200</td><td>false</td><td>Shoshone County</td><td>155</td></tr><tr><td>079</td><td>16079960300</td><td>false</td><td>Shoshone County</td><td>126</td></tr><tr><td>081</td><td>16081960100</td><td>false</td><td>Teton County</td><td>292</td></tr><tr><td>083</td><td>16083000200</td><td>false</td><td>Twin Falls County</td><td>1292</td></tr><tr><td>083</td><td>16083000300</td><td>false</td><td>Twin Falls County</td><td>420</td></tr><tr><td>083</td><td>16083000400</td><td>false</td><td>Twin Falls County</td><td>135</td></tr><tr><td>083</td><td>16083000500</td><td>false</td><td>Twin Falls County</td><td>1631</td></tr><tr><td>083</td><td>16083000600</td><td>false</td><td>Twin Falls County</td><td>474</td></tr><tr><td>083</td><td>16083000700</td><td>false</td><td>Twin Falls County</td><td>1763</td></tr><tr><td>083</td><td>16083000800</td><td>false</td><td>Twin Falls County</td><td>542</td></tr><tr><td>083</td><td>16083000900</td><td>false</td><td>Twin Falls County</td><td>1325</td></tr><tr><td>083</td><td>16083001000</td><td>false</td><td>Twin Falls County</td><td>1088</td></tr><tr><td>083</td><td>16083001100</td><td>false</td><td>Twin Falls County</td><td>88</td></tr><tr><td>083</td><td>16083001200</td><td>false</td><td>Twin Falls County</td><td>576</td></tr><tr><td>083</td><td>16083001300</td><td>false</td><td>Twin Falls County</td><td>1669</td></tr><tr><td>083</td><td>16083001400</td><td>false</td><td>Twin Falls County</td><td>230</td></tr><tr><td>083</td><td>16083001500</td><td>false</td><td>Twin Falls County</td><td>230</td></tr><tr><td>085</td><td>16085970100</td><td>false</td><td>Valley County</td><td>62</td></tr><tr><td>085</td><td>16085970200</td><td>false</td><td>Valley County</td><td>71</td></tr><tr><td>087</td><td>16087970100</td><td>false</td><td>Washington County</td><td>322</td></tr><tr><td>087</td><td>16087970200</td><td>false</td><td>Washington County</td><td>184</td></tr><tr><td>087</td><td>16087970300</td><td>false</td><td>Washington County</td><td>231</td></tr><tr><td>011</td><td>18011810400</td><td>false</td><td>Boone County</td><td>64</td></tr><tr><td>057</td><td>19057001000</td><td>false</td><td>Des Moines County</td><td>88</td></tr><tr><td>155</td><td>20155001800</td><td>false</td><td>Reno County</td><td>83</td></tr><tr><td>185</td><td>21185030601</td><td>false</td><td>Oldham County</td><td>69</td></tr><tr><td>015</td><td>22015010806</td><td>false</td><td>Bossier Parish</td><td>61</td></tr><tr><td>031</td><td>24031700823</td><td>false</td><td>Montgomery County</td><td>54</td></tr><tr><td>043</td><td>26043950300</td><td>false</td><td>Dickinson County</td><td>73</td></tr><tr><td>049</td><td>26049013002</td><td>false</td><td>Genesee County</td><td>53</td></tr><tr><td>065</td><td>26065005001</td><td>false</td><td>Ingham County</td><td>53</td></tr><tr><td>161</td><td>26161431000</td><td>false</td><td>Washtenaw County</td><td>70</td></tr><tr><td>145</td><td>27145000601</td><td>false</td><td>Stearns County</td><td>50</td></tr><tr><td>209</td><td>29209090601</td><td>false</td><td>Stone County</td><td>76</td></tr><tr><td>031</td><td>30031000300</td><td>false</td><td>Gallatin County</td><td>49</td></tr><tr><td>031</td><td>30031000900</td><td>false</td><td>Gallatin County</td><td>55</td></tr><tr><td>031</td><td>30031001500</td><td>false</td><td>Gallatin County</td><td>86</td></tr><tr><td>041</td><td>30041040300</td><td>false</td><td>Hill County</td><td>55</td></tr><tr><td>043</td><td>30043962202</td><td>false</td><td>Jefferson County</td><td>178</td></tr><tr><td>057</td><td>30057000200</td><td>false</td><td>Madison County</td><td>65</td></tr><tr><td>063</td><td>30063000202</td><td>false</td><td>Missoula County</td><td>68</td></tr><tr><td>063</td><td>30063001302</td><td>false</td><td>Missoula County</td><td>66</td></tr><tr><td>081</td><td>30081000202</td><td>false</td><td>Ravalli County</td><td>71</td></tr><tr><td>111</td><td>30111000702</td><td>false</td><td>Yellowstone County</td><td>69</td></tr><tr><td>055</td><td>31055002300</td><td>false</td><td>Douglas County</td><td>66</td></tr><tr><td>003</td><td>32003002808</td><td>false</td><td>Clark County</td><td>68</td></tr><tr><td>003</td><td>32003003318</td><td>false</td><td>Clark County</td><td>66</td></tr><tr><td>003</td><td>32003003629</td><td>false</td><td>Clark County</td><td>111</td></tr><tr><td>007</td><td>32007950200</td><td>false</td><td>Elko County</td><td>68</td></tr><tr><td>007</td><td>32007950701</td><td>false</td><td>Elko County</td><td>73</td></tr><tr><td>019</td><td>32019960101</td><td>false</td><td>Lyon County</td><td>73</td></tr><tr><td>031</td><td>32031002613</td><td>false</td><td>Washoe County</td><td>61</td></tr><tr><td>031</td><td>32031003106</td><td>false</td><td>Washoe County</td><td>73</td></tr><tr><td>033</td><td>32033970100</td><td>false</td><td>White Pine County</td><td>63</td></tr><tr><td>045</td><td>35045000610</td><td>false</td><td>San Juan County</td><td>63</td></tr><tr><td>011</td><td>36011040400</td><td>false</td><td>Cayuga County</td><td>75</td></tr><tr><td>061</td><td>36061023000</td><td>false</td><td>New York County</td><td>50</td></tr><tr><td>017</td><td>37017950300</td><td>false</td><td>Bladen County</td><td>83</td></tr><tr><td>101</td><td>37101040203</td><td>false</td><td>Johnston County</td><td>83</td></tr><tr><td>183</td><td>37183053107</td><td>false</td><td>Wake County</td><td>83</td></tr><tr><td>113</td><td>39113050104</td><td>false</td><td>Montgomery County</td><td>86</td></tr><tr><td>113</td><td>40113940002</td><td>false</td><td>Osage County</td><td>71</td></tr><tr><td>001</td><td>41001950100</td><td>false</td><td>Baker County</td><td>72</td></tr><tr><td>001</td><td>41001950500</td><td>false</td><td>Baker County</td><td>41</td></tr><tr><td>009</td><td>41009970600</td><td>false</td><td>Columbia County</td><td>71</td></tr><tr><td>017</td><td>41017000200</td><td>false</td><td>Deschutes County</td><td>89</td></tr><tr><td>023</td><td>41023960200</td><td>false</td><td>Grant County</td><td>74</td></tr><tr><td>041</td><td>41041950304</td><td>false</td><td>Lincoln County</td><td>71</td></tr><tr><td>045</td><td>41045970300</td><td>false</td><td>Malheur County</td><td>107</td></tr><tr><td>045</td><td>41045970500</td><td>false</td><td>Malheur County</td><td>64</td></tr><tr><td>045</td><td>41045970600</td><td>false</td><td>Malheur County</td><td>83</td></tr><tr><td>051</td><td>41051005100</td><td>false</td><td>Multnomah County</td><td>162</td></tr><tr><td>059</td><td>41059950500</td><td>false</td><td>Umatilla County</td><td>62</td></tr><tr><td>067</td><td>41067032603</td><td>false</td><td>Washington County</td><td>75</td></tr><tr><td>067</td><td>41067033302</td><td>false</td><td>Washington County</td><td>104</td></tr><tr><td>013</td><td>45013000503</td><td>false</td><td>Beaufort County</td><td>83</td></tr><tr><td>093</td><td>47093006206</td><td>false</td><td>Knox County</td><td>51</td></tr><tr><td>125</td><td>47125101400</td><td>false</td><td>Montgomery County</td><td>80</td></tr><tr><td>085</td><td>48085031313</td><td>false</td><td>Collin County</td><td>137</td></tr><tr><td>113</td><td>48113020400</td><td>false</td><td>Dallas County</td><td>68</td></tr><tr><td>201</td><td>48201421700</td><td>false</td><td>Harris County</td><td>65</td></tr><tr><td>439</td><td>48439113922</td><td>false</td><td>Tarrant County</td><td>80</td></tr><tr><td>453</td><td>48453001826</td><td>false</td><td>Travis County</td><td>77</td></tr><tr><td>003</td><td>49003960100</td><td>false</td><td>Box Elder County</td><td>61</td></tr><tr><td>003</td><td>49003960300</td><td>false</td><td>Box Elder County</td><td>134</td></tr><tr><td>003</td><td>49003960702</td><td>false</td><td>Box Elder County</td><td>60</td></tr><tr><td>003</td><td>49003960801</td><td>false</td><td>Box Elder County</td><td>66</td></tr><tr><td>005</td><td>49005000101</td><td>false</td><td>Cache County</td><td>187</td></tr><tr><td>005</td><td>49005000201</td><td>false</td><td>Cache County</td><td>76</td></tr><tr><td>005</td><td>49005000202</td><td>false</td><td>Cache County</td><td>100</td></tr><tr><td>005</td><td>49005000401</td><td>false</td><td>Cache County</td><td>71</td></tr><tr><td>005</td><td>49005000403</td><td>false</td><td>Cache County</td><td>68</td></tr><tr><td>005</td><td>49005000501</td><td>false</td><td>Cache County</td><td>68</td></tr><tr><td>005</td><td>49005000600</td><td>false</td><td>Cache County</td><td>70</td></tr><tr><td>005</td><td>49005000701</td><td>false</td><td>Cache County</td><td>142</td></tr><tr><td>005</td><td>49005000800</td><td>false</td><td>Cache County</td><td>63</td></tr><tr><td>005</td><td>49005000900</td><td>false</td><td>Cache County</td><td>68</td></tr><tr><td>005</td><td>49005001001</td><td>false</td><td>Cache County</td><td>68</td></tr><tr><td>005</td><td>49005001002</td><td>false</td><td>Cache County</td><td>140</td></tr><tr><td>005</td><td>49005001102</td><td>false</td><td>Cache County</td><td>86</td></tr><tr><td>005</td><td>49005001401</td><td>false</td><td>Cache County</td><td>78</td></tr><tr><td>011</td><td>49011125401</td><td>false</td><td>Davis County</td><td>116</td></tr><tr><td>011</td><td>49011125403</td><td>false</td><td>Davis County</td><td>131</td></tr><tr><td>011</td><td>49011125405</td><td>false</td><td>Davis County</td><td>76</td></tr><tr><td>011</td><td>49011125801</td><td>false</td><td>Davis County</td><td>68</td></tr><tr><td>011</td><td>49011125808</td><td>false</td><td>Davis County</td><td>110</td></tr><tr><td>011</td><td>49011126101</td><td>false</td><td>Davis County</td><td>77</td></tr><tr><td>011</td><td>49011126104</td><td>false</td><td>Davis County</td><td>145</td></tr><tr><td>011</td><td>49011126105</td><td>false</td><td>Davis County</td><td>138</td></tr><tr><td>011</td><td>49011126204</td><td>false</td><td>Davis County</td><td>55</td></tr><tr><td>011</td><td>49011127003</td><td>false</td><td>Davis County</td><td>59</td></tr><tr><td>033</td><td>49033950100</td><td>false</td><td>Rich County</td><td>54</td></tr><tr><td>035</td><td>49035102702</td><td>false</td><td>Salt Lake County</td><td>66</td></tr><tr><td>035</td><td>49035103400</td><td>false</td><td>Salt Lake County</td><td>71</td></tr><tr><td>035</td><td>49035104800</td><td>false</td><td>Salt Lake County</td><td>83</td></tr><tr><td>035</td><td>49035104900</td><td>false</td><td>Salt Lake County</td><td>64</td></tr><tr><td>035</td><td>49035110600</td><td>false</td><td>Salt Lake County</td><td>142</td></tr><tr><td>035</td><td>49035111903</td><td>false</td><td>Salt Lake County</td><td>54</td></tr><tr><td>035</td><td>49035112201</td><td>false</td><td>Salt Lake County</td><td>72</td></tr><tr><td>035</td><td>49035112302</td><td>false</td><td>Salt Lake County</td><td>86</td></tr><tr><td>035</td><td>49035112609</td><td>false</td><td>Salt Lake County</td><td>86</td></tr><tr><td>035</td><td>49035112805</td><td>false</td><td>Salt Lake County</td><td>132</td></tr><tr><td>035</td><td>49035112810</td><td>false</td><td>Salt Lake County</td><td>78</td></tr><tr><td>035</td><td>49035112820</td><td>false</td><td>Salt Lake County</td><td>123</td></tr><tr><td>035</td><td>49035113011</td><td>false</td><td>Salt Lake County</td><td>159</td></tr><tr><td>035</td><td>49035113105</td><td>false</td><td>Salt Lake County</td><td>75</td></tr><tr><td>035</td><td>49035113107</td><td>false</td><td>Salt Lake County</td><td>243</td></tr><tr><td>035</td><td>49035113305</td><td>false</td><td>Salt Lake County</td><td>41</td></tr><tr><td>035</td><td>49035113306</td><td>false</td><td>Salt Lake County</td><td>72</td></tr><tr><td>035</td><td>49035113412</td><td>false</td><td>Salt Lake County</td><td>49</td></tr><tr><td>035</td><td>49035113514</td><td>false</td><td>Salt Lake County</td><td>70</td></tr><tr><td>035</td><td>49035113525</td><td>false</td><td>Salt Lake County</td><td>86</td></tr><tr><td>035</td><td>49035113526</td><td>false</td><td>Salt Lake County</td><td>33</td></tr><tr><td>035</td><td>49035113527</td><td>false</td><td>Salt Lake County</td><td>61</td></tr><tr><td>035</td><td>49035113803</td><td>false</td><td>Salt Lake County</td><td>71</td></tr><tr><td>043</td><td>49043964102</td><td>false</td><td>Summit County</td><td>54</td></tr><tr><td>045</td><td>49045130702</td><td>false</td><td>Tooele County</td><td>124</td></tr><tr><td>045</td><td>49045130703</td><td>false</td><td>Tooele County</td><td>68</td></tr><tr><td>045</td><td>49045130800</td><td>false</td><td>Tooele County</td><td>63</td></tr><tr><td>045</td><td>49045131100</td><td>false</td><td>Tooele County</td><td>67</td></tr><tr><td>049</td><td>49049000102</td><td>false</td><td>Utah County</td><td>86</td></tr><tr><td>049</td><td>49049000105</td><td>false</td><td>Utah County</td><td>116</td></tr><tr><td>049</td><td>49049000603</td><td>false</td><td>Utah County</td><td>65</td></tr><tr><td>049</td><td>49049000703</td><td>false</td><td>Utah County</td><td>63</td></tr><tr><td>049</td><td>49049000904</td><td>false</td><td>Utah County</td><td>83</td></tr><tr><td>049</td><td>49049001402</td><td>false</td><td>Utah County</td><td>125</td></tr><tr><td>049</td><td>49049001602</td><td>false</td><td>Utah County</td><td>79</td></tr><tr><td>049</td><td>49049001603</td><td>false</td><td>Utah County</td><td>70</td></tr><tr><td>049</td><td>49049001702</td><td>false</td><td>Utah County</td><td>63</td></tr><tr><td>049</td><td>49049001803</td><td>false</td><td>Utah County</td><td>62</td></tr><tr><td>049</td><td>49049001900</td><td>false</td><td>Utah County</td><td>329</td></tr><tr><td>049</td><td>49049002206</td><td>false</td><td>Utah County</td><td>60</td></tr><tr><td>049</td><td>49049002300</td><td>false</td><td>Utah County</td><td>61</td></tr><tr><td>049</td><td>49049003104</td><td>false</td><td>Utah County</td><td>86</td></tr><tr><td>049</td><td>49049003203</td><td>false</td><td>Utah County</td><td>60</td></tr><tr><td>049</td><td>49049003204</td><td>false</td><td>Utah County</td><td>65</td></tr><tr><td>049</td><td>49049003402</td><td>false</td><td>Utah County</td><td>88</td></tr><tr><td>049</td><td>49049010109</td><td>false</td><td>Utah County</td><td>69</td></tr><tr><td>049</td><td>49049010111</td><td>false</td><td>Utah County</td><td>70</td></tr><tr><td>049</td><td>49049010112</td><td>false</td><td>Utah County</td><td>175</td></tr><tr><td>049</td><td>49049010113</td><td>false</td><td>Utah County</td><td>215</td></tr><tr><td>049</td><td>49049010212</td><td>false</td><td>Utah County</td><td>66</td></tr><tr><td>049</td><td>49049010214</td><td>false</td><td>Utah County</td><td>76</td></tr><tr><td>049</td><td>49049010219</td><td>false</td><td>Utah County</td><td>72</td></tr><tr><td>049</td><td>49049010404</td><td>false</td><td>Utah County</td><td>164</td></tr><tr><td>049</td><td>49049010405</td><td>false</td><td>Utah County</td><td>185</td></tr><tr><td>053</td><td>49053270801</td><td>false</td><td>Washington County</td><td>65</td></tr><tr><td>053</td><td>49053270802</td><td>false</td><td>Washington County</td><td>71</td></tr><tr><td>053</td><td>49053270901</td><td>false</td><td>Washington County</td><td>61</td></tr><tr><td>053</td><td>49053271600</td><td>false</td><td>Washington County</td><td>55</td></tr><tr><td>057</td><td>49057200202</td><td>false</td><td>Weber County</td><td>52</td></tr><tr><td>057</td><td>49057200800</td><td>false</td><td>Weber County</td><td>72</td></tr><tr><td>057</td><td>49057210201</td><td>false</td><td>Weber County</td><td>78</td></tr><tr><td>057</td><td>49057210302</td><td>false</td><td>Weber County</td><td>64</td></tr><tr><td>057</td><td>49057210403</td><td>false</td><td>Weber County</td><td>51</td></tr><tr><td>057</td><td>49057210504</td><td>false</td><td>Weber County</td><td>66</td></tr><tr><td>057</td><td>49057210505</td><td>false</td><td>Weber County</td><td>60</td></tr><tr><td>057</td><td>49057210506</td><td>false</td><td>Weber County</td><td>73</td></tr><tr><td>057</td><td>49057210600</td><td>false</td><td>Weber County</td><td>61</td></tr><tr><td>057</td><td>49057210704</td><td>false</td><td>Weber County</td><td>61</td></tr><tr><td>057</td><td>49057211100</td><td>false</td><td>Weber County</td><td>55</td></tr><tr><td>003</td><td>50003970200</td><td>false</td><td>Bennington County</td><td>79</td></tr><tr><td>059</td><td>51059416200</td><td>false</td><td>Fairfax County</td><td>52</td></tr><tr><td>530</td><td>51530930600</td><td>false</td><td>Buena Vista city</td><td>55</td></tr><tr><td>003</td><td>53003960400</td><td>false</td><td>Asotin County</td><td>60</td></tr><tr><td>005</td><td>53005010810</td><td>false</td><td>Benton County</td><td>64</td></tr><tr><td>005</td><td>53005010811</td><td>false</td><td>Benton County</td><td>98</td></tr><tr><td>011</td><td>53011040201</td><td>false</td><td>Clark County</td><td>79</td></tr><tr><td>021</td><td>53021020605</td><td>false</td><td>Franklin County</td><td>82</td></tr><tr><td>029</td><td>53029971500</td><td>false</td><td>Island County</td><td>72</td></tr><tr><td>033</td><td>53033005301</td><td>false</td><td>King County</td><td>67</td></tr><tr><td>033</td><td>53033007300</td><td>false</td><td>King County</td><td>73</td></tr><tr><td>033</td><td>53033010702</td><td>false</td><td>King County</td><td>66</td></tr><tr><td>033</td><td>53033026001</td><td>false</td><td>King County</td><td>98</td></tr><tr><td>033</td><td>53033032601</td><td>false</td><td>King County</td><td>104</td></tr><tr><td>035</td><td>53035092400</td><td>false</td><td>Kitsap County</td><td>41</td></tr><tr><td>051</td><td>53051970300</td><td>false</td><td>Pend Oreille County</td><td>98</td></tr><tr><td>053</td><td>53053062300</td><td>false</td><td>Pierce County</td><td>98</td></tr><tr><td>061</td><td>53061052806</td><td>false</td><td>Snohomish County</td><td>73</td></tr><tr><td>063</td><td>53063010503</td><td>false</td><td>Spokane County</td><td>71</td></tr><tr><td>063</td><td>53063012701</td><td>false</td><td>Spokane County</td><td>45</td></tr><tr><td>063</td><td>53063013202</td><td>false</td><td>Spokane County</td><td>68</td></tr><tr><td>075</td><td>53075000100</td><td>false</td><td>Whitman County</td><td>1337</td></tr><tr><td>075</td><td>53075000200</td><td>false</td><td>Whitman County</td><td>109</td></tr><tr><td>075</td><td>53075000400</td><td>false</td><td>Whitman County</td><td>45</td></tr><tr><td>075</td><td>53075000600</td><td>false</td><td>Whitman County</td><td>45</td></tr><tr><td>075</td><td>53075000900</td><td>false</td><td>Whitman County</td><td>25</td></tr><tr><td>077</td><td>53077000700</td><td>false</td><td>Yakima County</td><td>116</td></tr><tr><td>077</td><td>53077002802</td><td>false</td><td>Yakima County</td><td>59</td></tr><tr><td>013</td><td>56013940300</td><td>false</td><td>Fremont County</td><td>83</td></tr><tr><td>023</td><td>56023978000</td><td>false</td><td>Lincoln County</td><td>66</td></tr><tr><td>023</td><td>56023978100</td><td>false</td><td>Lincoln County</td><td>78</td></tr><tr><td>037</td><td>56037970902</td><td>false</td><td>Sweetwater County</td><td>55</td></tr><tr><td>039</td><td>56039967600</td><td>false</td><td>Teton County</td><td>66</td></tr><tr><td>039</td><td>56039967702</td><td>false</td><td>Teton County</td><td>70</td></tr><tr><td>039</td><td>56039967800</td><td>false</td><td>Teton County</td><td>68</td></tr></tbody></table></div>"
      ]
     },
     "metadata": {
      "application/vnd.databricks.v1+output": {
       "addedWidgets": {},
       "aggData": [],
       "aggError": "",
       "aggOverflow": false,
       "aggSchema": [],
       "aggSeriesLimitReached": false,
       "aggType": "",
       "arguments": {},
       "columnCustomDisplayInfos": {},
       "data": [
        [
         "003",
         "04003001100",
         false,
         "Cochise County",
         83
        ],
        [
         "013",
         "04013082009",
         false,
         "Maricopa County",
         84
        ],
        [
         "013",
         "04013421304",
         false,
         "Maricopa County",
         94
        ],
        [
         "013",
         "04013421801",
         false,
         "Maricopa County",
         58
        ],
        [
         "013",
         "04013422513",
         false,
         "Maricopa County",
         63
        ],
        [
         "013",
         "04013812400",
         false,
         "Maricopa County",
         70
        ],
        [
         "013",
         "04013813300",
         false,
         "Maricopa County",
         60
        ],
        [
         "017",
         "04017963300",
         false,
         "Navajo County",
         84
        ],
        [
         "019",
         "04019004646",
         false,
         "Pima County",
         74
        ],
        [
         "027",
         "04027001200",
         false,
         "Yuma County",
         46
        ],
        [
         "017",
         "06017030709",
         false,
         "El Dorado County",
         71
        ],
        [
         "037",
         "06037262100",
         false,
         "Los Angeles County",
         71
        ],
        [
         "037",
         "06037503401",
         false,
         "Los Angeles County",
         72
        ],
        [
         "037",
         "06037910301",
         false,
         "Los Angeles County",
         84
        ],
        [
         "061",
         "06061023900",
         false,
         "Placer County",
         74
        ],
        [
         "071",
         "06071012002",
         false,
         "San Bernardino County",
         94
        ],
        [
         "073",
         "06073007002",
         false,
         "San Diego County",
         65
        ],
        [
         "073",
         "06073015501",
         false,
         "San Diego County",
         139
        ],
        [
         "073",
         "06073020103",
         false,
         "San Diego County",
         75
        ],
        [
         "077",
         "06077003500",
         false,
         "San Joaquin County",
         71
        ],
        [
         "083",
         "06083001304",
         false,
         "Santa Barbara County",
         72
        ],
        [
         "099",
         "06099000402",
         false,
         "Stanislaus County",
         66
        ],
        [
         "059",
         "08059009824",
         false,
         "Jefferson County",
         72
        ],
        [
         "085",
         "08085966400",
         false,
         "Montrose County",
         71
        ],
        [
         "073",
         "12073002206",
         false,
         "Leon County",
         83
        ],
        [
         "073",
         "12073002508",
         false,
         "Leon County",
         83
        ],
        [
         "091",
         "12091021101",
         false,
         "Okaloosa County",
         83
        ],
        [
         "091",
         "12091022500",
         false,
         "Okaloosa County",
         83
        ],
        [
         "115",
         "13115000700",
         false,
         "Floyd County",
         45
        ],
        [
         "007",
         "15007040603",
         false,
         "Kauai County",
         50
        ],
        [
         "001",
         "16001000201",
         false,
         "Ada County",
         104
        ],
        [
         "001",
         "16001000202",
         false,
         "Ada County",
         518
        ],
        [
         "001",
         "16001000302",
         false,
         "Ada County",
         61
        ],
        [
         "001",
         "16001000303",
         false,
         "Ada County",
         148
        ],
        [
         "001",
         "16001000304",
         false,
         "Ada County",
         370
        ],
        [
         "001",
         "16001000400",
         false,
         "Ada County",
         141
        ],
        [
         "001",
         "16001000500",
         false,
         "Ada County",
         71
        ],
        [
         "001",
         "16001000600",
         false,
         "Ada County",
         130
        ],
        [
         "001",
         "16001000701",
         false,
         "Ada County",
         82
        ],
        [
         "001",
         "16001000702",
         false,
         "Ada County",
         135
        ],
        [
         "001",
         "16001000802",
         false,
         "Ada County",
         384
        ],
        [
         "001",
         "16001000803",
         false,
         "Ada County",
         315
        ],
        [
         "001",
         "16001000804",
         false,
         "Ada County",
         150
        ],
        [
         "001",
         "16001000900",
         false,
         "Ada County",
         1053
        ],
        [
         "001",
         "16001001000",
         false,
         "Ada County",
         364
        ],
        [
         "001",
         "16001001100",
         false,
         "Ada County",
         197
        ],
        [
         "001",
         "16001001201",
         false,
         "Ada County",
         344
        ],
        [
         "001",
         "16001001202",
         false,
         "Ada County",
         635
        ],
        [
         "001",
         "16001001400",
         false,
         "Ada County",
         510
        ],
        [
         "001",
         "16001001500",
         false,
         "Ada County",
         193
        ],
        [
         "001",
         "16001001600",
         false,
         "Ada County",
         64
        ],
        [
         "001",
         "16001001700",
         false,
         "Ada County",
         784
        ],
        [
         "001",
         "16001001800",
         false,
         "Ada County",
         647
        ],
        [
         "001",
         "16001001900",
         false,
         "Ada County",
         370
        ],
        [
         "001",
         "16001002000",
         false,
         "Ada County",
         578
        ],
        [
         "001",
         "16001002100",
         false,
         "Ada County",
         520
        ],
        [
         "001",
         "16001002221",
         false,
         "Ada County",
         897
        ],
        [
         "001",
         "16001002222",
         false,
         "Ada County",
         373
        ],
        [
         "001",
         "16001002223",
         false,
         "Ada County",
         409
        ],
        [
         "001",
         "16001002224",
         false,
         "Ada County",
         1197
        ],
        [
         "001",
         "16001002302",
         false,
         "Ada County",
         663
        ],
        [
         "001",
         "16001002310",
         false,
         "Ada County",
         435
        ],
        [
         "001",
         "16001002312",
         false,
         "Ada County",
         436
        ],
        [
         "001",
         "16001002313",
         false,
         "Ada County",
         200
        ],
        [
         "001",
         "16001002410",
         false,
         "Ada County",
         370
        ],
        [
         "001",
         "16001002411",
         false,
         "Ada County",
         556
        ],
        [
         "001",
         "16001002412",
         false,
         "Ada County",
         62
        ],
        [
         "001",
         "16001002413",
         false,
         "Ada County",
         700
        ],
        [
         "001",
         "16001010100",
         false,
         "Ada County",
         647
        ],
        [
         "001",
         "16001010201",
         false,
         "Ada County",
         1760
        ],
        [
         "001",
         "16001010221",
         false,
         "Ada County",
         1182
        ],
        [
         "001",
         "16001010223",
         false,
         "Ada County",
         780
        ],
        [
         "001",
         "16001010224",
         false,
         "Ada County",
         521
        ],
        [
         "001",
         "16001010225",
         false,
         "Ada County",
         767
        ],
        [
         "001",
         "16001010313",
         false,
         "Ada County",
         5967
        ],
        [
         "001",
         "16001010321",
         false,
         "Ada County",
         418
        ],
        [
         "001",
         "16001010322",
         false,
         "Ada County",
         765
        ],
        [
         "001",
         "16001010331",
         false,
         "Ada County",
         2996
        ],
        [
         "001",
         "16001010332",
         false,
         "Ada County",
         467
        ],
        [
         "001",
         "16001010333",
         false,
         "Ada County",
         748
        ],
        [
         "001",
         "16001010334",
         false,
         "Ada County",
         603
        ],
        [
         "001",
         "16001010335",
         false,
         "Ada County",
         1161
        ],
        [
         "001",
         "16001010401",
         false,
         "Ada County",
         2411
        ],
        [
         "001",
         "16001010402",
         false,
         "Ada County",
         1629
        ],
        [
         "001",
         "16001010501",
         false,
         "Ada County",
         206
        ],
        [
         "001",
         "16001010503",
         false,
         "Ada County",
         774
        ],
        [
         "001",
         "16001010504",
         false,
         "Ada County",
         504
        ],
        [
         "005",
         "16005000200",
         false,
         "Bannock County",
         1413
        ],
        [
         "005",
         "16005000300",
         false,
         "Bannock County",
         1781
        ],
        [
         "005",
         "16005000400",
         false,
         "Bannock County",
         1897
        ],
        [
         "005",
         "16005000500",
         false,
         "Bannock County",
         211
        ],
        [
         "005",
         "16005000600",
         false,
         "Bannock County",
         582
        ],
        [
         "005",
         "16005000700",
         false,
         "Bannock County",
         445
        ],
        [
         "005",
         "16005000800",
         false,
         "Bannock County",
         488
        ],
        [
         "005",
         "16005000900",
         false,
         "Bannock County",
         210
        ],
        [
         "005",
         "16005001000",
         false,
         "Bannock County",
         625
        ],
        [
         "005",
         "16005001101",
         false,
         "Bannock County",
         3046
        ],
        [
         "005",
         "16005001102",
         false,
         "Bannock County",
         492
        ],
        [
         "005",
         "16005001200",
         false,
         "Bannock County",
         190
        ],
        [
         "005",
         "16005001300",
         false,
         "Bannock County",
         270
        ],
        [
         "005",
         "16005001400",
         false,
         "Bannock County",
         393
        ],
        [
         "005",
         "16005001500",
         false,
         "Bannock County",
         460
        ],
        [
         "005",
         "16005001601",
         false,
         "Bannock County",
         217
        ],
        [
         "005",
         "16005001602",
         false,
         "Bannock County",
         301
        ],
        [
         "005",
         "16005001603",
         false,
         "Bannock County",
         324
        ],
        [
         "005",
         "16005001700",
         false,
         "Bannock County",
         970
        ],
        [
         "005",
         "16005001900",
         false,
         "Bannock County",
         450
        ],
        [
         "005",
         "16005940000",
         false,
         "Bannock County",
         209
        ],
        [
         "007",
         "16007950100",
         false,
         "Bear Lake County",
         876
        ],
        [
         "007",
         "16007950200",
         false,
         "Bear Lake County",
         309
        ],
        [
         "011",
         "16011940000",
         false,
         "Bingham County",
         109
        ],
        [
         "011",
         "16011950100",
         false,
         "Bingham County",
         2691
        ],
        [
         "011",
         "16011950200",
         false,
         "Bingham County",
         1093
        ],
        [
         "011",
         "16011950300",
         false,
         "Bingham County",
         830
        ],
        [
         "011",
         "16011950400",
         false,
         "Bingham County",
         1477
        ],
        [
         "011",
         "16011950500",
         false,
         "Bingham County",
         2105
        ],
        [
         "011",
         "16011950600",
         false,
         "Bingham County",
         1714
        ],
        [
         "011",
         "16011950700",
         false,
         "Bingham County",
         1136
        ],
        [
         "013",
         "16013960100",
         false,
         "Blaine County",
         305
        ],
        [
         "013",
         "16013960200",
         false,
         "Blaine County",
         347
        ],
        [
         "015",
         "16015950200",
         false,
         "Boise County",
         88
        ],
        [
         "017",
         "16017950200",
         false,
         "Bonner County",
         414
        ],
        [
         "017",
         "16017950400",
         false,
         "Bonner County",
         104
        ],
        [
         "017",
         "16017950800",
         false,
         "Bonner County",
         72
        ],
        [
         "019",
         "16019970100",
         false,
         "Bonneville County",
         2981
        ],
        [
         "019",
         "16019970300",
         false,
         "Bonneville County",
         5433
        ],
        [
         "019",
         "16019970401",
         false,
         "Bonneville County",
         881
        ],
        [
         "019",
         "16019970402",
         false,
         "Bonneville County",
         1799
        ],
        [
         "019",
         "16019970403",
         false,
         "Bonneville County",
         2281
        ],
        [
         "019",
         "16019970501",
         false,
         "Bonneville County",
         3836
        ],
        [
         "019",
         "16019970502",
         false,
         "Bonneville County",
         945
        ],
        [
         "019",
         "16019970503",
         false,
         "Bonneville County",
         1376
        ],
        [
         "019",
         "16019970601",
         false,
         "Bonneville County",
         1164
        ],
        [
         "019",
         "16019970602",
         false,
         "Bonneville County",
         1538
        ],
        [
         "019",
         "16019970603",
         false,
         "Bonneville County",
         344
        ],
        [
         "019",
         "16019970700",
         false,
         "Bonneville County",
         670
        ],
        [
         "019",
         "16019970800",
         false,
         "Bonneville County",
         700
        ],
        [
         "019",
         "16019970900",
         false,
         "Bonneville County",
         716
        ],
        [
         "019",
         "16019971000",
         false,
         "Bonneville County",
         913
        ],
        [
         "019",
         "16019971100",
         false,
         "Bonneville County",
         644
        ],
        [
         "019",
         "16019971200",
         false,
         "Bonneville County",
         686
        ],
        [
         "019",
         "16019971301",
         false,
         "Bonneville County",
         1474
        ],
        [
         "019",
         "16019971302",
         false,
         "Bonneville County",
         1291
        ],
        [
         "019",
         "16019971400",
         false,
         "Bonneville County",
         2426
        ],
        [
         "019",
         "16019971500",
         false,
         "Bonneville County",
         239
        ],
        [
         "023",
         "16023970100",
         false,
         "Butte County",
         430
        ],
        [
         "025",
         "16025970100",
         false,
         "Camas County",
         77
        ],
        [
         "027",
         "16027020100",
         false,
         "Canyon County",
         89
        ],
        [
         "027",
         "16027020300",
         false,
         "Canyon County",
         81
        ],
        [
         "027",
         "16027020401",
         false,
         "Canyon County",
         460
        ],
        [
         "027",
         "16027020402",
         false,
         "Canyon County",
         150
        ],
        [
         "027",
         "16027020501",
         false,
         "Canyon County",
         113
        ],
        [
         "027",
         "16027020503",
         false,
         "Canyon County",
         322
        ],
        [
         "027",
         "16027020504",
         false,
         "Canyon County",
         83
        ],
        [
         "027",
         "16027020601",
         false,
         "Canyon County",
         242
        ],
        [
         "027",
         "16027020602",
         false,
         "Canyon County",
         329
        ],
        [
         "027",
         "16027020700",
         false,
         "Canyon County",
         71
        ],
        [
         "027",
         "16027020901",
         false,
         "Canyon County",
         2884
        ],
        [
         "027",
         "16027020902",
         false,
         "Canyon County",
         1565
        ],
        [
         "027",
         "16027021001",
         false,
         "Canyon County",
         501
        ],
        [
         "027",
         "16027021002",
         false,
         "Canyon County",
         628
        ],
        [
         "027",
         "16027021100",
         false,
         "Canyon County",
         1873
        ],
        [
         "027",
         "16027021200",
         false,
         "Canyon County",
         103
        ],
        [
         "027",
         "16027021300",
         false,
         "Canyon County",
         47
        ],
        [
         "027",
         "16027021500",
         false,
         "Canyon County",
         257
        ],
        [
         "027",
         "16027021700",
         false,
         "Canyon County",
         128
        ],
        [
         "027",
         "16027021800",
         false,
         "Canyon County",
         126
        ],
        [
         "027",
         "16027021901",
         false,
         "Canyon County",
         274
        ],
        [
         "027",
         "16027021903",
         false,
         "Canyon County",
         510
        ],
        [
         "027",
         "16027021904",
         false,
         "Canyon County",
         72
        ],
        [
         "027",
         "16027022200",
         false,
         "Canyon County",
         162
        ],
        [
         "027",
         "16027022300",
         false,
         "Canyon County",
         135
        ],
        [
         "027",
         "16027022400",
         false,
         "Canyon County",
         510
        ],
        [
         "029",
         "16029960100",
         false,
         "Caribou County",
         1406
        ],
        [
         "029",
         "16029960200",
         false,
         "Caribou County",
         510
        ],
        [
         "031",
         "16031950100",
         false,
         "Cassia County",
         696
        ],
        [
         "031",
         "16031950200",
         false,
         "Cassia County",
         2028
        ],
        [
         "031",
         "16031950300",
         false,
         "Cassia County",
         2715
        ],
        [
         "031",
         "16031950400",
         false,
         "Cassia County",
         592
        ],
        [
         "031",
         "16031950500",
         false,
         "Cassia County",
         2476
        ],
        [
         "031",
         "16031950600",
         false,
         "Cassia County",
         1393
        ],
        [
         "037",
         "16037960200",
         false,
         "Custer County",
         57
        ],
        [
         "039",
         "16039960200",
         false,
         "Elmore County",
         454
        ],
        [
         "039",
         "16039960300",
         false,
         "Elmore County",
         120
        ],
        [
         "039",
         "16039960400",
         false,
         "Elmore County",
         450
        ],
        [
         "041",
         "16041970100",
         false,
         "Franklin County",
         1765
        ],
        [
         "041",
         "16041970200",
         false,
         "Franklin County",
         2149
        ],
        [
         "043",
         "16043970100",
         false,
         "Fremont County",
         634
        ],
        [
         "043",
         "16043970200",
         false,
         "Fremont County",
         1348
        ],
        [
         "043",
         "16043970300",
         false,
         "Fremont County",
         5832
        ],
        [
         "045",
         "16045960100",
         false,
         "Gem County",
         587
        ],
        [
         "045",
         "16045960200",
         false,
         "Gem County",
         885
        ],
        [
         "045",
         "16045960300",
         false,
         "Gem County",
         326
        ],
        [
         "047",
         "16047960100",
         false,
         "Gooding County",
         603
        ],
        [
         "047",
         "16047960200",
         false,
         "Gooding County",
         433
        ],
        [
         "049",
         "16049960400",
         false,
         "Idaho County",
         192
        ],
        [
         "051",
         "16051960100",
         false,
         "Jefferson County",
         209
        ],
        [
         "051",
         "16051960200",
         false,
         "Jefferson County",
         1500
        ],
        [
         "051",
         "16051960300",
         false,
         "Jefferson County",
         2392
        ],
        [
         "051",
         "16051960400",
         false,
         "Jefferson County",
         2851
        ],
        [
         "053",
         "16053970200",
         false,
         "Jerome County",
         328
        ],
        [
         "053",
         "16053970300",
         false,
         "Jerome County",
         413
        ],
        [
         "053",
         "16053970400",
         false,
         "Jerome County",
         138
        ],
        [
         "053",
         "16053970500",
         false,
         "Jerome County",
         1005
        ],
        [
         "055",
         "16055000100",
         false,
         "Kootenai County",
         68
        ],
        [
         "055",
         "16055000200",
         false,
         "Kootenai County",
         731
        ],
        [
         "055",
         "16055000301",
         false,
         "Kootenai County",
         162
        ],
        [
         "055",
         "16055000302",
         false,
         "Kootenai County",
         503
        ],
        [
         "055",
         "16055000402",
         false,
         "Kootenai County",
         68
        ],
        [
         "055",
         "16055000500",
         false,
         "Kootenai County",
         357
        ],
        [
         "055",
         "16055000601",
         false,
         "Kootenai County",
         98
        ],
        [
         "055",
         "16055000602",
         false,
         "Kootenai County",
         64
        ],
        [
         "055",
         "16055000700",
         false,
         "Kootenai County",
         8251
        ],
        [
         "055",
         "16055000800",
         false,
         "Kootenai County",
         246
        ],
        [
         "055",
         "16055000900",
         false,
         "Kootenai County",
         98
        ],
        [
         "055",
         "16055001001",
         false,
         "Kootenai County",
         71
        ],
        [
         "055",
         "16055001002",
         false,
         "Kootenai County",
         284
        ],
        [
         "055",
         "16055001100",
         false,
         "Kootenai County",
         233
        ],
        [
         "055",
         "16055001200",
         false,
         "Kootenai County",
         147
        ],
        [
         "055",
         "16055001300",
         false,
         "Kootenai County",
         755
        ],
        [
         "055",
         "16055001400",
         false,
         "Kootenai County",
         98
        ],
        [
         "055",
         "16055001500",
         false,
         "Kootenai County",
         199
        ],
        [
         "055",
         "16055001700",
         false,
         "Kootenai County",
         68
        ],
        [
         "055",
         "16055001800",
         false,
         "Kootenai County",
         333
        ],
        [
         "055",
         "16055001900",
         false,
         "Kootenai County",
         83
        ],
        [
         "055",
         "16055002000",
         false,
         "Kootenai County",
         196
        ],
        [
         "057",
         "16057005100",
         false,
         "Latah County",
         198
        ],
        [
         "057",
         "16057005200",
         false,
         "Latah County",
         563
        ],
        [
         "057",
         "16057005500",
         false,
         "Latah County",
         25
        ],
        [
         "057",
         "16057005600",
         false,
         "Latah County",
         45
        ],
        [
         "059",
         "16059970100",
         false,
         "Lemhi County",
         276
        ],
        [
         "059",
         "16059970200",
         false,
         "Lemhi County",
         117
        ],
        [
         "063",
         "16063950100",
         false,
         "Lincoln County",
         154
        ],
        [
         "065",
         "16065950100",
         false,
         "Madison County",
         1996
        ],
        [
         "065",
         "16065950200",
         false,
         "Madison County",
         1204
        ],
        [
         "065",
         "16065950301",
         false,
         "Madison County",
         1746
        ],
        [
         "065",
         "16065950302",
         false,
         "Madison County",
         5525
        ],
        [
         "065",
         "16065950400",
         false,
         "Madison County",
         1521
        ],
        [
         "065",
         "16065950500",
         false,
         "Madison County",
         2088
        ],
        [
         "067",
         "16067970100",
         false,
         "Minidoka County",
         345
        ],
        [
         "067",
         "16067970200",
         false,
         "Minidoka County",
         1092
        ],
        [
         "067",
         "16067970300",
         false,
         "Minidoka County",
         711
        ],
        [
         "067",
         "16067970400",
         false,
         "Minidoka County",
         694
        ],
        [
         "067",
         "16067970500",
         false,
         "Minidoka County",
         844
        ],
        [
         "069",
         "16069960200",
         false,
         "Nez Perce County",
         25
        ],
        [
         "069",
         "16069960400",
         false,
         "Nez Perce County",
         60
        ],
        [
         "069",
         "16069960500",
         false,
         "Nez Perce County",
         105
        ],
        [
         "069",
         "16069960600",
         false,
         "Nez Perce County",
         60
        ],
        [
         "069",
         "16069960900",
         false,
         "Nez Perce County",
         60
        ],
        [
         "069",
         "16069961000",
         false,
         "Nez Perce County",
         60
        ],
        [
         "071",
         "16071960100",
         false,
         "Oneida County",
         860
        ],
        [
         "073",
         "16073950101",
         false,
         "Owyhee County",
         293
        ],
        [
         "073",
         "16073950102",
         false,
         "Owyhee County",
         67
        ],
        [
         "073",
         "16073950200",
         false,
         "Owyhee County",
         327
        ],
        [
         "075",
         "16075960100",
         false,
         "Payette County",
         134
        ],
        [
         "075",
         "16075960200",
         false,
         "Payette County",
         233
        ],
        [
         "075",
         "16075960300",
         false,
         "Payette County",
         1403
        ],
        [
         "075",
         "16075960400",
         false,
         "Payette County",
         157
        ],
        [
         "077",
         "16077960100",
         false,
         "Power County",
         572
        ],
        [
         "077",
         "16077960200",
         false,
         "Power County",
         1460
        ],
        [
         "079",
         "16079960200",
         false,
         "Shoshone County",
         155
        ],
        [
         "079",
         "16079960300",
         false,
         "Shoshone County",
         126
        ],
        [
         "081",
         "16081960100",
         false,
         "Teton County",
         292
        ],
        [
         "083",
         "16083000200",
         false,
         "Twin Falls County",
         1292
        ],
        [
         "083",
         "16083000300",
         false,
         "Twin Falls County",
         420
        ],
        [
         "083",
         "16083000400",
         false,
         "Twin Falls County",
         135
        ],
        [
         "083",
         "16083000500",
         false,
         "Twin Falls County",
         1631
        ],
        [
         "083",
         "16083000600",
         false,
         "Twin Falls County",
         474
        ],
        [
         "083",
         "16083000700",
         false,
         "Twin Falls County",
         1763
        ],
        [
         "083",
         "16083000800",
         false,
         "Twin Falls County",
         542
        ],
        [
         "083",
         "16083000900",
         false,
         "Twin Falls County",
         1325
        ],
        [
         "083",
         "16083001000",
         false,
         "Twin Falls County",
         1088
        ],
        [
         "083",
         "16083001100",
         false,
         "Twin Falls County",
         88
        ],
        [
         "083",
         "16083001200",
         false,
         "Twin Falls County",
         576
        ],
        [
         "083",
         "16083001300",
         false,
         "Twin Falls County",
         1669
        ],
        [
         "083",
         "16083001400",
         false,
         "Twin Falls County",
         230
        ],
        [
         "083",
         "16083001500",
         false,
         "Twin Falls County",
         230
        ],
        [
         "085",
         "16085970100",
         false,
         "Valley County",
         62
        ],
        [
         "085",
         "16085970200",
         false,
         "Valley County",
         71
        ],
        [
         "087",
         "16087970100",
         false,
         "Washington County",
         322
        ],
        [
         "087",
         "16087970200",
         false,
         "Washington County",
         184
        ],
        [
         "087",
         "16087970300",
         false,
         "Washington County",
         231
        ],
        [
         "011",
         "18011810400",
         false,
         "Boone County",
         64
        ],
        [
         "057",
         "19057001000",
         false,
         "Des Moines County",
         88
        ],
        [
         "155",
         "20155001800",
         false,
         "Reno County",
         83
        ],
        [
         "185",
         "21185030601",
         false,
         "Oldham County",
         69
        ],
        [
         "015",
         "22015010806",
         false,
         "Bossier Parish",
         61
        ],
        [
         "031",
         "24031700823",
         false,
         "Montgomery County",
         54
        ],
        [
         "043",
         "26043950300",
         false,
         "Dickinson County",
         73
        ],
        [
         "049",
         "26049013002",
         false,
         "Genesee County",
         53
        ],
        [
         "065",
         "26065005001",
         false,
         "Ingham County",
         53
        ],
        [
         "161",
         "26161431000",
         false,
         "Washtenaw County",
         70
        ],
        [
         "145",
         "27145000601",
         false,
         "Stearns County",
         50
        ],
        [
         "209",
         "29209090601",
         false,
         "Stone County",
         76
        ],
        [
         "031",
         "30031000300",
         false,
         "Gallatin County",
         49
        ],
        [
         "031",
         "30031000900",
         false,
         "Gallatin County",
         55
        ],
        [
         "031",
         "30031001500",
         false,
         "Gallatin County",
         86
        ],
        [
         "041",
         "30041040300",
         false,
         "Hill County",
         55
        ],
        [
         "043",
         "30043962202",
         false,
         "Jefferson County",
         178
        ],
        [
         "057",
         "30057000200",
         false,
         "Madison County",
         65
        ],
        [
         "063",
         "30063000202",
         false,
         "Missoula County",
         68
        ],
        [
         "063",
         "30063001302",
         false,
         "Missoula County",
         66
        ],
        [
         "081",
         "30081000202",
         false,
         "Ravalli County",
         71
        ],
        [
         "111",
         "30111000702",
         false,
         "Yellowstone County",
         69
        ],
        [
         "055",
         "31055002300",
         false,
         "Douglas County",
         66
        ],
        [
         "003",
         "32003002808",
         false,
         "Clark County",
         68
        ],
        [
         "003",
         "32003003318",
         false,
         "Clark County",
         66
        ],
        [
         "003",
         "32003003629",
         false,
         "Clark County",
         111
        ],
        [
         "007",
         "32007950200",
         false,
         "Elko County",
         68
        ],
        [
         "007",
         "32007950701",
         false,
         "Elko County",
         73
        ],
        [
         "019",
         "32019960101",
         false,
         "Lyon County",
         73
        ],
        [
         "031",
         "32031002613",
         false,
         "Washoe County",
         61
        ],
        [
         "031",
         "32031003106",
         false,
         "Washoe County",
         73
        ],
        [
         "033",
         "32033970100",
         false,
         "White Pine County",
         63
        ],
        [
         "045",
         "35045000610",
         false,
         "San Juan County",
         63
        ],
        [
         "011",
         "36011040400",
         false,
         "Cayuga County",
         75
        ],
        [
         "061",
         "36061023000",
         false,
         "New York County",
         50
        ],
        [
         "017",
         "37017950300",
         false,
         "Bladen County",
         83
        ],
        [
         "101",
         "37101040203",
         false,
         "Johnston County",
         83
        ],
        [
         "183",
         "37183053107",
         false,
         "Wake County",
         83
        ],
        [
         "113",
         "39113050104",
         false,
         "Montgomery County",
         86
        ],
        [
         "113",
         "40113940002",
         false,
         "Osage County",
         71
        ],
        [
         "001",
         "41001950100",
         false,
         "Baker County",
         72
        ],
        [
         "001",
         "41001950500",
         false,
         "Baker County",
         41
        ],
        [
         "009",
         "41009970600",
         false,
         "Columbia County",
         71
        ],
        [
         "017",
         "41017000200",
         false,
         "Deschutes County",
         89
        ],
        [
         "023",
         "41023960200",
         false,
         "Grant County",
         74
        ],
        [
         "041",
         "41041950304",
         false,
         "Lincoln County",
         71
        ],
        [
         "045",
         "41045970300",
         false,
         "Malheur County",
         107
        ],
        [
         "045",
         "41045970500",
         false,
         "Malheur County",
         64
        ],
        [
         "045",
         "41045970600",
         false,
         "Malheur County",
         83
        ],
        [
         "051",
         "41051005100",
         false,
         "Multnomah County",
         162
        ],
        [
         "059",
         "41059950500",
         false,
         "Umatilla County",
         62
        ],
        [
         "067",
         "41067032603",
         false,
         "Washington County",
         75
        ],
        [
         "067",
         "41067033302",
         false,
         "Washington County",
         104
        ],
        [
         "013",
         "45013000503",
         false,
         "Beaufort County",
         83
        ],
        [
         "093",
         "47093006206",
         false,
         "Knox County",
         51
        ],
        [
         "125",
         "47125101400",
         false,
         "Montgomery County",
         80
        ],
        [
         "085",
         "48085031313",
         false,
         "Collin County",
         137
        ],
        [
         "113",
         "48113020400",
         false,
         "Dallas County",
         68
        ],
        [
         "201",
         "48201421700",
         false,
         "Harris County",
         65
        ],
        [
         "439",
         "48439113922",
         false,
         "Tarrant County",
         80
        ],
        [
         "453",
         "48453001826",
         false,
         "Travis County",
         77
        ],
        [
         "003",
         "49003960100",
         false,
         "Box Elder County",
         61
        ],
        [
         "003",
         "49003960300",
         false,
         "Box Elder County",
         134
        ],
        [
         "003",
         "49003960702",
         false,
         "Box Elder County",
         60
        ],
        [
         "003",
         "49003960801",
         false,
         "Box Elder County",
         66
        ],
        [
         "005",
         "49005000101",
         false,
         "Cache County",
         187
        ],
        [
         "005",
         "49005000201",
         false,
         "Cache County",
         76
        ],
        [
         "005",
         "49005000202",
         false,
         "Cache County",
         100
        ],
        [
         "005",
         "49005000401",
         false,
         "Cache County",
         71
        ],
        [
         "005",
         "49005000403",
         false,
         "Cache County",
         68
        ],
        [
         "005",
         "49005000501",
         false,
         "Cache County",
         68
        ],
        [
         "005",
         "49005000600",
         false,
         "Cache County",
         70
        ],
        [
         "005",
         "49005000701",
         false,
         "Cache County",
         142
        ],
        [
         "005",
         "49005000800",
         false,
         "Cache County",
         63
        ],
        [
         "005",
         "49005000900",
         false,
         "Cache County",
         68
        ],
        [
         "005",
         "49005001001",
         false,
         "Cache County",
         68
        ],
        [
         "005",
         "49005001002",
         false,
         "Cache County",
         140
        ],
        [
         "005",
         "49005001102",
         false,
         "Cache County",
         86
        ],
        [
         "005",
         "49005001401",
         false,
         "Cache County",
         78
        ],
        [
         "011",
         "49011125401",
         false,
         "Davis County",
         116
        ],
        [
         "011",
         "49011125403",
         false,
         "Davis County",
         131
        ],
        [
         "011",
         "49011125405",
         false,
         "Davis County",
         76
        ],
        [
         "011",
         "49011125801",
         false,
         "Davis County",
         68
        ],
        [
         "011",
         "49011125808",
         false,
         "Davis County",
         110
        ],
        [
         "011",
         "49011126101",
         false,
         "Davis County",
         77
        ],
        [
         "011",
         "49011126104",
         false,
         "Davis County",
         145
        ],
        [
         "011",
         "49011126105",
         false,
         "Davis County",
         138
        ],
        [
         "011",
         "49011126204",
         false,
         "Davis County",
         55
        ],
        [
         "011",
         "49011127003",
         false,
         "Davis County",
         59
        ],
        [
         "033",
         "49033950100",
         false,
         "Rich County",
         54
        ],
        [
         "035",
         "49035102702",
         false,
         "Salt Lake County",
         66
        ],
        [
         "035",
         "49035103400",
         false,
         "Salt Lake County",
         71
        ],
        [
         "035",
         "49035104800",
         false,
         "Salt Lake County",
         83
        ],
        [
         "035",
         "49035104900",
         false,
         "Salt Lake County",
         64
        ],
        [
         "035",
         "49035110600",
         false,
         "Salt Lake County",
         142
        ],
        [
         "035",
         "49035111903",
         false,
         "Salt Lake County",
         54
        ],
        [
         "035",
         "49035112201",
         false,
         "Salt Lake County",
         72
        ],
        [
         "035",
         "49035112302",
         false,
         "Salt Lake County",
         86
        ],
        [
         "035",
         "49035112609",
         false,
         "Salt Lake County",
         86
        ],
        [
         "035",
         "49035112805",
         false,
         "Salt Lake County",
         132
        ],
        [
         "035",
         "49035112810",
         false,
         "Salt Lake County",
         78
        ],
        [
         "035",
         "49035112820",
         false,
         "Salt Lake County",
         123
        ],
        [
         "035",
         "49035113011",
         false,
         "Salt Lake County",
         159
        ],
        [
         "035",
         "49035113105",
         false,
         "Salt Lake County",
         75
        ],
        [
         "035",
         "49035113107",
         false,
         "Salt Lake County",
         243
        ],
        [
         "035",
         "49035113305",
         false,
         "Salt Lake County",
         41
        ],
        [
         "035",
         "49035113306",
         false,
         "Salt Lake County",
         72
        ],
        [
         "035",
         "49035113412",
         false,
         "Salt Lake County",
         49
        ],
        [
         "035",
         "49035113514",
         false,
         "Salt Lake County",
         70
        ],
        [
         "035",
         "49035113525",
         false,
         "Salt Lake County",
         86
        ],
        [
         "035",
         "49035113526",
         false,
         "Salt Lake County",
         33
        ],
        [
         "035",
         "49035113527",
         false,
         "Salt Lake County",
         61
        ],
        [
         "035",
         "49035113803",
         false,
         "Salt Lake County",
         71
        ],
        [
         "043",
         "49043964102",
         false,
         "Summit County",
         54
        ],
        [
         "045",
         "49045130702",
         false,
         "Tooele County",
         124
        ],
        [
         "045",
         "49045130703",
         false,
         "Tooele County",
         68
        ],
        [
         "045",
         "49045130800",
         false,
         "Tooele County",
         63
        ],
        [
         "045",
         "49045131100",
         false,
         "Tooele County",
         67
        ],
        [
         "049",
         "49049000102",
         false,
         "Utah County",
         86
        ],
        [
         "049",
         "49049000105",
         false,
         "Utah County",
         116
        ],
        [
         "049",
         "49049000603",
         false,
         "Utah County",
         65
        ],
        [
         "049",
         "49049000703",
         false,
         "Utah County",
         63
        ],
        [
         "049",
         "49049000904",
         false,
         "Utah County",
         83
        ],
        [
         "049",
         "49049001402",
         false,
         "Utah County",
         125
        ],
        [
         "049",
         "49049001602",
         false,
         "Utah County",
         79
        ],
        [
         "049",
         "49049001603",
         false,
         "Utah County",
         70
        ],
        [
         "049",
         "49049001702",
         false,
         "Utah County",
         63
        ],
        [
         "049",
         "49049001803",
         false,
         "Utah County",
         62
        ],
        [
         "049",
         "49049001900",
         false,
         "Utah County",
         329
        ],
        [
         "049",
         "49049002206",
         false,
         "Utah County",
         60
        ],
        [
         "049",
         "49049002300",
         false,
         "Utah County",
         61
        ],
        [
         "049",
         "49049003104",
         false,
         "Utah County",
         86
        ],
        [
         "049",
         "49049003203",
         false,
         "Utah County",
         60
        ],
        [
         "049",
         "49049003204",
         false,
         "Utah County",
         65
        ],
        [
         "049",
         "49049003402",
         false,
         "Utah County",
         88
        ],
        [
         "049",
         "49049010109",
         false,
         "Utah County",
         69
        ],
        [
         "049",
         "49049010111",
         false,
         "Utah County",
         70
        ],
        [
         "049",
         "49049010112",
         false,
         "Utah County",
         175
        ],
        [
         "049",
         "49049010113",
         false,
         "Utah County",
         215
        ],
        [
         "049",
         "49049010212",
         false,
         "Utah County",
         66
        ],
        [
         "049",
         "49049010214",
         false,
         "Utah County",
         76
        ],
        [
         "049",
         "49049010219",
         false,
         "Utah County",
         72
        ],
        [
         "049",
         "49049010404",
         false,
         "Utah County",
         164
        ],
        [
         "049",
         "49049010405",
         false,
         "Utah County",
         185
        ],
        [
         "053",
         "49053270801",
         false,
         "Washington County",
         65
        ],
        [
         "053",
         "49053270802",
         false,
         "Washington County",
         71
        ],
        [
         "053",
         "49053270901",
         false,
         "Washington County",
         61
        ],
        [
         "053",
         "49053271600",
         false,
         "Washington County",
         55
        ],
        [
         "057",
         "49057200202",
         false,
         "Weber County",
         52
        ],
        [
         "057",
         "49057200800",
         false,
         "Weber County",
         72
        ],
        [
         "057",
         "49057210201",
         false,
         "Weber County",
         78
        ],
        [
         "057",
         "49057210302",
         false,
         "Weber County",
         64
        ],
        [
         "057",
         "49057210403",
         false,
         "Weber County",
         51
        ],
        [
         "057",
         "49057210504",
         false,
         "Weber County",
         66
        ],
        [
         "057",
         "49057210505",
         false,
         "Weber County",
         60
        ],
        [
         "057",
         "49057210506",
         false,
         "Weber County",
         73
        ],
        [
         "057",
         "49057210600",
         false,
         "Weber County",
         61
        ],
        [
         "057",
         "49057210704",
         false,
         "Weber County",
         61
        ],
        [
         "057",
         "49057211100",
         false,
         "Weber County",
         55
        ],
        [
         "003",
         "50003970200",
         false,
         "Bennington County",
         79
        ],
        [
         "059",
         "51059416200",
         false,
         "Fairfax County",
         52
        ],
        [
         "530",
         "51530930600",
         false,
         "Buena Vista city",
         55
        ],
        [
         "003",
         "53003960400",
         false,
         "Asotin County",
         60
        ],
        [
         "005",
         "53005010810",
         false,
         "Benton County",
         64
        ],
        [
         "005",
         "53005010811",
         false,
         "Benton County",
         98
        ],
        [
         "011",
         "53011040201",
         false,
         "Clark County",
         79
        ],
        [
         "021",
         "53021020605",
         false,
         "Franklin County",
         82
        ],
        [
         "029",
         "53029971500",
         false,
         "Island County",
         72
        ],
        [
         "033",
         "53033005301",
         false,
         "King County",
         67
        ],
        [
         "033",
         "53033007300",
         false,
         "King County",
         73
        ],
        [
         "033",
         "53033010702",
         false,
         "King County",
         66
        ],
        [
         "033",
         "53033026001",
         false,
         "King County",
         98
        ],
        [
         "033",
         "53033032601",
         false,
         "King County",
         104
        ],
        [
         "035",
         "53035092400",
         false,
         "Kitsap County",
         41
        ],
        [
         "051",
         "53051970300",
         false,
         "Pend Oreille County",
         98
        ],
        [
         "053",
         "53053062300",
         false,
         "Pierce County",
         98
        ],
        [
         "061",
         "53061052806",
         false,
         "Snohomish County",
         73
        ],
        [
         "063",
         "53063010503",
         false,
         "Spokane County",
         71
        ],
        [
         "063",
         "53063012701",
         false,
         "Spokane County",
         45
        ],
        [
         "063",
         "53063013202",
         false,
         "Spokane County",
         68
        ],
        [
         "075",
         "53075000100",
         false,
         "Whitman County",
         1337
        ],
        [
         "075",
         "53075000200",
         false,
         "Whitman County",
         109
        ],
        [
         "075",
         "53075000400",
         false,
         "Whitman County",
         45
        ],
        [
         "075",
         "53075000600",
         false,
         "Whitman County",
         45
        ],
        [
         "075",
         "53075000900",
         false,
         "Whitman County",
         25
        ],
        [
         "077",
         "53077000700",
         false,
         "Yakima County",
         116
        ],
        [
         "077",
         "53077002802",
         false,
         "Yakima County",
         59
        ],
        [
         "013",
         "56013940300",
         false,
         "Fremont County",
         83
        ],
        [
         "023",
         "56023978000",
         false,
         "Lincoln County",
         66
        ],
        [
         "023",
         "56023978100",
         false,
         "Lincoln County",
         78
        ],
        [
         "037",
         "56037970902",
         false,
         "Sweetwater County",
         55
        ],
        [
         "039",
         "56039967600",
         false,
         "Teton County",
         66
        ],
        [
         "039",
         "56039967702",
         false,
         "Teton County",
         70
        ],
        [
         "039",
         "56039967800",
         false,
         "Teton County",
         68
        ]
       ],
       "datasetInfos": [],
       "dbfsResultPath": null,
       "isJsonSchema": true,
       "metadata": {},
       "overflow": false,
       "plotOptions": {
        "customPlotOptions": {},
        "displayType": "table",
        "pivotAggregation": null,
        "pivotColumns": null,
        "xColumns": null,
        "yColumns": null
       },
       "removedWidgets": [],
       "schema": [
        {
         "metadata": "{}",
         "name": "county",
         "type": "\"string\""
        },
        {
         "metadata": "{}",
         "name": "tractcode",
         "type": "\"string\""
        },
        {
         "metadata": "{}",
         "name": "HasTemple",
         "type": "\"boolean\""
        },
        {
         "metadata": "{}",
         "name": "cnamelong",
         "type": "\"string\""
        },
        {
         "metadata": "{}",
         "name": "total_members",
         "type": "\"long\""
        }
       ],
       "type": "table"
      }
     },
     "output_type": "display_data"
    }
   ],
   "source": [
    "display(tracttotal)"
   ]
  },
  {
   "cell_type": "code",
   "execution_count": 0,
   "metadata": {
    "application/vnd.databricks.v1+cell": {
     "cellMetadata": {
      "byteLimit": 2048000,
      "rowLimit": 10000
     },
     "inputWidgets": {},
     "nuid": "22136274-e88d-4596-bde9-1d3a349948c2",
     "showTitle": false,
     "title": ""
    }
   },
   "outputs": [],
   "source": [
    "locations = spark.sql(\"SELECT tract.county, tract.tractcode, tract.HasTemple, tract.cnamelong, tract.total_members, tract_table.lat, tract_table.long\\\n",
    "        FROM default.tract\\\n",
    "        INNER JOIN safegraph.tract_table ON tract.tractcode=tract_table.tractcode\")"
   ]
  },
  {
   "cell_type": "code",
   "execution_count": 0,
   "metadata": {
    "application/vnd.databricks.v1+cell": {
     "cellMetadata": {
      "byteLimit": 2048000,
      "rowLimit": 10000
     },
     "inputWidgets": {},
     "nuid": "22737147-78dc-453c-82e3-6c294f90a016",
     "showTitle": false,
     "title": ""
    }
   },
   "outputs": [
    {
     "output_type": "display_data",
     "data": {
      "text/html": [
       "<style scoped>\n",
       "  .table-result-container {\n",
       "    max-height: 300px;\n",
       "    overflow: auto;\n",
       "  }\n",
       "  table, th, td {\n",
       "    border: 1px solid black;\n",
       "    border-collapse: collapse;\n",
       "  }\n",
       "  th, td {\n",
       "    padding: 5px;\n",
       "  }\n",
       "  th {\n",
       "    text-align: left;\n",
       "  }\n",
       "</style><div class='table-result-container'><table class='table-result'><thead style='background-color: white'><tr><th>sum(total_members)</th></tr></thead><tbody><tr><td>219420</td></tr></tbody></table></div>"
      ]
     },
     "metadata": {
      "application/vnd.databricks.v1+output": {
       "addedWidgets": {},
       "aggData": [],
       "aggError": "",
       "aggOverflow": false,
       "aggSchema": [],
       "aggSeriesLimitReached": false,
       "aggType": "",
       "arguments": {},
       "columnCustomDisplayInfos": {},
       "data": [
        [
         219420
        ]
       ],
       "datasetInfos": [],
       "dbfsResultPath": null,
       "isJsonSchema": true,
       "metadata": {},
       "overflow": false,
       "plotOptions": {
        "customPlotOptions": {},
        "displayType": "table",
        "pivotAggregation": null,
        "pivotColumns": null,
        "xColumns": null,
        "yColumns": null
       },
       "removedWidgets": [],
       "schema": [
        {
         "metadata": "{}",
         "name": "sum(total_members)",
         "type": "\"long\""
        }
       ],
       "type": "table"
      }
     },
     "output_type": "display_data"
    },
    {
     "output_type": "display_data",
     "data": {
      "text/html": [
       "<style scoped>\n",
       "  .table-result-container {\n",
       "    max-height: 300px;\n",
       "    overflow: auto;\n",
       "  }\n",
       "  table, th, td {\n",
       "    border: 1px solid black;\n",
       "    border-collapse: collapse;\n",
       "  }\n",
       "  th, td {\n",
       "    padding: 5px;\n",
       "  }\n",
       "  th {\n",
       "    text-align: left;\n",
       "  }\n",
       "</style><div class='table-result-container'><table class='table-result'><thead style='background-color: white'><tr><th>avg(total_members)</th></tr></thead><tbody><tr><td>460.96638655462186</td></tr></tbody></table></div>"
      ]
     },
     "metadata": {
      "application/vnd.databricks.v1+output": {
       "addedWidgets": {},
       "aggData": [],
       "aggError": "",
       "aggOverflow": false,
       "aggSchema": [],
       "aggSeriesLimitReached": false,
       "aggType": "",
       "arguments": {},
       "columnCustomDisplayInfos": {},
       "data": [
        [
         460.96638655462186
        ]
       ],
       "datasetInfos": [],
       "dbfsResultPath": null,
       "isJsonSchema": true,
       "metadata": {},
       "overflow": false,
       "plotOptions": {
        "customPlotOptions": {},
        "displayType": "table",
        "pivotAggregation": null,
        "pivotColumns": null,
        "xColumns": null,
        "yColumns": null
       },
       "removedWidgets": [],
       "schema": [
        {
         "metadata": "{}",
         "name": "avg(total_members)",
         "type": "\"double\""
        }
       ],
       "type": "table"
      }
     },
     "output_type": "display_data"
    }
   ],
   "source": [
    "display(tracttotal.agg(sum(\"total_members\")))\n",
    "display(tracttotal.agg(avg(\"total_members\")))"
   ]
  },
  {
   "cell_type": "code",
   "execution_count": 0,
   "metadata": {
    "application/vnd.databricks.v1+cell": {
     "cellMetadata": {
      "byteLimit": 2048000,
      "rowLimit": 10000
     },
     "inputWidgets": {},
     "nuid": "e59d4f01-ad4f-4277-a9dd-04b362b43523",
     "showTitle": false,
     "title": ""
    }
   },
   "outputs": [
    {
     "output_type": "execute_result",
     "data": {
      "text/plain": [
       "[Row(county='001', tractcode='16001000201', HasTemple=False, cnamelong='Ada County', total_members=104, lat=43.6314866, long=-116.1710011),\n",
       " Row(county='001', tractcode='16001000202', HasTemple=False, cnamelong='Ada County', total_members=518, lat=43.6751115, long=-116.2170641),\n",
       " Row(county='001', tractcode='16001000302', HasTemple=False, cnamelong='Ada County', total_members=61, lat=43.6518985, long=-116.2435264),\n",
       " Row(county='001', tractcode='16001000303', HasTemple=False, cnamelong='Ada County', total_members=148, lat=43.6589164, long=-116.2692899),\n",
       " Row(county='001', tractcode='16001000304', HasTemple=False, cnamelong='Ada County', total_members=370, lat=43.6701777, long=-116.2665359),\n",
       " Row(county='001', tractcode='16001000400', HasTemple=False, cnamelong='Ada County', total_members=141, lat=43.6356429, long=-116.2337781),\n",
       " Row(county='001', tractcode='16001000500', HasTemple=False, cnamelong='Ada County', total_members=71, lat=43.6408364, long=-116.2230377),\n",
       " Row(county='001', tractcode='16001000600', HasTemple=False, cnamelong='Ada County', total_members=130, lat=43.6306586, long=-116.2039662),\n",
       " Row(county='001', tractcode='16001000701', HasTemple=False, cnamelong='Ada County', total_members=82, lat=43.6066784, long=-116.180455),\n",
       " Row(county='001', tractcode='16001000702', HasTemple=False, cnamelong='Ada County', total_members=135, lat=43.6002704, long=-116.135071),\n",
       " Row(county='001', tractcode='16001000802', HasTemple=False, cnamelong='Ada County', total_members=384, lat=43.5784766, long=-116.1849256),\n",
       " Row(county='001', tractcode='16001000803', HasTemple=False, cnamelong='Ada County', total_members=315, lat=43.5698099, long=-116.1617483),\n",
       " Row(county='001', tractcode='16001000804', HasTemple=False, cnamelong='Ada County', total_members=150, lat=43.5914649, long=-116.1784472),\n",
       " Row(county='001', tractcode='16001000900', HasTemple=False, cnamelong='Ada County', total_members=1053, lat=43.5954202, long=-116.2003618),\n",
       " Row(county='001', tractcode='16001001000', HasTemple=False, cnamelong='Ada County', total_members=364, lat=43.6085414, long=-116.2278188)]"
      ]
     },
     "execution_count": 24,
     "metadata": {},
     "output_type": "execute_result"
    }
   ],
   "source": [
    "locations.head(15)"
   ]
  },
  {
   "cell_type": "code",
   "execution_count": 0,
   "metadata": {
    "application/vnd.databricks.v1+cell": {
     "cellMetadata": {
      "byteLimit": 2048000,
      "rowLimit": 10000
     },
     "inputWidgets": {},
     "nuid": "275c2dad-c643-49b0-a9fd-110e8b931e1a",
     "showTitle": false,
     "title": ""
    }
   },
   "outputs": [
    {
     "output_type": "stream",
     "name": "stdout",
     "output_type": "stream",
     "text": [
      "\u001B[43mNote: you may need to restart the kernel using dbutils.library.restartPython() to use updated packages.\u001B[0m\nCollecting tabulate\n  Downloading tabulate-0.9.0-py3-none-any.whl (35 kB)\nInstalling collected packages: tabulate\nSuccessfully installed tabulate-0.9.0\n\u001B[43mNote: you may need to restart the kernel using dbutils.library.restartPython() to use updated packages.\u001B[0m\n"
     ]
    }
   ],
   "source": [
    "!pip install tabulate"
   ]
  },
  {
   "cell_type": "code",
   "execution_count": 0,
   "metadata": {
    "application/vnd.databricks.v1+cell": {
     "cellMetadata": {
      "byteLimit": 2048000,
      "rowLimit": 10000
     },
     "inputWidgets": {},
     "nuid": "ac050766-df23-420e-a931-672bb82beaa1",
     "showTitle": false,
     "title": ""
    }
   },
   "outputs": [
    {
     "output_type": "stream",
     "name": "stdout",
     "output_type": "stream",
     "text": [
      "|    |   county |   tractcode | HasTemple   | cnamelong         |   total_members |\n|---:|---------:|------------:|:------------|:------------------|----------------:|\n|  0 |      039 | 56039967800 | False       | Teton County      |              68 |\n|  1 |      039 | 56039967702 | False       | Teton County      |              70 |\n|  2 |      039 | 56039967600 | False       | Teton County      |              66 |\n|  3 |      037 | 56037970902 | False       | Sweetwater County |              55 |\n|  4 |      023 | 56023978100 | False       | Lincoln County    |              78 |\n"
     ]
    }
   ],
   "source": [
    "print(tracttotal.sort(col(\"tractcode\").desc()).toPandas().head().to_markdown())"
   ]
  },
  {
   "cell_type": "code",
   "execution_count": 0,
   "metadata": {
    "application/vnd.databricks.v1+cell": {
     "cellMetadata": {
      "byteLimit": 2048000,
      "rowLimit": 10000
     },
     "inputWidgets": {},
     "nuid": "204e3618-1e2c-4339-b0f4-421fbefe75d5",
     "showTitle": false,
     "title": ""
    }
   },
   "outputs": [],
   "source": [
    "locations = locations.toPandas()"
   ]
  },
  {
   "cell_type": "code",
   "execution_count": 0,
   "metadata": {
    "application/vnd.databricks.v1+cell": {
     "cellMetadata": {
      "byteLimit": 2048000,
      "rowLimit": 10000
     },
     "inputWidgets": {},
     "nuid": "7d98709e-7677-47b3-88cf-9655eb642912",
     "showTitle": false,
     "title": ""
    }
   },
   "outputs": [
    {
     "output_type": "display_data",
     "data": {
      "text/html": [
       "<html>\n",
       "<head><meta charset=\"utf-8\" /></head>\n",
       "<body>\n",
       "    <div>            <script src=\"https://cdnjs.cloudflare.com/ajax/libs/mathjax/2.7.5/MathJax.js?config=TeX-AMS-MML_SVG\"></script><script type=\"text/javascript\">if (window.MathJax && window.MathJax.Hub && window.MathJax.Hub.Config) {window.MathJax.Hub.Config({SVG: {font: \"STIX-Web\"}});}</script>                <script type=\"text/javascript\">window.PlotlyConfig = {MathJaxConfig: 'local'};</script>\n",
       "        <script src=\"https://cdn.plot.ly/plotly-2.12.1.min.js\"></script>                <div id=\"567ca2b9-4c1d-4ffa-942f-be9722bd8170\" class=\"plotly-graph-div\" style=\"height:100%; width:100%;\"></div>            <script type=\"text/javascript\">                                    window.PLOTLYENV=window.PLOTLYENV || {};                                    if (document.getElementById(\"567ca2b9-4c1d-4ffa-942f-be9722bd8170\")) {                    Plotly.newPlot(                        \"567ca2b9-4c1d-4ffa-942f-be9722bd8170\",                        [{\"lat\":[43.6314866,43.6751115,43.6518985,43.6589164,43.6701777,43.6356429,43.6408364,43.6306586,43.6066784,43.6002704,43.5784766,43.5698099,43.5914649,43.5954202,43.6085414,43.6386609,43.6331606,43.6200302,43.5978121,43.595798,43.5780838,43.5831863,43.5787667,43.5924217,43.6065277,43.5470478,43.5670193,43.5536497,43.5857798,43.5857812,43.6180124,43.6131684,43.6268198,43.6085965,43.6458911,43.6451494,43.6684262,43.6468541,43.662471,43.7604582,43.6982932,43.6798472,43.7132862,43.6916155,43.5689755,43.6067108,43.606846,43.6550333,43.635845,43.631248,43.606967,43.6523677,43.5086156,43.5358924,43.3343356,43.3304526,43.5536223,42.8348611,42.9271676,42.924898,42.9550957,42.8426273,42.8607225,42.8535038,42.8728779,42.8810541,42.9057037,42.8874945,42.9028393,42.8841942,42.8930969,42.9015621,42.8710517,42.8634894,42.8468295,42.81367,42.5120132,42.9798188,42.2556968,42.309561,43.1431423,43.3771338,43.1910953,43.3253291,43.212685,43.1990003,43.2497515,43.1308512,43.2607103,43.6283763,43.9872749,48.418726,48.3497985,48.0850421,43.3668297,43.6049294,43.5350178,43.5369101,43.5098121,43.4857894,43.4757244,43.4474945,43.5072027,43.4893117,43.4750927,43.5117872,43.4909213,43.4777833,43.4743546,43.4911821,43.5067215,43.5159858,43.4899541,43.4490002,43.5311351,43.685101,43.5027333,43.5794414,43.5734632,43.5841641,43.5652174,43.5542092,43.5543823,43.5542015,43.5794348,43.5838459,43.5726361,43.5337916,43.5538843,43.61524,43.6152472,43.651708,43.6712332,43.6630795,43.6581278,43.6405726,43.6439145,43.704473,43.7517569,43.7522592,43.6650836,43.4627885,43.4811671,42.6943684,42.8046858,42.290077,42.5409242,42.4805097,42.5448665,42.5098751,42.2248436,44.273351,43.3771895,43.0909062,43.1123408,42.2224181,42.0609834,44.2826635,44.0195164,43.9471477,44.193059,43.8513155,43.8774222,43.0325366,42.7646359,45.3283441,43.8267161,43.7063095,43.6734583,43.6652693,42.7935032,42.7387372,42.7199836,42.6713509,47.9292772,47.8900432,47.7960911,47.8289064,47.7252753,47.7287605,47.7120124,47.7056992,47.7535511,47.7098477,47.7003106,47.7565195,47.7728638,47.732425,47.7116972,47.69349,47.6724058,47.6803361,47.6771129,47.774819,47.6120397,47.5832297,46.771348,46.7834673,46.9509593,46.8078675,45.1374861,45.3177245,42.9861805,43.8652588,43.8314246,43.8208035,43.8070765,43.7747647,43.7643066,42.6697036,42.5605434,42.9389027,42.6141552,42.5924488,46.5837391,46.4080176,46.3956554,46.4002308,46.376303,46.3808435,42.1838954,43.5924261,43.5247849,42.5728508,44.0734569,44.0532095,43.9043427,43.907366,42.6103246,42.8426024,47.3343792,47.5065367,43.7609939,42.5703168,42.5747153,42.5982883,42.575988,42.510256,42.6003948,42.5775151,42.5839278,42.5485108,42.5568512,42.5437223,42.5257921,42.4686828,42.2940204,44.7163104,45.1027556,44.5002102,44.2364303,44.4147367],\"locationmode\":\"USA-states\",\"lon\":[-116.1710011,-116.2170641,-116.2435264,-116.2692899,-116.2665359,-116.2337781,-116.2230377,-116.2039662,-116.180455,-116.135071,-116.1849256,-116.1617483,-116.1784472,-116.2003618,-116.2278188,-116.2566991,-116.2662381,-116.2623701,-116.2442242,-116.2160586,-116.2056868,-116.222969,-116.2352971,-116.2678342,-116.25758,-116.2202527,-116.3031147,-116.3132875,-116.3240049,-116.2955596,-116.2856014,-116.327211,-116.296731,-116.3091775,-116.2926808,-116.3036897,-116.3184456,-116.3270663,-116.1323165,-116.397123,-116.3838048,-116.2973691,-116.3363018,-116.3293158,-116.4078385,-116.3673615,-116.4015697,-116.3691111,-116.3984449,-116.3724496,-116.4480551,-116.4654874,-116.3984578,-116.3083842,-116.2964654,-116.0656972,-116.1392259,-112.2876231,-112.4583146,-112.5014119,-112.4890931,-112.38286,-112.4266414,-112.4332669,-112.442767,-112.4345072,-112.4203762,-112.4191059,-112.4463328,-112.44646,-112.4591162,-112.4817736,-112.4622797,-112.4728415,-112.4459889,-112.4238133,-112.1218261,-112.3562628,-111.2020074,-111.4817532,-112.2179313,-112.1199321,-111.872456,-112.8148524,-112.2491289,-112.3625574,-112.3606392,-112.5422089,-113.738161,-113.9972708,-115.7151105,-116.3202402,-116.6406805,-116.6727716,-111.4375628,-111.933795,-112.0161992,-111.9397541,-111.9642445,-111.9419441,-111.9663568,-111.9666332,-111.9906446,-111.99424,-111.9952904,-112.0197444,-112.0149231,-112.0114821,-112.0415685,-112.0299835,-112.0449867,-112.075757,-112.0805084,-112.0793167,-112.3102143,-113.1776308,-114.7720663,-116.5638761,-116.5654,-116.5398318,-116.5641212,-116.5428436,-116.5827585,-116.5628049,-116.601649,-116.5838859,-116.4919901,-116.5343892,-116.6173382,-116.6593681,-116.6078682,-116.5693801,-116.6667062,-116.6745723,-116.684917,-116.6793138,-116.7467255,-116.610601,-116.6114333,-116.7837896,-116.901818,-116.6679919,-116.5554763,-111.8511424,-111.3876998,-113.3791677,-113.6227673,-113.7526916,-113.7682293,-113.8442049,-114.0154675,-114.2522675,-115.7714922,-115.5673089,-115.8388434,-111.8467781,-111.7147361,-111.5056491,-111.3205108,-111.702512,-116.3452329,-116.6098142,-116.4623912,-114.8256001,-114.7569876,-116.1296357,-112.3662009,-112.018473,-111.9488622,-111.8186466,-114.5121217,-114.5008016,-114.5221405,-114.4385973,-116.907736,-116.661785,-116.9956047,-116.9196934,-116.964363,-116.9210756,-116.8833897,-116.9179618,-116.8386435,-116.8333168,-116.7999331,-116.7903156,-116.7765368,-116.7724417,-116.7757877,-116.7755494,-116.7844401,-116.768597,-116.6949184,-116.633498,-116.5566865,-116.9631466,-117.0104176,-116.9185102,-116.79885,-116.5562736,-114.4211687,-113.7554099,-114.1538989,-111.8477004,-111.7992716,-111.7866566,-111.8023991,-111.5528132,-111.8294336,-113.8431454,-113.804794,-113.5854159,-113.6997879,-113.6535632,-116.5850602,-117.0272919,-117.0170977,-116.9921895,-116.9665402,-116.9413724,-112.5204486,-116.9602208,-116.8481343,-116.1896903,-116.6882446,-116.9219547,-116.9026323,-116.7936121,-112.7124468,-113.0342691,-115.9001454,-116.1096399,-111.2117653,-114.4407275,-114.8122296,-114.7752696,-114.6211178,-114.489406,-114.5197151,-114.4700202,-114.422892,-114.4408119,-114.4693463,-114.4882139,-114.341643,-114.1835036,-114.7017551,-115.4687788,-115.8389726,-116.6963167,-116.7938106,-117.0715447],\"marker\":{\"color\":[104,518,61,148,370,141,71,130,82,135,384,315,150,1053,364,197,344,635,510,193,64,784,647,370,578,520,897,373,409,1197,663,435,436,200,370,556,62,700,647,1760,1182,780,521,767,5967,418,765,2996,467,748,603,1161,2411,1629,206,774,504,1413,1781,1897,211,582,445,488,210,625,3046,492,190,270,393,460,217,301,324,970,450,209,876,309,109,2691,1093,830,1477,2105,1714,1136,305,347,88,414,104,72,2981,5433,881,1799,2281,3836,945,1376,1164,1538,344,670,700,716,913,644,686,1474,1291,2426,239,430,77,89,81,460,150,113,322,83,242,329,71,2884,1565,501,628,1873,103,47,257,128,126,274,510,72,162,135,510,1406,510,696,2028,2715,592,2476,1393,57,454,120,450,1765,2149,634,1348,5832,587,885,326,603,433,192,209,1500,2392,2851,328,413,138,1005,68,731,162,503,68,357,98,64,8251,246,98,71,284,233,147,755,98,199,68,333,83,196,198,563,25,45,276,117,154,1996,1204,1746,5525,1521,2088,345,1092,711,694,844,25,60,105,60,60,60,860,293,67,327,134,233,1403,157,572,1460,155,126,292,1292,420,135,1631,474,1763,542,1325,1088,88,576,1669,230,230,62,71,322,184,231]},\"mode\":\"markers\",\"text\":[104.0,518.0,61.0,148.0,370.0,141.0,71.0,130.0,82.0,135.0,384.0,315.0,150.0,1053.0,364.0,197.0,344.0,635.0,510.0,193.0,64.0,784.0,647.0,370.0,578.0,520.0,897.0,373.0,409.0,1197.0,663.0,435.0,436.0,200.0,370.0,556.0,62.0,700.0,647.0,1760.0,1182.0,780.0,521.0,767.0,5967.0,418.0,765.0,2996.0,467.0,748.0,603.0,1161.0,2411.0,1629.0,206.0,774.0,504.0,1413.0,1781.0,1897.0,211.0,582.0,445.0,488.0,210.0,625.0,3046.0,492.0,190.0,270.0,393.0,460.0,217.0,301.0,324.0,970.0,450.0,209.0,876.0,309.0,109.0,2691.0,1093.0,830.0,1477.0,2105.0,1714.0,1136.0,305.0,347.0,88.0,414.0,104.0,72.0,2981.0,5433.0,881.0,1799.0,2281.0,3836.0,945.0,1376.0,1164.0,1538.0,344.0,670.0,700.0,716.0,913.0,644.0,686.0,1474.0,1291.0,2426.0,239.0,430.0,77.0,89.0,81.0,460.0,150.0,113.0,322.0,83.0,242.0,329.0,71.0,2884.0,1565.0,501.0,628.0,1873.0,103.0,47.0,257.0,128.0,126.0,274.0,510.0,72.0,162.0,135.0,510.0,1406.0,510.0,696.0,2028.0,2715.0,592.0,2476.0,1393.0,57.0,454.0,120.0,450.0,1765.0,2149.0,634.0,1348.0,5832.0,587.0,885.0,326.0,603.0,433.0,192.0,209.0,1500.0,2392.0,2851.0,328.0,413.0,138.0,1005.0,68.0,731.0,162.0,503.0,68.0,357.0,98.0,64.0,8251.0,246.0,98.0,71.0,284.0,233.0,147.0,755.0,98.0,199.0,68.0,333.0,83.0,196.0,198.0,563.0,25.0,45.0,276.0,117.0,154.0,1996.0,1204.0,1746.0,5525.0,1521.0,2088.0,345.0,1092.0,711.0,694.0,844.0,25.0,60.0,105.0,60.0,60.0,60.0,860.0,293.0,67.0,327.0,134.0,233.0,1403.0,157.0,572.0,1460.0,155.0,126.0,292.0,1292.0,420.0,135.0,1631.0,474.0,1763.0,542.0,1325.0,1088.0,88.0,576.0,1669.0,230.0,230.0,62.0,71.0,322.0,184.0,231.0],\"type\":\"scattergeo\"}],                        {\"template\":{\"data\":{\"histogram2dcontour\":[{\"type\":\"histogram2dcontour\",\"colorbar\":{\"outlinewidth\":0,\"ticks\":\"\"},\"colorscale\":[[0.0,\"#0d0887\"],[0.1111111111111111,\"#46039f\"],[0.2222222222222222,\"#7201a8\"],[0.3333333333333333,\"#9c179e\"],[0.4444444444444444,\"#bd3786\"],[0.5555555555555556,\"#d8576b\"],[0.6666666666666666,\"#ed7953\"],[0.7777777777777778,\"#fb9f3a\"],[0.8888888888888888,\"#fdca26\"],[1.0,\"#f0f921\"]]}],\"choropleth\":[{\"type\":\"choropleth\",\"colorbar\":{\"outlinewidth\":0,\"ticks\":\"\"}}],\"histogram2d\":[{\"type\":\"histogram2d\",\"colorbar\":{\"outlinewidth\":0,\"ticks\":\"\"},\"colorscale\":[[0.0,\"#0d0887\"],[0.1111111111111111,\"#46039f\"],[0.2222222222222222,\"#7201a8\"],[0.3333333333333333,\"#9c179e\"],[0.4444444444444444,\"#bd3786\"],[0.5555555555555556,\"#d8576b\"],[0.6666666666666666,\"#ed7953\"],[0.7777777777777778,\"#fb9f3a\"],[0.8888888888888888,\"#fdca26\"],[1.0,\"#f0f921\"]]}],\"heatmap\":[{\"type\":\"heatmap\",\"colorbar\":{\"outlinewidth\":0,\"ticks\":\"\"},\"colorscale\":[[0.0,\"#0d0887\"],[0.1111111111111111,\"#46039f\"],[0.2222222222222222,\"#7201a8\"],[0.3333333333333333,\"#9c179e\"],[0.4444444444444444,\"#bd3786\"],[0.5555555555555556,\"#d8576b\"],[0.6666666666666666,\"#ed7953\"],[0.7777777777777778,\"#fb9f3a\"],[0.8888888888888888,\"#fdca26\"],[1.0,\"#f0f921\"]]}],\"heatmapgl\":[{\"type\":\"heatmapgl\",\"colorbar\":{\"outlinewidth\":0,\"ticks\":\"\"},\"colorscale\":[[0.0,\"#0d0887\"],[0.1111111111111111,\"#46039f\"],[0.2222222222222222,\"#7201a8\"],[0.3333333333333333,\"#9c179e\"],[0.4444444444444444,\"#bd3786\"],[0.5555555555555556,\"#d8576b\"],[0.6666666666666666,\"#ed7953\"],[0.7777777777777778,\"#fb9f3a\"],[0.8888888888888888,\"#fdca26\"],[1.0,\"#f0f921\"]]}],\"contourcarpet\":[{\"type\":\"contourcarpet\",\"colorbar\":{\"outlinewidth\":0,\"ticks\":\"\"}}],\"contour\":[{\"type\":\"contour\",\"colorbar\":{\"outlinewidth\":0,\"ticks\":\"\"},\"colorscale\":[[0.0,\"#0d0887\"],[0.1111111111111111,\"#46039f\"],[0.2222222222222222,\"#7201a8\"],[0.3333333333333333,\"#9c179e\"],[0.4444444444444444,\"#bd3786\"],[0.5555555555555556,\"#d8576b\"],[0.6666666666666666,\"#ed7953\"],[0.7777777777777778,\"#fb9f3a\"],[0.8888888888888888,\"#fdca26\"],[1.0,\"#f0f921\"]]}],\"surface\":[{\"type\":\"surface\",\"colorbar\":{\"outlinewidth\":0,\"ticks\":\"\"},\"colorscale\":[[0.0,\"#0d0887\"],[0.1111111111111111,\"#46039f\"],[0.2222222222222222,\"#7201a8\"],[0.3333333333333333,\"#9c179e\"],[0.4444444444444444,\"#bd3786\"],[0.5555555555555556,\"#d8576b\"],[0.6666666666666666,\"#ed7953\"],[0.7777777777777778,\"#fb9f3a\"],[0.8888888888888888,\"#fdca26\"],[1.0,\"#f0f921\"]]}],\"mesh3d\":[{\"type\":\"mesh3d\",\"colorbar\":{\"outlinewidth\":0,\"ticks\":\"\"}}],\"scatter\":[{\"fillpattern\":{\"fillmode\":\"overlay\",\"size\":10,\"solidity\":0.2},\"type\":\"scatter\"}],\"parcoords\":[{\"type\":\"parcoords\",\"line\":{\"colorbar\":{\"outlinewidth\":0,\"ticks\":\"\"}}}],\"scatterpolargl\":[{\"type\":\"scatterpolargl\",\"marker\":{\"colorbar\":{\"outlinewidth\":0,\"ticks\":\"\"}}}],\"bar\":[{\"error_x\":{\"color\":\"#2a3f5f\"},\"error_y\":{\"color\":\"#2a3f5f\"},\"marker\":{\"line\":{\"color\":\"#E5ECF6\",\"width\":0.5},\"pattern\":{\"fillmode\":\"overlay\",\"size\":10,\"solidity\":0.2}},\"type\":\"bar\"}],\"scattergeo\":[{\"type\":\"scattergeo\",\"marker\":{\"colorbar\":{\"outlinewidth\":0,\"ticks\":\"\"}}}],\"scatterpolar\":[{\"type\":\"scatterpolar\",\"marker\":{\"colorbar\":{\"outlinewidth\":0,\"ticks\":\"\"}}}],\"histogram\":[{\"marker\":{\"pattern\":{\"fillmode\":\"overlay\",\"size\":10,\"solidity\":0.2}},\"type\":\"histogram\"}],\"scattergl\":[{\"type\":\"scattergl\",\"marker\":{\"colorbar\":{\"outlinewidth\":0,\"ticks\":\"\"}}}],\"scatter3d\":[{\"type\":\"scatter3d\",\"line\":{\"colorbar\":{\"outlinewidth\":0,\"ticks\":\"\"}},\"marker\":{\"colorbar\":{\"outlinewidth\":0,\"ticks\":\"\"}}}],\"scattermapbox\":[{\"type\":\"scattermapbox\",\"marker\":{\"colorbar\":{\"outlinewidth\":0,\"ticks\":\"\"}}}],\"scatterternary\":[{\"type\":\"scatterternary\",\"marker\":{\"colorbar\":{\"outlinewidth\":0,\"ticks\":\"\"}}}],\"scattercarpet\":[{\"type\":\"scattercarpet\",\"marker\":{\"colorbar\":{\"outlinewidth\":0,\"ticks\":\"\"}}}],\"carpet\":[{\"aaxis\":{\"endlinecolor\":\"#2a3f5f\",\"gridcolor\":\"white\",\"linecolor\":\"white\",\"minorgridcolor\":\"white\",\"startlinecolor\":\"#2a3f5f\"},\"baxis\":{\"endlinecolor\":\"#2a3f5f\",\"gridcolor\":\"white\",\"linecolor\":\"white\",\"minorgridcolor\":\"white\",\"startlinecolor\":\"#2a3f5f\"},\"type\":\"carpet\"}],\"table\":[{\"cells\":{\"fill\":{\"color\":\"#EBF0F8\"},\"line\":{\"color\":\"white\"}},\"header\":{\"fill\":{\"color\":\"#C8D4E3\"},\"line\":{\"color\":\"white\"}},\"type\":\"table\"}],\"barpolar\":[{\"marker\":{\"line\":{\"color\":\"#E5ECF6\",\"width\":0.5},\"pattern\":{\"fillmode\":\"overlay\",\"size\":10,\"solidity\":0.2}},\"type\":\"barpolar\"}],\"pie\":[{\"automargin\":true,\"type\":\"pie\"}]},\"layout\":{\"autotypenumbers\":\"strict\",\"colorway\":[\"#636efa\",\"#EF553B\",\"#00cc96\",\"#ab63fa\",\"#FFA15A\",\"#19d3f3\",\"#FF6692\",\"#B6E880\",\"#FF97FF\",\"#FECB52\"],\"font\":{\"color\":\"#2a3f5f\"},\"hovermode\":\"closest\",\"hoverlabel\":{\"align\":\"left\"},\"paper_bgcolor\":\"white\",\"plot_bgcolor\":\"#E5ECF6\",\"polar\":{\"bgcolor\":\"#E5ECF6\",\"angularaxis\":{\"gridcolor\":\"white\",\"linecolor\":\"white\",\"ticks\":\"\"},\"radialaxis\":{\"gridcolor\":\"white\",\"linecolor\":\"white\",\"ticks\":\"\"}},\"ternary\":{\"bgcolor\":\"#E5ECF6\",\"aaxis\":{\"gridcolor\":\"white\",\"linecolor\":\"white\",\"ticks\":\"\"},\"baxis\":{\"gridcolor\":\"white\",\"linecolor\":\"white\",\"ticks\":\"\"},\"caxis\":{\"gridcolor\":\"white\",\"linecolor\":\"white\",\"ticks\":\"\"}},\"coloraxis\":{\"colorbar\":{\"outlinewidth\":0,\"ticks\":\"\"}},\"colorscale\":{\"sequential\":[[0.0,\"#0d0887\"],[0.1111111111111111,\"#46039f\"],[0.2222222222222222,\"#7201a8\"],[0.3333333333333333,\"#9c179e\"],[0.4444444444444444,\"#bd3786\"],[0.5555555555555556,\"#d8576b\"],[0.6666666666666666,\"#ed7953\"],[0.7777777777777778,\"#fb9f3a\"],[0.8888888888888888,\"#fdca26\"],[1.0,\"#f0f921\"]],\"sequentialminus\":[[0.0,\"#0d0887\"],[0.1111111111111111,\"#46039f\"],[0.2222222222222222,\"#7201a8\"],[0.3333333333333333,\"#9c179e\"],[0.4444444444444444,\"#bd3786\"],[0.5555555555555556,\"#d8576b\"],[0.6666666666666666,\"#ed7953\"],[0.7777777777777778,\"#fb9f3a\"],[0.8888888888888888,\"#fdca26\"],[1.0,\"#f0f921\"]],\"diverging\":[[0,\"#8e0152\"],[0.1,\"#c51b7d\"],[0.2,\"#de77ae\"],[0.3,\"#f1b6da\"],[0.4,\"#fde0ef\"],[0.5,\"#f7f7f7\"],[0.6,\"#e6f5d0\"],[0.7,\"#b8e186\"],[0.8,\"#7fbc41\"],[0.9,\"#4d9221\"],[1,\"#276419\"]]},\"xaxis\":{\"gridcolor\":\"white\",\"linecolor\":\"white\",\"ticks\":\"\",\"title\":{\"standoff\":15},\"zerolinecolor\":\"white\",\"automargin\":true,\"zerolinewidth\":2},\"yaxis\":{\"gridcolor\":\"white\",\"linecolor\":\"white\",\"ticks\":\"\",\"title\":{\"standoff\":15},\"zerolinecolor\":\"white\",\"automargin\":true,\"zerolinewidth\":2},\"scene\":{\"xaxis\":{\"backgroundcolor\":\"#E5ECF6\",\"gridcolor\":\"white\",\"linecolor\":\"white\",\"showbackground\":true,\"ticks\":\"\",\"zerolinecolor\":\"white\",\"gridwidth\":2},\"yaxis\":{\"backgroundcolor\":\"#E5ECF6\",\"gridcolor\":\"white\",\"linecolor\":\"white\",\"showbackground\":true,\"ticks\":\"\",\"zerolinecolor\":\"white\",\"gridwidth\":2},\"zaxis\":{\"backgroundcolor\":\"#E5ECF6\",\"gridcolor\":\"white\",\"linecolor\":\"white\",\"showbackground\":true,\"ticks\":\"\",\"zerolinecolor\":\"white\",\"gridwidth\":2}},\"shapedefaults\":{\"line\":{\"color\":\"#2a3f5f\"}},\"annotationdefaults\":{\"arrowcolor\":\"#2a3f5f\",\"arrowhead\":0,\"arrowwidth\":1},\"geo\":{\"bgcolor\":\"white\",\"landcolor\":\"#E5ECF6\",\"subunitcolor\":\"white\",\"showland\":true,\"showlakes\":true,\"lakecolor\":\"white\"},\"title\":{\"x\":0.05},\"mapbox\":{\"style\":\"light\"}}},\"geo\":{\"scope\":\"usa\"},\"title\":{\"text\":\"Esitmated Active Member Counts for Each Tract)\"}},                        {\"responsive\": true}                    )                };                            </script>        </div>\n",
       "</body>\n",
       "</html>"
      ]
     },
     "metadata": {},
     "output_type": "display_data"
    }
   ],
   "source": [
    "fig = go.Figure(data=go.Scattergeo(\n",
    "        lon = locations['long'],\n",
    "        lat = locations['lat'],\n",
    "        text = locations[\"total_members\"],\n",
    "        mode = 'markers',\n",
    "        marker_color = locations['total_members'],\n",
    "\n",
    "        locationmode=\"USA-states\"\n",
    "        ))\n",
    "\n",
    "fig.update_layout(\n",
    "        title = 'Esitmated Active Member Counts for Each Tract)',\n",
    "        geo_scope='usa',\n",
    "    )"
   ]
  },
  {
   "cell_type": "code",
   "execution_count": 0,
   "metadata": {
    "application/vnd.databricks.v1+cell": {
     "cellMetadata": {
      "byteLimit": 2048000,
      "rowLimit": 10000
     },
     "inputWidgets": {},
     "nuid": "556a4c52-884d-478e-a733-4a54ed61c0b6",
     "showTitle": false,
     "title": ""
    }
   },
   "outputs": [
    {
     "output_type": "display_data",
     "data": {
      "text/html": [
       "<style scoped>\n",
       "  .table-result-container {\n",
       "    max-height: 300px;\n",
       "    overflow: auto;\n",
       "  }\n",
       "  table, th, td {\n",
       "    border: 1px solid black;\n",
       "    border-collapse: collapse;\n",
       "  }\n",
       "  th, td {\n",
       "    padding: 5px;\n",
       "  }\n",
       "  th {\n",
       "    text-align: left;\n",
       "  }\n",
       "</style><div class='table-result-container'><table class='table-result'><thead style='background-color: white'><tr><th>county</th><th>tractcode</th><th>HasTemple</th><th>cnamelong</th><th>total_members</th></tr></thead><tbody><tr><td>003</td><td>04003001100</td><td>false</td><td>Cochise County</td><td>83</td></tr><tr><td>013</td><td>04013082009</td><td>false</td><td>Maricopa County</td><td>84</td></tr><tr><td>013</td><td>04013421304</td><td>false</td><td>Maricopa County</td><td>94</td></tr><tr><td>013</td><td>04013421801</td><td>false</td><td>Maricopa County</td><td>58</td></tr><tr><td>013</td><td>04013422513</td><td>false</td><td>Maricopa County</td><td>63</td></tr><tr><td>013</td><td>04013812400</td><td>false</td><td>Maricopa County</td><td>70</td></tr><tr><td>013</td><td>04013813300</td><td>false</td><td>Maricopa County</td><td>60</td></tr><tr><td>017</td><td>04017963300</td><td>false</td><td>Navajo County</td><td>84</td></tr><tr><td>019</td><td>04019004646</td><td>false</td><td>Pima County</td><td>74</td></tr><tr><td>027</td><td>04027001200</td><td>false</td><td>Yuma County</td><td>46</td></tr><tr><td>017</td><td>06017030709</td><td>false</td><td>El Dorado County</td><td>71</td></tr><tr><td>037</td><td>06037262100</td><td>false</td><td>Los Angeles County</td><td>71</td></tr><tr><td>037</td><td>06037503401</td><td>false</td><td>Los Angeles County</td><td>72</td></tr><tr><td>037</td><td>06037910301</td><td>false</td><td>Los Angeles County</td><td>84</td></tr><tr><td>061</td><td>06061023900</td><td>false</td><td>Placer County</td><td>74</td></tr><tr><td>071</td><td>06071012002</td><td>false</td><td>San Bernardino County</td><td>94</td></tr><tr><td>073</td><td>06073007002</td><td>false</td><td>San Diego County</td><td>65</td></tr><tr><td>073</td><td>06073015501</td><td>false</td><td>San Diego County</td><td>139</td></tr><tr><td>073</td><td>06073020103</td><td>false</td><td>San Diego County</td><td>75</td></tr><tr><td>077</td><td>06077003500</td><td>false</td><td>San Joaquin County</td><td>71</td></tr><tr><td>083</td><td>06083001304</td><td>false</td><td>Santa Barbara County</td><td>72</td></tr><tr><td>099</td><td>06099000402</td><td>false</td><td>Stanislaus County</td><td>66</td></tr><tr><td>059</td><td>08059009824</td><td>false</td><td>Jefferson County</td><td>72</td></tr><tr><td>085</td><td>08085966400</td><td>false</td><td>Montrose County</td><td>71</td></tr><tr><td>073</td><td>12073002206</td><td>false</td><td>Leon County</td><td>83</td></tr><tr><td>073</td><td>12073002508</td><td>false</td><td>Leon County</td><td>83</td></tr><tr><td>091</td><td>12091021101</td><td>false</td><td>Okaloosa County</td><td>83</td></tr><tr><td>091</td><td>12091022500</td><td>false</td><td>Okaloosa County</td><td>83</td></tr><tr><td>115</td><td>13115000700</td><td>false</td><td>Floyd County</td><td>45</td></tr><tr><td>007</td><td>15007040603</td><td>false</td><td>Kauai County</td><td>50</td></tr><tr><td>001</td><td>16001000201</td><td>false</td><td>Ada County</td><td>104</td></tr><tr><td>001</td><td>16001000202</td><td>false</td><td>Ada County</td><td>518</td></tr><tr><td>001</td><td>16001000302</td><td>false</td><td>Ada County</td><td>61</td></tr><tr><td>001</td><td>16001000303</td><td>false</td><td>Ada County</td><td>148</td></tr><tr><td>001</td><td>16001000304</td><td>false</td><td>Ada County</td><td>370</td></tr><tr><td>001</td><td>16001000400</td><td>false</td><td>Ada County</td><td>141</td></tr><tr><td>001</td><td>16001000500</td><td>false</td><td>Ada County</td><td>71</td></tr><tr><td>001</td><td>16001000600</td><td>false</td><td>Ada County</td><td>130</td></tr><tr><td>001</td><td>16001000701</td><td>false</td><td>Ada County</td><td>82</td></tr><tr><td>001</td><td>16001000702</td><td>false</td><td>Ada County</td><td>135</td></tr><tr><td>001</td><td>16001000802</td><td>false</td><td>Ada County</td><td>384</td></tr><tr><td>001</td><td>16001000803</td><td>false</td><td>Ada County</td><td>315</td></tr><tr><td>001</td><td>16001000804</td><td>false</td><td>Ada County</td><td>150</td></tr><tr><td>001</td><td>16001000900</td><td>false</td><td>Ada County</td><td>1053</td></tr><tr><td>001</td><td>16001001000</td><td>false</td><td>Ada County</td><td>364</td></tr><tr><td>001</td><td>16001001100</td><td>false</td><td>Ada County</td><td>197</td></tr><tr><td>001</td><td>16001001201</td><td>false</td><td>Ada County</td><td>344</td></tr><tr><td>001</td><td>16001001202</td><td>false</td><td>Ada County</td><td>635</td></tr><tr><td>001</td><td>16001001400</td><td>false</td><td>Ada County</td><td>510</td></tr><tr><td>001</td><td>16001001500</td><td>false</td><td>Ada County</td><td>193</td></tr><tr><td>001</td><td>16001001600</td><td>false</td><td>Ada County</td><td>64</td></tr><tr><td>001</td><td>16001001700</td><td>false</td><td>Ada County</td><td>784</td></tr><tr><td>001</td><td>16001001800</td><td>false</td><td>Ada County</td><td>647</td></tr><tr><td>001</td><td>16001001900</td><td>false</td><td>Ada County</td><td>370</td></tr><tr><td>001</td><td>16001002000</td><td>false</td><td>Ada County</td><td>578</td></tr><tr><td>001</td><td>16001002100</td><td>false</td><td>Ada County</td><td>520</td></tr><tr><td>001</td><td>16001002221</td><td>false</td><td>Ada County</td><td>897</td></tr><tr><td>001</td><td>16001002222</td><td>false</td><td>Ada County</td><td>373</td></tr><tr><td>001</td><td>16001002223</td><td>false</td><td>Ada County</td><td>409</td></tr><tr><td>001</td><td>16001002224</td><td>false</td><td>Ada County</td><td>1197</td></tr><tr><td>001</td><td>16001002302</td><td>false</td><td>Ada County</td><td>663</td></tr><tr><td>001</td><td>16001002310</td><td>false</td><td>Ada County</td><td>435</td></tr><tr><td>001</td><td>16001002312</td><td>false</td><td>Ada County</td><td>436</td></tr><tr><td>001</td><td>16001002313</td><td>false</td><td>Ada County</td><td>200</td></tr><tr><td>001</td><td>16001002410</td><td>false</td><td>Ada County</td><td>370</td></tr><tr><td>001</td><td>16001002411</td><td>false</td><td>Ada County</td><td>556</td></tr><tr><td>001</td><td>16001002412</td><td>false</td><td>Ada County</td><td>62</td></tr><tr><td>001</td><td>16001002413</td><td>false</td><td>Ada County</td><td>700</td></tr><tr><td>001</td><td>16001010100</td><td>false</td><td>Ada County</td><td>647</td></tr><tr><td>001</td><td>16001010201</td><td>false</td><td>Ada County</td><td>1760</td></tr><tr><td>001</td><td>16001010221</td><td>false</td><td>Ada County</td><td>1182</td></tr><tr><td>001</td><td>16001010223</td><td>false</td><td>Ada County</td><td>780</td></tr><tr><td>001</td><td>16001010224</td><td>false</td><td>Ada County</td><td>521</td></tr><tr><td>001</td><td>16001010225</td><td>false</td><td>Ada County</td><td>767</td></tr><tr><td>001</td><td>16001010313</td><td>false</td><td>Ada County</td><td>5967</td></tr><tr><td>001</td><td>16001010321</td><td>false</td><td>Ada County</td><td>418</td></tr><tr><td>001</td><td>16001010322</td><td>false</td><td>Ada County</td><td>765</td></tr><tr><td>001</td><td>16001010331</td><td>false</td><td>Ada County</td><td>2996</td></tr><tr><td>001</td><td>16001010332</td><td>false</td><td>Ada County</td><td>467</td></tr><tr><td>001</td><td>16001010333</td><td>false</td><td>Ada County</td><td>748</td></tr><tr><td>001</td><td>16001010334</td><td>false</td><td>Ada County</td><td>603</td></tr><tr><td>001</td><td>16001010335</td><td>false</td><td>Ada County</td><td>1161</td></tr><tr><td>001</td><td>16001010401</td><td>false</td><td>Ada County</td><td>2411</td></tr><tr><td>001</td><td>16001010402</td><td>false</td><td>Ada County</td><td>1629</td></tr><tr><td>001</td><td>16001010501</td><td>false</td><td>Ada County</td><td>206</td></tr><tr><td>001</td><td>16001010503</td><td>false</td><td>Ada County</td><td>774</td></tr><tr><td>001</td><td>16001010504</td><td>false</td><td>Ada County</td><td>504</td></tr><tr><td>005</td><td>16005000200</td><td>false</td><td>Bannock County</td><td>1413</td></tr><tr><td>005</td><td>16005000300</td><td>false</td><td>Bannock County</td><td>1781</td></tr><tr><td>005</td><td>16005000400</td><td>false</td><td>Bannock County</td><td>1897</td></tr><tr><td>005</td><td>16005000500</td><td>false</td><td>Bannock County</td><td>211</td></tr><tr><td>005</td><td>16005000600</td><td>false</td><td>Bannock County</td><td>582</td></tr><tr><td>005</td><td>16005000700</td><td>false</td><td>Bannock County</td><td>445</td></tr><tr><td>005</td><td>16005000800</td><td>false</td><td>Bannock County</td><td>488</td></tr><tr><td>005</td><td>16005000900</td><td>false</td><td>Bannock County</td><td>210</td></tr><tr><td>005</td><td>16005001000</td><td>false</td><td>Bannock County</td><td>625</td></tr><tr><td>005</td><td>16005001101</td><td>false</td><td>Bannock County</td><td>3046</td></tr><tr><td>005</td><td>16005001102</td><td>false</td><td>Bannock County</td><td>492</td></tr><tr><td>005</td><td>16005001200</td><td>false</td><td>Bannock County</td><td>190</td></tr><tr><td>005</td><td>16005001300</td><td>false</td><td>Bannock County</td><td>270</td></tr><tr><td>005</td><td>16005001400</td><td>false</td><td>Bannock County</td><td>393</td></tr><tr><td>005</td><td>16005001500</td><td>false</td><td>Bannock County</td><td>460</td></tr><tr><td>005</td><td>16005001601</td><td>false</td><td>Bannock County</td><td>217</td></tr><tr><td>005</td><td>16005001602</td><td>false</td><td>Bannock County</td><td>301</td></tr><tr><td>005</td><td>16005001603</td><td>false</td><td>Bannock County</td><td>324</td></tr><tr><td>005</td><td>16005001700</td><td>false</td><td>Bannock County</td><td>970</td></tr><tr><td>005</td><td>16005001900</td><td>false</td><td>Bannock County</td><td>450</td></tr><tr><td>005</td><td>16005940000</td><td>false</td><td>Bannock County</td><td>209</td></tr><tr><td>007</td><td>16007950100</td><td>false</td><td>Bear Lake County</td><td>876</td></tr><tr><td>007</td><td>16007950200</td><td>false</td><td>Bear Lake County</td><td>309</td></tr><tr><td>011</td><td>16011940000</td><td>false</td><td>Bingham County</td><td>109</td></tr><tr><td>011</td><td>16011950100</td><td>false</td><td>Bingham County</td><td>2691</td></tr><tr><td>011</td><td>16011950200</td><td>false</td><td>Bingham County</td><td>1093</td></tr><tr><td>011</td><td>16011950300</td><td>false</td><td>Bingham County</td><td>830</td></tr><tr><td>011</td><td>16011950400</td><td>false</td><td>Bingham County</td><td>1477</td></tr><tr><td>011</td><td>16011950500</td><td>false</td><td>Bingham County</td><td>2105</td></tr><tr><td>011</td><td>16011950600</td><td>false</td><td>Bingham County</td><td>1714</td></tr><tr><td>011</td><td>16011950700</td><td>false</td><td>Bingham County</td><td>1136</td></tr><tr><td>013</td><td>16013960100</td><td>false</td><td>Blaine County</td><td>305</td></tr><tr><td>013</td><td>16013960200</td><td>false</td><td>Blaine County</td><td>347</td></tr><tr><td>015</td><td>16015950200</td><td>false</td><td>Boise County</td><td>88</td></tr><tr><td>017</td><td>16017950200</td><td>false</td><td>Bonner County</td><td>414</td></tr><tr><td>017</td><td>16017950400</td><td>false</td><td>Bonner County</td><td>104</td></tr><tr><td>017</td><td>16017950800</td><td>false</td><td>Bonner County</td><td>72</td></tr><tr><td>019</td><td>16019970100</td><td>false</td><td>Bonneville County</td><td>2981</td></tr><tr><td>019</td><td>16019970300</td><td>false</td><td>Bonneville County</td><td>5433</td></tr><tr><td>019</td><td>16019970401</td><td>false</td><td>Bonneville County</td><td>881</td></tr><tr><td>019</td><td>16019970402</td><td>false</td><td>Bonneville County</td><td>1799</td></tr><tr><td>019</td><td>16019970403</td><td>false</td><td>Bonneville County</td><td>2281</td></tr><tr><td>019</td><td>16019970501</td><td>false</td><td>Bonneville County</td><td>3836</td></tr><tr><td>019</td><td>16019970502</td><td>false</td><td>Bonneville County</td><td>945</td></tr><tr><td>019</td><td>16019970503</td><td>false</td><td>Bonneville County</td><td>1376</td></tr><tr><td>019</td><td>16019970601</td><td>false</td><td>Bonneville County</td><td>1164</td></tr><tr><td>019</td><td>16019970602</td><td>false</td><td>Bonneville County</td><td>1538</td></tr><tr><td>019</td><td>16019970603</td><td>false</td><td>Bonneville County</td><td>344</td></tr><tr><td>019</td><td>16019970700</td><td>false</td><td>Bonneville County</td><td>670</td></tr><tr><td>019</td><td>16019970800</td><td>false</td><td>Bonneville County</td><td>700</td></tr><tr><td>019</td><td>16019970900</td><td>false</td><td>Bonneville County</td><td>716</td></tr><tr><td>019</td><td>16019971000</td><td>false</td><td>Bonneville County</td><td>913</td></tr><tr><td>019</td><td>16019971100</td><td>false</td><td>Bonneville County</td><td>644</td></tr><tr><td>019</td><td>16019971200</td><td>false</td><td>Bonneville County</td><td>686</td></tr><tr><td>019</td><td>16019971301</td><td>false</td><td>Bonneville County</td><td>1474</td></tr><tr><td>019</td><td>16019971302</td><td>false</td><td>Bonneville County</td><td>1291</td></tr><tr><td>019</td><td>16019971400</td><td>false</td><td>Bonneville County</td><td>2426</td></tr><tr><td>019</td><td>16019971500</td><td>false</td><td>Bonneville County</td><td>239</td></tr><tr><td>023</td><td>16023970100</td><td>false</td><td>Butte County</td><td>430</td></tr><tr><td>025</td><td>16025970100</td><td>false</td><td>Camas County</td><td>77</td></tr><tr><td>027</td><td>16027020100</td><td>false</td><td>Canyon County</td><td>89</td></tr><tr><td>027</td><td>16027020300</td><td>false</td><td>Canyon County</td><td>81</td></tr><tr><td>027</td><td>16027020401</td><td>false</td><td>Canyon County</td><td>460</td></tr><tr><td>027</td><td>16027020402</td><td>false</td><td>Canyon County</td><td>150</td></tr><tr><td>027</td><td>16027020501</td><td>false</td><td>Canyon County</td><td>113</td></tr><tr><td>027</td><td>16027020503</td><td>false</td><td>Canyon County</td><td>322</td></tr><tr><td>027</td><td>16027020504</td><td>false</td><td>Canyon County</td><td>83</td></tr><tr><td>027</td><td>16027020601</td><td>false</td><td>Canyon County</td><td>242</td></tr><tr><td>027</td><td>16027020602</td><td>false</td><td>Canyon County</td><td>329</td></tr><tr><td>027</td><td>16027020700</td><td>false</td><td>Canyon County</td><td>71</td></tr><tr><td>027</td><td>16027020901</td><td>false</td><td>Canyon County</td><td>2884</td></tr><tr><td>027</td><td>16027020902</td><td>false</td><td>Canyon County</td><td>1565</td></tr><tr><td>027</td><td>16027021001</td><td>false</td><td>Canyon County</td><td>501</td></tr><tr><td>027</td><td>16027021002</td><td>false</td><td>Canyon County</td><td>628</td></tr><tr><td>027</td><td>16027021100</td><td>false</td><td>Canyon County</td><td>1873</td></tr><tr><td>027</td><td>16027021200</td><td>false</td><td>Canyon County</td><td>103</td></tr><tr><td>027</td><td>16027021300</td><td>false</td><td>Canyon County</td><td>47</td></tr><tr><td>027</td><td>16027021500</td><td>false</td><td>Canyon County</td><td>257</td></tr><tr><td>027</td><td>16027021700</td><td>false</td><td>Canyon County</td><td>128</td></tr><tr><td>027</td><td>16027021800</td><td>false</td><td>Canyon County</td><td>126</td></tr><tr><td>027</td><td>16027021901</td><td>false</td><td>Canyon County</td><td>274</td></tr><tr><td>027</td><td>16027021903</td><td>false</td><td>Canyon County</td><td>510</td></tr><tr><td>027</td><td>16027021904</td><td>false</td><td>Canyon County</td><td>72</td></tr><tr><td>027</td><td>16027022200</td><td>false</td><td>Canyon County</td><td>162</td></tr><tr><td>027</td><td>16027022300</td><td>false</td><td>Canyon County</td><td>135</td></tr><tr><td>027</td><td>16027022400</td><td>false</td><td>Canyon County</td><td>510</td></tr><tr><td>029</td><td>16029960100</td><td>false</td><td>Caribou County</td><td>1406</td></tr><tr><td>029</td><td>16029960200</td><td>false</td><td>Caribou County</td><td>510</td></tr><tr><td>031</td><td>16031950100</td><td>false</td><td>Cassia County</td><td>696</td></tr><tr><td>031</td><td>16031950200</td><td>false</td><td>Cassia County</td><td>2028</td></tr><tr><td>031</td><td>16031950300</td><td>false</td><td>Cassia County</td><td>2715</td></tr><tr><td>031</td><td>16031950400</td><td>false</td><td>Cassia County</td><td>592</td></tr><tr><td>031</td><td>16031950500</td><td>false</td><td>Cassia County</td><td>2476</td></tr><tr><td>031</td><td>16031950600</td><td>false</td><td>Cassia County</td><td>1393</td></tr><tr><td>037</td><td>16037960200</td><td>false</td><td>Custer County</td><td>57</td></tr><tr><td>039</td><td>16039960200</td><td>false</td><td>Elmore County</td><td>454</td></tr><tr><td>039</td><td>16039960300</td><td>false</td><td>Elmore County</td><td>120</td></tr><tr><td>039</td><td>16039960400</td><td>false</td><td>Elmore County</td><td>450</td></tr><tr><td>041</td><td>16041970100</td><td>false</td><td>Franklin County</td><td>1765</td></tr><tr><td>041</td><td>16041970200</td><td>false</td><td>Franklin County</td><td>2149</td></tr><tr><td>043</td><td>16043970100</td><td>false</td><td>Fremont County</td><td>634</td></tr><tr><td>043</td><td>16043970200</td><td>false</td><td>Fremont County</td><td>1348</td></tr><tr><td>043</td><td>16043970300</td><td>false</td><td>Fremont County</td><td>5832</td></tr><tr><td>045</td><td>16045960100</td><td>false</td><td>Gem County</td><td>587</td></tr><tr><td>045</td><td>16045960200</td><td>false</td><td>Gem County</td><td>885</td></tr><tr><td>045</td><td>16045960300</td><td>false</td><td>Gem County</td><td>326</td></tr><tr><td>047</td><td>16047960100</td><td>false</td><td>Gooding County</td><td>603</td></tr><tr><td>047</td><td>16047960200</td><td>false</td><td>Gooding County</td><td>433</td></tr><tr><td>049</td><td>16049960400</td><td>false</td><td>Idaho County</td><td>192</td></tr><tr><td>051</td><td>16051960100</td><td>false</td><td>Jefferson County</td><td>209</td></tr><tr><td>051</td><td>16051960200</td><td>false</td><td>Jefferson County</td><td>1500</td></tr><tr><td>051</td><td>16051960300</td><td>false</td><td>Jefferson County</td><td>2392</td></tr><tr><td>051</td><td>16051960400</td><td>false</td><td>Jefferson County</td><td>2851</td></tr><tr><td>053</td><td>16053970200</td><td>false</td><td>Jerome County</td><td>328</td></tr><tr><td>053</td><td>16053970300</td><td>false</td><td>Jerome County</td><td>413</td></tr><tr><td>053</td><td>16053970400</td><td>false</td><td>Jerome County</td><td>138</td></tr><tr><td>053</td><td>16053970500</td><td>false</td><td>Jerome County</td><td>1005</td></tr><tr><td>055</td><td>16055000100</td><td>false</td><td>Kootenai County</td><td>68</td></tr><tr><td>055</td><td>16055000200</td><td>false</td><td>Kootenai County</td><td>731</td></tr><tr><td>055</td><td>16055000301</td><td>false</td><td>Kootenai County</td><td>162</td></tr><tr><td>055</td><td>16055000302</td><td>false</td><td>Kootenai County</td><td>503</td></tr><tr><td>055</td><td>16055000402</td><td>false</td><td>Kootenai County</td><td>68</td></tr><tr><td>055</td><td>16055000500</td><td>false</td><td>Kootenai County</td><td>357</td></tr><tr><td>055</td><td>16055000601</td><td>false</td><td>Kootenai County</td><td>98</td></tr><tr><td>055</td><td>16055000602</td><td>false</td><td>Kootenai County</td><td>64</td></tr><tr><td>055</td><td>16055000700</td><td>false</td><td>Kootenai County</td><td>8251</td></tr><tr><td>055</td><td>16055000800</td><td>false</td><td>Kootenai County</td><td>246</td></tr><tr><td>055</td><td>16055000900</td><td>false</td><td>Kootenai County</td><td>98</td></tr><tr><td>055</td><td>16055001001</td><td>false</td><td>Kootenai County</td><td>71</td></tr><tr><td>055</td><td>16055001002</td><td>false</td><td>Kootenai County</td><td>284</td></tr><tr><td>055</td><td>16055001100</td><td>false</td><td>Kootenai County</td><td>233</td></tr><tr><td>055</td><td>16055001200</td><td>false</td><td>Kootenai County</td><td>147</td></tr><tr><td>055</td><td>16055001300</td><td>false</td><td>Kootenai County</td><td>755</td></tr><tr><td>055</td><td>16055001400</td><td>false</td><td>Kootenai County</td><td>98</td></tr><tr><td>055</td><td>16055001500</td><td>false</td><td>Kootenai County</td><td>199</td></tr><tr><td>055</td><td>16055001700</td><td>false</td><td>Kootenai County</td><td>68</td></tr><tr><td>055</td><td>16055001800</td><td>false</td><td>Kootenai County</td><td>333</td></tr><tr><td>055</td><td>16055001900</td><td>false</td><td>Kootenai County</td><td>83</td></tr><tr><td>055</td><td>16055002000</td><td>false</td><td>Kootenai County</td><td>196</td></tr><tr><td>057</td><td>16057005100</td><td>false</td><td>Latah County</td><td>198</td></tr><tr><td>057</td><td>16057005200</td><td>false</td><td>Latah County</td><td>563</td></tr><tr><td>057</td><td>16057005500</td><td>false</td><td>Latah County</td><td>25</td></tr><tr><td>057</td><td>16057005600</td><td>false</td><td>Latah County</td><td>45</td></tr><tr><td>059</td><td>16059970100</td><td>false</td><td>Lemhi County</td><td>276</td></tr><tr><td>059</td><td>16059970200</td><td>false</td><td>Lemhi County</td><td>117</td></tr><tr><td>063</td><td>16063950100</td><td>false</td><td>Lincoln County</td><td>154</td></tr><tr><td>065</td><td>16065950100</td><td>false</td><td>Madison County</td><td>1996</td></tr><tr><td>065</td><td>16065950200</td><td>false</td><td>Madison County</td><td>1204</td></tr><tr><td>065</td><td>16065950301</td><td>false</td><td>Madison County</td><td>1746</td></tr><tr><td>065</td><td>16065950302</td><td>false</td><td>Madison County</td><td>5525</td></tr><tr><td>065</td><td>16065950400</td><td>false</td><td>Madison County</td><td>1521</td></tr><tr><td>065</td><td>16065950500</td><td>false</td><td>Madison County</td><td>2088</td></tr><tr><td>067</td><td>16067970100</td><td>false</td><td>Minidoka County</td><td>345</td></tr><tr><td>067</td><td>16067970200</td><td>false</td><td>Minidoka County</td><td>1092</td></tr><tr><td>067</td><td>16067970300</td><td>false</td><td>Minidoka County</td><td>711</td></tr><tr><td>067</td><td>16067970400</td><td>false</td><td>Minidoka County</td><td>694</td></tr><tr><td>067</td><td>16067970500</td><td>false</td><td>Minidoka County</td><td>844</td></tr><tr><td>069</td><td>16069960200</td><td>false</td><td>Nez Perce County</td><td>25</td></tr><tr><td>069</td><td>16069960400</td><td>false</td><td>Nez Perce County</td><td>60</td></tr><tr><td>069</td><td>16069960500</td><td>false</td><td>Nez Perce County</td><td>105</td></tr><tr><td>069</td><td>16069960600</td><td>false</td><td>Nez Perce County</td><td>60</td></tr><tr><td>069</td><td>16069960900</td><td>false</td><td>Nez Perce County</td><td>60</td></tr><tr><td>069</td><td>16069961000</td><td>false</td><td>Nez Perce County</td><td>60</td></tr><tr><td>071</td><td>16071960100</td><td>false</td><td>Oneida County</td><td>860</td></tr><tr><td>073</td><td>16073950101</td><td>false</td><td>Owyhee County</td><td>293</td></tr><tr><td>073</td><td>16073950102</td><td>false</td><td>Owyhee County</td><td>67</td></tr><tr><td>073</td><td>16073950200</td><td>false</td><td>Owyhee County</td><td>327</td></tr><tr><td>075</td><td>16075960100</td><td>false</td><td>Payette County</td><td>134</td></tr><tr><td>075</td><td>16075960200</td><td>false</td><td>Payette County</td><td>233</td></tr><tr><td>075</td><td>16075960300</td><td>false</td><td>Payette County</td><td>1403</td></tr><tr><td>075</td><td>16075960400</td><td>false</td><td>Payette County</td><td>157</td></tr><tr><td>077</td><td>16077960100</td><td>false</td><td>Power County</td><td>572</td></tr><tr><td>077</td><td>16077960200</td><td>false</td><td>Power County</td><td>1460</td></tr><tr><td>079</td><td>16079960200</td><td>false</td><td>Shoshone County</td><td>155</td></tr><tr><td>079</td><td>16079960300</td><td>false</td><td>Shoshone County</td><td>126</td></tr><tr><td>081</td><td>16081960100</td><td>false</td><td>Teton County</td><td>292</td></tr><tr><td>083</td><td>16083000200</td><td>false</td><td>Twin Falls County</td><td>1292</td></tr><tr><td>083</td><td>16083000300</td><td>false</td><td>Twin Falls County</td><td>420</td></tr><tr><td>083</td><td>16083000400</td><td>false</td><td>Twin Falls County</td><td>135</td></tr><tr><td>083</td><td>16083000500</td><td>false</td><td>Twin Falls County</td><td>1631</td></tr><tr><td>083</td><td>16083000600</td><td>false</td><td>Twin Falls County</td><td>474</td></tr><tr><td>083</td><td>16083000700</td><td>false</td><td>Twin Falls County</td><td>1763</td></tr><tr><td>083</td><td>16083000800</td><td>false</td><td>Twin Falls County</td><td>542</td></tr><tr><td>083</td><td>16083000900</td><td>false</td><td>Twin Falls County</td><td>1325</td></tr><tr><td>083</td><td>16083001000</td><td>false</td><td>Twin Falls County</td><td>1088</td></tr><tr><td>083</td><td>16083001100</td><td>false</td><td>Twin Falls County</td><td>88</td></tr><tr><td>083</td><td>16083001200</td><td>false</td><td>Twin Falls County</td><td>576</td></tr><tr><td>083</td><td>16083001300</td><td>false</td><td>Twin Falls County</td><td>1669</td></tr><tr><td>083</td><td>16083001400</td><td>false</td><td>Twin Falls County</td><td>230</td></tr><tr><td>083</td><td>16083001500</td><td>false</td><td>Twin Falls County</td><td>230</td></tr><tr><td>085</td><td>16085970100</td><td>false</td><td>Valley County</td><td>62</td></tr><tr><td>085</td><td>16085970200</td><td>false</td><td>Valley County</td><td>71</td></tr><tr><td>087</td><td>16087970100</td><td>false</td><td>Washington County</td><td>322</td></tr><tr><td>087</td><td>16087970200</td><td>false</td><td>Washington County</td><td>184</td></tr><tr><td>087</td><td>16087970300</td><td>false</td><td>Washington County</td><td>231</td></tr><tr><td>011</td><td>18011810400</td><td>false</td><td>Boone County</td><td>64</td></tr><tr><td>057</td><td>19057001000</td><td>false</td><td>Des Moines County</td><td>88</td></tr><tr><td>155</td><td>20155001800</td><td>false</td><td>Reno County</td><td>83</td></tr><tr><td>185</td><td>21185030601</td><td>false</td><td>Oldham County</td><td>69</td></tr><tr><td>015</td><td>22015010806</td><td>false</td><td>Bossier Parish</td><td>61</td></tr><tr><td>031</td><td>24031700823</td><td>false</td><td>Montgomery County</td><td>54</td></tr><tr><td>043</td><td>26043950300</td><td>false</td><td>Dickinson County</td><td>73</td></tr><tr><td>049</td><td>26049013002</td><td>false</td><td>Genesee County</td><td>53</td></tr><tr><td>065</td><td>26065005001</td><td>false</td><td>Ingham County</td><td>53</td></tr><tr><td>161</td><td>26161431000</td><td>false</td><td>Washtenaw County</td><td>70</td></tr><tr><td>145</td><td>27145000601</td><td>false</td><td>Stearns County</td><td>50</td></tr><tr><td>209</td><td>29209090601</td><td>false</td><td>Stone County</td><td>76</td></tr><tr><td>031</td><td>30031000300</td><td>false</td><td>Gallatin County</td><td>49</td></tr><tr><td>031</td><td>30031000900</td><td>false</td><td>Gallatin County</td><td>55</td></tr><tr><td>031</td><td>30031001500</td><td>false</td><td>Gallatin County</td><td>86</td></tr><tr><td>041</td><td>30041040300</td><td>false</td><td>Hill County</td><td>55</td></tr><tr><td>043</td><td>30043962202</td><td>false</td><td>Jefferson County</td><td>178</td></tr><tr><td>057</td><td>30057000200</td><td>false</td><td>Madison County</td><td>65</td></tr><tr><td>063</td><td>30063000202</td><td>false</td><td>Missoula County</td><td>68</td></tr><tr><td>063</td><td>30063001302</td><td>false</td><td>Missoula County</td><td>66</td></tr><tr><td>081</td><td>30081000202</td><td>false</td><td>Ravalli County</td><td>71</td></tr><tr><td>111</td><td>30111000702</td><td>false</td><td>Yellowstone County</td><td>69</td></tr><tr><td>055</td><td>31055002300</td><td>false</td><td>Douglas County</td><td>66</td></tr><tr><td>003</td><td>32003002808</td><td>false</td><td>Clark County</td><td>68</td></tr><tr><td>003</td><td>32003003318</td><td>false</td><td>Clark County</td><td>66</td></tr><tr><td>003</td><td>32003003629</td><td>false</td><td>Clark County</td><td>111</td></tr><tr><td>007</td><td>32007950200</td><td>false</td><td>Elko County</td><td>68</td></tr><tr><td>007</td><td>32007950701</td><td>false</td><td>Elko County</td><td>73</td></tr><tr><td>019</td><td>32019960101</td><td>false</td><td>Lyon County</td><td>73</td></tr><tr><td>031</td><td>32031002613</td><td>false</td><td>Washoe County</td><td>61</td></tr><tr><td>031</td><td>32031003106</td><td>false</td><td>Washoe County</td><td>73</td></tr><tr><td>033</td><td>32033970100</td><td>false</td><td>White Pine County</td><td>63</td></tr><tr><td>045</td><td>35045000610</td><td>false</td><td>San Juan County</td><td>63</td></tr><tr><td>011</td><td>36011040400</td><td>false</td><td>Cayuga County</td><td>75</td></tr><tr><td>061</td><td>36061023000</td><td>false</td><td>New York County</td><td>50</td></tr><tr><td>017</td><td>37017950300</td><td>false</td><td>Bladen County</td><td>83</td></tr><tr><td>101</td><td>37101040203</td><td>false</td><td>Johnston County</td><td>83</td></tr><tr><td>183</td><td>37183053107</td><td>false</td><td>Wake County</td><td>83</td></tr><tr><td>113</td><td>39113050104</td><td>false</td><td>Montgomery County</td><td>86</td></tr><tr><td>113</td><td>40113940002</td><td>false</td><td>Osage County</td><td>71</td></tr><tr><td>001</td><td>41001950100</td><td>false</td><td>Baker County</td><td>72</td></tr><tr><td>001</td><td>41001950500</td><td>false</td><td>Baker County</td><td>41</td></tr><tr><td>009</td><td>41009970600</td><td>false</td><td>Columbia County</td><td>71</td></tr><tr><td>017</td><td>41017000200</td><td>false</td><td>Deschutes County</td><td>89</td></tr><tr><td>023</td><td>41023960200</td><td>false</td><td>Grant County</td><td>74</td></tr><tr><td>041</td><td>41041950304</td><td>false</td><td>Lincoln County</td><td>71</td></tr><tr><td>045</td><td>41045970300</td><td>false</td><td>Malheur County</td><td>107</td></tr><tr><td>045</td><td>41045970500</td><td>false</td><td>Malheur County</td><td>64</td></tr><tr><td>045</td><td>41045970600</td><td>false</td><td>Malheur County</td><td>83</td></tr><tr><td>051</td><td>41051005100</td><td>false</td><td>Multnomah County</td><td>162</td></tr><tr><td>059</td><td>41059950500</td><td>false</td><td>Umatilla County</td><td>62</td></tr><tr><td>067</td><td>41067032603</td><td>false</td><td>Washington County</td><td>75</td></tr><tr><td>067</td><td>41067033302</td><td>false</td><td>Washington County</td><td>104</td></tr><tr><td>013</td><td>45013000503</td><td>false</td><td>Beaufort County</td><td>83</td></tr><tr><td>093</td><td>47093006206</td><td>false</td><td>Knox County</td><td>51</td></tr><tr><td>125</td><td>47125101400</td><td>false</td><td>Montgomery County</td><td>80</td></tr><tr><td>085</td><td>48085031313</td><td>false</td><td>Collin County</td><td>137</td></tr><tr><td>113</td><td>48113020400</td><td>false</td><td>Dallas County</td><td>68</td></tr><tr><td>201</td><td>48201421700</td><td>false</td><td>Harris County</td><td>65</td></tr><tr><td>439</td><td>48439113922</td><td>false</td><td>Tarrant County</td><td>80</td></tr><tr><td>453</td><td>48453001826</td><td>false</td><td>Travis County</td><td>77</td></tr><tr><td>003</td><td>49003960100</td><td>false</td><td>Box Elder County</td><td>61</td></tr><tr><td>003</td><td>49003960300</td><td>false</td><td>Box Elder County</td><td>134</td></tr><tr><td>003</td><td>49003960702</td><td>false</td><td>Box Elder County</td><td>60</td></tr><tr><td>003</td><td>49003960801</td><td>false</td><td>Box Elder County</td><td>66</td></tr><tr><td>005</td><td>49005000101</td><td>false</td><td>Cache County</td><td>187</td></tr><tr><td>005</td><td>49005000201</td><td>false</td><td>Cache County</td><td>76</td></tr><tr><td>005</td><td>49005000202</td><td>false</td><td>Cache County</td><td>100</td></tr><tr><td>005</td><td>49005000401</td><td>false</td><td>Cache County</td><td>71</td></tr><tr><td>005</td><td>49005000403</td><td>false</td><td>Cache County</td><td>68</td></tr><tr><td>005</td><td>49005000501</td><td>false</td><td>Cache County</td><td>68</td></tr><tr><td>005</td><td>49005000600</td><td>false</td><td>Cache County</td><td>70</td></tr><tr><td>005</td><td>49005000701</td><td>false</td><td>Cache County</td><td>142</td></tr><tr><td>005</td><td>49005000800</td><td>false</td><td>Cache County</td><td>63</td></tr><tr><td>005</td><td>49005000900</td><td>false</td><td>Cache County</td><td>68</td></tr><tr><td>005</td><td>49005001001</td><td>false</td><td>Cache County</td><td>68</td></tr><tr><td>005</td><td>49005001002</td><td>false</td><td>Cache County</td><td>140</td></tr><tr><td>005</td><td>49005001102</td><td>false</td><td>Cache County</td><td>86</td></tr><tr><td>005</td><td>49005001401</td><td>false</td><td>Cache County</td><td>78</td></tr><tr><td>011</td><td>49011125401</td><td>false</td><td>Davis County</td><td>116</td></tr><tr><td>011</td><td>49011125403</td><td>false</td><td>Davis County</td><td>131</td></tr><tr><td>011</td><td>49011125405</td><td>false</td><td>Davis County</td><td>76</td></tr><tr><td>011</td><td>49011125801</td><td>false</td><td>Davis County</td><td>68</td></tr><tr><td>011</td><td>49011125808</td><td>false</td><td>Davis County</td><td>110</td></tr><tr><td>011</td><td>49011126101</td><td>false</td><td>Davis County</td><td>77</td></tr><tr><td>011</td><td>49011126104</td><td>false</td><td>Davis County</td><td>145</td></tr><tr><td>011</td><td>49011126105</td><td>false</td><td>Davis County</td><td>138</td></tr><tr><td>011</td><td>49011126204</td><td>false</td><td>Davis County</td><td>55</td></tr><tr><td>011</td><td>49011127003</td><td>false</td><td>Davis County</td><td>59</td></tr><tr><td>033</td><td>49033950100</td><td>false</td><td>Rich County</td><td>54</td></tr><tr><td>035</td><td>49035102702</td><td>false</td><td>Salt Lake County</td><td>66</td></tr><tr><td>035</td><td>49035103400</td><td>false</td><td>Salt Lake County</td><td>71</td></tr><tr><td>035</td><td>49035104800</td><td>false</td><td>Salt Lake County</td><td>83</td></tr><tr><td>035</td><td>49035104900</td><td>false</td><td>Salt Lake County</td><td>64</td></tr><tr><td>035</td><td>49035110600</td><td>false</td><td>Salt Lake County</td><td>142</td></tr><tr><td>035</td><td>49035111903</td><td>false</td><td>Salt Lake County</td><td>54</td></tr><tr><td>035</td><td>49035112201</td><td>false</td><td>Salt Lake County</td><td>72</td></tr><tr><td>035</td><td>49035112302</td><td>false</td><td>Salt Lake County</td><td>86</td></tr><tr><td>035</td><td>49035112609</td><td>false</td><td>Salt Lake County</td><td>86</td></tr><tr><td>035</td><td>49035112805</td><td>false</td><td>Salt Lake County</td><td>132</td></tr><tr><td>035</td><td>49035112810</td><td>false</td><td>Salt Lake County</td><td>78</td></tr><tr><td>035</td><td>49035112820</td><td>false</td><td>Salt Lake County</td><td>123</td></tr><tr><td>035</td><td>49035113011</td><td>false</td><td>Salt Lake County</td><td>159</td></tr><tr><td>035</td><td>49035113105</td><td>false</td><td>Salt Lake County</td><td>75</td></tr><tr><td>035</td><td>49035113107</td><td>false</td><td>Salt Lake County</td><td>243</td></tr><tr><td>035</td><td>49035113305</td><td>false</td><td>Salt Lake County</td><td>41</td></tr><tr><td>035</td><td>49035113306</td><td>false</td><td>Salt Lake County</td><td>72</td></tr><tr><td>035</td><td>49035113412</td><td>false</td><td>Salt Lake County</td><td>49</td></tr><tr><td>035</td><td>49035113514</td><td>false</td><td>Salt Lake County</td><td>70</td></tr><tr><td>035</td><td>49035113525</td><td>false</td><td>Salt Lake County</td><td>86</td></tr><tr><td>035</td><td>49035113526</td><td>false</td><td>Salt Lake County</td><td>33</td></tr><tr><td>035</td><td>49035113527</td><td>false</td><td>Salt Lake County</td><td>61</td></tr><tr><td>035</td><td>49035113803</td><td>false</td><td>Salt Lake County</td><td>71</td></tr><tr><td>043</td><td>49043964102</td><td>false</td><td>Summit County</td><td>54</td></tr><tr><td>045</td><td>49045130702</td><td>false</td><td>Tooele County</td><td>124</td></tr><tr><td>045</td><td>49045130703</td><td>false</td><td>Tooele County</td><td>68</td></tr><tr><td>045</td><td>49045130800</td><td>false</td><td>Tooele County</td><td>63</td></tr><tr><td>045</td><td>49045131100</td><td>false</td><td>Tooele County</td><td>67</td></tr><tr><td>049</td><td>49049000102</td><td>false</td><td>Utah County</td><td>86</td></tr><tr><td>049</td><td>49049000105</td><td>false</td><td>Utah County</td><td>116</td></tr><tr><td>049</td><td>49049000603</td><td>false</td><td>Utah County</td><td>65</td></tr><tr><td>049</td><td>49049000703</td><td>false</td><td>Utah County</td><td>63</td></tr><tr><td>049</td><td>49049000904</td><td>false</td><td>Utah County</td><td>83</td></tr><tr><td>049</td><td>49049001402</td><td>false</td><td>Utah County</td><td>125</td></tr><tr><td>049</td><td>49049001602</td><td>false</td><td>Utah County</td><td>79</td></tr><tr><td>049</td><td>49049001603</td><td>false</td><td>Utah County</td><td>70</td></tr><tr><td>049</td><td>49049001702</td><td>false</td><td>Utah County</td><td>63</td></tr><tr><td>049</td><td>49049001803</td><td>false</td><td>Utah County</td><td>62</td></tr><tr><td>049</td><td>49049001900</td><td>false</td><td>Utah County</td><td>329</td></tr><tr><td>049</td><td>49049002206</td><td>false</td><td>Utah County</td><td>60</td></tr><tr><td>049</td><td>49049002300</td><td>false</td><td>Utah County</td><td>61</td></tr><tr><td>049</td><td>49049003104</td><td>false</td><td>Utah County</td><td>86</td></tr><tr><td>049</td><td>49049003203</td><td>false</td><td>Utah County</td><td>60</td></tr><tr><td>049</td><td>49049003204</td><td>false</td><td>Utah County</td><td>65</td></tr><tr><td>049</td><td>49049003402</td><td>false</td><td>Utah County</td><td>88</td></tr><tr><td>049</td><td>49049010109</td><td>false</td><td>Utah County</td><td>69</td></tr><tr><td>049</td><td>49049010111</td><td>false</td><td>Utah County</td><td>70</td></tr><tr><td>049</td><td>49049010112</td><td>false</td><td>Utah County</td><td>175</td></tr><tr><td>049</td><td>49049010113</td><td>false</td><td>Utah County</td><td>215</td></tr><tr><td>049</td><td>49049010212</td><td>false</td><td>Utah County</td><td>66</td></tr><tr><td>049</td><td>49049010214</td><td>false</td><td>Utah County</td><td>76</td></tr><tr><td>049</td><td>49049010219</td><td>false</td><td>Utah County</td><td>72</td></tr><tr><td>049</td><td>49049010404</td><td>false</td><td>Utah County</td><td>164</td></tr><tr><td>049</td><td>49049010405</td><td>false</td><td>Utah County</td><td>185</td></tr><tr><td>053</td><td>49053270801</td><td>false</td><td>Washington County</td><td>65</td></tr><tr><td>053</td><td>49053270802</td><td>false</td><td>Washington County</td><td>71</td></tr><tr><td>053</td><td>49053270901</td><td>false</td><td>Washington County</td><td>61</td></tr><tr><td>053</td><td>49053271600</td><td>false</td><td>Washington County</td><td>55</td></tr><tr><td>057</td><td>49057200202</td><td>false</td><td>Weber County</td><td>52</td></tr><tr><td>057</td><td>49057200800</td><td>false</td><td>Weber County</td><td>72</td></tr><tr><td>057</td><td>49057210201</td><td>false</td><td>Weber County</td><td>78</td></tr><tr><td>057</td><td>49057210302</td><td>false</td><td>Weber County</td><td>64</td></tr><tr><td>057</td><td>49057210403</td><td>false</td><td>Weber County</td><td>51</td></tr><tr><td>057</td><td>49057210504</td><td>false</td><td>Weber County</td><td>66</td></tr><tr><td>057</td><td>49057210505</td><td>false</td><td>Weber County</td><td>60</td></tr><tr><td>057</td><td>49057210506</td><td>false</td><td>Weber County</td><td>73</td></tr><tr><td>057</td><td>49057210600</td><td>false</td><td>Weber County</td><td>61</td></tr><tr><td>057</td><td>49057210704</td><td>false</td><td>Weber County</td><td>61</td></tr><tr><td>057</td><td>49057211100</td><td>false</td><td>Weber County</td><td>55</td></tr><tr><td>003</td><td>50003970200</td><td>false</td><td>Bennington County</td><td>79</td></tr><tr><td>059</td><td>51059416200</td><td>false</td><td>Fairfax County</td><td>52</td></tr><tr><td>530</td><td>51530930600</td><td>false</td><td>Buena Vista city</td><td>55</td></tr><tr><td>003</td><td>53003960400</td><td>false</td><td>Asotin County</td><td>60</td></tr><tr><td>005</td><td>53005010810</td><td>false</td><td>Benton County</td><td>64</td></tr><tr><td>005</td><td>53005010811</td><td>false</td><td>Benton County</td><td>98</td></tr><tr><td>011</td><td>53011040201</td><td>false</td><td>Clark County</td><td>79</td></tr><tr><td>021</td><td>53021020605</td><td>false</td><td>Franklin County</td><td>82</td></tr><tr><td>029</td><td>53029971500</td><td>false</td><td>Island County</td><td>72</td></tr><tr><td>033</td><td>53033005301</td><td>false</td><td>King County</td><td>67</td></tr><tr><td>033</td><td>53033007300</td><td>false</td><td>King County</td><td>73</td></tr><tr><td>033</td><td>53033010702</td><td>false</td><td>King County</td><td>66</td></tr><tr><td>033</td><td>53033026001</td><td>false</td><td>King County</td><td>98</td></tr><tr><td>033</td><td>53033032601</td><td>false</td><td>King County</td><td>104</td></tr><tr><td>035</td><td>53035092400</td><td>false</td><td>Kitsap County</td><td>41</td></tr><tr><td>051</td><td>53051970300</td><td>false</td><td>Pend Oreille County</td><td>98</td></tr><tr><td>053</td><td>53053062300</td><td>false</td><td>Pierce County</td><td>98</td></tr><tr><td>061</td><td>53061052806</td><td>false</td><td>Snohomish County</td><td>73</td></tr><tr><td>063</td><td>53063010503</td><td>false</td><td>Spokane County</td><td>71</td></tr><tr><td>063</td><td>53063012701</td><td>false</td><td>Spokane County</td><td>45</td></tr><tr><td>063</td><td>53063013202</td><td>false</td><td>Spokane County</td><td>68</td></tr><tr><td>075</td><td>53075000100</td><td>false</td><td>Whitman County</td><td>1337</td></tr><tr><td>075</td><td>53075000200</td><td>false</td><td>Whitman County</td><td>109</td></tr><tr><td>075</td><td>53075000400</td><td>false</td><td>Whitman County</td><td>45</td></tr><tr><td>075</td><td>53075000600</td><td>false</td><td>Whitman County</td><td>45</td></tr><tr><td>075</td><td>53075000900</td><td>false</td><td>Whitman County</td><td>25</td></tr><tr><td>077</td><td>53077000700</td><td>false</td><td>Yakima County</td><td>116</td></tr><tr><td>077</td><td>53077002802</td><td>false</td><td>Yakima County</td><td>59</td></tr><tr><td>013</td><td>56013940300</td><td>false</td><td>Fremont County</td><td>83</td></tr><tr><td>023</td><td>56023978000</td><td>false</td><td>Lincoln County</td><td>66</td></tr><tr><td>023</td><td>56023978100</td><td>false</td><td>Lincoln County</td><td>78</td></tr><tr><td>037</td><td>56037970902</td><td>false</td><td>Sweetwater County</td><td>55</td></tr><tr><td>039</td><td>56039967600</td><td>false</td><td>Teton County</td><td>66</td></tr><tr><td>039</td><td>56039967702</td><td>false</td><td>Teton County</td><td>70</td></tr><tr><td>039</td><td>56039967800</td><td>false</td><td>Teton County</td><td>68</td></tr></tbody></table></div>"
      ]
     },
     "metadata": {
      "application/vnd.databricks.v1+output": {
       "addedWidgets": {},
       "aggData": [],
       "aggError": "",
       "aggOverflow": false,
       "aggSchema": [],
       "aggSeriesLimitReached": false,
       "aggType": "",
       "arguments": {},
       "columnCustomDisplayInfos": {},
       "data": [
        [
         "003",
         "04003001100",
         false,
         "Cochise County",
         83
        ],
        [
         "013",
         "04013082009",
         false,
         "Maricopa County",
         84
        ],
        [
         "013",
         "04013421304",
         false,
         "Maricopa County",
         94
        ],
        [
         "013",
         "04013421801",
         false,
         "Maricopa County",
         58
        ],
        [
         "013",
         "04013422513",
         false,
         "Maricopa County",
         63
        ],
        [
         "013",
         "04013812400",
         false,
         "Maricopa County",
         70
        ],
        [
         "013",
         "04013813300",
         false,
         "Maricopa County",
         60
        ],
        [
         "017",
         "04017963300",
         false,
         "Navajo County",
         84
        ],
        [
         "019",
         "04019004646",
         false,
         "Pima County",
         74
        ],
        [
         "027",
         "04027001200",
         false,
         "Yuma County",
         46
        ],
        [
         "017",
         "06017030709",
         false,
         "El Dorado County",
         71
        ],
        [
         "037",
         "06037262100",
         false,
         "Los Angeles County",
         71
        ],
        [
         "037",
         "06037503401",
         false,
         "Los Angeles County",
         72
        ],
        [
         "037",
         "06037910301",
         false,
         "Los Angeles County",
         84
        ],
        [
         "061",
         "06061023900",
         false,
         "Placer County",
         74
        ],
        [
         "071",
         "06071012002",
         false,
         "San Bernardino County",
         94
        ],
        [
         "073",
         "06073007002",
         false,
         "San Diego County",
         65
        ],
        [
         "073",
         "06073015501",
         false,
         "San Diego County",
         139
        ],
        [
         "073",
         "06073020103",
         false,
         "San Diego County",
         75
        ],
        [
         "077",
         "06077003500",
         false,
         "San Joaquin County",
         71
        ],
        [
         "083",
         "06083001304",
         false,
         "Santa Barbara County",
         72
        ],
        [
         "099",
         "06099000402",
         false,
         "Stanislaus County",
         66
        ],
        [
         "059",
         "08059009824",
         false,
         "Jefferson County",
         72
        ],
        [
         "085",
         "08085966400",
         false,
         "Montrose County",
         71
        ],
        [
         "073",
         "12073002206",
         false,
         "Leon County",
         83
        ],
        [
         "073",
         "12073002508",
         false,
         "Leon County",
         83
        ],
        [
         "091",
         "12091021101",
         false,
         "Okaloosa County",
         83
        ],
        [
         "091",
         "12091022500",
         false,
         "Okaloosa County",
         83
        ],
        [
         "115",
         "13115000700",
         false,
         "Floyd County",
         45
        ],
        [
         "007",
         "15007040603",
         false,
         "Kauai County",
         50
        ],
        [
         "001",
         "16001000201",
         false,
         "Ada County",
         104
        ],
        [
         "001",
         "16001000202",
         false,
         "Ada County",
         518
        ],
        [
         "001",
         "16001000302",
         false,
         "Ada County",
         61
        ],
        [
         "001",
         "16001000303",
         false,
         "Ada County",
         148
        ],
        [
         "001",
         "16001000304",
         false,
         "Ada County",
         370
        ],
        [
         "001",
         "16001000400",
         false,
         "Ada County",
         141
        ],
        [
         "001",
         "16001000500",
         false,
         "Ada County",
         71
        ],
        [
         "001",
         "16001000600",
         false,
         "Ada County",
         130
        ],
        [
         "001",
         "16001000701",
         false,
         "Ada County",
         82
        ],
        [
         "001",
         "16001000702",
         false,
         "Ada County",
         135
        ],
        [
         "001",
         "16001000802",
         false,
         "Ada County",
         384
        ],
        [
         "001",
         "16001000803",
         false,
         "Ada County",
         315
        ],
        [
         "001",
         "16001000804",
         false,
         "Ada County",
         150
        ],
        [
         "001",
         "16001000900",
         false,
         "Ada County",
         1053
        ],
        [
         "001",
         "16001001000",
         false,
         "Ada County",
         364
        ],
        [
         "001",
         "16001001100",
         false,
         "Ada County",
         197
        ],
        [
         "001",
         "16001001201",
         false,
         "Ada County",
         344
        ],
        [
         "001",
         "16001001202",
         false,
         "Ada County",
         635
        ],
        [
         "001",
         "16001001400",
         false,
         "Ada County",
         510
        ],
        [
         "001",
         "16001001500",
         false,
         "Ada County",
         193
        ],
        [
         "001",
         "16001001600",
         false,
         "Ada County",
         64
        ],
        [
         "001",
         "16001001700",
         false,
         "Ada County",
         784
        ],
        [
         "001",
         "16001001800",
         false,
         "Ada County",
         647
        ],
        [
         "001",
         "16001001900",
         false,
         "Ada County",
         370
        ],
        [
         "001",
         "16001002000",
         false,
         "Ada County",
         578
        ],
        [
         "001",
         "16001002100",
         false,
         "Ada County",
         520
        ],
        [
         "001",
         "16001002221",
         false,
         "Ada County",
         897
        ],
        [
         "001",
         "16001002222",
         false,
         "Ada County",
         373
        ],
        [
         "001",
         "16001002223",
         false,
         "Ada County",
         409
        ],
        [
         "001",
         "16001002224",
         false,
         "Ada County",
         1197
        ],
        [
         "001",
         "16001002302",
         false,
         "Ada County",
         663
        ],
        [
         "001",
         "16001002310",
         false,
         "Ada County",
         435
        ],
        [
         "001",
         "16001002312",
         false,
         "Ada County",
         436
        ],
        [
         "001",
         "16001002313",
         false,
         "Ada County",
         200
        ],
        [
         "001",
         "16001002410",
         false,
         "Ada County",
         370
        ],
        [
         "001",
         "16001002411",
         false,
         "Ada County",
         556
        ],
        [
         "001",
         "16001002412",
         false,
         "Ada County",
         62
        ],
        [
         "001",
         "16001002413",
         false,
         "Ada County",
         700
        ],
        [
         "001",
         "16001010100",
         false,
         "Ada County",
         647
        ],
        [
         "001",
         "16001010201",
         false,
         "Ada County",
         1760
        ],
        [
         "001",
         "16001010221",
         false,
         "Ada County",
         1182
        ],
        [
         "001",
         "16001010223",
         false,
         "Ada County",
         780
        ],
        [
         "001",
         "16001010224",
         false,
         "Ada County",
         521
        ],
        [
         "001",
         "16001010225",
         false,
         "Ada County",
         767
        ],
        [
         "001",
         "16001010313",
         false,
         "Ada County",
         5967
        ],
        [
         "001",
         "16001010321",
         false,
         "Ada County",
         418
        ],
        [
         "001",
         "16001010322",
         false,
         "Ada County",
         765
        ],
        [
         "001",
         "16001010331",
         false,
         "Ada County",
         2996
        ],
        [
         "001",
         "16001010332",
         false,
         "Ada County",
         467
        ],
        [
         "001",
         "16001010333",
         false,
         "Ada County",
         748
        ],
        [
         "001",
         "16001010334",
         false,
         "Ada County",
         603
        ],
        [
         "001",
         "16001010335",
         false,
         "Ada County",
         1161
        ],
        [
         "001",
         "16001010401",
         false,
         "Ada County",
         2411
        ],
        [
         "001",
         "16001010402",
         false,
         "Ada County",
         1629
        ],
        [
         "001",
         "16001010501",
         false,
         "Ada County",
         206
        ],
        [
         "001",
         "16001010503",
         false,
         "Ada County",
         774
        ],
        [
         "001",
         "16001010504",
         false,
         "Ada County",
         504
        ],
        [
         "005",
         "16005000200",
         false,
         "Bannock County",
         1413
        ],
        [
         "005",
         "16005000300",
         false,
         "Bannock County",
         1781
        ],
        [
         "005",
         "16005000400",
         false,
         "Bannock County",
         1897
        ],
        [
         "005",
         "16005000500",
         false,
         "Bannock County",
         211
        ],
        [
         "005",
         "16005000600",
         false,
         "Bannock County",
         582
        ],
        [
         "005",
         "16005000700",
         false,
         "Bannock County",
         445
        ],
        [
         "005",
         "16005000800",
         false,
         "Bannock County",
         488
        ],
        [
         "005",
         "16005000900",
         false,
         "Bannock County",
         210
        ],
        [
         "005",
         "16005001000",
         false,
         "Bannock County",
         625
        ],
        [
         "005",
         "16005001101",
         false,
         "Bannock County",
         3046
        ],
        [
         "005",
         "16005001102",
         false,
         "Bannock County",
         492
        ],
        [
         "005",
         "16005001200",
         false,
         "Bannock County",
         190
        ],
        [
         "005",
         "16005001300",
         false,
         "Bannock County",
         270
        ],
        [
         "005",
         "16005001400",
         false,
         "Bannock County",
         393
        ],
        [
         "005",
         "16005001500",
         false,
         "Bannock County",
         460
        ],
        [
         "005",
         "16005001601",
         false,
         "Bannock County",
         217
        ],
        [
         "005",
         "16005001602",
         false,
         "Bannock County",
         301
        ],
        [
         "005",
         "16005001603",
         false,
         "Bannock County",
         324
        ],
        [
         "005",
         "16005001700",
         false,
         "Bannock County",
         970
        ],
        [
         "005",
         "16005001900",
         false,
         "Bannock County",
         450
        ],
        [
         "005",
         "16005940000",
         false,
         "Bannock County",
         209
        ],
        [
         "007",
         "16007950100",
         false,
         "Bear Lake County",
         876
        ],
        [
         "007",
         "16007950200",
         false,
         "Bear Lake County",
         309
        ],
        [
         "011",
         "16011940000",
         false,
         "Bingham County",
         109
        ],
        [
         "011",
         "16011950100",
         false,
         "Bingham County",
         2691
        ],
        [
         "011",
         "16011950200",
         false,
         "Bingham County",
         1093
        ],
        [
         "011",
         "16011950300",
         false,
         "Bingham County",
         830
        ],
        [
         "011",
         "16011950400",
         false,
         "Bingham County",
         1477
        ],
        [
         "011",
         "16011950500",
         false,
         "Bingham County",
         2105
        ],
        [
         "011",
         "16011950600",
         false,
         "Bingham County",
         1714
        ],
        [
         "011",
         "16011950700",
         false,
         "Bingham County",
         1136
        ],
        [
         "013",
         "16013960100",
         false,
         "Blaine County",
         305
        ],
        [
         "013",
         "16013960200",
         false,
         "Blaine County",
         347
        ],
        [
         "015",
         "16015950200",
         false,
         "Boise County",
         88
        ],
        [
         "017",
         "16017950200",
         false,
         "Bonner County",
         414
        ],
        [
         "017",
         "16017950400",
         false,
         "Bonner County",
         104
        ],
        [
         "017",
         "16017950800",
         false,
         "Bonner County",
         72
        ],
        [
         "019",
         "16019970100",
         false,
         "Bonneville County",
         2981
        ],
        [
         "019",
         "16019970300",
         false,
         "Bonneville County",
         5433
        ],
        [
         "019",
         "16019970401",
         false,
         "Bonneville County",
         881
        ],
        [
         "019",
         "16019970402",
         false,
         "Bonneville County",
         1799
        ],
        [
         "019",
         "16019970403",
         false,
         "Bonneville County",
         2281
        ],
        [
         "019",
         "16019970501",
         false,
         "Bonneville County",
         3836
        ],
        [
         "019",
         "16019970502",
         false,
         "Bonneville County",
         945
        ],
        [
         "019",
         "16019970503",
         false,
         "Bonneville County",
         1376
        ],
        [
         "019",
         "16019970601",
         false,
         "Bonneville County",
         1164
        ],
        [
         "019",
         "16019970602",
         false,
         "Bonneville County",
         1538
        ],
        [
         "019",
         "16019970603",
         false,
         "Bonneville County",
         344
        ],
        [
         "019",
         "16019970700",
         false,
         "Bonneville County",
         670
        ],
        [
         "019",
         "16019970800",
         false,
         "Bonneville County",
         700
        ],
        [
         "019",
         "16019970900",
         false,
         "Bonneville County",
         716
        ],
        [
         "019",
         "16019971000",
         false,
         "Bonneville County",
         913
        ],
        [
         "019",
         "16019971100",
         false,
         "Bonneville County",
         644
        ],
        [
         "019",
         "16019971200",
         false,
         "Bonneville County",
         686
        ],
        [
         "019",
         "16019971301",
         false,
         "Bonneville County",
         1474
        ],
        [
         "019",
         "16019971302",
         false,
         "Bonneville County",
         1291
        ],
        [
         "019",
         "16019971400",
         false,
         "Bonneville County",
         2426
        ],
        [
         "019",
         "16019971500",
         false,
         "Bonneville County",
         239
        ],
        [
         "023",
         "16023970100",
         false,
         "Butte County",
         430
        ],
        [
         "025",
         "16025970100",
         false,
         "Camas County",
         77
        ],
        [
         "027",
         "16027020100",
         false,
         "Canyon County",
         89
        ],
        [
         "027",
         "16027020300",
         false,
         "Canyon County",
         81
        ],
        [
         "027",
         "16027020401",
         false,
         "Canyon County",
         460
        ],
        [
         "027",
         "16027020402",
         false,
         "Canyon County",
         150
        ],
        [
         "027",
         "16027020501",
         false,
         "Canyon County",
         113
        ],
        [
         "027",
         "16027020503",
         false,
         "Canyon County",
         322
        ],
        [
         "027",
         "16027020504",
         false,
         "Canyon County",
         83
        ],
        [
         "027",
         "16027020601",
         false,
         "Canyon County",
         242
        ],
        [
         "027",
         "16027020602",
         false,
         "Canyon County",
         329
        ],
        [
         "027",
         "16027020700",
         false,
         "Canyon County",
         71
        ],
        [
         "027",
         "16027020901",
         false,
         "Canyon County",
         2884
        ],
        [
         "027",
         "16027020902",
         false,
         "Canyon County",
         1565
        ],
        [
         "027",
         "16027021001",
         false,
         "Canyon County",
         501
        ],
        [
         "027",
         "16027021002",
         false,
         "Canyon County",
         628
        ],
        [
         "027",
         "16027021100",
         false,
         "Canyon County",
         1873
        ],
        [
         "027",
         "16027021200",
         false,
         "Canyon County",
         103
        ],
        [
         "027",
         "16027021300",
         false,
         "Canyon County",
         47
        ],
        [
         "027",
         "16027021500",
         false,
         "Canyon County",
         257
        ],
        [
         "027",
         "16027021700",
         false,
         "Canyon County",
         128
        ],
        [
         "027",
         "16027021800",
         false,
         "Canyon County",
         126
        ],
        [
         "027",
         "16027021901",
         false,
         "Canyon County",
         274
        ],
        [
         "027",
         "16027021903",
         false,
         "Canyon County",
         510
        ],
        [
         "027",
         "16027021904",
         false,
         "Canyon County",
         72
        ],
        [
         "027",
         "16027022200",
         false,
         "Canyon County",
         162
        ],
        [
         "027",
         "16027022300",
         false,
         "Canyon County",
         135
        ],
        [
         "027",
         "16027022400",
         false,
         "Canyon County",
         510
        ],
        [
         "029",
         "16029960100",
         false,
         "Caribou County",
         1406
        ],
        [
         "029",
         "16029960200",
         false,
         "Caribou County",
         510
        ],
        [
         "031",
         "16031950100",
         false,
         "Cassia County",
         696
        ],
        [
         "031",
         "16031950200",
         false,
         "Cassia County",
         2028
        ],
        [
         "031",
         "16031950300",
         false,
         "Cassia County",
         2715
        ],
        [
         "031",
         "16031950400",
         false,
         "Cassia County",
         592
        ],
        [
         "031",
         "16031950500",
         false,
         "Cassia County",
         2476
        ],
        [
         "031",
         "16031950600",
         false,
         "Cassia County",
         1393
        ],
        [
         "037",
         "16037960200",
         false,
         "Custer County",
         57
        ],
        [
         "039",
         "16039960200",
         false,
         "Elmore County",
         454
        ],
        [
         "039",
         "16039960300",
         false,
         "Elmore County",
         120
        ],
        [
         "039",
         "16039960400",
         false,
         "Elmore County",
         450
        ],
        [
         "041",
         "16041970100",
         false,
         "Franklin County",
         1765
        ],
        [
         "041",
         "16041970200",
         false,
         "Franklin County",
         2149
        ],
        [
         "043",
         "16043970100",
         false,
         "Fremont County",
         634
        ],
        [
         "043",
         "16043970200",
         false,
         "Fremont County",
         1348
        ],
        [
         "043",
         "16043970300",
         false,
         "Fremont County",
         5832
        ],
        [
         "045",
         "16045960100",
         false,
         "Gem County",
         587
        ],
        [
         "045",
         "16045960200",
         false,
         "Gem County",
         885
        ],
        [
         "045",
         "16045960300",
         false,
         "Gem County",
         326
        ],
        [
         "047",
         "16047960100",
         false,
         "Gooding County",
         603
        ],
        [
         "047",
         "16047960200",
         false,
         "Gooding County",
         433
        ],
        [
         "049",
         "16049960400",
         false,
         "Idaho County",
         192
        ],
        [
         "051",
         "16051960100",
         false,
         "Jefferson County",
         209
        ],
        [
         "051",
         "16051960200",
         false,
         "Jefferson County",
         1500
        ],
        [
         "051",
         "16051960300",
         false,
         "Jefferson County",
         2392
        ],
        [
         "051",
         "16051960400",
         false,
         "Jefferson County",
         2851
        ],
        [
         "053",
         "16053970200",
         false,
         "Jerome County",
         328
        ],
        [
         "053",
         "16053970300",
         false,
         "Jerome County",
         413
        ],
        [
         "053",
         "16053970400",
         false,
         "Jerome County",
         138
        ],
        [
         "053",
         "16053970500",
         false,
         "Jerome County",
         1005
        ],
        [
         "055",
         "16055000100",
         false,
         "Kootenai County",
         68
        ],
        [
         "055",
         "16055000200",
         false,
         "Kootenai County",
         731
        ],
        [
         "055",
         "16055000301",
         false,
         "Kootenai County",
         162
        ],
        [
         "055",
         "16055000302",
         false,
         "Kootenai County",
         503
        ],
        [
         "055",
         "16055000402",
         false,
         "Kootenai County",
         68
        ],
        [
         "055",
         "16055000500",
         false,
         "Kootenai County",
         357
        ],
        [
         "055",
         "16055000601",
         false,
         "Kootenai County",
         98
        ],
        [
         "055",
         "16055000602",
         false,
         "Kootenai County",
         64
        ],
        [
         "055",
         "16055000700",
         false,
         "Kootenai County",
         8251
        ],
        [
         "055",
         "16055000800",
         false,
         "Kootenai County",
         246
        ],
        [
         "055",
         "16055000900",
         false,
         "Kootenai County",
         98
        ],
        [
         "055",
         "16055001001",
         false,
         "Kootenai County",
         71
        ],
        [
         "055",
         "16055001002",
         false,
         "Kootenai County",
         284
        ],
        [
         "055",
         "16055001100",
         false,
         "Kootenai County",
         233
        ],
        [
         "055",
         "16055001200",
         false,
         "Kootenai County",
         147
        ],
        [
         "055",
         "16055001300",
         false,
         "Kootenai County",
         755
        ],
        [
         "055",
         "16055001400",
         false,
         "Kootenai County",
         98
        ],
        [
         "055",
         "16055001500",
         false,
         "Kootenai County",
         199
        ],
        [
         "055",
         "16055001700",
         false,
         "Kootenai County",
         68
        ],
        [
         "055",
         "16055001800",
         false,
         "Kootenai County",
         333
        ],
        [
         "055",
         "16055001900",
         false,
         "Kootenai County",
         83
        ],
        [
         "055",
         "16055002000",
         false,
         "Kootenai County",
         196
        ],
        [
         "057",
         "16057005100",
         false,
         "Latah County",
         198
        ],
        [
         "057",
         "16057005200",
         false,
         "Latah County",
         563
        ],
        [
         "057",
         "16057005500",
         false,
         "Latah County",
         25
        ],
        [
         "057",
         "16057005600",
         false,
         "Latah County",
         45
        ],
        [
         "059",
         "16059970100",
         false,
         "Lemhi County",
         276
        ],
        [
         "059",
         "16059970200",
         false,
         "Lemhi County",
         117
        ],
        [
         "063",
         "16063950100",
         false,
         "Lincoln County",
         154
        ],
        [
         "065",
         "16065950100",
         false,
         "Madison County",
         1996
        ],
        [
         "065",
         "16065950200",
         false,
         "Madison County",
         1204
        ],
        [
         "065",
         "16065950301",
         false,
         "Madison County",
         1746
        ],
        [
         "065",
         "16065950302",
         false,
         "Madison County",
         5525
        ],
        [
         "065",
         "16065950400",
         false,
         "Madison County",
         1521
        ],
        [
         "065",
         "16065950500",
         false,
         "Madison County",
         2088
        ],
        [
         "067",
         "16067970100",
         false,
         "Minidoka County",
         345
        ],
        [
         "067",
         "16067970200",
         false,
         "Minidoka County",
         1092
        ],
        [
         "067",
         "16067970300",
         false,
         "Minidoka County",
         711
        ],
        [
         "067",
         "16067970400",
         false,
         "Minidoka County",
         694
        ],
        [
         "067",
         "16067970500",
         false,
         "Minidoka County",
         844
        ],
        [
         "069",
         "16069960200",
         false,
         "Nez Perce County",
         25
        ],
        [
         "069",
         "16069960400",
         false,
         "Nez Perce County",
         60
        ],
        [
         "069",
         "16069960500",
         false,
         "Nez Perce County",
         105
        ],
        [
         "069",
         "16069960600",
         false,
         "Nez Perce County",
         60
        ],
        [
         "069",
         "16069960900",
         false,
         "Nez Perce County",
         60
        ],
        [
         "069",
         "16069961000",
         false,
         "Nez Perce County",
         60
        ],
        [
         "071",
         "16071960100",
         false,
         "Oneida County",
         860
        ],
        [
         "073",
         "16073950101",
         false,
         "Owyhee County",
         293
        ],
        [
         "073",
         "16073950102",
         false,
         "Owyhee County",
         67
        ],
        [
         "073",
         "16073950200",
         false,
         "Owyhee County",
         327
        ],
        [
         "075",
         "16075960100",
         false,
         "Payette County",
         134
        ],
        [
         "075",
         "16075960200",
         false,
         "Payette County",
         233
        ],
        [
         "075",
         "16075960300",
         false,
         "Payette County",
         1403
        ],
        [
         "075",
         "16075960400",
         false,
         "Payette County",
         157
        ],
        [
         "077",
         "16077960100",
         false,
         "Power County",
         572
        ],
        [
         "077",
         "16077960200",
         false,
         "Power County",
         1460
        ],
        [
         "079",
         "16079960200",
         false,
         "Shoshone County",
         155
        ],
        [
         "079",
         "16079960300",
         false,
         "Shoshone County",
         126
        ],
        [
         "081",
         "16081960100",
         false,
         "Teton County",
         292
        ],
        [
         "083",
         "16083000200",
         false,
         "Twin Falls County",
         1292
        ],
        [
         "083",
         "16083000300",
         false,
         "Twin Falls County",
         420
        ],
        [
         "083",
         "16083000400",
         false,
         "Twin Falls County",
         135
        ],
        [
         "083",
         "16083000500",
         false,
         "Twin Falls County",
         1631
        ],
        [
         "083",
         "16083000600",
         false,
         "Twin Falls County",
         474
        ],
        [
         "083",
         "16083000700",
         false,
         "Twin Falls County",
         1763
        ],
        [
         "083",
         "16083000800",
         false,
         "Twin Falls County",
         542
        ],
        [
         "083",
         "16083000900",
         false,
         "Twin Falls County",
         1325
        ],
        [
         "083",
         "16083001000",
         false,
         "Twin Falls County",
         1088
        ],
        [
         "083",
         "16083001100",
         false,
         "Twin Falls County",
         88
        ],
        [
         "083",
         "16083001200",
         false,
         "Twin Falls County",
         576
        ],
        [
         "083",
         "16083001300",
         false,
         "Twin Falls County",
         1669
        ],
        [
         "083",
         "16083001400",
         false,
         "Twin Falls County",
         230
        ],
        [
         "083",
         "16083001500",
         false,
         "Twin Falls County",
         230
        ],
        [
         "085",
         "16085970100",
         false,
         "Valley County",
         62
        ],
        [
         "085",
         "16085970200",
         false,
         "Valley County",
         71
        ],
        [
         "087",
         "16087970100",
         false,
         "Washington County",
         322
        ],
        [
         "087",
         "16087970200",
         false,
         "Washington County",
         184
        ],
        [
         "087",
         "16087970300",
         false,
         "Washington County",
         231
        ],
        [
         "011",
         "18011810400",
         false,
         "Boone County",
         64
        ],
        [
         "057",
         "19057001000",
         false,
         "Des Moines County",
         88
        ],
        [
         "155",
         "20155001800",
         false,
         "Reno County",
         83
        ],
        [
         "185",
         "21185030601",
         false,
         "Oldham County",
         69
        ],
        [
         "015",
         "22015010806",
         false,
         "Bossier Parish",
         61
        ],
        [
         "031",
         "24031700823",
         false,
         "Montgomery County",
         54
        ],
        [
         "043",
         "26043950300",
         false,
         "Dickinson County",
         73
        ],
        [
         "049",
         "26049013002",
         false,
         "Genesee County",
         53
        ],
        [
         "065",
         "26065005001",
         false,
         "Ingham County",
         53
        ],
        [
         "161",
         "26161431000",
         false,
         "Washtenaw County",
         70
        ],
        [
         "145",
         "27145000601",
         false,
         "Stearns County",
         50
        ],
        [
         "209",
         "29209090601",
         false,
         "Stone County",
         76
        ],
        [
         "031",
         "30031000300",
         false,
         "Gallatin County",
         49
        ],
        [
         "031",
         "30031000900",
         false,
         "Gallatin County",
         55
        ],
        [
         "031",
         "30031001500",
         false,
         "Gallatin County",
         86
        ],
        [
         "041",
         "30041040300",
         false,
         "Hill County",
         55
        ],
        [
         "043",
         "30043962202",
         false,
         "Jefferson County",
         178
        ],
        [
         "057",
         "30057000200",
         false,
         "Madison County",
         65
        ],
        [
         "063",
         "30063000202",
         false,
         "Missoula County",
         68
        ],
        [
         "063",
         "30063001302",
         false,
         "Missoula County",
         66
        ],
        [
         "081",
         "30081000202",
         false,
         "Ravalli County",
         71
        ],
        [
         "111",
         "30111000702",
         false,
         "Yellowstone County",
         69
        ],
        [
         "055",
         "31055002300",
         false,
         "Douglas County",
         66
        ],
        [
         "003",
         "32003002808",
         false,
         "Clark County",
         68
        ],
        [
         "003",
         "32003003318",
         false,
         "Clark County",
         66
        ],
        [
         "003",
         "32003003629",
         false,
         "Clark County",
         111
        ],
        [
         "007",
         "32007950200",
         false,
         "Elko County",
         68
        ],
        [
         "007",
         "32007950701",
         false,
         "Elko County",
         73
        ],
        [
         "019",
         "32019960101",
         false,
         "Lyon County",
         73
        ],
        [
         "031",
         "32031002613",
         false,
         "Washoe County",
         61
        ],
        [
         "031",
         "32031003106",
         false,
         "Washoe County",
         73
        ],
        [
         "033",
         "32033970100",
         false,
         "White Pine County",
         63
        ],
        [
         "045",
         "35045000610",
         false,
         "San Juan County",
         63
        ],
        [
         "011",
         "36011040400",
         false,
         "Cayuga County",
         75
        ],
        [
         "061",
         "36061023000",
         false,
         "New York County",
         50
        ],
        [
         "017",
         "37017950300",
         false,
         "Bladen County",
         83
        ],
        [
         "101",
         "37101040203",
         false,
         "Johnston County",
         83
        ],
        [
         "183",
         "37183053107",
         false,
         "Wake County",
         83
        ],
        [
         "113",
         "39113050104",
         false,
         "Montgomery County",
         86
        ],
        [
         "113",
         "40113940002",
         false,
         "Osage County",
         71
        ],
        [
         "001",
         "41001950100",
         false,
         "Baker County",
         72
        ],
        [
         "001",
         "41001950500",
         false,
         "Baker County",
         41
        ],
        [
         "009",
         "41009970600",
         false,
         "Columbia County",
         71
        ],
        [
         "017",
         "41017000200",
         false,
         "Deschutes County",
         89
        ],
        [
         "023",
         "41023960200",
         false,
         "Grant County",
         74
        ],
        [
         "041",
         "41041950304",
         false,
         "Lincoln County",
         71
        ],
        [
         "045",
         "41045970300",
         false,
         "Malheur County",
         107
        ],
        [
         "045",
         "41045970500",
         false,
         "Malheur County",
         64
        ],
        [
         "045",
         "41045970600",
         false,
         "Malheur County",
         83
        ],
        [
         "051",
         "41051005100",
         false,
         "Multnomah County",
         162
        ],
        [
         "059",
         "41059950500",
         false,
         "Umatilla County",
         62
        ],
        [
         "067",
         "41067032603",
         false,
         "Washington County",
         75
        ],
        [
         "067",
         "41067033302",
         false,
         "Washington County",
         104
        ],
        [
         "013",
         "45013000503",
         false,
         "Beaufort County",
         83
        ],
        [
         "093",
         "47093006206",
         false,
         "Knox County",
         51
        ],
        [
         "125",
         "47125101400",
         false,
         "Montgomery County",
         80
        ],
        [
         "085",
         "48085031313",
         false,
         "Collin County",
         137
        ],
        [
         "113",
         "48113020400",
         false,
         "Dallas County",
         68
        ],
        [
         "201",
         "48201421700",
         false,
         "Harris County",
         65
        ],
        [
         "439",
         "48439113922",
         false,
         "Tarrant County",
         80
        ],
        [
         "453",
         "48453001826",
         false,
         "Travis County",
         77
        ],
        [
         "003",
         "49003960100",
         false,
         "Box Elder County",
         61
        ],
        [
         "003",
         "49003960300",
         false,
         "Box Elder County",
         134
        ],
        [
         "003",
         "49003960702",
         false,
         "Box Elder County",
         60
        ],
        [
         "003",
         "49003960801",
         false,
         "Box Elder County",
         66
        ],
        [
         "005",
         "49005000101",
         false,
         "Cache County",
         187
        ],
        [
         "005",
         "49005000201",
         false,
         "Cache County",
         76
        ],
        [
         "005",
         "49005000202",
         false,
         "Cache County",
         100
        ],
        [
         "005",
         "49005000401",
         false,
         "Cache County",
         71
        ],
        [
         "005",
         "49005000403",
         false,
         "Cache County",
         68
        ],
        [
         "005",
         "49005000501",
         false,
         "Cache County",
         68
        ],
        [
         "005",
         "49005000600",
         false,
         "Cache County",
         70
        ],
        [
         "005",
         "49005000701",
         false,
         "Cache County",
         142
        ],
        [
         "005",
         "49005000800",
         false,
         "Cache County",
         63
        ],
        [
         "005",
         "49005000900",
         false,
         "Cache County",
         68
        ],
        [
         "005",
         "49005001001",
         false,
         "Cache County",
         68
        ],
        [
         "005",
         "49005001002",
         false,
         "Cache County",
         140
        ],
        [
         "005",
         "49005001102",
         false,
         "Cache County",
         86
        ],
        [
         "005",
         "49005001401",
         false,
         "Cache County",
         78
        ],
        [
         "011",
         "49011125401",
         false,
         "Davis County",
         116
        ],
        [
         "011",
         "49011125403",
         false,
         "Davis County",
         131
        ],
        [
         "011",
         "49011125405",
         false,
         "Davis County",
         76
        ],
        [
         "011",
         "49011125801",
         false,
         "Davis County",
         68
        ],
        [
         "011",
         "49011125808",
         false,
         "Davis County",
         110
        ],
        [
         "011",
         "49011126101",
         false,
         "Davis County",
         77
        ],
        [
         "011",
         "49011126104",
         false,
         "Davis County",
         145
        ],
        [
         "011",
         "49011126105",
         false,
         "Davis County",
         138
        ],
        [
         "011",
         "49011126204",
         false,
         "Davis County",
         55
        ],
        [
         "011",
         "49011127003",
         false,
         "Davis County",
         59
        ],
        [
         "033",
         "49033950100",
         false,
         "Rich County",
         54
        ],
        [
         "035",
         "49035102702",
         false,
         "Salt Lake County",
         66
        ],
        [
         "035",
         "49035103400",
         false,
         "Salt Lake County",
         71
        ],
        [
         "035",
         "49035104800",
         false,
         "Salt Lake County",
         83
        ],
        [
         "035",
         "49035104900",
         false,
         "Salt Lake County",
         64
        ],
        [
         "035",
         "49035110600",
         false,
         "Salt Lake County",
         142
        ],
        [
         "035",
         "49035111903",
         false,
         "Salt Lake County",
         54
        ],
        [
         "035",
         "49035112201",
         false,
         "Salt Lake County",
         72
        ],
        [
         "035",
         "49035112302",
         false,
         "Salt Lake County",
         86
        ],
        [
         "035",
         "49035112609",
         false,
         "Salt Lake County",
         86
        ],
        [
         "035",
         "49035112805",
         false,
         "Salt Lake County",
         132
        ],
        [
         "035",
         "49035112810",
         false,
         "Salt Lake County",
         78
        ],
        [
         "035",
         "49035112820",
         false,
         "Salt Lake County",
         123
        ],
        [
         "035",
         "49035113011",
         false,
         "Salt Lake County",
         159
        ],
        [
         "035",
         "49035113105",
         false,
         "Salt Lake County",
         75
        ],
        [
         "035",
         "49035113107",
         false,
         "Salt Lake County",
         243
        ],
        [
         "035",
         "49035113305",
         false,
         "Salt Lake County",
         41
        ],
        [
         "035",
         "49035113306",
         false,
         "Salt Lake County",
         72
        ],
        [
         "035",
         "49035113412",
         false,
         "Salt Lake County",
         49
        ],
        [
         "035",
         "49035113514",
         false,
         "Salt Lake County",
         70
        ],
        [
         "035",
         "49035113525",
         false,
         "Salt Lake County",
         86
        ],
        [
         "035",
         "49035113526",
         false,
         "Salt Lake County",
         33
        ],
        [
         "035",
         "49035113527",
         false,
         "Salt Lake County",
         61
        ],
        [
         "035",
         "49035113803",
         false,
         "Salt Lake County",
         71
        ],
        [
         "043",
         "49043964102",
         false,
         "Summit County",
         54
        ],
        [
         "045",
         "49045130702",
         false,
         "Tooele County",
         124
        ],
        [
         "045",
         "49045130703",
         false,
         "Tooele County",
         68
        ],
        [
         "045",
         "49045130800",
         false,
         "Tooele County",
         63
        ],
        [
         "045",
         "49045131100",
         false,
         "Tooele County",
         67
        ],
        [
         "049",
         "49049000102",
         false,
         "Utah County",
         86
        ],
        [
         "049",
         "49049000105",
         false,
         "Utah County",
         116
        ],
        [
         "049",
         "49049000603",
         false,
         "Utah County",
         65
        ],
        [
         "049",
         "49049000703",
         false,
         "Utah County",
         63
        ],
        [
         "049",
         "49049000904",
         false,
         "Utah County",
         83
        ],
        [
         "049",
         "49049001402",
         false,
         "Utah County",
         125
        ],
        [
         "049",
         "49049001602",
         false,
         "Utah County",
         79
        ],
        [
         "049",
         "49049001603",
         false,
         "Utah County",
         70
        ],
        [
         "049",
         "49049001702",
         false,
         "Utah County",
         63
        ],
        [
         "049",
         "49049001803",
         false,
         "Utah County",
         62
        ],
        [
         "049",
         "49049001900",
         false,
         "Utah County",
         329
        ],
        [
         "049",
         "49049002206",
         false,
         "Utah County",
         60
        ],
        [
         "049",
         "49049002300",
         false,
         "Utah County",
         61
        ],
        [
         "049",
         "49049003104",
         false,
         "Utah County",
         86
        ],
        [
         "049",
         "49049003203",
         false,
         "Utah County",
         60
        ],
        [
         "049",
         "49049003204",
         false,
         "Utah County",
         65
        ],
        [
         "049",
         "49049003402",
         false,
         "Utah County",
         88
        ],
        [
         "049",
         "49049010109",
         false,
         "Utah County",
         69
        ],
        [
         "049",
         "49049010111",
         false,
         "Utah County",
         70
        ],
        [
         "049",
         "49049010112",
         false,
         "Utah County",
         175
        ],
        [
         "049",
         "49049010113",
         false,
         "Utah County",
         215
        ],
        [
         "049",
         "49049010212",
         false,
         "Utah County",
         66
        ],
        [
         "049",
         "49049010214",
         false,
         "Utah County",
         76
        ],
        [
         "049",
         "49049010219",
         false,
         "Utah County",
         72
        ],
        [
         "049",
         "49049010404",
         false,
         "Utah County",
         164
        ],
        [
         "049",
         "49049010405",
         false,
         "Utah County",
         185
        ],
        [
         "053",
         "49053270801",
         false,
         "Washington County",
         65
        ],
        [
         "053",
         "49053270802",
         false,
         "Washington County",
         71
        ],
        [
         "053",
         "49053270901",
         false,
         "Washington County",
         61
        ],
        [
         "053",
         "49053271600",
         false,
         "Washington County",
         55
        ],
        [
         "057",
         "49057200202",
         false,
         "Weber County",
         52
        ],
        [
         "057",
         "49057200800",
         false,
         "Weber County",
         72
        ],
        [
         "057",
         "49057210201",
         false,
         "Weber County",
         78
        ],
        [
         "057",
         "49057210302",
         false,
         "Weber County",
         64
        ],
        [
         "057",
         "49057210403",
         false,
         "Weber County",
         51
        ],
        [
         "057",
         "49057210504",
         false,
         "Weber County",
         66
        ],
        [
         "057",
         "49057210505",
         false,
         "Weber County",
         60
        ],
        [
         "057",
         "49057210506",
         false,
         "Weber County",
         73
        ],
        [
         "057",
         "49057210600",
         false,
         "Weber County",
         61
        ],
        [
         "057",
         "49057210704",
         false,
         "Weber County",
         61
        ],
        [
         "057",
         "49057211100",
         false,
         "Weber County",
         55
        ],
        [
         "003",
         "50003970200",
         false,
         "Bennington County",
         79
        ],
        [
         "059",
         "51059416200",
         false,
         "Fairfax County",
         52
        ],
        [
         "530",
         "51530930600",
         false,
         "Buena Vista city",
         55
        ],
        [
         "003",
         "53003960400",
         false,
         "Asotin County",
         60
        ],
        [
         "005",
         "53005010810",
         false,
         "Benton County",
         64
        ],
        [
         "005",
         "53005010811",
         false,
         "Benton County",
         98
        ],
        [
         "011",
         "53011040201",
         false,
         "Clark County",
         79
        ],
        [
         "021",
         "53021020605",
         false,
         "Franklin County",
         82
        ],
        [
         "029",
         "53029971500",
         false,
         "Island County",
         72
        ],
        [
         "033",
         "53033005301",
         false,
         "King County",
         67
        ],
        [
         "033",
         "53033007300",
         false,
         "King County",
         73
        ],
        [
         "033",
         "53033010702",
         false,
         "King County",
         66
        ],
        [
         "033",
         "53033026001",
         false,
         "King County",
         98
        ],
        [
         "033",
         "53033032601",
         false,
         "King County",
         104
        ],
        [
         "035",
         "53035092400",
         false,
         "Kitsap County",
         41
        ],
        [
         "051",
         "53051970300",
         false,
         "Pend Oreille County",
         98
        ],
        [
         "053",
         "53053062300",
         false,
         "Pierce County",
         98
        ],
        [
         "061",
         "53061052806",
         false,
         "Snohomish County",
         73
        ],
        [
         "063",
         "53063010503",
         false,
         "Spokane County",
         71
        ],
        [
         "063",
         "53063012701",
         false,
         "Spokane County",
         45
        ],
        [
         "063",
         "53063013202",
         false,
         "Spokane County",
         68
        ],
        [
         "075",
         "53075000100",
         false,
         "Whitman County",
         1337
        ],
        [
         "075",
         "53075000200",
         false,
         "Whitman County",
         109
        ],
        [
         "075",
         "53075000400",
         false,
         "Whitman County",
         45
        ],
        [
         "075",
         "53075000600",
         false,
         "Whitman County",
         45
        ],
        [
         "075",
         "53075000900",
         false,
         "Whitman County",
         25
        ],
        [
         "077",
         "53077000700",
         false,
         "Yakima County",
         116
        ],
        [
         "077",
         "53077002802",
         false,
         "Yakima County",
         59
        ],
        [
         "013",
         "56013940300",
         false,
         "Fremont County",
         83
        ],
        [
         "023",
         "56023978000",
         false,
         "Lincoln County",
         66
        ],
        [
         "023",
         "56023978100",
         false,
         "Lincoln County",
         78
        ],
        [
         "037",
         "56037970902",
         false,
         "Sweetwater County",
         55
        ],
        [
         "039",
         "56039967600",
         false,
         "Teton County",
         66
        ],
        [
         "039",
         "56039967702",
         false,
         "Teton County",
         70
        ],
        [
         "039",
         "56039967800",
         false,
         "Teton County",
         68
        ]
       ],
       "datasetInfos": [],
       "dbfsResultPath": null,
       "isJsonSchema": true,
       "metadata": {},
       "overflow": false,
       "plotOptions": {
        "customPlotOptions": {},
        "displayType": "table",
        "pivotAggregation": null,
        "pivotColumns": null,
        "xColumns": null,
        "yColumns": null
       },
       "removedWidgets": [],
       "schema": [
        {
         "metadata": "{}",
         "name": "county",
         "type": "\"string\""
        },
        {
         "metadata": "{}",
         "name": "tractcode",
         "type": "\"string\""
        },
        {
         "metadata": "{}",
         "name": "HasTemple",
         "type": "\"boolean\""
        },
        {
         "metadata": "{}",
         "name": "cnamelong",
         "type": "\"string\""
        },
        {
         "metadata": "{}",
         "name": "total_members",
         "type": "\"long\""
        }
       ],
       "type": "table"
      }
     },
     "output_type": "display_data"
    }
   ],
   "source": [
    "#tracttotal.schema\n",
    "display(tracttotal)"
   ]
  },
  {
   "cell_type": "code",
   "execution_count": 0,
   "metadata": {
    "application/vnd.databricks.v1+cell": {
     "cellMetadata": {
      "byteLimit": 2048000,
      "rowLimit": 10000
     },
     "inputWidgets": {},
     "nuid": "5a8b8982-2743-4510-a953-2f85b83aae50",
     "showTitle": false,
     "title": ""
    }
   },
   "outputs": [
    {
     "output_type": "display_data",
     "data": {
      "text/html": [
       "<style scoped>\n",
       "  .table-result-container {\n",
       "    max-height: 300px;\n",
       "    overflow: auto;\n",
       "  }\n",
       "  table, th, td {\n",
       "    border: 1px solid black;\n",
       "    border-collapse: collapse;\n",
       "  }\n",
       "  th, td {\n",
       "    padding: 5px;\n",
       "  }\n",
       "  th {\n",
       "    text-align: left;\n",
       "  }\n",
       "</style><div class='table-result-container'><table class='table-result'><thead style='background-color: white'><tr><th>county</th><th>tractcode</th><th>HasTemple</th><th>cnamelong</th><th>total_members</th></tr></thead><tbody><tr><td>001</td><td>16001001900</td><td>true</td><td>Ada County</td><td>370</td></tr><tr><td>001</td><td>16001010332</td><td>true</td><td>Ada County</td><td>467</td></tr><tr><td>019</td><td>16019971200</td><td>true</td><td>Bonneville County</td><td>686</td></tr><tr><td>065</td><td>16065950301</td><td>true</td><td>Madison County</td><td>1746</td></tr><tr><td>083</td><td>16083000200</td><td>true</td><td>Twin Falls County</td><td>1292</td></tr></tbody></table></div>"
      ]
     },
     "metadata": {
      "application/vnd.databricks.v1+output": {
       "addedWidgets": {},
       "aggData": [],
       "aggError": "",
       "aggOverflow": false,
       "aggSchema": [],
       "aggSeriesLimitReached": false,
       "aggType": "",
       "arguments": {},
       "columnCustomDisplayInfos": {},
       "data": [
        [
         "001",
         "16001001900",
         true,
         "Ada County",
         370
        ],
        [
         "001",
         "16001010332",
         true,
         "Ada County",
         467
        ],
        [
         "019",
         "16019971200",
         true,
         "Bonneville County",
         686
        ],
        [
         "065",
         "16065950301",
         true,
         "Madison County",
         1746
        ],
        [
         "083",
         "16083000200",
         true,
         "Twin Falls County",
         1292
        ]
       ],
       "datasetInfos": [],
       "dbfsResultPath": null,
       "isJsonSchema": true,
       "metadata": {},
       "overflow": false,
       "plotOptions": {
        "customPlotOptions": {},
        "displayType": "table",
        "pivotAggregation": null,
        "pivotColumns": null,
        "xColumns": null,
        "yColumns": null
       },
       "removedWidgets": [],
       "schema": [
        {
         "metadata": "{}",
         "name": "county",
         "type": "\"string\""
        },
        {
         "metadata": "{}",
         "name": "tractcode",
         "type": "\"string\""
        },
        {
         "metadata": "{}",
         "name": "HasTemple",
         "type": "\"boolean\""
        },
        {
         "metadata": "{}",
         "name": "cnamelong",
         "type": "\"string\""
        },
        {
         "metadata": "{}",
         "name": "total_members",
         "type": "\"long\""
        }
       ],
       "type": "table"
      }
     },
     "output_type": "display_data"
    }
   ],
   "source": [
    "b = tracttotal\\\n",
    "    .filter(\n",
    "        (col(\"tractcode\").isin([\"16001010332\",\"16019971200\", \"16001001900\",\"16083000200\",\"16065950301\"]))\n",
    "    )\\\n",
    "    .withColumn(\n",
    "        \"HasTemple\",\n",
    "        when(tracttotal.HasTemple == False, True)\n",
    "    )\n",
    "\n",
    "display(b)"
   ]
  },
  {
   "cell_type": "code",
   "execution_count": 0,
   "metadata": {
    "application/vnd.databricks.v1+cell": {
     "cellMetadata": {
      "byteLimit": 2048000,
      "rowLimit": 10000
     },
     "inputWidgets": {},
     "nuid": "4800a1a1-4e62-474a-9f95-1a85aedf26de",
     "showTitle": false,
     "title": ""
    }
   },
   "outputs": [
    {
     "output_type": "display_data",
     "data": {
      "text/html": [
       "<style scoped>\n",
       "  .table-result-container {\n",
       "    max-height: 300px;\n",
       "    overflow: auto;\n",
       "  }\n",
       "  table, th, td {\n",
       "    border: 1px solid black;\n",
       "    border-collapse: collapse;\n",
       "  }\n",
       "  th, td {\n",
       "    padding: 5px;\n",
       "  }\n",
       "  th {\n",
       "    text-align: left;\n",
       "  }\n",
       "</style><div class='table-result-container'><table class='table-result'><thead style='background-color: white'><tr><th>county</th><th>tractcode</th><th>HasTemple</th><th>cnamelong</th><th>total_members</th></tr></thead><tbody><tr><td>003</td><td>04003001100</td><td>false</td><td>Cochise County</td><td>83</td></tr><tr><td>013</td><td>04013082009</td><td>false</td><td>Maricopa County</td><td>84</td></tr><tr><td>013</td><td>04013421304</td><td>false</td><td>Maricopa County</td><td>94</td></tr><tr><td>013</td><td>04013421801</td><td>false</td><td>Maricopa County</td><td>58</td></tr><tr><td>013</td><td>04013422513</td><td>false</td><td>Maricopa County</td><td>63</td></tr><tr><td>013</td><td>04013812400</td><td>false</td><td>Maricopa County</td><td>70</td></tr><tr><td>013</td><td>04013813300</td><td>false</td><td>Maricopa County</td><td>60</td></tr><tr><td>017</td><td>04017963300</td><td>false</td><td>Navajo County</td><td>84</td></tr><tr><td>019</td><td>04019004646</td><td>false</td><td>Pima County</td><td>74</td></tr><tr><td>027</td><td>04027001200</td><td>false</td><td>Yuma County</td><td>46</td></tr><tr><td>017</td><td>06017030709</td><td>false</td><td>El Dorado County</td><td>71</td></tr><tr><td>037</td><td>06037262100</td><td>false</td><td>Los Angeles County</td><td>71</td></tr><tr><td>037</td><td>06037503401</td><td>false</td><td>Los Angeles County</td><td>72</td></tr><tr><td>037</td><td>06037910301</td><td>false</td><td>Los Angeles County</td><td>84</td></tr><tr><td>061</td><td>06061023900</td><td>false</td><td>Placer County</td><td>74</td></tr><tr><td>071</td><td>06071012002</td><td>false</td><td>San Bernardino County</td><td>94</td></tr><tr><td>073</td><td>06073007002</td><td>false</td><td>San Diego County</td><td>65</td></tr><tr><td>073</td><td>06073015501</td><td>false</td><td>San Diego County</td><td>139</td></tr><tr><td>073</td><td>06073020103</td><td>false</td><td>San Diego County</td><td>75</td></tr><tr><td>077</td><td>06077003500</td><td>false</td><td>San Joaquin County</td><td>71</td></tr><tr><td>083</td><td>06083001304</td><td>false</td><td>Santa Barbara County</td><td>72</td></tr><tr><td>099</td><td>06099000402</td><td>false</td><td>Stanislaus County</td><td>66</td></tr><tr><td>059</td><td>08059009824</td><td>false</td><td>Jefferson County</td><td>72</td></tr><tr><td>085</td><td>08085966400</td><td>false</td><td>Montrose County</td><td>71</td></tr><tr><td>073</td><td>12073002206</td><td>false</td><td>Leon County</td><td>83</td></tr><tr><td>073</td><td>12073002508</td><td>false</td><td>Leon County</td><td>83</td></tr><tr><td>091</td><td>12091021101</td><td>false</td><td>Okaloosa County</td><td>83</td></tr><tr><td>091</td><td>12091022500</td><td>false</td><td>Okaloosa County</td><td>83</td></tr><tr><td>115</td><td>13115000700</td><td>false</td><td>Floyd County</td><td>45</td></tr><tr><td>007</td><td>15007040603</td><td>false</td><td>Kauai County</td><td>50</td></tr><tr><td>001</td><td>16001000201</td><td>false</td><td>Ada County</td><td>104</td></tr><tr><td>001</td><td>16001000202</td><td>false</td><td>Ada County</td><td>518</td></tr><tr><td>001</td><td>16001000302</td><td>false</td><td>Ada County</td><td>61</td></tr><tr><td>001</td><td>16001000303</td><td>false</td><td>Ada County</td><td>148</td></tr><tr><td>001</td><td>16001000304</td><td>false</td><td>Ada County</td><td>370</td></tr><tr><td>001</td><td>16001000400</td><td>false</td><td>Ada County</td><td>141</td></tr><tr><td>001</td><td>16001000500</td><td>false</td><td>Ada County</td><td>71</td></tr><tr><td>001</td><td>16001000600</td><td>false</td><td>Ada County</td><td>130</td></tr><tr><td>001</td><td>16001000701</td><td>false</td><td>Ada County</td><td>82</td></tr><tr><td>001</td><td>16001000702</td><td>false</td><td>Ada County</td><td>135</td></tr><tr><td>001</td><td>16001000802</td><td>false</td><td>Ada County</td><td>384</td></tr><tr><td>001</td><td>16001000803</td><td>false</td><td>Ada County</td><td>315</td></tr><tr><td>001</td><td>16001000804</td><td>false</td><td>Ada County</td><td>150</td></tr><tr><td>001</td><td>16001000900</td><td>false</td><td>Ada County</td><td>1053</td></tr><tr><td>001</td><td>16001001000</td><td>false</td><td>Ada County</td><td>364</td></tr><tr><td>001</td><td>16001001100</td><td>false</td><td>Ada County</td><td>197</td></tr><tr><td>001</td><td>16001001201</td><td>false</td><td>Ada County</td><td>344</td></tr><tr><td>001</td><td>16001001202</td><td>false</td><td>Ada County</td><td>635</td></tr><tr><td>001</td><td>16001001400</td><td>false</td><td>Ada County</td><td>510</td></tr><tr><td>001</td><td>16001001500</td><td>false</td><td>Ada County</td><td>193</td></tr><tr><td>001</td><td>16001001600</td><td>false</td><td>Ada County</td><td>64</td></tr><tr><td>001</td><td>16001001700</td><td>false</td><td>Ada County</td><td>784</td></tr><tr><td>001</td><td>16001001800</td><td>false</td><td>Ada County</td><td>647</td></tr><tr><td>001</td><td>16001002000</td><td>false</td><td>Ada County</td><td>578</td></tr><tr><td>001</td><td>16001002100</td><td>false</td><td>Ada County</td><td>520</td></tr><tr><td>001</td><td>16001002221</td><td>false</td><td>Ada County</td><td>897</td></tr><tr><td>001</td><td>16001002222</td><td>false</td><td>Ada County</td><td>373</td></tr><tr><td>001</td><td>16001002223</td><td>false</td><td>Ada County</td><td>409</td></tr><tr><td>001</td><td>16001002224</td><td>false</td><td>Ada County</td><td>1197</td></tr><tr><td>001</td><td>16001002302</td><td>false</td><td>Ada County</td><td>663</td></tr><tr><td>001</td><td>16001002310</td><td>false</td><td>Ada County</td><td>435</td></tr><tr><td>001</td><td>16001002312</td><td>false</td><td>Ada County</td><td>436</td></tr><tr><td>001</td><td>16001002313</td><td>false</td><td>Ada County</td><td>200</td></tr><tr><td>001</td><td>16001002410</td><td>false</td><td>Ada County</td><td>370</td></tr><tr><td>001</td><td>16001002411</td><td>false</td><td>Ada County</td><td>556</td></tr><tr><td>001</td><td>16001002412</td><td>false</td><td>Ada County</td><td>62</td></tr><tr><td>001</td><td>16001002413</td><td>false</td><td>Ada County</td><td>700</td></tr><tr><td>001</td><td>16001010100</td><td>false</td><td>Ada County</td><td>647</td></tr><tr><td>001</td><td>16001010201</td><td>false</td><td>Ada County</td><td>1760</td></tr><tr><td>001</td><td>16001010221</td><td>false</td><td>Ada County</td><td>1182</td></tr><tr><td>001</td><td>16001010223</td><td>false</td><td>Ada County</td><td>780</td></tr><tr><td>001</td><td>16001010224</td><td>false</td><td>Ada County</td><td>521</td></tr><tr><td>001</td><td>16001010225</td><td>false</td><td>Ada County</td><td>767</td></tr><tr><td>001</td><td>16001010313</td><td>false</td><td>Ada County</td><td>5967</td></tr><tr><td>001</td><td>16001010321</td><td>false</td><td>Ada County</td><td>418</td></tr><tr><td>001</td><td>16001010322</td><td>false</td><td>Ada County</td><td>765</td></tr><tr><td>001</td><td>16001010331</td><td>false</td><td>Ada County</td><td>2996</td></tr><tr><td>001</td><td>16001010333</td><td>false</td><td>Ada County</td><td>748</td></tr><tr><td>001</td><td>16001010334</td><td>false</td><td>Ada County</td><td>603</td></tr><tr><td>001</td><td>16001010335</td><td>false</td><td>Ada County</td><td>1161</td></tr><tr><td>001</td><td>16001010401</td><td>false</td><td>Ada County</td><td>2411</td></tr><tr><td>001</td><td>16001010402</td><td>false</td><td>Ada County</td><td>1629</td></tr><tr><td>001</td><td>16001010501</td><td>false</td><td>Ada County</td><td>206</td></tr><tr><td>001</td><td>16001010503</td><td>false</td><td>Ada County</td><td>774</td></tr><tr><td>001</td><td>16001010504</td><td>false</td><td>Ada County</td><td>504</td></tr><tr><td>005</td><td>16005000200</td><td>false</td><td>Bannock County</td><td>1413</td></tr><tr><td>005</td><td>16005000300</td><td>false</td><td>Bannock County</td><td>1781</td></tr><tr><td>005</td><td>16005000400</td><td>false</td><td>Bannock County</td><td>1897</td></tr><tr><td>005</td><td>16005000500</td><td>false</td><td>Bannock County</td><td>211</td></tr><tr><td>005</td><td>16005000600</td><td>false</td><td>Bannock County</td><td>582</td></tr><tr><td>005</td><td>16005000700</td><td>false</td><td>Bannock County</td><td>445</td></tr><tr><td>005</td><td>16005000800</td><td>false</td><td>Bannock County</td><td>488</td></tr><tr><td>005</td><td>16005000900</td><td>false</td><td>Bannock County</td><td>210</td></tr><tr><td>005</td><td>16005001000</td><td>false</td><td>Bannock County</td><td>625</td></tr><tr><td>005</td><td>16005001101</td><td>false</td><td>Bannock County</td><td>3046</td></tr><tr><td>005</td><td>16005001102</td><td>false</td><td>Bannock County</td><td>492</td></tr><tr><td>005</td><td>16005001200</td><td>false</td><td>Bannock County</td><td>190</td></tr><tr><td>005</td><td>16005001300</td><td>false</td><td>Bannock County</td><td>270</td></tr><tr><td>005</td><td>16005001400</td><td>false</td><td>Bannock County</td><td>393</td></tr><tr><td>005</td><td>16005001500</td><td>false</td><td>Bannock County</td><td>460</td></tr><tr><td>005</td><td>16005001601</td><td>false</td><td>Bannock County</td><td>217</td></tr><tr><td>005</td><td>16005001602</td><td>false</td><td>Bannock County</td><td>301</td></tr><tr><td>005</td><td>16005001603</td><td>false</td><td>Bannock County</td><td>324</td></tr><tr><td>005</td><td>16005001700</td><td>false</td><td>Bannock County</td><td>970</td></tr><tr><td>005</td><td>16005001900</td><td>false</td><td>Bannock County</td><td>450</td></tr><tr><td>005</td><td>16005940000</td><td>false</td><td>Bannock County</td><td>209</td></tr><tr><td>007</td><td>16007950100</td><td>false</td><td>Bear Lake County</td><td>876</td></tr><tr><td>007</td><td>16007950200</td><td>false</td><td>Bear Lake County</td><td>309</td></tr><tr><td>011</td><td>16011940000</td><td>false</td><td>Bingham County</td><td>109</td></tr><tr><td>011</td><td>16011950100</td><td>false</td><td>Bingham County</td><td>2691</td></tr><tr><td>011</td><td>16011950200</td><td>false</td><td>Bingham County</td><td>1093</td></tr><tr><td>011</td><td>16011950300</td><td>false</td><td>Bingham County</td><td>830</td></tr><tr><td>011</td><td>16011950400</td><td>false</td><td>Bingham County</td><td>1477</td></tr><tr><td>011</td><td>16011950500</td><td>false</td><td>Bingham County</td><td>2105</td></tr><tr><td>011</td><td>16011950600</td><td>false</td><td>Bingham County</td><td>1714</td></tr><tr><td>011</td><td>16011950700</td><td>false</td><td>Bingham County</td><td>1136</td></tr><tr><td>013</td><td>16013960100</td><td>false</td><td>Blaine County</td><td>305</td></tr><tr><td>013</td><td>16013960200</td><td>false</td><td>Blaine County</td><td>347</td></tr><tr><td>015</td><td>16015950200</td><td>false</td><td>Boise County</td><td>88</td></tr><tr><td>017</td><td>16017950200</td><td>false</td><td>Bonner County</td><td>414</td></tr><tr><td>017</td><td>16017950400</td><td>false</td><td>Bonner County</td><td>104</td></tr><tr><td>017</td><td>16017950800</td><td>false</td><td>Bonner County</td><td>72</td></tr><tr><td>019</td><td>16019970100</td><td>false</td><td>Bonneville County</td><td>2981</td></tr><tr><td>019</td><td>16019970300</td><td>false</td><td>Bonneville County</td><td>5433</td></tr><tr><td>019</td><td>16019970401</td><td>false</td><td>Bonneville County</td><td>881</td></tr><tr><td>019</td><td>16019970402</td><td>false</td><td>Bonneville County</td><td>1799</td></tr><tr><td>019</td><td>16019970403</td><td>false</td><td>Bonneville County</td><td>2281</td></tr><tr><td>019</td><td>16019970501</td><td>false</td><td>Bonneville County</td><td>3836</td></tr><tr><td>019</td><td>16019970502</td><td>false</td><td>Bonneville County</td><td>945</td></tr><tr><td>019</td><td>16019970503</td><td>false</td><td>Bonneville County</td><td>1376</td></tr><tr><td>019</td><td>16019970601</td><td>false</td><td>Bonneville County</td><td>1164</td></tr><tr><td>019</td><td>16019970602</td><td>false</td><td>Bonneville County</td><td>1538</td></tr><tr><td>019</td><td>16019970603</td><td>false</td><td>Bonneville County</td><td>344</td></tr><tr><td>019</td><td>16019970700</td><td>false</td><td>Bonneville County</td><td>670</td></tr><tr><td>019</td><td>16019970800</td><td>false</td><td>Bonneville County</td><td>700</td></tr><tr><td>019</td><td>16019970900</td><td>false</td><td>Bonneville County</td><td>716</td></tr><tr><td>019</td><td>16019971000</td><td>false</td><td>Bonneville County</td><td>913</td></tr><tr><td>019</td><td>16019971100</td><td>false</td><td>Bonneville County</td><td>644</td></tr><tr><td>019</td><td>16019971301</td><td>false</td><td>Bonneville County</td><td>1474</td></tr><tr><td>019</td><td>16019971302</td><td>false</td><td>Bonneville County</td><td>1291</td></tr><tr><td>019</td><td>16019971400</td><td>false</td><td>Bonneville County</td><td>2426</td></tr><tr><td>019</td><td>16019971500</td><td>false</td><td>Bonneville County</td><td>239</td></tr><tr><td>023</td><td>16023970100</td><td>false</td><td>Butte County</td><td>430</td></tr><tr><td>025</td><td>16025970100</td><td>false</td><td>Camas County</td><td>77</td></tr><tr><td>027</td><td>16027020100</td><td>false</td><td>Canyon County</td><td>89</td></tr><tr><td>027</td><td>16027020300</td><td>false</td><td>Canyon County</td><td>81</td></tr><tr><td>027</td><td>16027020401</td><td>false</td><td>Canyon County</td><td>460</td></tr><tr><td>027</td><td>16027020402</td><td>false</td><td>Canyon County</td><td>150</td></tr><tr><td>027</td><td>16027020501</td><td>false</td><td>Canyon County</td><td>113</td></tr><tr><td>027</td><td>16027020503</td><td>false</td><td>Canyon County</td><td>322</td></tr><tr><td>027</td><td>16027020504</td><td>false</td><td>Canyon County</td><td>83</td></tr><tr><td>027</td><td>16027020601</td><td>false</td><td>Canyon County</td><td>242</td></tr><tr><td>027</td><td>16027020602</td><td>false</td><td>Canyon County</td><td>329</td></tr><tr><td>027</td><td>16027020700</td><td>false</td><td>Canyon County</td><td>71</td></tr><tr><td>027</td><td>16027020901</td><td>false</td><td>Canyon County</td><td>2884</td></tr><tr><td>027</td><td>16027020902</td><td>false</td><td>Canyon County</td><td>1565</td></tr><tr><td>027</td><td>16027021001</td><td>false</td><td>Canyon County</td><td>501</td></tr><tr><td>027</td><td>16027021002</td><td>false</td><td>Canyon County</td><td>628</td></tr><tr><td>027</td><td>16027021100</td><td>false</td><td>Canyon County</td><td>1873</td></tr><tr><td>027</td><td>16027021200</td><td>false</td><td>Canyon County</td><td>103</td></tr><tr><td>027</td><td>16027021300</td><td>false</td><td>Canyon County</td><td>47</td></tr><tr><td>027</td><td>16027021500</td><td>false</td><td>Canyon County</td><td>257</td></tr><tr><td>027</td><td>16027021700</td><td>false</td><td>Canyon County</td><td>128</td></tr><tr><td>027</td><td>16027021800</td><td>false</td><td>Canyon County</td><td>126</td></tr><tr><td>027</td><td>16027021901</td><td>false</td><td>Canyon County</td><td>274</td></tr><tr><td>027</td><td>16027021903</td><td>false</td><td>Canyon County</td><td>510</td></tr><tr><td>027</td><td>16027021904</td><td>false</td><td>Canyon County</td><td>72</td></tr><tr><td>027</td><td>16027022200</td><td>false</td><td>Canyon County</td><td>162</td></tr><tr><td>027</td><td>16027022300</td><td>false</td><td>Canyon County</td><td>135</td></tr><tr><td>027</td><td>16027022400</td><td>false</td><td>Canyon County</td><td>510</td></tr><tr><td>029</td><td>16029960100</td><td>false</td><td>Caribou County</td><td>1406</td></tr><tr><td>029</td><td>16029960200</td><td>false</td><td>Caribou County</td><td>510</td></tr><tr><td>031</td><td>16031950100</td><td>false</td><td>Cassia County</td><td>696</td></tr><tr><td>031</td><td>16031950200</td><td>false</td><td>Cassia County</td><td>2028</td></tr><tr><td>031</td><td>16031950300</td><td>false</td><td>Cassia County</td><td>2715</td></tr><tr><td>031</td><td>16031950400</td><td>false</td><td>Cassia County</td><td>592</td></tr><tr><td>031</td><td>16031950500</td><td>false</td><td>Cassia County</td><td>2476</td></tr><tr><td>031</td><td>16031950600</td><td>false</td><td>Cassia County</td><td>1393</td></tr><tr><td>037</td><td>16037960200</td><td>false</td><td>Custer County</td><td>57</td></tr><tr><td>039</td><td>16039960200</td><td>false</td><td>Elmore County</td><td>454</td></tr><tr><td>039</td><td>16039960300</td><td>false</td><td>Elmore County</td><td>120</td></tr><tr><td>039</td><td>16039960400</td><td>false</td><td>Elmore County</td><td>450</td></tr><tr><td>041</td><td>16041970100</td><td>false</td><td>Franklin County</td><td>1765</td></tr><tr><td>041</td><td>16041970200</td><td>false</td><td>Franklin County</td><td>2149</td></tr><tr><td>043</td><td>16043970100</td><td>false</td><td>Fremont County</td><td>634</td></tr><tr><td>043</td><td>16043970200</td><td>false</td><td>Fremont County</td><td>1348</td></tr><tr><td>043</td><td>16043970300</td><td>false</td><td>Fremont County</td><td>5832</td></tr><tr><td>045</td><td>16045960100</td><td>false</td><td>Gem County</td><td>587</td></tr><tr><td>045</td><td>16045960200</td><td>false</td><td>Gem County</td><td>885</td></tr><tr><td>045</td><td>16045960300</td><td>false</td><td>Gem County</td><td>326</td></tr><tr><td>047</td><td>16047960100</td><td>false</td><td>Gooding County</td><td>603</td></tr><tr><td>047</td><td>16047960200</td><td>false</td><td>Gooding County</td><td>433</td></tr><tr><td>049</td><td>16049960400</td><td>false</td><td>Idaho County</td><td>192</td></tr><tr><td>051</td><td>16051960100</td><td>false</td><td>Jefferson County</td><td>209</td></tr><tr><td>051</td><td>16051960200</td><td>false</td><td>Jefferson County</td><td>1500</td></tr><tr><td>051</td><td>16051960300</td><td>false</td><td>Jefferson County</td><td>2392</td></tr><tr><td>051</td><td>16051960400</td><td>false</td><td>Jefferson County</td><td>2851</td></tr><tr><td>053</td><td>16053970200</td><td>false</td><td>Jerome County</td><td>328</td></tr><tr><td>053</td><td>16053970300</td><td>false</td><td>Jerome County</td><td>413</td></tr><tr><td>053</td><td>16053970400</td><td>false</td><td>Jerome County</td><td>138</td></tr><tr><td>053</td><td>16053970500</td><td>false</td><td>Jerome County</td><td>1005</td></tr><tr><td>055</td><td>16055000100</td><td>false</td><td>Kootenai County</td><td>68</td></tr><tr><td>055</td><td>16055000200</td><td>false</td><td>Kootenai County</td><td>731</td></tr><tr><td>055</td><td>16055000301</td><td>false</td><td>Kootenai County</td><td>162</td></tr><tr><td>055</td><td>16055000302</td><td>false</td><td>Kootenai County</td><td>503</td></tr><tr><td>055</td><td>16055000402</td><td>false</td><td>Kootenai County</td><td>68</td></tr><tr><td>055</td><td>16055000500</td><td>false</td><td>Kootenai County</td><td>357</td></tr><tr><td>055</td><td>16055000601</td><td>false</td><td>Kootenai County</td><td>98</td></tr><tr><td>055</td><td>16055000602</td><td>false</td><td>Kootenai County</td><td>64</td></tr><tr><td>055</td><td>16055000700</td><td>false</td><td>Kootenai County</td><td>8251</td></tr><tr><td>055</td><td>16055000800</td><td>false</td><td>Kootenai County</td><td>246</td></tr><tr><td>055</td><td>16055000900</td><td>false</td><td>Kootenai County</td><td>98</td></tr><tr><td>055</td><td>16055001001</td><td>false</td><td>Kootenai County</td><td>71</td></tr><tr><td>055</td><td>16055001002</td><td>false</td><td>Kootenai County</td><td>284</td></tr><tr><td>055</td><td>16055001100</td><td>false</td><td>Kootenai County</td><td>233</td></tr><tr><td>055</td><td>16055001200</td><td>false</td><td>Kootenai County</td><td>147</td></tr><tr><td>055</td><td>16055001300</td><td>false</td><td>Kootenai County</td><td>755</td></tr><tr><td>055</td><td>16055001400</td><td>false</td><td>Kootenai County</td><td>98</td></tr><tr><td>055</td><td>16055001500</td><td>false</td><td>Kootenai County</td><td>199</td></tr><tr><td>055</td><td>16055001700</td><td>false</td><td>Kootenai County</td><td>68</td></tr><tr><td>055</td><td>16055001800</td><td>false</td><td>Kootenai County</td><td>333</td></tr><tr><td>055</td><td>16055001900</td><td>false</td><td>Kootenai County</td><td>83</td></tr><tr><td>055</td><td>16055002000</td><td>false</td><td>Kootenai County</td><td>196</td></tr><tr><td>057</td><td>16057005100</td><td>false</td><td>Latah County</td><td>198</td></tr><tr><td>057</td><td>16057005200</td><td>false</td><td>Latah County</td><td>563</td></tr><tr><td>057</td><td>16057005500</td><td>false</td><td>Latah County</td><td>25</td></tr><tr><td>057</td><td>16057005600</td><td>false</td><td>Latah County</td><td>45</td></tr><tr><td>059</td><td>16059970100</td><td>false</td><td>Lemhi County</td><td>276</td></tr><tr><td>059</td><td>16059970200</td><td>false</td><td>Lemhi County</td><td>117</td></tr><tr><td>063</td><td>16063950100</td><td>false</td><td>Lincoln County</td><td>154</td></tr><tr><td>065</td><td>16065950100</td><td>false</td><td>Madison County</td><td>1996</td></tr><tr><td>065</td><td>16065950200</td><td>false</td><td>Madison County</td><td>1204</td></tr><tr><td>065</td><td>16065950302</td><td>false</td><td>Madison County</td><td>5525</td></tr><tr><td>065</td><td>16065950400</td><td>false</td><td>Madison County</td><td>1521</td></tr><tr><td>065</td><td>16065950500</td><td>false</td><td>Madison County</td><td>2088</td></tr><tr><td>067</td><td>16067970100</td><td>false</td><td>Minidoka County</td><td>345</td></tr><tr><td>067</td><td>16067970200</td><td>false</td><td>Minidoka County</td><td>1092</td></tr><tr><td>067</td><td>16067970300</td><td>false</td><td>Minidoka County</td><td>711</td></tr><tr><td>067</td><td>16067970400</td><td>false</td><td>Minidoka County</td><td>694</td></tr><tr><td>067</td><td>16067970500</td><td>false</td><td>Minidoka County</td><td>844</td></tr><tr><td>069</td><td>16069960200</td><td>false</td><td>Nez Perce County</td><td>25</td></tr><tr><td>069</td><td>16069960400</td><td>false</td><td>Nez Perce County</td><td>60</td></tr><tr><td>069</td><td>16069960500</td><td>false</td><td>Nez Perce County</td><td>105</td></tr><tr><td>069</td><td>16069960600</td><td>false</td><td>Nez Perce County</td><td>60</td></tr><tr><td>069</td><td>16069960900</td><td>false</td><td>Nez Perce County</td><td>60</td></tr><tr><td>069</td><td>16069961000</td><td>false</td><td>Nez Perce County</td><td>60</td></tr><tr><td>071</td><td>16071960100</td><td>false</td><td>Oneida County</td><td>860</td></tr><tr><td>073</td><td>16073950101</td><td>false</td><td>Owyhee County</td><td>293</td></tr><tr><td>073</td><td>16073950102</td><td>false</td><td>Owyhee County</td><td>67</td></tr><tr><td>073</td><td>16073950200</td><td>false</td><td>Owyhee County</td><td>327</td></tr><tr><td>075</td><td>16075960100</td><td>false</td><td>Payette County</td><td>134</td></tr><tr><td>075</td><td>16075960200</td><td>false</td><td>Payette County</td><td>233</td></tr><tr><td>075</td><td>16075960300</td><td>false</td><td>Payette County</td><td>1403</td></tr><tr><td>075</td><td>16075960400</td><td>false</td><td>Payette County</td><td>157</td></tr><tr><td>077</td><td>16077960100</td><td>false</td><td>Power County</td><td>572</td></tr><tr><td>077</td><td>16077960200</td><td>false</td><td>Power County</td><td>1460</td></tr><tr><td>079</td><td>16079960200</td><td>false</td><td>Shoshone County</td><td>155</td></tr><tr><td>079</td><td>16079960300</td><td>false</td><td>Shoshone County</td><td>126</td></tr><tr><td>081</td><td>16081960100</td><td>false</td><td>Teton County</td><td>292</td></tr><tr><td>083</td><td>16083000300</td><td>false</td><td>Twin Falls County</td><td>420</td></tr><tr><td>083</td><td>16083000400</td><td>false</td><td>Twin Falls County</td><td>135</td></tr><tr><td>083</td><td>16083000500</td><td>false</td><td>Twin Falls County</td><td>1631</td></tr><tr><td>083</td><td>16083000600</td><td>false</td><td>Twin Falls County</td><td>474</td></tr><tr><td>083</td><td>16083000700</td><td>false</td><td>Twin Falls County</td><td>1763</td></tr><tr><td>083</td><td>16083000800</td><td>false</td><td>Twin Falls County</td><td>542</td></tr><tr><td>083</td><td>16083000900</td><td>false</td><td>Twin Falls County</td><td>1325</td></tr><tr><td>083</td><td>16083001000</td><td>false</td><td>Twin Falls County</td><td>1088</td></tr><tr><td>083</td><td>16083001100</td><td>false</td><td>Twin Falls County</td><td>88</td></tr><tr><td>083</td><td>16083001200</td><td>false</td><td>Twin Falls County</td><td>576</td></tr><tr><td>083</td><td>16083001300</td><td>false</td><td>Twin Falls County</td><td>1669</td></tr><tr><td>083</td><td>16083001400</td><td>false</td><td>Twin Falls County</td><td>230</td></tr><tr><td>083</td><td>16083001500</td><td>false</td><td>Twin Falls County</td><td>230</td></tr><tr><td>085</td><td>16085970100</td><td>false</td><td>Valley County</td><td>62</td></tr><tr><td>085</td><td>16085970200</td><td>false</td><td>Valley County</td><td>71</td></tr><tr><td>087</td><td>16087970100</td><td>false</td><td>Washington County</td><td>322</td></tr><tr><td>087</td><td>16087970200</td><td>false</td><td>Washington County</td><td>184</td></tr><tr><td>087</td><td>16087970300</td><td>false</td><td>Washington County</td><td>231</td></tr><tr><td>011</td><td>18011810400</td><td>false</td><td>Boone County</td><td>64</td></tr><tr><td>057</td><td>19057001000</td><td>false</td><td>Des Moines County</td><td>88</td></tr><tr><td>155</td><td>20155001800</td><td>false</td><td>Reno County</td><td>83</td></tr><tr><td>185</td><td>21185030601</td><td>false</td><td>Oldham County</td><td>69</td></tr><tr><td>015</td><td>22015010806</td><td>false</td><td>Bossier Parish</td><td>61</td></tr><tr><td>031</td><td>24031700823</td><td>false</td><td>Montgomery County</td><td>54</td></tr><tr><td>043</td><td>26043950300</td><td>false</td><td>Dickinson County</td><td>73</td></tr><tr><td>049</td><td>26049013002</td><td>false</td><td>Genesee County</td><td>53</td></tr><tr><td>065</td><td>26065005001</td><td>false</td><td>Ingham County</td><td>53</td></tr><tr><td>161</td><td>26161431000</td><td>false</td><td>Washtenaw County</td><td>70</td></tr><tr><td>145</td><td>27145000601</td><td>false</td><td>Stearns County</td><td>50</td></tr><tr><td>209</td><td>29209090601</td><td>false</td><td>Stone County</td><td>76</td></tr><tr><td>031</td><td>30031000300</td><td>false</td><td>Gallatin County</td><td>49</td></tr><tr><td>031</td><td>30031000900</td><td>false</td><td>Gallatin County</td><td>55</td></tr><tr><td>031</td><td>30031001500</td><td>false</td><td>Gallatin County</td><td>86</td></tr><tr><td>041</td><td>30041040300</td><td>false</td><td>Hill County</td><td>55</td></tr><tr><td>043</td><td>30043962202</td><td>false</td><td>Jefferson County</td><td>178</td></tr><tr><td>057</td><td>30057000200</td><td>false</td><td>Madison County</td><td>65</td></tr><tr><td>063</td><td>30063000202</td><td>false</td><td>Missoula County</td><td>68</td></tr><tr><td>063</td><td>30063001302</td><td>false</td><td>Missoula County</td><td>66</td></tr><tr><td>081</td><td>30081000202</td><td>false</td><td>Ravalli County</td><td>71</td></tr><tr><td>111</td><td>30111000702</td><td>false</td><td>Yellowstone County</td><td>69</td></tr><tr><td>055</td><td>31055002300</td><td>false</td><td>Douglas County</td><td>66</td></tr><tr><td>003</td><td>32003002808</td><td>false</td><td>Clark County</td><td>68</td></tr><tr><td>003</td><td>32003003318</td><td>false</td><td>Clark County</td><td>66</td></tr><tr><td>003</td><td>32003003629</td><td>false</td><td>Clark County</td><td>111</td></tr><tr><td>007</td><td>32007950200</td><td>false</td><td>Elko County</td><td>68</td></tr><tr><td>007</td><td>32007950701</td><td>false</td><td>Elko County</td><td>73</td></tr><tr><td>019</td><td>32019960101</td><td>false</td><td>Lyon County</td><td>73</td></tr><tr><td>031</td><td>32031002613</td><td>false</td><td>Washoe County</td><td>61</td></tr><tr><td>031</td><td>32031003106</td><td>false</td><td>Washoe County</td><td>73</td></tr><tr><td>033</td><td>32033970100</td><td>false</td><td>White Pine County</td><td>63</td></tr><tr><td>045</td><td>35045000610</td><td>false</td><td>San Juan County</td><td>63</td></tr><tr><td>011</td><td>36011040400</td><td>false</td><td>Cayuga County</td><td>75</td></tr><tr><td>061</td><td>36061023000</td><td>false</td><td>New York County</td><td>50</td></tr><tr><td>017</td><td>37017950300</td><td>false</td><td>Bladen County</td><td>83</td></tr><tr><td>101</td><td>37101040203</td><td>false</td><td>Johnston County</td><td>83</td></tr><tr><td>183</td><td>37183053107</td><td>false</td><td>Wake County</td><td>83</td></tr><tr><td>113</td><td>39113050104</td><td>false</td><td>Montgomery County</td><td>86</td></tr><tr><td>113</td><td>40113940002</td><td>false</td><td>Osage County</td><td>71</td></tr><tr><td>001</td><td>41001950100</td><td>false</td><td>Baker County</td><td>72</td></tr><tr><td>001</td><td>41001950500</td><td>false</td><td>Baker County</td><td>41</td></tr><tr><td>009</td><td>41009970600</td><td>false</td><td>Columbia County</td><td>71</td></tr><tr><td>017</td><td>41017000200</td><td>false</td><td>Deschutes County</td><td>89</td></tr><tr><td>023</td><td>41023960200</td><td>false</td><td>Grant County</td><td>74</td></tr><tr><td>041</td><td>41041950304</td><td>false</td><td>Lincoln County</td><td>71</td></tr><tr><td>045</td><td>41045970300</td><td>false</td><td>Malheur County</td><td>107</td></tr><tr><td>045</td><td>41045970500</td><td>false</td><td>Malheur County</td><td>64</td></tr><tr><td>045</td><td>41045970600</td><td>false</td><td>Malheur County</td><td>83</td></tr><tr><td>051</td><td>41051005100</td><td>false</td><td>Multnomah County</td><td>162</td></tr><tr><td>059</td><td>41059950500</td><td>false</td><td>Umatilla County</td><td>62</td></tr><tr><td>067</td><td>41067032603</td><td>false</td><td>Washington County</td><td>75</td></tr><tr><td>067</td><td>41067033302</td><td>false</td><td>Washington County</td><td>104</td></tr><tr><td>013</td><td>45013000503</td><td>false</td><td>Beaufort County</td><td>83</td></tr><tr><td>093</td><td>47093006206</td><td>false</td><td>Knox County</td><td>51</td></tr><tr><td>125</td><td>47125101400</td><td>false</td><td>Montgomery County</td><td>80</td></tr><tr><td>085</td><td>48085031313</td><td>false</td><td>Collin County</td><td>137</td></tr><tr><td>113</td><td>48113020400</td><td>false</td><td>Dallas County</td><td>68</td></tr><tr><td>201</td><td>48201421700</td><td>false</td><td>Harris County</td><td>65</td></tr><tr><td>439</td><td>48439113922</td><td>false</td><td>Tarrant County</td><td>80</td></tr><tr><td>453</td><td>48453001826</td><td>false</td><td>Travis County</td><td>77</td></tr><tr><td>003</td><td>49003960100</td><td>false</td><td>Box Elder County</td><td>61</td></tr><tr><td>003</td><td>49003960300</td><td>false</td><td>Box Elder County</td><td>134</td></tr><tr><td>003</td><td>49003960702</td><td>false</td><td>Box Elder County</td><td>60</td></tr><tr><td>003</td><td>49003960801</td><td>false</td><td>Box Elder County</td><td>66</td></tr><tr><td>005</td><td>49005000101</td><td>false</td><td>Cache County</td><td>187</td></tr><tr><td>005</td><td>49005000201</td><td>false</td><td>Cache County</td><td>76</td></tr><tr><td>005</td><td>49005000202</td><td>false</td><td>Cache County</td><td>100</td></tr><tr><td>005</td><td>49005000401</td><td>false</td><td>Cache County</td><td>71</td></tr><tr><td>005</td><td>49005000403</td><td>false</td><td>Cache County</td><td>68</td></tr><tr><td>005</td><td>49005000501</td><td>false</td><td>Cache County</td><td>68</td></tr><tr><td>005</td><td>49005000600</td><td>false</td><td>Cache County</td><td>70</td></tr><tr><td>005</td><td>49005000701</td><td>false</td><td>Cache County</td><td>142</td></tr><tr><td>005</td><td>49005000800</td><td>false</td><td>Cache County</td><td>63</td></tr><tr><td>005</td><td>49005000900</td><td>false</td><td>Cache County</td><td>68</td></tr><tr><td>005</td><td>49005001001</td><td>false</td><td>Cache County</td><td>68</td></tr><tr><td>005</td><td>49005001002</td><td>false</td><td>Cache County</td><td>140</td></tr><tr><td>005</td><td>49005001102</td><td>false</td><td>Cache County</td><td>86</td></tr><tr><td>005</td><td>49005001401</td><td>false</td><td>Cache County</td><td>78</td></tr><tr><td>011</td><td>49011125401</td><td>false</td><td>Davis County</td><td>116</td></tr><tr><td>011</td><td>49011125403</td><td>false</td><td>Davis County</td><td>131</td></tr><tr><td>011</td><td>49011125405</td><td>false</td><td>Davis County</td><td>76</td></tr><tr><td>011</td><td>49011125801</td><td>false</td><td>Davis County</td><td>68</td></tr><tr><td>011</td><td>49011125808</td><td>false</td><td>Davis County</td><td>110</td></tr><tr><td>011</td><td>49011126101</td><td>false</td><td>Davis County</td><td>77</td></tr><tr><td>011</td><td>49011126104</td><td>false</td><td>Davis County</td><td>145</td></tr><tr><td>011</td><td>49011126105</td><td>false</td><td>Davis County</td><td>138</td></tr><tr><td>011</td><td>49011126204</td><td>false</td><td>Davis County</td><td>55</td></tr><tr><td>011</td><td>49011127003</td><td>false</td><td>Davis County</td><td>59</td></tr><tr><td>033</td><td>49033950100</td><td>false</td><td>Rich County</td><td>54</td></tr><tr><td>035</td><td>49035102702</td><td>false</td><td>Salt Lake County</td><td>66</td></tr><tr><td>035</td><td>49035103400</td><td>false</td><td>Salt Lake County</td><td>71</td></tr><tr><td>035</td><td>49035104800</td><td>false</td><td>Salt Lake County</td><td>83</td></tr><tr><td>035</td><td>49035104900</td><td>false</td><td>Salt Lake County</td><td>64</td></tr><tr><td>035</td><td>49035110600</td><td>false</td><td>Salt Lake County</td><td>142</td></tr><tr><td>035</td><td>49035111903</td><td>false</td><td>Salt Lake County</td><td>54</td></tr><tr><td>035</td><td>49035112201</td><td>false</td><td>Salt Lake County</td><td>72</td></tr><tr><td>035</td><td>49035112302</td><td>false</td><td>Salt Lake County</td><td>86</td></tr><tr><td>035</td><td>49035112609</td><td>false</td><td>Salt Lake County</td><td>86</td></tr><tr><td>035</td><td>49035112805</td><td>false</td><td>Salt Lake County</td><td>132</td></tr><tr><td>035</td><td>49035112810</td><td>false</td><td>Salt Lake County</td><td>78</td></tr><tr><td>035</td><td>49035112820</td><td>false</td><td>Salt Lake County</td><td>123</td></tr><tr><td>035</td><td>49035113011</td><td>false</td><td>Salt Lake County</td><td>159</td></tr><tr><td>035</td><td>49035113105</td><td>false</td><td>Salt Lake County</td><td>75</td></tr><tr><td>035</td><td>49035113107</td><td>false</td><td>Salt Lake County</td><td>243</td></tr><tr><td>035</td><td>49035113305</td><td>false</td><td>Salt Lake County</td><td>41</td></tr><tr><td>035</td><td>49035113306</td><td>false</td><td>Salt Lake County</td><td>72</td></tr><tr><td>035</td><td>49035113412</td><td>false</td><td>Salt Lake County</td><td>49</td></tr><tr><td>035</td><td>49035113514</td><td>false</td><td>Salt Lake County</td><td>70</td></tr><tr><td>035</td><td>49035113525</td><td>false</td><td>Salt Lake County</td><td>86</td></tr><tr><td>035</td><td>49035113526</td><td>false</td><td>Salt Lake County</td><td>33</td></tr><tr><td>035</td><td>49035113527</td><td>false</td><td>Salt Lake County</td><td>61</td></tr><tr><td>035</td><td>49035113803</td><td>false</td><td>Salt Lake County</td><td>71</td></tr><tr><td>043</td><td>49043964102</td><td>false</td><td>Summit County</td><td>54</td></tr><tr><td>045</td><td>49045130702</td><td>false</td><td>Tooele County</td><td>124</td></tr><tr><td>045</td><td>49045130703</td><td>false</td><td>Tooele County</td><td>68</td></tr><tr><td>045</td><td>49045130800</td><td>false</td><td>Tooele County</td><td>63</td></tr><tr><td>045</td><td>49045131100</td><td>false</td><td>Tooele County</td><td>67</td></tr><tr><td>049</td><td>49049000102</td><td>false</td><td>Utah County</td><td>86</td></tr><tr><td>049</td><td>49049000105</td><td>false</td><td>Utah County</td><td>116</td></tr><tr><td>049</td><td>49049000603</td><td>false</td><td>Utah County</td><td>65</td></tr><tr><td>049</td><td>49049000703</td><td>false</td><td>Utah County</td><td>63</td></tr><tr><td>049</td><td>49049000904</td><td>false</td><td>Utah County</td><td>83</td></tr><tr><td>049</td><td>49049001402</td><td>false</td><td>Utah County</td><td>125</td></tr><tr><td>049</td><td>49049001602</td><td>false</td><td>Utah County</td><td>79</td></tr><tr><td>049</td><td>49049001603</td><td>false</td><td>Utah County</td><td>70</td></tr><tr><td>049</td><td>49049001702</td><td>false</td><td>Utah County</td><td>63</td></tr><tr><td>049</td><td>49049001803</td><td>false</td><td>Utah County</td><td>62</td></tr><tr><td>049</td><td>49049001900</td><td>false</td><td>Utah County</td><td>329</td></tr><tr><td>049</td><td>49049002206</td><td>false</td><td>Utah County</td><td>60</td></tr><tr><td>049</td><td>49049002300</td><td>false</td><td>Utah County</td><td>61</td></tr><tr><td>049</td><td>49049003104</td><td>false</td><td>Utah County</td><td>86</td></tr><tr><td>049</td><td>49049003203</td><td>false</td><td>Utah County</td><td>60</td></tr><tr><td>049</td><td>49049003204</td><td>false</td><td>Utah County</td><td>65</td></tr><tr><td>049</td><td>49049003402</td><td>false</td><td>Utah County</td><td>88</td></tr><tr><td>049</td><td>49049010109</td><td>false</td><td>Utah County</td><td>69</td></tr><tr><td>049</td><td>49049010111</td><td>false</td><td>Utah County</td><td>70</td></tr><tr><td>049</td><td>49049010112</td><td>false</td><td>Utah County</td><td>175</td></tr><tr><td>049</td><td>49049010113</td><td>false</td><td>Utah County</td><td>215</td></tr><tr><td>049</td><td>49049010212</td><td>false</td><td>Utah County</td><td>66</td></tr><tr><td>049</td><td>49049010214</td><td>false</td><td>Utah County</td><td>76</td></tr><tr><td>049</td><td>49049010219</td><td>false</td><td>Utah County</td><td>72</td></tr><tr><td>049</td><td>49049010404</td><td>false</td><td>Utah County</td><td>164</td></tr><tr><td>049</td><td>49049010405</td><td>false</td><td>Utah County</td><td>185</td></tr><tr><td>053</td><td>49053270801</td><td>false</td><td>Washington County</td><td>65</td></tr><tr><td>053</td><td>49053270802</td><td>false</td><td>Washington County</td><td>71</td></tr><tr><td>053</td><td>49053270901</td><td>false</td><td>Washington County</td><td>61</td></tr><tr><td>053</td><td>49053271600</td><td>false</td><td>Washington County</td><td>55</td></tr><tr><td>057</td><td>49057200202</td><td>false</td><td>Weber County</td><td>52</td></tr><tr><td>057</td><td>49057200800</td><td>false</td><td>Weber County</td><td>72</td></tr><tr><td>057</td><td>49057210201</td><td>false</td><td>Weber County</td><td>78</td></tr><tr><td>057</td><td>49057210302</td><td>false</td><td>Weber County</td><td>64</td></tr><tr><td>057</td><td>49057210403</td><td>false</td><td>Weber County</td><td>51</td></tr><tr><td>057</td><td>49057210504</td><td>false</td><td>Weber County</td><td>66</td></tr><tr><td>057</td><td>49057210505</td><td>false</td><td>Weber County</td><td>60</td></tr><tr><td>057</td><td>49057210506</td><td>false</td><td>Weber County</td><td>73</td></tr><tr><td>057</td><td>49057210600</td><td>false</td><td>Weber County</td><td>61</td></tr><tr><td>057</td><td>49057210704</td><td>false</td><td>Weber County</td><td>61</td></tr><tr><td>057</td><td>49057211100</td><td>false</td><td>Weber County</td><td>55</td></tr><tr><td>003</td><td>50003970200</td><td>false</td><td>Bennington County</td><td>79</td></tr><tr><td>059</td><td>51059416200</td><td>false</td><td>Fairfax County</td><td>52</td></tr><tr><td>530</td><td>51530930600</td><td>false</td><td>Buena Vista city</td><td>55</td></tr><tr><td>003</td><td>53003960400</td><td>false</td><td>Asotin County</td><td>60</td></tr><tr><td>005</td><td>53005010810</td><td>false</td><td>Benton County</td><td>64</td></tr><tr><td>005</td><td>53005010811</td><td>false</td><td>Benton County</td><td>98</td></tr><tr><td>011</td><td>53011040201</td><td>false</td><td>Clark County</td><td>79</td></tr><tr><td>021</td><td>53021020605</td><td>false</td><td>Franklin County</td><td>82</td></tr><tr><td>029</td><td>53029971500</td><td>false</td><td>Island County</td><td>72</td></tr><tr><td>033</td><td>53033005301</td><td>false</td><td>King County</td><td>67</td></tr><tr><td>033</td><td>53033007300</td><td>false</td><td>King County</td><td>73</td></tr><tr><td>033</td><td>53033010702</td><td>false</td><td>King County</td><td>66</td></tr><tr><td>033</td><td>53033026001</td><td>false</td><td>King County</td><td>98</td></tr><tr><td>033</td><td>53033032601</td><td>false</td><td>King County</td><td>104</td></tr><tr><td>035</td><td>53035092400</td><td>false</td><td>Kitsap County</td><td>41</td></tr><tr><td>051</td><td>53051970300</td><td>false</td><td>Pend Oreille County</td><td>98</td></tr><tr><td>053</td><td>53053062300</td><td>false</td><td>Pierce County</td><td>98</td></tr><tr><td>061</td><td>53061052806</td><td>false</td><td>Snohomish County</td><td>73</td></tr><tr><td>063</td><td>53063010503</td><td>false</td><td>Spokane County</td><td>71</td></tr><tr><td>063</td><td>53063012701</td><td>false</td><td>Spokane County</td><td>45</td></tr><tr><td>063</td><td>53063013202</td><td>false</td><td>Spokane County</td><td>68</td></tr><tr><td>075</td><td>53075000100</td><td>false</td><td>Whitman County</td><td>1337</td></tr><tr><td>075</td><td>53075000200</td><td>false</td><td>Whitman County</td><td>109</td></tr><tr><td>075</td><td>53075000400</td><td>false</td><td>Whitman County</td><td>45</td></tr><tr><td>075</td><td>53075000600</td><td>false</td><td>Whitman County</td><td>45</td></tr><tr><td>075</td><td>53075000900</td><td>false</td><td>Whitman County</td><td>25</td></tr><tr><td>077</td><td>53077000700</td><td>false</td><td>Yakima County</td><td>116</td></tr><tr><td>077</td><td>53077002802</td><td>false</td><td>Yakima County</td><td>59</td></tr><tr><td>013</td><td>56013940300</td><td>false</td><td>Fremont County</td><td>83</td></tr><tr><td>023</td><td>56023978000</td><td>false</td><td>Lincoln County</td><td>66</td></tr><tr><td>023</td><td>56023978100</td><td>false</td><td>Lincoln County</td><td>78</td></tr><tr><td>037</td><td>56037970902</td><td>false</td><td>Sweetwater County</td><td>55</td></tr><tr><td>039</td><td>56039967600</td><td>false</td><td>Teton County</td><td>66</td></tr><tr><td>039</td><td>56039967702</td><td>false</td><td>Teton County</td><td>70</td></tr><tr><td>039</td><td>56039967800</td><td>false</td><td>Teton County</td><td>68</td></tr><tr><td>001</td><td>16001001900</td><td>true</td><td>Ada County</td><td>370</td></tr><tr><td>001</td><td>16001010332</td><td>true</td><td>Ada County</td><td>467</td></tr><tr><td>019</td><td>16019971200</td><td>true</td><td>Bonneville County</td><td>686</td></tr><tr><td>065</td><td>16065950301</td><td>true</td><td>Madison County</td><td>1746</td></tr><tr><td>083</td><td>16083000200</td><td>true</td><td>Twin Falls County</td><td>1292</td></tr></tbody></table></div>"
      ]
     },
     "metadata": {
      "application/vnd.databricks.v1+output": {
       "addedWidgets": {},
       "aggData": [],
       "aggError": "",
       "aggOverflow": false,
       "aggSchema": [],
       "aggSeriesLimitReached": false,
       "aggType": "",
       "arguments": {},
       "columnCustomDisplayInfos": {},
       "data": [
        [
         "003",
         "04003001100",
         false,
         "Cochise County",
         83
        ],
        [
         "013",
         "04013082009",
         false,
         "Maricopa County",
         84
        ],
        [
         "013",
         "04013421304",
         false,
         "Maricopa County",
         94
        ],
        [
         "013",
         "04013421801",
         false,
         "Maricopa County",
         58
        ],
        [
         "013",
         "04013422513",
         false,
         "Maricopa County",
         63
        ],
        [
         "013",
         "04013812400",
         false,
         "Maricopa County",
         70
        ],
        [
         "013",
         "04013813300",
         false,
         "Maricopa County",
         60
        ],
        [
         "017",
         "04017963300",
         false,
         "Navajo County",
         84
        ],
        [
         "019",
         "04019004646",
         false,
         "Pima County",
         74
        ],
        [
         "027",
         "04027001200",
         false,
         "Yuma County",
         46
        ],
        [
         "017",
         "06017030709",
         false,
         "El Dorado County",
         71
        ],
        [
         "037",
         "06037262100",
         false,
         "Los Angeles County",
         71
        ],
        [
         "037",
         "06037503401",
         false,
         "Los Angeles County",
         72
        ],
        [
         "037",
         "06037910301",
         false,
         "Los Angeles County",
         84
        ],
        [
         "061",
         "06061023900",
         false,
         "Placer County",
         74
        ],
        [
         "071",
         "06071012002",
         false,
         "San Bernardino County",
         94
        ],
        [
         "073",
         "06073007002",
         false,
         "San Diego County",
         65
        ],
        [
         "073",
         "06073015501",
         false,
         "San Diego County",
         139
        ],
        [
         "073",
         "06073020103",
         false,
         "San Diego County",
         75
        ],
        [
         "077",
         "06077003500",
         false,
         "San Joaquin County",
         71
        ],
        [
         "083",
         "06083001304",
         false,
         "Santa Barbara County",
         72
        ],
        [
         "099",
         "06099000402",
         false,
         "Stanislaus County",
         66
        ],
        [
         "059",
         "08059009824",
         false,
         "Jefferson County",
         72
        ],
        [
         "085",
         "08085966400",
         false,
         "Montrose County",
         71
        ],
        [
         "073",
         "12073002206",
         false,
         "Leon County",
         83
        ],
        [
         "073",
         "12073002508",
         false,
         "Leon County",
         83
        ],
        [
         "091",
         "12091021101",
         false,
         "Okaloosa County",
         83
        ],
        [
         "091",
         "12091022500",
         false,
         "Okaloosa County",
         83
        ],
        [
         "115",
         "13115000700",
         false,
         "Floyd County",
         45
        ],
        [
         "007",
         "15007040603",
         false,
         "Kauai County",
         50
        ],
        [
         "001",
         "16001000201",
         false,
         "Ada County",
         104
        ],
        [
         "001",
         "16001000202",
         false,
         "Ada County",
         518
        ],
        [
         "001",
         "16001000302",
         false,
         "Ada County",
         61
        ],
        [
         "001",
         "16001000303",
         false,
         "Ada County",
         148
        ],
        [
         "001",
         "16001000304",
         false,
         "Ada County",
         370
        ],
        [
         "001",
         "16001000400",
         false,
         "Ada County",
         141
        ],
        [
         "001",
         "16001000500",
         false,
         "Ada County",
         71
        ],
        [
         "001",
         "16001000600",
         false,
         "Ada County",
         130
        ],
        [
         "001",
         "16001000701",
         false,
         "Ada County",
         82
        ],
        [
         "001",
         "16001000702",
         false,
         "Ada County",
         135
        ],
        [
         "001",
         "16001000802",
         false,
         "Ada County",
         384
        ],
        [
         "001",
         "16001000803",
         false,
         "Ada County",
         315
        ],
        [
         "001",
         "16001000804",
         false,
         "Ada County",
         150
        ],
        [
         "001",
         "16001000900",
         false,
         "Ada County",
         1053
        ],
        [
         "001",
         "16001001000",
         false,
         "Ada County",
         364
        ],
        [
         "001",
         "16001001100",
         false,
         "Ada County",
         197
        ],
        [
         "001",
         "16001001201",
         false,
         "Ada County",
         344
        ],
        [
         "001",
         "16001001202",
         false,
         "Ada County",
         635
        ],
        [
         "001",
         "16001001400",
         false,
         "Ada County",
         510
        ],
        [
         "001",
         "16001001500",
         false,
         "Ada County",
         193
        ],
        [
         "001",
         "16001001600",
         false,
         "Ada County",
         64
        ],
        [
         "001",
         "16001001700",
         false,
         "Ada County",
         784
        ],
        [
         "001",
         "16001001800",
         false,
         "Ada County",
         647
        ],
        [
         "001",
         "16001002000",
         false,
         "Ada County",
         578
        ],
        [
         "001",
         "16001002100",
         false,
         "Ada County",
         520
        ],
        [
         "001",
         "16001002221",
         false,
         "Ada County",
         897
        ],
        [
         "001",
         "16001002222",
         false,
         "Ada County",
         373
        ],
        [
         "001",
         "16001002223",
         false,
         "Ada County",
         409
        ],
        [
         "001",
         "16001002224",
         false,
         "Ada County",
         1197
        ],
        [
         "001",
         "16001002302",
         false,
         "Ada County",
         663
        ],
        [
         "001",
         "16001002310",
         false,
         "Ada County",
         435
        ],
        [
         "001",
         "16001002312",
         false,
         "Ada County",
         436
        ],
        [
         "001",
         "16001002313",
         false,
         "Ada County",
         200
        ],
        [
         "001",
         "16001002410",
         false,
         "Ada County",
         370
        ],
        [
         "001",
         "16001002411",
         false,
         "Ada County",
         556
        ],
        [
         "001",
         "16001002412",
         false,
         "Ada County",
         62
        ],
        [
         "001",
         "16001002413",
         false,
         "Ada County",
         700
        ],
        [
         "001",
         "16001010100",
         false,
         "Ada County",
         647
        ],
        [
         "001",
         "16001010201",
         false,
         "Ada County",
         1760
        ],
        [
         "001",
         "16001010221",
         false,
         "Ada County",
         1182
        ],
        [
         "001",
         "16001010223",
         false,
         "Ada County",
         780
        ],
        [
         "001",
         "16001010224",
         false,
         "Ada County",
         521
        ],
        [
         "001",
         "16001010225",
         false,
         "Ada County",
         767
        ],
        [
         "001",
         "16001010313",
         false,
         "Ada County",
         5967
        ],
        [
         "001",
         "16001010321",
         false,
         "Ada County",
         418
        ],
        [
         "001",
         "16001010322",
         false,
         "Ada County",
         765
        ],
        [
         "001",
         "16001010331",
         false,
         "Ada County",
         2996
        ],
        [
         "001",
         "16001010333",
         false,
         "Ada County",
         748
        ],
        [
         "001",
         "16001010334",
         false,
         "Ada County",
         603
        ],
        [
         "001",
         "16001010335",
         false,
         "Ada County",
         1161
        ],
        [
         "001",
         "16001010401",
         false,
         "Ada County",
         2411
        ],
        [
         "001",
         "16001010402",
         false,
         "Ada County",
         1629
        ],
        [
         "001",
         "16001010501",
         false,
         "Ada County",
         206
        ],
        [
         "001",
         "16001010503",
         false,
         "Ada County",
         774
        ],
        [
         "001",
         "16001010504",
         false,
         "Ada County",
         504
        ],
        [
         "005",
         "16005000200",
         false,
         "Bannock County",
         1413
        ],
        [
         "005",
         "16005000300",
         false,
         "Bannock County",
         1781
        ],
        [
         "005",
         "16005000400",
         false,
         "Bannock County",
         1897
        ],
        [
         "005",
         "16005000500",
         false,
         "Bannock County",
         211
        ],
        [
         "005",
         "16005000600",
         false,
         "Bannock County",
         582
        ],
        [
         "005",
         "16005000700",
         false,
         "Bannock County",
         445
        ],
        [
         "005",
         "16005000800",
         false,
         "Bannock County",
         488
        ],
        [
         "005",
         "16005000900",
         false,
         "Bannock County",
         210
        ],
        [
         "005",
         "16005001000",
         false,
         "Bannock County",
         625
        ],
        [
         "005",
         "16005001101",
         false,
         "Bannock County",
         3046
        ],
        [
         "005",
         "16005001102",
         false,
         "Bannock County",
         492
        ],
        [
         "005",
         "16005001200",
         false,
         "Bannock County",
         190
        ],
        [
         "005",
         "16005001300",
         false,
         "Bannock County",
         270
        ],
        [
         "005",
         "16005001400",
         false,
         "Bannock County",
         393
        ],
        [
         "005",
         "16005001500",
         false,
         "Bannock County",
         460
        ],
        [
         "005",
         "16005001601",
         false,
         "Bannock County",
         217
        ],
        [
         "005",
         "16005001602",
         false,
         "Bannock County",
         301
        ],
        [
         "005",
         "16005001603",
         false,
         "Bannock County",
         324
        ],
        [
         "005",
         "16005001700",
         false,
         "Bannock County",
         970
        ],
        [
         "005",
         "16005001900",
         false,
         "Bannock County",
         450
        ],
        [
         "005",
         "16005940000",
         false,
         "Bannock County",
         209
        ],
        [
         "007",
         "16007950100",
         false,
         "Bear Lake County",
         876
        ],
        [
         "007",
         "16007950200",
         false,
         "Bear Lake County",
         309
        ],
        [
         "011",
         "16011940000",
         false,
         "Bingham County",
         109
        ],
        [
         "011",
         "16011950100",
         false,
         "Bingham County",
         2691
        ],
        [
         "011",
         "16011950200",
         false,
         "Bingham County",
         1093
        ],
        [
         "011",
         "16011950300",
         false,
         "Bingham County",
         830
        ],
        [
         "011",
         "16011950400",
         false,
         "Bingham County",
         1477
        ],
        [
         "011",
         "16011950500",
         false,
         "Bingham County",
         2105
        ],
        [
         "011",
         "16011950600",
         false,
         "Bingham County",
         1714
        ],
        [
         "011",
         "16011950700",
         false,
         "Bingham County",
         1136
        ],
        [
         "013",
         "16013960100",
         false,
         "Blaine County",
         305
        ],
        [
         "013",
         "16013960200",
         false,
         "Blaine County",
         347
        ],
        [
         "015",
         "16015950200",
         false,
         "Boise County",
         88
        ],
        [
         "017",
         "16017950200",
         false,
         "Bonner County",
         414
        ],
        [
         "017",
         "16017950400",
         false,
         "Bonner County",
         104
        ],
        [
         "017",
         "16017950800",
         false,
         "Bonner County",
         72
        ],
        [
         "019",
         "16019970100",
         false,
         "Bonneville County",
         2981
        ],
        [
         "019",
         "16019970300",
         false,
         "Bonneville County",
         5433
        ],
        [
         "019",
         "16019970401",
         false,
         "Bonneville County",
         881
        ],
        [
         "019",
         "16019970402",
         false,
         "Bonneville County",
         1799
        ],
        [
         "019",
         "16019970403",
         false,
         "Bonneville County",
         2281
        ],
        [
         "019",
         "16019970501",
         false,
         "Bonneville County",
         3836
        ],
        [
         "019",
         "16019970502",
         false,
         "Bonneville County",
         945
        ],
        [
         "019",
         "16019970503",
         false,
         "Bonneville County",
         1376
        ],
        [
         "019",
         "16019970601",
         false,
         "Bonneville County",
         1164
        ],
        [
         "019",
         "16019970602",
         false,
         "Bonneville County",
         1538
        ],
        [
         "019",
         "16019970603",
         false,
         "Bonneville County",
         344
        ],
        [
         "019",
         "16019970700",
         false,
         "Bonneville County",
         670
        ],
        [
         "019",
         "16019970800",
         false,
         "Bonneville County",
         700
        ],
        [
         "019",
         "16019970900",
         false,
         "Bonneville County",
         716
        ],
        [
         "019",
         "16019971000",
         false,
         "Bonneville County",
         913
        ],
        [
         "019",
         "16019971100",
         false,
         "Bonneville County",
         644
        ],
        [
         "019",
         "16019971301",
         false,
         "Bonneville County",
         1474
        ],
        [
         "019",
         "16019971302",
         false,
         "Bonneville County",
         1291
        ],
        [
         "019",
         "16019971400",
         false,
         "Bonneville County",
         2426
        ],
        [
         "019",
         "16019971500",
         false,
         "Bonneville County",
         239
        ],
        [
         "023",
         "16023970100",
         false,
         "Butte County",
         430
        ],
        [
         "025",
         "16025970100",
         false,
         "Camas County",
         77
        ],
        [
         "027",
         "16027020100",
         false,
         "Canyon County",
         89
        ],
        [
         "027",
         "16027020300",
         false,
         "Canyon County",
         81
        ],
        [
         "027",
         "16027020401",
         false,
         "Canyon County",
         460
        ],
        [
         "027",
         "16027020402",
         false,
         "Canyon County",
         150
        ],
        [
         "027",
         "16027020501",
         false,
         "Canyon County",
         113
        ],
        [
         "027",
         "16027020503",
         false,
         "Canyon County",
         322
        ],
        [
         "027",
         "16027020504",
         false,
         "Canyon County",
         83
        ],
        [
         "027",
         "16027020601",
         false,
         "Canyon County",
         242
        ],
        [
         "027",
         "16027020602",
         false,
         "Canyon County",
         329
        ],
        [
         "027",
         "16027020700",
         false,
         "Canyon County",
         71
        ],
        [
         "027",
         "16027020901",
         false,
         "Canyon County",
         2884
        ],
        [
         "027",
         "16027020902",
         false,
         "Canyon County",
         1565
        ],
        [
         "027",
         "16027021001",
         false,
         "Canyon County",
         501
        ],
        [
         "027",
         "16027021002",
         false,
         "Canyon County",
         628
        ],
        [
         "027",
         "16027021100",
         false,
         "Canyon County",
         1873
        ],
        [
         "027",
         "16027021200",
         false,
         "Canyon County",
         103
        ],
        [
         "027",
         "16027021300",
         false,
         "Canyon County",
         47
        ],
        [
         "027",
         "16027021500",
         false,
         "Canyon County",
         257
        ],
        [
         "027",
         "16027021700",
         false,
         "Canyon County",
         128
        ],
        [
         "027",
         "16027021800",
         false,
         "Canyon County",
         126
        ],
        [
         "027",
         "16027021901",
         false,
         "Canyon County",
         274
        ],
        [
         "027",
         "16027021903",
         false,
         "Canyon County",
         510
        ],
        [
         "027",
         "16027021904",
         false,
         "Canyon County",
         72
        ],
        [
         "027",
         "16027022200",
         false,
         "Canyon County",
         162
        ],
        [
         "027",
         "16027022300",
         false,
         "Canyon County",
         135
        ],
        [
         "027",
         "16027022400",
         false,
         "Canyon County",
         510
        ],
        [
         "029",
         "16029960100",
         false,
         "Caribou County",
         1406
        ],
        [
         "029",
         "16029960200",
         false,
         "Caribou County",
         510
        ],
        [
         "031",
         "16031950100",
         false,
         "Cassia County",
         696
        ],
        [
         "031",
         "16031950200",
         false,
         "Cassia County",
         2028
        ],
        [
         "031",
         "16031950300",
         false,
         "Cassia County",
         2715
        ],
        [
         "031",
         "16031950400",
         false,
         "Cassia County",
         592
        ],
        [
         "031",
         "16031950500",
         false,
         "Cassia County",
         2476
        ],
        [
         "031",
         "16031950600",
         false,
         "Cassia County",
         1393
        ],
        [
         "037",
         "16037960200",
         false,
         "Custer County",
         57
        ],
        [
         "039",
         "16039960200",
         false,
         "Elmore County",
         454
        ],
        [
         "039",
         "16039960300",
         false,
         "Elmore County",
         120
        ],
        [
         "039",
         "16039960400",
         false,
         "Elmore County",
         450
        ],
        [
         "041",
         "16041970100",
         false,
         "Franklin County",
         1765
        ],
        [
         "041",
         "16041970200",
         false,
         "Franklin County",
         2149
        ],
        [
         "043",
         "16043970100",
         false,
         "Fremont County",
         634
        ],
        [
         "043",
         "16043970200",
         false,
         "Fremont County",
         1348
        ],
        [
         "043",
         "16043970300",
         false,
         "Fremont County",
         5832
        ],
        [
         "045",
         "16045960100",
         false,
         "Gem County",
         587
        ],
        [
         "045",
         "16045960200",
         false,
         "Gem County",
         885
        ],
        [
         "045",
         "16045960300",
         false,
         "Gem County",
         326
        ],
        [
         "047",
         "16047960100",
         false,
         "Gooding County",
         603
        ],
        [
         "047",
         "16047960200",
         false,
         "Gooding County",
         433
        ],
        [
         "049",
         "16049960400",
         false,
         "Idaho County",
         192
        ],
        [
         "051",
         "16051960100",
         false,
         "Jefferson County",
         209
        ],
        [
         "051",
         "16051960200",
         false,
         "Jefferson County",
         1500
        ],
        [
         "051",
         "16051960300",
         false,
         "Jefferson County",
         2392
        ],
        [
         "051",
         "16051960400",
         false,
         "Jefferson County",
         2851
        ],
        [
         "053",
         "16053970200",
         false,
         "Jerome County",
         328
        ],
        [
         "053",
         "16053970300",
         false,
         "Jerome County",
         413
        ],
        [
         "053",
         "16053970400",
         false,
         "Jerome County",
         138
        ],
        [
         "053",
         "16053970500",
         false,
         "Jerome County",
         1005
        ],
        [
         "055",
         "16055000100",
         false,
         "Kootenai County",
         68
        ],
        [
         "055",
         "16055000200",
         false,
         "Kootenai County",
         731
        ],
        [
         "055",
         "16055000301",
         false,
         "Kootenai County",
         162
        ],
        [
         "055",
         "16055000302",
         false,
         "Kootenai County",
         503
        ],
        [
         "055",
         "16055000402",
         false,
         "Kootenai County",
         68
        ],
        [
         "055",
         "16055000500",
         false,
         "Kootenai County",
         357
        ],
        [
         "055",
         "16055000601",
         false,
         "Kootenai County",
         98
        ],
        [
         "055",
         "16055000602",
         false,
         "Kootenai County",
         64
        ],
        [
         "055",
         "16055000700",
         false,
         "Kootenai County",
         8251
        ],
        [
         "055",
         "16055000800",
         false,
         "Kootenai County",
         246
        ],
        [
         "055",
         "16055000900",
         false,
         "Kootenai County",
         98
        ],
        [
         "055",
         "16055001001",
         false,
         "Kootenai County",
         71
        ],
        [
         "055",
         "16055001002",
         false,
         "Kootenai County",
         284
        ],
        [
         "055",
         "16055001100",
         false,
         "Kootenai County",
         233
        ],
        [
         "055",
         "16055001200",
         false,
         "Kootenai County",
         147
        ],
        [
         "055",
         "16055001300",
         false,
         "Kootenai County",
         755
        ],
        [
         "055",
         "16055001400",
         false,
         "Kootenai County",
         98
        ],
        [
         "055",
         "16055001500",
         false,
         "Kootenai County",
         199
        ],
        [
         "055",
         "16055001700",
         false,
         "Kootenai County",
         68
        ],
        [
         "055",
         "16055001800",
         false,
         "Kootenai County",
         333
        ],
        [
         "055",
         "16055001900",
         false,
         "Kootenai County",
         83
        ],
        [
         "055",
         "16055002000",
         false,
         "Kootenai County",
         196
        ],
        [
         "057",
         "16057005100",
         false,
         "Latah County",
         198
        ],
        [
         "057",
         "16057005200",
         false,
         "Latah County",
         563
        ],
        [
         "057",
         "16057005500",
         false,
         "Latah County",
         25
        ],
        [
         "057",
         "16057005600",
         false,
         "Latah County",
         45
        ],
        [
         "059",
         "16059970100",
         false,
         "Lemhi County",
         276
        ],
        [
         "059",
         "16059970200",
         false,
         "Lemhi County",
         117
        ],
        [
         "063",
         "16063950100",
         false,
         "Lincoln County",
         154
        ],
        [
         "065",
         "16065950100",
         false,
         "Madison County",
         1996
        ],
        [
         "065",
         "16065950200",
         false,
         "Madison County",
         1204
        ],
        [
         "065",
         "16065950302",
         false,
         "Madison County",
         5525
        ],
        [
         "065",
         "16065950400",
         false,
         "Madison County",
         1521
        ],
        [
         "065",
         "16065950500",
         false,
         "Madison County",
         2088
        ],
        [
         "067",
         "16067970100",
         false,
         "Minidoka County",
         345
        ],
        [
         "067",
         "16067970200",
         false,
         "Minidoka County",
         1092
        ],
        [
         "067",
         "16067970300",
         false,
         "Minidoka County",
         711
        ],
        [
         "067",
         "16067970400",
         false,
         "Minidoka County",
         694
        ],
        [
         "067",
         "16067970500",
         false,
         "Minidoka County",
         844
        ],
        [
         "069",
         "16069960200",
         false,
         "Nez Perce County",
         25
        ],
        [
         "069",
         "16069960400",
         false,
         "Nez Perce County",
         60
        ],
        [
         "069",
         "16069960500",
         false,
         "Nez Perce County",
         105
        ],
        [
         "069",
         "16069960600",
         false,
         "Nez Perce County",
         60
        ],
        [
         "069",
         "16069960900",
         false,
         "Nez Perce County",
         60
        ],
        [
         "069",
         "16069961000",
         false,
         "Nez Perce County",
         60
        ],
        [
         "071",
         "16071960100",
         false,
         "Oneida County",
         860
        ],
        [
         "073",
         "16073950101",
         false,
         "Owyhee County",
         293
        ],
        [
         "073",
         "16073950102",
         false,
         "Owyhee County",
         67
        ],
        [
         "073",
         "16073950200",
         false,
         "Owyhee County",
         327
        ],
        [
         "075",
         "16075960100",
         false,
         "Payette County",
         134
        ],
        [
         "075",
         "16075960200",
         false,
         "Payette County",
         233
        ],
        [
         "075",
         "16075960300",
         false,
         "Payette County",
         1403
        ],
        [
         "075",
         "16075960400",
         false,
         "Payette County",
         157
        ],
        [
         "077",
         "16077960100",
         false,
         "Power County",
         572
        ],
        [
         "077",
         "16077960200",
         false,
         "Power County",
         1460
        ],
        [
         "079",
         "16079960200",
         false,
         "Shoshone County",
         155
        ],
        [
         "079",
         "16079960300",
         false,
         "Shoshone County",
         126
        ],
        [
         "081",
         "16081960100",
         false,
         "Teton County",
         292
        ],
        [
         "083",
         "16083000300",
         false,
         "Twin Falls County",
         420
        ],
        [
         "083",
         "16083000400",
         false,
         "Twin Falls County",
         135
        ],
        [
         "083",
         "16083000500",
         false,
         "Twin Falls County",
         1631
        ],
        [
         "083",
         "16083000600",
         false,
         "Twin Falls County",
         474
        ],
        [
         "083",
         "16083000700",
         false,
         "Twin Falls County",
         1763
        ],
        [
         "083",
         "16083000800",
         false,
         "Twin Falls County",
         542
        ],
        [
         "083",
         "16083000900",
         false,
         "Twin Falls County",
         1325
        ],
        [
         "083",
         "16083001000",
         false,
         "Twin Falls County",
         1088
        ],
        [
         "083",
         "16083001100",
         false,
         "Twin Falls County",
         88
        ],
        [
         "083",
         "16083001200",
         false,
         "Twin Falls County",
         576
        ],
        [
         "083",
         "16083001300",
         false,
         "Twin Falls County",
         1669
        ],
        [
         "083",
         "16083001400",
         false,
         "Twin Falls County",
         230
        ],
        [
         "083",
         "16083001500",
         false,
         "Twin Falls County",
         230
        ],
        [
         "085",
         "16085970100",
         false,
         "Valley County",
         62
        ],
        [
         "085",
         "16085970200",
         false,
         "Valley County",
         71
        ],
        [
         "087",
         "16087970100",
         false,
         "Washington County",
         322
        ],
        [
         "087",
         "16087970200",
         false,
         "Washington County",
         184
        ],
        [
         "087",
         "16087970300",
         false,
         "Washington County",
         231
        ],
        [
         "011",
         "18011810400",
         false,
         "Boone County",
         64
        ],
        [
         "057",
         "19057001000",
         false,
         "Des Moines County",
         88
        ],
        [
         "155",
         "20155001800",
         false,
         "Reno County",
         83
        ],
        [
         "185",
         "21185030601",
         false,
         "Oldham County",
         69
        ],
        [
         "015",
         "22015010806",
         false,
         "Bossier Parish",
         61
        ],
        [
         "031",
         "24031700823",
         false,
         "Montgomery County",
         54
        ],
        [
         "043",
         "26043950300",
         false,
         "Dickinson County",
         73
        ],
        [
         "049",
         "26049013002",
         false,
         "Genesee County",
         53
        ],
        [
         "065",
         "26065005001",
         false,
         "Ingham County",
         53
        ],
        [
         "161",
         "26161431000",
         false,
         "Washtenaw County",
         70
        ],
        [
         "145",
         "27145000601",
         false,
         "Stearns County",
         50
        ],
        [
         "209",
         "29209090601",
         false,
         "Stone County",
         76
        ],
        [
         "031",
         "30031000300",
         false,
         "Gallatin County",
         49
        ],
        [
         "031",
         "30031000900",
         false,
         "Gallatin County",
         55
        ],
        [
         "031",
         "30031001500",
         false,
         "Gallatin County",
         86
        ],
        [
         "041",
         "30041040300",
         false,
         "Hill County",
         55
        ],
        [
         "043",
         "30043962202",
         false,
         "Jefferson County",
         178
        ],
        [
         "057",
         "30057000200",
         false,
         "Madison County",
         65
        ],
        [
         "063",
         "30063000202",
         false,
         "Missoula County",
         68
        ],
        [
         "063",
         "30063001302",
         false,
         "Missoula County",
         66
        ],
        [
         "081",
         "30081000202",
         false,
         "Ravalli County",
         71
        ],
        [
         "111",
         "30111000702",
         false,
         "Yellowstone County",
         69
        ],
        [
         "055",
         "31055002300",
         false,
         "Douglas County",
         66
        ],
        [
         "003",
         "32003002808",
         false,
         "Clark County",
         68
        ],
        [
         "003",
         "32003003318",
         false,
         "Clark County",
         66
        ],
        [
         "003",
         "32003003629",
         false,
         "Clark County",
         111
        ],
        [
         "007",
         "32007950200",
         false,
         "Elko County",
         68
        ],
        [
         "007",
         "32007950701",
         false,
         "Elko County",
         73
        ],
        [
         "019",
         "32019960101",
         false,
         "Lyon County",
         73
        ],
        [
         "031",
         "32031002613",
         false,
         "Washoe County",
         61
        ],
        [
         "031",
         "32031003106",
         false,
         "Washoe County",
         73
        ],
        [
         "033",
         "32033970100",
         false,
         "White Pine County",
         63
        ],
        [
         "045",
         "35045000610",
         false,
         "San Juan County",
         63
        ],
        [
         "011",
         "36011040400",
         false,
         "Cayuga County",
         75
        ],
        [
         "061",
         "36061023000",
         false,
         "New York County",
         50
        ],
        [
         "017",
         "37017950300",
         false,
         "Bladen County",
         83
        ],
        [
         "101",
         "37101040203",
         false,
         "Johnston County",
         83
        ],
        [
         "183",
         "37183053107",
         false,
         "Wake County",
         83
        ],
        [
         "113",
         "39113050104",
         false,
         "Montgomery County",
         86
        ],
        [
         "113",
         "40113940002",
         false,
         "Osage County",
         71
        ],
        [
         "001",
         "41001950100",
         false,
         "Baker County",
         72
        ],
        [
         "001",
         "41001950500",
         false,
         "Baker County",
         41
        ],
        [
         "009",
         "41009970600",
         false,
         "Columbia County",
         71
        ],
        [
         "017",
         "41017000200",
         false,
         "Deschutes County",
         89
        ],
        [
         "023",
         "41023960200",
         false,
         "Grant County",
         74
        ],
        [
         "041",
         "41041950304",
         false,
         "Lincoln County",
         71
        ],
        [
         "045",
         "41045970300",
         false,
         "Malheur County",
         107
        ],
        [
         "045",
         "41045970500",
         false,
         "Malheur County",
         64
        ],
        [
         "045",
         "41045970600",
         false,
         "Malheur County",
         83
        ],
        [
         "051",
         "41051005100",
         false,
         "Multnomah County",
         162
        ],
        [
         "059",
         "41059950500",
         false,
         "Umatilla County",
         62
        ],
        [
         "067",
         "41067032603",
         false,
         "Washington County",
         75
        ],
        [
         "067",
         "41067033302",
         false,
         "Washington County",
         104
        ],
        [
         "013",
         "45013000503",
         false,
         "Beaufort County",
         83
        ],
        [
         "093",
         "47093006206",
         false,
         "Knox County",
         51
        ],
        [
         "125",
         "47125101400",
         false,
         "Montgomery County",
         80
        ],
        [
         "085",
         "48085031313",
         false,
         "Collin County",
         137
        ],
        [
         "113",
         "48113020400",
         false,
         "Dallas County",
         68
        ],
        [
         "201",
         "48201421700",
         false,
         "Harris County",
         65
        ],
        [
         "439",
         "48439113922",
         false,
         "Tarrant County",
         80
        ],
        [
         "453",
         "48453001826",
         false,
         "Travis County",
         77
        ],
        [
         "003",
         "49003960100",
         false,
         "Box Elder County",
         61
        ],
        [
         "003",
         "49003960300",
         false,
         "Box Elder County",
         134
        ],
        [
         "003",
         "49003960702",
         false,
         "Box Elder County",
         60
        ],
        [
         "003",
         "49003960801",
         false,
         "Box Elder County",
         66
        ],
        [
         "005",
         "49005000101",
         false,
         "Cache County",
         187
        ],
        [
         "005",
         "49005000201",
         false,
         "Cache County",
         76
        ],
        [
         "005",
         "49005000202",
         false,
         "Cache County",
         100
        ],
        [
         "005",
         "49005000401",
         false,
         "Cache County",
         71
        ],
        [
         "005",
         "49005000403",
         false,
         "Cache County",
         68
        ],
        [
         "005",
         "49005000501",
         false,
         "Cache County",
         68
        ],
        [
         "005",
         "49005000600",
         false,
         "Cache County",
         70
        ],
        [
         "005",
         "49005000701",
         false,
         "Cache County",
         142
        ],
        [
         "005",
         "49005000800",
         false,
         "Cache County",
         63
        ],
        [
         "005",
         "49005000900",
         false,
         "Cache County",
         68
        ],
        [
         "005",
         "49005001001",
         false,
         "Cache County",
         68
        ],
        [
         "005",
         "49005001002",
         false,
         "Cache County",
         140
        ],
        [
         "005",
         "49005001102",
         false,
         "Cache County",
         86
        ],
        [
         "005",
         "49005001401",
         false,
         "Cache County",
         78
        ],
        [
         "011",
         "49011125401",
         false,
         "Davis County",
         116
        ],
        [
         "011",
         "49011125403",
         false,
         "Davis County",
         131
        ],
        [
         "011",
         "49011125405",
         false,
         "Davis County",
         76
        ],
        [
         "011",
         "49011125801",
         false,
         "Davis County",
         68
        ],
        [
         "011",
         "49011125808",
         false,
         "Davis County",
         110
        ],
        [
         "011",
         "49011126101",
         false,
         "Davis County",
         77
        ],
        [
         "011",
         "49011126104",
         false,
         "Davis County",
         145
        ],
        [
         "011",
         "49011126105",
         false,
         "Davis County",
         138
        ],
        [
         "011",
         "49011126204",
         false,
         "Davis County",
         55
        ],
        [
         "011",
         "49011127003",
         false,
         "Davis County",
         59
        ],
        [
         "033",
         "49033950100",
         false,
         "Rich County",
         54
        ],
        [
         "035",
         "49035102702",
         false,
         "Salt Lake County",
         66
        ],
        [
         "035",
         "49035103400",
         false,
         "Salt Lake County",
         71
        ],
        [
         "035",
         "49035104800",
         false,
         "Salt Lake County",
         83
        ],
        [
         "035",
         "49035104900",
         false,
         "Salt Lake County",
         64
        ],
        [
         "035",
         "49035110600",
         false,
         "Salt Lake County",
         142
        ],
        [
         "035",
         "49035111903",
         false,
         "Salt Lake County",
         54
        ],
        [
         "035",
         "49035112201",
         false,
         "Salt Lake County",
         72
        ],
        [
         "035",
         "49035112302",
         false,
         "Salt Lake County",
         86
        ],
        [
         "035",
         "49035112609",
         false,
         "Salt Lake County",
         86
        ],
        [
         "035",
         "49035112805",
         false,
         "Salt Lake County",
         132
        ],
        [
         "035",
         "49035112810",
         false,
         "Salt Lake County",
         78
        ],
        [
         "035",
         "49035112820",
         false,
         "Salt Lake County",
         123
        ],
        [
         "035",
         "49035113011",
         false,
         "Salt Lake County",
         159
        ],
        [
         "035",
         "49035113105",
         false,
         "Salt Lake County",
         75
        ],
        [
         "035",
         "49035113107",
         false,
         "Salt Lake County",
         243
        ],
        [
         "035",
         "49035113305",
         false,
         "Salt Lake County",
         41
        ],
        [
         "035",
         "49035113306",
         false,
         "Salt Lake County",
         72
        ],
        [
         "035",
         "49035113412",
         false,
         "Salt Lake County",
         49
        ],
        [
         "035",
         "49035113514",
         false,
         "Salt Lake County",
         70
        ],
        [
         "035",
         "49035113525",
         false,
         "Salt Lake County",
         86
        ],
        [
         "035",
         "49035113526",
         false,
         "Salt Lake County",
         33
        ],
        [
         "035",
         "49035113527",
         false,
         "Salt Lake County",
         61
        ],
        [
         "035",
         "49035113803",
         false,
         "Salt Lake County",
         71
        ],
        [
         "043",
         "49043964102",
         false,
         "Summit County",
         54
        ],
        [
         "045",
         "49045130702",
         false,
         "Tooele County",
         124
        ],
        [
         "045",
         "49045130703",
         false,
         "Tooele County",
         68
        ],
        [
         "045",
         "49045130800",
         false,
         "Tooele County",
         63
        ],
        [
         "045",
         "49045131100",
         false,
         "Tooele County",
         67
        ],
        [
         "049",
         "49049000102",
         false,
         "Utah County",
         86
        ],
        [
         "049",
         "49049000105",
         false,
         "Utah County",
         116
        ],
        [
         "049",
         "49049000603",
         false,
         "Utah County",
         65
        ],
        [
         "049",
         "49049000703",
         false,
         "Utah County",
         63
        ],
        [
         "049",
         "49049000904",
         false,
         "Utah County",
         83
        ],
        [
         "049",
         "49049001402",
         false,
         "Utah County",
         125
        ],
        [
         "049",
         "49049001602",
         false,
         "Utah County",
         79
        ],
        [
         "049",
         "49049001603",
         false,
         "Utah County",
         70
        ],
        [
         "049",
         "49049001702",
         false,
         "Utah County",
         63
        ],
        [
         "049",
         "49049001803",
         false,
         "Utah County",
         62
        ],
        [
         "049",
         "49049001900",
         false,
         "Utah County",
         329
        ],
        [
         "049",
         "49049002206",
         false,
         "Utah County",
         60
        ],
        [
         "049",
         "49049002300",
         false,
         "Utah County",
         61
        ],
        [
         "049",
         "49049003104",
         false,
         "Utah County",
         86
        ],
        [
         "049",
         "49049003203",
         false,
         "Utah County",
         60
        ],
        [
         "049",
         "49049003204",
         false,
         "Utah County",
         65
        ],
        [
         "049",
         "49049003402",
         false,
         "Utah County",
         88
        ],
        [
         "049",
         "49049010109",
         false,
         "Utah County",
         69
        ],
        [
         "049",
         "49049010111",
         false,
         "Utah County",
         70
        ],
        [
         "049",
         "49049010112",
         false,
         "Utah County",
         175
        ],
        [
         "049",
         "49049010113",
         false,
         "Utah County",
         215
        ],
        [
         "049",
         "49049010212",
         false,
         "Utah County",
         66
        ],
        [
         "049",
         "49049010214",
         false,
         "Utah County",
         76
        ],
        [
         "049",
         "49049010219",
         false,
         "Utah County",
         72
        ],
        [
         "049",
         "49049010404",
         false,
         "Utah County",
         164
        ],
        [
         "049",
         "49049010405",
         false,
         "Utah County",
         185
        ],
        [
         "053",
         "49053270801",
         false,
         "Washington County",
         65
        ],
        [
         "053",
         "49053270802",
         false,
         "Washington County",
         71
        ],
        [
         "053",
         "49053270901",
         false,
         "Washington County",
         61
        ],
        [
         "053",
         "49053271600",
         false,
         "Washington County",
         55
        ],
        [
         "057",
         "49057200202",
         false,
         "Weber County",
         52
        ],
        [
         "057",
         "49057200800",
         false,
         "Weber County",
         72
        ],
        [
         "057",
         "49057210201",
         false,
         "Weber County",
         78
        ],
        [
         "057",
         "49057210302",
         false,
         "Weber County",
         64
        ],
        [
         "057",
         "49057210403",
         false,
         "Weber County",
         51
        ],
        [
         "057",
         "49057210504",
         false,
         "Weber County",
         66
        ],
        [
         "057",
         "49057210505",
         false,
         "Weber County",
         60
        ],
        [
         "057",
         "49057210506",
         false,
         "Weber County",
         73
        ],
        [
         "057",
         "49057210600",
         false,
         "Weber County",
         61
        ],
        [
         "057",
         "49057210704",
         false,
         "Weber County",
         61
        ],
        [
         "057",
         "49057211100",
         false,
         "Weber County",
         55
        ],
        [
         "003",
         "50003970200",
         false,
         "Bennington County",
         79
        ],
        [
         "059",
         "51059416200",
         false,
         "Fairfax County",
         52
        ],
        [
         "530",
         "51530930600",
         false,
         "Buena Vista city",
         55
        ],
        [
         "003",
         "53003960400",
         false,
         "Asotin County",
         60
        ],
        [
         "005",
         "53005010810",
         false,
         "Benton County",
         64
        ],
        [
         "005",
         "53005010811",
         false,
         "Benton County",
         98
        ],
        [
         "011",
         "53011040201",
         false,
         "Clark County",
         79
        ],
        [
         "021",
         "53021020605",
         false,
         "Franklin County",
         82
        ],
        [
         "029",
         "53029971500",
         false,
         "Island County",
         72
        ],
        [
         "033",
         "53033005301",
         false,
         "King County",
         67
        ],
        [
         "033",
         "53033007300",
         false,
         "King County",
         73
        ],
        [
         "033",
         "53033010702",
         false,
         "King County",
         66
        ],
        [
         "033",
         "53033026001",
         false,
         "King County",
         98
        ],
        [
         "033",
         "53033032601",
         false,
         "King County",
         104
        ],
        [
         "035",
         "53035092400",
         false,
         "Kitsap County",
         41
        ],
        [
         "051",
         "53051970300",
         false,
         "Pend Oreille County",
         98
        ],
        [
         "053",
         "53053062300",
         false,
         "Pierce County",
         98
        ],
        [
         "061",
         "53061052806",
         false,
         "Snohomish County",
         73
        ],
        [
         "063",
         "53063010503",
         false,
         "Spokane County",
         71
        ],
        [
         "063",
         "53063012701",
         false,
         "Spokane County",
         45
        ],
        [
         "063",
         "53063013202",
         false,
         "Spokane County",
         68
        ],
        [
         "075",
         "53075000100",
         false,
         "Whitman County",
         1337
        ],
        [
         "075",
         "53075000200",
         false,
         "Whitman County",
         109
        ],
        [
         "075",
         "53075000400",
         false,
         "Whitman County",
         45
        ],
        [
         "075",
         "53075000600",
         false,
         "Whitman County",
         45
        ],
        [
         "075",
         "53075000900",
         false,
         "Whitman County",
         25
        ],
        [
         "077",
         "53077000700",
         false,
         "Yakima County",
         116
        ],
        [
         "077",
         "53077002802",
         false,
         "Yakima County",
         59
        ],
        [
         "013",
         "56013940300",
         false,
         "Fremont County",
         83
        ],
        [
         "023",
         "56023978000",
         false,
         "Lincoln County",
         66
        ],
        [
         "023",
         "56023978100",
         false,
         "Lincoln County",
         78
        ],
        [
         "037",
         "56037970902",
         false,
         "Sweetwater County",
         55
        ],
        [
         "039",
         "56039967600",
         false,
         "Teton County",
         66
        ],
        [
         "039",
         "56039967702",
         false,
         "Teton County",
         70
        ],
        [
         "039",
         "56039967800",
         false,
         "Teton County",
         68
        ],
        [
         "001",
         "16001001900",
         true,
         "Ada County",
         370
        ],
        [
         "001",
         "16001010332",
         true,
         "Ada County",
         467
        ],
        [
         "019",
         "16019971200",
         true,
         "Bonneville County",
         686
        ],
        [
         "065",
         "16065950301",
         true,
         "Madison County",
         1746
        ],
        [
         "083",
         "16083000200",
         true,
         "Twin Falls County",
         1292
        ]
       ],
       "datasetInfos": [],
       "dbfsResultPath": null,
       "isJsonSchema": true,
       "metadata": {},
       "overflow": false,
       "plotOptions": {
        "customPlotOptions": {},
        "displayType": "table",
        "pivotAggregation": null,
        "pivotColumns": null,
        "xColumns": null,
        "yColumns": null
       },
       "removedWidgets": [],
       "schema": [
        {
         "metadata": "{}",
         "name": "county",
         "type": "\"string\""
        },
        {
         "metadata": "{}",
         "name": "tractcode",
         "type": "\"string\""
        },
        {
         "metadata": "{}",
         "name": "HasTemple",
         "type": "\"boolean\""
        },
        {
         "metadata": "{}",
         "name": "cnamelong",
         "type": "\"string\""
        },
        {
         "metadata": "{}",
         "name": "total_members",
         "type": "\"long\""
        }
       ],
       "type": "table"
      }
     },
     "output_type": "display_data"
    }
   ],
   "source": [
    "c = tracttotal\\\n",
    "    .filter(\n",
    "        ~(col(\"tractcode\").isin([\"16001010332\",\"16019971200\", \"16001001900\",\"16083000200\",\"16065950301\"]))\n",
    "    )\\\n",
    "    .union(b)\n",
    "    # .join(\n",
    "    #     b, on=\"tractcode\", how=\"left\"\n",
    "    # )\n",
    "\n",
    "display(c)"
   ]
  },
  {
   "cell_type": "code",
   "execution_count": 0,
   "metadata": {
    "application/vnd.databricks.v1+cell": {
     "cellMetadata": {
      "byteLimit": 2048000,
      "rowLimit": 10000
     },
     "inputWidgets": {},
     "nuid": "7a43e2ed-f982-45f7-b057-9494168a72eb",
     "showTitle": false,
     "title": ""
    }
   },
   "outputs": [
    {
     "output_type": "display_data",
     "data": {
      "text/html": [
       "<style scoped>\n",
       "  .table-result-container {\n",
       "    max-height: 300px;\n",
       "    overflow: auto;\n",
       "  }\n",
       "  table, th, td {\n",
       "    border: 1px solid black;\n",
       "    border-collapse: collapse;\n",
       "  }\n",
       "  th, td {\n",
       "    padding: 5px;\n",
       "  }\n",
       "  th {\n",
       "    text-align: left;\n",
       "  }\n",
       "</style><div class='table-result-container'><table class='table-result'><thead style='background-color: white'><tr><th>county</th><th>tractcode</th><th>HasTemple</th><th>cnamelong</th><th>total_members</th></tr></thead><tbody><tr><td>001</td><td>16001001900</td><td>true</td><td>Ada County</td><td>370</td></tr><tr><td>001</td><td>16001010332</td><td>true</td><td>Ada County</td><td>467</td></tr><tr><td>019</td><td>16019971200</td><td>true</td><td>Bonneville County</td><td>686</td></tr><tr><td>065</td><td>16065950301</td><td>true</td><td>Madison County</td><td>1746</td></tr><tr><td>083</td><td>16083000200</td><td>true</td><td>Twin Falls County</td><td>1292</td></tr></tbody></table></div>"
      ]
     },
     "metadata": {
      "application/vnd.databricks.v1+output": {
       "addedWidgets": {},
       "aggData": [],
       "aggError": "",
       "aggOverflow": false,
       "aggSchema": [],
       "aggSeriesLimitReached": false,
       "aggType": "",
       "arguments": {},
       "columnCustomDisplayInfos": {},
       "data": [
        [
         "001",
         "16001001900",
         true,
         "Ada County",
         370
        ],
        [
         "001",
         "16001010332",
         true,
         "Ada County",
         467
        ],
        [
         "019",
         "16019971200",
         true,
         "Bonneville County",
         686
        ],
        [
         "065",
         "16065950301",
         true,
         "Madison County",
         1746
        ],
        [
         "083",
         "16083000200",
         true,
         "Twin Falls County",
         1292
        ]
       ],
       "datasetInfos": [],
       "dbfsResultPath": null,
       "isJsonSchema": true,
       "metadata": {},
       "overflow": false,
       "plotOptions": {
        "customPlotOptions": {},
        "displayType": "table",
        "pivotAggregation": null,
        "pivotColumns": null,
        "xColumns": null,
        "yColumns": null
       },
       "removedWidgets": [],
       "schema": [
        {
         "metadata": "{}",
         "name": "county",
         "type": "\"string\""
        },
        {
         "metadata": "{}",
         "name": "tractcode",
         "type": "\"string\""
        },
        {
         "metadata": "{}",
         "name": "HasTemple",
         "type": "\"boolean\""
        },
        {
         "metadata": "{}",
         "name": "cnamelong",
         "type": "\"string\""
        },
        {
         "metadata": "{}",
         "name": "total_members",
         "type": "\"long\""
        }
       ],
       "type": "table"
      }
     },
     "output_type": "display_data"
    }
   ],
   "source": [
    "display(\n",
    "    c.filter(\n",
    "        (col(\"tractcode\").isin([\"16001010332\",\"16019971200\", \"16001001900\",\"16083000200\",\"16065950301\"]))\n",
    "    )\n",
    ")"
   ]
  },
  {
   "cell_type": "code",
   "execution_count": 0,
   "metadata": {
    "application/vnd.databricks.v1+cell": {
     "cellMetadata": {
      "byteLimit": 2048000,
      "rowLimit": 10000
     },
     "inputWidgets": {},
     "nuid": "b9b289bc-7f0a-4040-8585-ba518c193306",
     "showTitle": false,
     "title": ""
    }
   },
   "outputs": [
    {
     "output_type": "display_data",
     "data": {
      "text/html": [
       "<style scoped>\n",
       "  .table-result-container {\n",
       "    max-height: 300px;\n",
       "    overflow: auto;\n",
       "  }\n",
       "  table, th, td {\n",
       "    border: 1px solid black;\n",
       "    border-collapse: collapse;\n",
       "  }\n",
       "  th, td {\n",
       "    padding: 5px;\n",
       "  }\n",
       "  th {\n",
       "    text-align: left;\n",
       "  }\n",
       "</style><div class='table-result-container'><table class='table-result'><thead style='background-color: white'><tr><th>county</th><th>tractcode</th><th>HasTemple</th><th>cnamelong</th><th>total_members</th></tr></thead><tbody><tr><td>039</td><td>56039967800</td><td>false</td><td>Teton County</td><td>68</td></tr><tr><td>039</td><td>56039967702</td><td>false</td><td>Teton County</td><td>70</td></tr><tr><td>039</td><td>56039967600</td><td>false</td><td>Teton County</td><td>66</td></tr><tr><td>037</td><td>56037970902</td><td>false</td><td>Sweetwater County</td><td>55</td></tr><tr><td>023</td><td>56023978100</td><td>false</td><td>Lincoln County</td><td>78</td></tr><tr><td>023</td><td>56023978000</td><td>false</td><td>Lincoln County</td><td>66</td></tr><tr><td>013</td><td>56013940300</td><td>false</td><td>Fremont County</td><td>83</td></tr><tr><td>077</td><td>53077002802</td><td>false</td><td>Yakima County</td><td>59</td></tr><tr><td>077</td><td>53077000700</td><td>false</td><td>Yakima County</td><td>116</td></tr><tr><td>075</td><td>53075000900</td><td>false</td><td>Whitman County</td><td>25</td></tr><tr><td>075</td><td>53075000600</td><td>false</td><td>Whitman County</td><td>45</td></tr><tr><td>075</td><td>53075000400</td><td>false</td><td>Whitman County</td><td>45</td></tr><tr><td>075</td><td>53075000200</td><td>false</td><td>Whitman County</td><td>109</td></tr><tr><td>075</td><td>53075000100</td><td>false</td><td>Whitman County</td><td>1337</td></tr><tr><td>063</td><td>53063013202</td><td>false</td><td>Spokane County</td><td>68</td></tr><tr><td>063</td><td>53063012701</td><td>false</td><td>Spokane County</td><td>45</td></tr><tr><td>063</td><td>53063010503</td><td>false</td><td>Spokane County</td><td>71</td></tr><tr><td>061</td><td>53061052806</td><td>false</td><td>Snohomish County</td><td>73</td></tr><tr><td>053</td><td>53053062300</td><td>false</td><td>Pierce County</td><td>98</td></tr><tr><td>051</td><td>53051970300</td><td>false</td><td>Pend Oreille County</td><td>98</td></tr><tr><td>035</td><td>53035092400</td><td>false</td><td>Kitsap County</td><td>41</td></tr><tr><td>033</td><td>53033032601</td><td>false</td><td>King County</td><td>104</td></tr><tr><td>033</td><td>53033026001</td><td>false</td><td>King County</td><td>98</td></tr><tr><td>033</td><td>53033010702</td><td>false</td><td>King County</td><td>66</td></tr><tr><td>033</td><td>53033007300</td><td>false</td><td>King County</td><td>73</td></tr><tr><td>033</td><td>53033005301</td><td>false</td><td>King County</td><td>67</td></tr><tr><td>029</td><td>53029971500</td><td>false</td><td>Island County</td><td>72</td></tr><tr><td>021</td><td>53021020605</td><td>false</td><td>Franklin County</td><td>82</td></tr><tr><td>011</td><td>53011040201</td><td>false</td><td>Clark County</td><td>79</td></tr><tr><td>005</td><td>53005010811</td><td>false</td><td>Benton County</td><td>98</td></tr><tr><td>005</td><td>53005010810</td><td>false</td><td>Benton County</td><td>64</td></tr><tr><td>003</td><td>53003960400</td><td>false</td><td>Asotin County</td><td>60</td></tr><tr><td>530</td><td>51530930600</td><td>false</td><td>Buena Vista city</td><td>55</td></tr><tr><td>059</td><td>51059416200</td><td>false</td><td>Fairfax County</td><td>52</td></tr><tr><td>003</td><td>50003970200</td><td>false</td><td>Bennington County</td><td>79</td></tr><tr><td>057</td><td>49057211100</td><td>false</td><td>Weber County</td><td>55</td></tr><tr><td>057</td><td>49057210704</td><td>false</td><td>Weber County</td><td>61</td></tr><tr><td>057</td><td>49057210600</td><td>false</td><td>Weber County</td><td>61</td></tr><tr><td>057</td><td>49057210506</td><td>false</td><td>Weber County</td><td>73</td></tr><tr><td>057</td><td>49057210505</td><td>false</td><td>Weber County</td><td>60</td></tr><tr><td>057</td><td>49057210504</td><td>false</td><td>Weber County</td><td>66</td></tr><tr><td>057</td><td>49057210403</td><td>false</td><td>Weber County</td><td>51</td></tr><tr><td>057</td><td>49057210302</td><td>false</td><td>Weber County</td><td>64</td></tr><tr><td>057</td><td>49057210201</td><td>false</td><td>Weber County</td><td>78</td></tr><tr><td>057</td><td>49057200800</td><td>false</td><td>Weber County</td><td>72</td></tr><tr><td>057</td><td>49057200202</td><td>false</td><td>Weber County</td><td>52</td></tr><tr><td>053</td><td>49053271600</td><td>false</td><td>Washington County</td><td>55</td></tr><tr><td>053</td><td>49053270901</td><td>false</td><td>Washington County</td><td>61</td></tr><tr><td>053</td><td>49053270802</td><td>false</td><td>Washington County</td><td>71</td></tr><tr><td>053</td><td>49053270801</td><td>false</td><td>Washington County</td><td>65</td></tr><tr><td>049</td><td>49049010405</td><td>false</td><td>Utah County</td><td>185</td></tr><tr><td>049</td><td>49049010404</td><td>false</td><td>Utah County</td><td>164</td></tr><tr><td>049</td><td>49049010219</td><td>false</td><td>Utah County</td><td>72</td></tr><tr><td>049</td><td>49049010214</td><td>false</td><td>Utah County</td><td>76</td></tr><tr><td>049</td><td>49049010212</td><td>false</td><td>Utah County</td><td>66</td></tr><tr><td>049</td><td>49049010113</td><td>false</td><td>Utah County</td><td>215</td></tr><tr><td>049</td><td>49049010112</td><td>false</td><td>Utah County</td><td>175</td></tr><tr><td>049</td><td>49049010111</td><td>false</td><td>Utah County</td><td>70</td></tr><tr><td>049</td><td>49049010109</td><td>false</td><td>Utah County</td><td>69</td></tr><tr><td>049</td><td>49049003402</td><td>false</td><td>Utah County</td><td>88</td></tr><tr><td>049</td><td>49049003204</td><td>false</td><td>Utah County</td><td>65</td></tr><tr><td>049</td><td>49049003203</td><td>false</td><td>Utah County</td><td>60</td></tr><tr><td>049</td><td>49049003104</td><td>false</td><td>Utah County</td><td>86</td></tr><tr><td>049</td><td>49049002300</td><td>false</td><td>Utah County</td><td>61</td></tr><tr><td>049</td><td>49049002206</td><td>false</td><td>Utah County</td><td>60</td></tr><tr><td>049</td><td>49049001900</td><td>false</td><td>Utah County</td><td>329</td></tr><tr><td>049</td><td>49049001803</td><td>false</td><td>Utah County</td><td>62</td></tr><tr><td>049</td><td>49049001702</td><td>false</td><td>Utah County</td><td>63</td></tr><tr><td>049</td><td>49049001603</td><td>false</td><td>Utah County</td><td>70</td></tr><tr><td>049</td><td>49049001602</td><td>false</td><td>Utah County</td><td>79</td></tr><tr><td>049</td><td>49049001402</td><td>false</td><td>Utah County</td><td>125</td></tr><tr><td>049</td><td>49049000904</td><td>false</td><td>Utah County</td><td>83</td></tr><tr><td>049</td><td>49049000703</td><td>false</td><td>Utah County</td><td>63</td></tr><tr><td>049</td><td>49049000603</td><td>false</td><td>Utah County</td><td>65</td></tr><tr><td>049</td><td>49049000105</td><td>false</td><td>Utah County</td><td>116</td></tr><tr><td>049</td><td>49049000102</td><td>false</td><td>Utah County</td><td>86</td></tr><tr><td>045</td><td>49045131100</td><td>false</td><td>Tooele County</td><td>67</td></tr><tr><td>045</td><td>49045130800</td><td>false</td><td>Tooele County</td><td>63</td></tr><tr><td>045</td><td>49045130703</td><td>false</td><td>Tooele County</td><td>68</td></tr><tr><td>045</td><td>49045130702</td><td>false</td><td>Tooele County</td><td>124</td></tr><tr><td>043</td><td>49043964102</td><td>false</td><td>Summit County</td><td>54</td></tr><tr><td>035</td><td>49035113803</td><td>false</td><td>Salt Lake County</td><td>71</td></tr><tr><td>035</td><td>49035113527</td><td>false</td><td>Salt Lake County</td><td>61</td></tr><tr><td>035</td><td>49035113526</td><td>false</td><td>Salt Lake County</td><td>33</td></tr><tr><td>035</td><td>49035113525</td><td>false</td><td>Salt Lake County</td><td>86</td></tr><tr><td>035</td><td>49035113514</td><td>false</td><td>Salt Lake County</td><td>70</td></tr><tr><td>035</td><td>49035113412</td><td>false</td><td>Salt Lake County</td><td>49</td></tr><tr><td>035</td><td>49035113306</td><td>false</td><td>Salt Lake County</td><td>72</td></tr><tr><td>035</td><td>49035113305</td><td>false</td><td>Salt Lake County</td><td>41</td></tr><tr><td>035</td><td>49035113107</td><td>false</td><td>Salt Lake County</td><td>243</td></tr><tr><td>035</td><td>49035113105</td><td>false</td><td>Salt Lake County</td><td>75</td></tr><tr><td>035</td><td>49035113011</td><td>false</td><td>Salt Lake County</td><td>159</td></tr><tr><td>035</td><td>49035112820</td><td>false</td><td>Salt Lake County</td><td>123</td></tr><tr><td>035</td><td>49035112810</td><td>false</td><td>Salt Lake County</td><td>78</td></tr><tr><td>035</td><td>49035112805</td><td>false</td><td>Salt Lake County</td><td>132</td></tr><tr><td>035</td><td>49035112609</td><td>false</td><td>Salt Lake County</td><td>86</td></tr><tr><td>035</td><td>49035112302</td><td>false</td><td>Salt Lake County</td><td>86</td></tr><tr><td>035</td><td>49035112201</td><td>false</td><td>Salt Lake County</td><td>72</td></tr><tr><td>035</td><td>49035111903</td><td>false</td><td>Salt Lake County</td><td>54</td></tr><tr><td>035</td><td>49035110600</td><td>false</td><td>Salt Lake County</td><td>142</td></tr><tr><td>035</td><td>49035104900</td><td>false</td><td>Salt Lake County</td><td>64</td></tr><tr><td>035</td><td>49035104800</td><td>false</td><td>Salt Lake County</td><td>83</td></tr><tr><td>035</td><td>49035103400</td><td>false</td><td>Salt Lake County</td><td>71</td></tr><tr><td>035</td><td>49035102702</td><td>false</td><td>Salt Lake County</td><td>66</td></tr><tr><td>033</td><td>49033950100</td><td>false</td><td>Rich County</td><td>54</td></tr><tr><td>011</td><td>49011127003</td><td>false</td><td>Davis County</td><td>59</td></tr><tr><td>011</td><td>49011126204</td><td>false</td><td>Davis County</td><td>55</td></tr><tr><td>011</td><td>49011126105</td><td>false</td><td>Davis County</td><td>138</td></tr><tr><td>011</td><td>49011126104</td><td>false</td><td>Davis County</td><td>145</td></tr><tr><td>011</td><td>49011126101</td><td>false</td><td>Davis County</td><td>77</td></tr><tr><td>011</td><td>49011125808</td><td>false</td><td>Davis County</td><td>110</td></tr><tr><td>011</td><td>49011125801</td><td>false</td><td>Davis County</td><td>68</td></tr><tr><td>011</td><td>49011125405</td><td>false</td><td>Davis County</td><td>76</td></tr><tr><td>011</td><td>49011125403</td><td>false</td><td>Davis County</td><td>131</td></tr><tr><td>011</td><td>49011125401</td><td>false</td><td>Davis County</td><td>116</td></tr><tr><td>005</td><td>49005001401</td><td>false</td><td>Cache County</td><td>78</td></tr><tr><td>005</td><td>49005001102</td><td>false</td><td>Cache County</td><td>86</td></tr><tr><td>005</td><td>49005001002</td><td>false</td><td>Cache County</td><td>140</td></tr><tr><td>005</td><td>49005001001</td><td>false</td><td>Cache County</td><td>68</td></tr><tr><td>005</td><td>49005000900</td><td>false</td><td>Cache County</td><td>68</td></tr><tr><td>005</td><td>49005000800</td><td>false</td><td>Cache County</td><td>63</td></tr><tr><td>005</td><td>49005000701</td><td>false</td><td>Cache County</td><td>142</td></tr><tr><td>005</td><td>49005000600</td><td>false</td><td>Cache County</td><td>70</td></tr><tr><td>005</td><td>49005000501</td><td>false</td><td>Cache County</td><td>68</td></tr><tr><td>005</td><td>49005000403</td><td>false</td><td>Cache County</td><td>68</td></tr><tr><td>005</td><td>49005000401</td><td>false</td><td>Cache County</td><td>71</td></tr><tr><td>005</td><td>49005000202</td><td>false</td><td>Cache County</td><td>100</td></tr><tr><td>005</td><td>49005000201</td><td>false</td><td>Cache County</td><td>76</td></tr><tr><td>005</td><td>49005000101</td><td>false</td><td>Cache County</td><td>187</td></tr><tr><td>003</td><td>49003960801</td><td>false</td><td>Box Elder County</td><td>66</td></tr><tr><td>003</td><td>49003960702</td><td>false</td><td>Box Elder County</td><td>60</td></tr><tr><td>003</td><td>49003960300</td><td>false</td><td>Box Elder County</td><td>134</td></tr><tr><td>003</td><td>49003960100</td><td>false</td><td>Box Elder County</td><td>61</td></tr><tr><td>453</td><td>48453001826</td><td>false</td><td>Travis County</td><td>77</td></tr><tr><td>439</td><td>48439113922</td><td>false</td><td>Tarrant County</td><td>80</td></tr><tr><td>201</td><td>48201421700</td><td>false</td><td>Harris County</td><td>65</td></tr><tr><td>113</td><td>48113020400</td><td>false</td><td>Dallas County</td><td>68</td></tr><tr><td>085</td><td>48085031313</td><td>false</td><td>Collin County</td><td>137</td></tr><tr><td>125</td><td>47125101400</td><td>false</td><td>Montgomery County</td><td>80</td></tr><tr><td>093</td><td>47093006206</td><td>false</td><td>Knox County</td><td>51</td></tr><tr><td>013</td><td>45013000503</td><td>false</td><td>Beaufort County</td><td>83</td></tr><tr><td>067</td><td>41067033302</td><td>false</td><td>Washington County</td><td>104</td></tr><tr><td>067</td><td>41067032603</td><td>false</td><td>Washington County</td><td>75</td></tr><tr><td>059</td><td>41059950500</td><td>false</td><td>Umatilla County</td><td>62</td></tr><tr><td>051</td><td>41051005100</td><td>false</td><td>Multnomah County</td><td>162</td></tr><tr><td>045</td><td>41045970600</td><td>false</td><td>Malheur County</td><td>83</td></tr><tr><td>045</td><td>41045970500</td><td>false</td><td>Malheur County</td><td>64</td></tr><tr><td>045</td><td>41045970300</td><td>false</td><td>Malheur County</td><td>107</td></tr><tr><td>041</td><td>41041950304</td><td>false</td><td>Lincoln County</td><td>71</td></tr><tr><td>023</td><td>41023960200</td><td>false</td><td>Grant County</td><td>74</td></tr><tr><td>017</td><td>41017000200</td><td>false</td><td>Deschutes County</td><td>89</td></tr><tr><td>009</td><td>41009970600</td><td>false</td><td>Columbia County</td><td>71</td></tr><tr><td>001</td><td>41001950500</td><td>false</td><td>Baker County</td><td>41</td></tr><tr><td>001</td><td>41001950100</td><td>false</td><td>Baker County</td><td>72</td></tr><tr><td>113</td><td>40113940002</td><td>false</td><td>Osage County</td><td>71</td></tr><tr><td>113</td><td>39113050104</td><td>false</td><td>Montgomery County</td><td>86</td></tr><tr><td>183</td><td>37183053107</td><td>false</td><td>Wake County</td><td>83</td></tr><tr><td>101</td><td>37101040203</td><td>false</td><td>Johnston County</td><td>83</td></tr><tr><td>017</td><td>37017950300</td><td>false</td><td>Bladen County</td><td>83</td></tr><tr><td>061</td><td>36061023000</td><td>false</td><td>New York County</td><td>50</td></tr><tr><td>011</td><td>36011040400</td><td>false</td><td>Cayuga County</td><td>75</td></tr><tr><td>045</td><td>35045000610</td><td>false</td><td>San Juan County</td><td>63</td></tr><tr><td>033</td><td>32033970100</td><td>false</td><td>White Pine County</td><td>63</td></tr><tr><td>031</td><td>32031003106</td><td>false</td><td>Washoe County</td><td>73</td></tr><tr><td>031</td><td>32031002613</td><td>false</td><td>Washoe County</td><td>61</td></tr><tr><td>019</td><td>32019960101</td><td>false</td><td>Lyon County</td><td>73</td></tr><tr><td>007</td><td>32007950701</td><td>false</td><td>Elko County</td><td>73</td></tr><tr><td>007</td><td>32007950200</td><td>false</td><td>Elko County</td><td>68</td></tr><tr><td>003</td><td>32003003629</td><td>false</td><td>Clark County</td><td>111</td></tr><tr><td>003</td><td>32003003318</td><td>false</td><td>Clark County</td><td>66</td></tr><tr><td>003</td><td>32003002808</td><td>false</td><td>Clark County</td><td>68</td></tr><tr><td>055</td><td>31055002300</td><td>false</td><td>Douglas County</td><td>66</td></tr><tr><td>111</td><td>30111000702</td><td>false</td><td>Yellowstone County</td><td>69</td></tr><tr><td>081</td><td>30081000202</td><td>false</td><td>Ravalli County</td><td>71</td></tr><tr><td>063</td><td>30063001302</td><td>false</td><td>Missoula County</td><td>66</td></tr><tr><td>063</td><td>30063000202</td><td>false</td><td>Missoula County</td><td>68</td></tr><tr><td>057</td><td>30057000200</td><td>false</td><td>Madison County</td><td>65</td></tr><tr><td>043</td><td>30043962202</td><td>false</td><td>Jefferson County</td><td>178</td></tr><tr><td>041</td><td>30041040300</td><td>false</td><td>Hill County</td><td>55</td></tr><tr><td>031</td><td>30031001500</td><td>false</td><td>Gallatin County</td><td>86</td></tr><tr><td>031</td><td>30031000900</td><td>false</td><td>Gallatin County</td><td>55</td></tr><tr><td>031</td><td>30031000300</td><td>false</td><td>Gallatin County</td><td>49</td></tr><tr><td>209</td><td>29209090601</td><td>false</td><td>Stone County</td><td>76</td></tr><tr><td>145</td><td>27145000601</td><td>false</td><td>Stearns County</td><td>50</td></tr><tr><td>161</td><td>26161431000</td><td>false</td><td>Washtenaw County</td><td>70</td></tr><tr><td>065</td><td>26065005001</td><td>false</td><td>Ingham County</td><td>53</td></tr><tr><td>049</td><td>26049013002</td><td>false</td><td>Genesee County</td><td>53</td></tr><tr><td>043</td><td>26043950300</td><td>false</td><td>Dickinson County</td><td>73</td></tr><tr><td>031</td><td>24031700823</td><td>false</td><td>Montgomery County</td><td>54</td></tr><tr><td>015</td><td>22015010806</td><td>false</td><td>Bossier Parish</td><td>61</td></tr><tr><td>185</td><td>21185030601</td><td>false</td><td>Oldham County</td><td>69</td></tr><tr><td>155</td><td>20155001800</td><td>false</td><td>Reno County</td><td>83</td></tr><tr><td>057</td><td>19057001000</td><td>false</td><td>Des Moines County</td><td>88</td></tr><tr><td>011</td><td>18011810400</td><td>false</td><td>Boone County</td><td>64</td></tr><tr><td>087</td><td>16087970300</td><td>false</td><td>Washington County</td><td>231</td></tr><tr><td>087</td><td>16087970200</td><td>false</td><td>Washington County</td><td>184</td></tr><tr><td>087</td><td>16087970100</td><td>false</td><td>Washington County</td><td>322</td></tr><tr><td>085</td><td>16085970200</td><td>false</td><td>Valley County</td><td>71</td></tr><tr><td>085</td><td>16085970100</td><td>false</td><td>Valley County</td><td>62</td></tr><tr><td>083</td><td>16083001500</td><td>false</td><td>Twin Falls County</td><td>230</td></tr><tr><td>083</td><td>16083001400</td><td>false</td><td>Twin Falls County</td><td>230</td></tr><tr><td>083</td><td>16083001300</td><td>false</td><td>Twin Falls County</td><td>1669</td></tr><tr><td>083</td><td>16083001200</td><td>false</td><td>Twin Falls County</td><td>576</td></tr><tr><td>083</td><td>16083001100</td><td>false</td><td>Twin Falls County</td><td>88</td></tr><tr><td>083</td><td>16083001000</td><td>false</td><td>Twin Falls County</td><td>1088</td></tr><tr><td>083</td><td>16083000900</td><td>false</td><td>Twin Falls County</td><td>1325</td></tr><tr><td>083</td><td>16083000800</td><td>false</td><td>Twin Falls County</td><td>542</td></tr><tr><td>083</td><td>16083000700</td><td>false</td><td>Twin Falls County</td><td>1763</td></tr><tr><td>083</td><td>16083000600</td><td>false</td><td>Twin Falls County</td><td>474</td></tr><tr><td>083</td><td>16083000500</td><td>false</td><td>Twin Falls County</td><td>1631</td></tr><tr><td>083</td><td>16083000400</td><td>false</td><td>Twin Falls County</td><td>135</td></tr><tr><td>083</td><td>16083000300</td><td>false</td><td>Twin Falls County</td><td>420</td></tr><tr><td>083</td><td>16083000200</td><td>true</td><td>Twin Falls County</td><td>1292</td></tr><tr><td>081</td><td>16081960100</td><td>false</td><td>Teton County</td><td>292</td></tr><tr><td>079</td><td>16079960300</td><td>false</td><td>Shoshone County</td><td>126</td></tr><tr><td>079</td><td>16079960200</td><td>false</td><td>Shoshone County</td><td>155</td></tr><tr><td>077</td><td>16077960200</td><td>false</td><td>Power County</td><td>1460</td></tr><tr><td>077</td><td>16077960100</td><td>false</td><td>Power County</td><td>572</td></tr><tr><td>075</td><td>16075960400</td><td>false</td><td>Payette County</td><td>157</td></tr><tr><td>075</td><td>16075960300</td><td>false</td><td>Payette County</td><td>1403</td></tr><tr><td>075</td><td>16075960200</td><td>false</td><td>Payette County</td><td>233</td></tr><tr><td>075</td><td>16075960100</td><td>false</td><td>Payette County</td><td>134</td></tr><tr><td>073</td><td>16073950200</td><td>false</td><td>Owyhee County</td><td>327</td></tr><tr><td>073</td><td>16073950102</td><td>false</td><td>Owyhee County</td><td>67</td></tr><tr><td>073</td><td>16073950101</td><td>false</td><td>Owyhee County</td><td>293</td></tr><tr><td>071</td><td>16071960100</td><td>false</td><td>Oneida County</td><td>860</td></tr><tr><td>069</td><td>16069961000</td><td>false</td><td>Nez Perce County</td><td>60</td></tr><tr><td>069</td><td>16069960900</td><td>false</td><td>Nez Perce County</td><td>60</td></tr><tr><td>069</td><td>16069960600</td><td>false</td><td>Nez Perce County</td><td>60</td></tr><tr><td>069</td><td>16069960500</td><td>false</td><td>Nez Perce County</td><td>105</td></tr><tr><td>069</td><td>16069960400</td><td>false</td><td>Nez Perce County</td><td>60</td></tr><tr><td>069</td><td>16069960200</td><td>false</td><td>Nez Perce County</td><td>25</td></tr><tr><td>067</td><td>16067970500</td><td>false</td><td>Minidoka County</td><td>844</td></tr><tr><td>067</td><td>16067970400</td><td>false</td><td>Minidoka County</td><td>694</td></tr><tr><td>067</td><td>16067970300</td><td>false</td><td>Minidoka County</td><td>711</td></tr><tr><td>067</td><td>16067970200</td><td>false</td><td>Minidoka County</td><td>1092</td></tr><tr><td>067</td><td>16067970100</td><td>false</td><td>Minidoka County</td><td>345</td></tr><tr><td>065</td><td>16065950500</td><td>false</td><td>Madison County</td><td>2088</td></tr><tr><td>065</td><td>16065950400</td><td>false</td><td>Madison County</td><td>1521</td></tr><tr><td>065</td><td>16065950302</td><td>false</td><td>Madison County</td><td>5525</td></tr><tr><td>065</td><td>16065950301</td><td>true</td><td>Madison County</td><td>1746</td></tr><tr><td>065</td><td>16065950200</td><td>false</td><td>Madison County</td><td>1204</td></tr><tr><td>065</td><td>16065950100</td><td>false</td><td>Madison County</td><td>1996</td></tr><tr><td>063</td><td>16063950100</td><td>false</td><td>Lincoln County</td><td>154</td></tr><tr><td>059</td><td>16059970200</td><td>false</td><td>Lemhi County</td><td>117</td></tr><tr><td>059</td><td>16059970100</td><td>false</td><td>Lemhi County</td><td>276</td></tr><tr><td>057</td><td>16057005600</td><td>false</td><td>Latah County</td><td>45</td></tr><tr><td>057</td><td>16057005500</td><td>false</td><td>Latah County</td><td>25</td></tr><tr><td>057</td><td>16057005200</td><td>false</td><td>Latah County</td><td>563</td></tr><tr><td>057</td><td>16057005100</td><td>false</td><td>Latah County</td><td>198</td></tr><tr><td>055</td><td>16055002000</td><td>false</td><td>Kootenai County</td><td>196</td></tr><tr><td>055</td><td>16055001900</td><td>false</td><td>Kootenai County</td><td>83</td></tr><tr><td>055</td><td>16055001800</td><td>false</td><td>Kootenai County</td><td>333</td></tr><tr><td>055</td><td>16055001700</td><td>false</td><td>Kootenai County</td><td>68</td></tr><tr><td>055</td><td>16055001500</td><td>false</td><td>Kootenai County</td><td>199</td></tr><tr><td>055</td><td>16055001400</td><td>false</td><td>Kootenai County</td><td>98</td></tr><tr><td>055</td><td>16055001300</td><td>false</td><td>Kootenai County</td><td>755</td></tr><tr><td>055</td><td>16055001200</td><td>false</td><td>Kootenai County</td><td>147</td></tr><tr><td>055</td><td>16055001100</td><td>false</td><td>Kootenai County</td><td>233</td></tr><tr><td>055</td><td>16055001002</td><td>false</td><td>Kootenai County</td><td>284</td></tr><tr><td>055</td><td>16055001001</td><td>false</td><td>Kootenai County</td><td>71</td></tr><tr><td>055</td><td>16055000900</td><td>false</td><td>Kootenai County</td><td>98</td></tr><tr><td>055</td><td>16055000800</td><td>false</td><td>Kootenai County</td><td>246</td></tr><tr><td>055</td><td>16055000700</td><td>false</td><td>Kootenai County</td><td>8251</td></tr><tr><td>055</td><td>16055000602</td><td>false</td><td>Kootenai County</td><td>64</td></tr><tr><td>055</td><td>16055000601</td><td>false</td><td>Kootenai County</td><td>98</td></tr><tr><td>055</td><td>16055000500</td><td>false</td><td>Kootenai County</td><td>357</td></tr><tr><td>055</td><td>16055000402</td><td>false</td><td>Kootenai County</td><td>68</td></tr><tr><td>055</td><td>16055000302</td><td>false</td><td>Kootenai County</td><td>503</td></tr><tr><td>055</td><td>16055000301</td><td>false</td><td>Kootenai County</td><td>162</td></tr><tr><td>055</td><td>16055000200</td><td>false</td><td>Kootenai County</td><td>731</td></tr><tr><td>055</td><td>16055000100</td><td>false</td><td>Kootenai County</td><td>68</td></tr><tr><td>053</td><td>16053970500</td><td>false</td><td>Jerome County</td><td>1005</td></tr><tr><td>053</td><td>16053970400</td><td>false</td><td>Jerome County</td><td>138</td></tr><tr><td>053</td><td>16053970300</td><td>false</td><td>Jerome County</td><td>413</td></tr><tr><td>053</td><td>16053970200</td><td>false</td><td>Jerome County</td><td>328</td></tr><tr><td>051</td><td>16051960400</td><td>false</td><td>Jefferson County</td><td>2851</td></tr><tr><td>051</td><td>16051960300</td><td>false</td><td>Jefferson County</td><td>2392</td></tr><tr><td>051</td><td>16051960200</td><td>false</td><td>Jefferson County</td><td>1500</td></tr><tr><td>051</td><td>16051960100</td><td>false</td><td>Jefferson County</td><td>209</td></tr><tr><td>049</td><td>16049960400</td><td>false</td><td>Idaho County</td><td>192</td></tr><tr><td>047</td><td>16047960200</td><td>false</td><td>Gooding County</td><td>433</td></tr><tr><td>047</td><td>16047960100</td><td>false</td><td>Gooding County</td><td>603</td></tr><tr><td>045</td><td>16045960300</td><td>false</td><td>Gem County</td><td>326</td></tr><tr><td>045</td><td>16045960200</td><td>false</td><td>Gem County</td><td>885</td></tr><tr><td>045</td><td>16045960100</td><td>false</td><td>Gem County</td><td>587</td></tr><tr><td>043</td><td>16043970300</td><td>false</td><td>Fremont County</td><td>5832</td></tr><tr><td>043</td><td>16043970200</td><td>false</td><td>Fremont County</td><td>1348</td></tr><tr><td>043</td><td>16043970100</td><td>false</td><td>Fremont County</td><td>634</td></tr><tr><td>041</td><td>16041970200</td><td>false</td><td>Franklin County</td><td>2149</td></tr><tr><td>041</td><td>16041970100</td><td>false</td><td>Franklin County</td><td>1765</td></tr><tr><td>039</td><td>16039960400</td><td>false</td><td>Elmore County</td><td>450</td></tr><tr><td>039</td><td>16039960300</td><td>false</td><td>Elmore County</td><td>120</td></tr><tr><td>039</td><td>16039960200</td><td>false</td><td>Elmore County</td><td>454</td></tr><tr><td>037</td><td>16037960200</td><td>false</td><td>Custer County</td><td>57</td></tr><tr><td>031</td><td>16031950600</td><td>false</td><td>Cassia County</td><td>1393</td></tr><tr><td>031</td><td>16031950500</td><td>false</td><td>Cassia County</td><td>2476</td></tr><tr><td>031</td><td>16031950400</td><td>false</td><td>Cassia County</td><td>592</td></tr><tr><td>031</td><td>16031950300</td><td>false</td><td>Cassia County</td><td>2715</td></tr><tr><td>031</td><td>16031950200</td><td>false</td><td>Cassia County</td><td>2028</td></tr><tr><td>031</td><td>16031950100</td><td>false</td><td>Cassia County</td><td>696</td></tr><tr><td>029</td><td>16029960200</td><td>false</td><td>Caribou County</td><td>510</td></tr><tr><td>029</td><td>16029960100</td><td>false</td><td>Caribou County</td><td>1406</td></tr><tr><td>027</td><td>16027022400</td><td>false</td><td>Canyon County</td><td>510</td></tr><tr><td>027</td><td>16027022300</td><td>false</td><td>Canyon County</td><td>135</td></tr><tr><td>027</td><td>16027022200</td><td>false</td><td>Canyon County</td><td>162</td></tr><tr><td>027</td><td>16027021904</td><td>false</td><td>Canyon County</td><td>72</td></tr><tr><td>027</td><td>16027021903</td><td>false</td><td>Canyon County</td><td>510</td></tr><tr><td>027</td><td>16027021901</td><td>false</td><td>Canyon County</td><td>274</td></tr><tr><td>027</td><td>16027021800</td><td>false</td><td>Canyon County</td><td>126</td></tr><tr><td>027</td><td>16027021700</td><td>false</td><td>Canyon County</td><td>128</td></tr><tr><td>027</td><td>16027021500</td><td>false</td><td>Canyon County</td><td>257</td></tr><tr><td>027</td><td>16027021300</td><td>false</td><td>Canyon County</td><td>47</td></tr><tr><td>027</td><td>16027021200</td><td>false</td><td>Canyon County</td><td>103</td></tr><tr><td>027</td><td>16027021100</td><td>false</td><td>Canyon County</td><td>1873</td></tr><tr><td>027</td><td>16027021002</td><td>false</td><td>Canyon County</td><td>628</td></tr><tr><td>027</td><td>16027021001</td><td>false</td><td>Canyon County</td><td>501</td></tr><tr><td>027</td><td>16027020902</td><td>false</td><td>Canyon County</td><td>1565</td></tr><tr><td>027</td><td>16027020901</td><td>false</td><td>Canyon County</td><td>2884</td></tr><tr><td>027</td><td>16027020700</td><td>false</td><td>Canyon County</td><td>71</td></tr><tr><td>027</td><td>16027020602</td><td>false</td><td>Canyon County</td><td>329</td></tr><tr><td>027</td><td>16027020601</td><td>false</td><td>Canyon County</td><td>242</td></tr><tr><td>027</td><td>16027020504</td><td>false</td><td>Canyon County</td><td>83</td></tr><tr><td>027</td><td>16027020503</td><td>false</td><td>Canyon County</td><td>322</td></tr><tr><td>027</td><td>16027020501</td><td>false</td><td>Canyon County</td><td>113</td></tr><tr><td>027</td><td>16027020402</td><td>false</td><td>Canyon County</td><td>150</td></tr><tr><td>027</td><td>16027020401</td><td>false</td><td>Canyon County</td><td>460</td></tr><tr><td>027</td><td>16027020300</td><td>false</td><td>Canyon County</td><td>81</td></tr><tr><td>027</td><td>16027020100</td><td>false</td><td>Canyon County</td><td>89</td></tr><tr><td>025</td><td>16025970100</td><td>false</td><td>Camas County</td><td>77</td></tr><tr><td>023</td><td>16023970100</td><td>false</td><td>Butte County</td><td>430</td></tr><tr><td>019</td><td>16019971500</td><td>false</td><td>Bonneville County</td><td>239</td></tr><tr><td>019</td><td>16019971400</td><td>false</td><td>Bonneville County</td><td>2426</td></tr><tr><td>019</td><td>16019971302</td><td>false</td><td>Bonneville County</td><td>1291</td></tr><tr><td>019</td><td>16019971301</td><td>false</td><td>Bonneville County</td><td>1474</td></tr><tr><td>019</td><td>16019971200</td><td>true</td><td>Bonneville County</td><td>686</td></tr><tr><td>019</td><td>16019971100</td><td>false</td><td>Bonneville County</td><td>644</td></tr><tr><td>019</td><td>16019971000</td><td>false</td><td>Bonneville County</td><td>913</td></tr><tr><td>019</td><td>16019970900</td><td>false</td><td>Bonneville County</td><td>716</td></tr><tr><td>019</td><td>16019970800</td><td>false</td><td>Bonneville County</td><td>700</td></tr><tr><td>019</td><td>16019970700</td><td>false</td><td>Bonneville County</td><td>670</td></tr><tr><td>019</td><td>16019970603</td><td>false</td><td>Bonneville County</td><td>344</td></tr><tr><td>019</td><td>16019970602</td><td>false</td><td>Bonneville County</td><td>1538</td></tr><tr><td>019</td><td>16019970601</td><td>false</td><td>Bonneville County</td><td>1164</td></tr><tr><td>019</td><td>16019970503</td><td>false</td><td>Bonneville County</td><td>1376</td></tr><tr><td>019</td><td>16019970502</td><td>false</td><td>Bonneville County</td><td>945</td></tr><tr><td>019</td><td>16019970501</td><td>false</td><td>Bonneville County</td><td>3836</td></tr><tr><td>019</td><td>16019970403</td><td>false</td><td>Bonneville County</td><td>2281</td></tr><tr><td>019</td><td>16019970402</td><td>false</td><td>Bonneville County</td><td>1799</td></tr><tr><td>019</td><td>16019970401</td><td>false</td><td>Bonneville County</td><td>881</td></tr><tr><td>019</td><td>16019970300</td><td>false</td><td>Bonneville County</td><td>5433</td></tr><tr><td>019</td><td>16019970100</td><td>false</td><td>Bonneville County</td><td>2981</td></tr><tr><td>017</td><td>16017950800</td><td>false</td><td>Bonner County</td><td>72</td></tr><tr><td>017</td><td>16017950400</td><td>false</td><td>Bonner County</td><td>104</td></tr><tr><td>017</td><td>16017950200</td><td>false</td><td>Bonner County</td><td>414</td></tr><tr><td>015</td><td>16015950200</td><td>false</td><td>Boise County</td><td>88</td></tr><tr><td>013</td><td>16013960200</td><td>false</td><td>Blaine County</td><td>347</td></tr><tr><td>013</td><td>16013960100</td><td>false</td><td>Blaine County</td><td>305</td></tr><tr><td>011</td><td>16011950700</td><td>false</td><td>Bingham County</td><td>1136</td></tr><tr><td>011</td><td>16011950600</td><td>false</td><td>Bingham County</td><td>1714</td></tr><tr><td>011</td><td>16011950500</td><td>false</td><td>Bingham County</td><td>2105</td></tr><tr><td>011</td><td>16011950400</td><td>false</td><td>Bingham County</td><td>1477</td></tr><tr><td>011</td><td>16011950300</td><td>false</td><td>Bingham County</td><td>830</td></tr><tr><td>011</td><td>16011950200</td><td>false</td><td>Bingham County</td><td>1093</td></tr><tr><td>011</td><td>16011950100</td><td>false</td><td>Bingham County</td><td>2691</td></tr><tr><td>011</td><td>16011940000</td><td>false</td><td>Bingham County</td><td>109</td></tr><tr><td>007</td><td>16007950200</td><td>false</td><td>Bear Lake County</td><td>309</td></tr><tr><td>007</td><td>16007950100</td><td>false</td><td>Bear Lake County</td><td>876</td></tr><tr><td>005</td><td>16005940000</td><td>false</td><td>Bannock County</td><td>209</td></tr><tr><td>005</td><td>16005001900</td><td>false</td><td>Bannock County</td><td>450</td></tr><tr><td>005</td><td>16005001700</td><td>false</td><td>Bannock County</td><td>970</td></tr><tr><td>005</td><td>16005001603</td><td>false</td><td>Bannock County</td><td>324</td></tr><tr><td>005</td><td>16005001602</td><td>false</td><td>Bannock County</td><td>301</td></tr><tr><td>005</td><td>16005001601</td><td>false</td><td>Bannock County</td><td>217</td></tr><tr><td>005</td><td>16005001500</td><td>false</td><td>Bannock County</td><td>460</td></tr><tr><td>005</td><td>16005001400</td><td>false</td><td>Bannock County</td><td>393</td></tr><tr><td>005</td><td>16005001300</td><td>false</td><td>Bannock County</td><td>270</td></tr><tr><td>005</td><td>16005001200</td><td>false</td><td>Bannock County</td><td>190</td></tr><tr><td>005</td><td>16005001102</td><td>false</td><td>Bannock County</td><td>492</td></tr><tr><td>005</td><td>16005001101</td><td>false</td><td>Bannock County</td><td>3046</td></tr><tr><td>005</td><td>16005001000</td><td>false</td><td>Bannock County</td><td>625</td></tr><tr><td>005</td><td>16005000900</td><td>false</td><td>Bannock County</td><td>210</td></tr><tr><td>005</td><td>16005000800</td><td>false</td><td>Bannock County</td><td>488</td></tr><tr><td>005</td><td>16005000700</td><td>false</td><td>Bannock County</td><td>445</td></tr><tr><td>005</td><td>16005000600</td><td>false</td><td>Bannock County</td><td>582</td></tr><tr><td>005</td><td>16005000500</td><td>false</td><td>Bannock County</td><td>211</td></tr><tr><td>005</td><td>16005000400</td><td>false</td><td>Bannock County</td><td>1897</td></tr><tr><td>005</td><td>16005000300</td><td>false</td><td>Bannock County</td><td>1781</td></tr><tr><td>005</td><td>16005000200</td><td>false</td><td>Bannock County</td><td>1413</td></tr><tr><td>001</td><td>16001010504</td><td>false</td><td>Ada County</td><td>504</td></tr><tr><td>001</td><td>16001010503</td><td>false</td><td>Ada County</td><td>774</td></tr><tr><td>001</td><td>16001010501</td><td>false</td><td>Ada County</td><td>206</td></tr><tr><td>001</td><td>16001010402</td><td>false</td><td>Ada County</td><td>1629</td></tr><tr><td>001</td><td>16001010401</td><td>false</td><td>Ada County</td><td>2411</td></tr><tr><td>001</td><td>16001010335</td><td>false</td><td>Ada County</td><td>1161</td></tr><tr><td>001</td><td>16001010334</td><td>false</td><td>Ada County</td><td>603</td></tr><tr><td>001</td><td>16001010333</td><td>false</td><td>Ada County</td><td>748</td></tr><tr><td>001</td><td>16001010332</td><td>true</td><td>Ada County</td><td>467</td></tr><tr><td>001</td><td>16001010331</td><td>false</td><td>Ada County</td><td>2996</td></tr><tr><td>001</td><td>16001010322</td><td>false</td><td>Ada County</td><td>765</td></tr><tr><td>001</td><td>16001010321</td><td>false</td><td>Ada County</td><td>418</td></tr><tr><td>001</td><td>16001010313</td><td>false</td><td>Ada County</td><td>5967</td></tr><tr><td>001</td><td>16001010225</td><td>false</td><td>Ada County</td><td>767</td></tr><tr><td>001</td><td>16001010224</td><td>false</td><td>Ada County</td><td>521</td></tr><tr><td>001</td><td>16001010223</td><td>false</td><td>Ada County</td><td>780</td></tr><tr><td>001</td><td>16001010221</td><td>false</td><td>Ada County</td><td>1182</td></tr><tr><td>001</td><td>16001010201</td><td>false</td><td>Ada County</td><td>1760</td></tr><tr><td>001</td><td>16001010100</td><td>false</td><td>Ada County</td><td>647</td></tr><tr><td>001</td><td>16001002413</td><td>false</td><td>Ada County</td><td>700</td></tr><tr><td>001</td><td>16001002412</td><td>false</td><td>Ada County</td><td>62</td></tr><tr><td>001</td><td>16001002411</td><td>false</td><td>Ada County</td><td>556</td></tr><tr><td>001</td><td>16001002410</td><td>false</td><td>Ada County</td><td>370</td></tr><tr><td>001</td><td>16001002313</td><td>false</td><td>Ada County</td><td>200</td></tr><tr><td>001</td><td>16001002312</td><td>false</td><td>Ada County</td><td>436</td></tr><tr><td>001</td><td>16001002310</td><td>false</td><td>Ada County</td><td>435</td></tr><tr><td>001</td><td>16001002302</td><td>false</td><td>Ada County</td><td>663</td></tr><tr><td>001</td><td>16001002224</td><td>false</td><td>Ada County</td><td>1197</td></tr><tr><td>001</td><td>16001002223</td><td>false</td><td>Ada County</td><td>409</td></tr><tr><td>001</td><td>16001002222</td><td>false</td><td>Ada County</td><td>373</td></tr><tr><td>001</td><td>16001002221</td><td>false</td><td>Ada County</td><td>897</td></tr><tr><td>001</td><td>16001002100</td><td>false</td><td>Ada County</td><td>520</td></tr><tr><td>001</td><td>16001002000</td><td>false</td><td>Ada County</td><td>578</td></tr><tr><td>001</td><td>16001001900</td><td>true</td><td>Ada County</td><td>370</td></tr><tr><td>001</td><td>16001001800</td><td>false</td><td>Ada County</td><td>647</td></tr><tr><td>001</td><td>16001001700</td><td>false</td><td>Ada County</td><td>784</td></tr><tr><td>001</td><td>16001001600</td><td>false</td><td>Ada County</td><td>64</td></tr><tr><td>001</td><td>16001001500</td><td>false</td><td>Ada County</td><td>193</td></tr><tr><td>001</td><td>16001001400</td><td>false</td><td>Ada County</td><td>510</td></tr><tr><td>001</td><td>16001001202</td><td>false</td><td>Ada County</td><td>635</td></tr><tr><td>001</td><td>16001001201</td><td>false</td><td>Ada County</td><td>344</td></tr><tr><td>001</td><td>16001001100</td><td>false</td><td>Ada County</td><td>197</td></tr><tr><td>001</td><td>16001001000</td><td>false</td><td>Ada County</td><td>364</td></tr><tr><td>001</td><td>16001000900</td><td>false</td><td>Ada County</td><td>1053</td></tr><tr><td>001</td><td>16001000804</td><td>false</td><td>Ada County</td><td>150</td></tr><tr><td>001</td><td>16001000803</td><td>false</td><td>Ada County</td><td>315</td></tr><tr><td>001</td><td>16001000802</td><td>false</td><td>Ada County</td><td>384</td></tr><tr><td>001</td><td>16001000702</td><td>false</td><td>Ada County</td><td>135</td></tr><tr><td>001</td><td>16001000701</td><td>false</td><td>Ada County</td><td>82</td></tr><tr><td>001</td><td>16001000600</td><td>false</td><td>Ada County</td><td>130</td></tr><tr><td>001</td><td>16001000500</td><td>false</td><td>Ada County</td><td>71</td></tr><tr><td>001</td><td>16001000400</td><td>false</td><td>Ada County</td><td>141</td></tr><tr><td>001</td><td>16001000304</td><td>false</td><td>Ada County</td><td>370</td></tr><tr><td>001</td><td>16001000303</td><td>false</td><td>Ada County</td><td>148</td></tr><tr><td>001</td><td>16001000302</td><td>false</td><td>Ada County</td><td>61</td></tr><tr><td>001</td><td>16001000202</td><td>false</td><td>Ada County</td><td>518</td></tr><tr><td>001</td><td>16001000201</td><td>false</td><td>Ada County</td><td>104</td></tr><tr><td>007</td><td>15007040603</td><td>false</td><td>Kauai County</td><td>50</td></tr><tr><td>115</td><td>13115000700</td><td>false</td><td>Floyd County</td><td>45</td></tr><tr><td>091</td><td>12091022500</td><td>false</td><td>Okaloosa County</td><td>83</td></tr><tr><td>091</td><td>12091021101</td><td>false</td><td>Okaloosa County</td><td>83</td></tr><tr><td>073</td><td>12073002508</td><td>false</td><td>Leon County</td><td>83</td></tr><tr><td>073</td><td>12073002206</td><td>false</td><td>Leon County</td><td>83</td></tr><tr><td>085</td><td>08085966400</td><td>false</td><td>Montrose County</td><td>71</td></tr><tr><td>059</td><td>08059009824</td><td>false</td><td>Jefferson County</td><td>72</td></tr><tr><td>099</td><td>06099000402</td><td>false</td><td>Stanislaus County</td><td>66</td></tr><tr><td>083</td><td>06083001304</td><td>false</td><td>Santa Barbara County</td><td>72</td></tr><tr><td>077</td><td>06077003500</td><td>false</td><td>San Joaquin County</td><td>71</td></tr><tr><td>073</td><td>06073020103</td><td>false</td><td>San Diego County</td><td>75</td></tr><tr><td>073</td><td>06073015501</td><td>false</td><td>San Diego County</td><td>139</td></tr><tr><td>073</td><td>06073007002</td><td>false</td><td>San Diego County</td><td>65</td></tr><tr><td>071</td><td>06071012002</td><td>false</td><td>San Bernardino County</td><td>94</td></tr><tr><td>061</td><td>06061023900</td><td>false</td><td>Placer County</td><td>74</td></tr><tr><td>037</td><td>06037910301</td><td>false</td><td>Los Angeles County</td><td>84</td></tr><tr><td>037</td><td>06037503401</td><td>false</td><td>Los Angeles County</td><td>72</td></tr><tr><td>037</td><td>06037262100</td><td>false</td><td>Los Angeles County</td><td>71</td></tr><tr><td>017</td><td>06017030709</td><td>false</td><td>El Dorado County</td><td>71</td></tr><tr><td>027</td><td>04027001200</td><td>false</td><td>Yuma County</td><td>46</td></tr><tr><td>019</td><td>04019004646</td><td>false</td><td>Pima County</td><td>74</td></tr><tr><td>017</td><td>04017963300</td><td>false</td><td>Navajo County</td><td>84</td></tr><tr><td>013</td><td>04013813300</td><td>false</td><td>Maricopa County</td><td>60</td></tr><tr><td>013</td><td>04013812400</td><td>false</td><td>Maricopa County</td><td>70</td></tr><tr><td>013</td><td>04013422513</td><td>false</td><td>Maricopa County</td><td>63</td></tr><tr><td>013</td><td>04013421801</td><td>false</td><td>Maricopa County</td><td>58</td></tr><tr><td>013</td><td>04013421304</td><td>false</td><td>Maricopa County</td><td>94</td></tr><tr><td>013</td><td>04013082009</td><td>false</td><td>Maricopa County</td><td>84</td></tr><tr><td>003</td><td>04003001100</td><td>false</td><td>Cochise County</td><td>83</td></tr></tbody></table></div>"
      ]
     },
     "metadata": {
      "application/vnd.databricks.v1+output": {
       "addedWidgets": {},
       "aggData": [],
       "aggError": "",
       "aggOverflow": false,
       "aggSchema": [],
       "aggSeriesLimitReached": false,
       "aggType": "",
       "arguments": {},
       "columnCustomDisplayInfos": {},
       "data": [
        [
         "039",
         "56039967800",
         false,
         "Teton County",
         68
        ],
        [
         "039",
         "56039967702",
         false,
         "Teton County",
         70
        ],
        [
         "039",
         "56039967600",
         false,
         "Teton County",
         66
        ],
        [
         "037",
         "56037970902",
         false,
         "Sweetwater County",
         55
        ],
        [
         "023",
         "56023978100",
         false,
         "Lincoln County",
         78
        ],
        [
         "023",
         "56023978000",
         false,
         "Lincoln County",
         66
        ],
        [
         "013",
         "56013940300",
         false,
         "Fremont County",
         83
        ],
        [
         "077",
         "53077002802",
         false,
         "Yakima County",
         59
        ],
        [
         "077",
         "53077000700",
         false,
         "Yakima County",
         116
        ],
        [
         "075",
         "53075000900",
         false,
         "Whitman County",
         25
        ],
        [
         "075",
         "53075000600",
         false,
         "Whitman County",
         45
        ],
        [
         "075",
         "53075000400",
         false,
         "Whitman County",
         45
        ],
        [
         "075",
         "53075000200",
         false,
         "Whitman County",
         109
        ],
        [
         "075",
         "53075000100",
         false,
         "Whitman County",
         1337
        ],
        [
         "063",
         "53063013202",
         false,
         "Spokane County",
         68
        ],
        [
         "063",
         "53063012701",
         false,
         "Spokane County",
         45
        ],
        [
         "063",
         "53063010503",
         false,
         "Spokane County",
         71
        ],
        [
         "061",
         "53061052806",
         false,
         "Snohomish County",
         73
        ],
        [
         "053",
         "53053062300",
         false,
         "Pierce County",
         98
        ],
        [
         "051",
         "53051970300",
         false,
         "Pend Oreille County",
         98
        ],
        [
         "035",
         "53035092400",
         false,
         "Kitsap County",
         41
        ],
        [
         "033",
         "53033032601",
         false,
         "King County",
         104
        ],
        [
         "033",
         "53033026001",
         false,
         "King County",
         98
        ],
        [
         "033",
         "53033010702",
         false,
         "King County",
         66
        ],
        [
         "033",
         "53033007300",
         false,
         "King County",
         73
        ],
        [
         "033",
         "53033005301",
         false,
         "King County",
         67
        ],
        [
         "029",
         "53029971500",
         false,
         "Island County",
         72
        ],
        [
         "021",
         "53021020605",
         false,
         "Franklin County",
         82
        ],
        [
         "011",
         "53011040201",
         false,
         "Clark County",
         79
        ],
        [
         "005",
         "53005010811",
         false,
         "Benton County",
         98
        ],
        [
         "005",
         "53005010810",
         false,
         "Benton County",
         64
        ],
        [
         "003",
         "53003960400",
         false,
         "Asotin County",
         60
        ],
        [
         "530",
         "51530930600",
         false,
         "Buena Vista city",
         55
        ],
        [
         "059",
         "51059416200",
         false,
         "Fairfax County",
         52
        ],
        [
         "003",
         "50003970200",
         false,
         "Bennington County",
         79
        ],
        [
         "057",
         "49057211100",
         false,
         "Weber County",
         55
        ],
        [
         "057",
         "49057210704",
         false,
         "Weber County",
         61
        ],
        [
         "057",
         "49057210600",
         false,
         "Weber County",
         61
        ],
        [
         "057",
         "49057210506",
         false,
         "Weber County",
         73
        ],
        [
         "057",
         "49057210505",
         false,
         "Weber County",
         60
        ],
        [
         "057",
         "49057210504",
         false,
         "Weber County",
         66
        ],
        [
         "057",
         "49057210403",
         false,
         "Weber County",
         51
        ],
        [
         "057",
         "49057210302",
         false,
         "Weber County",
         64
        ],
        [
         "057",
         "49057210201",
         false,
         "Weber County",
         78
        ],
        [
         "057",
         "49057200800",
         false,
         "Weber County",
         72
        ],
        [
         "057",
         "49057200202",
         false,
         "Weber County",
         52
        ],
        [
         "053",
         "49053271600",
         false,
         "Washington County",
         55
        ],
        [
         "053",
         "49053270901",
         false,
         "Washington County",
         61
        ],
        [
         "053",
         "49053270802",
         false,
         "Washington County",
         71
        ],
        [
         "053",
         "49053270801",
         false,
         "Washington County",
         65
        ],
        [
         "049",
         "49049010405",
         false,
         "Utah County",
         185
        ],
        [
         "049",
         "49049010404",
         false,
         "Utah County",
         164
        ],
        [
         "049",
         "49049010219",
         false,
         "Utah County",
         72
        ],
        [
         "049",
         "49049010214",
         false,
         "Utah County",
         76
        ],
        [
         "049",
         "49049010212",
         false,
         "Utah County",
         66
        ],
        [
         "049",
         "49049010113",
         false,
         "Utah County",
         215
        ],
        [
         "049",
         "49049010112",
         false,
         "Utah County",
         175
        ],
        [
         "049",
         "49049010111",
         false,
         "Utah County",
         70
        ],
        [
         "049",
         "49049010109",
         false,
         "Utah County",
         69
        ],
        [
         "049",
         "49049003402",
         false,
         "Utah County",
         88
        ],
        [
         "049",
         "49049003204",
         false,
         "Utah County",
         65
        ],
        [
         "049",
         "49049003203",
         false,
         "Utah County",
         60
        ],
        [
         "049",
         "49049003104",
         false,
         "Utah County",
         86
        ],
        [
         "049",
         "49049002300",
         false,
         "Utah County",
         61
        ],
        [
         "049",
         "49049002206",
         false,
         "Utah County",
         60
        ],
        [
         "049",
         "49049001900",
         false,
         "Utah County",
         329
        ],
        [
         "049",
         "49049001803",
         false,
         "Utah County",
         62
        ],
        [
         "049",
         "49049001702",
         false,
         "Utah County",
         63
        ],
        [
         "049",
         "49049001603",
         false,
         "Utah County",
         70
        ],
        [
         "049",
         "49049001602",
         false,
         "Utah County",
         79
        ],
        [
         "049",
         "49049001402",
         false,
         "Utah County",
         125
        ],
        [
         "049",
         "49049000904",
         false,
         "Utah County",
         83
        ],
        [
         "049",
         "49049000703",
         false,
         "Utah County",
         63
        ],
        [
         "049",
         "49049000603",
         false,
         "Utah County",
         65
        ],
        [
         "049",
         "49049000105",
         false,
         "Utah County",
         116
        ],
        [
         "049",
         "49049000102",
         false,
         "Utah County",
         86
        ],
        [
         "045",
         "49045131100",
         false,
         "Tooele County",
         67
        ],
        [
         "045",
         "49045130800",
         false,
         "Tooele County",
         63
        ],
        [
         "045",
         "49045130703",
         false,
         "Tooele County",
         68
        ],
        [
         "045",
         "49045130702",
         false,
         "Tooele County",
         124
        ],
        [
         "043",
         "49043964102",
         false,
         "Summit County",
         54
        ],
        [
         "035",
         "49035113803",
         false,
         "Salt Lake County",
         71
        ],
        [
         "035",
         "49035113527",
         false,
         "Salt Lake County",
         61
        ],
        [
         "035",
         "49035113526",
         false,
         "Salt Lake County",
         33
        ],
        [
         "035",
         "49035113525",
         false,
         "Salt Lake County",
         86
        ],
        [
         "035",
         "49035113514",
         false,
         "Salt Lake County",
         70
        ],
        [
         "035",
         "49035113412",
         false,
         "Salt Lake County",
         49
        ],
        [
         "035",
         "49035113306",
         false,
         "Salt Lake County",
         72
        ],
        [
         "035",
         "49035113305",
         false,
         "Salt Lake County",
         41
        ],
        [
         "035",
         "49035113107",
         false,
         "Salt Lake County",
         243
        ],
        [
         "035",
         "49035113105",
         false,
         "Salt Lake County",
         75
        ],
        [
         "035",
         "49035113011",
         false,
         "Salt Lake County",
         159
        ],
        [
         "035",
         "49035112820",
         false,
         "Salt Lake County",
         123
        ],
        [
         "035",
         "49035112810",
         false,
         "Salt Lake County",
         78
        ],
        [
         "035",
         "49035112805",
         false,
         "Salt Lake County",
         132
        ],
        [
         "035",
         "49035112609",
         false,
         "Salt Lake County",
         86
        ],
        [
         "035",
         "49035112302",
         false,
         "Salt Lake County",
         86
        ],
        [
         "035",
         "49035112201",
         false,
         "Salt Lake County",
         72
        ],
        [
         "035",
         "49035111903",
         false,
         "Salt Lake County",
         54
        ],
        [
         "035",
         "49035110600",
         false,
         "Salt Lake County",
         142
        ],
        [
         "035",
         "49035104900",
         false,
         "Salt Lake County",
         64
        ],
        [
         "035",
         "49035104800",
         false,
         "Salt Lake County",
         83
        ],
        [
         "035",
         "49035103400",
         false,
         "Salt Lake County",
         71
        ],
        [
         "035",
         "49035102702",
         false,
         "Salt Lake County",
         66
        ],
        [
         "033",
         "49033950100",
         false,
         "Rich County",
         54
        ],
        [
         "011",
         "49011127003",
         false,
         "Davis County",
         59
        ],
        [
         "011",
         "49011126204",
         false,
         "Davis County",
         55
        ],
        [
         "011",
         "49011126105",
         false,
         "Davis County",
         138
        ],
        [
         "011",
         "49011126104",
         false,
         "Davis County",
         145
        ],
        [
         "011",
         "49011126101",
         false,
         "Davis County",
         77
        ],
        [
         "011",
         "49011125808",
         false,
         "Davis County",
         110
        ],
        [
         "011",
         "49011125801",
         false,
         "Davis County",
         68
        ],
        [
         "011",
         "49011125405",
         false,
         "Davis County",
         76
        ],
        [
         "011",
         "49011125403",
         false,
         "Davis County",
         131
        ],
        [
         "011",
         "49011125401",
         false,
         "Davis County",
         116
        ],
        [
         "005",
         "49005001401",
         false,
         "Cache County",
         78
        ],
        [
         "005",
         "49005001102",
         false,
         "Cache County",
         86
        ],
        [
         "005",
         "49005001002",
         false,
         "Cache County",
         140
        ],
        [
         "005",
         "49005001001",
         false,
         "Cache County",
         68
        ],
        [
         "005",
         "49005000900",
         false,
         "Cache County",
         68
        ],
        [
         "005",
         "49005000800",
         false,
         "Cache County",
         63
        ],
        [
         "005",
         "49005000701",
         false,
         "Cache County",
         142
        ],
        [
         "005",
         "49005000600",
         false,
         "Cache County",
         70
        ],
        [
         "005",
         "49005000501",
         false,
         "Cache County",
         68
        ],
        [
         "005",
         "49005000403",
         false,
         "Cache County",
         68
        ],
        [
         "005",
         "49005000401",
         false,
         "Cache County",
         71
        ],
        [
         "005",
         "49005000202",
         false,
         "Cache County",
         100
        ],
        [
         "005",
         "49005000201",
         false,
         "Cache County",
         76
        ],
        [
         "005",
         "49005000101",
         false,
         "Cache County",
         187
        ],
        [
         "003",
         "49003960801",
         false,
         "Box Elder County",
         66
        ],
        [
         "003",
         "49003960702",
         false,
         "Box Elder County",
         60
        ],
        [
         "003",
         "49003960300",
         false,
         "Box Elder County",
         134
        ],
        [
         "003",
         "49003960100",
         false,
         "Box Elder County",
         61
        ],
        [
         "453",
         "48453001826",
         false,
         "Travis County",
         77
        ],
        [
         "439",
         "48439113922",
         false,
         "Tarrant County",
         80
        ],
        [
         "201",
         "48201421700",
         false,
         "Harris County",
         65
        ],
        [
         "113",
         "48113020400",
         false,
         "Dallas County",
         68
        ],
        [
         "085",
         "48085031313",
         false,
         "Collin County",
         137
        ],
        [
         "125",
         "47125101400",
         false,
         "Montgomery County",
         80
        ],
        [
         "093",
         "47093006206",
         false,
         "Knox County",
         51
        ],
        [
         "013",
         "45013000503",
         false,
         "Beaufort County",
         83
        ],
        [
         "067",
         "41067033302",
         false,
         "Washington County",
         104
        ],
        [
         "067",
         "41067032603",
         false,
         "Washington County",
         75
        ],
        [
         "059",
         "41059950500",
         false,
         "Umatilla County",
         62
        ],
        [
         "051",
         "41051005100",
         false,
         "Multnomah County",
         162
        ],
        [
         "045",
         "41045970600",
         false,
         "Malheur County",
         83
        ],
        [
         "045",
         "41045970500",
         false,
         "Malheur County",
         64
        ],
        [
         "045",
         "41045970300",
         false,
         "Malheur County",
         107
        ],
        [
         "041",
         "41041950304",
         false,
         "Lincoln County",
         71
        ],
        [
         "023",
         "41023960200",
         false,
         "Grant County",
         74
        ],
        [
         "017",
         "41017000200",
         false,
         "Deschutes County",
         89
        ],
        [
         "009",
         "41009970600",
         false,
         "Columbia County",
         71
        ],
        [
         "001",
         "41001950500",
         false,
         "Baker County",
         41
        ],
        [
         "001",
         "41001950100",
         false,
         "Baker County",
         72
        ],
        [
         "113",
         "40113940002",
         false,
         "Osage County",
         71
        ],
        [
         "113",
         "39113050104",
         false,
         "Montgomery County",
         86
        ],
        [
         "183",
         "37183053107",
         false,
         "Wake County",
         83
        ],
        [
         "101",
         "37101040203",
         false,
         "Johnston County",
         83
        ],
        [
         "017",
         "37017950300",
         false,
         "Bladen County",
         83
        ],
        [
         "061",
         "36061023000",
         false,
         "New York County",
         50
        ],
        [
         "011",
         "36011040400",
         false,
         "Cayuga County",
         75
        ],
        [
         "045",
         "35045000610",
         false,
         "San Juan County",
         63
        ],
        [
         "033",
         "32033970100",
         false,
         "White Pine County",
         63
        ],
        [
         "031",
         "32031003106",
         false,
         "Washoe County",
         73
        ],
        [
         "031",
         "32031002613",
         false,
         "Washoe County",
         61
        ],
        [
         "019",
         "32019960101",
         false,
         "Lyon County",
         73
        ],
        [
         "007",
         "32007950701",
         false,
         "Elko County",
         73
        ],
        [
         "007",
         "32007950200",
         false,
         "Elko County",
         68
        ],
        [
         "003",
         "32003003629",
         false,
         "Clark County",
         111
        ],
        [
         "003",
         "32003003318",
         false,
         "Clark County",
         66
        ],
        [
         "003",
         "32003002808",
         false,
         "Clark County",
         68
        ],
        [
         "055",
         "31055002300",
         false,
         "Douglas County",
         66
        ],
        [
         "111",
         "30111000702",
         false,
         "Yellowstone County",
         69
        ],
        [
         "081",
         "30081000202",
         false,
         "Ravalli County",
         71
        ],
        [
         "063",
         "30063001302",
         false,
         "Missoula County",
         66
        ],
        [
         "063",
         "30063000202",
         false,
         "Missoula County",
         68
        ],
        [
         "057",
         "30057000200",
         false,
         "Madison County",
         65
        ],
        [
         "043",
         "30043962202",
         false,
         "Jefferson County",
         178
        ],
        [
         "041",
         "30041040300",
         false,
         "Hill County",
         55
        ],
        [
         "031",
         "30031001500",
         false,
         "Gallatin County",
         86
        ],
        [
         "031",
         "30031000900",
         false,
         "Gallatin County",
         55
        ],
        [
         "031",
         "30031000300",
         false,
         "Gallatin County",
         49
        ],
        [
         "209",
         "29209090601",
         false,
         "Stone County",
         76
        ],
        [
         "145",
         "27145000601",
         false,
         "Stearns County",
         50
        ],
        [
         "161",
         "26161431000",
         false,
         "Washtenaw County",
         70
        ],
        [
         "065",
         "26065005001",
         false,
         "Ingham County",
         53
        ],
        [
         "049",
         "26049013002",
         false,
         "Genesee County",
         53
        ],
        [
         "043",
         "26043950300",
         false,
         "Dickinson County",
         73
        ],
        [
         "031",
         "24031700823",
         false,
         "Montgomery County",
         54
        ],
        [
         "015",
         "22015010806",
         false,
         "Bossier Parish",
         61
        ],
        [
         "185",
         "21185030601",
         false,
         "Oldham County",
         69
        ],
        [
         "155",
         "20155001800",
         false,
         "Reno County",
         83
        ],
        [
         "057",
         "19057001000",
         false,
         "Des Moines County",
         88
        ],
        [
         "011",
         "18011810400",
         false,
         "Boone County",
         64
        ],
        [
         "087",
         "16087970300",
         false,
         "Washington County",
         231
        ],
        [
         "087",
         "16087970200",
         false,
         "Washington County",
         184
        ],
        [
         "087",
         "16087970100",
         false,
         "Washington County",
         322
        ],
        [
         "085",
         "16085970200",
         false,
         "Valley County",
         71
        ],
        [
         "085",
         "16085970100",
         false,
         "Valley County",
         62
        ],
        [
         "083",
         "16083001500",
         false,
         "Twin Falls County",
         230
        ],
        [
         "083",
         "16083001400",
         false,
         "Twin Falls County",
         230
        ],
        [
         "083",
         "16083001300",
         false,
         "Twin Falls County",
         1669
        ],
        [
         "083",
         "16083001200",
         false,
         "Twin Falls County",
         576
        ],
        [
         "083",
         "16083001100",
         false,
         "Twin Falls County",
         88
        ],
        [
         "083",
         "16083001000",
         false,
         "Twin Falls County",
         1088
        ],
        [
         "083",
         "16083000900",
         false,
         "Twin Falls County",
         1325
        ],
        [
         "083",
         "16083000800",
         false,
         "Twin Falls County",
         542
        ],
        [
         "083",
         "16083000700",
         false,
         "Twin Falls County",
         1763
        ],
        [
         "083",
         "16083000600",
         false,
         "Twin Falls County",
         474
        ],
        [
         "083",
         "16083000500",
         false,
         "Twin Falls County",
         1631
        ],
        [
         "083",
         "16083000400",
         false,
         "Twin Falls County",
         135
        ],
        [
         "083",
         "16083000300",
         false,
         "Twin Falls County",
         420
        ],
        [
         "083",
         "16083000200",
         true,
         "Twin Falls County",
         1292
        ],
        [
         "081",
         "16081960100",
         false,
         "Teton County",
         292
        ],
        [
         "079",
         "16079960300",
         false,
         "Shoshone County",
         126
        ],
        [
         "079",
         "16079960200",
         false,
         "Shoshone County",
         155
        ],
        [
         "077",
         "16077960200",
         false,
         "Power County",
         1460
        ],
        [
         "077",
         "16077960100",
         false,
         "Power County",
         572
        ],
        [
         "075",
         "16075960400",
         false,
         "Payette County",
         157
        ],
        [
         "075",
         "16075960300",
         false,
         "Payette County",
         1403
        ],
        [
         "075",
         "16075960200",
         false,
         "Payette County",
         233
        ],
        [
         "075",
         "16075960100",
         false,
         "Payette County",
         134
        ],
        [
         "073",
         "16073950200",
         false,
         "Owyhee County",
         327
        ],
        [
         "073",
         "16073950102",
         false,
         "Owyhee County",
         67
        ],
        [
         "073",
         "16073950101",
         false,
         "Owyhee County",
         293
        ],
        [
         "071",
         "16071960100",
         false,
         "Oneida County",
         860
        ],
        [
         "069",
         "16069961000",
         false,
         "Nez Perce County",
         60
        ],
        [
         "069",
         "16069960900",
         false,
         "Nez Perce County",
         60
        ],
        [
         "069",
         "16069960600",
         false,
         "Nez Perce County",
         60
        ],
        [
         "069",
         "16069960500",
         false,
         "Nez Perce County",
         105
        ],
        [
         "069",
         "16069960400",
         false,
         "Nez Perce County",
         60
        ],
        [
         "069",
         "16069960200",
         false,
         "Nez Perce County",
         25
        ],
        [
         "067",
         "16067970500",
         false,
         "Minidoka County",
         844
        ],
        [
         "067",
         "16067970400",
         false,
         "Minidoka County",
         694
        ],
        [
         "067",
         "16067970300",
         false,
         "Minidoka County",
         711
        ],
        [
         "067",
         "16067970200",
         false,
         "Minidoka County",
         1092
        ],
        [
         "067",
         "16067970100",
         false,
         "Minidoka County",
         345
        ],
        [
         "065",
         "16065950500",
         false,
         "Madison County",
         2088
        ],
        [
         "065",
         "16065950400",
         false,
         "Madison County",
         1521
        ],
        [
         "065",
         "16065950302",
         false,
         "Madison County",
         5525
        ],
        [
         "065",
         "16065950301",
         true,
         "Madison County",
         1746
        ],
        [
         "065",
         "16065950200",
         false,
         "Madison County",
         1204
        ],
        [
         "065",
         "16065950100",
         false,
         "Madison County",
         1996
        ],
        [
         "063",
         "16063950100",
         false,
         "Lincoln County",
         154
        ],
        [
         "059",
         "16059970200",
         false,
         "Lemhi County",
         117
        ],
        [
         "059",
         "16059970100",
         false,
         "Lemhi County",
         276
        ],
        [
         "057",
         "16057005600",
         false,
         "Latah County",
         45
        ],
        [
         "057",
         "16057005500",
         false,
         "Latah County",
         25
        ],
        [
         "057",
         "16057005200",
         false,
         "Latah County",
         563
        ],
        [
         "057",
         "16057005100",
         false,
         "Latah County",
         198
        ],
        [
         "055",
         "16055002000",
         false,
         "Kootenai County",
         196
        ],
        [
         "055",
         "16055001900",
         false,
         "Kootenai County",
         83
        ],
        [
         "055",
         "16055001800",
         false,
         "Kootenai County",
         333
        ],
        [
         "055",
         "16055001700",
         false,
         "Kootenai County",
         68
        ],
        [
         "055",
         "16055001500",
         false,
         "Kootenai County",
         199
        ],
        [
         "055",
         "16055001400",
         false,
         "Kootenai County",
         98
        ],
        [
         "055",
         "16055001300",
         false,
         "Kootenai County",
         755
        ],
        [
         "055",
         "16055001200",
         false,
         "Kootenai County",
         147
        ],
        [
         "055",
         "16055001100",
         false,
         "Kootenai County",
         233
        ],
        [
         "055",
         "16055001002",
         false,
         "Kootenai County",
         284
        ],
        [
         "055",
         "16055001001",
         false,
         "Kootenai County",
         71
        ],
        [
         "055",
         "16055000900",
         false,
         "Kootenai County",
         98
        ],
        [
         "055",
         "16055000800",
         false,
         "Kootenai County",
         246
        ],
        [
         "055",
         "16055000700",
         false,
         "Kootenai County",
         8251
        ],
        [
         "055",
         "16055000602",
         false,
         "Kootenai County",
         64
        ],
        [
         "055",
         "16055000601",
         false,
         "Kootenai County",
         98
        ],
        [
         "055",
         "16055000500",
         false,
         "Kootenai County",
         357
        ],
        [
         "055",
         "16055000402",
         false,
         "Kootenai County",
         68
        ],
        [
         "055",
         "16055000302",
         false,
         "Kootenai County",
         503
        ],
        [
         "055",
         "16055000301",
         false,
         "Kootenai County",
         162
        ],
        [
         "055",
         "16055000200",
         false,
         "Kootenai County",
         731
        ],
        [
         "055",
         "16055000100",
         false,
         "Kootenai County",
         68
        ],
        [
         "053",
         "16053970500",
         false,
         "Jerome County",
         1005
        ],
        [
         "053",
         "16053970400",
         false,
         "Jerome County",
         138
        ],
        [
         "053",
         "16053970300",
         false,
         "Jerome County",
         413
        ],
        [
         "053",
         "16053970200",
         false,
         "Jerome County",
         328
        ],
        [
         "051",
         "16051960400",
         false,
         "Jefferson County",
         2851
        ],
        [
         "051",
         "16051960300",
         false,
         "Jefferson County",
         2392
        ],
        [
         "051",
         "16051960200",
         false,
         "Jefferson County",
         1500
        ],
        [
         "051",
         "16051960100",
         false,
         "Jefferson County",
         209
        ],
        [
         "049",
         "16049960400",
         false,
         "Idaho County",
         192
        ],
        [
         "047",
         "16047960200",
         false,
         "Gooding County",
         433
        ],
        [
         "047",
         "16047960100",
         false,
         "Gooding County",
         603
        ],
        [
         "045",
         "16045960300",
         false,
         "Gem County",
         326
        ],
        [
         "045",
         "16045960200",
         false,
         "Gem County",
         885
        ],
        [
         "045",
         "16045960100",
         false,
         "Gem County",
         587
        ],
        [
         "043",
         "16043970300",
         false,
         "Fremont County",
         5832
        ],
        [
         "043",
         "16043970200",
         false,
         "Fremont County",
         1348
        ],
        [
         "043",
         "16043970100",
         false,
         "Fremont County",
         634
        ],
        [
         "041",
         "16041970200",
         false,
         "Franklin County",
         2149
        ],
        [
         "041",
         "16041970100",
         false,
         "Franklin County",
         1765
        ],
        [
         "039",
         "16039960400",
         false,
         "Elmore County",
         450
        ],
        [
         "039",
         "16039960300",
         false,
         "Elmore County",
         120
        ],
        [
         "039",
         "16039960200",
         false,
         "Elmore County",
         454
        ],
        [
         "037",
         "16037960200",
         false,
         "Custer County",
         57
        ],
        [
         "031",
         "16031950600",
         false,
         "Cassia County",
         1393
        ],
        [
         "031",
         "16031950500",
         false,
         "Cassia County",
         2476
        ],
        [
         "031",
         "16031950400",
         false,
         "Cassia County",
         592
        ],
        [
         "031",
         "16031950300",
         false,
         "Cassia County",
         2715
        ],
        [
         "031",
         "16031950200",
         false,
         "Cassia County",
         2028
        ],
        [
         "031",
         "16031950100",
         false,
         "Cassia County",
         696
        ],
        [
         "029",
         "16029960200",
         false,
         "Caribou County",
         510
        ],
        [
         "029",
         "16029960100",
         false,
         "Caribou County",
         1406
        ],
        [
         "027",
         "16027022400",
         false,
         "Canyon County",
         510
        ],
        [
         "027",
         "16027022300",
         false,
         "Canyon County",
         135
        ],
        [
         "027",
         "16027022200",
         false,
         "Canyon County",
         162
        ],
        [
         "027",
         "16027021904",
         false,
         "Canyon County",
         72
        ],
        [
         "027",
         "16027021903",
         false,
         "Canyon County",
         510
        ],
        [
         "027",
         "16027021901",
         false,
         "Canyon County",
         274
        ],
        [
         "027",
         "16027021800",
         false,
         "Canyon County",
         126
        ],
        [
         "027",
         "16027021700",
         false,
         "Canyon County",
         128
        ],
        [
         "027",
         "16027021500",
         false,
         "Canyon County",
         257
        ],
        [
         "027",
         "16027021300",
         false,
         "Canyon County",
         47
        ],
        [
         "027",
         "16027021200",
         false,
         "Canyon County",
         103
        ],
        [
         "027",
         "16027021100",
         false,
         "Canyon County",
         1873
        ],
        [
         "027",
         "16027021002",
         false,
         "Canyon County",
         628
        ],
        [
         "027",
         "16027021001",
         false,
         "Canyon County",
         501
        ],
        [
         "027",
         "16027020902",
         false,
         "Canyon County",
         1565
        ],
        [
         "027",
         "16027020901",
         false,
         "Canyon County",
         2884
        ],
        [
         "027",
         "16027020700",
         false,
         "Canyon County",
         71
        ],
        [
         "027",
         "16027020602",
         false,
         "Canyon County",
         329
        ],
        [
         "027",
         "16027020601",
         false,
         "Canyon County",
         242
        ],
        [
         "027",
         "16027020504",
         false,
         "Canyon County",
         83
        ],
        [
         "027",
         "16027020503",
         false,
         "Canyon County",
         322
        ],
        [
         "027",
         "16027020501",
         false,
         "Canyon County",
         113
        ],
        [
         "027",
         "16027020402",
         false,
         "Canyon County",
         150
        ],
        [
         "027",
         "16027020401",
         false,
         "Canyon County",
         460
        ],
        [
         "027",
         "16027020300",
         false,
         "Canyon County",
         81
        ],
        [
         "027",
         "16027020100",
         false,
         "Canyon County",
         89
        ],
        [
         "025",
         "16025970100",
         false,
         "Camas County",
         77
        ],
        [
         "023",
         "16023970100",
         false,
         "Butte County",
         430
        ],
        [
         "019",
         "16019971500",
         false,
         "Bonneville County",
         239
        ],
        [
         "019",
         "16019971400",
         false,
         "Bonneville County",
         2426
        ],
        [
         "019",
         "16019971302",
         false,
         "Bonneville County",
         1291
        ],
        [
         "019",
         "16019971301",
         false,
         "Bonneville County",
         1474
        ],
        [
         "019",
         "16019971200",
         true,
         "Bonneville County",
         686
        ],
        [
         "019",
         "16019971100",
         false,
         "Bonneville County",
         644
        ],
        [
         "019",
         "16019971000",
         false,
         "Bonneville County",
         913
        ],
        [
         "019",
         "16019970900",
         false,
         "Bonneville County",
         716
        ],
        [
         "019",
         "16019970800",
         false,
         "Bonneville County",
         700
        ],
        [
         "019",
         "16019970700",
         false,
         "Bonneville County",
         670
        ],
        [
         "019",
         "16019970603",
         false,
         "Bonneville County",
         344
        ],
        [
         "019",
         "16019970602",
         false,
         "Bonneville County",
         1538
        ],
        [
         "019",
         "16019970601",
         false,
         "Bonneville County",
         1164
        ],
        [
         "019",
         "16019970503",
         false,
         "Bonneville County",
         1376
        ],
        [
         "019",
         "16019970502",
         false,
         "Bonneville County",
         945
        ],
        [
         "019",
         "16019970501",
         false,
         "Bonneville County",
         3836
        ],
        [
         "019",
         "16019970403",
         false,
         "Bonneville County",
         2281
        ],
        [
         "019",
         "16019970402",
         false,
         "Bonneville County",
         1799
        ],
        [
         "019",
         "16019970401",
         false,
         "Bonneville County",
         881
        ],
        [
         "019",
         "16019970300",
         false,
         "Bonneville County",
         5433
        ],
        [
         "019",
         "16019970100",
         false,
         "Bonneville County",
         2981
        ],
        [
         "017",
         "16017950800",
         false,
         "Bonner County",
         72
        ],
        [
         "017",
         "16017950400",
         false,
         "Bonner County",
         104
        ],
        [
         "017",
         "16017950200",
         false,
         "Bonner County",
         414
        ],
        [
         "015",
         "16015950200",
         false,
         "Boise County",
         88
        ],
        [
         "013",
         "16013960200",
         false,
         "Blaine County",
         347
        ],
        [
         "013",
         "16013960100",
         false,
         "Blaine County",
         305
        ],
        [
         "011",
         "16011950700",
         false,
         "Bingham County",
         1136
        ],
        [
         "011",
         "16011950600",
         false,
         "Bingham County",
         1714
        ],
        [
         "011",
         "16011950500",
         false,
         "Bingham County",
         2105
        ],
        [
         "011",
         "16011950400",
         false,
         "Bingham County",
         1477
        ],
        [
         "011",
         "16011950300",
         false,
         "Bingham County",
         830
        ],
        [
         "011",
         "16011950200",
         false,
         "Bingham County",
         1093
        ],
        [
         "011",
         "16011950100",
         false,
         "Bingham County",
         2691
        ],
        [
         "011",
         "16011940000",
         false,
         "Bingham County",
         109
        ],
        [
         "007",
         "16007950200",
         false,
         "Bear Lake County",
         309
        ],
        [
         "007",
         "16007950100",
         false,
         "Bear Lake County",
         876
        ],
        [
         "005",
         "16005940000",
         false,
         "Bannock County",
         209
        ],
        [
         "005",
         "16005001900",
         false,
         "Bannock County",
         450
        ],
        [
         "005",
         "16005001700",
         false,
         "Bannock County",
         970
        ],
        [
         "005",
         "16005001603",
         false,
         "Bannock County",
         324
        ],
        [
         "005",
         "16005001602",
         false,
         "Bannock County",
         301
        ],
        [
         "005",
         "16005001601",
         false,
         "Bannock County",
         217
        ],
        [
         "005",
         "16005001500",
         false,
         "Bannock County",
         460
        ],
        [
         "005",
         "16005001400",
         false,
         "Bannock County",
         393
        ],
        [
         "005",
         "16005001300",
         false,
         "Bannock County",
         270
        ],
        [
         "005",
         "16005001200",
         false,
         "Bannock County",
         190
        ],
        [
         "005",
         "16005001102",
         false,
         "Bannock County",
         492
        ],
        [
         "005",
         "16005001101",
         false,
         "Bannock County",
         3046
        ],
        [
         "005",
         "16005001000",
         false,
         "Bannock County",
         625
        ],
        [
         "005",
         "16005000900",
         false,
         "Bannock County",
         210
        ],
        [
         "005",
         "16005000800",
         false,
         "Bannock County",
         488
        ],
        [
         "005",
         "16005000700",
         false,
         "Bannock County",
         445
        ],
        [
         "005",
         "16005000600",
         false,
         "Bannock County",
         582
        ],
        [
         "005",
         "16005000500",
         false,
         "Bannock County",
         211
        ],
        [
         "005",
         "16005000400",
         false,
         "Bannock County",
         1897
        ],
        [
         "005",
         "16005000300",
         false,
         "Bannock County",
         1781
        ],
        [
         "005",
         "16005000200",
         false,
         "Bannock County",
         1413
        ],
        [
         "001",
         "16001010504",
         false,
         "Ada County",
         504
        ],
        [
         "001",
         "16001010503",
         false,
         "Ada County",
         774
        ],
        [
         "001",
         "16001010501",
         false,
         "Ada County",
         206
        ],
        [
         "001",
         "16001010402",
         false,
         "Ada County",
         1629
        ],
        [
         "001",
         "16001010401",
         false,
         "Ada County",
         2411
        ],
        [
         "001",
         "16001010335",
         false,
         "Ada County",
         1161
        ],
        [
         "001",
         "16001010334",
         false,
         "Ada County",
         603
        ],
        [
         "001",
         "16001010333",
         false,
         "Ada County",
         748
        ],
        [
         "001",
         "16001010332",
         true,
         "Ada County",
         467
        ],
        [
         "001",
         "16001010331",
         false,
         "Ada County",
         2996
        ],
        [
         "001",
         "16001010322",
         false,
         "Ada County",
         765
        ],
        [
         "001",
         "16001010321",
         false,
         "Ada County",
         418
        ],
        [
         "001",
         "16001010313",
         false,
         "Ada County",
         5967
        ],
        [
         "001",
         "16001010225",
         false,
         "Ada County",
         767
        ],
        [
         "001",
         "16001010224",
         false,
         "Ada County",
         521
        ],
        [
         "001",
         "16001010223",
         false,
         "Ada County",
         780
        ],
        [
         "001",
         "16001010221",
         false,
         "Ada County",
         1182
        ],
        [
         "001",
         "16001010201",
         false,
         "Ada County",
         1760
        ],
        [
         "001",
         "16001010100",
         false,
         "Ada County",
         647
        ],
        [
         "001",
         "16001002413",
         false,
         "Ada County",
         700
        ],
        [
         "001",
         "16001002412",
         false,
         "Ada County",
         62
        ],
        [
         "001",
         "16001002411",
         false,
         "Ada County",
         556
        ],
        [
         "001",
         "16001002410",
         false,
         "Ada County",
         370
        ],
        [
         "001",
         "16001002313",
         false,
         "Ada County",
         200
        ],
        [
         "001",
         "16001002312",
         false,
         "Ada County",
         436
        ],
        [
         "001",
         "16001002310",
         false,
         "Ada County",
         435
        ],
        [
         "001",
         "16001002302",
         false,
         "Ada County",
         663
        ],
        [
         "001",
         "16001002224",
         false,
         "Ada County",
         1197
        ],
        [
         "001",
         "16001002223",
         false,
         "Ada County",
         409
        ],
        [
         "001",
         "16001002222",
         false,
         "Ada County",
         373
        ],
        [
         "001",
         "16001002221",
         false,
         "Ada County",
         897
        ],
        [
         "001",
         "16001002100",
         false,
         "Ada County",
         520
        ],
        [
         "001",
         "16001002000",
         false,
         "Ada County",
         578
        ],
        [
         "001",
         "16001001900",
         true,
         "Ada County",
         370
        ],
        [
         "001",
         "16001001800",
         false,
         "Ada County",
         647
        ],
        [
         "001",
         "16001001700",
         false,
         "Ada County",
         784
        ],
        [
         "001",
         "16001001600",
         false,
         "Ada County",
         64
        ],
        [
         "001",
         "16001001500",
         false,
         "Ada County",
         193
        ],
        [
         "001",
         "16001001400",
         false,
         "Ada County",
         510
        ],
        [
         "001",
         "16001001202",
         false,
         "Ada County",
         635
        ],
        [
         "001",
         "16001001201",
         false,
         "Ada County",
         344
        ],
        [
         "001",
         "16001001100",
         false,
         "Ada County",
         197
        ],
        [
         "001",
         "16001001000",
         false,
         "Ada County",
         364
        ],
        [
         "001",
         "16001000900",
         false,
         "Ada County",
         1053
        ],
        [
         "001",
         "16001000804",
         false,
         "Ada County",
         150
        ],
        [
         "001",
         "16001000803",
         false,
         "Ada County",
         315
        ],
        [
         "001",
         "16001000802",
         false,
         "Ada County",
         384
        ],
        [
         "001",
         "16001000702",
         false,
         "Ada County",
         135
        ],
        [
         "001",
         "16001000701",
         false,
         "Ada County",
         82
        ],
        [
         "001",
         "16001000600",
         false,
         "Ada County",
         130
        ],
        [
         "001",
         "16001000500",
         false,
         "Ada County",
         71
        ],
        [
         "001",
         "16001000400",
         false,
         "Ada County",
         141
        ],
        [
         "001",
         "16001000304",
         false,
         "Ada County",
         370
        ],
        [
         "001",
         "16001000303",
         false,
         "Ada County",
         148
        ],
        [
         "001",
         "16001000302",
         false,
         "Ada County",
         61
        ],
        [
         "001",
         "16001000202",
         false,
         "Ada County",
         518
        ],
        [
         "001",
         "16001000201",
         false,
         "Ada County",
         104
        ],
        [
         "007",
         "15007040603",
         false,
         "Kauai County",
         50
        ],
        [
         "115",
         "13115000700",
         false,
         "Floyd County",
         45
        ],
        [
         "091",
         "12091022500",
         false,
         "Okaloosa County",
         83
        ],
        [
         "091",
         "12091021101",
         false,
         "Okaloosa County",
         83
        ],
        [
         "073",
         "12073002508",
         false,
         "Leon County",
         83
        ],
        [
         "073",
         "12073002206",
         false,
         "Leon County",
         83
        ],
        [
         "085",
         "08085966400",
         false,
         "Montrose County",
         71
        ],
        [
         "059",
         "08059009824",
         false,
         "Jefferson County",
         72
        ],
        [
         "099",
         "06099000402",
         false,
         "Stanislaus County",
         66
        ],
        [
         "083",
         "06083001304",
         false,
         "Santa Barbara County",
         72
        ],
        [
         "077",
         "06077003500",
         false,
         "San Joaquin County",
         71
        ],
        [
         "073",
         "06073020103",
         false,
         "San Diego County",
         75
        ],
        [
         "073",
         "06073015501",
         false,
         "San Diego County",
         139
        ],
        [
         "073",
         "06073007002",
         false,
         "San Diego County",
         65
        ],
        [
         "071",
         "06071012002",
         false,
         "San Bernardino County",
         94
        ],
        [
         "061",
         "06061023900",
         false,
         "Placer County",
         74
        ],
        [
         "037",
         "06037910301",
         false,
         "Los Angeles County",
         84
        ],
        [
         "037",
         "06037503401",
         false,
         "Los Angeles County",
         72
        ],
        [
         "037",
         "06037262100",
         false,
         "Los Angeles County",
         71
        ],
        [
         "017",
         "06017030709",
         false,
         "El Dorado County",
         71
        ],
        [
         "027",
         "04027001200",
         false,
         "Yuma County",
         46
        ],
        [
         "019",
         "04019004646",
         false,
         "Pima County",
         74
        ],
        [
         "017",
         "04017963300",
         false,
         "Navajo County",
         84
        ],
        [
         "013",
         "04013813300",
         false,
         "Maricopa County",
         60
        ],
        [
         "013",
         "04013812400",
         false,
         "Maricopa County",
         70
        ],
        [
         "013",
         "04013422513",
         false,
         "Maricopa County",
         63
        ],
        [
         "013",
         "04013421801",
         false,
         "Maricopa County",
         58
        ],
        [
         "013",
         "04013421304",
         false,
         "Maricopa County",
         94
        ],
        [
         "013",
         "04013082009",
         false,
         "Maricopa County",
         84
        ],
        [
         "003",
         "04003001100",
         false,
         "Cochise County",
         83
        ]
       ],
       "datasetInfos": [],
       "dbfsResultPath": null,
       "isJsonSchema": true,
       "metadata": {},
       "overflow": false,
       "plotOptions": {
        "customPlotOptions": {},
        "displayType": "table",
        "pivotAggregation": null,
        "pivotColumns": null,
        "xColumns": null,
        "yColumns": null
       },
       "removedWidgets": [],
       "schema": [
        {
         "metadata": "{}",
         "name": "county",
         "type": "\"string\""
        },
        {
         "metadata": "{}",
         "name": "tractcode",
         "type": "\"string\""
        },
        {
         "metadata": "{}",
         "name": "HasTemple",
         "type": "\"boolean\""
        },
        {
         "metadata": "{}",
         "name": "cnamelong",
         "type": "\"string\""
        },
        {
         "metadata": "{}",
         "name": "total_members",
         "type": "\"long\""
        }
       ],
       "type": "table"
      }
     },
     "output_type": "display_data"
    }
   ],
   "source": [
    "d = c.sort(col(\"tractcode\").desc()).toPandas()\n",
    "\n",
    "display(d)"
   ]
  },
  {
   "cell_type": "code",
   "execution_count": 0,
   "metadata": {
    "application/vnd.databricks.v1+cell": {
     "cellMetadata": {
      "byteLimit": 2048000,
      "rowLimit": 10000
     },
     "inputWidgets": {},
     "nuid": "b0d4cb0d-2ef1-4f06-96cc-eb0738b889c6",
     "showTitle": false,
     "title": ""
    }
   },
   "outputs": [
    {
     "output_type": "display_data",
     "data": {
      "text/html": [
       "<html>\n",
       "<head><meta charset=\"utf-8\" /></head>\n",
       "<body>\n",
       "    <div>            <script src=\"https://cdnjs.cloudflare.com/ajax/libs/mathjax/2.7.5/MathJax.js?config=TeX-AMS-MML_SVG\"></script><script type=\"text/javascript\">if (window.MathJax && window.MathJax.Hub && window.MathJax.Hub.Config) {window.MathJax.Hub.Config({SVG: {font: \"STIX-Web\"}});}</script>                <script type=\"text/javascript\">window.PlotlyConfig = {MathJaxConfig: 'local'};</script>\n",
       "        <script src=\"https://cdn.plot.ly/plotly-2.12.1.min.js\"></script>                <div id=\"3441cb6a-dcdd-4ca2-82b0-fd67e7c78893\" class=\"plotly-graph-div\" style=\"height:100%; width:100%;\"></div>            <script type=\"text/javascript\">                                    window.PLOTLYENV=window.PLOTLYENV || {};                                    if (document.getElementById(\"3441cb6a-dcdd-4ca2-82b0-fd67e7c78893\")) {                    Plotly.newPlot(                        \"3441cb6a-dcdd-4ca2-82b0-fd67e7c78893\",                        [{\"hovertemplate\":\"HasTemple=False<br>tractcode=%{x}<br>total_members=%{y}<extra></extra>\",\"legendgroup\":\"False\",\"marker\":{\"color\":\"#636efa\",\"symbol\":\"circle\"},\"mode\":\"markers\",\"name\":\"False\",\"orientation\":\"v\",\"showlegend\":true,\"x\":[\"56039967800\",\"56039967702\",\"56039967600\",\"56037970902\",\"56023978100\",\"56023978000\",\"56013940300\",\"53077002802\",\"53077000700\",\"53075000900\",\"53075000600\",\"53075000400\",\"53075000200\",\"53075000100\",\"53063013202\",\"53063012701\",\"53063010503\",\"53061052806\",\"53053062300\",\"53051970300\",\"53035092400\",\"53033032601\",\"53033026001\",\"53033010702\",\"53033007300\",\"53033005301\",\"53029971500\",\"53021020605\",\"53011040201\",\"53005010811\",\"53005010810\",\"53003960400\",\"51530930600\",\"51059416200\",\"50003970200\",\"49057211100\",\"49057210704\",\"49057210600\",\"49057210506\",\"49057210505\",\"49057210504\",\"49057210403\",\"49057210302\",\"49057210201\",\"49057200800\",\"49057200202\",\"49053271600\",\"49053270901\",\"49053270802\",\"49053270801\",\"49049010405\",\"49049010404\",\"49049010219\",\"49049010214\",\"49049010212\",\"49049010113\",\"49049010112\",\"49049010111\",\"49049010109\",\"49049003402\",\"49049003204\",\"49049003203\",\"49049003104\",\"49049002300\",\"49049002206\",\"49049001900\",\"49049001803\",\"49049001702\",\"49049001603\",\"49049001602\",\"49049001402\",\"49049000904\",\"49049000703\",\"49049000603\",\"49049000105\",\"49049000102\",\"49045131100\",\"49045130800\",\"49045130703\",\"49045130702\",\"49043964102\",\"49035113803\",\"49035113527\",\"49035113526\",\"49035113525\",\"49035113514\",\"49035113412\",\"49035113306\",\"49035113305\",\"49035113107\",\"49035113105\",\"49035113011\",\"49035112820\",\"49035112810\",\"49035112805\",\"49035112609\",\"49035112302\",\"49035112201\",\"49035111903\",\"49035110600\",\"49035104900\",\"49035104800\",\"49035103400\",\"49035102702\",\"49033950100\",\"49011127003\",\"49011126204\",\"49011126105\",\"49011126104\",\"49011126101\",\"49011125808\",\"49011125801\",\"49011125405\",\"49011125403\",\"49011125401\",\"49005001401\",\"49005001102\",\"49005001002\",\"49005001001\",\"49005000900\",\"49005000800\",\"49005000701\",\"49005000600\",\"49005000501\",\"49005000403\",\"49005000401\",\"49005000202\",\"49005000201\",\"49005000101\",\"49003960801\",\"49003960702\",\"49003960300\",\"49003960100\",\"48453001826\",\"48439113922\",\"48201421700\",\"48113020400\",\"48085031313\",\"47125101400\",\"47093006206\",\"45013000503\",\"41067033302\",\"41067032603\",\"41059950500\",\"41051005100\",\"41045970600\",\"41045970500\",\"41045970300\",\"41041950304\",\"41023960200\",\"41017000200\",\"41009970600\",\"41001950500\",\"41001950100\",\"40113940002\",\"39113050104\",\"37183053107\",\"37101040203\",\"37017950300\",\"36061023000\",\"36011040400\",\"35045000610\",\"32033970100\",\"32031003106\",\"32031002613\",\"32019960101\",\"32007950701\",\"32007950200\",\"32003003629\",\"32003003318\",\"32003002808\",\"31055002300\",\"30111000702\",\"30081000202\",\"30063001302\",\"30063000202\",\"30057000200\",\"30043962202\",\"30041040300\",\"30031001500\",\"30031000900\",\"30031000300\",\"29209090601\",\"27145000601\",\"26161431000\",\"26065005001\",\"26049013002\",\"26043950300\",\"24031700823\",\"22015010806\",\"21185030601\",\"20155001800\",\"19057001000\",\"18011810400\",\"16087970300\",\"16087970200\",\"16087970100\",\"16085970200\",\"16085970100\",\"16083001500\",\"16083001400\",\"16083001300\",\"16083001200\",\"16083001100\",\"16083001000\",\"16083000900\",\"16083000800\",\"16083000700\",\"16083000600\",\"16083000500\",\"16083000400\",\"16083000300\",\"16081960100\",\"16079960300\",\"16079960200\",\"16077960200\",\"16077960100\",\"16075960400\",\"16075960300\",\"16075960200\",\"16075960100\",\"16073950200\",\"16073950102\",\"16073950101\",\"16071960100\",\"16069961000\",\"16069960900\",\"16069960600\",\"16069960500\",\"16069960400\",\"16069960200\",\"16067970500\",\"16067970400\",\"16067970300\",\"16067970200\",\"16067970100\",\"16065950500\",\"16065950400\",\"16065950302\",\"16065950200\",\"16065950100\",\"16063950100\",\"16059970200\",\"16059970100\",\"16057005600\",\"16057005500\",\"16057005200\",\"16057005100\",\"16055002000\",\"16055001900\",\"16055001800\",\"16055001700\",\"16055001500\",\"16055001400\",\"16055001300\",\"16055001200\",\"16055001100\",\"16055001002\",\"16055001001\",\"16055000900\",\"16055000800\",\"16055000700\",\"16055000602\",\"16055000601\",\"16055000500\",\"16055000402\",\"16055000302\",\"16055000301\",\"16055000200\",\"16055000100\",\"16053970500\",\"16053970400\",\"16053970300\",\"16053970200\",\"16051960400\",\"16051960300\",\"16051960200\",\"16051960100\",\"16049960400\",\"16047960200\",\"16047960100\",\"16045960300\",\"16045960200\",\"16045960100\",\"16043970300\",\"16043970200\",\"16043970100\",\"16041970200\",\"16041970100\",\"16039960400\",\"16039960300\",\"16039960200\",\"16037960200\",\"16031950600\",\"16031950500\",\"16031950400\",\"16031950300\",\"16031950200\",\"16031950100\",\"16029960200\",\"16029960100\",\"16027022400\",\"16027022300\",\"16027022200\",\"16027021904\",\"16027021903\",\"16027021901\",\"16027021800\",\"16027021700\",\"16027021500\",\"16027021300\",\"16027021200\",\"16027021100\",\"16027021002\",\"16027021001\",\"16027020902\",\"16027020901\",\"16027020700\",\"16027020602\",\"16027020601\",\"16027020504\",\"16027020503\",\"16027020501\",\"16027020402\",\"16027020401\",\"16027020300\",\"16027020100\",\"16025970100\",\"16023970100\",\"16019971500\",\"16019971400\",\"16019971302\",\"16019971301\",\"16019971100\",\"16019971000\",\"16019970900\",\"16019970800\",\"16019970700\",\"16019970603\",\"16019970602\",\"16019970601\",\"16019970503\",\"16019970502\",\"16019970501\",\"16019970403\",\"16019970402\",\"16019970401\",\"16019970300\",\"16019970100\",\"16017950800\",\"16017950400\",\"16017950200\",\"16015950200\",\"16013960200\",\"16013960100\",\"16011950700\",\"16011950600\",\"16011950500\",\"16011950400\",\"16011950300\",\"16011950200\",\"16011950100\",\"16011940000\",\"16007950200\",\"16007950100\",\"16005940000\",\"16005001900\",\"16005001700\",\"16005001603\",\"16005001602\",\"16005001601\",\"16005001500\",\"16005001400\",\"16005001300\",\"16005001200\",\"16005001102\",\"16005001101\",\"16005001000\",\"16005000900\",\"16005000800\",\"16005000700\",\"16005000600\",\"16005000500\",\"16005000400\",\"16005000300\",\"16005000200\",\"16001010504\",\"16001010503\",\"16001010501\",\"16001010402\",\"16001010401\",\"16001010335\",\"16001010334\",\"16001010333\",\"16001010331\",\"16001010322\",\"16001010321\",\"16001010313\",\"16001010225\",\"16001010224\",\"16001010223\",\"16001010221\",\"16001010201\",\"16001010100\",\"16001002413\",\"16001002412\",\"16001002411\",\"16001002410\",\"16001002313\",\"16001002312\",\"16001002310\",\"16001002302\",\"16001002224\",\"16001002223\",\"16001002222\",\"16001002221\",\"16001002100\",\"16001002000\",\"16001001800\",\"16001001700\",\"16001001600\",\"16001001500\",\"16001001400\",\"16001001202\",\"16001001201\",\"16001001100\",\"16001001000\",\"16001000900\",\"16001000804\",\"16001000803\",\"16001000802\",\"16001000702\",\"16001000701\",\"16001000600\",\"16001000500\",\"16001000400\",\"16001000304\",\"16001000303\",\"16001000302\",\"16001000202\",\"16001000201\",\"15007040603\",\"13115000700\",\"12091022500\",\"12091021101\",\"12073002508\",\"12073002206\",\"08085966400\",\"08059009824\",\"06099000402\",\"06083001304\",\"06077003500\",\"06073020103\",\"06073015501\",\"06073007002\",\"06071012002\",\"06061023900\",\"06037910301\",\"06037503401\",\"06037262100\",\"06017030709\",\"04027001200\",\"04019004646\",\"04017963300\",\"04013813300\",\"04013812400\",\"04013422513\",\"04013421801\",\"04013421304\",\"04013082009\",\"04003001100\"],\"xaxis\":\"x\",\"y\":[68,70,66,55,78,66,83,59,116,25,45,45,109,1337,68,45,71,73,98,98,41,104,98,66,73,67,72,82,79,98,64,60,55,52,79,55,61,61,73,60,66,51,64,78,72,52,55,61,71,65,185,164,72,76,66,215,175,70,69,88,65,60,86,61,60,329,62,63,70,79,125,83,63,65,116,86,67,63,68,124,54,71,61,33,86,70,49,72,41,243,75,159,123,78,132,86,86,72,54,142,64,83,71,66,54,59,55,138,145,77,110,68,76,131,116,78,86,140,68,68,63,142,70,68,68,71,100,76,187,66,60,134,61,77,80,65,68,137,80,51,83,104,75,62,162,83,64,107,71,74,89,71,41,72,71,86,83,83,83,50,75,63,63,73,61,73,73,68,111,66,68,66,69,71,66,68,65,178,55,86,55,49,76,50,70,53,53,73,54,61,69,83,88,64,231,184,322,71,62,230,230,1669,576,88,1088,1325,542,1763,474,1631,135,420,292,126,155,1460,572,157,1403,233,134,327,67,293,860,60,60,60,105,60,25,844,694,711,1092,345,2088,1521,5525,1204,1996,154,117,276,45,25,563,198,196,83,333,68,199,98,755,147,233,284,71,98,246,8251,64,98,357,68,503,162,731,68,1005,138,413,328,2851,2392,1500,209,192,433,603,326,885,587,5832,1348,634,2149,1765,450,120,454,57,1393,2476,592,2715,2028,696,510,1406,510,135,162,72,510,274,126,128,257,47,103,1873,628,501,1565,2884,71,329,242,83,322,113,150,460,81,89,77,430,239,2426,1291,1474,644,913,716,700,670,344,1538,1164,1376,945,3836,2281,1799,881,5433,2981,72,104,414,88,347,305,1136,1714,2105,1477,830,1093,2691,109,309,876,209,450,970,324,301,217,460,393,270,190,492,3046,625,210,488,445,582,211,1897,1781,1413,504,774,206,1629,2411,1161,603,748,2996,765,418,5967,767,521,780,1182,1760,647,700,62,556,370,200,436,435,663,1197,409,373,897,520,578,647,784,64,193,510,635,344,197,364,1053,150,315,384,135,82,130,71,141,370,148,61,518,104,50,45,83,83,83,83,71,72,66,72,71,75,139,65,94,74,84,72,71,71,46,74,84,60,70,63,58,94,84,83],\"yaxis\":\"y\",\"type\":\"scatter\"},{\"hovertemplate\":\"HasTemple=True<br>tractcode=%{x}<br>total_members=%{y}<extra></extra>\",\"legendgroup\":\"True\",\"marker\":{\"color\":\"#EF553B\",\"symbol\":\"circle\"},\"mode\":\"markers\",\"name\":\"True\",\"orientation\":\"v\",\"showlegend\":true,\"x\":[\"16083000200\",\"16065950301\",\"16019971200\",\"16001010332\",\"16001001900\"],\"xaxis\":\"x\",\"y\":[1292,1746,686,467,370],\"yaxis\":\"y\",\"type\":\"scatter\"}],                        {\"template\":{\"data\":{\"histogram2dcontour\":[{\"type\":\"histogram2dcontour\",\"colorbar\":{\"outlinewidth\":0,\"ticks\":\"\"},\"colorscale\":[[0.0,\"#0d0887\"],[0.1111111111111111,\"#46039f\"],[0.2222222222222222,\"#7201a8\"],[0.3333333333333333,\"#9c179e\"],[0.4444444444444444,\"#bd3786\"],[0.5555555555555556,\"#d8576b\"],[0.6666666666666666,\"#ed7953\"],[0.7777777777777778,\"#fb9f3a\"],[0.8888888888888888,\"#fdca26\"],[1.0,\"#f0f921\"]]}],\"choropleth\":[{\"type\":\"choropleth\",\"colorbar\":{\"outlinewidth\":0,\"ticks\":\"\"}}],\"histogram2d\":[{\"type\":\"histogram2d\",\"colorbar\":{\"outlinewidth\":0,\"ticks\":\"\"},\"colorscale\":[[0.0,\"#0d0887\"],[0.1111111111111111,\"#46039f\"],[0.2222222222222222,\"#7201a8\"],[0.3333333333333333,\"#9c179e\"],[0.4444444444444444,\"#bd3786\"],[0.5555555555555556,\"#d8576b\"],[0.6666666666666666,\"#ed7953\"],[0.7777777777777778,\"#fb9f3a\"],[0.8888888888888888,\"#fdca26\"],[1.0,\"#f0f921\"]]}],\"heatmap\":[{\"type\":\"heatmap\",\"colorbar\":{\"outlinewidth\":0,\"ticks\":\"\"},\"colorscale\":[[0.0,\"#0d0887\"],[0.1111111111111111,\"#46039f\"],[0.2222222222222222,\"#7201a8\"],[0.3333333333333333,\"#9c179e\"],[0.4444444444444444,\"#bd3786\"],[0.5555555555555556,\"#d8576b\"],[0.6666666666666666,\"#ed7953\"],[0.7777777777777778,\"#fb9f3a\"],[0.8888888888888888,\"#fdca26\"],[1.0,\"#f0f921\"]]}],\"heatmapgl\":[{\"type\":\"heatmapgl\",\"colorbar\":{\"outlinewidth\":0,\"ticks\":\"\"},\"colorscale\":[[0.0,\"#0d0887\"],[0.1111111111111111,\"#46039f\"],[0.2222222222222222,\"#7201a8\"],[0.3333333333333333,\"#9c179e\"],[0.4444444444444444,\"#bd3786\"],[0.5555555555555556,\"#d8576b\"],[0.6666666666666666,\"#ed7953\"],[0.7777777777777778,\"#fb9f3a\"],[0.8888888888888888,\"#fdca26\"],[1.0,\"#f0f921\"]]}],\"contourcarpet\":[{\"type\":\"contourcarpet\",\"colorbar\":{\"outlinewidth\":0,\"ticks\":\"\"}}],\"contour\":[{\"type\":\"contour\",\"colorbar\":{\"outlinewidth\":0,\"ticks\":\"\"},\"colorscale\":[[0.0,\"#0d0887\"],[0.1111111111111111,\"#46039f\"],[0.2222222222222222,\"#7201a8\"],[0.3333333333333333,\"#9c179e\"],[0.4444444444444444,\"#bd3786\"],[0.5555555555555556,\"#d8576b\"],[0.6666666666666666,\"#ed7953\"],[0.7777777777777778,\"#fb9f3a\"],[0.8888888888888888,\"#fdca26\"],[1.0,\"#f0f921\"]]}],\"surface\":[{\"type\":\"surface\",\"colorbar\":{\"outlinewidth\":0,\"ticks\":\"\"},\"colorscale\":[[0.0,\"#0d0887\"],[0.1111111111111111,\"#46039f\"],[0.2222222222222222,\"#7201a8\"],[0.3333333333333333,\"#9c179e\"],[0.4444444444444444,\"#bd3786\"],[0.5555555555555556,\"#d8576b\"],[0.6666666666666666,\"#ed7953\"],[0.7777777777777778,\"#fb9f3a\"],[0.8888888888888888,\"#fdca26\"],[1.0,\"#f0f921\"]]}],\"mesh3d\":[{\"type\":\"mesh3d\",\"colorbar\":{\"outlinewidth\":0,\"ticks\":\"\"}}],\"scatter\":[{\"fillpattern\":{\"fillmode\":\"overlay\",\"size\":10,\"solidity\":0.2},\"type\":\"scatter\"}],\"parcoords\":[{\"type\":\"parcoords\",\"line\":{\"colorbar\":{\"outlinewidth\":0,\"ticks\":\"\"}}}],\"scatterpolargl\":[{\"type\":\"scatterpolargl\",\"marker\":{\"colorbar\":{\"outlinewidth\":0,\"ticks\":\"\"}}}],\"bar\":[{\"error_x\":{\"color\":\"#2a3f5f\"},\"error_y\":{\"color\":\"#2a3f5f\"},\"marker\":{\"line\":{\"color\":\"#E5ECF6\",\"width\":0.5},\"pattern\":{\"fillmode\":\"overlay\",\"size\":10,\"solidity\":0.2}},\"type\":\"bar\"}],\"scattergeo\":[{\"type\":\"scattergeo\",\"marker\":{\"colorbar\":{\"outlinewidth\":0,\"ticks\":\"\"}}}],\"scatterpolar\":[{\"type\":\"scatterpolar\",\"marker\":{\"colorbar\":{\"outlinewidth\":0,\"ticks\":\"\"}}}],\"histogram\":[{\"marker\":{\"pattern\":{\"fillmode\":\"overlay\",\"size\":10,\"solidity\":0.2}},\"type\":\"histogram\"}],\"scattergl\":[{\"type\":\"scattergl\",\"marker\":{\"colorbar\":{\"outlinewidth\":0,\"ticks\":\"\"}}}],\"scatter3d\":[{\"type\":\"scatter3d\",\"line\":{\"colorbar\":{\"outlinewidth\":0,\"ticks\":\"\"}},\"marker\":{\"colorbar\":{\"outlinewidth\":0,\"ticks\":\"\"}}}],\"scattermapbox\":[{\"type\":\"scattermapbox\",\"marker\":{\"colorbar\":{\"outlinewidth\":0,\"ticks\":\"\"}}}],\"scatterternary\":[{\"type\":\"scatterternary\",\"marker\":{\"colorbar\":{\"outlinewidth\":0,\"ticks\":\"\"}}}],\"scattercarpet\":[{\"type\":\"scattercarpet\",\"marker\":{\"colorbar\":{\"outlinewidth\":0,\"ticks\":\"\"}}}],\"carpet\":[{\"aaxis\":{\"endlinecolor\":\"#2a3f5f\",\"gridcolor\":\"white\",\"linecolor\":\"white\",\"minorgridcolor\":\"white\",\"startlinecolor\":\"#2a3f5f\"},\"baxis\":{\"endlinecolor\":\"#2a3f5f\",\"gridcolor\":\"white\",\"linecolor\":\"white\",\"minorgridcolor\":\"white\",\"startlinecolor\":\"#2a3f5f\"},\"type\":\"carpet\"}],\"table\":[{\"cells\":{\"fill\":{\"color\":\"#EBF0F8\"},\"line\":{\"color\":\"white\"}},\"header\":{\"fill\":{\"color\":\"#C8D4E3\"},\"line\":{\"color\":\"white\"}},\"type\":\"table\"}],\"barpolar\":[{\"marker\":{\"line\":{\"color\":\"#E5ECF6\",\"width\":0.5},\"pattern\":{\"fillmode\":\"overlay\",\"size\":10,\"solidity\":0.2}},\"type\":\"barpolar\"}],\"pie\":[{\"automargin\":true,\"type\":\"pie\"}]},\"layout\":{\"autotypenumbers\":\"strict\",\"colorway\":[\"#636efa\",\"#EF553B\",\"#00cc96\",\"#ab63fa\",\"#FFA15A\",\"#19d3f3\",\"#FF6692\",\"#B6E880\",\"#FF97FF\",\"#FECB52\"],\"font\":{\"color\":\"#2a3f5f\"},\"hovermode\":\"closest\",\"hoverlabel\":{\"align\":\"left\"},\"paper_bgcolor\":\"white\",\"plot_bgcolor\":\"#E5ECF6\",\"polar\":{\"bgcolor\":\"#E5ECF6\",\"angularaxis\":{\"gridcolor\":\"white\",\"linecolor\":\"white\",\"ticks\":\"\"},\"radialaxis\":{\"gridcolor\":\"white\",\"linecolor\":\"white\",\"ticks\":\"\"}},\"ternary\":{\"bgcolor\":\"#E5ECF6\",\"aaxis\":{\"gridcolor\":\"white\",\"linecolor\":\"white\",\"ticks\":\"\"},\"baxis\":{\"gridcolor\":\"white\",\"linecolor\":\"white\",\"ticks\":\"\"},\"caxis\":{\"gridcolor\":\"white\",\"linecolor\":\"white\",\"ticks\":\"\"}},\"coloraxis\":{\"colorbar\":{\"outlinewidth\":0,\"ticks\":\"\"}},\"colorscale\":{\"sequential\":[[0.0,\"#0d0887\"],[0.1111111111111111,\"#46039f\"],[0.2222222222222222,\"#7201a8\"],[0.3333333333333333,\"#9c179e\"],[0.4444444444444444,\"#bd3786\"],[0.5555555555555556,\"#d8576b\"],[0.6666666666666666,\"#ed7953\"],[0.7777777777777778,\"#fb9f3a\"],[0.8888888888888888,\"#fdca26\"],[1.0,\"#f0f921\"]],\"sequentialminus\":[[0.0,\"#0d0887\"],[0.1111111111111111,\"#46039f\"],[0.2222222222222222,\"#7201a8\"],[0.3333333333333333,\"#9c179e\"],[0.4444444444444444,\"#bd3786\"],[0.5555555555555556,\"#d8576b\"],[0.6666666666666666,\"#ed7953\"],[0.7777777777777778,\"#fb9f3a\"],[0.8888888888888888,\"#fdca26\"],[1.0,\"#f0f921\"]],\"diverging\":[[0,\"#8e0152\"],[0.1,\"#c51b7d\"],[0.2,\"#de77ae\"],[0.3,\"#f1b6da\"],[0.4,\"#fde0ef\"],[0.5,\"#f7f7f7\"],[0.6,\"#e6f5d0\"],[0.7,\"#b8e186\"],[0.8,\"#7fbc41\"],[0.9,\"#4d9221\"],[1,\"#276419\"]]},\"xaxis\":{\"gridcolor\":\"white\",\"linecolor\":\"white\",\"ticks\":\"\",\"title\":{\"standoff\":15},\"zerolinecolor\":\"white\",\"automargin\":true,\"zerolinewidth\":2},\"yaxis\":{\"gridcolor\":\"white\",\"linecolor\":\"white\",\"ticks\":\"\",\"title\":{\"standoff\":15},\"zerolinecolor\":\"white\",\"automargin\":true,\"zerolinewidth\":2},\"scene\":{\"xaxis\":{\"backgroundcolor\":\"#E5ECF6\",\"gridcolor\":\"white\",\"linecolor\":\"white\",\"showbackground\":true,\"ticks\":\"\",\"zerolinecolor\":\"white\",\"gridwidth\":2},\"yaxis\":{\"backgroundcolor\":\"#E5ECF6\",\"gridcolor\":\"white\",\"linecolor\":\"white\",\"showbackground\":true,\"ticks\":\"\",\"zerolinecolor\":\"white\",\"gridwidth\":2},\"zaxis\":{\"backgroundcolor\":\"#E5ECF6\",\"gridcolor\":\"white\",\"linecolor\":\"white\",\"showbackground\":true,\"ticks\":\"\",\"zerolinecolor\":\"white\",\"gridwidth\":2}},\"shapedefaults\":{\"line\":{\"color\":\"#2a3f5f\"}},\"annotationdefaults\":{\"arrowcolor\":\"#2a3f5f\",\"arrowhead\":0,\"arrowwidth\":1},\"geo\":{\"bgcolor\":\"white\",\"landcolor\":\"#E5ECF6\",\"subunitcolor\":\"white\",\"showland\":true,\"showlakes\":true,\"lakecolor\":\"white\"},\"title\":{\"x\":0.05},\"mapbox\":{\"style\":\"light\"}}},\"xaxis\":{\"anchor\":\"y\",\"domain\":[0.0,1.0],\"title\":{\"text\":\"Census Block Groups\"}},\"yaxis\":{\"anchor\":\"x\",\"domain\":[0.0,1.0],\"title\":{\"text\":\"Estimated Active Member Count\"}},\"legend\":{\"title\":{\"text\":\"HasTemple\"},\"tracegroupgap\":0},\"title\":{\"text\":\"Does a Temple effect worthy Members\"}},                        {\"responsive\": true}                    )                };                            </script>        </div>\n",
       "</body>\n",
       "</html>"
      ]
     },
     "metadata": {},
     "output_type": "display_data"
    }
   ],
   "source": [
    "import plotly.express as px\n",
    "\n",
    "fig = px.scatter(data_frame=d, x= \"tractcode\", y=\"total_members\",color=\"HasTemple\",title=\"Does a Temple effect worthy Members\")\n",
    "fig.update_layout(\n",
    "    xaxis_title=\"Census Block Groups\",\n",
    "    yaxis_title=\"Estimated Active Member Count\"\n",
    ")\n",
    "# fig = px.scatter(membershipTractCode, x= \"tractcode\", y=\"sum_state_tract\",color=\"HasTemple\")\n",
    "fig.show()"
   ]
  }
 ],
 "metadata": {
  "application/vnd.databricks.v1+notebook": {
   "dashboards": [],
   "language": "python",
   "notebookMetadata": {
    "pythonIndentUnit": 4
   },
   "notebookName": "target_team",
   "widgets": {}
  }
 },
 "nbformat": 4,
 "nbformat_minor": 0
}

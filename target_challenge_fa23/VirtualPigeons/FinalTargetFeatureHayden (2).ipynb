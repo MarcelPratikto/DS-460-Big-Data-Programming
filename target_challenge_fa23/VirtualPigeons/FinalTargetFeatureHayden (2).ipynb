{
 "cells": [
  {
   "cell_type": "code",
   "execution_count": 0,
   "metadata": {
    "application/vnd.databricks.v1+cell": {
     "cellMetadata": {
      "byteLimit": 2048000,
      "rowLimit": 10000
     },
     "inputWidgets": {},
     "nuid": "b74a3cd8-bdf0-4e9a-a2ae-ec022ae5861b",
     "showTitle": false,
     "title": ""
    }
   },
   "outputs": [],
   "source": [
    "import pandas as pd\n",
    "import plotly.express as px\n",
    "from pyspark.sql.functions import col,sum,avg,max\n",
    "\n",
    "import plotly.graph_objects as go\n",
    "\n",
    "import pyspark.sql.functions as F\n",
    "# spark is available to me"
   ]
  },
  {
   "cell_type": "code",
   "execution_count": 0,
   "metadata": {
    "application/vnd.databricks.v1+cell": {
     "cellMetadata": {
      "byteLimit": 2048000,
      "rowLimit": 10000
     },
     "inputWidgets": {},
     "nuid": "0b1d1c66-c6ce-4942-b520-8521cc270f64",
     "showTitle": false,
     "title": ""
    }
   },
   "outputs": [],
   "source": [
    "places = spark.read.parquet(\"dbfs:/data/idaho/places.parquet\")\n",
    "patterns = spark.read.parquet(\"dbfs:/data/idaho/patterns\")\n",
    "censustract = spark.read.parquet(\"dbfs:/data/idaho/censustract_pkmap.parquet\")\n",
    "censusblock = spark.read.parquet(\"dbfs:/FileStore/censusblock_table.parquet\")\n",
    "\n",
    "combined_df = patterns.join(other= places, on= \"placekey\", how = \"inner\")\\\n",
    "    .dropDuplicates([\"placekey\"])\\\n",
    "    .withColumnRenamed(\"latitude\",\"places_latitude\")\\\n",
    "    .withColumnRenamed(\"longitude\", \"places_longitude\")\n",
    "\n",
    "county = combined_df.join(other=censustract, on=\"placekey\", how=\"inner\")\\\n",
    "    .dropDuplicates([\"placekey\"])"
   ]
  },
  {
   "cell_type": "markdown",
   "metadata": {
    "application/vnd.databricks.v1+cell": {
     "cellMetadata": {
      "byteLimit": 2048000,
      "rowLimit": 10000
     },
     "inputWidgets": {},
     "nuid": "d92faf8f-cf83-4285-9eec-0345162f7e4d",
     "showTitle": false,
     "title": ""
    }
   },
   "source": [
    "\n",
    "#### Possible non church locations with latter day in the name\n",
    "* Church of Jesus Christ of Latter Day Saints the Beehive Clothing\n",
    "\n",
    "#### Temple labled as a church\n",
    "* \"placekey\"==\"Izzw-222@5w9-jb8-5fz\", \"street_address\" == \"1211 S Cole Rd\" : The Boise Temple\n",
    "\n",
    "#### Temple Labels \n",
    "* Rexburg Idaho Temple\n",
    "* Church of Jesus Christ of Latter Day Saints Twin Falls Temple\n",
    "* Church of Jesus Christ of Latter Day Saints Meridian Temple\n",
    "* Idaho Falls Idaho Temple\n",
    "\n",
    "#### Missing Temples\n",
    "* Pocatello Idaho Temple\n",
    "\n",
    "#### future Temples \n",
    "* Montpelier Idaho Temple\n",
    "* Teton River Idaho Temple\n"
   ]
  },
  {
   "cell_type": "markdown",
   "metadata": {
    "application/vnd.databricks.v1+cell": {
     "cellMetadata": {
      "byteLimit": 2048000,
      "rowLimit": 10000
     },
     "inputWidgets": {},
     "nuid": "c84a7f19-3c90-4cef-bc48-dcf9dec13bf2",
     "showTitle": false,
     "title": ""
    }
   },
   "source": [
    "\n",
    "use Visitor_homeagregation track\n",
    "\n",
    "popularity_by_day, popularity_by_hour, location_name, normalized_visits_by_state_scaling\n",
    "\n",
    "Make sure that it is only the curch buildings.\n",
    "\n",
    "use the day to find the number of people who go to church on sundays. poportions of the state scaling by the visitor home agregation?"
   ]
  },
  {
   "cell_type": "code",
   "execution_count": 0,
   "metadata": {
    "application/vnd.databricks.v1+cell": {
     "cellMetadata": {
      "byteLimit": 2048000,
      "rowLimit": 10000
     },
     "inputWidgets": {},
     "nuid": "6a17ce54-310e-4241-b490-97ddafc6f3c7",
     "showTitle": false,
     "title": ""
    }
   },
   "outputs": [],
   "source": [
    "lds_church = county.filter(\n",
    "    (F.col(\"top_category\") == \"Religious Organizations\") &\n",
    "    (F.col(\"location_name\").rlike(\"Latter|latter|Saints|saints|LDS|\\b[Ww]ard\\b\")) &\n",
    "    (F.col(\"location_name\").rlike(\"^((?!Reorganized).)*$\")) &\n",
    "    (F.col(\"location_name\").rlike(\"^((?!All Saints).)*$\")) &\n",
    "    (F.col(\"location_name\").rlike(\"^((?![cC]ath).)*$\")) &\n",
    "    (F.col(\"location_name\").rlike(\"^((?![Bb]ody).)*$\")) &\n",
    "    (F.col(\"location_name\").rlike(\"^((?![Pp]eter).)*$\")) &\n",
    "    (F.col(\"location_name\").rlike(\"^((?![Cc]atholic).)*$\")) &\n",
    "    (F.col(\"location_name\").rlike(\"^((?![Pp]res).)*$\")) &\n",
    "    (F.col(\"location_name\").rlike(\"^((?![Mm]inist).)*$\")) &\n",
    "    (F.col(\"location_name\").rlike(\"^((?![Mm]ission).)*$\")) &\n",
    "    (F.col(\"location_name\").rlike(\"^((?![Ww]orship).)*$\")) &\n",
    "    (F.col(\"location_name\").rlike(\"^((?![Rr]ain).)*$\")) &\n",
    "    (F.col(\"location_name\").rlike(\"^((?![Bb]aptist).)*$\")) &\n",
    "    (F.col(\"location_name\").rlike(\"^((?![Mm]eth).)*$\")) &\n",
    "    (F.col(\"location_name\").rlike(\"^((?![Ee]vang).)*$\")) &\n",
    "    (F.col(\"location_name\").rlike(\"^((?![Ll]utheran).)*$\")) &\n",
    "    (F.col(\"location_name\").rlike(\"^((?![Oo]rthodox).)*$\")) &\n",
    "    (F.col(\"location_name\").rlike(\"^((?![Ee]piscopal).)*$\")) &\n",
    "    (F.col(\"location_name\").rlike(\"^((?![Tt]abernacle).)*$\")) &\n",
    "    (F.col(\"location_name\").rlike(\"^((?![Hh]arvest).)*$\")) &\n",
    "    (F.col(\"location_name\").rlike(\"^((?![Aa]ssem).)*$\")) &\n",
    "    (F.col(\"location_name\").rlike(\"^((?![Mm]edia).)*$\")) &\n",
    "    (F.col(\"location_name\").rlike(\"^((?![Mm]artha).)*$\")) &\n",
    "    (F.col(\"location_name\").rlike(\"^((?![Cc]hristian).)*$\")) &\n",
    "    (F.col(\"location_name\").rlike(\"^((?![Uu]nited).)*$\")) &\n",
    "    (F.col(\"location_name\").rlike(\"^((?![Ff]ellowship).)*$\")) &\n",
    "    (F.col(\"location_name\").rlike(\"^((?![Ww]esl).)*$\")) &\n",
    "    (F.col(\"location_name\").rlike(\"^((?![C]cosmas).)*$\")) &\n",
    "    (F.col(\"location_name\").rlike(\"^((?![Gg]reater).)*$\")) &\n",
    "    (F.col(\"location_name\").rlike(\"^((?![Pp]rison).)*$\")) &\n",
    "    (F.col(\"location_name\").rlike(\"^((?![Cc]ommuni).)*$\")) &\n",
    "    (F.col(\"location_name\").rlike(\"^((?![Cc]lement).)*$\")) &\n",
    "    (F.col(\"location_name\").rlike(\"^((?![Vv]iridian).)*$\")) &\n",
    "    (F.col(\"location_name\").rlike(\"^((?![Dd]iocese).)*$\")) &\n",
    "    (F.col(\"location_name\").rlike(\"^((?![Hh]istory).)*$\")) &\n",
    "    (F.col(\"location_name\").rlike(\"^((?![Ss]chool).)*$\")) &\n",
    "    (F.col(\"location_name\").rlike(\"^((?![Tt]hougt).)*$\")) &\n",
    "    (F.col(\"location_name\").rlike(\"^((?![Hh]oliness).)*$\")) &\n",
    "    (F.col(\"location_name\").rlike(\"^((?![Mm]artyr).)*$\")) &\n",
    "    (F.col(\"location_name\").rlike(\"^((?![Jj]ames).)*$\")) &\n",
    "    (F.col(\"location_name\").rlike(\"^((?![Ff]ellowship).)*$\")) &\n",
    "    (F.col(\"location_name\").rlike(\"^((?![Hh]ouse).)*$\")) &\n",
    "    (F.col(\"location_name\").rlike(\"^((?![Gg]lory).)*$\")) &\n",
    "    (F.col(\"location_name\").rlike(\"^((?![Aa]nglican).)*$\")) &\n",
    "    (F.col(\"location_name\").rlike(\"^((?![Pp]oetic).)*$\")) &\n",
    "    (F.col(\"location_name\").rlike(\"^((?![Ss]anctuary).)*$\")) &\n",
    "    (F.col(\"location_name\").rlike(\"^((?![Ee]quipping).)*$\")) &\n",
    "    (F.col(\"location_name\").rlike(\"^((?![Jj]ohn).)*$\")) &\n",
    "    (F.col(\"location_name\").rlike(\"^((?![Aa]ndrew).)*$\")) &\n",
    "    (F.col(\"location_name\").rlike(\"^((?![Ee]manuel).)*$\")) &\n",
    "    (F.col(\"location_name\").rlike(\"^((?![Rr]edeemed).)*$\")) &\n",
    "    (F.col(\"location_name\").rlike(\"^((?![Pp]erfecting).)*$\")) &\n",
    "    (F.col(\"location_name\").rlike(\"^((?![Aa]ngel).)*$\")) &\n",
    "    (F.col(\"location_name\").rlike(\"^((?![Aa]rchangel).)*$\")) &\n",
    "    (F.col(\"location_name\").rlike(\"^((?![Mm]icheal).)*$\")) &\n",
    "    (F.col(\"location_name\").rlike(\"^((?![Tt]hought).)*$\")) &\n",
    "    (F.col(\"location_name\").rlike(\"^((?![Pp]ariosse).)*$\")) &\n",
    "    (F.col(\"location_name\").rlike(\"^((?![Cc]osmas).)*$\")) &\n",
    "    (F.col(\"location_name\").rlike(\"^((?![Dd]eliverance).)*$\")) &\n",
    "    (F.col(\"location_name\").rlike(\"^((?![Ss]ociete).)*$\")) &\n",
    "    (F.col(\"location_name\").rlike(\"^((?![Tt]emple).)*$\")) &\n",
    "    (F.col(\"location_name\").rlike(\"^((?![Ss]eminary).)*$\")) &\n",
    "    (F.col(\"location_name\").rlike(\"^((?![Ee]mployment).)*$\")) &\n",
    "    (F.col(\"location_name\").rlike(\"^((?![Ii]nstitute).)*$\")) &\n",
    "    (F.col(\"location_name\").rlike(\"^((?![Cc]amp).)*$\")) &\n",
    "    (F.col(\"location_name\").rlike(\"^((?![Ss]tudent).)*$\")) &\n",
    "    (F.col(\"location_name\").rlike(\"^((?![Ee]ducation).)*$\")) &\n",
    "    (F.col(\"location_name\").rlike(\"^((?![Ss]ocial).)*$\")) &\n",
    "    (F.col(\"location_name\").rlike(\"^((?![Ww]welfare).)*$\")) &\n",
    "    (F.col(\"location_name\").rlike(\"^((?![Cc][Ee][Ss]).)*$\")) &\n",
    "    (F.col(\"location_name\").rlike(\"^((?![Ff]amily).)*$\")) &\n",
    "    (F.col(\"location_name\").rlike(\"^((?![Mm]ary).)*$\")) &\n",
    "    (F.col(\"location_name\").rlike(\"^((?![Rr]ussian).)*$\")) &\n",
    "    (F.col(\"location_name\").rlike(\"^((?![Bb]eautif).)*$\")) &\n",
    "    (F.col(\"location_name\").rlike(\"^((?![Hh]eaven).)*$\")) &    \n",
    "    (F.col(\"location_name\").rlike(\"^((?!Inc).)*$\")) &\n",
    "    (F.col(\"location_name\").rlike(\"^((?!God).)*$\"))\n",
    "  )"
   ]
  },
  {
   "cell_type": "code",
   "execution_count": 0,
   "metadata": {
    "application/vnd.databricks.v1+cell": {
     "cellMetadata": {
      "byteLimit": 2048000,
      "rowLimit": 10000
     },
     "inputWidgets": {},
     "nuid": "31bcb38e-6ec5-4cad-9d33-a61dc1968c90",
     "showTitle": false,
     "title": ""
    }
   },
   "outputs": [
    {
     "output_type": "display_data",
     "data": {
      "text/html": [
       "<style scoped>\n",
       "  .table-result-container {\n",
       "    max-height: 300px;\n",
       "    overflow: auto;\n",
       "  }\n",
       "  table, th, td {\n",
       "    border: 1px solid black;\n",
       "    border-collapse: collapse;\n",
       "  }\n",
       "  th, td {\n",
       "    padding: 5px;\n",
       "  }\n",
       "  th {\n",
       "    text-align: left;\n",
       "  }\n",
       "</style><div class='table-result-container'><table class='table-result'><thead style='background-color: white'><tr><th>tractcode</th><th>HasTemple</th></tr></thead><tbody><tr><td>16001010332</td><td>true</td></tr><tr><td>16019971200</td><td>true</td></tr><tr><td>16001001900</td><td>true</td></tr><tr><td>16083000200</td><td>true</td></tr><tr><td>16065950301</td><td>true</td></tr></tbody></table></div>"
      ]
     },
     "metadata": {
      "application/vnd.databricks.v1+output": {
       "addedWidgets": {},
       "aggData": [],
       "aggError": "",
       "aggOverflow": false,
       "aggSchema": [],
       "aggSeriesLimitReached": false,
       "aggType": "",
       "arguments": {},
       "columnCustomDisplayInfos": {},
       "data": [
        [
         "16001010332",
         true
        ],
        [
         "16019971200",
         true
        ],
        [
         "16001001900",
         true
        ],
        [
         "16083000200",
         true
        ],
        [
         "16065950301",
         true
        ]
       ],
       "datasetInfos": [],
       "dbfsResultPath": null,
       "isJsonSchema": true,
       "metadata": {},
       "overflow": false,
       "plotOptions": {
        "customPlotOptions": {},
        "displayType": "table",
        "pivotAggregation": null,
        "pivotColumns": null,
        "xColumns": null,
        "yColumns": null
       },
       "removedWidgets": [],
       "schema": [
        {
         "metadata": "{}",
         "name": "tractcode",
         "type": "\"string\""
        },
        {
         "metadata": "{}",
         "name": "HasTemple",
         "type": "\"boolean\""
        }
       ],
       "type": "table"
      }
     },
     "output_type": "display_data"
    }
   ],
   "source": [
    "Temple = county\\\n",
    "    .withColumn(\"HasTemple\", (col(\"location_name\").isin([\"Rexburg Idaho Temple\", \"Church of Jesus Christ of Latter Day Saints Twin Falls Temple\", \"Church of Jesus Christ of Latter Day Saints Meridian Temple\", \"Idaho Falls Idaho Temple\"]))|(col(\"placekey\") == \"zzw-222@5w9-jb8-5fz\"))\n",
    "Temple = Temple\\\n",
    "    .groupBy(\"tractcode\",\"HasTemple\")\\\n",
    "        .agg(sum(\"raw_visit_counts\"))\\\n",
    "    .select(\"tractcode\",\"HasTemple\")\n",
    "    \n",
    "    # .select(\"HasTemple\",\"tractcode\")\n",
    "Temple.filter(col(\"HasTemple\") ==\"True\").display()\n",
    "# Temple.display()\n"
   ]
  },
  {
   "cell_type": "code",
   "execution_count": 0,
   "metadata": {
    "application/vnd.databricks.v1+cell": {
     "cellMetadata": {
      "byteLimit": 2048000,
      "rowLimit": 10000
     },
     "inputWidgets": {},
     "nuid": "4f2c22f3-47e3-4899-b426-ce3f8c37f862",
     "showTitle": false,
     "title": ""
    }
   },
   "outputs": [],
   "source": [
    "JustChurch = lds_church\\\n",
    "    .filter(col(\"placekey\") != \"zzw-222@5w9-jb8-5fz\")\\\n",
    "    .select(\"placekey\", \"location_name\", \"city\", \"county\", \"tract\", \"top_category\", \"sub_category\", \"popularity_by_hour\",\"popularity_by_day\", \"raw_visit_counts\", \"raw_visitor_counts\", \"visitor_home_aggregation\", \"visitor_daytime_cbgs\", \"normalized_visits_by_state_scaling\", \"normalized_visits_by_region_naics_visits\", \"normalized_visits_by_region_naics_visitors\", \"normalized_visits_by_total_visits\", \"latitude\", \"longitude\", \"tractname\", \"tractcode\",\"date_range_start\", \"date_range_end\")\n",
    "\n",
    "# JustChurch.display()\n"
   ]
  },
  {
   "cell_type": "code",
   "execution_count": 0,
   "metadata": {
    "application/vnd.databricks.v1+cell": {
     "cellMetadata": {
      "byteLimit": 2048000,
      "rowLimit": 10000
     },
     "inputWidgets": {},
     "nuid": "29bb5b7c-4202-4f20-a60b-5fb8c59a3400",
     "showTitle": false,
     "title": ""
    }
   },
   "outputs": [],
   "source": [
    "scaledChurch = JustChurch\\\n",
    "    .select(\"*\",F.explode(\"popularity_by_day\").alias(\"days\",\"VisitorDayCount\"))\\\n",
    "    .filter(col(\"days\") == \"Sunday\")\\\n",
    "    .drop(\"days\",\"tractcode\")\\\n",
    "    .select(\"*\",F.explode(\"visitor_home_aggregation\").alias(\"tractcode\",\"tract_counts\"))\\\n",
    "        .withColumn(\"state_scaled_tracts\",(col(\"tract_counts\")/col(\"VisitorDayCount\"))*(col(\"normalized_visits_by_state_scaling\")/col(\"VisitorDayCount\")))\\\n",
    "    .groupBy(\"tractcode\")\\\n",
    "        .agg(sum(\"state_scaled_tracts\").alias(\"sum_state_tract\"))\n",
    "# scaledChurch.display()"
   ]
  },
  {
   "cell_type": "code",
   "execution_count": 0,
   "metadata": {
    "application/vnd.databricks.v1+cell": {
     "cellMetadata": {
      "byteLimit": 2048000,
      "rowLimit": 10000
     },
     "inputWidgets": {},
     "nuid": "3a5025d3-d04b-4028-a3ce-7de71033e549",
     "showTitle": false,
     "title": ""
    }
   },
   "outputs": [],
   "source": [
    "# membershipTract = JustChurch.join(other=scaledChurch, on=\"tractcode\", how=\"inner\")\n",
    "membershipTract = JustChurch.join(other=Temple, on=\"tractcode\", how=\"inner\")\n",
    "membershipTractCode = membershipTract.join(other=scaledChurch, on=\"tractcode\", how=\"inner\")\n",
    "    # .dropDuplicates([\"placekey\"])\n"
   ]
  },
  {
   "cell_type": "code",
   "execution_count": 0,
   "metadata": {
    "application/vnd.databricks.v1+cell": {
     "cellMetadata": {
      "byteLimit": 2048000,
      "rowLimit": 10000
     },
     "inputWidgets": {},
     "nuid": "b1d4555b-8a1a-4834-8d21-c129b5e561fe",
     "showTitle": false,
     "title": ""
    }
   },
   "outputs": [],
   "source": [
    "MemberGraph = membershipTractCode\\\n",
    "    .select(\"tractcode\",\"placekey\",\"location_name\",\"city\",\"county\",\"latitude\",\"longitude\",\"sum_state_tract\",\"tract\",\"HasTemple\")\\\n",
    "    .toPandas()\n"
   ]
  },
  {
   "cell_type": "markdown",
   "metadata": {
    "application/vnd.databricks.v1+cell": {
     "cellMetadata": {
      "byteLimit": 2048000,
      "rowLimit": 10000
     },
     "inputWidgets": {},
     "nuid": "31c41e32-bb8a-4904-b041-95cb9f00aaf1",
     "showTitle": false,
     "title": ""
    }
   },
   "source": [
    "\n",
    "graph 2: x=Tract, y =sum_state_tract, color = with temple "
   ]
  },
  {
   "cell_type": "code",
   "execution_count": 0,
   "metadata": {
    "application/vnd.databricks.v1+cell": {
     "cellMetadata": {
      "byteLimit": 2048000,
      "rowLimit": 10000
     },
     "inputWidgets": {},
     "nuid": "86c96703-68b5-4685-b361-1ac4e5723801",
     "showTitle": false,
     "title": ""
    }
   },
   "outputs": [
    {
     "output_type": "display_data",
     "data": {
      "text/html": [
       "<html>\n",
       "<head><meta charset=\"utf-8\" /></head>\n",
       "<body>\n",
       "    <div>            <script src=\"https://cdnjs.cloudflare.com/ajax/libs/mathjax/2.7.5/MathJax.js?config=TeX-AMS-MML_SVG\"></script><script type=\"text/javascript\">if (window.MathJax && window.MathJax.Hub && window.MathJax.Hub.Config) {window.MathJax.Hub.Config({SVG: {font: \"STIX-Web\"}});}</script>                <script type=\"text/javascript\">window.PlotlyConfig = {MathJaxConfig: 'local'};</script>\n",
       "        <script src=\"https://cdn.plot.ly/plotly-2.12.1.min.js\"></script>                <div id=\"1c99d56b-5b22-4cb3-80bf-9c7f75f5db28\" class=\"plotly-graph-div\" style=\"height:100%; width:100%;\"></div>            <script type=\"text/javascript\">                                    window.PLOTLYENV=window.PLOTLYENV || {};                                    if (document.getElementById(\"1c99d56b-5b22-4cb3-80bf-9c7f75f5db28\")) {                    Plotly.newPlot(                        \"1c99d56b-5b22-4cb3-80bf-9c7f75f5db28\",                        [{\"hovertemplate\":\"HasTemple=False<br>tractcode=%{x}<br>sum_state_tract=%{y}<extra></extra>\",\"legendgroup\":\"False\",\"marker\":{\"color\":\"#636efa\",\"symbol\":\"circle\"},\"mode\":\"markers\",\"name\":\"False\",\"orientation\":\"v\",\"showlegend\":true,\"x\":[\"16027021700\",\"16001002410\",\"16001002000\",\"16001010313\",\"16019971000\",\"16019971302\",\"16019970602\",\"16001001100\",\"16027020401\",\"16001010321\",\"16001010313\",\"16001000804\",\"16001000500\",\"16043970300\",\"16019971302\",\"16019971100\",\"16019970300\",\"16067970400\",\"16083000200\",\"16001000900\",\"16049960400\",\"16001010331\",\"16043970200\",\"16043970300\",\"16019971100\",\"16019970402\",\"16031950200\",\"16047960200\",\"16053970400\",\"16083001500\",\"16041970100\",\"16027020700\",\"16019970503\",\"16001010322\",\"16057005100\",\"16019970501\",\"16011950500\",\"16005001900\",\"16077960200\",\"16007950100\",\"16001001600\",\"16065950301\",\"16027020901\",\"16005001101\",\"16019970300\",\"16019970300\",\"16019970402\",\"16083000800\",\"16011950700\",\"16011950100\",\"16005001700\",\"16019970300\",\"16001010221\",\"16001000100\",\"16031950100\",\"16067970500\",\"16031950500\",\"16031950400\",\"16067970500\",\"16041970200\",\"16001002413\",\"16001010221\",\"16001000100\",\"16065950500\",\"16011950100\",\"16001000900\",\"16065950301\",\"16019970601\",\"16067970400\",\"16031950400\",\"16029960200\",\"16011950100\",\"16027021600\",\"16043970300\",\"16019970501\",\"16005001200\",\"16001002411\",\"16001001202\",\"16039960400\",\"16065950301\",\"16043970200\",\"16051960200\",\"16067970400\",\"16011950500\",\"16011950100\",\"16029960200\",\"16007950100\",\"16045960300\",\"16001010313\",\"16001000900\",\"16045960200\",\"16031950400\",\"16031950600\",\"16053970300\",\"16083000500\",\"16011950100\",\"16005000300\",\"16023970100\",\"16041970100\",\"16041970100\",\"16019971302\",\"16055001200\",\"16027021100\",\"16001001700\",\"16075960200\",\"16019970403\",\"16083000800\",\"16077960200\",\"16019970800\",\"16001010225\",\"16019970501\",\"16005001200\",\"16001001800\",\"16019971100\",\"16001001700\",\"16001000100\",\"16005001101\",\"16001010221\",\"16001010224\",\"16001002222\",\"16001001900\",\"16039960300\",\"16043970200\",\"16043970300\",\"16019971400\",\"16031950300\",\"16067970200\",\"16005000700\",\"16005001101\",\"16027021901\",\"16039960500\",\"16073950101\",\"16065950100\",\"16031950500\",\"16031950300\",\"16067970400\",\"16067970500\",\"16083000900\",\"16083001000\",\"16005001700\",\"16023970100\",\"16041970100\",\"16001002413\",\"16001001202\",\"16043970300\",\"16019971301\",\"16019970602\",\"16019971200\",\"16051960300\",\"16083000800\",\"16005000600\",\"16011950100\",\"16005001101\",\"16029960200\",\"16071960100\",\"16041970100\",\"16005000900\",\"16065950301\",\"16077960200\",\"16019971200\",\"16001010223\",\"16001000802\",\"16069961000\",\"16065950500\",\"16043970100\",\"16083000200\",\"16011950100\",\"16005001900\",\"16087970100\",\"16001001500\",\"16043970300\",\"16019970603\",\"16019971100\",\"16019970502\",\"16031950200\",\"16083001300\",\"16083000200\",\"16001010335\",\"16001000803\",\"16019970800\",\"16051960400\",\"16019970402\",\"16031950600\",\"16011950500\",\"16039960400\",\"16027021002\",\"16027022400\",\"16001001900\",\"16075960400\",\"16019971000\",\"16053970400\",\"16027021500\",\"16027020602\",\"16001002000\",\"16007950100\",\"16001010322\",\"16051960200\",\"16065950301\",\"16043970300\",\"16043970300\",\"16047960100\",\"16083000800\",\"16005001500\",\"16005000300\",\"16005001101\",\"16029960100\",\"16039960300\",\"16011950500\",\"16001002413\",\"16001002413\",\"16001000500\",\"16087970200\",\"16083001300\",\"16083001400\",\"16055001100\",\"16001010401\",\"16065950100\",\"16065950100\",\"16005001300\",\"16005001000\",\"16011950100\",\"16019971200\",\"16051960300\",\"16067970200\",\"16067970400\",\"16001000302\",\"16001010331\",\"16019970501\",\"16011950100\",\"16019971000\",\"16067970200\",\"16083001200\",\"16011950500\",\"16005000400\",\"16001010334\",\"16045960300\",\"16057005100\",\"16065950301\",\"16065950301\",\"16031950100\",\"16067970200\",\"16019970501\",\"16029960100\",\"16001002221\",\"16001010504\",\"16031950500\",\"16001010313\",\"16065950200\",\"16043970300\",\"16019971302\",\"16019971200\",\"16067970200\",\"16011950500\",\"16005001500\",\"16065950200\",\"16019970601\",\"16055001100\",\"16001010321\",\"16075960200\",\"16087970300\",\"16065950200\",\"16043970300\",\"16019970401\",\"16011950400\",\"16011950100\",\"16027020503\",\"16037960200\",\"16001010331\",\"16001010313\",\"16001002312\",\"16001002222\",\"16065950302\",\"16019970900\",\"16031950400\",\"16031950600\",\"16011950500\",\"16011950600\",\"16011950700\",\"16005001900\",\"16029960100\",\"16013960200\"],\"xaxis\":\"x\",\"y\":[32.02528582368432,361.565755731405,20.868535219455158,11597.328066028798,34.41636332625047,226.27797205337643,703.3862066060983,281.27034150976004,65.40942383821832,1282.6743675221576,11597.328066028798,40.59684171883345,1407.071131229391,1514.137008201066,226.27797205337643,857.0843608934962,23049.837022158154,55.477914768791564,286.5658468736291,199.95736224970975,48.67033279035132,3920.873745986036,59.34001701542873,1514.137008201066,857.0843608934962,13053.782410478982,2381.0562530461034,251.47619829808144,3386.011641093741,10.3506690563897,279.5445073080837,34.82933616232022,13606.929687379843,2840.5003056580035,2.9698839426807475,650.7362564229866,13763.046037985812,67853.99102224343,110.53071811191721,20567.289906641538,4.407381458361061,128.85472870373,19920.02395712867,17004.260121989293,23049.837022158154,23049.837022158154,13053.782410478982,321.3913152748617,93.0148631176644,37188.85768826926,135.57684941828256,23049.837022158154,37.77163385317607,1304.8515457920034,369.80824487253255,112.00872786496404,172.50788217332152,39.13352589296072,112.00872786496404,98.40205416199359,1970.319419182466,37.77163385317607,1304.8515457920034,466.9180467335073,37188.85768826926,199.95736224970975,128.85472870373,90.13602907355758,55.477914768791564,39.13352589296072,48527.96584327886,37188.85768826926,15.085136797071716,1514.137008201066,650.7362564229866,13657.599172513714,40.16990000953849,25.535700939361924,141.85297941587524,128.85472870373,59.34001701542873,16223.804267076626,55.477914768791564,13763.046037985812,37188.85768826926,48527.96584327886,20567.289906641538,196.96318949786271,11597.328066028798,199.95736224970975,229.899072399938,39.13352589296072,38.90806680001165,6422.6097656266,285.4902307992735,37188.85768826926,824.9109951992209,22741.944414226695,279.5445073080837,279.5445073080837,226.27797205337643,1.259139598286616,1534.4450239832968,173.81981643011883,10.134849697584222,13762.772541253762,321.3913152748617,110.53071811191721,681.6481763701995,1315.057666084109,650.7362564229866,13657.599172513714,1658.4922381727445,857.0843608934962,173.81981643011883,1304.8515457920034,17004.260121989293,37.77163385317607,7.571522530188124,22.141334269040584,54.11764327106657,116.66006351714994,59.34001701542873,1514.137008201066,15885.836565841511,452.81622424173844,332.64718764678184,30.012785547296787,17004.260121989293,208.5153386305004,30.396072785218028,75.01270468423128,97.27239907876996,172.50788217332152,452.81622424173844,55.477914768791564,112.00872786496404,62.348160547405676,35.9851935353772,135.57684941828256,22741.944414226695,279.5445073080837,1970.319419182466,25.535700939361924,1514.137008201066,109.68016513721648,703.3862066060983,1488.6045761108016,29998.42146364148,321.3913152748617,12953.185604025723,37188.85768826926,17004.260121989293,48527.96584327886,16.968613575850334,279.5445073080837,49.89387014059925,128.85472870373,110.53071811191721,1488.6045761108016,27.797736386573877,2174.6714288894104,4.232751606363157,466.9180467335073,259.1739601904173,286.5658468736291,37188.85768826926,67853.99102224343,17.532249551356486,189.4515709514595,1514.137008201066,602.0563302821872,857.0843608934962,13010.649467755773,2381.0562530461034,119.87837984408861,286.5658468736291,16927.631033807273,41.556216562837534,681.6481763701995,45950.00768029508,13053.782410478982,38.90806680001165,13763.046037985812,141.85297941587524,107.01184019748439,196.4904342476066,54.11764327106657,625.5094136164871,34.41636332625047,3386.011641093741,77.86802930684932,84.5106874637946,20.868535219455158,20567.289906641538,2840.5003056580035,16223.804267076626,128.85472870373,1514.137008201066,1514.137008201066,15078.852119186913,321.3913152748617,161.68700368337832,824.9109951992209,17004.260121989293,35913.683700792324,116.66006351714994,13763.046037985812,1970.319419182466,1970.319419182466,1407.071131229391,28338.845087610913,119.87837984408861,10.687861493294228,8.075201941014027,7035.454706075091,97.27239907876996,97.27239907876996,172.1493019757007,256.91731273464035,37188.85768826926,1488.6045761108016,29998.42146364148,332.64718764678184,55.477914768791564,3805.5759253984143,3920.873745986036,650.7362564229866,37188.85768826926,34.41636332625047,332.64718764678184,1532.3192247733377,13763.046037985812,16686.212016896792,12272.105383504997,196.96318949786271,2.9698839426807475,128.85472870373,128.85472870373,369.80824487253255,332.64718764678184,650.7362564229866,35913.683700792324,1310.7042779418339,2186.435535524401,172.50788217332152,11597.328066028798,102.91369665268206,1514.137008201066,226.27797205337643,1488.6045761108016,332.64718764678184,13763.046037985812,161.68700368337832,102.91369665268206,90.13602907355758,8.075201941014027,1282.6743675221576,10.134849697584222,30232.107085959396,102.91369665268206,1514.137008201066,412.17711742525694,1597.6680727735672,37188.85768826926,15358.478869505658,896.5997713829778,3920.873745986036,11597.328066028798,437.2845159693891,22.141334269040584,26356.92884796158,1353.9569298806932,39.13352589296072,38.90806680001165,13763.046037985812,435.81110289422764,93.0148631176644,67853.99102224343,35913.683700792324,11.91403553187872],\"yaxis\":\"y\",\"type\":\"scatter\"},{\"hovertemplate\":\"HasTemple=True<br>tractcode=%{x}<br>sum_state_tract=%{y}<extra></extra>\",\"legendgroup\":\"True\",\"marker\":{\"color\":\"#EF553B\",\"symbol\":\"circle\"},\"mode\":\"markers\",\"name\":\"True\",\"orientation\":\"v\",\"showlegend\":true,\"x\":[\"16083000200\",\"16065950301\",\"16065950301\",\"16065950301\",\"16001001900\",\"16019971200\",\"16065950301\",\"16019971200\",\"16083000200\",\"16083000200\",\"16001001900\",\"16065950301\",\"16019971200\",\"16065950301\",\"16065950301\",\"16019971200\"],\"xaxis\":\"x\",\"y\":[286.5658468736291,128.85472870373,128.85472870373,128.85472870373,54.11764327106657,1488.6045761108016,128.85472870373,1488.6045761108016,286.5658468736291,286.5658468736291,54.11764327106657,128.85472870373,1488.6045761108016,128.85472870373,128.85472870373,1488.6045761108016],\"yaxis\":\"y\",\"type\":\"scatter\"}],                        {\"template\":{\"data\":{\"histogram2dcontour\":[{\"type\":\"histogram2dcontour\",\"colorbar\":{\"outlinewidth\":0,\"ticks\":\"\"},\"colorscale\":[[0.0,\"#0d0887\"],[0.1111111111111111,\"#46039f\"],[0.2222222222222222,\"#7201a8\"],[0.3333333333333333,\"#9c179e\"],[0.4444444444444444,\"#bd3786\"],[0.5555555555555556,\"#d8576b\"],[0.6666666666666666,\"#ed7953\"],[0.7777777777777778,\"#fb9f3a\"],[0.8888888888888888,\"#fdca26\"],[1.0,\"#f0f921\"]]}],\"choropleth\":[{\"type\":\"choropleth\",\"colorbar\":{\"outlinewidth\":0,\"ticks\":\"\"}}],\"histogram2d\":[{\"type\":\"histogram2d\",\"colorbar\":{\"outlinewidth\":0,\"ticks\":\"\"},\"colorscale\":[[0.0,\"#0d0887\"],[0.1111111111111111,\"#46039f\"],[0.2222222222222222,\"#7201a8\"],[0.3333333333333333,\"#9c179e\"],[0.4444444444444444,\"#bd3786\"],[0.5555555555555556,\"#d8576b\"],[0.6666666666666666,\"#ed7953\"],[0.7777777777777778,\"#fb9f3a\"],[0.8888888888888888,\"#fdca26\"],[1.0,\"#f0f921\"]]}],\"heatmap\":[{\"type\":\"heatmap\",\"colorbar\":{\"outlinewidth\":0,\"ticks\":\"\"},\"colorscale\":[[0.0,\"#0d0887\"],[0.1111111111111111,\"#46039f\"],[0.2222222222222222,\"#7201a8\"],[0.3333333333333333,\"#9c179e\"],[0.4444444444444444,\"#bd3786\"],[0.5555555555555556,\"#d8576b\"],[0.6666666666666666,\"#ed7953\"],[0.7777777777777778,\"#fb9f3a\"],[0.8888888888888888,\"#fdca26\"],[1.0,\"#f0f921\"]]}],\"heatmapgl\":[{\"type\":\"heatmapgl\",\"colorbar\":{\"outlinewidth\":0,\"ticks\":\"\"},\"colorscale\":[[0.0,\"#0d0887\"],[0.1111111111111111,\"#46039f\"],[0.2222222222222222,\"#7201a8\"],[0.3333333333333333,\"#9c179e\"],[0.4444444444444444,\"#bd3786\"],[0.5555555555555556,\"#d8576b\"],[0.6666666666666666,\"#ed7953\"],[0.7777777777777778,\"#fb9f3a\"],[0.8888888888888888,\"#fdca26\"],[1.0,\"#f0f921\"]]}],\"contourcarpet\":[{\"type\":\"contourcarpet\",\"colorbar\":{\"outlinewidth\":0,\"ticks\":\"\"}}],\"contour\":[{\"type\":\"contour\",\"colorbar\":{\"outlinewidth\":0,\"ticks\":\"\"},\"colorscale\":[[0.0,\"#0d0887\"],[0.1111111111111111,\"#46039f\"],[0.2222222222222222,\"#7201a8\"],[0.3333333333333333,\"#9c179e\"],[0.4444444444444444,\"#bd3786\"],[0.5555555555555556,\"#d8576b\"],[0.6666666666666666,\"#ed7953\"],[0.7777777777777778,\"#fb9f3a\"],[0.8888888888888888,\"#fdca26\"],[1.0,\"#f0f921\"]]}],\"surface\":[{\"type\":\"surface\",\"colorbar\":{\"outlinewidth\":0,\"ticks\":\"\"},\"colorscale\":[[0.0,\"#0d0887\"],[0.1111111111111111,\"#46039f\"],[0.2222222222222222,\"#7201a8\"],[0.3333333333333333,\"#9c179e\"],[0.4444444444444444,\"#bd3786\"],[0.5555555555555556,\"#d8576b\"],[0.6666666666666666,\"#ed7953\"],[0.7777777777777778,\"#fb9f3a\"],[0.8888888888888888,\"#fdca26\"],[1.0,\"#f0f921\"]]}],\"mesh3d\":[{\"type\":\"mesh3d\",\"colorbar\":{\"outlinewidth\":0,\"ticks\":\"\"}}],\"scatter\":[{\"fillpattern\":{\"fillmode\":\"overlay\",\"size\":10,\"solidity\":0.2},\"type\":\"scatter\"}],\"parcoords\":[{\"type\":\"parcoords\",\"line\":{\"colorbar\":{\"outlinewidth\":0,\"ticks\":\"\"}}}],\"scatterpolargl\":[{\"type\":\"scatterpolargl\",\"marker\":{\"colorbar\":{\"outlinewidth\":0,\"ticks\":\"\"}}}],\"bar\":[{\"error_x\":{\"color\":\"#2a3f5f\"},\"error_y\":{\"color\":\"#2a3f5f\"},\"marker\":{\"line\":{\"color\":\"#E5ECF6\",\"width\":0.5},\"pattern\":{\"fillmode\":\"overlay\",\"size\":10,\"solidity\":0.2}},\"type\":\"bar\"}],\"scattergeo\":[{\"type\":\"scattergeo\",\"marker\":{\"colorbar\":{\"outlinewidth\":0,\"ticks\":\"\"}}}],\"scatterpolar\":[{\"type\":\"scatterpolar\",\"marker\":{\"colorbar\":{\"outlinewidth\":0,\"ticks\":\"\"}}}],\"histogram\":[{\"marker\":{\"pattern\":{\"fillmode\":\"overlay\",\"size\":10,\"solidity\":0.2}},\"type\":\"histogram\"}],\"scattergl\":[{\"type\":\"scattergl\",\"marker\":{\"colorbar\":{\"outlinewidth\":0,\"ticks\":\"\"}}}],\"scatter3d\":[{\"type\":\"scatter3d\",\"line\":{\"colorbar\":{\"outlinewidth\":0,\"ticks\":\"\"}},\"marker\":{\"colorbar\":{\"outlinewidth\":0,\"ticks\":\"\"}}}],\"scattermapbox\":[{\"type\":\"scattermapbox\",\"marker\":{\"colorbar\":{\"outlinewidth\":0,\"ticks\":\"\"}}}],\"scatterternary\":[{\"type\":\"scatterternary\",\"marker\":{\"colorbar\":{\"outlinewidth\":0,\"ticks\":\"\"}}}],\"scattercarpet\":[{\"type\":\"scattercarpet\",\"marker\":{\"colorbar\":{\"outlinewidth\":0,\"ticks\":\"\"}}}],\"carpet\":[{\"aaxis\":{\"endlinecolor\":\"#2a3f5f\",\"gridcolor\":\"white\",\"linecolor\":\"white\",\"minorgridcolor\":\"white\",\"startlinecolor\":\"#2a3f5f\"},\"baxis\":{\"endlinecolor\":\"#2a3f5f\",\"gridcolor\":\"white\",\"linecolor\":\"white\",\"minorgridcolor\":\"white\",\"startlinecolor\":\"#2a3f5f\"},\"type\":\"carpet\"}],\"table\":[{\"cells\":{\"fill\":{\"color\":\"#EBF0F8\"},\"line\":{\"color\":\"white\"}},\"header\":{\"fill\":{\"color\":\"#C8D4E3\"},\"line\":{\"color\":\"white\"}},\"type\":\"table\"}],\"barpolar\":[{\"marker\":{\"line\":{\"color\":\"#E5ECF6\",\"width\":0.5},\"pattern\":{\"fillmode\":\"overlay\",\"size\":10,\"solidity\":0.2}},\"type\":\"barpolar\"}],\"pie\":[{\"automargin\":true,\"type\":\"pie\"}]},\"layout\":{\"autotypenumbers\":\"strict\",\"colorway\":[\"#636efa\",\"#EF553B\",\"#00cc96\",\"#ab63fa\",\"#FFA15A\",\"#19d3f3\",\"#FF6692\",\"#B6E880\",\"#FF97FF\",\"#FECB52\"],\"font\":{\"color\":\"#2a3f5f\"},\"hovermode\":\"closest\",\"hoverlabel\":{\"align\":\"left\"},\"paper_bgcolor\":\"white\",\"plot_bgcolor\":\"#E5ECF6\",\"polar\":{\"bgcolor\":\"#E5ECF6\",\"angularaxis\":{\"gridcolor\":\"white\",\"linecolor\":\"white\",\"ticks\":\"\"},\"radialaxis\":{\"gridcolor\":\"white\",\"linecolor\":\"white\",\"ticks\":\"\"}},\"ternary\":{\"bgcolor\":\"#E5ECF6\",\"aaxis\":{\"gridcolor\":\"white\",\"linecolor\":\"white\",\"ticks\":\"\"},\"baxis\":{\"gridcolor\":\"white\",\"linecolor\":\"white\",\"ticks\":\"\"},\"caxis\":{\"gridcolor\":\"white\",\"linecolor\":\"white\",\"ticks\":\"\"}},\"coloraxis\":{\"colorbar\":{\"outlinewidth\":0,\"ticks\":\"\"}},\"colorscale\":{\"sequential\":[[0.0,\"#0d0887\"],[0.1111111111111111,\"#46039f\"],[0.2222222222222222,\"#7201a8\"],[0.3333333333333333,\"#9c179e\"],[0.4444444444444444,\"#bd3786\"],[0.5555555555555556,\"#d8576b\"],[0.6666666666666666,\"#ed7953\"],[0.7777777777777778,\"#fb9f3a\"],[0.8888888888888888,\"#fdca26\"],[1.0,\"#f0f921\"]],\"sequentialminus\":[[0.0,\"#0d0887\"],[0.1111111111111111,\"#46039f\"],[0.2222222222222222,\"#7201a8\"],[0.3333333333333333,\"#9c179e\"],[0.4444444444444444,\"#bd3786\"],[0.5555555555555556,\"#d8576b\"],[0.6666666666666666,\"#ed7953\"],[0.7777777777777778,\"#fb9f3a\"],[0.8888888888888888,\"#fdca26\"],[1.0,\"#f0f921\"]],\"diverging\":[[0,\"#8e0152\"],[0.1,\"#c51b7d\"],[0.2,\"#de77ae\"],[0.3,\"#f1b6da\"],[0.4,\"#fde0ef\"],[0.5,\"#f7f7f7\"],[0.6,\"#e6f5d0\"],[0.7,\"#b8e186\"],[0.8,\"#7fbc41\"],[0.9,\"#4d9221\"],[1,\"#276419\"]]},\"xaxis\":{\"gridcolor\":\"white\",\"linecolor\":\"white\",\"ticks\":\"\",\"title\":{\"standoff\":15},\"zerolinecolor\":\"white\",\"automargin\":true,\"zerolinewidth\":2},\"yaxis\":{\"gridcolor\":\"white\",\"linecolor\":\"white\",\"ticks\":\"\",\"title\":{\"standoff\":15},\"zerolinecolor\":\"white\",\"automargin\":true,\"zerolinewidth\":2},\"scene\":{\"xaxis\":{\"backgroundcolor\":\"#E5ECF6\",\"gridcolor\":\"white\",\"linecolor\":\"white\",\"showbackground\":true,\"ticks\":\"\",\"zerolinecolor\":\"white\",\"gridwidth\":2},\"yaxis\":{\"backgroundcolor\":\"#E5ECF6\",\"gridcolor\":\"white\",\"linecolor\":\"white\",\"showbackground\":true,\"ticks\":\"\",\"zerolinecolor\":\"white\",\"gridwidth\":2},\"zaxis\":{\"backgroundcolor\":\"#E5ECF6\",\"gridcolor\":\"white\",\"linecolor\":\"white\",\"showbackground\":true,\"ticks\":\"\",\"zerolinecolor\":\"white\",\"gridwidth\":2}},\"shapedefaults\":{\"line\":{\"color\":\"#2a3f5f\"}},\"annotationdefaults\":{\"arrowcolor\":\"#2a3f5f\",\"arrowhead\":0,\"arrowwidth\":1},\"geo\":{\"bgcolor\":\"white\",\"landcolor\":\"#E5ECF6\",\"subunitcolor\":\"white\",\"showland\":true,\"showlakes\":true,\"lakecolor\":\"white\"},\"title\":{\"x\":0.05},\"mapbox\":{\"style\":\"light\"}}},\"xaxis\":{\"anchor\":\"y\",\"domain\":[0.0,1.0],\"title\":{\"text\":\"Census Block Groups\"}},\"yaxis\":{\"anchor\":\"x\",\"domain\":[0.0,1.0],\"title\":{\"text\":\"Estimated Active Member Count\"}},\"legend\":{\"title\":{\"text\":\"HasTemple\"},\"tracegroupgap\":0},\"title\":{\"text\":\"Does a Temple effect worthy Members\"}},                        {\"responsive\": true}                    )                };                            </script>        </div>\n",
       "</body>\n",
       "</html>"
      ]
     },
     "metadata": {},
     "output_type": "display_data"
    }
   ],
   "source": [
    "fig = px.scatter(data_frame=MemberGraph, x= \"tractcode\", y=\"sum_state_tract\",color=\"HasTemple\",title=\"Does a Temple effect worthy Members\")\n",
    "fig.update_layout(\n",
    "    xaxis_title=\"Census Block Groups\",\n",
    "    yaxis_title=\"Estimated Active Member Count\"\n",
    ")\n",
    "\n",
    "# fig = px.scatter(membershipTractCode, x= \"tractcode\", y=\"sum_state_tract\",color=\"HasTemple\")\n",
    "fig.show()"
   ]
  },
  {
   "cell_type": "code",
   "execution_count": 0,
   "metadata": {
    "application/vnd.databricks.v1+cell": {
     "cellMetadata": {
      "byteLimit": 2048000,
      "rowLimit": 10000
     },
     "inputWidgets": {},
     "nuid": "0fe7f94f-af96-4286-aedf-8905e8d5575b",
     "showTitle": false,
     "title": ""
    }
   },
   "outputs": [
    {
     "output_type": "display_data",
     "data": {
      "text/html": [
       "<html>\n",
       "<head><meta charset=\"utf-8\" /></head>\n",
       "<body>\n",
       "    <div>            <script src=\"https://cdnjs.cloudflare.com/ajax/libs/mathjax/2.7.5/MathJax.js?config=TeX-AMS-MML_SVG\"></script><script type=\"text/javascript\">if (window.MathJax && window.MathJax.Hub && window.MathJax.Hub.Config) {window.MathJax.Hub.Config({SVG: {font: \"STIX-Web\"}});}</script>                <script type=\"text/javascript\">window.PlotlyConfig = {MathJaxConfig: 'local'};</script>\n",
       "        <script src=\"https://cdn.plot.ly/plotly-2.12.1.min.js\"></script>                <div id=\"3b2658e3-8dbf-42c5-924d-f2e886d4898b\" class=\"plotly-graph-div\" style=\"height:100%; width:100%;\"></div>            <script type=\"text/javascript\">                                    window.PLOTLYENV=window.PLOTLYENV || {};                                    if (document.getElementById(\"3b2658e3-8dbf-42c5-924d-f2e886d4898b\")) {                    Plotly.newPlot(                        \"3b2658e3-8dbf-42c5-924d-f2e886d4898b\",                        [{\"lat\":[43.619075,43.64377,43.597478,43.581535,43.485149,43.493328,43.485443,43.641812,43.611858,43.587132,43.560649,43.598481,43.648535,43.970965,43.479416,43.496298,43.593384,42.631197,42.568299,42.568299,43.589075,45.416295,43.66527,44.071564,43.958684,43.479286,43.554106,42.518316,42.821934,42.710216,42.355546,42.228318,43.569122,43.432494,43.618626,46.73572,43.477568,43.189569,42.581694,42.795748,42.328977,43.57379,43.824537,43.824537,43.524101,42.901373,43.590793,43.605379,43.525634,42.574995,43.182112,43.378138,42.818433,43.593421,43.695956,43.619514,42.306285,42.667451,42.475491,42.53232,42.608207,42.08496,43.634415,43.695925,43.619803,43.797879,43.306574,43.603055,43.818269,43.818269,43.498016,42.605575,42.52516,43.033783,43.373855,43.65428,43.970891,43.482628,42.895394,43.650028,43.626062,43.105489,43.817356,43.817356,44.077517,43.695282,42.630676,43.201744,43.382723,42.662072,42.327972,43.990441,43.56521,43.600721,43.894562,42.545043,42.242763,42.725324,42.570274,43.314599,42.928259,43.633955,42.161417,42.100707,43.481936,47.702578,43.635246,43.581137,44.068577,43.526746,42.573256,42.906803,43.498934,43.695074,43.491955,42.896342,43.581373,43.491824,43.588759,43.621474,42.902787,43.705732,43.714093,43.544278,43.570953,43.570953,43.143473,44.072172,43.998669,43.438791,42.450829,42.535657,42.865846,42.909805,43.710987,42.939214,43.617992,43.912278,42.519439,42.491889,42.620128,42.631172,42.572402,42.555168,42.799243,43.783806,42.186892,43.647951,43.626234,43.915011,43.508088,43.486377,43.526234,43.526234,43.674808,42.587936,42.808583,43.373926,42.915369,42.650915,42.20193,42.094745,42.872142,43.829794,43.829794,42.78473,43.50432,43.50432,43.681526,43.570092,46.365338,43.752835,44.519588,42.57626,42.57626,43.373739,42.639574,44.572894,43.597544,43.961881,43.47319,43.491723,43.477509,42.517515,42.532292,42.586804,42.586804,43.687242,43.568263,43.486536,43.629517,43.523673,42.246916,43.153146,43.083144,43.640712,43.485129,43.594339,43.594339,43.969289,43.461127,42.721781,43.660067,43.583495,43.598377,42.311239,43.612311,43.727135,43.840866,43.840866,43.974765,43.887162,42.932795,42.577465,42.894323,42.92243,42.914391,42.572618,43.130447,43.191792,43.647947,43.635189,43.64759,44.246083,42.556399,42.474839,47.729944,43.487668,43.942086,43.870029,42.882734,42.885006,43.306611,43.511345,43.511345,43.669403,42.532001,42.624997,43.666107,43.654961,43.489732,43.31038,43.45087,42.557902,42.542573,43.179089,42.919966,43.618052,43.901154,46.744663,43.80377,43.80377,43.812882,43.812882,42.308023,42.522734,43.467762,42.504089,43.551413,43.54794,42.475533,43.57606,43.822045,43.967664,43.485614,43.499859,43.499859,42.597287,43.174725,42.911758,43.829787,43.503008,47.729966,43.587124,44.02569,44.26035,43.827307,43.968618,43.607524,43.245074,43.373684,43.531459,44.504707,43.662252,43.56063,43.629283,43.561795,43.811211,43.469115,42.526897,42.246903,43.181637,43.255016,43.11145,42.648028,42.717066,43.90876],\"locationmode\":\"USA-states\",\"lon\":[-116.683381,-116.284446,-116.25454,-116.404514,-112.039402,-112.07233,-111.988204,-116.251294,-116.515607,-116.373257,-116.373586,-116.164629,-116.221945,-111.67867,-112.086989,-112.026586,-111.950269,-113.678694,-114.453274,-114.453274,-116.194117,-116.319441,-116.394127,-111.448215,-111.757284,-112.027909,-111.94344,-113.625238,-114.898898,-114.508856,-114.574252,-111.714703,-116.512059,-111.943339,-116.396585,-117.038564,-111.933638,-112.330308,-112.18208,-112.841245,-111.297209,-116.213619,-111.7888,-111.7888,-116.560275,-112.425132,-111.974513,-111.884918,-111.939505,-114.497235,-112.506212,-112.129125,-112.408362,-111.950237,-116.363483,-116.20184,-113.369007,-113.59434,-113.824075,-113.787387,-113.674271,-111.748578,-116.330791,-116.363476,-116.202036,-111.856768,-112.186306,-116.2059,-111.791942,-111.791942,-111.987174,-113.725099,-113.795341,-111.3778,-112.12287,-116.712138,-111.685618,-111.947653,-112.435939,-116.30488,-116.265649,-115.718955,-111.794762,-111.794762,-111.452263,-112.012451,-113.67619,-112.335551,-112.123976,-111.593007,-111.307172,-116.324192,-116.415013,-116.207572,-116.645791,-113.753483,-113.887593,-114.502404,-114.618076,-112.16416,-112.475156,-113.301349,-111.837257,-111.871853,-112.07782,-116.781765,-116.55771,-116.219321,-116.913761,-111.973145,-114.469075,-112.927605,-112.020115,-116.345195,-111.945348,-112.448577,-116.240091,-112.024159,-116.227105,-116.200962,-112.408905,-116.404318,-116.353158,-116.355191,-116.274835,-116.274835,-115.690327,-111.441238,-111.577679,-112.05918,-113.698624,-113.795357,-112.422686,-112.425696,-116.572789,-116.02861,-116.947081,-111.878065,-113.834004,-113.745013,-113.675938,-113.663446,-114.420866,-114.42846,-112.3839,-113.002604,-112.009026,-116.325124,-116.265085,-111.678747,-112.086916,-112.000554,-112.042186,-112.042186,-111.919806,-114.488513,-112.370641,-112.129635,-112.419094,-111.594153,-112.266875,-111.874965,-112.446127,-111.78058,-111.78058,-112.84687,-112.042134,-112.042134,-116.300706,-116.177659,-116.950074,-111.81894,-111.321474,-114.441426,-114.441426,-112.122791,-112.194688,-116.679727,-116.221709,-111.758415,-111.993341,-112.034092,-111.975536,-113.631743,-114.361696,-114.443502,-114.443502,-116.489511,-116.153879,-112.011617,-111.775192,-111.930687,-113.883282,-112.436071,-115.855231,-116.612525,-116.526088,-116.275249,-116.275249,-116.820117,-112.026946,-114.505665,-116.68675,-116.577054,-116.258369,-111.305432,-116.418851,-111.982524,-111.769931,-111.769931,-111.682115,-111.670244,-114.712157,-114.469453,-112.475471,-112.455482,-112.409445,-111.731166,-115.686585,-112.355281,-116.325124,-116.34687,-116.221092,-116.964855,-114.365684,-114.162362,-116.755851,-116.454731,-111.831008,-111.808724,-112.440924,-112.43554,-112.186328,-112.042309,-112.042309,-111.924253,-113.802768,-113.687299,-116.250036,-116.37515,-111.953833,-112.083427,-112.042777,-113.792354,-114.476563,-112.347662,-112.491852,-116.432927,-116.511591,-116.975372,-111.779919,-111.779919,-111.761647,-111.761647,-113.371539,-113.803848,-111.94868,-111.727497,-116.294981,-116.136217,-113.824047,-116.414069,-111.803957,-111.680578,-112.067226,-112.041345,-112.041345,-113.782243,-112.347827,-112.476567,-111.80072,-111.996822,-116.755869,-116.372879,-116.902758,-116.977221,-111.793788,-111.689911,-112.023079,-112.25727,-112.062908,-116.58355,-114.223469,-116.361883,-116.372849,-116.313923,-116.332439,-111.810548,-112.023178,-113.789995,-113.883213,-112.362961,-112.32566,-112.599578,-112.194609,-111.886861,-113.607171],\"marker\":{\"color\":[32.02528582368432,361.565755731405,20.868535219455158,11597.328066028798,34.41636332625047,226.27797205337643,703.3862066060983,281.27034150976004,65.40942383821832,1282.6743675221576,11597.328066028798,40.59684171883345,1407.071131229391,1514.137008201066,226.27797205337643,857.0843608934962,23049.837022158154,55.477914768791564,286.5658468736291,286.5658468736291,199.95736224970975,48.67033279035132,3920.873745986036,59.34001701542873,1514.137008201066,857.0843608934962,13053.782410478982,2381.0562530461034,251.47619829808144,3386.011641093741,10.3506690563897,279.5445073080837,34.82933616232022,13606.929687379843,2840.5003056580035,2.9698839426807475,650.7362564229866,13763.046037985812,67853.99102224343,110.53071811191721,20567.289906641538,4.407381458361061,128.85472870373,128.85472870373,19920.02395712867,17004.260121989293,23049.837022158154,23049.837022158154,13053.782410478982,321.3913152748617,93.0148631176644,37188.85768826926,135.57684941828256,23049.837022158154,37.77163385317607,1304.8515457920034,369.80824487253255,112.00872786496404,172.50788217332152,39.13352589296072,112.00872786496404,98.40205416199359,1970.319419182466,37.77163385317607,1304.8515457920034,466.9180467335073,37188.85768826926,199.95736224970975,128.85472870373,128.85472870373,90.13602907355758,55.477914768791564,39.13352589296072,48527.96584327886,37188.85768826926,15.085136797071716,1514.137008201066,650.7362564229866,13657.599172513714,40.16990000953849,25.535700939361924,141.85297941587524,128.85472870373,128.85472870373,59.34001701542873,16223.804267076626,55.477914768791564,13763.046037985812,37188.85768826926,48527.96584327886,20567.289906641538,196.96318949786271,11597.328066028798,199.95736224970975,229.899072399938,39.13352589296072,38.90806680001165,6422.6097656266,285.4902307992735,37188.85768826926,824.9109951992209,22741.944414226695,279.5445073080837,279.5445073080837,226.27797205337643,1.259139598286616,1534.4450239832968,173.81981643011883,10.134849697584222,13762.772541253762,321.3913152748617,110.53071811191721,681.6481763701995,1315.057666084109,650.7362564229866,13657.599172513714,1658.4922381727445,857.0843608934962,173.81981643011883,1304.8515457920034,17004.260121989293,37.77163385317607,7.571522530188124,22.141334269040584,54.11764327106657,54.11764327106657,116.66006351714994,59.34001701542873,1514.137008201066,15885.836565841511,452.81622424173844,332.64718764678184,30.012785547296787,17004.260121989293,208.5153386305004,30.396072785218028,75.01270468423128,97.27239907876996,172.50788217332152,452.81622424173844,55.477914768791564,112.00872786496404,62.348160547405676,35.9851935353772,135.57684941828256,22741.944414226695,279.5445073080837,1970.319419182466,25.535700939361924,1514.137008201066,109.68016513721648,703.3862066060983,1488.6045761108016,1488.6045761108016,29998.42146364148,321.3913152748617,12953.185604025723,37188.85768826926,17004.260121989293,48527.96584327886,16.968613575850334,279.5445073080837,49.89387014059925,128.85472870373,128.85472870373,110.53071811191721,1488.6045761108016,1488.6045761108016,27.797736386573877,2174.6714288894104,4.232751606363157,466.9180467335073,259.1739601904173,286.5658468736291,286.5658468736291,37188.85768826926,67853.99102224343,17.532249551356486,189.4515709514595,1514.137008201066,602.0563302821872,857.0843608934962,13010.649467755773,2381.0562530461034,119.87837984408861,286.5658468736291,286.5658468736291,16927.631033807273,41.556216562837534,681.6481763701995,45950.00768029508,13053.782410478982,38.90806680001165,13763.046037985812,141.85297941587524,107.01184019748439,196.4904342476066,54.11764327106657,54.11764327106657,625.5094136164871,34.41636332625047,3386.011641093741,77.86802930684932,84.5106874637946,20.868535219455158,20567.289906641538,2840.5003056580035,16223.804267076626,128.85472870373,128.85472870373,1514.137008201066,1514.137008201066,15078.852119186913,321.3913152748617,161.68700368337832,824.9109951992209,17004.260121989293,35913.683700792324,116.66006351714994,13763.046037985812,1970.319419182466,1970.319419182466,1407.071131229391,28338.845087610913,119.87837984408861,10.687861493294228,8.075201941014027,7035.454706075091,97.27239907876996,97.27239907876996,172.1493019757007,256.91731273464035,37188.85768826926,1488.6045761108016,1488.6045761108016,29998.42146364148,332.64718764678184,55.477914768791564,3805.5759253984143,3920.873745986036,650.7362564229866,37188.85768826926,34.41636332625047,332.64718764678184,1532.3192247733377,13763.046037985812,16686.212016896792,12272.105383504997,196.96318949786271,2.9698839426807475,128.85472870373,128.85472870373,128.85472870373,128.85472870373,369.80824487253255,332.64718764678184,650.7362564229866,35913.683700792324,1310.7042779418339,2186.435535524401,172.50788217332152,11597.328066028798,102.91369665268206,1514.137008201066,226.27797205337643,1488.6045761108016,1488.6045761108016,332.64718764678184,13763.046037985812,161.68700368337832,102.91369665268206,90.13602907355758,8.075201941014027,1282.6743675221576,10.134849697584222,30232.107085959396,102.91369665268206,1514.137008201066,412.17711742525694,1597.6680727735672,37188.85768826926,15358.478869505658,896.5997713829778,3920.873745986036,11597.328066028798,437.2845159693891,22.141334269040584,26356.92884796158,1353.9569298806932,39.13352589296072,38.90806680001165,13763.046037985812,435.81110289422764,93.0148631176644,67853.99102224343,35913.683700792324,11.91403553187872]},\"mode\":\"markers\",\"text\":[\"021700\",\"002410\",\"002000\",\"010313\",\"971000\",\"971302\",\"970602\",\"001100\",\"020401\",\"010321\",\"010313\",\"000804\",\"000500\",\"970300\",\"971302\",\"971100\",\"970300\",\"970400\",\"000200\",\"000200\",\"000900\",\"960400\",\"010331\",\"970200\",\"970300\",\"971100\",\"970402\",\"950200\",\"960200\",\"970400\",\"001500\",\"970100\",\"020700\",\"970503\",\"010322\",\"005100\",\"970501\",\"950500\",\"001900\",\"960200\",\"950100\",\"001600\",\"950301\",\"950301\",\"020901\",\"001101\",\"970300\",\"970300\",\"970402\",\"000800\",\"950700\",\"950100\",\"001700\",\"970300\",\"010221\",\"000100\",\"950100\",\"970500\",\"950500\",\"950400\",\"970500\",\"970200\",\"002413\",\"010221\",\"000100\",\"950500\",\"950100\",\"000900\",\"950301\",\"950301\",\"970601\",\"970400\",\"950400\",\"960200\",\"950100\",\"021600\",\"970300\",\"970501\",\"001200\",\"002411\",\"001202\",\"960400\",\"950301\",\"950301\",\"970200\",\"960200\",\"970400\",\"950500\",\"950100\",\"960200\",\"950100\",\"960300\",\"010313\",\"000900\",\"960200\",\"950400\",\"950600\",\"970300\",\"000500\",\"950100\",\"000300\",\"970100\",\"970100\",\"970100\",\"971302\",\"001200\",\"021100\",\"001700\",\"960200\",\"970403\",\"000800\",\"960200\",\"970800\",\"010225\",\"970501\",\"001200\",\"001800\",\"971100\",\"001700\",\"000100\",\"001101\",\"010221\",\"010224\",\"002222\",\"001900\",\"001900\",\"960300\",\"970200\",\"970300\",\"971400\",\"950300\",\"970200\",\"000700\",\"001101\",\"021901\",\"960500\",\"950101\",\"950100\",\"950500\",\"950300\",\"970400\",\"970500\",\"000900\",\"001000\",\"001700\",\"970100\",\"970100\",\"002413\",\"001202\",\"970300\",\"971301\",\"970602\",\"971200\",\"971200\",\"960300\",\"000800\",\"000600\",\"950100\",\"001101\",\"960200\",\"960100\",\"970100\",\"000900\",\"950301\",\"950301\",\"960200\",\"971200\",\"971200\",\"010223\",\"000802\",\"961000\",\"950500\",\"970100\",\"000200\",\"000200\",\"950100\",\"001900\",\"970100\",\"001500\",\"970300\",\"970603\",\"971100\",\"970502\",\"950200\",\"001300\",\"000200\",\"000200\",\"010335\",\"000803\",\"970800\",\"960400\",\"970402\",\"950600\",\"950500\",\"960400\",\"021002\",\"022400\",\"001900\",\"001900\",\"960400\",\"971000\",\"970400\",\"021500\",\"020602\",\"002000\",\"950100\",\"010322\",\"960200\",\"950301\",\"950301\",\"970300\",\"970300\",\"960100\",\"000800\",\"001500\",\"000300\",\"001101\",\"960100\",\"960300\",\"950500\",\"002413\",\"002413\",\"000500\",\"970200\",\"001300\",\"001400\",\"001100\",\"010401\",\"950100\",\"950100\",\"001300\",\"001000\",\"950100\",\"971200\",\"971200\",\"960300\",\"970200\",\"970400\",\"000302\",\"010331\",\"970501\",\"950100\",\"971000\",\"970200\",\"001200\",\"950500\",\"000400\",\"010334\",\"960300\",\"005100\",\"950301\",\"950301\",\"950301\",\"950301\",\"950100\",\"970200\",\"970501\",\"960100\",\"002221\",\"010504\",\"950500\",\"010313\",\"950200\",\"970300\",\"971302\",\"971200\",\"971200\",\"970200\",\"950500\",\"001500\",\"950200\",\"970601\",\"001100\",\"010321\",\"960200\",\"970300\",\"950200\",\"970300\",\"970401\",\"950400\",\"950100\",\"020503\",\"960200\",\"010331\",\"010313\",\"002312\",\"002222\",\"950302\",\"970900\",\"950400\",\"950600\",\"950500\",\"950600\",\"950700\",\"001900\",\"960100\",\"960200\"],\"type\":\"scattergeo\"}],                        {\"template\":{\"data\":{\"histogram2dcontour\":[{\"type\":\"histogram2dcontour\",\"colorbar\":{\"outlinewidth\":0,\"ticks\":\"\"},\"colorscale\":[[0.0,\"#0d0887\"],[0.1111111111111111,\"#46039f\"],[0.2222222222222222,\"#7201a8\"],[0.3333333333333333,\"#9c179e\"],[0.4444444444444444,\"#bd3786\"],[0.5555555555555556,\"#d8576b\"],[0.6666666666666666,\"#ed7953\"],[0.7777777777777778,\"#fb9f3a\"],[0.8888888888888888,\"#fdca26\"],[1.0,\"#f0f921\"]]}],\"choropleth\":[{\"type\":\"choropleth\",\"colorbar\":{\"outlinewidth\":0,\"ticks\":\"\"}}],\"histogram2d\":[{\"type\":\"histogram2d\",\"colorbar\":{\"outlinewidth\":0,\"ticks\":\"\"},\"colorscale\":[[0.0,\"#0d0887\"],[0.1111111111111111,\"#46039f\"],[0.2222222222222222,\"#7201a8\"],[0.3333333333333333,\"#9c179e\"],[0.4444444444444444,\"#bd3786\"],[0.5555555555555556,\"#d8576b\"],[0.6666666666666666,\"#ed7953\"],[0.7777777777777778,\"#fb9f3a\"],[0.8888888888888888,\"#fdca26\"],[1.0,\"#f0f921\"]]}],\"heatmap\":[{\"type\":\"heatmap\",\"colorbar\":{\"outlinewidth\":0,\"ticks\":\"\"},\"colorscale\":[[0.0,\"#0d0887\"],[0.1111111111111111,\"#46039f\"],[0.2222222222222222,\"#7201a8\"],[0.3333333333333333,\"#9c179e\"],[0.4444444444444444,\"#bd3786\"],[0.5555555555555556,\"#d8576b\"],[0.6666666666666666,\"#ed7953\"],[0.7777777777777778,\"#fb9f3a\"],[0.8888888888888888,\"#fdca26\"],[1.0,\"#f0f921\"]]}],\"heatmapgl\":[{\"type\":\"heatmapgl\",\"colorbar\":{\"outlinewidth\":0,\"ticks\":\"\"},\"colorscale\":[[0.0,\"#0d0887\"],[0.1111111111111111,\"#46039f\"],[0.2222222222222222,\"#7201a8\"],[0.3333333333333333,\"#9c179e\"],[0.4444444444444444,\"#bd3786\"],[0.5555555555555556,\"#d8576b\"],[0.6666666666666666,\"#ed7953\"],[0.7777777777777778,\"#fb9f3a\"],[0.8888888888888888,\"#fdca26\"],[1.0,\"#f0f921\"]]}],\"contourcarpet\":[{\"type\":\"contourcarpet\",\"colorbar\":{\"outlinewidth\":0,\"ticks\":\"\"}}],\"contour\":[{\"type\":\"contour\",\"colorbar\":{\"outlinewidth\":0,\"ticks\":\"\"},\"colorscale\":[[0.0,\"#0d0887\"],[0.1111111111111111,\"#46039f\"],[0.2222222222222222,\"#7201a8\"],[0.3333333333333333,\"#9c179e\"],[0.4444444444444444,\"#bd3786\"],[0.5555555555555556,\"#d8576b\"],[0.6666666666666666,\"#ed7953\"],[0.7777777777777778,\"#fb9f3a\"],[0.8888888888888888,\"#fdca26\"],[1.0,\"#f0f921\"]]}],\"surface\":[{\"type\":\"surface\",\"colorbar\":{\"outlinewidth\":0,\"ticks\":\"\"},\"colorscale\":[[0.0,\"#0d0887\"],[0.1111111111111111,\"#46039f\"],[0.2222222222222222,\"#7201a8\"],[0.3333333333333333,\"#9c179e\"],[0.4444444444444444,\"#bd3786\"],[0.5555555555555556,\"#d8576b\"],[0.6666666666666666,\"#ed7953\"],[0.7777777777777778,\"#fb9f3a\"],[0.8888888888888888,\"#fdca26\"],[1.0,\"#f0f921\"]]}],\"mesh3d\":[{\"type\":\"mesh3d\",\"colorbar\":{\"outlinewidth\":0,\"ticks\":\"\"}}],\"scatter\":[{\"fillpattern\":{\"fillmode\":\"overlay\",\"size\":10,\"solidity\":0.2},\"type\":\"scatter\"}],\"parcoords\":[{\"type\":\"parcoords\",\"line\":{\"colorbar\":{\"outlinewidth\":0,\"ticks\":\"\"}}}],\"scatterpolargl\":[{\"type\":\"scatterpolargl\",\"marker\":{\"colorbar\":{\"outlinewidth\":0,\"ticks\":\"\"}}}],\"bar\":[{\"error_x\":{\"color\":\"#2a3f5f\"},\"error_y\":{\"color\":\"#2a3f5f\"},\"marker\":{\"line\":{\"color\":\"#E5ECF6\",\"width\":0.5},\"pattern\":{\"fillmode\":\"overlay\",\"size\":10,\"solidity\":0.2}},\"type\":\"bar\"}],\"scattergeo\":[{\"type\":\"scattergeo\",\"marker\":{\"colorbar\":{\"outlinewidth\":0,\"ticks\":\"\"}}}],\"scatterpolar\":[{\"type\":\"scatterpolar\",\"marker\":{\"colorbar\":{\"outlinewidth\":0,\"ticks\":\"\"}}}],\"histogram\":[{\"marker\":{\"pattern\":{\"fillmode\":\"overlay\",\"size\":10,\"solidity\":0.2}},\"type\":\"histogram\"}],\"scattergl\":[{\"type\":\"scattergl\",\"marker\":{\"colorbar\":{\"outlinewidth\":0,\"ticks\":\"\"}}}],\"scatter3d\":[{\"type\":\"scatter3d\",\"line\":{\"colorbar\":{\"outlinewidth\":0,\"ticks\":\"\"}},\"marker\":{\"colorbar\":{\"outlinewidth\":0,\"ticks\":\"\"}}}],\"scattermapbox\":[{\"type\":\"scattermapbox\",\"marker\":{\"colorbar\":{\"outlinewidth\":0,\"ticks\":\"\"}}}],\"scatterternary\":[{\"type\":\"scatterternary\",\"marker\":{\"colorbar\":{\"outlinewidth\":0,\"ticks\":\"\"}}}],\"scattercarpet\":[{\"type\":\"scattercarpet\",\"marker\":{\"colorbar\":{\"outlinewidth\":0,\"ticks\":\"\"}}}],\"carpet\":[{\"aaxis\":{\"endlinecolor\":\"#2a3f5f\",\"gridcolor\":\"white\",\"linecolor\":\"white\",\"minorgridcolor\":\"white\",\"startlinecolor\":\"#2a3f5f\"},\"baxis\":{\"endlinecolor\":\"#2a3f5f\",\"gridcolor\":\"white\",\"linecolor\":\"white\",\"minorgridcolor\":\"white\",\"startlinecolor\":\"#2a3f5f\"},\"type\":\"carpet\"}],\"table\":[{\"cells\":{\"fill\":{\"color\":\"#EBF0F8\"},\"line\":{\"color\":\"white\"}},\"header\":{\"fill\":{\"color\":\"#C8D4E3\"},\"line\":{\"color\":\"white\"}},\"type\":\"table\"}],\"barpolar\":[{\"marker\":{\"line\":{\"color\":\"#E5ECF6\",\"width\":0.5},\"pattern\":{\"fillmode\":\"overlay\",\"size\":10,\"solidity\":0.2}},\"type\":\"barpolar\"}],\"pie\":[{\"automargin\":true,\"type\":\"pie\"}]},\"layout\":{\"autotypenumbers\":\"strict\",\"colorway\":[\"#636efa\",\"#EF553B\",\"#00cc96\",\"#ab63fa\",\"#FFA15A\",\"#19d3f3\",\"#FF6692\",\"#B6E880\",\"#FF97FF\",\"#FECB52\"],\"font\":{\"color\":\"#2a3f5f\"},\"hovermode\":\"closest\",\"hoverlabel\":{\"align\":\"left\"},\"paper_bgcolor\":\"white\",\"plot_bgcolor\":\"#E5ECF6\",\"polar\":{\"bgcolor\":\"#E5ECF6\",\"angularaxis\":{\"gridcolor\":\"white\",\"linecolor\":\"white\",\"ticks\":\"\"},\"radialaxis\":{\"gridcolor\":\"white\",\"linecolor\":\"white\",\"ticks\":\"\"}},\"ternary\":{\"bgcolor\":\"#E5ECF6\",\"aaxis\":{\"gridcolor\":\"white\",\"linecolor\":\"white\",\"ticks\":\"\"},\"baxis\":{\"gridcolor\":\"white\",\"linecolor\":\"white\",\"ticks\":\"\"},\"caxis\":{\"gridcolor\":\"white\",\"linecolor\":\"white\",\"ticks\":\"\"}},\"coloraxis\":{\"colorbar\":{\"outlinewidth\":0,\"ticks\":\"\"}},\"colorscale\":{\"sequential\":[[0.0,\"#0d0887\"],[0.1111111111111111,\"#46039f\"],[0.2222222222222222,\"#7201a8\"],[0.3333333333333333,\"#9c179e\"],[0.4444444444444444,\"#bd3786\"],[0.5555555555555556,\"#d8576b\"],[0.6666666666666666,\"#ed7953\"],[0.7777777777777778,\"#fb9f3a\"],[0.8888888888888888,\"#fdca26\"],[1.0,\"#f0f921\"]],\"sequentialminus\":[[0.0,\"#0d0887\"],[0.1111111111111111,\"#46039f\"],[0.2222222222222222,\"#7201a8\"],[0.3333333333333333,\"#9c179e\"],[0.4444444444444444,\"#bd3786\"],[0.5555555555555556,\"#d8576b\"],[0.6666666666666666,\"#ed7953\"],[0.7777777777777778,\"#fb9f3a\"],[0.8888888888888888,\"#fdca26\"],[1.0,\"#f0f921\"]],\"diverging\":[[0,\"#8e0152\"],[0.1,\"#c51b7d\"],[0.2,\"#de77ae\"],[0.3,\"#f1b6da\"],[0.4,\"#fde0ef\"],[0.5,\"#f7f7f7\"],[0.6,\"#e6f5d0\"],[0.7,\"#b8e186\"],[0.8,\"#7fbc41\"],[0.9,\"#4d9221\"],[1,\"#276419\"]]},\"xaxis\":{\"gridcolor\":\"white\",\"linecolor\":\"white\",\"ticks\":\"\",\"title\":{\"standoff\":15},\"zerolinecolor\":\"white\",\"automargin\":true,\"zerolinewidth\":2},\"yaxis\":{\"gridcolor\":\"white\",\"linecolor\":\"white\",\"ticks\":\"\",\"title\":{\"standoff\":15},\"zerolinecolor\":\"white\",\"automargin\":true,\"zerolinewidth\":2},\"scene\":{\"xaxis\":{\"backgroundcolor\":\"#E5ECF6\",\"gridcolor\":\"white\",\"linecolor\":\"white\",\"showbackground\":true,\"ticks\":\"\",\"zerolinecolor\":\"white\",\"gridwidth\":2},\"yaxis\":{\"backgroundcolor\":\"#E5ECF6\",\"gridcolor\":\"white\",\"linecolor\":\"white\",\"showbackground\":true,\"ticks\":\"\",\"zerolinecolor\":\"white\",\"gridwidth\":2},\"zaxis\":{\"backgroundcolor\":\"#E5ECF6\",\"gridcolor\":\"white\",\"linecolor\":\"white\",\"showbackground\":true,\"ticks\":\"\",\"zerolinecolor\":\"white\",\"gridwidth\":2}},\"shapedefaults\":{\"line\":{\"color\":\"#2a3f5f\"}},\"annotationdefaults\":{\"arrowcolor\":\"#2a3f5f\",\"arrowhead\":0,\"arrowwidth\":1},\"geo\":{\"bgcolor\":\"white\",\"landcolor\":\"#E5ECF6\",\"subunitcolor\":\"white\",\"showland\":true,\"showlakes\":true,\"lakecolor\":\"white\"},\"title\":{\"x\":0.05},\"mapbox\":{\"style\":\"light\"}}},\"geo\":{\"scope\":\"usa\"},\"title\":{\"text\":\"Esitmated Active Member Counts for Each Tract)\"}},                        {\"responsive\": true}                    )                };                            </script>        </div>\n",
       "</body>\n",
       "</html>"
      ]
     },
     "metadata": {},
     "output_type": "display_data"
    }
   ],
   "source": [
    "# fig = px.choropleth(MemberGraph, locations='county', lat=\"latitude\",lon=\"longitude\",\n",
    "#               locationmode='country names',\n",
    "#               color = 'HasTemple',\n",
    "#               labels= {'Stakes and Districts per Temple':'Average Units per Temple'},\n",
    "#               hover_data=[\"sum_state_tract\",\"tractcode\"],\n",
    "#               hover_name='county',\n",
    "#               scope='usa')\n",
    "\n",
    "fig = go.Figure(data=go.Scattergeo(\n",
    "        lon = MemberGraph['longitude'],\n",
    "        lat = MemberGraph['latitude'],\n",
    "        text = MemberGraph[\"tract\"],\n",
    "        mode = 'markers',\n",
    "        marker_color = MemberGraph['sum_state_tract'],\n",
    "        locationmode=\"USA-states\"\n",
    "        ))\n",
    "\n",
    "fig.update_layout(\n",
    "        title = 'Esitmated Active Member Counts for Each Tract)',\n",
    "        geo_scope='usa',\n",
    "    )\n",
    "fig.show()\n",
    "\n",
    "# fig.show()"
   ]
  }
 ],
 "metadata": {
  "application/vnd.databricks.v1+notebook": {
   "dashboards": [],
   "language": "python",
   "notebookMetadata": {
    "pythonIndentUnit": 4
   },
   "notebookName": "FinalTargetFeatureHayden",
   "widgets": {}
  }
 },
 "nbformat": 4,
 "nbformat_minor": 0
}

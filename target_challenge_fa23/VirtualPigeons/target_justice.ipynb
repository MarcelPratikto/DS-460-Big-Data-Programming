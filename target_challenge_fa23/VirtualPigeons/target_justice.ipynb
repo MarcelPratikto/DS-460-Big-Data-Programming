{
 "cells": [
  {
   "cell_type": "code",
   "execution_count": 0,
   "metadata": {
    "application/vnd.databricks.v1+cell": {
     "cellMetadata": {
      "byteLimit": 2048000,
      "rowLimit": 10000
     },
     "inputWidgets": {},
     "nuid": "b62f7903-44e4-4bba-945e-bde0a4a0b6ed",
     "showTitle": false,
     "title": ""
    }
   },
   "outputs": [],
   "source": [
    "from pyspark.sql.functions import col, expr, aggregate, ceil, sum, map_values, lit, explode, desc, when, avg\n",
    "import pyspark.sql.functions\n",
    "import plotly.graph_objs as go\n",
    "import math\n",
    "import pandas as pd"
   ]
  },
  {
   "cell_type": "code",
   "execution_count": 0,
   "metadata": {
    "application/vnd.databricks.v1+cell": {
     "cellMetadata": {
      "byteLimit": 2048000,
      "rowLimit": 10000
     },
     "inputWidgets": {},
     "nuid": "4aa88f7c-4107-4b2f-8836-9dfc4d16f802",
     "showTitle": false,
     "title": ""
    }
   },
   "outputs": [],
   "source": [
    "a = spark.sql(\"SELECT * \\\n",
    "        FROM safegraph.places \\\n",
    "        INNER JOIN safegraph.patterns ON safegraph.patterns.placekey=safegraph.places.placekey \\\n",
    "        WHERE top_category LIKE '%Religious%' AND \\\n",
    "        UPPER(location_name) LIKE UPPER('The Church of Jesus Christ of Latter day Saints')\")\n"
   ]
  },
  {
   "cell_type": "markdown",
   "metadata": {
    "application/vnd.databricks.v1+cell": {
     "cellMetadata": {
      "byteLimit": 2048000,
      "rowLimit": 10000
     },
     "inputWidgets": {},
     "nuid": "144b0236-afc4-437a-8191-801530762956",
     "showTitle": false,
     "title": ""
    }
   },
   "source": [
    "drop duplicate placekeys to remove multiple times for a single location"
   ]
  },
  {
   "cell_type": "code",
   "execution_count": 0,
   "metadata": {
    "application/vnd.databricks.v1+cell": {
     "cellMetadata": {
      "byteLimit": 2048000,
      "rowLimit": 10000
     },
     "inputWidgets": {},
     "nuid": "63cccfd9-85cf-4ede-a79a-3b8d7d693b5b",
     "showTitle": false,
     "title": ""
    }
   },
   "outputs": [],
   "source": [
    "a = a.select(\"*\").dropDuplicates([\"placekey\"])"
   ]
  },
  {
   "cell_type": "markdown",
   "metadata": {
    "application/vnd.databricks.v1+cell": {
     "cellMetadata": {
      "byteLimit": 2048000,
      "rowLimit": 10000
     },
     "inputWidgets": {},
     "nuid": "52e769a9-e1b0-4f2f-8a6b-0692a0d952a8",
     "showTitle": false,
     "title": ""
    }
   },
   "source": [
    "divides raw visits by visitor count to obtain visitor percentage and then multiplies the percent into the normalized state visit counts to create a scaler visitor scaling"
   ]
  },
  {
   "cell_type": "code",
   "execution_count": 0,
   "metadata": {
    "application/vnd.databricks.v1+cell": {
     "cellMetadata": {
      "byteLimit": 2048000,
      "rowLimit": 10000
     },
     "inputWidgets": {},
     "nuid": "fdc888d4-bd0c-4d53-aa42-e87c30ed430e",
     "showTitle": false,
     "title": ""
    }
   },
   "outputs": [],
   "source": [
    "a = a.withColumn('visitor_scaling', (col(\"normalized_visits_by_state_scaling\") * ((col(\"raw_visitor_counts\") / col(\"raw_visit_counts\")))))"
   ]
  },
  {
   "cell_type": "markdown",
   "metadata": {
    "application/vnd.databricks.v1+cell": {
     "cellMetadata": {
      "byteLimit": 2048000,
      "rowLimit": 10000
     },
     "inputWidgets": {},
     "nuid": "68116f06-0efe-4e2a-b115-5de5990e618c",
     "showTitle": false,
     "title": ""
    }
   },
   "source": [
    "aggregates the vistorhomecbgs into a total quantity to be later used"
   ]
  },
  {
   "cell_type": "code",
   "execution_count": 0,
   "metadata": {
    "application/vnd.databricks.v1+cell": {
     "cellMetadata": {
      "byteLimit": 2048000,
      "rowLimit": 10000
     },
     "inputWidgets": {},
     "nuid": "1f94c361-80fe-412d-9611-75306e2e1e45",
     "showTitle": false,
     "title": ""
    }
   },
   "outputs": [],
   "source": [
    "a = a.withColumn('totalcbgs', map_values('visitor_home_cbgs')).select(\"*\", aggregate(\"totalcbgs\", lit(0), lambda acc, x: acc + x).alias(\"total\")).drop(\"totalcbgs\")"
   ]
  },
  {
   "cell_type": "markdown",
   "metadata": {
    "application/vnd.databricks.v1+cell": {
     "cellMetadata": {
      "byteLimit": 2048000,
      "rowLimit": 10000
     },
     "inputWidgets": {},
     "nuid": "664d0a3d-c55a-4c88-adbc-a4ed9334e983",
     "showTitle": false,
     "title": ""
    }
   },
   "source": [
    "Explodes visitor home cbgs and keeps the total for each cbgs and the scaled visitor count. creates a percentage ratio of each cbgs value versus the total amount from the home aggrgation. ex 4 from a cbgs / 65 total to a building. Distributes the percentage ratio into the scaled visitor count to get the total members as a percentage of people that went to a building."
   ]
  },
  {
   "cell_type": "code",
   "execution_count": 0,
   "metadata": {
    "application/vnd.databricks.v1+cell": {
     "cellMetadata": {
      "byteLimit": 2048000,
      "rowLimit": 10000
     },
     "inputWidgets": {},
     "nuid": "c0ed1f53-a412-4c6f-a89b-1ce2f0babe89",
     "showTitle": false,
     "title": ""
    }
   },
   "outputs": [],
   "source": [
    "a = a.select(explode(a.visitor_home_cbgs).alias(\"cbgs\", \"value\"), \"total\", 'visitor_scaling') \\\n",
    "        .withColumn(\"percent_total\", (col(\"value\") / (col(\"total\")))) \\\n",
    "        .withColumn(\"members\", col(\"percent_total\")*col(\"visitor_scaling\")) "
   ]
  },
  {
   "cell_type": "markdown",
   "metadata": {
    "application/vnd.databricks.v1+cell": {
     "cellMetadata": {
      "byteLimit": 2048000,
      "rowLimit": 10000
     },
     "inputWidgets": {},
     "nuid": "2308a806-897b-4351-ba08-9d426d9b3e61",
     "showTitle": false,
     "title": ""
    }
   },
   "source": [
    "reduces down to cbgs and members and uses ceil to remove decimals."
   ]
  },
  {
   "cell_type": "code",
   "execution_count": 0,
   "metadata": {
    "application/vnd.databricks.v1+cell": {
     "cellMetadata": {
      "byteLimit": 2048000,
      "rowLimit": 10000
     },
     "inputWidgets": {},
     "nuid": "5b460506-4094-4f1e-b3d6-d44c4cc48a2e",
     "showTitle": false,
     "title": ""
    }
   },
   "outputs": [],
   "source": [
    "a = a.select(\"cbgs\", ceil(\"members\").alias(\"total\"))"
   ]
  },
  {
   "cell_type": "markdown",
   "metadata": {
    "application/vnd.databricks.v1+cell": {
     "cellMetadata": {
      "byteLimit": 2048000,
      "rowLimit": 10000
     },
     "inputWidgets": {},
     "nuid": "5aed68b4-d708-44e2-9db7-e6d57c531769",
     "showTitle": false,
     "title": ""
    }
   },
   "source": [
    "groupsby cbgs and sums members on cbgs"
   ]
  },
  {
   "cell_type": "code",
   "execution_count": 0,
   "metadata": {
    "application/vnd.databricks.v1+cell": {
     "cellMetadata": {
      "byteLimit": 2048000,
      "rowLimit": 10000
     },
     "inputWidgets": {},
     "nuid": "ec7c3bf4-d712-42d8-a2bb-6e45bc5cb990",
     "showTitle": false,
     "title": ""
    }
   },
   "outputs": [],
   "source": [
    "a = a.groupBy(\"cbgs\").agg(sum(\"total\").alias(\"total_members\"))"
   ]
  },
  {
   "cell_type": "code",
   "execution_count": 0,
   "metadata": {
    "application/vnd.databricks.v1+cell": {
     "cellMetadata": {
      "byteLimit": 2048000,
      "rowLimit": 10000
     },
     "inputWidgets": {},
     "nuid": "30ba2d54-bdea-488f-bf1f-c8b67a53065c",
     "showTitle": false,
     "title": ""
    }
   },
   "outputs": [],
   "source": [
    "a.write.mode(\"overwrite\").option(\"overwriteSchema\", \"true\").saveAsTable(\"members\")"
   ]
  },
  {
   "cell_type": "markdown",
   "metadata": {
    "application/vnd.databricks.v1+cell": {
     "cellMetadata": {
      "byteLimit": 2048000,
      "rowLimit": 10000
     },
     "inputWidgets": {},
     "nuid": "bce626d6-03b2-4d1e-a968-b9c2e9583c82",
     "showTitle": false,
     "title": ""
    }
   },
   "source": [
    "joins county and track information on cbgs"
   ]
  },
  {
   "cell_type": "code",
   "execution_count": 0,
   "metadata": {
    "application/vnd.databricks.v1+cell": {
     "cellMetadata": {
      "byteLimit": 2048000,
      "rowLimit": 10000
     },
     "inputWidgets": {},
     "nuid": "411754d3-d359-48f0-b152-ae4915d4ddcc",
     "showTitle": false,
     "title": ""
    }
   },
   "outputs": [],
   "source": [
    "tract = spark.sql(\"SELECT members.cbgs, members.total_members, censusblock_table.county, censusblock_table.cnamelong, censusblock_table.tractcode\\\n",
    "        FROM default.members\\\n",
    "        INNER JOIN safegraph.censusblock_table ON default.members.cbgs=safegraph.censusblock_table.blockcode\")"
   ]
  },
  {
   "cell_type": "markdown",
   "metadata": {
    "application/vnd.databricks.v1+cell": {
     "cellMetadata": {
      "byteLimit": 2048000,
      "rowLimit": 10000
     },
     "inputWidgets": {},
     "nuid": "0c808e44-e225-4660-bc8b-b5939847b476",
     "showTitle": false,
     "title": ""
    }
   },
   "source": [
    "aggregates members onto tract"
   ]
  },
  {
   "cell_type": "code",
   "execution_count": 0,
   "metadata": {
    "application/vnd.databricks.v1+cell": {
     "cellMetadata": {
      "byteLimit": 2048000,
      "rowLimit": 10000
     },
     "inputWidgets": {},
     "nuid": "d28eb47b-a546-4331-8177-b4a975a95d7f",
     "showTitle": false,
     "title": ""
    }
   },
   "outputs": [],
   "source": [
    "tracttotal = tract.select(\"total_members\", \"county\", \"tractcode\", \"cnamelong\").groupBy(\"county\", \"tractcode\", \"cnamelong\").agg(sum(\"total_members\").alias(\"total_members\"))"
   ]
  },
  {
   "cell_type": "code",
   "execution_count": 0,
   "metadata": {
    "application/vnd.databricks.v1+cell": {
     "cellMetadata": {
      "byteLimit": 2048000,
      "rowLimit": 10000
     },
     "inputWidgets": {},
     "nuid": "8412a1a8-9301-4385-9029-5a8c7df2ddcb",
     "showTitle": false,
     "title": ""
    }
   },
   "outputs": [],
   "source": [
    "tracttotal= tracttotal.select(\"*\").dropDuplicates([\"tractcode\"])\n",
    "tracttotal.write.mode(\"overwrite\").option(\"overwriteSchema\", \"true\").saveAsTable(\"tract\")"
   ]
  },
  {
   "cell_type": "code",
   "execution_count": 0,
   "metadata": {
    "application/vnd.databricks.v1+cell": {
     "cellMetadata": {
      "byteLimit": 2048000,
      "rowLimit": 10000
     },
     "inputWidgets": {},
     "nuid": "22136274-e88d-4596-bde9-1d3a349948c2",
     "showTitle": false,
     "title": ""
    }
   },
   "outputs": [],
   "source": [
    "locations = spark.sql(\"SELECT tract.county, tract.tractcode, tract.cnamelong, tract.total_members, tract_table.lat, tract_table.long\\\n",
    "        FROM default.tract\\\n",
    "        INNER JOIN safegraph.tract_table ON tract.tractcode=tract_table.tractcode\")"
   ]
  },
  {
   "cell_type": "code",
   "execution_count": 0,
   "metadata": {
    "application/vnd.databricks.v1+cell": {
     "cellMetadata": {
      "byteLimit": 2048000,
      "rowLimit": 10000
     },
     "inputWidgets": {},
     "nuid": "22737147-78dc-453c-82e3-6c294f90a016",
     "showTitle": false,
     "title": ""
    }
   },
   "outputs": [
    {
     "output_type": "display_data",
     "data": {
      "text/html": [
       "<style scoped>\n",
       "  .table-result-container {\n",
       "    max-height: 300px;\n",
       "    overflow: auto;\n",
       "  }\n",
       "  table, th, td {\n",
       "    border: 1px solid black;\n",
       "    border-collapse: collapse;\n",
       "  }\n",
       "  th, td {\n",
       "    padding: 5px;\n",
       "  }\n",
       "  th {\n",
       "    text-align: left;\n",
       "  }\n",
       "</style><div class='table-result-container'><table class='table-result'><thead style='background-color: white'><tr><th>sum(total_members)</th></tr></thead><tbody><tr><td>228122</td></tr></tbody></table></div>"
      ]
     },
     "metadata": {
      "application/vnd.databricks.v1+output": {
       "addedWidgets": {},
       "aggData": [],
       "aggError": "",
       "aggOverflow": false,
       "aggSchema": [],
       "aggSeriesLimitReached": false,
       "aggType": "",
       "arguments": {},
       "columnCustomDisplayInfos": {},
       "data": [
        [
         228122
        ]
       ],
       "datasetInfos": [],
       "dbfsResultPath": null,
       "isJsonSchema": true,
       "metadata": {},
       "overflow": false,
       "plotOptions": {
        "customPlotOptions": {},
        "displayType": "table",
        "pivotAggregation": null,
        "pivotColumns": null,
        "xColumns": null,
        "yColumns": null
       },
       "removedWidgets": [],
       "schema": [
        {
         "metadata": "{}",
         "name": "sum(total_members)",
         "type": "\"long\""
        }
       ],
       "type": "table"
      }
     },
     "output_type": "display_data"
    },
    {
     "output_type": "display_data",
     "data": {
      "text/html": [
       "<style scoped>\n",
       "  .table-result-container {\n",
       "    max-height: 300px;\n",
       "    overflow: auto;\n",
       "  }\n",
       "  table, th, td {\n",
       "    border: 1px solid black;\n",
       "    border-collapse: collapse;\n",
       "  }\n",
       "  th, td {\n",
       "    padding: 5px;\n",
       "  }\n",
       "  th {\n",
       "    text-align: left;\n",
       "  }\n",
       "</style><div class='table-result-container'><table class='table-result'><thead style='background-color: white'><tr><th>avg(total_members)</th></tr></thead><tbody><tr><td>483.3093220338983</td></tr></tbody></table></div>"
      ]
     },
     "metadata": {
      "application/vnd.databricks.v1+output": {
       "addedWidgets": {},
       "aggData": [],
       "aggError": "",
       "aggOverflow": false,
       "aggSchema": [],
       "aggSeriesLimitReached": false,
       "aggType": "",
       "arguments": {},
       "columnCustomDisplayInfos": {},
       "data": [
        [
         483.3093220338983
        ]
       ],
       "datasetInfos": [],
       "dbfsResultPath": null,
       "isJsonSchema": true,
       "metadata": {},
       "overflow": false,
       "plotOptions": {
        "customPlotOptions": {},
        "displayType": "table",
        "pivotAggregation": null,
        "pivotColumns": null,
        "xColumns": null,
        "yColumns": null
       },
       "removedWidgets": [],
       "schema": [
        {
         "metadata": "{}",
         "name": "avg(total_members)",
         "type": "\"double\""
        }
       ],
       "type": "table"
      }
     },
     "output_type": "display_data"
    }
   ],
   "source": [
    "display(tracttotal.agg(sum(\"total_members\")))\n",
    "display(tracttotal.agg(avg(\"total_members\")))"
   ]
  },
  {
   "cell_type": "code",
   "execution_count": 0,
   "metadata": {
    "application/vnd.databricks.v1+cell": {
     "cellMetadata": {
      "byteLimit": 2048000,
      "rowLimit": 10000
     },
     "inputWidgets": {},
     "nuid": "e59d4f01-ad4f-4277-a9dd-04b362b43523",
     "showTitle": false,
     "title": ""
    }
   },
   "outputs": [
    {
     "output_type": "display_data",
     "data": {
      "text/html": [
       "<div>\n",
       "<style scoped>\n",
       "    .dataframe tbody tr th:only-of-type {\n",
       "        vertical-align: middle;\n",
       "    }\n",
       "\n",
       "    .dataframe tbody tr th {\n",
       "        vertical-align: top;\n",
       "    }\n",
       "\n",
       "    .dataframe thead th {\n",
       "        text-align: right;\n",
       "    }\n",
       "</style>\n",
       "<table border=\"1\" class=\"dataframe\">\n",
       "  <thead>\n",
       "    <tr style=\"text-align: right;\">\n",
       "      <th></th>\n",
       "      <th>county</th>\n",
       "      <th>tractcode</th>\n",
       "      <th>cnamelong</th>\n",
       "      <th>total_members</th>\n",
       "      <th>lat</th>\n",
       "      <th>long</th>\n",
       "    </tr>\n",
       "  </thead>\n",
       "  <tbody>\n",
       "    <tr>\n",
       "      <th>0</th>\n",
       "      <td>041</td>\n",
       "      <td>16041970200</td>\n",
       "      <td>Franklin County</td>\n",
       "      <td>2149</td>\n",
       "      <td>42.060983</td>\n",
       "      <td>-111.714736</td>\n",
       "    </tr>\n",
       "    <tr>\n",
       "      <th>1</th>\n",
       "      <td>041</td>\n",
       "      <td>16041970100</td>\n",
       "      <td>Franklin County</td>\n",
       "      <td>1804</td>\n",
       "      <td>42.222418</td>\n",
       "      <td>-111.846778</td>\n",
       "    </tr>\n",
       "    <tr>\n",
       "      <th>2</th>\n",
       "      <td>073</td>\n",
       "      <td>16073950101</td>\n",
       "      <td>Owyhee County</td>\n",
       "      <td>293</td>\n",
       "      <td>43.592426</td>\n",
       "      <td>-116.960221</td>\n",
       "    </tr>\n",
       "    <tr>\n",
       "      <th>3</th>\n",
       "      <td>073</td>\n",
       "      <td>16073950102</td>\n",
       "      <td>Owyhee County</td>\n",
       "      <td>133</td>\n",
       "      <td>43.524785</td>\n",
       "      <td>-116.848134</td>\n",
       "    </tr>\n",
       "    <tr>\n",
       "      <th>4</th>\n",
       "      <td>069</td>\n",
       "      <td>16069960900</td>\n",
       "      <td>Nez Perce County</td>\n",
       "      <td>60</td>\n",
       "      <td>46.376303</td>\n",
       "      <td>-116.966540</td>\n",
       "    </tr>\n",
       "    <tr>\n",
       "      <th>5</th>\n",
       "      <td>069</td>\n",
       "      <td>16069960400</td>\n",
       "      <td>Nez Perce County</td>\n",
       "      <td>60</td>\n",
       "      <td>46.408018</td>\n",
       "      <td>-117.027292</td>\n",
       "    </tr>\n",
       "    <tr>\n",
       "      <th>6</th>\n",
       "      <td>069</td>\n",
       "      <td>16069960600</td>\n",
       "      <td>Nez Perce County</td>\n",
       "      <td>60</td>\n",
       "      <td>46.400231</td>\n",
       "      <td>-116.992189</td>\n",
       "    </tr>\n",
       "    <tr>\n",
       "      <th>7</th>\n",
       "      <td>069</td>\n",
       "      <td>16069960500</td>\n",
       "      <td>Nez Perce County</td>\n",
       "      <td>105</td>\n",
       "      <td>46.395655</td>\n",
       "      <td>-117.017098</td>\n",
       "    </tr>\n",
       "    <tr>\n",
       "      <th>8</th>\n",
       "      <td>069</td>\n",
       "      <td>16069961000</td>\n",
       "      <td>Nez Perce County</td>\n",
       "      <td>60</td>\n",
       "      <td>46.380843</td>\n",
       "      <td>-116.941372</td>\n",
       "    </tr>\n",
       "    <tr>\n",
       "      <th>9</th>\n",
       "      <td>001</td>\n",
       "      <td>16001000500</td>\n",
       "      <td>Ada County</td>\n",
       "      <td>60</td>\n",
       "      <td>43.640836</td>\n",
       "      <td>-116.223038</td>\n",
       "    </tr>\n",
       "    <tr>\n",
       "      <th>10</th>\n",
       "      <td>001</td>\n",
       "      <td>16001000600</td>\n",
       "      <td>Ada County</td>\n",
       "      <td>77</td>\n",
       "      <td>43.630659</td>\n",
       "      <td>-116.203966</td>\n",
       "    </tr>\n",
       "    <tr>\n",
       "      <th>11</th>\n",
       "      <td>001</td>\n",
       "      <td>16001002222</td>\n",
       "      <td>Ada County</td>\n",
       "      <td>385</td>\n",
       "      <td>43.553650</td>\n",
       "      <td>-116.313288</td>\n",
       "    </tr>\n",
       "    <tr>\n",
       "      <th>12</th>\n",
       "      <td>001</td>\n",
       "      <td>16001001500</td>\n",
       "      <td>Ada County</td>\n",
       "      <td>176</td>\n",
       "      <td>43.595798</td>\n",
       "      <td>-116.216059</td>\n",
       "    </tr>\n",
       "    <tr>\n",
       "      <th>13</th>\n",
       "      <td>001</td>\n",
       "      <td>16001010100</td>\n",
       "      <td>Ada County</td>\n",
       "      <td>1018</td>\n",
       "      <td>43.662471</td>\n",
       "      <td>-116.132317</td>\n",
       "    </tr>\n",
       "    <tr>\n",
       "      <th>14</th>\n",
       "      <td>081</td>\n",
       "      <td>16081960100</td>\n",
       "      <td>Teton County</td>\n",
       "      <td>196</td>\n",
       "      <td>43.760994</td>\n",
       "      <td>-111.211765</td>\n",
       "    </tr>\n",
       "  </tbody>\n",
       "</table>\n",
       "</div>"
      ]
     },
     "metadata": {
      "application/vnd.databricks.v1+output": {
       "addedWidgets": {},
       "arguments": {},
       "data": "<div>\n<style scoped>\n    .dataframe tbody tr th:only-of-type {\n        vertical-align: middle;\n    }\n\n    .dataframe tbody tr th {\n        vertical-align: top;\n    }\n\n    .dataframe thead th {\n        text-align: right;\n    }\n</style>\n<table border=\"1\" class=\"dataframe\">\n  <thead>\n    <tr style=\"text-align: right;\">\n      <th></th>\n      <th>county</th>\n      <th>tractcode</th>\n      <th>cnamelong</th>\n      <th>total_members</th>\n      <th>lat</th>\n      <th>long</th>\n    </tr>\n  </thead>\n  <tbody>\n    <tr>\n      <th>0</th>\n      <td>041</td>\n      <td>16041970200</td>\n      <td>Franklin County</td>\n      <td>2149</td>\n      <td>42.060983</td>\n      <td>-111.714736</td>\n    </tr>\n    <tr>\n      <th>1</th>\n      <td>041</td>\n      <td>16041970100</td>\n      <td>Franklin County</td>\n      <td>1804</td>\n      <td>42.222418</td>\n      <td>-111.846778</td>\n    </tr>\n    <tr>\n      <th>2</th>\n      <td>073</td>\n      <td>16073950101</td>\n      <td>Owyhee County</td>\n      <td>293</td>\n      <td>43.592426</td>\n      <td>-116.960221</td>\n    </tr>\n    <tr>\n      <th>3</th>\n      <td>073</td>\n      <td>16073950102</td>\n      <td>Owyhee County</td>\n      <td>133</td>\n      <td>43.524785</td>\n      <td>-116.848134</td>\n    </tr>\n    <tr>\n      <th>4</th>\n      <td>069</td>\n      <td>16069960900</td>\n      <td>Nez Perce County</td>\n      <td>60</td>\n      <td>46.376303</td>\n      <td>-116.966540</td>\n    </tr>\n    <tr>\n      <th>5</th>\n      <td>069</td>\n      <td>16069960400</td>\n      <td>Nez Perce County</td>\n      <td>60</td>\n      <td>46.408018</td>\n      <td>-117.027292</td>\n    </tr>\n    <tr>\n      <th>6</th>\n      <td>069</td>\n      <td>16069960600</td>\n      <td>Nez Perce County</td>\n      <td>60</td>\n      <td>46.400231</td>\n      <td>-116.992189</td>\n    </tr>\n    <tr>\n      <th>7</th>\n      <td>069</td>\n      <td>16069960500</td>\n      <td>Nez Perce County</td>\n      <td>105</td>\n      <td>46.395655</td>\n      <td>-117.017098</td>\n    </tr>\n    <tr>\n      <th>8</th>\n      <td>069</td>\n      <td>16069961000</td>\n      <td>Nez Perce County</td>\n      <td>60</td>\n      <td>46.380843</td>\n      <td>-116.941372</td>\n    </tr>\n    <tr>\n      <th>9</th>\n      <td>001</td>\n      <td>16001000500</td>\n      <td>Ada County</td>\n      <td>60</td>\n      <td>43.640836</td>\n      <td>-116.223038</td>\n    </tr>\n    <tr>\n      <th>10</th>\n      <td>001</td>\n      <td>16001000600</td>\n      <td>Ada County</td>\n      <td>77</td>\n      <td>43.630659</td>\n      <td>-116.203966</td>\n    </tr>\n    <tr>\n      <th>11</th>\n      <td>001</td>\n      <td>16001002222</td>\n      <td>Ada County</td>\n      <td>385</td>\n      <td>43.553650</td>\n      <td>-116.313288</td>\n    </tr>\n    <tr>\n      <th>12</th>\n      <td>001</td>\n      <td>16001001500</td>\n      <td>Ada County</td>\n      <td>176</td>\n      <td>43.595798</td>\n      <td>-116.216059</td>\n    </tr>\n    <tr>\n      <th>13</th>\n      <td>001</td>\n      <td>16001010100</td>\n      <td>Ada County</td>\n      <td>1018</td>\n      <td>43.662471</td>\n      <td>-116.132317</td>\n    </tr>\n    <tr>\n      <th>14</th>\n      <td>081</td>\n      <td>16081960100</td>\n      <td>Teton County</td>\n      <td>196</td>\n      <td>43.760994</td>\n      <td>-111.211765</td>\n    </tr>\n  </tbody>\n</table>\n</div>",
       "datasetInfos": [],
       "metadata": {},
       "removedWidgets": [],
       "textData": null,
       "type": "htmlSandbox"
      }
     },
     "output_type": "display_data"
    }
   ],
   "source": [
    "locations.head(15)"
   ]
  },
  {
   "cell_type": "code",
   "execution_count": 0,
   "metadata": {
    "application/vnd.databricks.v1+cell": {
     "cellMetadata": {
      "byteLimit": 2048000,
      "rowLimit": 10000
     },
     "inputWidgets": {},
     "nuid": "204e3618-1e2c-4339-b0f4-421fbefe75d5",
     "showTitle": false,
     "title": ""
    }
   },
   "outputs": [],
   "source": [
    "locations = locations.toPandas()"
   ]
  },
  {
   "cell_type": "code",
   "execution_count": 0,
   "metadata": {
    "application/vnd.databricks.v1+cell": {
     "cellMetadata": {
      "byteLimit": 2048000,
      "rowLimit": 10000
     },
     "inputWidgets": {},
     "nuid": "7d98709e-7677-47b3-88cf-9655eb642912",
     "showTitle": false,
     "title": ""
    }
   },
   "outputs": [
    {
     "output_type": "display_data",
     "data": {
      "text/html": [
       "<html>\n",
       "<head><meta charset=\"utf-8\" /></head>\n",
       "<body>\n",
       "    <div>            <script src=\"https://cdnjs.cloudflare.com/ajax/libs/mathjax/2.7.5/MathJax.js?config=TeX-AMS-MML_SVG\"></script><script type=\"text/javascript\">if (window.MathJax) {MathJax.Hub.Config({SVG: {font: \"STIX-Web\"}});}</script>                <script type=\"text/javascript\">window.PlotlyConfig = {MathJaxConfig: 'local'};</script>\n",
       "        <script src=\"https://cdn.plot.ly/plotly-2.9.0.min.js\"></script>                <div id=\"af060b4c-ebd7-4694-a692-d56dbf4e926f\" class=\"plotly-graph-div\" style=\"height:100%; width:100%;\"></div>            <script type=\"text/javascript\">                                    window.PLOTLYENV=window.PLOTLYENV || {};                                    if (document.getElementById(\"af060b4c-ebd7-4694-a692-d56dbf4e926f\")) {                    Plotly.newPlot(                        \"af060b4c-ebd7-4694-a692-d56dbf4e926f\",                        [{\"lat\":[42.0609834,42.2224181,43.5924261,43.5247849,46.376303,46.4080176,46.4002308,46.3956554,46.3808435,43.6408364,43.6306586,43.5536497,43.595798,43.662471,43.7609939,42.5924488,42.6141552,42.6697036,42.5605434,42.9389027,43.7604582,43.606846,43.5086156,43.6386609,43.6798472,43.5358924,43.5470478,43.6550333,42.1838954,43.6331606,43.6085414,43.6200302,43.6159696,43.6518985,43.5698099,43.5954202,43.5784766,43.5978121,43.6451494,43.6356429,43.3343356,47.6803361,47.8900432,47.5832297,47.6120397,47.9292772,47.7098477,47.6724058,47.7535511,47.7003106,47.732425,47.7116972,47.69349,47.7287605,43.8267161,43.6652693,43.6734583,43.7063095,42.5703168,47.7728638,47.7252753,43.6065277,47.7120124,43.5670193,43.6180124,43.6131684,43.6458911,43.6468541,43.6982932,43.6067108,43.635845,43.631248,43.5689755,43.9872749,44.273351,46.8078675,46.771348,46.7834673,48.0850421,48.418726,48.3497985,42.7646359,43.0325366,42.8535038,43.5924217,43.6283763,45.3283441,43.2607103,44.2826635,43.9471477,44.0195164,42.9057037,42.8874945,42.9028393,42.8930969,42.9015621,42.8710517,42.8634894,42.8468295,42.924898,42.8607225,43.6630795,43.6586442,43.6405726,43.5794414,43.6712332,43.4627885,43.6650836,43.6439145,43.704473,43.5652174,43.4811671,43.5734632,43.6581278,43.651708,44.6687854,44.193059,43.8774222,43.8513155,42.2940204,42.6103246,42.8426024,45.1374861,43.5350178,43.4911821,43.5369101,43.6049294,45.3177245,43.4490002,43.4893117,43.4750927,43.5311351,43.4474945,43.4857894,43.3668297,43.5072027,47.774819,47.6771129,43.5098121,43.4757244,43.5117872,43.4909213,43.4777833,43.4743546,43.5067215,43.4899541,43.5159858,47.3343792,47.4893453,43.9043427,43.907366,44.0734569,44.0532095,42.8046858,42.6943684,44.5002102,44.4147367,44.2364303,42.9861805,43.5780838,43.5787667,43.5831863,43.5838459,43.5538843,43.6152472,43.5841641,43.5726361,43.5337916,43.5542015,43.7517569,43.61524,43.5794348,43.5542092,43.5543823,43.8652588,43.8314246,43.7747647,43.8208035,43.7643066,43.8070765,43.6002704,43.6751115,43.6701777,43.5536223,43.5857812,43.6085965,43.6916155,43.6523677,43.6066784,43.6314866,43.6589164,43.5914649,43.3304526,43.5857798,43.6268198,43.7132862,43.606967,43.1123408,43.3771895,43.0909062,43.0495789,42.6003948,42.5437223,42.5747153,42.510256,42.4686828,42.575988,42.5257921,43.5027333,47.8289064,47.7960911,42.5982883,42.5775151,42.5485108,42.5568512,42.5839278,42.7935032,42.7387372,42.7199836,42.6713509,43.1910953,43.2497515,43.1990003,43.212685,43.3253291,43.1308512,43.1431423,43.3771338,43.685101,42.8810541,42.8841942,42.9550957,42.8728779,42.9271676,42.5120132,42.8348611,42.8426273,42.9798188,42.81367,42.5448665,42.2248436,42.5098751,42.4805097,42.5409242,42.290077,42.309561,42.2556968],\"locationmode\":\"USA-states\",\"lon\":[-111.7147361,-111.8467781,-116.9602208,-116.8481343,-116.9665402,-117.0272919,-116.9921895,-117.0170977,-116.9413724,-116.2230377,-116.2039662,-116.3132875,-116.2160586,-116.1323165,-111.2117653,-113.6535632,-113.6997879,-113.8431454,-113.804794,-113.5854159,-116.397123,-116.4015697,-116.3984578,-116.2566991,-116.2973691,-116.3083842,-116.2202527,-116.3691111,-112.5204486,-116.2662381,-116.2278188,-116.2623701,-116.2075223,-116.2435264,-116.1617483,-116.2003618,-116.1849256,-116.2442242,-116.3036897,-116.2337781,-116.2964654,-116.768597,-116.661785,-116.9631466,-116.5566865,-116.907736,-116.8333168,-116.7844401,-116.8386435,-116.7999331,-116.7724417,-116.7757877,-116.7755494,-116.9210756,-112.3662009,-111.8186466,-111.9488622,-112.018473,-114.4407275,-116.7765368,-116.964363,-116.25758,-116.8833897,-116.3031147,-116.2856014,-116.327211,-116.2926808,-116.3270663,-116.3838048,-116.3673615,-116.3984449,-116.3724496,-116.4078385,-115.7151105,-114.2522675,-116.5562736,-117.0104176,-116.9185102,-116.6727716,-116.3202402,-116.6406805,-114.7569876,-114.8256001,-112.4332669,-116.2678342,-113.9972708,-116.1296357,-113.738161,-111.5056491,-111.702512,-111.3205108,-112.4203762,-112.4191059,-112.4463328,-112.4591162,-112.4817736,-112.4622797,-112.4728415,-112.4459889,-112.5014119,-112.4266414,-116.6745723,-116.7017303,-116.6793138,-116.5638761,-116.6667062,-116.6679919,-116.901818,-116.7467255,-116.610601,-116.5641212,-116.5554763,-116.5654,-116.684917,-116.5693801,-113.5546429,-116.3452329,-116.4623912,-116.6098142,-114.7017551,-112.7124468,-113.0342691,-114.4211687,-112.0161992,-112.0299835,-111.9397541,-111.933795,-113.7554099,-112.0793167,-111.99424,-111.9952904,-112.3102143,-111.9666332,-111.9419441,-111.4375628,-111.9906446,-116.633498,-116.6949184,-111.9642445,-111.9663568,-112.0197444,-112.0149231,-112.0114821,-112.0415685,-112.0449867,-112.0805084,-112.075757,-115.9001454,-115.8727601,-116.9026323,-116.7936121,-116.6882446,-116.9219547,-111.3876998,-111.8511424,-116.6963167,-117.0715447,-116.7938106,-114.1538989,-116.2056868,-116.2352971,-116.222969,-116.5838859,-116.6173382,-116.6078682,-116.5398318,-116.4919901,-116.5343892,-116.5628049,-116.6114333,-116.6593681,-116.601649,-116.5428436,-116.5827585,-111.8477004,-111.7992716,-111.5528132,-111.7866566,-111.8294336,-111.8023991,-116.135071,-116.2170641,-116.2665359,-116.1392259,-116.2955596,-116.3091775,-116.3293158,-116.4654874,-116.180455,-116.1710011,-116.2692899,-116.1784472,-116.0656972,-116.3240049,-116.296731,-116.3363018,-116.4480551,-115.8388434,-115.7714922,-115.5673089,-115.8664015,-114.5197151,-114.4882139,-114.8122296,-114.489406,-114.1835036,-114.6211178,-114.341643,-114.7720663,-116.9196934,-116.9956047,-114.7752696,-114.4700202,-114.4408119,-114.4693463,-114.422892,-114.5121217,-114.5008016,-114.5221405,-114.4385973,-111.872456,-112.3606392,-112.3625574,-112.2491289,-112.8148524,-112.5422089,-112.2179313,-112.1199321,-113.1776308,-112.4345072,-112.44646,-112.4890931,-112.442767,-112.4583146,-112.1218261,-112.2876231,-112.38286,-112.3562628,-112.4238133,-113.7682293,-114.0154675,-113.8442049,-113.7526916,-113.6227673,-113.3791677,-111.4817532,-111.2020074],\"marker\":{\"color\":[2149,1804,293,133,60,60,60,105,60,60,77,385,176,1018,196,1014,772,345,1092,830,1934,827,3198,464,787,1724,536,3074,205,468,401,547,121,61,367,775,250,436,680,231,268,199,689,196,83,68,118,98,5751,98,122,147,644,293,273,3269,2682,1501,1223,220,68,578,98,756,649,356,454,976,1182,458,316,884,6510,88,180,45,198,411,72,414,104,495,671,427,637,347,192,243,550,6192,1257,3778,557,320,458,162,217,363,258,1690,396,47,61,128,89,157,197,162,196,544,70,572,204,257,2037,47,550,326,953,230,572,1460,276,992,671,1491,5983,164,2594,1492,474,399,1372,3968,3194,1103,269,68,2017,983,815,964,1082,886,659,1104,1212,308,56,1558,244,134,269,977,1732,322,512,447,58,126,759,745,329,1871,616,652,71,3251,145,505,887,392,113,409,2084,1204,1560,1791,2088,5589,240,646,515,574,1249,200,711,2088,211,268,131,175,791,605,560,575,1054,369,530,181,54,1610,421,420,412,230,457,1731,77,264,98,142,758,1088,150,1325,328,125,138,752,1188,1518,2264,1492,757,1149,122,3324,732,678,410,389,210,1872,931,1610,711,209,1083,668,1406,2368,2785,2444,695,574,1098]},\"mode\":\"markers\",\"text\":[2149.0,1804.0,293.0,133.0,60.0,60.0,60.0,105.0,60.0,60.0,77.0,385.0,176.0,1018.0,196.0,1014.0,772.0,345.0,1092.0,830.0,1934.0,827.0,3198.0,464.0,787.0,1724.0,536.0,3074.0,205.0,468.0,401.0,547.0,121.0,61.0,367.0,775.0,250.0,436.0,680.0,231.0,268.0,199.0,689.0,196.0,83.0,68.0,118.0,98.0,5751.0,98.0,122.0,147.0,644.0,293.0,273.0,3269.0,2682.0,1501.0,1223.0,220.0,68.0,578.0,98.0,756.0,649.0,356.0,454.0,976.0,1182.0,458.0,316.0,884.0,6510.0,88.0,180.0,45.0,198.0,411.0,72.0,414.0,104.0,495.0,671.0,427.0,637.0,347.0,192.0,243.0,550.0,6192.0,1257.0,3778.0,557.0,320.0,458.0,162.0,217.0,363.0,258.0,1690.0,396.0,47.0,61.0,128.0,89.0,157.0,197.0,162.0,196.0,544.0,70.0,572.0,204.0,257.0,2037.0,47.0,550.0,326.0,953.0,230.0,572.0,1460.0,276.0,992.0,671.0,1491.0,5983.0,164.0,2594.0,1492.0,474.0,399.0,1372.0,3968.0,3194.0,1103.0,269.0,68.0,2017.0,983.0,815.0,964.0,1082.0,886.0,659.0,1104.0,1212.0,308.0,56.0,1558.0,244.0,134.0,269.0,977.0,1732.0,322.0,512.0,447.0,58.0,126.0,759.0,745.0,329.0,1871.0,616.0,652.0,71.0,3251.0,145.0,505.0,887.0,392.0,113.0,409.0,2084.0,1204.0,1560.0,1791.0,2088.0,5589.0,240.0,646.0,515.0,574.0,1249.0,200.0,711.0,2088.0,211.0,268.0,131.0,175.0,791.0,605.0,560.0,575.0,1054.0,369.0,530.0,181.0,54.0,1610.0,421.0,420.0,412.0,230.0,457.0,1731.0,77.0,264.0,98.0,142.0,758.0,1088.0,150.0,1325.0,328.0,125.0,138.0,752.0,1188.0,1518.0,2264.0,1492.0,757.0,1149.0,122.0,3324.0,732.0,678.0,410.0,389.0,210.0,1872.0,931.0,1610.0,711.0,209.0,1083.0,668.0,1406.0,2368.0,2785.0,2444.0,695.0,574.0,1098.0],\"type\":\"scattergeo\"}],                        {\"template\":{\"data\":{\"bar\":[{\"error_x\":{\"color\":\"#2a3f5f\"},\"error_y\":{\"color\":\"#2a3f5f\"},\"marker\":{\"line\":{\"color\":\"#E5ECF6\",\"width\":0.5},\"pattern\":{\"fillmode\":\"overlay\",\"size\":10,\"solidity\":0.2}},\"type\":\"bar\"}],\"barpolar\":[{\"marker\":{\"line\":{\"color\":\"#E5ECF6\",\"width\":0.5},\"pattern\":{\"fillmode\":\"overlay\",\"size\":10,\"solidity\":0.2}},\"type\":\"barpolar\"}],\"carpet\":[{\"aaxis\":{\"endlinecolor\":\"#2a3f5f\",\"gridcolor\":\"white\",\"linecolor\":\"white\",\"minorgridcolor\":\"white\",\"startlinecolor\":\"#2a3f5f\"},\"baxis\":{\"endlinecolor\":\"#2a3f5f\",\"gridcolor\":\"white\",\"linecolor\":\"white\",\"minorgridcolor\":\"white\",\"startlinecolor\":\"#2a3f5f\"},\"type\":\"carpet\"}],\"choropleth\":[{\"colorbar\":{\"outlinewidth\":0,\"ticks\":\"\"},\"type\":\"choropleth\"}],\"contour\":[{\"colorbar\":{\"outlinewidth\":0,\"ticks\":\"\"},\"colorscale\":[[0.0,\"#0d0887\"],[0.1111111111111111,\"#46039f\"],[0.2222222222222222,\"#7201a8\"],[0.3333333333333333,\"#9c179e\"],[0.4444444444444444,\"#bd3786\"],[0.5555555555555556,\"#d8576b\"],[0.6666666666666666,\"#ed7953\"],[0.7777777777777778,\"#fb9f3a\"],[0.8888888888888888,\"#fdca26\"],[1.0,\"#f0f921\"]],\"type\":\"contour\"}],\"contourcarpet\":[{\"colorbar\":{\"outlinewidth\":0,\"ticks\":\"\"},\"type\":\"contourcarpet\"}],\"heatmap\":[{\"colorbar\":{\"outlinewidth\":0,\"ticks\":\"\"},\"colorscale\":[[0.0,\"#0d0887\"],[0.1111111111111111,\"#46039f\"],[0.2222222222222222,\"#7201a8\"],[0.3333333333333333,\"#9c179e\"],[0.4444444444444444,\"#bd3786\"],[0.5555555555555556,\"#d8576b\"],[0.6666666666666666,\"#ed7953\"],[0.7777777777777778,\"#fb9f3a\"],[0.8888888888888888,\"#fdca26\"],[1.0,\"#f0f921\"]],\"type\":\"heatmap\"}],\"heatmapgl\":[{\"colorbar\":{\"outlinewidth\":0,\"ticks\":\"\"},\"colorscale\":[[0.0,\"#0d0887\"],[0.1111111111111111,\"#46039f\"],[0.2222222222222222,\"#7201a8\"],[0.3333333333333333,\"#9c179e\"],[0.4444444444444444,\"#bd3786\"],[0.5555555555555556,\"#d8576b\"],[0.6666666666666666,\"#ed7953\"],[0.7777777777777778,\"#fb9f3a\"],[0.8888888888888888,\"#fdca26\"],[1.0,\"#f0f921\"]],\"type\":\"heatmapgl\"}],\"histogram\":[{\"marker\":{\"pattern\":{\"fillmode\":\"overlay\",\"size\":10,\"solidity\":0.2}},\"type\":\"histogram\"}],\"histogram2d\":[{\"colorbar\":{\"outlinewidth\":0,\"ticks\":\"\"},\"colorscale\":[[0.0,\"#0d0887\"],[0.1111111111111111,\"#46039f\"],[0.2222222222222222,\"#7201a8\"],[0.3333333333333333,\"#9c179e\"],[0.4444444444444444,\"#bd3786\"],[0.5555555555555556,\"#d8576b\"],[0.6666666666666666,\"#ed7953\"],[0.7777777777777778,\"#fb9f3a\"],[0.8888888888888888,\"#fdca26\"],[1.0,\"#f0f921\"]],\"type\":\"histogram2d\"}],\"histogram2dcontour\":[{\"colorbar\":{\"outlinewidth\":0,\"ticks\":\"\"},\"colorscale\":[[0.0,\"#0d0887\"],[0.1111111111111111,\"#46039f\"],[0.2222222222222222,\"#7201a8\"],[0.3333333333333333,\"#9c179e\"],[0.4444444444444444,\"#bd3786\"],[0.5555555555555556,\"#d8576b\"],[0.6666666666666666,\"#ed7953\"],[0.7777777777777778,\"#fb9f3a\"],[0.8888888888888888,\"#fdca26\"],[1.0,\"#f0f921\"]],\"type\":\"histogram2dcontour\"}],\"mesh3d\":[{\"colorbar\":{\"outlinewidth\":0,\"ticks\":\"\"},\"type\":\"mesh3d\"}],\"parcoords\":[{\"line\":{\"colorbar\":{\"outlinewidth\":0,\"ticks\":\"\"}},\"type\":\"parcoords\"}],\"pie\":[{\"automargin\":true,\"type\":\"pie\"}],\"scatter\":[{\"marker\":{\"colorbar\":{\"outlinewidth\":0,\"ticks\":\"\"}},\"type\":\"scatter\"}],\"scatter3d\":[{\"line\":{\"colorbar\":{\"outlinewidth\":0,\"ticks\":\"\"}},\"marker\":{\"colorbar\":{\"outlinewidth\":0,\"ticks\":\"\"}},\"type\":\"scatter3d\"}],\"scattercarpet\":[{\"marker\":{\"colorbar\":{\"outlinewidth\":0,\"ticks\":\"\"}},\"type\":\"scattercarpet\"}],\"scattergeo\":[{\"marker\":{\"colorbar\":{\"outlinewidth\":0,\"ticks\":\"\"}},\"type\":\"scattergeo\"}],\"scattergl\":[{\"marker\":{\"colorbar\":{\"outlinewidth\":0,\"ticks\":\"\"}},\"type\":\"scattergl\"}],\"scattermapbox\":[{\"marker\":{\"colorbar\":{\"outlinewidth\":0,\"ticks\":\"\"}},\"type\":\"scattermapbox\"}],\"scatterpolar\":[{\"marker\":{\"colorbar\":{\"outlinewidth\":0,\"ticks\":\"\"}},\"type\":\"scatterpolar\"}],\"scatterpolargl\":[{\"marker\":{\"colorbar\":{\"outlinewidth\":0,\"ticks\":\"\"}},\"type\":\"scatterpolargl\"}],\"scatterternary\":[{\"marker\":{\"colorbar\":{\"outlinewidth\":0,\"ticks\":\"\"}},\"type\":\"scatterternary\"}],\"surface\":[{\"colorbar\":{\"outlinewidth\":0,\"ticks\":\"\"},\"colorscale\":[[0.0,\"#0d0887\"],[0.1111111111111111,\"#46039f\"],[0.2222222222222222,\"#7201a8\"],[0.3333333333333333,\"#9c179e\"],[0.4444444444444444,\"#bd3786\"],[0.5555555555555556,\"#d8576b\"],[0.6666666666666666,\"#ed7953\"],[0.7777777777777778,\"#fb9f3a\"],[0.8888888888888888,\"#fdca26\"],[1.0,\"#f0f921\"]],\"type\":\"surface\"}],\"table\":[{\"cells\":{\"fill\":{\"color\":\"#EBF0F8\"},\"line\":{\"color\":\"white\"}},\"header\":{\"fill\":{\"color\":\"#C8D4E3\"},\"line\":{\"color\":\"white\"}},\"type\":\"table\"}]},\"layout\":{\"annotationdefaults\":{\"arrowcolor\":\"#2a3f5f\",\"arrowhead\":0,\"arrowwidth\":1},\"autotypenumbers\":\"strict\",\"coloraxis\":{\"colorbar\":{\"outlinewidth\":0,\"ticks\":\"\"}},\"colorscale\":{\"diverging\":[[0,\"#8e0152\"],[0.1,\"#c51b7d\"],[0.2,\"#de77ae\"],[0.3,\"#f1b6da\"],[0.4,\"#fde0ef\"],[0.5,\"#f7f7f7\"],[0.6,\"#e6f5d0\"],[0.7,\"#b8e186\"],[0.8,\"#7fbc41\"],[0.9,\"#4d9221\"],[1,\"#276419\"]],\"sequential\":[[0.0,\"#0d0887\"],[0.1111111111111111,\"#46039f\"],[0.2222222222222222,\"#7201a8\"],[0.3333333333333333,\"#9c179e\"],[0.4444444444444444,\"#bd3786\"],[0.5555555555555556,\"#d8576b\"],[0.6666666666666666,\"#ed7953\"],[0.7777777777777778,\"#fb9f3a\"],[0.8888888888888888,\"#fdca26\"],[1.0,\"#f0f921\"]],\"sequentialminus\":[[0.0,\"#0d0887\"],[0.1111111111111111,\"#46039f\"],[0.2222222222222222,\"#7201a8\"],[0.3333333333333333,\"#9c179e\"],[0.4444444444444444,\"#bd3786\"],[0.5555555555555556,\"#d8576b\"],[0.6666666666666666,\"#ed7953\"],[0.7777777777777778,\"#fb9f3a\"],[0.8888888888888888,\"#fdca26\"],[1.0,\"#f0f921\"]]},\"colorway\":[\"#636efa\",\"#EF553B\",\"#00cc96\",\"#ab63fa\",\"#FFA15A\",\"#19d3f3\",\"#FF6692\",\"#B6E880\",\"#FF97FF\",\"#FECB52\"],\"font\":{\"color\":\"#2a3f5f\"},\"geo\":{\"bgcolor\":\"white\",\"lakecolor\":\"white\",\"landcolor\":\"#E5ECF6\",\"showlakes\":true,\"showland\":true,\"subunitcolor\":\"white\"},\"hoverlabel\":{\"align\":\"left\"},\"hovermode\":\"closest\",\"mapbox\":{\"style\":\"light\"},\"paper_bgcolor\":\"white\",\"plot_bgcolor\":\"#E5ECF6\",\"polar\":{\"angularaxis\":{\"gridcolor\":\"white\",\"linecolor\":\"white\",\"ticks\":\"\"},\"bgcolor\":\"#E5ECF6\",\"radialaxis\":{\"gridcolor\":\"white\",\"linecolor\":\"white\",\"ticks\":\"\"}},\"scene\":{\"xaxis\":{\"backgroundcolor\":\"#E5ECF6\",\"gridcolor\":\"white\",\"gridwidth\":2,\"linecolor\":\"white\",\"showbackground\":true,\"ticks\":\"\",\"zerolinecolor\":\"white\"},\"yaxis\":{\"backgroundcolor\":\"#E5ECF6\",\"gridcolor\":\"white\",\"gridwidth\":2,\"linecolor\":\"white\",\"showbackground\":true,\"ticks\":\"\",\"zerolinecolor\":\"white\"},\"zaxis\":{\"backgroundcolor\":\"#E5ECF6\",\"gridcolor\":\"white\",\"gridwidth\":2,\"linecolor\":\"white\",\"showbackground\":true,\"ticks\":\"\",\"zerolinecolor\":\"white\"}},\"shapedefaults\":{\"line\":{\"color\":\"#2a3f5f\"}},\"ternary\":{\"aaxis\":{\"gridcolor\":\"white\",\"linecolor\":\"white\",\"ticks\":\"\"},\"baxis\":{\"gridcolor\":\"white\",\"linecolor\":\"white\",\"ticks\":\"\"},\"bgcolor\":\"#E5ECF6\",\"caxis\":{\"gridcolor\":\"white\",\"linecolor\":\"white\",\"ticks\":\"\"}},\"title\":{\"x\":0.05},\"xaxis\":{\"automargin\":true,\"gridcolor\":\"white\",\"linecolor\":\"white\",\"ticks\":\"\",\"title\":{\"standoff\":15},\"zerolinecolor\":\"white\",\"zerolinewidth\":2},\"yaxis\":{\"automargin\":true,\"gridcolor\":\"white\",\"linecolor\":\"white\",\"ticks\":\"\",\"title\":{\"standoff\":15},\"zerolinecolor\":\"white\",\"zerolinewidth\":2}}},\"geo\":{\"scope\":\"usa\"},\"title\":{\"text\":\"Esitmated Active Member Counts for Each Tract)\"}},                        {\"responsive\": true}                    )                };                            </script>        </div>\n",
       "</body>\n",
       "</html>"
      ]
     },
     "metadata": {
      "application/vnd.databricks.v1+output": {
       "addedWidgets": {},
       "arguments": {},
       "data": "<html>\n<head><meta charset=\"utf-8\" /></head>\n<body>\n    <div>            <script src=\"https://cdnjs.cloudflare.com/ajax/libs/mathjax/2.7.5/MathJax.js?config=TeX-AMS-MML_SVG\"></script><script type=\"text/javascript\">if (window.MathJax) {MathJax.Hub.Config({SVG: {font: \"STIX-Web\"}});}</script>                <script type=\"text/javascript\">window.PlotlyConfig = {MathJaxConfig: 'local'};</script>\n        <script src=\"https://cdn.plot.ly/plotly-2.9.0.min.js\"></script>                <div id=\"af060b4c-ebd7-4694-a692-d56dbf4e926f\" class=\"plotly-graph-div\" style=\"height:100%; width:100%;\"></div>            <script type=\"text/javascript\">                                    window.PLOTLYENV=window.PLOTLYENV || {};                                    if (document.getElementById(\"af060b4c-ebd7-4694-a692-d56dbf4e926f\")) {                    Plotly.newPlot(                        \"af060b4c-ebd7-4694-a692-d56dbf4e926f\",                        [{\"lat\":[42.0609834,42.2224181,43.5924261,43.5247849,46.376303,46.4080176,46.4002308,46.3956554,46.3808435,43.6408364,43.6306586,43.5536497,43.595798,43.662471,43.7609939,42.5924488,42.6141552,42.6697036,42.5605434,42.9389027,43.7604582,43.606846,43.5086156,43.6386609,43.6798472,43.5358924,43.5470478,43.6550333,42.1838954,43.6331606,43.6085414,43.6200302,43.6159696,43.6518985,43.5698099,43.5954202,43.5784766,43.5978121,43.6451494,43.6356429,43.3343356,47.6803361,47.8900432,47.5832297,47.6120397,47.9292772,47.7098477,47.6724058,47.7535511,47.7003106,47.732425,47.7116972,47.69349,47.7287605,43.8267161,43.6652693,43.6734583,43.7063095,42.5703168,47.7728638,47.7252753,43.6065277,47.7120124,43.5670193,43.6180124,43.6131684,43.6458911,43.6468541,43.6982932,43.6067108,43.635845,43.631248,43.5689755,43.9872749,44.273351,46.8078675,46.771348,46.7834673,48.0850421,48.418726,48.3497985,42.7646359,43.0325366,42.8535038,43.5924217,43.6283763,45.3283441,43.2607103,44.2826635,43.9471477,44.0195164,42.9057037,42.8874945,42.9028393,42.8930969,42.9015621,42.8710517,42.8634894,42.8468295,42.924898,42.8607225,43.6630795,43.6586442,43.6405726,43.5794414,43.6712332,43.4627885,43.6650836,43.6439145,43.704473,43.5652174,43.4811671,43.5734632,43.6581278,43.651708,44.6687854,44.193059,43.8774222,43.8513155,42.2940204,42.6103246,42.8426024,45.1374861,43.5350178,43.4911821,43.5369101,43.6049294,45.3177245,43.4490002,43.4893117,43.4750927,43.5311351,43.4474945,43.4857894,43.3668297,43.5072027,47.774819,47.6771129,43.5098121,43.4757244,43.5117872,43.4909213,43.4777833,43.4743546,43.5067215,43.4899541,43.5159858,47.3343792,47.4893453,43.9043427,43.907366,44.0734569,44.0532095,42.8046858,42.6943684,44.5002102,44.4147367,44.2364303,42.9861805,43.5780838,43.5787667,43.5831863,43.5838459,43.5538843,43.6152472,43.5841641,43.5726361,43.5337916,43.5542015,43.7517569,43.61524,43.5794348,43.5542092,43.5543823,43.8652588,43.8314246,43.7747647,43.8208035,43.7643066,43.8070765,43.6002704,43.6751115,43.6701777,43.5536223,43.5857812,43.6085965,43.6916155,43.6523677,43.6066784,43.6314866,43.6589164,43.5914649,43.3304526,43.5857798,43.6268198,43.7132862,43.606967,43.1123408,43.3771895,43.0909062,43.0495789,42.6003948,42.5437223,42.5747153,42.510256,42.4686828,42.575988,42.5257921,43.5027333,47.8289064,47.7960911,42.5982883,42.5775151,42.5485108,42.5568512,42.5839278,42.7935032,42.7387372,42.7199836,42.6713509,43.1910953,43.2497515,43.1990003,43.212685,43.3253291,43.1308512,43.1431423,43.3771338,43.685101,42.8810541,42.8841942,42.9550957,42.8728779,42.9271676,42.5120132,42.8348611,42.8426273,42.9798188,42.81367,42.5448665,42.2248436,42.5098751,42.4805097,42.5409242,42.290077,42.309561,42.2556968],\"locationmode\":\"USA-states\",\"lon\":[-111.7147361,-111.8467781,-116.9602208,-116.8481343,-116.9665402,-117.0272919,-116.9921895,-117.0170977,-116.9413724,-116.2230377,-116.2039662,-116.3132875,-116.2160586,-116.1323165,-111.2117653,-113.6535632,-113.6997879,-113.8431454,-113.804794,-113.5854159,-116.397123,-116.4015697,-116.3984578,-116.2566991,-116.2973691,-116.3083842,-116.2202527,-116.3691111,-112.5204486,-116.2662381,-116.2278188,-116.2623701,-116.2075223,-116.2435264,-116.1617483,-116.2003618,-116.1849256,-116.2442242,-116.3036897,-116.2337781,-116.2964654,-116.768597,-116.661785,-116.9631466,-116.5566865,-116.907736,-116.8333168,-116.7844401,-116.8386435,-116.7999331,-116.7724417,-116.7757877,-116.7755494,-116.9210756,-112.3662009,-111.8186466,-111.9488622,-112.018473,-114.4407275,-116.7765368,-116.964363,-116.25758,-116.8833897,-116.3031147,-116.2856014,-116.327211,-116.2926808,-116.3270663,-116.3838048,-116.3673615,-116.3984449,-116.3724496,-116.4078385,-115.7151105,-114.2522675,-116.5562736,-117.0104176,-116.9185102,-116.6727716,-116.3202402,-116.6406805,-114.7569876,-114.8256001,-112.4332669,-116.2678342,-113.9972708,-116.1296357,-113.738161,-111.5056491,-111.702512,-111.3205108,-112.4203762,-112.4191059,-112.4463328,-112.4591162,-112.4817736,-112.4622797,-112.4728415,-112.4459889,-112.5014119,-112.4266414,-116.6745723,-116.7017303,-116.6793138,-116.5638761,-116.6667062,-116.6679919,-116.901818,-116.7467255,-116.610601,-116.5641212,-116.5554763,-116.5654,-116.684917,-116.5693801,-113.5546429,-116.3452329,-116.4623912,-116.6098142,-114.7017551,-112.7124468,-113.0342691,-114.4211687,-112.0161992,-112.0299835,-111.9397541,-111.933795,-113.7554099,-112.0793167,-111.99424,-111.9952904,-112.3102143,-111.9666332,-111.9419441,-111.4375628,-111.9906446,-116.633498,-116.6949184,-111.9642445,-111.9663568,-112.0197444,-112.0149231,-112.0114821,-112.0415685,-112.0449867,-112.0805084,-112.075757,-115.9001454,-115.8727601,-116.9026323,-116.7936121,-116.6882446,-116.9219547,-111.3876998,-111.8511424,-116.6963167,-117.0715447,-116.7938106,-114.1538989,-116.2056868,-116.2352971,-116.222969,-116.5838859,-116.6173382,-116.6078682,-116.5398318,-116.4919901,-116.5343892,-116.5628049,-116.6114333,-116.6593681,-116.601649,-116.5428436,-116.5827585,-111.8477004,-111.7992716,-111.5528132,-111.7866566,-111.8294336,-111.8023991,-116.135071,-116.2170641,-116.2665359,-116.1392259,-116.2955596,-116.3091775,-116.3293158,-116.4654874,-116.180455,-116.1710011,-116.2692899,-116.1784472,-116.0656972,-116.3240049,-116.296731,-116.3363018,-116.4480551,-115.8388434,-115.7714922,-115.5673089,-115.8664015,-114.5197151,-114.4882139,-114.8122296,-114.489406,-114.1835036,-114.6211178,-114.341643,-114.7720663,-116.9196934,-116.9956047,-114.7752696,-114.4700202,-114.4408119,-114.4693463,-114.422892,-114.5121217,-114.5008016,-114.5221405,-114.4385973,-111.872456,-112.3606392,-112.3625574,-112.2491289,-112.8148524,-112.5422089,-112.2179313,-112.1199321,-113.1776308,-112.4345072,-112.44646,-112.4890931,-112.442767,-112.4583146,-112.1218261,-112.2876231,-112.38286,-112.3562628,-112.4238133,-113.7682293,-114.0154675,-113.8442049,-113.7526916,-113.6227673,-113.3791677,-111.4817532,-111.2020074],\"marker\":{\"color\":[2149,1804,293,133,60,60,60,105,60,60,77,385,176,1018,196,1014,772,345,1092,830,1934,827,3198,464,787,1724,536,3074,205,468,401,547,121,61,367,775,250,436,680,231,268,199,689,196,83,68,118,98,5751,98,122,147,644,293,273,3269,2682,1501,1223,220,68,578,98,756,649,356,454,976,1182,458,316,884,6510,88,180,45,198,411,72,414,104,495,671,427,637,347,192,243,550,6192,1257,3778,557,320,458,162,217,363,258,1690,396,47,61,128,89,157,197,162,196,544,70,572,204,257,2037,47,550,326,953,230,572,1460,276,992,671,1491,5983,164,2594,1492,474,399,1372,3968,3194,1103,269,68,2017,983,815,964,1082,886,659,1104,1212,308,56,1558,244,134,269,977,1732,322,512,447,58,126,759,745,329,1871,616,652,71,3251,145,505,887,392,113,409,2084,1204,1560,1791,2088,5589,240,646,515,574,1249,200,711,2088,211,268,131,175,791,605,560,575,1054,369,530,181,54,1610,421,420,412,230,457,1731,77,264,98,142,758,1088,150,1325,328,125,138,752,1188,1518,2264,1492,757,1149,122,3324,732,678,410,389,210,1872,931,1610,711,209,1083,668,1406,2368,2785,2444,695,574,1098]},\"mode\":\"markers\",\"text\":[2149.0,1804.0,293.0,133.0,60.0,60.0,60.0,105.0,60.0,60.0,77.0,385.0,176.0,1018.0,196.0,1014.0,772.0,345.0,1092.0,830.0,1934.0,827.0,3198.0,464.0,787.0,1724.0,536.0,3074.0,205.0,468.0,401.0,547.0,121.0,61.0,367.0,775.0,250.0,436.0,680.0,231.0,268.0,199.0,689.0,196.0,83.0,68.0,118.0,98.0,5751.0,98.0,122.0,147.0,644.0,293.0,273.0,3269.0,2682.0,1501.0,1223.0,220.0,68.0,578.0,98.0,756.0,649.0,356.0,454.0,976.0,1182.0,458.0,316.0,884.0,6510.0,88.0,180.0,45.0,198.0,411.0,72.0,414.0,104.0,495.0,671.0,427.0,637.0,347.0,192.0,243.0,550.0,6192.0,1257.0,3778.0,557.0,320.0,458.0,162.0,217.0,363.0,258.0,1690.0,396.0,47.0,61.0,128.0,89.0,157.0,197.0,162.0,196.0,544.0,70.0,572.0,204.0,257.0,2037.0,47.0,550.0,326.0,953.0,230.0,572.0,1460.0,276.0,992.0,671.0,1491.0,5983.0,164.0,2594.0,1492.0,474.0,399.0,1372.0,3968.0,3194.0,1103.0,269.0,68.0,2017.0,983.0,815.0,964.0,1082.0,886.0,659.0,1104.0,1212.0,308.0,56.0,1558.0,244.0,134.0,269.0,977.0,1732.0,322.0,512.0,447.0,58.0,126.0,759.0,745.0,329.0,1871.0,616.0,652.0,71.0,3251.0,145.0,505.0,887.0,392.0,113.0,409.0,2084.0,1204.0,1560.0,1791.0,2088.0,5589.0,240.0,646.0,515.0,574.0,1249.0,200.0,711.0,2088.0,211.0,268.0,131.0,175.0,791.0,605.0,560.0,575.0,1054.0,369.0,530.0,181.0,54.0,1610.0,421.0,420.0,412.0,230.0,457.0,1731.0,77.0,264.0,98.0,142.0,758.0,1088.0,150.0,1325.0,328.0,125.0,138.0,752.0,1188.0,1518.0,2264.0,1492.0,757.0,1149.0,122.0,3324.0,732.0,678.0,410.0,389.0,210.0,1872.0,931.0,1610.0,711.0,209.0,1083.0,668.0,1406.0,2368.0,2785.0,2444.0,695.0,574.0,1098.0],\"type\":\"scattergeo\"}],                        {\"template\":{\"data\":{\"bar\":[{\"error_x\":{\"color\":\"#2a3f5f\"},\"error_y\":{\"color\":\"#2a3f5f\"},\"marker\":{\"line\":{\"color\":\"#E5ECF6\",\"width\":0.5},\"pattern\":{\"fillmode\":\"overlay\",\"size\":10,\"solidity\":0.2}},\"type\":\"bar\"}],\"barpolar\":[{\"marker\":{\"line\":{\"color\":\"#E5ECF6\",\"width\":0.5},\"pattern\":{\"fillmode\":\"overlay\",\"size\":10,\"solidity\":0.2}},\"type\":\"barpolar\"}],\"carpet\":[{\"aaxis\":{\"endlinecolor\":\"#2a3f5f\",\"gridcolor\":\"white\",\"linecolor\":\"white\",\"minorgridcolor\":\"white\",\"startlinecolor\":\"#2a3f5f\"},\"baxis\":{\"endlinecolor\":\"#2a3f5f\",\"gridcolor\":\"white\",\"linecolor\":\"white\",\"minorgridcolor\":\"white\",\"startlinecolor\":\"#2a3f5f\"},\"type\":\"carpet\"}],\"choropleth\":[{\"colorbar\":{\"outlinewidth\":0,\"ticks\":\"\"},\"type\":\"choropleth\"}],\"contour\":[{\"colorbar\":{\"outlinewidth\":0,\"ticks\":\"\"},\"colorscale\":[[0.0,\"#0d0887\"],[0.1111111111111111,\"#46039f\"],[0.2222222222222222,\"#7201a8\"],[0.3333333333333333,\"#9c179e\"],[0.4444444444444444,\"#bd3786\"],[0.5555555555555556,\"#d8576b\"],[0.6666666666666666,\"#ed7953\"],[0.7777777777777778,\"#fb9f3a\"],[0.8888888888888888,\"#fdca26\"],[1.0,\"#f0f921\"]],\"type\":\"contour\"}],\"contourcarpet\":[{\"colorbar\":{\"outlinewidth\":0,\"ticks\":\"\"},\"type\":\"contourcarpet\"}],\"heatmap\":[{\"colorbar\":{\"outlinewidth\":0,\"ticks\":\"\"},\"colorscale\":[[0.0,\"#0d0887\"],[0.1111111111111111,\"#46039f\"],[0.2222222222222222,\"#7201a8\"],[0.3333333333333333,\"#9c179e\"],[0.4444444444444444,\"#bd3786\"],[0.5555555555555556,\"#d8576b\"],[0.6666666666666666,\"#ed7953\"],[0.7777777777777778,\"#fb9f3a\"],[0.8888888888888888,\"#fdca26\"],[1.0,\"#f0f921\"]],\"type\":\"heatmap\"}],\"heatmapgl\":[{\"colorbar\":{\"outlinewidth\":0,\"ticks\":\"\"},\"colorscale\":[[0.0,\"#0d0887\"],[0.1111111111111111,\"#46039f\"],[0.2222222222222222,\"#7201a8\"],[0.3333333333333333,\"#9c179e\"],[0.4444444444444444,\"#bd3786\"],[0.5555555555555556,\"#d8576b\"],[0.6666666666666666,\"#ed7953\"],[0.7777777777777778,\"#fb9f3a\"],[0.8888888888888888,\"#fdca26\"],[1.0,\"#f0f921\"]],\"type\":\"heatmapgl\"}],\"histogram\":[{\"marker\":{\"pattern\":{\"fillmode\":\"overlay\",\"size\":10,\"solidity\":0.2}},\"type\":\"histogram\"}],\"histogram2d\":[{\"colorbar\":{\"outlinewidth\":0,\"ticks\":\"\"},\"colorscale\":[[0.0,\"#0d0887\"],[0.1111111111111111,\"#46039f\"],[0.2222222222222222,\"#7201a8\"],[0.3333333333333333,\"#9c179e\"],[0.4444444444444444,\"#bd3786\"],[0.5555555555555556,\"#d8576b\"],[0.6666666666666666,\"#ed7953\"],[0.7777777777777778,\"#fb9f3a\"],[0.8888888888888888,\"#fdca26\"],[1.0,\"#f0f921\"]],\"type\":\"histogram2d\"}],\"histogram2dcontour\":[{\"colorbar\":{\"outlinewidth\":0,\"ticks\":\"\"},\"colorscale\":[[0.0,\"#0d0887\"],[0.1111111111111111,\"#46039f\"],[0.2222222222222222,\"#7201a8\"],[0.3333333333333333,\"#9c179e\"],[0.4444444444444444,\"#bd3786\"],[0.5555555555555556,\"#d8576b\"],[0.6666666666666666,\"#ed7953\"],[0.7777777777777778,\"#fb9f3a\"],[0.8888888888888888,\"#fdca26\"],[1.0,\"#f0f921\"]],\"type\":\"histogram2dcontour\"}],\"mesh3d\":[{\"colorbar\":{\"outlinewidth\":0,\"ticks\":\"\"},\"type\":\"mesh3d\"}],\"parcoords\":[{\"line\":{\"colorbar\":{\"outlinewidth\":0,\"ticks\":\"\"}},\"type\":\"parcoords\"}],\"pie\":[{\"automargin\":true,\"type\":\"pie\"}],\"scatter\":[{\"marker\":{\"colorbar\":{\"outlinewidth\":0,\"ticks\":\"\"}},\"type\":\"scatter\"}],\"scatter3d\":[{\"line\":{\"colorbar\":{\"outlinewidth\":0,\"ticks\":\"\"}},\"marker\":{\"colorbar\":{\"outlinewidth\":0,\"ticks\":\"\"}},\"type\":\"scatter3d\"}],\"scattercarpet\":[{\"marker\":{\"colorbar\":{\"outlinewidth\":0,\"ticks\":\"\"}},\"type\":\"scattercarpet\"}],\"scattergeo\":[{\"marker\":{\"colorbar\":{\"outlinewidth\":0,\"ticks\":\"\"}},\"type\":\"scattergeo\"}],\"scattergl\":[{\"marker\":{\"colorbar\":{\"outlinewidth\":0,\"ticks\":\"\"}},\"type\":\"scattergl\"}],\"scattermapbox\":[{\"marker\":{\"colorbar\":{\"outlinewidth\":0,\"ticks\":\"\"}},\"type\":\"scattermapbox\"}],\"scatterpolar\":[{\"marker\":{\"colorbar\":{\"outlinewidth\":0,\"ticks\":\"\"}},\"type\":\"scatterpolar\"}],\"scatterpolargl\":[{\"marker\":{\"colorbar\":{\"outlinewidth\":0,\"ticks\":\"\"}},\"type\":\"scatterpolargl\"}],\"scatterternary\":[{\"marker\":{\"colorbar\":{\"outlinewidth\":0,\"ticks\":\"\"}},\"type\":\"scatterternary\"}],\"surface\":[{\"colorbar\":{\"outlinewidth\":0,\"ticks\":\"\"},\"colorscale\":[[0.0,\"#0d0887\"],[0.1111111111111111,\"#46039f\"],[0.2222222222222222,\"#7201a8\"],[0.3333333333333333,\"#9c179e\"],[0.4444444444444444,\"#bd3786\"],[0.5555555555555556,\"#d8576b\"],[0.6666666666666666,\"#ed7953\"],[0.7777777777777778,\"#fb9f3a\"],[0.8888888888888888,\"#fdca26\"],[1.0,\"#f0f921\"]],\"type\":\"surface\"}],\"table\":[{\"cells\":{\"fill\":{\"color\":\"#EBF0F8\"},\"line\":{\"color\":\"white\"}},\"header\":{\"fill\":{\"color\":\"#C8D4E3\"},\"line\":{\"color\":\"white\"}},\"type\":\"table\"}]},\"layout\":{\"annotationdefaults\":{\"arrowcolor\":\"#2a3f5f\",\"arrowhead\":0,\"arrowwidth\":1},\"autotypenumbers\":\"strict\",\"coloraxis\":{\"colorbar\":{\"outlinewidth\":0,\"ticks\":\"\"}},\"colorscale\":{\"diverging\":[[0,\"#8e0152\"],[0.1,\"#c51b7d\"],[0.2,\"#de77ae\"],[0.3,\"#f1b6da\"],[0.4,\"#fde0ef\"],[0.5,\"#f7f7f7\"],[0.6,\"#e6f5d0\"],[0.7,\"#b8e186\"],[0.8,\"#7fbc41\"],[0.9,\"#4d9221\"],[1,\"#276419\"]],\"sequential\":[[0.0,\"#0d0887\"],[0.1111111111111111,\"#46039f\"],[0.2222222222222222,\"#7201a8\"],[0.3333333333333333,\"#9c179e\"],[0.4444444444444444,\"#bd3786\"],[0.5555555555555556,\"#d8576b\"],[0.6666666666666666,\"#ed7953\"],[0.7777777777777778,\"#fb9f3a\"],[0.8888888888888888,\"#fdca26\"],[1.0,\"#f0f921\"]],\"sequentialminus\":[[0.0,\"#0d0887\"],[0.1111111111111111,\"#46039f\"],[0.2222222222222222,\"#7201a8\"],[0.3333333333333333,\"#9c179e\"],[0.4444444444444444,\"#bd3786\"],[0.5555555555555556,\"#d8576b\"],[0.6666666666666666,\"#ed7953\"],[0.7777777777777778,\"#fb9f3a\"],[0.8888888888888888,\"#fdca26\"],[1.0,\"#f0f921\"]]},\"colorway\":[\"#636efa\",\"#EF553B\",\"#00cc96\",\"#ab63fa\",\"#FFA15A\",\"#19d3f3\",\"#FF6692\",\"#B6E880\",\"#FF97FF\",\"#FECB52\"],\"font\":{\"color\":\"#2a3f5f\"},\"geo\":{\"bgcolor\":\"white\",\"lakecolor\":\"white\",\"landcolor\":\"#E5ECF6\",\"showlakes\":true,\"showland\":true,\"subunitcolor\":\"white\"},\"hoverlabel\":{\"align\":\"left\"},\"hovermode\":\"closest\",\"mapbox\":{\"style\":\"light\"},\"paper_bgcolor\":\"white\",\"plot_bgcolor\":\"#E5ECF6\",\"polar\":{\"angularaxis\":{\"gridcolor\":\"white\",\"linecolor\":\"white\",\"ticks\":\"\"},\"bgcolor\":\"#E5ECF6\",\"radialaxis\":{\"gridcolor\":\"white\",\"linecolor\":\"white\",\"ticks\":\"\"}},\"scene\":{\"xaxis\":{\"backgroundcolor\":\"#E5ECF6\",\"gridcolor\":\"white\",\"gridwidth\":2,\"linecolor\":\"white\",\"showbackground\":true,\"ticks\":\"\",\"zerolinecolor\":\"white\"},\"yaxis\":{\"backgroundcolor\":\"#E5ECF6\",\"gridcolor\":\"white\",\"gridwidth\":2,\"linecolor\":\"white\",\"showbackground\":true,\"ticks\":\"\",\"zerolinecolor\":\"white\"},\"zaxis\":{\"backgroundcolor\":\"#E5ECF6\",\"gridcolor\":\"white\",\"gridwidth\":2,\"linecolor\":\"white\",\"showbackground\":true,\"ticks\":\"\",\"zerolinecolor\":\"white\"}},\"shapedefaults\":{\"line\":{\"color\":\"#2a3f5f\"}},\"ternary\":{\"aaxis\":{\"gridcolor\":\"white\",\"linecolor\":\"white\",\"ticks\":\"\"},\"baxis\":{\"gridcolor\":\"white\",\"linecolor\":\"white\",\"ticks\":\"\"},\"bgcolor\":\"#E5ECF6\",\"caxis\":{\"gridcolor\":\"white\",\"linecolor\":\"white\",\"ticks\":\"\"}},\"title\":{\"x\":0.05},\"xaxis\":{\"automargin\":true,\"gridcolor\":\"white\",\"linecolor\":\"white\",\"ticks\":\"\",\"title\":{\"standoff\":15},\"zerolinecolor\":\"white\",\"zerolinewidth\":2},\"yaxis\":{\"automargin\":true,\"gridcolor\":\"white\",\"linecolor\":\"white\",\"ticks\":\"\",\"title\":{\"standoff\":15},\"zerolinecolor\":\"white\",\"zerolinewidth\":2}}},\"geo\":{\"scope\":\"usa\"},\"title\":{\"text\":\"Esitmated Active Member Counts for Each Tract)\"}},                        {\"responsive\": true}                    )                };                            </script>        </div>\n</body>\n</html>",
       "datasetInfos": [],
       "metadata": {},
       "removedWidgets": [],
       "textData": null,
       "type": "htmlSandbox"
      }
     },
     "output_type": "display_data"
    }
   ],
   "source": [
    "fig = go.Figure(data=go.Scattergeo(\n",
    "        lon = locations['long'],\n",
    "        lat = locations['lat'],\n",
    "        text = locations[\"total_members\"],\n",
    "        mode = 'markers',\n",
    "        marker_color = locations['total_members'],\n",
    "        locationmode=\"USA-states\"\n",
    "        ))\n",
    "\n",
    "fig.update_layout(\n",
    "        title = 'Esitmated Active Member Counts for Each Tract)',\n",
    "        geo_scope='usa',\n",
    "    )"
   ]
  }
 ],
 "metadata": {
  "application/vnd.databricks.v1+notebook": {
   "dashboards": [],
   "language": "python",
   "notebookMetadata": {
    "pythonIndentUnit": 4
   },
   "notebookName": "justice_target",
   "widgets": {}
  }
 },
 "nbformat": 4,
 "nbformat_minor": 0
}

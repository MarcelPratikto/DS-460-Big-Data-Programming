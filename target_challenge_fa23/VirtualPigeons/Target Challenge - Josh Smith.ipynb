{
 "cells": [
  {
   "cell_type": "code",
   "execution_count": 0,
   "metadata": {
    "application/vnd.databricks.v1+cell": {
     "cellMetadata": {
      "byteLimit": 2048000,
      "rowLimit": 10000
     },
     "inputWidgets": {},
     "nuid": "1cb3a3a8-1af6-4f91-a467-c6438927bb85",
     "showTitle": false,
     "title": ""
    }
   },
   "outputs": [],
   "source": [
    "# Load libraries\n",
    "import pyspark.sql.functions as F\n",
    "import requests\n",
    "import shutil\n",
    "import pandas as pd"
   ]
  },
  {
   "cell_type": "code",
   "execution_count": 0,
   "metadata": {
    "application/vnd.databricks.v1+cell": {
     "cellMetadata": {
      "byteLimit": 2048000,
      "rowLimit": 10000
     },
     "inputWidgets": {},
     "nuid": "3e249b25-3ce0-430e-abc3-c90bf342947f",
     "showTitle": false,
     "title": ""
    }
   },
   "outputs": [
    {
     "output_type": "stream",
     "name": "stdout",
     "output_type": "stream",
     "text": [
      "Place Dataframe\nPatterns Dataframe\nTract Dataframe\nCensus Tract Dataframe\n"
     ]
    }
   ],
   "source": [
    "parquet_path = \"dbfs:/data/idaho/places.parquet\"\n",
    "place = spark.read.parquet(parquet_path)\n",
    "print(\"Place Dataframe\")\n",
    "# display(place)\n",
    "\n",
    "patterns = spark.read.parquet(\"dbfs:/data/idaho/patterns\")\n",
    "print(\"Patterns Dataframe\")\n",
    "# display(patterns)\n",
    "\n",
    "tract = spark.read.parquet(\"dbfs:/data/idaho/tract_table.parquet\")\n",
    "census_tract = spark.read.parquet(\"dbfs:/data/idaho/censustract_pkmap.parquet\")\n",
    "\n",
    "print(\"Tract Dataframe\")\n",
    "# display(tract)\n",
    "print(\"Census Tract Dataframe\")\n",
    "# display(census_tract)"
   ]
  },
  {
   "cell_type": "markdown",
   "metadata": {
    "application/vnd.databricks.v1+cell": {
     "cellMetadata": {
      "byteLimit": 2048000,
      "rowLimit": 10000
     },
     "inputWidgets": {},
     "nuid": "27a34ba2-0a78-4e12-b907-6cb2e6a50c3b",
     "showTitle": false,
     "title": ""
    }
   },
   "source": [
    "Filtering Church Data"
   ]
  },
  {
   "cell_type": "code",
   "execution_count": 0,
   "metadata": {
    "application/vnd.databricks.v1+cell": {
     "cellMetadata": {
      "byteLimit": 2048000,
      "rowLimit": 10000
     },
     "inputWidgets": {},
     "nuid": "9663a44e-f096-4472-9eb6-6484d6f5e468",
     "showTitle": false,
     "title": ""
    }
   },
   "outputs": [],
   "source": [
    "# Creating a church df filtered down to only grab the church names, this avoids grabbing any temples\n",
    "# Concern is I did not get all church buildings, maybe look at another approach using a filter and then also look at visitors by day?\n",
    "\n",
    "church_df = place.filter(place['location_name'] == \"The Church of Jesus Christ of Latter day Saints\")\n",
    "# display(church_df)"
   ]
  },
  {
   "cell_type": "code",
   "execution_count": 0,
   "metadata": {
    "application/vnd.databricks.v1+cell": {
     "cellMetadata": {
      "byteLimit": 2048000,
      "rowLimit": 10000
     },
     "inputWidgets": {},
     "nuid": "bbaf25c0-d009-40aa-8fc5-0af890daf0f8",
     "showTitle": false,
     "title": ""
    }
   },
   "outputs": [],
   "source": [
    "# Filter provided - Using without changes will filter further later\n",
    "lds_church = place.filter(\n",
    "    (F.col(\"top_category\") == \"Religious Organizations\") &\n",
    "    (F.col(\"location_name\").rlike(\"Latter|latter|Saints|saints|LDS|\\b[Ww]ard\\b\")) &\n",
    "    (F.col(\"location_name\").rlike(\"^((?!Reorganized).)*$\")) &\n",
    "    (F.col(\"location_name\").rlike(\"^((?!All Saints).)*$\")) &\n",
    "    (F.col(\"location_name\").rlike(\"^((?![cC]ath).)*$\")) &\n",
    "    (F.col(\"location_name\").rlike(\"^((?![Bb]ody).)*$\")) &\n",
    "    (F.col(\"location_name\").rlike(\"^((?![Pp]eter).)*$\")) &\n",
    "    (F.col(\"location_name\").rlike(\"^((?![Cc]atholic).)*$\")) &\n",
    "    (F.col(\"location_name\").rlike(\"^((?![Pp]res).)*$\")) &\n",
    "    (F.col(\"location_name\").rlike(\"^((?![Mm]inist).)*$\")) &\n",
    "    (F.col(\"location_name\").rlike(\"^((?![Mm]ission).)*$\")) &\n",
    "    (F.col(\"location_name\").rlike(\"^((?![Ww]orship).)*$\")) &\n",
    "    (F.col(\"location_name\").rlike(\"^((?![Rr]ain).)*$\")) &\n",
    "    (F.col(\"location_name\").rlike(\"^((?![Bb]aptist).)*$\")) &\n",
    "    (F.col(\"location_name\").rlike(\"^((?![Mm]eth).)*$\")) &\n",
    "    (F.col(\"location_name\").rlike(\"^((?![Ee]vang).)*$\")) &\n",
    "    (F.col(\"location_name\").rlike(\"^((?![Ll]utheran).)*$\")) &\n",
    "    (F.col(\"location_name\").rlike(\"^((?![Oo]rthodox).)*$\")) &\n",
    "    (F.col(\"location_name\").rlike(\"^((?![Ee]piscopal).)*$\")) &\n",
    "    (F.col(\"location_name\").rlike(\"^((?![Tt]abernacle).)*$\")) &\n",
    "    (F.col(\"location_name\").rlike(\"^((?![Hh]arvest).)*$\")) &\n",
    "    (F.col(\"location_name\").rlike(\"^((?![Aa]ssem).)*$\")) &\n",
    "    (F.col(\"location_name\").rlike(\"^((?![Mm]edia).)*$\")) &\n",
    "    (F.col(\"location_name\").rlike(\"^((?![Mm]artha).)*$\")) &\n",
    "    (F.col(\"location_name\").rlike(\"^((?![Cc]hristian).)*$\")) &\n",
    "    (F.col(\"location_name\").rlike(\"^((?![Uu]nited).)*$\")) &\n",
    "    (F.col(\"location_name\").rlike(\"^((?![Ff]ellowship).)*$\")) &\n",
    "    (F.col(\"location_name\").rlike(\"^((?![Ww]esl).)*$\")) &\n",
    "    (F.col(\"location_name\").rlike(\"^((?![C]cosmas).)*$\")) &\n",
    "    (F.col(\"location_name\").rlike(\"^((?![Gg]reater).)*$\")) &\n",
    "    (F.col(\"location_name\").rlike(\"^((?![Pp]rison).)*$\")) &\n",
    "    (F.col(\"location_name\").rlike(\"^((?![Cc]ommuni).)*$\")) &\n",
    "    (F.col(\"location_name\").rlike(\"^((?![Cc]lement).)*$\")) &\n",
    "    (F.col(\"location_name\").rlike(\"^((?![Vv]iridian).)*$\")) &\n",
    "    (F.col(\"location_name\").rlike(\"^((?![Dd]iocese).)*$\")) &\n",
    "    (F.col(\"location_name\").rlike(\"^((?![Hh]istory).)*$\")) &\n",
    "    (F.col(\"location_name\").rlike(\"^((?![Ss]chool).)*$\")) &\n",
    "    (F.col(\"location_name\").rlike(\"^((?![Tt]hougt).)*$\")) &\n",
    "    (F.col(\"location_name\").rlike(\"^((?![Hh]oliness).)*$\")) &\n",
    "    (F.col(\"location_name\").rlike(\"^((?![Mm]artyr).)*$\")) &\n",
    "    (F.col(\"location_name\").rlike(\"^((?![Jj]ames).)*$\")) &\n",
    "    (F.col(\"location_name\").rlike(\"^((?![Ff]ellowship).)*$\")) &\n",
    "    (F.col(\"location_name\").rlike(\"^((?![Hh]ouse).)*$\")) &\n",
    "    (F.col(\"location_name\").rlike(\"^((?![Gg]lory).)*$\")) &\n",
    "    (F.col(\"location_name\").rlike(\"^((?![Aa]nglican).)*$\")) &\n",
    "    (F.col(\"location_name\").rlike(\"^((?![Pp]oetic).)*$\")) &\n",
    "    (F.col(\"location_name\").rlike(\"^((?![Ss]anctuary).)*$\")) &\n",
    "    (F.col(\"location_name\").rlike(\"^((?![Ee]quipping).)*$\")) &\n",
    "    (F.col(\"location_name\").rlike(\"^((?![Jj]ohn).)*$\")) &\n",
    "    (F.col(\"location_name\").rlike(\"^((?![Aa]ndrew).)*$\")) &\n",
    "    (F.col(\"location_name\").rlike(\"^((?![Ee]manuel).)*$\")) &\n",
    "    (F.col(\"location_name\").rlike(\"^((?![Rr]edeemed).)*$\")) &\n",
    "    (F.col(\"location_name\").rlike(\"^((?![Pp]erfecting).)*$\")) &\n",
    "    (F.col(\"location_name\").rlike(\"^((?![Aa]ngel).)*$\")) &\n",
    "    (F.col(\"location_name\").rlike(\"^((?![Aa]rchangel).)*$\")) &\n",
    "    (F.col(\"location_name\").rlike(\"^((?![Mm]icheal).)*$\")) &\n",
    "    (F.col(\"location_name\").rlike(\"^((?![Tt]hought).)*$\")) &\n",
    "    (F.col(\"location_name\").rlike(\"^((?![Pp]ariosse).)*$\")) &\n",
    "    (F.col(\"location_name\").rlike(\"^((?![Cc]osmas).)*$\")) &\n",
    "    (F.col(\"location_name\").rlike(\"^((?![Dd]eliverance).)*$\")) &\n",
    "    (F.col(\"location_name\").rlike(\"^((?![Ss]ociete).)*$\")) &\n",
    "    (F.col(\"location_name\").rlike(\"^((?![Tt]emple).)*$\")) &\n",
    "    (F.col(\"location_name\").rlike(\"^((?![Ss]eminary).)*$\")) &\n",
    "    (F.col(\"location_name\").rlike(\"^((?![Ee]mployment).)*$\")) &\n",
    "    (F.col(\"location_name\").rlike(\"^((?![Ii]nstitute).)*$\")) &\n",
    "    (F.col(\"location_name\").rlike(\"^((?![Cc]amp).)*$\")) &\n",
    "    (F.col(\"location_name\").rlike(\"^((?![Ss]tudent).)*$\")) &\n",
    "    (F.col(\"location_name\").rlike(\"^((?![Ee]ducation).)*$\")) &\n",
    "    (F.col(\"location_name\").rlike(\"^((?![Ss]ocial).)*$\")) &\n",
    "    (F.col(\"location_name\").rlike(\"^((?![Ww]welfare).)*$\")) &\n",
    "    (F.col(\"location_name\").rlike(\"^((?![Cc][Ee][Ss]).)*$\")) &\n",
    "    (F.col(\"location_name\").rlike(\"^((?![Ff]amily).)*$\")) &\n",
    "    (F.col(\"location_name\").rlike(\"^((?![Mm]ary).)*$\")) &\n",
    "    (F.col(\"location_name\").rlike(\"^((?![Rr]ussian).)*$\")) &\n",
    "    (F.col(\"location_name\").rlike(\"^((?![Bb]eautif).)*$\")) &\n",
    "    (F.col(\"location_name\").rlike(\"^((?![Hh]eaven).)*$\")) &    \n",
    "    (F.col(\"location_name\").rlike(\"^((?!Inc).)*$\")) &\n",
    "    (F.col(\"location_name\").rlike(\"^((?!God).)*$\"))\n",
    "  )\n",
    "\n",
    "# display(lds_church)"
   ]
  },
  {
   "cell_type": "code",
   "execution_count": 0,
   "metadata": {
    "application/vnd.databricks.v1+cell": {
     "cellMetadata": {
      "byteLimit": 2048000,
      "rowLimit": 10000
     },
     "inputWidgets": {},
     "nuid": "c4e71b95-3e11-4887-9638-4afb38872641",
     "showTitle": false,
     "title": ""
    }
   },
   "outputs": [],
   "source": [
    "# Drop all duplicates for each df\n",
    "census_tract = census_tract.dropDuplicates(['placekey'])\n",
    "church_df = church_df.dropDuplicates(['placekey'])\n",
    "patterns = patterns.dropDuplicates(['placekey'])\n",
    "lds_church = lds_church.dropDuplicates(['placekey'])\n",
    "\n",
    "# Rename latitude and longitude columns in dfs to avoid a weird join \n",
    "census_tract = census_tract.withColumnRenamed(\"latitude\", \"census_latitude\").withColumnRenamed(\"longitude\", \"census_longitude\")\n",
    "church_df = church_df.withColumnRenamed(\"latitude\", \"church_latitude\").withColumnRenamed(\"longitude\", \"church_longitude\")\n",
    "lds_church = lds_church.withColumnRenamed(\"latitude\", \"lds_latitude\").withColumnRenamed(\"longitude\", \"lds_longitude\")\n",
    "\n",
    "# joining all 3 df together\n",
    "result_df = census_tract.join(lds_church, on='placekey', how='inner').join(patterns, on='placekey', how='inner')\n",
    "# display(result_df)"
   ]
  },
  {
   "cell_type": "code",
   "execution_count": 0,
   "metadata": {
    "application/vnd.databricks.v1+cell": {
     "cellMetadata": {
      "byteLimit": 2048000,
      "rowLimit": 10000
     },
     "inputWidgets": {},
     "nuid": "2066b758-57f3-4a86-84ce-98cb028faab3",
     "showTitle": false,
     "title": ""
    }
   },
   "outputs": [],
   "source": [
    "from pyspark.sql.functions import col\n",
    "\n",
    "# pulling sunday values out\n",
    "df = result_df.withColumn(\"Sunday_Popularity\", col(\"popularity_by_day\")[\"Sunday\"].cast(\"integer\"))\n",
    "\n",
    "# display(df)\n"
   ]
  },
  {
   "cell_type": "code",
   "execution_count": 0,
   "metadata": {
    "application/vnd.databricks.v1+cell": {
     "cellMetadata": {
      "byteLimit": 2048000,
      "rowLimit": 10000
     },
     "inputWidgets": {},
     "nuid": "c2dcd69d-faff-4ddb-8199-13d5e5eab159",
     "showTitle": false,
     "title": ""
    }
   },
   "outputs": [],
   "source": [
    "from pyspark.sql.functions import col, sum, first\n",
    "from pyspark.sql.types import IntegerType\n",
    "\n",
    "df = df.withColumn(\"Sunday_Popularity\", df[\"Sunday_Popularity\"].cast(IntegerType()))\n",
    "\n",
    "# Groupby tract and keep rows that I like/will use\n",
    "result = df.groupBy(\"tractcode\").agg(\n",
    "                                    first(\"city\").alias(\"city_name\"),\n",
    "                                    first(\"tract\").alias(\"tract\"),\n",
    "                                    first(\"census_latitude\").alias(\"lat\"),\n",
    "                                    first(\"census_longitude\").alias(\"long\"),\n",
    "                                    sum(\"Sunday_Popularity\").alias(\"sum_sunday_popularity\"),\n",
    "                                    sum(\"normalized_visits_by_state_scaling\").alias(\"sum_normalized_visits\"),\n",
    "                                    sum(\"raw_visit_counts\").alias(\"sum_raw_visit_counts\"),\n",
    "                                    sum(\"raw_visitor_counts\").alias(\"sum_raw_visitor_counts\"),)\n",
    "# display(result)"
   ]
  },
  {
   "cell_type": "code",
   "execution_count": 0,
   "metadata": {
    "application/vnd.databricks.v1+cell": {
     "cellMetadata": {
      "byteLimit": 2048000,
      "rowLimit": 10000
     },
     "inputWidgets": {},
     "nuid": "78da9351-cad2-49c2-8436-097eae859886",
     "showTitle": false,
     "title": ""
    }
   },
   "outputs": [],
   "source": [
    "# from pyspark.sql.functions import col\n",
    "\n",
    "# column_formula = (col(\"Sunday_Popularity\") * (col(\"normalized_visits_by_state_scaling\") / col(\"raw_visit_counts\")))\n",
    "\n",
    "# df = df.withColumn(\"Sunday_Totals_Scaled\", column_formula)\n",
    "\n",
    "# display(df)\n",
    "# Currently by month"
   ]
  },
  {
   "cell_type": "code",
   "execution_count": 0,
   "metadata": {
    "application/vnd.databricks.v1+cell": {
     "cellMetadata": {
      "byteLimit": 2048000,
      "rowLimit": 10000
     },
     "inputWidgets": {},
     "nuid": "eeb0b9b9-d779-4747-9ea3-9512091c595f",
     "showTitle": false,
     "title": ""
    }
   },
   "outputs": [],
   "source": [
    "from pyspark.sql.functions import col\n",
    "# Created different formulas to make a target feature ended up using the first one as it seemed to get me the best numbers\n",
    "column_formula = (col(\"sum_sunday_popularity\") * (col(\"sum_normalized_visits\") / col(\"sum_raw_visit_counts\")))\n",
    "column_formula2 = ((col(\"sum_sunday_popularity\") * (col(\"sum_raw_visit_counts\") / col(\"sum_raw_visitor_counts\"))) * (col(\"sum_normalized_visits\") / col(\"sum_raw_visit_counts\")))\n",
    "\n",
    "\n",
    "df2 = result.withColumn(\"Sunday_Totals_Scaled_by_Month\", column_formula)\n",
    "# display(df2)"
   ]
  },
  {
   "cell_type": "code",
   "execution_count": 0,
   "metadata": {
    "application/vnd.databricks.v1+cell": {
     "cellMetadata": {
      "byteLimit": 2048000,
      "rowLimit": 10000
     },
     "inputWidgets": {},
     "nuid": "cc9e9cf7-ff50-4c15-9b0e-346f5fd8c255",
     "showTitle": false,
     "title": ""
    }
   },
   "outputs": [],
   "source": [
    "# Total idaho members 473,894 - about half are not active though\n",
    "# display(df2.agg(sum(\"Sunday_Totals_Scaled_by_Month\")))"
   ]
  },
  {
   "cell_type": "code",
   "execution_count": 0,
   "metadata": {
    "application/vnd.databricks.v1+cell": {
     "cellMetadata": {
      "byteLimit": 2048000,
      "rowLimit": 10000
     },
     "inputWidgets": {},
     "nuid": "6017be3d-dbb1-4e2e-8bd8-c4257e4fb29f",
     "showTitle": false,
     "title": ""
    }
   },
   "outputs": [],
   "source": [
    "# additional filtering to drop non churches/ anything with little to no sunday attendence\n",
    "# 90 is my best guess about how big a branch is, this could be wrong\n",
    "df2 = df2.filter(df2['Sunday_Totals_Scaled_by_Month'] > 90)\n",
    "# display(df2)"
   ]
  },
  {
   "cell_type": "markdown",
   "metadata": {
    "application/vnd.databricks.v1+cell": {
     "cellMetadata": {
      "byteLimit": 2048000,
      "rowLimit": 10000
     },
     "inputWidgets": {},
     "nuid": "562acdef-86b5-402d-9f9a-42f4fc4c8a20",
     "showTitle": false,
     "title": ""
    }
   },
   "source": [
    "### Creating Visualizations"
   ]
  },
  {
   "cell_type": "code",
   "execution_count": 0,
   "metadata": {
    "application/vnd.databricks.v1+cell": {
     "cellMetadata": {
      "byteLimit": 2048000,
      "rowLimit": 10000
     },
     "inputWidgets": {},
     "nuid": "69b55555-0ab3-4e66-854a-89f3979e7a9b",
     "showTitle": false,
     "title": ""
    }
   },
   "outputs": [
    {
     "output_type": "display_data",
     "data": {
      "text/html": [
       "<html>\n",
       "<head><meta charset=\"utf-8\" /></head>\n",
       "<body>\n",
       "    <div>            <script src=\"https://cdnjs.cloudflare.com/ajax/libs/mathjax/2.7.5/MathJax.js?config=TeX-AMS-MML_SVG\"></script><script type=\"text/javascript\">if (window.MathJax) {MathJax.Hub.Config({SVG: {font: \"STIX-Web\"}});}</script>                <script type=\"text/javascript\">window.PlotlyConfig = {MathJaxConfig: 'local'};</script>\n",
       "        <script src=\"https://cdn.plot.ly/plotly-2.9.0.min.js\"></script>                <div id=\"34d4347d-718c-42b2-9029-6f34c920174e\" class=\"plotly-graph-div\" style=\"height:100%; width:100%;\"></div>            <script type=\"text/javascript\">                                    window.PLOTLYENV=window.PLOTLYENV || {};                                    if (document.getElementById(\"34d4347d-718c-42b2-9029-6f34c920174e\")) {                    Plotly.newPlot(                        \"34d4347d-718c-42b2-9029-6f34c920174e\",                        [{\"geo\":\"geo\",\"hovertemplate\":\"lat=%{lat}<br>lon=%{lon}<br>color=%{marker.color}<extra></extra>\",\"lat\":[43.619075,42.631197,42.568299,43.485443,43.496298,43.554106,43.597478,45.416295,43.581535,42.518316,43.970965,44.071564,43.593384,43.611858,42.821934,43.432494,43.587132,43.493328,43.618626,43.598481,42.228318,48.309842,42.710216,43.64377,43.66527,43.569122,43.589075,42.355546,43.648535,43.485149,42.306285,42.475491,43.797879,46.73572,42.667451,42.581694,42.818433,42.53232,43.189569,43.477568,43.378138,42.574995,43.619514,44.520698,42.328977,42.795748,43.824537,43.524101,43.182112,43.634415,42.901373,43.695956,42.08496,42.928259,43.498016,43.990441,43.650028,43.033783,43.65428,43.695282,42.242763,43.105489,43.894562,43.633955,43.539857,43.626062,42.895394,45.168516,42.570274,42.450829,43.508088,43.143473,43.714093,43.912278,42.865846,47.702578,43.617992,42.555168,43.544278,43.570953,43.526234,43.438791,43.498934,42.535657,44.068577,43.710987,43.581137,44.572894,43.47319,42.532292,43.568263,42.20193,46.365338,42.872142,43.687242,42.939214,43.674808,43.477509,43.597544,42.572618,43.640712,43.660067,44.246083,43.512311,42.885006,47.729944,42.894323,43.487668,42.882734,42.474839,42.932795,43.681526,43.551413,42.919966,43.583495,42.542573,43.618052,43.469115,43.90876,43.245074,43.255016,43.629283,43.54794,43.531459,43.822045,43.607524],\"legendgroup\":\"\",\"locationmode\":\"USA-states\",\"lon\":[-116.683381,-113.678694,-114.453274,-111.988204,-112.026586,-111.94344,-116.25454,-116.319441,-116.404514,-113.625238,-111.67867,-111.448215,-111.950269,-116.515607,-114.898898,-111.943339,-116.373257,-112.07233,-116.396585,-116.164629,-111.714703,-116.555398,-114.508856,-116.284446,-116.394127,-116.512059,-116.194117,-114.574252,-116.221945,-112.039402,-113.369007,-113.824075,-111.856768,-117.038564,-113.59434,-112.18208,-112.408362,-113.787387,-112.330308,-111.933638,-112.129125,-114.497235,-116.20184,-116.045287,-111.297209,-112.841245,-111.7888,-116.560275,-112.506212,-116.330791,-112.425132,-116.363483,-111.748578,-112.475156,-111.987174,-116.324192,-116.30488,-111.3778,-116.712138,-112.012451,-113.887593,-115.718955,-116.645791,-113.301349,-116.563374,-116.265649,-112.435939,-113.885232,-114.618076,-113.698624,-112.086916,-115.690327,-116.353158,-111.878065,-112.422686,-116.781765,-116.947081,-114.42846,-116.355191,-116.274835,-112.042186,-112.05918,-112.020115,-113.795357,-116.913761,-116.572789,-116.219321,-116.679727,-111.993341,-114.361696,-116.153879,-112.266875,-116.950074,-112.446127,-116.489511,-116.02861,-111.919806,-111.975536,-116.221709,-111.731166,-116.612525,-116.68675,-116.964855,-114.310671,-112.43554,-116.755851,-112.475471,-116.454731,-112.440924,-114.162362,-114.712157,-116.300706,-116.294981,-112.491852,-116.577054,-114.476563,-116.432927,-112.023178,-113.607171,-112.25727,-112.32566,-116.313923,-116.136217,-116.58355,-111.803957,-112.023079],\"marker\":{\"color\":[184.17080547061394,533.9759185796519,4577.850628618118,566.0678025754212,1648.5928679458686,4535.189166638356,1275.4580589368825,131.24257145679368,3846.343199101631,1249.703151819149,8170.178056073583,1028.7633136122704,4847.06436002449,1661.1397696540148,613.9026849020465,2933.652668482647,2274.819149078868,3974.954508279995,1181.463589358431,672.6181787160676,3063.6155341135673,1197.5884645432423,1825.3257772360378,209.43262405093427,3918.8031675637853,1750.1473620375984,1470.3034288462684,354.4244407015811,677.3818430789275,996.7720364568569,715.6212812125787,988.8656775672979,2830.747801913813,657.9566687010678,2756.1507943759466,1091.2583974394438,2641.4415646123402,3954.6305415890606,5202.913210480912,9232.590024533534,5259.822716609656,1565.8834564376768,159.57027155360717,97.57987927339815,1033.316160222649,3531.8745368816035,7594.117233050124,1142.2934899999188,1837.1277454734347,2223.3450787036118,7250.3236301660845,2825.265567826838,603.6107303518329,4441.645536359349,2328.884543071739,1861.514138086865,1707.681396107618,1148.7576062679022,113.58220647206939,1724.926600243213,1167.161765537455,290.67652275474904,537.0776678773625,557.0778667166893,2784.5345124791734,952.7871528667564,383.92671392401496,622.8846258057189,1755.369393234616,937.5065487262129,1653.8089751364464,326.04203514331687,1198.4472579375492,2600.295975106721,534.0592940259362,767.1527911918099,430.06426553672316,414.26250724357743,2948.348251897686,3492.637145670521,1929.7024807884393,1320.3132546752306,1570.6915033682108,1435.549882739984,1212.1014100830598,121.27560242392057,756.8330142276008,326.36956857140535,1196.7583542592236,1704.791568242671,335.5652322225137,1485.8110285583577,400.54447051945203,180.45853575309127,843.8680703109909,489.55435285710803,4821.226027353469,383.57639559590496,607.2132773550248,1982.051231723958,2722.6241126621458,184.57108551711272,575.2546838100236,860.8900317500528,599.0180841404359,6963.942099151441,415.66308990699173,2460.8117029651007,936.2015944756208,659.7514004249565,426.53835723457956,942.7785095775387,1083.4038749904691,1036.9722803480206,122.7805369804093,659.7514004249566,1320.3931502378068,813.1819586633186,122.87550443906376,508.56496439507555,2900.6901861621695,184.31325665859566,1107.8914493632503,1735.692705584292,5601.86404946876,1574.910857481524],\"coloraxis\":\"coloraxis\",\"symbol\":\"circle\"},\"mode\":\"markers\",\"name\":\"\",\"showlegend\":false,\"type\":\"scattergeo\"}],                        {\"template\":{\"data\":{\"bar\":[{\"error_x\":{\"color\":\"#2a3f5f\"},\"error_y\":{\"color\":\"#2a3f5f\"},\"marker\":{\"line\":{\"color\":\"#E5ECF6\",\"width\":0.5},\"pattern\":{\"fillmode\":\"overlay\",\"size\":10,\"solidity\":0.2}},\"type\":\"bar\"}],\"barpolar\":[{\"marker\":{\"line\":{\"color\":\"#E5ECF6\",\"width\":0.5},\"pattern\":{\"fillmode\":\"overlay\",\"size\":10,\"solidity\":0.2}},\"type\":\"barpolar\"}],\"carpet\":[{\"aaxis\":{\"endlinecolor\":\"#2a3f5f\",\"gridcolor\":\"white\",\"linecolor\":\"white\",\"minorgridcolor\":\"white\",\"startlinecolor\":\"#2a3f5f\"},\"baxis\":{\"endlinecolor\":\"#2a3f5f\",\"gridcolor\":\"white\",\"linecolor\":\"white\",\"minorgridcolor\":\"white\",\"startlinecolor\":\"#2a3f5f\"},\"type\":\"carpet\"}],\"choropleth\":[{\"colorbar\":{\"outlinewidth\":0,\"ticks\":\"\"},\"type\":\"choropleth\"}],\"contour\":[{\"colorbar\":{\"outlinewidth\":0,\"ticks\":\"\"},\"colorscale\":[[0.0,\"#0d0887\"],[0.1111111111111111,\"#46039f\"],[0.2222222222222222,\"#7201a8\"],[0.3333333333333333,\"#9c179e\"],[0.4444444444444444,\"#bd3786\"],[0.5555555555555556,\"#d8576b\"],[0.6666666666666666,\"#ed7953\"],[0.7777777777777778,\"#fb9f3a\"],[0.8888888888888888,\"#fdca26\"],[1.0,\"#f0f921\"]],\"type\":\"contour\"}],\"contourcarpet\":[{\"colorbar\":{\"outlinewidth\":0,\"ticks\":\"\"},\"type\":\"contourcarpet\"}],\"heatmap\":[{\"colorbar\":{\"outlinewidth\":0,\"ticks\":\"\"},\"colorscale\":[[0.0,\"#0d0887\"],[0.1111111111111111,\"#46039f\"],[0.2222222222222222,\"#7201a8\"],[0.3333333333333333,\"#9c179e\"],[0.4444444444444444,\"#bd3786\"],[0.5555555555555556,\"#d8576b\"],[0.6666666666666666,\"#ed7953\"],[0.7777777777777778,\"#fb9f3a\"],[0.8888888888888888,\"#fdca26\"],[1.0,\"#f0f921\"]],\"type\":\"heatmap\"}],\"heatmapgl\":[{\"colorbar\":{\"outlinewidth\":0,\"ticks\":\"\"},\"colorscale\":[[0.0,\"#0d0887\"],[0.1111111111111111,\"#46039f\"],[0.2222222222222222,\"#7201a8\"],[0.3333333333333333,\"#9c179e\"],[0.4444444444444444,\"#bd3786\"],[0.5555555555555556,\"#d8576b\"],[0.6666666666666666,\"#ed7953\"],[0.7777777777777778,\"#fb9f3a\"],[0.8888888888888888,\"#fdca26\"],[1.0,\"#f0f921\"]],\"type\":\"heatmapgl\"}],\"histogram\":[{\"marker\":{\"pattern\":{\"fillmode\":\"overlay\",\"size\":10,\"solidity\":0.2}},\"type\":\"histogram\"}],\"histogram2d\":[{\"colorbar\":{\"outlinewidth\":0,\"ticks\":\"\"},\"colorscale\":[[0.0,\"#0d0887\"],[0.1111111111111111,\"#46039f\"],[0.2222222222222222,\"#7201a8\"],[0.3333333333333333,\"#9c179e\"],[0.4444444444444444,\"#bd3786\"],[0.5555555555555556,\"#d8576b\"],[0.6666666666666666,\"#ed7953\"],[0.7777777777777778,\"#fb9f3a\"],[0.8888888888888888,\"#fdca26\"],[1.0,\"#f0f921\"]],\"type\":\"histogram2d\"}],\"histogram2dcontour\":[{\"colorbar\":{\"outlinewidth\":0,\"ticks\":\"\"},\"colorscale\":[[0.0,\"#0d0887\"],[0.1111111111111111,\"#46039f\"],[0.2222222222222222,\"#7201a8\"],[0.3333333333333333,\"#9c179e\"],[0.4444444444444444,\"#bd3786\"],[0.5555555555555556,\"#d8576b\"],[0.6666666666666666,\"#ed7953\"],[0.7777777777777778,\"#fb9f3a\"],[0.8888888888888888,\"#fdca26\"],[1.0,\"#f0f921\"]],\"type\":\"histogram2dcontour\"}],\"mesh3d\":[{\"colorbar\":{\"outlinewidth\":0,\"ticks\":\"\"},\"type\":\"mesh3d\"}],\"parcoords\":[{\"line\":{\"colorbar\":{\"outlinewidth\":0,\"ticks\":\"\"}},\"type\":\"parcoords\"}],\"pie\":[{\"automargin\":true,\"type\":\"pie\"}],\"scatter\":[{\"marker\":{\"colorbar\":{\"outlinewidth\":0,\"ticks\":\"\"}},\"type\":\"scatter\"}],\"scatter3d\":[{\"line\":{\"colorbar\":{\"outlinewidth\":0,\"ticks\":\"\"}},\"marker\":{\"colorbar\":{\"outlinewidth\":0,\"ticks\":\"\"}},\"type\":\"scatter3d\"}],\"scattercarpet\":[{\"marker\":{\"colorbar\":{\"outlinewidth\":0,\"ticks\":\"\"}},\"type\":\"scattercarpet\"}],\"scattergeo\":[{\"marker\":{\"colorbar\":{\"outlinewidth\":0,\"ticks\":\"\"}},\"type\":\"scattergeo\"}],\"scattergl\":[{\"marker\":{\"colorbar\":{\"outlinewidth\":0,\"ticks\":\"\"}},\"type\":\"scattergl\"}],\"scattermapbox\":[{\"marker\":{\"colorbar\":{\"outlinewidth\":0,\"ticks\":\"\"}},\"type\":\"scattermapbox\"}],\"scatterpolar\":[{\"marker\":{\"colorbar\":{\"outlinewidth\":0,\"ticks\":\"\"}},\"type\":\"scatterpolar\"}],\"scatterpolargl\":[{\"marker\":{\"colorbar\":{\"outlinewidth\":0,\"ticks\":\"\"}},\"type\":\"scatterpolargl\"}],\"scatterternary\":[{\"marker\":{\"colorbar\":{\"outlinewidth\":0,\"ticks\":\"\"}},\"type\":\"scatterternary\"}],\"surface\":[{\"colorbar\":{\"outlinewidth\":0,\"ticks\":\"\"},\"colorscale\":[[0.0,\"#0d0887\"],[0.1111111111111111,\"#46039f\"],[0.2222222222222222,\"#7201a8\"],[0.3333333333333333,\"#9c179e\"],[0.4444444444444444,\"#bd3786\"],[0.5555555555555556,\"#d8576b\"],[0.6666666666666666,\"#ed7953\"],[0.7777777777777778,\"#fb9f3a\"],[0.8888888888888888,\"#fdca26\"],[1.0,\"#f0f921\"]],\"type\":\"surface\"}],\"table\":[{\"cells\":{\"fill\":{\"color\":\"#EBF0F8\"},\"line\":{\"color\":\"white\"}},\"header\":{\"fill\":{\"color\":\"#C8D4E3\"},\"line\":{\"color\":\"white\"}},\"type\":\"table\"}]},\"layout\":{\"annotationdefaults\":{\"arrowcolor\":\"#2a3f5f\",\"arrowhead\":0,\"arrowwidth\":1},\"autotypenumbers\":\"strict\",\"coloraxis\":{\"colorbar\":{\"outlinewidth\":0,\"ticks\":\"\"}},\"colorscale\":{\"diverging\":[[0,\"#8e0152\"],[0.1,\"#c51b7d\"],[0.2,\"#de77ae\"],[0.3,\"#f1b6da\"],[0.4,\"#fde0ef\"],[0.5,\"#f7f7f7\"],[0.6,\"#e6f5d0\"],[0.7,\"#b8e186\"],[0.8,\"#7fbc41\"],[0.9,\"#4d9221\"],[1,\"#276419\"]],\"sequential\":[[0.0,\"#0d0887\"],[0.1111111111111111,\"#46039f\"],[0.2222222222222222,\"#7201a8\"],[0.3333333333333333,\"#9c179e\"],[0.4444444444444444,\"#bd3786\"],[0.5555555555555556,\"#d8576b\"],[0.6666666666666666,\"#ed7953\"],[0.7777777777777778,\"#fb9f3a\"],[0.8888888888888888,\"#fdca26\"],[1.0,\"#f0f921\"]],\"sequentialminus\":[[0.0,\"#0d0887\"],[0.1111111111111111,\"#46039f\"],[0.2222222222222222,\"#7201a8\"],[0.3333333333333333,\"#9c179e\"],[0.4444444444444444,\"#bd3786\"],[0.5555555555555556,\"#d8576b\"],[0.6666666666666666,\"#ed7953\"],[0.7777777777777778,\"#fb9f3a\"],[0.8888888888888888,\"#fdca26\"],[1.0,\"#f0f921\"]]},\"colorway\":[\"#636efa\",\"#EF553B\",\"#00cc96\",\"#ab63fa\",\"#FFA15A\",\"#19d3f3\",\"#FF6692\",\"#B6E880\",\"#FF97FF\",\"#FECB52\"],\"font\":{\"color\":\"#2a3f5f\"},\"geo\":{\"bgcolor\":\"white\",\"lakecolor\":\"white\",\"landcolor\":\"#E5ECF6\",\"showlakes\":true,\"showland\":true,\"subunitcolor\":\"white\"},\"hoverlabel\":{\"align\":\"left\"},\"hovermode\":\"closest\",\"mapbox\":{\"style\":\"light\"},\"paper_bgcolor\":\"white\",\"plot_bgcolor\":\"#E5ECF6\",\"polar\":{\"angularaxis\":{\"gridcolor\":\"white\",\"linecolor\":\"white\",\"ticks\":\"\"},\"bgcolor\":\"#E5ECF6\",\"radialaxis\":{\"gridcolor\":\"white\",\"linecolor\":\"white\",\"ticks\":\"\"}},\"scene\":{\"xaxis\":{\"backgroundcolor\":\"#E5ECF6\",\"gridcolor\":\"white\",\"gridwidth\":2,\"linecolor\":\"white\",\"showbackground\":true,\"ticks\":\"\",\"zerolinecolor\":\"white\"},\"yaxis\":{\"backgroundcolor\":\"#E5ECF6\",\"gridcolor\":\"white\",\"gridwidth\":2,\"linecolor\":\"white\",\"showbackground\":true,\"ticks\":\"\",\"zerolinecolor\":\"white\"},\"zaxis\":{\"backgroundcolor\":\"#E5ECF6\",\"gridcolor\":\"white\",\"gridwidth\":2,\"linecolor\":\"white\",\"showbackground\":true,\"ticks\":\"\",\"zerolinecolor\":\"white\"}},\"shapedefaults\":{\"line\":{\"color\":\"#2a3f5f\"}},\"ternary\":{\"aaxis\":{\"gridcolor\":\"white\",\"linecolor\":\"white\",\"ticks\":\"\"},\"baxis\":{\"gridcolor\":\"white\",\"linecolor\":\"white\",\"ticks\":\"\"},\"bgcolor\":\"#E5ECF6\",\"caxis\":{\"gridcolor\":\"white\",\"linecolor\":\"white\",\"ticks\":\"\"}},\"title\":{\"x\":0.05},\"xaxis\":{\"automargin\":true,\"gridcolor\":\"white\",\"linecolor\":\"white\",\"ticks\":\"\",\"title\":{\"standoff\":15},\"zerolinecolor\":\"white\",\"zerolinewidth\":2},\"yaxis\":{\"automargin\":true,\"gridcolor\":\"white\",\"linecolor\":\"white\",\"ticks\":\"\",\"title\":{\"standoff\":15},\"zerolinecolor\":\"white\",\"zerolinewidth\":2}}},\"geo\":{\"domain\":{\"x\":[0.0,1.0],\"y\":[0.0,1.0]},\"center\":{},\"scope\":\"usa\"},\"coloraxis\":{\"colorbar\":{\"title\":{\"text\":\"color\"}},\"colorscale\":[[0.0,\"#0d0887\"],[0.1111111111111111,\"#46039f\"],[0.2222222222222222,\"#7201a8\"],[0.3333333333333333,\"#9c179e\"],[0.4444444444444444,\"#bd3786\"],[0.5555555555555556,\"#d8576b\"],[0.6666666666666666,\"#ed7953\"],[0.7777777777777778,\"#fb9f3a\"],[0.8888888888888888,\"#fdca26\"],[1.0,\"#f0f921\"]]},\"legend\":{\"tracegroupgap\":0},\"margin\":{\"t\":60},\"title\":{\"text\":\"Estimated Active Member Counts for Each Tract\"}},                        {\"responsive\": true}                    )                };                            </script>        </div>\n",
       "</body>\n",
       "</html>"
      ]
     },
     "metadata": {
      "application/vnd.databricks.v1+output": {
       "addedWidgets": {},
       "arguments": {},
       "data": "<html>\n<head><meta charset=\"utf-8\" /></head>\n<body>\n    <div>            <script src=\"https://cdnjs.cloudflare.com/ajax/libs/mathjax/2.7.5/MathJax.js?config=TeX-AMS-MML_SVG\"></script><script type=\"text/javascript\">if (window.MathJax) {MathJax.Hub.Config({SVG: {font: \"STIX-Web\"}});}</script>                <script type=\"text/javascript\">window.PlotlyConfig = {MathJaxConfig: 'local'};</script>\n        <script src=\"https://cdn.plot.ly/plotly-2.9.0.min.js\"></script>                <div id=\"34d4347d-718c-42b2-9029-6f34c920174e\" class=\"plotly-graph-div\" style=\"height:100%; width:100%;\"></div>            <script type=\"text/javascript\">                                    window.PLOTLYENV=window.PLOTLYENV || {};                                    if (document.getElementById(\"34d4347d-718c-42b2-9029-6f34c920174e\")) {                    Plotly.newPlot(                        \"34d4347d-718c-42b2-9029-6f34c920174e\",                        [{\"geo\":\"geo\",\"hovertemplate\":\"lat=%{lat}<br>lon=%{lon}<br>color=%{marker.color}<extra></extra>\",\"lat\":[43.619075,42.631197,42.568299,43.485443,43.496298,43.554106,43.597478,45.416295,43.581535,42.518316,43.970965,44.071564,43.593384,43.611858,42.821934,43.432494,43.587132,43.493328,43.618626,43.598481,42.228318,48.309842,42.710216,43.64377,43.66527,43.569122,43.589075,42.355546,43.648535,43.485149,42.306285,42.475491,43.797879,46.73572,42.667451,42.581694,42.818433,42.53232,43.189569,43.477568,43.378138,42.574995,43.619514,44.520698,42.328977,42.795748,43.824537,43.524101,43.182112,43.634415,42.901373,43.695956,42.08496,42.928259,43.498016,43.990441,43.650028,43.033783,43.65428,43.695282,42.242763,43.105489,43.894562,43.633955,43.539857,43.626062,42.895394,45.168516,42.570274,42.450829,43.508088,43.143473,43.714093,43.912278,42.865846,47.702578,43.617992,42.555168,43.544278,43.570953,43.526234,43.438791,43.498934,42.535657,44.068577,43.710987,43.581137,44.572894,43.47319,42.532292,43.568263,42.20193,46.365338,42.872142,43.687242,42.939214,43.674808,43.477509,43.597544,42.572618,43.640712,43.660067,44.246083,43.512311,42.885006,47.729944,42.894323,43.487668,42.882734,42.474839,42.932795,43.681526,43.551413,42.919966,43.583495,42.542573,43.618052,43.469115,43.90876,43.245074,43.255016,43.629283,43.54794,43.531459,43.822045,43.607524],\"legendgroup\":\"\",\"locationmode\":\"USA-states\",\"lon\":[-116.683381,-113.678694,-114.453274,-111.988204,-112.026586,-111.94344,-116.25454,-116.319441,-116.404514,-113.625238,-111.67867,-111.448215,-111.950269,-116.515607,-114.898898,-111.943339,-116.373257,-112.07233,-116.396585,-116.164629,-111.714703,-116.555398,-114.508856,-116.284446,-116.394127,-116.512059,-116.194117,-114.574252,-116.221945,-112.039402,-113.369007,-113.824075,-111.856768,-117.038564,-113.59434,-112.18208,-112.408362,-113.787387,-112.330308,-111.933638,-112.129125,-114.497235,-116.20184,-116.045287,-111.297209,-112.841245,-111.7888,-116.560275,-112.506212,-116.330791,-112.425132,-116.363483,-111.748578,-112.475156,-111.987174,-116.324192,-116.30488,-111.3778,-116.712138,-112.012451,-113.887593,-115.718955,-116.645791,-113.301349,-116.563374,-116.265649,-112.435939,-113.885232,-114.618076,-113.698624,-112.086916,-115.690327,-116.353158,-111.878065,-112.422686,-116.781765,-116.947081,-114.42846,-116.355191,-116.274835,-112.042186,-112.05918,-112.020115,-113.795357,-116.913761,-116.572789,-116.219321,-116.679727,-111.993341,-114.361696,-116.153879,-112.266875,-116.950074,-112.446127,-116.489511,-116.02861,-111.919806,-111.975536,-116.221709,-111.731166,-116.612525,-116.68675,-116.964855,-114.310671,-112.43554,-116.755851,-112.475471,-116.454731,-112.440924,-114.162362,-114.712157,-116.300706,-116.294981,-112.491852,-116.577054,-114.476563,-116.432927,-112.023178,-113.607171,-112.25727,-112.32566,-116.313923,-116.136217,-116.58355,-111.803957,-112.023079],\"marker\":{\"color\":[184.17080547061394,533.9759185796519,4577.850628618118,566.0678025754212,1648.5928679458686,4535.189166638356,1275.4580589368825,131.24257145679368,3846.343199101631,1249.703151819149,8170.178056073583,1028.7633136122704,4847.06436002449,1661.1397696540148,613.9026849020465,2933.652668482647,2274.819149078868,3974.954508279995,1181.463589358431,672.6181787160676,3063.6155341135673,1197.5884645432423,1825.3257772360378,209.43262405093427,3918.8031675637853,1750.1473620375984,1470.3034288462684,354.4244407015811,677.3818430789275,996.7720364568569,715.6212812125787,988.8656775672979,2830.747801913813,657.9566687010678,2756.1507943759466,1091.2583974394438,2641.4415646123402,3954.6305415890606,5202.913210480912,9232.590024533534,5259.822716609656,1565.8834564376768,159.57027155360717,97.57987927339815,1033.316160222649,3531.8745368816035,7594.117233050124,1142.2934899999188,1837.1277454734347,2223.3450787036118,7250.3236301660845,2825.265567826838,603.6107303518329,4441.645536359349,2328.884543071739,1861.514138086865,1707.681396107618,1148.7576062679022,113.58220647206939,1724.926600243213,1167.161765537455,290.67652275474904,537.0776678773625,557.0778667166893,2784.5345124791734,952.7871528667564,383.92671392401496,622.8846258057189,1755.369393234616,937.5065487262129,1653.8089751364464,326.04203514331687,1198.4472579375492,2600.295975106721,534.0592940259362,767.1527911918099,430.06426553672316,414.26250724357743,2948.348251897686,3492.637145670521,1929.7024807884393,1320.3132546752306,1570.6915033682108,1435.549882739984,1212.1014100830598,121.27560242392057,756.8330142276008,326.36956857140535,1196.7583542592236,1704.791568242671,335.5652322225137,1485.8110285583577,400.54447051945203,180.45853575309127,843.8680703109909,489.55435285710803,4821.226027353469,383.57639559590496,607.2132773550248,1982.051231723958,2722.6241126621458,184.57108551711272,575.2546838100236,860.8900317500528,599.0180841404359,6963.942099151441,415.66308990699173,2460.8117029651007,936.2015944756208,659.7514004249565,426.53835723457956,942.7785095775387,1083.4038749904691,1036.9722803480206,122.7805369804093,659.7514004249566,1320.3931502378068,813.1819586633186,122.87550443906376,508.56496439507555,2900.6901861621695,184.31325665859566,1107.8914493632503,1735.692705584292,5601.86404946876,1574.910857481524],\"coloraxis\":\"coloraxis\",\"symbol\":\"circle\"},\"mode\":\"markers\",\"name\":\"\",\"showlegend\":false,\"type\":\"scattergeo\"}],                        {\"template\":{\"data\":{\"bar\":[{\"error_x\":{\"color\":\"#2a3f5f\"},\"error_y\":{\"color\":\"#2a3f5f\"},\"marker\":{\"line\":{\"color\":\"#E5ECF6\",\"width\":0.5},\"pattern\":{\"fillmode\":\"overlay\",\"size\":10,\"solidity\":0.2}},\"type\":\"bar\"}],\"barpolar\":[{\"marker\":{\"line\":{\"color\":\"#E5ECF6\",\"width\":0.5},\"pattern\":{\"fillmode\":\"overlay\",\"size\":10,\"solidity\":0.2}},\"type\":\"barpolar\"}],\"carpet\":[{\"aaxis\":{\"endlinecolor\":\"#2a3f5f\",\"gridcolor\":\"white\",\"linecolor\":\"white\",\"minorgridcolor\":\"white\",\"startlinecolor\":\"#2a3f5f\"},\"baxis\":{\"endlinecolor\":\"#2a3f5f\",\"gridcolor\":\"white\",\"linecolor\":\"white\",\"minorgridcolor\":\"white\",\"startlinecolor\":\"#2a3f5f\"},\"type\":\"carpet\"}],\"choropleth\":[{\"colorbar\":{\"outlinewidth\":0,\"ticks\":\"\"},\"type\":\"choropleth\"}],\"contour\":[{\"colorbar\":{\"outlinewidth\":0,\"ticks\":\"\"},\"colorscale\":[[0.0,\"#0d0887\"],[0.1111111111111111,\"#46039f\"],[0.2222222222222222,\"#7201a8\"],[0.3333333333333333,\"#9c179e\"],[0.4444444444444444,\"#bd3786\"],[0.5555555555555556,\"#d8576b\"],[0.6666666666666666,\"#ed7953\"],[0.7777777777777778,\"#fb9f3a\"],[0.8888888888888888,\"#fdca26\"],[1.0,\"#f0f921\"]],\"type\":\"contour\"}],\"contourcarpet\":[{\"colorbar\":{\"outlinewidth\":0,\"ticks\":\"\"},\"type\":\"contourcarpet\"}],\"heatmap\":[{\"colorbar\":{\"outlinewidth\":0,\"ticks\":\"\"},\"colorscale\":[[0.0,\"#0d0887\"],[0.1111111111111111,\"#46039f\"],[0.2222222222222222,\"#7201a8\"],[0.3333333333333333,\"#9c179e\"],[0.4444444444444444,\"#bd3786\"],[0.5555555555555556,\"#d8576b\"],[0.6666666666666666,\"#ed7953\"],[0.7777777777777778,\"#fb9f3a\"],[0.8888888888888888,\"#fdca26\"],[1.0,\"#f0f921\"]],\"type\":\"heatmap\"}],\"heatmapgl\":[{\"colorbar\":{\"outlinewidth\":0,\"ticks\":\"\"},\"colorscale\":[[0.0,\"#0d0887\"],[0.1111111111111111,\"#46039f\"],[0.2222222222222222,\"#7201a8\"],[0.3333333333333333,\"#9c179e\"],[0.4444444444444444,\"#bd3786\"],[0.5555555555555556,\"#d8576b\"],[0.6666666666666666,\"#ed7953\"],[0.7777777777777778,\"#fb9f3a\"],[0.8888888888888888,\"#fdca26\"],[1.0,\"#f0f921\"]],\"type\":\"heatmapgl\"}],\"histogram\":[{\"marker\":{\"pattern\":{\"fillmode\":\"overlay\",\"size\":10,\"solidity\":0.2}},\"type\":\"histogram\"}],\"histogram2d\":[{\"colorbar\":{\"outlinewidth\":0,\"ticks\":\"\"},\"colorscale\":[[0.0,\"#0d0887\"],[0.1111111111111111,\"#46039f\"],[0.2222222222222222,\"#7201a8\"],[0.3333333333333333,\"#9c179e\"],[0.4444444444444444,\"#bd3786\"],[0.5555555555555556,\"#d8576b\"],[0.6666666666666666,\"#ed7953\"],[0.7777777777777778,\"#fb9f3a\"],[0.8888888888888888,\"#fdca26\"],[1.0,\"#f0f921\"]],\"type\":\"histogram2d\"}],\"histogram2dcontour\":[{\"colorbar\":{\"outlinewidth\":0,\"ticks\":\"\"},\"colorscale\":[[0.0,\"#0d0887\"],[0.1111111111111111,\"#46039f\"],[0.2222222222222222,\"#7201a8\"],[0.3333333333333333,\"#9c179e\"],[0.4444444444444444,\"#bd3786\"],[0.5555555555555556,\"#d8576b\"],[0.6666666666666666,\"#ed7953\"],[0.7777777777777778,\"#fb9f3a\"],[0.8888888888888888,\"#fdca26\"],[1.0,\"#f0f921\"]],\"type\":\"histogram2dcontour\"}],\"mesh3d\":[{\"colorbar\":{\"outlinewidth\":0,\"ticks\":\"\"},\"type\":\"mesh3d\"}],\"parcoords\":[{\"line\":{\"colorbar\":{\"outlinewidth\":0,\"ticks\":\"\"}},\"type\":\"parcoords\"}],\"pie\":[{\"automargin\":true,\"type\":\"pie\"}],\"scatter\":[{\"marker\":{\"colorbar\":{\"outlinewidth\":0,\"ticks\":\"\"}},\"type\":\"scatter\"}],\"scatter3d\":[{\"line\":{\"colorbar\":{\"outlinewidth\":0,\"ticks\":\"\"}},\"marker\":{\"colorbar\":{\"outlinewidth\":0,\"ticks\":\"\"}},\"type\":\"scatter3d\"}],\"scattercarpet\":[{\"marker\":{\"colorbar\":{\"outlinewidth\":0,\"ticks\":\"\"}},\"type\":\"scattercarpet\"}],\"scattergeo\":[{\"marker\":{\"colorbar\":{\"outlinewidth\":0,\"ticks\":\"\"}},\"type\":\"scattergeo\"}],\"scattergl\":[{\"marker\":{\"colorbar\":{\"outlinewidth\":0,\"ticks\":\"\"}},\"type\":\"scattergl\"}],\"scattermapbox\":[{\"marker\":{\"colorbar\":{\"outlinewidth\":0,\"ticks\":\"\"}},\"type\":\"scattermapbox\"}],\"scatterpolar\":[{\"marker\":{\"colorbar\":{\"outlinewidth\":0,\"ticks\":\"\"}},\"type\":\"scatterpolar\"}],\"scatterpolargl\":[{\"marker\":{\"colorbar\":{\"outlinewidth\":0,\"ticks\":\"\"}},\"type\":\"scatterpolargl\"}],\"scatterternary\":[{\"marker\":{\"colorbar\":{\"outlinewidth\":0,\"ticks\":\"\"}},\"type\":\"scatterternary\"}],\"surface\":[{\"colorbar\":{\"outlinewidth\":0,\"ticks\":\"\"},\"colorscale\":[[0.0,\"#0d0887\"],[0.1111111111111111,\"#46039f\"],[0.2222222222222222,\"#7201a8\"],[0.3333333333333333,\"#9c179e\"],[0.4444444444444444,\"#bd3786\"],[0.5555555555555556,\"#d8576b\"],[0.6666666666666666,\"#ed7953\"],[0.7777777777777778,\"#fb9f3a\"],[0.8888888888888888,\"#fdca26\"],[1.0,\"#f0f921\"]],\"type\":\"surface\"}],\"table\":[{\"cells\":{\"fill\":{\"color\":\"#EBF0F8\"},\"line\":{\"color\":\"white\"}},\"header\":{\"fill\":{\"color\":\"#C8D4E3\"},\"line\":{\"color\":\"white\"}},\"type\":\"table\"}]},\"layout\":{\"annotationdefaults\":{\"arrowcolor\":\"#2a3f5f\",\"arrowhead\":0,\"arrowwidth\":1},\"autotypenumbers\":\"strict\",\"coloraxis\":{\"colorbar\":{\"outlinewidth\":0,\"ticks\":\"\"}},\"colorscale\":{\"diverging\":[[0,\"#8e0152\"],[0.1,\"#c51b7d\"],[0.2,\"#de77ae\"],[0.3,\"#f1b6da\"],[0.4,\"#fde0ef\"],[0.5,\"#f7f7f7\"],[0.6,\"#e6f5d0\"],[0.7,\"#b8e186\"],[0.8,\"#7fbc41\"],[0.9,\"#4d9221\"],[1,\"#276419\"]],\"sequential\":[[0.0,\"#0d0887\"],[0.1111111111111111,\"#46039f\"],[0.2222222222222222,\"#7201a8\"],[0.3333333333333333,\"#9c179e\"],[0.4444444444444444,\"#bd3786\"],[0.5555555555555556,\"#d8576b\"],[0.6666666666666666,\"#ed7953\"],[0.7777777777777778,\"#fb9f3a\"],[0.8888888888888888,\"#fdca26\"],[1.0,\"#f0f921\"]],\"sequentialminus\":[[0.0,\"#0d0887\"],[0.1111111111111111,\"#46039f\"],[0.2222222222222222,\"#7201a8\"],[0.3333333333333333,\"#9c179e\"],[0.4444444444444444,\"#bd3786\"],[0.5555555555555556,\"#d8576b\"],[0.6666666666666666,\"#ed7953\"],[0.7777777777777778,\"#fb9f3a\"],[0.8888888888888888,\"#fdca26\"],[1.0,\"#f0f921\"]]},\"colorway\":[\"#636efa\",\"#EF553B\",\"#00cc96\",\"#ab63fa\",\"#FFA15A\",\"#19d3f3\",\"#FF6692\",\"#B6E880\",\"#FF97FF\",\"#FECB52\"],\"font\":{\"color\":\"#2a3f5f\"},\"geo\":{\"bgcolor\":\"white\",\"lakecolor\":\"white\",\"landcolor\":\"#E5ECF6\",\"showlakes\":true,\"showland\":true,\"subunitcolor\":\"white\"},\"hoverlabel\":{\"align\":\"left\"},\"hovermode\":\"closest\",\"mapbox\":{\"style\":\"light\"},\"paper_bgcolor\":\"white\",\"plot_bgcolor\":\"#E5ECF6\",\"polar\":{\"angularaxis\":{\"gridcolor\":\"white\",\"linecolor\":\"white\",\"ticks\":\"\"},\"bgcolor\":\"#E5ECF6\",\"radialaxis\":{\"gridcolor\":\"white\",\"linecolor\":\"white\",\"ticks\":\"\"}},\"scene\":{\"xaxis\":{\"backgroundcolor\":\"#E5ECF6\",\"gridcolor\":\"white\",\"gridwidth\":2,\"linecolor\":\"white\",\"showbackground\":true,\"ticks\":\"\",\"zerolinecolor\":\"white\"},\"yaxis\":{\"backgroundcolor\":\"#E5ECF6\",\"gridcolor\":\"white\",\"gridwidth\":2,\"linecolor\":\"white\",\"showbackground\":true,\"ticks\":\"\",\"zerolinecolor\":\"white\"},\"zaxis\":{\"backgroundcolor\":\"#E5ECF6\",\"gridcolor\":\"white\",\"gridwidth\":2,\"linecolor\":\"white\",\"showbackground\":true,\"ticks\":\"\",\"zerolinecolor\":\"white\"}},\"shapedefaults\":{\"line\":{\"color\":\"#2a3f5f\"}},\"ternary\":{\"aaxis\":{\"gridcolor\":\"white\",\"linecolor\":\"white\",\"ticks\":\"\"},\"baxis\":{\"gridcolor\":\"white\",\"linecolor\":\"white\",\"ticks\":\"\"},\"bgcolor\":\"#E5ECF6\",\"caxis\":{\"gridcolor\":\"white\",\"linecolor\":\"white\",\"ticks\":\"\"}},\"title\":{\"x\":0.05},\"xaxis\":{\"automargin\":true,\"gridcolor\":\"white\",\"linecolor\":\"white\",\"ticks\":\"\",\"title\":{\"standoff\":15},\"zerolinecolor\":\"white\",\"zerolinewidth\":2},\"yaxis\":{\"automargin\":true,\"gridcolor\":\"white\",\"linecolor\":\"white\",\"ticks\":\"\",\"title\":{\"standoff\":15},\"zerolinecolor\":\"white\",\"zerolinewidth\":2}}},\"geo\":{\"domain\":{\"x\":[0.0,1.0],\"y\":[0.0,1.0]},\"center\":{},\"scope\":\"usa\"},\"coloraxis\":{\"colorbar\":{\"title\":{\"text\":\"color\"}},\"colorscale\":[[0.0,\"#0d0887\"],[0.1111111111111111,\"#46039f\"],[0.2222222222222222,\"#7201a8\"],[0.3333333333333333,\"#9c179e\"],[0.4444444444444444,\"#bd3786\"],[0.5555555555555556,\"#d8576b\"],[0.6666666666666666,\"#ed7953\"],[0.7777777777777778,\"#fb9f3a\"],[0.8888888888888888,\"#fdca26\"],[1.0,\"#f0f921\"]]},\"legend\":{\"tracegroupgap\":0},\"margin\":{\"t\":60},\"title\":{\"text\":\"Estimated Active Member Counts for Each Tract\"}},                        {\"responsive\": true}                    )                };                            </script>        </div>\n</body>\n</html>",
       "datasetInfos": [],
       "metadata": {},
       "removedWidgets": [],
       "textData": null,
       "type": "htmlSandbox"
      }
     },
     "output_type": "display_data"
    }
   ],
   "source": [
    "# Spatial map\n",
    "latitudes = df2.select('lat').rdd.flatMap(lambda x: x).collect()\n",
    "longitudes = df2.select('long').rdd.flatMap(lambda x: x).collect()\n",
    "\n",
    "import plotly.express as px\n",
    "\n",
    "fig = px.scatter_geo(\n",
    "    lat=latitudes,\n",
    "    lon=longitudes,\n",
    "    # text=df2.select('tract').rdd.flatMap(lambda x: x).collect(),\n",
    "    color=df2.select('Sunday_Totals_Scaled_by_Month').rdd.flatMap(lambda x: x).collect(),\n",
    "    locationmode=\"USA-states\"\n",
    ")\n",
    "\n",
    "fig.update_layout(\n",
    "    title='Estimated Active Member Counts for Each Tract',\n",
    "    geo_scope='usa',\n",
    ")\n",
    "\n",
    "fig.show()"
   ]
  },
  {
   "cell_type": "code",
   "execution_count": 0,
   "metadata": {
    "application/vnd.databricks.v1+cell": {
     "cellMetadata": {
      "byteLimit": 2048000,
      "rowLimit": 10000
     },
     "inputWidgets": {},
     "nuid": "0bd47bfc-c471-4258-9033-d73e46bd46c8",
     "showTitle": false,
     "title": ""
    }
   },
   "outputs": [],
   "source": [
    "# spatial map with transparency\n",
    "# import plotly.express as px\n",
    "\n",
    "# fig = px.scatter_geo(\n",
    "#     lat=latitudes,\n",
    "#     lon=longitudes,\n",
    "#     text=df2.select('tract').rdd.flatMap(lambda x: x).collect(),\n",
    "#     color=df2.select('Sunday_Totals_Scaled_by_Month').rdd.flatMap(lambda x: x).collect(),\n",
    "#     locationmode=\"USA-states\"\n",
    "# )\n",
    "\n",
    "# fig.update_traces(marker=dict(opacity=0.5))\n",
    "\n",
    "# fig.update_layout(\n",
    "#     title='Estimated Active Member Counts for Each Tract',\n",
    "#     geo_scope='usa',\n",
    "# )\n",
    "\n",
    "# fig.show()"
   ]
  }
 ],
 "metadata": {
  "application/vnd.databricks.v1+notebook": {
   "dashboards": [],
   "language": "python",
   "notebookMetadata": {
    "pythonIndentUnit": 4
   },
   "notebookName": "Target Challenge - Josh Smith",
   "widgets": {}
  }
 },
 "nbformat": 4,
 "nbformat_minor": 0
}

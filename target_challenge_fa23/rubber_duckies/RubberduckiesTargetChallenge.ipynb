{
 "cells": [
  {
   "cell_type": "markdown",
   "metadata": {
    "application/vnd.databricks.v1+cell": {
     "cellMetadata": {
      "byteLimit": 2048000,
      "rowLimit": 10000
     },
     "inputWidgets": {},
     "nuid": "d4188acb-9d25-4a73-bb1c-4e497751c611",
     "showTitle": false,
     "title": ""
    }
   },
   "source": [
    "# Target Description\n",
    "\n",
    "For our Target we wanted to find the number of Sunday church attendees for each tract. We want to filter out any non-Church buildings for this and filter out any non-Meeting house buildings such as temples. Although Churches have visitors that don't attend that meeting house we believed that these numbers don't need to be filtered out because these visitors avg out over time."
   ]
  },
  {
   "cell_type": "markdown",
   "metadata": {
    "application/vnd.databricks.v1+cell": {
     "cellMetadata": {
      "byteLimit": 2048000,
      "rowLimit": 10000
     },
     "inputWidgets": {},
     "nuid": "75976d68-b721-444f-858c-83659164bf8d",
     "showTitle": false,
     "title": ""
    }
   },
   "source": [
    "# How It Was Calculated\n",
    "\n",
    "First we filter out all non church buildings in that places table using filter rlike. second we join this filtered table with patters leaving on the patterns of the church buildings. Third we will grab total visits and divide by  sunday attendance  for the popularity by day column to get the %of attendance that was on sunday. we will then explode the visitor_home_aggregation column and multiply the value by %of attendance that was on sunday. we will then group by tract code summing all the values in the value column. This should give us an idea of how many people go to church in each tract."
   ]
  },
  {
   "cell_type": "code",
   "execution_count": null,
   "metadata": {
    "application/vnd.databricks.v1+cell": {
     "cellMetadata": {
      "byteLimit": 2048000,
      "rowLimit": 10000
     },
     "inputWidgets": {},
     "nuid": "719a4c1d-b132-4115-9efb-fbce1da88905",
     "showTitle": false,
     "title": ""
    },
    "jupyter": {
     "source_hidden": true
    }
   },
   "outputs": [],
   "source": [
    "from pyspark.sql import Row\n",
    "from pyspark.sql.functions import lower,col,udf\n",
    "from pyspark.sql.functions import *\n",
    "import pyspark.sql.functions as F\n",
    "\n",
    "# load database\n",
    "#%run ./build_database\n",
    "\n",
    "# get safegraph data\n",
    "places = spark.table(\"safegraph.places\")\n",
    "patterns = spark.table(\"safegraph.patterns\")\n",
    "censusblock_table = spark.table(\"safegraph.censusblock_table\")\n",
    "tract_table = spark.table(\"safegraph.tract_table\")\n",
    "\n",
    "lds_church = places.filter(\n",
    "    (F.col(\"top_category\") == \"Religious Organizations\") &\n",
    "    (F.col(\"location_name\").rlike(\"Latter|latter|Saints|saints|LDS|\\b[Ww]ard\\b\")) &\n",
    "    (F.col(\"location_name\").rlike(\"^((?!Reorganized).)*$\")) &\n",
    "    (F.col(\"location_name\").rlike(\"^((?!All Saints).)*$\")) &\n",
    "    (F.col(\"location_name\").rlike(\"^((?![cC]ath).)*$\")) &\n",
    "    (F.col(\"location_name\").rlike(\"^((?![Bb]ody).)*$\")) &\n",
    "    (F.col(\"location_name\").rlike(\"^((?![Pp]eter).)*$\")) &\n",
    "    (F.col(\"location_name\").rlike(\"^((?![Cc]atholic).)*$\")) &\n",
    "    (F.col(\"location_name\").rlike(\"^((?![Pp]res).)*$\")) &\n",
    "    (F.col(\"location_name\").rlike(\"^((?![Mm]inist).)*$\")) &\n",
    "    (F.col(\"location_name\").rlike(\"^((?![Mm]ission).)*$\")) &\n",
    "    (F.col(\"location_name\").rlike(\"^((?![Ww]orship).)*$\")) &\n",
    "    (F.col(\"location_name\").rlike(\"^((?![Rr]ain).)*$\")) &\n",
    "    (F.col(\"location_name\").rlike(\"^((?![Bb]aptist).)*$\")) &\n",
    "    (F.col(\"location_name\").rlike(\"^((?![Mm]eth).)*$\")) &\n",
    "    (F.col(\"location_name\").rlike(\"^((?![Ee]vang).)*$\")) &\n",
    "    (F.col(\"location_name\").rlike(\"^((?![Ll]utheran).)*$\")) &\n",
    "    (F.col(\"location_name\").rlike(\"^((?![Oo]rthodox).)*$\")) &\n",
    "    (F.col(\"location_name\").rlike(\"^((?![Ee]piscopal).)*$\")) &\n",
    "    (F.col(\"location_name\").rlike(\"^((?![Tt]abernacle).)*$\")) &\n",
    "    (F.col(\"location_name\").rlike(\"^((?![Hh]arvest).)*$\")) &\n",
    "    (F.col(\"location_name\").rlike(\"^((?![Aa]ssem).)*$\")) &\n",
    "    (F.col(\"location_name\").rlike(\"^((?![Mm]edia).)*$\")) &\n",
    "    (F.col(\"location_name\").rlike(\"^((?![Mm]artha).)*$\")) &\n",
    "    (F.col(\"location_name\").rlike(\"^((?![Cc]hristian).)*$\")) &\n",
    "    (F.col(\"location_name\").rlike(\"^((?![Uu]nited).)*$\")) &\n",
    "    (F.col(\"location_name\").rlike(\"^((?![Ff]ellowship).)*$\")) &\n",
    "    (F.col(\"location_name\").rlike(\"^((?![Ww]esl).)*$\")) &\n",
    "    (F.col(\"location_name\").rlike(\"^((?![C]cosmas).)*$\")) &\n",
    "    (F.col(\"location_name\").rlike(\"^((?![Gg]reater).)*$\")) &\n",
    "    (F.col(\"location_name\").rlike(\"^((?![Pp]rison).)*$\")) &\n",
    "    (F.col(\"location_name\").rlike(\"^((?![Cc]ommuni).)*$\")) &\n",
    "    (F.col(\"location_name\").rlike(\"^((?![Cc]lement).)*$\")) &\n",
    "    (F.col(\"location_name\").rlike(\"^((?![Vv]iridian).)*$\")) &\n",
    "    (F.col(\"location_name\").rlike(\"^((?![Dd]iocese).)*$\")) &\n",
    "    (F.col(\"location_name\").rlike(\"^((?![Hh]istory).)*$\")) &\n",
    "    (F.col(\"location_name\").rlike(\"^((?![Ss]chool).)*$\")) &\n",
    "    (F.col(\"location_name\").rlike(\"^((?![Tt]hougt).)*$\")) &\n",
    "    (F.col(\"location_name\").rlike(\"^((?![Hh]oliness).)*$\")) &\n",
    "    (F.col(\"location_name\").rlike(\"^((?![Mm]artyr).)*$\")) &\n",
    "    (F.col(\"location_name\").rlike(\"^((?![Jj]ames).)*$\")) &\n",
    "    (F.col(\"location_name\").rlike(\"^((?![Ff]ellowship).)*$\")) &\n",
    "    (F.col(\"location_name\").rlike(\"^((?![Hh]ouse).)*$\")) &\n",
    "    (F.col(\"location_name\").rlike(\"^((?![Gg]lory).)*$\")) &\n",
    "    (F.col(\"location_name\").rlike(\"^((?![Aa]nglican).)*$\")) &\n",
    "    (F.col(\"location_name\").rlike(\"^((?![Pp]oetic).)*$\")) &\n",
    "    (F.col(\"location_name\").rlike(\"^((?![Ss]anctuary).)*$\")) &\n",
    "    (F.col(\"location_name\").rlike(\"^((?![Ee]quipping).)*$\")) &\n",
    "    (F.col(\"location_name\").rlike(\"^((?![Jj]ohn).)*$\")) &\n",
    "    (F.col(\"location_name\").rlike(\"^((?![Aa]ndrew).)*$\")) &\n",
    "    (F.col(\"location_name\").rlike(\"^((?![Ee]manuel).)*$\")) &\n",
    "    (F.col(\"location_name\").rlike(\"^((?![Rr]edeemed).)*$\")) &\n",
    "    (F.col(\"location_name\").rlike(\"^((?![Pp]erfecting).)*$\")) &\n",
    "    (F.col(\"location_name\").rlike(\"^((?![Aa]ngel).)*$\")) &\n",
    "    (F.col(\"location_name\").rlike(\"^((?![Aa]rchangel).)*$\")) &\n",
    "    (F.col(\"location_name\").rlike(\"^((?![Mm]icheal).)*$\")) &\n",
    "    (F.col(\"location_name\").rlike(\"^((?![Tt]hought).)*$\")) &\n",
    "    (F.col(\"location_name\").rlike(\"^((?![Pp]ariosse).)*$\")) &\n",
    "    (F.col(\"location_name\").rlike(\"^((?![Cc]osmas).)*$\")) &\n",
    "    (F.col(\"location_name\").rlike(\"^((?![Dd]eliverance).)*$\")) &\n",
    "    (F.col(\"location_name\").rlike(\"^((?![Ss]ociete).)*$\")) &\n",
    "    (F.col(\"location_name\").rlike(\"^((?![Tt]emple).)*$\")) &\n",
    "    (F.col(\"location_name\").rlike(\"^((?![Ss]eminary).)*$\")) &\n",
    "    (F.col(\"location_name\").rlike(\"^((?![Ee]mployment).)*$\")) &\n",
    "    (F.col(\"location_name\").rlike(\"^((?![Ii]nstitute).)*$\")) &\n",
    "    (F.col(\"location_name\").rlike(\"^((?![Cc]amp).)*$\")) &\n",
    "    (F.col(\"location_name\").rlike(\"^((?![Ss]tudent).)*$\")) &\n",
    "    (F.col(\"location_name\").rlike(\"^((?![Ee]ducation).)*$\")) &\n",
    "    (F.col(\"location_name\").rlike(\"^((?![Ss]ocial).)*$\")) &\n",
    "    (F.col(\"location_name\").rlike(\"^((?![Ww]welfare).)*$\")) &\n",
    "    (F.col(\"location_name\").rlike(\"^((?![Cc][Ee][Ss]).)*$\")) &\n",
    "    (F.col(\"location_name\").rlike(\"^((?![Ff]amily).)*$\")) &\n",
    "    (F.col(\"location_name\").rlike(\"^((?![Mm]ary).)*$\")) &\n",
    "    (F.col(\"location_name\").rlike(\"^((?![Rr]ussian).)*$\")) &\n",
    "    (F.col(\"location_name\").rlike(\"^((?![Bb]eautif).)*$\")) &\n",
    "    (F.col(\"location_name\").rlike(\"^((?![Hh]eaven).)*$\")) &    \n",
    "    (F.col(\"location_name\").rlike(\"^((?!Inc).)*$\")) &\n",
    "    (F.col(\"location_name\").rlike(\"^((?!God).)*$\"))\n",
    "  )\n",
    "\n",
    "  # Join palces with patterns to work with the vis counts of each church\n",
    "finding_churchs = patterns.join(other = lds_church, on = \"placekey\", how= \"inner\" )\n",
    "\n",
    "finding_churchs = (finding_churchs.withColumn(\"Visits_per_visitor_avg\", F.col(\"raw_visit_counts\") / F.col(\"raw_visitor_counts\"))\n",
    "                   .withColumn(\"Sunday_visits\", F.col(\"popularity_by_day\")[\"Sunday\"]).withColumn(\"sun_visit_%\", F.col(\"Sunday_visits\") / F.col(\"raw_visit_counts\"))\n",
    "                    )\n",
    "\n",
    "# sum up all visitors for a tract from all the churchs \n",
    "finding_visit_count = finding_churchs.select(\"*\", explode(\"visitor_home_aggregation\"))\n",
    "finding_visit_count = (finding_visit_count.withColumn(\"sunday_visit_count\", F.col(\"value\") * F.col(\"sun_visit_%\"))\n",
    "                       .groupBy(\"key\").agg(F.sum(\"value\"), F.avg(\"Visits_per_visitor_avg\"))\n",
    "                       )\n",
    "finding_visit_count = (finding_visit_count.withColumnRenamed(\"key\", \"tractcode\")\n",
    "                       .withColumnRenamed(\"sum(value)\", \"visit_count_total\")\n",
    "                       .withColumnRenamed(\"avg(Visits_per_visitor_avg)\", \"avg_visits_per_visitor\")\n",
    ")\n",
    "\n",
    "finding_visit_count = finding_visit_count.join(other = tract_table, on= \"tractcode\", how= \"inner\")\n",
    "\n",
    "finding_visit_count = finding_visit_count.orderBy(\"tractcode\")"
   ]
  },
  {
   "cell_type": "markdown",
   "metadata": {
    "application/vnd.databricks.v1+cell": {
     "cellMetadata": {
      "byteLimit": 2048000,
      "rowLimit": 10000
     },
     "inputWidgets": {},
     "nuid": "19994965-f857-4ddb-957c-bac545a9bf05",
     "showTitle": false,
     "title": ""
    }
   },
   "source": [
    "# Diagram\n",
    "\n",
    "The diagram gives a quick look at the key pieces of information we used to build the feature for our analysis. It shows the names of the different categories of data (like 'tractcode' for specific areas and ‘visit_count_total’ for the number of visits) and what type of information each category holds (like numbers or text). This summary helps everyone understand what the data is about and how it’s organized, making it simpler to work with and understand for further study."
   ]
  },
  {
   "cell_type": "code",
   "execution_count": null,
   "metadata": {
    "application/vnd.databricks.v1+cell": {
     "cellMetadata": {
      "byteLimit": 2048000,
      "rowLimit": 10000
     },
     "inputWidgets": {},
     "nuid": "4fdf0a5b-92d0-41d7-8a28-2328daa90215",
     "showTitle": false,
     "title": ""
    },
    "jupyter": {
     "source_hidden": true
    }
   },
   "outputs": [
    {
     "data": {
      "text/html": [
       "<table><tr><th>Column Name</th><th>Data Type</th><th>Description</th></tr><tr><td>tractcode</td><td>string</td><td>Tract code</td></tr><tr><td>visit_count_total</td><td>bigint</td><td>Total visit count</td></tr><tr><td>avg_visits_per_visitor</td><td>double</td><td>Average visits per visitor</td></tr><tr><td>state</td><td>string</td><td>State</td></tr><tr><td>county</td><td>string</td><td>County</td></tr><tr><td>tract</td><td>string</td><td>Tract</td></tr><tr><td>name</td><td>string</td><td>Name</td></tr><tr><td>land_m</td><td>double</td><td>Land area (in square meters)</td></tr><tr><td>water_m</td><td>double</td><td>Water area (in square meters)</td></tr><tr><td>lat</td><td>double</td><td>Latitude</td></tr><tr><td>long</td><td>double</td><td>Longitude</td></tr><tr><td>cnamelong</td><td>string</td><td>Long city name</td></tr><tr><td>tractname</td><td>string</td><td>Tract name</td></tr><tr><td>city</td><td>string</td><td>City</td></tr><tr><td>county_name</td><td>string</td><td>County name</td></tr><tr><td>city_population_2010</td><td>int</td><td>City population in 2010</td></tr><tr><td>city_long</td><td>double</td><td>City longitude</td></tr><tr><td>city_lat</td><td>double</td><td>City latitude</td></tr></table>"
      ]
     },
     "metadata": {
      "application/vnd.databricks.v1+output": {
       "addedWidgets": {},
       "arguments": {},
       "data": "<table><tr><th>Column Name</th><th>Data Type</th><th>Description</th></tr><tr><td>tractcode</td><td>string</td><td>Tract code</td></tr><tr><td>visit_count_total</td><td>bigint</td><td>Total visit count</td></tr><tr><td>avg_visits_per_visitor</td><td>double</td><td>Average visits per visitor</td></tr><tr><td>state</td><td>string</td><td>State</td></tr><tr><td>county</td><td>string</td><td>County</td></tr><tr><td>tract</td><td>string</td><td>Tract</td></tr><tr><td>name</td><td>string</td><td>Name</td></tr><tr><td>land_m</td><td>double</td><td>Land area (in square meters)</td></tr><tr><td>water_m</td><td>double</td><td>Water area (in square meters)</td></tr><tr><td>lat</td><td>double</td><td>Latitude</td></tr><tr><td>long</td><td>double</td><td>Longitude</td></tr><tr><td>cnamelong</td><td>string</td><td>Long city name</td></tr><tr><td>tractname</td><td>string</td><td>Tract name</td></tr><tr><td>city</td><td>string</td><td>City</td></tr><tr><td>county_name</td><td>string</td><td>County name</td></tr><tr><td>city_population_2010</td><td>int</td><td>City population in 2010</td></tr><tr><td>city_long</td><td>double</td><td>City longitude</td></tr><tr><td>city_lat</td><td>double</td><td>City latitude</td></tr></table>",
       "datasetInfos": [],
       "metadata": {},
       "removedWidgets": [],
       "textData": null,
       "type": "htmlSandbox"
      }
     },
     "output_type": "display_data"
    }
   ],
   "source": [
    "# Define the column names, data types, and descriptions\n",
    "columns_data = [\n",
    "    (\"tractcode\", \"string\", \"Tract code\"),\n",
    "    (\"visit_count_total\", \"bigint\", \"Total visit count\"),\n",
    "    (\"avg_visits_per_visitor\", \"double\", \"Average visits per visitor\"),\n",
    "    (\"state\", \"string\", \"State\"),\n",
    "    (\"county\", \"string\", \"County\"),\n",
    "    (\"tract\", \"string\", \"Tract\"),\n",
    "    (\"name\", \"string\", \"Name\"),\n",
    "    (\"land_m\", \"double\", \"Land area (in square meters)\"),\n",
    "    (\"water_m\", \"double\", \"Water area (in square meters)\"),\n",
    "    (\"lat\", \"double\", \"Latitude\"),\n",
    "    (\"long\", \"double\", \"Longitude\"),\n",
    "    (\"cnamelong\", \"string\", \"Long city name\"),\n",
    "    (\"tractname\", \"string\", \"Tract name\"),\n",
    "    (\"city\", \"string\", \"City\"),\n",
    "    (\"county_name\", \"string\", \"County name\"),\n",
    "    (\"city_population_2010\", \"int\", \"City population in 2010\"),\n",
    "    (\"city_long\", \"double\", \"City longitude\"),\n",
    "    (\"city_lat\", \"double\", \"City latitude\")\n",
    "]\n",
    "# Create an HTML table with column names, data types, and descriptions\n",
    "html_table = \"<table><tr><th>Column Name</th><th>Data Type</th><th>Description</th></tr>\"\n",
    "for column_data in columns_data:\n",
    "    html_table += f\"<tr><td>{column_data[0]}</td><td>{column_data[1]}</td><td>{column_data[2]}</td></tr>\"\n",
    "html_table += \"</table>\"\n",
    "# Display the HTML table\n",
    "displayHTML(html_table)"
   ]
  },
  {
   "cell_type": "markdown",
   "metadata": {
    "application/vnd.databricks.v1+cell": {
     "cellMetadata": {},
     "inputWidgets": {},
     "nuid": "d15472fa-8284-4be1-a7e8-5c2f93b4d7f9",
     "showTitle": false,
     "title": ""
    }
   },
   "source": [
    "# What the Table Looks Like\n",
    "\n",
    "This is how the 5 first rows of our final table look like."
   ]
  },
  {
   "cell_type": "code",
   "execution_count": null,
   "metadata": {
    "application/vnd.databricks.v1+cell": {
     "cellMetadata": {
      "byteLimit": 2048000,
      "rowLimit": 10000
     },
     "inputWidgets": {},
     "nuid": "3ce638a2-ff20-4c56-999f-be9dd936b9a3",
     "showTitle": false,
     "title": ""
    },
    "jupyter": {
     "source_hidden": true
    }
   },
   "outputs": [
    {
     "data": {
      "text/html": [
       "<style scoped>\n",
       "  .table-result-container {\n",
       "    max-height: 300px;\n",
       "    overflow: auto;\n",
       "  }\n",
       "  table, th, td {\n",
       "    border: 1px solid black;\n",
       "    border-collapse: collapse;\n",
       "  }\n",
       "  th, td {\n",
       "    padding: 5px;\n",
       "  }\n",
       "  th {\n",
       "    text-align: left;\n",
       "  }\n",
       "</style><div class='table-result-container'><table class='table-result'><thead style='background-color: white'><tr><th>tractcode</th><th>visit_count_total</th><th>avg_visits_per_visitor</th><th>state</th><th>county</th><th>tract</th><th>name</th><th>land_m</th><th>water_m</th><th>lat</th><th>long</th><th>cnamelong</th><th>tractname</th><th>city</th><th>county_name</th><th>city_population_2010</th><th>city_long</th><th>city_lat</th><th>stusab</th><th>state_name</th><th>statens</th></tr></thead><tbody><tr><td>16001000100</td><td>163</td><td>2.3069695424150987</td><td>16</td><td>001</td><td>000100</td><td>1</td><td>4141830.0</td><td>165711.0</td><td>43.6159696</td><td>-116.2075223</td><td>Ada County</td><td>1</td><td>Boise</td><td>Ada</td><td>205671</td><td>-116.2310843</td><td>43.5984881</td><td>ID</td><td>Idaho</td><td>01779783</td></tr><tr><td>16001000201</td><td>398</td><td>2.7218009641502747</td><td>16</td><td>001</td><td>000201</td><td>2.01</td><td>1.4234202E7</td><td>18273.0</td><td>43.6314866</td><td>-116.1710011</td><td>Ada County</td><td>2.01</td><td>Boise</td><td>Ada</td><td>205671</td><td>-116.2310843</td><td>43.5984881</td><td>ID</td><td>Idaho</td><td>01779783</td></tr><tr><td>16001000202</td><td>906</td><td>2.60431052114343</td><td>16</td><td>001</td><td>000202</td><td>2.02</td><td>3.3914385E7</td><td>51222.0</td><td>43.6751115</td><td>-116.2170641</td><td>Ada County</td><td>2.02</td><td>Garden City</td><td>Ada</td><td>10972</td><td>-116.293701</td><td>43.6694085</td><td>ID</td><td>Idaho</td><td>01779783</td></tr><tr><td>16001000302</td><td>185</td><td>2.490006561392791</td><td>16</td><td>001</td><td>000302</td><td>3.02</td><td>2041614.0</td><td>9686.0</td><td>43.6518985</td><td>-116.2435264</td><td>Ada County</td><td>3.02</td><td>Garden City</td><td>Ada</td><td>10972</td><td>-116.293701</td><td>43.6694085</td><td>ID</td><td>Idaho</td><td>01779783</td></tr><tr><td>16001000303</td><td>67</td><td>2.5041206575477384</td><td>16</td><td>001</td><td>000303</td><td>3.03</td><td>1798904.0</td><td>224344.0</td><td>43.6589164</td><td>-116.2692899</td><td>Ada County</td><td>3.03</td><td>Garden City</td><td>Ada</td><td>10972</td><td>-116.293701</td><td>43.6694085</td><td>ID</td><td>Idaho</td><td>01779783</td></tr></tbody></table></div>"
      ]
     },
     "metadata": {
      "application/vnd.databricks.v1+output": {
       "addedWidgets": {},
       "aggData": [],
       "aggError": "",
       "aggOverflow": false,
       "aggSchema": [],
       "aggSeriesLimitReached": false,
       "aggType": "",
       "arguments": {},
       "columnCustomDisplayInfos": {},
       "data": [
        [
         "16001000100",
         163,
         2.3069695424150987,
         "16",
         "001",
         "000100",
         "1",
         4141830,
         165711,
         43.6159696,
         -116.2075223,
         "Ada County",
         "1",
         "Boise",
         "Ada",
         205671,
         -116.2310843,
         43.5984881,
         "ID",
         "Idaho",
         "01779783"
        ],
        [
         "16001000201",
         398,
         2.7218009641502747,
         "16",
         "001",
         "000201",
         "2.01",
         14234202,
         18273,
         43.6314866,
         -116.1710011,
         "Ada County",
         "2.01",
         "Boise",
         "Ada",
         205671,
         -116.2310843,
         43.5984881,
         "ID",
         "Idaho",
         "01779783"
        ],
        [
         "16001000202",
         906,
         2.60431052114343,
         "16",
         "001",
         "000202",
         "2.02",
         33914385,
         51222,
         43.6751115,
         -116.2170641,
         "Ada County",
         "2.02",
         "Garden City",
         "Ada",
         10972,
         -116.293701,
         43.6694085,
         "ID",
         "Idaho",
         "01779783"
        ],
        [
         "16001000302",
         185,
         2.490006561392791,
         "16",
         "001",
         "000302",
         "3.02",
         2041614,
         9686,
         43.6518985,
         -116.2435264,
         "Ada County",
         "3.02",
         "Garden City",
         "Ada",
         10972,
         -116.293701,
         43.6694085,
         "ID",
         "Idaho",
         "01779783"
        ],
        [
         "16001000303",
         67,
         2.5041206575477384,
         "16",
         "001",
         "000303",
         "3.03",
         1798904,
         224344,
         43.6589164,
         -116.2692899,
         "Ada County",
         "3.03",
         "Garden City",
         "Ada",
         10972,
         -116.293701,
         43.6694085,
         "ID",
         "Idaho",
         "01779783"
        ]
       ],
       "datasetInfos": [],
       "dbfsResultPath": null,
       "isJsonSchema": true,
       "metadata": {},
       "overflow": false,
       "plotOptions": {
        "customPlotOptions": {},
        "displayType": "table",
        "pivotAggregation": null,
        "pivotColumns": null,
        "xColumns": null,
        "yColumns": null
       },
       "removedWidgets": [],
       "schema": [
        {
         "metadata": "{}",
         "name": "tractcode",
         "type": "\"string\""
        },
        {
         "metadata": "{}",
         "name": "visit_count_total",
         "type": "\"long\""
        },
        {
         "metadata": "{}",
         "name": "avg_visits_per_visitor",
         "type": "\"double\""
        },
        {
         "metadata": "{}",
         "name": "state",
         "type": "\"string\""
        },
        {
         "metadata": "{}",
         "name": "county",
         "type": "\"string\""
        },
        {
         "metadata": "{}",
         "name": "tract",
         "type": "\"string\""
        },
        {
         "metadata": "{}",
         "name": "name",
         "type": "\"string\""
        },
        {
         "metadata": "{}",
         "name": "land_m",
         "type": "\"double\""
        },
        {
         "metadata": "{}",
         "name": "water_m",
         "type": "\"double\""
        },
        {
         "metadata": "{}",
         "name": "lat",
         "type": "\"double\""
        },
        {
         "metadata": "{}",
         "name": "long",
         "type": "\"double\""
        },
        {
         "metadata": "{}",
         "name": "cnamelong",
         "type": "\"string\""
        },
        {
         "metadata": "{}",
         "name": "tractname",
         "type": "\"string\""
        },
        {
         "metadata": "{}",
         "name": "city",
         "type": "\"string\""
        },
        {
         "metadata": "{}",
         "name": "county_name",
         "type": "\"string\""
        },
        {
         "metadata": "{}",
         "name": "city_population_2010",
         "type": "\"integer\""
        },
        {
         "metadata": "{}",
         "name": "city_long",
         "type": "\"double\""
        },
        {
         "metadata": "{}",
         "name": "city_lat",
         "type": "\"double\""
        },
        {
         "metadata": "{}",
         "name": "stusab",
         "type": "\"string\""
        },
        {
         "metadata": "{}",
         "name": "state_name",
         "type": "\"string\""
        },
        {
         "metadata": "{}",
         "name": "statens",
         "type": "\"string\""
        }
       ],
       "type": "table"
      }
     },
     "output_type": "display_data"
    }
   ],
   "source": [
    "display(finding_visit_count.limit(5))"
   ]
  },
  {
   "cell_type": "markdown",
   "metadata": {
    "application/vnd.databricks.v1+cell": {
     "cellMetadata": {
      "byteLimit": 2048000,
      "rowLimit": 10000
     },
     "inputWidgets": {},
     "nuid": "0c0d3d72-3767-4d98-bef1-aa11996e3411",
     "showTitle": false,
     "title": ""
    }
   },
   "source": [
    "# Visualization"
   ]
  },
  {
   "cell_type": "markdown",
   "metadata": {},
   "source": [
    "[See Image](my_image.png)"
   ]
  }
 ],
 "metadata": {
  "application/vnd.databricks.v1+notebook": {
   "dashboards": [],
   "language": "python",
   "notebookMetadata": {
    "pythonIndentUnit": 4
   },
   "notebookName": "RubberduckiesTargetChallenge",
   "widgets": {}
  },
  "language_info": {
   "name": "python"
  }
 },
 "nbformat": 4,
 "nbformat_minor": 0
}

{
 "cells": [
  {
   "cell_type": "code",
   "execution_count": 1,
   "metadata": {},
   "outputs": [],
   "source": [
    "# Import the packages\n",
    "import requests\n",
    "from bs4 import BeautifulSoup\n",
    "import pandas as pd\n",
    "import numpy as np\n",
    "import polars as pl\n",
    "import json\n",
    "import plotly.express as px\n",
    "import us\n",
    "from bs4 import BeautifulSoup \n",
    "from lxml import etree \n",
    "import threading\n",
    "import requests \n",
    "from cse251 import Log\n",
    "log = Log(show_terminal=False, filename_log='scraperLog.txt')#, disable_file=True)"
   ]
  },
  {
   "cell_type": "code",
   "execution_count": 6,
   "metadata": {},
   "outputs": [],
   "source": [
    "# Go through all the state abbreviations (+ washington dc) and request all the state pages and put in a list along with what state they're in\n",
    "stateSoups = [\n",
    "    (state, BeautifulSoup(requests.get(f'https://local.churchofjesuschrist.org/en/us/{state}').content, 'html.parser'))\n",
    "    # for state in ['id']\n",
    "    for state in list(map(lambda st: st.abbr.lower(), us.states.STATES)) + ['dc/washington']\n",
    "]"
   ]
  },
  {
   "cell_type": "code",
   "execution_count": 7,
   "metadata": {},
   "outputs": [],
   "source": [
    "# Go through all the state soups, get the links on the page, and make a big dict of {'state': ['county', 'links']}\n",
    "# countySoups = {}\n",
    "import ezregex as er\n",
    "import re\n",
    "\n",
    "buildingData = []\n",
    "def addData(state, soup):\n",
    "    _countyCount = 0\n",
    "    _stateCount = 0\n",
    "    i = 0\n",
    "    tree = etree.HTML(str(soup))\n",
    "\n",
    "    while True:\n",
    "        _countyCount\n",
    "        i += 1\n",
    "        try:\n",
    "            # An error here means there's no more county links on the state page\n",
    "            elementData = tree.xpath(f'/html/body/main/div/section/div/ul/li[{i}]/a')[0].attrib\n",
    "        except IndexError as err:\n",
    "            break\n",
    "    \n",
    "        # If it links to a page with a single church building, it looks different than one which has multiple church buildings\n",
    "        # Remeber, 10 starts with a 1\n",
    "        if elementData['data-count'][1] == '1' and elementData['data-count'][2] == ')':\n",
    "            subSoup = BeautifulSoup(requests.get(f'https://local.churchofjesuschrist.org/{elementData[\"href\"][6:]}').content, 'html.parser')\n",
    "            subTree = etree.HTML(str(subSoup))\n",
    "            county = re.search((state + '/' + er.group(er.matchMax(er.either(er.word, '-')))).str(), elementData['href']).groups()[0],\n",
    "            try:\n",
    "                # An error here means... there's a problem? It means we can't get the address for some reason\n",
    "                address = subTree.xpath('/html/body/main/div/section[1]/div[2]/div/div/div[1]/div[1]/address/div[1]/span')[0].text\n",
    "            except IndexError:\n",
    "                log.write(f'IndexError at state: {state}, county: {county}, link: https://local.churchofjesuschrist.org/{elementData[\"href\"][6:]}, stateCount: {_stateCount}, countyCount: {_countyCount}')\n",
    "                continue\n",
    "            # address2 = tree.xpath('/html/body/main/div/section[1]/div[2]/div/div/div[1]/div[1]/address/div[2]')[0]\n",
    "            buildingData.append({\n",
    "                'state': state,\n",
    "                'county': county,\n",
    "                'address': address,\n",
    "            })\n",
    "            _countyCount += 1\n",
    "            _stateCount += 1\n",
    "        else:\n",
    "            subSoup = BeautifulSoup(requests.get(f'https://local.churchofjesuschrist.org/{elementData[\"href\"][6:]}').content, 'html.parser')\n",
    "            subTree = etree.HTML(str(subSoup))\n",
    "            # Iterate through the addresses listed on the page\n",
    "            k = 0\n",
    "            county = re.search((state + '/' + er.group(er.word)).str(), elementData['href']).groups()[0]\n",
    "            while True:\n",
    "                k += 1\n",
    "                try:\n",
    "                    address = subTree.xpath(f'/html/body/main/div/section/div/ul/li[{k}]/article/div[2]/address/div[1]/span')[0].text\n",
    "                    # address2 = subTree.xpath(f'/html/body/main/div/section/div/ul/li[{k}]/article/div[2]/address/div[2]')[0].text\n",
    "                    buildingData.append({\n",
    "                        'state': state,\n",
    "                        'county': county,\n",
    "                        'address': address,\n",
    "                    })\n",
    "                    _countyCount += 1\n",
    "                    _stateCount += 1\n",
    "                except IndexError:\n",
    "                    break\n",
    "        log.write(f'Done with {county} county in {state}: found {_countyCount} church building[s]')\n",
    "    log.write(f'Done with state {state}: found {_stateCount} church buildings')\n",
    "\n",
    "threads = [threading.Thread(target=addData, args=args) for args in stateSoups]\n",
    "[i.start() for i in threads]\n",
    "[i.join() for i in threads]\n",
    "pass\n"
   ]
  },
  {
   "cell_type": "code",
   "execution_count": 14,
   "metadata": {},
   "outputs": [],
   "source": [
    "# Don't know why it started doing this all of the sudden\n",
    "buildingDataFixed = []\n",
    "for i in buildingData:\n",
    "    if type(i['county']) is tuple:\n",
    "        i['county'] = i['county'][0]\n",
    "    buildingDataFixed.append(i)\n",
    "\n",
    "\n",
    "# 5859- 6529"
   ]
  },
  {
   "cell_type": "code",
   "execution_count": 3,
   "metadata": {},
   "outputs": [
    {
     "data": {
      "text/html": [
       "<pre style=\"white-space:pre;overflow-x:auto;line-height:normal;font-family:Menlo,'DejaVu Sans Mono',consolas,'Courier New',monospace\"></pre>\n"
      ],
      "text/plain": []
     },
     "metadata": {},
     "output_type": "display_data"
    },
    {
     "data": {
      "text/html": [
       "<div><style>\n",
       ".dataframe > thead > tr > th,\n",
       ".dataframe > tbody > tr > td {\n",
       "  text-align: right;\n",
       "  white-space: pre-wrap;\n",
       "}\n",
       "</style>\n",
       "<small>shape: (6_509, 3)</small><table border=\"1\" class=\"dataframe\"><thead><tr><th>state</th><th>county</th><th>address</th></tr><tr><td>str</td><td>str</td><td>str</td></tr></thead><tbody><tr><td>&quot;az&quot;</td><td>&quot;ajo&quot;</td><td>&quot;801 N Cedar St…</td></tr><tr><td>&quot;al&quot;</td><td>&quot;alabaster&quot;</td><td>&quot;210 Lacey Aven…</td></tr><tr><td>&quot;ar&quot;</td><td>&quot;alma&quot;</td><td>&quot;201 Canterbury…</td></tr><tr><td>&quot;co&quot;</td><td>&quot;alamosa&quot;</td><td>&quot;300 Richardson…</td></tr><tr><td>&quot;co&quot;</td><td>&quot;alamosa&quot;</td><td>&quot;927 Weber Driv…</td></tr><tr><td>&quot;ak&quot;</td><td>&quot;anchorage&quot;</td><td>&quot;2501 Maplewood…</td></tr><tr><td>&quot;ak&quot;</td><td>&quot;anchorage&quot;</td><td>&quot;3250 Strawberr…</td></tr><tr><td>&quot;ak&quot;</td><td>&quot;anchorage&quot;</td><td>&quot;13111 Brayton …</td></tr><tr><td>&quot;ak&quot;</td><td>&quot;anchorage&quot;</td><td>&quot;2240 Baxter Ro…</td></tr><tr><td>&quot;ak&quot;</td><td>&quot;anchorage&quot;</td><td>&quot;3340 West 40th…</td></tr><tr><td>&quot;ak&quot;</td><td>&quot;anchorage&quot;</td><td>&quot;700 West 46th …</td></tr><tr><td>&quot;ak&quot;</td><td>&quot;anchorage&quot;</td><td>&quot;8000 East 36th…</td></tr><tr><td>&hellip;</td><td>&hellip;</td><td>&hellip;</td></tr><tr><td>&quot;ca&quot;</td><td>&quot;willows&quot;</td><td>&quot;810 North Humb…</td></tr><tr><td>&quot;ca&quot;</td><td>&quot;winters&quot;</td><td>&quot;435 Anderson A…</td></tr><tr><td>&quot;ca&quot;</td><td>&quot;winton&quot;</td><td>&quot;5554 North Win…</td></tr><tr><td>&quot;ca&quot;</td><td>&quot;woodland&quot;</td><td>&quot;1405 Cottonwoo…</td></tr><tr><td>&quot;ca&quot;</td><td>&quot;woodland&quot;</td><td>&quot;850 Pioneer Av…</td></tr><tr><td>&quot;ca&quot;</td><td>&quot;woodland-hills…</td><td>&quot;4501 Deseret D…</td></tr><tr><td>&quot;ca&quot;</td><td>&quot;wrightwood&quot;</td><td>&quot;888 Hwy 2&quot;</td></tr><tr><td>&quot;ca&quot;</td><td>&quot;yorba-linda&quot;</td><td>&quot;5550 Ohio Stre…</td></tr><tr><td>&quot;ca&quot;</td><td>&quot;yreka&quot;</td><td>&quot;1001 West Mine…</td></tr><tr><td>&quot;ca&quot;</td><td>&quot;yuba-city&quot;</td><td>&quot;520 Clark Aven…</td></tr><tr><td>&quot;ca&quot;</td><td>&quot;yucaipa&quot;</td><td>&quot;12776 6th Stre…</td></tr><tr><td>&quot;ca&quot;</td><td>&quot;yucca-valley&quot;</td><td>&quot;56885 Onaga Tr…</td></tr></tbody></table></div>"
      ],
      "text/plain": [
       "\n",
       "shape: \u001b[1m(\u001b[0m6_509, \u001b[1;36m3\u001b[0m\u001b[1m)\u001b[0m\n",
       "┌───────┬──────────────┬────────────────────────┐\n",
       "│ state ┆ county       ┆ address                │\n",
       "│ ---   ┆ ---          ┆ ---                    │\n",
       "│ str   ┆ str          ┆ str                    │\n",
       "╞═══════╪══════════════╪════════════════════════╡\n",
       "│ az    ┆ ajo          ┆ \u001b[1;36m801\u001b[0m N Cedar St         │\n",
       "│ al    ┆ alabaster    ┆ \u001b[1;36m210\u001b[0m Lacey Avenue       │\n",
       "│ ar    ┆ alma         ┆ \u001b[1;36m201\u001b[0m Canterbury Drive   │\n",
       "│ co    ┆ alamosa      ┆ \u001b[1;36m300\u001b[0m Richardson Avenue  │\n",
       "│ …     ┆ …            ┆ …                      │\n",
       "│ ca    ┆ yreka        ┆ \u001b[1;36m1001\u001b[0m West Miner Street │\n",
       "│ ca    ┆ yuba-city    ┆ \u001b[1;36m520\u001b[0m Clark Avenue       │\n",
       "│ ca    ┆ yucaipa      ┆ \u001b[1;36m12776\u001b[0m 6th Street       │\n",
       "│ ca    ┆ yucca-valley ┆ \u001b[1;36m56885\u001b[0m Onaga Trail      │\n",
       "└───────┴──────────────┴────────────────────────┘"
      ]
     },
     "execution_count": 3,
     "metadata": {},
     "output_type": "execute_result"
    }
   ],
   "source": [
    "addr = pl.read_csv('Attempt3-6509_addresses.csv')\n",
    "addr"
   ]
  },
  {
   "cell_type": "code",
   "execution_count": 22,
   "metadata": {},
   "outputs": [
    {
     "data": {
      "text/html": [
       "<pre style=\"white-space:pre;overflow-x:auto;line-height:normal;font-family:Menlo,'DejaVu Sans Mono',consolas,'Courier New',monospace\"></pre>\n"
      ],
      "text/plain": []
     },
     "metadata": {},
     "output_type": "display_data"
    },
    {
     "data": {
      "text/html": [
       "<div><style>\n",
       ".dataframe > thead > tr > th,\n",
       ".dataframe > tbody > tr > td {\n",
       "  text-align: right;\n",
       "  white-space: pre-wrap;\n",
       "}\n",
       "</style>\n",
       "<small>shape: (6_509, 3)</small><table border=\"1\" class=\"dataframe\"><thead><tr><th>state</th><th>county</th><th>address</th></tr><tr><td>str</td><td>str</td><td>str</td></tr></thead><tbody><tr><td>&quot;az&quot;</td><td>&quot;ajo&quot;</td><td>&quot;801 N Cedar St…</td></tr><tr><td>&quot;al&quot;</td><td>&quot;alabaster&quot;</td><td>&quot;210 Lacey Aven…</td></tr><tr><td>&quot;ar&quot;</td><td>&quot;alma&quot;</td><td>&quot;201 Canterbury…</td></tr><tr><td>&quot;co&quot;</td><td>&quot;alamosa&quot;</td><td>&quot;300 Richardson…</td></tr><tr><td>&quot;co&quot;</td><td>&quot;alamosa&quot;</td><td>&quot;927 Weber Driv…</td></tr><tr><td>&quot;ak&quot;</td><td>&quot;anchorage&quot;</td><td>&quot;2501 Maplewood…</td></tr><tr><td>&quot;ak&quot;</td><td>&quot;anchorage&quot;</td><td>&quot;3250 Strawberr…</td></tr><tr><td>&quot;ak&quot;</td><td>&quot;anchorage&quot;</td><td>&quot;13111 Brayton …</td></tr><tr><td>&quot;ak&quot;</td><td>&quot;anchorage&quot;</td><td>&quot;2240 Baxter Ro…</td></tr><tr><td>&quot;ak&quot;</td><td>&quot;anchorage&quot;</td><td>&quot;3340 West 40th…</td></tr><tr><td>&quot;ak&quot;</td><td>&quot;anchorage&quot;</td><td>&quot;700 West 46th …</td></tr><tr><td>&quot;ak&quot;</td><td>&quot;anchorage&quot;</td><td>&quot;8000 East 36th…</td></tr><tr><td>&hellip;</td><td>&hellip;</td><td>&hellip;</td></tr><tr><td>&quot;ca&quot;</td><td>&quot;willows&quot;</td><td>&quot;810 North Humb…</td></tr><tr><td>&quot;ca&quot;</td><td>&quot;winters&quot;</td><td>&quot;435 Anderson A…</td></tr><tr><td>&quot;ca&quot;</td><td>&quot;winton&quot;</td><td>&quot;5554 North Win…</td></tr><tr><td>&quot;ca&quot;</td><td>&quot;woodland&quot;</td><td>&quot;1405 Cottonwoo…</td></tr><tr><td>&quot;ca&quot;</td><td>&quot;woodland&quot;</td><td>&quot;850 Pioneer Av…</td></tr><tr><td>&quot;ca&quot;</td><td>&quot;woodland-hills…</td><td>&quot;4501 Deseret D…</td></tr><tr><td>&quot;ca&quot;</td><td>&quot;wrightwood&quot;</td><td>&quot;888 Hwy 2&quot;</td></tr><tr><td>&quot;ca&quot;</td><td>&quot;yorba-linda&quot;</td><td>&quot;5550 Ohio Stre…</td></tr><tr><td>&quot;ca&quot;</td><td>&quot;yreka&quot;</td><td>&quot;1001 West Mine…</td></tr><tr><td>&quot;ca&quot;</td><td>&quot;yuba-city&quot;</td><td>&quot;520 Clark Aven…</td></tr><tr><td>&quot;ca&quot;</td><td>&quot;yucaipa&quot;</td><td>&quot;12776 6th Stre…</td></tr><tr><td>&quot;ca&quot;</td><td>&quot;yucca-valley&quot;</td><td>&quot;56885 Onaga Tr…</td></tr></tbody></table></div>"
      ],
      "text/plain": [
       "\n",
       "shape: \u001b[1m(\u001b[0m6_509, \u001b[1;36m3\u001b[0m\u001b[1m)\u001b[0m\n",
       "┌───────┬──────────────┬────────────────────────┐\n",
       "│ state ┆ county       ┆ address                │\n",
       "│ ---   ┆ ---          ┆ ---                    │\n",
       "│ str   ┆ str          ┆ str                    │\n",
       "╞═══════╪══════════════╪════════════════════════╡\n",
       "│ az    ┆ ajo          ┆ \u001b[1;36m801\u001b[0m N Cedar St         │\n",
       "│ al    ┆ alabaster    ┆ \u001b[1;36m210\u001b[0m Lacey Avenue       │\n",
       "│ ar    ┆ alma         ┆ \u001b[1;36m201\u001b[0m Canterbury Drive   │\n",
       "│ co    ┆ alamosa      ┆ \u001b[1;36m300\u001b[0m Richardson Avenue  │\n",
       "│ …     ┆ …            ┆ …                      │\n",
       "│ ca    ┆ yreka        ┆ \u001b[1;36m1001\u001b[0m West Miner Street │\n",
       "│ ca    ┆ yuba-city    ┆ \u001b[1;36m520\u001b[0m Clark Avenue       │\n",
       "│ ca    ┆ yucaipa      ┆ \u001b[1;36m12776\u001b[0m 6th Street       │\n",
       "│ ca    ┆ yucca-valley ┆ \u001b[1;36m56885\u001b[0m Onaga Trail      │\n",
       "└───────┴──────────────┴────────────────────────┘"
      ]
     },
     "execution_count": 22,
     "metadata": {},
     "output_type": "execute_result"
    }
   ],
   "source": [
    "addr = pl.DataFrame(buildingDataFixed)\n",
    "addr.write_csv('Attempt3-6509_addresses.csv')\n",
    "addr"
   ]
  },
  {
   "cell_type": "code",
   "execution_count": 19,
   "metadata": {},
   "outputs": [],
   "source": [
    "with open('quicksave.json', 'w') as f:\n",
    "    json.dump(buildingDataFixed, f)"
   ]
  },
  {
   "cell_type": "code",
   "execution_count": 19,
   "metadata": {},
   "outputs": [],
   "source": [
    "missing = dict(zip(['lat',\n",
    "    'lon',\n",
    "    'full_address',\n",
    "    'address_line_1',\n",
    "    'address_line_2',\n",
    "    'area',\n",
    "    'zip',\n",
    "    'zip_ext',\n",
    "    'plus_code',\n",
    "    'size',\n",
    "    'place_id',], [None]*11))\n",
    "a = {'initial_address': '522 Seventh Street SE','initial_county': 'Washington, DC', 'state': 'va', }\n",
    "b = {'initial_address': '4901 16th Street Northwest','initial_county': 'Washington, DC', 'state': 'va', }\n",
    "a.update(missing)\n",
    "b.update(missing)\n",
    "missed = [\n",
    "    # 2 in Washington DC cause the webpage is different than the others\n",
    "    a,b,\n",
    "    # Utah is missing the other 18\n",
    "\n",
    "]\n"
   ]
  },
  {
   "cell_type": "code",
   "execution_count": 6,
   "metadata": {},
   "outputs": [],
   "source": [
    "now = pl.read_parquet('/home/zeke/Documents/Class/DS460/full_church_building_data-20.parquet', use_pyarrow=True)\n",
    "# now = pl.read_parquet('/home/zeke/Documents/Class/DS460/Attempt3-6509_addresses.csv', use_pyarrow=True)"
   ]
  },
  {
   "cell_type": "code",
   "execution_count": 25,
   "metadata": {},
   "outputs": [
    {
     "data": {
      "text/html": [
       "<div><style>\n",
       ".dataframe > thead > tr > th,\n",
       ".dataframe > tbody > tr > td {\n",
       "  text-align: right;\n",
       "  white-space: pre-wrap;\n",
       "}\n",
       "</style>\n",
       "<small>shape: (5, 14)</small><table border=\"1\" class=\"dataframe\"><thead><tr><th>initial_address</th><th>initial_county</th><th>state</th><th>lat</th><th>lon</th><th>full_address</th><th>address_line_1</th><th>address_line_2</th><th>area</th><th>zip</th><th>zip_ext</th><th>plus_code</th><th>size</th><th>place_id</th></tr><tr><td>str</td><td>str</td><td>str</td><td>f64</td><td>f64</td><td>str</td><td>str</td><td>str</td><td>str</td><td>str</td><td>str</td><td>str</td><td>f64</td><td>str</td></tr></thead><tbody><tr><td>&quot;210 Lacey Aven…</td><td>&quot;alabaster&quot;</td><td>&quot;al&quot;</td><td>33.223753</td><td>-86.86462</td><td>&quot;210 Lacey Aven…</td><td>&quot;210 LACEY AVE&quot;</td><td>&quot;ALABASTER AL 3…</td><td>&quot;ALABASTER&quot;</td><td>&quot;35114&quot;</td><td>null</td><td>&quot;865M64FP+G5&quot;</td><td>31.701792</td><td>&quot;ChIJ1eqYitQniY…</td></tr><tr><td>&quot;801 N Cedar St…</td><td>&quot;ajo&quot;</td><td>&quot;az&quot;</td><td>32.379189</td><td>-112.866316</td><td>&quot;801 North Ceda…</td><td>&quot;801 N CEDAR ST…</td><td>&quot;AJO AZ 85321-2…</td><td>&quot;AJO&quot;</td><td>&quot;85321&quot;</td><td>&quot;2110&quot;</td><td>&quot;854994HM+MF&quot;</td><td>51.353264</td><td>&quot;ChIJGfLW2vNY1Y…</td></tr><tr><td>&quot;201 Canterbury…</td><td>&quot;alma&quot;</td><td>&quot;ar&quot;</td><td>35.504507</td><td>-94.227809</td><td>&quot;201 Canterbury…</td><td>&quot;201 CANTERBURY…</td><td>&quot;ALMA AR 72921-…</td><td>&quot;ALMA&quot;</td><td>&quot;72921&quot;</td><td>&quot;4707&quot;</td><td>&quot;8677GQ3C+RV&quot;</td><td>34.9065</td><td>&quot;ChIJDWs5meTHy4…</td></tr><tr><td>&quot;300 Richardson…</td><td>&quot;alamosa&quot;</td><td>&quot;co&quot;</td><td>37.469908</td><td>-105.877931</td><td>&quot;300 Richardson…</td><td>&quot;300 RICHARDSON…</td><td>&quot;ALAMOSA CO 811…</td><td>&quot;ALAMOSA&quot;</td><td>&quot;81101&quot;</td><td>&quot;2328&quot;</td><td>&quot;859PF49C+XR&quot;</td><td>43.390896</td><td>&quot;ChIJb5QfpfV7Fo…</td></tr><tr><td>&quot;2501 Maplewood…</td><td>&quot;anchorage&quot;</td><td>&quot;ak&quot;</td><td>61.198109</td><td>-149.844815</td><td>&quot;2501 Maplewood…</td><td>&quot;2501 MAPLEWOOD…</td><td>&quot;ANCHORAGE AK 9…</td><td>&quot;ANCHORAGE&quot;</td><td>&quot;99508&quot;</td><td>&quot;4056&quot;</td><td>&quot;93HG55X4+63&quot;</td><td>45.65418</td><td>&quot;ChIJ7X4z07KXyF…</td></tr></tbody></table></div>"
      ],
      "text/plain": [
       "shape: (5, 14)\n",
       "┌─────────────┬────────────┬───────┬───────────┬───┬─────────┬────────────┬───────────┬────────────┐\n",
       "│ initial_add ┆ initial_co ┆ state ┆ lat       ┆ … ┆ zip_ext ┆ plus_code  ┆ size      ┆ place_id   │\n",
       "│ ress        ┆ unty       ┆ ---   ┆ ---       ┆   ┆ ---     ┆ ---        ┆ ---       ┆ ---        │\n",
       "│ ---         ┆ ---        ┆ str   ┆ f64       ┆   ┆ str     ┆ str        ┆ f64       ┆ str        │\n",
       "│ str         ┆ str        ┆       ┆           ┆   ┆         ┆            ┆           ┆            │\n",
       "╞═════════════╪════════════╪═══════╪═══════════╪═══╪═════════╪════════════╪═══════════╪════════════╡\n",
       "│ 210 Lacey   ┆ alabaster  ┆ al    ┆ 33.223753 ┆ … ┆ null    ┆ 865M64FP+G ┆ 31.701792 ┆ ChIJ1eqYit │\n",
       "│ Avenue      ┆            ┆       ┆           ┆   ┆         ┆ 5          ┆           ┆ QniYgRFN4f │\n",
       "│             ┆            ┆       ┆           ┆   ┆         ┆            ┆           ┆ UXr5mh4    │\n",
       "│ 801 N Cedar ┆ ajo        ┆ az    ┆ 32.379189 ┆ … ┆ 2110    ┆ 854994HM+M ┆ 51.353264 ┆ ChIJGfLW2v │\n",
       "│ St          ┆            ┆       ┆           ┆   ┆         ┆ F          ┆           ┆ NY1YARCdAW │\n",
       "│             ┆            ┆       ┆           ┆   ┆         ┆            ┆           ┆ 5-jF4c4    │\n",
       "│ 201         ┆ alma       ┆ ar    ┆ 35.504507 ┆ … ┆ 4707    ┆ 8677GQ3C+R ┆ 34.9065   ┆ ChIJDWs5me │\n",
       "│ Canterbury  ┆            ┆       ┆           ┆   ┆         ┆ V          ┆           ┆ THy4cR7Bze │\n",
       "│ Drive       ┆            ┆       ┆           ┆   ┆         ┆            ┆           ┆ 62N789A    │\n",
       "│ 300         ┆ alamosa    ┆ co    ┆ 37.469908 ┆ … ┆ 2328    ┆ 859PF49C+X ┆ 43.390896 ┆ ChIJb5Qfpf │\n",
       "│ Richardson  ┆            ┆       ┆           ┆   ┆         ┆ R          ┆           ┆ V7FocRSpzT │\n",
       "│ Avenue      ┆            ┆       ┆           ┆   ┆         ┆            ┆           ┆ Im_dQFA    │\n",
       "│ 2501        ┆ anchorage  ┆ ak    ┆ 61.198109 ┆ … ┆ 4056    ┆ 93HG55X4+6 ┆ 45.65418  ┆ ChIJ7X4z07 │\n",
       "│ Maplewood   ┆            ┆       ┆           ┆   ┆         ┆ 3          ┆           ┆ KXyFYRQNcZ │\n",
       "│ Street      ┆            ┆       ┆           ┆   ┆         ┆            ┆           ┆ 7caXCB8    │\n",
       "└─────────────┴────────────┴───────┴───────────┴───┴─────────┴────────────┴───────────┴────────────┘"
      ]
     },
     "metadata": {},
     "output_type": "display_data"
    },
    {
     "data": {
      "text/html": [
       "<div><style>\n",
       ".dataframe > thead > tr > th,\n",
       ".dataframe > tbody > tr > td {\n",
       "  text-align: right;\n",
       "  white-space: pre-wrap;\n",
       "}\n",
       "</style>\n",
       "<small>shape: (2, 14)</small><table border=\"1\" class=\"dataframe\"><thead><tr><th>initial_address</th><th>initial_county</th><th>state</th><th>lat</th><th>lon</th><th>full_address</th><th>address_line_1</th><th>address_line_2</th><th>area</th><th>zip</th><th>zip_ext</th><th>plus_code</th><th>size</th><th>place_id</th></tr><tr><td>str</td><td>str</td><td>str</td><td>f64</td><td>f64</td><td>str</td><td>str</td><td>str</td><td>str</td><td>str</td><td>str</td><td>str</td><td>f64</td><td>str</td></tr></thead><tbody><tr><td>&quot;522 Seventh St…</td><td>&quot;Washington, DC…</td><td>&quot;va&quot;</td><td>null</td><td>null</td><td>null</td><td>null</td><td>null</td><td>null</td><td>null</td><td>null</td><td>null</td><td>null</td><td>null</td></tr><tr><td>&quot;4901 16th Stre…</td><td>&quot;Washington, DC…</td><td>&quot;va&quot;</td><td>null</td><td>null</td><td>null</td><td>null</td><td>null</td><td>null</td><td>null</td><td>null</td><td>null</td><td>null</td><td>null</td></tr></tbody></table></div>"
      ],
      "text/plain": [
       "shape: (2, 14)\n",
       "┌──────────────────────┬────────────────┬───────┬──────┬───┬─────────┬───────────┬──────┬──────────┐\n",
       "│ initial_address      ┆ initial_county ┆ state ┆ lat  ┆ … ┆ zip_ext ┆ plus_code ┆ size ┆ place_id │\n",
       "│ ---                  ┆ ---            ┆ ---   ┆ ---  ┆   ┆ ---     ┆ ---       ┆ ---  ┆ ---      │\n",
       "│ str                  ┆ str            ┆ str   ┆ f64  ┆   ┆ str     ┆ str       ┆ f64  ┆ str      │\n",
       "╞══════════════════════╪════════════════╪═══════╪══════╪═══╪═════════╪═══════════╪══════╪══════════╡\n",
       "│ 522 Seventh Street   ┆ Washington, DC ┆ va    ┆ null ┆ … ┆ null    ┆ null      ┆ null ┆ null     │\n",
       "│ SE                   ┆                ┆       ┆      ┆   ┆         ┆           ┆      ┆          │\n",
       "│ 4901 16th Street     ┆ Washington, DC ┆ va    ┆ null ┆ … ┆ null    ┆ null      ┆ null ┆ null     │\n",
       "│ Northwest            ┆                ┆       ┆      ┆   ┆         ┆           ┆      ┆          │\n",
       "└──────────────────────┴────────────────┴───────┴──────┴───┴─────────┴───────────┴──────┴──────────┘"
      ]
     },
     "execution_count": 25,
     "metadata": {},
     "output_type": "execute_result"
    }
   ],
   "source": [
    "# now.vstack(pl.DataFrame(missed, schema=now.schema))\n",
    "display(now.head())\n",
    "pl.DataFrame(missed, schema=now.schema).head()"
   ]
  },
  {
   "cell_type": "code",
   "execution_count": 39,
   "metadata": {},
   "outputs": [],
   "source": [
    "# soup = BeautifulSoup(requests.get('https://pe.usps.com/text/pub28/28apc_002.htm').content, 'html.parser')\n",
    "with open('/home/stella/Downloads/C1 Street Suffix Abbreviations _ Postal Explorer.html', 'r') as f:\n",
    "    soup = BeautifulSoup(f, 'html.parser')\n",
    "# import pandas as pd\n",
    "# pd.read_html('/home/stella/Documents/Class/DS460/postalTable.html')\n",
    "# pd.read_html('/home/stella/Downloads/C1 Street Suffix Abbreviations _ Postal Explorer.html')"
   ]
  },
  {
   "cell_type": "code",
   "execution_count": 54,
   "metadata": {},
   "outputs": [],
   "source": [
    "import io\n",
    "abbr = pl.DataFrame(pd.read_html(io.StringIO(str(soup.find(id='ep533076'))))[0])\n",
    "abbr.write_csv('postalTable.csv')"
   ]
  },
  {
   "cell_type": "code",
   "execution_count": 61,
   "metadata": {},
   "outputs": [],
   "source": [
    "abbrs = {}\n",
    "for i in abbr.select('0', '2').to_dicts():\n",
    "    abbrs[i['0']] = i['2']\n",
    "    "
   ]
  },
  {
   "cell_type": "code",
   "execution_count": 157,
   "metadata": {},
   "outputs": [],
   "source": [
    "dumpedData = {}\n",
    "apiData = [None]*8\n",
    "niceData = []"
   ]
  },
  {
   "cell_type": "code",
   "execution_count": 162,
   "metadata": {},
   "outputs": [
    {
     "data": {
      "text/html": [
       "<pre style=\"white-space:pre;overflow-x:auto;line-height:normal;font-family:Menlo,'DejaVu Sans Mono',consolas,'Courier New',monospace\">Done!\n",
       "</pre>\n"
      ],
      "text/plain": [
       "Done!\n"
      ]
     },
     "metadata": {},
     "output_type": "display_data"
    }
   ],
   "source": [
    "def makeRequest(a, b, c):\n",
    "    global dumpedData, niceData\n",
    "    resp = requests.post(f'https://addressvalidation.googleapis.com/v1:validateAddress?key={gmapsKey}', json={\n",
    "        \"address\": {\n",
    "            \"addressLines\": [c],\n",
    "            \"locality\": b,\n",
    "            \"administrativeArea\": a,\n",
    "        },\n",
    "        \"previousResponseId\": '',\n",
    "        \"enableUspsCass\": False,\n",
    "    }).json()\n",
    "    dumpedData[f'{c}, {b}, {a}'] = resp\n",
    "\n",
    "    try: fullAddress = resp['result']['address']['formattedAddress']                                      \n",
    "    except: fullAddress       = None\n",
    "    try: addressFirstLine = resp['result']['uspsData']['standardizedAddress']['firstAddressLine']         \n",
    "    except: addressFirstLine  = None\n",
    "    try: addressSecondLine = resp['result']['uspsData']['standardizedAddress']['cityStateZipAddressLine'] \n",
    "    except: addressSecondLine = None\n",
    "    try: area = resp['result']['uspsData']['standardizedAddress']['city']                                 \n",
    "    except: area              = None\n",
    "    try: _zip = resp['result']['uspsData']['standardizedAddress']['zipCode']                               \n",
    "    except: _zip               = None\n",
    "    try: zipExt = resp['result']['uspsData']['standardizedAddress']['zipCodeExtension']                   \n",
    "    except: zipExt            = None\n",
    "    try: lat = resp['result']['geocode']['location']['latitude']                                          \n",
    "    except: lat               = None\n",
    "    try: lon = resp['result']['geocode']['location']['longitude']                                         \n",
    "    except: lon               = None\n",
    "    try: plusCode = resp['result']['geocode']['plusCode']['globalCode']                                   \n",
    "    except: plusCode          = None\n",
    "    try: size = resp['result']['geocode']['featureSizeMeters']                                            \n",
    "    except: size              = None\n",
    "    try: placeID = resp['result']['geocode']['placeId']                                                   \n",
    "    except: placeID           = None\n",
    "    niceData.append((c, b, a, lat, lon, fullAddress, addressFirstLine, addressSecondLine, area, _zip, zipExt, plusCode, size, placeID))\n",
    "\n",
    "\n",
    "for chunk in addr.iter_slices(200):\n",
    "    threads = [threading.Thread(target=makeRequest, args=args) for args in chunk.transpose()]\n",
    "    [i.start() for i in threads]\n",
    "    [i.join() for i in threads]\n",
    "\n",
    "\n",
    "print('Done!')\n",
    "# i=0\n",
    "# apiData[i] = list(addr.iter_slices(1000))[i].map_rows(makeRequest)\n",
    "# apiData"
   ]
  },
  {
   "cell_type": "code",
   "execution_count": 165,
   "metadata": {},
   "outputs": [],
   "source": [
    "data = pl.DataFrame(niceData)#.write_csv('quicksave-fromGoogleApi.csv')"
   ]
  },
  {
   "cell_type": "code",
   "execution_count": 167,
   "metadata": {},
   "outputs": [],
   "source": [
    "data = data.rename({\n",
    "    'column_0':  'initial_address',\n",
    "    'column_1':  'initial_county',\n",
    "    'column_2':  'state',\n",
    "    'column_3':  'lat',\n",
    "    'column_4':  'lon',\n",
    "    'column_5':  'full_address',\n",
    "    'column_6':  'address_line_1',\n",
    "    'column_7':  'address_line_2',\n",
    "    'column_8':  'area',\n",
    "    'column_9':  'zip',\n",
    "    'column_10': 'zip_ext',\n",
    "    'column_11': 'plus_code',\n",
    "    'column_12': 'size',\n",
    "    'column_13': 'place_id',\n",
    "})"
   ]
  },
  {
   "cell_type": "code",
   "execution_count": 169,
   "metadata": {},
   "outputs": [],
   "source": [
    "data.write_parquet('full_church_building_data-20.parquet')"
   ]
  },
  {
   "cell_type": "code",
   "execution_count": 154,
   "metadata": {},
   "outputs": [
    {
     "data": {
      "text/html": [
       "<pre style=\"white-space:pre;overflow-x:auto;line-height:normal;font-family:Menlo,'DejaVu Sans Mono',consolas,'Courier New',monospace\">az\n",
       "</pre>\n"
      ],
      "text/plain": [
       "az\n"
      ]
     },
     "metadata": {},
     "output_type": "display_data"
    }
   ],
   "source": [
    "# for c in __builtin__.zip():\n",
    "#     print(c)\n",
    "#     break\n",
    "for i in addr.transpose():\n",
    "    print(i[0])\n",
    "    break"
   ]
  },
  {
   "cell_type": "code",
   "execution_count": 139,
   "metadata": {},
   "outputs": [
    {
     "data": {
      "text/html": [
       "<pre style=\"white-space:pre;overflow-x:auto;line-height:normal;font-family:Menlo,'DejaVu Sans Mono',consolas,'Courier New',monospace\"></pre>\n"
      ],
      "text/plain": []
     },
     "metadata": {},
     "output_type": "display_data"
    },
    {
     "data": {
      "text/plain": [
       "\u001b[1m<\u001b[0m\u001b[1;95mclass\u001b[0m\u001b[39m \u001b[0m\u001b[32m'zip'\u001b[0m\u001b[1m>\u001b[0m"
      ]
     },
     "execution_count": 139,
     "metadata": {},
     "output_type": "execute_result"
    }
   ],
   "source": [
    "# zip([1, 2], [3,4], [5,6])\n",
    "\n"
   ]
  },
  {
   "cell_type": "code",
   "execution_count": 123,
   "metadata": {},
   "outputs": [
    {
     "data": {
      "text/html": [
       "<pre style=\"white-space:pre;overflow-x:auto;line-height:normal;font-family:Menlo,'DejaVu Sans Mono',consolas,'Courier New',monospace\"></pre>\n"
      ],
      "text/plain": []
     },
     "metadata": {},
     "output_type": "display_data"
    },
    {
     "data": {
      "text/plain": [
       "\u001b[1;36m91\u001b[0m"
      ]
     },
     "execution_count": 123,
     "metadata": {},
     "output_type": "execute_result"
    }
   ],
   "source": [
    "len(dumpedData)"
   ]
  },
  {
   "cell_type": "code",
   "execution_count": 88,
   "metadata": {},
   "outputs": [],
   "source": [
    "# resp = requests.post('https://addressvalidation.googleapis.com/v1:validateAddress', json={\n",
    "resp = requests.post(f'https://addressvalidation.googleapis.com/v1:validateAddress?key={gmapsKey}', json={\n",
    "    # \"address\": '801 N Cedar St, ajo, az',\n",
    "    \"address\": {\n",
    "        \"addressLines\": [\"801 N Cedar St\"],\n",
    "        \"locality\": \"Ajo\",\n",
    "        \"administrativeArea\": \"AZ\",\n",
    "    },\n",
    "    \"previousResponseId\": '',\n",
    "    \"enableUspsCass\": False,\n",
    "})"
   ]
  },
  {
   "cell_type": "code",
   "execution_count": 89,
   "metadata": {},
   "outputs": [
    {
     "data": {
      "text/html": [
       "<pre style=\"white-space:pre;overflow-x:auto;line-height:normal;font-family:Menlo,'DejaVu Sans Mono',consolas,'Courier New',monospace\"><span style=\"font-weight: bold\">{</span>\n",
       "    <span style=\"color: #008000; text-decoration-color: #008000\">'result'</span>: <span style=\"font-weight: bold\">{</span>\n",
       "        <span style=\"color: #008000; text-decoration-color: #008000\">'verdict'</span>: <span style=\"font-weight: bold\">{</span>\n",
       "            <span style=\"color: #008000; text-decoration-color: #008000\">'inputGranularity'</span>: <span style=\"color: #008000; text-decoration-color: #008000\">'PREMISE'</span>,\n",
       "            <span style=\"color: #008000; text-decoration-color: #008000\">'validationGranularity'</span>: <span style=\"color: #008000; text-decoration-color: #008000\">'PREMISE'</span>,\n",
       "            <span style=\"color: #008000; text-decoration-color: #008000\">'geocodeGranularity'</span>: <span style=\"color: #008000; text-decoration-color: #008000\">'PREMISE'</span>,\n",
       "            <span style=\"color: #008000; text-decoration-color: #008000\">'addressComplete'</span>: <span style=\"color: #00ff00; text-decoration-color: #00ff00; font-style: italic\">True</span>,\n",
       "            <span style=\"color: #008000; text-decoration-color: #008000\">'hasInferredComponents'</span>: <span style=\"color: #00ff00; text-decoration-color: #00ff00; font-style: italic\">True</span>\n",
       "        <span style=\"font-weight: bold\">}</span>,\n",
       "        <span style=\"color: #008000; text-decoration-color: #008000\">'address'</span>: <span style=\"font-weight: bold\">{</span>\n",
       "            <span style=\"color: #008000; text-decoration-color: #008000\">'formattedAddress'</span>: <span style=\"color: #008000; text-decoration-color: #008000\">'801 North Cedar Street, Ajo, AZ 85321-2110, USA'</span>,\n",
       "            <span style=\"color: #008000; text-decoration-color: #008000\">'postalAddress'</span>: <span style=\"font-weight: bold\">{</span>\n",
       "                <span style=\"color: #008000; text-decoration-color: #008000\">'regionCode'</span>: <span style=\"color: #008000; text-decoration-color: #008000\">'US'</span>,\n",
       "                <span style=\"color: #008000; text-decoration-color: #008000\">'languageCode'</span>: <span style=\"color: #008000; text-decoration-color: #008000\">'en'</span>,\n",
       "                <span style=\"color: #008000; text-decoration-color: #008000\">'postalCode'</span>: <span style=\"color: #008000; text-decoration-color: #008000\">'85321-2110'</span>,\n",
       "                <span style=\"color: #008000; text-decoration-color: #008000\">'administrativeArea'</span>: <span style=\"color: #008000; text-decoration-color: #008000\">'AZ'</span>,\n",
       "                <span style=\"color: #008000; text-decoration-color: #008000\">'locality'</span>: <span style=\"color: #008000; text-decoration-color: #008000\">'Ajo'</span>,\n",
       "                <span style=\"color: #008000; text-decoration-color: #008000\">'addressLines'</span>: <span style=\"font-weight: bold\">[</span><span style=\"color: #008000; text-decoration-color: #008000\">'801 N Cedar St'</span><span style=\"font-weight: bold\">]</span>\n",
       "            <span style=\"font-weight: bold\">}</span>,\n",
       "            <span style=\"color: #008000; text-decoration-color: #008000\">'addressComponents'</span>: <span style=\"font-weight: bold\">[</span>\n",
       "                <span style=\"font-weight: bold\">{</span>\n",
       "                    <span style=\"color: #008000; text-decoration-color: #008000\">'componentName'</span>: <span style=\"font-weight: bold\">{</span><span style=\"color: #008000; text-decoration-color: #008000\">'text'</span>: <span style=\"color: #008000; text-decoration-color: #008000\">'801'</span><span style=\"font-weight: bold\">}</span>,\n",
       "                    <span style=\"color: #008000; text-decoration-color: #008000\">'componentType'</span>: <span style=\"color: #008000; text-decoration-color: #008000\">'street_number'</span>,\n",
       "                    <span style=\"color: #008000; text-decoration-color: #008000\">'confirmationLevel'</span>: <span style=\"color: #008000; text-decoration-color: #008000\">'CONFIRMED'</span>\n",
       "                <span style=\"font-weight: bold\">}</span>,\n",
       "                <span style=\"font-weight: bold\">{</span>\n",
       "                    <span style=\"color: #008000; text-decoration-color: #008000\">'componentName'</span>: <span style=\"font-weight: bold\">{</span><span style=\"color: #008000; text-decoration-color: #008000\">'text'</span>: <span style=\"color: #008000; text-decoration-color: #008000\">'North Cedar Street'</span>, <span style=\"color: #008000; text-decoration-color: #008000\">'languageCode'</span>: <span style=\"color: #008000; text-decoration-color: #008000\">'en'</span><span style=\"font-weight: bold\">}</span>,\n",
       "                    <span style=\"color: #008000; text-decoration-color: #008000\">'componentType'</span>: <span style=\"color: #008000; text-decoration-color: #008000\">'route'</span>,\n",
       "                    <span style=\"color: #008000; text-decoration-color: #008000\">'confirmationLevel'</span>: <span style=\"color: #008000; text-decoration-color: #008000\">'CONFIRMED'</span>\n",
       "                <span style=\"font-weight: bold\">}</span>,\n",
       "                <span style=\"font-weight: bold\">{</span>\n",
       "                    <span style=\"color: #008000; text-decoration-color: #008000\">'componentName'</span>: <span style=\"font-weight: bold\">{</span><span style=\"color: #008000; text-decoration-color: #008000\">'text'</span>: <span style=\"color: #008000; text-decoration-color: #008000\">'Ajo'</span>, <span style=\"color: #008000; text-decoration-color: #008000\">'languageCode'</span>: <span style=\"color: #008000; text-decoration-color: #008000\">'en'</span><span style=\"font-weight: bold\">}</span>,\n",
       "                    <span style=\"color: #008000; text-decoration-color: #008000\">'componentType'</span>: <span style=\"color: #008000; text-decoration-color: #008000\">'locality'</span>,\n",
       "                    <span style=\"color: #008000; text-decoration-color: #008000\">'confirmationLevel'</span>: <span style=\"color: #008000; text-decoration-color: #008000\">'CONFIRMED'</span>\n",
       "                <span style=\"font-weight: bold\">}</span>,\n",
       "                <span style=\"font-weight: bold\">{</span>\n",
       "                    <span style=\"color: #008000; text-decoration-color: #008000\">'componentName'</span>: <span style=\"font-weight: bold\">{</span><span style=\"color: #008000; text-decoration-color: #008000\">'text'</span>: <span style=\"color: #008000; text-decoration-color: #008000\">'AZ'</span>, <span style=\"color: #008000; text-decoration-color: #008000\">'languageCode'</span>: <span style=\"color: #008000; text-decoration-color: #008000\">'en'</span><span style=\"font-weight: bold\">}</span>,\n",
       "                    <span style=\"color: #008000; text-decoration-color: #008000\">'componentType'</span>: <span style=\"color: #008000; text-decoration-color: #008000\">'administrative_area_level_1'</span>,\n",
       "                    <span style=\"color: #008000; text-decoration-color: #008000\">'confirmationLevel'</span>: <span style=\"color: #008000; text-decoration-color: #008000\">'CONFIRMED'</span>\n",
       "                <span style=\"font-weight: bold\">}</span>,\n",
       "                <span style=\"font-weight: bold\">{</span>\n",
       "                    <span style=\"color: #008000; text-decoration-color: #008000\">'componentName'</span>: <span style=\"font-weight: bold\">{</span><span style=\"color: #008000; text-decoration-color: #008000\">'text'</span>: <span style=\"color: #008000; text-decoration-color: #008000\">'USA'</span>, <span style=\"color: #008000; text-decoration-color: #008000\">'languageCode'</span>: <span style=\"color: #008000; text-decoration-color: #008000\">'en'</span><span style=\"font-weight: bold\">}</span>,\n",
       "                    <span style=\"color: #008000; text-decoration-color: #008000\">'componentType'</span>: <span style=\"color: #008000; text-decoration-color: #008000\">'country'</span>,\n",
       "                    <span style=\"color: #008000; text-decoration-color: #008000\">'confirmationLevel'</span>: <span style=\"color: #008000; text-decoration-color: #008000\">'CONFIRMED'</span>,\n",
       "                    <span style=\"color: #008000; text-decoration-color: #008000\">'inferred'</span>: <span style=\"color: #00ff00; text-decoration-color: #00ff00; font-style: italic\">True</span>\n",
       "                <span style=\"font-weight: bold\">}</span>,\n",
       "                <span style=\"font-weight: bold\">{</span>\n",
       "                    <span style=\"color: #008000; text-decoration-color: #008000\">'componentName'</span>: <span style=\"font-weight: bold\">{</span><span style=\"color: #008000; text-decoration-color: #008000\">'text'</span>: <span style=\"color: #008000; text-decoration-color: #008000\">'85321'</span><span style=\"font-weight: bold\">}</span>,\n",
       "                    <span style=\"color: #008000; text-decoration-color: #008000\">'componentType'</span>: <span style=\"color: #008000; text-decoration-color: #008000\">'postal_code'</span>,\n",
       "                    <span style=\"color: #008000; text-decoration-color: #008000\">'confirmationLevel'</span>: <span style=\"color: #008000; text-decoration-color: #008000\">'CONFIRMED'</span>,\n",
       "                    <span style=\"color: #008000; text-decoration-color: #008000\">'inferred'</span>: <span style=\"color: #00ff00; text-decoration-color: #00ff00; font-style: italic\">True</span>\n",
       "                <span style=\"font-weight: bold\">}</span>,\n",
       "                <span style=\"font-weight: bold\">{</span>\n",
       "                    <span style=\"color: #008000; text-decoration-color: #008000\">'componentName'</span>: <span style=\"font-weight: bold\">{</span><span style=\"color: #008000; text-decoration-color: #008000\">'text'</span>: <span style=\"color: #008000; text-decoration-color: #008000\">'2110'</span><span style=\"font-weight: bold\">}</span>,\n",
       "                    <span style=\"color: #008000; text-decoration-color: #008000\">'componentType'</span>: <span style=\"color: #008000; text-decoration-color: #008000\">'postal_code_suffix'</span>,\n",
       "                    <span style=\"color: #008000; text-decoration-color: #008000\">'confirmationLevel'</span>: <span style=\"color: #008000; text-decoration-color: #008000\">'CONFIRMED'</span>,\n",
       "                    <span style=\"color: #008000; text-decoration-color: #008000\">'inferred'</span>: <span style=\"color: #00ff00; text-decoration-color: #00ff00; font-style: italic\">True</span>\n",
       "                <span style=\"font-weight: bold\">}</span>\n",
       "            <span style=\"font-weight: bold\">]</span>\n",
       "        <span style=\"font-weight: bold\">}</span>,\n",
       "        <span style=\"color: #008000; text-decoration-color: #008000\">'geocode'</span>: <span style=\"font-weight: bold\">{</span>\n",
       "            <span style=\"color: #008000; text-decoration-color: #008000\">'location'</span>: <span style=\"font-weight: bold\">{</span><span style=\"color: #008000; text-decoration-color: #008000\">'latitude'</span>: <span style=\"color: #008080; text-decoration-color: #008080; font-weight: bold\">32.3791887</span>, <span style=\"color: #008000; text-decoration-color: #008000\">'longitude'</span>: <span style=\"color: #008080; text-decoration-color: #008080; font-weight: bold\">-112.8663162</span><span style=\"font-weight: bold\">}</span>,\n",
       "            <span style=\"color: #008000; text-decoration-color: #008000\">'plusCode'</span>: <span style=\"font-weight: bold\">{</span><span style=\"color: #008000; text-decoration-color: #008000\">'globalCode'</span>: <span style=\"color: #008000; text-decoration-color: #008000\">'854994HM+MF'</span><span style=\"font-weight: bold\">}</span>,\n",
       "            <span style=\"color: #008000; text-decoration-color: #008000\">'bounds'</span>: <span style=\"font-weight: bold\">{</span>\n",
       "                <span style=\"color: #008000; text-decoration-color: #008000\">'low'</span>: <span style=\"font-weight: bold\">{</span><span style=\"color: #008000; text-decoration-color: #008000\">'latitude'</span>: <span style=\"color: #008080; text-decoration-color: #008080; font-weight: bold\">32.379065</span>, <span style=\"color: #008000; text-decoration-color: #008000\">'longitude'</span>: <span style=\"color: #008080; text-decoration-color: #008080; font-weight: bold\">-112.8664757</span><span style=\"font-weight: bold\">}</span>,\n",
       "                <span style=\"color: #008000; text-decoration-color: #008000\">'high'</span>: <span style=\"font-weight: bold\">{</span><span style=\"color: #008000; text-decoration-color: #008000\">'latitude'</span>: <span style=\"color: #008080; text-decoration-color: #008080; font-weight: bold\">32.3795649</span>, <span style=\"color: #008000; text-decoration-color: #008000\">'longitude'</span>: <span style=\"color: #008080; text-decoration-color: #008080; font-weight: bold\">-112.865999</span><span style=\"font-weight: bold\">}</span>\n",
       "            <span style=\"font-weight: bold\">}</span>,\n",
       "            <span style=\"color: #008000; text-decoration-color: #008000\">'featureSizeMeters'</span>: <span style=\"color: #008080; text-decoration-color: #008080; font-weight: bold\">51.353264</span>,\n",
       "            <span style=\"color: #008000; text-decoration-color: #008000\">'placeId'</span>: <span style=\"color: #008000; text-decoration-color: #008000\">'ChIJGfLW2vNY1YARCdAW5-jF4c4'</span>,\n",
       "            <span style=\"color: #008000; text-decoration-color: #008000\">'placeTypes'</span>: <span style=\"font-weight: bold\">[</span><span style=\"color: #008000; text-decoration-color: #008000\">'premise'</span><span style=\"font-weight: bold\">]</span>\n",
       "        <span style=\"font-weight: bold\">}</span>,\n",
       "        <span style=\"color: #008000; text-decoration-color: #008000\">'metadata'</span>: <span style=\"font-weight: bold\">{</span><span style=\"color: #008000; text-decoration-color: #008000\">'business'</span>: <span style=\"color: #00ff00; text-decoration-color: #00ff00; font-style: italic\">True</span>, <span style=\"color: #008000; text-decoration-color: #008000\">'poBox'</span>: <span style=\"color: #ff0000; text-decoration-color: #ff0000; font-style: italic\">False</span><span style=\"font-weight: bold\">}</span>,\n",
       "        <span style=\"color: #008000; text-decoration-color: #008000\">'uspsData'</span>: <span style=\"font-weight: bold\">{</span>\n",
       "            <span style=\"color: #008000; text-decoration-color: #008000\">'standardizedAddress'</span>: <span style=\"font-weight: bold\">{</span>\n",
       "                <span style=\"color: #008000; text-decoration-color: #008000\">'firstAddressLine'</span>: <span style=\"color: #008000; text-decoration-color: #008000\">'801 N CEDAR ST'</span>,\n",
       "                <span style=\"color: #008000; text-decoration-color: #008000\">'cityStateZipAddressLine'</span>: <span style=\"color: #008000; text-decoration-color: #008000\">'AJO AZ 85321-2110'</span>,\n",
       "                <span style=\"color: #008000; text-decoration-color: #008000\">'city'</span>: <span style=\"color: #008000; text-decoration-color: #008000\">'AJO'</span>,\n",
       "                <span style=\"color: #008000; text-decoration-color: #008000\">'state'</span>: <span style=\"color: #008000; text-decoration-color: #008000\">'AZ'</span>,\n",
       "                <span style=\"color: #008000; text-decoration-color: #008000\">'zipCode'</span>: <span style=\"color: #008000; text-decoration-color: #008000\">'85321'</span>,\n",
       "                <span style=\"color: #008000; text-decoration-color: #008000\">'zipCodeExtension'</span>: <span style=\"color: #008000; text-decoration-color: #008000\">'2110'</span>\n",
       "            <span style=\"font-weight: bold\">}</span>,\n",
       "            <span style=\"color: #008000; text-decoration-color: #008000\">'deliveryPointCode'</span>: <span style=\"color: #008000; text-decoration-color: #008000\">'01'</span>,\n",
       "            <span style=\"color: #008000; text-decoration-color: #008000\">'deliveryPointCheckDigit'</span>: <span style=\"color: #008000; text-decoration-color: #008000\">'6'</span>,\n",
       "            <span style=\"color: #008000; text-decoration-color: #008000\">'dpvConfirmation'</span>: <span style=\"color: #008000; text-decoration-color: #008000\">'Y'</span>,\n",
       "            <span style=\"color: #008000; text-decoration-color: #008000\">'dpvFootnote'</span>: <span style=\"color: #008000; text-decoration-color: #008000\">'AABB'</span>,\n",
       "            <span style=\"color: #008000; text-decoration-color: #008000\">'dpvCmra'</span>: <span style=\"color: #008000; text-decoration-color: #008000\">'N'</span>,\n",
       "            <span style=\"color: #008000; text-decoration-color: #008000\">'dpvVacant'</span>: <span style=\"color: #008000; text-decoration-color: #008000\">'N'</span>,\n",
       "            <span style=\"color: #008000; text-decoration-color: #008000\">'dpvNoStat'</span>: <span style=\"color: #008000; text-decoration-color: #008000\">'Y'</span>,\n",
       "            <span style=\"color: #008000; text-decoration-color: #008000\">'carrierRoute'</span>: <span style=\"color: #008000; text-decoration-color: #008000\">'C001'</span>,\n",
       "            <span style=\"color: #008000; text-decoration-color: #008000\">'carrierRouteIndicator'</span>: <span style=\"color: #008000; text-decoration-color: #008000\">'C'</span>,\n",
       "            <span style=\"color: #008000; text-decoration-color: #008000\">'postOfficeCity'</span>: <span style=\"color: #008000; text-decoration-color: #008000\">'AJO'</span>,\n",
       "            <span style=\"color: #008000; text-decoration-color: #008000\">'postOfficeState'</span>: <span style=\"color: #008000; text-decoration-color: #008000\">'AZ'</span>,\n",
       "            <span style=\"color: #008000; text-decoration-color: #008000\">'fipsCountyCode'</span>: <span style=\"color: #008000; text-decoration-color: #008000\">'019'</span>,\n",
       "            <span style=\"color: #008000; text-decoration-color: #008000\">'county'</span>: <span style=\"color: #008000; text-decoration-color: #008000\">'PIMA'</span>,\n",
       "            <span style=\"color: #008000; text-decoration-color: #008000\">'elotNumber'</span>: <span style=\"color: #008000; text-decoration-color: #008000\">'0227'</span>,\n",
       "            <span style=\"color: #008000; text-decoration-color: #008000\">'elotFlag'</span>: <span style=\"color: #008000; text-decoration-color: #008000\">'A'</span>,\n",
       "            <span style=\"color: #008000; text-decoration-color: #008000\">'addressRecordType'</span>: <span style=\"color: #008000; text-decoration-color: #008000\">'S'</span>,\n",
       "            <span style=\"color: #008000; text-decoration-color: #008000\">'dpvNoStatReasonCode'</span>: <span style=\"color: #008080; text-decoration-color: #008080; font-weight: bold\">2</span>,\n",
       "            <span style=\"color: #008000; text-decoration-color: #008000\">'dpvDrop'</span>: <span style=\"color: #008000; text-decoration-color: #008000\">'N'</span>,\n",
       "            <span style=\"color: #008000; text-decoration-color: #008000\">'dpvThrowback'</span>: <span style=\"color: #008000; text-decoration-color: #008000\">'N'</span>,\n",
       "            <span style=\"color: #008000; text-decoration-color: #008000\">'dpvNonDeliveryDays'</span>: <span style=\"color: #008000; text-decoration-color: #008000\">'N'</span>,\n",
       "            <span style=\"color: #008000; text-decoration-color: #008000\">'dpvNoSecureLocation'</span>: <span style=\"color: #008000; text-decoration-color: #008000\">'N'</span>,\n",
       "            <span style=\"color: #008000; text-decoration-color: #008000\">'dpvPbsa'</span>: <span style=\"color: #008000; text-decoration-color: #008000\">'N'</span>,\n",
       "            <span style=\"color: #008000; text-decoration-color: #008000\">'dpvDoorNotAccessible'</span>: <span style=\"color: #008000; text-decoration-color: #008000\">'N'</span>,\n",
       "            <span style=\"color: #008000; text-decoration-color: #008000\">'dpvEnhancedDeliveryCode'</span>: <span style=\"color: #008000; text-decoration-color: #008000\">'Y'</span>\n",
       "        <span style=\"font-weight: bold\">}</span>\n",
       "    <span style=\"font-weight: bold\">}</span>,\n",
       "    <span style=\"color: #008000; text-decoration-color: #008000\">'responseId'</span>: <span style=\"color: #008000; text-decoration-color: #008000\">'6871417d-2f9a-4c00-a5b2-6d5d046af66d'</span>\n",
       "<span style=\"font-weight: bold\">}</span>\n",
       "</pre>\n"
      ],
      "text/plain": [
       "\u001b[1m{\u001b[0m\n",
       "    \u001b[32m'result'\u001b[0m: \u001b[1m{\u001b[0m\n",
       "        \u001b[32m'verdict'\u001b[0m: \u001b[1m{\u001b[0m\n",
       "            \u001b[32m'inputGranularity'\u001b[0m: \u001b[32m'PREMISE'\u001b[0m,\n",
       "            \u001b[32m'validationGranularity'\u001b[0m: \u001b[32m'PREMISE'\u001b[0m,\n",
       "            \u001b[32m'geocodeGranularity'\u001b[0m: \u001b[32m'PREMISE'\u001b[0m,\n",
       "            \u001b[32m'addressComplete'\u001b[0m: \u001b[3;92mTrue\u001b[0m,\n",
       "            \u001b[32m'hasInferredComponents'\u001b[0m: \u001b[3;92mTrue\u001b[0m\n",
       "        \u001b[1m}\u001b[0m,\n",
       "        \u001b[32m'address'\u001b[0m: \u001b[1m{\u001b[0m\n",
       "            \u001b[32m'formattedAddress'\u001b[0m: \u001b[32m'801 North Cedar Street, Ajo, AZ 85321-2110, USA'\u001b[0m,\n",
       "            \u001b[32m'postalAddress'\u001b[0m: \u001b[1m{\u001b[0m\n",
       "                \u001b[32m'regionCode'\u001b[0m: \u001b[32m'US'\u001b[0m,\n",
       "                \u001b[32m'languageCode'\u001b[0m: \u001b[32m'en'\u001b[0m,\n",
       "                \u001b[32m'postalCode'\u001b[0m: \u001b[32m'85321-2110'\u001b[0m,\n",
       "                \u001b[32m'administrativeArea'\u001b[0m: \u001b[32m'AZ'\u001b[0m,\n",
       "                \u001b[32m'locality'\u001b[0m: \u001b[32m'Ajo'\u001b[0m,\n",
       "                \u001b[32m'addressLines'\u001b[0m: \u001b[1m[\u001b[0m\u001b[32m'801 N Cedar St'\u001b[0m\u001b[1m]\u001b[0m\n",
       "            \u001b[1m}\u001b[0m,\n",
       "            \u001b[32m'addressComponents'\u001b[0m: \u001b[1m[\u001b[0m\n",
       "                \u001b[1m{\u001b[0m\n",
       "                    \u001b[32m'componentName'\u001b[0m: \u001b[1m{\u001b[0m\u001b[32m'text'\u001b[0m: \u001b[32m'801'\u001b[0m\u001b[1m}\u001b[0m,\n",
       "                    \u001b[32m'componentType'\u001b[0m: \u001b[32m'street_number'\u001b[0m,\n",
       "                    \u001b[32m'confirmationLevel'\u001b[0m: \u001b[32m'CONFIRMED'\u001b[0m\n",
       "                \u001b[1m}\u001b[0m,\n",
       "                \u001b[1m{\u001b[0m\n",
       "                    \u001b[32m'componentName'\u001b[0m: \u001b[1m{\u001b[0m\u001b[32m'text'\u001b[0m: \u001b[32m'North Cedar Street'\u001b[0m, \u001b[32m'languageCode'\u001b[0m: \u001b[32m'en'\u001b[0m\u001b[1m}\u001b[0m,\n",
       "                    \u001b[32m'componentType'\u001b[0m: \u001b[32m'route'\u001b[0m,\n",
       "                    \u001b[32m'confirmationLevel'\u001b[0m: \u001b[32m'CONFIRMED'\u001b[0m\n",
       "                \u001b[1m}\u001b[0m,\n",
       "                \u001b[1m{\u001b[0m\n",
       "                    \u001b[32m'componentName'\u001b[0m: \u001b[1m{\u001b[0m\u001b[32m'text'\u001b[0m: \u001b[32m'Ajo'\u001b[0m, \u001b[32m'languageCode'\u001b[0m: \u001b[32m'en'\u001b[0m\u001b[1m}\u001b[0m,\n",
       "                    \u001b[32m'componentType'\u001b[0m: \u001b[32m'locality'\u001b[0m,\n",
       "                    \u001b[32m'confirmationLevel'\u001b[0m: \u001b[32m'CONFIRMED'\u001b[0m\n",
       "                \u001b[1m}\u001b[0m,\n",
       "                \u001b[1m{\u001b[0m\n",
       "                    \u001b[32m'componentName'\u001b[0m: \u001b[1m{\u001b[0m\u001b[32m'text'\u001b[0m: \u001b[32m'AZ'\u001b[0m, \u001b[32m'languageCode'\u001b[0m: \u001b[32m'en'\u001b[0m\u001b[1m}\u001b[0m,\n",
       "                    \u001b[32m'componentType'\u001b[0m: \u001b[32m'administrative_area_level_1'\u001b[0m,\n",
       "                    \u001b[32m'confirmationLevel'\u001b[0m: \u001b[32m'CONFIRMED'\u001b[0m\n",
       "                \u001b[1m}\u001b[0m,\n",
       "                \u001b[1m{\u001b[0m\n",
       "                    \u001b[32m'componentName'\u001b[0m: \u001b[1m{\u001b[0m\u001b[32m'text'\u001b[0m: \u001b[32m'USA'\u001b[0m, \u001b[32m'languageCode'\u001b[0m: \u001b[32m'en'\u001b[0m\u001b[1m}\u001b[0m,\n",
       "                    \u001b[32m'componentType'\u001b[0m: \u001b[32m'country'\u001b[0m,\n",
       "                    \u001b[32m'confirmationLevel'\u001b[0m: \u001b[32m'CONFIRMED'\u001b[0m,\n",
       "                    \u001b[32m'inferred'\u001b[0m: \u001b[3;92mTrue\u001b[0m\n",
       "                \u001b[1m}\u001b[0m,\n",
       "                \u001b[1m{\u001b[0m\n",
       "                    \u001b[32m'componentName'\u001b[0m: \u001b[1m{\u001b[0m\u001b[32m'text'\u001b[0m: \u001b[32m'85321'\u001b[0m\u001b[1m}\u001b[0m,\n",
       "                    \u001b[32m'componentType'\u001b[0m: \u001b[32m'postal_code'\u001b[0m,\n",
       "                    \u001b[32m'confirmationLevel'\u001b[0m: \u001b[32m'CONFIRMED'\u001b[0m,\n",
       "                    \u001b[32m'inferred'\u001b[0m: \u001b[3;92mTrue\u001b[0m\n",
       "                \u001b[1m}\u001b[0m,\n",
       "                \u001b[1m{\u001b[0m\n",
       "                    \u001b[32m'componentName'\u001b[0m: \u001b[1m{\u001b[0m\u001b[32m'text'\u001b[0m: \u001b[32m'2110'\u001b[0m\u001b[1m}\u001b[0m,\n",
       "                    \u001b[32m'componentType'\u001b[0m: \u001b[32m'postal_code_suffix'\u001b[0m,\n",
       "                    \u001b[32m'confirmationLevel'\u001b[0m: \u001b[32m'CONFIRMED'\u001b[0m,\n",
       "                    \u001b[32m'inferred'\u001b[0m: \u001b[3;92mTrue\u001b[0m\n",
       "                \u001b[1m}\u001b[0m\n",
       "            \u001b[1m]\u001b[0m\n",
       "        \u001b[1m}\u001b[0m,\n",
       "        \u001b[32m'geocode'\u001b[0m: \u001b[1m{\u001b[0m\n",
       "            \u001b[32m'location'\u001b[0m: \u001b[1m{\u001b[0m\u001b[32m'latitude'\u001b[0m: \u001b[1;36m32.3791887\u001b[0m, \u001b[32m'longitude'\u001b[0m: \u001b[1;36m-112.8663162\u001b[0m\u001b[1m}\u001b[0m,\n",
       "            \u001b[32m'plusCode'\u001b[0m: \u001b[1m{\u001b[0m\u001b[32m'globalCode'\u001b[0m: \u001b[32m'854994HM+MF'\u001b[0m\u001b[1m}\u001b[0m,\n",
       "            \u001b[32m'bounds'\u001b[0m: \u001b[1m{\u001b[0m\n",
       "                \u001b[32m'low'\u001b[0m: \u001b[1m{\u001b[0m\u001b[32m'latitude'\u001b[0m: \u001b[1;36m32.379065\u001b[0m, \u001b[32m'longitude'\u001b[0m: \u001b[1;36m-112.8664757\u001b[0m\u001b[1m}\u001b[0m,\n",
       "                \u001b[32m'high'\u001b[0m: \u001b[1m{\u001b[0m\u001b[32m'latitude'\u001b[0m: \u001b[1;36m32.3795649\u001b[0m, \u001b[32m'longitude'\u001b[0m: \u001b[1;36m-112.865999\u001b[0m\u001b[1m}\u001b[0m\n",
       "            \u001b[1m}\u001b[0m,\n",
       "            \u001b[32m'featureSizeMeters'\u001b[0m: \u001b[1;36m51.353264\u001b[0m,\n",
       "            \u001b[32m'placeId'\u001b[0m: \u001b[32m'ChIJGfLW2vNY1YARCdAW5-jF4c4'\u001b[0m,\n",
       "            \u001b[32m'placeTypes'\u001b[0m: \u001b[1m[\u001b[0m\u001b[32m'premise'\u001b[0m\u001b[1m]\u001b[0m\n",
       "        \u001b[1m}\u001b[0m,\n",
       "        \u001b[32m'metadata'\u001b[0m: \u001b[1m{\u001b[0m\u001b[32m'business'\u001b[0m: \u001b[3;92mTrue\u001b[0m, \u001b[32m'poBox'\u001b[0m: \u001b[3;91mFalse\u001b[0m\u001b[1m}\u001b[0m,\n",
       "        \u001b[32m'uspsData'\u001b[0m: \u001b[1m{\u001b[0m\n",
       "            \u001b[32m'standardizedAddress'\u001b[0m: \u001b[1m{\u001b[0m\n",
       "                \u001b[32m'firstAddressLine'\u001b[0m: \u001b[32m'801 N CEDAR ST'\u001b[0m,\n",
       "                \u001b[32m'cityStateZipAddressLine'\u001b[0m: \u001b[32m'AJO AZ 85321-2110'\u001b[0m,\n",
       "                \u001b[32m'city'\u001b[0m: \u001b[32m'AJO'\u001b[0m,\n",
       "                \u001b[32m'state'\u001b[0m: \u001b[32m'AZ'\u001b[0m,\n",
       "                \u001b[32m'zipCode'\u001b[0m: \u001b[32m'85321'\u001b[0m,\n",
       "                \u001b[32m'zipCodeExtension'\u001b[0m: \u001b[32m'2110'\u001b[0m\n",
       "            \u001b[1m}\u001b[0m,\n",
       "            \u001b[32m'deliveryPointCode'\u001b[0m: \u001b[32m'01'\u001b[0m,\n",
       "            \u001b[32m'deliveryPointCheckDigit'\u001b[0m: \u001b[32m'6'\u001b[0m,\n",
       "            \u001b[32m'dpvConfirmation'\u001b[0m: \u001b[32m'Y'\u001b[0m,\n",
       "            \u001b[32m'dpvFootnote'\u001b[0m: \u001b[32m'AABB'\u001b[0m,\n",
       "            \u001b[32m'dpvCmra'\u001b[0m: \u001b[32m'N'\u001b[0m,\n",
       "            \u001b[32m'dpvVacant'\u001b[0m: \u001b[32m'N'\u001b[0m,\n",
       "            \u001b[32m'dpvNoStat'\u001b[0m: \u001b[32m'Y'\u001b[0m,\n",
       "            \u001b[32m'carrierRoute'\u001b[0m: \u001b[32m'C001'\u001b[0m,\n",
       "            \u001b[32m'carrierRouteIndicator'\u001b[0m: \u001b[32m'C'\u001b[0m,\n",
       "            \u001b[32m'postOfficeCity'\u001b[0m: \u001b[32m'AJO'\u001b[0m,\n",
       "            \u001b[32m'postOfficeState'\u001b[0m: \u001b[32m'AZ'\u001b[0m,\n",
       "            \u001b[32m'fipsCountyCode'\u001b[0m: \u001b[32m'019'\u001b[0m,\n",
       "            \u001b[32m'county'\u001b[0m: \u001b[32m'PIMA'\u001b[0m,\n",
       "            \u001b[32m'elotNumber'\u001b[0m: \u001b[32m'0227'\u001b[0m,\n",
       "            \u001b[32m'elotFlag'\u001b[0m: \u001b[32m'A'\u001b[0m,\n",
       "            \u001b[32m'addressRecordType'\u001b[0m: \u001b[32m'S'\u001b[0m,\n",
       "            \u001b[32m'dpvNoStatReasonCode'\u001b[0m: \u001b[1;36m2\u001b[0m,\n",
       "            \u001b[32m'dpvDrop'\u001b[0m: \u001b[32m'N'\u001b[0m,\n",
       "            \u001b[32m'dpvThrowback'\u001b[0m: \u001b[32m'N'\u001b[0m,\n",
       "            \u001b[32m'dpvNonDeliveryDays'\u001b[0m: \u001b[32m'N'\u001b[0m,\n",
       "            \u001b[32m'dpvNoSecureLocation'\u001b[0m: \u001b[32m'N'\u001b[0m,\n",
       "            \u001b[32m'dpvPbsa'\u001b[0m: \u001b[32m'N'\u001b[0m,\n",
       "            \u001b[32m'dpvDoorNotAccessible'\u001b[0m: \u001b[32m'N'\u001b[0m,\n",
       "            \u001b[32m'dpvEnhancedDeliveryCode'\u001b[0m: \u001b[32m'Y'\u001b[0m\n",
       "        \u001b[1m}\u001b[0m\n",
       "    \u001b[1m}\u001b[0m,\n",
       "    \u001b[32m'responseId'\u001b[0m: \u001b[32m'6871417d-2f9a-4c00-a5b2-6d5d046af66d'\u001b[0m\n",
       "\u001b[1m}\u001b[0m\n"
      ]
     },
     "metadata": {},
     "output_type": "display_data"
    }
   ],
   "source": [
    "from rich import print\n",
    "print(resp.json())"
   ]
  },
  {
   "cell_type": "code",
   "execution_count": 105,
   "metadata": {},
   "outputs": [],
   "source": [
    "fullAddress = resp.json()['result']['address']['formattedAddress']\n",
    "addressFirstLine = resp.json()['result']['uspsData']['standardizedAddress']['firstAddressLine']\n",
    "addressSecondLine = resp.json()['result']['uspsData']['standardizedAddress']['cityStateZipAddressLine']\n",
    "area = resp.json()['result']['uspsData']['standardizedAddress']['city']\n",
    "zip = resp.json()['result']['uspsData']['standardizedAddress']['zipCode']\n",
    "zipExt = resp.json()['result']['uspsData']['standardizedAddress']['zipCodeExtension']\n",
    "lat = resp.json()['result']['geocode']['location']['latitude']\n",
    "lon = resp.json()['result']['geocode']['location']['longitude']\n",
    "plusCode = resp.json()['result']['geocode']['plusCode']['globalCode']\n",
    "size = resp.json()['result']['geocode']['featureSizeMeters']\n",
    "placeID = resp.json()['result']['geocode']['placeId']"
   ]
  },
  {
   "cell_type": "code",
   "execution_count": 104,
   "metadata": {},
   "outputs": [
    {
     "data": {
      "text/html": [
       "<pre style=\"white-space:pre;overflow-x:auto;line-height:normal;font-family:Menlo,'DejaVu Sans Mono',consolas,'Courier New',monospace\"></pre>\n"
      ],
      "text/plain": []
     },
     "metadata": {},
     "output_type": "display_data"
    },
    {
     "data": {
      "text/plain": [
       "\n",
       "\u001b[1m{\u001b[0m\n",
       "    \u001b[32m'standardizedAddress'\u001b[0m: \u001b[1m{\u001b[0m\n",
       "        \u001b[32m'firstAddressLine'\u001b[0m: \u001b[32m'801 N CEDAR ST'\u001b[0m,\n",
       "        \u001b[32m'cityStateZipAddressLine'\u001b[0m: \u001b[32m'AJO AZ 85321-2110'\u001b[0m,\n",
       "        \u001b[32m'city'\u001b[0m: \u001b[32m'AJO'\u001b[0m,\n",
       "        \u001b[32m'state'\u001b[0m: \u001b[32m'AZ'\u001b[0m,\n",
       "        \u001b[32m'zipCode'\u001b[0m: \u001b[32m'85321'\u001b[0m,\n",
       "        \u001b[32m'zipCodeExtension'\u001b[0m: \u001b[32m'2110'\u001b[0m\n",
       "    \u001b[1m}\u001b[0m,\n",
       "    \u001b[32m'deliveryPointCode'\u001b[0m: \u001b[32m'01'\u001b[0m,\n",
       "    \u001b[32m'deliveryPointCheckDigit'\u001b[0m: \u001b[32m'6'\u001b[0m,\n",
       "    \u001b[32m'dpvConfirmation'\u001b[0m: \u001b[32m'Y'\u001b[0m,\n",
       "    \u001b[32m'dpvFootnote'\u001b[0m: \u001b[32m'AABB'\u001b[0m,\n",
       "    \u001b[32m'dpvCmra'\u001b[0m: \u001b[32m'N'\u001b[0m,\n",
       "    \u001b[32m'dpvVacant'\u001b[0m: \u001b[32m'N'\u001b[0m,\n",
       "    \u001b[32m'dpvNoStat'\u001b[0m: \u001b[32m'Y'\u001b[0m,\n",
       "    \u001b[32m'carrierRoute'\u001b[0m: \u001b[32m'C001'\u001b[0m,\n",
       "    \u001b[32m'carrierRouteIndicator'\u001b[0m: \u001b[32m'C'\u001b[0m,\n",
       "    \u001b[32m'postOfficeCity'\u001b[0m: \u001b[32m'AJO'\u001b[0m,\n",
       "    \u001b[32m'postOfficeState'\u001b[0m: \u001b[32m'AZ'\u001b[0m,\n",
       "    \u001b[32m'fipsCountyCode'\u001b[0m: \u001b[32m'019'\u001b[0m,\n",
       "    \u001b[32m'county'\u001b[0m: \u001b[32m'PIMA'\u001b[0m,\n",
       "    \u001b[32m'elotNumber'\u001b[0m: \u001b[32m'0227'\u001b[0m,\n",
       "    \u001b[32m'elotFlag'\u001b[0m: \u001b[32m'A'\u001b[0m,\n",
       "    \u001b[32m'addressRecordType'\u001b[0m: \u001b[32m'S'\u001b[0m,\n",
       "    \u001b[32m'dpvNoStatReasonCode'\u001b[0m: \u001b[1;36m2\u001b[0m,\n",
       "    \u001b[32m'dpvDrop'\u001b[0m: \u001b[32m'N'\u001b[0m,\n",
       "    \u001b[32m'dpvThrowback'\u001b[0m: \u001b[32m'N'\u001b[0m,\n",
       "    \u001b[32m'dpvNonDeliveryDays'\u001b[0m: \u001b[32m'N'\u001b[0m,\n",
       "    \u001b[32m'dpvNoSecureLocation'\u001b[0m: \u001b[32m'N'\u001b[0m,\n",
       "    \u001b[32m'dpvPbsa'\u001b[0m: \u001b[32m'N'\u001b[0m,\n",
       "    \u001b[32m'dpvDoorNotAccessible'\u001b[0m: \u001b[32m'N'\u001b[0m,\n",
       "    \u001b[32m'dpvEnhancedDeliveryCode'\u001b[0m: \u001b[32m'Y'\u001b[0m\n",
       "\u001b[1m}\u001b[0m"
      ]
     },
     "execution_count": 104,
     "metadata": {},
     "output_type": "execute_result"
    }
   ],
   "source": [
    "resp.json()['result']['uspsData']"
   ]
  },
  {
   "cell_type": "code",
   "execution_count": 67,
   "metadata": {},
   "outputs": [],
   "source": [
    "from Cope import catFile\n",
    "gmapsKey = catFile('/home/stella/Documents/Keys/GoogleMapsTargetCreationProject')"
   ]
  },
  {
   "cell_type": "code",
   "execution_count": 120,
   "metadata": {},
   "outputs": [
    {
     "data": {
      "text/html": [
       "<pre style=\"white-space:pre;overflow-x:auto;line-height:normal;font-family:Menlo,'DejaVu Sans Mono',consolas,'Courier New',monospace\"></pre>\n"
      ],
      "text/plain": []
     },
     "metadata": {},
     "output_type": "display_data"
    },
    {
     "data": {
      "text/plain": [
       "\u001b[1m{\u001b[0m\u001b[32m'class'\u001b[0m: \u001b[32m'Directory-listLink'\u001b[0m, \u001b[32m'data-count'\u001b[0m: \u001b[32m'\u001b[0m\u001b[32m(\u001b[0m\u001b[32m1\u001b[0m\u001b[32m)\u001b[0m\u001b[32m'\u001b[0m, \u001b[32m'data-ya-track'\u001b[0m: \u001b[32m'todirectory'\u001b[0m, \u001b[32m'href'\u001b[0m: \u001b[32m'../../en/us/al/anniston/1217-lenlock-lane'\u001b[0m\u001b[1m}\u001b[0m"
      ]
     },
     "execution_count": 120,
     "metadata": {},
     "output_type": "execute_result"
    }
   ],
   "source": [
    "etree.HTML(str(stateSoups[0][1])).xpath(f'/html/body/main/div/section/div/ul/li[{4}]/a')[0].attrib"
   ]
  },
  {
   "cell_type": "code",
   "execution_count": null,
   "metadata": {},
   "outputs": [],
   "source": [
    "# stateSoups"
   ]
  },
  {
   "cell_type": "code",
   "execution_count": 98,
   "metadata": {},
   "outputs": [
    {
     "data": {
      "text/html": [
       "<pre style=\"white-space:pre;overflow-x:auto;line-height:normal;font-family:Menlo,'DejaVu Sans Mono',consolas,'Courier New',monospace\">╭───────────────────────────────────────────────── Testing Regex ─────────────────────────────────────────────────╮\n",
       "│ <span style=\"font-weight: bold\">Testing expression (from [\"/tmp/ipykernel_39851/4245750080.py\", line 5]):</span>                                       │\n",
       "│         al/(\\w+)                                                                                                │\n",
       "│ <span style=\"font-weight: bold\">for matches in:</span>                                                                                                 │\n",
       "│ <span style=\"font-weight: bold\">        </span>../../en/us/<span style=\"color: #00ffff; text-decoration-color: #00ffff\">al/</span><span style=\"color: #00ffff; text-decoration-color: #00ffff; background-color: #800000\">wetumpka</span>/1405-chapel-road                                                                │\n",
       "│                                                                                                                 │\n",
       "│ <span style=\"color: #00ffff; text-decoration-color: #00ffff; font-style: italic\">Match = </span><span style=\"color: #00ffff; text-decoration-color: #00ffff\">\"al/wetumpka\"</span><span style=\"color: #00ffff; text-decoration-color: #00ffff; font-style: italic\"> (12:23)</span>                                                                                   │\n",
       "│ <span style=\"color: #00ffff; text-decoration-color: #00ffff; font-style: italic\">Unnamed Groups:</span>                                                                                                 │\n",
       "│ <span style=\"color: #00ffff; text-decoration-color: #00ffff\">        1: </span><span style=\"color: #00ffff; text-decoration-color: #00ffff; background-color: #800000\">\"wetumpka\"</span><span style=\"color: #00ffff; text-decoration-color: #00ffff; font-style: italic\"> (15:23)</span>                                                                                   │\n",
       "│                                                                                                                 │\n",
       "╰────────────────────────────────────────────────────<span style=\"color: #000080; text-decoration-color: #000080\"> Found  </span>─────────────────────────────────────────────────────╯\n",
       "</pre>\n"
      ],
      "text/plain": [
       "╭───────────────────────────────────────────────── Testing Regex ─────────────────────────────────────────────────╮\n",
       "│ \u001b[1mT\u001b[0m\u001b[1me\u001b[0m\u001b[1ms\u001b[0m\u001b[1mt\u001b[0m\u001b[1mi\u001b[0m\u001b[1mn\u001b[0m\u001b[1mg\u001b[0m\u001b[1m \u001b[0m\u001b[1me\u001b[0m\u001b[1mx\u001b[0m\u001b[1mp\u001b[0m\u001b[1mr\u001b[0m\u001b[1me\u001b[0m\u001b[1ms\u001b[0m\u001b[1ms\u001b[0m\u001b[1mi\u001b[0m\u001b[1mo\u001b[0m\u001b[1mn\u001b[0m\u001b[1m \u001b[0m\u001b[1m(\u001b[0m\u001b[1mf\u001b[0m\u001b[1mr\u001b[0m\u001b[1mo\u001b[0m\u001b[1mm\u001b[0m\u001b[1m \u001b[0m\u001b[1m[\u001b[0m\u001b[1m\"\u001b[0m\u001b[1m/\u001b[0m\u001b[1mt\u001b[0m\u001b[1mm\u001b[0m\u001b[1mp\u001b[0m\u001b[1m/\u001b[0m\u001b[1mi\u001b[0m\u001b[1mp\u001b[0m\u001b[1my\u001b[0m\u001b[1mk\u001b[0m\u001b[1me\u001b[0m\u001b[1mr\u001b[0m\u001b[1mn\u001b[0m\u001b[1me\u001b[0m\u001b[1ml\u001b[0m\u001b[1m_\u001b[0m\u001b[1m3\u001b[0m\u001b[1m9\u001b[0m\u001b[1m8\u001b[0m\u001b[1m5\u001b[0m\u001b[1m1\u001b[0m\u001b[1m/\u001b[0m\u001b[1m4\u001b[0m\u001b[1m2\u001b[0m\u001b[1m4\u001b[0m\u001b[1m5\u001b[0m\u001b[1m7\u001b[0m\u001b[1m5\u001b[0m\u001b[1m0\u001b[0m\u001b[1m0\u001b[0m\u001b[1m8\u001b[0m\u001b[1m0\u001b[0m\u001b[1m.\u001b[0m\u001b[1mp\u001b[0m\u001b[1my\u001b[0m\u001b[1m\"\u001b[0m\u001b[1m,\u001b[0m\u001b[1m \u001b[0m\u001b[1ml\u001b[0m\u001b[1mi\u001b[0m\u001b[1mn\u001b[0m\u001b[1me\u001b[0m\u001b[1m \u001b[0m\u001b[1m5\u001b[0m\u001b[1m]\u001b[0m\u001b[1m)\u001b[0m\u001b[1m:\u001b[0m                                       │\n",
       "│         al/(\\w+)                                                                                                │\n",
       "│ \u001b[1mf\u001b[0m\u001b[1mo\u001b[0m\u001b[1mr\u001b[0m\u001b[1m \u001b[0m\u001b[1mm\u001b[0m\u001b[1ma\u001b[0m\u001b[1mt\u001b[0m\u001b[1mc\u001b[0m\u001b[1mh\u001b[0m\u001b[1me\u001b[0m\u001b[1ms\u001b[0m\u001b[1m \u001b[0m\u001b[1mi\u001b[0m\u001b[1mn\u001b[0m\u001b[1m:\u001b[0m                                                                                                 │\n",
       "│ \u001b[1m        \u001b[0m../../en/us/\u001b[96ma\u001b[0m\u001b[96ml\u001b[0m\u001b[96m/\u001b[0m\u001b[96;41mw\u001b[0m\u001b[96;41me\u001b[0m\u001b[96;41mt\u001b[0m\u001b[96;41mu\u001b[0m\u001b[96;41mm\u001b[0m\u001b[96;41mp\u001b[0m\u001b[96;41mk\u001b[0m\u001b[96;41ma\u001b[0m/1405-chapel-road                                                                │\n",
       "│                                                                                                                 │\n",
       "│ \u001b[3;96mM\u001b[0m\u001b[3;96ma\u001b[0m\u001b[3;96mt\u001b[0m\u001b[3;96mc\u001b[0m\u001b[3;96mh\u001b[0m\u001b[3;96m \u001b[0m\u001b[3;96m=\u001b[0m\u001b[3;96m \u001b[0m\u001b[96m\"\u001b[0m\u001b[96ma\u001b[0m\u001b[96ml\u001b[0m\u001b[96m/\u001b[0m\u001b[96mw\u001b[0m\u001b[96me\u001b[0m\u001b[96mt\u001b[0m\u001b[96mu\u001b[0m\u001b[96mm\u001b[0m\u001b[96mp\u001b[0m\u001b[96mk\u001b[0m\u001b[96ma\u001b[0m\u001b[96m\"\u001b[0m\u001b[3;96m \u001b[0m\u001b[3;96m(\u001b[0m\u001b[3;96m1\u001b[0m\u001b[3;96m2\u001b[0m\u001b[3;96m:\u001b[0m\u001b[3;96m2\u001b[0m\u001b[3;96m3\u001b[0m\u001b[3;96m)\u001b[0m                                                                                   │\n",
       "│ \u001b[3;96mU\u001b[0m\u001b[3;96mn\u001b[0m\u001b[3;96mn\u001b[0m\u001b[3;96ma\u001b[0m\u001b[3;96mm\u001b[0m\u001b[3;96me\u001b[0m\u001b[3;96md\u001b[0m\u001b[3;96m \u001b[0m\u001b[3;96mG\u001b[0m\u001b[3;96mr\u001b[0m\u001b[3;96mo\u001b[0m\u001b[3;96mu\u001b[0m\u001b[3;96mp\u001b[0m\u001b[3;96ms\u001b[0m\u001b[3;96m:\u001b[0m                                                                                                 │\n",
       "│ \u001b[96m        \u001b[0m\u001b[96m1\u001b[0m\u001b[96m:\u001b[0m\u001b[96m \u001b[0m\u001b[96;41m\"\u001b[0m\u001b[96;41mw\u001b[0m\u001b[96;41me\u001b[0m\u001b[96;41mt\u001b[0m\u001b[96;41mu\u001b[0m\u001b[96;41mm\u001b[0m\u001b[96;41mp\u001b[0m\u001b[96;41mk\u001b[0m\u001b[96;41ma\u001b[0m\u001b[96;41m\"\u001b[0m\u001b[3;96m \u001b[0m\u001b[3;96m(\u001b[0m\u001b[3;96m1\u001b[0m\u001b[3;96m5\u001b[0m\u001b[3;96m:\u001b[0m\u001b[3;96m2\u001b[0m\u001b[3;96m3\u001b[0m\u001b[3;96m)\u001b[0m                                                                                   │\n",
       "│                                                                                                                 │\n",
       "╰────────────────────────────────────────────────────\u001b[34m Found  \u001b[0m─────────────────────────────────────────────────────╯\n"
      ]
     },
     "metadata": {},
     "output_type": "display_data"
    },
    {
     "data": {
      "text/html": [
       "<pre style=\"white-space:pre;overflow-x:auto;line-height:normal;font-family:Menlo,'DejaVu Sans Mono',consolas,'Courier New',monospace\"></pre>\n"
      ],
      "text/plain": []
     },
     "metadata": {},
     "output_type": "display_data"
    },
    {
     "data": {
      "text/plain": [
       "\u001b[32m'wetumpka'\u001b[0m"
      ]
     },
     "execution_count": 98,
     "metadata": {},
     "output_type": "execute_result"
    }
   ],
   "source": [
    "import ezregex as er\n",
    "s = '../../en/us/al/wetumpka/1405-chapel-road'\n",
    "r = 'al/' + er.group(er.word)\n",
    "# r = er.line_ends_with(er.word + '/' + er.matchMax(er.word + er.optional('-')))\n",
    "r.test(s)\n",
    "import re\n",
    "re.search(r.str(), s).groups()[0]"
   ]
  },
  {
   "cell_type": "code",
   "execution_count": null,
   "metadata": {},
   "outputs": [],
   "source": [
    "# Go through all the links, and fetch their pages\n",
    "countySoups = {}\n",
    "for state, links in countyLinks:\n",
    "    countySoups['state'] = [\n",
    "        BeautifulSoup(requests.get(f'https://local.churchofjesuschrist.org/{link[6:]}').content, 'html.parser')\n",
    "        for link in links\n",
    "    ]"
   ]
  },
  {
   "cell_type": "code",
   "execution_count": 70,
   "metadata": {},
   "outputs": [
    {
     "data": {
      "text/html": [
       "<pre style=\"white-space:pre;overflow-x:auto;line-height:normal;font-family:Menlo,'DejaVu Sans Mono',consolas,'Courier New',monospace\"></pre>\n"
      ],
      "text/plain": []
     },
     "metadata": {},
     "output_type": "display_data"
    },
    {
     "data": {
      "text/plain": [
       "\u001b[32m'../../en/us/al/alabaster/210-lacey-avenue'\u001b[0m"
      ]
     },
     "metadata": {},
     "output_type": "display_data"
    }
   ],
   "source": [
    "for soup in soups:\n",
    "    dom = etree.HTML(str(soups[0])) \n",
    "    e = dom.xpath('/html/body/main/div/section/div/ul/li[1]/a')[0]\n",
    "    display(e.attrib['href'])"
   ]
  },
  {
   "cell_type": "code",
   "execution_count": 76,
   "metadata": {},
   "outputs": [
    {
     "data": {
      "text/html": [
       "<pre style=\"white-space:pre;overflow-x:auto;line-height:normal;font-family:Menlo,'DejaVu Sans Mono',consolas,'Courier New',monospace\"></pre>\n"
      ],
      "text/plain": []
     },
     "metadata": {},
     "output_type": "display_data"
    },
    {
     "data": {
      "text/plain": [
       "\u001b[32m'en/us/al/alabaster/210-lacey-avenue'\u001b[0m"
      ]
     },
     "execution_count": 76,
     "metadata": {},
     "output_type": "execute_result"
    }
   ],
   "source": [
    "'../../en/us/al/alabaster/210-lacey-avenue'[6:]"
   ]
  },
  {
   "cell_type": "code",
   "execution_count": 50,
   "metadata": {},
   "outputs": [
    {
     "data": {
      "text/html": [
       "<pre style=\"white-space:pre;overflow-x:auto;line-height:normal;font-family:Menlo,'DejaVu Sans Mono',consolas,'Courier New',monospace\"></pre>\n"
      ],
      "text/plain": []
     },
     "metadata": {},
     "output_type": "display_data"
    },
    {
     "data": {
      "text/plain": [
       "\u001b[1m{\u001b[0m\u001b[32m'class'\u001b[0m: \u001b[32m'Directory-listItem'\u001b[0m\u001b[1m}\u001b[0m"
      ]
     },
     "execution_count": 50,
     "metadata": {},
     "output_type": "execute_result"
    }
   ],
   "source": [
    "'https://local.churchofjesuschrist.org/en/us/'"
   ]
  },
  {
   "cell_type": "code",
   "execution_count": 61,
   "metadata": {},
   "outputs": [
    {
     "data": {
      "text/html": [
       "<pre style=\"white-space:pre;overflow-x:auto;line-height:normal;font-family:Menlo,'DejaVu Sans Mono',consolas,'Courier New',monospace\"></pre>\n"
      ],
      "text/plain": []
     },
     "metadata": {},
     "output_type": "display_data"
    },
    {
     "data": {
      "text/plain": [
       "\n",
       "\u001b[1m[\u001b[0m\n",
       "    \u001b[32m'al'\u001b[0m,\n",
       "    \u001b[32m'ak'\u001b[0m,\n",
       "    \u001b[32m'az'\u001b[0m,\n",
       "    \u001b[32m'ar'\u001b[0m,\n",
       "    \u001b[32m'ca'\u001b[0m,\n",
       "    \u001b[32m'co'\u001b[0m,\n",
       "    \u001b[32m'ct'\u001b[0m,\n",
       "    \u001b[32m'de'\u001b[0m,\n",
       "    \u001b[32m'fl'\u001b[0m,\n",
       "    \u001b[32m'ga'\u001b[0m,\n",
       "    \u001b[32m'hi'\u001b[0m,\n",
       "    \u001b[32m'id'\u001b[0m,\n",
       "    \u001b[32m'il'\u001b[0m,\n",
       "    \u001b[32m'in'\u001b[0m,\n",
       "    \u001b[32m'ia'\u001b[0m,\n",
       "    \u001b[32m'ks'\u001b[0m,\n",
       "    \u001b[32m'ky'\u001b[0m,\n",
       "    \u001b[32m'la'\u001b[0m,\n",
       "    \u001b[32m'me'\u001b[0m,\n",
       "    \u001b[32m'md'\u001b[0m,\n",
       "    \u001b[32m'ma'\u001b[0m,\n",
       "    \u001b[32m'mi'\u001b[0m,\n",
       "    \u001b[32m'mn'\u001b[0m,\n",
       "    \u001b[32m'ms'\u001b[0m,\n",
       "    \u001b[32m'mo'\u001b[0m,\n",
       "    \u001b[32m'mt'\u001b[0m,\n",
       "    \u001b[32m'ne'\u001b[0m,\n",
       "    \u001b[32m'nv'\u001b[0m,\n",
       "    \u001b[32m'nh'\u001b[0m,\n",
       "    \u001b[32m'nj'\u001b[0m,\n",
       "    \u001b[32m'nm'\u001b[0m,\n",
       "    \u001b[32m'ny'\u001b[0m,\n",
       "    \u001b[32m'nc'\u001b[0m,\n",
       "    \u001b[32m'nd'\u001b[0m,\n",
       "    \u001b[32m'oh'\u001b[0m,\n",
       "    \u001b[32m'ok'\u001b[0m,\n",
       "    \u001b[32m'or'\u001b[0m,\n",
       "    \u001b[32m'pa'\u001b[0m,\n",
       "    \u001b[32m'ri'\u001b[0m,\n",
       "    \u001b[32m'sc'\u001b[0m,\n",
       "    \u001b[32m'sd'\u001b[0m,\n",
       "    \u001b[32m'tn'\u001b[0m,\n",
       "    \u001b[32m'tx'\u001b[0m,\n",
       "    \u001b[32m'ut'\u001b[0m,\n",
       "    \u001b[32m'vt'\u001b[0m,\n",
       "    \u001b[32m'va'\u001b[0m,\n",
       "    \u001b[32m'wa'\u001b[0m,\n",
       "    \u001b[32m'wv'\u001b[0m,\n",
       "    \u001b[32m'wi'\u001b[0m,\n",
       "    \u001b[32m'wy'\u001b[0m\n",
       "\u001b[1m]\u001b[0m"
      ]
     },
     "execution_count": 61,
     "metadata": {},
     "output_type": "execute_result"
    }
   ],
   "source": [
    "import us\n"
   ]
  },
  {
   "cell_type": "code",
   "execution_count": null,
   "metadata": {},
   "outputs": [],
   "source": [
    "\n",
    "\n",
    "\n",
    "URL = \"https://en.wikipedia.org/wiki/Nike,_Inc.\"\n",
    "\n",
    "HEADERS = ({'User-Agent': \n",
    "\t\t\t'Mozilla/5.0 (X11; Linux x86_64) AppleWebKit/537.36 \\ \n",
    "\t\t\t(KHTML, like Gecko) Chrome/44.0.2403.157 Safari/537.36',\\ \n",
    "\t\t\t'Accept-Language': 'en-US, en;q=0.5'}) \n",
    "\n",
    "webpage = requests.get(URL, headers=HEADERS) \n",
    "soup = BeautifulSoup(webpage.content, \"html.parser\") \n",
    "dom = etree.HTML(str(soup)) \n",
    "print(dom.xpath('//*[@id=\"firstHeading\"]')[0].text) \n"
   ]
  }
 ],
 "metadata": {
  "kernelspec": {
   "display_name": "Python 3",
   "language": "python",
   "name": "python3"
  },
  "language_info": {
   "codemirror_mode": {
    "name": "ipython",
    "version": 3
   },
   "file_extension": ".py",
   "mimetype": "text/x-python",
   "name": "python",
   "nbconvert_exporter": "python",
   "pygments_lexer": "ipython3",
   "version": "3.11.5"
  },
  "orig_nbformat": 4
 },
 "nbformat": 4,
 "nbformat_minor": 2
}

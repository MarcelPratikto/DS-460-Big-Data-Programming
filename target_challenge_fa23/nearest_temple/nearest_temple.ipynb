{
 "cells": [
  {
   "cell_type": "markdown",
   "metadata": {},
   "source": [
    "### Distance Table for Nearest Temple\n",
    "\n",
    "### Column names\n",
    "\n",
    "- tract: Is the tract ID. census often labels it `GEOID`\n",
    "- name: is the `templeNameId` in the temple details file\n",
    "- meters: the distance from the center of the tract to the temple location in meters\n",
    "- miles: the distance from the center of the tract to the temple location in miles\n",
    "\n",
    "### Data Details\n",
    "\n",
    "There are 74133 rows and the tracts are based on the [2018 tract tables](https://www2.census.gov/geo/tiger/TIGER2018/TRACT/). Here is a [website where you can see the current tract boundaries](https://data.census.gov/map?q=Kootenai+County,+Idaho+Sac+and+Fox&g=040XX00US16_060XX00US1605590621&layer=VT_2021_140_00_PY_D1&mode=thematic&loc=47.7170,-116.8157,z11.2977) (which are slightly different)\n",
    "\n",
    "### Code Details\n",
    "\n",
    "See the [R script](https://github.com/BYUIDSseniorproject/scrape/blob/main/temple_example/5_distance.r) used to calculate the distances. Note the use of [EPSG 9311](https://epsg.io/9311) to get a projection in meters. It says the error is 5 meters. "
   ]
  },
  {
   "cell_type": "code",
   "execution_count": 1,
   "metadata": {},
   "outputs": [],
   "source": [
    "# %%\n",
    "import polars as pl\n",
    "import plotly.express as px\n",
    "import pyarrow.parquet as pq"
   ]
  },
  {
   "cell_type": "code",
   "execution_count": 2,
   "metadata": {},
   "outputs": [
    {
     "data": {
      "text/html": [
       "<div><style>\n",
       ".dataframe > thead > tr > th,\n",
       ".dataframe > tbody > tr > td {\n",
       "  text-align: right;\n",
       "  white-space: pre-wrap;\n",
       "}\n",
       "</style>\n",
       "<small>shape: (5, 4)</small><table border=\"1\" class=\"dataframe\"><thead><tr><th>tract</th><th>name</th><th>meters</th><th>miles</th></tr><tr><td>str</td><td>str</td><td>f64</td><td>f64</td></tr></thead><tbody><tr><td>&quot;36061014900&quot;</td><td>&quot;manhattan-new-…</td><td>107.248949</td><td>0.066641</td></tr><tr><td>&quot;49049002400&quot;</td><td>&quot;provo-city-cen…</td><td>163.378405</td><td>0.101519</td></tr><tr><td>&quot;41039002101&quot;</td><td>&quot;willamette-val…</td><td>207.090472</td><td>0.12868</td></tr><tr><td>&quot;06019004214&quot;</td><td>&quot;fresno-califor…</td><td>214.053264</td><td>0.133007</td></tr><tr><td>&quot;36061015300&quot;</td><td>&quot;manhattan-new-…</td><td>216.699319</td><td>0.134651</td></tr></tbody></table></div>"
      ],
      "text/plain": [
       "shape: (5, 4)\n",
       "┌─────────────┬─────────────────────────────────┬────────────┬──────────┐\n",
       "│ tract       ┆ name                            ┆ meters     ┆ miles    │\n",
       "│ ---         ┆ ---                             ┆ ---        ┆ ---      │\n",
       "│ str         ┆ str                             ┆ f64        ┆ f64      │\n",
       "╞═════════════╪═════════════════════════════════╪════════════╪══════════╡\n",
       "│ 36061014900 ┆ manhattan-new-york-temple       ┆ 107.248949 ┆ 0.066641 │\n",
       "│ 49049002400 ┆ provo-city-center-temple        ┆ 163.378405 ┆ 0.101519 │\n",
       "│ 41039002101 ┆ willamette-valley-oregon-temple ┆ 207.090472 ┆ 0.12868  │\n",
       "│ 06019004214 ┆ fresno-california-temple        ┆ 214.053264 ┆ 0.133007 │\n",
       "│ 36061015300 ┆ manhattan-new-york-temple       ┆ 216.699319 ┆ 0.134651 │\n",
       "└─────────────┴─────────────────────────────────┴────────────┴──────────┘"
      ]
     },
     "execution_count": 2,
     "metadata": {},
     "output_type": "execute_result"
    }
   ],
   "source": [
    "dat = pl.from_arrow(pq.read_table(\"tract_distance_to_nearest_temple.parquet\"))\n",
    "dat.head(5)"
   ]
  },
  {
   "cell_type": "code",
   "execution_count": 3,
   "metadata": {},
   "outputs": [
    {
     "data": {
      "text/plain": [
       "(74133, 4)"
      ]
     },
     "execution_count": 3,
     "metadata": {},
     "output_type": "execute_result"
    }
   ],
   "source": [
    "dat.shape"
   ]
  },
  {
   "cell_type": "code",
   "execution_count": 12,
   "metadata": {},
   "outputs": [
    {
     "data": {
      "text/html": [
       "<div><style>\n",
       ".dataframe > thead > tr > th,\n",
       ".dataframe > tbody > tr > td {\n",
       "  text-align: right;\n",
       "  white-space: pre-wrap;\n",
       "}\n",
       "</style>\n",
       "<small>shape: (9, 3)</small><table border=\"1\" class=\"dataframe\"><thead><tr><th>describe</th><th>meters</th><th>miles</th></tr><tr><td>str</td><td>f64</td><td>f64</td></tr></thead><tbody><tr><td>&quot;count&quot;</td><td>74133.0</td><td>74133.0</td></tr><tr><td>&quot;null_count&quot;</td><td>0.0</td><td>0.0</td></tr><tr><td>&quot;mean&quot;</td><td>105682.250643</td><td>65.667906</td></tr><tr><td>&quot;std&quot;</td><td>275886.302831</td><td>171.427801</td></tr><tr><td>&quot;min&quot;</td><td>107.248949</td><td>0.066641</td></tr><tr><td>&quot;25%&quot;</td><td>21819.227774</td><td>13.55784</td></tr><tr><td>&quot;50%&quot;</td><td>51236.717996</td><td>31.837021</td></tr><tr><td>&quot;75%&quot;</td><td>121193.182584</td><td>75.305952</td></tr><tr><td>&quot;max&quot;</td><td>5.8257e6</td><td>3619.932192</td></tr></tbody></table></div>"
      ],
      "text/plain": [
       "shape: (9, 3)\n",
       "┌────────────┬───────────────┬─────────────┐\n",
       "│ describe   ┆ meters        ┆ miles       │\n",
       "│ ---        ┆ ---           ┆ ---         │\n",
       "│ str        ┆ f64           ┆ f64         │\n",
       "╞════════════╪═══════════════╪═════════════╡\n",
       "│ count      ┆ 74133.0       ┆ 74133.0     │\n",
       "│ null_count ┆ 0.0           ┆ 0.0         │\n",
       "│ mean       ┆ 105682.250643 ┆ 65.667906   │\n",
       "│ std        ┆ 275886.302831 ┆ 171.427801  │\n",
       "│ min        ┆ 107.248949    ┆ 0.066641    │\n",
       "│ 25%        ┆ 21819.227774  ┆ 13.55784    │\n",
       "│ 50%        ┆ 51236.717996  ┆ 31.837021   │\n",
       "│ 75%        ┆ 121193.182584 ┆ 75.305952   │\n",
       "│ max        ┆ 5.8257e6      ┆ 3619.932192 │\n",
       "└────────────┴───────────────┴─────────────┘"
      ]
     },
     "execution_count": 12,
     "metadata": {},
     "output_type": "execute_result"
    }
   ],
   "source": [
    "dat.select(\"meters\", \"miles\").describe()"
   ]
  },
  {
   "cell_type": "code",
   "execution_count": 13,
   "metadata": {},
   "outputs": [],
   "source": [
    "rexburg_tracts = [\"16065950100\", \"16065950200\", \"16065950400\", \"16065950301\", \"16065950500\", \"16065950302\"]\n",
    "courd_tracts = [\"16055000402\", \"16055000401\", \"16055001200\", \"16055000900\"]"
   ]
  },
  {
   "cell_type": "code",
   "execution_count": 15,
   "metadata": {},
   "outputs": [
    {
     "data": {
      "text/html": [
       "<div><style>\n",
       ".dataframe > thead > tr > th,\n",
       ".dataframe > tbody > tr > td {\n",
       "  text-align: right;\n",
       "  white-space: pre-wrap;\n",
       "}\n",
       "</style>\n",
       "<small>shape: (6, 4)</small><table border=\"1\" class=\"dataframe\"><thead><tr><th>tract</th><th>name</th><th>meters</th><th>miles</th></tr><tr><td>str</td><td>str</td><td>f64</td><td>f64</td></tr></thead><tbody><tr><td>&quot;16065950301&quot;</td><td>&quot;rexburg-idaho-…</td><td>1260.821372</td><td>0.783438</td></tr><tr><td>&quot;16065950302&quot;</td><td>&quot;rexburg-idaho-…</td><td>1656.70412</td><td>1.029428</td></tr><tr><td>&quot;16065950200&quot;</td><td>&quot;rexburg-idaho-…</td><td>2782.109221</td><td>1.728723</td></tr><tr><td>&quot;16065950100&quot;</td><td>&quot;teton-river-id…</td><td>5620.339981</td><td>3.492317</td></tr><tr><td>&quot;16065950500&quot;</td><td>&quot;rexburg-idaho-…</td><td>6482.833508</td><td>4.028246</td></tr><tr><td>&quot;16065950400&quot;</td><td>&quot;rexburg-idaho-…</td><td>18744.042583</td><td>11.647008</td></tr></tbody></table></div>"
      ],
      "text/plain": [
       "shape: (6, 4)\n",
       "┌─────────────┬──────────────────────────┬──────────────┬───────────┐\n",
       "│ tract       ┆ name                     ┆ meters       ┆ miles     │\n",
       "│ ---         ┆ ---                      ┆ ---          ┆ ---       │\n",
       "│ str         ┆ str                      ┆ f64          ┆ f64       │\n",
       "╞═════════════╪══════════════════════════╪══════════════╪═══════════╡\n",
       "│ 16065950301 ┆ rexburg-idaho-temple     ┆ 1260.821372  ┆ 0.783438  │\n",
       "│ 16065950302 ┆ rexburg-idaho-temple     ┆ 1656.70412   ┆ 1.029428  │\n",
       "│ 16065950200 ┆ rexburg-idaho-temple     ┆ 2782.109221  ┆ 1.728723  │\n",
       "│ 16065950100 ┆ teton-river-idaho-temple ┆ 5620.339981  ┆ 3.492317  │\n",
       "│ 16065950500 ┆ rexburg-idaho-temple     ┆ 6482.833508  ┆ 4.028246  │\n",
       "│ 16065950400 ┆ rexburg-idaho-temple     ┆ 18744.042583 ┆ 11.647008 │\n",
       "└─────────────┴──────────────────────────┴──────────────┴───────────┘"
      ]
     },
     "execution_count": 15,
     "metadata": {},
     "output_type": "execute_result"
    }
   ],
   "source": [
    "dat.filter(pl.col(\"tract\").is_in(rexburg_tracts))"
   ]
  },
  {
   "cell_type": "code",
   "execution_count": 16,
   "metadata": {},
   "outputs": [
    {
     "data": {
      "text/html": [
       "<div><style>\n",
       ".dataframe > thead > tr > th,\n",
       ".dataframe > tbody > tr > td {\n",
       "  text-align: right;\n",
       "  white-space: pre-wrap;\n",
       "}\n",
       "</style>\n",
       "<small>shape: (4, 4)</small><table border=\"1\" class=\"dataframe\"><thead><tr><th>tract</th><th>name</th><th>meters</th><th>miles</th></tr><tr><td>str</td><td>str</td><td>f64</td><td>f64</td></tr></thead><tbody><tr><td>&quot;16055000401&quot;</td><td>&quot;spokane-washin…</td><td>18452.907526</td><td>11.466105</td></tr><tr><td>&quot;16055000402&quot;</td><td>&quot;spokane-washin…</td><td>22394.139528</td><td>13.915073</td></tr><tr><td>&quot;16055000900&quot;</td><td>&quot;spokane-washin…</td><td>32798.140821</td><td>20.37982</td></tr><tr><td>&quot;16055001200&quot;</td><td>&quot;spokane-washin…</td><td>34805.065457</td><td>21.626865</td></tr></tbody></table></div>"
      ],
      "text/plain": [
       "shape: (4, 4)\n",
       "┌─────────────┬───────────────────────────┬──────────────┬───────────┐\n",
       "│ tract       ┆ name                      ┆ meters       ┆ miles     │\n",
       "│ ---         ┆ ---                       ┆ ---          ┆ ---       │\n",
       "│ str         ┆ str                       ┆ f64          ┆ f64       │\n",
       "╞═════════════╪═══════════════════════════╪══════════════╪═══════════╡\n",
       "│ 16055000401 ┆ spokane-washington-temple ┆ 18452.907526 ┆ 11.466105 │\n",
       "│ 16055000402 ┆ spokane-washington-temple ┆ 22394.139528 ┆ 13.915073 │\n",
       "│ 16055000900 ┆ spokane-washington-temple ┆ 32798.140821 ┆ 20.37982  │\n",
       "│ 16055001200 ┆ spokane-washington-temple ┆ 34805.065457 ┆ 21.626865 │\n",
       "└─────────────┴───────────────────────────┴──────────────┴───────────┘"
      ]
     },
     "execution_count": 16,
     "metadata": {},
     "output_type": "execute_result"
    }
   ],
   "source": [
    "dat.filter(pl.col(\"tract\").is_in(courd_tracts))"
   ]
  },
  {
   "cell_type": "code",
   "execution_count": null,
   "metadata": {},
   "outputs": [],
   "source": []
  }
 ],
 "metadata": {
  "kernelspec": {
   "display_name": "Python 3",
   "language": "python",
   "name": "python3"
  },
  "language_info": {
   "codemirror_mode": {
    "name": "ipython",
    "version": 3
   },
   "file_extension": ".py",
   "mimetype": "text/x-python",
   "name": "python",
   "nbconvert_exporter": "python",
   "pygments_lexer": "ipython3",
   "version": "3.11.5"
  }
 },
 "nbformat": 4,
 "nbformat_minor": 2
}

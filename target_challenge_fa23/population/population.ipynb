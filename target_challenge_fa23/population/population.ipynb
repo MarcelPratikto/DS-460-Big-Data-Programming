{
 "cells": [
  {
   "cell_type": "code",
   "execution_count": 15,
   "metadata": {},
   "outputs": [],
   "source": [
    "import polars as pl\n",
    "import pyarrow as pa\n",
    "import pyarrow.parquet as pq\n",
    "from census import Census\n",
    "from us import states\n",
    "import os\n",
    "from dotenv import load_dotenv\n",
    "load_dotenv()\n",
    "ckey = os.environ.get(\"CENSUS_KEY\")"
   ]
  },
  {
   "cell_type": "markdown",
   "metadata": {},
   "source": [
    "The [Census Python Package](https://pypi.org/project/census/) is highlighted by [PyGIS](https://pygis.io/docs/d_access_census.html) is great for pulling data from the Census.  It requirs an [API key](http://api.census.gov/data/key_signup.html). You can read about the available [ACS variables](https://api.census.gov/data/2019/acs/acs5/variables.html) and "
   ]
  },
  {
   "cell_type": "code",
   "execution_count": 16,
   "metadata": {},
   "outputs": [
    {
     "data": {
      "text/plain": [
       "'16'"
      ]
     },
     "execution_count": 16,
     "metadata": {},
     "output_type": "execute_result"
    }
   ],
   "source": [
    "# https://pygis.io/docs/d_access_census.html\n",
    "# https://api.census.gov/data/2019/acs/acs5/variables.html\n",
    "c = Census(ckey)\n",
    "states.ID.fips\n"
   ]
  },
  {
   "cell_type": "code",
   "execution_count": 26,
   "metadata": {},
   "outputs": [],
   "source": [
    "idaho_pop = c.acs5.state_county_tract(fields = ('NAME', 'B01003_001E'),\n",
    "                                      state_fips = states.ID.fips,\n",
    "                                      county_fips = \"*\",\n",
    "                                      tract = \"*\",\n",
    "                                      year = 2019)\n",
    "id_df = pl.DataFrame(idaho_pop)\\\n",
    "    .with_columns((pl.col(\"state\") + pl.col(\"county\") + pl.col(\"tract\")).alias(\"GEOID\"))\\\n",
    "    .select(\"GEOID\", \"B01003_001E\").rename({\"B01003_001E\":\"population\", \"GEOID\":\"tract\"})\n"
   ]
  },
  {
   "cell_type": "code",
   "execution_count": 34,
   "metadata": {},
   "outputs": [
    {
     "data": {
      "text/html": [
       "<div><style>\n",
       ".dataframe > thead > tr > th,\n",
       ".dataframe > tbody > tr > td {\n",
       "  text-align: right;\n",
       "  white-space: pre-wrap;\n",
       "}\n",
       "</style>\n",
       "<small>shape: (5, 2)</small><table border=\"1\" class=\"dataframe\"><thead><tr><th>tract</th><th>population</th></tr><tr><td>str</td><td>f64</td></tr></thead><tbody><tr><td>&quot;16019970700&quot;</td><td>5589.0</td></tr><tr><td>&quot;16025970100&quot;</td><td>1048.0</td></tr><tr><td>&quot;16027021700&quot;</td><td>11701.0</td></tr><tr><td>&quot;16027020700&quot;</td><td>3901.0</td></tr><tr><td>&quot;16027022100&quot;</td><td>5059.0</td></tr></tbody></table></div>"
      ],
      "text/plain": [
       "shape: (5, 2)\n",
       "┌─────────────┬────────────┐\n",
       "│ tract       ┆ population │\n",
       "│ ---         ┆ ---        │\n",
       "│ str         ┆ f64        │\n",
       "╞═════════════╪════════════╡\n",
       "│ 16019970700 ┆ 5589.0     │\n",
       "│ 16025970100 ┆ 1048.0     │\n",
       "│ 16027021700 ┆ 11701.0    │\n",
       "│ 16027020700 ┆ 3901.0     │\n",
       "│ 16027022100 ┆ 5059.0     │\n",
       "└─────────────┴────────────┘"
      ]
     },
     "execution_count": 34,
     "metadata": {},
     "output_type": "execute_result"
    }
   ],
   "source": [
    "id_df.head(5)"
   ]
  },
  {
   "cell_type": "code",
   "execution_count": 28,
   "metadata": {},
   "outputs": [
    {
     "data": {
      "text/html": [
       "<div><style>\n",
       ".dataframe > thead > tr > th,\n",
       ".dataframe > tbody > tr > td {\n",
       "  text-align: right;\n",
       "  white-space: pre-wrap;\n",
       "}\n",
       "</style>\n",
       "<small>shape: (9, 3)</small><table border=\"1\" class=\"dataframe\"><thead><tr><th>describe</th><th>tract</th><th>population</th></tr><tr><td>str</td><td>str</td><td>f64</td></tr></thead><tbody><tr><td>&quot;count&quot;</td><td>&quot;298&quot;</td><td>298.0</td></tr><tr><td>&quot;null_count&quot;</td><td>&quot;0&quot;</td><td>0.0</td></tr><tr><td>&quot;mean&quot;</td><td>null</td><td>5764.261745</td></tr><tr><td>&quot;std&quot;</td><td>null</td><td>3837.701373</td></tr><tr><td>&quot;min&quot;</td><td>&quot;16001000100&quot;</td><td>26.0</td></tr><tr><td>&quot;25%&quot;</td><td>null</td><td>3434.0</td></tr><tr><td>&quot;50%&quot;</td><td>null</td><td>4985.0</td></tr><tr><td>&quot;75%&quot;</td><td>null</td><td>6828.0</td></tr><tr><td>&quot;max&quot;</td><td>&quot;16087970300&quot;</td><td>28516.0</td></tr></tbody></table></div>"
      ],
      "text/plain": [
       "shape: (9, 3)\n",
       "┌────────────┬─────────────┬─────────────┐\n",
       "│ describe   ┆ tract       ┆ population  │\n",
       "│ ---        ┆ ---         ┆ ---         │\n",
       "│ str        ┆ str         ┆ f64         │\n",
       "╞════════════╪═════════════╪═════════════╡\n",
       "│ count      ┆ 298         ┆ 298.0       │\n",
       "│ null_count ┆ 0           ┆ 0.0         │\n",
       "│ mean       ┆ null        ┆ 5764.261745 │\n",
       "│ std        ┆ null        ┆ 3837.701373 │\n",
       "│ min        ┆ 16001000100 ┆ 26.0        │\n",
       "│ 25%        ┆ null        ┆ 3434.0      │\n",
       "│ 50%        ┆ null        ┆ 4985.0      │\n",
       "│ 75%        ┆ null        ┆ 6828.0      │\n",
       "│ max        ┆ 16087970300 ┆ 28516.0     │\n",
       "└────────────┴─────────────┴─────────────┘"
      ]
     },
     "execution_count": 28,
     "metadata": {},
     "output_type": "execute_result"
    }
   ],
   "source": [
    "id_df.describe()"
   ]
  },
  {
   "cell_type": "code",
   "execution_count": 31,
   "metadata": {},
   "outputs": [],
   "source": [
    "rexburg_tracts = [\"16065950100\", \"16065950200\", \"16065950400\", \"16065950301\", \"16065950500\", \"16065950302\"]\n",
    "courd_tracts = [\"16055000402\", \"16055000401\", \"16055001200\", \"16055000900\"]"
   ]
  },
  {
   "cell_type": "code",
   "execution_count": 32,
   "metadata": {},
   "outputs": [
    {
     "data": {
      "text/html": [
       "<div><style>\n",
       ".dataframe > thead > tr > th,\n",
       ".dataframe > tbody > tr > td {\n",
       "  text-align: right;\n",
       "  white-space: pre-wrap;\n",
       "}\n",
       "</style>\n",
       "<small>shape: (6, 2)</small><table border=\"1\" class=\"dataframe\"><thead><tr><th>tract</th><th>population</th></tr><tr><td>str</td><td>f64</td></tr></thead><tbody><tr><td>&quot;16065950200&quot;</td><td>4602.0</td></tr><tr><td>&quot;16065950302&quot;</td><td>13852.0</td></tr><tr><td>&quot;16065950301&quot;</td><td>3208.0</td></tr><tr><td>&quot;16065950400&quot;</td><td>6531.0</td></tr><tr><td>&quot;16065950100&quot;</td><td>6035.0</td></tr><tr><td>&quot;16065950500&quot;</td><td>4872.0</td></tr></tbody></table></div>"
      ],
      "text/plain": [
       "shape: (6, 2)\n",
       "┌─────────────┬────────────┐\n",
       "│ tract       ┆ population │\n",
       "│ ---         ┆ ---        │\n",
       "│ str         ┆ f64        │\n",
       "╞═════════════╪════════════╡\n",
       "│ 16065950200 ┆ 4602.0     │\n",
       "│ 16065950302 ┆ 13852.0    │\n",
       "│ 16065950301 ┆ 3208.0     │\n",
       "│ 16065950400 ┆ 6531.0     │\n",
       "│ 16065950100 ┆ 6035.0     │\n",
       "│ 16065950500 ┆ 4872.0     │\n",
       "└─────────────┴────────────┘"
      ]
     },
     "execution_count": 32,
     "metadata": {},
     "output_type": "execute_result"
    }
   ],
   "source": [
    "id_df.filter(pl.col(\"tract\").is_in(rexburg_tracts))"
   ]
  },
  {
   "cell_type": "code",
   "execution_count": 33,
   "metadata": {},
   "outputs": [
    {
     "data": {
      "text/html": [
       "<div><style>\n",
       ".dataframe > thead > tr > th,\n",
       ".dataframe > tbody > tr > td {\n",
       "  text-align: right;\n",
       "  white-space: pre-wrap;\n",
       "}\n",
       "</style>\n",
       "<small>shape: (4, 2)</small><table border=\"1\" class=\"dataframe\"><thead><tr><th>tract</th><th>population</th></tr><tr><td>str</td><td>f64</td></tr></thead><tbody><tr><td>&quot;16055000900&quot;</td><td>5978.0</td></tr><tr><td>&quot;16055001200&quot;</td><td>6535.0</td></tr><tr><td>&quot;16055000401&quot;</td><td>5808.0</td></tr><tr><td>&quot;16055000402&quot;</td><td>8894.0</td></tr></tbody></table></div>"
      ],
      "text/plain": [
       "shape: (4, 2)\n",
       "┌─────────────┬────────────┐\n",
       "│ tract       ┆ population │\n",
       "│ ---         ┆ ---        │\n",
       "│ str         ┆ f64        │\n",
       "╞═════════════╪════════════╡\n",
       "│ 16055000900 ┆ 5978.0     │\n",
       "│ 16055001200 ┆ 6535.0     │\n",
       "│ 16055000401 ┆ 5808.0     │\n",
       "│ 16055000402 ┆ 8894.0     │\n",
       "└─────────────┴────────────┘"
      ]
     },
     "execution_count": 33,
     "metadata": {},
     "output_type": "execute_result"
    }
   ],
   "source": [
    "id_df.filter(pl.col(\"tract\").is_in(courd_tracts))"
   ]
  },
  {
   "cell_type": "code",
   "execution_count": 35,
   "metadata": {},
   "outputs": [],
   "source": [
    "id_df.write_parquet(\"population.parquet\")"
   ]
  },
  {
   "cell_type": "code",
   "execution_count": null,
   "metadata": {},
   "outputs": [],
   "source": []
  }
 ],
 "metadata": {
  "kernelspec": {
   "display_name": "Python 3",
   "language": "python",
   "name": "python3"
  },
  "language_info": {
   "codemirror_mode": {
    "name": "ipython",
    "version": 3
   },
   "file_extension": ".py",
   "mimetype": "text/x-python",
   "name": "python",
   "nbconvert_exporter": "python",
   "pygments_lexer": "ipython3",
   "version": "3.11.5"
  }
 },
 "nbformat": 4,
 "nbformat_minor": 2
}

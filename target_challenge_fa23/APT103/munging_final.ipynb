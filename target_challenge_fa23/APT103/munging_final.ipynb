{
 "cells": [
  {
   "cell_type": "code",
   "execution_count": 0,
   "metadata": {
    "application/vnd.databricks.v1+cell": {
     "cellMetadata": {
      "byteLimit": 2048000,
      "rowLimit": 10000
     },
     "inputWidgets": {},
     "nuid": "debd55c2-9de0-432c-a2fc-a8199af4272e",
     "showTitle": false,
     "title": ""
    }
   },
   "outputs": [],
   "source": [
    "# %run ../build_database\n",
    "import pyspark.sql.functions as F"
   ]
  },
  {
   "cell_type": "markdown",
   "metadata": {
    "application/vnd.databricks.v1+cell": {
     "cellMetadata": {
      "byteLimit": 2048000,
      "rowLimit": 10000
     },
     "inputWidgets": {},
     "nuid": "4ff28383-6164-4d88-b25e-925dae81d2b5",
     "showTitle": false,
     "title": ""
    }
   },
   "source": [
    "# Preprocessing"
   ]
  },
  {
   "cell_type": "code",
   "execution_count": 0,
   "metadata": {
    "application/vnd.databricks.v1+cell": {
     "cellMetadata": {
      "byteLimit": 2048000,
      "rowLimit": 10000
     },
     "inputWidgets": {},
     "nuid": "bc37d9bd-c66c-4a50-b520-c8b13fc8e19b",
     "showTitle": false,
     "title": ""
    }
   },
   "outputs": [],
   "source": [
    "safegraph = spark.sql(\"\"\"\n",
    "    SELECT places.location_name,\n",
    "        patterns.placekey,\n",
    "        patterns.date_range_start,\n",
    "        patterns.popularity_by_day,\n",
    "        patterns.visits_by_day,\n",
    "        patterns.visitor_home_aggregation,\n",
    "        patterns.raw_visit_counts,\n",
    "        patterns.normalized_visits_by_state_scaling,\n",
    "        places.top_category\n",
    "    FROM safegraph.patterns AS patterns\n",
    "    LEFT JOIN safegraph.places AS places\n",
    "        ON patterns.placekey = places.placekey\n",
    "\"\"\")"
   ]
  },
  {
   "cell_type": "code",
   "execution_count": 0,
   "metadata": {
    "application/vnd.databricks.v1+cell": {
     "cellMetadata": {
      "byteLimit": 2048000,
      "rowLimit": 10000
     },
     "inputWidgets": {},
     "nuid": "835aa345-8fad-48a2-8e4c-5735981ba89b",
     "showTitle": false,
     "title": ""
    }
   },
   "outputs": [],
   "source": [
    "churches = safegraph.select(\n",
    "        \"*\",\n",
    "        *[F.col(\"popularity_by_day\")[key].alias(key) for key in safegraph.select(\"popularity_by_day\").first()[0].keys()]\n",
    "    ).filter(\n",
    "        (F.col(\"Sunday\") > F.col(\"Monday\")) &\n",
    "        (F.col(\"Sunday\") > F.col(\"Tuesday\")) &\n",
    "        (F.col(\"Sunday\") > F.col(\"Wednesday\")) &\n",
    "        (F.col(\"Sunday\") > F.col(\"Thursday\")) &\n",
    "        (F.col(\"Sunday\") > F.col(\"Friday\")) &\n",
    "        (F.col(\"Sunday\") > F.col(\"Saturday\"))\n",
    "    ).filter(\n",
    "        (F.col(\"top_category\") == \"Religious Organizations\") &\n",
    "        (F.col(\"location_name\").rlike(\"Latter|latter|Saints|saints|LDS|\\b[Ww]ard\\b\")) &\n",
    "        (F.col(\"location_name\").rlike(\"^((?!Reorganized).)*$\")) &\n",
    "        (F.col(\"location_name\").rlike(\"^((?!All Saints).)*$\")) &\n",
    "        (F.col(\"location_name\").rlike(\"^((?![cC]ath).)*$\")) &\n",
    "        (F.col(\"location_name\").rlike(\"^((?![Bb]ody).)*$\")) &\n",
    "        (F.col(\"location_name\").rlike(\"^((?![Pp]eter).)*$\")) &\n",
    "        (F.col(\"location_name\").rlike(\"^((?![Cc]atholic).)*$\")) &\n",
    "        (F.col(\"location_name\").rlike(\"^((?![Pp]res).)*$\")) &\n",
    "        (F.col(\"location_name\").rlike(\"^((?![Mm]inist).)*$\")) &\n",
    "        (F.col(\"location_name\").rlike(\"^((?![Mm]ission).)*$\")) &\n",
    "        (F.col(\"location_name\").rlike(\"^((?![Ww]orship).)*$\")) &\n",
    "        (F.col(\"location_name\").rlike(\"^((?![Rr]ain).)*$\")) &\n",
    "        (F.col(\"location_name\").rlike(\"^((?![Bb]aptist).)*$\")) &\n",
    "        (F.col(\"location_name\").rlike(\"^((?![Mm]eth).)*$\")) &\n",
    "        (F.col(\"location_name\").rlike(\"^((?![Ee]vang).)*$\")) &\n",
    "        (F.col(\"location_name\").rlike(\"^((?![Ll]utheran).)*$\")) &\n",
    "        (F.col(\"location_name\").rlike(\"^((?![Oo]rthodox).)*$\")) &\n",
    "        (F.col(\"location_name\").rlike(\"^((?![Ee]piscopal).)*$\")) &\n",
    "        (F.col(\"location_name\").rlike(\"^((?![Tt]abernacle).)*$\")) &\n",
    "        (F.col(\"location_name\").rlike(\"^((?![Hh]arvest).)*$\")) &\n",
    "        (F.col(\"location_name\").rlike(\"^((?![Aa]ssem).)*$\")) &\n",
    "        (F.col(\"location_name\").rlike(\"^((?![Mm]edia).)*$\")) &\n",
    "        (F.col(\"location_name\").rlike(\"^((?![Mm]artha).)*$\")) &\n",
    "        (F.col(\"location_name\").rlike(\"^((?![Cc]hristian).)*$\")) &\n",
    "        (F.col(\"location_name\").rlike(\"^((?![Uu]nited).)*$\")) &\n",
    "        (F.col(\"location_name\").rlike(\"^((?![Ff]ellowship).)*$\")) &\n",
    "        (F.col(\"location_name\").rlike(\"^((?![Ww]esl).)*$\")) &\n",
    "        (F.col(\"location_name\").rlike(\"^((?![C]cosmas).)*$\")) &\n",
    "        (F.col(\"location_name\").rlike(\"^((?![Gg]reater).)*$\")) &\n",
    "        (F.col(\"location_name\").rlike(\"^((?![Pp]rison).)*$\")) &\n",
    "        (F.col(\"location_name\").rlike(\"^((?![Cc]ommuni).)*$\")) &\n",
    "        (F.col(\"location_name\").rlike(\"^((?![Cc]lement).)*$\")) &\n",
    "        (F.col(\"location_name\").rlike(\"^((?![Vv]iridian).)*$\")) &\n",
    "        (F.col(\"location_name\").rlike(\"^((?![Dd]iocese).)*$\")) &\n",
    "        (F.col(\"location_name\").rlike(\"^((?![Hh]istory).)*$\")) &\n",
    "        (F.col(\"location_name\").rlike(\"^((?![Ss]chool).)*$\")) &\n",
    "        (F.col(\"location_name\").rlike(\"^((?![Tt]hougt).)*$\")) &\n",
    "        (F.col(\"location_name\").rlike(\"^((?![Hh]oliness).)*$\")) &\n",
    "        (F.col(\"location_name\").rlike(\"^((?![Mm]artyr).)*$\")) &\n",
    "        (F.col(\"location_name\").rlike(\"^((?![Jj]ames).)*$\")) &\n",
    "        (F.col(\"location_name\").rlike(\"^((?![Ff]ellowship).)*$\")) &\n",
    "        (F.col(\"location_name\").rlike(\"^((?![Hh]ouse).)*$\")) &\n",
    "        (F.col(\"location_name\").rlike(\"^((?![Gg]lory).)*$\")) &\n",
    "        (F.col(\"location_name\").rlike(\"^((?![Aa]nglican).)*$\")) &\n",
    "        (F.col(\"location_name\").rlike(\"^((?![Pp]oetic).)*$\")) &\n",
    "        (F.col(\"location_name\").rlike(\"^((?![Ss]anctuary).)*$\")) &\n",
    "        (F.col(\"location_name\").rlike(\"^((?![Ee]quipping).)*$\")) &\n",
    "        (F.col(\"location_name\").rlike(\"^((?![Jj]ohn).)*$\")) &\n",
    "        (F.col(\"location_name\").rlike(\"^((?![Aa]ndrew).)*$\")) &\n",
    "        (F.col(\"location_name\").rlike(\"^((?![Ee]manuel).)*$\")) &\n",
    "        (F.col(\"location_name\").rlike(\"^((?![Rr]edeemed).)*$\")) &\n",
    "        (F.col(\"location_name\").rlike(\"^((?![Pp]erfecting).)*$\")) &\n",
    "        (F.col(\"location_name\").rlike(\"^((?![Aa]ngel).)*$\")) &\n",
    "        (F.col(\"location_name\").rlike(\"^((?![Aa]rchangel).)*$\")) &\n",
    "        (F.col(\"location_name\").rlike(\"^((?![Mm]icheal).)*$\")) &\n",
    "        (F.col(\"location_name\").rlike(\"^((?![Tt]hought).)*$\")) &\n",
    "        (F.col(\"location_name\").rlike(\"^((?![Pp]ariosse).)*$\")) &\n",
    "        (F.col(\"location_name\").rlike(\"^((?![Cc]osmas).)*$\")) &\n",
    "        (F.col(\"location_name\").rlike(\"^((?![Dd]eliverance).)*$\")) &\n",
    "        (F.col(\"location_name\").rlike(\"^((?![Ss]ociete).)*$\")) &\n",
    "        (F.col(\"location_name\").rlike(\"^((?![Tt]emple).)*$\")) &\n",
    "        (F.col(\"location_name\").rlike(\"^((?![Ss]eminary).)*$\")) &\n",
    "        (F.col(\"location_name\").rlike(\"^((?![Ee]mployment).)*$\")) &\n",
    "        (F.col(\"location_name\").rlike(\"^((?![Ii]nstitute).)*$\")) &\n",
    "        (F.col(\"location_name\").rlike(\"^((?![Cc]amp).)*$\")) &\n",
    "        (F.col(\"location_name\").rlike(\"^((?![Ss]tudent).)*$\")) &\n",
    "        (F.col(\"location_name\").rlike(\"^((?![Ee]ducation).)*$\")) &\n",
    "        (F.col(\"location_name\").rlike(\"^((?![Ss]ocial).)*$\")) &\n",
    "        (F.col(\"location_name\").rlike(\"^((?![Ww]welfare).)*$\")) &\n",
    "        (F.col(\"location_name\").rlike(\"^((?![Cc][Ee][Ss]).)*$\")) &\n",
    "        (F.col(\"location_name\").rlike(\"^((?![Ff]amily).)*$\")) &\n",
    "        (F.col(\"location_name\").rlike(\"^((?![Mm]ary).)*$\")) &\n",
    "        (F.col(\"location_name\").rlike(\"^((?![Rr]ussian).)*$\")) &\n",
    "        (F.col(\"location_name\").rlike(\"^((?![Bb]eautif).)*$\")) &\n",
    "        (F.col(\"location_name\").rlike(\"^((?![Hh]eaven).)*$\")) &    \n",
    "        (F.col(\"location_name\").rlike(\"^((?!Inc).)*$\")) &\n",
    "        (F.col(\"location_name\").rlike(\"^((?!God).)*$\"))\n",
    "    ).dropDuplicates(\n",
    "        ['placekey', 'date_range_start']\n",
    "    )     "
   ]
  },
  {
   "cell_type": "markdown",
   "metadata": {
    "application/vnd.databricks.v1+cell": {
     "cellMetadata": {
      "byteLimit": 2048000,
      "rowLimit": 10000
     },
     "inputWidgets": {},
     "nuid": "9853ed98-65ce-455a-a286-fffc808d13c9",
     "showTitle": false,
     "title": ""
    }
   },
   "source": [
    "# Normalizing Sunday Visits"
   ]
  },
  {
   "cell_type": "code",
   "execution_count": 0,
   "metadata": {
    "application/vnd.databricks.v1+cell": {
     "cellMetadata": {
      "byteLimit": 2048000,
      "rowLimit": 10000
     },
     "inputWidgets": {},
     "nuid": "c879c7ec-69a2-4eba-bacd-885164bc775a",
     "showTitle": false,
     "title": ""
    }
   },
   "outputs": [],
   "source": [
    "def avg_accumulator(acc, x):\n",
    "    count = acc.count + 1\n",
    "    sum = acc.sum + x\n",
    "    return F.struct(count.alias(\"count\"), sum.alias(\"sum\"))\n",
    "\n",
    "churches = churches.withColumns({\n",
    "        'date_range_start': F.to_timestamp(F.col('date_range_start'), format=\"yyyy-MM-dd'T'HH:mm:ssxxx\"),\n",
    "        'state_sampling_rate': F.col('normalized_visits_by_state_scaling') / F.col('raw_visit_counts'),\n",
    "        'visits_by_sunday': F.array_remove(\n",
    "        F.transform('visits_by_day', lambda visits, i: F.when(\n",
    "                i % 7 ==\\\n",
    "                    (F.dayofmonth(F.col('date_range_start')) - F.dayofweek(F.col('date_range_start')) + 7) % 7 # index of first Sunday\n",
    "                , visits\n",
    "            ).otherwise(-99999)\n",
    "        ),\n",
    "        -99999\n",
    "        )\n",
    "    }).select(\n",
    "        'placekey',\n",
    "        'date_range_start',\n",
    "        'visitor_home_aggregation',\n",
    "        F.aggregate( # sum\n",
    "            F.map_values('visitor_home_aggregation'),\n",
    "            F.lit(0),\n",
    "            lambda acc, x: acc + x\n",
    "        ).alias('reported_home_visitor_agg_total'),\n",
    "        F.aggregate( # average\n",
    "            F.transform('visits_by_sunday', lambda visits: F.floor(visits * F.col('state_sampling_rate'))),\n",
    "            F.struct(F.lit(0).alias(\"count\"), F.lit(0.0).alias(\"sum\")),\n",
    "            avg_accumulator,\n",
    "            lambda acc: acc.sum / acc.count\n",
    "        ).alias('avg_weekly_sunday_visits_scaled') # proxy for active church-goers\n",
    "    )"
   ]
  },
  {
   "cell_type": "markdown",
   "metadata": {
    "application/vnd.databricks.v1+cell": {
     "cellMetadata": {
      "byteLimit": 2048000,
      "rowLimit": 10000
     },
     "inputWidgets": {},
     "nuid": "e2b3b2f5-a471-4bb6-be9b-77adadf29cb2",
     "showTitle": false,
     "title": ""
    }
   },
   "source": [
    "# Scaling Visitor Counts by Tract"
   ]
  },
  {
   "cell_type": "code",
   "execution_count": 0,
   "metadata": {
    "application/vnd.databricks.v1+cell": {
     "cellMetadata": {
      "byteLimit": 2048000,
      "rowLimit": 10000
     },
     "inputWidgets": {},
     "nuid": "0aa16330-424e-49a4-9b51-2922d7a03c02",
     "showTitle": false,
     "title": ""
    }
   },
   "outputs": [],
   "source": [
    "tract_target = churches.select(\n",
    "        'placekey',\n",
    "        'date_range_start',\n",
    "        F.explode(\n",
    "                F.transform_values(\n",
    "                'visitor_home_aggregation',\n",
    "                lambda _, visits: F.floor(visits * (F.col('avg_weekly_sunday_visits_scaled') / F.col('reported_home_visitor_agg_total')))\n",
    "            )\n",
    "        ).alias('tract', 'scaled_visitor_count')\n",
    "    ).groupBy(\n",
    "        \"tract\",\n",
    "        \"placekey\"\n",
    "    ).agg(\n",
    "        F.median(\"scaled_visitor_count\")\n",
    "    )\\\n",
    "    .groupBy(\"tract\")\\\n",
    "    .sum('median(scaled_visitor_count)')\\\n",
    "    .withColumnRenamed(\"sum(median(scaled_visitor_count))\", \"target\")"
   ]
  },
  {
   "cell_type": "code",
   "execution_count": 0,
   "metadata": {
    "application/vnd.databricks.v1+cell": {
     "cellMetadata": {
      "byteLimit": 2048000,
      "rowLimit": 10000
     },
     "inputWidgets": {},
     "nuid": "70194df9-7b1b-4929-8d14-568846a621c3",
     "showTitle": false,
     "title": ""
    }
   },
   "outputs": [
    {
     "output_type": "display_data",
     "data": {
      "text/html": [
       "<style scoped>\n",
       "  .table-result-container {\n",
       "    max-height: 300px;\n",
       "    overflow: auto;\n",
       "  }\n",
       "  table, th, td {\n",
       "    border: 1px solid black;\n",
       "    border-collapse: collapse;\n",
       "  }\n",
       "  th, td {\n",
       "    padding: 5px;\n",
       "  }\n",
       "  th {\n",
       "    text-align: left;\n",
       "  }\n",
       "</style><div class='table-result-container'><table class='table-result'><thead style='background-color: white'><tr><th>tract</th><th>target</th></tr></thead><tbody><tr><td>04013082019</td><td>20.0</td></tr><tr><td>04019004058</td><td>26.0</td></tr><tr><td>16029960100</td><td>806.0</td></tr><tr><td>30111000704</td><td>17.0</td></tr><tr><td>36061011900</td><td>17.0</td></tr><tr><td>37051003104</td><td>11.0</td></tr><tr><td>49035113406</td><td>10.0</td></tr><tr><td>49049000801</td><td>56.0</td></tr><tr><td>49049010304</td><td>24.0</td></tr><tr><td>49057200800</td><td>20.0</td></tr><tr><td>06029000910</td><td>25.0</td></tr><tr><td>16031950100</td><td>443.0</td></tr><tr><td>49049000102</td><td>79.0</td></tr><tr><td>53011040703</td><td>26.0</td></tr><tr><td>53063001100</td><td>24.0</td></tr><tr><td>06037431700</td><td>24.0</td></tr><tr><td>06095252909</td><td>12.0</td></tr><tr><td>16027021700</td><td>212.5</td></tr><tr><td>16055000500</td><td>112.5</td></tr><tr><td>32033970100</td><td>35.0</td></tr><tr><td>35043010722</td><td>21.0</td></tr><tr><td>41051010001</td><td>9.0</td></tr><tr><td>41061970600</td><td>11.0</td></tr><tr><td>45045002816</td><td>24.0</td></tr><tr><td>49035112810</td><td>214.0</td></tr><tr><td>16027021002</td><td>360.0</td></tr><tr><td>16031950300</td><td>625.5</td></tr><tr><td>16067970400</td><td>325.5</td></tr><tr><td>20161000200</td><td>15.0</td></tr><tr><td>39085206000</td><td>35.0</td></tr><tr><td>41005022208</td><td>35.0</td></tr><tr><td>49035112605</td><td>7.0</td></tr><tr><td>06085512033</td><td>13.0</td></tr><tr><td>08041003701</td><td>16.0</td></tr><tr><td>16027021500</td><td>218.0</td></tr><tr><td>16069960700</td><td>16.0</td></tr><tr><td>45003021203</td><td>19.0</td></tr><tr><td>49003960801</td><td>37.0</td></tr><tr><td>49035113107</td><td>208.5</td></tr><tr><td>49047968200</td><td>13.0</td></tr><tr><td>49057210509</td><td>25.0</td></tr><tr><td>53021020501</td><td>14.0</td></tr><tr><td>16001002224</td><td>469.0</td></tr><tr><td>16005001601</td><td>159.5</td></tr><tr><td>49035113534</td><td>20.0</td></tr><tr><td>49049010219</td><td>66.0</td></tr><tr><td>49051960200</td><td>8.0</td></tr><tr><td>08041007400</td><td>16.0</td></tr><tr><td>16013960100</td><td>211.0</td></tr><tr><td>16031950500</td><td>647.5</td></tr><tr><td>27163071010</td><td>14.0</td></tr><tr><td>55025000205</td><td>22.0</td></tr><tr><td>04013422621</td><td>20.0</td></tr><tr><td>04015952001</td><td>12.0</td></tr><tr><td>06031000602</td><td>21.0</td></tr><tr><td>06037920334</td><td>22.0</td></tr><tr><td>16017950200</td><td>132.0</td></tr><tr><td>28089030101</td><td>6.0</td></tr><tr><td>32003003305</td><td>24.0</td></tr><tr><td>37051002600</td><td>7.0</td></tr><tr><td>49035113903</td><td>25.0</td></tr><tr><td>49049001803</td><td>78.5</td></tr><tr><td>53033032702</td><td>15.0</td></tr><tr><td>04025001200</td><td>19.0</td></tr><tr><td>06077004303</td><td>34.0</td></tr><tr><td>08013013213</td><td>21.0</td></tr><tr><td>12073002104</td><td>7.0</td></tr><tr><td>16005001400</td><td>253.5</td></tr><tr><td>16087970200</td><td>117.0</td></tr><tr><td>49035112821</td><td>37.0</td></tr><tr><td>49039972200</td><td>24.0</td></tr><tr><td>49047968401</td><td>29.0</td></tr><tr><td>51830370300</td><td>21.0</td></tr><tr><td>12105014702</td><td>19.0</td></tr><tr><td>32003000526</td><td>25.0</td></tr><tr><td>49035112813</td><td>11.0</td></tr><tr><td>49049010109</td><td>76.0</td></tr><tr><td>51059416200</td><td>17.0</td></tr><tr><td>53005011100</td><td>10.0</td></tr><tr><td>53051970300</td><td>44.0</td></tr><tr><td>12073002508</td><td>9.5</td></tr><tr><td>16005000300</td><td>775.0</td></tr><tr><td>16007950200</td><td>154.0</td></tr><tr><td>27083360400</td><td>14.0</td></tr><tr><td>30063001303</td><td>11.0</td></tr><tr><td>48453001862</td><td>20.0</td></tr><tr><td>49027974300</td><td>21.0</td></tr><tr><td>53061053802</td><td>22.0</td></tr><tr><td>04013318900</td><td>23.0</td></tr><tr><td>06071007106</td><td>26.0</td></tr><tr><td>41001950200</td><td>8.0</td></tr><tr><td>45047970600</td><td>10.0</td></tr><tr><td>46099010404</td><td>18.0</td></tr><tr><td>49035110500</td><td>35.0</td></tr><tr><td>49057200600</td><td>21.0</td></tr><tr><td>24009860402</td><td>15.0</td></tr><tr><td>30081000700</td><td>11.0</td></tr><tr><td>41067033301</td><td>33.5</td></tr><tr><td>49049000706</td><td>54.0</td></tr><tr><td>53033031906</td><td>21.0</td></tr></tbody></table></div>"
      ]
     },
     "metadata": {
      "application/vnd.databricks.v1+output": {
       "addedWidgets": {},
       "aggData": [],
       "aggError": "",
       "aggOverflow": false,
       "aggSchema": [],
       "aggSeriesLimitReached": false,
       "aggType": "",
       "arguments": {},
       "columnCustomDisplayInfos": {},
       "data": [
        [
         "04013082019",
         20.0
        ],
        [
         "04019004058",
         26.0
        ],
        [
         "16029960100",
         806.0
        ],
        [
         "30111000704",
         17.0
        ],
        [
         "36061011900",
         17.0
        ],
        [
         "37051003104",
         11.0
        ],
        [
         "49035113406",
         10.0
        ],
        [
         "49049000801",
         56.0
        ],
        [
         "49049010304",
         24.0
        ],
        [
         "49057200800",
         20.0
        ],
        [
         "06029000910",
         25.0
        ],
        [
         "16031950100",
         443.0
        ],
        [
         "49049000102",
         79.0
        ],
        [
         "53011040703",
         26.0
        ],
        [
         "53063001100",
         24.0
        ],
        [
         "06037431700",
         24.0
        ],
        [
         "06095252909",
         12.0
        ],
        [
         "16027021700",
         212.5
        ],
        [
         "16055000500",
         112.5
        ],
        [
         "32033970100",
         35.0
        ],
        [
         "35043010722",
         21.0
        ],
        [
         "41051010001",
         9.0
        ],
        [
         "41061970600",
         11.0
        ],
        [
         "45045002816",
         24.0
        ],
        [
         "49035112810",
         214.0
        ],
        [
         "16027021002",
         360.0
        ],
        [
         "16031950300",
         625.5
        ],
        [
         "16067970400",
         325.5
        ],
        [
         "20161000200",
         15.0
        ],
        [
         "39085206000",
         35.0
        ],
        [
         "41005022208",
         35.0
        ],
        [
         "49035112605",
         7.0
        ],
        [
         "06085512033",
         13.0
        ],
        [
         "08041003701",
         16.0
        ],
        [
         "16027021500",
         218.0
        ],
        [
         "16069960700",
         16.0
        ],
        [
         "45003021203",
         19.0
        ],
        [
         "49003960801",
         37.0
        ],
        [
         "49035113107",
         208.5
        ],
        [
         "49047968200",
         13.0
        ],
        [
         "49057210509",
         25.0
        ],
        [
         "53021020501",
         14.0
        ],
        [
         "16001002224",
         469.0
        ],
        [
         "16005001601",
         159.5
        ],
        [
         "49035113534",
         20.0
        ],
        [
         "49049010219",
         66.0
        ],
        [
         "49051960200",
         8.0
        ],
        [
         "08041007400",
         16.0
        ],
        [
         "16013960100",
         211.0
        ],
        [
         "16031950500",
         647.5
        ],
        [
         "27163071010",
         14.0
        ],
        [
         "55025000205",
         22.0
        ],
        [
         "04013422621",
         20.0
        ],
        [
         "04015952001",
         12.0
        ],
        [
         "06031000602",
         21.0
        ],
        [
         "06037920334",
         22.0
        ],
        [
         "16017950200",
         132.0
        ],
        [
         "28089030101",
         6.0
        ],
        [
         "32003003305",
         24.0
        ],
        [
         "37051002600",
         7.0
        ],
        [
         "49035113903",
         25.0
        ],
        [
         "49049001803",
         78.5
        ],
        [
         "53033032702",
         15.0
        ],
        [
         "04025001200",
         19.0
        ],
        [
         "06077004303",
         34.0
        ],
        [
         "08013013213",
         21.0
        ],
        [
         "12073002104",
         7.0
        ],
        [
         "16005001400",
         253.5
        ],
        [
         "16087970200",
         117.0
        ],
        [
         "49035112821",
         37.0
        ],
        [
         "49039972200",
         24.0
        ],
        [
         "49047968401",
         29.0
        ],
        [
         "51830370300",
         21.0
        ],
        [
         "12105014702",
         19.0
        ],
        [
         "32003000526",
         25.0
        ],
        [
         "49035112813",
         11.0
        ],
        [
         "49049010109",
         76.0
        ],
        [
         "51059416200",
         17.0
        ],
        [
         "53005011100",
         10.0
        ],
        [
         "53051970300",
         44.0
        ],
        [
         "12073002508",
         9.5
        ],
        [
         "16005000300",
         775.0
        ],
        [
         "16007950200",
         154.0
        ],
        [
         "27083360400",
         14.0
        ],
        [
         "30063001303",
         11.0
        ],
        [
         "48453001862",
         20.0
        ],
        [
         "49027974300",
         21.0
        ],
        [
         "53061053802",
         22.0
        ],
        [
         "04013318900",
         23.0
        ],
        [
         "06071007106",
         26.0
        ],
        [
         "41001950200",
         8.0
        ],
        [
         "45047970600",
         10.0
        ],
        [
         "46099010404",
         18.0
        ],
        [
         "49035110500",
         35.0
        ],
        [
         "49057200600",
         21.0
        ],
        [
         "24009860402",
         15.0
        ],
        [
         "30081000700",
         11.0
        ],
        [
         "41067033301",
         33.5
        ],
        [
         "49049000706",
         54.0
        ],
        [
         "53033031906",
         21.0
        ]
       ],
       "datasetInfos": [],
       "dbfsResultPath": null,
       "isJsonSchema": true,
       "metadata": {},
       "overflow": false,
       "plotOptions": {
        "customPlotOptions": {},
        "displayType": "table",
        "pivotAggregation": null,
        "pivotColumns": null,
        "xColumns": null,
        "yColumns": null
       },
       "removedWidgets": [],
       "schema": [
        {
         "metadata": "{}",
         "name": "tract",
         "type": "\"string\""
        },
        {
         "metadata": "{}",
         "name": "target",
         "type": "\"double\""
        }
       ],
       "type": "table"
      }
     },
     "output_type": "display_data"
    }
   ],
   "source": [
    "display(tract_target.limit(100))"
   ]
  },
  {
   "cell_type": "markdown",
   "metadata": {
    "application/vnd.databricks.v1+cell": {
     "cellMetadata": {
      "byteLimit": 2048000,
      "rowLimit": 10000
     },
     "inputWidgets": {},
     "nuid": "acc6ef9a-88e0-47d6-968f-2a2ff2e829ab",
     "showTitle": false,
     "title": ""
    }
   },
   "source": [
    "# Visualizations"
   ]
  },
  {
   "cell_type": "code",
   "execution_count": 0,
   "metadata": {
    "application/vnd.databricks.v1+cell": {
     "cellMetadata": {
      "byteLimit": 2048000,
      "rowLimit": 10000
     },
     "inputWidgets": {},
     "nuid": "e297c8ec-0082-4de5-9b59-7f6b620f6eee",
     "showTitle": false,
     "title": ""
    }
   },
   "outputs": [],
   "source": [
    "import plotly.express as px"
   ]
  },
  {
   "cell_type": "markdown",
   "metadata": {
    "application/vnd.databricks.v1+cell": {
     "cellMetadata": {
      "byteLimit": 2048000,
      "rowLimit": 10000
     },
     "inputWidgets": {},
     "nuid": "83ba94e3-52ed-4e78-abf4-d7b2e4e97af3",
     "showTitle": false,
     "title": ""
    }
   },
   "source": [
    "Choropleth"
   ]
  },
  {
   "cell_type": "code",
   "execution_count": 0,
   "metadata": {
    "application/vnd.databricks.v1+cell": {
     "cellMetadata": {
      "byteLimit": 2048000,
      "rowLimit": 10000
     },
     "inputWidgets": {},
     "nuid": "585fd396-8022-4313-84af-39a84c7741dd",
     "showTitle": false,
     "title": ""
    }
   },
   "outputs": [],
   "source": [
    "tract_target.write.mode(\"overwrite\").option(\"overwriteSchema\", \"true\").saveAsTable(\"tract_target\")\n",
    "county_target = spark.sql(\"\"\"\n",
    "    SELECT * \n",
    "    FROM tract_target AS target\n",
    "    LEFT JOIN safegraph.tract_table AS tract\n",
    "        ON target.tract = tract.tractcode\n",
    "\"\"\")"
   ]
  },
  {
   "cell_type": "code",
   "execution_count": 0,
   "metadata": {
    "application/vnd.databricks.v1+cell": {
     "cellMetadata": {
      "byteLimit": 2048000,
      "rowLimit": 10000
     },
     "inputWidgets": {},
     "nuid": "8a78cf57-6c1d-4761-9576-07e940a707c7",
     "showTitle": false,
     "title": ""
    }
   },
   "outputs": [],
   "source": [
    "pd_county_target = county_target\\\n",
    "    .groupBy('lat', 'long', 'county_name', 'county')\\\n",
    "    .sum('target')\\\n",
    "    .withColumnRenamed(\"sum(target)\", \"target\")\\\n",
    "    .toPandas()"
   ]
  },
  {
   "cell_type": "code",
   "execution_count": 0,
   "metadata": {
    "application/vnd.databricks.v1+cell": {
     "cellMetadata": {
      "byteLimit": 2048000,
      "rowLimit": 10000
     },
     "inputWidgets": {},
     "nuid": "cb788232-bfd7-4b29-b55e-53acebd9d101",
     "showTitle": false,
     "title": ""
    }
   },
   "outputs": [
    {
     "output_type": "display_data",
     "data": {
      "text/html": [
       "<html>\n",
       "<head><meta charset=\"utf-8\" /></head>\n",
       "<body>\n",
       "    <div>            <script src=\"https://cdnjs.cloudflare.com/ajax/libs/mathjax/2.7.5/MathJax.js?config=TeX-AMS-MML_SVG\"></script><script type=\"text/javascript\">if (window.MathJax) {MathJax.Hub.Config({SVG: {font: \"STIX-Web\"}});}</script>                <script type=\"text/javascript\">window.PlotlyConfig = {MathJaxConfig: 'local'};</script>\n",
       "        <script src=\"https://cdn.plot.ly/plotly-2.9.0.min.js\"></script>                <div id=\"d3a7ca89-d9b0-43bf-903a-8ff1e60ff986\" class=\"plotly-graph-div\" style=\"height:800px; width:1200px;\"></div>            <script type=\"text/javascript\">                                    window.PLOTLYENV=window.PLOTLYENV || {};                                    if (document.getElementById(\"d3a7ca89-d9b0-43bf-903a-8ff1e60ff986\")) {                    Plotly.newPlot(                        \"d3a7ca89-d9b0-43bf-903a-8ff1e60ff986\",                        [{\"customdata\":[[\"001\"],[\"001\"],[\"001\"],[\"019\"],[\"029\"],[\"017\"],[\"075\"],[\"011\"],[\"055\"],[\"001\"],[\"041\"],[\"005\"],[\"001\"],[\"083\"],[\"055\"],[\"019\"],[\"005\"],[\"011\"],[\"021\"],[\"047\"],[\"005\"],[\"055\"],[\"055\"],[\"001\"],[\"001\"],[\"055\"],[\"019\"],[\"055\"],[\"027\"],[\"027\"],[\"001\"],[\"001\"],[\"001\"],[\"027\"],[\"001\"],[\"057\"],[\"007\"],[\"019\"],[\"007\"],[\"057\"],[\"049\"],[\"001\"],[\"055\"],[\"001\"],[\"027\"],[\"027\"],[\"001\"],[\"055\"],[\"027\"],[\"013\"],[\"035\"],[\"027\"],[\"019\"],[\"027\"],[\"083\"],[\"045\"],[\"051\"],[\"027\"],[\"055\"],[\"073\"],[\"055\"],[\"051\"],[\"005\"],[\"069\"],[\"001\"],[null],[\"005\"],[\"001\"],[\"019\"],[\"059\"],[\"005\"],[\"065\"],[\"013\"],[\"065\"],[\"001\"],[\"019\"],[\"005\"],[\"001\"],[\"017\"],[\"019\"],[\"003\"],[\"067\"],[\"001\"],[\"069\"],[\"005\"],[\"055\"],[\"087\"],[\"027\"],[\"027\"],[\"069\"],[\"019\"],[\"043\"],[\"061\"],[\"001\"],[\"065\"],[\"057\"],[\"087\"],[\"001\"],[\"027\"],[\"031\"],[\"005\"],[\"055\"],[\"063\"],[\"069\"],[\"059\"],[\"045\"],[\"053\"],[\"001\"],[\"069\"],[\"001\"],[\"027\"],[\"001\"],[\"027\"],[\"059\"],[\"027\"],[\"057\"],[\"031\"],[\"005\"],[\"031\"],[\"085\"],[\"011\"],[\"057\"],[\"083\"],[\"005\"],[\"085\"],[\"005\"],[\"019\"],[\"027\"],[\"027\"],[\"055\"],[\"001\"],[\"001\"],[\"027\"],[\"011\"],[\"001\"],[\"003\"],[\"075\"],[\"055\"],[\"001\"],[\"055\"],[\"085\"],[\"061\"],[\"071\"],[\"065\"],[\"017\"],[\"083\"],[\"027\"],[\"073\"],[\"055\"],[\"001\"],[\"055\"],[\"013\"],[\"031\"],[\"001\"],[\"019\"],[\"017\"],[\"001\"],[\"051\"],[\"005\"],[\"001\"],[\"001\"],[\"067\"],[\"049\"],[\"053\"],[\"027\"],[\"005\"],[\"001\"],[\"027\"],[\"039\"],[\"079\"],[\"017\"],[\"027\"],[\"017\"],[\"027\"],[\"083\"],[\"075\"],[\"019\"],[\"001\"],[\"069\"],[\"083\"],[\"079\"],[\"087\"],[\"039\"],[\"001\"],[\"031\"],[\"013\"],[\"001\"],[\"041\"],[\"069\"],[\"005\"],[\"069\"],[\"057\"],[\"005\"],[\"027\"],[\"055\"],[\"011\"],[\"021\"],[\"075\"],[\"027\"],[\"019\"],[\"019\"],[\"001\"],[\"029\"],[\"001\"],[\"083\"],[\"001\"],[\"077\"],[\"005\"],[\"019\"],[\"019\"],[\"047\"],[\"043\"],[\"069\"],[\"053\"],[\"051\"],[\"001\"],[\"083\"],[\"001\"],[\"055\"],[\"039\"],[\"027\"],[\"001\"],[\"083\"],[\"019\"],[\"005\"],[\"005\"],[\"001\"],[\"037\"],[\"053\"],[\"011\"],[\"067\"],[\"001\"],[\"083\"],[\"083\"],[\"023\"],[\"005\"],[\"017\"],[\"055\"],[\"031\"],[\"083\"],[\"011\"],[\"015\"],[\"001\"],[\"001\"],[\"055\"],[\"019\"],[\"001\"],[\"011\"],[\"067\"],[\"019\"],[\"001\"],[\"083\"],[\"027\"],[\"001\"],[\"045\"],[\"039\"],[\"039\"],[\"081\"],[\"067\"],[\"073\"],[\"005\"],[\"083\"],[\"027\"],[\"065\"],[\"005\"],[\"001\"],[\"017\"],[\"001\"],[\"001\"],[\"055\"],[\"001\"],[\"043\"],[\"019\"],[\"001\"],[\"001\"],[\"027\"],[\"055\"],[\"077\"],[\"025\"],[\"055\"],[\"065\"],[\"019\"],[\"053\"],[\"001\"],[\"001\"],[\"001\"]],\"geo\":\"geo\",\"hovertemplate\":\"<b>%{hovertext}</b><br><br>target=%{marker.color}<br>lat=%{lat}<br>long=%{lon}<br>county=%{customdata[0]}<extra></extra>\",\"hovertext\":[\"Ada\",\"Ada\",\"Ada\",\"Bonneville\",\"Caribou\",\"Bonner\",\"Payette\",\"Bingham\",\"Kootenai\",\"Ada\",\"Franklin\",\"Bannock\",\"Ada\",\"Twin Falls\",\"Kootenai\",\"Bingham\",\"Bannock\",\"Bingham\",\"Boundary\",null,\"Bannock\",\"Kootenai\",\"Kootenai\",\"Ada\",\"Ada\",\"Kootenai\",\"Bonneville\",\"Kootenai\",\"Canyon\",\"Canyon\",\"Ada\",\"Ada\",\"Ada\",\"Canyon\",\"Ada\",\"Latah\",\"Bear Lake\",\"Bingham\",\"Bear Lake\",\"Latah\",\"Idaho\",\"Ada\",\"Kootenai\",\"Ada\",\"Canyon\",\"Canyon\",\"Ada\",\"Kootenai\",\"Canyon\",\"Blaine\",\"Clearwater\",\"Canyon\",\"Bonneville\",\"Canyon\",\"Twin Falls\",\"Gem\",\"Jefferson\",\"Owyhee\",\"Kootenai\",null,\"Kootenai\",\"Jefferson\",\"Bannock\",\"Asotin\",\"Ada\",null,\"Bannock\",\"Ada\",\"Bingham\",\"Lemhi\",\"Bannock\",\"Madison\",\"Blaine\",\"Madison\",\"Ada\",\"Bingham\",\"Bannock\",\"Ada\",\"Bonner\",\"Bonneville\",null,\"Minidoka\",\"Ada\",\"Nez Perce\",\"Bannock\",\"Kootenai\",\"Washington\",\"Canyon\",\"Canyon\",\"Nez Perce\",\"Bingham\",\"Fremont\",\"Clearwater\",\"Ada\",\"Madison\",\"Latah\",\"Washington\",\"Ada\",\"Malheur\",\"Cassia\",\"Franklin\",\"Kootenai\",\"Gooding\",\"Nez Perce\",\"Lemhi\",\"Gem\",\"Jerome\",\"Ada\",\"Asotin\",\"Ada\",\"Canyon\",\"Ada\",\"Canyon\",\"Lemhi\",\"Canyon\",\"Latah\",\"Cassia\",\"Bannock\",\"Cassia\",null,\"Bingham\",\"Latah\",null,\"Bannock\",null,\"Bannock\",\"Bingham\",\"Canyon\",\"Canyon\",\"Kootenai\",\"Ada\",\"Ada\",\"Canyon\",\"Bingham\",\"Ada\",null,\"Payette\",\"Kootenai\",\"Ada\",\"Kootenai\",null,\"Clearwater\",\"Franklin\",\"Madison\",\"Bonner\",\"Twin Falls\",\"Canyon\",\"Owyhee\",\"Kootenai\",\"Ada\",\"Kootenai\",\"Blaine\",\"Cassia\",\"Ada\",\"Bingham\",\"Bonner\",\"Ada\",\"Jefferson\",\"Bannock\",\"Ada\",\"Ada\",\"Minidoka\",null,\"Twin Falls\",\"Canyon\",\"Bannock\",\"Ada\",\"Canyon\",\"Elmore\",\"Bonner\",\"Bonner\",\"Canyon\",\"Bonner\",\"Owyhee\",\"Twin Falls\",\"Payette\",\"Bingham\",\"Ada\",\"Nez Perce\",\"Twin Falls\",\"Kootenai\",\"Washington\",\"Elmore\",\"Ada\",\"Cassia\",\"Blaine\",\"Ada\",\"Franklin\",\"Clearwater\",\"Bannock\",\"Nez Perce\",\"Latah\",\"Bannock\",\"Ada\",\"Kootenai\",\"Bingham\",\"Boundary\",\"Payette\",\"Canyon\",\"Bingham\",\"Bingham\",\"Ada\",\"Caribou\",\"Ada\",\"Twin Falls\",\"Ada\",\"Bannock\",\"Bannock\",\"Bonneville\",\"Jefferson\",\"Gooding\",\"Fremont\",\"Nez Perce\",\"Jerome\",\"Jefferson\",\"Ada\",\"Twin Falls\",\"Ada\",\"Kootenai\",\"Elmore\",\"Canyon\",\"Ada\",\"Twin Falls\",\"Bingham\",\"Bannock\",\"Bannock\",\"Ada\",\"Blaine\",\"Jerome\",\"Bingham\",\"Minidoka\",\"Ada\",\"Twin Falls\",\"Twin Falls\",\"Blaine\",\"Bannock\",\"Bonner\",\"Kootenai\",\"Minidoka\",\"Twin Falls\",\"Bingham\",\"Ada\",\"Ada\",\"Ada\",\"Kootenai\",\"Bonneville\",\"Ada\",\"Bingham\",\"Minidoka\",\"Bonneville\",\"Ada\",\"Twin Falls\",\"Canyon\",\"Ada\",\"Gem\",\"Elmore\",\"Elmore\",\"Teton\",\"Minidoka\",\"Owyhee\",\"Bannock\",\"Twin Falls\",\"Canyon\",\"Madison\",\"Bannock\",\"Ada\",\"Bonner\",\"Ada\",\"Ada\",\"Kootenai\",\"Ada\",\"Fremont\",\"Bonneville\",\"Ada\",\"Ada\",\"Canyon\",\"Kootenai\",\"Power\",\"Blaine\",\"Kootenai\",\"Madison\",\"Bingham\",\"Jerome\",\"Ada\",\"Ada\",\"Ada\"],\"lat\":[43.6468541,43.6067108,43.6314866,43.4474945,42.6943684,48.0828387,44.0532095,43.1308512,47.6514498,43.6550333,42.2224181,42.8634894,43.6684262,42.5839278,47.7120124,43.5350178,42.9550957,43.1431423,48.7359552,42.7646359,42.8710517,47.7565195,47.5832297,43.5914649,43.6916155,47.774819,43.4893117,47.8900432,43.5538843,43.6439145,43.5787667,43.5470478,43.6523677,43.5851131,43.3304526,46.6170822,42.309561,43.4777833,42.2556968,46.771348,45.8257035,43.7604582,47.7098477,43.5831863,43.6581278,43.6405726,43.6159696,47.7287605,43.5726361,43.6283763,46.689697,43.7517569,43.5369101,43.5337916,42.6003948,43.8774222,43.7063095,43.4627885,47.7003106,42.5728508,47.6724058,43.6734583,42.9028393,46.4670312,43.6066784,null,42.8348611,43.6751115,43.5311351,45.3177245,42.8426273,43.7747647,43.2607103,43.8070765,43.6518985,43.5117872,42.8607225,43.6085965,48.418726,43.5098121,45.0199817,42.6141552,43.6085414,46.3956554,42.8728779,47.6120397,44.2364303,43.651708,43.5652174,46.376303,43.4899541,44.2826635,46.2501,43.6268198,43.8314246,46.7834673,44.4147367,43.6356429,43.777361,42.5098751,42.5120132,47.7535511,42.9861805,46.3808435,45.1374861,44.193059,42.7387372,43.6131684,46.4080176,43.5358924,43.5838459,43.6458911,43.6712332,44.6687854,43.5841641,46.6787284,42.290077,42.9015621,42.5448665,44.8195397,43.3253291,46.8078675,42.575988,42.8535038,45.1027556,42.8930969,43.4911821,43.6630795,43.5543823,47.6771129,43.6589164,43.6200302,43.7522592,43.1910953,43.6002704,44.8345514,44.0734569,47.7252753,43.7132862,47.7116972,44.7163104,46.2709304,42.1838954,43.8652588,48.0896489,42.2940204,43.61524,43.5247849,47.6803361,43.6180124,47.732425,43.7361273,42.2248436,43.606846,43.5067215,48.2639123,43.6331606,43.6652693,42.8841942,43.3343356,43.5978121,42.5924488,45.3283441,42.6774188,43.5542015,42.8874945,43.5954202,43.5734632,43.0909062,47.3343792,48.2139616,43.5542092,48.0850421,43.6650836,42.4686828,43.9043427,43.5072027,43.606967,46.366328,42.5437223,47.4893453,44.5002102,43.0495789,43.595798,42.4805097,43.7300741,43.5536223,42.0609834,46.5837391,42.924898,46.0956517,46.7054241,42.9798188,43.4811671,47.8289064,43.2497515,48.8890307,43.907366,43.6586442,43.4743546,43.5159858,43.5857798,42.8046858,43.5698099,42.5747153,43.5780838,42.6103246,42.8468295,43.4757244,43.6049294,43.0325366,44.0195164,46.4002308,42.7199836,43.8267161,43.6451494,42.510256,43.5857812,47.7056992,43.1123408,43.704473,43.6408364,42.5703168,43.4490002,42.7274864,42.9057037,43.5763651,44.273351,42.7935032,43.212685,42.6697036,43.631248,42.5982883,42.5775151,43.685101,42.9271676,48.1971202,47.7960911,42.5409242,42.5485108,43.1990003,43.9872749,43.635845,43.5689755,47.9292772,43.3668297,43.662471,43.3771338,42.9389027,43.4750927,43.5670193,42.5257921,43.5794414,43.6306586,43.8513155,43.4279518,43.3771895,43.7609939,42.5605434,43.5924261,42.8810541,42.5568512,43.6152472,43.7643066,42.81367,43.6386609,48.3497985,43.5924217,43.6065277,47.69349,43.5784766,43.9471477,43.4857894,43.6798472,43.6982932,43.5794348,47.6661568,42.8426024,43.5027333,47.7728638,43.8208035,43.4909213,42.6713509,43.6701777,43.5536497,43.5086156],\"legendgroup\":\"\",\"lon\":[-116.3270663,-116.3673615,-116.1710011,-111.9666332,-111.8511424,-116.9568101,-116.9219547,-112.5422089,-117.0032495,-116.3691111,-111.8467781,-112.4728415,-116.3184456,-114.422892,-116.8833897,-112.0161992,-112.4890931,-112.2179313,-116.5508973,-114.7569876,-112.4622797,-116.7903156,-116.9631466,-116.1784472,-116.3293158,-116.633498,-111.99424,-116.661785,-116.6173382,-116.7467255,-116.2352971,-116.2202527,-116.4654874,-116.55655,-116.0656972,-116.6929686,-111.4817532,-112.0114821,-111.2020074,-117.0104176,-116.1844512,-116.397123,-116.8333168,-116.222969,-116.684917,-116.6793138,-116.2075223,-116.9210756,-116.4919901,-113.9972708,-115.6273693,-116.6114333,-111.9397541,-116.5343892,-114.5197151,-116.4623912,-112.018473,-116.6679919,-116.7999331,-116.1896903,-116.7844401,-111.9488622,-112.4463328,-116.9512452,-116.180455,null,-112.2876231,-116.2170641,-112.3102143,-113.7554099,-112.38286,-111.5528132,-113.738161,-111.8023991,-116.2435264,-112.0197444,-112.4266414,-116.3091775,-116.3202402,-111.9642445,-116.3181613,-113.6997879,-116.2278188,-117.0170977,-112.442767,-116.5566865,-116.7938106,-116.5693801,-116.5641212,-116.9665402,-112.0805084,-111.5056491,-116.11237,-116.296731,-111.7992716,-116.9185102,-117.0715447,-116.2337781,-116.9599282,-113.8442049,-112.1218261,-116.8386435,-114.1538989,-116.9413724,-114.4211687,-116.3452329,-114.5008016,-116.327211,-117.0272919,-116.3083842,-116.5838859,-116.2926808,-116.6667062,-113.5546429,-116.5398318,-116.9812112,-113.3791677,-112.4817736,-113.7682293,-115.8874445,-112.8148524,-116.5562736,-114.6211178,-112.4332669,-115.8389726,-112.4591162,-112.0299835,-116.6745723,-116.5827585,-116.6949184,-116.2692899,-116.2623701,-116.7837896,-111.872456,-116.135071,-116.5085487,-116.6882446,-116.964363,-116.3363018,-116.7757877,-115.4687788,-116.4000332,-112.5204486,-111.8477004,-116.2533605,-114.7017551,-116.6593681,-116.8481343,-116.768597,-116.2856014,-116.7724417,-114.5819261,-114.0154675,-116.4015697,-112.0449867,-116.5379611,-116.2662381,-111.8186466,-112.44646,-116.2964654,-116.2442242,-113.6535632,-116.1296357,-114.141908,-116.5628049,-112.4191059,-116.2003618,-116.5654,-115.5673089,-115.9001454,-116.4748776,-116.5428436,-116.6727716,-116.901818,-114.1835036,-116.9026323,-111.9906446,-116.4480551,-116.9761878,-114.4882139,-115.8727601,-116.6963167,-115.8664015,-116.2160586,-113.7526916,-114.2019952,-116.1392259,-111.7147361,-116.5850602,-112.5014119,-116.8989005,-116.9131343,-112.3562628,-116.5554763,-116.9196934,-112.3606392,-116.2168534,-116.7936121,-116.7017303,-112.0415685,-112.075757,-116.3240049,-111.3876998,-116.1617483,-114.8122296,-116.2056868,-112.7124468,-112.4459889,-111.9663568,-111.933795,-114.8256001,-111.3205108,-116.9921895,-114.5221405,-112.3662009,-116.3036897,-114.489406,-116.2955596,-116.9179618,-115.8388434,-116.610601,-116.2230377,-114.4407275,-112.0793167,-112.396471,-112.4203762,-116.1559907,-114.2522675,-114.5121217,-112.2491289,-113.8431454,-116.3724496,-114.7752696,-114.4700202,-113.1776308,-112.4583146,-116.887956,-116.9956047,-113.6227673,-114.4408119,-112.3625574,-115.7151105,-116.3984449,-116.4078385,-116.907736,-111.4375628,-116.1323165,-112.1199321,-113.5854159,-111.9952904,-116.3031147,-114.341643,-116.5638761,-116.2039662,-116.6098142,-115.3153279,-115.7714922,-111.2117653,-113.804794,-116.9602208,-112.4345072,-114.4693463,-116.6078682,-111.8294336,-112.4238133,-116.2566991,-116.6406805,-116.2678342,-116.25758,-116.7755494,-116.1849256,-111.702512,-111.9419441,-116.2973691,-116.3838048,-116.601649,-116.7574329,-113.0342691,-114.7720663,-116.7765368,-111.7866566,-112.0149231,-114.4385973,-116.2665359,-116.3132875,-116.3984578],\"marker\":{\"color\":[464.5,365.5,49.0,1025.5,806.0,21.0,131.0,698.0,70.0,1265.0,570.5,309.0,163.5,617.0,26.5,685.0,345.0,135.0,56.0,227.0,159.5,57.0,124.0,109.5,363.5,132.5,859.5,154.0,781.5,210.5,188.0,257.0,830.5,75.5,358.5,64.0,154.0,487.5,263.0,46.5,51.0,895.0,57.0,242.0,218.0,212.5,134.5,112.5,89.5,105.5,19.0,600.5,1147.5,958.0,612.0,348.5,619.0,191.0,71.0,200.0,31.5,1194.0,284.5,27.0,135.5,38698.5,679.5,142.0,303.5,73.0,347.0,961.0,211.0,3127.0,145.5,457.0,420.5,223.0,132.0,1391.5,86.0,325.5,144.0,11.0,113.0,24.5,117.0,908.0,195.0,16.0,672.5,360.5,9.0,116.0,820.0,155.5,135.5,169.0,96.0,647.5,287.5,885.5,231.0,19.0,60.5,282.5,248.0,266.5,16.0,713.0,298.0,327.5,92.5,36.0,295.5,85.0,443.0,311.0,281.5,98.5,401.5,10.5,609.5,348.0,90.0,253.5,304.5,105.0,148.5,62.0,96.0,349.0,90.5,694.0,160.5,20.0,188.0,66.0,314.0,34.0,29.0,26.0,583.5,1427.5,29.5,178.0,433.0,59.0,69.0,237.5,344.0,25.0,598.5,374.0,428.5,25.0,111.0,1526.5,336.5,205.5,173.0,360.5,57.0,125.0,106.0,326.5,169.5,105.0,45.5,19.5,22.0,186.0,34.0,72.0,198.0,554.0,461.0,391.0,21.0,360.5,8.0,76.5,22.0,117.5,625.5,44.0,299.5,729.5,20.0,1080.5,16.0,209.0,131.0,312.0,175.0,882.0,31.5,181.5,155.5,621.0,1026.5,283.5,190.0,206.0,230.5,128.0,376.5,224.5,722.0,1870.5,203.0,510.0,19.0,109.0,265.5,256.0,274.5,469.0,44.5,143.0,250.5,137.5,625.5,1031.5,120.0,1107.0,59.0,69.0,172.0,763.0,210.0,468.0,135.0,222.0,366.5,775.0,21.0,39.0,804.0,415.5,863.0,240.5,560.5,1970.0,51.0,1797.0,240.5,1516.0,471.5,245.0,542.0,677.0,41.0,63.0,300.5,33.0,159.5,367.0,427.5,129.5,424.5,185.0,360.0,1248.5,577.0,151.5,47.0,147.0,226.0,110.5,243.0,1589.5,1676.5,511.5,532.0,151.0,26.5,724.0,68.0,74.0,1392.0,528.0,431.0,182.5,324.0,1364.0],\"coloraxis\":\"coloraxis\",\"size\":[464.5,365.5,49.0,1025.5,806.0,21.0,131.0,698.0,70.0,1265.0,570.5,309.0,163.5,617.0,26.5,685.0,345.0,135.0,56.0,227.0,159.5,57.0,124.0,109.5,363.5,132.5,859.5,154.0,781.5,210.5,188.0,257.0,830.5,75.5,358.5,64.0,154.0,487.5,263.0,46.5,51.0,895.0,57.0,242.0,218.0,212.5,134.5,112.5,89.5,105.5,19.0,600.5,1147.5,958.0,612.0,348.5,619.0,191.0,71.0,200.0,31.5,1194.0,284.5,27.0,135.5,38698.5,679.5,142.0,303.5,73.0,347.0,961.0,211.0,3127.0,145.5,457.0,420.5,223.0,132.0,1391.5,86.0,325.5,144.0,11.0,113.0,24.5,117.0,908.0,195.0,16.0,672.5,360.5,9.0,116.0,820.0,155.5,135.5,169.0,96.0,647.5,287.5,885.5,231.0,19.0,60.5,282.5,248.0,266.5,16.0,713.0,298.0,327.5,92.5,36.0,295.5,85.0,443.0,311.0,281.5,98.5,401.5,10.5,609.5,348.0,90.0,253.5,304.5,105.0,148.5,62.0,96.0,349.0,90.5,694.0,160.5,20.0,188.0,66.0,314.0,34.0,29.0,26.0,583.5,1427.5,29.5,178.0,433.0,59.0,69.0,237.5,344.0,25.0,598.5,374.0,428.5,25.0,111.0,1526.5,336.5,205.5,173.0,360.5,57.0,125.0,106.0,326.5,169.5,105.0,45.5,19.5,22.0,186.0,34.0,72.0,198.0,554.0,461.0,391.0,21.0,360.5,8.0,76.5,22.0,117.5,625.5,44.0,299.5,729.5,20.0,1080.5,16.0,209.0,131.0,312.0,175.0,882.0,31.5,181.5,155.5,621.0,1026.5,283.5,190.0,206.0,230.5,128.0,376.5,224.5,722.0,1870.5,203.0,510.0,19.0,109.0,265.5,256.0,274.5,469.0,44.5,143.0,250.5,137.5,625.5,1031.5,120.0,1107.0,59.0,69.0,172.0,763.0,210.0,468.0,135.0,222.0,366.5,775.0,21.0,39.0,804.0,415.5,863.0,240.5,560.5,1970.0,51.0,1797.0,240.5,1516.0,471.5,245.0,542.0,677.0,41.0,63.0,300.5,33.0,159.5,367.0,427.5,129.5,424.5,185.0,360.0,1248.5,577.0,151.5,47.0,147.0,226.0,110.5,243.0,1589.5,1676.5,511.5,532.0,151.0,26.5,724.0,68.0,74.0,1392.0,528.0,431.0,182.5,324.0,1364.0],\"sizemode\":\"area\",\"sizeref\":6.879733333333333,\"symbol\":\"circle\"},\"mode\":\"markers\",\"name\":\"\",\"showlegend\":false,\"type\":\"scattergeo\"}],                        {\"template\":{\"data\":{\"bar\":[{\"error_x\":{\"color\":\"#2a3f5f\"},\"error_y\":{\"color\":\"#2a3f5f\"},\"marker\":{\"line\":{\"color\":\"#E5ECF6\",\"width\":0.5},\"pattern\":{\"fillmode\":\"overlay\",\"size\":10,\"solidity\":0.2}},\"type\":\"bar\"}],\"barpolar\":[{\"marker\":{\"line\":{\"color\":\"#E5ECF6\",\"width\":0.5},\"pattern\":{\"fillmode\":\"overlay\",\"size\":10,\"solidity\":0.2}},\"type\":\"barpolar\"}],\"carpet\":[{\"aaxis\":{\"endlinecolor\":\"#2a3f5f\",\"gridcolor\":\"white\",\"linecolor\":\"white\",\"minorgridcolor\":\"white\",\"startlinecolor\":\"#2a3f5f\"},\"baxis\":{\"endlinecolor\":\"#2a3f5f\",\"gridcolor\":\"white\",\"linecolor\":\"white\",\"minorgridcolor\":\"white\",\"startlinecolor\":\"#2a3f5f\"},\"type\":\"carpet\"}],\"choropleth\":[{\"colorbar\":{\"outlinewidth\":0,\"ticks\":\"\"},\"type\":\"choropleth\"}],\"contour\":[{\"colorbar\":{\"outlinewidth\":0,\"ticks\":\"\"},\"colorscale\":[[0.0,\"#0d0887\"],[0.1111111111111111,\"#46039f\"],[0.2222222222222222,\"#7201a8\"],[0.3333333333333333,\"#9c179e\"],[0.4444444444444444,\"#bd3786\"],[0.5555555555555556,\"#d8576b\"],[0.6666666666666666,\"#ed7953\"],[0.7777777777777778,\"#fb9f3a\"],[0.8888888888888888,\"#fdca26\"],[1.0,\"#f0f921\"]],\"type\":\"contour\"}],\"contourcarpet\":[{\"colorbar\":{\"outlinewidth\":0,\"ticks\":\"\"},\"type\":\"contourcarpet\"}],\"heatmap\":[{\"colorbar\":{\"outlinewidth\":0,\"ticks\":\"\"},\"colorscale\":[[0.0,\"#0d0887\"],[0.1111111111111111,\"#46039f\"],[0.2222222222222222,\"#7201a8\"],[0.3333333333333333,\"#9c179e\"],[0.4444444444444444,\"#bd3786\"],[0.5555555555555556,\"#d8576b\"],[0.6666666666666666,\"#ed7953\"],[0.7777777777777778,\"#fb9f3a\"],[0.8888888888888888,\"#fdca26\"],[1.0,\"#f0f921\"]],\"type\":\"heatmap\"}],\"heatmapgl\":[{\"colorbar\":{\"outlinewidth\":0,\"ticks\":\"\"},\"colorscale\":[[0.0,\"#0d0887\"],[0.1111111111111111,\"#46039f\"],[0.2222222222222222,\"#7201a8\"],[0.3333333333333333,\"#9c179e\"],[0.4444444444444444,\"#bd3786\"],[0.5555555555555556,\"#d8576b\"],[0.6666666666666666,\"#ed7953\"],[0.7777777777777778,\"#fb9f3a\"],[0.8888888888888888,\"#fdca26\"],[1.0,\"#f0f921\"]],\"type\":\"heatmapgl\"}],\"histogram\":[{\"marker\":{\"pattern\":{\"fillmode\":\"overlay\",\"size\":10,\"solidity\":0.2}},\"type\":\"histogram\"}],\"histogram2d\":[{\"colorbar\":{\"outlinewidth\":0,\"ticks\":\"\"},\"colorscale\":[[0.0,\"#0d0887\"],[0.1111111111111111,\"#46039f\"],[0.2222222222222222,\"#7201a8\"],[0.3333333333333333,\"#9c179e\"],[0.4444444444444444,\"#bd3786\"],[0.5555555555555556,\"#d8576b\"],[0.6666666666666666,\"#ed7953\"],[0.7777777777777778,\"#fb9f3a\"],[0.8888888888888888,\"#fdca26\"],[1.0,\"#f0f921\"]],\"type\":\"histogram2d\"}],\"histogram2dcontour\":[{\"colorbar\":{\"outlinewidth\":0,\"ticks\":\"\"},\"colorscale\":[[0.0,\"#0d0887\"],[0.1111111111111111,\"#46039f\"],[0.2222222222222222,\"#7201a8\"],[0.3333333333333333,\"#9c179e\"],[0.4444444444444444,\"#bd3786\"],[0.5555555555555556,\"#d8576b\"],[0.6666666666666666,\"#ed7953\"],[0.7777777777777778,\"#fb9f3a\"],[0.8888888888888888,\"#fdca26\"],[1.0,\"#f0f921\"]],\"type\":\"histogram2dcontour\"}],\"mesh3d\":[{\"colorbar\":{\"outlinewidth\":0,\"ticks\":\"\"},\"type\":\"mesh3d\"}],\"parcoords\":[{\"line\":{\"colorbar\":{\"outlinewidth\":0,\"ticks\":\"\"}},\"type\":\"parcoords\"}],\"pie\":[{\"automargin\":true,\"type\":\"pie\"}],\"scatter\":[{\"marker\":{\"colorbar\":{\"outlinewidth\":0,\"ticks\":\"\"}},\"type\":\"scatter\"}],\"scatter3d\":[{\"line\":{\"colorbar\":{\"outlinewidth\":0,\"ticks\":\"\"}},\"marker\":{\"colorbar\":{\"outlinewidth\":0,\"ticks\":\"\"}},\"type\":\"scatter3d\"}],\"scattercarpet\":[{\"marker\":{\"colorbar\":{\"outlinewidth\":0,\"ticks\":\"\"}},\"type\":\"scattercarpet\"}],\"scattergeo\":[{\"marker\":{\"colorbar\":{\"outlinewidth\":0,\"ticks\":\"\"}},\"type\":\"scattergeo\"}],\"scattergl\":[{\"marker\":{\"colorbar\":{\"outlinewidth\":0,\"ticks\":\"\"}},\"type\":\"scattergl\"}],\"scattermapbox\":[{\"marker\":{\"colorbar\":{\"outlinewidth\":0,\"ticks\":\"\"}},\"type\":\"scattermapbox\"}],\"scatterpolar\":[{\"marker\":{\"colorbar\":{\"outlinewidth\":0,\"ticks\":\"\"}},\"type\":\"scatterpolar\"}],\"scatterpolargl\":[{\"marker\":{\"colorbar\":{\"outlinewidth\":0,\"ticks\":\"\"}},\"type\":\"scatterpolargl\"}],\"scatterternary\":[{\"marker\":{\"colorbar\":{\"outlinewidth\":0,\"ticks\":\"\"}},\"type\":\"scatterternary\"}],\"surface\":[{\"colorbar\":{\"outlinewidth\":0,\"ticks\":\"\"},\"colorscale\":[[0.0,\"#0d0887\"],[0.1111111111111111,\"#46039f\"],[0.2222222222222222,\"#7201a8\"],[0.3333333333333333,\"#9c179e\"],[0.4444444444444444,\"#bd3786\"],[0.5555555555555556,\"#d8576b\"],[0.6666666666666666,\"#ed7953\"],[0.7777777777777778,\"#fb9f3a\"],[0.8888888888888888,\"#fdca26\"],[1.0,\"#f0f921\"]],\"type\":\"surface\"}],\"table\":[{\"cells\":{\"fill\":{\"color\":\"#EBF0F8\"},\"line\":{\"color\":\"white\"}},\"header\":{\"fill\":{\"color\":\"#C8D4E3\"},\"line\":{\"color\":\"white\"}},\"type\":\"table\"}]},\"layout\":{\"annotationdefaults\":{\"arrowcolor\":\"#2a3f5f\",\"arrowhead\":0,\"arrowwidth\":1},\"autotypenumbers\":\"strict\",\"coloraxis\":{\"colorbar\":{\"outlinewidth\":0,\"ticks\":\"\"}},\"colorscale\":{\"diverging\":[[0,\"#8e0152\"],[0.1,\"#c51b7d\"],[0.2,\"#de77ae\"],[0.3,\"#f1b6da\"],[0.4,\"#fde0ef\"],[0.5,\"#f7f7f7\"],[0.6,\"#e6f5d0\"],[0.7,\"#b8e186\"],[0.8,\"#7fbc41\"],[0.9,\"#4d9221\"],[1,\"#276419\"]],\"sequential\":[[0.0,\"#0d0887\"],[0.1111111111111111,\"#46039f\"],[0.2222222222222222,\"#7201a8\"],[0.3333333333333333,\"#9c179e\"],[0.4444444444444444,\"#bd3786\"],[0.5555555555555556,\"#d8576b\"],[0.6666666666666666,\"#ed7953\"],[0.7777777777777778,\"#fb9f3a\"],[0.8888888888888888,\"#fdca26\"],[1.0,\"#f0f921\"]],\"sequentialminus\":[[0.0,\"#0d0887\"],[0.1111111111111111,\"#46039f\"],[0.2222222222222222,\"#7201a8\"],[0.3333333333333333,\"#9c179e\"],[0.4444444444444444,\"#bd3786\"],[0.5555555555555556,\"#d8576b\"],[0.6666666666666666,\"#ed7953\"],[0.7777777777777778,\"#fb9f3a\"],[0.8888888888888888,\"#fdca26\"],[1.0,\"#f0f921\"]]},\"colorway\":[\"#636efa\",\"#EF553B\",\"#00cc96\",\"#ab63fa\",\"#FFA15A\",\"#19d3f3\",\"#FF6692\",\"#B6E880\",\"#FF97FF\",\"#FECB52\"],\"font\":{\"color\":\"#2a3f5f\"},\"geo\":{\"bgcolor\":\"white\",\"lakecolor\":\"white\",\"landcolor\":\"#E5ECF6\",\"showlakes\":true,\"showland\":true,\"subunitcolor\":\"white\"},\"hoverlabel\":{\"align\":\"left\"},\"hovermode\":\"closest\",\"mapbox\":{\"style\":\"light\"},\"paper_bgcolor\":\"white\",\"plot_bgcolor\":\"#E5ECF6\",\"polar\":{\"angularaxis\":{\"gridcolor\":\"white\",\"linecolor\":\"white\",\"ticks\":\"\"},\"bgcolor\":\"#E5ECF6\",\"radialaxis\":{\"gridcolor\":\"white\",\"linecolor\":\"white\",\"ticks\":\"\"}},\"scene\":{\"xaxis\":{\"backgroundcolor\":\"#E5ECF6\",\"gridcolor\":\"white\",\"gridwidth\":2,\"linecolor\":\"white\",\"showbackground\":true,\"ticks\":\"\",\"zerolinecolor\":\"white\"},\"yaxis\":{\"backgroundcolor\":\"#E5ECF6\",\"gridcolor\":\"white\",\"gridwidth\":2,\"linecolor\":\"white\",\"showbackground\":true,\"ticks\":\"\",\"zerolinecolor\":\"white\"},\"zaxis\":{\"backgroundcolor\":\"#E5ECF6\",\"gridcolor\":\"white\",\"gridwidth\":2,\"linecolor\":\"white\",\"showbackground\":true,\"ticks\":\"\",\"zerolinecolor\":\"white\"}},\"shapedefaults\":{\"line\":{\"color\":\"#2a3f5f\"}},\"ternary\":{\"aaxis\":{\"gridcolor\":\"white\",\"linecolor\":\"white\",\"ticks\":\"\"},\"baxis\":{\"gridcolor\":\"white\",\"linecolor\":\"white\",\"ticks\":\"\"},\"bgcolor\":\"#E5ECF6\",\"caxis\":{\"gridcolor\":\"white\",\"linecolor\":\"white\",\"ticks\":\"\"}},\"title\":{\"x\":0.05},\"xaxis\":{\"automargin\":true,\"gridcolor\":\"white\",\"linecolor\":\"white\",\"ticks\":\"\",\"title\":{\"standoff\":15},\"zerolinecolor\":\"white\",\"zerolinewidth\":2},\"yaxis\":{\"automargin\":true,\"gridcolor\":\"white\",\"linecolor\":\"white\",\"ticks\":\"\",\"title\":{\"standoff\":15},\"zerolinecolor\":\"white\",\"zerolinewidth\":2}}},\"geo\":{\"domain\":{\"x\":[0.0,1.0],\"y\":[0.0,1.0]},\"center\":{},\"scope\":\"usa\",\"fitbounds\":\"locations\"},\"coloraxis\":{\"colorbar\":{\"title\":{\"text\":\"target\"}},\"colorscale\":[[0.0,\"rgb(0,0,255)\"],[1.0,\"rgb(255,0,0)\"]],\"cmin\":0,\"cmax\":1000},\"legend\":{\"tracegroupgap\":0,\"itemsizing\":\"constant\"},\"title\":{\"text\":\"Active Members in Idaho by County\"},\"height\":800,\"width\":1200},                        {\"responsive\": true}                    )                };                            </script>        </div>\n",
       "</body>\n",
       "</html>"
      ]
     },
     "metadata": {
      "application/vnd.databricks.v1+output": {
       "addedWidgets": {},
       "arguments": {},
       "data": "<html>\n<head><meta charset=\"utf-8\" /></head>\n<body>\n    <div>            <script src=\"https://cdnjs.cloudflare.com/ajax/libs/mathjax/2.7.5/MathJax.js?config=TeX-AMS-MML_SVG\"></script><script type=\"text/javascript\">if (window.MathJax) {MathJax.Hub.Config({SVG: {font: \"STIX-Web\"}});}</script>                <script type=\"text/javascript\">window.PlotlyConfig = {MathJaxConfig: 'local'};</script>\n        <script src=\"https://cdn.plot.ly/plotly-2.9.0.min.js\"></script>                <div id=\"d3a7ca89-d9b0-43bf-903a-8ff1e60ff986\" class=\"plotly-graph-div\" style=\"height:800px; width:1200px;\"></div>            <script type=\"text/javascript\">                                    window.PLOTLYENV=window.PLOTLYENV || {};                                    if (document.getElementById(\"d3a7ca89-d9b0-43bf-903a-8ff1e60ff986\")) {                    Plotly.newPlot(                        \"d3a7ca89-d9b0-43bf-903a-8ff1e60ff986\",                        [{\"customdata\":[[\"001\"],[\"001\"],[\"001\"],[\"019\"],[\"029\"],[\"017\"],[\"075\"],[\"011\"],[\"055\"],[\"001\"],[\"041\"],[\"005\"],[\"001\"],[\"083\"],[\"055\"],[\"019\"],[\"005\"],[\"011\"],[\"021\"],[\"047\"],[\"005\"],[\"055\"],[\"055\"],[\"001\"],[\"001\"],[\"055\"],[\"019\"],[\"055\"],[\"027\"],[\"027\"],[\"001\"],[\"001\"],[\"001\"],[\"027\"],[\"001\"],[\"057\"],[\"007\"],[\"019\"],[\"007\"],[\"057\"],[\"049\"],[\"001\"],[\"055\"],[\"001\"],[\"027\"],[\"027\"],[\"001\"],[\"055\"],[\"027\"],[\"013\"],[\"035\"],[\"027\"],[\"019\"],[\"027\"],[\"083\"],[\"045\"],[\"051\"],[\"027\"],[\"055\"],[\"073\"],[\"055\"],[\"051\"],[\"005\"],[\"069\"],[\"001\"],[null],[\"005\"],[\"001\"],[\"019\"],[\"059\"],[\"005\"],[\"065\"],[\"013\"],[\"065\"],[\"001\"],[\"019\"],[\"005\"],[\"001\"],[\"017\"],[\"019\"],[\"003\"],[\"067\"],[\"001\"],[\"069\"],[\"005\"],[\"055\"],[\"087\"],[\"027\"],[\"027\"],[\"069\"],[\"019\"],[\"043\"],[\"061\"],[\"001\"],[\"065\"],[\"057\"],[\"087\"],[\"001\"],[\"027\"],[\"031\"],[\"005\"],[\"055\"],[\"063\"],[\"069\"],[\"059\"],[\"045\"],[\"053\"],[\"001\"],[\"069\"],[\"001\"],[\"027\"],[\"001\"],[\"027\"],[\"059\"],[\"027\"],[\"057\"],[\"031\"],[\"005\"],[\"031\"],[\"085\"],[\"011\"],[\"057\"],[\"083\"],[\"005\"],[\"085\"],[\"005\"],[\"019\"],[\"027\"],[\"027\"],[\"055\"],[\"001\"],[\"001\"],[\"027\"],[\"011\"],[\"001\"],[\"003\"],[\"075\"],[\"055\"],[\"001\"],[\"055\"],[\"085\"],[\"061\"],[\"071\"],[\"065\"],[\"017\"],[\"083\"],[\"027\"],[\"073\"],[\"055\"],[\"001\"],[\"055\"],[\"013\"],[\"031\"],[\"001\"],[\"019\"],[\"017\"],[\"001\"],[\"051\"],[\"005\"],[\"001\"],[\"001\"],[\"067\"],[\"049\"],[\"053\"],[\"027\"],[\"005\"],[\"001\"],[\"027\"],[\"039\"],[\"079\"],[\"017\"],[\"027\"],[\"017\"],[\"027\"],[\"083\"],[\"075\"],[\"019\"],[\"001\"],[\"069\"],[\"083\"],[\"079\"],[\"087\"],[\"039\"],[\"001\"],[\"031\"],[\"013\"],[\"001\"],[\"041\"],[\"069\"],[\"005\"],[\"069\"],[\"057\"],[\"005\"],[\"027\"],[\"055\"],[\"011\"],[\"021\"],[\"075\"],[\"027\"],[\"019\"],[\"019\"],[\"001\"],[\"029\"],[\"001\"],[\"083\"],[\"001\"],[\"077\"],[\"005\"],[\"019\"],[\"019\"],[\"047\"],[\"043\"],[\"069\"],[\"053\"],[\"051\"],[\"001\"],[\"083\"],[\"001\"],[\"055\"],[\"039\"],[\"027\"],[\"001\"],[\"083\"],[\"019\"],[\"005\"],[\"005\"],[\"001\"],[\"037\"],[\"053\"],[\"011\"],[\"067\"],[\"001\"],[\"083\"],[\"083\"],[\"023\"],[\"005\"],[\"017\"],[\"055\"],[\"031\"],[\"083\"],[\"011\"],[\"015\"],[\"001\"],[\"001\"],[\"055\"],[\"019\"],[\"001\"],[\"011\"],[\"067\"],[\"019\"],[\"001\"],[\"083\"],[\"027\"],[\"001\"],[\"045\"],[\"039\"],[\"039\"],[\"081\"],[\"067\"],[\"073\"],[\"005\"],[\"083\"],[\"027\"],[\"065\"],[\"005\"],[\"001\"],[\"017\"],[\"001\"],[\"001\"],[\"055\"],[\"001\"],[\"043\"],[\"019\"],[\"001\"],[\"001\"],[\"027\"],[\"055\"],[\"077\"],[\"025\"],[\"055\"],[\"065\"],[\"019\"],[\"053\"],[\"001\"],[\"001\"],[\"001\"]],\"geo\":\"geo\",\"hovertemplate\":\"<b>%{hovertext}</b><br><br>target=%{marker.color}<br>lat=%{lat}<br>long=%{lon}<br>county=%{customdata[0]}<extra></extra>\",\"hovertext\":[\"Ada\",\"Ada\",\"Ada\",\"Bonneville\",\"Caribou\",\"Bonner\",\"Payette\",\"Bingham\",\"Kootenai\",\"Ada\",\"Franklin\",\"Bannock\",\"Ada\",\"Twin Falls\",\"Kootenai\",\"Bingham\",\"Bannock\",\"Bingham\",\"Boundary\",null,\"Bannock\",\"Kootenai\",\"Kootenai\",\"Ada\",\"Ada\",\"Kootenai\",\"Bonneville\",\"Kootenai\",\"Canyon\",\"Canyon\",\"Ada\",\"Ada\",\"Ada\",\"Canyon\",\"Ada\",\"Latah\",\"Bear Lake\",\"Bingham\",\"Bear Lake\",\"Latah\",\"Idaho\",\"Ada\",\"Kootenai\",\"Ada\",\"Canyon\",\"Canyon\",\"Ada\",\"Kootenai\",\"Canyon\",\"Blaine\",\"Clearwater\",\"Canyon\",\"Bonneville\",\"Canyon\",\"Twin Falls\",\"Gem\",\"Jefferson\",\"Owyhee\",\"Kootenai\",null,\"Kootenai\",\"Jefferson\",\"Bannock\",\"Asotin\",\"Ada\",null,\"Bannock\",\"Ada\",\"Bingham\",\"Lemhi\",\"Bannock\",\"Madison\",\"Blaine\",\"Madison\",\"Ada\",\"Bingham\",\"Bannock\",\"Ada\",\"Bonner\",\"Bonneville\",null,\"Minidoka\",\"Ada\",\"Nez Perce\",\"Bannock\",\"Kootenai\",\"Washington\",\"Canyon\",\"Canyon\",\"Nez Perce\",\"Bingham\",\"Fremont\",\"Clearwater\",\"Ada\",\"Madison\",\"Latah\",\"Washington\",\"Ada\",\"Malheur\",\"Cassia\",\"Franklin\",\"Kootenai\",\"Gooding\",\"Nez Perce\",\"Lemhi\",\"Gem\",\"Jerome\",\"Ada\",\"Asotin\",\"Ada\",\"Canyon\",\"Ada\",\"Canyon\",\"Lemhi\",\"Canyon\",\"Latah\",\"Cassia\",\"Bannock\",\"Cassia\",null,\"Bingham\",\"Latah\",null,\"Bannock\",null,\"Bannock\",\"Bingham\",\"Canyon\",\"Canyon\",\"Kootenai\",\"Ada\",\"Ada\",\"Canyon\",\"Bingham\",\"Ada\",null,\"Payette\",\"Kootenai\",\"Ada\",\"Kootenai\",null,\"Clearwater\",\"Franklin\",\"Madison\",\"Bonner\",\"Twin Falls\",\"Canyon\",\"Owyhee\",\"Kootenai\",\"Ada\",\"Kootenai\",\"Blaine\",\"Cassia\",\"Ada\",\"Bingham\",\"Bonner\",\"Ada\",\"Jefferson\",\"Bannock\",\"Ada\",\"Ada\",\"Minidoka\",null,\"Twin Falls\",\"Canyon\",\"Bannock\",\"Ada\",\"Canyon\",\"Elmore\",\"Bonner\",\"Bonner\",\"Canyon\",\"Bonner\",\"Owyhee\",\"Twin Falls\",\"Payette\",\"Bingham\",\"Ada\",\"Nez Perce\",\"Twin Falls\",\"Kootenai\",\"Washington\",\"Elmore\",\"Ada\",\"Cassia\",\"Blaine\",\"Ada\",\"Franklin\",\"Clearwater\",\"Bannock\",\"Nez Perce\",\"Latah\",\"Bannock\",\"Ada\",\"Kootenai\",\"Bingham\",\"Boundary\",\"Payette\",\"Canyon\",\"Bingham\",\"Bingham\",\"Ada\",\"Caribou\",\"Ada\",\"Twin Falls\",\"Ada\",\"Bannock\",\"Bannock\",\"Bonneville\",\"Jefferson\",\"Gooding\",\"Fremont\",\"Nez Perce\",\"Jerome\",\"Jefferson\",\"Ada\",\"Twin Falls\",\"Ada\",\"Kootenai\",\"Elmore\",\"Canyon\",\"Ada\",\"Twin Falls\",\"Bingham\",\"Bannock\",\"Bannock\",\"Ada\",\"Blaine\",\"Jerome\",\"Bingham\",\"Minidoka\",\"Ada\",\"Twin Falls\",\"Twin Falls\",\"Blaine\",\"Bannock\",\"Bonner\",\"Kootenai\",\"Minidoka\",\"Twin Falls\",\"Bingham\",\"Ada\",\"Ada\",\"Ada\",\"Kootenai\",\"Bonneville\",\"Ada\",\"Bingham\",\"Minidoka\",\"Bonneville\",\"Ada\",\"Twin Falls\",\"Canyon\",\"Ada\",\"Gem\",\"Elmore\",\"Elmore\",\"Teton\",\"Minidoka\",\"Owyhee\",\"Bannock\",\"Twin Falls\",\"Canyon\",\"Madison\",\"Bannock\",\"Ada\",\"Bonner\",\"Ada\",\"Ada\",\"Kootenai\",\"Ada\",\"Fremont\",\"Bonneville\",\"Ada\",\"Ada\",\"Canyon\",\"Kootenai\",\"Power\",\"Blaine\",\"Kootenai\",\"Madison\",\"Bingham\",\"Jerome\",\"Ada\",\"Ada\",\"Ada\"],\"lat\":[43.6468541,43.6067108,43.6314866,43.4474945,42.6943684,48.0828387,44.0532095,43.1308512,47.6514498,43.6550333,42.2224181,42.8634894,43.6684262,42.5839278,47.7120124,43.5350178,42.9550957,43.1431423,48.7359552,42.7646359,42.8710517,47.7565195,47.5832297,43.5914649,43.6916155,47.774819,43.4893117,47.8900432,43.5538843,43.6439145,43.5787667,43.5470478,43.6523677,43.5851131,43.3304526,46.6170822,42.309561,43.4777833,42.2556968,46.771348,45.8257035,43.7604582,47.7098477,43.5831863,43.6581278,43.6405726,43.6159696,47.7287605,43.5726361,43.6283763,46.689697,43.7517569,43.5369101,43.5337916,42.6003948,43.8774222,43.7063095,43.4627885,47.7003106,42.5728508,47.6724058,43.6734583,42.9028393,46.4670312,43.6066784,null,42.8348611,43.6751115,43.5311351,45.3177245,42.8426273,43.7747647,43.2607103,43.8070765,43.6518985,43.5117872,42.8607225,43.6085965,48.418726,43.5098121,45.0199817,42.6141552,43.6085414,46.3956554,42.8728779,47.6120397,44.2364303,43.651708,43.5652174,46.376303,43.4899541,44.2826635,46.2501,43.6268198,43.8314246,46.7834673,44.4147367,43.6356429,43.777361,42.5098751,42.5120132,47.7535511,42.9861805,46.3808435,45.1374861,44.193059,42.7387372,43.6131684,46.4080176,43.5358924,43.5838459,43.6458911,43.6712332,44.6687854,43.5841641,46.6787284,42.290077,42.9015621,42.5448665,44.8195397,43.3253291,46.8078675,42.575988,42.8535038,45.1027556,42.8930969,43.4911821,43.6630795,43.5543823,47.6771129,43.6589164,43.6200302,43.7522592,43.1910953,43.6002704,44.8345514,44.0734569,47.7252753,43.7132862,47.7116972,44.7163104,46.2709304,42.1838954,43.8652588,48.0896489,42.2940204,43.61524,43.5247849,47.6803361,43.6180124,47.732425,43.7361273,42.2248436,43.606846,43.5067215,48.2639123,43.6331606,43.6652693,42.8841942,43.3343356,43.5978121,42.5924488,45.3283441,42.6774188,43.5542015,42.8874945,43.5954202,43.5734632,43.0909062,47.3343792,48.2139616,43.5542092,48.0850421,43.6650836,42.4686828,43.9043427,43.5072027,43.606967,46.366328,42.5437223,47.4893453,44.5002102,43.0495789,43.595798,42.4805097,43.7300741,43.5536223,42.0609834,46.5837391,42.924898,46.0956517,46.7054241,42.9798188,43.4811671,47.8289064,43.2497515,48.8890307,43.907366,43.6586442,43.4743546,43.5159858,43.5857798,42.8046858,43.5698099,42.5747153,43.5780838,42.6103246,42.8468295,43.4757244,43.6049294,43.0325366,44.0195164,46.4002308,42.7199836,43.8267161,43.6451494,42.510256,43.5857812,47.7056992,43.1123408,43.704473,43.6408364,42.5703168,43.4490002,42.7274864,42.9057037,43.5763651,44.273351,42.7935032,43.212685,42.6697036,43.631248,42.5982883,42.5775151,43.685101,42.9271676,48.1971202,47.7960911,42.5409242,42.5485108,43.1990003,43.9872749,43.635845,43.5689755,47.9292772,43.3668297,43.662471,43.3771338,42.9389027,43.4750927,43.5670193,42.5257921,43.5794414,43.6306586,43.8513155,43.4279518,43.3771895,43.7609939,42.5605434,43.5924261,42.8810541,42.5568512,43.6152472,43.7643066,42.81367,43.6386609,48.3497985,43.5924217,43.6065277,47.69349,43.5784766,43.9471477,43.4857894,43.6798472,43.6982932,43.5794348,47.6661568,42.8426024,43.5027333,47.7728638,43.8208035,43.4909213,42.6713509,43.6701777,43.5536497,43.5086156],\"legendgroup\":\"\",\"lon\":[-116.3270663,-116.3673615,-116.1710011,-111.9666332,-111.8511424,-116.9568101,-116.9219547,-112.5422089,-117.0032495,-116.3691111,-111.8467781,-112.4728415,-116.3184456,-114.422892,-116.8833897,-112.0161992,-112.4890931,-112.2179313,-116.5508973,-114.7569876,-112.4622797,-116.7903156,-116.9631466,-116.1784472,-116.3293158,-116.633498,-111.99424,-116.661785,-116.6173382,-116.7467255,-116.2352971,-116.2202527,-116.4654874,-116.55655,-116.0656972,-116.6929686,-111.4817532,-112.0114821,-111.2020074,-117.0104176,-116.1844512,-116.397123,-116.8333168,-116.222969,-116.684917,-116.6793138,-116.2075223,-116.9210756,-116.4919901,-113.9972708,-115.6273693,-116.6114333,-111.9397541,-116.5343892,-114.5197151,-116.4623912,-112.018473,-116.6679919,-116.7999331,-116.1896903,-116.7844401,-111.9488622,-112.4463328,-116.9512452,-116.180455,null,-112.2876231,-116.2170641,-112.3102143,-113.7554099,-112.38286,-111.5528132,-113.738161,-111.8023991,-116.2435264,-112.0197444,-112.4266414,-116.3091775,-116.3202402,-111.9642445,-116.3181613,-113.6997879,-116.2278188,-117.0170977,-112.442767,-116.5566865,-116.7938106,-116.5693801,-116.5641212,-116.9665402,-112.0805084,-111.5056491,-116.11237,-116.296731,-111.7992716,-116.9185102,-117.0715447,-116.2337781,-116.9599282,-113.8442049,-112.1218261,-116.8386435,-114.1538989,-116.9413724,-114.4211687,-116.3452329,-114.5008016,-116.327211,-117.0272919,-116.3083842,-116.5838859,-116.2926808,-116.6667062,-113.5546429,-116.5398318,-116.9812112,-113.3791677,-112.4817736,-113.7682293,-115.8874445,-112.8148524,-116.5562736,-114.6211178,-112.4332669,-115.8389726,-112.4591162,-112.0299835,-116.6745723,-116.5827585,-116.6949184,-116.2692899,-116.2623701,-116.7837896,-111.872456,-116.135071,-116.5085487,-116.6882446,-116.964363,-116.3363018,-116.7757877,-115.4687788,-116.4000332,-112.5204486,-111.8477004,-116.2533605,-114.7017551,-116.6593681,-116.8481343,-116.768597,-116.2856014,-116.7724417,-114.5819261,-114.0154675,-116.4015697,-112.0449867,-116.5379611,-116.2662381,-111.8186466,-112.44646,-116.2964654,-116.2442242,-113.6535632,-116.1296357,-114.141908,-116.5628049,-112.4191059,-116.2003618,-116.5654,-115.5673089,-115.9001454,-116.4748776,-116.5428436,-116.6727716,-116.901818,-114.1835036,-116.9026323,-111.9906446,-116.4480551,-116.9761878,-114.4882139,-115.8727601,-116.6963167,-115.8664015,-116.2160586,-113.7526916,-114.2019952,-116.1392259,-111.7147361,-116.5850602,-112.5014119,-116.8989005,-116.9131343,-112.3562628,-116.5554763,-116.9196934,-112.3606392,-116.2168534,-116.7936121,-116.7017303,-112.0415685,-112.075757,-116.3240049,-111.3876998,-116.1617483,-114.8122296,-116.2056868,-112.7124468,-112.4459889,-111.9663568,-111.933795,-114.8256001,-111.3205108,-116.9921895,-114.5221405,-112.3662009,-116.3036897,-114.489406,-116.2955596,-116.9179618,-115.8388434,-116.610601,-116.2230377,-114.4407275,-112.0793167,-112.396471,-112.4203762,-116.1559907,-114.2522675,-114.5121217,-112.2491289,-113.8431454,-116.3724496,-114.7752696,-114.4700202,-113.1776308,-112.4583146,-116.887956,-116.9956047,-113.6227673,-114.4408119,-112.3625574,-115.7151105,-116.3984449,-116.4078385,-116.907736,-111.4375628,-116.1323165,-112.1199321,-113.5854159,-111.9952904,-116.3031147,-114.341643,-116.5638761,-116.2039662,-116.6098142,-115.3153279,-115.7714922,-111.2117653,-113.804794,-116.9602208,-112.4345072,-114.4693463,-116.6078682,-111.8294336,-112.4238133,-116.2566991,-116.6406805,-116.2678342,-116.25758,-116.7755494,-116.1849256,-111.702512,-111.9419441,-116.2973691,-116.3838048,-116.601649,-116.7574329,-113.0342691,-114.7720663,-116.7765368,-111.7866566,-112.0149231,-114.4385973,-116.2665359,-116.3132875,-116.3984578],\"marker\":{\"color\":[464.5,365.5,49.0,1025.5,806.0,21.0,131.0,698.0,70.0,1265.0,570.5,309.0,163.5,617.0,26.5,685.0,345.0,135.0,56.0,227.0,159.5,57.0,124.0,109.5,363.5,132.5,859.5,154.0,781.5,210.5,188.0,257.0,830.5,75.5,358.5,64.0,154.0,487.5,263.0,46.5,51.0,895.0,57.0,242.0,218.0,212.5,134.5,112.5,89.5,105.5,19.0,600.5,1147.5,958.0,612.0,348.5,619.0,191.0,71.0,200.0,31.5,1194.0,284.5,27.0,135.5,38698.5,679.5,142.0,303.5,73.0,347.0,961.0,211.0,3127.0,145.5,457.0,420.5,223.0,132.0,1391.5,86.0,325.5,144.0,11.0,113.0,24.5,117.0,908.0,195.0,16.0,672.5,360.5,9.0,116.0,820.0,155.5,135.5,169.0,96.0,647.5,287.5,885.5,231.0,19.0,60.5,282.5,248.0,266.5,16.0,713.0,298.0,327.5,92.5,36.0,295.5,85.0,443.0,311.0,281.5,98.5,401.5,10.5,609.5,348.0,90.0,253.5,304.5,105.0,148.5,62.0,96.0,349.0,90.5,694.0,160.5,20.0,188.0,66.0,314.0,34.0,29.0,26.0,583.5,1427.5,29.5,178.0,433.0,59.0,69.0,237.5,344.0,25.0,598.5,374.0,428.5,25.0,111.0,1526.5,336.5,205.5,173.0,360.5,57.0,125.0,106.0,326.5,169.5,105.0,45.5,19.5,22.0,186.0,34.0,72.0,198.0,554.0,461.0,391.0,21.0,360.5,8.0,76.5,22.0,117.5,625.5,44.0,299.5,729.5,20.0,1080.5,16.0,209.0,131.0,312.0,175.0,882.0,31.5,181.5,155.5,621.0,1026.5,283.5,190.0,206.0,230.5,128.0,376.5,224.5,722.0,1870.5,203.0,510.0,19.0,109.0,265.5,256.0,274.5,469.0,44.5,143.0,250.5,137.5,625.5,1031.5,120.0,1107.0,59.0,69.0,172.0,763.0,210.0,468.0,135.0,222.0,366.5,775.0,21.0,39.0,804.0,415.5,863.0,240.5,560.5,1970.0,51.0,1797.0,240.5,1516.0,471.5,245.0,542.0,677.0,41.0,63.0,300.5,33.0,159.5,367.0,427.5,129.5,424.5,185.0,360.0,1248.5,577.0,151.5,47.0,147.0,226.0,110.5,243.0,1589.5,1676.5,511.5,532.0,151.0,26.5,724.0,68.0,74.0,1392.0,528.0,431.0,182.5,324.0,1364.0],\"coloraxis\":\"coloraxis\",\"size\":[464.5,365.5,49.0,1025.5,806.0,21.0,131.0,698.0,70.0,1265.0,570.5,309.0,163.5,617.0,26.5,685.0,345.0,135.0,56.0,227.0,159.5,57.0,124.0,109.5,363.5,132.5,859.5,154.0,781.5,210.5,188.0,257.0,830.5,75.5,358.5,64.0,154.0,487.5,263.0,46.5,51.0,895.0,57.0,242.0,218.0,212.5,134.5,112.5,89.5,105.5,19.0,600.5,1147.5,958.0,612.0,348.5,619.0,191.0,71.0,200.0,31.5,1194.0,284.5,27.0,135.5,38698.5,679.5,142.0,303.5,73.0,347.0,961.0,211.0,3127.0,145.5,457.0,420.5,223.0,132.0,1391.5,86.0,325.5,144.0,11.0,113.0,24.5,117.0,908.0,195.0,16.0,672.5,360.5,9.0,116.0,820.0,155.5,135.5,169.0,96.0,647.5,287.5,885.5,231.0,19.0,60.5,282.5,248.0,266.5,16.0,713.0,298.0,327.5,92.5,36.0,295.5,85.0,443.0,311.0,281.5,98.5,401.5,10.5,609.5,348.0,90.0,253.5,304.5,105.0,148.5,62.0,96.0,349.0,90.5,694.0,160.5,20.0,188.0,66.0,314.0,34.0,29.0,26.0,583.5,1427.5,29.5,178.0,433.0,59.0,69.0,237.5,344.0,25.0,598.5,374.0,428.5,25.0,111.0,1526.5,336.5,205.5,173.0,360.5,57.0,125.0,106.0,326.5,169.5,105.0,45.5,19.5,22.0,186.0,34.0,72.0,198.0,554.0,461.0,391.0,21.0,360.5,8.0,76.5,22.0,117.5,625.5,44.0,299.5,729.5,20.0,1080.5,16.0,209.0,131.0,312.0,175.0,882.0,31.5,181.5,155.5,621.0,1026.5,283.5,190.0,206.0,230.5,128.0,376.5,224.5,722.0,1870.5,203.0,510.0,19.0,109.0,265.5,256.0,274.5,469.0,44.5,143.0,250.5,137.5,625.5,1031.5,120.0,1107.0,59.0,69.0,172.0,763.0,210.0,468.0,135.0,222.0,366.5,775.0,21.0,39.0,804.0,415.5,863.0,240.5,560.5,1970.0,51.0,1797.0,240.5,1516.0,471.5,245.0,542.0,677.0,41.0,63.0,300.5,33.0,159.5,367.0,427.5,129.5,424.5,185.0,360.0,1248.5,577.0,151.5,47.0,147.0,226.0,110.5,243.0,1589.5,1676.5,511.5,532.0,151.0,26.5,724.0,68.0,74.0,1392.0,528.0,431.0,182.5,324.0,1364.0],\"sizemode\":\"area\",\"sizeref\":6.879733333333333,\"symbol\":\"circle\"},\"mode\":\"markers\",\"name\":\"\",\"showlegend\":false,\"type\":\"scattergeo\"}],                        {\"template\":{\"data\":{\"bar\":[{\"error_x\":{\"color\":\"#2a3f5f\"},\"error_y\":{\"color\":\"#2a3f5f\"},\"marker\":{\"line\":{\"color\":\"#E5ECF6\",\"width\":0.5},\"pattern\":{\"fillmode\":\"overlay\",\"size\":10,\"solidity\":0.2}},\"type\":\"bar\"}],\"barpolar\":[{\"marker\":{\"line\":{\"color\":\"#E5ECF6\",\"width\":0.5},\"pattern\":{\"fillmode\":\"overlay\",\"size\":10,\"solidity\":0.2}},\"type\":\"barpolar\"}],\"carpet\":[{\"aaxis\":{\"endlinecolor\":\"#2a3f5f\",\"gridcolor\":\"white\",\"linecolor\":\"white\",\"minorgridcolor\":\"white\",\"startlinecolor\":\"#2a3f5f\"},\"baxis\":{\"endlinecolor\":\"#2a3f5f\",\"gridcolor\":\"white\",\"linecolor\":\"white\",\"minorgridcolor\":\"white\",\"startlinecolor\":\"#2a3f5f\"},\"type\":\"carpet\"}],\"choropleth\":[{\"colorbar\":{\"outlinewidth\":0,\"ticks\":\"\"},\"type\":\"choropleth\"}],\"contour\":[{\"colorbar\":{\"outlinewidth\":0,\"ticks\":\"\"},\"colorscale\":[[0.0,\"#0d0887\"],[0.1111111111111111,\"#46039f\"],[0.2222222222222222,\"#7201a8\"],[0.3333333333333333,\"#9c179e\"],[0.4444444444444444,\"#bd3786\"],[0.5555555555555556,\"#d8576b\"],[0.6666666666666666,\"#ed7953\"],[0.7777777777777778,\"#fb9f3a\"],[0.8888888888888888,\"#fdca26\"],[1.0,\"#f0f921\"]],\"type\":\"contour\"}],\"contourcarpet\":[{\"colorbar\":{\"outlinewidth\":0,\"ticks\":\"\"},\"type\":\"contourcarpet\"}],\"heatmap\":[{\"colorbar\":{\"outlinewidth\":0,\"ticks\":\"\"},\"colorscale\":[[0.0,\"#0d0887\"],[0.1111111111111111,\"#46039f\"],[0.2222222222222222,\"#7201a8\"],[0.3333333333333333,\"#9c179e\"],[0.4444444444444444,\"#bd3786\"],[0.5555555555555556,\"#d8576b\"],[0.6666666666666666,\"#ed7953\"],[0.7777777777777778,\"#fb9f3a\"],[0.8888888888888888,\"#fdca26\"],[1.0,\"#f0f921\"]],\"type\":\"heatmap\"}],\"heatmapgl\":[{\"colorbar\":{\"outlinewidth\":0,\"ticks\":\"\"},\"colorscale\":[[0.0,\"#0d0887\"],[0.1111111111111111,\"#46039f\"],[0.2222222222222222,\"#7201a8\"],[0.3333333333333333,\"#9c179e\"],[0.4444444444444444,\"#bd3786\"],[0.5555555555555556,\"#d8576b\"],[0.6666666666666666,\"#ed7953\"],[0.7777777777777778,\"#fb9f3a\"],[0.8888888888888888,\"#fdca26\"],[1.0,\"#f0f921\"]],\"type\":\"heatmapgl\"}],\"histogram\":[{\"marker\":{\"pattern\":{\"fillmode\":\"overlay\",\"size\":10,\"solidity\":0.2}},\"type\":\"histogram\"}],\"histogram2d\":[{\"colorbar\":{\"outlinewidth\":0,\"ticks\":\"\"},\"colorscale\":[[0.0,\"#0d0887\"],[0.1111111111111111,\"#46039f\"],[0.2222222222222222,\"#7201a8\"],[0.3333333333333333,\"#9c179e\"],[0.4444444444444444,\"#bd3786\"],[0.5555555555555556,\"#d8576b\"],[0.6666666666666666,\"#ed7953\"],[0.7777777777777778,\"#fb9f3a\"],[0.8888888888888888,\"#fdca26\"],[1.0,\"#f0f921\"]],\"type\":\"histogram2d\"}],\"histogram2dcontour\":[{\"colorbar\":{\"outlinewidth\":0,\"ticks\":\"\"},\"colorscale\":[[0.0,\"#0d0887\"],[0.1111111111111111,\"#46039f\"],[0.2222222222222222,\"#7201a8\"],[0.3333333333333333,\"#9c179e\"],[0.4444444444444444,\"#bd3786\"],[0.5555555555555556,\"#d8576b\"],[0.6666666666666666,\"#ed7953\"],[0.7777777777777778,\"#fb9f3a\"],[0.8888888888888888,\"#fdca26\"],[1.0,\"#f0f921\"]],\"type\":\"histogram2dcontour\"}],\"mesh3d\":[{\"colorbar\":{\"outlinewidth\":0,\"ticks\":\"\"},\"type\":\"mesh3d\"}],\"parcoords\":[{\"line\":{\"colorbar\":{\"outlinewidth\":0,\"ticks\":\"\"}},\"type\":\"parcoords\"}],\"pie\":[{\"automargin\":true,\"type\":\"pie\"}],\"scatter\":[{\"marker\":{\"colorbar\":{\"outlinewidth\":0,\"ticks\":\"\"}},\"type\":\"scatter\"}],\"scatter3d\":[{\"line\":{\"colorbar\":{\"outlinewidth\":0,\"ticks\":\"\"}},\"marker\":{\"colorbar\":{\"outlinewidth\":0,\"ticks\":\"\"}},\"type\":\"scatter3d\"}],\"scattercarpet\":[{\"marker\":{\"colorbar\":{\"outlinewidth\":0,\"ticks\":\"\"}},\"type\":\"scattercarpet\"}],\"scattergeo\":[{\"marker\":{\"colorbar\":{\"outlinewidth\":0,\"ticks\":\"\"}},\"type\":\"scattergeo\"}],\"scattergl\":[{\"marker\":{\"colorbar\":{\"outlinewidth\":0,\"ticks\":\"\"}},\"type\":\"scattergl\"}],\"scattermapbox\":[{\"marker\":{\"colorbar\":{\"outlinewidth\":0,\"ticks\":\"\"}},\"type\":\"scattermapbox\"}],\"scatterpolar\":[{\"marker\":{\"colorbar\":{\"outlinewidth\":0,\"ticks\":\"\"}},\"type\":\"scatterpolar\"}],\"scatterpolargl\":[{\"marker\":{\"colorbar\":{\"outlinewidth\":0,\"ticks\":\"\"}},\"type\":\"scatterpolargl\"}],\"scatterternary\":[{\"marker\":{\"colorbar\":{\"outlinewidth\":0,\"ticks\":\"\"}},\"type\":\"scatterternary\"}],\"surface\":[{\"colorbar\":{\"outlinewidth\":0,\"ticks\":\"\"},\"colorscale\":[[0.0,\"#0d0887\"],[0.1111111111111111,\"#46039f\"],[0.2222222222222222,\"#7201a8\"],[0.3333333333333333,\"#9c179e\"],[0.4444444444444444,\"#bd3786\"],[0.5555555555555556,\"#d8576b\"],[0.6666666666666666,\"#ed7953\"],[0.7777777777777778,\"#fb9f3a\"],[0.8888888888888888,\"#fdca26\"],[1.0,\"#f0f921\"]],\"type\":\"surface\"}],\"table\":[{\"cells\":{\"fill\":{\"color\":\"#EBF0F8\"},\"line\":{\"color\":\"white\"}},\"header\":{\"fill\":{\"color\":\"#C8D4E3\"},\"line\":{\"color\":\"white\"}},\"type\":\"table\"}]},\"layout\":{\"annotationdefaults\":{\"arrowcolor\":\"#2a3f5f\",\"arrowhead\":0,\"arrowwidth\":1},\"autotypenumbers\":\"strict\",\"coloraxis\":{\"colorbar\":{\"outlinewidth\":0,\"ticks\":\"\"}},\"colorscale\":{\"diverging\":[[0,\"#8e0152\"],[0.1,\"#c51b7d\"],[0.2,\"#de77ae\"],[0.3,\"#f1b6da\"],[0.4,\"#fde0ef\"],[0.5,\"#f7f7f7\"],[0.6,\"#e6f5d0\"],[0.7,\"#b8e186\"],[0.8,\"#7fbc41\"],[0.9,\"#4d9221\"],[1,\"#276419\"]],\"sequential\":[[0.0,\"#0d0887\"],[0.1111111111111111,\"#46039f\"],[0.2222222222222222,\"#7201a8\"],[0.3333333333333333,\"#9c179e\"],[0.4444444444444444,\"#bd3786\"],[0.5555555555555556,\"#d8576b\"],[0.6666666666666666,\"#ed7953\"],[0.7777777777777778,\"#fb9f3a\"],[0.8888888888888888,\"#fdca26\"],[1.0,\"#f0f921\"]],\"sequentialminus\":[[0.0,\"#0d0887\"],[0.1111111111111111,\"#46039f\"],[0.2222222222222222,\"#7201a8\"],[0.3333333333333333,\"#9c179e\"],[0.4444444444444444,\"#bd3786\"],[0.5555555555555556,\"#d8576b\"],[0.6666666666666666,\"#ed7953\"],[0.7777777777777778,\"#fb9f3a\"],[0.8888888888888888,\"#fdca26\"],[1.0,\"#f0f921\"]]},\"colorway\":[\"#636efa\",\"#EF553B\",\"#00cc96\",\"#ab63fa\",\"#FFA15A\",\"#19d3f3\",\"#FF6692\",\"#B6E880\",\"#FF97FF\",\"#FECB52\"],\"font\":{\"color\":\"#2a3f5f\"},\"geo\":{\"bgcolor\":\"white\",\"lakecolor\":\"white\",\"landcolor\":\"#E5ECF6\",\"showlakes\":true,\"showland\":true,\"subunitcolor\":\"white\"},\"hoverlabel\":{\"align\":\"left\"},\"hovermode\":\"closest\",\"mapbox\":{\"style\":\"light\"},\"paper_bgcolor\":\"white\",\"plot_bgcolor\":\"#E5ECF6\",\"polar\":{\"angularaxis\":{\"gridcolor\":\"white\",\"linecolor\":\"white\",\"ticks\":\"\"},\"bgcolor\":\"#E5ECF6\",\"radialaxis\":{\"gridcolor\":\"white\",\"linecolor\":\"white\",\"ticks\":\"\"}},\"scene\":{\"xaxis\":{\"backgroundcolor\":\"#E5ECF6\",\"gridcolor\":\"white\",\"gridwidth\":2,\"linecolor\":\"white\",\"showbackground\":true,\"ticks\":\"\",\"zerolinecolor\":\"white\"},\"yaxis\":{\"backgroundcolor\":\"#E5ECF6\",\"gridcolor\":\"white\",\"gridwidth\":2,\"linecolor\":\"white\",\"showbackground\":true,\"ticks\":\"\",\"zerolinecolor\":\"white\"},\"zaxis\":{\"backgroundcolor\":\"#E5ECF6\",\"gridcolor\":\"white\",\"gridwidth\":2,\"linecolor\":\"white\",\"showbackground\":true,\"ticks\":\"\",\"zerolinecolor\":\"white\"}},\"shapedefaults\":{\"line\":{\"color\":\"#2a3f5f\"}},\"ternary\":{\"aaxis\":{\"gridcolor\":\"white\",\"linecolor\":\"white\",\"ticks\":\"\"},\"baxis\":{\"gridcolor\":\"white\",\"linecolor\":\"white\",\"ticks\":\"\"},\"bgcolor\":\"#E5ECF6\",\"caxis\":{\"gridcolor\":\"white\",\"linecolor\":\"white\",\"ticks\":\"\"}},\"title\":{\"x\":0.05},\"xaxis\":{\"automargin\":true,\"gridcolor\":\"white\",\"linecolor\":\"white\",\"ticks\":\"\",\"title\":{\"standoff\":15},\"zerolinecolor\":\"white\",\"zerolinewidth\":2},\"yaxis\":{\"automargin\":true,\"gridcolor\":\"white\",\"linecolor\":\"white\",\"ticks\":\"\",\"title\":{\"standoff\":15},\"zerolinecolor\":\"white\",\"zerolinewidth\":2}}},\"geo\":{\"domain\":{\"x\":[0.0,1.0],\"y\":[0.0,1.0]},\"center\":{},\"scope\":\"usa\",\"fitbounds\":\"locations\"},\"coloraxis\":{\"colorbar\":{\"title\":{\"text\":\"target\"}},\"colorscale\":[[0.0,\"rgb(0,0,255)\"],[1.0,\"rgb(255,0,0)\"]],\"cmin\":0,\"cmax\":1000},\"legend\":{\"tracegroupgap\":0,\"itemsizing\":\"constant\"},\"title\":{\"text\":\"Active Members in Idaho by County\"},\"height\":800,\"width\":1200},                        {\"responsive\": true}                    )                };                            </script>        </div>\n</body>\n</html>",
       "datasetInfos": [],
       "metadata": {},
       "removedWidgets": [],
       "textData": null,
       "type": "htmlSandbox"
      }
     },
     "output_type": "display_data"
    }
   ],
   "source": [
    "\n",
    "fig = px.scatter_geo(pd_county_target,\n",
    "                    lat=pd_county_target[\"lat\"],\n",
    "                    lon=pd_county_target[\"long\"],\n",
    "                    scope=\"usa\",\n",
    "                    hover_name=pd_county_target[\"county_name\"],\n",
    "                    hover_data=[\"county\"],\n",
    "                    title=\"Active Members in Idaho by County\",\n",
    "                    width=1200,\n",
    "                    height=800,\n",
    "                    color=pd_county_target[\"target\"],\n",
    "                    range_color=[0,1000],\n",
    "                    color_continuous_scale=px.colors.sequential.Bluered,\n",
    "                    size=pd_county_target[\"target\"],\n",
    "                    size_max=75\n",
    "                    )\n",
    "\n",
    "fig.update_geos(fitbounds=\"locations\")\n",
    "fig.show()"
   ]
  },
  {
   "cell_type": "markdown",
   "metadata": {
    "application/vnd.databricks.v1+cell": {
     "cellMetadata": {
      "byteLimit": 2048000,
      "rowLimit": 10000
     },
     "inputWidgets": {},
     "nuid": "624c02e0-a810-4b0a-b31e-98587a84ea0c",
     "showTitle": false,
     "title": ""
    }
   },
   "source": [
    "Treemap"
   ]
  },
  {
   "cell_type": "code",
   "execution_count": 0,
   "metadata": {
    "application/vnd.databricks.v1+cell": {
     "cellMetadata": {
      "byteLimit": 2048000,
      "rowLimit": 10000
     },
     "inputWidgets": {},
     "nuid": "2d002089-a804-4cde-9288-3854581fb49e",
     "showTitle": false,
     "title": ""
    }
   },
   "outputs": [
    {
     "output_type": "stream",
     "name": "stderr",
     "output_type": "stream",
     "text": [
      "/databricks/python/lib/python3.9/site-packages/plotly/express/_core.py:1637: FutureWarning:\n\nThe frame.append method is deprecated and will be removed from pandas in a future version. Use pandas.concat instead.\n\n/databricks/python/lib/python3.9/site-packages/plotly/express/_core.py:1637: FutureWarning:\n\nThe frame.append method is deprecated and will be removed from pandas in a future version. Use pandas.concat instead.\n\n"
     ]
    },
    {
     "output_type": "display_data",
     "data": {
      "text/html": [
       "<html>\n",
       "<head><meta charset=\"utf-8\" /></head>\n",
       "<body>\n",
       "    <div>            <script src=\"https://cdnjs.cloudflare.com/ajax/libs/mathjax/2.7.5/MathJax.js?config=TeX-AMS-MML_SVG\"></script><script type=\"text/javascript\">if (window.MathJax) {MathJax.Hub.Config({SVG: {font: \"STIX-Web\"}});}</script>                <script type=\"text/javascript\">window.PlotlyConfig = {MathJaxConfig: 'local'};</script>\n",
       "        <script src=\"https://cdn.plot.ly/plotly-2.9.0.min.js\"></script>                <div id=\"38ea78dd-81b1-4cf0-9e75-e855bc793002\" class=\"plotly-graph-div\" style=\"height:100%; width:100%;\"></div>            <script type=\"text/javascript\">                                    window.PLOTLYENV=window.PLOTLYENV || {};                                    if (document.getElementById(\"38ea78dd-81b1-4cf0-9e75-e855bc793002\")) {                    Plotly.newPlot(                        \"38ea78dd-81b1-4cf0-9e75-e855bc793002\",                        [{\"branchvalues\":\"total\",\"customdata\":[[0.0],[0.0],[0.0],[0.0],[0.0],[0.0],[0.0],[0.0],[0.0],[0.0],[0.0],[0.0],[0.0],[0.0],[0.0],[0.0],[0.0],[0.0],[0.0],[0.0],[0.0],[0.0],[0.0],[0.0],[0.0],[0.0],[0.0],[0.0],[0.0],[0.0],[0.0],[0.0],[0.0],[0.0],[0.0],[0.0],[0.0],[1.0],[0.0],[0.0],[0.0],[0.0],[0.0],[0.0],[0.0],[0.0],[0.0],[0.0],[0.0],[0.0],[0.0],[1.0],[0.0],[0.0],[0.0],[0.0],[0.0],[0.0],[0.0],[0.0],[0.0],[0.0],[0.0],[0.0],[0.0],[0.0],[0.0],[0.0],[0.0],[0.0],[0.0],[0.0],[0.0],[0.0],[0.0],[0.0],[0.0],[0.0],[0.0],[0.0],[0.0],[0.0],[0.0],[0.0],[0.0],[0.0],[0.0],[0.0],[0.0],[1.0],[0.0],[0.0],[0.0],[0.0],[0.0],[0.0],[0.0],[0.0],[0.0],[0.0],[0.0],[0.0],[0.0],[0.0],[0.0],[0.0],[0.0],[0.0],[0.0],[0.0],[0.0],[0.0],[0.0],[0.0],[0.0],[0.0],[0.0],[0.0],[0.0],[0.0],[0.0],[0.0],[0.0],[0.0],[0.0],[0.0],[0.0],[0.0],[0.0],[0.0],[0.0],[0.0],[0.0],[0.0],[0.0],[0.0],[0.0],[0.0],[0.0],[0.0],[0.0],[0.0],[0.0],[0.0],[0.0],[0.0],[0.0],[0.0],[1.0],[0.0],[0.0],[0.0],[0.0],[0.0],[0.0],[0.0],[0.0],[0.0],[0.0],[0.0],[0.0],[0.0],[0.0],[0.0],[0.0],[0.0],[0.0],[0.0],[1.0],[0.0],[0.0],[0.0],[0.0],[0.0],[0.0],[0.044063030560271645],[0.12745380231420184],[0.0],[0.03341391141609482],[0.0],[0.0],[0.0],[0.0],[0.0],[0.0],[0.0],[0.0],[0.0],[0.0],[0.0],[0.0],[0.0],[0.0],[0.348373440285205],[0.0],[0.0],[0.0],[0.0],[0.0],[0.13426177782613427]],\"domain\":{\"x\":[0.0,1.0],\"y\":[0.0,1.0]},\"hovertemplate\":\"labels=%{label}<br>target=%{value}<br>parent=%{parent}<br>id=%{id}<br>has_temple=%{color}<extra></extra>\",\"ids\":[\"Ada/16001000304\",\"Ada/16001000400\",\"Ada/16001000702\",\"Ada/16001000802\",\"Ada/16001000803\",\"Ada/16001000900\",\"Ada/16001001100\",\"Ada/16001001202\",\"Ada/16001001400\",\"Ada/16001001700\",\"Ada/16001001800\",\"Ada/16001002000\",\"Ada/16001002100\",\"Ada/16001002221\",\"Ada/16001002222\",\"Ada/16001002223\",\"Ada/16001002224\",\"Ada/16001002302\",\"Ada/16001002310\",\"Ada/16001002313\",\"Ada/16001002410\",\"Ada/16001002411\",\"Ada/16001002412\",\"Ada/16001002413\",\"Ada/16001010100\",\"Ada/16001010201\",\"Ada/16001010221\",\"Ada/16001010223\",\"Ada/16001010224\",\"Ada/16001010225\",\"Ada/16001010313\",\"Ada/16001010321\",\"Ada/16001010322\",\"Ada/16001010331\",\"Ada/16001010332\",\"Ada/16001010333\",\"Ada/16001010334\",\"Ada/16001010335\",\"Ada/16001010401\",\"Ada/16001010402\",\"Ada/16001010501\",\"Ada/16001010503\",\"Ada/16001010504\",\"Bannock/16005000200\",\"Bannock/16005000300\",\"Bannock/16005000400\",\"Bannock/16005000500\",\"Bannock/16005000600\",\"Bannock/16005000700\",\"Bannock/16005000800\",\"Bannock/16005001000\",\"Bannock/16005001101\",\"Bannock/16005001102\",\"Bannock/16005001200\",\"Bannock/16005001300\",\"Bannock/16005001400\",\"Bannock/16005001500\",\"Bannock/16005001601\",\"Bannock/16005001602\",\"Bannock/16005001603\",\"Bannock/16005001700\",\"Franklin/16005001900\",\"Bear Lake/16007950100\",\"Bear Lake/16007950200\",\"Bingham/16011950100\",\"Bingham/16011950200\",\"Bingham/16011950300\",\"Bingham/16011950400\",\"Bingham/16011950500\",\"Bingham/16011950600\",\"Bingham/16011950700\",\"Blaine/16013960100\",\"Ada/16015950200\",\"Bonneville/16019970100\",\"Jefferson/16019970300\",\"Bingham/16019970401\",\"Bonneville/16019970402\",\"Bonneville/16019970403\",\"Bonneville/16019970501\",\"Bonneville/16019970502\",\"Bonneville/16019970503\",\"Bingham/16019970601\",\"Bonneville/16019970602\",\"Bonneville/16019970603\",\"Bingham/16019970700\",\"Bingham/16019970800\",\"Bingham/16019970900\",\"Bingham/16019971000\",\"Bingham/16019971100\",\"Bingham/16019971200\",\"Bingham/16019971301\",\"Bingham/16019971302\",\"Bingham/16019971400\",\"Bingham/16019971500\",\"Blaine/16023970100\",\"Canyon/16027020401\",\"Canyon/16027020402\",\"Canyon/16027020501\",\"Canyon/16027020601\",\"Canyon/16027020602\",\"Canyon/16027020901\",\"Canyon/16027020902\",\"Canyon/16027021001\",\"Canyon/16027021002\",\"Canyon/16027021100\",\"Canyon/16027021500\",\"Canyon/16027021600\",\"Canyon/16027021700\",\"Canyon/16027021800\",\"Canyon/16027021901\",\"Canyon/16027021903\",\"Owyhee/16027022300\",\"Ada/16027022400\",\"Caribou/16029960100\",\"Caribou/16029960200\",\"Cassia/16031950100\",\"Minidoka/16031950200\",\"Cassia/16031950300\",\"Cassia/16031950400\",\"Cassia/16031950500\",\"Cassia/16031950600\",\"Elmore/16039960200\",\"Franklin/16041970100\",\"Franklin/16041970200\",\"Fremont/16043970100\",\"Fremont/16043970200\",\"Fremont/16043970300\",\"Gem/16045960100\",\"Gem/16045960200\",\"Gem/16045960300\",\"Gooding/16047960100\",\"Jefferson/16051960100\",\"Jefferson/16051960200\",\"Jefferson/16051960300\",\"Jefferson/16051960400\",\"Jerome/16053970200\",\"Jerome/16053970300\",\"Jerome/16053970500\",\"Kootenai/16055000200\",\"Kootenai/16055000302\",\"Kootenai/16055000700\",\"Kootenai/16055001100\",\"Latah/16057005200\",\"Latah/16057005300\",\"Gooding/16063950100\",\"Madison/16065950100\",\"Madison/16065950200\",\"Madison/16065950301\",\"Madison/16065950302\",\"Madison/16065950400\",\"Madison/16065950500\",\"Minidoka/16067970100\",\"Minidoka/16067970200\",\"Minidoka/16067970300\",\"Minidoka/16067970400\",\"Minidoka/16067970500\",\"Franklin/16071960100\",\"Payette/16075960100\",\"Payette/16075960300\",\"Payette/16075960400\",\"Bannock/16077960100\",\"Power/16077960200\",\"Teton/16081960100\",\"Twin Falls/16083000200\",\"Twin Falls/16083000300\",\"Twin Falls/16083000600\",\"Twin Falls/16083000700\",\"Twin Falls/16083000800\",\"Twin Falls/16083000900\",\"Twin Falls/16083001000\",\"Twin Falls/16083001100\",\"Twin Falls/16083001200\",\"Twin Falls/16083001300\",\"Twin Falls/16083001400\",\"Twin Falls/16083001500\",\"Ada\",\"Bannock\",\"Bear Lake\",\"Bingham\",\"Blaine\",\"Bonneville\",\"Canyon\",\"Caribou\",\"Cassia\",\"Elmore\",\"Franklin\",\"Fremont\",\"Gem\",\"Gooding\",\"Jefferson\",\"Jerome\",\"Kootenai\",\"Latah\",\"Madison\",\"Minidoka\",\"Owyhee\",\"Payette\",\"Power\",\"Teton\",\"Twin Falls\"],\"labels\":[\"16001000304\",\"16001000400\",\"16001000702\",\"16001000802\",\"16001000803\",\"16001000900\",\"16001001100\",\"16001001202\",\"16001001400\",\"16001001700\",\"16001001800\",\"16001002000\",\"16001002100\",\"16001002221\",\"16001002222\",\"16001002223\",\"16001002224\",\"16001002302\",\"16001002310\",\"16001002313\",\"16001002410\",\"16001002411\",\"16001002412\",\"16001002413\",\"16001010100\",\"16001010201\",\"16001010221\",\"16001010223\",\"16001010224\",\"16001010225\",\"16001010313\",\"16001010321\",\"16001010322\",\"16001010331\",\"16001010332\",\"16001010333\",\"16001010334\",\"16001010335\",\"16001010401\",\"16001010402\",\"16001010501\",\"16001010503\",\"16001010504\",\"16005000200\",\"16005000300\",\"16005000400\",\"16005000500\",\"16005000600\",\"16005000700\",\"16005000800\",\"16005001000\",\"16005001101\",\"16005001102\",\"16005001200\",\"16005001300\",\"16005001400\",\"16005001500\",\"16005001601\",\"16005001602\",\"16005001603\",\"16005001700\",\"16005001900\",\"16007950100\",\"16007950200\",\"16011950100\",\"16011950200\",\"16011950300\",\"16011950400\",\"16011950500\",\"16011950600\",\"16011950700\",\"16013960100\",\"16015950200\",\"16019970100\",\"16019970300\",\"16019970401\",\"16019970402\",\"16019970403\",\"16019970501\",\"16019970502\",\"16019970503\",\"16019970601\",\"16019970602\",\"16019970603\",\"16019970700\",\"16019970800\",\"16019970900\",\"16019971000\",\"16019971100\",\"16019971200\",\"16019971301\",\"16019971302\",\"16019971400\",\"16019971500\",\"16023970100\",\"16027020401\",\"16027020402\",\"16027020501\",\"16027020601\",\"16027020602\",\"16027020901\",\"16027020902\",\"16027021001\",\"16027021002\",\"16027021100\",\"16027021500\",\"16027021600\",\"16027021700\",\"16027021800\",\"16027021901\",\"16027021903\",\"16027022300\",\"16027022400\",\"16029960100\",\"16029960200\",\"16031950100\",\"16031950200\",\"16031950300\",\"16031950400\",\"16031950500\",\"16031950600\",\"16039960200\",\"16041970100\",\"16041970200\",\"16043970100\",\"16043970200\",\"16043970300\",\"16045960100\",\"16045960200\",\"16045960300\",\"16047960100\",\"16051960100\",\"16051960200\",\"16051960300\",\"16051960400\",\"16053970200\",\"16053970300\",\"16053970500\",\"16055000200\",\"16055000302\",\"16055000700\",\"16055001100\",\"16057005200\",\"16057005300\",\"16063950100\",\"16065950100\",\"16065950200\",\"16065950301\",\"16065950302\",\"16065950400\",\"16065950500\",\"16067970100\",\"16067970200\",\"16067970300\",\"16067970400\",\"16067970500\",\"16071960100\",\"16075960100\",\"16075960300\",\"16075960400\",\"16077960100\",\"16077960200\",\"16081960100\",\"16083000200\",\"16083000300\",\"16083000600\",\"16083000700\",\"16083000800\",\"16083000900\",\"16083001000\",\"16083001100\",\"16083001200\",\"16083001300\",\"16083001400\",\"16083001500\",\"Ada\",\"Bannock\",\"Bear Lake\",\"Bingham\",\"Blaine\",\"Bonneville\",\"Canyon\",\"Caribou\",\"Cassia\",\"Elmore\",\"Franklin\",\"Fremont\",\"Gem\",\"Gooding\",\"Jefferson\",\"Jerome\",\"Kootenai\",\"Latah\",\"Madison\",\"Minidoka\",\"Owyhee\",\"Payette\",\"Power\",\"Teton\",\"Twin Falls\"],\"marker\":{\"coloraxis\":\"coloraxis\",\"colors\":[0.0,0.0,0.0,0.0,0.0,0.0,0.0,0.0,0.0,0.0,0.0,0.0,0.0,0.0,0.0,0.0,0.0,0.0,0.0,0.0,0.0,0.0,0.0,0.0,0.0,0.0,0.0,0.0,0.0,0.0,0.0,0.0,0.0,0.0,0.0,0.0,0.0,1.0,0.0,0.0,0.0,0.0,0.0,0.0,0.0,0.0,0.0,0.0,0.0,0.0,0.0,1.0,0.0,0.0,0.0,0.0,0.0,0.0,0.0,0.0,0.0,0.0,0.0,0.0,0.0,0.0,0.0,0.0,0.0,0.0,0.0,0.0,0.0,0.0,0.0,0.0,0.0,0.0,0.0,0.0,0.0,0.0,0.0,0.0,0.0,0.0,0.0,0.0,0.0,1.0,0.0,0.0,0.0,0.0,0.0,0.0,0.0,0.0,0.0,0.0,0.0,0.0,0.0,0.0,0.0,0.0,0.0,0.0,0.0,0.0,0.0,0.0,0.0,0.0,0.0,0.0,0.0,0.0,0.0,0.0,0.0,0.0,0.0,0.0,0.0,0.0,0.0,0.0,0.0,0.0,0.0,0.0,0.0,0.0,0.0,0.0,0.0,0.0,0.0,0.0,0.0,0.0,0.0,0.0,0.0,0.0,0.0,0.0,1.0,0.0,0.0,0.0,0.0,0.0,0.0,0.0,0.0,0.0,0.0,0.0,0.0,0.0,0.0,0.0,0.0,0.0,0.0,0.0,1.0,0.0,0.0,0.0,0.0,0.0,0.0,0.044063030560271645,0.12745380231420184,0.0,0.03341391141609482,0.0,0.0,0.0,0.0,0.0,0.0,0.0,0.0,0.0,0.0,0.0,0.0,0.0,0.0,0.348373440285205,0.0,0.0,0.0,0.0,0.0,0.13426177782613427]},\"name\":\"\",\"parents\":[\"Ada\",\"Ada\",\"Ada\",\"Ada\",\"Ada\",\"Ada\",\"Ada\",\"Ada\",\"Ada\",\"Ada\",\"Ada\",\"Ada\",\"Ada\",\"Ada\",\"Ada\",\"Ada\",\"Ada\",\"Ada\",\"Ada\",\"Ada\",\"Ada\",\"Ada\",\"Ada\",\"Ada\",\"Ada\",\"Ada\",\"Ada\",\"Ada\",\"Ada\",\"Ada\",\"Ada\",\"Ada\",\"Ada\",\"Ada\",\"Ada\",\"Ada\",\"Ada\",\"Ada\",\"Ada\",\"Ada\",\"Ada\",\"Ada\",\"Ada\",\"Bannock\",\"Bannock\",\"Bannock\",\"Bannock\",\"Bannock\",\"Bannock\",\"Bannock\",\"Bannock\",\"Bannock\",\"Bannock\",\"Bannock\",\"Bannock\",\"Bannock\",\"Bannock\",\"Bannock\",\"Bannock\",\"Bannock\",\"Bannock\",\"Franklin\",\"Bear Lake\",\"Bear Lake\",\"Bingham\",\"Bingham\",\"Bingham\",\"Bingham\",\"Bingham\",\"Bingham\",\"Bingham\",\"Blaine\",\"Ada\",\"Bonneville\",\"Jefferson\",\"Bingham\",\"Bonneville\",\"Bonneville\",\"Bonneville\",\"Bonneville\",\"Bonneville\",\"Bingham\",\"Bonneville\",\"Bonneville\",\"Bingham\",\"Bingham\",\"Bingham\",\"Bingham\",\"Bingham\",\"Bingham\",\"Bingham\",\"Bingham\",\"Bingham\",\"Bingham\",\"Blaine\",\"Canyon\",\"Canyon\",\"Canyon\",\"Canyon\",\"Canyon\",\"Canyon\",\"Canyon\",\"Canyon\",\"Canyon\",\"Canyon\",\"Canyon\",\"Canyon\",\"Canyon\",\"Canyon\",\"Canyon\",\"Canyon\",\"Owyhee\",\"Ada\",\"Caribou\",\"Caribou\",\"Cassia\",\"Minidoka\",\"Cassia\",\"Cassia\",\"Cassia\",\"Cassia\",\"Elmore\",\"Franklin\",\"Franklin\",\"Fremont\",\"Fremont\",\"Fremont\",\"Gem\",\"Gem\",\"Gem\",\"Gooding\",\"Jefferson\",\"Jefferson\",\"Jefferson\",\"Jefferson\",\"Jerome\",\"Jerome\",\"Jerome\",\"Kootenai\",\"Kootenai\",\"Kootenai\",\"Kootenai\",\"Latah\",\"Latah\",\"Gooding\",\"Madison\",\"Madison\",\"Madison\",\"Madison\",\"Madison\",\"Madison\",\"Minidoka\",\"Minidoka\",\"Minidoka\",\"Minidoka\",\"Minidoka\",\"Franklin\",\"Payette\",\"Payette\",\"Payette\",\"Bannock\",\"Power\",\"Teton\",\"Twin Falls\",\"Twin Falls\",\"Twin Falls\",\"Twin Falls\",\"Twin Falls\",\"Twin Falls\",\"Twin Falls\",\"Twin Falls\",\"Twin Falls\",\"Twin Falls\",\"Twin Falls\",\"Twin Falls\",\"\",\"\",\"\",\"\",\"\",\"\",\"\",\"\",\"\",\"\",\"\",\"\",\"\",\"\",\"\",\"\",\"\",\"\",\"\",\"\",\"\",\"\",\"\",\"\",\"\"],\"values\":[182.5,169.0,160.5,243.0,206.0,169.5,151.5,349.0,173.0,242.0,188.0,226.0,257.0,542.0,324.0,283.5,469.0,237.5,266.5,223.0,327.5,256.0,163.5,464.5,240.5,895.0,532.0,511.5,314.0,363.5,1970.0,365.5,374.0,1265.0,560.5,468.0,391.0,830.5,1364.0,713.0,205.5,358.5,299.5,679.5,775.0,1080.5,345.0,347.0,420.5,348.0,424.5,1107.0,326.5,284.5,336.5,253.5,311.0,159.5,309.0,224.5,577.0,287.5,263.0,154.0,1516.0,694.0,401.5,763.0,863.0,882.0,698.0,211.0,240.5,1797.0,1870.5,685.0,1147.5,1391.5,1676.5,722.0,1025.5,461.0,859.5,245.0,457.0,528.0,487.5,621.0,304.5,428.5,1026.5,672.5,1031.5,303.5,366.5,295.5,195.0,186.0,151.0,298.0,958.0,781.5,433.0,360.0,908.0,218.0,155.5,212.5,210.5,250.5,600.5,191.0,312.0,806.0,190.0,443.0,804.0,625.5,281.5,647.5,598.5,159.5,570.5,729.5,360.5,510.0,1589.5,282.5,300.5,348.5,203.0,265.5,619.0,1194.0,1526.5,172.0,248.0,431.0,154.0,175.0,885.5,344.0,155.5,209.0,231.0,1427.5,820.0,1392.0,3127.0,961.0,1248.5,210.0,427.5,471.5,325.5,360.5,583.5,188.0,554.0,181.5,376.5,724.0,367.0,625.5,230.5,274.5,612.0,222.0,617.0,415.5,185.0,360.5,677.0,198.0,178.0,18848.0,8685.5,417.0,12824.0,577.5,8864.5,6213.5,996.0,2596.0,159.5,2171.0,2460.0,931.5,434.0,5475.5,851.0,1558.5,364.5,8976.0,2599.0,191.0,923.5,724.0,367.0,4595.5],\"type\":\"treemap\",\"root\":{\"color\":\"lightgrey\"}}],                        {\"template\":{\"data\":{\"bar\":[{\"error_x\":{\"color\":\"#2a3f5f\"},\"error_y\":{\"color\":\"#2a3f5f\"},\"marker\":{\"line\":{\"color\":\"#E5ECF6\",\"width\":0.5},\"pattern\":{\"fillmode\":\"overlay\",\"size\":10,\"solidity\":0.2}},\"type\":\"bar\"}],\"barpolar\":[{\"marker\":{\"line\":{\"color\":\"#E5ECF6\",\"width\":0.5},\"pattern\":{\"fillmode\":\"overlay\",\"size\":10,\"solidity\":0.2}},\"type\":\"barpolar\"}],\"carpet\":[{\"aaxis\":{\"endlinecolor\":\"#2a3f5f\",\"gridcolor\":\"white\",\"linecolor\":\"white\",\"minorgridcolor\":\"white\",\"startlinecolor\":\"#2a3f5f\"},\"baxis\":{\"endlinecolor\":\"#2a3f5f\",\"gridcolor\":\"white\",\"linecolor\":\"white\",\"minorgridcolor\":\"white\",\"startlinecolor\":\"#2a3f5f\"},\"type\":\"carpet\"}],\"choropleth\":[{\"colorbar\":{\"outlinewidth\":0,\"ticks\":\"\"},\"type\":\"choropleth\"}],\"contour\":[{\"colorbar\":{\"outlinewidth\":0,\"ticks\":\"\"},\"colorscale\":[[0.0,\"#0d0887\"],[0.1111111111111111,\"#46039f\"],[0.2222222222222222,\"#7201a8\"],[0.3333333333333333,\"#9c179e\"],[0.4444444444444444,\"#bd3786\"],[0.5555555555555556,\"#d8576b\"],[0.6666666666666666,\"#ed7953\"],[0.7777777777777778,\"#fb9f3a\"],[0.8888888888888888,\"#fdca26\"],[1.0,\"#f0f921\"]],\"type\":\"contour\"}],\"contourcarpet\":[{\"colorbar\":{\"outlinewidth\":0,\"ticks\":\"\"},\"type\":\"contourcarpet\"}],\"heatmap\":[{\"colorbar\":{\"outlinewidth\":0,\"ticks\":\"\"},\"colorscale\":[[0.0,\"#0d0887\"],[0.1111111111111111,\"#46039f\"],[0.2222222222222222,\"#7201a8\"],[0.3333333333333333,\"#9c179e\"],[0.4444444444444444,\"#bd3786\"],[0.5555555555555556,\"#d8576b\"],[0.6666666666666666,\"#ed7953\"],[0.7777777777777778,\"#fb9f3a\"],[0.8888888888888888,\"#fdca26\"],[1.0,\"#f0f921\"]],\"type\":\"heatmap\"}],\"heatmapgl\":[{\"colorbar\":{\"outlinewidth\":0,\"ticks\":\"\"},\"colorscale\":[[0.0,\"#0d0887\"],[0.1111111111111111,\"#46039f\"],[0.2222222222222222,\"#7201a8\"],[0.3333333333333333,\"#9c179e\"],[0.4444444444444444,\"#bd3786\"],[0.5555555555555556,\"#d8576b\"],[0.6666666666666666,\"#ed7953\"],[0.7777777777777778,\"#fb9f3a\"],[0.8888888888888888,\"#fdca26\"],[1.0,\"#f0f921\"]],\"type\":\"heatmapgl\"}],\"histogram\":[{\"marker\":{\"pattern\":{\"fillmode\":\"overlay\",\"size\":10,\"solidity\":0.2}},\"type\":\"histogram\"}],\"histogram2d\":[{\"colorbar\":{\"outlinewidth\":0,\"ticks\":\"\"},\"colorscale\":[[0.0,\"#0d0887\"],[0.1111111111111111,\"#46039f\"],[0.2222222222222222,\"#7201a8\"],[0.3333333333333333,\"#9c179e\"],[0.4444444444444444,\"#bd3786\"],[0.5555555555555556,\"#d8576b\"],[0.6666666666666666,\"#ed7953\"],[0.7777777777777778,\"#fb9f3a\"],[0.8888888888888888,\"#fdca26\"],[1.0,\"#f0f921\"]],\"type\":\"histogram2d\"}],\"histogram2dcontour\":[{\"colorbar\":{\"outlinewidth\":0,\"ticks\":\"\"},\"colorscale\":[[0.0,\"#0d0887\"],[0.1111111111111111,\"#46039f\"],[0.2222222222222222,\"#7201a8\"],[0.3333333333333333,\"#9c179e\"],[0.4444444444444444,\"#bd3786\"],[0.5555555555555556,\"#d8576b\"],[0.6666666666666666,\"#ed7953\"],[0.7777777777777778,\"#fb9f3a\"],[0.8888888888888888,\"#fdca26\"],[1.0,\"#f0f921\"]],\"type\":\"histogram2dcontour\"}],\"mesh3d\":[{\"colorbar\":{\"outlinewidth\":0,\"ticks\":\"\"},\"type\":\"mesh3d\"}],\"parcoords\":[{\"line\":{\"colorbar\":{\"outlinewidth\":0,\"ticks\":\"\"}},\"type\":\"parcoords\"}],\"pie\":[{\"automargin\":true,\"type\":\"pie\"}],\"scatter\":[{\"marker\":{\"colorbar\":{\"outlinewidth\":0,\"ticks\":\"\"}},\"type\":\"scatter\"}],\"scatter3d\":[{\"line\":{\"colorbar\":{\"outlinewidth\":0,\"ticks\":\"\"}},\"marker\":{\"colorbar\":{\"outlinewidth\":0,\"ticks\":\"\"}},\"type\":\"scatter3d\"}],\"scattercarpet\":[{\"marker\":{\"colorbar\":{\"outlinewidth\":0,\"ticks\":\"\"}},\"type\":\"scattercarpet\"}],\"scattergeo\":[{\"marker\":{\"colorbar\":{\"outlinewidth\":0,\"ticks\":\"\"}},\"type\":\"scattergeo\"}],\"scattergl\":[{\"marker\":{\"colorbar\":{\"outlinewidth\":0,\"ticks\":\"\"}},\"type\":\"scattergl\"}],\"scattermapbox\":[{\"marker\":{\"colorbar\":{\"outlinewidth\":0,\"ticks\":\"\"}},\"type\":\"scattermapbox\"}],\"scatterpolar\":[{\"marker\":{\"colorbar\":{\"outlinewidth\":0,\"ticks\":\"\"}},\"type\":\"scatterpolar\"}],\"scatterpolargl\":[{\"marker\":{\"colorbar\":{\"outlinewidth\":0,\"ticks\":\"\"}},\"type\":\"scatterpolargl\"}],\"scatterternary\":[{\"marker\":{\"colorbar\":{\"outlinewidth\":0,\"ticks\":\"\"}},\"type\":\"scatterternary\"}],\"surface\":[{\"colorbar\":{\"outlinewidth\":0,\"ticks\":\"\"},\"colorscale\":[[0.0,\"#0d0887\"],[0.1111111111111111,\"#46039f\"],[0.2222222222222222,\"#7201a8\"],[0.3333333333333333,\"#9c179e\"],[0.4444444444444444,\"#bd3786\"],[0.5555555555555556,\"#d8576b\"],[0.6666666666666666,\"#ed7953\"],[0.7777777777777778,\"#fb9f3a\"],[0.8888888888888888,\"#fdca26\"],[1.0,\"#f0f921\"]],\"type\":\"surface\"}],\"table\":[{\"cells\":{\"fill\":{\"color\":\"#EBF0F8\"},\"line\":{\"color\":\"white\"}},\"header\":{\"fill\":{\"color\":\"#C8D4E3\"},\"line\":{\"color\":\"white\"}},\"type\":\"table\"}]},\"layout\":{\"annotationdefaults\":{\"arrowcolor\":\"#2a3f5f\",\"arrowhead\":0,\"arrowwidth\":1},\"autotypenumbers\":\"strict\",\"coloraxis\":{\"colorbar\":{\"outlinewidth\":0,\"ticks\":\"\"}},\"colorscale\":{\"diverging\":[[0,\"#8e0152\"],[0.1,\"#c51b7d\"],[0.2,\"#de77ae\"],[0.3,\"#f1b6da\"],[0.4,\"#fde0ef\"],[0.5,\"#f7f7f7\"],[0.6,\"#e6f5d0\"],[0.7,\"#b8e186\"],[0.8,\"#7fbc41\"],[0.9,\"#4d9221\"],[1,\"#276419\"]],\"sequential\":[[0.0,\"#0d0887\"],[0.1111111111111111,\"#46039f\"],[0.2222222222222222,\"#7201a8\"],[0.3333333333333333,\"#9c179e\"],[0.4444444444444444,\"#bd3786\"],[0.5555555555555556,\"#d8576b\"],[0.6666666666666666,\"#ed7953\"],[0.7777777777777778,\"#fb9f3a\"],[0.8888888888888888,\"#fdca26\"],[1.0,\"#f0f921\"]],\"sequentialminus\":[[0.0,\"#0d0887\"],[0.1111111111111111,\"#46039f\"],[0.2222222222222222,\"#7201a8\"],[0.3333333333333333,\"#9c179e\"],[0.4444444444444444,\"#bd3786\"],[0.5555555555555556,\"#d8576b\"],[0.6666666666666666,\"#ed7953\"],[0.7777777777777778,\"#fb9f3a\"],[0.8888888888888888,\"#fdca26\"],[1.0,\"#f0f921\"]]},\"colorway\":[\"#636efa\",\"#EF553B\",\"#00cc96\",\"#ab63fa\",\"#FFA15A\",\"#19d3f3\",\"#FF6692\",\"#B6E880\",\"#FF97FF\",\"#FECB52\"],\"font\":{\"color\":\"#2a3f5f\"},\"geo\":{\"bgcolor\":\"white\",\"lakecolor\":\"white\",\"landcolor\":\"#E5ECF6\",\"showlakes\":true,\"showland\":true,\"subunitcolor\":\"white\"},\"hoverlabel\":{\"align\":\"left\"},\"hovermode\":\"closest\",\"mapbox\":{\"style\":\"light\"},\"paper_bgcolor\":\"white\",\"plot_bgcolor\":\"#E5ECF6\",\"polar\":{\"angularaxis\":{\"gridcolor\":\"white\",\"linecolor\":\"white\",\"ticks\":\"\"},\"bgcolor\":\"#E5ECF6\",\"radialaxis\":{\"gridcolor\":\"white\",\"linecolor\":\"white\",\"ticks\":\"\"}},\"scene\":{\"xaxis\":{\"backgroundcolor\":\"#E5ECF6\",\"gridcolor\":\"white\",\"gridwidth\":2,\"linecolor\":\"white\",\"showbackground\":true,\"ticks\":\"\",\"zerolinecolor\":\"white\"},\"yaxis\":{\"backgroundcolor\":\"#E5ECF6\",\"gridcolor\":\"white\",\"gridwidth\":2,\"linecolor\":\"white\",\"showbackground\":true,\"ticks\":\"\",\"zerolinecolor\":\"white\"},\"zaxis\":{\"backgroundcolor\":\"#E5ECF6\",\"gridcolor\":\"white\",\"gridwidth\":2,\"linecolor\":\"white\",\"showbackground\":true,\"ticks\":\"\",\"zerolinecolor\":\"white\"}},\"shapedefaults\":{\"line\":{\"color\":\"#2a3f5f\"}},\"ternary\":{\"aaxis\":{\"gridcolor\":\"white\",\"linecolor\":\"white\",\"ticks\":\"\"},\"baxis\":{\"gridcolor\":\"white\",\"linecolor\":\"white\",\"ticks\":\"\"},\"bgcolor\":\"#E5ECF6\",\"caxis\":{\"gridcolor\":\"white\",\"linecolor\":\"white\",\"ticks\":\"\"}},\"title\":{\"x\":0.05},\"xaxis\":{\"automargin\":true,\"gridcolor\":\"white\",\"linecolor\":\"white\",\"ticks\":\"\",\"title\":{\"standoff\":15},\"zerolinecolor\":\"white\",\"zerolinewidth\":2},\"yaxis\":{\"automargin\":true,\"gridcolor\":\"white\",\"linecolor\":\"white\",\"ticks\":\"\",\"title\":{\"standoff\":15},\"zerolinecolor\":\"white\",\"zerolinewidth\":2}}},\"coloraxis\":{\"colorbar\":{\"title\":{\"text\":\"has_temple\"}},\"colorscale\":[[0.0,\"#0d0887\"],[0.1111111111111111,\"#46039f\"],[0.2222222222222222,\"#7201a8\"],[0.3333333333333333,\"#9c179e\"],[0.4444444444444444,\"#bd3786\"],[0.5555555555555556,\"#d8576b\"],[0.6666666666666666,\"#ed7953\"],[0.7777777777777778,\"#fb9f3a\"],[0.8888888888888888,\"#fdca26\"],[1.0,\"#f0f921\"]],\"showscale\":false},\"legend\":{\"tracegroupgap\":0},\"margin\":{\"t\":60}},                        {\"responsive\": true}                    )                };                            </script>        </div>\n",
       "</body>\n",
       "</html>"
      ]
     },
     "metadata": {
      "application/vnd.databricks.v1+output": {
       "addedWidgets": {},
       "arguments": {},
       "data": "<html>\n<head><meta charset=\"utf-8\" /></head>\n<body>\n    <div>            <script src=\"https://cdnjs.cloudflare.com/ajax/libs/mathjax/2.7.5/MathJax.js?config=TeX-AMS-MML_SVG\"></script><script type=\"text/javascript\">if (window.MathJax) {MathJax.Hub.Config({SVG: {font: \"STIX-Web\"}});}</script>                <script type=\"text/javascript\">window.PlotlyConfig = {MathJaxConfig: 'local'};</script>\n        <script src=\"https://cdn.plot.ly/plotly-2.9.0.min.js\"></script>                <div id=\"38ea78dd-81b1-4cf0-9e75-e855bc793002\" class=\"plotly-graph-div\" style=\"height:100%; width:100%;\"></div>            <script type=\"text/javascript\">                                    window.PLOTLYENV=window.PLOTLYENV || {};                                    if (document.getElementById(\"38ea78dd-81b1-4cf0-9e75-e855bc793002\")) {                    Plotly.newPlot(                        \"38ea78dd-81b1-4cf0-9e75-e855bc793002\",                        [{\"branchvalues\":\"total\",\"customdata\":[[0.0],[0.0],[0.0],[0.0],[0.0],[0.0],[0.0],[0.0],[0.0],[0.0],[0.0],[0.0],[0.0],[0.0],[0.0],[0.0],[0.0],[0.0],[0.0],[0.0],[0.0],[0.0],[0.0],[0.0],[0.0],[0.0],[0.0],[0.0],[0.0],[0.0],[0.0],[0.0],[0.0],[0.0],[0.0],[0.0],[0.0],[1.0],[0.0],[0.0],[0.0],[0.0],[0.0],[0.0],[0.0],[0.0],[0.0],[0.0],[0.0],[0.0],[0.0],[1.0],[0.0],[0.0],[0.0],[0.0],[0.0],[0.0],[0.0],[0.0],[0.0],[0.0],[0.0],[0.0],[0.0],[0.0],[0.0],[0.0],[0.0],[0.0],[0.0],[0.0],[0.0],[0.0],[0.0],[0.0],[0.0],[0.0],[0.0],[0.0],[0.0],[0.0],[0.0],[0.0],[0.0],[0.0],[0.0],[0.0],[0.0],[1.0],[0.0],[0.0],[0.0],[0.0],[0.0],[0.0],[0.0],[0.0],[0.0],[0.0],[0.0],[0.0],[0.0],[0.0],[0.0],[0.0],[0.0],[0.0],[0.0],[0.0],[0.0],[0.0],[0.0],[0.0],[0.0],[0.0],[0.0],[0.0],[0.0],[0.0],[0.0],[0.0],[0.0],[0.0],[0.0],[0.0],[0.0],[0.0],[0.0],[0.0],[0.0],[0.0],[0.0],[0.0],[0.0],[0.0],[0.0],[0.0],[0.0],[0.0],[0.0],[0.0],[0.0],[0.0],[0.0],[0.0],[0.0],[0.0],[1.0],[0.0],[0.0],[0.0],[0.0],[0.0],[0.0],[0.0],[0.0],[0.0],[0.0],[0.0],[0.0],[0.0],[0.0],[0.0],[0.0],[0.0],[0.0],[0.0],[1.0],[0.0],[0.0],[0.0],[0.0],[0.0],[0.0],[0.044063030560271645],[0.12745380231420184],[0.0],[0.03341391141609482],[0.0],[0.0],[0.0],[0.0],[0.0],[0.0],[0.0],[0.0],[0.0],[0.0],[0.0],[0.0],[0.0],[0.0],[0.348373440285205],[0.0],[0.0],[0.0],[0.0],[0.0],[0.13426177782613427]],\"domain\":{\"x\":[0.0,1.0],\"y\":[0.0,1.0]},\"hovertemplate\":\"labels=%{label}<br>target=%{value}<br>parent=%{parent}<br>id=%{id}<br>has_temple=%{color}<extra></extra>\",\"ids\":[\"Ada/16001000304\",\"Ada/16001000400\",\"Ada/16001000702\",\"Ada/16001000802\",\"Ada/16001000803\",\"Ada/16001000900\",\"Ada/16001001100\",\"Ada/16001001202\",\"Ada/16001001400\",\"Ada/16001001700\",\"Ada/16001001800\",\"Ada/16001002000\",\"Ada/16001002100\",\"Ada/16001002221\",\"Ada/16001002222\",\"Ada/16001002223\",\"Ada/16001002224\",\"Ada/16001002302\",\"Ada/16001002310\",\"Ada/16001002313\",\"Ada/16001002410\",\"Ada/16001002411\",\"Ada/16001002412\",\"Ada/16001002413\",\"Ada/16001010100\",\"Ada/16001010201\",\"Ada/16001010221\",\"Ada/16001010223\",\"Ada/16001010224\",\"Ada/16001010225\",\"Ada/16001010313\",\"Ada/16001010321\",\"Ada/16001010322\",\"Ada/16001010331\",\"Ada/16001010332\",\"Ada/16001010333\",\"Ada/16001010334\",\"Ada/16001010335\",\"Ada/16001010401\",\"Ada/16001010402\",\"Ada/16001010501\",\"Ada/16001010503\",\"Ada/16001010504\",\"Bannock/16005000200\",\"Bannock/16005000300\",\"Bannock/16005000400\",\"Bannock/16005000500\",\"Bannock/16005000600\",\"Bannock/16005000700\",\"Bannock/16005000800\",\"Bannock/16005001000\",\"Bannock/16005001101\",\"Bannock/16005001102\",\"Bannock/16005001200\",\"Bannock/16005001300\",\"Bannock/16005001400\",\"Bannock/16005001500\",\"Bannock/16005001601\",\"Bannock/16005001602\",\"Bannock/16005001603\",\"Bannock/16005001700\",\"Franklin/16005001900\",\"Bear Lake/16007950100\",\"Bear Lake/16007950200\",\"Bingham/16011950100\",\"Bingham/16011950200\",\"Bingham/16011950300\",\"Bingham/16011950400\",\"Bingham/16011950500\",\"Bingham/16011950600\",\"Bingham/16011950700\",\"Blaine/16013960100\",\"Ada/16015950200\",\"Bonneville/16019970100\",\"Jefferson/16019970300\",\"Bingham/16019970401\",\"Bonneville/16019970402\",\"Bonneville/16019970403\",\"Bonneville/16019970501\",\"Bonneville/16019970502\",\"Bonneville/16019970503\",\"Bingham/16019970601\",\"Bonneville/16019970602\",\"Bonneville/16019970603\",\"Bingham/16019970700\",\"Bingham/16019970800\",\"Bingham/16019970900\",\"Bingham/16019971000\",\"Bingham/16019971100\",\"Bingham/16019971200\",\"Bingham/16019971301\",\"Bingham/16019971302\",\"Bingham/16019971400\",\"Bingham/16019971500\",\"Blaine/16023970100\",\"Canyon/16027020401\",\"Canyon/16027020402\",\"Canyon/16027020501\",\"Canyon/16027020601\",\"Canyon/16027020602\",\"Canyon/16027020901\",\"Canyon/16027020902\",\"Canyon/16027021001\",\"Canyon/16027021002\",\"Canyon/16027021100\",\"Canyon/16027021500\",\"Canyon/16027021600\",\"Canyon/16027021700\",\"Canyon/16027021800\",\"Canyon/16027021901\",\"Canyon/16027021903\",\"Owyhee/16027022300\",\"Ada/16027022400\",\"Caribou/16029960100\",\"Caribou/16029960200\",\"Cassia/16031950100\",\"Minidoka/16031950200\",\"Cassia/16031950300\",\"Cassia/16031950400\",\"Cassia/16031950500\",\"Cassia/16031950600\",\"Elmore/16039960200\",\"Franklin/16041970100\",\"Franklin/16041970200\",\"Fremont/16043970100\",\"Fremont/16043970200\",\"Fremont/16043970300\",\"Gem/16045960100\",\"Gem/16045960200\",\"Gem/16045960300\",\"Gooding/16047960100\",\"Jefferson/16051960100\",\"Jefferson/16051960200\",\"Jefferson/16051960300\",\"Jefferson/16051960400\",\"Jerome/16053970200\",\"Jerome/16053970300\",\"Jerome/16053970500\",\"Kootenai/16055000200\",\"Kootenai/16055000302\",\"Kootenai/16055000700\",\"Kootenai/16055001100\",\"Latah/16057005200\",\"Latah/16057005300\",\"Gooding/16063950100\",\"Madison/16065950100\",\"Madison/16065950200\",\"Madison/16065950301\",\"Madison/16065950302\",\"Madison/16065950400\",\"Madison/16065950500\",\"Minidoka/16067970100\",\"Minidoka/16067970200\",\"Minidoka/16067970300\",\"Minidoka/16067970400\",\"Minidoka/16067970500\",\"Franklin/16071960100\",\"Payette/16075960100\",\"Payette/16075960300\",\"Payette/16075960400\",\"Bannock/16077960100\",\"Power/16077960200\",\"Teton/16081960100\",\"Twin Falls/16083000200\",\"Twin Falls/16083000300\",\"Twin Falls/16083000600\",\"Twin Falls/16083000700\",\"Twin Falls/16083000800\",\"Twin Falls/16083000900\",\"Twin Falls/16083001000\",\"Twin Falls/16083001100\",\"Twin Falls/16083001200\",\"Twin Falls/16083001300\",\"Twin Falls/16083001400\",\"Twin Falls/16083001500\",\"Ada\",\"Bannock\",\"Bear Lake\",\"Bingham\",\"Blaine\",\"Bonneville\",\"Canyon\",\"Caribou\",\"Cassia\",\"Elmore\",\"Franklin\",\"Fremont\",\"Gem\",\"Gooding\",\"Jefferson\",\"Jerome\",\"Kootenai\",\"Latah\",\"Madison\",\"Minidoka\",\"Owyhee\",\"Payette\",\"Power\",\"Teton\",\"Twin Falls\"],\"labels\":[\"16001000304\",\"16001000400\",\"16001000702\",\"16001000802\",\"16001000803\",\"16001000900\",\"16001001100\",\"16001001202\",\"16001001400\",\"16001001700\",\"16001001800\",\"16001002000\",\"16001002100\",\"16001002221\",\"16001002222\",\"16001002223\",\"16001002224\",\"16001002302\",\"16001002310\",\"16001002313\",\"16001002410\",\"16001002411\",\"16001002412\",\"16001002413\",\"16001010100\",\"16001010201\",\"16001010221\",\"16001010223\",\"16001010224\",\"16001010225\",\"16001010313\",\"16001010321\",\"16001010322\",\"16001010331\",\"16001010332\",\"16001010333\",\"16001010334\",\"16001010335\",\"16001010401\",\"16001010402\",\"16001010501\",\"16001010503\",\"16001010504\",\"16005000200\",\"16005000300\",\"16005000400\",\"16005000500\",\"16005000600\",\"16005000700\",\"16005000800\",\"16005001000\",\"16005001101\",\"16005001102\",\"16005001200\",\"16005001300\",\"16005001400\",\"16005001500\",\"16005001601\",\"16005001602\",\"16005001603\",\"16005001700\",\"16005001900\",\"16007950100\",\"16007950200\",\"16011950100\",\"16011950200\",\"16011950300\",\"16011950400\",\"16011950500\",\"16011950600\",\"16011950700\",\"16013960100\",\"16015950200\",\"16019970100\",\"16019970300\",\"16019970401\",\"16019970402\",\"16019970403\",\"16019970501\",\"16019970502\",\"16019970503\",\"16019970601\",\"16019970602\",\"16019970603\",\"16019970700\",\"16019970800\",\"16019970900\",\"16019971000\",\"16019971100\",\"16019971200\",\"16019971301\",\"16019971302\",\"16019971400\",\"16019971500\",\"16023970100\",\"16027020401\",\"16027020402\",\"16027020501\",\"16027020601\",\"16027020602\",\"16027020901\",\"16027020902\",\"16027021001\",\"16027021002\",\"16027021100\",\"16027021500\",\"16027021600\",\"16027021700\",\"16027021800\",\"16027021901\",\"16027021903\",\"16027022300\",\"16027022400\",\"16029960100\",\"16029960200\",\"16031950100\",\"16031950200\",\"16031950300\",\"16031950400\",\"16031950500\",\"16031950600\",\"16039960200\",\"16041970100\",\"16041970200\",\"16043970100\",\"16043970200\",\"16043970300\",\"16045960100\",\"16045960200\",\"16045960300\",\"16047960100\",\"16051960100\",\"16051960200\",\"16051960300\",\"16051960400\",\"16053970200\",\"16053970300\",\"16053970500\",\"16055000200\",\"16055000302\",\"16055000700\",\"16055001100\",\"16057005200\",\"16057005300\",\"16063950100\",\"16065950100\",\"16065950200\",\"16065950301\",\"16065950302\",\"16065950400\",\"16065950500\",\"16067970100\",\"16067970200\",\"16067970300\",\"16067970400\",\"16067970500\",\"16071960100\",\"16075960100\",\"16075960300\",\"16075960400\",\"16077960100\",\"16077960200\",\"16081960100\",\"16083000200\",\"16083000300\",\"16083000600\",\"16083000700\",\"16083000800\",\"16083000900\",\"16083001000\",\"16083001100\",\"16083001200\",\"16083001300\",\"16083001400\",\"16083001500\",\"Ada\",\"Bannock\",\"Bear Lake\",\"Bingham\",\"Blaine\",\"Bonneville\",\"Canyon\",\"Caribou\",\"Cassia\",\"Elmore\",\"Franklin\",\"Fremont\",\"Gem\",\"Gooding\",\"Jefferson\",\"Jerome\",\"Kootenai\",\"Latah\",\"Madison\",\"Minidoka\",\"Owyhee\",\"Payette\",\"Power\",\"Teton\",\"Twin Falls\"],\"marker\":{\"coloraxis\":\"coloraxis\",\"colors\":[0.0,0.0,0.0,0.0,0.0,0.0,0.0,0.0,0.0,0.0,0.0,0.0,0.0,0.0,0.0,0.0,0.0,0.0,0.0,0.0,0.0,0.0,0.0,0.0,0.0,0.0,0.0,0.0,0.0,0.0,0.0,0.0,0.0,0.0,0.0,0.0,0.0,1.0,0.0,0.0,0.0,0.0,0.0,0.0,0.0,0.0,0.0,0.0,0.0,0.0,0.0,1.0,0.0,0.0,0.0,0.0,0.0,0.0,0.0,0.0,0.0,0.0,0.0,0.0,0.0,0.0,0.0,0.0,0.0,0.0,0.0,0.0,0.0,0.0,0.0,0.0,0.0,0.0,0.0,0.0,0.0,0.0,0.0,0.0,0.0,0.0,0.0,0.0,0.0,1.0,0.0,0.0,0.0,0.0,0.0,0.0,0.0,0.0,0.0,0.0,0.0,0.0,0.0,0.0,0.0,0.0,0.0,0.0,0.0,0.0,0.0,0.0,0.0,0.0,0.0,0.0,0.0,0.0,0.0,0.0,0.0,0.0,0.0,0.0,0.0,0.0,0.0,0.0,0.0,0.0,0.0,0.0,0.0,0.0,0.0,0.0,0.0,0.0,0.0,0.0,0.0,0.0,0.0,0.0,0.0,0.0,0.0,0.0,1.0,0.0,0.0,0.0,0.0,0.0,0.0,0.0,0.0,0.0,0.0,0.0,0.0,0.0,0.0,0.0,0.0,0.0,0.0,0.0,1.0,0.0,0.0,0.0,0.0,0.0,0.0,0.044063030560271645,0.12745380231420184,0.0,0.03341391141609482,0.0,0.0,0.0,0.0,0.0,0.0,0.0,0.0,0.0,0.0,0.0,0.0,0.0,0.0,0.348373440285205,0.0,0.0,0.0,0.0,0.0,0.13426177782613427]},\"name\":\"\",\"parents\":[\"Ada\",\"Ada\",\"Ada\",\"Ada\",\"Ada\",\"Ada\",\"Ada\",\"Ada\",\"Ada\",\"Ada\",\"Ada\",\"Ada\",\"Ada\",\"Ada\",\"Ada\",\"Ada\",\"Ada\",\"Ada\",\"Ada\",\"Ada\",\"Ada\",\"Ada\",\"Ada\",\"Ada\",\"Ada\",\"Ada\",\"Ada\",\"Ada\",\"Ada\",\"Ada\",\"Ada\",\"Ada\",\"Ada\",\"Ada\",\"Ada\",\"Ada\",\"Ada\",\"Ada\",\"Ada\",\"Ada\",\"Ada\",\"Ada\",\"Ada\",\"Bannock\",\"Bannock\",\"Bannock\",\"Bannock\",\"Bannock\",\"Bannock\",\"Bannock\",\"Bannock\",\"Bannock\",\"Bannock\",\"Bannock\",\"Bannock\",\"Bannock\",\"Bannock\",\"Bannock\",\"Bannock\",\"Bannock\",\"Bannock\",\"Franklin\",\"Bear Lake\",\"Bear Lake\",\"Bingham\",\"Bingham\",\"Bingham\",\"Bingham\",\"Bingham\",\"Bingham\",\"Bingham\",\"Blaine\",\"Ada\",\"Bonneville\",\"Jefferson\",\"Bingham\",\"Bonneville\",\"Bonneville\",\"Bonneville\",\"Bonneville\",\"Bonneville\",\"Bingham\",\"Bonneville\",\"Bonneville\",\"Bingham\",\"Bingham\",\"Bingham\",\"Bingham\",\"Bingham\",\"Bingham\",\"Bingham\",\"Bingham\",\"Bingham\",\"Bingham\",\"Blaine\",\"Canyon\",\"Canyon\",\"Canyon\",\"Canyon\",\"Canyon\",\"Canyon\",\"Canyon\",\"Canyon\",\"Canyon\",\"Canyon\",\"Canyon\",\"Canyon\",\"Canyon\",\"Canyon\",\"Canyon\",\"Canyon\",\"Owyhee\",\"Ada\",\"Caribou\",\"Caribou\",\"Cassia\",\"Minidoka\",\"Cassia\",\"Cassia\",\"Cassia\",\"Cassia\",\"Elmore\",\"Franklin\",\"Franklin\",\"Fremont\",\"Fremont\",\"Fremont\",\"Gem\",\"Gem\",\"Gem\",\"Gooding\",\"Jefferson\",\"Jefferson\",\"Jefferson\",\"Jefferson\",\"Jerome\",\"Jerome\",\"Jerome\",\"Kootenai\",\"Kootenai\",\"Kootenai\",\"Kootenai\",\"Latah\",\"Latah\",\"Gooding\",\"Madison\",\"Madison\",\"Madison\",\"Madison\",\"Madison\",\"Madison\",\"Minidoka\",\"Minidoka\",\"Minidoka\",\"Minidoka\",\"Minidoka\",\"Franklin\",\"Payette\",\"Payette\",\"Payette\",\"Bannock\",\"Power\",\"Teton\",\"Twin Falls\",\"Twin Falls\",\"Twin Falls\",\"Twin Falls\",\"Twin Falls\",\"Twin Falls\",\"Twin Falls\",\"Twin Falls\",\"Twin Falls\",\"Twin Falls\",\"Twin Falls\",\"Twin Falls\",\"\",\"\",\"\",\"\",\"\",\"\",\"\",\"\",\"\",\"\",\"\",\"\",\"\",\"\",\"\",\"\",\"\",\"\",\"\",\"\",\"\",\"\",\"\",\"\",\"\"],\"values\":[182.5,169.0,160.5,243.0,206.0,169.5,151.5,349.0,173.0,242.0,188.0,226.0,257.0,542.0,324.0,283.5,469.0,237.5,266.5,223.0,327.5,256.0,163.5,464.5,240.5,895.0,532.0,511.5,314.0,363.5,1970.0,365.5,374.0,1265.0,560.5,468.0,391.0,830.5,1364.0,713.0,205.5,358.5,299.5,679.5,775.0,1080.5,345.0,347.0,420.5,348.0,424.5,1107.0,326.5,284.5,336.5,253.5,311.0,159.5,309.0,224.5,577.0,287.5,263.0,154.0,1516.0,694.0,401.5,763.0,863.0,882.0,698.0,211.0,240.5,1797.0,1870.5,685.0,1147.5,1391.5,1676.5,722.0,1025.5,461.0,859.5,245.0,457.0,528.0,487.5,621.0,304.5,428.5,1026.5,672.5,1031.5,303.5,366.5,295.5,195.0,186.0,151.0,298.0,958.0,781.5,433.0,360.0,908.0,218.0,155.5,212.5,210.5,250.5,600.5,191.0,312.0,806.0,190.0,443.0,804.0,625.5,281.5,647.5,598.5,159.5,570.5,729.5,360.5,510.0,1589.5,282.5,300.5,348.5,203.0,265.5,619.0,1194.0,1526.5,172.0,248.0,431.0,154.0,175.0,885.5,344.0,155.5,209.0,231.0,1427.5,820.0,1392.0,3127.0,961.0,1248.5,210.0,427.5,471.5,325.5,360.5,583.5,188.0,554.0,181.5,376.5,724.0,367.0,625.5,230.5,274.5,612.0,222.0,617.0,415.5,185.0,360.5,677.0,198.0,178.0,18848.0,8685.5,417.0,12824.0,577.5,8864.5,6213.5,996.0,2596.0,159.5,2171.0,2460.0,931.5,434.0,5475.5,851.0,1558.5,364.5,8976.0,2599.0,191.0,923.5,724.0,367.0,4595.5],\"type\":\"treemap\",\"root\":{\"color\":\"lightgrey\"}}],                        {\"template\":{\"data\":{\"bar\":[{\"error_x\":{\"color\":\"#2a3f5f\"},\"error_y\":{\"color\":\"#2a3f5f\"},\"marker\":{\"line\":{\"color\":\"#E5ECF6\",\"width\":0.5},\"pattern\":{\"fillmode\":\"overlay\",\"size\":10,\"solidity\":0.2}},\"type\":\"bar\"}],\"barpolar\":[{\"marker\":{\"line\":{\"color\":\"#E5ECF6\",\"width\":0.5},\"pattern\":{\"fillmode\":\"overlay\",\"size\":10,\"solidity\":0.2}},\"type\":\"barpolar\"}],\"carpet\":[{\"aaxis\":{\"endlinecolor\":\"#2a3f5f\",\"gridcolor\":\"white\",\"linecolor\":\"white\",\"minorgridcolor\":\"white\",\"startlinecolor\":\"#2a3f5f\"},\"baxis\":{\"endlinecolor\":\"#2a3f5f\",\"gridcolor\":\"white\",\"linecolor\":\"white\",\"minorgridcolor\":\"white\",\"startlinecolor\":\"#2a3f5f\"},\"type\":\"carpet\"}],\"choropleth\":[{\"colorbar\":{\"outlinewidth\":0,\"ticks\":\"\"},\"type\":\"choropleth\"}],\"contour\":[{\"colorbar\":{\"outlinewidth\":0,\"ticks\":\"\"},\"colorscale\":[[0.0,\"#0d0887\"],[0.1111111111111111,\"#46039f\"],[0.2222222222222222,\"#7201a8\"],[0.3333333333333333,\"#9c179e\"],[0.4444444444444444,\"#bd3786\"],[0.5555555555555556,\"#d8576b\"],[0.6666666666666666,\"#ed7953\"],[0.7777777777777778,\"#fb9f3a\"],[0.8888888888888888,\"#fdca26\"],[1.0,\"#f0f921\"]],\"type\":\"contour\"}],\"contourcarpet\":[{\"colorbar\":{\"outlinewidth\":0,\"ticks\":\"\"},\"type\":\"contourcarpet\"}],\"heatmap\":[{\"colorbar\":{\"outlinewidth\":0,\"ticks\":\"\"},\"colorscale\":[[0.0,\"#0d0887\"],[0.1111111111111111,\"#46039f\"],[0.2222222222222222,\"#7201a8\"],[0.3333333333333333,\"#9c179e\"],[0.4444444444444444,\"#bd3786\"],[0.5555555555555556,\"#d8576b\"],[0.6666666666666666,\"#ed7953\"],[0.7777777777777778,\"#fb9f3a\"],[0.8888888888888888,\"#fdca26\"],[1.0,\"#f0f921\"]],\"type\":\"heatmap\"}],\"heatmapgl\":[{\"colorbar\":{\"outlinewidth\":0,\"ticks\":\"\"},\"colorscale\":[[0.0,\"#0d0887\"],[0.1111111111111111,\"#46039f\"],[0.2222222222222222,\"#7201a8\"],[0.3333333333333333,\"#9c179e\"],[0.4444444444444444,\"#bd3786\"],[0.5555555555555556,\"#d8576b\"],[0.6666666666666666,\"#ed7953\"],[0.7777777777777778,\"#fb9f3a\"],[0.8888888888888888,\"#fdca26\"],[1.0,\"#f0f921\"]],\"type\":\"heatmapgl\"}],\"histogram\":[{\"marker\":{\"pattern\":{\"fillmode\":\"overlay\",\"size\":10,\"solidity\":0.2}},\"type\":\"histogram\"}],\"histogram2d\":[{\"colorbar\":{\"outlinewidth\":0,\"ticks\":\"\"},\"colorscale\":[[0.0,\"#0d0887\"],[0.1111111111111111,\"#46039f\"],[0.2222222222222222,\"#7201a8\"],[0.3333333333333333,\"#9c179e\"],[0.4444444444444444,\"#bd3786\"],[0.5555555555555556,\"#d8576b\"],[0.6666666666666666,\"#ed7953\"],[0.7777777777777778,\"#fb9f3a\"],[0.8888888888888888,\"#fdca26\"],[1.0,\"#f0f921\"]],\"type\":\"histogram2d\"}],\"histogram2dcontour\":[{\"colorbar\":{\"outlinewidth\":0,\"ticks\":\"\"},\"colorscale\":[[0.0,\"#0d0887\"],[0.1111111111111111,\"#46039f\"],[0.2222222222222222,\"#7201a8\"],[0.3333333333333333,\"#9c179e\"],[0.4444444444444444,\"#bd3786\"],[0.5555555555555556,\"#d8576b\"],[0.6666666666666666,\"#ed7953\"],[0.7777777777777778,\"#fb9f3a\"],[0.8888888888888888,\"#fdca26\"],[1.0,\"#f0f921\"]],\"type\":\"histogram2dcontour\"}],\"mesh3d\":[{\"colorbar\":{\"outlinewidth\":0,\"ticks\":\"\"},\"type\":\"mesh3d\"}],\"parcoords\":[{\"line\":{\"colorbar\":{\"outlinewidth\":0,\"ticks\":\"\"}},\"type\":\"parcoords\"}],\"pie\":[{\"automargin\":true,\"type\":\"pie\"}],\"scatter\":[{\"marker\":{\"colorbar\":{\"outlinewidth\":0,\"ticks\":\"\"}},\"type\":\"scatter\"}],\"scatter3d\":[{\"line\":{\"colorbar\":{\"outlinewidth\":0,\"ticks\":\"\"}},\"marker\":{\"colorbar\":{\"outlinewidth\":0,\"ticks\":\"\"}},\"type\":\"scatter3d\"}],\"scattercarpet\":[{\"marker\":{\"colorbar\":{\"outlinewidth\":0,\"ticks\":\"\"}},\"type\":\"scattercarpet\"}],\"scattergeo\":[{\"marker\":{\"colorbar\":{\"outlinewidth\":0,\"ticks\":\"\"}},\"type\":\"scattergeo\"}],\"scattergl\":[{\"marker\":{\"colorbar\":{\"outlinewidth\":0,\"ticks\":\"\"}},\"type\":\"scattergl\"}],\"scattermapbox\":[{\"marker\":{\"colorbar\":{\"outlinewidth\":0,\"ticks\":\"\"}},\"type\":\"scattermapbox\"}],\"scatterpolar\":[{\"marker\":{\"colorbar\":{\"outlinewidth\":0,\"ticks\":\"\"}},\"type\":\"scatterpolar\"}],\"scatterpolargl\":[{\"marker\":{\"colorbar\":{\"outlinewidth\":0,\"ticks\":\"\"}},\"type\":\"scatterpolargl\"}],\"scatterternary\":[{\"marker\":{\"colorbar\":{\"outlinewidth\":0,\"ticks\":\"\"}},\"type\":\"scatterternary\"}],\"surface\":[{\"colorbar\":{\"outlinewidth\":0,\"ticks\":\"\"},\"colorscale\":[[0.0,\"#0d0887\"],[0.1111111111111111,\"#46039f\"],[0.2222222222222222,\"#7201a8\"],[0.3333333333333333,\"#9c179e\"],[0.4444444444444444,\"#bd3786\"],[0.5555555555555556,\"#d8576b\"],[0.6666666666666666,\"#ed7953\"],[0.7777777777777778,\"#fb9f3a\"],[0.8888888888888888,\"#fdca26\"],[1.0,\"#f0f921\"]],\"type\":\"surface\"}],\"table\":[{\"cells\":{\"fill\":{\"color\":\"#EBF0F8\"},\"line\":{\"color\":\"white\"}},\"header\":{\"fill\":{\"color\":\"#C8D4E3\"},\"line\":{\"color\":\"white\"}},\"type\":\"table\"}]},\"layout\":{\"annotationdefaults\":{\"arrowcolor\":\"#2a3f5f\",\"arrowhead\":0,\"arrowwidth\":1},\"autotypenumbers\":\"strict\",\"coloraxis\":{\"colorbar\":{\"outlinewidth\":0,\"ticks\":\"\"}},\"colorscale\":{\"diverging\":[[0,\"#8e0152\"],[0.1,\"#c51b7d\"],[0.2,\"#de77ae\"],[0.3,\"#f1b6da\"],[0.4,\"#fde0ef\"],[0.5,\"#f7f7f7\"],[0.6,\"#e6f5d0\"],[0.7,\"#b8e186\"],[0.8,\"#7fbc41\"],[0.9,\"#4d9221\"],[1,\"#276419\"]],\"sequential\":[[0.0,\"#0d0887\"],[0.1111111111111111,\"#46039f\"],[0.2222222222222222,\"#7201a8\"],[0.3333333333333333,\"#9c179e\"],[0.4444444444444444,\"#bd3786\"],[0.5555555555555556,\"#d8576b\"],[0.6666666666666666,\"#ed7953\"],[0.7777777777777778,\"#fb9f3a\"],[0.8888888888888888,\"#fdca26\"],[1.0,\"#f0f921\"]],\"sequentialminus\":[[0.0,\"#0d0887\"],[0.1111111111111111,\"#46039f\"],[0.2222222222222222,\"#7201a8\"],[0.3333333333333333,\"#9c179e\"],[0.4444444444444444,\"#bd3786\"],[0.5555555555555556,\"#d8576b\"],[0.6666666666666666,\"#ed7953\"],[0.7777777777777778,\"#fb9f3a\"],[0.8888888888888888,\"#fdca26\"],[1.0,\"#f0f921\"]]},\"colorway\":[\"#636efa\",\"#EF553B\",\"#00cc96\",\"#ab63fa\",\"#FFA15A\",\"#19d3f3\",\"#FF6692\",\"#B6E880\",\"#FF97FF\",\"#FECB52\"],\"font\":{\"color\":\"#2a3f5f\"},\"geo\":{\"bgcolor\":\"white\",\"lakecolor\":\"white\",\"landcolor\":\"#E5ECF6\",\"showlakes\":true,\"showland\":true,\"subunitcolor\":\"white\"},\"hoverlabel\":{\"align\":\"left\"},\"hovermode\":\"closest\",\"mapbox\":{\"style\":\"light\"},\"paper_bgcolor\":\"white\",\"plot_bgcolor\":\"#E5ECF6\",\"polar\":{\"angularaxis\":{\"gridcolor\":\"white\",\"linecolor\":\"white\",\"ticks\":\"\"},\"bgcolor\":\"#E5ECF6\",\"radialaxis\":{\"gridcolor\":\"white\",\"linecolor\":\"white\",\"ticks\":\"\"}},\"scene\":{\"xaxis\":{\"backgroundcolor\":\"#E5ECF6\",\"gridcolor\":\"white\",\"gridwidth\":2,\"linecolor\":\"white\",\"showbackground\":true,\"ticks\":\"\",\"zerolinecolor\":\"white\"},\"yaxis\":{\"backgroundcolor\":\"#E5ECF6\",\"gridcolor\":\"white\",\"gridwidth\":2,\"linecolor\":\"white\",\"showbackground\":true,\"ticks\":\"\",\"zerolinecolor\":\"white\"},\"zaxis\":{\"backgroundcolor\":\"#E5ECF6\",\"gridcolor\":\"white\",\"gridwidth\":2,\"linecolor\":\"white\",\"showbackground\":true,\"ticks\":\"\",\"zerolinecolor\":\"white\"}},\"shapedefaults\":{\"line\":{\"color\":\"#2a3f5f\"}},\"ternary\":{\"aaxis\":{\"gridcolor\":\"white\",\"linecolor\":\"white\",\"ticks\":\"\"},\"baxis\":{\"gridcolor\":\"white\",\"linecolor\":\"white\",\"ticks\":\"\"},\"bgcolor\":\"#E5ECF6\",\"caxis\":{\"gridcolor\":\"white\",\"linecolor\":\"white\",\"ticks\":\"\"}},\"title\":{\"x\":0.05},\"xaxis\":{\"automargin\":true,\"gridcolor\":\"white\",\"linecolor\":\"white\",\"ticks\":\"\",\"title\":{\"standoff\":15},\"zerolinecolor\":\"white\",\"zerolinewidth\":2},\"yaxis\":{\"automargin\":true,\"gridcolor\":\"white\",\"linecolor\":\"white\",\"ticks\":\"\",\"title\":{\"standoff\":15},\"zerolinecolor\":\"white\",\"zerolinewidth\":2}}},\"coloraxis\":{\"colorbar\":{\"title\":{\"text\":\"has_temple\"}},\"colorscale\":[[0.0,\"#0d0887\"],[0.1111111111111111,\"#46039f\"],[0.2222222222222222,\"#7201a8\"],[0.3333333333333333,\"#9c179e\"],[0.4444444444444444,\"#bd3786\"],[0.5555555555555556,\"#d8576b\"],[0.6666666666666666,\"#ed7953\"],[0.7777777777777778,\"#fb9f3a\"],[0.8888888888888888,\"#fdca26\"],[1.0,\"#f0f921\"]],\"showscale\":false},\"legend\":{\"tracegroupgap\":0},\"margin\":{\"t\":60}},                        {\"responsive\": true}                    )                };                            </script>        </div>\n</body>\n</html>",
       "datasetInfos": [],
       "metadata": {},
       "removedWidgets": [],
       "textData": null,
       "type": "htmlSandbox"
      }
     },
     "output_type": "display_data"
    }
   ],
   "source": [
    "with_temple = tract_target.select(\"*\").filter(\"tract IN (16019971200, 16001001900, 16083000900, 16065950302, 16001010335, 16005001101)\").withColumn(\"has_temple\", F.lit(1))\n",
    "spark.sql(\"USE safegraph\")\n",
    "tract_table = spark.sql(\"SELECT tractcode, county_name FROM tract_table\")\n",
    "tree_map = tract_target.join(with_temple, on=[\"tract\", \"target\"], how=\"left\").fillna(0).filter(F.col(\"target\") > 150).join(tract_table, on=tract_table[\"tractcode\"] == tract_target[\"tract\"], how=\"left\")\n",
    "\n",
    "tree_map_pd = tree_map.na.drop().toPandas()\n",
    "fig = px.treemap(tree_map_pd, color=\"has_temple\", path=[\"county_name\", \"tract\"], values=\"target\")\n",
    "fig.update_traces(root_color=\"lightgrey\")\n",
    "fig.update(layout_coloraxis_showscale=False)\n",
    "fig.show()"
   ]
  }
 ],
 "metadata": {
  "application/vnd.databricks.v1+notebook": {
   "dashboards": [],
   "language": "python",
   "notebookMetadata": {
    "pythonIndentUnit": 4
   },
   "notebookName": "munging_final",
   "widgets": {}
  }
 },
 "nbformat": 4,
 "nbformat_minor": 0
}

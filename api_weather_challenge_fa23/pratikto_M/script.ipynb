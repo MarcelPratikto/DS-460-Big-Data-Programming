{
 "cells": [
  {
   "cell_type": "markdown",
   "metadata": {
    "application/vnd.databricks.v1+cell": {
     "cellMetadata": {
      "byteLimit": 2048000,
      "rowLimit": 10000
     },
     "inputWidgets": {},
     "nuid": "12b20f08-52c2-41d4-aa0b-dd27aef46a2a",
     "showTitle": false,
     "title": ""
    }
   },
   "source": [
    "# Challenge Details\n",
    "You are expected to complete the following.\n",
    "You will complete a pull request for the items and submit your work to this repository.\n",
    "In addition, you will submit your .html/.pdf file in Canvas.\n",
    "\n",
    "1. Select a latitude and longitude within your hometown (use the location of a family friend if you are not from the US).\n",
    "    \n",
    "    \n",
    "    Latitude:   39.952583\n",
    "    \n",
    "    \n",
    "    Longitude:  -75.165222\n",
    "\n",
    "2. Pull data from the Daily Forecast 16-day API for the CBG for the next 16 days and print a snippet of the JSON file in your notebook.\n",
    "3. Pull data from the history API for seven days in the past year for the same CBG and print a snippet of the JSON file in your notebook.\n",
    "4. Store the information from each API request in a Spark DataFrame and display your dataframe in your notebook (see the image below and the table schema for examples of how your table should look).\n",
    "5. Use the data from the created tables to create two visualizations (You can't use bar charts).\n",
    "6. Use the data from the created tables to create two summary tables (tables you would see in a report).\n",
    "7. A short document that explains the differences between REST and GraphQL APIs (2-3 paragraphs)."
   ]
  },
  {
   "cell_type": "code",
   "execution_count": 0,
   "metadata": {
    "application/vnd.databricks.v1+cell": {
     "cellMetadata": {
      "byteLimit": 2048000,
      "rowLimit": 10000
     },
     "inputWidgets": {},
     "nuid": "12cca796-743c-4992-94ce-441e78a28fae",
     "showTitle": false,
     "title": ""
    }
   },
   "outputs": [],
   "source": [
    "# imports\n",
    "import pandas as pd\n",
    "\n",
    "import requests\n",
    "import json\n",
    "import os\n",
    "import datetime\n",
    "import time\n",
    "\n",
    "import pyspark.sql.functions as F"
   ]
  },
  {
   "cell_type": "code",
   "execution_count": 0,
   "metadata": {
    "application/vnd.databricks.v1+cell": {
     "cellMetadata": {
      "byteLimit": 2048000,
      "rowLimit": 10000
     },
     "inputWidgets": {},
     "nuid": "6c3ff28c-af80-43c8-ba63-211db59ef332",
     "showTitle": false,
     "title": ""
    }
   },
   "outputs": [],
   "source": [
    "%run ./keys"
   ]
  },
  {
   "cell_type": "markdown",
   "metadata": {
    "application/vnd.databricks.v1+cell": {
     "cellMetadata": {
      "byteLimit": 2048000,
      "rowLimit": 10000
     },
     "inputWidgets": {},
     "nuid": "957211bb-01bf-4141-a24c-c5fb8dce8590",
     "showTitle": false,
     "title": ""
    }
   },
   "source": [
    "### 1. Select a latitude and longitude within your hometown I chose Philadelphia for this project"
   ]
  },
  {
   "cell_type": "code",
   "execution_count": 0,
   "metadata": {
    "application/vnd.databricks.v1+cell": {
     "cellMetadata": {
      "byteLimit": 2048000,
      "rowLimit": 10000
     },
     "inputWidgets": {},
     "nuid": "8ebfa416-a8dd-44f6-befc-bce884a94f14",
     "showTitle": false,
     "title": ""
    }
   },
   "outputs": [],
   "source": [
    "# the above cell runs the keys file to use our api_key\n",
    "# we separated so that clients don't see our api_key\n",
    "api_key = ow_key\n",
    "\n",
    "# Select a latitude and longitude within your hometown\n",
    "# I chose Philadelphia for this project\n",
    "lat = 39.952583\n",
    "lon = -75.165222"
   ]
  },
  {
   "cell_type": "markdown",
   "metadata": {
    "application/vnd.databricks.v1+cell": {
     "cellMetadata": {
      "byteLimit": 2048000,
      "rowLimit": 10000
     },
     "inputWidgets": {},
     "nuid": "59df8369-a4ed-42f2-9363-ae18e15cf743",
     "showTitle": false,
     "title": ""
    }
   },
   "source": [
    "### 2. Pull data from the Daily Forecast 16-day API for the CBG for the next 16 days and print a snippet of the JSON file in your notebook."
   ]
  },
  {
   "cell_type": "code",
   "execution_count": 0,
   "metadata": {
    "application/vnd.databricks.v1+cell": {
     "cellMetadata": {
      "byteLimit": 2048000,
      "rowLimit": 10000
     },
     "inputWidgets": {},
     "nuid": "8444aa8d-7c6e-45c4-b6a1-3063a0714fdd",
     "showTitle": false,
     "title": ""
    }
   },
   "outputs": [],
   "source": [
    "days = 16\n",
    "days_url = f\"https://api.openweathermap.org/data/2.5/forecast/daily?lat={lat}&lon={lon}&cnt={days}&appid={api_key}\""
   ]
  },
  {
   "cell_type": "code",
   "execution_count": 0,
   "metadata": {
    "application/vnd.databricks.v1+cell": {
     "cellMetadata": {
      "byteLimit": 2048000,
      "rowLimit": 10000
     },
     "inputWidgets": {},
     "nuid": "6f0da3e2-300d-4e10-9920-6b9ddb013775",
     "showTitle": false,
     "title": ""
    }
   },
   "outputs": [
    {
     "output_type": "execute_result",
     "data": {
      "text/plain": [
       "<Response [200]>"
      ]
     },
     "execution_count": 5,
     "metadata": {},
     "output_type": "execute_result"
    }
   ],
   "source": [
    "# response: 200 is good, 400 is bad\n",
    "response = requests.get(days_url)\n",
    "response"
   ]
  },
  {
   "cell_type": "code",
   "execution_count": 0,
   "metadata": {
    "application/vnd.databricks.v1+cell": {
     "cellMetadata": {
      "byteLimit": 2048000,
      "rowLimit": 10000
     },
     "inputWidgets": {},
     "nuid": "4c8e7717-8509-432f-8dcf-30b180c7fda2",
     "showTitle": false,
     "title": ""
    }
   },
   "outputs": [
    {
     "output_type": "execute_result",
     "data": {
      "text/plain": [
       "{'city': {'id': 4560349,\n",
       "  'name': 'Philadelphia',\n",
       "  'coord': {'lon': -75.1652, 'lat': 39.9526},\n",
       "  'country': 'US',\n",
       "  'population': 1526006,\n",
       "  'timezone': -14400},\n",
       " 'cod': '200',\n",
       " 'message': 4.2569978,\n",
       " 'cnt': 16,\n",
       " 'list': [{'dt': 1697385600,\n",
       "   'sunrise': 1697368235,\n",
       "   'sunset': 1697408522,\n",
       "   'temp': {'day': 288.35,\n",
       "    'min': 282.54,\n",
       "    'max': 289.02,\n",
       "    'night': 283.17,\n",
       "    'eve': 287.12,\n",
       "    'morn': 283.26},\n",
       "   'feels_like': {'day': 287.13,\n",
       "    'night': 281.98,\n",
       "    'eve': 286.22,\n",
       "    'morn': 282.49},\n",
       "   'pressure': 1002,\n",
       "   'humidity': 46,\n",
       "   'weather': [{'id': 501,\n",
       "     'main': 'Rain',\n",
       "     'description': 'moderate rain',\n",
       "     'icon': '10d'}],\n",
       "   'speed': 6.28,\n",
       "   'deg': 318,\n",
       "   'gust': 12.33,\n",
       "   'clouds': 9,\n",
       "   'pop': 1,\n",
       "   'rain': 2.48},\n",
       "  {'dt': 1697472000,\n",
       "   'sunrise': 1697454698,\n",
       "   'sunset': 1697494833,\n",
       "   'temp': {'day': 285.24,\n",
       "    'min': 281.12,\n",
       "    'max': 288.12,\n",
       "    'night': 283.48,\n",
       "    'eve': 286.86,\n",
       "    'morn': 281.12},\n",
       "   'feels_like': {'day': 284.23,\n",
       "    'night': 282.79,\n",
       "    'eve': 285.98,\n",
       "    'morn': 278.87},\n",
       "   'pressure': 1005,\n",
       "   'humidity': 66,\n",
       "   'weather': [{'id': 500,\n",
       "     'main': 'Rain',\n",
       "     'description': 'light rain',\n",
       "     'icon': '10d'}],\n",
       "   'speed': 3.86,\n",
       "   'deg': 302,\n",
       "   'gust': 10.11,\n",
       "   'clouds': 100,\n",
       "   'pop': 0.37,\n",
       "   'rain': 0.5},\n",
       "  {'dt': 1697558400,\n",
       "   'sunrise': 1697541161,\n",
       "   'sunset': 1697581145,\n",
       "   'temp': {'day': 288.83,\n",
       "    'min': 281.5,\n",
       "    'max': 290.05,\n",
       "    'night': 285.66,\n",
       "    'eve': 288.15,\n",
       "    'morn': 281.68},\n",
       "   'feels_like': {'day': 287.71,\n",
       "    'night': 284.85,\n",
       "    'eve': 287.17,\n",
       "    'morn': 280.6},\n",
       "   'pressure': 1013,\n",
       "   'humidity': 48,\n",
       "   'weather': [{'id': 802,\n",
       "     'main': 'Clouds',\n",
       "     'description': 'scattered clouds',\n",
       "     'icon': '03d'}],\n",
       "   'speed': 3.05,\n",
       "   'deg': 331,\n",
       "   'gust': 6.99,\n",
       "   'clouds': 29,\n",
       "   'pop': 0.11},\n",
       "  {'dt': 1697644800,\n",
       "   'sunrise': 1697627625,\n",
       "   'sunset': 1697667457,\n",
       "   'temp': {'day': 287.32,\n",
       "    'min': 285.35,\n",
       "    'max': 291.72,\n",
       "    'night': 286.53,\n",
       "    'eve': 291.72,\n",
       "    'morn': 285.52},\n",
       "   'feels_like': {'day': 286.41,\n",
       "    'night': 285.52,\n",
       "    'eve': 290.62,\n",
       "    'morn': 284.61},\n",
       "   'pressure': 1022,\n",
       "   'humidity': 62,\n",
       "   'weather': [{'id': 804,\n",
       "     'main': 'Clouds',\n",
       "     'description': 'overcast clouds',\n",
       "     'icon': '04d'}],\n",
       "   'speed': 1.96,\n",
       "   'deg': 181,\n",
       "   'gust': 4.38,\n",
       "   'clouds': 100,\n",
       "   'pop': 0},\n",
       "  {'dt': 1697731200,\n",
       "   'sunrise': 1697714089,\n",
       "   'sunset': 1697753770,\n",
       "   'temp': {'day': 290.98,\n",
       "    'min': 284.66,\n",
       "    'max': 293.97,\n",
       "    'night': 288.37,\n",
       "    'eve': 293.1,\n",
       "    'morn': 284.66},\n",
       "   'feels_like': {'day': 290.1, 'night': 287.8, 'eve': 292.35, 'morn': 283.8},\n",
       "   'pressure': 1024,\n",
       "   'humidity': 49,\n",
       "   'weather': [{'id': 800,\n",
       "     'main': 'Clear',\n",
       "     'description': 'sky is clear',\n",
       "     'icon': '01d'}],\n",
       "   'speed': 4.29,\n",
       "   'deg': 196,\n",
       "   'gust': 11.93,\n",
       "   'clouds': 4,\n",
       "   'pop': 0},\n",
       "  {'dt': 1697817600,\n",
       "   'sunrise': 1697800554,\n",
       "   'sunset': 1697840085,\n",
       "   'temp': {'day': 291.31,\n",
       "    'min': 287.78,\n",
       "    'max': 294.36,\n",
       "    'night': 287.8,\n",
       "    'eve': 291.09,\n",
       "    'morn': 287.85},\n",
       "   'feels_like': {'day': 290.85,\n",
       "    'night': 287.75,\n",
       "    'eve': 290.79,\n",
       "    'morn': 287.26},\n",
       "   'pressure': 1014,\n",
       "   'humidity': 64,\n",
       "   'weather': [{'id': 500,\n",
       "     'main': 'Rain',\n",
       "     'description': 'light rain',\n",
       "     'icon': '10d'}],\n",
       "   'speed': 5.6,\n",
       "   'deg': 190,\n",
       "   'gust': 12.3,\n",
       "   'clouds': 100,\n",
       "   'pop': 0.36,\n",
       "   'rain': 0.24},\n",
       "  {'dt': 1697904000,\n",
       "   'sunrise': 1697887019,\n",
       "   'sunset': 1697926400,\n",
       "   'temp': {'day': 288.74,\n",
       "    'min': 285.92,\n",
       "    'max': 290.67,\n",
       "    'night': 285.92,\n",
       "    'eve': 288.89,\n",
       "    'morn': 288.04},\n",
       "   'feels_like': {'day': 288.73,\n",
       "    'night': 285.21,\n",
       "    'eve': 288.53,\n",
       "    'morn': 288.07},\n",
       "   'pressure': 995,\n",
       "   'humidity': 91,\n",
       "   'weather': [{'id': 500,\n",
       "     'main': 'Rain',\n",
       "     'description': 'light rain',\n",
       "     'icon': '10d'}],\n",
       "   'speed': 6.74,\n",
       "   'deg': 282,\n",
       "   'gust': 14.38,\n",
       "   'clouds': 100,\n",
       "   'pop': 1,\n",
       "   'rain': 5.8},\n",
       "  {'dt': 1697990400,\n",
       "   'sunrise': 1697973484,\n",
       "   'sunset': 1698012717,\n",
       "   'temp': {'day': 286.18,\n",
       "    'min': 281.95,\n",
       "    'max': 286.86,\n",
       "    'night': 281.95,\n",
       "    'eve': 285.81,\n",
       "    'morn': 284.87},\n",
       "   'feels_like': {'day': 284.97, 'night': 279.12, 'eve': 284.31, 'morn': 284},\n",
       "   'pressure': 999,\n",
       "   'humidity': 55,\n",
       "   'weather': [{'id': 804,\n",
       "     'main': 'Clouds',\n",
       "     'description': 'overcast clouds',\n",
       "     'icon': '04d'}],\n",
       "   'speed': 6.59,\n",
       "   'deg': 288,\n",
       "   'gust': 11.43,\n",
       "   'clouds': 96,\n",
       "   'pop': 0.01},\n",
       "  {'dt': 1698076800,\n",
       "   'sunrise': 1698059950,\n",
       "   'sunset': 1698099034,\n",
       "   'temp': {'day': 282.77,\n",
       "    'min': 281.07,\n",
       "    'max': 285.14,\n",
       "    'night': 281.07,\n",
       "    'eve': 285.14,\n",
       "    'morn': 281.3},\n",
       "   'feels_like': {'day': 280.25,\n",
       "    'night': 279.13,\n",
       "    'eve': 283.54,\n",
       "    'morn': 278.35},\n",
       "   'pressure': 1013,\n",
       "   'humidity': 57,\n",
       "   'weather': [{'id': 804,\n",
       "     'main': 'Clouds',\n",
       "     'description': 'overcast clouds',\n",
       "     'icon': '04d'}],\n",
       "   'speed': 5.28,\n",
       "   'deg': 306,\n",
       "   'gust': 10.22,\n",
       "   'clouds': 99,\n",
       "   'pop': 0},\n",
       "  {'dt': 1698163200,\n",
       "   'sunrise': 1698146416,\n",
       "   'sunset': 1698185353,\n",
       "   'temp': {'day': 283.06,\n",
       "    'min': 278.72,\n",
       "    'max': 286.32,\n",
       "    'night': 281.61,\n",
       "    'eve': 286.26,\n",
       "    'morn': 278.81},\n",
       "   'feels_like': {'day': 280.55,\n",
       "    'night': 279.55,\n",
       "    'eve': 284.78,\n",
       "    'morn': 276.66},\n",
       "   'pressure': 1025,\n",
       "   'humidity': 47,\n",
       "   'weather': [{'id': 800,\n",
       "     'main': 'Clear',\n",
       "     'description': 'sky is clear',\n",
       "     'icon': '01d'}],\n",
       "   'speed': 5.46,\n",
       "   'deg': 343,\n",
       "   'gust': 10.03,\n",
       "   'clouds': 0,\n",
       "   'pop': 0},\n",
       "  {'dt': 1698249600,\n",
       "   'sunrise': 1698232882,\n",
       "   'sunset': 1698271673,\n",
       "   'temp': {'day': 284.82,\n",
       "    'min': 279.76,\n",
       "    'max': 288.16,\n",
       "    'night': 283.54,\n",
       "    'eve': 288.03,\n",
       "    'morn': 279.76},\n",
       "   'feels_like': {'day': 283.48,\n",
       "    'night': 282.38,\n",
       "    'eve': 286.77,\n",
       "    'morn': 277.59},\n",
       "   'pressure': 1032,\n",
       "   'humidity': 55,\n",
       "   'weather': [{'id': 800,\n",
       "     'main': 'Clear',\n",
       "     'description': 'sky is clear',\n",
       "     'icon': '01d'}],\n",
       "   'speed': 3.77,\n",
       "   'deg': 30,\n",
       "   'gust': 8.87,\n",
       "   'clouds': 3,\n",
       "   'pop': 0},\n",
       "  {'dt': 1698336000,\n",
       "   'sunrise': 1698319349,\n",
       "   'sunset': 1698357993,\n",
       "   'temp': {'day': 286.39,\n",
       "    'min': 280.94,\n",
       "    'max': 290.39,\n",
       "    'night': 284.86,\n",
       "    'eve': 290.22,\n",
       "    'morn': 281.57},\n",
       "   'feels_like': {'day': 285.1,\n",
       "    'night': 283.71,\n",
       "    'eve': 289.08,\n",
       "    'morn': 280.04},\n",
       "   'pressure': 1028,\n",
       "   'humidity': 51,\n",
       "   'weather': [{'id': 800,\n",
       "     'main': 'Clear',\n",
       "     'description': 'sky is clear',\n",
       "     'icon': '01d'}],\n",
       "   'speed': 3.57,\n",
       "   'deg': 348,\n",
       "   'gust': 8.49,\n",
       "   'clouds': 0,\n",
       "   'pop': 0},\n",
       "  {'dt': 1698422400,\n",
       "   'sunrise': 1698405816,\n",
       "   'sunset': 1698444316,\n",
       "   'temp': {'day': 289.35,\n",
       "    'min': 282.52,\n",
       "    'max': 293.7,\n",
       "    'night': 287.13,\n",
       "    'eve': 292.98,\n",
       "    'morn': 282.71},\n",
       "   'feels_like': {'day': 287.89,\n",
       "    'night': 286.15,\n",
       "    'eve': 292.01,\n",
       "    'morn': 281.42},\n",
       "   'pressure': 1016,\n",
       "   'humidity': 33,\n",
       "   'weather': [{'id': 800,\n",
       "     'main': 'Clear',\n",
       "     'description': 'sky is clear',\n",
       "     'icon': '01d'}],\n",
       "   'speed': 3.71,\n",
       "   'deg': 323,\n",
       "   'gust': 8.95,\n",
       "   'clouds': 3,\n",
       "   'pop': 0},\n",
       "  {'dt': 1698508800,\n",
       "   'sunrise': 1698492283,\n",
       "   'sunset': 1698530639,\n",
       "   'temp': {'day': 291.26,\n",
       "    'min': 285.55,\n",
       "    'max': 295.26,\n",
       "    'night': 289.51,\n",
       "    'eve': 294.52,\n",
       "    'morn': 285.55},\n",
       "   'feels_like': {'day': 290.48,\n",
       "    'night': 288.9,\n",
       "    'eve': 293.97,\n",
       "    'morn': 284.46},\n",
       "   'pressure': 1015,\n",
       "   'humidity': 52,\n",
       "   'weather': [{'id': 800,\n",
       "     'main': 'Clear',\n",
       "     'description': 'sky is clear',\n",
       "     'icon': '01d'}],\n",
       "   'speed': 3.55,\n",
       "   'deg': 280,\n",
       "   'gust': 9.24,\n",
       "   'clouds': 3,\n",
       "   'pop': 0},\n",
       "  {'dt': 1698595200,\n",
       "   'sunrise': 1698578751,\n",
       "   'sunset': 1698616964,\n",
       "   'temp': {'day': 288.73,\n",
       "    'min': 282.15,\n",
       "    'max': 288.73,\n",
       "    'night': 282.15,\n",
       "    'eve': 284.94,\n",
       "    'morn': 288.22},\n",
       "   'feels_like': {'day': 287.94,\n",
       "    'night': 279.83,\n",
       "    'eve': 284.5,\n",
       "    'morn': 287.56},\n",
       "   'pressure': 1016,\n",
       "   'humidity': 61,\n",
       "   'weather': [{'id': 501,\n",
       "     'main': 'Rain',\n",
       "     'description': 'moderate rain',\n",
       "     'icon': '10d'}],\n",
       "   'speed': 5.58,\n",
       "   'deg': 336,\n",
       "   'gust': 11.39,\n",
       "   'clouds': 100,\n",
       "   'pop': 0.87,\n",
       "   'rain': 8.04},\n",
       "  {'dt': 1698681600,\n",
       "   'sunrise': 1698665219,\n",
       "   'sunset': 1698703290,\n",
       "   'temp': {'day': 282.03,\n",
       "    'min': 278.5,\n",
       "    'max': 284.64,\n",
       "    'night': 281.16,\n",
       "    'eve': 284.24,\n",
       "    'morn': 279.24},\n",
       "   'feels_like': {'day': 279.94,\n",
       "    'night': 280.43,\n",
       "    'eve': 282.37,\n",
       "    'morn': 276.03},\n",
       "   'pressure': 1027,\n",
       "   'humidity': 46,\n",
       "   'weather': [{'id': 800,\n",
       "     'main': 'Clear',\n",
       "     'description': 'sky is clear',\n",
       "     'icon': '01d'}],\n",
       "   'speed': 4.69,\n",
       "   'deg': 322,\n",
       "   'gust': 11.5,\n",
       "   'clouds': 2,\n",
       "   'pop': 0.27}]}"
      ]
     },
     "execution_count": 6,
     "metadata": {},
     "output_type": "execute_result"
    }
   ],
   "source": [
    "days_data = json.loads(response.text)\n",
    "days_data"
   ]
  },
  {
   "cell_type": "code",
   "execution_count": 0,
   "metadata": {
    "application/vnd.databricks.v1+cell": {
     "cellMetadata": {
      "byteLimit": 2048000,
      "rowLimit": 10000
     },
     "inputWidgets": {},
     "nuid": "62a5eae7-5511-437b-98ac-ba3fbc50c432",
     "showTitle": false,
     "title": ""
    }
   },
   "outputs": [
    {
     "output_type": "stream",
     "name": "stdout",
     "output_type": "stream",
     "text": [
      "{\n   \"city\": {\n      \"id\": 4560349,\n      \"name\": \"Philadelphia\",\n      \"coord\": {\n         \"lon\": -75.1652,\n         \"lat\": 39.9526\n      },\n      \"country\": \"US\",\n      \"population\": 1526006,\n      \"timezone\": -14400\n   },\n   \"cod\": \"200\",\n   \"message\": 4.2569978,\n   \"cnt\": 16,\n   \"list\": [\n      {\n         \"dt\": 1697385600,\n         \"sunrise\": 1697368235,\n         \"sunset\": 1697408522,\n         \"temp\": {\n            \"day\": 288.35,\n            \"min\": 282.54,\n            \"max\": 289.02,\n            \"night\": 283.17,\n            \"eve\": 287.12,\n            \"morn\": 283.26\n         },\n         \"feels_like\": {\n            \"day\": 287.13,\n            \"night\": 281.98,\n            \"eve\": 286.22,\n            \"morn\": 282.49\n         },\n         \"pressure\": 1002,\n         \"humidity\": 46,\n         \"weather\": [\n            {\n               \"id\": 501,\n               \"main\": \"Rain\",\n               \"description\": \"moderate rain\",\n               \"icon\": \"10d\"\n            }\n         ],\n         \"speed\": 6.28,\n         \"deg\": 318,\n         \"gust\": 12.33,\n         \"clouds\": 9,\n         \"pop\": 1,\n         \"rain\": 2.48\n      },\n      {\n         \"dt\": 1697472000,\n         \"sunrise\": 1697454698,\n         \"sunset\": 1697494833,\n         \"temp\": {\n            \"day\": 285.24,\n            \"min\": 281.12,\n            \"max\": 288.12,\n            \"night\": 283.48,\n            \"eve\": 286.86,\n            \"morn\": 281.12\n         },\n         \"feels_like\": {\n            \"day\": 284.23,\n            \"night\": 282.79,\n            \"eve\": 285.98,\n            \"morn\": 278.87\n         },\n         \"pressure\": 1005,\n         \"humidity\": 66,\n         \"weather\": [\n            {\n               \"id\": 500,\n               \"main\": \"Rain\",\n               \"description\": \"light rain\",\n               \"icon\": \"10d\"\n            }\n         ],\n         \"speed\": 3.86,\n         \"deg\": 302,\n         \"gust\": 10.11,\n         \"clouds\": 100,\n         \"pop\": 0.37,\n         \"rain\": 0.5\n      },\n      {\n         \"dt\": 1697558400,\n         \"sunrise\": 1697541161,\n         \"sunset\": 1697581145,\n         \"temp\": {\n            \"day\": 288.83,\n            \"min\": 281.5,\n            \"max\": 290.05,\n            \"night\": 285.66,\n            \"eve\": 288.15,\n            \"morn\": 281.68\n         },\n         \"feels_like\": {\n            \"day\": 287.71,\n            \"night\": 284.85,\n            \"eve\": 287.17,\n            \"morn\": 280.6\n         },\n         \"pressure\": 1013,\n         \"humidity\": 48,\n         \"weather\": [\n            {\n               \"id\": 802,\n               \"main\": \"Clouds\",\n               \"description\": \"scattered clouds\",\n               \"icon\": \"03d\"\n            }\n         ],\n         \"speed\": 3.05,\n         \"deg\": 331,\n         \"gust\": 6.99,\n         \"clouds\": 29,\n         \"pop\": 0.11\n      },\n      {\n         \"dt\": 1697644800,\n         \"sunrise\": 1697627625,\n         \"sunset\": 1697667457,\n         \"temp\": {\n            \"day\": 287.32,\n            \"min\": 285.35,\n            \"max\": 291.72,\n            \"night\": 286.53,\n            \"eve\": 291.72,\n            \"morn\": 285.52\n         },\n         \"feels_like\": {\n            \"day\": 286.41,\n            \"night\": 285.52,\n            \"eve\": 290.62,\n            \"morn\": 284.61\n         },\n         \"pressure\": 1022,\n         \"humidity\": 62,\n         \"weather\": [\n            {\n               \"id\": 804,\n               \"main\": \"Clouds\",\n               \"description\": \"overcast clouds\",\n               \"icon\": \"04d\"\n            }\n         ],\n         \"speed\": 1.96,\n         \"deg\": 181,\n         \"gust\": 4.38,\n         \"clouds\": 100,\n         \"pop\": 0\n      },\n      {\n         \"dt\": 1697731200,\n         \"sunrise\": 1697714089,\n         \"sunset\": 1697753770,\n         \"temp\": {\n            \"day\": 290.98,\n            \"min\": 284.66,\n            \"max\": 293.97,\n            \"night\": 288.37,\n            \"eve\": 293.1,\n            \"morn\": 284.66\n         },\n         \"feels_like\": {\n            \"day\": 290.1,\n            \"night\": 287.8,\n            \"eve\": 292.35,\n            \"morn\": 283.8\n         },\n         \"pressure\": 1024,\n         \"humidity\": 49,\n         \"weather\": [\n            {\n               \"id\": 800,\n               \"main\": \"Clear\",\n               \"description\": \"sky is clear\",\n               \"icon\": \"01d\"\n            }\n         ],\n         \"speed\": 4.29,\n         \"deg\": 196,\n         \"gust\": 11.93,\n         \"clouds\": 4,\n         \"pop\": 0\n      },\n      {\n         \"dt\": 1697817600,\n         \"sunrise\": 1697800554,\n         \"sunset\": 1697840085,\n         \"temp\": {\n            \"day\": 291.31,\n            \"min\": 287.78,\n            \"max\": 294.36,\n            \"night\": 287.8,\n            \"eve\": 291.09,\n            \"morn\": 287.85\n         },\n         \"feels_like\": {\n            \"day\": 290.85,\n            \"night\": 287.75,\n            \"eve\": 290.79,\n            \"morn\": 287.26\n         },\n         \"pressure\": 1014,\n         \"humidity\": 64,\n         \"weather\": [\n            {\n               \"id\": 500,\n               \"main\": \"Rain\",\n               \"description\": \"light rain\",\n               \"icon\": \"10d\"\n            }\n         ],\n         \"speed\": 5.6,\n         \"deg\": 190,\n         \"gust\": 12.3,\n         \"clouds\": 100,\n         \"pop\": 0.36,\n         \"rain\": 0.24\n      },\n      {\n         \"dt\": 1697904000,\n         \"sunrise\": 1697887019,\n         \"sunset\": 1697926400,\n         \"temp\": {\n            \"day\": 288.74,\n            \"min\": 285.92,\n            \"max\": 290.67,\n            \"night\": 285.92,\n            \"eve\": 288.89,\n            \"morn\": 288.04\n         },\n         \"feels_like\": {\n            \"day\": 288.73,\n            \"night\": 285.21,\n            \"eve\": 288.53,\n            \"morn\": 288.07\n         },\n         \"pressure\": 995,\n         \"humidity\": 91,\n         \"weather\": [\n            {\n               \"id\": 500,\n               \"main\": \"Rain\",\n               \"description\": \"light rain\",\n               \"icon\": \"10d\"\n            }\n         ],\n         \"speed\": 6.74,\n         \"deg\": 282,\n         \"gust\": 14.38,\n         \"clouds\": 100,\n         \"pop\": 1,\n         \"rain\": 5.8\n      },\n      {\n         \"dt\": 1697990400,\n         \"sunrise\": 1697973484,\n         \"sunset\": 1698012717,\n         \"temp\": {\n            \"day\": 286.18,\n            \"min\": 281.95,\n            \"max\": 286.86,\n            \"night\": 281.95,\n            \"eve\": 285.81,\n            \"morn\": 284.87\n         },\n         \"feels_like\": {\n            \"day\": 284.97,\n            \"night\": 279.12,\n            \"eve\": 284.31,\n            \"morn\": 284\n         },\n         \"pressure\": 999,\n         \"humidity\": 55,\n         \"weather\": [\n            {\n               \"id\": 804,\n               \"main\": \"Clouds\",\n               \"description\": \"overcast clouds\",\n               \"icon\": \"04d\"\n            }\n         ],\n         \"speed\": 6.59,\n         \"deg\": 288,\n         \"gust\": 11.43,\n         \"clouds\": 96,\n         \"pop\": 0.01\n      },\n      {\n         \"dt\": 1698076800,\n         \"sunrise\": 1698059950,\n         \"sunset\": 1698099034,\n         \"temp\": {\n            \"day\": 282.77,\n            \"min\": 281.07,\n            \"max\": 285.14,\n            \"night\": 281.07,\n            \"eve\": 285.14,\n            \"morn\": 281.3\n         },\n         \"feels_like\": {\n            \"day\": 280.25,\n            \"night\": 279.13,\n            \"eve\": 283.54,\n            \"morn\": 278.35\n         },\n         \"pressure\": 1013,\n         \"humidity\": 57,\n         \"weather\": [\n            {\n               \"id\": 804,\n               \"main\": \"Clouds\",\n               \"description\": \"overcast clouds\",\n               \"icon\": \"04d\"\n            }\n         ],\n         \"speed\": 5.28,\n         \"deg\": 306,\n         \"gust\": 10.22,\n         \"clouds\": 99,\n         \"pop\": 0\n      },\n      {\n         \"dt\": 1698163200,\n         \"sunrise\": 1698146416,\n         \"sunset\": 1698185353,\n         \"temp\": {\n            \"day\": 283.06,\n            \"min\": 278.72,\n            \"max\": 286.32,\n            \"night\": 281.61,\n            \"eve\": 286.26,\n            \"morn\": 278.81\n         },\n         \"feels_like\": {\n            \"day\": 280.55,\n            \"night\": 279.55,\n            \"eve\": 284.78,\n            \"morn\": 276.66\n         },\n         \"pressure\": 1025,\n         \"humidity\": 47,\n         \"weather\": [\n            {\n               \"id\": 800,\n               \"main\": \"Clear\",\n               \"description\": \"sky is clear\",\n               \"icon\": \"01d\"\n            }\n         ],\n         \"speed\": 5.46,\n         \"deg\": 343,\n         \"gust\": 10.03,\n         \"clouds\": 0,\n         \"pop\": 0\n      },\n      {\n         \"dt\": 1698249600,\n         \"sunrise\": 1698232882,\n         \"sunset\": 1698271673,\n         \"temp\": {\n            \"day\": 284.82,\n            \"min\": 279.76,\n            \"max\": 288.16,\n            \"night\": 283.54,\n            \"eve\": 288.03,\n            \"morn\": 279.76\n         },\n         \"feels_like\": {\n            \"day\": 283.48,\n            \"night\": 282.38,\n            \"eve\": 286.77,\n            \"morn\": 277.59\n         },\n         \"pressure\": 1032,\n         \"humidity\": 55,\n         \"weather\": [\n            {\n               \"id\": 800,\n               \"main\": \"Clear\",\n               \"description\": \"sky is clear\",\n               \"icon\": \"01d\"\n            }\n         ],\n         \"speed\": 3.77,\n         \"deg\": 30,\n         \"gust\": 8.87,\n         \"clouds\": 3,\n         \"pop\": 0\n      },\n      {\n         \"dt\": 1698336000,\n         \"sunrise\": 1698319349,\n         \"sunset\": 1698357993,\n         \"temp\": {\n            \"day\": 286.39,\n            \"min\": 280.94,\n            \"max\": 290.39,\n            \"night\": 284.86,\n            \"eve\": 290.22,\n            \"morn\": 281.57\n         },\n         \"feels_like\": {\n            \"day\": 285.1,\n            \"night\": 283.71,\n            \"eve\": 289.08,\n            \"morn\": 280.04\n         },\n         \"pressure\": 1028,\n         \"humidity\": 51,\n         \"weather\": [\n            {\n               \"id\": 800,\n               \"main\": \"Clear\",\n               \"description\": \"sky is clear\",\n               \"icon\": \"01d\"\n            }\n         ],\n         \"speed\": 3.57,\n         \"deg\": 348,\n         \"gust\": 8.49,\n         \"clouds\": 0,\n         \"pop\": 0\n      },\n      {\n         \"dt\": 1698422400,\n         \"sunrise\": 1698405816,\n         \"sunset\": 1698444316,\n         \"temp\": {\n            \"day\": 289.35,\n            \"min\": 282.52,\n            \"max\": 293.7,\n            \"night\": 287.13,\n            \"eve\": 292.98,\n            \"morn\": 282.71\n         },\n         \"feels_like\": {\n            \"day\": 287.89,\n            \"night\": 286.15,\n            \"eve\": 292.01,\n            \"morn\": 281.42\n         },\n         \"pressure\": 1016,\n         \"humidity\": 33,\n         \"weather\": [\n            {\n               \"id\": 800,\n               \"main\": \"Clear\",\n               \"description\": \"sky is clear\",\n               \"icon\": \"01d\"\n            }\n         ],\n         \"speed\": 3.71,\n         \"deg\": 323,\n         \"gust\": 8.95,\n         \"clouds\": 3,\n         \"pop\": 0\n      },\n      {\n         \"dt\": 1698508800,\n         \"sunrise\": 1698492283,\n         \"sunset\": 1698530639,\n         \"temp\": {\n            \"day\": 291.26,\n            \"min\": 285.55,\n            \"max\": 295.26,\n            \"night\": 289.51,\n            \"eve\": 294.52,\n            \"morn\": 285.55\n         },\n         \"feels_like\": {\n            \"day\": 290.48,\n            \"night\": 288.9,\n            \"eve\": 293.97,\n            \"morn\": 284.46\n         },\n         \"pressure\": 1015,\n         \"humidity\": 52,\n         \"weather\": [\n            {\n               \"id\": 800,\n               \"main\": \"Clear\",\n               \"description\": \"sky is clear\",\n               \"icon\": \"01d\"\n            }\n         ],\n         \"speed\": 3.55,\n         \"deg\": 280,\n         \"gust\": 9.24,\n         \"clouds\": 3,\n         \"pop\": 0\n      },\n      {\n         \"dt\": 1698595200,\n         \"sunrise\": 1698578751,\n         \"sunset\": 1698616964,\n         \"temp\": {\n            \"day\": 288.73,\n            \"min\": 282.15,\n            \"max\": 288.73,\n            \"night\": 282.15,\n            \"eve\": 284.94,\n            \"morn\": 288.22\n         },\n         \"feels_like\": {\n            \"day\": 287.94,\n            \"night\": 279.83,\n            \"eve\": 284.5,\n            \"morn\": 287.56\n         },\n         \"pressure\": 1016,\n         \"humidity\": 61,\n         \"weather\": [\n            {\n               \"id\": 501,\n               \"main\": \"Rain\",\n               \"description\": \"moderate rain\",\n               \"icon\": \"10d\"\n            }\n         ],\n         \"speed\": 5.58,\n         \"deg\": 336,\n         \"gust\": 11.39,\n         \"clouds\": 100,\n         \"pop\": 0.87,\n         \"rain\": 8.04\n      },\n      {\n         \"dt\": 1698681600,\n         \"sunrise\": 1698665219,\n         \"sunset\": 1698703290,\n         \"temp\": {\n            \"day\": 282.03,\n            \"min\": 278.5,\n            \"max\": 284.64,\n            \"night\": 281.16,\n            \"eve\": 284.24,\n            \"morn\": 279.24\n         },\n         \"feels_like\": {\n            \"day\": 279.94,\n            \"night\": 280.43,\n            \"eve\": 282.37,\n            \"morn\": 276.03\n         },\n         \"pressure\": 1027,\n         \"humidity\": 46,\n         \"weather\": [\n            {\n               \"id\": 800,\n               \"main\": \"Clear\",\n               \"description\": \"sky is clear\",\n               \"icon\": \"01d\"\n            }\n         ],\n         \"speed\": 4.69,\n         \"deg\": 322,\n         \"gust\": 11.5,\n         \"clouds\": 2,\n         \"pop\": 0.27\n      }\n   ]\n}\n"
     ]
    }
   ],
   "source": [
    "# format the above json response to something readable\n",
    "json_formatted_str = json.dumps(days_data, indent=3)\n",
    "print(json_formatted_str)"
   ]
  },
  {
   "cell_type": "code",
   "execution_count": 0,
   "metadata": {
    "application/vnd.databricks.v1+cell": {
     "cellMetadata": {
      "byteLimit": 2048000,
      "rowLimit": 10000
     },
     "inputWidgets": {},
     "nuid": "46473ec9-30d7-4be1-bee7-f1acb6e2fc9d",
     "showTitle": false,
     "title": ""
    }
   },
   "outputs": [
    {
     "output_type": "display_data",
     "data": {
      "text/html": [
       "<style scoped>\n",
       "  .table-result-container {\n",
       "    max-height: 300px;\n",
       "    overflow: auto;\n",
       "  }\n",
       "  table, th, td {\n",
       "    border: 1px solid black;\n",
       "    border-collapse: collapse;\n",
       "  }\n",
       "  th, td {\n",
       "    padding: 5px;\n",
       "  }\n",
       "  th {\n",
       "    text-align: left;\n",
       "  }\n",
       "</style><div class='table-result-container'><table class='table-result'><thead style='background-color: white'><tr><th>city</th><th>cnt</th><th>cod</th><th>list</th><th>message</th></tr></thead><tbody><tr><td>List(List(39.9526, -75.1652), US, 4560349, Philadelphia, 1526006, -14400)</td><td>16</td><td>200</td><td>List(List(9, 318, 1697385600, List(287.13, 286.22, 282.49, 281.98), 12.33, 46, 1.0, 1002, 2.48, 6.28, 1697368235, 1697408522, List(288.35, 287.12, 289.02, 282.54, 283.26, 283.17), List(List(moderate rain, 10d, 501, Rain))), List(100, 302, 1697472000, List(284.23, 285.98, 278.87, 282.79), 10.11, 66, 0.37, 1005, 0.5, 3.86, 1697454698, 1697494833, List(285.24, 286.86, 288.12, 281.12, 281.12, 283.48), List(List(light rain, 10d, 500, Rain))), List(29, 331, 1697558400, List(287.71, 287.17, 280.6, 284.85), 6.99, 48, 0.11, 1013, null, 3.05, 1697541161, 1697581145, List(288.83, 288.15, 290.05, 281.5, 281.68, 285.66), List(List(scattered clouds, 03d, 802, Clouds))), List(100, 181, 1697644800, List(286.41, 290.62, 284.61, 285.52), 4.38, 62, 0.0, 1022, null, 1.96, 1697627625, 1697667457, List(287.32, 291.72, 291.72, 285.35, 285.52, 286.53), List(List(overcast clouds, 04d, 804, Clouds))), List(4, 196, 1697731200, List(290.1, 292.35, 283.8, 287.8), 11.93, 49, 0.0, 1024, null, 4.29, 1697714089, 1697753770, List(290.98, 293.1, 293.97, 284.66, 284.66, 288.37), List(List(sky is clear, 01d, 800, Clear))), List(100, 190, 1697817600, List(290.85, 290.79, 287.26, 287.75), 12.3, 64, 0.36, 1014, 0.24, 5.6, 1697800554, 1697840085, List(291.31, 291.09, 294.36, 287.78, 287.85, 287.8), List(List(light rain, 10d, 500, Rain))), List(100, 282, 1697904000, List(288.73, 288.53, 288.07, 285.21), 14.38, 91, 1.0, 995, 5.8, 6.74, 1697887019, 1697926400, List(288.74, 288.89, 290.67, 285.92, 288.04, 285.92), List(List(light rain, 10d, 500, Rain))), List(96, 288, 1697990400, List(284.97, 284.31, 284.0, 279.12), 11.43, 55, 0.01, 999, null, 6.59, 1697973484, 1698012717, List(286.18, 285.81, 286.86, 281.95, 284.87, 281.95), List(List(overcast clouds, 04d, 804, Clouds))), List(99, 306, 1698076800, List(280.25, 283.54, 278.35, 279.13), 10.22, 57, 0.0, 1013, null, 5.28, 1698059950, 1698099034, List(282.77, 285.14, 285.14, 281.07, 281.3, 281.07), List(List(overcast clouds, 04d, 804, Clouds))), List(0, 343, 1698163200, List(280.55, 284.78, 276.66, 279.55), 10.03, 47, 0.0, 1025, null, 5.46, 1698146416, 1698185353, List(283.06, 286.26, 286.32, 278.72, 278.81, 281.61), List(List(sky is clear, 01d, 800, Clear))), List(3, 30, 1698249600, List(283.48, 286.77, 277.59, 282.38), 8.87, 55, 0.0, 1032, null, 3.77, 1698232882, 1698271673, List(284.82, 288.03, 288.16, 279.76, 279.76, 283.54), List(List(sky is clear, 01d, 800, Clear))), List(0, 348, 1698336000, List(285.1, 289.08, 280.04, 283.71), 8.49, 51, 0.0, 1028, null, 3.57, 1698319349, 1698357993, List(286.39, 290.22, 290.39, 280.94, 281.57, 284.86), List(List(sky is clear, 01d, 800, Clear))), List(3, 323, 1698422400, List(287.89, 292.01, 281.42, 286.15), 8.95, 33, 0.0, 1016, null, 3.71, 1698405816, 1698444316, List(289.35, 292.98, 293.7, 282.52, 282.71, 287.13), List(List(sky is clear, 01d, 800, Clear))), List(3, 280, 1698508800, List(290.48, 293.97, 284.46, 288.9), 9.24, 52, 0.0, 1015, null, 3.55, 1698492283, 1698530639, List(291.26, 294.52, 295.26, 285.55, 285.55, 289.51), List(List(sky is clear, 01d, 800, Clear))), List(100, 336, 1698595200, List(287.94, 284.5, 287.56, 279.83), 11.39, 61, 0.87, 1016, 8.04, 5.58, 1698578751, 1698616964, List(288.73, 284.94, 288.73, 282.15, 288.22, 282.15), List(List(moderate rain, 10d, 501, Rain))), List(2, 322, 1698681600, List(279.94, 282.37, 276.03, 280.43), 11.5, 46, 0.27, 1027, null, 4.69, 1698665219, 1698703290, List(282.03, 284.24, 284.64, 278.5, 279.24, 281.16), List(List(sky is clear, 01d, 800, Clear))))</td><td>4.2569978</td></tr></tbody></table></div>"
      ]
     },
     "metadata": {
      "application/vnd.databricks.v1+output": {
       "addedWidgets": {},
       "aggData": [],
       "aggError": "",
       "aggOverflow": false,
       "aggSchema": [],
       "aggSeriesLimitReached": false,
       "aggType": "",
       "arguments": {},
       "columnCustomDisplayInfos": {},
       "data": [
        [
         [
          [
           39.9526,
           -75.1652
          ],
          "US",
          4560349,
          "Philadelphia",
          1526006,
          -14400
         ],
         16,
         "200",
         [
          [
           9,
           318,
           1697385600,
           [
            287.13,
            286.22,
            282.49,
            281.98
           ],
           12.33,
           46,
           1.0,
           1002,
           2.48,
           6.28,
           1697368235,
           1697408522,
           [
            288.35,
            287.12,
            289.02,
            282.54,
            283.26,
            283.17
           ],
           [
            [
             "moderate rain",
             "10d",
             501,
             "Rain"
            ]
           ]
          ],
          [
           100,
           302,
           1697472000,
           [
            284.23,
            285.98,
            278.87,
            282.79
           ],
           10.11,
           66,
           0.37,
           1005,
           0.5,
           3.86,
           1697454698,
           1697494833,
           [
            285.24,
            286.86,
            288.12,
            281.12,
            281.12,
            283.48
           ],
           [
            [
             "light rain",
             "10d",
             500,
             "Rain"
            ]
           ]
          ],
          [
           29,
           331,
           1697558400,
           [
            287.71,
            287.17,
            280.6,
            284.85
           ],
           6.99,
           48,
           0.11,
           1013,
           null,
           3.05,
           1697541161,
           1697581145,
           [
            288.83,
            288.15,
            290.05,
            281.5,
            281.68,
            285.66
           ],
           [
            [
             "scattered clouds",
             "03d",
             802,
             "Clouds"
            ]
           ]
          ],
          [
           100,
           181,
           1697644800,
           [
            286.41,
            290.62,
            284.61,
            285.52
           ],
           4.38,
           62,
           0.0,
           1022,
           null,
           1.96,
           1697627625,
           1697667457,
           [
            287.32,
            291.72,
            291.72,
            285.35,
            285.52,
            286.53
           ],
           [
            [
             "overcast clouds",
             "04d",
             804,
             "Clouds"
            ]
           ]
          ],
          [
           4,
           196,
           1697731200,
           [
            290.1,
            292.35,
            283.8,
            287.8
           ],
           11.93,
           49,
           0.0,
           1024,
           null,
           4.29,
           1697714089,
           1697753770,
           [
            290.98,
            293.1,
            293.97,
            284.66,
            284.66,
            288.37
           ],
           [
            [
             "sky is clear",
             "01d",
             800,
             "Clear"
            ]
           ]
          ],
          [
           100,
           190,
           1697817600,
           [
            290.85,
            290.79,
            287.26,
            287.75
           ],
           12.3,
           64,
           0.36,
           1014,
           0.24,
           5.6,
           1697800554,
           1697840085,
           [
            291.31,
            291.09,
            294.36,
            287.78,
            287.85,
            287.8
           ],
           [
            [
             "light rain",
             "10d",
             500,
             "Rain"
            ]
           ]
          ],
          [
           100,
           282,
           1697904000,
           [
            288.73,
            288.53,
            288.07,
            285.21
           ],
           14.38,
           91,
           1.0,
           995,
           5.8,
           6.74,
           1697887019,
           1697926400,
           [
            288.74,
            288.89,
            290.67,
            285.92,
            288.04,
            285.92
           ],
           [
            [
             "light rain",
             "10d",
             500,
             "Rain"
            ]
           ]
          ],
          [
           96,
           288,
           1697990400,
           [
            284.97,
            284.31,
            284.0,
            279.12
           ],
           11.43,
           55,
           0.01,
           999,
           null,
           6.59,
           1697973484,
           1698012717,
           [
            286.18,
            285.81,
            286.86,
            281.95,
            284.87,
            281.95
           ],
           [
            [
             "overcast clouds",
             "04d",
             804,
             "Clouds"
            ]
           ]
          ],
          [
           99,
           306,
           1698076800,
           [
            280.25,
            283.54,
            278.35,
            279.13
           ],
           10.22,
           57,
           0.0,
           1013,
           null,
           5.28,
           1698059950,
           1698099034,
           [
            282.77,
            285.14,
            285.14,
            281.07,
            281.3,
            281.07
           ],
           [
            [
             "overcast clouds",
             "04d",
             804,
             "Clouds"
            ]
           ]
          ],
          [
           0,
           343,
           1698163200,
           [
            280.55,
            284.78,
            276.66,
            279.55
           ],
           10.03,
           47,
           0.0,
           1025,
           null,
           5.46,
           1698146416,
           1698185353,
           [
            283.06,
            286.26,
            286.32,
            278.72,
            278.81,
            281.61
           ],
           [
            [
             "sky is clear",
             "01d",
             800,
             "Clear"
            ]
           ]
          ],
          [
           3,
           30,
           1698249600,
           [
            283.48,
            286.77,
            277.59,
            282.38
           ],
           8.87,
           55,
           0.0,
           1032,
           null,
           3.77,
           1698232882,
           1698271673,
           [
            284.82,
            288.03,
            288.16,
            279.76,
            279.76,
            283.54
           ],
           [
            [
             "sky is clear",
             "01d",
             800,
             "Clear"
            ]
           ]
          ],
          [
           0,
           348,
           1698336000,
           [
            285.1,
            289.08,
            280.04,
            283.71
           ],
           8.49,
           51,
           0.0,
           1028,
           null,
           3.57,
           1698319349,
           1698357993,
           [
            286.39,
            290.22,
            290.39,
            280.94,
            281.57,
            284.86
           ],
           [
            [
             "sky is clear",
             "01d",
             800,
             "Clear"
            ]
           ]
          ],
          [
           3,
           323,
           1698422400,
           [
            287.89,
            292.01,
            281.42,
            286.15
           ],
           8.95,
           33,
           0.0,
           1016,
           null,
           3.71,
           1698405816,
           1698444316,
           [
            289.35,
            292.98,
            293.7,
            282.52,
            282.71,
            287.13
           ],
           [
            [
             "sky is clear",
             "01d",
             800,
             "Clear"
            ]
           ]
          ],
          [
           3,
           280,
           1698508800,
           [
            290.48,
            293.97,
            284.46,
            288.9
           ],
           9.24,
           52,
           0.0,
           1015,
           null,
           3.55,
           1698492283,
           1698530639,
           [
            291.26,
            294.52,
            295.26,
            285.55,
            285.55,
            289.51
           ],
           [
            [
             "sky is clear",
             "01d",
             800,
             "Clear"
            ]
           ]
          ],
          [
           100,
           336,
           1698595200,
           [
            287.94,
            284.5,
            287.56,
            279.83
           ],
           11.39,
           61,
           0.87,
           1016,
           8.04,
           5.58,
           1698578751,
           1698616964,
           [
            288.73,
            284.94,
            288.73,
            282.15,
            288.22,
            282.15
           ],
           [
            [
             "moderate rain",
             "10d",
             501,
             "Rain"
            ]
           ]
          ],
          [
           2,
           322,
           1698681600,
           [
            279.94,
            282.37,
            276.03,
            280.43
           ],
           11.5,
           46,
           0.27,
           1027,
           null,
           4.69,
           1698665219,
           1698703290,
           [
            282.03,
            284.24,
            284.64,
            278.5,
            279.24,
            281.16
           ],
           [
            [
             "sky is clear",
             "01d",
             800,
             "Clear"
            ]
           ]
          ]
         ],
         4.2569978
        ]
       ],
       "datasetInfos": [],
       "dbfsResultPath": null,
       "isJsonSchema": true,
       "metadata": {},
       "overflow": false,
       "plotOptions": {
        "customPlotOptions": {},
        "displayType": "table",
        "pivotAggregation": null,
        "pivotColumns": null,
        "xColumns": null,
        "yColumns": null
       },
       "removedWidgets": [],
       "schema": [
        {
         "metadata": "{}",
         "name": "city",
         "type": "{\"type\":\"struct\",\"fields\":[{\"name\":\"coord\",\"type\":{\"type\":\"struct\",\"fields\":[{\"name\":\"lat\",\"type\":\"double\",\"nullable\":true,\"metadata\":{}},{\"name\":\"lon\",\"type\":\"double\",\"nullable\":true,\"metadata\":{}}]},\"nullable\":true,\"metadata\":{}},{\"name\":\"country\",\"type\":\"string\",\"nullable\":true,\"metadata\":{}},{\"name\":\"id\",\"type\":\"long\",\"nullable\":true,\"metadata\":{}},{\"name\":\"name\",\"type\":\"string\",\"nullable\":true,\"metadata\":{}},{\"name\":\"population\",\"type\":\"long\",\"nullable\":true,\"metadata\":{}},{\"name\":\"timezone\",\"type\":\"long\",\"nullable\":true,\"metadata\":{}}]}"
        },
        {
         "metadata": "{}",
         "name": "cnt",
         "type": "\"long\""
        },
        {
         "metadata": "{}",
         "name": "cod",
         "type": "\"string\""
        },
        {
         "metadata": "{}",
         "name": "list",
         "type": "{\"type\":\"array\",\"elementType\":{\"type\":\"struct\",\"fields\":[{\"name\":\"clouds\",\"type\":\"long\",\"nullable\":true,\"metadata\":{}},{\"name\":\"deg\",\"type\":\"long\",\"nullable\":true,\"metadata\":{}},{\"name\":\"dt\",\"type\":\"long\",\"nullable\":true,\"metadata\":{}},{\"name\":\"feels_like\",\"type\":{\"type\":\"struct\",\"fields\":[{\"name\":\"day\",\"type\":\"double\",\"nullable\":true,\"metadata\":{}},{\"name\":\"eve\",\"type\":\"double\",\"nullable\":true,\"metadata\":{}},{\"name\":\"morn\",\"type\":\"double\",\"nullable\":true,\"metadata\":{}},{\"name\":\"night\",\"type\":\"double\",\"nullable\":true,\"metadata\":{}}]},\"nullable\":true,\"metadata\":{}},{\"name\":\"gust\",\"type\":\"double\",\"nullable\":true,\"metadata\":{}},{\"name\":\"humidity\",\"type\":\"long\",\"nullable\":true,\"metadata\":{}},{\"name\":\"pop\",\"type\":\"double\",\"nullable\":true,\"metadata\":{}},{\"name\":\"pressure\",\"type\":\"long\",\"nullable\":true,\"metadata\":{}},{\"name\":\"rain\",\"type\":\"double\",\"nullable\":true,\"metadata\":{}},{\"name\":\"speed\",\"type\":\"double\",\"nullable\":true,\"metadata\":{}},{\"name\":\"sunrise\",\"type\":\"long\",\"nullable\":true,\"metadata\":{}},{\"name\":\"sunset\",\"type\":\"long\",\"nullable\":true,\"metadata\":{}},{\"name\":\"temp\",\"type\":{\"type\":\"struct\",\"fields\":[{\"name\":\"day\",\"type\":\"double\",\"nullable\":true,\"metadata\":{}},{\"name\":\"eve\",\"type\":\"double\",\"nullable\":true,\"metadata\":{}},{\"name\":\"max\",\"type\":\"double\",\"nullable\":true,\"metadata\":{}},{\"name\":\"min\",\"type\":\"double\",\"nullable\":true,\"metadata\":{}},{\"name\":\"morn\",\"type\":\"double\",\"nullable\":true,\"metadata\":{}},{\"name\":\"night\",\"type\":\"double\",\"nullable\":true,\"metadata\":{}}]},\"nullable\":true,\"metadata\":{}},{\"name\":\"weather\",\"type\":{\"type\":\"array\",\"elementType\":{\"type\":\"struct\",\"fields\":[{\"name\":\"description\",\"type\":\"string\",\"nullable\":true,\"metadata\":{}},{\"name\":\"icon\",\"type\":\"string\",\"nullable\":true,\"metadata\":{}},{\"name\":\"id\",\"type\":\"long\",\"nullable\":true,\"metadata\":{}},{\"name\":\"main\",\"type\":\"string\",\"nullable\":true,\"metadata\":{}}]},\"containsNull\":true},\"nullable\":true,\"metadata\":{}}]},\"containsNull\":true}"
        },
        {
         "metadata": "{}",
         "name": "message",
         "type": "\"double\""
        }
       ],
       "type": "table"
      }
     },
     "output_type": "display_data"
    }
   ],
   "source": [
    "# convert json response to pyspark dataframe\n",
    "rdd = spark.sparkContext.parallelize([response.text])\n",
    "days_df = spark.read.json(rdd)\n",
    "display(days_df)"
   ]
  },
  {
   "cell_type": "code",
   "execution_count": 0,
   "metadata": {
    "application/vnd.databricks.v1+cell": {
     "cellMetadata": {
      "byteLimit": 2048000,
      "rowLimit": 10000
     },
     "inputWidgets": {},
     "nuid": "83eae409-6358-48f5-a866-f2fcc1dc8e9f",
     "showTitle": false,
     "title": ""
    }
   },
   "outputs": [
    {
     "output_type": "stream",
     "name": "stdout",
     "output_type": "stream",
     "text": [
      "root\n |-- city: struct (nullable = true)\n |    |-- coord: struct (nullable = true)\n |    |    |-- lat: double (nullable = true)\n |    |    |-- lon: double (nullable = true)\n |    |-- country: string (nullable = true)\n |    |-- id: long (nullable = true)\n |    |-- name: string (nullable = true)\n |    |-- population: long (nullable = true)\n |    |-- timezone: long (nullable = true)\n |-- cnt: long (nullable = true)\n |-- cod: string (nullable = true)\n |-- list: array (nullable = true)\n |    |-- element: struct (containsNull = true)\n |    |    |-- clouds: long (nullable = true)\n |    |    |-- deg: long (nullable = true)\n |    |    |-- dt: long (nullable = true)\n |    |    |-- feels_like: struct (nullable = true)\n |    |    |    |-- day: double (nullable = true)\n |    |    |    |-- eve: double (nullable = true)\n |    |    |    |-- morn: double (nullable = true)\n |    |    |    |-- night: double (nullable = true)\n |    |    |-- gust: double (nullable = true)\n |    |    |-- humidity: long (nullable = true)\n |    |    |-- pop: double (nullable = true)\n |    |    |-- pressure: long (nullable = true)\n |    |    |-- rain: double (nullable = true)\n |    |    |-- speed: double (nullable = true)\n |    |    |-- sunrise: long (nullable = true)\n |    |    |-- sunset: long (nullable = true)\n |    |    |-- temp: struct (nullable = true)\n |    |    |    |-- day: double (nullable = true)\n |    |    |    |-- eve: double (nullable = true)\n |    |    |    |-- max: double (nullable = true)\n |    |    |    |-- min: double (nullable = true)\n |    |    |    |-- morn: double (nullable = true)\n |    |    |    |-- night: double (nullable = true)\n |    |    |-- weather: array (nullable = true)\n |    |    |    |-- element: struct (containsNull = true)\n |    |    |    |    |-- description: string (nullable = true)\n |    |    |    |    |-- icon: string (nullable = true)\n |    |    |    |    |-- id: long (nullable = true)\n |    |    |    |    |-- main: string (nullable = true)\n |-- message: double (nullable = true)\n\n"
     ]
    }
   ],
   "source": [
    "days_df.printSchema()"
   ]
  },
  {
   "cell_type": "markdown",
   "metadata": {
    "application/vnd.databricks.v1+cell": {
     "cellMetadata": {
      "byteLimit": 2048000,
      "rowLimit": 10000
     },
     "inputWidgets": {},
     "nuid": "7b436819-cc97-46ed-86b5-cb17e36172fb",
     "showTitle": false,
     "title": ""
    }
   },
   "source": [
    "### 3. Pull data from the history API for 7 days in the past year for the same CBG and print a snippet of the JSON file in your notebook"
   ]
  },
  {
   "cell_type": "code",
   "execution_count": 0,
   "metadata": {
    "application/vnd.databricks.v1+cell": {
     "cellMetadata": {
      "byteLimit": 2048000,
      "rowLimit": 10000
     },
     "inputWidgets": {},
     "nuid": "eb989410-9fff-4f47-b28d-9cb140c78cb7",
     "showTitle": false,
     "title": ""
    }
   },
   "outputs": [
    {
     "output_type": "stream",
     "name": "stdout",
     "output_type": "stream",
     "text": [
      "start: 1692748800\nend: 1693353600\n"
     ]
    }
   ],
   "source": [
    "start = datetime.datetime(2023, 8, 23)\n",
    "start = int(time.mktime(start.timetuple()))\n",
    "end = datetime.datetime(2023, 8, 30)\n",
    "end = int(time.mktime(end.timetuple()))\n",
    "print(f\"start: {start}\")\n",
    "print(f\"end: {end}\")\n",
    "history_url = f\"https://history.openweathermap.org/data/2.5/history/city?lat={lat}&lon={lon}&type=hour&start={start}&end={end}&appid={api_key}\""
   ]
  },
  {
   "cell_type": "code",
   "execution_count": 0,
   "metadata": {
    "application/vnd.databricks.v1+cell": {
     "cellMetadata": {
      "byteLimit": 2048000,
      "rowLimit": 10000
     },
     "inputWidgets": {},
     "nuid": "010fa194-8f80-4bc9-a3ac-a3477cc3a10f",
     "showTitle": false,
     "title": ""
    }
   },
   "outputs": [
    {
     "output_type": "execute_result",
     "data": {
      "text/plain": [
       "<Response [200]>"
      ]
     },
     "execution_count": 11,
     "metadata": {},
     "output_type": "execute_result"
    }
   ],
   "source": [
    "response = requests.get(history_url)\n",
    "response"
   ]
  },
  {
   "cell_type": "code",
   "execution_count": 0,
   "metadata": {
    "application/vnd.databricks.v1+cell": {
     "cellMetadata": {
      "byteLimit": 2048000,
      "rowLimit": 10000
     },
     "inputWidgets": {},
     "nuid": "dafdf3f9-fdf1-4f6f-bfef-87e6bf569c60",
     "showTitle": false,
     "title": ""
    }
   },
   "outputs": [
    {
     "output_type": "execute_result",
     "data": {
      "text/plain": [
       "{'message': 'Count: 169',\n",
       " 'cod': '200',\n",
       " 'city_id': 1,\n",
       " 'calctime': 0.073458075,\n",
       " 'cnt': 169,\n",
       " 'list': [{'dt': 1692748800,\n",
       "   'main': {'temp': 295.92,\n",
       "    'feels_like': 295.56,\n",
       "    'pressure': 1019,\n",
       "    'humidity': 50,\n",
       "    'temp_min': 293.15,\n",
       "    'temp_max': 297.98},\n",
       "   'wind': {'speed': 2.91, 'deg': 22, 'gust': 7.36},\n",
       "   'clouds': {'all': 99},\n",
       "   'weather': [{'id': 804,\n",
       "     'main': 'Clouds',\n",
       "     'description': 'overcast clouds',\n",
       "     'icon': '04n'}]},\n",
       "  {'dt': 1692752400,\n",
       "   'main': {'temp': 293.39,\n",
       "    'feels_like': 293.06,\n",
       "    'pressure': 1019,\n",
       "    'humidity': 61,\n",
       "    'temp_min': 290.15,\n",
       "    'temp_max': 296.21},\n",
       "   'wind': {'speed': 2.68, 'deg': 30, 'gust': 7.73},\n",
       "   'clouds': {'all': 100},\n",
       "   'weather': [{'id': 804,\n",
       "     'main': 'Clouds',\n",
       "     'description': 'overcast clouds',\n",
       "     'icon': '04n'}]},\n",
       "  {'dt': 1692756000,\n",
       "   'main': {'temp': 292.37,\n",
       "    'feels_like': 291.99,\n",
       "    'pressure': 1019,\n",
       "    'humidity': 63,\n",
       "    'temp_min': 288.62,\n",
       "    'temp_max': 295.21},\n",
       "   'wind': {'speed': 2.23, 'deg': 34, 'gust': 7.51},\n",
       "   'clouds': {'all': 76},\n",
       "   'weather': [{'id': 803,\n",
       "     'main': 'Clouds',\n",
       "     'description': 'broken clouds',\n",
       "     'icon': '04n'}]},\n",
       "  {'dt': 1692759600,\n",
       "   'main': {'temp': 291.4,\n",
       "    'feels_like': 291.03,\n",
       "    'pressure': 1019,\n",
       "    'humidity': 67,\n",
       "    'temp_min': 287.62,\n",
       "    'temp_max': 294.27},\n",
       "   'wind': {'speed': 1.36, 'deg': 33, 'gust': 4.76},\n",
       "   'clouds': {'all': 64},\n",
       "   'weather': [{'id': 803,\n",
       "     'main': 'Clouds',\n",
       "     'description': 'broken clouds',\n",
       "     'icon': '04n'}]},\n",
       "  {'dt': 1692763200,\n",
       "   'main': {'temp': 290.61,\n",
       "    'feels_like': 290.24,\n",
       "    'pressure': 1019,\n",
       "    'humidity': 70,\n",
       "    'temp_min': 286.62,\n",
       "    'temp_max': 293.49},\n",
       "   'wind': {'speed': 1.15, 'deg': 13, 'gust': 3.03},\n",
       "   'clouds': {'all': 51},\n",
       "   'weather': [{'id': 803,\n",
       "     'main': 'Clouds',\n",
       "     'description': 'broken clouds',\n",
       "     'icon': '04n'}]},\n",
       "  {'dt': 1692766800,\n",
       "   'main': {'temp': 290.09,\n",
       "    'feels_like': 289.72,\n",
       "    'pressure': 1019,\n",
       "    'humidity': 72,\n",
       "    'temp_min': 286.62,\n",
       "    'temp_max': 292.6},\n",
       "   'wind': {'speed': 1.24, 'deg': 2, 'gust': 2.88},\n",
       "   'clouds': {'all': 42},\n",
       "   'weather': [{'id': 802,\n",
       "     'main': 'Clouds',\n",
       "     'description': 'scattered clouds',\n",
       "     'icon': '03n'}]},\n",
       "  {'dt': 1692770400,\n",
       "   'main': {'temp': 290.13,\n",
       "    'feels_like': 289.82,\n",
       "    'pressure': 1020,\n",
       "    'humidity': 74,\n",
       "    'temp_min': 286.62,\n",
       "    'temp_max': 292.43},\n",
       "   'wind': {'speed': 1.57, 'deg': 346, 'gust': 2.89},\n",
       "   'clouds': {'all': 39},\n",
       "   'weather': [{'id': 802,\n",
       "     'main': 'Clouds',\n",
       "     'description': 'scattered clouds',\n",
       "     'icon': '03n'}]},\n",
       "  {'dt': 1692774000,\n",
       "   'main': {'temp': 290.24,\n",
       "    'feels_like': 289.86,\n",
       "    'pressure': 1020,\n",
       "    'humidity': 71,\n",
       "    'temp_min': 286.66,\n",
       "    'temp_max': 292.09},\n",
       "   'wind': {'speed': 3.09, 'deg': 330},\n",
       "   'clouds': {'all': 0},\n",
       "   'weather': [{'id': 800,\n",
       "     'main': 'Clear',\n",
       "     'description': 'clear sky',\n",
       "     'icon': '01n'}]},\n",
       "  {'dt': 1692777600,\n",
       "   'main': {'temp': 289.66,\n",
       "    'feels_like': 289.35,\n",
       "    'pressure': 1019,\n",
       "    'humidity': 76,\n",
       "    'temp_min': 286.15,\n",
       "    'temp_max': 291.87},\n",
       "   'wind': {'speed': 0.89, 'deg': 331, 'gust': 3.58},\n",
       "   'clouds': {'all': 3},\n",
       "   'weather': [{'id': 800,\n",
       "     'main': 'Clear',\n",
       "     'description': 'clear sky',\n",
       "     'icon': '01n'}]},\n",
       "  {'dt': 1692781200,\n",
       "   'main': {'temp': 289.24,\n",
       "    'feels_like': 288.94,\n",
       "    'pressure': 1019,\n",
       "    'humidity': 78,\n",
       "    'temp_min': 286.16,\n",
       "    'temp_max': 291.27},\n",
       "   'wind': {'speed': 0.45, 'deg': 234, 'gust': 3.58},\n",
       "   'clouds': {'all': 2},\n",
       "   'weather': [{'id': 800,\n",
       "     'main': 'Clear',\n",
       "     'description': 'clear sky',\n",
       "     'icon': '01n'}]},\n",
       "  {'dt': 1692784800,\n",
       "   'main': {'temp': 288.99,\n",
       "    'feels_like': 288.74,\n",
       "    'pressure': 1020,\n",
       "    'humidity': 81,\n",
       "    'temp_min': 285.6,\n",
       "    'temp_max': 291.27},\n",
       "   'wind': {'speed': 0.45, 'deg': 220, 'gust': 0.89},\n",
       "   'clouds': {'all': 5},\n",
       "   'weather': [{'id': 800,\n",
       "     'main': 'Clear',\n",
       "     'description': 'clear sky',\n",
       "     'icon': '01n'}]},\n",
       "  {'dt': 1692788400,\n",
       "   'main': {'temp': 289.11,\n",
       "    'feels_like': 288.88,\n",
       "    'pressure': 1021,\n",
       "    'humidity': 81,\n",
       "    'temp_min': 285.75,\n",
       "    'temp_max': 291.51},\n",
       "   'wind': {'speed': 1.38, 'deg': 14, 'gust': 4.31},\n",
       "   'clouds': {'all': 8},\n",
       "   'weather': [{'id': 800,\n",
       "     'main': 'Clear',\n",
       "     'description': 'clear sky',\n",
       "     'icon': '01d'}]},\n",
       "  {'dt': 1692792000,\n",
       "   'main': {'temp': 291.54,\n",
       "    'feels_like': 291.31,\n",
       "    'pressure': 1020,\n",
       "    'humidity': 72,\n",
       "    'temp_min': 288.53,\n",
       "    'temp_max': 293.27},\n",
       "   'wind': {'speed': 0.45, 'deg': 0, 'gust': 1.79},\n",
       "   'clouds': {'all': 7},\n",
       "   'weather': [{'id': 800,\n",
       "     'main': 'Clear',\n",
       "     'description': 'clear sky',\n",
       "     'icon': '01d'}]},\n",
       "  {'dt': 1692795600,\n",
       "   'main': {'temp': 293.37,\n",
       "    'feels_like': 293.12,\n",
       "    'pressure': 1020,\n",
       "    'humidity': 64,\n",
       "    'temp_min': 290.95,\n",
       "    'temp_max': 295.25},\n",
       "   'wind': {'speed': 2.49, 'deg': 36, 'gust': 3.94},\n",
       "   'clouds': {'all': 10},\n",
       "   'weather': [{'id': 800,\n",
       "     'main': 'Clear',\n",
       "     'description': 'clear sky',\n",
       "     'icon': '01d'}]},\n",
       "  {'dt': 1692799200,\n",
       "   'main': {'temp': 294.24,\n",
       "    'feels_like': 294.02,\n",
       "    'pressure': 1020,\n",
       "    'humidity': 62,\n",
       "    'temp_min': 291.81,\n",
       "    'temp_max': 296.21},\n",
       "   'wind': {'speed': 0.45, 'deg': 71, 'gust': 3.58},\n",
       "   'clouds': {'all': 44},\n",
       "   'weather': [{'id': 802,\n",
       "     'main': 'Clouds',\n",
       "     'description': 'scattered clouds',\n",
       "     'icon': '03d'}]},\n",
       "  {'dt': 1692802800,\n",
       "   'main': {'temp': 295.29,\n",
       "    'feels_like': 295.05,\n",
       "    'pressure': 1020,\n",
       "    'humidity': 57,\n",
       "    'temp_min': 293.48,\n",
       "    'temp_max': 296.97},\n",
       "   'wind': {'speed': 2.59, 'deg': 36, 'gust': 3.2},\n",
       "   'clouds': {'all': 62},\n",
       "   'weather': [{'id': 803,\n",
       "     'main': 'Clouds',\n",
       "     'description': 'broken clouds',\n",
       "     'icon': '04d'}]},\n",
       "  {'dt': 1692806400,\n",
       "   'main': {'temp': 297.18,\n",
       "    'feels_like': 296.92,\n",
       "    'pressure': 1019,\n",
       "    'humidity': 49,\n",
       "    'temp_min': 295.39,\n",
       "    'temp_max': 298.83},\n",
       "   'wind': {'speed': 0.45, 'deg': 67, 'gust': 2.68},\n",
       "   'clouds': {'all': 72},\n",
       "   'weather': [{'id': 803,\n",
       "     'main': 'Clouds',\n",
       "     'description': 'broken clouds',\n",
       "     'icon': '04d'}]},\n",
       "  {'dt': 1692810000,\n",
       "   'main': {'temp': 297.98,\n",
       "    'feels_like': 297.8,\n",
       "    'pressure': 1020,\n",
       "    'humidity': 49,\n",
       "    'temp_min': 296.41,\n",
       "    'temp_max': 299.85},\n",
       "   'wind': {'speed': 1.58, 'deg': 21, 'gust': 2.26},\n",
       "   'clouds': {'all': 77},\n",
       "   'weather': [{'id': 803,\n",
       "     'main': 'Clouds',\n",
       "     'description': 'broken clouds',\n",
       "     'icon': '04d'}]},\n",
       "  {'dt': 1692813600,\n",
       "   'main': {'temp': 299.06,\n",
       "    'feels_like': 298.83,\n",
       "    'pressure': 1019,\n",
       "    'humidity': 43,\n",
       "    'temp_min': 297.05,\n",
       "    'temp_max': 300.65},\n",
       "   'wind': {'speed': 1.79, 'deg': 96, 'gust': 4.47},\n",
       "   'clouds': {'all': 76},\n",
       "   'weather': [{'id': 803,\n",
       "     'main': 'Clouds',\n",
       "     'description': 'broken clouds',\n",
       "     'icon': '04d'}]},\n",
       "  {'dt': 1692817200,\n",
       "   'main': {'temp': 299.56,\n",
       "    'feels_like': 299.56,\n",
       "    'pressure': 1018,\n",
       "    'humidity': 43,\n",
       "    'temp_min': 297.46,\n",
       "    'temp_max': 301.21},\n",
       "   'wind': {'speed': 2.06, 'deg': 140},\n",
       "   'clouds': {'all': 75},\n",
       "   'weather': [{'id': 803,\n",
       "     'main': 'Clouds',\n",
       "     'description': 'broken clouds',\n",
       "     'icon': '04d'}]},\n",
       "  {'dt': 1692820800,\n",
       "   'main': {'temp': 299.13,\n",
       "    'feels_like': 299.13,\n",
       "    'pressure': 1018,\n",
       "    'humidity': 45,\n",
       "    'temp_min': 296.8,\n",
       "    'temp_max': 300.76},\n",
       "   'wind': {'speed': 0.45, 'deg': 0, 'gust': 2.68},\n",
       "   'clouds': {'all': 83},\n",
       "   'weather': [{'id': 803,\n",
       "     'main': 'Clouds',\n",
       "     'description': 'broken clouds',\n",
       "     'icon': '04d'}]},\n",
       "  {'dt': 1692824400,\n",
       "   'main': {'temp': 298.62,\n",
       "    'feels_like': 298.45,\n",
       "    'pressure': 1017,\n",
       "    'humidity': 47,\n",
       "    'temp_min': 296.35,\n",
       "    'temp_max': 300.21},\n",
       "   'wind': {'speed': 1.27, 'deg': 6, 'gust': 1.61},\n",
       "   'clouds': {'all': 83},\n",
       "   'weather': [{'id': 803,\n",
       "     'main': 'Clouds',\n",
       "     'description': 'broken clouds',\n",
       "     'icon': '04d'}]},\n",
       "  {'dt': 1692828000,\n",
       "   'main': {'temp': 298.05,\n",
       "    'feels_like': 297.9,\n",
       "    'pressure': 1016,\n",
       "    'humidity': 50,\n",
       "    'temp_min': 295.8,\n",
       "    'temp_max': 299.32},\n",
       "   'wind': {'speed': 1.22, 'deg': 26, 'gust': 1.73},\n",
       "   'clouds': {'all': 87},\n",
       "   'weather': [{'id': 804,\n",
       "     'main': 'Clouds',\n",
       "     'description': 'overcast clouds',\n",
       "     'icon': '04d'}]},\n",
       "  {'dt': 1692831600,\n",
       "   'main': {'temp': 297.13,\n",
       "    'feels_like': 296.99,\n",
       "    'pressure': 1016,\n",
       "    'humidity': 54,\n",
       "    'temp_min': 294.69,\n",
       "    'temp_max': 298.71},\n",
       "   'wind': {'speed': 1.65, 'deg': 67, 'gust': 2.76},\n",
       "   'clouds': {'all': 90},\n",
       "   'weather': [{'id': 804,\n",
       "     'main': 'Clouds',\n",
       "     'description': 'overcast clouds',\n",
       "     'icon': '04d'}]},\n",
       "  {'dt': 1692835200,\n",
       "   'main': {'temp': 295.78,\n",
       "    'feels_like': 295.72,\n",
       "    'pressure': 1015,\n",
       "    'humidity': 62,\n",
       "    'temp_min': 293.58,\n",
       "    'temp_max': 297.38},\n",
       "   'wind': {'speed': 0.45, 'deg': 0, 'gust': 4.92},\n",
       "   'clouds': {'all': 89},\n",
       "   'weather': [{'id': 804,\n",
       "     'main': 'Clouds',\n",
       "     'description': 'overcast clouds',\n",
       "     'icon': '04n'}]},\n",
       "  {'dt': 1692838800,\n",
       "   'main': {'temp': 295.08,\n",
       "    'feels_like': 295.03,\n",
       "    'pressure': 1017,\n",
       "    'humidity': 65,\n",
       "    'temp_min': 292.92,\n",
       "    'temp_max': 296.51},\n",
       "   'wind': {'speed': 1.79, 'deg': 132, 'gust': 6.26},\n",
       "   'clouds': {'all': 100},\n",
       "   'weather': [{'id': 804,\n",
       "     'main': 'Clouds',\n",
       "     'description': 'overcast clouds',\n",
       "     'icon': '04n'}]},\n",
       "  {'dt': 1692842400,\n",
       "   'main': {'temp': 294.58,\n",
       "    'feels_like': 294.48,\n",
       "    'pressure': 1017,\n",
       "    'humidity': 65,\n",
       "    'temp_min': 292.97,\n",
       "    'temp_max': 295.68},\n",
       "   'wind': {'speed': 2.97, 'deg': 149, 'gust': 5.71},\n",
       "   'clouds': {'all': 96},\n",
       "   'weather': [{'id': 804,\n",
       "     'main': 'Clouds',\n",
       "     'description': 'overcast clouds',\n",
       "     'icon': '04n'}]},\n",
       "  {'dt': 1692846000,\n",
       "   'main': {'temp': 294.2,\n",
       "    'feels_like': 294.16,\n",
       "    'pressure': 1017,\n",
       "    'humidity': 69,\n",
       "    'temp_min': 292.59,\n",
       "    'temp_max': 295.35},\n",
       "   'wind': {'speed': 2.33, 'deg': 155, 'gust': 4.8},\n",
       "   'clouds': {'all': 98},\n",
       "   'weather': [{'id': 804,\n",
       "     'main': 'Clouds',\n",
       "     'description': 'overcast clouds',\n",
       "     'icon': '04n'}]},\n",
       "  {'dt': 1692849600,\n",
       "   'main': {'temp': 293.86,\n",
       "    'feels_like': 293.81,\n",
       "    'pressure': 1018,\n",
       "    'humidity': 70,\n",
       "    'temp_min': 292.14,\n",
       "    'temp_max': 294.91},\n",
       "   'wind': {'speed': 2.06, 'deg': 150},\n",
       "   'clouds': {'all': 100},\n",
       "   'weather': [{'id': 804,\n",
       "     'main': 'Clouds',\n",
       "     'description': 'overcast clouds',\n",
       "     'icon': '04n'}]},\n",
       "  {'dt': 1692853200,\n",
       "   'main': {'temp': 293.54,\n",
       "    'feels_like': 293.57,\n",
       "    'pressure': 1017,\n",
       "    'humidity': 74,\n",
       "    'temp_min': 291.91,\n",
       "    'temp_max': 294.54},\n",
       "   'wind': {'speed': 1.88, 'deg': 146, 'gust': 5.46},\n",
       "   'clouds': {'all': 99},\n",
       "   'weather': [{'id': 804,\n",
       "     'main': 'Clouds',\n",
       "     'description': 'overcast clouds',\n",
       "     'icon': '04n'}]},\n",
       "  {'dt': 1692856800,\n",
       "   'main': {'temp': 293.42,\n",
       "    'feels_like': 293.46,\n",
       "    'pressure': 1018,\n",
       "    'humidity': 75,\n",
       "    'temp_min': 291.48,\n",
       "    'temp_max': 294.65},\n",
       "   'wind': {'speed': 0.89, 'deg': 182, 'gust': 4.02},\n",
       "   'clouds': {'all': 100},\n",
       "   'weather': [{'id': 804,\n",
       "     'main': 'Clouds',\n",
       "     'description': 'overcast clouds',\n",
       "     'icon': '04n'}]},\n",
       "  {'dt': 1692860400,\n",
       "   'main': {'temp': 293.27,\n",
       "    'feels_like': 293.35,\n",
       "    'pressure': 1017,\n",
       "    'humidity': 77,\n",
       "    'temp_min': 291.35,\n",
       "    'temp_max': 294.29},\n",
       "   'wind': {'speed': 1.54, 'deg': 130},\n",
       "   'clouds': {'all': 100},\n",
       "   'weather': [{'id': 804,\n",
       "     'main': 'Clouds',\n",
       "     'description': 'overcast clouds',\n",
       "     'icon': '04n'}]},\n",
       "  {'dt': 1692864000,\n",
       "   'main': {'temp': 293.29,\n",
       "    'feels_like': 293.37,\n",
       "    'pressure': 1017,\n",
       "    'humidity': 77,\n",
       "    'temp_min': 291.15,\n",
       "    'temp_max': 294.65},\n",
       "   'wind': {'speed': 2.15, 'deg': 146, 'gust': 5.66},\n",
       "   'clouds': {'all': 100},\n",
       "   'weather': [{'id': 804,\n",
       "     'main': 'Clouds',\n",
       "     'description': 'overcast clouds',\n",
       "     'icon': '04n'}]},\n",
       "  {'dt': 1692867600,\n",
       "   'main': {'temp': 293.23,\n",
       "    'feels_like': 293.33,\n",
       "    'pressure': 1015,\n",
       "    'humidity': 78,\n",
       "    'temp_min': 291.03,\n",
       "    'temp_max': 294.29},\n",
       "   'wind': {'speed': 2.04, 'deg': 149, 'gust': 5.66},\n",
       "   'clouds': {'all': 100},\n",
       "   'weather': [{'id': 804,\n",
       "     'main': 'Clouds',\n",
       "     'description': 'overcast clouds',\n",
       "     'icon': '04n'}]},\n",
       "  {'dt': 1692871200,\n",
       "   'main': {'temp': 293.17,\n",
       "    'feels_like': 293.29,\n",
       "    'pressure': 1015,\n",
       "    'humidity': 79,\n",
       "    'temp_min': 291.03,\n",
       "    'temp_max': 294.35},\n",
       "   'wind': {'speed': 2.35, 'deg': 160, 'gust': 6.62},\n",
       "   'clouds': {'all': 100},\n",
       "   'weather': [{'id': 804,\n",
       "     'main': 'Clouds',\n",
       "     'description': 'overcast clouds',\n",
       "     'icon': '04n'}]},\n",
       "  {'dt': 1692874800,\n",
       "   'main': {'temp': 293.23,\n",
       "    'feels_like': 293.38,\n",
       "    'pressure': 1016,\n",
       "    'humidity': 80,\n",
       "    'temp_min': 291.29,\n",
       "    'temp_max': 294.29},\n",
       "   'wind': {'speed': 2.53, 'deg': 158, 'gust': 6.55},\n",
       "   'clouds': {'all': 100},\n",
       "   'weather': [{'id': 804,\n",
       "     'main': 'Clouds',\n",
       "     'description': 'overcast clouds',\n",
       "     'icon': '04d'}]},\n",
       "  {'dt': 1692878400,\n",
       "   'main': {'temp': 293.39,\n",
       "    'feels_like': 293.58,\n",
       "    'pressure': 1017,\n",
       "    'humidity': 81,\n",
       "    'temp_min': 291.48,\n",
       "    'temp_max': 294.54},\n",
       "   'wind': {'speed': 2.41, 'deg': 156, 'gust': 6.48},\n",
       "   'clouds': {'all': 100},\n",
       "   'weather': [{'id': 804,\n",
       "     'main': 'Clouds',\n",
       "     'description': 'overcast clouds',\n",
       "     'icon': '04d'}]},\n",
       "  {'dt': 1692882000,\n",
       "   'main': {'temp': 293.56,\n",
       "    'feels_like': 293.77,\n",
       "    'pressure': 1016,\n",
       "    'humidity': 81,\n",
       "    'temp_min': 291.9,\n",
       "    'temp_max': 294.8},\n",
       "   'wind': {'speed': 0.89, 'deg': 0, 'gust': 4.02},\n",
       "   'clouds': {'all': 100},\n",
       "   'weather': [{'id': 804,\n",
       "     'main': 'Clouds',\n",
       "     'description': 'overcast clouds',\n",
       "     'icon': '04d'}]},\n",
       "  {'dt': 1692885600,\n",
       "   'main': {'temp': 294.03,\n",
       "    'feels_like': 294.31,\n",
       "    'pressure': 1017,\n",
       "    'humidity': 82,\n",
       "    'temp_min': 292.42,\n",
       "    'temp_max': 295.35},\n",
       "   'wind': {'speed': 0.89, 'deg': 232, 'gust': 3.13},\n",
       "   'clouds': {'all': 100},\n",
       "   'weather': [{'id': 804,\n",
       "     'main': 'Clouds',\n",
       "     'description': 'overcast clouds',\n",
       "     'icon': '04d'}]},\n",
       "  {'dt': 1692889200,\n",
       "   'main': {'temp': 294.9,\n",
       "    'feels_like': 295.06,\n",
       "    'pressure': 1016,\n",
       "    'humidity': 74,\n",
       "    'temp_min': 293.15,\n",
       "    'temp_max': 296.51},\n",
       "   'wind': {'speed': 1.34, 'deg': 156, 'gust': 4.47},\n",
       "   'clouds': {'all': 100},\n",
       "   'weather': [{'id': 804,\n",
       "     'main': 'Clouds',\n",
       "     'description': 'overcast clouds',\n",
       "     'icon': '04d'}]},\n",
       "  {'dt': 1692892800,\n",
       "   'main': {'temp': 295.31,\n",
       "    'feels_like': 295.44,\n",
       "    'pressure': 1016,\n",
       "    'humidity': 71,\n",
       "    'temp_min': 293.88,\n",
       "    'temp_max': 296.57},\n",
       "   'wind': {'speed': 1.34, 'deg': 0, 'gust': 4.92},\n",
       "   'clouds': {'all': 100},\n",
       "   'weather': [{'id': 804,\n",
       "     'main': 'Clouds',\n",
       "     'description': 'overcast clouds',\n",
       "     'icon': '04d'}]},\n",
       "  {'dt': 1692896400,\n",
       "   'main': {'temp': 295.74,\n",
       "    'feels_like': 295.88,\n",
       "    'pressure': 1016,\n",
       "    'humidity': 70,\n",
       "    'temp_min': 294.36,\n",
       "    'temp_max': 297.13},\n",
       "   'wind': {'speed': 0.89, 'deg': 149, 'gust': 2.68},\n",
       "   'clouds': {'all': 100},\n",
       "   'weather': [{'id': 804,\n",
       "     'main': 'Clouds',\n",
       "     'description': 'overcast clouds',\n",
       "     'icon': '04d'}]},\n",
       "  {'dt': 1692900000,\n",
       "   'main': {'temp': 296.1,\n",
       "    'feels_like': 296.3,\n",
       "    'pressure': 1015,\n",
       "    'humidity': 71,\n",
       "    'temp_min': 294.7,\n",
       "    'temp_max': 297.68},\n",
       "   'wind': {'speed': 2.57, 'deg': 170},\n",
       "   'clouds': {'all': 100},\n",
       "   'weather': [{'id': 804,\n",
       "     'main': 'Clouds',\n",
       "     'description': 'overcast clouds',\n",
       "     'icon': '04d'}]},\n",
       "  {'dt': 1692903600,\n",
       "   'main': {'temp': 295.79,\n",
       "    'feels_like': 296.02,\n",
       "    'pressure': 1016,\n",
       "    'humidity': 73,\n",
       "    'temp_min': 294.15,\n",
       "    'temp_max': 297.29},\n",
       "   'wind': {'speed': 4.12, 'deg': 140},\n",
       "   'clouds': {'all': 100},\n",
       "   'weather': [{'id': 500,\n",
       "     'main': 'Rain',\n",
       "     'description': 'light rain',\n",
       "     'icon': '10d'}],\n",
       "   'rain': {'1h': 0.34}},\n",
       "  {'dt': 1692907200,\n",
       "   'main': {'temp': 294.78,\n",
       "    'feels_like': 295.06,\n",
       "    'pressure': 1015,\n",
       "    'humidity': 79,\n",
       "    'temp_min': 292.66,\n",
       "    'temp_max': 296.42},\n",
       "   'wind': {'speed': 2.57, 'deg': 150},\n",
       "   'clouds': {'all': 100},\n",
       "   'weather': [{'id': 804,\n",
       "     'main': 'Clouds',\n",
       "     'description': 'overcast clouds',\n",
       "     'icon': '04d'}]},\n",
       "  {'dt': 1692910800,\n",
       "   'main': {'temp': 294.56,\n",
       "    'feels_like': 294.98,\n",
       "    'pressure': 1014,\n",
       "    'humidity': 85,\n",
       "    'temp_min': 291.8,\n",
       "    'temp_max': 296.97},\n",
       "   'wind': {'speed': 0.45, 'deg': 175, 'gust': 3.58},\n",
       "   'clouds': {'all': 100},\n",
       "   'weather': [{'id': 804,\n",
       "     'main': 'Clouds',\n",
       "     'description': 'overcast clouds',\n",
       "     'icon': '04d'}]},\n",
       "  {'dt': 1692914400,\n",
       "   'main': {'temp': 294.77,\n",
       "    'feels_like': 295.29,\n",
       "    'pressure': 1015,\n",
       "    'humidity': 88,\n",
       "    'temp_min': 292.14,\n",
       "    'temp_max': 296.97},\n",
       "   'wind': {'speed': 3.85, 'deg': 139, 'gust': 10.94},\n",
       "   'clouds': {'all': 100},\n",
       "   'weather': [{'id': 804,\n",
       "     'main': 'Clouds',\n",
       "     'description': 'overcast clouds',\n",
       "     'icon': '04d'}]},\n",
       "  {'dt': 1692918000,\n",
       "   'main': {'temp': 294.83,\n",
       "    'feels_like': 295.33,\n",
       "    'pressure': 1014,\n",
       "    'humidity': 87,\n",
       "    'temp_min': 292.14,\n",
       "    'temp_max': 296.97},\n",
       "   'wind': {'speed': 0.45, 'deg': 233, 'gust': 4.47},\n",
       "   'clouds': {'all': 100},\n",
       "   'weather': [{'id': 804,\n",
       "     'main': 'Clouds',\n",
       "     'description': 'overcast clouds',\n",
       "     'icon': '04d'}]},\n",
       "  {'dt': 1692921600,\n",
       "   'main': {'temp': 294.6,\n",
       "    'feels_like': 295.1,\n",
       "    'pressure': 1015,\n",
       "    'humidity': 88,\n",
       "    'temp_min': 292.37,\n",
       "    'temp_max': 296.36},\n",
       "   'wind': {'speed': 0.45, 'deg': 41, 'gust': 4.02},\n",
       "   'clouds': {'all': 100},\n",
       "   'weather': [{'id': 804,\n",
       "     'main': 'Clouds',\n",
       "     'description': 'overcast clouds',\n",
       "     'icon': '04n'}]},\n",
       "  {'dt': 1692925200,\n",
       "   'main': {'temp': 294.27,\n",
       "    'feels_like': 294.76,\n",
       "    'pressure': 1015,\n",
       "    'humidity': 89,\n",
       "    'temp_min': 292.14,\n",
       "    'temp_max': 295.86},\n",
       "   'wind': {'speed': 3.74, 'deg': 147, 'gust': 11.02},\n",
       "   'clouds': {'all': 100},\n",
       "   'weather': [{'id': 804,\n",
       "     'main': 'Clouds',\n",
       "     'description': 'overcast clouds',\n",
       "     'icon': '04n'}]},\n",
       "  {'dt': 1692928800,\n",
       "   'main': {'temp': 294.08,\n",
       "    'feels_like': 294.53,\n",
       "    'pressure': 1014,\n",
       "    'humidity': 88,\n",
       "    'temp_min': 292.16,\n",
       "    'temp_max': 295.61},\n",
       "   'wind': {'speed': 0.89, 'deg': 157, 'gust': 3.58},\n",
       "   'clouds': {'all': 100},\n",
       "   'weather': [{'id': 804,\n",
       "     'main': 'Clouds',\n",
       "     'description': 'overcast clouds',\n",
       "     'icon': '04n'}]},\n",
       "  {'dt': 1692932400,\n",
       "   'main': {'temp': 294.3,\n",
       "    'feels_like': 294.66,\n",
       "    'pressure': 1014,\n",
       "    'humidity': 84,\n",
       "    'temp_min': 292.16,\n",
       "    'temp_max': 295.91},\n",
       "   'wind': {'speed': 1.79, 'deg': 111, 'gust': 4.02},\n",
       "   'clouds': {'all': 100},\n",
       "   'weather': [{'id': 804,\n",
       "     'main': 'Clouds',\n",
       "     'description': 'overcast clouds',\n",
       "     'icon': '04n'}]},\n",
       "  {'dt': 1692936000,\n",
       "   'main': {'temp': 294.28,\n",
       "    'feels_like': 294.67,\n",
       "    'pressure': 1013,\n",
       "    'humidity': 85,\n",
       "    'temp_min': 292.33,\n",
       "    'temp_max': 295.96},\n",
       "   'wind': {'speed': 1.34, 'deg': 221, 'gust': 3.13},\n",
       "   'clouds': {'all': 100},\n",
       "   'weather': [{'id': 804,\n",
       "     'main': 'Clouds',\n",
       "     'description': 'overcast clouds',\n",
       "     'icon': '04n'}]},\n",
       "  {'dt': 1692939600,\n",
       "   'main': {'temp': 294.42,\n",
       "    'feels_like': 294.85,\n",
       "    'pressure': 1013,\n",
       "    'humidity': 86,\n",
       "    'temp_min': 292.33,\n",
       "    'temp_max': 295.97},\n",
       "   'wind': {'speed': 0.45, 'deg': 3, 'gust': 3.13},\n",
       "   'clouds': {'all': 98},\n",
       "   'weather': [{'id': 804,\n",
       "     'main': 'Clouds',\n",
       "     'description': 'overcast clouds',\n",
       "     'icon': '04n'}]},\n",
       "  {'dt': 1692943200,\n",
       "   'main': {'temp': 294.63,\n",
       "    'feels_like': 295.13,\n",
       "    'pressure': 1013,\n",
       "    'humidity': 88,\n",
       "    'temp_min': 292.45,\n",
       "    'temp_max': 296.21},\n",
       "   'wind': {'speed': 0.45, 'deg': 0, 'gust': 2.24},\n",
       "   'clouds': {'all': 100},\n",
       "   'weather': [{'id': 804,\n",
       "     'main': 'Clouds',\n",
       "     'description': 'overcast clouds',\n",
       "     'icon': '04n'}]},\n",
       "  {'dt': 1692946800,\n",
       "   'main': {'temp': 294.87,\n",
       "    'feels_like': 295.42,\n",
       "    'pressure': 1013,\n",
       "    'humidity': 89,\n",
       "    'temp_min': 292.69,\n",
       "    'temp_max': 296.21},\n",
       "   'wind': {'speed': 1.54, 'deg': 150},\n",
       "   'clouds': {'all': 100},\n",
       "   'weather': [{'id': 804,\n",
       "     'main': 'Clouds',\n",
       "     'description': 'overcast clouds',\n",
       "     'icon': '04n'}]},\n",
       "  {'dt': 1692950400,\n",
       "   'main': {'temp': 295.08,\n",
       "    'feels_like': 295.65,\n",
       "    'pressure': 1012,\n",
       "    'humidity': 89,\n",
       "    'temp_min': 293.1,\n",
       "    'temp_max': 296.21},\n",
       "   'wind': {'speed': 0.89, 'deg': 217, 'gust': 2.68},\n",
       "   'clouds': {'all': 74},\n",
       "   'weather': [{'id': 803,\n",
       "     'main': 'Clouds',\n",
       "     'description': 'broken clouds',\n",
       "     'icon': '04n'}]},\n",
       "  {'dt': 1692954000,\n",
       "   'main': {'temp': 295.36,\n",
       "    'feels_like': 295.93,\n",
       "    'pressure': 1011,\n",
       "    'humidity': 88,\n",
       "    'temp_min': 293.48,\n",
       "    'temp_max': 296.21},\n",
       "   'wind': {'speed': 2.24, 'deg': 135, 'gust': 4.02},\n",
       "   'clouds': {'all': 82},\n",
       "   'weather': [{'id': 803,\n",
       "     'main': 'Clouds',\n",
       "     'description': 'broken clouds',\n",
       "     'icon': '04n'}]},\n",
       "  {'dt': 1692957600,\n",
       "   'main': {'temp': 295.25,\n",
       "    'feels_like': 295.84,\n",
       "    'pressure': 1011,\n",
       "    'humidity': 89,\n",
       "    'temp_min': 293.92,\n",
       "    'temp_max': 296.29},\n",
       "   'wind': {'speed': 2.06, 'deg': 0},\n",
       "   'clouds': {'all': 75},\n",
       "   'weather': [{'id': 803,\n",
       "     'main': 'Clouds',\n",
       "     'description': 'broken clouds',\n",
       "     'icon': '04n'}]},\n",
       "  {'dt': 1692961200,\n",
       "   'main': {'temp': 295.18,\n",
       "    'feels_like': 295.81,\n",
       "    'pressure': 1012,\n",
       "    'humidity': 91,\n",
       "    'temp_min': 293.58,\n",
       "    'temp_max': 296.08},\n",
       "   'wind': {'speed': 2.26, 'deg': 213, 'gust': 8.52},\n",
       "   'clouds': {'all': 89},\n",
       "   'weather': [{'id': 804,\n",
       "     'main': 'Clouds',\n",
       "     'description': 'overcast clouds',\n",
       "     'icon': '04d'}]},\n",
       "  {'dt': 1692964800,\n",
       "   'main': {'temp': 295.33,\n",
       "    'feels_like': 295.98,\n",
       "    'pressure': 1011,\n",
       "    'humidity': 91,\n",
       "    'temp_min': 293.87,\n",
       "    'temp_max': 296.46},\n",
       "   'wind': {'speed': 0.89, 'deg': 174, 'gust': 3.58},\n",
       "   'clouds': {'all': 93},\n",
       "   'weather': [{'id': 500,\n",
       "     'main': 'Rain',\n",
       "     'description': 'light rain',\n",
       "     'icon': '10d'}],\n",
       "   'rain': {'1h': 0.42}},\n",
       "  {'dt': 1692968400,\n",
       "   'main': {'temp': 295.49,\n",
       "    'feels_like': 296.21,\n",
       "    'pressure': 1010,\n",
       "    'humidity': 93,\n",
       "    'temp_min': 294.32,\n",
       "    'temp_max': 296.41},\n",
       "   'wind': {'speed': 2.57, 'deg': 170},\n",
       "   'clouds': {'all': 100},\n",
       "   'weather': [{'id': 500,\n",
       "     'main': 'Rain',\n",
       "     'description': 'light rain',\n",
       "     'icon': '10d'}],\n",
       "   'rain': {'1h': 0.37}},\n",
       "  {'dt': 1692972000,\n",
       "   'main': {'temp': 296.23,\n",
       "    'feels_like': 296.97,\n",
       "    'pressure': 1010,\n",
       "    'humidity': 91,\n",
       "    'temp_min': 294.79,\n",
       "    'temp_max': 297.62},\n",
       "   'wind': {'speed': 0.89, 'deg': 157, 'gust': 3.13},\n",
       "   'clouds': {'all': 100},\n",
       "   'weather': [{'id': 804,\n",
       "     'main': 'Clouds',\n",
       "     'description': 'overcast clouds',\n",
       "     'icon': '04d'}]},\n",
       "  {'dt': 1692975600,\n",
       "   'main': {'temp': 297.11,\n",
       "    'feels_like': 297.83,\n",
       "    'pressure': 1012,\n",
       "    'humidity': 87,\n",
       "    'temp_min': 295.15,\n",
       "    'temp_max': 298.97},\n",
       "   'wind': {'speed': 2.06, 'deg': 0},\n",
       "   'clouds': {'all': 75},\n",
       "   'weather': [{'id': 803,\n",
       "     'main': 'Clouds',\n",
       "     'description': 'broken clouds',\n",
       "     'icon': '04d'}]},\n",
       "  {'dt': 1692979200,\n",
       "   'main': {'temp': 298.36,\n",
       "    'feels_like': 299.05,\n",
       "    'pressure': 1010,\n",
       "    'humidity': 81,\n",
       "    'temp_min': 296.36,\n",
       "    'temp_max': 300.8},\n",
       "   'wind': {'speed': 3.6, 'deg': 210},\n",
       "   'clouds': {'all': 100},\n",
       "   'weather': [{'id': 804,\n",
       "     'main': 'Clouds',\n",
       "     'description': 'overcast clouds',\n",
       "     'icon': '04d'}]},\n",
       "  {'dt': 1692982800,\n",
       "   'main': {'temp': 299.59,\n",
       "    'feels_like': 299.59,\n",
       "    'pressure': 1009,\n",
       "    'humidity': 78,\n",
       "    'temp_min': 296.81,\n",
       "    'temp_max': 302.21},\n",
       "   'wind': {'speed': 4.12, 'deg': 230},\n",
       "   'clouds': {'all': 75},\n",
       "   'weather': [{'id': 803,\n",
       "     'main': 'Clouds',\n",
       "     'description': 'broken clouds',\n",
       "     'icon': '04d'}]},\n",
       "  {'dt': 1692986400,\n",
       "   'main': {'temp': 301.08,\n",
       "    'feels_like': 303.68,\n",
       "    'pressure': 1010,\n",
       "    'humidity': 70,\n",
       "    'temp_min': 298.34,\n",
       "    'temp_max': 303.74},\n",
       "   'wind': {'speed': 3.09, 'deg': 210},\n",
       "   'clouds': {'all': 75},\n",
       "   'weather': [{'id': 803,\n",
       "     'main': 'Clouds',\n",
       "     'description': 'broken clouds',\n",
       "     'icon': '04d'}]},\n",
       "  {'dt': 1692990000,\n",
       "   'main': {'temp': 302.05,\n",
       "    'feels_like': 305.13,\n",
       "    'pressure': 1009,\n",
       "    'humidity': 67,\n",
       "    'temp_min': 299.59,\n",
       "    'temp_max': 303.83},\n",
       "   'wind': {'speed': 3.6, 'deg': 250},\n",
       "   'clouds': {'all': 75},\n",
       "   'weather': [{'id': 803,\n",
       "     'main': 'Clouds',\n",
       "     'description': 'broken clouds',\n",
       "     'icon': '04d'}]},\n",
       "  {'dt': 1692993600,\n",
       "   'main': {'temp': 302.58,\n",
       "    'feels_like': 306.23,\n",
       "    'pressure': 1009,\n",
       "    'humidity': 67,\n",
       "    'temp_min': 300.92,\n",
       "    'temp_max': 304.29},\n",
       "   'wind': {'speed': 1.34, 'deg': 292, 'gust': 4.02},\n",
       "   'clouds': {'all': 63},\n",
       "   'weather': [{'id': 803,\n",
       "     'main': 'Clouds',\n",
       "     'description': 'broken clouds',\n",
       "     'icon': '04d'}]},\n",
       "  {'dt': 1692997200,\n",
       "   'main': {'temp': 302.81,\n",
       "    'feels_like': 306.94,\n",
       "    'pressure': 1009,\n",
       "    'humidity': 68,\n",
       "    'temp_min': 300.66,\n",
       "    'temp_max': 304.48},\n",
       "   'wind': {'speed': 1.79, 'deg': 219, 'gust': 5.36},\n",
       "   'clouds': {'all': 55},\n",
       "   'weather': [{'id': 803,\n",
       "     'main': 'Clouds',\n",
       "     'description': 'broken clouds',\n",
       "     'icon': '04d'}]},\n",
       "  {'dt': 1693000800,\n",
       "   'main': {'temp': 302.37,\n",
       "    'feels_like': 305.98,\n",
       "    'pressure': 1009,\n",
       "    'humidity': 68,\n",
       "    'temp_min': 300.25,\n",
       "    'temp_max': 304.1},\n",
       "   'wind': {'speed': 0.89, 'deg': 29, 'gust': 2.24},\n",
       "   'clouds': {'all': 51},\n",
       "   'weather': [{'id': 803,\n",
       "     'main': 'Clouds',\n",
       "     'description': 'broken clouds',\n",
       "     'icon': '04d'}]},\n",
       "  {'dt': 1693004400,\n",
       "   'main': {'temp': 301.48,\n",
       "    'feels_like': 304.77,\n",
       "    'pressure': 1008,\n",
       "    'humidity': 72,\n",
       "    'temp_min': 299.13,\n",
       "    'temp_max': 303.33},\n",
       "   'wind': {'speed': 1.34, 'deg': 192, 'gust': 4.02},\n",
       "   'clouds': {'all': 42},\n",
       "   'weather': [{'id': 802,\n",
       "     'main': 'Clouds',\n",
       "     'description': 'scattered clouds',\n",
       "     'icon': '03d'}]},\n",
       "  {'dt': 1693008000,\n",
       "   'main': {'temp': 299.38,\n",
       "    'feels_like': 299.38,\n",
       "    'pressure': 1010,\n",
       "    'humidity': 82,\n",
       "    'temp_min': 297.46,\n",
       "    'temp_max': 300.94},\n",
       "   'wind': {'speed': 0.64, 'deg': 87, 'gust': 0.97},\n",
       "   'clouds': {'all': 79},\n",
       "   'weather': [{'id': 803,\n",
       "     'main': 'Clouds',\n",
       "     'description': 'broken clouds',\n",
       "     'icon': '04n'}]},\n",
       "  {'dt': 1693011600,\n",
       "   'main': {'temp': 298.02,\n",
       "    'feels_like': 298.81,\n",
       "    'pressure': 1010,\n",
       "    'humidity': 86,\n",
       "    'temp_min': 295.8,\n",
       "    'temp_max': 299.6},\n",
       "   'wind': {'speed': 1.56, 'deg': 130, 'gust': 2.26},\n",
       "   'clouds': {'all': 35},\n",
       "   'weather': [{'id': 802,\n",
       "     'main': 'Clouds',\n",
       "     'description': 'scattered clouds',\n",
       "     'icon': '03n'}]},\n",
       "  {'dt': 1693015200,\n",
       "   'main': {'temp': 297.15,\n",
       "    'feels_like': 297.93,\n",
       "    'pressure': 1010,\n",
       "    'humidity': 89,\n",
       "    'temp_min': 295.15,\n",
       "    'temp_max': 298.74},\n",
       "   'wind': {'speed': 1.98, 'deg': 154, 'gust': 4.41},\n",
       "   'clouds': {'all': 18},\n",
       "   'weather': [{'id': 801,\n",
       "     'main': 'Clouds',\n",
       "     'description': 'few clouds',\n",
       "     'icon': '02n'}]},\n",
       "  {'dt': 1693018800,\n",
       "   'main': {'temp': 296.63,\n",
       "    'feels_like': 297.41,\n",
       "    'pressure': 1010,\n",
       "    'humidity': 91,\n",
       "    'temp_min': 294.62,\n",
       "    'temp_max': 298.18},\n",
       "   'wind': {'speed': 1.83, 'deg': 174, 'gust': 4.63},\n",
       "   'clouds': {'all': 13},\n",
       "   'weather': [{'id': 801,\n",
       "     'main': 'Clouds',\n",
       "     'description': 'few clouds',\n",
       "     'icon': '02n'}]},\n",
       "  {'dt': 1693022400,\n",
       "   'main': {'temp': 296.3,\n",
       "    'feels_like': 297.1,\n",
       "    'pressure': 1010,\n",
       "    'humidity': 93,\n",
       "    'temp_min': 294.36,\n",
       "    'temp_max': 297.86},\n",
       "   'wind': {'speed': 1.61, 'deg': 183, 'gust': 4.25},\n",
       "   'clouds': {'all': 18},\n",
       "   'weather': [{'id': 801,\n",
       "     'main': 'Clouds',\n",
       "     'description': 'few clouds',\n",
       "     'icon': '02n'}]},\n",
       "  {'dt': 1693026000,\n",
       "   'main': {'temp': 296.15,\n",
       "    'feels_like': 296.93,\n",
       "    'pressure': 1010,\n",
       "    'humidity': 93,\n",
       "    'temp_min': 294.04,\n",
       "    'temp_max': 297.68},\n",
       "   'wind': {'speed': 1.01, 'deg': 200, 'gust': 2.61},\n",
       "   'clouds': {'all': 20},\n",
       "   'weather': [{'id': 801,\n",
       "     'main': 'Clouds',\n",
       "     'description': 'few clouds',\n",
       "     'icon': '02n'}]},\n",
       "  {'dt': 1693029600,\n",
       "   'main': {'temp': 295.93,\n",
       "    'feels_like': 296.72,\n",
       "    'pressure': 1010,\n",
       "    'humidity': 94,\n",
       "    'temp_min': 294.04,\n",
       "    'temp_max': 297.31},\n",
       "   'wind': {'speed': 0, 'deg': 0},\n",
       "   'clouds': {'all': 75},\n",
       "   'weather': [{'id': 803,\n",
       "     'main': 'Clouds',\n",
       "     'description': 'broken clouds',\n",
       "     'icon': '04n'}]},\n",
       "  {'dt': 1693033200,\n",
       "   'main': {'temp': 295.75,\n",
       "    'feels_like': 296.44,\n",
       "    'pressure': 1009,\n",
       "    'humidity': 91,\n",
       "    'temp_min': 293.61,\n",
       "    'temp_max': 297.31},\n",
       "   'wind': {'speed': 2.06, 'deg': 160},\n",
       "   'clouds': {'all': 40},\n",
       "   'weather': [{'id': 802,\n",
       "     'main': 'Clouds',\n",
       "     'description': 'scattered clouds',\n",
       "     'icon': '03n'}]},\n",
       "  {'dt': 1693036800,\n",
       "   'main': {'temp': 295.51,\n",
       "    'feels_like': 296.2,\n",
       "    'pressure': 1008,\n",
       "    'humidity': 92,\n",
       "    'temp_min': 293.58,\n",
       "    'temp_max': 297.01},\n",
       "   'wind': {'speed': 0.57, 'deg': 340, 'gust': 1.17},\n",
       "   'clouds': {'all': 33},\n",
       "   'weather': [{'id': 802,\n",
       "     'main': 'Clouds',\n",
       "     'description': 'scattered clouds',\n",
       "     'icon': '03n'}]},\n",
       "  {'dt': 1693040400,\n",
       "   'main': {'temp': 295.15,\n",
       "    'feels_like': 295.83,\n",
       "    'pressure': 1009,\n",
       "    'humidity': 93,\n",
       "    'temp_min': 293.25,\n",
       "    'temp_max': 296.38},\n",
       "   'wind': {'speed': 0, 'deg': 0},\n",
       "   'clouds': {'all': 40},\n",
       "   'weather': [{'id': 802,\n",
       "     'main': 'Clouds',\n",
       "     'description': 'scattered clouds',\n",
       "     'icon': '03n'}]},\n",
       "  {'dt': 1693044000,\n",
       "   'main': {'temp': 294.78,\n",
       "    'feels_like': 295.45,\n",
       "    'pressure': 1009,\n",
       "    'humidity': 94,\n",
       "    'temp_min': 292.92,\n",
       "    'temp_max': 296.21},\n",
       "   'wind': {'speed': 1.61, 'deg': 346, 'gust': 2.91},\n",
       "   'clouds': {'all': 49},\n",
       "   'weather': [{'id': 802,\n",
       "     'main': 'Clouds',\n",
       "     'description': 'scattered clouds',\n",
       "     'icon': '03n'}]},\n",
       "  {'dt': 1693047600,\n",
       "   'main': {'temp': 295.03,\n",
       "    'feels_like': 295.73,\n",
       "    'pressure': 1008,\n",
       "    'humidity': 94,\n",
       "    'temp_min': 293.12,\n",
       "    'temp_max': 296.46},\n",
       "   'wind': {'speed': 1.79, 'deg': 349, 'gust': 4.54},\n",
       "   'clouds': {'all': 43},\n",
       "   'weather': [{'id': 802,\n",
       "     'main': 'Clouds',\n",
       "     'description': 'scattered clouds',\n",
       "     'icon': '03d'}]},\n",
       "  {'dt': 1693051200,\n",
       "   'main': {'temp': 296.07,\n",
       "    'feels_like': 296.87,\n",
       "    'pressure': 1009,\n",
       "    'humidity': 94,\n",
       "    'temp_min': 294.03,\n",
       "    'temp_max': 297.57},\n",
       "   'wind': {'speed': 0.89, 'deg': 113, 'gust': 2.24},\n",
       "   'clouds': {'all': 35},\n",
       "   'weather': [{'id': 802,\n",
       "     'main': 'Clouds',\n",
       "     'description': 'scattered clouds',\n",
       "     'icon': '03d'}]},\n",
       "  {'dt': 1693054800,\n",
       "   'main': {'temp': 297.86,\n",
       "    'feels_like': 298.63,\n",
       "    'pressure': 1010,\n",
       "    'humidity': 86,\n",
       "    'temp_min': 295.37,\n",
       "    'temp_max': 299.38},\n",
       "   'wind': {'speed': 2.57, 'deg': 30},\n",
       "   'clouds': {'all': 20},\n",
       "   'weather': [{'id': 801,\n",
       "     'main': 'Clouds',\n",
       "     'description': 'few clouds',\n",
       "     'icon': '02d'}]},\n",
       "  {'dt': 1693058400,\n",
       "   'main': {'temp': 299.38,\n",
       "    'feels_like': 299.38,\n",
       "    'pressure': 1010,\n",
       "    'humidity': 80,\n",
       "    'temp_min': 297.1,\n",
       "    'temp_max': 300.95},\n",
       "   'wind': {'speed': 5.14, 'deg': 30},\n",
       "   'clouds': {'all': 20},\n",
       "   'weather': [{'id': 801,\n",
       "     'main': 'Clouds',\n",
       "     'description': 'few clouds',\n",
       "     'icon': '02d'}]},\n",
       "  {'dt': 1693062000,\n",
       "   'main': {'temp': 300.94,\n",
       "    'feels_like': 303.79,\n",
       "    'pressure': 1010,\n",
       "    'humidity': 73,\n",
       "    'temp_min': 299.06,\n",
       "    'temp_max': 302.62},\n",
       "   'wind': {'speed': 1.34, 'deg': 47, 'gust': 5.36},\n",
       "   'clouds': {'all': 33},\n",
       "   'weather': [{'id': 802,\n",
       "     'main': 'Clouds',\n",
       "     'description': 'scattered clouds',\n",
       "     'icon': '03d'}]},\n",
       "  {'dt': 1693065600,\n",
       "   'main': {'temp': 301.96,\n",
       "    'feels_like': 304.79,\n",
       "    'pressure': 1009,\n",
       "    'humidity': 66,\n",
       "    'temp_min': 300.17,\n",
       "    'temp_max': 303.73},\n",
       "   'wind': {'speed': 1.34, 'deg': 86, 'gust': 6.26},\n",
       "   'clouds': {'all': 39},\n",
       "   'weather': [{'id': 802,\n",
       "     'main': 'Clouds',\n",
       "     'description': 'scattered clouds',\n",
       "     'icon': '03d'}]},\n",
       "  {'dt': 1693069200,\n",
       "   'main': {'temp': 302.72,\n",
       "    'feels_like': 305.55,\n",
       "    'pressure': 1010,\n",
       "    'humidity': 62,\n",
       "    'temp_min': 300.37,\n",
       "    'temp_max': 304.31},\n",
       "   'wind': {'speed': 1.34, 'deg': 88, 'gust': 4.47},\n",
       "   'clouds': {'all': 43},\n",
       "   'weather': [{'id': 802,\n",
       "     'main': 'Clouds',\n",
       "     'description': 'scattered clouds',\n",
       "     'icon': '03d'}]},\n",
       "  {'dt': 1693072800,\n",
       "   'main': {'temp': 302.63,\n",
       "    'feels_like': 305.2,\n",
       "    'pressure': 1009,\n",
       "    'humidity': 61,\n",
       "    'temp_min': 300.15,\n",
       "    'temp_max': 304.45},\n",
       "   'wind': {'speed': 4.12, 'deg': 330, 'gust': 8.23},\n",
       "   'clouds': {'all': 75},\n",
       "   'weather': [{'id': 803,\n",
       "     'main': 'Clouds',\n",
       "     'description': 'broken clouds',\n",
       "     'icon': '04d'}]},\n",
       "  {'dt': 1693076400,\n",
       "   'main': {'temp': 302.83,\n",
       "    'feels_like': 305.38,\n",
       "    'pressure': 1009,\n",
       "    'humidity': 60,\n",
       "    'temp_min': 300.47,\n",
       "    'temp_max': 304.84},\n",
       "   'wind': {'speed': 5.66, 'deg': 10},\n",
       "   'clouds': {'all': 75},\n",
       "   'weather': [{'id': 803,\n",
       "     'main': 'Clouds',\n",
       "     'description': 'broken clouds',\n",
       "     'icon': '04d'}]},\n",
       "  {'dt': 1693080000,\n",
       "   'main': {'temp': 302.94,\n",
       "    'feels_like': 305.78,\n",
       "    'pressure': 1008,\n",
       "    'humidity': 61,\n",
       "    'temp_min': 300.8,\n",
       "    'temp_max': 304.84},\n",
       "   'wind': {'speed': 0.89, 'deg': 0, 'gust': 4.47},\n",
       "   'clouds': {'all': 88},\n",
       "   'weather': [{'id': 804,\n",
       "     'main': 'Clouds',\n",
       "     'description': 'overcast clouds',\n",
       "     'icon': '04d'}]},\n",
       "  {'dt': 1693083600,\n",
       "   'main': {'temp': 302.75,\n",
       "    'feels_like': 305.61,\n",
       "    'pressure': 1008,\n",
       "    'humidity': 62,\n",
       "    'temp_min': 300.75,\n",
       "    'temp_max': 304.78},\n",
       "   'wind': {'speed': 1.34, 'deg': 277, 'gust': 4.47},\n",
       "   'clouds': {'all': 68},\n",
       "   'weather': [{'id': 803,\n",
       "     'main': 'Clouds',\n",
       "     'description': 'broken clouds',\n",
       "     'icon': '04d'}]},\n",
       "  {'dt': 1693087200,\n",
       "   'main': {'temp': 302.39,\n",
       "    'feels_like': 304.6,\n",
       "    'pressure': 1009,\n",
       "    'humidity': 60,\n",
       "    'temp_min': 300.37,\n",
       "    'temp_max': 303.86},\n",
       "   'wind': {'speed': 2.24, 'deg': 352, 'gust': 5.36},\n",
       "   'clouds': {'all': 53},\n",
       "   'weather': [{'id': 803,\n",
       "     'main': 'Clouds',\n",
       "     'description': 'broken clouds',\n",
       "     'icon': '04d'}]},\n",
       "  {'dt': 1693090800,\n",
       "   'main': {'temp': 301.36,\n",
       "    'feels_like': 303.28,\n",
       "    'pressure': 1008,\n",
       "    'humidity': 63,\n",
       "    'temp_min': 299.2,\n",
       "    'temp_max': 302.68},\n",
       "   'wind': {'speed': 1.79, 'deg': 288, 'gust': 4.47},\n",
       "   'clouds': {'all': 44},\n",
       "   'weather': [{'id': 802,\n",
       "     'main': 'Clouds',\n",
       "     'description': 'scattered clouds',\n",
       "     'icon': '03d'}]},\n",
       "  {'dt': 1693094400,\n",
       "   'main': {'temp': 299.59,\n",
       "    'feels_like': 299.59,\n",
       "    'pressure': 1009,\n",
       "    'humidity': 64,\n",
       "    'temp_min': 297.06,\n",
       "    'temp_max': 301.46},\n",
       "   'wind': {'speed': 0.89, 'deg': 344, 'gust': 4.02},\n",
       "   'clouds': {'all': 55},\n",
       "   'weather': [{'id': 803,\n",
       "     'main': 'Clouds',\n",
       "     'description': 'broken clouds',\n",
       "     'icon': '04n'}]},\n",
       "  {'dt': 1693098000,\n",
       "   'main': {'temp': 297.99,\n",
       "    'feels_like': 298.38,\n",
       "    'pressure': 1011,\n",
       "    'humidity': 71,\n",
       "    'temp_min': 294.72,\n",
       "    'temp_max': 300.21},\n",
       "   'wind': {'speed': 0.45, 'deg': 189, 'gust': 4.02},\n",
       "   'clouds': {'all': 24},\n",
       "   'weather': [{'id': 801,\n",
       "     'main': 'Clouds',\n",
       "     'description': 'few clouds',\n",
       "     'icon': '02n'}]},\n",
       "  {'dt': 1693101600,\n",
       "   'main': {'temp': 296.65,\n",
       "    'feels_like': 297.04,\n",
       "    'pressure': 1011,\n",
       "    'humidity': 76,\n",
       "    'temp_min': 293.28,\n",
       "    'temp_max': 299.21},\n",
       "   'wind': {'speed': 1.22, 'deg': 5, 'gust': 1.85},\n",
       "   'clouds': {'all': 54},\n",
       "   'weather': [{'id': 803,\n",
       "     'main': 'Clouds',\n",
       "     'description': 'broken clouds',\n",
       "     'icon': '04n'}]},\n",
       "  {'dt': 1693105200,\n",
       "   'main': {'temp': 295.65,\n",
       "    'feels_like': 296.07,\n",
       "    'pressure': 1011,\n",
       "    'humidity': 81,\n",
       "    'temp_min': 292.62,\n",
       "    'temp_max': 298.08},\n",
       "   'wind': {'speed': 2.4, 'deg': 11, 'gust': 6.74},\n",
       "   'clouds': {'all': 43},\n",
       "   'weather': [{'id': 802,\n",
       "     'main': 'Clouds',\n",
       "     'description': 'scattered clouds',\n",
       "     'icon': '03n'}]},\n",
       "  {'dt': 1693108800,\n",
       "   'main': {'temp': 294.83,\n",
       "    'feels_like': 295.27,\n",
       "    'pressure': 1011,\n",
       "    'humidity': 85,\n",
       "    'temp_min': 292.42,\n",
       "    'temp_max': 297.04},\n",
       "   'wind': {'speed': 2.74, 'deg': 25, 'gust': 8.01},\n",
       "   'clouds': {'all': 35},\n",
       "   'weather': [{'id': 802,\n",
       "     'main': 'Clouds',\n",
       "     'description': 'scattered clouds',\n",
       "     'icon': '03n'}]},\n",
       "  {'dt': 1693112400,\n",
       "   'main': {'temp': 294.16,\n",
       "    'feels_like': 294.61,\n",
       "    'pressure': 1011,\n",
       "    'humidity': 88,\n",
       "    'temp_min': 291.62,\n",
       "    'temp_max': 296.49},\n",
       "   'wind': {'speed': 2.3, 'deg': 12, 'gust': 7.01},\n",
       "   'clouds': {'all': 47},\n",
       "   'weather': [{'id': 802,\n",
       "     'main': 'Clouds',\n",
       "     'description': 'scattered clouds',\n",
       "     'icon': '03n'}]},\n",
       "  {'dt': 1693116000,\n",
       "   'main': {'temp': 293.6,\n",
       "    'feels_like': 294.02,\n",
       "    'pressure': 1011,\n",
       "    'humidity': 89,\n",
       "    'temp_min': 291.31,\n",
       "    'temp_max': 295.94},\n",
       "   'wind': {'speed': 2.72, 'deg': 10, 'gust': 7.69},\n",
       "   'clouds': {'all': 44},\n",
       "   'weather': [{'id': 802,\n",
       "     'main': 'Clouds',\n",
       "     'description': 'scattered clouds',\n",
       "     'icon': '03n'}]},\n",
       "  {'dt': 1693119600,\n",
       "   'main': {'temp': 293.23,\n",
       "    'feels_like': 293.62,\n",
       "    'pressure': 1012,\n",
       "    'humidity': 89,\n",
       "    'temp_min': 290.5,\n",
       "    'temp_max': 295.46},\n",
       "   'wind': {'speed': 2.06, 'deg': 340},\n",
       "   'clouds': {'all': 0},\n",
       "   'weather': [{'id': 800,\n",
       "     'main': 'Clear',\n",
       "     'description': 'clear sky',\n",
       "     'icon': '01n'}]},\n",
       "  {'dt': 1693123200,\n",
       "   'main': {'temp': 292.85,\n",
       "    'feels_like': 293.23,\n",
       "    'pressure': 1011,\n",
       "    'humidity': 90,\n",
       "    'temp_min': 290.25,\n",
       "    'temp_max': 294.97},\n",
       "   'wind': {'speed': 1.98, 'deg': 4, 'gust': 5.79},\n",
       "   'clouds': {'all': 97},\n",
       "   'weather': [{'id': 804,\n",
       "     'main': 'Clouds',\n",
       "     'description': 'overcast clouds',\n",
       "     'icon': '04n'}]},\n",
       "  {'dt': 1693126800,\n",
       "   'main': {'temp': 292.61,\n",
       "    'feels_like': 292.96,\n",
       "    'pressure': 1012,\n",
       "    'humidity': 90,\n",
       "    'temp_min': 289.7,\n",
       "    'temp_max': 294.9},\n",
       "   'wind': {'speed': 2.06, 'deg': 2, 'gust': 5.48},\n",
       "   'clouds': {'all': 90},\n",
       "   'weather': [{'id': 804,\n",
       "     'main': 'Clouds',\n",
       "     'description': 'overcast clouds',\n",
       "     'icon': '04n'}]},\n",
       "  {'dt': 1693130400,\n",
       "   'main': {'temp': 292.08,\n",
       "    'feels_like': 292.4,\n",
       "    'pressure': 1012,\n",
       "    'humidity': 91,\n",
       "    'temp_min': 289.68,\n",
       "    'temp_max': 294.05},\n",
       "   'wind': {'speed': 2.17, 'deg': 0, 'gust': 5.74},\n",
       "   'clouds': {'all': 69},\n",
       "   'weather': [{'id': 803,\n",
       "     'main': 'Clouds',\n",
       "     'description': 'broken clouds',\n",
       "     'icon': '04n'}]},\n",
       "  {'dt': 1693134000,\n",
       "   'main': {'temp': 292.04,\n",
       "    'feels_like': 292.36,\n",
       "    'pressure': 1013,\n",
       "    'humidity': 91,\n",
       "    'temp_min': 289.44,\n",
       "    'temp_max': 294.1},\n",
       "   'wind': {'speed': 2.36, 'deg': 5, 'gust': 6.45},\n",
       "   'clouds': {'all': 57},\n",
       "   'weather': [{'id': 803,\n",
       "     'main': 'Clouds',\n",
       "     'description': 'broken clouds',\n",
       "     'icon': '04d'}]},\n",
       "  {'dt': 1693137600,\n",
       "   'main': {'temp': 293.81,\n",
       "    'feels_like': 294.15,\n",
       "    'pressure': 1013,\n",
       "    'humidity': 85,\n",
       "    'temp_min': 291.36,\n",
       "    'temp_max': 296.21},\n",
       "   'wind': {'speed': 2.72, 'deg': 14, 'gust': 5.01},\n",
       "   'clouds': {'all': 42},\n",
       "   'weather': [{'id': 802,\n",
       "     'main': 'Clouds',\n",
       "     'description': 'scattered clouds',\n",
       "     'icon': '03d'}]},\n",
       "  {'dt': 1693141200,\n",
       "   'main': {'temp': 296.37,\n",
       "    'feels_like': 296.71,\n",
       "    'pressure': 1012,\n",
       "    'humidity': 75,\n",
       "    'temp_min': 293.87,\n",
       "    'temp_max': 298.12},\n",
       "   'wind': {'speed': 0.45, 'deg': 49, 'gust': 3.58},\n",
       "   'clouds': {'all': 6},\n",
       "   'weather': [{'id': 800,\n",
       "     'main': 'Clear',\n",
       "     'description': 'clear sky',\n",
       "     'icon': '01d'}]},\n",
       "  {'dt': 1693144800,\n",
       "   'main': {'temp': 298.05,\n",
       "    'feels_like': 298.4,\n",
       "    'pressure': 1012,\n",
       "    'humidity': 69,\n",
       "    'temp_min': 295.59,\n",
       "    'temp_max': 299.94},\n",
       "   'wind': {'speed': 1.34, 'deg': 66, 'gust': 4.92},\n",
       "   'clouds': {'all': 7},\n",
       "   'weather': [{'id': 800,\n",
       "     'main': 'Clear',\n",
       "     'description': 'clear sky',\n",
       "     'icon': '01d'}]},\n",
       "  {'dt': 1693148400,\n",
       "   'main': {'temp': 299.65,\n",
       "    'feels_like': 299.65,\n",
       "    'pressure': 1013,\n",
       "    'humidity': 62,\n",
       "    'temp_min': 297.47,\n",
       "    'temp_max': 301.51},\n",
       "   'wind': {'speed': 1.79, 'deg': 81, 'gust': 4.47},\n",
       "   'clouds': {'all': 7},\n",
       "   'weather': [{'id': 800,\n",
       "     'main': 'Clear',\n",
       "     'description': 'clear sky',\n",
       "     'icon': '01d'}]},\n",
       "  {'dt': 1693152000,\n",
       "   'main': {'temp': 300.83,\n",
       "    'feels_like': 301.95,\n",
       "    'pressure': 1012,\n",
       "    'humidity': 58,\n",
       "    'temp_min': 298.72,\n",
       "    'temp_max': 302.71},\n",
       "   'wind': {'speed': 0.89, 'deg': 96, 'gust': 3.58},\n",
       "   'clouds': {'all': 7},\n",
       "   'weather': [{'id': 800,\n",
       "     'main': 'Clear',\n",
       "     'description': 'clear sky',\n",
       "     'icon': '01d'}]},\n",
       "  {'dt': 1693155600,\n",
       "   'main': {'temp': 301.93,\n",
       "    'feels_like': 303.01,\n",
       "    'pressure': 1012,\n",
       "    'humidity': 54,\n",
       "    'temp_min': 299.83,\n",
       "    'temp_max': 303.76},\n",
       "   'wind': {'speed': 1.34, 'deg': 46, 'gust': 4.47},\n",
       "   'clouds': {'all': 6},\n",
       "   'weather': [{'id': 800,\n",
       "     'main': 'Clear',\n",
       "     'description': 'clear sky',\n",
       "     'icon': '01d'}]},\n",
       "  {'dt': 1693159200,\n",
       "   'main': {'temp': 302.59,\n",
       "    'feels_like': 303.54,\n",
       "    'pressure': 1012,\n",
       "    'humidity': 51,\n",
       "    'temp_min': 300.37,\n",
       "    'temp_max': 304.32},\n",
       "   'wind': {'speed': 0.89, 'deg': 89, 'gust': 4.47},\n",
       "   'clouds': {'all': 6},\n",
       "   'weather': [{'id': 800,\n",
       "     'main': 'Clear',\n",
       "     'description': 'clear sky',\n",
       "     'icon': '01d'}]},\n",
       "  {'dt': 1693162800,\n",
       "   'main': {'temp': 302.57,\n",
       "    'feels_like': 303.51,\n",
       "    'pressure': 1012,\n",
       "    'humidity': 51,\n",
       "    'temp_min': 300.25,\n",
       "    'temp_max': 304.41},\n",
       "   'wind': {'speed': 3.6, 'deg': 70},\n",
       "   'clouds': {'all': 75},\n",
       "   'weather': [{'id': 803,\n",
       "     'main': 'Clouds',\n",
       "     'description': 'broken clouds',\n",
       "     'icon': '04d'}]},\n",
       "  {'dt': 1693166400,\n",
       "   'main': {'temp': 302.48,\n",
       "    'feels_like': 303.66,\n",
       "    'pressure': 1011,\n",
       "    'humidity': 53,\n",
       "    'temp_min': 300.39,\n",
       "    'temp_max': 304.35},\n",
       "   'wind': {'speed': 2.24, 'deg': 88, 'gust': 4.47},\n",
       "   'clouds': {'all': 96},\n",
       "   'weather': [{'id': 804,\n",
       "     'main': 'Clouds',\n",
       "     'description': 'overcast clouds',\n",
       "     'icon': '04d'}]},\n",
       "  {'dt': 1693170000,\n",
       "   'main': {'temp': 302.11,\n",
       "    'feels_like': 303.13,\n",
       "    'pressure': 1011,\n",
       "    'humidity': 53,\n",
       "    'temp_min': 300.27,\n",
       "    'temp_max': 303.89},\n",
       "   'wind': {'speed': 0.89, 'deg': 84, 'gust': 2.68},\n",
       "   'clouds': {'all': 97},\n",
       "   'weather': [{'id': 804,\n",
       "     'main': 'Clouds',\n",
       "     'description': 'overcast clouds',\n",
       "     'icon': '04d'}]},\n",
       "  {'dt': 1693173600,\n",
       "   'main': {'temp': 301.46,\n",
       "    'feels_like': 302.71,\n",
       "    'pressure': 1011,\n",
       "    'humidity': 57,\n",
       "    'temp_min': 299.71,\n",
       "    'temp_max': 303.07},\n",
       "   'wind': {'speed': 0.89, 'deg': 74, 'gust': 4.02},\n",
       "   'clouds': {'all': 98},\n",
       "   'weather': [{'id': 804,\n",
       "     'main': 'Clouds',\n",
       "     'description': 'overcast clouds',\n",
       "     'icon': '04d'}]},\n",
       "  {'dt': 1693177200,\n",
       "   'main': {'temp': 300.22,\n",
       "    'feels_like': 301.4,\n",
       "    'pressure': 1011,\n",
       "    'humidity': 61,\n",
       "    'temp_min': 298.17,\n",
       "    'temp_max': 301.57},\n",
       "   'wind': {'speed': 0.89, 'deg': 70, 'gust': 3.13},\n",
       "   'clouds': {'all': 98},\n",
       "   'weather': [{'id': 804,\n",
       "     'main': 'Clouds',\n",
       "     'description': 'overcast clouds',\n",
       "     'icon': '04d'}]},\n",
       "  {'dt': 1693180800,\n",
       "   'main': {'temp': 298.68,\n",
       "    'feels_like': 298.99,\n",
       "    'pressure': 1012,\n",
       "    'humidity': 65,\n",
       "    'temp_min': 296.29,\n",
       "    'temp_max': 300.09},\n",
       "   'wind': {'speed': 1.34, 'deg': 223, 'gust': 4.47},\n",
       "   'clouds': {'all': 99},\n",
       "   'weather': [{'id': 804,\n",
       "     'main': 'Clouds',\n",
       "     'description': 'overcast clouds',\n",
       "     'icon': '04n'}]},\n",
       "  {'dt': 1693184400,\n",
       "   'main': {'temp': 297.68,\n",
       "    'feels_like': 297.91,\n",
       "    'pressure': 1013,\n",
       "    'humidity': 66,\n",
       "    'temp_min': 294.68,\n",
       "    'temp_max': 299.26},\n",
       "   'wind': {'speed': 0.45, 'deg': 128, 'gust': 2.68},\n",
       "   'clouds': {'all': 100},\n",
       "   'weather': [{'id': 804,\n",
       "     'main': 'Clouds',\n",
       "     'description': 'overcast clouds',\n",
       "     'icon': '04n'}]},\n",
       "  {'dt': 1693188000,\n",
       "   'main': {'temp': 297.11,\n",
       "    'feels_like': 297.34,\n",
       "    'pressure': 1013,\n",
       "    'humidity': 68,\n",
       "    'temp_min': 294.55,\n",
       "    'temp_max': 298.71},\n",
       "   'wind': {'speed': 1.82, 'deg': 133, 'gust': 3.43},\n",
       "   'clouds': {'all': 100},\n",
       "   'weather': [{'id': 804,\n",
       "     'main': 'Clouds',\n",
       "     'description': 'overcast clouds',\n",
       "     'icon': '04n'}]},\n",
       "  {'dt': 1693191600,\n",
       "   'main': {'temp': 296.06,\n",
       "    'feels_like': 296.34,\n",
       "    'pressure': 1014,\n",
       "    'humidity': 74,\n",
       "    'temp_min': 293.7,\n",
       "    'temp_max': 297.68},\n",
       "   'wind': {'speed': 1.43, 'deg': 124, 'gust': 2.51},\n",
       "   'clouds': {'all': 100},\n",
       "   'weather': [{'id': 804,\n",
       "     'main': 'Clouds',\n",
       "     'description': 'overcast clouds',\n",
       "     'icon': '04n'}]},\n",
       "  {'dt': 1693195200,\n",
       "   'main': {'temp': 295.54,\n",
       "    'feels_like': 295.79,\n",
       "    'pressure': 1014,\n",
       "    'humidity': 75,\n",
       "    'temp_min': 292.6,\n",
       "    'temp_max': 297.6},\n",
       "   'wind': {'speed': 1.8, 'deg': 109, 'gust': 3.12},\n",
       "   'clouds': {'all': 100},\n",
       "   'weather': [{'id': 804,\n",
       "     'main': 'Clouds',\n",
       "     'description': 'overcast clouds',\n",
       "     'icon': '04n'}]},\n",
       "  {'dt': 1693198800,\n",
       "   'main': {'temp': 294.66,\n",
       "    'feels_like': 294.96,\n",
       "    'pressure': 1014,\n",
       "    'humidity': 80,\n",
       "    'temp_min': 292.12,\n",
       "    'temp_max': 297.01},\n",
       "   'wind': {'speed': 1.48, 'deg': 118, 'gust': 3.02},\n",
       "   'clouds': {'all': 100},\n",
       "   'weather': [{'id': 804,\n",
       "     'main': 'Clouds',\n",
       "     'description': 'overcast clouds',\n",
       "     'icon': '04n'}]},\n",
       "  {'dt': 1693202400,\n",
       "   'main': {'temp': 294.39,\n",
       "    'feels_like': 294.68,\n",
       "    'pressure': 1015,\n",
       "    'humidity': 81,\n",
       "    'temp_min': 292.01,\n",
       "    'temp_max': 296.45},\n",
       "   'wind': {'speed': 0, 'deg': 0},\n",
       "   'clouds': {'all': 75},\n",
       "   'weather': [{'id': 803,\n",
       "     'main': 'Clouds',\n",
       "     'description': 'broken clouds',\n",
       "     'icon': '04n'}]},\n",
       "  {'dt': 1693206000,\n",
       "   'main': {'temp': 294.31,\n",
       "    'feels_like': 294.6,\n",
       "    'pressure': 1014,\n",
       "    'humidity': 81,\n",
       "    'temp_min': 291.29,\n",
       "    'temp_max': 296.27},\n",
       "   'wind': {'speed': 2.57, 'deg': 80},\n",
       "   'clouds': {'all': 100},\n",
       "   'weather': [{'id': 804,\n",
       "     'main': 'Clouds',\n",
       "     'description': 'overcast clouds',\n",
       "     'icon': '04n'}]},\n",
       "  {'dt': 1693209600,\n",
       "   'main': {'temp': 294.08,\n",
       "    'feels_like': 294.45,\n",
       "    'pressure': 1014,\n",
       "    'humidity': 85,\n",
       "    'temp_min': 291.29,\n",
       "    'temp_max': 295.97},\n",
       "   'wind': {'speed': 0.45, 'deg': 101, 'gust': 1.79},\n",
       "   'clouds': {'all': 99},\n",
       "   'weather': [{'id': 804,\n",
       "     'main': 'Clouds',\n",
       "     'description': 'overcast clouds',\n",
       "     'icon': '04n'}]},\n",
       "  {'dt': 1693213200,\n",
       "   'main': {'temp': 293.83,\n",
       "    'feels_like': 294.25,\n",
       "    'pressure': 1014,\n",
       "    'humidity': 88,\n",
       "    'temp_min': 291.29,\n",
       "    'temp_max': 295.21},\n",
       "   'wind': {'speed': 0.89, 'deg': 134, 'gust': 3.58},\n",
       "   'clouds': {'all': 97},\n",
       "   'weather': [{'id': 804,\n",
       "     'main': 'Clouds',\n",
       "     'description': 'overcast clouds',\n",
       "     'icon': '04n'}]},\n",
       "  {'dt': 1693216800,\n",
       "   'main': {'temp': 293.59,\n",
       "    'feels_like': 294.07,\n",
       "    'pressure': 1014,\n",
       "    'humidity': 91,\n",
       "    'temp_min': 291.16,\n",
       "    'temp_max': 295.21},\n",
       "   'wind': {'speed': 3.6, 'deg': 60},\n",
       "   'clouds': {'all': 75},\n",
       "   'weather': [{'id': 803,\n",
       "     'main': 'Clouds',\n",
       "     'description': 'broken clouds',\n",
       "     'icon': '04n'}]},\n",
       "  {'dt': 1693220400,\n",
       "   'main': {'temp': 293.53,\n",
       "    'feels_like': 294.05,\n",
       "    'pressure': 1015,\n",
       "    'humidity': 93,\n",
       "    'temp_min': 291.35,\n",
       "    'temp_max': 294.91},\n",
       "   'wind': {'speed': 3.09, 'deg': 80},\n",
       "   'clouds': {'all': 75},\n",
       "   'weather': [{'id': 803,\n",
       "     'main': 'Clouds',\n",
       "     'description': 'broken clouds',\n",
       "     'icon': '04d'}]},\n",
       "  {'dt': 1693224000,\n",
       "   'main': {'temp': 294.42,\n",
       "    'feels_like': 294.98,\n",
       "    'pressure': 1015,\n",
       "    'humidity': 91,\n",
       "    'temp_min': 292.59,\n",
       "    'temp_max': 295.4},\n",
       "   'wind': {'speed': 4.12, 'deg': 80},\n",
       "   'clouds': {'all': 75},\n",
       "   'weather': [{'id': 803,\n",
       "     'main': 'Clouds',\n",
       "     'description': 'broken clouds',\n",
       "     'icon': '04d'}]},\n",
       "  {'dt': 1693227600,\n",
       "   'main': {'temp': 295.54,\n",
       "    'feels_like': 296.08,\n",
       "    'pressure': 1016,\n",
       "    'humidity': 86,\n",
       "    'temp_min': 294.09,\n",
       "    'temp_max': 296.57},\n",
       "   'wind': {'speed': 4.63, 'deg': 100},\n",
       "   'clouds': {'all': 100},\n",
       "   'weather': [{'id': 804,\n",
       "     'main': 'Clouds',\n",
       "     'description': 'overcast clouds',\n",
       "     'icon': '04d'}]},\n",
       "  {'dt': 1693231200,\n",
       "   'main': {'temp': 296.59,\n",
       "    'feels_like': 297.13,\n",
       "    'pressure': 1015,\n",
       "    'humidity': 82,\n",
       "    'temp_min': 295.2,\n",
       "    'temp_max': 297.65},\n",
       "   'wind': {'speed': 5.14, 'deg': 90},\n",
       "   'clouds': {'all': 100},\n",
       "   'weather': [{'id': 804,\n",
       "     'main': 'Clouds',\n",
       "     'description': 'overcast clouds',\n",
       "     'icon': '04d'}]},\n",
       "  {'dt': 1693234800,\n",
       "   'main': {'temp': 297.82,\n",
       "    'feels_like': 298.33,\n",
       "    'pressure': 1015,\n",
       "    'humidity': 76,\n",
       "    'temp_min': 296.03,\n",
       "    'temp_max': 299.26},\n",
       "   'wind': {'speed': 1.34, 'deg': 158, 'gust': 5.81},\n",
       "   'clouds': {'all': 100},\n",
       "   'weather': [{'id': 804,\n",
       "     'main': 'Clouds',\n",
       "     'description': 'overcast clouds',\n",
       "     'icon': '04d'}]},\n",
       "  {'dt': 1693238400,\n",
       "   'main': {'temp': 299.11,\n",
       "    'feels_like': 299.11,\n",
       "    'pressure': 1015,\n",
       "    'humidity': 70,\n",
       "    'temp_min': 297.2,\n",
       "    'temp_max': 300.4},\n",
       "   'wind': {'speed': 6.69, 'deg': 80},\n",
       "   'clouds': {'all': 40},\n",
       "   'weather': [{'id': 802,\n",
       "     'main': 'Clouds',\n",
       "     'description': 'scattered clouds',\n",
       "     'icon': '03d'}]},\n",
       "  {'dt': 1693242000,\n",
       "   'main': {'temp': 299.76,\n",
       "    'feels_like': 299.76,\n",
       "    'pressure': 1015,\n",
       "    'humidity': 67,\n",
       "    'temp_min': 297.91,\n",
       "    'temp_max': 301.14},\n",
       "   'wind': {'speed': 1.34, 'deg': 70, 'gust': 4.47},\n",
       "   'clouds': {'all': 100},\n",
       "   'weather': [{'id': 804,\n",
       "     'main': 'Clouds',\n",
       "     'description': 'overcast clouds',\n",
       "     'icon': '04d'}]},\n",
       "  {'dt': 1693245600,\n",
       "   'main': {'temp': 299.8,\n",
       "    'feels_like': 299.8,\n",
       "    'pressure': 1015,\n",
       "    'humidity': 66,\n",
       "    'temp_min': 297.91,\n",
       "    'temp_max': 301.21},\n",
       "   'wind': {'speed': 5.14, 'deg': 100},\n",
       "   'clouds': {'all': 75},\n",
       "   'weather': [{'id': 803,\n",
       "     'main': 'Clouds',\n",
       "     'description': 'broken clouds',\n",
       "     'icon': '04d'}]},\n",
       "  {'dt': 1693249200,\n",
       "   'main': {'temp': 299.44,\n",
       "    'feels_like': 299.44,\n",
       "    'pressure': 1015,\n",
       "    'humidity': 67,\n",
       "    'temp_min': 297.67,\n",
       "    'temp_max': 300.65},\n",
       "   'wind': {'speed': 5.14, 'deg': 130},\n",
       "   'clouds': {'all': 100},\n",
       "   'weather': [{'id': 804,\n",
       "     'main': 'Clouds',\n",
       "     'description': 'overcast clouds',\n",
       "     'icon': '04d'}]},\n",
       "  {'dt': 1693252800,\n",
       "   'main': {'temp': 298.86,\n",
       "    'feels_like': 299.34,\n",
       "    'pressure': 1014,\n",
       "    'humidity': 71,\n",
       "    'temp_min': 297.01,\n",
       "    'temp_max': 300.4},\n",
       "   'wind': {'speed': 1.34, 'deg': 140, 'gust': 3.58},\n",
       "   'clouds': {'all': 100},\n",
       "   'weather': [{'id': 804,\n",
       "     'main': 'Clouds',\n",
       "     'description': 'overcast clouds',\n",
       "     'icon': '04d'}]},\n",
       "  {'dt': 1693256400,\n",
       "   'main': {'temp': 298.35,\n",
       "    'feels_like': 298.81,\n",
       "    'pressure': 1015,\n",
       "    'humidity': 72,\n",
       "    'temp_min': 296.81,\n",
       "    'temp_max': 299.91},\n",
       "   'wind': {'speed': 4.63, 'deg': 140},\n",
       "   'clouds': {'all': 40},\n",
       "   'weather': [{'id': 802,\n",
       "     'main': 'Clouds',\n",
       "     'description': 'scattered clouds',\n",
       "     'icon': '03d'}]},\n",
       "  {'dt': 1693260000,\n",
       "   'main': {'temp': 297.87,\n",
       "    'feels_like': 298.33,\n",
       "    'pressure': 1015,\n",
       "    'humidity': 74,\n",
       "    'temp_min': 296.41,\n",
       "    'temp_max': 299.1},\n",
       "   'wind': {'speed': 0.89, 'deg': 145, 'gust': 3.58},\n",
       "   'clouds': {'all': 100},\n",
       "   'weather': [{'id': 804,\n",
       "     'main': 'Clouds',\n",
       "     'description': 'overcast clouds',\n",
       "     'icon': '04d'}]},\n",
       "  {'dt': 1693263600,\n",
       "   'main': {'temp': 297.05,\n",
       "    'feels_like': 297.48,\n",
       "    'pressure': 1014,\n",
       "    'humidity': 76,\n",
       "    'temp_min': 295.47,\n",
       "    'temp_max': 298.23},\n",
       "   'wind': {'speed': 0.45, 'deg': 138, 'gust': 2.24},\n",
       "   'clouds': {'all': 100},\n",
       "   'weather': [{'id': 804,\n",
       "     'main': 'Clouds',\n",
       "     'description': 'overcast clouds',\n",
       "     'icon': '04d'}]},\n",
       "  {'dt': 1693267200,\n",
       "   'main': {'temp': 296.12,\n",
       "    'feels_like': 296.54,\n",
       "    'pressure': 1015,\n",
       "    'humidity': 79,\n",
       "    'temp_min': 294.34,\n",
       "    'temp_max': 297.43},\n",
       "   'wind': {'speed': 0.89, 'deg': 71, 'gust': 4.02},\n",
       "   'clouds': {'all': 100},\n",
       "   'weather': [{'id': 804,\n",
       "     'main': 'Clouds',\n",
       "     'description': 'overcast clouds',\n",
       "     'icon': '04n'}]},\n",
       "  {'dt': 1693270800,\n",
       "   'main': {'temp': 295.43,\n",
       "    'feels_like': 295.88,\n",
       "    'pressure': 1015,\n",
       "    'humidity': 83,\n",
       "    'temp_min': 293.57,\n",
       "    'temp_max': 296.54},\n",
       "   'wind': {'speed': 1.34, 'deg': 0, 'gust': 4.47},\n",
       "   'clouds': {'all': 100},\n",
       "   'weather': [{'id': 804,\n",
       "     'main': 'Clouds',\n",
       "     'description': 'overcast clouds',\n",
       "     'icon': '04n'}]},\n",
       "  {'dt': 1693274400,\n",
       "   'main': {'temp': 294.91,\n",
       "    'feels_like': 295.36,\n",
       "    'pressure': 1015,\n",
       "    'humidity': 85,\n",
       "    'temp_min': 293.01,\n",
       "    'temp_max': 296.21},\n",
       "   'wind': {'speed': 1.34, 'deg': 123, 'gust': 4.02},\n",
       "   'clouds': {'all': 100},\n",
       "   'weather': [{'id': 804,\n",
       "     'main': 'Clouds',\n",
       "     'description': 'overcast clouds',\n",
       "     'icon': '04n'}]},\n",
       "  {'dt': 1693278000,\n",
       "   'main': {'temp': 294.63,\n",
       "    'feels_like': 295.08,\n",
       "    'pressure': 1015,\n",
       "    'humidity': 86,\n",
       "    'temp_min': 292.46,\n",
       "    'temp_max': 295.96},\n",
       "   'wind': {'speed': 1.34, 'deg': 84, 'gust': 3.13},\n",
       "   'clouds': {'all': 100},\n",
       "   'weather': [{'id': 804,\n",
       "     'main': 'Clouds',\n",
       "     'description': 'overcast clouds',\n",
       "     'icon': '04n'}]},\n",
       "  {'dt': 1693281600,\n",
       "   'main': {'temp': 294.33,\n",
       "    'feels_like': 294.8,\n",
       "    'pressure': 1015,\n",
       "    'humidity': 88,\n",
       "    'temp_min': 292.14,\n",
       "    'temp_max': 295.46},\n",
       "   'wind': {'speed': 0.89, 'deg': 98, 'gust': 3.13},\n",
       "   'clouds': {'all': 100},\n",
       "   'weather': [{'id': 804,\n",
       "     'main': 'Clouds',\n",
       "     'description': 'overcast clouds',\n",
       "     'icon': '04n'}]},\n",
       "  {'dt': 1693285200,\n",
       "   'main': {'temp': 294.18,\n",
       "    'feels_like': 294.64,\n",
       "    'pressure': 1015,\n",
       "    'humidity': 88,\n",
       "    'temp_min': 292.15,\n",
       "    'temp_max': 295.4},\n",
       "   'wind': {'speed': 3.6, 'deg': 70},\n",
       "   'clouds': {'all': 100},\n",
       "   'weather': [{'id': 804,\n",
       "     'main': 'Clouds',\n",
       "     'description': 'overcast clouds',\n",
       "     'icon': '04n'}]},\n",
       "  {'dt': 1693288800,\n",
       "   'main': {'temp': 294.05,\n",
       "    'feels_like': 294.49,\n",
       "    'pressure': 1015,\n",
       "    'humidity': 88,\n",
       "    'temp_min': 292.15,\n",
       "    'temp_max': 295.4},\n",
       "   'wind': {'speed': 3.6, 'deg': 70},\n",
       "   'clouds': {'all': 100},\n",
       "   'weather': [{'id': 804,\n",
       "     'main': 'Clouds',\n",
       "     'description': 'overcast clouds',\n",
       "     'icon': '04n'}]},\n",
       "  {'dt': 1693292400,\n",
       "   'main': {'temp': 293.8,\n",
       "    'feels_like': 294.24,\n",
       "    'pressure': 1014,\n",
       "    'humidity': 89,\n",
       "    'temp_min': 291.9,\n",
       "    'temp_max': 295.25},\n",
       "   'wind': {'speed': 3.6, 'deg': 70},\n",
       "   'clouds': {'all': 100},\n",
       "   'weather': [{'id': 804,\n",
       "     'main': 'Clouds',\n",
       "     'description': 'overcast clouds',\n",
       "     'icon': '04n'}]},\n",
       "  {'dt': 1693296000,\n",
       "   'main': {'temp': 293.6,\n",
       "    'feels_like': 294.05,\n",
       "    'pressure': 1014,\n",
       "    'humidity': 90,\n",
       "    'temp_min': 291.91,\n",
       "    'temp_max': 295.09},\n",
       "   'wind': {'speed': 2.57, 'deg': 70},\n",
       "   'clouds': {'all': 100},\n",
       "   'weather': [{'id': 804,\n",
       "     'main': 'Clouds',\n",
       "     'description': 'overcast clouds',\n",
       "     'icon': '04n'}]},\n",
       "  {'dt': 1693299600,\n",
       "   'main': {'temp': 293.56,\n",
       "    'feels_like': 294.03,\n",
       "    'pressure': 1013,\n",
       "    'humidity': 91,\n",
       "    'temp_min': 291.81,\n",
       "    'temp_max': 294.69},\n",
       "   'wind': {'speed': 1.79, 'deg': 38, 'gust': 3.58},\n",
       "   'clouds': {'all': 93},\n",
       "   'weather': [{'id': 804,\n",
       "     'main': 'Clouds',\n",
       "     'description': 'overcast clouds',\n",
       "     'icon': '04n'}]},\n",
       "  {'dt': 1693303200,\n",
       "   'main': {'temp': 293.63,\n",
       "    'feels_like': 294.08,\n",
       "    'pressure': 1013,\n",
       "    'humidity': 90,\n",
       "    'temp_min': 292.27,\n",
       "    'temp_max': 294.82},\n",
       "   'wind': {'speed': 3.6, 'deg': 30},\n",
       "   'clouds': {'all': 100},\n",
       "   'weather': [{'id': 804,\n",
       "     'main': 'Clouds',\n",
       "     'description': 'overcast clouds',\n",
       "     'icon': '04n'}]},\n",
       "  {'dt': 1693306800,\n",
       "   'main': {'temp': 293.65,\n",
       "    'feels_like': 294.13,\n",
       "    'pressure': 1014,\n",
       "    'humidity': 91,\n",
       "    'temp_min': 292.2,\n",
       "    'temp_max': 294.65},\n",
       "   'wind': {'speed': 3.6, 'deg': 60},\n",
       "   'clouds': {'all': 100},\n",
       "   'weather': [{'id': 804,\n",
       "     'main': 'Clouds',\n",
       "     'description': 'overcast clouds',\n",
       "     'icon': '04d'}]},\n",
       "  {'dt': 1693310400,\n",
       "   'main': {'temp': 294.16,\n",
       "    'feels_like': 294.67,\n",
       "    'pressure': 1014,\n",
       "    'humidity': 90,\n",
       "    'temp_min': 292.82,\n",
       "    'temp_max': 295.21},\n",
       "   'wind': {'speed': 3.09, 'deg': 40},\n",
       "   'clouds': {'all': 100},\n",
       "   'weather': [{'id': 804,\n",
       "     'main': 'Clouds',\n",
       "     'description': 'overcast clouds',\n",
       "     'icon': '04d'}]},\n",
       "  {'dt': 1693314000,\n",
       "   'main': {'temp': 294.83,\n",
       "    'feels_like': 295.33,\n",
       "    'pressure': 1013,\n",
       "    'humidity': 87,\n",
       "    'temp_min': 293.41,\n",
       "    'temp_max': 296.04},\n",
       "   'wind': {'speed': 2.68, 'deg': 0, 'gust': 4.92},\n",
       "   'clouds': {'all': 100},\n",
       "   'weather': [{'id': 804,\n",
       "     'main': 'Clouds',\n",
       "     'description': 'overcast clouds',\n",
       "     'icon': '04d'}]},\n",
       "  {'dt': 1693317600,\n",
       "   'main': {'temp': 295.58,\n",
       "    'feels_like': 296.12,\n",
       "    'pressure': 1014,\n",
       "    'humidity': 86,\n",
       "    'temp_min': 293.99,\n",
       "    'temp_max': 297.07},\n",
       "   'wind': {'speed': 3.6, 'deg': 60},\n",
       "   'clouds': {'all': 100},\n",
       "   'weather': [{'id': 804,\n",
       "     'main': 'Clouds',\n",
       "     'description': 'overcast clouds',\n",
       "     'icon': '04d'}]},\n",
       "  {'dt': 1693321200,\n",
       "   'main': {'temp': 296.48,\n",
       "    'feels_like': 297.06,\n",
       "    'pressure': 1013,\n",
       "    'humidity': 84,\n",
       "    'temp_min': 295.1,\n",
       "    'temp_max': 297.65},\n",
       "   'wind': {'speed': 0.89, 'deg': 80, 'gust': 3.58},\n",
       "   'clouds': {'all': 100},\n",
       "   'weather': [{'id': 804,\n",
       "     'main': 'Clouds',\n",
       "     'description': 'overcast clouds',\n",
       "     'icon': '04d'}]},\n",
       "  {'dt': 1693324800,\n",
       "   'main': {'temp': 297.4,\n",
       "    'feels_like': 297.97,\n",
       "    'pressure': 1014,\n",
       "    'humidity': 80,\n",
       "    'temp_min': 296.22,\n",
       "    'temp_max': 298.8},\n",
       "   'wind': {'speed': 4.12, 'deg': 80},\n",
       "   'clouds': {'all': 100},\n",
       "   'weather': [{'id': 804,\n",
       "     'main': 'Clouds',\n",
       "     'description': 'overcast clouds',\n",
       "     'icon': '04d'}]},\n",
       "  {'dt': 1693328400,\n",
       "   'main': {'temp': 298.12,\n",
       "    'feels_like': 298.76,\n",
       "    'pressure': 1013,\n",
       "    'humidity': 80,\n",
       "    'temp_min': 296.61,\n",
       "    'temp_max': 299.74},\n",
       "   'wind': {'speed': 0.45, 'deg': 121, 'gust': 1.79},\n",
       "   'clouds': {'all': 100},\n",
       "   'weather': [{'id': 804,\n",
       "     'main': 'Clouds',\n",
       "     'description': 'overcast clouds',\n",
       "     'icon': '04d'}]},\n",
       "  {'dt': 1693332000,\n",
       "   'main': {'temp': 298.57,\n",
       "    'feels_like': 299.18,\n",
       "    'pressure': 1013,\n",
       "    'humidity': 77,\n",
       "    'temp_min': 297.14,\n",
       "    'temp_max': 300.13},\n",
       "   'wind': {'speed': 2.06, 'deg': 100},\n",
       "   'clouds': {'all': 100},\n",
       "   'weather': [{'id': 804,\n",
       "     'main': 'Clouds',\n",
       "     'description': 'overcast clouds',\n",
       "     'icon': '04d'}]},\n",
       "  {'dt': 1693335600,\n",
       "   'main': {'temp': 298.79,\n",
       "    'feels_like': 299.42,\n",
       "    'pressure': 1012,\n",
       "    'humidity': 77,\n",
       "    'temp_min': 297.66,\n",
       "    'temp_max': 300.68},\n",
       "   'wind': {'speed': 3.09, 'deg': 40},\n",
       "   'clouds': {'all': 100},\n",
       "   'weather': [{'id': 804,\n",
       "     'main': 'Clouds',\n",
       "     'description': 'overcast clouds',\n",
       "     'icon': '04d'}]},\n",
       "  {'dt': 1693339200,\n",
       "   'main': {'temp': 298.83,\n",
       "    'feels_like': 299.44,\n",
       "    'pressure': 1011,\n",
       "    'humidity': 76,\n",
       "    'temp_min': 297.37,\n",
       "    'temp_max': 300.75},\n",
       "   'wind': {'speed': 2.06, 'deg': 30},\n",
       "   'clouds': {'all': 100},\n",
       "   'weather': [{'id': 804,\n",
       "     'main': 'Clouds',\n",
       "     'description': 'overcast clouds',\n",
       "     'icon': '04d'}]},\n",
       "  {'dt': 1693342800,\n",
       "   'main': {'temp': 298.88,\n",
       "    'feels_like': 299.52,\n",
       "    'pressure': 1010,\n",
       "    'humidity': 77,\n",
       "    'temp_min': 297.66,\n",
       "    'temp_max': 300.6},\n",
       "   'wind': {'speed': 0.89, 'deg': 63, 'gust': 2.68},\n",
       "   'clouds': {'all': 100},\n",
       "   'weather': [{'id': 804,\n",
       "     'main': 'Clouds',\n",
       "     'description': 'overcast clouds',\n",
       "     'icon': '04d'}]},\n",
       "  {'dt': 1693346400,\n",
       "   'main': {'temp': 298.55,\n",
       "    'feels_like': 299.21,\n",
       "    'pressure': 1009,\n",
       "    'humidity': 79,\n",
       "    'temp_min': 297.25,\n",
       "    'temp_max': 299.97},\n",
       "   'wind': {'speed': 2.3, 'deg': 112, 'gust': 3.96},\n",
       "   'clouds': {'all': 100},\n",
       "   'weather': [{'id': 804,\n",
       "     'main': 'Clouds',\n",
       "     'description': 'overcast clouds',\n",
       "     'icon': '04d'}]},\n",
       "  {'dt': 1693350000,\n",
       "   'main': {'temp': 298.01,\n",
       "    'feels_like': 298.69,\n",
       "    'pressure': 1009,\n",
       "    'humidity': 82,\n",
       "    'temp_min': 296.56,\n",
       "    'temp_max': 299.29},\n",
       "   'wind': {'speed': 0.45, 'deg': 101, 'gust': 1.79},\n",
       "   'clouds': {'all': 100},\n",
       "   'weather': [{'id': 804,\n",
       "     'main': 'Clouds',\n",
       "     'description': 'overcast clouds',\n",
       "     'icon': '04d'}]},\n",
       "  {'dt': 1693353600,\n",
       "   'main': {'temp': 297.53,\n",
       "    'feels_like': 298.22,\n",
       "    'pressure': 1009,\n",
       "    'humidity': 84,\n",
       "    'temp_min': 296.03,\n",
       "    'temp_max': 298.74},\n",
       "   'wind': {'speed': 0.45, 'deg': 123, 'gust': 1.79},\n",
       "   'clouds': {'all': 99},\n",
       "   'weather': [{'id': 804,\n",
       "     'main': 'Clouds',\n",
       "     'description': 'overcast clouds',\n",
       "     'icon': '04n'}]}]}"
      ]
     },
     "execution_count": 12,
     "metadata": {},
     "output_type": "execute_result"
    }
   ],
   "source": [
    "history_data = json.loads(response.text)\n",
    "history_data"
   ]
  },
  {
   "cell_type": "code",
   "execution_count": 0,
   "metadata": {
    "application/vnd.databricks.v1+cell": {
     "cellMetadata": {
      "byteLimit": 2048000,
      "rowLimit": 10000
     },
     "inputWidgets": {},
     "nuid": "2ddd49b6-2bb2-4c15-b3e0-7947b7b38943",
     "showTitle": false,
     "title": ""
    }
   },
   "outputs": [
    {
     "output_type": "stream",
     "name": "stdout",
     "output_type": "stream",
     "text": [
      "{\n   \"message\": \"Count: 169\",\n   \"cod\": \"200\",\n   \"city_id\": 1,\n   \"calctime\": 0.073458075,\n   \"cnt\": 169,\n   \"list\": [\n      {\n         \"dt\": 1692748800,\n         \"main\": {\n            \"temp\": 295.92,\n            \"feels_like\": 295.56,\n            \"pressure\": 1019,\n            \"humidity\": 50,\n            \"temp_min\": 293.15,\n            \"temp_max\": 297.98\n         },\n         \"wind\": {\n            \"speed\": 2.91,\n            \"deg\": 22,\n            \"gust\": 7.36\n         },\n         \"clouds\": {\n            \"all\": 99\n         },\n         \"weather\": [\n            {\n               \"id\": 804,\n               \"main\": \"Clouds\",\n               \"description\": \"overcast clouds\",\n               \"icon\": \"04n\"\n            }\n         ]\n      },\n      {\n         \"dt\": 1692752400,\n         \"main\": {\n            \"temp\": 293.39,\n            \"feels_like\": 293.06,\n            \"pressure\": 1019,\n            \"humidity\": 61,\n            \"temp_min\": 290.15,\n            \"temp_max\": 296.21\n         },\n         \"wind\": {\n            \"speed\": 2.68,\n            \"deg\": 30,\n            \"gust\": 7.73\n         },\n         \"clouds\": {\n            \"all\": 100\n         },\n         \"weather\": [\n            {\n               \"id\": 804,\n               \"main\": \"Clouds\",\n               \"description\": \"overcast clouds\",\n               \"icon\": \"04n\"\n            }\n         ]\n      },\n      {\n         \"dt\": 1692756000,\n         \"main\": {\n            \"temp\": 292.37,\n            \"feels_like\": 291.99,\n            \"pressure\": 1019,\n            \"humidity\": 63,\n            \"temp_min\": 288.62,\n            \"temp_max\": 295.21\n         },\n         \"wind\": {\n            \"speed\": 2.23,\n            \"deg\": 34,\n            \"gust\": 7.51\n         },\n         \"clouds\": {\n            \"all\": 76\n         },\n         \"weather\": [\n            {\n               \"id\": 803,\n               \"main\": \"Clouds\",\n               \"description\": \"broken clouds\",\n               \"icon\": \"04n\"\n            }\n         ]\n      },\n      {\n         \"dt\": 1692759600,\n         \"main\": {\n            \"temp\": 291.4,\n            \"feels_like\": 291.03,\n            \"pressure\": 1019,\n            \"humidity\": 67,\n            \"temp_min\": 287.62,\n            \"temp_max\": 294.27\n         },\n         \"wind\": {\n            \"speed\": 1.36,\n            \"deg\": 33,\n            \"gust\": 4.76\n         },\n         \"clouds\": {\n            \"all\": 64\n         },\n         \"weather\": [\n            {\n               \"id\": 803,\n               \"main\": \"Clouds\",\n               \"description\": \"broken clouds\",\n               \"icon\": \"04n\"\n            }\n         ]\n      },\n      {\n         \"dt\": 1692763200,\n         \"main\": {\n            \"temp\": 290.61,\n            \"feels_like\": 290.24,\n            \"pressure\": 1019,\n            \"humidity\": 70,\n            \"temp_min\": 286.62,\n            \"temp_max\": 293.49\n         },\n         \"wind\": {\n            \"speed\": 1.15,\n            \"deg\": 13,\n            \"gust\": 3.03\n         },\n         \"clouds\": {\n            \"all\": 51\n         },\n         \"weather\": [\n            {\n               \"id\": 803,\n               \"main\": \"Clouds\",\n               \"description\": \"broken clouds\",\n               \"icon\": \"04n\"\n            }\n         ]\n      },\n      {\n         \"dt\": 1692766800,\n         \"main\": {\n            \"temp\": 290.09,\n            \"feels_like\": 289.72,\n            \"pressure\": 1019,\n            \"humidity\": 72,\n            \"temp_min\": 286.62,\n            \"temp_max\": 292.6\n         },\n         \"wind\": {\n            \"speed\": 1.24,\n            \"deg\": 2,\n            \"gust\": 2.88\n         },\n         \"clouds\": {\n            \"all\": 42\n         },\n         \"weather\": [\n            {\n               \"id\": 802,\n               \"main\": \"Clouds\",\n               \"description\": \"scattered clouds\",\n               \"icon\": \"03n\"\n            }\n         ]\n      },\n      {\n         \"dt\": 1692770400,\n         \"main\": {\n            \"temp\": 290.13,\n            \"feels_like\": 289.82,\n            \"pressure\": 1020,\n            \"humidity\": 74,\n            \"temp_min\": 286.62,\n            \"temp_max\": 292.43\n         },\n         \"wind\": {\n            \"speed\": 1.57,\n            \"deg\": 346,\n            \"gust\": 2.89\n         },\n         \"clouds\": {\n            \"all\": 39\n         },\n         \"weather\": [\n            {\n               \"id\": 802,\n               \"main\": \"Clouds\",\n               \"description\": \"scattered clouds\",\n               \"icon\": \"03n\"\n            }\n         ]\n      },\n      {\n         \"dt\": 1692774000,\n         \"main\": {\n            \"temp\": 290.24,\n            \"feels_like\": 289.86,\n            \"pressure\": 1020,\n            \"humidity\": 71,\n            \"temp_min\": 286.66,\n            \"temp_max\": 292.09\n         },\n         \"wind\": {\n            \"speed\": 3.09,\n            \"deg\": 330\n         },\n         \"clouds\": {\n            \"all\": 0\n         },\n         \"weather\": [\n            {\n               \"id\": 800,\n               \"main\": \"Clear\",\n               \"description\": \"clear sky\",\n               \"icon\": \"01n\"\n            }\n         ]\n      },\n      {\n         \"dt\": 1692777600,\n         \"main\": {\n            \"temp\": 289.66,\n            \"feels_like\": 289.35,\n            \"pressure\": 1019,\n            \"humidity\": 76,\n            \"temp_min\": 286.15,\n            \"temp_max\": 291.87\n         },\n         \"wind\": {\n            \"speed\": 0.89,\n            \"deg\": 331,\n            \"gust\": 3.58\n         },\n         \"clouds\": {\n            \"all\": 3\n         },\n         \"weather\": [\n            {\n               \"id\": 800,\n               \"main\": \"Clear\",\n               \"description\": \"clear sky\",\n               \"icon\": \"01n\"\n            }\n         ]\n      },\n      {\n         \"dt\": 1692781200,\n         \"main\": {\n            \"temp\": 289.24,\n            \"feels_like\": 288.94,\n            \"pressure\": 1019,\n            \"humidity\": 78,\n            \"temp_min\": 286.16,\n            \"temp_max\": 291.27\n         },\n         \"wind\": {\n            \"speed\": 0.45,\n            \"deg\": 234,\n            \"gust\": 3.58\n         },\n         \"clouds\": {\n            \"all\": 2\n         },\n         \"weather\": [\n            {\n               \"id\": 800,\n               \"main\": \"Clear\",\n               \"description\": \"clear sky\",\n               \"icon\": \"01n\"\n            }\n         ]\n      },\n      {\n         \"dt\": 1692784800,\n         \"main\": {\n            \"temp\": 288.99,\n            \"feels_like\": 288.74,\n            \"pressure\": 1020,\n            \"humidity\": 81,\n            \"temp_min\": 285.6,\n            \"temp_max\": 291.27\n         },\n         \"wind\": {\n            \"speed\": 0.45,\n            \"deg\": 220,\n            \"gust\": 0.89\n         },\n         \"clouds\": {\n            \"all\": 5\n         },\n         \"weather\": [\n            {\n               \"id\": 800,\n               \"main\": \"Clear\",\n               \"description\": \"clear sky\",\n               \"icon\": \"01n\"\n            }\n         ]\n      },\n      {\n         \"dt\": 1692788400,\n         \"main\": {\n            \"temp\": 289.11,\n            \"feels_like\": 288.88,\n            \"pressure\": 1021,\n            \"humidity\": 81,\n            \"temp_min\": 285.75,\n            \"temp_max\": 291.51\n         },\n         \"wind\": {\n            \"speed\": 1.38,\n            \"deg\": 14,\n            \"gust\": 4.31\n         },\n         \"clouds\": {\n            \"all\": 8\n         },\n         \"weather\": [\n            {\n               \"id\": 800,\n               \"main\": \"Clear\",\n               \"description\": \"clear sky\",\n               \"icon\": \"01d\"\n            }\n         ]\n      },\n      {\n         \"dt\": 1692792000,\n         \"main\": {\n            \"temp\": 291.54,\n            \"feels_like\": 291.31,\n            \"pressure\": 1020,\n            \"humidity\": 72,\n            \"temp_min\": 288.53,\n            \"temp_max\": 293.27\n         },\n         \"wind\": {\n            \"speed\": 0.45,\n            \"deg\": 0,\n            \"gust\": 1.79\n         },\n         \"clouds\": {\n            \"all\": 7\n         },\n         \"weather\": [\n            {\n               \"id\": 800,\n               \"main\": \"Clear\",\n               \"description\": \"clear sky\",\n               \"icon\": \"01d\"\n            }\n         ]\n      },\n      {\n         \"dt\": 1692795600,\n         \"main\": {\n            \"temp\": 293.37,\n            \"feels_like\": 293.12,\n            \"pressure\": 1020,\n            \"humidity\": 64,\n            \"temp_min\": 290.95,\n            \"temp_max\": 295.25\n         },\n         \"wind\": {\n            \"speed\": 2.49,\n            \"deg\": 36,\n            \"gust\": 3.94\n         },\n         \"clouds\": {\n            \"all\": 10\n         },\n         \"weather\": [\n            {\n               \"id\": 800,\n               \"main\": \"Clear\",\n               \"description\": \"clear sky\",\n               \"icon\": \"01d\"\n            }\n         ]\n      },\n      {\n         \"dt\": 1692799200,\n         \"main\": {\n            \"temp\": 294.24,\n            \"feels_like\": 294.02,\n            \"pressure\": 1020,\n            \"humidity\": 62,\n            \"temp_min\": 291.81,\n            \"temp_max\": 296.21\n         },\n         \"wind\": {\n            \"speed\": 0.45,\n            \"deg\": 71,\n            \"gust\": 3.58\n         },\n         \"clouds\": {\n            \"all\": 44\n         },\n         \"weather\": [\n            {\n               \"id\": 802,\n               \"main\": \"Clouds\",\n               \"description\": \"scattered clouds\",\n               \"icon\": \"03d\"\n            }\n         ]\n      },\n      {\n         \"dt\": 1692802800,\n         \"main\": {\n            \"temp\": 295.29,\n            \"feels_like\": 295.05,\n            \"pressure\": 1020,\n            \"humidity\": 57,\n            \"temp_min\": 293.48,\n            \"temp_max\": 296.97\n         },\n         \"wind\": {\n            \"speed\": 2.59,\n            \"deg\": 36,\n            \"gust\": 3.2\n         },\n         \"clouds\": {\n            \"all\": 62\n         },\n         \"weather\": [\n            {\n               \"id\": 803,\n               \"main\": \"Clouds\",\n               \"description\": \"broken clouds\",\n               \"icon\": \"04d\"\n            }\n         ]\n      },\n      {\n         \"dt\": 1692806400,\n         \"main\": {\n            \"temp\": 297.18,\n            \"feels_like\": 296.92,\n            \"pressure\": 1019,\n            \"humidity\": 49,\n            \"temp_min\": 295.39,\n            \"temp_max\": 298.83\n         },\n         \"wind\": {\n            \"speed\": 0.45,\n            \"deg\": 67,\n            \"gust\": 2.68\n         },\n         \"clouds\": {\n            \"all\": 72\n         },\n         \"weather\": [\n            {\n               \"id\": 803,\n               \"main\": \"Clouds\",\n               \"description\": \"broken clouds\",\n               \"icon\": \"04d\"\n            }\n         ]\n      },\n      {\n         \"dt\": 1692810000,\n         \"main\": {\n            \"temp\": 297.98,\n            \"feels_like\": 297.8,\n            \"pressure\": 1020,\n            \"humidity\": 49,\n            \"temp_min\": 296.41,\n            \"temp_max\": 299.85\n         },\n         \"wind\": {\n            \"speed\": 1.58,\n            \"deg\": 21,\n            \"gust\": 2.26\n         },\n         \"clouds\": {\n            \"all\": 77\n         },\n         \"weather\": [\n            {\n               \"id\": 803,\n               \"main\": \"Clouds\",\n               \"description\": \"broken clouds\",\n               \"icon\": \"04d\"\n            }\n         ]\n      },\n      {\n         \"dt\": 1692813600,\n         \"main\": {\n            \"temp\": 299.06,\n            \"feels_like\": 298.83,\n            \"pressure\": 1019,\n            \"humidity\": 43,\n            \"temp_min\": 297.05,\n            \"temp_max\": 300.65\n         },\n         \"wind\": {\n            \"speed\": 1.79,\n            \"deg\": 96,\n            \"gust\": 4.47\n         },\n         \"clouds\": {\n            \"all\": 76\n         },\n         \"weather\": [\n            {\n               \"id\": 803,\n               \"main\": \"Clouds\",\n               \"description\": \"broken clouds\",\n               \"icon\": \"04d\"\n            }\n         ]\n      },\n      {\n         \"dt\": 1692817200,\n         \"main\": {\n            \"temp\": 299.56,\n            \"feels_like\": 299.56,\n            \"pressure\": 1018,\n            \"humidity\": 43,\n            \"temp_min\": 297.46,\n            \"temp_max\": 301.21\n         },\n         \"wind\": {\n            \"speed\": 2.06,\n            \"deg\": 140\n         },\n         \"clouds\": {\n            \"all\": 75\n         },\n         \"weather\": [\n            {\n               \"id\": 803,\n               \"main\": \"Clouds\",\n               \"description\": \"broken clouds\",\n               \"icon\": \"04d\"\n            }\n         ]\n      },\n      {\n         \"dt\": 1692820800,\n         \"main\": {\n            \"temp\": 299.13,\n            \"feels_like\": 299.13,\n            \"pressure\": 1018,\n            \"humidity\": 45,\n            \"temp_min\": 296.8,\n            \"temp_max\": 300.76\n         },\n         \"wind\": {\n            \"speed\": 0.45,\n            \"deg\": 0,\n            \"gust\": 2.68\n         },\n         \"clouds\": {\n            \"all\": 83\n         },\n         \"weather\": [\n            {\n               \"id\": 803,\n               \"main\": \"Clouds\",\n               \"description\": \"broken clouds\",\n               \"icon\": \"04d\"\n            }\n         ]\n      },\n      {\n         \"dt\": 1692824400,\n         \"main\": {\n            \"temp\": 298.62,\n            \"feels_like\": 298.45,\n            \"pressure\": 1017,\n            \"humidity\": 47,\n            \"temp_min\": 296.35,\n            \"temp_max\": 300.21\n         },\n         \"wind\": {\n            \"speed\": 1.27,\n            \"deg\": 6,\n            \"gust\": 1.61\n         },\n         \"clouds\": {\n            \"all\": 83\n         },\n         \"weather\": [\n            {\n               \"id\": 803,\n               \"main\": \"Clouds\",\n               \"description\": \"broken clouds\",\n               \"icon\": \"04d\"\n            }\n         ]\n      },\n      {\n         \"dt\": 1692828000,\n         \"main\": {\n            \"temp\": 298.05,\n            \"feels_like\": 297.9,\n            \"pressure\": 1016,\n            \"humidity\": 50,\n            \"temp_min\": 295.8,\n            \"temp_max\": 299.32\n         },\n         \"wind\": {\n            \"speed\": 1.22,\n            \"deg\": 26,\n            \"gust\": 1.73\n         },\n         \"clouds\": {\n            \"all\": 87\n         },\n         \"weather\": [\n            {\n               \"id\": 804,\n               \"main\": \"Clouds\",\n               \"description\": \"overcast clouds\",\n               \"icon\": \"04d\"\n            }\n         ]\n      },\n      {\n         \"dt\": 1692831600,\n         \"main\": {\n            \"temp\": 297.13,\n            \"feels_like\": 296.99,\n            \"pressure\": 1016,\n            \"humidity\": 54,\n            \"temp_min\": 294.69,\n            \"temp_max\": 298.71\n         },\n         \"wind\": {\n            \"speed\": 1.65,\n            \"deg\": 67,\n            \"gust\": 2.76\n         },\n         \"clouds\": {\n            \"all\": 90\n         },\n         \"weather\": [\n            {\n               \"id\": 804,\n               \"main\": \"Clouds\",\n               \"description\": \"overcast clouds\",\n               \"icon\": \"04d\"\n            }\n         ]\n      },\n      {\n         \"dt\": 1692835200,\n         \"main\": {\n            \"temp\": 295.78,\n            \"feels_like\": 295.72,\n            \"pressure\": 1015,\n            \"humidity\": 62,\n            \"temp_min\": 293.58,\n            \"temp_max\": 297.38\n         },\n         \"wind\": {\n            \"speed\": 0.45,\n            \"deg\": 0,\n            \"gust\": 4.92\n         },\n         \"clouds\": {\n            \"all\": 89\n         },\n         \"weather\": [\n            {\n               \"id\": 804,\n               \"main\": \"Clouds\",\n               \"description\": \"overcast clouds\",\n               \"icon\": \"04n\"\n            }\n         ]\n      },\n      {\n         \"dt\": 1692838800,\n         \"main\": {\n            \"temp\": 295.08,\n            \"feels_like\": 295.03,\n            \"pressure\": 1017,\n            \"humidity\": 65,\n            \"temp_min\": 292.92,\n            \"temp_max\": 296.51\n         },\n         \"wind\": {\n            \"speed\": 1.79,\n            \"deg\": 132,\n            \"gust\": 6.26\n         },\n         \"clouds\": {\n            \"all\": 100\n         },\n         \"weather\": [\n            {\n               \"id\": 804,\n               \"main\": \"Clouds\",\n               \"description\": \"overcast clouds\",\n               \"icon\": \"04n\"\n            }\n         ]\n      },\n      {\n         \"dt\": 1692842400,\n         \"main\": {\n            \"temp\": 294.58,\n            \"feels_like\": 294.48,\n            \"pressure\": 1017,\n            \"humidity\": 65,\n            \"temp_min\": 292.97,\n            \"temp_max\": 295.68\n         },\n         \"wind\": {\n            \"speed\": 2.97,\n            \"deg\": 149,\n            \"gust\": 5.71\n         },\n         \"clouds\": {\n            \"all\": 96\n         },\n         \"weather\": [\n            {\n               \"id\": 804,\n               \"main\": \"Clouds\",\n               \"description\": \"overcast clouds\",\n               \"icon\": \"04n\"\n            }\n         ]\n      },\n      {\n         \"dt\": 1692846000,\n         \"main\": {\n            \"temp\": 294.2,\n            \"feels_like\": 294.16,\n            \"pressure\": 1017,\n            \"humidity\": 69,\n            \"temp_min\": 292.59,\n            \"temp_max\": 295.35\n         },\n         \"wind\": {\n            \"speed\": 2.33,\n            \"deg\": 155,\n            \"gust\": 4.8\n         },\n         \"clouds\": {\n            \"all\": 98\n         },\n         \"weather\": [\n            {\n               \"id\": 804,\n               \"main\": \"Clouds\",\n               \"description\": \"overcast clouds\",\n               \"icon\": \"04n\"\n            }\n         ]\n      },\n      {\n         \"dt\": 1692849600,\n         \"main\": {\n            \"temp\": 293.86,\n            \"feels_like\": 293.81,\n            \"pressure\": 1018,\n            \"humidity\": 70,\n            \"temp_min\": 292.14,\n            \"temp_max\": 294.91\n         },\n         \"wind\": {\n            \"speed\": 2.06,\n            \"deg\": 150\n         },\n         \"clouds\": {\n            \"all\": 100\n         },\n         \"weather\": [\n            {\n               \"id\": 804,\n               \"main\": \"Clouds\",\n               \"description\": \"overcast clouds\",\n               \"icon\": \"04n\"\n            }\n         ]\n      },\n      {\n         \"dt\": 1692853200,\n         \"main\": {\n            \"temp\": 293.54,\n            \"feels_like\": 293.57,\n            \"pressure\": 1017,\n            \"humidity\": 74,\n            \"temp_min\": 291.91,\n            \"temp_max\": 294.54\n         },\n         \"wind\": {\n            \"speed\": 1.88,\n            \"deg\": 146,\n            \"gust\": 5.46\n         },\n         \"clouds\": {\n            \"all\": 99\n         },\n         \"weather\": [\n            {\n               \"id\": 804,\n               \"main\": \"Clouds\",\n               \"description\": \"overcast clouds\",\n               \"icon\": \"04n\"\n            }\n         ]\n      },\n      {\n         \"dt\": 1692856800,\n         \"main\": {\n            \"temp\": 293.42,\n            \"feels_like\": 293.46,\n            \"pressure\": 1018,\n            \"humidity\": 75,\n            \"temp_min\": 291.48,\n            \"temp_max\": 294.65\n         },\n         \"wind\": {\n            \"speed\": 0.89,\n            \"deg\": 182,\n            \"gust\": 4.02\n         },\n         \"clouds\": {\n            \"all\": 100\n         },\n         \"weather\": [\n            {\n               \"id\": 804,\n               \"main\": \"Clouds\",\n               \"description\": \"overcast clouds\",\n               \"icon\": \"04n\"\n            }\n         ]\n      },\n      {\n         \"dt\": 1692860400,\n         \"main\": {\n            \"temp\": 293.27,\n            \"feels_like\": 293.35,\n            \"pressure\": 1017,\n            \"humidity\": 77,\n            \"temp_min\": 291.35,\n            \"temp_max\": 294.29\n         },\n         \"wind\": {\n            \"speed\": 1.54,\n            \"deg\": 130\n         },\n         \"clouds\": {\n            \"all\": 100\n         },\n         \"weather\": [\n            {\n               \"id\": 804,\n               \"main\": \"Clouds\",\n               \"description\": \"overcast clouds\",\n               \"icon\": \"04n\"\n            }\n         ]\n      },\n      {\n         \"dt\": 1692864000,\n         \"main\": {\n            \"temp\": 293.29,\n            \"feels_like\": 293.37,\n            \"pressure\": 1017,\n            \"humidity\": 77,\n            \"temp_min\": 291.15,\n            \"temp_max\": 294.65\n         },\n         \"wind\": {\n            \"speed\": 2.15,\n            \"deg\": 146,\n            \"gust\": 5.66\n         },\n         \"clouds\": {\n            \"all\": 100\n         },\n         \"weather\": [\n            {\n               \"id\": 804,\n               \"main\": \"Clouds\",\n               \"description\": \"overcast clouds\",\n               \"icon\": \"04n\"\n            }\n         ]\n      },\n      {\n         \"dt\": 1692867600,\n         \"main\": {\n            \"temp\": 293.23,\n            \"feels_like\": 293.33,\n            \"pressure\": 1015,\n            \"humidity\": 78,\n            \"temp_min\": 291.03,\n            \"temp_max\": 294.29\n         },\n         \"wind\": {\n            \"speed\": 2.04,\n            \"deg\": 149,\n            \"gust\": 5.66\n         },\n         \"clouds\": {\n            \"all\": 100\n         },\n         \"weather\": [\n            {\n               \"id\": 804,\n               \"main\": \"Clouds\",\n               \"description\": \"overcast clouds\",\n               \"icon\": \"04n\"\n            }\n         ]\n      },\n      {\n         \"dt\": 1692871200,\n         \"main\": {\n            \"temp\": 293.17,\n            \"feels_like\": 293.29,\n            \"pressure\": 1015,\n            \"humidity\": 79,\n            \"temp_min\": 291.03,\n            \"temp_max\": 294.35\n         },\n         \"wind\": {\n            \"speed\": 2.35,\n            \"deg\": 160,\n            \"gust\": 6.62\n         },\n         \"clouds\": {\n            \"all\": 100\n         },\n         \"weather\": [\n            {\n               \"id\": 804,\n               \"main\": \"Clouds\",\n               \"description\": \"overcast clouds\",\n               \"icon\": \"04n\"\n            }\n         ]\n      },\n      {\n         \"dt\": 1692874800,\n         \"main\": {\n            \"temp\": 293.23,\n            \"feels_like\": 293.38,\n            \"pressure\": 1016,\n            \"humidity\": 80,\n            \"temp_min\": 291.29,\n            \"temp_max\": 294.29\n         },\n         \"wind\": {\n            \"speed\": 2.53,\n            \"deg\": 158,\n            \"gust\": 6.55\n         },\n         \"clouds\": {\n            \"all\": 100\n         },\n         \"weather\": [\n            {\n               \"id\": 804,\n               \"main\": \"Clouds\",\n               \"description\": \"overcast clouds\",\n               \"icon\": \"04d\"\n            }\n         ]\n      },\n      {\n         \"dt\": 1692878400,\n         \"main\": {\n            \"temp\": 293.39,\n            \"feels_like\": 293.58,\n            \"pressure\": 1017,\n            \"humidity\": 81,\n            \"temp_min\": 291.48,\n            \"temp_max\": 294.54\n         },\n         \"wind\": {\n            \"speed\": 2.41,\n            \"deg\": 156,\n            \"gust\": 6.48\n         },\n         \"clouds\": {\n            \"all\": 100\n         },\n         \"weather\": [\n            {\n               \"id\": 804,\n               \"main\": \"Clouds\",\n               \"description\": \"overcast clouds\",\n               \"icon\": \"04d\"\n            }\n         ]\n      },\n      {\n         \"dt\": 1692882000,\n         \"main\": {\n            \"temp\": 293.56,\n            \"feels_like\": 293.77,\n            \"pressure\": 1016,\n            \"humidity\": 81,\n            \"temp_min\": 291.9,\n            \"temp_max\": 294.8\n         },\n         \"wind\": {\n            \"speed\": 0.89,\n            \"deg\": 0,\n            \"gust\": 4.02\n         },\n         \"clouds\": {\n            \"all\": 100\n         },\n         \"weather\": [\n            {\n               \"id\": 804,\n               \"main\": \"Clouds\",\n               \"description\": \"overcast clouds\",\n               \"icon\": \"04d\"\n            }\n         ]\n      },\n      {\n         \"dt\": 1692885600,\n         \"main\": {\n            \"temp\": 294.03,\n            \"feels_like\": 294.31,\n            \"pressure\": 1017,\n            \"humidity\": 82,\n            \"temp_min\": 292.42,\n            \"temp_max\": 295.35\n         },\n         \"wind\": {\n            \"speed\": 0.89,\n            \"deg\": 232,\n            \"gust\": 3.13\n         },\n         \"clouds\": {\n            \"all\": 100\n         },\n         \"weather\": [\n            {\n               \"id\": 804,\n               \"main\": \"Clouds\",\n               \"description\": \"overcast clouds\",\n               \"icon\": \"04d\"\n            }\n         ]\n      },\n      {\n         \"dt\": 1692889200,\n         \"main\": {\n            \"temp\": 294.9,\n            \"feels_like\": 295.06,\n            \"pressure\": 1016,\n            \"humidity\": 74,\n            \"temp_min\": 293.15,\n            \"temp_max\": 296.51\n         },\n         \"wind\": {\n            \"speed\": 1.34,\n            \"deg\": 156,\n            \"gust\": 4.47\n         },\n         \"clouds\": {\n            \"all\": 100\n         },\n         \"weather\": [\n            {\n               \"id\": 804,\n               \"main\": \"Clouds\",\n               \"description\": \"overcast clouds\",\n               \"icon\": \"04d\"\n            }\n         ]\n      },\n      {\n         \"dt\": 1692892800,\n         \"main\": {\n            \"temp\": 295.31,\n            \"feels_like\": 295.44,\n            \"pressure\": 1016,\n            \"humidity\": 71,\n            \"temp_min\": 293.88,\n            \"temp_max\": 296.57\n         },\n         \"wind\": {\n            \"speed\": 1.34,\n            \"deg\": 0,\n            \"gust\": 4.92\n         },\n        \n\n*** WARNING: max output size exceeded, skipping output. ***\n\n \"all\": 100\n         },\n         \"weather\": [\n            {\n               \"id\": 804,\n               \"main\": \"Clouds\",\n               \"description\": \"overcast clouds\",\n               \"icon\": \"04n\"\n            }\n         ]\n      },\n      {\n         \"dt\": 1693209600,\n         \"main\": {\n            \"temp\": 294.08,\n            \"feels_like\": 294.45,\n            \"pressure\": 1014,\n            \"humidity\": 85,\n            \"temp_min\": 291.29,\n            \"temp_max\": 295.97\n         },\n         \"wind\": {\n            \"speed\": 0.45,\n            \"deg\": 101,\n            \"gust\": 1.79\n         },\n         \"clouds\": {\n            \"all\": 99\n         },\n         \"weather\": [\n            {\n               \"id\": 804,\n               \"main\": \"Clouds\",\n               \"description\": \"overcast clouds\",\n               \"icon\": \"04n\"\n            }\n         ]\n      },\n      {\n         \"dt\": 1693213200,\n         \"main\": {\n            \"temp\": 293.83,\n            \"feels_like\": 294.25,\n            \"pressure\": 1014,\n            \"humidity\": 88,\n            \"temp_min\": 291.29,\n            \"temp_max\": 295.21\n         },\n         \"wind\": {\n            \"speed\": 0.89,\n            \"deg\": 134,\n            \"gust\": 3.58\n         },\n         \"clouds\": {\n            \"all\": 97\n         },\n         \"weather\": [\n            {\n               \"id\": 804,\n               \"main\": \"Clouds\",\n               \"description\": \"overcast clouds\",\n               \"icon\": \"04n\"\n            }\n         ]\n      },\n      {\n         \"dt\": 1693216800,\n         \"main\": {\n            \"temp\": 293.59,\n            \"feels_like\": 294.07,\n            \"pressure\": 1014,\n            \"humidity\": 91,\n            \"temp_min\": 291.16,\n            \"temp_max\": 295.21\n         },\n         \"wind\": {\n            \"speed\": 3.6,\n            \"deg\": 60\n         },\n         \"clouds\": {\n            \"all\": 75\n         },\n         \"weather\": [\n            {\n               \"id\": 803,\n               \"main\": \"Clouds\",\n               \"description\": \"broken clouds\",\n               \"icon\": \"04n\"\n            }\n         ]\n      },\n      {\n         \"dt\": 1693220400,\n         \"main\": {\n            \"temp\": 293.53,\n            \"feels_like\": 294.05,\n            \"pressure\": 1015,\n            \"humidity\": 93,\n            \"temp_min\": 291.35,\n            \"temp_max\": 294.91\n         },\n         \"wind\": {\n            \"speed\": 3.09,\n            \"deg\": 80\n         },\n         \"clouds\": {\n            \"all\": 75\n         },\n         \"weather\": [\n            {\n               \"id\": 803,\n               \"main\": \"Clouds\",\n               \"description\": \"broken clouds\",\n               \"icon\": \"04d\"\n            }\n         ]\n      },\n      {\n         \"dt\": 1693224000,\n         \"main\": {\n            \"temp\": 294.42,\n            \"feels_like\": 294.98,\n            \"pressure\": 1015,\n            \"humidity\": 91,\n            \"temp_min\": 292.59,\n            \"temp_max\": 295.4\n         },\n         \"wind\": {\n            \"speed\": 4.12,\n            \"deg\": 80\n         },\n         \"clouds\": {\n            \"all\": 75\n         },\n         \"weather\": [\n            {\n               \"id\": 803,\n               \"main\": \"Clouds\",\n               \"description\": \"broken clouds\",\n               \"icon\": \"04d\"\n            }\n         ]\n      },\n      {\n         \"dt\": 1693227600,\n         \"main\": {\n            \"temp\": 295.54,\n            \"feels_like\": 296.08,\n            \"pressure\": 1016,\n            \"humidity\": 86,\n            \"temp_min\": 294.09,\n            \"temp_max\": 296.57\n         },\n         \"wind\": {\n            \"speed\": 4.63,\n            \"deg\": 100\n         },\n         \"clouds\": {\n            \"all\": 100\n         },\n         \"weather\": [\n            {\n               \"id\": 804,\n               \"main\": \"Clouds\",\n               \"description\": \"overcast clouds\",\n               \"icon\": \"04d\"\n            }\n         ]\n      },\n      {\n         \"dt\": 1693231200,\n         \"main\": {\n            \"temp\": 296.59,\n            \"feels_like\": 297.13,\n            \"pressure\": 1015,\n            \"humidity\": 82,\n            \"temp_min\": 295.2,\n            \"temp_max\": 297.65\n         },\n         \"wind\": {\n            \"speed\": 5.14,\n            \"deg\": 90\n         },\n         \"clouds\": {\n            \"all\": 100\n         },\n         \"weather\": [\n            {\n               \"id\": 804,\n               \"main\": \"Clouds\",\n               \"description\": \"overcast clouds\",\n               \"icon\": \"04d\"\n            }\n         ]\n      },\n      {\n         \"dt\": 1693234800,\n         \"main\": {\n            \"temp\": 297.82,\n            \"feels_like\": 298.33,\n            \"pressure\": 1015,\n            \"humidity\": 76,\n            \"temp_min\": 296.03,\n            \"temp_max\": 299.26\n         },\n         \"wind\": {\n            \"speed\": 1.34,\n            \"deg\": 158,\n            \"gust\": 5.81\n         },\n         \"clouds\": {\n            \"all\": 100\n         },\n         \"weather\": [\n            {\n               \"id\": 804,\n               \"main\": \"Clouds\",\n               \"description\": \"overcast clouds\",\n               \"icon\": \"04d\"\n            }\n         ]\n      },\n      {\n         \"dt\": 1693238400,\n         \"main\": {\n            \"temp\": 299.11,\n            \"feels_like\": 299.11,\n            \"pressure\": 1015,\n            \"humidity\": 70,\n            \"temp_min\": 297.2,\n            \"temp_max\": 300.4\n         },\n         \"wind\": {\n            \"speed\": 6.69,\n            \"deg\": 80\n         },\n         \"clouds\": {\n            \"all\": 40\n         },\n         \"weather\": [\n            {\n               \"id\": 802,\n               \"main\": \"Clouds\",\n               \"description\": \"scattered clouds\",\n               \"icon\": \"03d\"\n            }\n         ]\n      },\n      {\n         \"dt\": 1693242000,\n         \"main\": {\n            \"temp\": 299.76,\n            \"feels_like\": 299.76,\n            \"pressure\": 1015,\n            \"humidity\": 67,\n            \"temp_min\": 297.91,\n            \"temp_max\": 301.14\n         },\n         \"wind\": {\n            \"speed\": 1.34,\n            \"deg\": 70,\n            \"gust\": 4.47\n         },\n         \"clouds\": {\n            \"all\": 100\n         },\n         \"weather\": [\n            {\n               \"id\": 804,\n               \"main\": \"Clouds\",\n               \"description\": \"overcast clouds\",\n               \"icon\": \"04d\"\n            }\n         ]\n      },\n      {\n         \"dt\": 1693245600,\n         \"main\": {\n            \"temp\": 299.8,\n            \"feels_like\": 299.8,\n            \"pressure\": 1015,\n            \"humidity\": 66,\n            \"temp_min\": 297.91,\n            \"temp_max\": 301.21\n         },\n         \"wind\": {\n            \"speed\": 5.14,\n            \"deg\": 100\n         },\n         \"clouds\": {\n            \"all\": 75\n         },\n         \"weather\": [\n            {\n               \"id\": 803,\n               \"main\": \"Clouds\",\n               \"description\": \"broken clouds\",\n               \"icon\": \"04d\"\n            }\n         ]\n      },\n      {\n         \"dt\": 1693249200,\n         \"main\": {\n            \"temp\": 299.44,\n            \"feels_like\": 299.44,\n            \"pressure\": 1015,\n            \"humidity\": 67,\n            \"temp_min\": 297.67,\n            \"temp_max\": 300.65\n         },\n         \"wind\": {\n            \"speed\": 5.14,\n            \"deg\": 130\n         },\n         \"clouds\": {\n            \"all\": 100\n         },\n         \"weather\": [\n            {\n               \"id\": 804,\n               \"main\": \"Clouds\",\n               \"description\": \"overcast clouds\",\n               \"icon\": \"04d\"\n            }\n         ]\n      },\n      {\n         \"dt\": 1693252800,\n         \"main\": {\n            \"temp\": 298.86,\n            \"feels_like\": 299.34,\n            \"pressure\": 1014,\n            \"humidity\": 71,\n            \"temp_min\": 297.01,\n            \"temp_max\": 300.4\n         },\n         \"wind\": {\n            \"speed\": 1.34,\n            \"deg\": 140,\n            \"gust\": 3.58\n         },\n         \"clouds\": {\n            \"all\": 100\n         },\n         \"weather\": [\n            {\n               \"id\": 804,\n               \"main\": \"Clouds\",\n               \"description\": \"overcast clouds\",\n               \"icon\": \"04d\"\n            }\n         ]\n      },\n      {\n         \"dt\": 1693256400,\n         \"main\": {\n            \"temp\": 298.35,\n            \"feels_like\": 298.81,\n            \"pressure\": 1015,\n            \"humidity\": 72,\n            \"temp_min\": 296.81,\n            \"temp_max\": 299.91\n         },\n         \"wind\": {\n            \"speed\": 4.63,\n            \"deg\": 140\n         },\n         \"clouds\": {\n            \"all\": 40\n         },\n         \"weather\": [\n            {\n               \"id\": 802,\n               \"main\": \"Clouds\",\n               \"description\": \"scattered clouds\",\n               \"icon\": \"03d\"\n            }\n         ]\n      },\n      {\n         \"dt\": 1693260000,\n         \"main\": {\n            \"temp\": 297.87,\n            \"feels_like\": 298.33,\n            \"pressure\": 1015,\n            \"humidity\": 74,\n            \"temp_min\": 296.41,\n            \"temp_max\": 299.1\n         },\n         \"wind\": {\n            \"speed\": 0.89,\n            \"deg\": 145,\n            \"gust\": 3.58\n         },\n         \"clouds\": {\n            \"all\": 100\n         },\n         \"weather\": [\n            {\n               \"id\": 804,\n               \"main\": \"Clouds\",\n               \"description\": \"overcast clouds\",\n               \"icon\": \"04d\"\n            }\n         ]\n      },\n      {\n         \"dt\": 1693263600,\n         \"main\": {\n            \"temp\": 297.05,\n            \"feels_like\": 297.48,\n            \"pressure\": 1014,\n            \"humidity\": 76,\n            \"temp_min\": 295.47,\n            \"temp_max\": 298.23\n         },\n         \"wind\": {\n            \"speed\": 0.45,\n            \"deg\": 138,\n            \"gust\": 2.24\n         },\n         \"clouds\": {\n            \"all\": 100\n         },\n         \"weather\": [\n            {\n               \"id\": 804,\n               \"main\": \"Clouds\",\n               \"description\": \"overcast clouds\",\n               \"icon\": \"04d\"\n            }\n         ]\n      },\n      {\n         \"dt\": 1693267200,\n         \"main\": {\n            \"temp\": 296.12,\n            \"feels_like\": 296.54,\n            \"pressure\": 1015,\n            \"humidity\": 79,\n            \"temp_min\": 294.34,\n            \"temp_max\": 297.43\n         },\n         \"wind\": {\n            \"speed\": 0.89,\n            \"deg\": 71,\n            \"gust\": 4.02\n         },\n         \"clouds\": {\n            \"all\": 100\n         },\n         \"weather\": [\n            {\n               \"id\": 804,\n               \"main\": \"Clouds\",\n               \"description\": \"overcast clouds\",\n               \"icon\": \"04n\"\n            }\n         ]\n      },\n      {\n         \"dt\": 1693270800,\n         \"main\": {\n            \"temp\": 295.43,\n            \"feels_like\": 295.88,\n            \"pressure\": 1015,\n            \"humidity\": 83,\n            \"temp_min\": 293.57,\n            \"temp_max\": 296.54\n         },\n         \"wind\": {\n            \"speed\": 1.34,\n            \"deg\": 0,\n            \"gust\": 4.47\n         },\n         \"clouds\": {\n            \"all\": 100\n         },\n         \"weather\": [\n            {\n               \"id\": 804,\n               \"main\": \"Clouds\",\n               \"description\": \"overcast clouds\",\n               \"icon\": \"04n\"\n            }\n         ]\n      },\n      {\n         \"dt\": 1693274400,\n         \"main\": {\n            \"temp\": 294.91,\n            \"feels_like\": 295.36,\n            \"pressure\": 1015,\n            \"humidity\": 85,\n            \"temp_min\": 293.01,\n            \"temp_max\": 296.21\n         },\n         \"wind\": {\n            \"speed\": 1.34,\n            \"deg\": 123,\n            \"gust\": 4.02\n         },\n         \"clouds\": {\n            \"all\": 100\n         },\n         \"weather\": [\n            {\n               \"id\": 804,\n               \"main\": \"Clouds\",\n               \"description\": \"overcast clouds\",\n               \"icon\": \"04n\"\n            }\n         ]\n      },\n      {\n         \"dt\": 1693278000,\n         \"main\": {\n            \"temp\": 294.63,\n            \"feels_like\": 295.08,\n            \"pressure\": 1015,\n            \"humidity\": 86,\n            \"temp_min\": 292.46,\n            \"temp_max\": 295.96\n         },\n         \"wind\": {\n            \"speed\": 1.34,\n            \"deg\": 84,\n            \"gust\": 3.13\n         },\n         \"clouds\": {\n            \"all\": 100\n         },\n         \"weather\": [\n            {\n               \"id\": 804,\n               \"main\": \"Clouds\",\n               \"description\": \"overcast clouds\",\n               \"icon\": \"04n\"\n            }\n         ]\n      },\n      {\n         \"dt\": 1693281600,\n         \"main\": {\n            \"temp\": 294.33,\n            \"feels_like\": 294.8,\n            \"pressure\": 1015,\n            \"humidity\": 88,\n            \"temp_min\": 292.14,\n            \"temp_max\": 295.46\n         },\n         \"wind\": {\n            \"speed\": 0.89,\n            \"deg\": 98,\n            \"gust\": 3.13\n         },\n         \"clouds\": {\n            \"all\": 100\n         },\n         \"weather\": [\n            {\n               \"id\": 804,\n               \"main\": \"Clouds\",\n               \"description\": \"overcast clouds\",\n               \"icon\": \"04n\"\n            }\n         ]\n      },\n      {\n         \"dt\": 1693285200,\n         \"main\": {\n            \"temp\": 294.18,\n            \"feels_like\": 294.64,\n            \"pressure\": 1015,\n            \"humidity\": 88,\n            \"temp_min\": 292.15,\n            \"temp_max\": 295.4\n         },\n         \"wind\": {\n            \"speed\": 3.6,\n            \"deg\": 70\n         },\n         \"clouds\": {\n            \"all\": 100\n         },\n         \"weather\": [\n            {\n               \"id\": 804,\n               \"main\": \"Clouds\",\n               \"description\": \"overcast clouds\",\n               \"icon\": \"04n\"\n            }\n         ]\n      },\n      {\n         \"dt\": 1693288800,\n         \"main\": {\n            \"temp\": 294.05,\n            \"feels_like\": 294.49,\n            \"pressure\": 1015,\n            \"humidity\": 88,\n            \"temp_min\": 292.15,\n            \"temp_max\": 295.4\n         },\n         \"wind\": {\n            \"speed\": 3.6,\n            \"deg\": 70\n         },\n         \"clouds\": {\n            \"all\": 100\n         },\n         \"weather\": [\n            {\n               \"id\": 804,\n               \"main\": \"Clouds\",\n               \"description\": \"overcast clouds\",\n               \"icon\": \"04n\"\n            }\n         ]\n      },\n      {\n         \"dt\": 1693292400,\n         \"main\": {\n            \"temp\": 293.8,\n            \"feels_like\": 294.24,\n            \"pressure\": 1014,\n            \"humidity\": 89,\n            \"temp_min\": 291.9,\n            \"temp_max\": 295.25\n         },\n         \"wind\": {\n            \"speed\": 3.6,\n            \"deg\": 70\n         },\n         \"clouds\": {\n            \"all\": 100\n         },\n         \"weather\": [\n            {\n               \"id\": 804,\n               \"main\": \"Clouds\",\n               \"description\": \"overcast clouds\",\n               \"icon\": \"04n\"\n            }\n         ]\n      },\n      {\n         \"dt\": 1693296000,\n         \"main\": {\n            \"temp\": 293.6,\n            \"feels_like\": 294.05,\n            \"pressure\": 1014,\n            \"humidity\": 90,\n            \"temp_min\": 291.91,\n            \"temp_max\": 295.09\n         },\n         \"wind\": {\n            \"speed\": 2.57,\n            \"deg\": 70\n         },\n         \"clouds\": {\n            \"all\": 100\n         },\n         \"weather\": [\n            {\n               \"id\": 804,\n               \"main\": \"Clouds\",\n               \"description\": \"overcast clouds\",\n               \"icon\": \"04n\"\n            }\n         ]\n      },\n      {\n         \"dt\": 1693299600,\n         \"main\": {\n            \"temp\": 293.56,\n            \"feels_like\": 294.03,\n            \"pressure\": 1013,\n            \"humidity\": 91,\n            \"temp_min\": 291.81,\n            \"temp_max\": 294.69\n         },\n         \"wind\": {\n            \"speed\": 1.79,\n            \"deg\": 38,\n            \"gust\": 3.58\n         },\n         \"clouds\": {\n            \"all\": 93\n         },\n         \"weather\": [\n            {\n               \"id\": 804,\n               \"main\": \"Clouds\",\n               \"description\": \"overcast clouds\",\n               \"icon\": \"04n\"\n            }\n         ]\n      },\n      {\n         \"dt\": 1693303200,\n         \"main\": {\n            \"temp\": 293.63,\n            \"feels_like\": 294.08,\n            \"pressure\": 1013,\n            \"humidity\": 90,\n            \"temp_min\": 292.27,\n            \"temp_max\": 294.82\n         },\n         \"wind\": {\n            \"speed\": 3.6,\n            \"deg\": 30\n         },\n         \"clouds\": {\n            \"all\": 100\n         },\n         \"weather\": [\n            {\n               \"id\": 804,\n               \"main\": \"Clouds\",\n               \"description\": \"overcast clouds\",\n               \"icon\": \"04n\"\n            }\n         ]\n      },\n      {\n         \"dt\": 1693306800,\n         \"main\": {\n            \"temp\": 293.65,\n            \"feels_like\": 294.13,\n            \"pressure\": 1014,\n            \"humidity\": 91,\n            \"temp_min\": 292.2,\n            \"temp_max\": 294.65\n         },\n         \"wind\": {\n            \"speed\": 3.6,\n            \"deg\": 60\n         },\n         \"clouds\": {\n            \"all\": 100\n         },\n         \"weather\": [\n            {\n               \"id\": 804,\n               \"main\": \"Clouds\",\n               \"description\": \"overcast clouds\",\n               \"icon\": \"04d\"\n            }\n         ]\n      },\n      {\n         \"dt\": 1693310400,\n         \"main\": {\n            \"temp\": 294.16,\n            \"feels_like\": 294.67,\n            \"pressure\": 1014,\n            \"humidity\": 90,\n            \"temp_min\": 292.82,\n            \"temp_max\": 295.21\n         },\n         \"wind\": {\n            \"speed\": 3.09,\n            \"deg\": 40\n         },\n         \"clouds\": {\n            \"all\": 100\n         },\n         \"weather\": [\n            {\n               \"id\": 804,\n               \"main\": \"Clouds\",\n               \"description\": \"overcast clouds\",\n               \"icon\": \"04d\"\n            }\n         ]\n      },\n      {\n         \"dt\": 1693314000,\n         \"main\": {\n            \"temp\": 294.83,\n            \"feels_like\": 295.33,\n            \"pressure\": 1013,\n            \"humidity\": 87,\n            \"temp_min\": 293.41,\n            \"temp_max\": 296.04\n         },\n         \"wind\": {\n            \"speed\": 2.68,\n            \"deg\": 0,\n            \"gust\": 4.92\n         },\n         \"clouds\": {\n            \"all\": 100\n         },\n         \"weather\": [\n            {\n               \"id\": 804,\n               \"main\": \"Clouds\",\n               \"description\": \"overcast clouds\",\n               \"icon\": \"04d\"\n            }\n         ]\n      },\n      {\n         \"dt\": 1693317600,\n         \"main\": {\n            \"temp\": 295.58,\n            \"feels_like\": 296.12,\n            \"pressure\": 1014,\n            \"humidity\": 86,\n            \"temp_min\": 293.99,\n            \"temp_max\": 297.07\n         },\n         \"wind\": {\n            \"speed\": 3.6,\n            \"deg\": 60\n         },\n         \"clouds\": {\n            \"all\": 100\n         },\n         \"weather\": [\n            {\n               \"id\": 804,\n               \"main\": \"Clouds\",\n               \"description\": \"overcast clouds\",\n               \"icon\": \"04d\"\n            }\n         ]\n      },\n      {\n         \"dt\": 1693321200,\n         \"main\": {\n            \"temp\": 296.48,\n            \"feels_like\": 297.06,\n            \"pressure\": 1013,\n            \"humidity\": 84,\n            \"temp_min\": 295.1,\n            \"temp_max\": 297.65\n         },\n         \"wind\": {\n            \"speed\": 0.89,\n            \"deg\": 80,\n            \"gust\": 3.58\n         },\n         \"clouds\": {\n            \"all\": 100\n         },\n         \"weather\": [\n            {\n               \"id\": 804,\n               \"main\": \"Clouds\",\n               \"description\": \"overcast clouds\",\n               \"icon\": \"04d\"\n            }\n         ]\n      },\n      {\n         \"dt\": 1693324800,\n         \"main\": {\n            \"temp\": 297.4,\n            \"feels_like\": 297.97,\n            \"pressure\": 1014,\n            \"humidity\": 80,\n            \"temp_min\": 296.22,\n            \"temp_max\": 298.8\n         },\n         \"wind\": {\n            \"speed\": 4.12,\n            \"deg\": 80\n         },\n         \"clouds\": {\n            \"all\": 100\n         },\n         \"weather\": [\n            {\n               \"id\": 804,\n               \"main\": \"Clouds\",\n               \"description\": \"overcast clouds\",\n               \"icon\": \"04d\"\n            }\n         ]\n      },\n      {\n         \"dt\": 1693328400,\n         \"main\": {\n            \"temp\": 298.12,\n            \"feels_like\": 298.76,\n            \"pressure\": 1013,\n            \"humidity\": 80,\n            \"temp_min\": 296.61,\n            \"temp_max\": 299.74\n         },\n         \"wind\": {\n            \"speed\": 0.45,\n            \"deg\": 121,\n            \"gust\": 1.79\n         },\n         \"clouds\": {\n            \"all\": 100\n         },\n         \"weather\": [\n            {\n               \"id\": 804,\n               \"main\": \"Clouds\",\n               \"description\": \"overcast clouds\",\n               \"icon\": \"04d\"\n            }\n         ]\n      },\n      {\n         \"dt\": 1693332000,\n         \"main\": {\n            \"temp\": 298.57,\n            \"feels_like\": 299.18,\n            \"pressure\": 1013,\n            \"humidity\": 77,\n            \"temp_min\": 297.14,\n            \"temp_max\": 300.13\n         },\n         \"wind\": {\n            \"speed\": 2.06,\n            \"deg\": 100\n         },\n         \"clouds\": {\n            \"all\": 100\n         },\n         \"weather\": [\n            {\n               \"id\": 804,\n               \"main\": \"Clouds\",\n               \"description\": \"overcast clouds\",\n               \"icon\": \"04d\"\n            }\n         ]\n      },\n      {\n         \"dt\": 1693335600,\n         \"main\": {\n            \"temp\": 298.79,\n            \"feels_like\": 299.42,\n            \"pressure\": 1012,\n            \"humidity\": 77,\n            \"temp_min\": 297.66,\n            \"temp_max\": 300.68\n         },\n         \"wind\": {\n            \"speed\": 3.09,\n            \"deg\": 40\n         },\n         \"clouds\": {\n            \"all\": 100\n         },\n         \"weather\": [\n            {\n               \"id\": 804,\n               \"main\": \"Clouds\",\n               \"description\": \"overcast clouds\",\n               \"icon\": \"04d\"\n            }\n         ]\n      },\n      {\n         \"dt\": 1693339200,\n         \"main\": {\n            \"temp\": 298.83,\n            \"feels_like\": 299.44,\n            \"pressure\": 1011,\n            \"humidity\": 76,\n            \"temp_min\": 297.37,\n            \"temp_max\": 300.75\n         },\n         \"wind\": {\n            \"speed\": 2.06,\n            \"deg\": 30\n         },\n         \"clouds\": {\n            \"all\": 100\n         },\n         \"weather\": [\n            {\n               \"id\": 804,\n               \"main\": \"Clouds\",\n               \"description\": \"overcast clouds\",\n               \"icon\": \"04d\"\n            }\n         ]\n      },\n      {\n         \"dt\": 1693342800,\n         \"main\": {\n            \"temp\": 298.88,\n            \"feels_like\": 299.52,\n            \"pressure\": 1010,\n            \"humidity\": 77,\n            \"temp_min\": 297.66,\n            \"temp_max\": 300.6\n         },\n         \"wind\": {\n            \"speed\": 0.89,\n            \"deg\": 63,\n            \"gust\": 2.68\n         },\n         \"clouds\": {\n            \"all\": 100\n         },\n         \"weather\": [\n            {\n               \"id\": 804,\n               \"main\": \"Clouds\",\n               \"description\": \"overcast clouds\",\n               \"icon\": \"04d\"\n            }\n         ]\n      },\n      {\n         \"dt\": 1693346400,\n         \"main\": {\n            \"temp\": 298.55,\n            \"feels_like\": 299.21,\n            \"pressure\": 1009,\n            \"humidity\": 79,\n            \"temp_min\": 297.25,\n            \"temp_max\": 299.97\n         },\n         \"wind\": {\n            \"speed\": 2.3,\n            \"deg\": 112,\n            \"gust\": 3.96\n         },\n         \"clouds\": {\n            \"all\": 100\n         },\n         \"weather\": [\n            {\n               \"id\": 804,\n               \"main\": \"Clouds\",\n               \"description\": \"overcast clouds\",\n               \"icon\": \"04d\"\n            }\n         ]\n      },\n      {\n         \"dt\": 1693350000,\n         \"main\": {\n            \"temp\": 298.01,\n            \"feels_like\": 298.69,\n            \"pressure\": 1009,\n            \"humidity\": 82,\n            \"temp_min\": 296.56,\n            \"temp_max\": 299.29\n         },\n         \"wind\": {\n            \"speed\": 0.45,\n            \"deg\": 101,\n            \"gust\": 1.79\n         },\n         \"clouds\": {\n            \"all\": 100\n         },\n         \"weather\": [\n            {\n               \"id\": 804,\n               \"main\": \"Clouds\",\n               \"description\": \"overcast clouds\",\n               \"icon\": \"04d\"\n            }\n         ]\n      },\n      {\n         \"dt\": 1693353600,\n         \"main\": {\n            \"temp\": 297.53,\n            \"feels_like\": 298.22,\n            \"pressure\": 1009,\n            \"humidity\": 84,\n            \"temp_min\": 296.03,\n            \"temp_max\": 298.74\n         },\n         \"wind\": {\n            \"speed\": 0.45,\n            \"deg\": 123,\n            \"gust\": 1.79\n         },\n         \"clouds\": {\n            \"all\": 99\n         },\n         \"weather\": [\n            {\n               \"id\": 804,\n               \"main\": \"Clouds\",\n               \"description\": \"overcast clouds\",\n               \"icon\": \"04n\"\n            }\n         ]\n      }\n   ]\n}\n"
     ]
    }
   ],
   "source": [
    "# format the above json response to something readable\n",
    "json_formatted_str = json.dumps(history_data, indent=3)\n",
    "print(json_formatted_str)"
   ]
  },
  {
   "cell_type": "code",
   "execution_count": 0,
   "metadata": {
    "application/vnd.databricks.v1+cell": {
     "cellMetadata": {
      "byteLimit": 2048000,
      "rowLimit": 10000
     },
     "inputWidgets": {},
     "nuid": "6e8aa412-8876-4cd5-ae23-097f997d764c",
     "showTitle": false,
     "title": ""
    }
   },
   "outputs": [
    {
     "output_type": "display_data",
     "data": {
      "text/html": [
       "<style scoped>\n",
       "  .table-result-container {\n",
       "    max-height: 300px;\n",
       "    overflow: auto;\n",
       "  }\n",
       "  table, th, td {\n",
       "    border: 1px solid black;\n",
       "    border-collapse: collapse;\n",
       "  }\n",
       "  th, td {\n",
       "    padding: 5px;\n",
       "  }\n",
       "  th {\n",
       "    text-align: left;\n",
       "  }\n",
       "</style><div class='table-result-container'><table class='table-result'><thead style='background-color: white'><tr><th>calctime</th><th>city_id</th><th>cnt</th><th>cod</th><th>list</th><th>message</th></tr></thead><tbody><tr><td>0.073458075</td><td>1</td><td>169</td><td>200</td><td>List(List(List(99), 1692748800, List(295.56, 50, 1019, 295.92, 297.98, 293.15), null, List(List(overcast clouds, 04n, 804, Clouds)), List(22, 7.36, 2.91)), List(List(100), 1692752400, List(293.06, 61, 1019, 293.39, 296.21, 290.15), null, List(List(overcast clouds, 04n, 804, Clouds)), List(30, 7.73, 2.68)), List(List(76), 1692756000, List(291.99, 63, 1019, 292.37, 295.21, 288.62), null, List(List(broken clouds, 04n, 803, Clouds)), List(34, 7.51, 2.23)), List(List(64), 1692759600, List(291.03, 67, 1019, 291.4, 294.27, 287.62), null, List(List(broken clouds, 04n, 803, Clouds)), List(33, 4.76, 1.36)), List(List(51), 1692763200, List(290.24, 70, 1019, 290.61, 293.49, 286.62), null, List(List(broken clouds, 04n, 803, Clouds)), List(13, 3.03, 1.15)), List(List(42), 1692766800, List(289.72, 72, 1019, 290.09, 292.6, 286.62), null, List(List(scattered clouds, 03n, 802, Clouds)), List(2, 2.88, 1.24)), List(List(39), 1692770400, List(289.82, 74, 1020, 290.13, 292.43, 286.62), null, List(List(scattered clouds, 03n, 802, Clouds)), List(346, 2.89, 1.57)), List(List(0), 1692774000, List(289.86, 71, 1020, 290.24, 292.09, 286.66), null, List(List(clear sky, 01n, 800, Clear)), List(330, null, 3.09)), List(List(3), 1692777600, List(289.35, 76, 1019, 289.66, 291.87, 286.15), null, List(List(clear sky, 01n, 800, Clear)), List(331, 3.58, 0.89)), List(List(2), 1692781200, List(288.94, 78, 1019, 289.24, 291.27, 286.16), null, List(List(clear sky, 01n, 800, Clear)), List(234, 3.58, 0.45)), List(List(5), 1692784800, List(288.74, 81, 1020, 288.99, 291.27, 285.6), null, List(List(clear sky, 01n, 800, Clear)), List(220, 0.89, 0.45)), List(List(8), 1692788400, List(288.88, 81, 1021, 289.11, 291.51, 285.75), null, List(List(clear sky, 01d, 800, Clear)), List(14, 4.31, 1.38)), List(List(7), 1692792000, List(291.31, 72, 1020, 291.54, 293.27, 288.53), null, List(List(clear sky, 01d, 800, Clear)), List(0, 1.79, 0.45)), List(List(10), 1692795600, List(293.12, 64, 1020, 293.37, 295.25, 290.95), null, List(List(clear sky, 01d, 800, Clear)), List(36, 3.94, 2.49)), List(List(44), 1692799200, List(294.02, 62, 1020, 294.24, 296.21, 291.81), null, List(List(scattered clouds, 03d, 802, Clouds)), List(71, 3.58, 0.45)), List(List(62), 1692802800, List(295.05, 57, 1020, 295.29, 296.97, 293.48), null, List(List(broken clouds, 04d, 803, Clouds)), List(36, 3.2, 2.59)), List(List(72), 1692806400, List(296.92, 49, 1019, 297.18, 298.83, 295.39), null, List(List(broken clouds, 04d, 803, Clouds)), List(67, 2.68, 0.45)), List(List(77), 1692810000, List(297.8, 49, 1020, 297.98, 299.85, 296.41), null, List(List(broken clouds, 04d, 803, Clouds)), List(21, 2.26, 1.58)), List(List(76), 1692813600, List(298.83, 43, 1019, 299.06, 300.65, 297.05), null, List(List(broken clouds, 04d, 803, Clouds)), List(96, 4.47, 1.79)), List(List(75), 1692817200, List(299.56, 43, 1018, 299.56, 301.21, 297.46), null, List(List(broken clouds, 04d, 803, Clouds)), List(140, null, 2.06)), List(List(83), 1692820800, List(299.13, 45, 1018, 299.13, 300.76, 296.8), null, List(List(broken clouds, 04d, 803, Clouds)), List(0, 2.68, 0.45)), List(List(83), 1692824400, List(298.45, 47, 1017, 298.62, 300.21, 296.35), null, List(List(broken clouds, 04d, 803, Clouds)), List(6, 1.61, 1.27)), List(List(87), 1692828000, List(297.9, 50, 1016, 298.05, 299.32, 295.8), null, List(List(overcast clouds, 04d, 804, Clouds)), List(26, 1.73, 1.22)), List(List(90), 1692831600, List(296.99, 54, 1016, 297.13, 298.71, 294.69), null, List(List(overcast clouds, 04d, 804, Clouds)), List(67, 2.76, 1.65)), List(List(89), 1692835200, List(295.72, 62, 1015, 295.78, 297.38, 293.58), null, List(List(overcast clouds, 04n, 804, Clouds)), List(0, 4.92, 0.45)), List(List(100), 1692838800, List(295.03, 65, 1017, 295.08, 296.51, 292.92), null, List(List(overcast clouds, 04n, 804, Clouds)), List(132, 6.26, 1.79)), List(List(96), 1692842400, List(294.48, 65, 1017, 294.58, 295.68, 292.97), null, List(List(overcast clouds, 04n, 804, Clouds)), List(149, 5.71, 2.97)), List(List(98), 1692846000, List(294.16, 69, 1017, 294.2, 295.35, 292.59), null, List(List(overcast clouds, 04n, 804, Clouds)), List(155, 4.8, 2.33)), List(List(100), 1692849600, List(293.81, 70, 1018, 293.86, 294.91, 292.14), null, List(List(overcast clouds, 04n, 804, Clouds)), List(150, null, 2.06)), List(List(99), 1692853200, List(293.57, 74, 1017, 293.54, 294.54, 291.91), null, List(List(overcast clouds, 04n, 804, Clouds)), List(146, 5.46, 1.88)), List(List(100), 1692856800, List(293.46, 75, 1018, 293.42, 294.65, 291.48), null, List(List(overcast clouds, 04n, 804, Clouds)), List(182, 4.02, 0.89)), List(List(100), 1692860400, List(293.35, 77, 1017, 293.27, 294.29, 291.35), null, List(List(overcast clouds, 04n, 804, Clouds)), List(130, null, 1.54)), List(List(100), 1692864000, List(293.37, 77, 1017, 293.29, 294.65, 291.15), null, List(List(overcast clouds, 04n, 804, Clouds)), List(146, 5.66, 2.15)), List(List(100), 1692867600, List(293.33, 78, 1015, 293.23, 294.29, 291.03), null, List(List(overcast clouds, 04n, 804, Clouds)), List(149, 5.66, 2.04)), List(List(100), 1692871200, List(293.29, 79, 1015, 293.17, 294.35, 291.03), null, List(List(overcast clouds, 04n, 804, Clouds)), List(160, 6.62, 2.35)), List(List(100), 1692874800, List(293.38, 80, 1016, 293.23, 294.29, 291.29), null, List(List(overcast clouds, 04d, 804, Clouds)), List(158, 6.55, 2.53)), List(List(100), 1692878400, List(293.58, 81, 1017, 293.39, 294.54, 291.48), null, List(List(overcast clouds, 04d, 804, Clouds)), List(156, 6.48, 2.41)), List(List(100), 1692882000, List(293.77, 81, 1016, 293.56, 294.8, 291.9), null, List(List(overcast clouds, 04d, 804, Clouds)), List(0, 4.02, 0.89)), List(List(100), 1692885600, List(294.31, 82, 1017, 294.03, 295.35, 292.42), null, List(List(overcast clouds, 04d, 804, Clouds)), List(232, 3.13, 0.89)), List(List(100), 1692889200, List(295.06, 74, 1016, 294.9, 296.51, 293.15), null, List(List(overcast clouds, 04d, 804, Clouds)), List(156, 4.47, 1.34)), List(List(100), 1692892800, List(295.44, 71, 1016, 295.31, 296.57, 293.88), null, List(List(overcast clouds, 04d, 804, Clouds)), List(0, 4.92, 1.34)), List(List(100), 1692896400, List(295.88, 70, 1016, 295.74, 297.13, 294.36), null, List(List(overcast clouds, 04d, 804, Clouds)), List(149, 2.68, 0.89)), List(List(100), 1692900000, List(296.3, 71, 1015, 296.1, 297.68, 294.7), null, List(List(overcast clouds, 04d, 804, Clouds)), List(170, null, 2.57)), List(List(100), 1692903600, List(296.02, 73, 1016, 295.79, 297.29, 294.15), List(0.34), List(List(light rain, 10d, 500, Rain)), List(140, null, 4.12)), List(List(100), 1692907200, List(295.06, 79, 1015, 294.78, 296.42, 292.66), null, List(List(overcast clouds, 04d, 804, Clouds)), List(150, null, 2.57)), List(List(100), 1692910800, List(294.98, 85, 1014, 294.56, 296.97, 291.8), null, List(List(overcast clouds, 04d, 804, Clouds)), List(175, 3.58, 0.45)), List(List(100), 1692914400, List(295.29, 88, 1015, 294.77, 296.97, 292.14), null, List(List(overcast clouds, 04d, 804, Clouds)), List(139, 10.94, 3.85)), List(List(100), 1692918000, List(295.33, 87, 1014, 294.83, 296.97, 292.14), null, List(List(overcast clouds, 04d, 804, Clouds)), List(233, 4.47, 0.45)), List(List(100), 1692921600, List(295.1, 88, 1015, 294.6, 296.36, 292.37), null, List(List(overcast clouds, 04n, 804, Clouds)), List(41, 4.02, 0.45)), List(List(100), 1692925200, List(294.76, 89, 1015, 294.27, 295.86, 292.14), null, List(List(overcast clouds, 04n, 804, Clouds)), List(147, 11.02, 3.74)), List(List(100), 1692928800, List(294.53, 88, 1014, 294.08, 295.61, 292.16), null, List(List(overcast clouds, 04n, 804, Clouds)), List(157, 3.58, 0.89)), List(List(100), 1692932400, List(294.66, 84, 1014, 294.3, 295.91, 292.16), null, List(List(overcast clouds, 04n, 804, Clouds)), List(111, 4.02, 1.79)), List(List(100), 1692936000, List(294.67, 85, 1013, 294.28, 295.96, 292.33), null, List(List(overcast clouds, 04n, 804, Clouds)), List(221, 3.13, 1.34)), List(List(98), 1692939600, List(294.85, 86, 1013, 294.42, 295.97, 292.33), null, List(List(overcast clouds, 04n, 804, Clouds)), List(3, 3.13, 0.45)), List(List(100), 1692943200, List(295.13, 88, 1013, 294.63, 296.21, 292.45), null, List(List(overcast clouds, 04n, 804, Clouds)), List(0, 2.24, 0.45)), List(List(100), 1692946800, List(295.42, 89, 1013, 294.87, 296.21, 292.69), null, List(List(overcast clouds, 04n, 804, Clouds)), List(150, null, 1.54)), List(List(74), 1692950400, List(295.65, 89, 1012, 295.08, 296.21, 293.1), null, List(List(broken clouds, 04n, 803, Clouds)), List(217, 2.68, 0.89)), List(List(82), 1692954000, List(295.93, 88, 1011, 295.36, 296.21, 293.48), null, List(List(broken clouds, 04n, 803, Clouds)), List(135, 4.02, 2.24)), List(List(75), 1692957600, List(295.84, 89, 1011, 295.25, 296.29, 293.92), null, List(List(broken clouds, 04n, 803, Clouds)), List(0, null, 2.06)), List(List(89), 1692961200, List(295.81, 91, 1012, 295.18, 296.08, 293.58), null, List(List(overcast clouds, 04d, 804, Clouds)), List(213, 8.52, 2.26)), List(List(93), 1692964800, List(295.98, 91, 1011, 295.33, 296.46, 293.87), List(0.42), List(List(light rain, 10d, 500, Rain)), List(174, 3.58, 0.89)), List(List(100), 1692968400, List(296.21, 93, 1010, 295.49, 296.41, 294.32), List(0.37), List(List(light rain, 10d, 500, Rain)), List(170, null, 2.57)), List(List(100), 1692972000, List(296.97, 91, 1010, 296.23, 297.62, 294.79), null, List(List(overcast clouds, 04d, 804, Clouds)), List(157, 3.13, 0.89)), List(List(75), 1692975600, List(297.83, 87, 1012, 297.11, 298.97, 295.15), null, List(List(broken clouds, 04d, 803, Clouds)), List(0, null, 2.06)), List(List(100), 1692979200, List(299.05, 81, 1010, 298.36, 300.8, 296.36), null, List(List(overcast clouds, 04d, 804, Clouds)), List(210, null, 3.6)), List(List(75), 1692982800, List(299.59, 78, 1009, 299.59, 302.21, 296.81), null, List(List(broken clouds, 04d, 803, Clouds)), List(230, null, 4.12)), List(List(75), 1692986400, List(303.68, 70, 1010, 301.08, 303.74, 298.34), null, List(List(broken clouds, 04d, 803, Clouds)), List(210, null, 3.09)), List(List(75), 1692990000, List(305.13, 67, 1009, 302.05, 303.83, 299.59), null, List(List(broken clouds, 04d, 803, Clouds)), List(250, null, 3.6)), List(List(63), 1692993600, List(306.23, 67, 1009, 302.58, 304.29, 300.92), null, List(List(broken clouds, 04d, 803, Clouds)), List(292, 4.02, 1.34)), List(List(55), 1692997200, List(306.94, 68, 1009, 302.81, 304.48, 300.66), null, List(List(broken clouds, 04d, 803, Clouds)), List(219, 5.36, 1.79)), List(List(51), 1693000800, List(305.98, 68, 1009, 302.37, 304.1, 300.25), null, List(List(broken clouds, 04d, 803, Clouds)), List(29, 2.24, 0.89)), List(List(42), 1693004400, List(304.77, 72, 1008, 301.48, 303.33, 299.13), null, List(List(scattered clouds, 03d, 802, Clouds)), List(192, 4.02, 1.34)), List(List(79), 1693008000, List(299.38, 82, 1010, 299.38, 300.94, 297.46), null, List(List(broken clouds, 04n, 803, Clouds)), List(87, 0.97, 0.64)), List(List(35), 1693011600, List(298.81, 86, 1010, 298.02, 299.6, 295.8), null, List(List(scattered clouds, 03n, 802, Clouds)), List(130, 2.26, 1.56)), List(List(18), 1693015200, List(297.93, 89, 1010, 297.15, 298.74, 295.15), null, List(List(few clouds, 02n, 801, Clouds)), List(154, 4.41, 1.98)), List(List(13), 1693018800, List(297.41, 91, 1010, 296.63, 298.18, 294.62), null, List(List(few clouds, 02n, 801, Clouds)), List(174, 4.63, 1.83)), List(List(18), 1693022400, List(297.1, 93, 1010, 296.3, 297.86, 294.36), null, List(List(few clouds, 02n, 801, Clouds)), List(183, 4.25, 1.61)), List(List(20), 1693026000, List(296.93, 93, 1010, 296.15, 297.68, 294.04), null, List(List(few clouds, 02n, 801, Clouds)), List(200, 2.61, 1.01)), List(List(75), 1693029600, List(296.72, 94, 1010, 295.93, 297.31, 294.04), null, List(List(broken clouds, 04n, 803, Clouds)), List(0, null, 0.0)), List(List(40), 1693033200, List(296.44, 91, 1009, 295.75, 297.31, 293.61), null, List(List(scattered clouds, 03n, 802, Clouds)), List(160, null, 2.06)), List(List(33), 1693036800, List(296.2, 92, 1008, 295.51, 297.01, 293.58), null, List(List(scattered clouds, 03n, 802, Clouds)), List(340, 1.17, 0.57)), List(List(40), 1693040400, List(295.83, 93, 1009, 295.15, 296.38, 293.25), null, List(List(scattered clouds, 03n, 802, Clouds)), List(0, null, 0.0)), List(List(49), 1693044000, List(295.45, 94, 1009, 294.78, 296.21, 292.92), null, List(List(scattered clouds, 03n, 802, Clouds)), List(346, 2.91, 1.61)), List(List(43), 1693047600, List(295.73, 94, 1008, 295.03, 296.46, 293.12), null, List(List(scattered clouds, 03d, 802, Clouds)), List(349, 4.54, 1.79)), List(List(35), 1693051200, List(296.87, 94, 1009, 296.07, 297.57, 294.03), null, List(List(scattered clouds, 03d, 802, Clouds)), List(113, 2.24, 0.89)), List(List(20), 1693054800, List(298.63, 86, 1010, 297.86, 299.38, 295.37), null, List(List(few clouds, 02d, 801, Clouds)), List(30, null, 2.57)), List(List(20), 1693058400, List(299.38, 80, 1010, 299.38, 300.95, 297.1), null, List(List(few clouds, 02d, 801, Clouds)), List(30, null, 5.14)), List(List(33), 1693062000, List(303.79, 73, 1010, 300.94, 302.62, 299.06), null, List(List(scattered clouds, 03d, 802, Clouds)), List(47, 5.36, 1.34)), List(List(39), 1693065600, List(304.79, 66, 1009, 301.96, 303.73, 300.17), null, List(List(scattered clouds, 03d, 802, Clouds)), List(86, 6.26, 1.34)), List(List(43), 1693069200, List(305.55, 62, 1010, 302.72, 304.31, 300.37), null, List(List(scattered clouds, 03d, 802, Clouds)), List(88, 4.47, 1.34)), List(List(75), 1693072800, List(305.2, 61, 1009, 302.63, 304.45, 300.15), null, List(List(broken clouds, 04d, 803, Clouds)), List(330, 8.23, 4.12)), List(List(75), 1693076400, List(305.38, 60, 1009, 302.83, 304.84, 300.47), null, List(List(broken clouds, 04d, 803, Clouds)), List(10, null, 5.66)), List(List(88), 1693080000, List(305.78, 61, 1008, 302.94, 304.84, 300.8), null, List(List(overcast clouds, 04d, 804, Clouds)), List(0, 4.47, 0.89)), List(List(68), 1693083600, List(305.61, 62, 1008, 302.75, 304.78, 300.75), null, List(List(broken clouds, 04d, 803, Clouds)), List(277, 4.47, 1.34)), List(List(53), 1693087200, List(304.6, 60, 1009, 302.39, 303.86, 300.37), null, List(List(broken clouds, 04d, 803, Clouds)), List(352, 5.36, 2.24)), List(List(44), 1693090800, List(303.28, 63, 1008, 301.36, 302.68, 299.2), null, List(List(scattered clouds, 03d, 802, Clouds)), List(288, 4.47, 1.79)), List(List(55), 1693094400, List(299.59, 64, 1009, 299.59, 301.46, 297.06), null, List(List(broken clouds, 04n, 803, Clouds)), List(344, 4.02, 0.89)), List(List(24), 1693098000, List(298.38, 71, 1011, 297.99, 300.21, 294.72), null, List(List(few clouds, 02n, 801, Clouds)), List(189, 4.02, 0.45)), List(List(54), 1693101600, List(297.04, 76, 1011, 296.65, 299.21, 293.28), null, List(List(broken clouds, 04n, 803, Clouds)), List(5, 1.85, 1.22)), List(List(43), 1693105200, List(296.07, 81, 1011, 295.65, 298.08, 292.62), null, List(List(scattered clouds, 03n, 802, Clouds)), List(11, 6.74, 2.4)), List(List(35), 1693108800, List(295.27, 85, 1011, 294.83, 297.04, 292.42), null, List(List(scattered clouds, 03n, 802, Clouds)), List(25, 8.01, 2.74)), List(List(47), 1693112400, List(294.61, 88, 1011, 294.16, 296.49, 291.62), null, List(List(scattered clouds, 03n, 802, Clouds)), List(12, 7.01, 2.3)), List(List(44), 1693116000, List(294.02, 89, 1011, 293.6, 295.94, 291.31), null, List(List(scattered clouds, 03n, 802, Clouds)), List(10, 7.69, 2.72)), List(List(0), 1693119600, List(293.62, 89, 1012, 293.23, 295.46, 290.5), null, List(List(clear sky, 01n, 800, Clear)), List(340, null, 2.06)), List(List(97), 1693123200, List(293.23, 90, 1011, 292.85, 294.97, 290.25), null, List(List(overcast clouds, 04n, 804, Clouds)), List(4, 5.79, 1.98)), List(List(90), 1693126800, List(292.96, 90, 1012, 292.61, 294.9, 289.7), null, List(List(overcast clouds, 04n, 804, Clouds)), List(2, 5.48, 2.06)), List(List(69), 1693130400, List(292.4, 91, 1012, 292.08, 294.05, 289.68), null, List(List(broken clouds, 04n, 803, Clouds)), List(0, 5.74, 2.17)), List(List(57), 1693134000, List(292.36, 91, 1013, 292.04, 294.1, 289.44), null, List(List(broken clouds, 04d, 803, Clouds)), List(5, 6.45, 2.36)), List(List(42), 1693137600, List(294.15, 85, 1013, 293.81, 296.21, 291.36), null, List(List(scattered clouds, 03d, 802, Clouds)), List(14, 5.01, 2.72)), List(List(6), 1693141200, List(296.71, 75, 1012, 296.37, 298.12, 293.87), null, List(List(clear sky, 01d, 800, Clear)), List(49, 3.58, 0.45)), List(List(7), 1693144800, List(298.4, 69, 1012, 298.05, 299.94, 295.59), null, List(List(clear sky, 01d, 800, Clear)), List(66, 4.92, 1.34)), List(List(7), 1693148400, List(299.65, 62, 1013, 299.65, 301.51, 297.47), null, List(List(clear sky, 01d, 800, Clear)), List(81, 4.47, 1.79)), List(List(7), 1693152000, List(301.95, 58, 1012, 300.83, 302.71, 298.72), null, List(List(clear sky, 01d, 800, Clear)), List(96, 3.58, 0.89)), List(List(6), 1693155600, List(303.01, 54, 1012, 301.93, 303.76, 299.83), null, List(List(clear sky, 01d, 800, Clear)), List(46, 4.47, 1.34)), List(List(6), 1693159200, List(303.54, 51, 1012, 302.59, 304.32, 300.37), null, List(List(clear sky, 01d, 800, Clear)), List(89, 4.47, 0.89)), List(List(75), 1693162800, List(303.51, 51, 1012, 302.57, 304.41, 300.25), null, List(List(broken clouds, 04d, 803, Clouds)), List(70, null, 3.6)), List(List(96), 1693166400, List(303.66, 53, 1011, 302.48, 304.35, 300.39), null, List(List(overcast clouds, 04d, 804, Clouds)), List(88, 4.47, 2.24)), List(List(97), 1693170000, List(303.13, 53, 1011, 302.11, 303.89, 300.27), null, List(List(overcast clouds, 04d, 804, Clouds)), List(84, 2.68, 0.89)), List(List(98), 1693173600, List(302.71, 57, 1011, 301.46, 303.07, 299.71), null, List(List(overcast clouds, 04d, 804, Clouds)), List(74, 4.02, 0.89)), List(List(98), 1693177200, List(301.4, 61, 1011, 300.22, 301.57, 298.17), null, List(List(overcast clouds, 04d, 804, Clouds)), List(70, 3.13, 0.89)), List(List(99), 1693180800, List(298.99, 65, 1012, 298.68, 300.09, 296.29), null, List(List(overcast clouds, 04n, 804, Clouds)), List(223, 4.47, 1.34)), List(List(100), 1693184400, List(297.91, 66, 1013, 297.68, 299.26, 294.68), null, List(List(overcast clouds, 04n, 804, Clouds)), List(128, 2.68, 0.45)), List(List(100), 1693188000, List(297.34, 68, 1013, 297.11, 298.71, 294.55), null, List(List(overcast clouds, 04n, 804, Clouds)), List(133, 3.43, 1.82)), List(List(100), 1693191600, List(296.34, 74, 1014, 296.06, 297.68, 293.7), null, List(List(overcast clouds, 04n, 804, Clouds)), List(124, 2.51, 1.43)), List(List(100), 1693195200, List(295.79, 75, 1014, 295.54, 297.6, 292.6), null, List(List(overcast clouds, 04n, 804, Clouds)), List(109, 3.12, 1.8)), List(List(100), 1693198800, List(294.96, 80, 1014, 294.66, 297.01, 292.12), null, List(List(overcast clouds, 04n, 804, Clouds)), List(118, 3.02, 1.48)), List(List(75), 1693202400, List(294.68, 81, 1015, 294.39, 296.45, 292.01), null, List(List(broken clouds, 04n, 803, Clouds)), List(0, null, 0.0)), List(List(100), 1693206000, List(294.6, 81, 1014, 294.31, 296.27, 291.29), null, List(List(overcast clouds, 04n, 804, Clouds)), List(80, null, 2.57)), List(List(99), 1693209600, List(294.45, 85, 1014, 294.08, 295.97, 291.29), null, List(List(overcast clouds, 04n, 804, Clouds)), List(101, 1.79, 0.45)), List(List(97), 1693213200, List(294.25, 88, 1014, 293.83, 295.21, 291.29), null, List(List(overcast clouds, 04n, 804, Clouds)), List(134, 3.58, 0.89)), List(List(75), 1693216800, List(294.07, 91, 1014, 293.59, 295.21, 291.16), null, List(List(broken clouds, 04n, 803, Clouds)), List(60, null, 3.6)), List(List(75), 1693220400, List(294.05, 93, 1015, 293.53, 294.91, 291.35), null, List(List(broken clouds, 04d, 803, Clouds)), List(80, null, 3.09)), List(List(75), 1693224000, List(294.98, 91, 1015, 294.42, 295.4, 292.59), null, List(List(broken clouds, 04d, 803, Clouds)), List(80, null, 4.12)), List(List(100), 1693227600, List(296.08, 86, 1016, 295.54, 296.57, 294.09), null, List(List(overcast clouds, 04d, 804, Clouds)), List(100, null, 4.63)), List(List(100), 1693231200, List(297.13, 82, 1015, 296.59, 297.65, 295.2), null, List(List(overcast clouds, 04d, 804, Clouds)), List(90, null, 5.14)), List(List(100), 1693234800, List(298.33, 76, 1015, 297.82, 299.26, 296.03), null, List(List(overcast clouds, 04d, 804, Clouds)), List(158, 5.81, 1.34)), List(List(40), 1693238400, List(299.11, 70, 1015, 299.11, 300.4, 297.2), null, List(List(scattered clouds, 03d, 802, Clouds)), List(80, null, 6.69)), List(List(100), 1693242000, List(299.76, 67, 1015, 299.76, 301.14, 297.91), null, List(List(overcast clouds, 04d, 804, Clouds)), List(70, 4.47, 1.34)), List(List(75), 1693245600, List(299.8, 66, 1015, 299.8, 301.21, 297.91), null, List(List(broken clouds, 04d, 803, Clouds)), List(100, null, 5.14)), List(List(100), 1693249200, List(299.44, 67, 1015, 299.44, 300.65, 297.67), null, List(List(overcast clouds, 04d, 804, Clouds)), List(130, null, 5.14)), List(List(100), 1693252800, List(299.34, 71, 1014, 298.86, 300.4, 297.01), null, List(List(overcast clouds, 04d, 804, Clouds)), List(140, 3.58, 1.34)), List(List(40), 1693256400, List(298.81, 72, 1015, 298.35, 299.91, 296.81), null, List(List(scattered clouds, 03d, 802, Clouds)), List(140, null, 4.63)), List(List(100), 1693260000, List(298.33, 74, 1015, 297.87, 299.1, 296.41), null, List(List(overcast clouds, 04d, 804, Clouds)), List(145, 3.58, 0.89)), List(List(100), 1693263600, List(297.48, 76, 1014, 297.05, 298.23, 295.47), null, List(List(overcast clouds, 04d, 804, Clouds)), List(138, 2.24, 0.45)), List(List(100), 1693267200, List(296.54, 79, 1015, 296.12, 297.43, 294.34), null, List(List(overcast clouds, 04n, 804, Clouds)), List(71, 4.02, 0.89)), List(List(100), 1693270800, List(295.88, 83, 1015, 295.43, 296.54, 293.57), null, List(List(overcast clouds, 04n, 804, Clouds)), List(0, 4.47, 1.34)), List(List(100), 1693274400, List(295.36, 85, 1015, 294.91, 296.21, 293.01), null, List(List(overcast clouds, 04n, 804, Clouds)), List(123, 4.02, 1.34)), List(List(100), 1693278000, List(295.08, 86, 1015, 294.63, 295.96, 292.46), null, List(List(overcast clouds, 04n, 804, Clouds)), List(84, 3.13, 1.34)), List(List(100), 1693281600, List(294.8, 88, 1015, 294.33, 295.46, 292.14), null, List(List(overcast clouds, 04n, 804, Clouds)), List(98, 3.13, 0.89)), List(List(100), 1693285200, List(294.64, 88, 1015, 294.18, 295.4, 292.15), null, List(List(overcast clouds, 04n, 804, Clouds)), List(70, null, 3.6)), List(List(100), 1693288800, List(294.49, 88, 1015, 294.05, 295.4, 292.15), null, List(List(overcast clouds, 04n, 804, Clouds)), List(70, null, 3.6)), List(List(100), 1693292400, List(294.24, 89, 1014, 293.8, 295.25, 291.9), null, List(List(overcast clouds, 04n, 804, Clouds)), List(70, null, 3.6)), List(List(100), 1693296000, List(294.05, 90, 1014, 293.6, 295.09, 291.91), null, List(List(overcast clouds, 04n, 804, Clouds)), List(70, null, 2.57)), List(List(93), 1693299600, List(294.03, 91, 1013, 293.56, 294.69, 291.81), null, List(List(overcast clouds, 04n, 804, Clouds)), List(38, 3.58, 1.79)), List(List(100), 1693303200, List(294.08, 90, 1013, 293.63, 294.82, 292.27), null, List(List(overcast clouds, 04n, 804, Clouds)), List(30, null, 3.6)), List(List(100), 1693306800, List(294.13, 91, 1014, 293.65, 294.65, 292.2), null, List(List(overcast clouds, 04d, 804, Clouds)), List(60, null, 3.6)), List(List(100), 1693310400, List(294.67, 90, 1014, 294.16, 295.21, 292.82), null, List(List(overcast clouds, 04d, 804, Clouds)), List(40, null, 3.09)), List(List(100), 1693314000, List(295.33, 87, 1013, 294.83, 296.04, 293.41), null, List(List(overcast clouds, 04d, 804, Clouds)), List(0, 4.92, 2.68)), List(List(100), 1693317600, List(296.12, 86, 1014, 295.58, 297.07, 293.99), null, List(List(overcast clouds, 04d, 804, Clouds)), List(60, null, 3.6)), List(List(100), 1693321200, List(297.06, 84, 1013, 296.48, 297.65, 295.1), null, List(List(overcast clouds, 04d, 804, Clouds)), List(80, 3.58, 0.89)), List(List(100), 1693324800, List(297.97, 80, 1014, 297.4, 298.8, 296.22), null, List(List(overcast clouds, 04d, 804, Clouds)), List(80, null, 4.12)), List(List(100), 1693328400, List(298.76, 80, 1013, 298.12, 299.74, 296.61), null, List(List(overcast clouds, 04d, 804, Clouds)), List(121, 1.79, 0.45)), List(List(100), 1693332000, List(299.18, 77, 1013, 298.57, 300.13, 297.14), null, List(List(overcast clouds, 04d, 804, Clouds)), List(100, null, 2.06)), List(List(100), 1693335600, List(299.42, 77, 1012, 298.79, 300.68, 297.66), null, List(List(overcast clouds, 04d, 804, Clouds)), List(40, null, 3.09)), List(List(100), 1693339200, List(299.44, 76, 1011, 298.83, 300.75, 297.37), null, List(List(overcast clouds, 04d, 804, Clouds)), List(30, null, 2.06)), List(List(100), 1693342800, List(299.52, 77, 1010, 298.88, 300.6, 297.66), null, List(List(overcast clouds, 04d, 804, Clouds)), List(63, 2.68, 0.89)), List(List(100), 1693346400, List(299.21, 79, 1009, 298.55, 299.97, 297.25), null, List(List(overcast clouds, 04d, 804, Clouds)), List(112, 3.96, 2.3)), List(List(100), 1693350000, List(298.69, 82, 1009, 298.01, 299.29, 296.56), null, List(List(overcast clouds, 04d, 804, Clouds)), List(101, 1.79, 0.45)), List(List(99), 1693353600, List(298.22, 84, 1009, 297.53, 298.74, 296.03), null, List(List(overcast clouds, 04n, 804, Clouds)), List(123, 1.79, 0.45)))</td><td>Count: 169</td></tr></tbody></table></div>"
      ]
     },
     "metadata": {
      "application/vnd.databricks.v1+output": {
       "addedWidgets": {},
       "aggData": [],
       "aggError": "",
       "aggOverflow": false,
       "aggSchema": [],
       "aggSeriesLimitReached": false,
       "aggType": "",
       "arguments": {},
       "columnCustomDisplayInfos": {},
       "data": [
        [
         0.073458075,
         1,
         169,
         "200",
         [
          [
           [
            99
           ],
           1692748800,
           [
            295.56,
            50,
            1019,
            295.92,
            297.98,
            293.15
           ],
           null,
           [
            [
             "overcast clouds",
             "04n",
             804,
             "Clouds"
            ]
           ],
           [
            22,
            7.36,
            2.91
           ]
          ],
          [
           [
            100
           ],
           1692752400,
           [
            293.06,
            61,
            1019,
            293.39,
            296.21,
            290.15
           ],
           null,
           [
            [
             "overcast clouds",
             "04n",
             804,
             "Clouds"
            ]
           ],
           [
            30,
            7.73,
            2.68
           ]
          ],
          [
           [
            76
           ],
           1692756000,
           [
            291.99,
            63,
            1019,
            292.37,
            295.21,
            288.62
           ],
           null,
           [
            [
             "broken clouds",
             "04n",
             803,
             "Clouds"
            ]
           ],
           [
            34,
            7.51,
            2.23
           ]
          ],
          [
           [
            64
           ],
           1692759600,
           [
            291.03,
            67,
            1019,
            291.4,
            294.27,
            287.62
           ],
           null,
           [
            [
             "broken clouds",
             "04n",
             803,
             "Clouds"
            ]
           ],
           [
            33,
            4.76,
            1.36
           ]
          ],
          [
           [
            51
           ],
           1692763200,
           [
            290.24,
            70,
            1019,
            290.61,
            293.49,
            286.62
           ],
           null,
           [
            [
             "broken clouds",
             "04n",
             803,
             "Clouds"
            ]
           ],
           [
            13,
            3.03,
            1.15
           ]
          ],
          [
           [
            42
           ],
           1692766800,
           [
            289.72,
            72,
            1019,
            290.09,
            292.6,
            286.62
           ],
           null,
           [
            [
             "scattered clouds",
             "03n",
             802,
             "Clouds"
            ]
           ],
           [
            2,
            2.88,
            1.24
           ]
          ],
          [
           [
            39
           ],
           1692770400,
           [
            289.82,
            74,
            1020,
            290.13,
            292.43,
            286.62
           ],
           null,
           [
            [
             "scattered clouds",
             "03n",
             802,
             "Clouds"
            ]
           ],
           [
            346,
            2.89,
            1.57
           ]
          ],
          [
           [
            0
           ],
           1692774000,
           [
            289.86,
            71,
            1020,
            290.24,
            292.09,
            286.66
           ],
           null,
           [
            [
             "clear sky",
             "01n",
             800,
             "Clear"
            ]
           ],
           [
            330,
            null,
            3.09
           ]
          ],
          [
           [
            3
           ],
           1692777600,
           [
            289.35,
            76,
            1019,
            289.66,
            291.87,
            286.15
           ],
           null,
           [
            [
             "clear sky",
             "01n",
             800,
             "Clear"
            ]
           ],
           [
            331,
            3.58,
            0.89
           ]
          ],
          [
           [
            2
           ],
           1692781200,
           [
            288.94,
            78,
            1019,
            289.24,
            291.27,
            286.16
           ],
           null,
           [
            [
             "clear sky",
             "01n",
             800,
             "Clear"
            ]
           ],
           [
            234,
            3.58,
            0.45
           ]
          ],
          [
           [
            5
           ],
           1692784800,
           [
            288.74,
            81,
            1020,
            288.99,
            291.27,
            285.6
           ],
           null,
           [
            [
             "clear sky",
             "01n",
             800,
             "Clear"
            ]
           ],
           [
            220,
            0.89,
            0.45
           ]
          ],
          [
           [
            8
           ],
           1692788400,
           [
            288.88,
            81,
            1021,
            289.11,
            291.51,
            285.75
           ],
           null,
           [
            [
             "clear sky",
             "01d",
             800,
             "Clear"
            ]
           ],
           [
            14,
            4.31,
            1.38
           ]
          ],
          [
           [
            7
           ],
           1692792000,
           [
            291.31,
            72,
            1020,
            291.54,
            293.27,
            288.53
           ],
           null,
           [
            [
             "clear sky",
             "01d",
             800,
             "Clear"
            ]
           ],
           [
            0,
            1.79,
            0.45
           ]
          ],
          [
           [
            10
           ],
           1692795600,
           [
            293.12,
            64,
            1020,
            293.37,
            295.25,
            290.95
           ],
           null,
           [
            [
             "clear sky",
             "01d",
             800,
             "Clear"
            ]
           ],
           [
            36,
            3.94,
            2.49
           ]
          ],
          [
           [
            44
           ],
           1692799200,
           [
            294.02,
            62,
            1020,
            294.24,
            296.21,
            291.81
           ],
           null,
           [
            [
             "scattered clouds",
             "03d",
             802,
             "Clouds"
            ]
           ],
           [
            71,
            3.58,
            0.45
           ]
          ],
          [
           [
            62
           ],
           1692802800,
           [
            295.05,
            57,
            1020,
            295.29,
            296.97,
            293.48
           ],
           null,
           [
            [
             "broken clouds",
             "04d",
             803,
             "Clouds"
            ]
           ],
           [
            36,
            3.2,
            2.59
           ]
          ],
          [
           [
            72
           ],
           1692806400,
           [
            296.92,
            49,
            1019,
            297.18,
            298.83,
            295.39
           ],
           null,
           [
            [
             "broken clouds",
             "04d",
             803,
             "Clouds"
            ]
           ],
           [
            67,
            2.68,
            0.45
           ]
          ],
          [
           [
            77
           ],
           1692810000,
           [
            297.8,
            49,
            1020,
            297.98,
            299.85,
            296.41
           ],
           null,
           [
            [
             "broken clouds",
             "04d",
             803,
             "Clouds"
            ]
           ],
           [
            21,
            2.26,
            1.58
           ]
          ],
          [
           [
            76
           ],
           1692813600,
           [
            298.83,
            43,
            1019,
            299.06,
            300.65,
            297.05
           ],
           null,
           [
            [
             "broken clouds",
             "04d",
             803,
             "Clouds"
            ]
           ],
           [
            96,
            4.47,
            1.79
           ]
          ],
          [
           [
            75
           ],
           1692817200,
           [
            299.56,
            43,
            1018,
            299.56,
            301.21,
            297.46
           ],
           null,
           [
            [
             "broken clouds",
             "04d",
             803,
             "Clouds"
            ]
           ],
           [
            140,
            null,
            2.06
           ]
          ],
          [
           [
            83
           ],
           1692820800,
           [
            299.13,
            45,
            1018,
            299.13,
            300.76,
            296.8
           ],
           null,
           [
            [
             "broken clouds",
             "04d",
             803,
             "Clouds"
            ]
           ],
           [
            0,
            2.68,
            0.45
           ]
          ],
          [
           [
            83
           ],
           1692824400,
           [
            298.45,
            47,
            1017,
            298.62,
            300.21,
            296.35
           ],
           null,
           [
            [
             "broken clouds",
             "04d",
             803,
             "Clouds"
            ]
           ],
           [
            6,
            1.61,
            1.27
           ]
          ],
          [
           [
            87
           ],
           1692828000,
           [
            297.9,
            50,
            1016,
            298.05,
            299.32,
            295.8
           ],
           null,
           [
            [
             "overcast clouds",
             "04d",
             804,
             "Clouds"
            ]
           ],
           [
            26,
            1.73,
            1.22
           ]
          ],
          [
           [
            90
           ],
           1692831600,
           [
            296.99,
            54,
            1016,
            297.13,
            298.71,
            294.69
           ],
           null,
           [
            [
             "overcast clouds",
             "04d",
             804,
             "Clouds"
            ]
           ],
           [
            67,
            2.76,
            1.65
           ]
          ],
          [
           [
            89
           ],
           1692835200,
           [
            295.72,
            62,
            1015,
            295.78,
            297.38,
            293.58
           ],
           null,
           [
            [
             "overcast clouds",
             "04n",
             804,
             "Clouds"
            ]
           ],
           [
            0,
            4.92,
            0.45
           ]
          ],
          [
           [
            100
           ],
           1692838800,
           [
            295.03,
            65,
            1017,
            295.08,
            296.51,
            292.92
           ],
           null,
           [
            [
             "overcast clouds",
             "04n",
             804,
             "Clouds"
            ]
           ],
           [
            132,
            6.26,
            1.79
           ]
          ],
          [
           [
            96
           ],
           1692842400,
           [
            294.48,
            65,
            1017,
            294.58,
            295.68,
            292.97
           ],
           null,
           [
            [
             "overcast clouds",
             "04n",
             804,
             "Clouds"
            ]
           ],
           [
            149,
            5.71,
            2.97
           ]
          ],
          [
           [
            98
           ],
           1692846000,
           [
            294.16,
            69,
            1017,
            294.2,
            295.35,
            292.59
           ],
           null,
           [
            [
             "overcast clouds",
             "04n",
             804,
             "Clouds"
            ]
           ],
           [
            155,
            4.8,
            2.33
           ]
          ],
          [
           [
            100
           ],
           1692849600,
           [
            293.81,
            70,
            1018,
            293.86,
            294.91,
            292.14
           ],
           null,
           [
            [
             "overcast clouds",
             "04n",
             804,
             "Clouds"
            ]
           ],
           [
            150,
            null,
            2.06
           ]
          ],
          [
           [
            99
           ],
           1692853200,
           [
            293.57,
            74,
            1017,
            293.54,
            294.54,
            291.91
           ],
           null,
           [
            [
             "overcast clouds",
             "04n",
             804,
             "Clouds"
            ]
           ],
           [
            146,
            5.46,
            1.88
           ]
          ],
          [
           [
            100
           ],
           1692856800,
           [
            293.46,
            75,
            1018,
            293.42,
            294.65,
            291.48
           ],
           null,
           [
            [
             "overcast clouds",
             "04n",
             804,
             "Clouds"
            ]
           ],
           [
            182,
            4.02,
            0.89
           ]
          ],
          [
           [
            100
           ],
           1692860400,
           [
            293.35,
            77,
            1017,
            293.27,
            294.29,
            291.35
           ],
           null,
           [
            [
             "overcast clouds",
             "04n",
             804,
             "Clouds"
            ]
           ],
           [
            130,
            null,
            1.54
           ]
          ],
          [
           [
            100
           ],
           1692864000,
           [
            293.37,
            77,
            1017,
            293.29,
            294.65,
            291.15
           ],
           null,
           [
            [
             "overcast clouds",
             "04n",
             804,
             "Clouds"
            ]
           ],
           [
            146,
            5.66,
            2.15
           ]
          ],
          [
           [
            100
           ],
           1692867600,
           [
            293.33,
            78,
            1015,
            293.23,
            294.29,
            291.03
           ],
           null,
           [
            [
             "overcast clouds",
             "04n",
             804,
             "Clouds"
            ]
           ],
           [
            149,
            5.66,
            2.04
           ]
          ],
          [
           [
            100
           ],
           1692871200,
           [
            293.29,
            79,
            1015,
            293.17,
            294.35,
            291.03
           ],
           null,
           [
            [
             "overcast clouds",
             "04n",
             804,
             "Clouds"
            ]
           ],
           [
            160,
            6.62,
            2.35
           ]
          ],
          [
           [
            100
           ],
           1692874800,
           [
            293.38,
            80,
            1016,
            293.23,
            294.29,
            291.29
           ],
           null,
           [
            [
             "overcast clouds",
             "04d",
             804,
             "Clouds"
            ]
           ],
           [
            158,
            6.55,
            2.53
           ]
          ],
          [
           [
            100
           ],
           1692878400,
           [
            293.58,
            81,
            1017,
            293.39,
            294.54,
            291.48
           ],
           null,
           [
            [
             "overcast clouds",
             "04d",
             804,
             "Clouds"
            ]
           ],
           [
            156,
            6.48,
            2.41
           ]
          ],
          [
           [
            100
           ],
           1692882000,
           [
            293.77,
            81,
            1016,
            293.56,
            294.8,
            291.9
           ],
           null,
           [
            [
             "overcast clouds",
             "04d",
             804,
             "Clouds"
            ]
           ],
           [
            0,
            4.02,
            0.89
           ]
          ],
          [
           [
            100
           ],
           1692885600,
           [
            294.31,
            82,
            1017,
            294.03,
            295.35,
            292.42
           ],
           null,
           [
            [
             "overcast clouds",
             "04d",
             804,
             "Clouds"
            ]
           ],
           [
            232,
            3.13,
            0.89
           ]
          ],
          [
           [
            100
           ],
           1692889200,
           [
            295.06,
            74,
            1016,
            294.9,
            296.51,
            293.15
           ],
           null,
           [
            [
             "overcast clouds",
             "04d",
             804,
             "Clouds"
            ]
           ],
           [
            156,
            4.47,
            1.34
           ]
          ],
          [
           [
            100
           ],
           1692892800,
           [
            295.44,
            71,
            1016,
            295.31,
            296.57,
            293.88
           ],
           null,
           [
            [
             "overcast clouds",
             "04d",
             804,
             "Clouds"
            ]
           ],
           [
            0,
            4.92,
            1.34
           ]
          ],
          [
           [
            100
           ],
           1692896400,
           [
            295.88,
            70,
            1016,
            295.74,
            297.13,
            294.36
           ],
           null,
           [
            [
             "overcast clouds",
             "04d",
             804,
             "Clouds"
            ]
           ],
           [
            149,
            2.68,
            0.89
           ]
          ],
          [
           [
            100
           ],
           1692900000,
           [
            296.3,
            71,
            1015,
            296.1,
            297.68,
            294.7
           ],
           null,
           [
            [
             "overcast clouds",
             "04d",
             804,
             "Clouds"
            ]
           ],
           [
            170,
            null,
            2.57
           ]
          ],
          [
           [
            100
           ],
           1692903600,
           [
            296.02,
            73,
            1016,
            295.79,
            297.29,
            294.15
           ],
           [
            0.34
           ],
           [
            [
             "light rain",
             "10d",
             500,
             "Rain"
            ]
           ],
           [
            140,
            null,
            4.12
           ]
          ],
          [
           [
            100
           ],
           1692907200,
           [
            295.06,
            79,
            1015,
            294.78,
            296.42,
            292.66
           ],
           null,
           [
            [
             "overcast clouds",
             "04d",
             804,
             "Clouds"
            ]
           ],
           [
            150,
            null,
            2.57
           ]
          ],
          [
           [
            100
           ],
           1692910800,
           [
            294.98,
            85,
            1014,
            294.56,
            296.97,
            291.8
           ],
           null,
           [
            [
             "overcast clouds",
             "04d",
             804,
             "Clouds"
            ]
           ],
           [
            175,
            3.58,
            0.45
           ]
          ],
          [
           [
            100
           ],
           1692914400,
           [
            295.29,
            88,
            1015,
            294.77,
            296.97,
            292.14
           ],
           null,
           [
            [
             "overcast clouds",
             "04d",
             804,
             "Clouds"
            ]
           ],
           [
            139,
            10.94,
            3.85
           ]
          ],
          [
           [
            100
           ],
           1692918000,
           [
            295.33,
            87,
            1014,
            294.83,
            296.97,
            292.14
           ],
           null,
           [
            [
             "overcast clouds",
             "04d",
             804,
             "Clouds"
            ]
           ],
           [
            233,
            4.47,
            0.45
           ]
          ],
          [
           [
            100
           ],
           1692921600,
           [
            295.1,
            88,
            1015,
            294.6,
            296.36,
            292.37
           ],
           null,
           [
            [
             "overcast clouds",
             "04n",
             804,
             "Clouds"
            ]
           ],
           [
            41,
            4.02,
            0.45
           ]
          ],
          [
           [
            100
           ],
           1692925200,
           [
            294.76,
            89,
            1015,
            294.27,
            295.86,
            292.14
           ],
           null,
           [
            [
             "overcast clouds",
             "04n",
             804,
             "Clouds"
            ]
           ],
           [
            147,
            11.02,
            3.74
           ]
          ],
          [
           [
            100
           ],
           1692928800,
           [
            294.53,
            88,
            1014,
            294.08,
            295.61,
            292.16
           ],
           null,
           [
            [
             "overcast clouds",
             "04n",
             804,
             "Clouds"
            ]
           ],
           [
            157,
            3.58,
            0.89
           ]
          ],
          [
           [
            100
           ],
           1692932400,
           [
            294.66,
            84,
            1014,
            294.3,
            295.91,
            292.16
           ],
           null,
           [
            [
             "overcast clouds",
             "04n",
             804,
             "Clouds"
            ]
           ],
           [
            111,
            4.02,
            1.79
           ]
          ],
          [
           [
            100
           ],
           1692936000,
           [
            294.67,
            85,
            1013,
            294.28,
            295.96,
            292.33
           ],
           null,
           [
            [
             "overcast clouds",
             "04n",
             804,
             "Clouds"
            ]
           ],
           [
            221,
            3.13,
            1.34
           ]
          ],
          [
           [
            98
           ],
           1692939600,
           [
            294.85,
            86,
            1013,
            294.42,
            295.97,
            292.33
           ],
           null,
           [
            [
             "overcast clouds",
             "04n",
             804,
             "Clouds"
            ]
           ],
           [
            3,
            3.13,
            0.45
           ]
          ],
          [
           [
            100
           ],
           1692943200,
           [
            295.13,
            88,
            1013,
            294.63,
            296.21,
            292.45
           ],
           null,
           [
            [
             "overcast clouds",
             "04n",
             804,
             "Clouds"
            ]
           ],
           [
            0,
            2.24,
            0.45
           ]
          ],
          [
           [
            100
           ],
           1692946800,
           [
            295.42,
            89,
            1013,
            294.87,
            296.21,
            292.69
           ],
           null,
           [
            [
             "overcast clouds",
             "04n",
             804,
             "Clouds"
            ]
           ],
           [
            150,
            null,
            1.54
           ]
          ],
          [
           [
            74
           ],
           1692950400,
           [
            295.65,
            89,
            1012,
            295.08,
            296.21,
            293.1
           ],
           null,
           [
            [
             "broken clouds",
             "04n",
             803,
             "Clouds"
            ]
           ],
           [
            217,
            2.68,
            0.89
           ]
          ],
          [
           [
            82
           ],
           1692954000,
           [
            295.93,
            88,
            1011,
            295.36,
            296.21,
            293.48
           ],
           null,
           [
            [
             "broken clouds",
             "04n",
             803,
             "Clouds"
            ]
           ],
           [
            135,
            4.02,
            2.24
           ]
          ],
          [
           [
            75
           ],
           1692957600,
           [
            295.84,
            89,
            1011,
            295.25,
            296.29,
            293.92
           ],
           null,
           [
            [
             "broken clouds",
             "04n",
             803,
             "Clouds"
            ]
           ],
           [
            0,
            null,
            2.06
           ]
          ],
          [
           [
            89
           ],
           1692961200,
           [
            295.81,
            91,
            1012,
            295.18,
            296.08,
            293.58
           ],
           null,
           [
            [
             "overcast clouds",
             "04d",
             804,
             "Clouds"
            ]
           ],
           [
            213,
            8.52,
            2.26
           ]
          ],
          [
           [
            93
           ],
           1692964800,
           [
            295.98,
            91,
            1011,
            295.33,
            296.46,
            293.87
           ],
           [
            0.42
           ],
           [
            [
             "light rain",
             "10d",
             500,
             "Rain"
            ]
           ],
           [
            174,
            3.58,
            0.89
           ]
          ],
          [
           [
            100
           ],
           1692968400,
           [
            296.21,
            93,
            1010,
            295.49,
            296.41,
            294.32
           ],
           [
            0.37
           ],
           [
            [
             "light rain",
             "10d",
             500,
             "Rain"
            ]
           ],
           [
            170,
            null,
            2.57
           ]
          ],
          [
           [
            100
           ],
           1692972000,
           [
            296.97,
            91,
            1010,
            296.23,
            297.62,
            294.79
           ],
           null,
           [
            [
             "overcast clouds",
             "04d",
             804,
             "Clouds"
            ]
           ],
           [
            157,
            3.13,
            0.89
           ]
          ],
          [
           [
            75
           ],
           1692975600,
           [
            297.83,
            87,
            1012,
            297.11,
            298.97,
            295.15
           ],
           null,
           [
            [
             "broken clouds",
             "04d",
             803,
             "Clouds"
            ]
           ],
           [
            0,
            null,
            2.06
           ]
          ],
          [
           [
            100
           ],
           1692979200,
           [
            299.05,
            81,
            1010,
            298.36,
            300.8,
            296.36
           ],
           null,
           [
            [
             "overcast clouds",
             "04d",
             804,
             "Clouds"
            ]
           ],
           [
            210,
            null,
            3.6
           ]
          ],
          [
           [
            75
           ],
           1692982800,
           [
            299.59,
            78,
            1009,
            299.59,
            302.21,
            296.81
           ],
           null,
           [
            [
             "broken clouds",
             "04d",
             803,
             "Clouds"
            ]
           ],
           [
            230,
            null,
            4.12
           ]
          ],
          [
           [
            75
           ],
           1692986400,
           [
            303.68,
            70,
            1010,
            301.08,
            303.74,
            298.34
           ],
           null,
           [
            [
             "broken clouds",
             "04d",
             803,
             "Clouds"
            ]
           ],
           [
            210,
            null,
            3.09
           ]
          ],
          [
           [
            75
           ],
           1692990000,
           [
            305.13,
            67,
            1009,
            302.05,
            303.83,
            299.59
           ],
           null,
           [
            [
             "broken clouds",
             "04d",
             803,
             "Clouds"
            ]
           ],
           [
            250,
            null,
            3.6
           ]
          ],
          [
           [
            63
           ],
           1692993600,
           [
            306.23,
            67,
            1009,
            302.58,
            304.29,
            300.92
           ],
           null,
           [
            [
             "broken clouds",
             "04d",
             803,
             "Clouds"
            ]
           ],
           [
            292,
            4.02,
            1.34
           ]
          ],
          [
           [
            55
           ],
           1692997200,
           [
            306.94,
            68,
            1009,
            302.81,
            304.48,
            300.66
           ],
           null,
           [
            [
             "broken clouds",
             "04d",
             803,
             "Clouds"
            ]
           ],
           [
            219,
            5.36,
            1.79
           ]
          ],
          [
           [
            51
           ],
           1693000800,
           [
            305.98,
            68,
            1009,
            302.37,
            304.1,
            300.25
           ],
           null,
           [
            [
             "broken clouds",
             "04d",
             803,
             "Clouds"
            ]
           ],
           [
            29,
            2.24,
            0.89
           ]
          ],
          [
           [
            42
           ],
           1693004400,
           [
            304.77,
            72,
            1008,
            301.48,
            303.33,
            299.13
           ],
           null,
           [
            [
             "scattered clouds",
             "03d",
             802,
             "Clouds"
            ]
           ],
           [
            192,
            4.02,
            1.34
           ]
          ],
          [
           [
            79
           ],
           1693008000,
           [
            299.38,
            82,
            1010,
            299.38,
            300.94,
            297.46
           ],
           null,
           [
            [
             "broken clouds",
             "04n",
             803,
             "Clouds"
            ]
           ],
           [
            87,
            0.97,
            0.64
           ]
          ],
          [
           [
            35
           ],
           1693011600,
           [
            298.81,
            86,
            1010,
            298.02,
            299.6,
            295.8
           ],
           null,
           [
            [
             "scattered clouds",
             "03n",
             802,
             "Clouds"
            ]
           ],
           [
            130,
            2.26,
            1.56
           ]
          ],
          [
           [
            18
           ],
           1693015200,
           [
            297.93,
            89,
            1010,
            297.15,
            298.74,
            295.15
           ],
           null,
           [
            [
             "few clouds",
             "02n",
             801,
             "Clouds"
            ]
           ],
           [
            154,
            4.41,
            1.98
           ]
          ],
          [
           [
            13
           ],
           1693018800,
           [
            297.41,
            91,
            1010,
            296.63,
            298.18,
            294.62
           ],
           null,
           [
            [
             "few clouds",
             "02n",
             801,
             "Clouds"
            ]
           ],
           [
            174,
            4.63,
            1.83
           ]
          ],
          [
           [
            18
           ],
           1693022400,
           [
            297.1,
            93,
            1010,
            296.3,
            297.86,
            294.36
           ],
           null,
           [
            [
             "few clouds",
             "02n",
             801,
             "Clouds"
            ]
           ],
           [
            183,
            4.25,
            1.61
           ]
          ],
          [
           [
            20
           ],
           1693026000,
           [
            296.93,
            93,
            1010,
            296.15,
            297.68,
            294.04
           ],
           null,
           [
            [
             "few clouds",
             "02n",
             801,
             "Clouds"
            ]
           ],
           [
            200,
            2.61,
            1.01
           ]
          ],
          [
           [
            75
           ],
           1693029600,
           [
            296.72,
            94,
            1010,
            295.93,
            297.31,
            294.04
           ],
           null,
           [
            [
             "broken clouds",
             "04n",
             803,
             "Clouds"
            ]
           ],
           [
            0,
            null,
            0.0
           ]
          ],
          [
           [
            40
           ],
           1693033200,
           [
            296.44,
            91,
            1009,
            295.75,
            297.31,
            293.61
           ],
           null,
           [
            [
             "scattered clouds",
             "03n",
             802,
             "Clouds"
            ]
           ],
           [
            160,
            null,
            2.06
           ]
          ],
          [
           [
            33
           ],
           1693036800,
           [
            296.2,
            92,
            1008,
            295.51,
            297.01,
            293.58
           ],
           null,
           [
            [
             "scattered clouds",
             "03n",
             802,
             "Clouds"
            ]
           ],
           [
            340,
            1.17,
            0.57
           ]
          ],
          [
           [
            40
           ],
           1693040400,
           [
            295.83,
            93,
            1009,
            295.15,
            296.38,
            293.25
           ],
           null,
           [
            [
             "scattered clouds",
             "03n",
             802,
             "Clouds"
            ]
           ],
           [
            0,
            null,
            0.0
           ]
          ],
          [
           [
            49
           ],
           1693044000,
           [
            295.45,
            94,
            1009,
            294.78,
            296.21,
            292.92
           ],
           null,
           [
            [
             "scattered clouds",
             "03n",
             802,
             "Clouds"
            ]
           ],
           [
            346,
            2.91,
            1.61
           ]
          ],
          [
           [
            43
           ],
           1693047600,
           [
            295.73,
            94,
            1008,
            295.03,
            296.46,
            293.12
           ],
           null,
           [
            [
             "scattered clouds",
             "03d",
             802,
             "Clouds"
            ]
           ],
           [
            349,
            4.54,
            1.79
           ]
          ],
          [
           [
            35
           ],
           1693051200,
           [
            296.87,
            94,
            1009,
            296.07,
            297.57,
            294.03
           ],
           null,
           [
            [
             "scattered clouds",
             "03d",
             802,
             "Clouds"
            ]
           ],
           [
            113,
            2.24,
            0.89
           ]
          ],
          [
           [
            20
           ],
           1693054800,
           [
            298.63,
            86,
            1010,
            297.86,
            299.38,
            295.37
           ],
           null,
           [
            [
             "few clouds",
             "02d",
             801,
             "Clouds"
            ]
           ],
           [
            30,
            null,
            2.57
           ]
          ],
          [
           [
            20
           ],
           1693058400,
           [
            299.38,
            80,
            1010,
            299.38,
            300.95,
            297.1
           ],
           null,
           [
            [
             "few clouds",
             "02d",
             801,
             "Clouds"
            ]
           ],
           [
            30,
            null,
            5.14
           ]
          ],
          [
           [
            33
           ],
           1693062000,
           [
            303.79,
            73,
            1010,
            300.94,
            302.62,
            299.06
           ],
           null,
           [
            [
             "scattered clouds",
             "03d",
             802,
             "Clouds"
            ]
           ],
           [
            47,
            5.36,
            1.34
           ]
          ],
          [
           [
            39
           ],
           1693065600,
           [
            304.79,
            66,
            1009,
            301.96,
            303.73,
            300.17
           ],
           null,
           [
            [
             "scattered clouds",
             "03d",
             802,
             "Clouds"
            ]
           ],
           [
            86,
            6.26,
            1.34
           ]
          ],
          [
           [
            43
           ],
           1693069200,
           [
            305.55,
            62,
            1010,
            302.72,
            304.31,
            300.37
           ],
           null,
           [
            [
             "scattered clouds",
             "03d",
             802,
             "Clouds"
            ]
           ],
           [
            88,
            4.47,
            1.34
           ]
          ],
          [
           [
            75
           ],
           1693072800,
           [
            305.2,
            61,
            1009,
            302.63,
            304.45,
            300.15
           ],
           null,
           [
            [
             "broken clouds",
             "04d",
             803,
             "Clouds"
            ]
           ],
           [
            330,
            8.23,
            4.12
           ]
          ],
          [
           [
            75
           ],
           1693076400,
           [
            305.38,
            60,
            1009,
            302.83,
            304.84,
            300.47
           ],
           null,
           [
            [
             "broken clouds",
             "04d",
             803,
             "Clouds"
            ]
           ],
           [
            10,
            null,
            5.66
           ]
          ],
          [
           [
            88
           ],
           1693080000,
           [
            305.78,
            61,
            1008,
            302.94,
            304.84,
            300.8
           ],
           null,
           [
            [
             "overcast clouds",
             "04d",
             804,
             "Clouds"
            ]
           ],
           [
            0,
            4.47,
            0.89
           ]
          ],
          [
           [
            68
           ],
           1693083600,
           [
            305.61,
            62,
            1008,
            302.75,
            304.78,
            300.75
           ],
           null,
           [
            [
             "broken clouds",
             "04d",
             803,
             "Clouds"
            ]
           ],
           [
            277,
            4.47,
            1.34
           ]
          ],
          [
           [
            53
           ],
           1693087200,
           [
            304.6,
            60,
            1009,
            302.39,
            303.86,
            300.37
           ],
           null,
           [
            [
             "broken clouds",
             "04d",
             803,
             "Clouds"
            ]
           ],
           [
            352,
            5.36,
            2.24
           ]
          ],
          [
           [
            44
           ],
           1693090800,
           [
            303.28,
            63,
            1008,
            301.36,
            302.68,
            299.2
           ],
           null,
           [
            [
             "scattered clouds",
             "03d",
             802,
             "Clouds"
            ]
           ],
           [
            288,
            4.47,
            1.79
           ]
          ],
          [
           [
            55
           ],
           1693094400,
           [
            299.59,
            64,
            1009,
            299.59,
            301.46,
            297.06
           ],
           null,
           [
            [
             "broken clouds",
             "04n",
             803,
             "Clouds"
            ]
           ],
           [
            344,
            4.02,
            0.89
           ]
          ],
          [
           [
            24
           ],
           1693098000,
           [
            298.38,
            71,
            1011,
            297.99,
            300.21,
            294.72
           ],
           null,
           [
            [
             "few clouds",
             "02n",
             801,
             "Clouds"
            ]
           ],
           [
            189,
            4.02,
            0.45
           ]
          ],
          [
           [
            54
           ],
           1693101600,
           [
            297.04,
            76,
            1011,
            296.65,
            299.21,
            293.28
           ],
           null,
           [
            [
             "broken clouds",
             "04n",
             803,
             "Clouds"
            ]
           ],
           [
            5,
            1.85,
            1.22
           ]
          ],
          [
           [
            43
           ],
           1693105200,
           [
            296.07,
            81,
            1011,
            295.65,
            298.08,
            292.62
           ],
           null,
           [
            [
             "scattered clouds",
             "03n",
             802,
             "Clouds"
            ]
           ],
           [
            11,
            6.74,
            2.4
           ]
          ],
          [
           [
            35
           ],
           1693108800,
           [
            295.27,
            85,
            1011,
            294.83,
            297.04,
            292.42
           ],
           null,
           [
            [
             "scattered clouds",
             "03n",
             802,
             "Clouds"
            ]
           ],
           [
            25,
            8.01,
            2.74
           ]
          ],
          [
           [
            47
           ],
           1693112400,
           [
            294.61,
            88,
            1011,
            294.16,
            296.49,
            291.62
           ],
           null,
           [
            [
             "scattered clouds",
             "03n",
             802,
             "Clouds"
            ]
           ],
           [
            12,
            7.01,
            2.3
           ]
          ],
          [
           [
            44
           ],
           1693116000,
           [
            294.02,
            89,
            1011,
            293.6,
            295.94,
            291.31
           ],
           null,
           [
            [
             "scattered clouds",
             "03n",
             802,
             "Clouds"
            ]
           ],
           [
            10,
            7.69,
            2.72
           ]
          ],
          [
           [
            0
           ],
           1693119600,
           [
            293.62,
            89,
            1012,
            293.23,
            295.46,
            290.5
           ],
           null,
           [
            [
             "clear sky",
             "01n",
             800,
             "Clear"
            ]
           ],
           [
            340,
            null,
            2.06
           ]
          ],
          [
           [
            97
           ],
           1693123200,
           [
            293.23,
            90,
            1011,
            292.85,
            294.97,
            290.25
           ],
           null,
           [
            [
             "overcast clouds",
             "04n",
             804,
             "Clouds"
            ]
           ],
           [
            4,
            5.79,
            1.98
           ]
          ],
          [
           [
            90
           ],
           1693126800,
           [
            292.96,
            90,
            1012,
            292.61,
            294.9,
            289.7
           ],
           null,
           [
            [
             "overcast clouds",
             "04n",
             804,
             "Clouds"
            ]
           ],
           [
            2,
            5.48,
            2.06
           ]
          ],
          [
           [
            69
           ],
           1693130400,
           [
            292.4,
            91,
            1012,
            292.08,
            294.05,
            289.68
           ],
           null,
           [
            [
             "broken clouds",
             "04n",
             803,
             "Clouds"
            ]
           ],
           [
            0,
            5.74,
            2.17
           ]
          ],
          [
           [
            57
           ],
           1693134000,
           [
            292.36,
            91,
            1013,
            292.04,
            294.1,
            289.44
           ],
           null,
           [
            [
             "broken clouds",
             "04d",
             803,
             "Clouds"
            ]
           ],
           [
            5,
            6.45,
            2.36
           ]
          ],
          [
           [
            42
           ],
           1693137600,
           [
            294.15,
            85,
            1013,
            293.81,
            296.21,
            291.36
           ],
           null,
           [
            [
             "scattered clouds",
             "03d",
             802,
             "Clouds"
            ]
           ],
           [
            14,
            5.01,
            2.72
           ]
          ],
          [
           [
            6
           ],
           1693141200,
           [
            296.71,
            75,
            1012,
            296.37,
            298.12,
            293.87
           ],
           null,
           [
            [
             "clear sky",
             "01d",
             800,
             "Clear"
            ]
           ],
           [
            49,
            3.58,
            0.45
           ]
          ],
          [
           [
            7
           ],
           1693144800,
           [
            298.4,
            69,
            1012,
            298.05,
            299.94,
            295.59
           ],
           null,
           [
            [
             "clear sky",
             "01d",
             800,
             "Clear"
            ]
           ],
           [
            66,
            4.92,
            1.34
           ]
          ],
          [
           [
            7
           ],
           1693148400,
           [
            299.65,
            62,
            1013,
            299.65,
            301.51,
            297.47
           ],
           null,
           [
            [
             "clear sky",
             "01d",
             800,
             "Clear"
            ]
           ],
           [
            81,
            4.47,
            1.79
           ]
          ],
          [
           [
            7
           ],
           1693152000,
           [
            301.95,
            58,
            1012,
            300.83,
            302.71,
            298.72
           ],
           null,
           [
            [
             "clear sky",
             "01d",
             800,
             "Clear"
            ]
           ],
           [
            96,
            3.58,
            0.89
           ]
          ],
          [
           [
            6
           ],
           1693155600,
           [
            303.01,
            54,
            1012,
            301.93,
            303.76,
            299.83
           ],
           null,
           [
            [
             "clear sky",
             "01d",
             800,
             "Clear"
            ]
           ],
           [
            46,
            4.47,
            1.34
           ]
          ],
          [
           [
            6
           ],
           1693159200,
           [
            303.54,
            51,
            1012,
            302.59,
            304.32,
            300.37
           ],
           null,
           [
            [
             "clear sky",
             "01d",
             800,
             "Clear"
            ]
           ],
           [
            89,
            4.47,
            0.89
           ]
          ],
          [
           [
            75
           ],
           1693162800,
           [
            303.51,
            51,
            1012,
            302.57,
            304.41,
            300.25
           ],
           null,
           [
            [
             "broken clouds",
             "04d",
             803,
             "Clouds"
            ]
           ],
           [
            70,
            null,
            3.6
           ]
          ],
          [
           [
            96
           ],
           1693166400,
           [
            303.66,
            53,
            1011,
            302.48,
            304.35,
            300.39
           ],
           null,
           [
            [
             "overcast clouds",
             "04d",
             804,
             "Clouds"
            ]
           ],
           [
            88,
            4.47,
            2.24
           ]
          ],
          [
           [
            97
           ],
           1693170000,
           [
            303.13,
            53,
            1011,
            302.11,
            303.89,
            300.27
           ],
           null,
           [
            [
             "overcast clouds",
             "04d",
             804,
             "Clouds"
            ]
           ],
           [
            84,
            2.68,
            0.89
           ]
          ],
          [
           [
            98
           ],
           1693173600,
           [
            302.71,
            57,
            1011,
            301.46,
            303.07,
            299.71
           ],
           null,
           [
            [
             "overcast clouds",
             "04d",
             804,
             "Clouds"
            ]
           ],
           [
            74,
            4.02,
            0.89
           ]
          ],
          [
           [
            98
           ],
           1693177200,
           [
            301.4,
            61,
            1011,
            300.22,
            301.57,
            298.17
           ],
           null,
           [
            [
             "overcast clouds",
             "04d",
             804,
             "Clouds"
            ]
           ],
           [
            70,
            3.13,
            0.89
           ]
          ],
          [
           [
            99
           ],
           1693180800,
           [
            298.99,
            65,
            1012,
            298.68,
            300.09,
            296.29
           ],
           null,
           [
            [
             "overcast clouds",
             "04n",
             804,
             "Clouds"
            ]
           ],
           [
            223,
            4.47,
            1.34
           ]
          ],
          [
           [
            100
           ],
           1693184400,
           [
            297.91,
            66,
            1013,
            297.68,
            299.26,
            294.68
           ],
           null,
           [
            [
             "overcast clouds",
             "04n",
             804,
             "Clouds"
            ]
           ],
           [
            128,
            2.68,
            0.45
           ]
          ],
          [
           [
            100
           ],
           1693188000,
           [
            297.34,
            68,
            1013,
            297.11,
            298.71,
            294.55
           ],
           null,
           [
            [
             "overcast clouds",
             "04n",
             804,
             "Clouds"
            ]
           ],
           [
            133,
            3.43,
            1.82
           ]
          ],
          [
           [
            100
           ],
           1693191600,
           [
            296.34,
            74,
            1014,
            296.06,
            297.68,
            293.7
           ],
           null,
           [
            [
             "overcast clouds",
             "04n",
             804,
             "Clouds"
            ]
           ],
           [
            124,
            2.51,
            1.43
           ]
          ],
          [
           [
            100
           ],
           1693195200,
           [
            295.79,
            75,
            1014,
            295.54,
            297.6,
            292.6
           ],
           null,
           [
            [
             "overcast clouds",
             "04n",
             804,
             "Clouds"
            ]
           ],
           [
            109,
            3.12,
            1.8
           ]
          ],
          [
           [
            100
           ],
           1693198800,
           [
            294.96,
            80,
            1014,
            294.66,
            297.01,
            292.12
           ],
           null,
           [
            [
             "overcast clouds",
             "04n",
             804,
             "Clouds"
            ]
           ],
           [
            118,
            3.02,
            1.48
           ]
          ],
          [
           [
            75
           ],
           1693202400,
           [
            294.68,
            81,
            1015,
            294.39,
            296.45,
            292.01
           ],
           null,
           [
            [
             "broken clouds",
             "04n",
             803,
             "Clouds"
            ]
           ],
           [
            0,
            null,
            0.0
           ]
          ],
          [
           [
            100
           ],
           1693206000,
           [
            294.6,
            81,
            1014,
            294.31,
            296.27,
            291.29
           ],
           null,
           [
            [
             "overcast clouds",
             "04n",
             804,
             "Clouds"
            ]
           ],
           [
            80,
            null,
            2.57
           ]
          ],
          [
           [
            99
           ],
           1693209600,
           [
            294.45,
            85,
            1014,
            294.08,
            295.97,
            291.29
           ],
           null,
           [
            [
             "overcast clouds",
             "04n",
             804,
             "Clouds"
            ]
           ],
           [
            101,
            1.79,
            0.45
           ]
          ],
          [
           [
            97
           ],
           1693213200,
           [
            294.25,
            88,
            1014,
            293.83,
            295.21,
            291.29
           ],
           null,
           [
            [
             "overcast clouds",
             "04n",
             804,
             "Clouds"
            ]
           ],
           [
            134,
            3.58,
            0.89
           ]
          ],
          [
           [
            75
           ],
           1693216800,
           [
            294.07,
            91,
            1014,
            293.59,
            295.21,
            291.16
           ],
           null,
           [
            [
             "broken clouds",
             "04n",
             803,
             "Clouds"
            ]
           ],
           [
            60,
            null,
            3.6
           ]
          ],
          [
           [
            75
           ],
           1693220400,
           [
            294.05,
            93,
            1015,
            293.53,
            294.91,
            291.35
           ],
           null,
           [
            [
             "broken clouds",
             "04d",
             803,
             "Clouds"
            ]
           ],
           [
            80,
            null,
            3.09
           ]
          ],
          [
           [
            75
           ],
           1693224000,
           [
            294.98,
            91,
            1015,
            294.42,
            295.4,
            292.59
           ],
           null,
           [
            [
             "broken clouds",
             "04d",
             803,
             "Clouds"
            ]
           ],
           [
            80,
            null,
            4.12
           ]
          ],
          [
           [
            100
           ],
           1693227600,
           [
            296.08,
            86,
            1016,
            295.54,
            296.57,
            294.09
           ],
           null,
           [
            [
             "overcast clouds",
             "04d",
             804,
             "Clouds"
            ]
           ],
           [
            100,
            null,
            4.63
           ]
          ],
          [
           [
            100
           ],
           1693231200,
           [
            297.13,
            82,
            1015,
            296.59,
            297.65,
            295.2
           ],
           null,
           [
            [
             "overcast clouds",
             "04d",
             804,
             "Clouds"
            ]
           ],
           [
            90,
            null,
            5.14
           ]
          ],
          [
           [
            100
           ],
           1693234800,
           [
            298.33,
            76,
            1015,
            297.82,
            299.26,
            296.03
           ],
           null,
           [
            [
             "overcast clouds",
             "04d",
             804,
             "Clouds"
            ]
           ],
           [
            158,
            5.81,
            1.34
           ]
          ],
          [
           [
            40
           ],
           1693238400,
           [
            299.11,
            70,
            1015,
            299.11,
            300.4,
            297.2
           ],
           null,
           [
            [
             "scattered clouds",
             "03d",
             802,
             "Clouds"
            ]
           ],
           [
            80,
            null,
            6.69
           ]
          ],
          [
           [
            100
           ],
           1693242000,
           [
            299.76,
            67,
            1015,
            299.76,
            301.14,
            297.91
           ],
           null,
           [
            [
             "overcast clouds",
             "04d",
             804,
             "Clouds"
            ]
           ],
           [
            70,
            4.47,
            1.34
           ]
          ],
          [
           [
            75
           ],
           1693245600,
           [
            299.8,
            66,
            1015,
            299.8,
            301.21,
            297.91
           ],
           null,
           [
            [
             "broken clouds",
             "04d",
             803,
             "Clouds"
            ]
           ],
           [
            100,
            null,
            5.14
           ]
          ],
          [
           [
            100
           ],
           1693249200,
           [
            299.44,
            67,
            1015,
            299.44,
            300.65,
            297.67
           ],
           null,
           [
            [
             "overcast clouds",
             "04d",
             804,
             "Clouds"
            ]
           ],
           [
            130,
            null,
            5.14
           ]
          ],
          [
           [
            100
           ],
           1693252800,
           [
            299.34,
            71,
            1014,
            298.86,
            300.4,
            297.01
           ],
           null,
           [
            [
             "overcast clouds",
             "04d",
             804,
             "Clouds"
            ]
           ],
           [
            140,
            3.58,
            1.34
           ]
          ],
          [
           [
            40
           ],
           1693256400,
           [
            298.81,
            72,
            1015,
            298.35,
            299.91,
            296.81
           ],
           null,
           [
            [
             "scattered clouds",
             "03d",
             802,
             "Clouds"
            ]
           ],
           [
            140,
            null,
            4.63
           ]
          ],
          [
           [
            100
           ],
           1693260000,
           [
            298.33,
            74,
            1015,
            297.87,
            299.1,
            296.41
           ],
           null,
           [
            [
             "overcast clouds",
             "04d",
             804,
             "Clouds"
            ]
           ],
           [
            145,
            3.58,
            0.89
           ]
          ],
          [
           [
            100
           ],
           1693263600,
           [
            297.48,
            76,
            1014,
            297.05,
            298.23,
            295.47
           ],
           null,
           [
            [
             "overcast clouds",
             "04d",
             804,
             "Clouds"
            ]
           ],
           [
            138,
            2.24,
            0.45
           ]
          ],
          [
           [
            100
           ],
           1693267200,
           [
            296.54,
            79,
            1015,
            296.12,
            297.43,
            294.34
           ],
           null,
           [
            [
             "overcast clouds",
             "04n",
             804,
             "Clouds"
            ]
           ],
           [
            71,
            4.02,
            0.89
           ]
          ],
          [
           [
            100
           ],
           1693270800,
           [
            295.88,
            83,
            1015,
            295.43,
            296.54,
            293.57
           ],
           null,
           [
            [
             "overcast clouds",
             "04n",
             804,
             "Clouds"
            ]
           ],
           [
            0,
            4.47,
            1.34
           ]
          ],
          [
           [
            100
           ],
           1693274400,
           [
            295.36,
            85,
            1015,
            294.91,
            296.21,
            293.01
           ],
           null,
           [
            [
             "overcast clouds",
             "04n",
             804,
             "Clouds"
            ]
           ],
           [
            123,
            4.02,
            1.34
           ]
          ],
          [
           [
            100
           ],
           1693278000,
           [
            295.08,
            86,
            1015,
            294.63,
            295.96,
            292.46
           ],
           null,
           [
            [
             "overcast clouds",
             "04n",
             804,
             "Clouds"
            ]
           ],
           [
            84,
            3.13,
            1.34
           ]
          ],
          [
           [
            100
           ],
           1693281600,
           [
            294.8,
            88,
            1015,
            294.33,
            295.46,
            292.14
           ],
           null,
           [
            [
             "overcast clouds",
             "04n",
             804,
             "Clouds"
            ]
           ],
           [
            98,
            3.13,
            0.89
           ]
          ],
          [
           [
            100
           ],
           1693285200,
           [
            294.64,
            88,
            1015,
            294.18,
            295.4,
            292.15
           ],
           null,
           [
            [
             "overcast clouds",
             "04n",
             804,
             "Clouds"
            ]
           ],
           [
            70,
            null,
            3.6
           ]
          ],
          [
           [
            100
           ],
           1693288800,
           [
            294.49,
            88,
            1015,
            294.05,
            295.4,
            292.15
           ],
           null,
           [
            [
             "overcast clouds",
             "04n",
             804,
             "Clouds"
            ]
           ],
           [
            70,
            null,
            3.6
           ]
          ],
          [
           [
            100
           ],
           1693292400,
           [
            294.24,
            89,
            1014,
            293.8,
            295.25,
            291.9
           ],
           null,
           [
            [
             "overcast clouds",
             "04n",
             804,
             "Clouds"
            ]
           ],
           [
            70,
            null,
            3.6
           ]
          ],
          [
           [
            100
           ],
           1693296000,
           [
            294.05,
            90,
            1014,
            293.6,
            295.09,
            291.91
           ],
           null,
           [
            [
             "overcast clouds",
             "04n",
             804,
             "Clouds"
            ]
           ],
           [
            70,
            null,
            2.57
           ]
          ],
          [
           [
            93
           ],
           1693299600,
           [
            294.03,
            91,
            1013,
            293.56,
            294.69,
            291.81
           ],
           null,
           [
            [
             "overcast clouds",
             "04n",
             804,
             "Clouds"
            ]
           ],
           [
            38,
            3.58,
            1.79
           ]
          ],
          [
           [
            100
           ],
           1693303200,
           [
            294.08,
            90,
            1013,
            293.63,
            294.82,
            292.27
           ],
           null,
           [
            [
             "overcast clouds",
             "04n",
             804,
             "Clouds"
            ]
           ],
           [
            30,
            null,
            3.6
           ]
          ],
          [
           [
            100
           ],
           1693306800,
           [
            294.13,
            91,
            1014,
            293.65,
            294.65,
            292.2
           ],
           null,
           [
            [
             "overcast clouds",
             "04d",
             804,
             "Clouds"
            ]
           ],
           [
            60,
            null,
            3.6
           ]
          ],
          [
           [
            100
           ],
           1693310400,
           [
            294.67,
            90,
            1014,
            294.16,
            295.21,
            292.82
           ],
           null,
           [
            [
             "overcast clouds",
             "04d",
             804,
             "Clouds"
            ]
           ],
           [
            40,
            null,
            3.09
           ]
          ],
          [
           [
            100
           ],
           1693314000,
           [
            295.33,
            87,
            1013,
            294.83,
            296.04,
            293.41
           ],
           null,
           [
            [
             "overcast clouds",
             "04d",
             804,
             "Clouds"
            ]
           ],
           [
            0,
            4.92,
            2.68
           ]
          ],
          [
           [
            100
           ],
           1693317600,
           [
            296.12,
            86,
            1014,
            295.58,
            297.07,
            293.99
           ],
           null,
           [
            [
             "overcast clouds",
             "04d",
             804,
             "Clouds"
            ]
           ],
           [
            60,
            null,
            3.6
           ]
          ],
          [
           [
            100
           ],
           1693321200,
           [
            297.06,
            84,
            1013,
            296.48,
            297.65,
            295.1
           ],
           null,
           [
            [
             "overcast clouds",
             "04d",
             804,
             "Clouds"
            ]
           ],
           [
            80,
            3.58,
            0.89
           ]
          ],
          [
           [
            100
           ],
           1693324800,
           [
            297.97,
            80,
            1014,
            297.4,
            298.8,
            296.22
           ],
           null,
           [
            [
             "overcast clouds",
             "04d",
             804,
             "Clouds"
            ]
           ],
           [
            80,
            null,
            4.12
           ]
          ],
          [
           [
            100
           ],
           1693328400,
           [
            298.76,
            80,
            1013,
            298.12,
            299.74,
            296.61
           ],
           null,
           [
            [
             "overcast clouds",
             "04d",
             804,
             "Clouds"
            ]
           ],
           [
            121,
            1.79,
            0.45
           ]
          ],
          [
           [
            100
           ],
           1693332000,
           [
            299.18,
            77,
            1013,
            298.57,
            300.13,
            297.14
           ],
           null,
           [
            [
             "overcast clouds",
             "04d",
             804,
             "Clouds"
            ]
           ],
           [
            100,
            null,
            2.06
           ]
          ],
          [
           [
            100
           ],
           1693335600,
           [
            299.42,
            77,
            1012,
            298.79,
            300.68,
            297.66
           ],
           null,
           [
            [
             "overcast clouds",
             "04d",
             804,
             "Clouds"
            ]
           ],
           [
            40,
            null,
            3.09
           ]
          ],
          [
           [
            100
           ],
           1693339200,
           [
            299.44,
            76,
            1011,
            298.83,
            300.75,
            297.37
           ],
           null,
           [
            [
             "overcast clouds",
             "04d",
             804,
             "Clouds"
            ]
           ],
           [
            30,
            null,
            2.06
           ]
          ],
          [
           [
            100
           ],
           1693342800,
           [
            299.52,
            77,
            1010,
            298.88,
            300.6,
            297.66
           ],
           null,
           [
            [
             "overcast clouds",
             "04d",
             804,
             "Clouds"
            ]
           ],
           [
            63,
            2.68,
            0.89
           ]
          ],
          [
           [
            100
           ],
           1693346400,
           [
            299.21,
            79,
            1009,
            298.55,
            299.97,
            297.25
           ],
           null,
           [
            [
             "overcast clouds",
             "04d",
             804,
             "Clouds"
            ]
           ],
           [
            112,
            3.96,
            2.3
           ]
          ],
          [
           [
            100
           ],
           1693350000,
           [
            298.69,
            82,
            1009,
            298.01,
            299.29,
            296.56
           ],
           null,
           [
            [
             "overcast clouds",
             "04d",
             804,
             "Clouds"
            ]
           ],
           [
            101,
            1.79,
            0.45
           ]
          ],
          [
           [
            99
           ],
           1693353600,
           [
            298.22,
            84,
            1009,
            297.53,
            298.74,
            296.03
           ],
           null,
           [
            [
             "overcast clouds",
             "04n",
             804,
             "Clouds"
            ]
           ],
           [
            123,
            1.79,
            0.45
           ]
          ]
         ],
         "Count: 169"
        ]
       ],
       "datasetInfos": [],
       "dbfsResultPath": null,
       "isJsonSchema": true,
       "metadata": {},
       "overflow": false,
       "plotOptions": {
        "customPlotOptions": {},
        "displayType": "table",
        "pivotAggregation": null,
        "pivotColumns": null,
        "xColumns": null,
        "yColumns": null
       },
       "removedWidgets": [],
       "schema": [
        {
         "metadata": "{}",
         "name": "calctime",
         "type": "\"double\""
        },
        {
         "metadata": "{}",
         "name": "city_id",
         "type": "\"long\""
        },
        {
         "metadata": "{}",
         "name": "cnt",
         "type": "\"long\""
        },
        {
         "metadata": "{}",
         "name": "cod",
         "type": "\"string\""
        },
        {
         "metadata": "{}",
         "name": "list",
         "type": "{\"type\":\"array\",\"elementType\":{\"type\":\"struct\",\"fields\":[{\"name\":\"clouds\",\"type\":{\"type\":\"struct\",\"fields\":[{\"name\":\"all\",\"type\":\"long\",\"nullable\":true,\"metadata\":{}}]},\"nullable\":true,\"metadata\":{}},{\"name\":\"dt\",\"type\":\"long\",\"nullable\":true,\"metadata\":{}},{\"name\":\"main\",\"type\":{\"type\":\"struct\",\"fields\":[{\"name\":\"feels_like\",\"type\":\"double\",\"nullable\":true,\"metadata\":{}},{\"name\":\"humidity\",\"type\":\"long\",\"nullable\":true,\"metadata\":{}},{\"name\":\"pressure\",\"type\":\"long\",\"nullable\":true,\"metadata\":{}},{\"name\":\"temp\",\"type\":\"double\",\"nullable\":true,\"metadata\":{}},{\"name\":\"temp_max\",\"type\":\"double\",\"nullable\":true,\"metadata\":{}},{\"name\":\"temp_min\",\"type\":\"double\",\"nullable\":true,\"metadata\":{}}]},\"nullable\":true,\"metadata\":{}},{\"name\":\"rain\",\"type\":{\"type\":\"struct\",\"fields\":[{\"name\":\"1h\",\"type\":\"double\",\"nullable\":true,\"metadata\":{}}]},\"nullable\":true,\"metadata\":{}},{\"name\":\"weather\",\"type\":{\"type\":\"array\",\"elementType\":{\"type\":\"struct\",\"fields\":[{\"name\":\"description\",\"type\":\"string\",\"nullable\":true,\"metadata\":{}},{\"name\":\"icon\",\"type\":\"string\",\"nullable\":true,\"metadata\":{}},{\"name\":\"id\",\"type\":\"long\",\"nullable\":true,\"metadata\":{}},{\"name\":\"main\",\"type\":\"string\",\"nullable\":true,\"metadata\":{}}]},\"containsNull\":true},\"nullable\":true,\"metadata\":{}},{\"name\":\"wind\",\"type\":{\"type\":\"struct\",\"fields\":[{\"name\":\"deg\",\"type\":\"long\",\"nullable\":true,\"metadata\":{}},{\"name\":\"gust\",\"type\":\"double\",\"nullable\":true,\"metadata\":{}},{\"name\":\"speed\",\"type\":\"double\",\"nullable\":true,\"metadata\":{}}]},\"nullable\":true,\"metadata\":{}}]},\"containsNull\":true}"
        },
        {
         "metadata": "{}",
         "name": "message",
         "type": "\"string\""
        }
       ],
       "type": "table"
      }
     },
     "output_type": "display_data"
    }
   ],
   "source": [
    "# convert json response to pyspark dataframe\n",
    "rdd = spark.sparkContext.parallelize([response.text])\n",
    "history_df = spark.read.json(rdd)\n",
    "display(history_df)"
   ]
  },
  {
   "cell_type": "markdown",
   "metadata": {
    "application/vnd.databricks.v1+cell": {
     "cellMetadata": {
      "byteLimit": 2048000,
      "rowLimit": 10000
     },
     "inputWidgets": {},
     "nuid": "51f36ea3-7d46-4837-aa7a-1678f6d042da",
     "showTitle": false,
     "title": ""
    }
   },
   "source": [
    "### 4. Store the information from each API request in a Spark DataFrame and display your dataframe in your notebook (see the image above and the table schema for examples of how your table should look)."
   ]
  },
  {
   "cell_type": "code",
   "execution_count": 0,
   "metadata": {
    "application/vnd.databricks.v1+cell": {
     "cellMetadata": {
      "byteLimit": 2048000,
      "rowLimit": 10000
     },
     "inputWidgets": {},
     "nuid": "6df62529-2592-42b2-b1b2-e2bdc997401a",
     "showTitle": false,
     "title": ""
    }
   },
   "outputs": [
    {
     "output_type": "display_data",
     "data": {
      "text/html": [
       "<style scoped>\n",
       "  .table-result-container {\n",
       "    max-height: 300px;\n",
       "    overflow: auto;\n",
       "  }\n",
       "  table, th, td {\n",
       "    border: 1px solid black;\n",
       "    border-collapse: collapse;\n",
       "  }\n",
       "  th, td {\n",
       "    padding: 5px;\n",
       "  }\n",
       "  th {\n",
       "    text-align: left;\n",
       "  }\n",
       "</style><div class='table-result-container'><table class='table-result'><thead style='background-color: white'><tr><th>id</th><th>name</th><th>lat</th><th>lon</th><th>timezone</th><th>population</th><th>dt</th><th>sunrise</th><th>sunset</th><th>pop</th><th>speed</th><th>gust</th><th>deg</th><th>clouds</th><th>pressure</th><th>rain</th><th>temp_min</th><th>temp_max</th><th>temp_morn</th><th>temp_day</th><th>temp_eve</th><th>temp_night</th><th>feels_like_morn</th><th>feels_like_day</th><th>feels_like_eve</th><th>feels_like_night</th><th>weather</th></tr></thead><tbody><tr><td>4560349</td><td>Philadelphia</td><td>39.9526</td><td>-75.1652</td><td>-14400</td><td>1526006</td><td>1697385600</td><td>1697368235</td><td>1697408522</td><td>1.0</td><td>6.28</td><td>12.33</td><td>318</td><td>9</td><td>1002</td><td>2.48</td><td>282.54</td><td>289.02</td><td>283.26</td><td>288.35</td><td>287.12</td><td>283.17</td><td>282.49</td><td>287.13</td><td>286.22</td><td>281.98</td><td>List(List(moderate rain, 10d, 501, Rain))</td></tr><tr><td>4560349</td><td>Philadelphia</td><td>39.9526</td><td>-75.1652</td><td>-14400</td><td>1526006</td><td>1697472000</td><td>1697454698</td><td>1697494833</td><td>0.37</td><td>3.86</td><td>10.11</td><td>302</td><td>100</td><td>1005</td><td>0.5</td><td>281.12</td><td>288.12</td><td>281.12</td><td>285.24</td><td>286.86</td><td>283.48</td><td>278.87</td><td>284.23</td><td>285.98</td><td>282.79</td><td>List(List(light rain, 10d, 500, Rain))</td></tr><tr><td>4560349</td><td>Philadelphia</td><td>39.9526</td><td>-75.1652</td><td>-14400</td><td>1526006</td><td>1697558400</td><td>1697541161</td><td>1697581145</td><td>0.11</td><td>3.05</td><td>6.99</td><td>331</td><td>29</td><td>1013</td><td>null</td><td>281.5</td><td>290.05</td><td>281.68</td><td>288.83</td><td>288.15</td><td>285.66</td><td>280.6</td><td>287.71</td><td>287.17</td><td>284.85</td><td>List(List(scattered clouds, 03d, 802, Clouds))</td></tr><tr><td>4560349</td><td>Philadelphia</td><td>39.9526</td><td>-75.1652</td><td>-14400</td><td>1526006</td><td>1697644800</td><td>1697627625</td><td>1697667457</td><td>0.0</td><td>1.96</td><td>4.38</td><td>181</td><td>100</td><td>1022</td><td>null</td><td>285.35</td><td>291.72</td><td>285.52</td><td>287.32</td><td>291.72</td><td>286.53</td><td>284.61</td><td>286.41</td><td>290.62</td><td>285.52</td><td>List(List(overcast clouds, 04d, 804, Clouds))</td></tr><tr><td>4560349</td><td>Philadelphia</td><td>39.9526</td><td>-75.1652</td><td>-14400</td><td>1526006</td><td>1697731200</td><td>1697714089</td><td>1697753770</td><td>0.0</td><td>4.29</td><td>11.93</td><td>196</td><td>4</td><td>1024</td><td>null</td><td>284.66</td><td>293.97</td><td>284.66</td><td>290.98</td><td>293.1</td><td>288.37</td><td>283.8</td><td>290.1</td><td>292.35</td><td>287.8</td><td>List(List(sky is clear, 01d, 800, Clear))</td></tr><tr><td>4560349</td><td>Philadelphia</td><td>39.9526</td><td>-75.1652</td><td>-14400</td><td>1526006</td><td>1697817600</td><td>1697800554</td><td>1697840085</td><td>0.36</td><td>5.6</td><td>12.3</td><td>190</td><td>100</td><td>1014</td><td>0.24</td><td>287.78</td><td>294.36</td><td>287.85</td><td>291.31</td><td>291.09</td><td>287.8</td><td>287.26</td><td>290.85</td><td>290.79</td><td>287.75</td><td>List(List(light rain, 10d, 500, Rain))</td></tr><tr><td>4560349</td><td>Philadelphia</td><td>39.9526</td><td>-75.1652</td><td>-14400</td><td>1526006</td><td>1697904000</td><td>1697887019</td><td>1697926400</td><td>1.0</td><td>6.74</td><td>14.38</td><td>282</td><td>100</td><td>995</td><td>5.8</td><td>285.92</td><td>290.67</td><td>288.04</td><td>288.74</td><td>288.89</td><td>285.92</td><td>288.07</td><td>288.73</td><td>288.53</td><td>285.21</td><td>List(List(light rain, 10d, 500, Rain))</td></tr><tr><td>4560349</td><td>Philadelphia</td><td>39.9526</td><td>-75.1652</td><td>-14400</td><td>1526006</td><td>1697990400</td><td>1697973484</td><td>1698012717</td><td>0.01</td><td>6.59</td><td>11.43</td><td>288</td><td>96</td><td>999</td><td>null</td><td>281.95</td><td>286.86</td><td>284.87</td><td>286.18</td><td>285.81</td><td>281.95</td><td>284.0</td><td>284.97</td><td>284.31</td><td>279.12</td><td>List(List(overcast clouds, 04d, 804, Clouds))</td></tr><tr><td>4560349</td><td>Philadelphia</td><td>39.9526</td><td>-75.1652</td><td>-14400</td><td>1526006</td><td>1698076800</td><td>1698059950</td><td>1698099034</td><td>0.0</td><td>5.28</td><td>10.22</td><td>306</td><td>99</td><td>1013</td><td>null</td><td>281.07</td><td>285.14</td><td>281.3</td><td>282.77</td><td>285.14</td><td>281.07</td><td>278.35</td><td>280.25</td><td>283.54</td><td>279.13</td><td>List(List(overcast clouds, 04d, 804, Clouds))</td></tr><tr><td>4560349</td><td>Philadelphia</td><td>39.9526</td><td>-75.1652</td><td>-14400</td><td>1526006</td><td>1698163200</td><td>1698146416</td><td>1698185353</td><td>0.0</td><td>5.46</td><td>10.03</td><td>343</td><td>0</td><td>1025</td><td>null</td><td>278.72</td><td>286.32</td><td>278.81</td><td>283.06</td><td>286.26</td><td>281.61</td><td>276.66</td><td>280.55</td><td>284.78</td><td>279.55</td><td>List(List(sky is clear, 01d, 800, Clear))</td></tr><tr><td>4560349</td><td>Philadelphia</td><td>39.9526</td><td>-75.1652</td><td>-14400</td><td>1526006</td><td>1698249600</td><td>1698232882</td><td>1698271673</td><td>0.0</td><td>3.77</td><td>8.87</td><td>30</td><td>3</td><td>1032</td><td>null</td><td>279.76</td><td>288.16</td><td>279.76</td><td>284.82</td><td>288.03</td><td>283.54</td><td>277.59</td><td>283.48</td><td>286.77</td><td>282.38</td><td>List(List(sky is clear, 01d, 800, Clear))</td></tr><tr><td>4560349</td><td>Philadelphia</td><td>39.9526</td><td>-75.1652</td><td>-14400</td><td>1526006</td><td>1698336000</td><td>1698319349</td><td>1698357993</td><td>0.0</td><td>3.57</td><td>8.49</td><td>348</td><td>0</td><td>1028</td><td>null</td><td>280.94</td><td>290.39</td><td>281.57</td><td>286.39</td><td>290.22</td><td>284.86</td><td>280.04</td><td>285.1</td><td>289.08</td><td>283.71</td><td>List(List(sky is clear, 01d, 800, Clear))</td></tr><tr><td>4560349</td><td>Philadelphia</td><td>39.9526</td><td>-75.1652</td><td>-14400</td><td>1526006</td><td>1698422400</td><td>1698405816</td><td>1698444316</td><td>0.0</td><td>3.71</td><td>8.95</td><td>323</td><td>3</td><td>1016</td><td>null</td><td>282.52</td><td>293.7</td><td>282.71</td><td>289.35</td><td>292.98</td><td>287.13</td><td>281.42</td><td>287.89</td><td>292.01</td><td>286.15</td><td>List(List(sky is clear, 01d, 800, Clear))</td></tr><tr><td>4560349</td><td>Philadelphia</td><td>39.9526</td><td>-75.1652</td><td>-14400</td><td>1526006</td><td>1698508800</td><td>1698492283</td><td>1698530639</td><td>0.0</td><td>3.55</td><td>9.24</td><td>280</td><td>3</td><td>1015</td><td>null</td><td>285.55</td><td>295.26</td><td>285.55</td><td>291.26</td><td>294.52</td><td>289.51</td><td>284.46</td><td>290.48</td><td>293.97</td><td>288.9</td><td>List(List(sky is clear, 01d, 800, Clear))</td></tr><tr><td>4560349</td><td>Philadelphia</td><td>39.9526</td><td>-75.1652</td><td>-14400</td><td>1526006</td><td>1698595200</td><td>1698578751</td><td>1698616964</td><td>0.87</td><td>5.58</td><td>11.39</td><td>336</td><td>100</td><td>1016</td><td>8.04</td><td>282.15</td><td>288.73</td><td>288.22</td><td>288.73</td><td>284.94</td><td>282.15</td><td>287.56</td><td>287.94</td><td>284.5</td><td>279.83</td><td>List(List(moderate rain, 10d, 501, Rain))</td></tr><tr><td>4560349</td><td>Philadelphia</td><td>39.9526</td><td>-75.1652</td><td>-14400</td><td>1526006</td><td>1698681600</td><td>1698665219</td><td>1698703290</td><td>0.27</td><td>4.69</td><td>11.5</td><td>322</td><td>2</td><td>1027</td><td>null</td><td>278.5</td><td>284.64</td><td>279.24</td><td>282.03</td><td>284.24</td><td>281.16</td><td>276.03</td><td>279.94</td><td>282.37</td><td>280.43</td><td>List(List(sky is clear, 01d, 800, Clear))</td></tr></tbody></table></div>"
      ]
     },
     "metadata": {
      "application/vnd.databricks.v1+output": {
       "addedWidgets": {},
       "aggData": [],
       "aggError": "",
       "aggOverflow": false,
       "aggSchema": [],
       "aggSeriesLimitReached": false,
       "aggType": "",
       "arguments": {},
       "columnCustomDisplayInfos": {},
       "data": [
        [
         4560349,
         "Philadelphia",
         39.9526,
         -75.1652,
         -14400,
         1526006,
         1697385600,
         1697368235,
         1697408522,
         1.0,
         6.28,
         12.33,
         318,
         9,
         1002,
         2.48,
         282.54,
         289.02,
         283.26,
         288.35,
         287.12,
         283.17,
         282.49,
         287.13,
         286.22,
         281.98,
         [
          [
           "moderate rain",
           "10d",
           501,
           "Rain"
          ]
         ]
        ],
        [
         4560349,
         "Philadelphia",
         39.9526,
         -75.1652,
         -14400,
         1526006,
         1697472000,
         1697454698,
         1697494833,
         0.37,
         3.86,
         10.11,
         302,
         100,
         1005,
         0.5,
         281.12,
         288.12,
         281.12,
         285.24,
         286.86,
         283.48,
         278.87,
         284.23,
         285.98,
         282.79,
         [
          [
           "light rain",
           "10d",
           500,
           "Rain"
          ]
         ]
        ],
        [
         4560349,
         "Philadelphia",
         39.9526,
         -75.1652,
         -14400,
         1526006,
         1697558400,
         1697541161,
         1697581145,
         0.11,
         3.05,
         6.99,
         331,
         29,
         1013,
         null,
         281.5,
         290.05,
         281.68,
         288.83,
         288.15,
         285.66,
         280.6,
         287.71,
         287.17,
         284.85,
         [
          [
           "scattered clouds",
           "03d",
           802,
           "Clouds"
          ]
         ]
        ],
        [
         4560349,
         "Philadelphia",
         39.9526,
         -75.1652,
         -14400,
         1526006,
         1697644800,
         1697627625,
         1697667457,
         0.0,
         1.96,
         4.38,
         181,
         100,
         1022,
         null,
         285.35,
         291.72,
         285.52,
         287.32,
         291.72,
         286.53,
         284.61,
         286.41,
         290.62,
         285.52,
         [
          [
           "overcast clouds",
           "04d",
           804,
           "Clouds"
          ]
         ]
        ],
        [
         4560349,
         "Philadelphia",
         39.9526,
         -75.1652,
         -14400,
         1526006,
         1697731200,
         1697714089,
         1697753770,
         0.0,
         4.29,
         11.93,
         196,
         4,
         1024,
         null,
         284.66,
         293.97,
         284.66,
         290.98,
         293.1,
         288.37,
         283.8,
         290.1,
         292.35,
         287.8,
         [
          [
           "sky is clear",
           "01d",
           800,
           "Clear"
          ]
         ]
        ],
        [
         4560349,
         "Philadelphia",
         39.9526,
         -75.1652,
         -14400,
         1526006,
         1697817600,
         1697800554,
         1697840085,
         0.36,
         5.6,
         12.3,
         190,
         100,
         1014,
         0.24,
         287.78,
         294.36,
         287.85,
         291.31,
         291.09,
         287.8,
         287.26,
         290.85,
         290.79,
         287.75,
         [
          [
           "light rain",
           "10d",
           500,
           "Rain"
          ]
         ]
        ],
        [
         4560349,
         "Philadelphia",
         39.9526,
         -75.1652,
         -14400,
         1526006,
         1697904000,
         1697887019,
         1697926400,
         1.0,
         6.74,
         14.38,
         282,
         100,
         995,
         5.8,
         285.92,
         290.67,
         288.04,
         288.74,
         288.89,
         285.92,
         288.07,
         288.73,
         288.53,
         285.21,
         [
          [
           "light rain",
           "10d",
           500,
           "Rain"
          ]
         ]
        ],
        [
         4560349,
         "Philadelphia",
         39.9526,
         -75.1652,
         -14400,
         1526006,
         1697990400,
         1697973484,
         1698012717,
         0.01,
         6.59,
         11.43,
         288,
         96,
         999,
         null,
         281.95,
         286.86,
         284.87,
         286.18,
         285.81,
         281.95,
         284.0,
         284.97,
         284.31,
         279.12,
         [
          [
           "overcast clouds",
           "04d",
           804,
           "Clouds"
          ]
         ]
        ],
        [
         4560349,
         "Philadelphia",
         39.9526,
         -75.1652,
         -14400,
         1526006,
         1698076800,
         1698059950,
         1698099034,
         0.0,
         5.28,
         10.22,
         306,
         99,
         1013,
         null,
         281.07,
         285.14,
         281.3,
         282.77,
         285.14,
         281.07,
         278.35,
         280.25,
         283.54,
         279.13,
         [
          [
           "overcast clouds",
           "04d",
           804,
           "Clouds"
          ]
         ]
        ],
        [
         4560349,
         "Philadelphia",
         39.9526,
         -75.1652,
         -14400,
         1526006,
         1698163200,
         1698146416,
         1698185353,
         0.0,
         5.46,
         10.03,
         343,
         0,
         1025,
         null,
         278.72,
         286.32,
         278.81,
         283.06,
         286.26,
         281.61,
         276.66,
         280.55,
         284.78,
         279.55,
         [
          [
           "sky is clear",
           "01d",
           800,
           "Clear"
          ]
         ]
        ],
        [
         4560349,
         "Philadelphia",
         39.9526,
         -75.1652,
         -14400,
         1526006,
         1698249600,
         1698232882,
         1698271673,
         0.0,
         3.77,
         8.87,
         30,
         3,
         1032,
         null,
         279.76,
         288.16,
         279.76,
         284.82,
         288.03,
         283.54,
         277.59,
         283.48,
         286.77,
         282.38,
         [
          [
           "sky is clear",
           "01d",
           800,
           "Clear"
          ]
         ]
        ],
        [
         4560349,
         "Philadelphia",
         39.9526,
         -75.1652,
         -14400,
         1526006,
         1698336000,
         1698319349,
         1698357993,
         0.0,
         3.57,
         8.49,
         348,
         0,
         1028,
         null,
         280.94,
         290.39,
         281.57,
         286.39,
         290.22,
         284.86,
         280.04,
         285.1,
         289.08,
         283.71,
         [
          [
           "sky is clear",
           "01d",
           800,
           "Clear"
          ]
         ]
        ],
        [
         4560349,
         "Philadelphia",
         39.9526,
         -75.1652,
         -14400,
         1526006,
         1698422400,
         1698405816,
         1698444316,
         0.0,
         3.71,
         8.95,
         323,
         3,
         1016,
         null,
         282.52,
         293.7,
         282.71,
         289.35,
         292.98,
         287.13,
         281.42,
         287.89,
         292.01,
         286.15,
         [
          [
           "sky is clear",
           "01d",
           800,
           "Clear"
          ]
         ]
        ],
        [
         4560349,
         "Philadelphia",
         39.9526,
         -75.1652,
         -14400,
         1526006,
         1698508800,
         1698492283,
         1698530639,
         0.0,
         3.55,
         9.24,
         280,
         3,
         1015,
         null,
         285.55,
         295.26,
         285.55,
         291.26,
         294.52,
         289.51,
         284.46,
         290.48,
         293.97,
         288.9,
         [
          [
           "sky is clear",
           "01d",
           800,
           "Clear"
          ]
         ]
        ],
        [
         4560349,
         "Philadelphia",
         39.9526,
         -75.1652,
         -14400,
         1526006,
         1698595200,
         1698578751,
         1698616964,
         0.87,
         5.58,
         11.39,
         336,
         100,
         1016,
         8.04,
         282.15,
         288.73,
         288.22,
         288.73,
         284.94,
         282.15,
         287.56,
         287.94,
         284.5,
         279.83,
         [
          [
           "moderate rain",
           "10d",
           501,
           "Rain"
          ]
         ]
        ],
        [
         4560349,
         "Philadelphia",
         39.9526,
         -75.1652,
         -14400,
         1526006,
         1698681600,
         1698665219,
         1698703290,
         0.27,
         4.69,
         11.5,
         322,
         2,
         1027,
         null,
         278.5,
         284.64,
         279.24,
         282.03,
         284.24,
         281.16,
         276.03,
         279.94,
         282.37,
         280.43,
         [
          [
           "sky is clear",
           "01d",
           800,
           "Clear"
          ]
         ]
        ]
       ],
       "datasetInfos": [],
       "dbfsResultPath": null,
       "isJsonSchema": true,
       "metadata": {},
       "overflow": false,
       "plotOptions": {
        "customPlotOptions": {},
        "displayType": "table",
        "pivotAggregation": null,
        "pivotColumns": null,
        "xColumns": null,
        "yColumns": null
       },
       "removedWidgets": [],
       "schema": [
        {
         "metadata": "{}",
         "name": "id",
         "type": "\"long\""
        },
        {
         "metadata": "{}",
         "name": "name",
         "type": "\"string\""
        },
        {
         "metadata": "{}",
         "name": "lat",
         "type": "\"double\""
        },
        {
         "metadata": "{}",
         "name": "lon",
         "type": "\"double\""
        },
        {
         "metadata": "{}",
         "name": "timezone",
         "type": "\"long\""
        },
        {
         "metadata": "{}",
         "name": "population",
         "type": "\"long\""
        },
        {
         "metadata": "{}",
         "name": "dt",
         "type": "\"long\""
        },
        {
         "metadata": "{}",
         "name": "sunrise",
         "type": "\"long\""
        },
        {
         "metadata": "{}",
         "name": "sunset",
         "type": "\"long\""
        },
        {
         "metadata": "{}",
         "name": "pop",
         "type": "\"double\""
        },
        {
         "metadata": "{}",
         "name": "speed",
         "type": "\"double\""
        },
        {
         "metadata": "{}",
         "name": "gust",
         "type": "\"double\""
        },
        {
         "metadata": "{}",
         "name": "deg",
         "type": "\"long\""
        },
        {
         "metadata": "{}",
         "name": "clouds",
         "type": "\"long\""
        },
        {
         "metadata": "{}",
         "name": "pressure",
         "type": "\"long\""
        },
        {
         "metadata": "{}",
         "name": "rain",
         "type": "\"double\""
        },
        {
         "metadata": "{}",
         "name": "temp_min",
         "type": "\"double\""
        },
        {
         "metadata": "{}",
         "name": "temp_max",
         "type": "\"double\""
        },
        {
         "metadata": "{}",
         "name": "temp_morn",
         "type": "\"double\""
        },
        {
         "metadata": "{}",
         "name": "temp_day",
         "type": "\"double\""
        },
        {
         "metadata": "{}",
         "name": "temp_eve",
         "type": "\"double\""
        },
        {
         "metadata": "{}",
         "name": "temp_night",
         "type": "\"double\""
        },
        {
         "metadata": "{}",
         "name": "feels_like_morn",
         "type": "\"double\""
        },
        {
         "metadata": "{}",
         "name": "feels_like_day",
         "type": "\"double\""
        },
        {
         "metadata": "{}",
         "name": "feels_like_eve",
         "type": "\"double\""
        },
        {
         "metadata": "{}",
         "name": "feels_like_night",
         "type": "\"double\""
        },
        {
         "metadata": "{}",
         "name": "weather",
         "type": "{\"type\":\"array\",\"elementType\":{\"type\":\"struct\",\"fields\":[{\"name\":\"description\",\"type\":\"string\",\"nullable\":true,\"metadata\":{}},{\"name\":\"icon\",\"type\":\"string\",\"nullable\":true,\"metadata\":{}},{\"name\":\"id\",\"type\":\"long\",\"nullable\":true,\"metadata\":{}},{\"name\":\"main\",\"type\":\"string\",\"nullable\":true,\"metadata\":{}}]},\"containsNull\":true}"
        }
       ],
       "type": "table"
      }
     },
     "output_type": "display_data"
    }
   ],
   "source": [
    "# 4. Store the information from each API request in a Spark DataFrame \n",
    "# and display your dataframe in your notebook \n",
    "# (see the image above and the table schema for examples of how your table should look).\n",
    "days_table = days_df\\\n",
    "    .select(\"city.*\", \"city.coord.*\", \"*\")\\\n",
    "    .withColumn(\"item\", F.explode(F.col(\"list\")))\\\n",
    "    .drop(\"list\")\\\n",
    "    .select(\"*\", \"item.*\")\\\n",
    "    .select(\n",
    "        \"*\",\n",
    "        F.col(\"feels_like.day\").alias(\"feels_like_day\"),\n",
    "        F.col(\"feels_like.eve\").alias(\"feels_like_eve\"),\n",
    "        F.col(\"feels_like.morn\").alias(\"feels_like_morn\"),\n",
    "        F.col(\"feels_like.night\").alias(\"feels_like_night\"),\n",
    "        F.col(\"temp.day\").alias(\"temp_day\"),\n",
    "        F.col(\"temp.eve\").alias(\"temp_eve\"),\n",
    "        F.col(\"temp.morn\").alias(\"temp_morn\"),\n",
    "        F.col(\"temp.night\").alias(\"temp_night\"),\n",
    "        F.col(\"temp.min\").alias(\"temp_min\"),\n",
    "        F.col(\"temp.max\").alias(\"temp_max\"),\n",
    "    )\\\n",
    "    .drop(\"item\")\\\n",
    "    .select([\n",
    "        'id',\n",
    "        'name',\n",
    "        'lat',\n",
    "        'lon',\n",
    "        'timezone',\n",
    "        'population',\n",
    "        'dt',\n",
    "        'sunrise',\n",
    "        'sunset',\n",
    "        'pop',\n",
    "        'speed',\n",
    "        'gust',\n",
    "        'deg',\n",
    "        'clouds',\n",
    "        'pressure',\n",
    "        'rain',\n",
    "        'temp_min',\n",
    "        'temp_max',\n",
    "        'temp_morn',\n",
    "        'temp_day',\n",
    "        'temp_eve',\n",
    "        'temp_night',\n",
    "        'feels_like_morn',\n",
    "        'feels_like_day',\n",
    "        'feels_like_eve',\n",
    "        'feels_like_night',\n",
    "        'weather'\n",
    "    ])\n",
    "    \n",
    "display(days_table)"
   ]
  },
  {
   "cell_type": "code",
   "execution_count": 0,
   "metadata": {
    "application/vnd.databricks.v1+cell": {
     "cellMetadata": {
      "byteLimit": 2048000,
      "rowLimit": 10000
     },
     "inputWidgets": {},
     "nuid": "cfd48142-453a-4b1c-8e77-625d8968bcb2",
     "showTitle": false,
     "title": ""
    }
   },
   "outputs": [
    {
     "output_type": "display_data",
     "data": {
      "text/html": [
       "<style scoped>\n",
       "  .table-result-container {\n",
       "    max-height: 300px;\n",
       "    overflow: auto;\n",
       "  }\n",
       "  table, th, td {\n",
       "    border: 1px solid black;\n",
       "    border-collapse: collapse;\n",
       "  }\n",
       "  th, td {\n",
       "    padding: 5px;\n",
       "  }\n",
       "  th {\n",
       "    text-align: left;\n",
       "  }\n",
       "</style><div class='table-result-container'><table class='table-result'><thead style='background-color: white'><tr><th>id</th><th>lat</th><th>lon</th><th>dt</th><th>wind_speed</th><th>wind_gust</th><th>wind_deg</th><th>clouds_all</th><th>pressure</th><th>rain_1h</th><th>temp_min</th><th>temp_max</th><th>temp</th><th>weather</th></tr></thead><tbody><tr><td>1</td><td>39.9526</td><td>-75.1652</td><td>1692748800</td><td>2.91</td><td>7.36</td><td>22</td><td>99</td><td>1019</td><td>null</td><td>293.15</td><td>297.98</td><td>295.92</td><td>List(List(overcast clouds, 04n, 804, Clouds))</td></tr><tr><td>1</td><td>39.9526</td><td>-75.1652</td><td>1692752400</td><td>2.68</td><td>7.73</td><td>30</td><td>100</td><td>1019</td><td>null</td><td>290.15</td><td>296.21</td><td>293.39</td><td>List(List(overcast clouds, 04n, 804, Clouds))</td></tr><tr><td>1</td><td>39.9526</td><td>-75.1652</td><td>1692756000</td><td>2.23</td><td>7.51</td><td>34</td><td>76</td><td>1019</td><td>null</td><td>288.62</td><td>295.21</td><td>292.37</td><td>List(List(broken clouds, 04n, 803, Clouds))</td></tr><tr><td>1</td><td>39.9526</td><td>-75.1652</td><td>1692759600</td><td>1.36</td><td>4.76</td><td>33</td><td>64</td><td>1019</td><td>null</td><td>287.62</td><td>294.27</td><td>291.4</td><td>List(List(broken clouds, 04n, 803, Clouds))</td></tr><tr><td>1</td><td>39.9526</td><td>-75.1652</td><td>1692763200</td><td>1.15</td><td>3.03</td><td>13</td><td>51</td><td>1019</td><td>null</td><td>286.62</td><td>293.49</td><td>290.61</td><td>List(List(broken clouds, 04n, 803, Clouds))</td></tr><tr><td>1</td><td>39.9526</td><td>-75.1652</td><td>1692766800</td><td>1.24</td><td>2.88</td><td>2</td><td>42</td><td>1019</td><td>null</td><td>286.62</td><td>292.6</td><td>290.09</td><td>List(List(scattered clouds, 03n, 802, Clouds))</td></tr><tr><td>1</td><td>39.9526</td><td>-75.1652</td><td>1692770400</td><td>1.57</td><td>2.89</td><td>346</td><td>39</td><td>1020</td><td>null</td><td>286.62</td><td>292.43</td><td>290.13</td><td>List(List(scattered clouds, 03n, 802, Clouds))</td></tr><tr><td>1</td><td>39.9526</td><td>-75.1652</td><td>1692774000</td><td>3.09</td><td>null</td><td>330</td><td>0</td><td>1020</td><td>null</td><td>286.66</td><td>292.09</td><td>290.24</td><td>List(List(clear sky, 01n, 800, Clear))</td></tr><tr><td>1</td><td>39.9526</td><td>-75.1652</td><td>1692777600</td><td>0.89</td><td>3.58</td><td>331</td><td>3</td><td>1019</td><td>null</td><td>286.15</td><td>291.87</td><td>289.66</td><td>List(List(clear sky, 01n, 800, Clear))</td></tr><tr><td>1</td><td>39.9526</td><td>-75.1652</td><td>1692781200</td><td>0.45</td><td>3.58</td><td>234</td><td>2</td><td>1019</td><td>null</td><td>286.16</td><td>291.27</td><td>289.24</td><td>List(List(clear sky, 01n, 800, Clear))</td></tr><tr><td>1</td><td>39.9526</td><td>-75.1652</td><td>1692784800</td><td>0.45</td><td>0.89</td><td>220</td><td>5</td><td>1020</td><td>null</td><td>285.6</td><td>291.27</td><td>288.99</td><td>List(List(clear sky, 01n, 800, Clear))</td></tr><tr><td>1</td><td>39.9526</td><td>-75.1652</td><td>1692788400</td><td>1.38</td><td>4.31</td><td>14</td><td>8</td><td>1021</td><td>null</td><td>285.75</td><td>291.51</td><td>289.11</td><td>List(List(clear sky, 01d, 800, Clear))</td></tr><tr><td>1</td><td>39.9526</td><td>-75.1652</td><td>1692792000</td><td>0.45</td><td>1.79</td><td>0</td><td>7</td><td>1020</td><td>null</td><td>288.53</td><td>293.27</td><td>291.54</td><td>List(List(clear sky, 01d, 800, Clear))</td></tr><tr><td>1</td><td>39.9526</td><td>-75.1652</td><td>1692795600</td><td>2.49</td><td>3.94</td><td>36</td><td>10</td><td>1020</td><td>null</td><td>290.95</td><td>295.25</td><td>293.37</td><td>List(List(clear sky, 01d, 800, Clear))</td></tr><tr><td>1</td><td>39.9526</td><td>-75.1652</td><td>1692799200</td><td>0.45</td><td>3.58</td><td>71</td><td>44</td><td>1020</td><td>null</td><td>291.81</td><td>296.21</td><td>294.24</td><td>List(List(scattered clouds, 03d, 802, Clouds))</td></tr><tr><td>1</td><td>39.9526</td><td>-75.1652</td><td>1692802800</td><td>2.59</td><td>3.2</td><td>36</td><td>62</td><td>1020</td><td>null</td><td>293.48</td><td>296.97</td><td>295.29</td><td>List(List(broken clouds, 04d, 803, Clouds))</td></tr><tr><td>1</td><td>39.9526</td><td>-75.1652</td><td>1692806400</td><td>0.45</td><td>2.68</td><td>67</td><td>72</td><td>1019</td><td>null</td><td>295.39</td><td>298.83</td><td>297.18</td><td>List(List(broken clouds, 04d, 803, Clouds))</td></tr><tr><td>1</td><td>39.9526</td><td>-75.1652</td><td>1692810000</td><td>1.58</td><td>2.26</td><td>21</td><td>77</td><td>1020</td><td>null</td><td>296.41</td><td>299.85</td><td>297.98</td><td>List(List(broken clouds, 04d, 803, Clouds))</td></tr><tr><td>1</td><td>39.9526</td><td>-75.1652</td><td>1692813600</td><td>1.79</td><td>4.47</td><td>96</td><td>76</td><td>1019</td><td>null</td><td>297.05</td><td>300.65</td><td>299.06</td><td>List(List(broken clouds, 04d, 803, Clouds))</td></tr><tr><td>1</td><td>39.9526</td><td>-75.1652</td><td>1692817200</td><td>2.06</td><td>null</td><td>140</td><td>75</td><td>1018</td><td>null</td><td>297.46</td><td>301.21</td><td>299.56</td><td>List(List(broken clouds, 04d, 803, Clouds))</td></tr><tr><td>1</td><td>39.9526</td><td>-75.1652</td><td>1692820800</td><td>0.45</td><td>2.68</td><td>0</td><td>83</td><td>1018</td><td>null</td><td>296.8</td><td>300.76</td><td>299.13</td><td>List(List(broken clouds, 04d, 803, Clouds))</td></tr><tr><td>1</td><td>39.9526</td><td>-75.1652</td><td>1692824400</td><td>1.27</td><td>1.61</td><td>6</td><td>83</td><td>1017</td><td>null</td><td>296.35</td><td>300.21</td><td>298.62</td><td>List(List(broken clouds, 04d, 803, Clouds))</td></tr><tr><td>1</td><td>39.9526</td><td>-75.1652</td><td>1692828000</td><td>1.22</td><td>1.73</td><td>26</td><td>87</td><td>1016</td><td>null</td><td>295.8</td><td>299.32</td><td>298.05</td><td>List(List(overcast clouds, 04d, 804, Clouds))</td></tr><tr><td>1</td><td>39.9526</td><td>-75.1652</td><td>1692831600</td><td>1.65</td><td>2.76</td><td>67</td><td>90</td><td>1016</td><td>null</td><td>294.69</td><td>298.71</td><td>297.13</td><td>List(List(overcast clouds, 04d, 804, Clouds))</td></tr><tr><td>1</td><td>39.9526</td><td>-75.1652</td><td>1692835200</td><td>0.45</td><td>4.92</td><td>0</td><td>89</td><td>1015</td><td>null</td><td>293.58</td><td>297.38</td><td>295.78</td><td>List(List(overcast clouds, 04n, 804, Clouds))</td></tr><tr><td>1</td><td>39.9526</td><td>-75.1652</td><td>1692838800</td><td>1.79</td><td>6.26</td><td>132</td><td>100</td><td>1017</td><td>null</td><td>292.92</td><td>296.51</td><td>295.08</td><td>List(List(overcast clouds, 04n, 804, Clouds))</td></tr><tr><td>1</td><td>39.9526</td><td>-75.1652</td><td>1692842400</td><td>2.97</td><td>5.71</td><td>149</td><td>96</td><td>1017</td><td>null</td><td>292.97</td><td>295.68</td><td>294.58</td><td>List(List(overcast clouds, 04n, 804, Clouds))</td></tr><tr><td>1</td><td>39.9526</td><td>-75.1652</td><td>1692846000</td><td>2.33</td><td>4.8</td><td>155</td><td>98</td><td>1017</td><td>null</td><td>292.59</td><td>295.35</td><td>294.2</td><td>List(List(overcast clouds, 04n, 804, Clouds))</td></tr><tr><td>1</td><td>39.9526</td><td>-75.1652</td><td>1692849600</td><td>2.06</td><td>null</td><td>150</td><td>100</td><td>1018</td><td>null</td><td>292.14</td><td>294.91</td><td>293.86</td><td>List(List(overcast clouds, 04n, 804, Clouds))</td></tr><tr><td>1</td><td>39.9526</td><td>-75.1652</td><td>1692853200</td><td>1.88</td><td>5.46</td><td>146</td><td>99</td><td>1017</td><td>null</td><td>291.91</td><td>294.54</td><td>293.54</td><td>List(List(overcast clouds, 04n, 804, Clouds))</td></tr><tr><td>1</td><td>39.9526</td><td>-75.1652</td><td>1692856800</td><td>0.89</td><td>4.02</td><td>182</td><td>100</td><td>1018</td><td>null</td><td>291.48</td><td>294.65</td><td>293.42</td><td>List(List(overcast clouds, 04n, 804, Clouds))</td></tr><tr><td>1</td><td>39.9526</td><td>-75.1652</td><td>1692860400</td><td>1.54</td><td>null</td><td>130</td><td>100</td><td>1017</td><td>null</td><td>291.35</td><td>294.29</td><td>293.27</td><td>List(List(overcast clouds, 04n, 804, Clouds))</td></tr><tr><td>1</td><td>39.9526</td><td>-75.1652</td><td>1692864000</td><td>2.15</td><td>5.66</td><td>146</td><td>100</td><td>1017</td><td>null</td><td>291.15</td><td>294.65</td><td>293.29</td><td>List(List(overcast clouds, 04n, 804, Clouds))</td></tr><tr><td>1</td><td>39.9526</td><td>-75.1652</td><td>1692867600</td><td>2.04</td><td>5.66</td><td>149</td><td>100</td><td>1015</td><td>null</td><td>291.03</td><td>294.29</td><td>293.23</td><td>List(List(overcast clouds, 04n, 804, Clouds))</td></tr><tr><td>1</td><td>39.9526</td><td>-75.1652</td><td>1692871200</td><td>2.35</td><td>6.62</td><td>160</td><td>100</td><td>1015</td><td>null</td><td>291.03</td><td>294.35</td><td>293.17</td><td>List(List(overcast clouds, 04n, 804, Clouds))</td></tr><tr><td>1</td><td>39.9526</td><td>-75.1652</td><td>1692874800</td><td>2.53</td><td>6.55</td><td>158</td><td>100</td><td>1016</td><td>null</td><td>291.29</td><td>294.29</td><td>293.23</td><td>List(List(overcast clouds, 04d, 804, Clouds))</td></tr><tr><td>1</td><td>39.9526</td><td>-75.1652</td><td>1692878400</td><td>2.41</td><td>6.48</td><td>156</td><td>100</td><td>1017</td><td>null</td><td>291.48</td><td>294.54</td><td>293.39</td><td>List(List(overcast clouds, 04d, 804, Clouds))</td></tr><tr><td>1</td><td>39.9526</td><td>-75.1652</td><td>1692882000</td><td>0.89</td><td>4.02</td><td>0</td><td>100</td><td>1016</td><td>null</td><td>291.9</td><td>294.8</td><td>293.56</td><td>List(List(overcast clouds, 04d, 804, Clouds))</td></tr><tr><td>1</td><td>39.9526</td><td>-75.1652</td><td>1692885600</td><td>0.89</td><td>3.13</td><td>232</td><td>100</td><td>1017</td><td>null</td><td>292.42</td><td>295.35</td><td>294.03</td><td>List(List(overcast clouds, 04d, 804, Clouds))</td></tr><tr><td>1</td><td>39.9526</td><td>-75.1652</td><td>1692889200</td><td>1.34</td><td>4.47</td><td>156</td><td>100</td><td>1016</td><td>null</td><td>293.15</td><td>296.51</td><td>294.9</td><td>List(List(overcast clouds, 04d, 804, Clouds))</td></tr><tr><td>1</td><td>39.9526</td><td>-75.1652</td><td>1692892800</td><td>1.34</td><td>4.92</td><td>0</td><td>100</td><td>1016</td><td>null</td><td>293.88</td><td>296.57</td><td>295.31</td><td>List(List(overcast clouds, 04d, 804, Clouds))</td></tr><tr><td>1</td><td>39.9526</td><td>-75.1652</td><td>1692896400</td><td>0.89</td><td>2.68</td><td>149</td><td>100</td><td>1016</td><td>null</td><td>294.36</td><td>297.13</td><td>295.74</td><td>List(List(overcast clouds, 04d, 804, Clouds))</td></tr><tr><td>1</td><td>39.9526</td><td>-75.1652</td><td>1692900000</td><td>2.57</td><td>null</td><td>170</td><td>100</td><td>1015</td><td>null</td><td>294.7</td><td>297.68</td><td>296.1</td><td>List(List(overcast clouds, 04d, 804, Clouds))</td></tr><tr><td>1</td><td>39.9526</td><td>-75.1652</td><td>1692903600</td><td>4.12</td><td>null</td><td>140</td><td>100</td><td>1016</td><td>0.34</td><td>294.15</td><td>297.29</td><td>295.79</td><td>List(List(light rain, 10d, 500, Rain))</td></tr><tr><td>1</td><td>39.9526</td><td>-75.1652</td><td>1692907200</td><td>2.57</td><td>null</td><td>150</td><td>100</td><td>1015</td><td>null</td><td>292.66</td><td>296.42</td><td>294.78</td><td>List(List(overcast clouds, 04d, 804, Clouds))</td></tr><tr><td>1</td><td>39.9526</td><td>-75.1652</td><td>1692910800</td><td>0.45</td><td>3.58</td><td>175</td><td>100</td><td>1014</td><td>null</td><td>291.8</td><td>296.97</td><td>294.56</td><td>List(List(overcast clouds, 04d, 804, Clouds))</td></tr><tr><td>1</td><td>39.9526</td><td>-75.1652</td><td>1692914400</td><td>3.85</td><td>10.94</td><td>139</td><td>100</td><td>1015</td><td>null</td><td>292.14</td><td>296.97</td><td>294.77</td><td>List(List(overcast clouds, 04d, 804, Clouds))</td></tr><tr><td>1</td><td>39.9526</td><td>-75.1652</td><td>1692918000</td><td>0.45</td><td>4.47</td><td>233</td><td>100</td><td>1014</td><td>null</td><td>292.14</td><td>296.97</td><td>294.83</td><td>List(List(overcast clouds, 04d, 804, Clouds))</td></tr><tr><td>1</td><td>39.9526</td><td>-75.1652</td><td>1692921600</td><td>0.45</td><td>4.02</td><td>41</td><td>100</td><td>1015</td><td>null</td><td>292.37</td><td>296.36</td><td>294.6</td><td>List(List(overcast clouds, 04n, 804, Clouds))</td></tr><tr><td>1</td><td>39.9526</td><td>-75.1652</td><td>1692925200</td><td>3.74</td><td>11.02</td><td>147</td><td>100</td><td>1015</td><td>null</td><td>292.14</td><td>295.86</td><td>294.27</td><td>List(List(overcast clouds, 04n, 804, Clouds))</td></tr><tr><td>1</td><td>39.9526</td><td>-75.1652</td><td>1692928800</td><td>0.89</td><td>3.58</td><td>157</td><td>100</td><td>1014</td><td>null</td><td>292.16</td><td>295.61</td><td>294.08</td><td>List(List(overcast clouds, 04n, 804, Clouds))</td></tr><tr><td>1</td><td>39.9526</td><td>-75.1652</td><td>1692932400</td><td>1.79</td><td>4.02</td><td>111</td><td>100</td><td>1014</td><td>null</td><td>292.16</td><td>295.91</td><td>294.3</td><td>List(List(overcast clouds, 04n, 804, Clouds))</td></tr><tr><td>1</td><td>39.9526</td><td>-75.1652</td><td>1692936000</td><td>1.34</td><td>3.13</td><td>221</td><td>100</td><td>1013</td><td>null</td><td>292.33</td><td>295.96</td><td>294.28</td><td>List(List(overcast clouds, 04n, 804, Clouds))</td></tr><tr><td>1</td><td>39.9526</td><td>-75.1652</td><td>1692939600</td><td>0.45</td><td>3.13</td><td>3</td><td>98</td><td>1013</td><td>null</td><td>292.33</td><td>295.97</td><td>294.42</td><td>List(List(overcast clouds, 04n, 804, Clouds))</td></tr><tr><td>1</td><td>39.9526</td><td>-75.1652</td><td>1692943200</td><td>0.45</td><td>2.24</td><td>0</td><td>100</td><td>1013</td><td>null</td><td>292.45</td><td>296.21</td><td>294.63</td><td>List(List(overcast clouds, 04n, 804, Clouds))</td></tr><tr><td>1</td><td>39.9526</td><td>-75.1652</td><td>1692946800</td><td>1.54</td><td>null</td><td>150</td><td>100</td><td>1013</td><td>null</td><td>292.69</td><td>296.21</td><td>294.87</td><td>List(List(overcast clouds, 04n, 804, Clouds))</td></tr><tr><td>1</td><td>39.9526</td><td>-75.1652</td><td>1692950400</td><td>0.89</td><td>2.68</td><td>217</td><td>74</td><td>1012</td><td>null</td><td>293.1</td><td>296.21</td><td>295.08</td><td>List(List(broken clouds, 04n, 803, Clouds))</td></tr><tr><td>1</td><td>39.9526</td><td>-75.1652</td><td>1692954000</td><td>2.24</td><td>4.02</td><td>135</td><td>82</td><td>1011</td><td>null</td><td>293.48</td><td>296.21</td><td>295.36</td><td>List(List(broken clouds, 04n, 803, Clouds))</td></tr><tr><td>1</td><td>39.9526</td><td>-75.1652</td><td>1692957600</td><td>2.06</td><td>null</td><td>0</td><td>75</td><td>1011</td><td>null</td><td>293.92</td><td>296.29</td><td>295.25</td><td>List(List(broken clouds, 04n, 803, Clouds))</td></tr><tr><td>1</td><td>39.9526</td><td>-75.1652</td><td>1692961200</td><td>2.26</td><td>8.52</td><td>213</td><td>89</td><td>1012</td><td>null</td><td>293.58</td><td>296.08</td><td>295.18</td><td>List(List(overcast clouds, 04d, 804, Clouds))</td></tr><tr><td>1</td><td>39.9526</td><td>-75.1652</td><td>1692964800</td><td>0.89</td><td>3.58</td><td>174</td><td>93</td><td>1011</td><td>0.42</td><td>293.87</td><td>296.46</td><td>295.33</td><td>List(List(light rain, 10d, 500, Rain))</td></tr><tr><td>1</td><td>39.9526</td><td>-75.1652</td><td>1692968400</td><td>2.57</td><td>null</td><td>170</td><td>100</td><td>1010</td><td>0.37</td><td>294.32</td><td>296.41</td><td>295.49</td><td>List(List(light rain, 10d, 500, Rain))</td></tr><tr><td>1</td><td>39.9526</td><td>-75.1652</td><td>1692972000</td><td>0.89</td><td>3.13</td><td>157</td><td>100</td><td>1010</td><td>null</td><td>294.79</td><td>297.62</td><td>296.23</td><td>List(List(overcast clouds, 04d, 804, Clouds))</td></tr><tr><td>1</td><td>39.9526</td><td>-75.1652</td><td>1692975600</td><td>2.06</td><td>null</td><td>0</td><td>75</td><td>1012</td><td>null</td><td>295.15</td><td>298.97</td><td>297.11</td><td>List(List(broken clouds, 04d, 803, Clouds))</td></tr><tr><td>1</td><td>39.9526</td><td>-75.1652</td><td>1692979200</td><td>3.6</td><td>null</td><td>210</td><td>100</td><td>1010</td><td>null</td><td>296.36</td><td>300.8</td><td>298.36</td><td>List(List(overcast clouds, 04d, 804, Clouds))</td></tr><tr><td>1</td><td>39.9526</td><td>-75.1652</td><td>1692982800</td><td>4.12</td><td>null</td><td>230</td><td>75</td><td>1009</td><td>null</td><td>296.81</td><td>302.21</td><td>299.59</td><td>List(List(broken clouds, 04d, 803, Clouds))</td></tr><tr><td>1</td><td>39.9526</td><td>-75.1652</td><td>1692986400</td><td>3.09</td><td>null</td><td>210</td><td>75</td><td>1010</td><td>null</td><td>298.34</td><td>303.74</td><td>301.08</td><td>List(List(broken clouds, 04d, 803, Clouds))</td></tr><tr><td>1</td><td>39.9526</td><td>-75.1652</td><td>1692990000</td><td>3.6</td><td>null</td><td>250</td><td>75</td><td>1009</td><td>null</td><td>299.59</td><td>303.83</td><td>302.05</td><td>List(List(broken clouds, 04d, 803, Clouds))</td></tr><tr><td>1</td><td>39.9526</td><td>-75.1652</td><td>1692993600</td><td>1.34</td><td>4.02</td><td>292</td><td>63</td><td>1009</td><td>null</td><td>300.92</td><td>304.29</td><td>302.58</td><td>List(List(broken clouds, 04d, 803, Clouds))</td></tr><tr><td>1</td><td>39.9526</td><td>-75.1652</td><td>1692997200</td><td>1.79</td><td>5.36</td><td>219</td><td>55</td><td>1009</td><td>null</td><td>300.66</td><td>304.48</td><td>302.81</td><td>List(List(broken clouds, 04d, 803, Clouds))</td></tr><tr><td>1</td><td>39.9526</td><td>-75.1652</td><td>1693000800</td><td>0.89</td><td>2.24</td><td>29</td><td>51</td><td>1009</td><td>null</td><td>300.25</td><td>304.1</td><td>302.37</td><td>List(List(broken clouds, 04d, 803, Clouds))</td></tr><tr><td>1</td><td>39.9526</td><td>-75.1652</td><td>1693004400</td><td>1.34</td><td>4.02</td><td>192</td><td>42</td><td>1008</td><td>null</td><td>299.13</td><td>303.33</td><td>301.48</td><td>List(List(scattered clouds, 03d, 802, Clouds))</td></tr><tr><td>1</td><td>39.9526</td><td>-75.1652</td><td>1693008000</td><td>0.64</td><td>0.97</td><td>87</td><td>79</td><td>1010</td><td>null</td><td>297.46</td><td>300.94</td><td>299.38</td><td>List(List(broken clouds, 04n, 803, Clouds))</td></tr><tr><td>1</td><td>39.9526</td><td>-75.1652</td><td>1693011600</td><td>1.56</td><td>2.26</td><td>130</td><td>35</td><td>1010</td><td>null</td><td>295.8</td><td>299.6</td><td>298.02</td><td>List(List(scattered clouds, 03n, 802, Clouds))</td></tr><tr><td>1</td><td>39.9526</td><td>-75.1652</td><td>1693015200</td><td>1.98</td><td>4.41</td><td>154</td><td>18</td><td>1010</td><td>null</td><td>295.15</td><td>298.74</td><td>297.15</td><td>List(List(few clouds, 02n, 801, Clouds))</td></tr><tr><td>1</td><td>39.9526</td><td>-75.1652</td><td>1693018800</td><td>1.83</td><td>4.63</td><td>174</td><td>13</td><td>1010</td><td>null</td><td>294.62</td><td>298.18</td><td>296.63</td><td>List(List(few clouds, 02n, 801, Clouds))</td></tr><tr><td>1</td><td>39.9526</td><td>-75.1652</td><td>1693022400</td><td>1.61</td><td>4.25</td><td>183</td><td>18</td><td>1010</td><td>null</td><td>294.36</td><td>297.86</td><td>296.3</td><td>List(List(few clouds, 02n, 801, Clouds))</td></tr><tr><td>1</td><td>39.9526</td><td>-75.1652</td><td>1693026000</td><td>1.01</td><td>2.61</td><td>200</td><td>20</td><td>1010</td><td>null</td><td>294.04</td><td>297.68</td><td>296.15</td><td>List(List(few clouds, 02n, 801, Clouds))</td></tr><tr><td>1</td><td>39.9526</td><td>-75.1652</td><td>1693029600</td><td>0.0</td><td>null</td><td>0</td><td>75</td><td>1010</td><td>null</td><td>294.04</td><td>297.31</td><td>295.93</td><td>List(List(broken clouds, 04n, 803, Clouds))</td></tr><tr><td>1</td><td>39.9526</td><td>-75.1652</td><td>1693033200</td><td>2.06</td><td>null</td><td>160</td><td>40</td><td>1009</td><td>null</td><td>293.61</td><td>297.31</td><td>295.75</td><td>List(List(scattered clouds, 03n, 802, Clouds))</td></tr><tr><td>1</td><td>39.9526</td><td>-75.1652</td><td>1693036800</td><td>0.57</td><td>1.17</td><td>340</td><td>33</td><td>1008</td><td>null</td><td>293.58</td><td>297.01</td><td>295.51</td><td>List(List(scattered clouds, 03n, 802, Clouds))</td></tr><tr><td>1</td><td>39.9526</td><td>-75.1652</td><td>1693040400</td><td>0.0</td><td>null</td><td>0</td><td>40</td><td>1009</td><td>null</td><td>293.25</td><td>296.38</td><td>295.15</td><td>List(List(scattered clouds, 03n, 802, Clouds))</td></tr><tr><td>1</td><td>39.9526</td><td>-75.1652</td><td>1693044000</td><td>1.61</td><td>2.91</td><td>346</td><td>49</td><td>1009</td><td>null</td><td>292.92</td><td>296.21</td><td>294.78</td><td>List(List(scattered clouds, 03n, 802, Clouds))</td></tr><tr><td>1</td><td>39.9526</td><td>-75.1652</td><td>1693047600</td><td>1.79</td><td>4.54</td><td>349</td><td>43</td><td>1008</td><td>null</td><td>293.12</td><td>296.46</td><td>295.03</td><td>List(List(scattered clouds, 03d, 802, Clouds))</td></tr><tr><td>1</td><td>39.9526</td><td>-75.1652</td><td>1693051200</td><td>0.89</td><td>2.24</td><td>113</td><td>35</td><td>1009</td><td>null</td><td>294.03</td><td>297.57</td><td>296.07</td><td>List(List(scattered clouds, 03d, 802, Clouds))</td></tr><tr><td>1</td><td>39.9526</td><td>-75.1652</td><td>1693054800</td><td>2.57</td><td>null</td><td>30</td><td>20</td><td>1010</td><td>null</td><td>295.37</td><td>299.38</td><td>297.86</td><td>List(List(few clouds, 02d, 801, Clouds))</td></tr><tr><td>1</td><td>39.9526</td><td>-75.1652</td><td>1693058400</td><td>5.14</td><td>null</td><td>30</td><td>20</td><td>1010</td><td>null</td><td>297.1</td><td>300.95</td><td>299.38</td><td>List(List(few clouds, 02d, 801, Clouds))</td></tr><tr><td>1</td><td>39.9526</td><td>-75.1652</td><td>1693062000</td><td>1.34</td><td>5.36</td><td>47</td><td>33</td><td>1010</td><td>null</td><td>299.06</td><td>302.62</td><td>300.94</td><td>List(List(scattered clouds, 03d, 802, Clouds))</td></tr><tr><td>1</td><td>39.9526</td><td>-75.1652</td><td>1693065600</td><td>1.34</td><td>6.26</td><td>86</td><td>39</td><td>1009</td><td>null</td><td>300.17</td><td>303.73</td><td>301.96</td><td>List(List(scattered clouds, 03d, 802, Clouds))</td></tr><tr><td>1</td><td>39.9526</td><td>-75.1652</td><td>1693069200</td><td>1.34</td><td>4.47</td><td>88</td><td>43</td><td>1010</td><td>null</td><td>300.37</td><td>304.31</td><td>302.72</td><td>List(List(scattered clouds, 03d, 802, Clouds))</td></tr><tr><td>1</td><td>39.9526</td><td>-75.1652</td><td>1693072800</td><td>4.12</td><td>8.23</td><td>330</td><td>75</td><td>1009</td><td>null</td><td>300.15</td><td>304.45</td><td>302.63</td><td>List(List(broken clouds, 04d, 803, Clouds))</td></tr><tr><td>1</td><td>39.9526</td><td>-75.1652</td><td>1693076400</td><td>5.66</td><td>null</td><td>10</td><td>75</td><td>1009</td><td>null</td><td>300.47</td><td>304.84</td><td>302.83</td><td>List(List(broken clouds, 04d, 803, Clouds))</td></tr><tr><td>1</td><td>39.9526</td><td>-75.1652</td><td>1693080000</td><td>0.89</td><td>4.47</td><td>0</td><td>88</td><td>1008</td><td>null</td><td>300.8</td><td>304.84</td><td>302.94</td><td>List(List(overcast clouds, 04d, 804, Clouds))</td></tr><tr><td>1</td><td>39.9526</td><td>-75.1652</td><td>1693083600</td><td>1.34</td><td>4.47</td><td>277</td><td>68</td><td>1008</td><td>null</td><td>300.75</td><td>304.78</td><td>302.75</td><td>List(List(broken clouds, 04d, 803, Clouds))</td></tr><tr><td>1</td><td>39.9526</td><td>-75.1652</td><td>1693087200</td><td>2.24</td><td>5.36</td><td>352</td><td>53</td><td>1009</td><td>null</td><td>300.37</td><td>303.86</td><td>302.39</td><td>List(List(broken clouds, 04d, 803, Clouds))</td></tr><tr><td>1</td><td>39.9526</td><td>-75.1652</td><td>1693090800</td><td>1.79</td><td>4.47</td><td>288</td><td>44</td><td>1008</td><td>null</td><td>299.2</td><td>302.68</td><td>301.36</td><td>List(List(scattered clouds, 03d, 802, Clouds))</td></tr><tr><td>1</td><td>39.9526</td><td>-75.1652</td><td>1693094400</td><td>0.89</td><td>4.02</td><td>344</td><td>55</td><td>1009</td><td>null</td><td>297.06</td><td>301.46</td><td>299.59</td><td>List(List(broken clouds, 04n, 803, Clouds))</td></tr><tr><td>1</td><td>39.9526</td><td>-75.1652</td><td>1693098000</td><td>0.45</td><td>4.02</td><td>189</td><td>24</td><td>1011</td><td>null</td><td>294.72</td><td>300.21</td><td>297.99</td><td>List(List(few clouds, 02n, 801, Clouds))</td></tr><tr><td>1</td><td>39.9526</td><td>-75.1652</td><td>1693101600</td><td>1.22</td><td>1.85</td><td>5</td><td>54</td><td>1011</td><td>null</td><td>293.28</td><td>299.21</td><td>296.65</td><td>List(List(broken clouds, 04n, 803, Clouds))</td></tr><tr><td>1</td><td>39.9526</td><td>-75.1652</td><td>1693105200</td><td>2.4</td><td>6.74</td><td>11</td><td>43</td><td>1011</td><td>null</td><td>292.62</td><td>298.08</td><td>295.65</td><td>List(List(scattered clouds, 03n, 802, Clouds))</td></tr><tr><td>1</td><td>39.9526</td><td>-75.1652</td><td>1693108800</td><td>2.74</td><td>8.01</td><td>25</td><td>35</td><td>1011</td><td>null</td><td>292.42</td><td>297.04</td><td>294.83</td><td>List(List(scattered clouds, 03n, 802, Clouds))</td></tr><tr><td>1</td><td>39.9526</td><td>-75.1652</td><td>1693112400</td><td>2.3</td><td>7.01</td><td>12</td><td>47</td><td>1011</td><td>null</td><td>291.62</td><td>296.49</td><td>294.16</td><td>List(List(scattered clouds, 03n, 802, Clouds))</td></tr><tr><td>1</td><td>39.9526</td><td>-75.1652</td><td>1693116000</td><td>2.72</td><td>7.69</td><td>10</td><td>44</td><td>1011</td><td>null</td><td>291.31</td><td>295.94</td><td>293.6</td><td>List(List(scattered clouds, 03n, 802, Clouds))</td></tr><tr><td>1</td><td>39.9526</td><td>-75.1652</td><td>1693119600</td><td>2.06</td><td>null</td><td>340</td><td>0</td><td>1012</td><td>null</td><td>290.5</td><td>295.46</td><td>293.23</td><td>List(List(clear sky, 01n, 800, Clear))</td></tr><tr><td>1</td><td>39.9526</td><td>-75.1652</td><td>1693123200</td><td>1.98</td><td>5.79</td><td>4</td><td>97</td><td>1011</td><td>null</td><td>290.25</td><td>294.97</td><td>292.85</td><td>List(List(overcast clouds, 04n, 804, Clouds))</td></tr><tr><td>1</td><td>39.9526</td><td>-75.1652</td><td>1693126800</td><td>2.06</td><td>5.48</td><td>2</td><td>90</td><td>1012</td><td>null</td><td>289.7</td><td>294.9</td><td>292.61</td><td>List(List(overcast clouds, 04n, 804, Clouds))</td></tr><tr><td>1</td><td>39.9526</td><td>-75.1652</td><td>1693130400</td><td>2.17</td><td>5.74</td><td>0</td><td>69</td><td>1012</td><td>null</td><td>289.68</td><td>294.05</td><td>292.08</td><td>List(List(broken clouds, 04n, 803, Clouds))</td></tr><tr><td>1</td><td>39.9526</td><td>-75.1652</td><td>1693134000</td><td>2.36</td><td>6.45</td><td>5</td><td>57</td><td>1013</td><td>null</td><td>289.44</td><td>294.1</td><td>292.04</td><td>List(List(broken clouds, 04d, 803, Clouds))</td></tr><tr><td>1</td><td>39.9526</td><td>-75.1652</td><td>1693137600</td><td>2.72</td><td>5.01</td><td>14</td><td>42</td><td>1013</td><td>null</td><td>291.36</td><td>296.21</td><td>293.81</td><td>List(List(scattered clouds, 03d, 802, Clouds))</td></tr><tr><td>1</td><td>39.9526</td><td>-75.1652</td><td>1693141200</td><td>0.45</td><td>3.58</td><td>49</td><td>6</td><td>1012</td><td>null</td><td>293.87</td><td>298.12</td><td>296.37</td><td>List(List(clear sky, 01d, 800, Clear))</td></tr><tr><td>1</td><td>39.9526</td><td>-75.1652</td><td>1693144800</td><td>1.34</td><td>4.92</td><td>66</td><td>7</td><td>1012</td><td>null</td><td>295.59</td><td>299.94</td><td>298.05</td><td>List(List(clear sky, 01d, 800, Clear))</td></tr><tr><td>1</td><td>39.9526</td><td>-75.1652</td><td>1693148400</td><td>1.79</td><td>4.47</td><td>81</td><td>7</td><td>1013</td><td>null</td><td>297.47</td><td>301.51</td><td>299.65</td><td>List(List(clear sky, 01d, 800, Clear))</td></tr><tr><td>1</td><td>39.9526</td><td>-75.1652</td><td>1693152000</td><td>0.89</td><td>3.58</td><td>96</td><td>7</td><td>1012</td><td>null</td><td>298.72</td><td>302.71</td><td>300.83</td><td>List(List(clear sky, 01d, 800, Clear))</td></tr><tr><td>1</td><td>39.9526</td><td>-75.1652</td><td>1693155600</td><td>1.34</td><td>4.47</td><td>46</td><td>6</td><td>1012</td><td>null</td><td>299.83</td><td>303.76</td><td>301.93</td><td>List(List(clear sky, 01d, 800, Clear))</td></tr><tr><td>1</td><td>39.9526</td><td>-75.1652</td><td>1693159200</td><td>0.89</td><td>4.47</td><td>89</td><td>6</td><td>1012</td><td>null</td><td>300.37</td><td>304.32</td><td>302.59</td><td>List(List(clear sky, 01d, 800, Clear))</td></tr><tr><td>1</td><td>39.9526</td><td>-75.1652</td><td>1693162800</td><td>3.6</td><td>null</td><td>70</td><td>75</td><td>1012</td><td>null</td><td>300.25</td><td>304.41</td><td>302.57</td><td>List(List(broken clouds, 04d, 803, Clouds))</td></tr><tr><td>1</td><td>39.9526</td><td>-75.1652</td><td>1693166400</td><td>2.24</td><td>4.47</td><td>88</td><td>96</td><td>1011</td><td>null</td><td>300.39</td><td>304.35</td><td>302.48</td><td>List(List(overcast clouds, 04d, 804, Clouds))</td></tr><tr><td>1</td><td>39.9526</td><td>-75.1652</td><td>1693170000</td><td>0.89</td><td>2.68</td><td>84</td><td>97</td><td>1011</td><td>null</td><td>300.27</td><td>303.89</td><td>302.11</td><td>List(List(overcast clouds, 04d, 804, Clouds))</td></tr><tr><td>1</td><td>39.9526</td><td>-75.1652</td><td>1693173600</td><td>0.89</td><td>4.02</td><td>74</td><td>98</td><td>1011</td><td>null</td><td>299.71</td><td>303.07</td><td>301.46</td><td>List(List(overcast clouds, 04d, 804, Clouds))</td></tr><tr><td>1</td><td>39.9526</td><td>-75.1652</td><td>1693177200</td><td>0.89</td><td>3.13</td><td>70</td><td>98</td><td>1011</td><td>null</td><td>298.17</td><td>301.57</td><td>300.22</td><td>List(List(overcast clouds, 04d, 804, Clouds))</td></tr><tr><td>1</td><td>39.9526</td><td>-75.1652</td><td>1693180800</td><td>1.34</td><td>4.47</td><td>223</td><td>99</td><td>1012</td><td>null</td><td>296.29</td><td>300.09</td><td>298.68</td><td>List(List(overcast clouds, 04n, 804, Clouds))</td></tr><tr><td>1</td><td>39.9526</td><td>-75.1652</td><td>1693184400</td><td>0.45</td><td>2.68</td><td>128</td><td>100</td><td>1013</td><td>null</td><td>294.68</td><td>299.26</td><td>297.68</td><td>List(List(overcast clouds, 04n, 804, Clouds))</td></tr><tr><td>1</td><td>39.9526</td><td>-75.1652</td><td>1693188000</td><td>1.82</td><td>3.43</td><td>133</td><td>100</td><td>1013</td><td>null</td><td>294.55</td><td>298.71</td><td>297.11</td><td>List(List(overcast clouds, 04n, 804, Clouds))</td></tr><tr><td>1</td><td>39.9526</td><td>-75.1652</td><td>1693191600</td><td>1.43</td><td>2.51</td><td>124</td><td>100</td><td>1014</td><td>null</td><td>293.7</td><td>297.68</td><td>296.06</td><td>List(List(overcast clouds, 04n, 804, Clouds))</td></tr><tr><td>1</td><td>39.9526</td><td>-75.1652</td><td>1693195200</td><td>1.8</td><td>3.12</td><td>109</td><td>100</td><td>1014</td><td>null</td><td>292.6</td><td>297.6</td><td>295.54</td><td>List(List(overcast clouds, 04n, 804, Clouds))</td></tr><tr><td>1</td><td>39.9526</td><td>-75.1652</td><td>1693198800</td><td>1.48</td><td>3.02</td><td>118</td><td>100</td><td>1014</td><td>null</td><td>292.12</td><td>297.01</td><td>294.66</td><td>List(List(overcast clouds, 04n, 804, Clouds))</td></tr><tr><td>1</td><td>39.9526</td><td>-75.1652</td><td>1693202400</td><td>0.0</td><td>null</td><td>0</td><td>75</td><td>1015</td><td>null</td><td>292.01</td><td>296.45</td><td>294.39</td><td>List(List(broken clouds, 04n, 803, Clouds))</td></tr><tr><td>1</td><td>39.9526</td><td>-75.1652</td><td>1693206000</td><td>2.57</td><td>null</td><td>80</td><td>100</td><td>1014</td><td>null</td><td>291.29</td><td>296.27</td><td>294.31</td><td>List(List(overcast clouds, 04n, 804, Clouds))</td></tr><tr><td>1</td><td>39.9526</td><td>-75.1652</td><td>1693209600</td><td>0.45</td><td>1.79</td><td>101</td><td>99</td><td>1014</td><td>null</td><td>291.29</td><td>295.97</td><td>294.08</td><td>List(List(overcast clouds, 04n, 804, Clouds))</td></tr><tr><td>1</td><td>39.9526</td><td>-75.1652</td><td>1693213200</td><td>0.89</td><td>3.58</td><td>134</td><td>97</td><td>1014</td><td>null</td><td>291.29</td><td>295.21</td><td>293.83</td><td>List(List(overcast clouds, 04n, 804, Clouds))</td></tr><tr><td>1</td><td>39.9526</td><td>-75.1652</td><td>1693216800</td><td>3.6</td><td>null</td><td>60</td><td>75</td><td>1014</td><td>null</td><td>291.16</td><td>295.21</td><td>293.59</td><td>List(List(broken clouds, 04n, 803, Clouds))</td></tr><tr><td>1</td><td>39.9526</td><td>-75.1652</td><td>1693220400</td><td>3.09</td><td>null</td><td>80</td><td>75</td><td>1015</td><td>null</td><td>291.35</td><td>294.91</td><td>293.53</td><td>List(List(broken clouds, 04d, 803, Clouds))</td></tr><tr><td>1</td><td>39.9526</td><td>-75.1652</td><td>1693224000</td><td>4.12</td><td>null</td><td>80</td><td>75</td><td>1015</td><td>null</td><td>292.59</td><td>295.4</td><td>294.42</td><td>List(List(broken clouds, 04d, 803, Clouds))</td></tr><tr><td>1</td><td>39.9526</td><td>-75.1652</td><td>1693227600</td><td>4.63</td><td>null</td><td>100</td><td>100</td><td>1016</td><td>null</td><td>294.09</td><td>296.57</td><td>295.54</td><td>List(List(overcast clouds, 04d, 804, Clouds))</td></tr><tr><td>1</td><td>39.9526</td><td>-75.1652</td><td>1693231200</td><td>5.14</td><td>null</td><td>90</td><td>100</td><td>1015</td><td>null</td><td>295.2</td><td>297.65</td><td>296.59</td><td>List(List(overcast clouds, 04d, 804, Clouds))</td></tr><tr><td>1</td><td>39.9526</td><td>-75.1652</td><td>1693234800</td><td>1.34</td><td>5.81</td><td>158</td><td>100</td><td>1015</td><td>null</td><td>296.03</td><td>299.26</td><td>297.82</td><td>List(List(overcast clouds, 04d, 804, Clouds))</td></tr><tr><td>1</td><td>39.9526</td><td>-75.1652</td><td>1693238400</td><td>6.69</td><td>null</td><td>80</td><td>40</td><td>1015</td><td>null</td><td>297.2</td><td>300.4</td><td>299.11</td><td>List(List(scattered clouds, 03d, 802, Clouds))</td></tr><tr><td>1</td><td>39.9526</td><td>-75.1652</td><td>1693242000</td><td>1.34</td><td>4.47</td><td>70</td><td>100</td><td>1015</td><td>null</td><td>297.91</td><td>301.14</td><td>299.76</td><td>List(List(overcast clouds, 04d, 804, Clouds))</td></tr><tr><td>1</td><td>39.9526</td><td>-75.1652</td><td>1693245600</td><td>5.14</td><td>null</td><td>100</td><td>75</td><td>1015</td><td>null</td><td>297.91</td><td>301.21</td><td>299.8</td><td>List(List(broken clouds, 04d, 803, Clouds))</td></tr><tr><td>1</td><td>39.9526</td><td>-75.1652</td><td>1693249200</td><td>5.14</td><td>null</td><td>130</td><td>100</td><td>1015</td><td>null</td><td>297.67</td><td>300.65</td><td>299.44</td><td>List(List(overcast clouds, 04d, 804, Clouds))</td></tr><tr><td>1</td><td>39.9526</td><td>-75.1652</td><td>1693252800</td><td>1.34</td><td>3.58</td><td>140</td><td>100</td><td>1014</td><td>null</td><td>297.01</td><td>300.4</td><td>298.86</td><td>List(List(overcast clouds, 04d, 804, Clouds))</td></tr><tr><td>1</td><td>39.9526</td><td>-75.1652</td><td>1693256400</td><td>4.63</td><td>null</td><td>140</td><td>40</td><td>1015</td><td>null</td><td>296.81</td><td>299.91</td><td>298.35</td><td>List(List(scattered clouds, 03d, 802, Clouds))</td></tr><tr><td>1</td><td>39.9526</td><td>-75.1652</td><td>1693260000</td><td>0.89</td><td>3.58</td><td>145</td><td>100</td><td>1015</td><td>null</td><td>296.41</td><td>299.1</td><td>297.87</td><td>List(List(overcast clouds, 04d, 804, Clouds))</td></tr><tr><td>1</td><td>39.9526</td><td>-75.1652</td><td>1693263600</td><td>0.45</td><td>2.24</td><td>138</td><td>100</td><td>1014</td><td>null</td><td>295.47</td><td>298.23</td><td>297.05</td><td>List(List(overcast clouds, 04d, 804, Clouds))</td></tr><tr><td>1</td><td>39.9526</td><td>-75.1652</td><td>1693267200</td><td>0.89</td><td>4.02</td><td>71</td><td>100</td><td>1015</td><td>null</td><td>294.34</td><td>297.43</td><td>296.12</td><td>List(List(overcast clouds, 04n, 804, Clouds))</td></tr><tr><td>1</td><td>39.9526</td><td>-75.1652</td><td>1693270800</td><td>1.34</td><td>4.47</td><td>0</td><td>100</td><td>1015</td><td>null</td><td>293.57</td><td>296.54</td><td>295.43</td><td>List(List(overcast clouds, 04n, 804, Clouds))</td></tr><tr><td>1</td><td>39.9526</td><td>-75.1652</td><td>1693274400</td><td>1.34</td><td>4.02</td><td>123</td><td>100</td><td>1015</td><td>null</td><td>293.01</td><td>296.21</td><td>294.91</td><td>List(List(overcast clouds, 04n, 804, Clouds))</td></tr><tr><td>1</td><td>39.9526</td><td>-75.1652</td><td>1693278000</td><td>1.34</td><td>3.13</td><td>84</td><td>100</td><td>1015</td><td>null</td><td>292.46</td><td>295.96</td><td>294.63</td><td>List(List(overcast clouds, 04n, 804, Clouds))</td></tr><tr><td>1</td><td>39.9526</td><td>-75.1652</td><td>1693281600</td><td>0.89</td><td>3.13</td><td>98</td><td>100</td><td>1015</td><td>null</td><td>292.14</td><td>295.46</td><td>294.33</td><td>List(List(overcast clouds, 04n, 804, Clouds))</td></tr><tr><td>1</td><td>39.9526</td><td>-75.1652</td><td>1693285200</td><td>3.6</td><td>null</td><td>70</td><td>100</td><td>1015</td><td>null</td><td>292.15</td><td>295.4</td><td>294.18</td><td>List(List(overcast clouds, 04n, 804, Clouds))</td></tr><tr><td>1</td><td>39.9526</td><td>-75.1652</td><td>1693288800</td><td>3.6</td><td>null</td><td>70</td><td>100</td><td>1015</td><td>null</td><td>292.15</td><td>295.4</td><td>294.05</td><td>List(List(overcast clouds, 04n, 804, Clouds))</td></tr><tr><td>1</td><td>39.9526</td><td>-75.1652</td><td>1693292400</td><td>3.6</td><td>null</td><td>70</td><td>100</td><td>1014</td><td>null</td><td>291.9</td><td>295.25</td><td>293.8</td><td>List(List(overcast clouds, 04n, 804, Clouds))</td></tr><tr><td>1</td><td>39.9526</td><td>-75.1652</td><td>1693296000</td><td>2.57</td><td>null</td><td>70</td><td>100</td><td>1014</td><td>null</td><td>291.91</td><td>295.09</td><td>293.6</td><td>List(List(overcast clouds, 04n, 804, Clouds))</td></tr><tr><td>1</td><td>39.9526</td><td>-75.1652</td><td>1693299600</td><td>1.79</td><td>3.58</td><td>38</td><td>93</td><td>1013</td><td>null</td><td>291.81</td><td>294.69</td><td>293.56</td><td>List(List(overcast clouds, 04n, 804, Clouds))</td></tr><tr><td>1</td><td>39.9526</td><td>-75.1652</td><td>1693303200</td><td>3.6</td><td>null</td><td>30</td><td>100</td><td>1013</td><td>null</td><td>292.27</td><td>294.82</td><td>293.63</td><td>List(List(overcast clouds, 04n, 804, Clouds))</td></tr><tr><td>1</td><td>39.9526</td><td>-75.1652</td><td>1693306800</td><td>3.6</td><td>null</td><td>60</td><td>100</td><td>1014</td><td>null</td><td>292.2</td><td>294.65</td><td>293.65</td><td>List(List(overcast clouds, 04d, 804, Clouds))</td></tr><tr><td>1</td><td>39.9526</td><td>-75.1652</td><td>1693310400</td><td>3.09</td><td>null</td><td>40</td><td>100</td><td>1014</td><td>null</td><td>292.82</td><td>295.21</td><td>294.16</td><td>List(List(overcast clouds, 04d, 804, Clouds))</td></tr><tr><td>1</td><td>39.9526</td><td>-75.1652</td><td>1693314000</td><td>2.68</td><td>4.92</td><td>0</td><td>100</td><td>1013</td><td>null</td><td>293.41</td><td>296.04</td><td>294.83</td><td>List(List(overcast clouds, 04d, 804, Clouds))</td></tr><tr><td>1</td><td>39.9526</td><td>-75.1652</td><td>1693317600</td><td>3.6</td><td>null</td><td>60</td><td>100</td><td>1014</td><td>null</td><td>293.99</td><td>297.07</td><td>295.58</td><td>List(List(overcast clouds, 04d, 804, Clouds))</td></tr><tr><td>1</td><td>39.9526</td><td>-75.1652</td><td>1693321200</td><td>0.89</td><td>3.58</td><td>80</td><td>100</td><td>1013</td><td>null</td><td>295.1</td><td>297.65</td><td>296.48</td><td>List(List(overcast clouds, 04d, 804, Clouds))</td></tr><tr><td>1</td><td>39.9526</td><td>-75.1652</td><td>1693324800</td><td>4.12</td><td>null</td><td>80</td><td>100</td><td>1014</td><td>null</td><td>296.22</td><td>298.8</td><td>297.4</td><td>List(List(overcast clouds, 04d, 804, Clouds))</td></tr><tr><td>1</td><td>39.9526</td><td>-75.1652</td><td>1693328400</td><td>0.45</td><td>1.79</td><td>121</td><td>100</td><td>1013</td><td>null</td><td>296.61</td><td>299.74</td><td>298.12</td><td>List(List(overcast clouds, 04d, 804, Clouds))</td></tr><tr><td>1</td><td>39.9526</td><td>-75.1652</td><td>1693332000</td><td>2.06</td><td>null</td><td>100</td><td>100</td><td>1013</td><td>null</td><td>297.14</td><td>300.13</td><td>298.57</td><td>List(List(overcast clouds, 04d, 804, Clouds))</td></tr><tr><td>1</td><td>39.9526</td><td>-75.1652</td><td>1693335600</td><td>3.09</td><td>null</td><td>40</td><td>100</td><td>1012</td><td>null</td><td>297.66</td><td>300.68</td><td>298.79</td><td>List(List(overcast clouds, 04d, 804, Clouds))</td></tr><tr><td>1</td><td>39.9526</td><td>-75.1652</td><td>1693339200</td><td>2.06</td><td>null</td><td>30</td><td>100</td><td>1011</td><td>null</td><td>297.37</td><td>300.75</td><td>298.83</td><td>List(List(overcast clouds, 04d, 804, Clouds))</td></tr><tr><td>1</td><td>39.9526</td><td>-75.1652</td><td>1693342800</td><td>0.89</td><td>2.68</td><td>63</td><td>100</td><td>1010</td><td>null</td><td>297.66</td><td>300.6</td><td>298.88</td><td>List(List(overcast clouds, 04d, 804, Clouds))</td></tr><tr><td>1</td><td>39.9526</td><td>-75.1652</td><td>1693346400</td><td>2.3</td><td>3.96</td><td>112</td><td>100</td><td>1009</td><td>null</td><td>297.25</td><td>299.97</td><td>298.55</td><td>List(List(overcast clouds, 04d, 804, Clouds))</td></tr><tr><td>1</td><td>39.9526</td><td>-75.1652</td><td>1693350000</td><td>0.45</td><td>1.79</td><td>101</td><td>100</td><td>1009</td><td>null</td><td>296.56</td><td>299.29</td><td>298.01</td><td>List(List(overcast clouds, 04d, 804, Clouds))</td></tr><tr><td>1</td><td>39.9526</td><td>-75.1652</td><td>1693353600</td><td>0.45</td><td>1.79</td><td>123</td><td>99</td><td>1009</td><td>null</td><td>296.03</td><td>298.74</td><td>297.53</td><td>List(List(overcast clouds, 04n, 804, Clouds))</td></tr></tbody></table></div>"
      ]
     },
     "metadata": {
      "application/vnd.databricks.v1+output": {
       "addedWidgets": {},
       "aggData": [],
       "aggError": "",
       "aggOverflow": false,
       "aggSchema": [],
       "aggSeriesLimitReached": false,
       "aggType": "",
       "arguments": {},
       "columnCustomDisplayInfos": {},
       "data": [
        [
         1,
         39.9526,
         -75.1652,
         1692748800,
         2.91,
         7.36,
         22,
         99,
         1019,
         null,
         293.15,
         297.98,
         295.92,
         [
          [
           "overcast clouds",
           "04n",
           804,
           "Clouds"
          ]
         ]
        ],
        [
         1,
         39.9526,
         -75.1652,
         1692752400,
         2.68,
         7.73,
         30,
         100,
         1019,
         null,
         290.15,
         296.21,
         293.39,
         [
          [
           "overcast clouds",
           "04n",
           804,
           "Clouds"
          ]
         ]
        ],
        [
         1,
         39.9526,
         -75.1652,
         1692756000,
         2.23,
         7.51,
         34,
         76,
         1019,
         null,
         288.62,
         295.21,
         292.37,
         [
          [
           "broken clouds",
           "04n",
           803,
           "Clouds"
          ]
         ]
        ],
        [
         1,
         39.9526,
         -75.1652,
         1692759600,
         1.36,
         4.76,
         33,
         64,
         1019,
         null,
         287.62,
         294.27,
         291.4,
         [
          [
           "broken clouds",
           "04n",
           803,
           "Clouds"
          ]
         ]
        ],
        [
         1,
         39.9526,
         -75.1652,
         1692763200,
         1.15,
         3.03,
         13,
         51,
         1019,
         null,
         286.62,
         293.49,
         290.61,
         [
          [
           "broken clouds",
           "04n",
           803,
           "Clouds"
          ]
         ]
        ],
        [
         1,
         39.9526,
         -75.1652,
         1692766800,
         1.24,
         2.88,
         2,
         42,
         1019,
         null,
         286.62,
         292.6,
         290.09,
         [
          [
           "scattered clouds",
           "03n",
           802,
           "Clouds"
          ]
         ]
        ],
        [
         1,
         39.9526,
         -75.1652,
         1692770400,
         1.57,
         2.89,
         346,
         39,
         1020,
         null,
         286.62,
         292.43,
         290.13,
         [
          [
           "scattered clouds",
           "03n",
           802,
           "Clouds"
          ]
         ]
        ],
        [
         1,
         39.9526,
         -75.1652,
         1692774000,
         3.09,
         null,
         330,
         0,
         1020,
         null,
         286.66,
         292.09,
         290.24,
         [
          [
           "clear sky",
           "01n",
           800,
           "Clear"
          ]
         ]
        ],
        [
         1,
         39.9526,
         -75.1652,
         1692777600,
         0.89,
         3.58,
         331,
         3,
         1019,
         null,
         286.15,
         291.87,
         289.66,
         [
          [
           "clear sky",
           "01n",
           800,
           "Clear"
          ]
         ]
        ],
        [
         1,
         39.9526,
         -75.1652,
         1692781200,
         0.45,
         3.58,
         234,
         2,
         1019,
         null,
         286.16,
         291.27,
         289.24,
         [
          [
           "clear sky",
           "01n",
           800,
           "Clear"
          ]
         ]
        ],
        [
         1,
         39.9526,
         -75.1652,
         1692784800,
         0.45,
         0.89,
         220,
         5,
         1020,
         null,
         285.6,
         291.27,
         288.99,
         [
          [
           "clear sky",
           "01n",
           800,
           "Clear"
          ]
         ]
        ],
        [
         1,
         39.9526,
         -75.1652,
         1692788400,
         1.38,
         4.31,
         14,
         8,
         1021,
         null,
         285.75,
         291.51,
         289.11,
         [
          [
           "clear sky",
           "01d",
           800,
           "Clear"
          ]
         ]
        ],
        [
         1,
         39.9526,
         -75.1652,
         1692792000,
         0.45,
         1.79,
         0,
         7,
         1020,
         null,
         288.53,
         293.27,
         291.54,
         [
          [
           "clear sky",
           "01d",
           800,
           "Clear"
          ]
         ]
        ],
        [
         1,
         39.9526,
         -75.1652,
         1692795600,
         2.49,
         3.94,
         36,
         10,
         1020,
         null,
         290.95,
         295.25,
         293.37,
         [
          [
           "clear sky",
           "01d",
           800,
           "Clear"
          ]
         ]
        ],
        [
         1,
         39.9526,
         -75.1652,
         1692799200,
         0.45,
         3.58,
         71,
         44,
         1020,
         null,
         291.81,
         296.21,
         294.24,
         [
          [
           "scattered clouds",
           "03d",
           802,
           "Clouds"
          ]
         ]
        ],
        [
         1,
         39.9526,
         -75.1652,
         1692802800,
         2.59,
         3.2,
         36,
         62,
         1020,
         null,
         293.48,
         296.97,
         295.29,
         [
          [
           "broken clouds",
           "04d",
           803,
           "Clouds"
          ]
         ]
        ],
        [
         1,
         39.9526,
         -75.1652,
         1692806400,
         0.45,
         2.68,
         67,
         72,
         1019,
         null,
         295.39,
         298.83,
         297.18,
         [
          [
           "broken clouds",
           "04d",
           803,
           "Clouds"
          ]
         ]
        ],
        [
         1,
         39.9526,
         -75.1652,
         1692810000,
         1.58,
         2.26,
         21,
         77,
         1020,
         null,
         296.41,
         299.85,
         297.98,
         [
          [
           "broken clouds",
           "04d",
           803,
           "Clouds"
          ]
         ]
        ],
        [
         1,
         39.9526,
         -75.1652,
         1692813600,
         1.79,
         4.47,
         96,
         76,
         1019,
         null,
         297.05,
         300.65,
         299.06,
         [
          [
           "broken clouds",
           "04d",
           803,
           "Clouds"
          ]
         ]
        ],
        [
         1,
         39.9526,
         -75.1652,
         1692817200,
         2.06,
         null,
         140,
         75,
         1018,
         null,
         297.46,
         301.21,
         299.56,
         [
          [
           "broken clouds",
           "04d",
           803,
           "Clouds"
          ]
         ]
        ],
        [
         1,
         39.9526,
         -75.1652,
         1692820800,
         0.45,
         2.68,
         0,
         83,
         1018,
         null,
         296.8,
         300.76,
         299.13,
         [
          [
           "broken clouds",
           "04d",
           803,
           "Clouds"
          ]
         ]
        ],
        [
         1,
         39.9526,
         -75.1652,
         1692824400,
         1.27,
         1.61,
         6,
         83,
         1017,
         null,
         296.35,
         300.21,
         298.62,
         [
          [
           "broken clouds",
           "04d",
           803,
           "Clouds"
          ]
         ]
        ],
        [
         1,
         39.9526,
         -75.1652,
         1692828000,
         1.22,
         1.73,
         26,
         87,
         1016,
         null,
         295.8,
         299.32,
         298.05,
         [
          [
           "overcast clouds",
           "04d",
           804,
           "Clouds"
          ]
         ]
        ],
        [
         1,
         39.9526,
         -75.1652,
         1692831600,
         1.65,
         2.76,
         67,
         90,
         1016,
         null,
         294.69,
         298.71,
         297.13,
         [
          [
           "overcast clouds",
           "04d",
           804,
           "Clouds"
          ]
         ]
        ],
        [
         1,
         39.9526,
         -75.1652,
         1692835200,
         0.45,
         4.92,
         0,
         89,
         1015,
         null,
         293.58,
         297.38,
         295.78,
         [
          [
           "overcast clouds",
           "04n",
           804,
           "Clouds"
          ]
         ]
        ],
        [
         1,
         39.9526,
         -75.1652,
         1692838800,
         1.79,
         6.26,
         132,
         100,
         1017,
         null,
         292.92,
         296.51,
         295.08,
         [
          [
           "overcast clouds",
           "04n",
           804,
           "Clouds"
          ]
         ]
        ],
        [
         1,
         39.9526,
         -75.1652,
         1692842400,
         2.97,
         5.71,
         149,
         96,
         1017,
         null,
         292.97,
         295.68,
         294.58,
         [
          [
           "overcast clouds",
           "04n",
           804,
           "Clouds"
          ]
         ]
        ],
        [
         1,
         39.9526,
         -75.1652,
         1692846000,
         2.33,
         4.8,
         155,
         98,
         1017,
         null,
         292.59,
         295.35,
         294.2,
         [
          [
           "overcast clouds",
           "04n",
           804,
           "Clouds"
          ]
         ]
        ],
        [
         1,
         39.9526,
         -75.1652,
         1692849600,
         2.06,
         null,
         150,
         100,
         1018,
         null,
         292.14,
         294.91,
         293.86,
         [
          [
           "overcast clouds",
           "04n",
           804,
           "Clouds"
          ]
         ]
        ],
        [
         1,
         39.9526,
         -75.1652,
         1692853200,
         1.88,
         5.46,
         146,
         99,
         1017,
         null,
         291.91,
         294.54,
         293.54,
         [
          [
           "overcast clouds",
           "04n",
           804,
           "Clouds"
          ]
         ]
        ],
        [
         1,
         39.9526,
         -75.1652,
         1692856800,
         0.89,
         4.02,
         182,
         100,
         1018,
         null,
         291.48,
         294.65,
         293.42,
         [
          [
           "overcast clouds",
           "04n",
           804,
           "Clouds"
          ]
         ]
        ],
        [
         1,
         39.9526,
         -75.1652,
         1692860400,
         1.54,
         null,
         130,
         100,
         1017,
         null,
         291.35,
         294.29,
         293.27,
         [
          [
           "overcast clouds",
           "04n",
           804,
           "Clouds"
          ]
         ]
        ],
        [
         1,
         39.9526,
         -75.1652,
         1692864000,
         2.15,
         5.66,
         146,
         100,
         1017,
         null,
         291.15,
         294.65,
         293.29,
         [
          [
           "overcast clouds",
           "04n",
           804,
           "Clouds"
          ]
         ]
        ],
        [
         1,
         39.9526,
         -75.1652,
         1692867600,
         2.04,
         5.66,
         149,
         100,
         1015,
         null,
         291.03,
         294.29,
         293.23,
         [
          [
           "overcast clouds",
           "04n",
           804,
           "Clouds"
          ]
         ]
        ],
        [
         1,
         39.9526,
         -75.1652,
         1692871200,
         2.35,
         6.62,
         160,
         100,
         1015,
         null,
         291.03,
         294.35,
         293.17,
         [
          [
           "overcast clouds",
           "04n",
           804,
           "Clouds"
          ]
         ]
        ],
        [
         1,
         39.9526,
         -75.1652,
         1692874800,
         2.53,
         6.55,
         158,
         100,
         1016,
         null,
         291.29,
         294.29,
         293.23,
         [
          [
           "overcast clouds",
           "04d",
           804,
           "Clouds"
          ]
         ]
        ],
        [
         1,
         39.9526,
         -75.1652,
         1692878400,
         2.41,
         6.48,
         156,
         100,
         1017,
         null,
         291.48,
         294.54,
         293.39,
         [
          [
           "overcast clouds",
           "04d",
           804,
           "Clouds"
          ]
         ]
        ],
        [
         1,
         39.9526,
         -75.1652,
         1692882000,
         0.89,
         4.02,
         0,
         100,
         1016,
         null,
         291.9,
         294.8,
         293.56,
         [
          [
           "overcast clouds",
           "04d",
           804,
           "Clouds"
          ]
         ]
        ],
        [
         1,
         39.9526,
         -75.1652,
         1692885600,
         0.89,
         3.13,
         232,
         100,
         1017,
         null,
         292.42,
         295.35,
         294.03,
         [
          [
           "overcast clouds",
           "04d",
           804,
           "Clouds"
          ]
         ]
        ],
        [
         1,
         39.9526,
         -75.1652,
         1692889200,
         1.34,
         4.47,
         156,
         100,
         1016,
         null,
         293.15,
         296.51,
         294.9,
         [
          [
           "overcast clouds",
           "04d",
           804,
           "Clouds"
          ]
         ]
        ],
        [
         1,
         39.9526,
         -75.1652,
         1692892800,
         1.34,
         4.92,
         0,
         100,
         1016,
         null,
         293.88,
         296.57,
         295.31,
         [
          [
           "overcast clouds",
           "04d",
           804,
           "Clouds"
          ]
         ]
        ],
        [
         1,
         39.9526,
         -75.1652,
         1692896400,
         0.89,
         2.68,
         149,
         100,
         1016,
         null,
         294.36,
         297.13,
         295.74,
         [
          [
           "overcast clouds",
           "04d",
           804,
           "Clouds"
          ]
         ]
        ],
        [
         1,
         39.9526,
         -75.1652,
         1692900000,
         2.57,
         null,
         170,
         100,
         1015,
         null,
         294.7,
         297.68,
         296.1,
         [
          [
           "overcast clouds",
           "04d",
           804,
           "Clouds"
          ]
         ]
        ],
        [
         1,
         39.9526,
         -75.1652,
         1692903600,
         4.12,
         null,
         140,
         100,
         1016,
         0.34,
         294.15,
         297.29,
         295.79,
         [
          [
           "light rain",
           "10d",
           500,
           "Rain"
          ]
         ]
        ],
        [
         1,
         39.9526,
         -75.1652,
         1692907200,
         2.57,
         null,
         150,
         100,
         1015,
         null,
         292.66,
         296.42,
         294.78,
         [
          [
           "overcast clouds",
           "04d",
           804,
           "Clouds"
          ]
         ]
        ],
        [
         1,
         39.9526,
         -75.1652,
         1692910800,
         0.45,
         3.58,
         175,
         100,
         1014,
         null,
         291.8,
         296.97,
         294.56,
         [
          [
           "overcast clouds",
           "04d",
           804,
           "Clouds"
          ]
         ]
        ],
        [
         1,
         39.9526,
         -75.1652,
         1692914400,
         3.85,
         10.94,
         139,
         100,
         1015,
         null,
         292.14,
         296.97,
         294.77,
         [
          [
           "overcast clouds",
           "04d",
           804,
           "Clouds"
          ]
         ]
        ],
        [
         1,
         39.9526,
         -75.1652,
         1692918000,
         0.45,
         4.47,
         233,
         100,
         1014,
         null,
         292.14,
         296.97,
         294.83,
         [
          [
           "overcast clouds",
           "04d",
           804,
           "Clouds"
          ]
         ]
        ],
        [
         1,
         39.9526,
         -75.1652,
         1692921600,
         0.45,
         4.02,
         41,
         100,
         1015,
         null,
         292.37,
         296.36,
         294.6,
         [
          [
           "overcast clouds",
           "04n",
           804,
           "Clouds"
          ]
         ]
        ],
        [
         1,
         39.9526,
         -75.1652,
         1692925200,
         3.74,
         11.02,
         147,
         100,
         1015,
         null,
         292.14,
         295.86,
         294.27,
         [
          [
           "overcast clouds",
           "04n",
           804,
           "Clouds"
          ]
         ]
        ],
        [
         1,
         39.9526,
         -75.1652,
         1692928800,
         0.89,
         3.58,
         157,
         100,
         1014,
         null,
         292.16,
         295.61,
         294.08,
         [
          [
           "overcast clouds",
           "04n",
           804,
           "Clouds"
          ]
         ]
        ],
        [
         1,
         39.9526,
         -75.1652,
         1692932400,
         1.79,
         4.02,
         111,
         100,
         1014,
         null,
         292.16,
         295.91,
         294.3,
         [
          [
           "overcast clouds",
           "04n",
           804,
           "Clouds"
          ]
         ]
        ],
        [
         1,
         39.9526,
         -75.1652,
         1692936000,
         1.34,
         3.13,
         221,
         100,
         1013,
         null,
         292.33,
         295.96,
         294.28,
         [
          [
           "overcast clouds",
           "04n",
           804,
           "Clouds"
          ]
         ]
        ],
        [
         1,
         39.9526,
         -75.1652,
         1692939600,
         0.45,
         3.13,
         3,
         98,
         1013,
         null,
         292.33,
         295.97,
         294.42,
         [
          [
           "overcast clouds",
           "04n",
           804,
           "Clouds"
          ]
         ]
        ],
        [
         1,
         39.9526,
         -75.1652,
         1692943200,
         0.45,
         2.24,
         0,
         100,
         1013,
         null,
         292.45,
         296.21,
         294.63,
         [
          [
           "overcast clouds",
           "04n",
           804,
           "Clouds"
          ]
         ]
        ],
        [
         1,
         39.9526,
         -75.1652,
         1692946800,
         1.54,
         null,
         150,
         100,
         1013,
         null,
         292.69,
         296.21,
         294.87,
         [
          [
           "overcast clouds",
           "04n",
           804,
           "Clouds"
          ]
         ]
        ],
        [
         1,
         39.9526,
         -75.1652,
         1692950400,
         0.89,
         2.68,
         217,
         74,
         1012,
         null,
         293.1,
         296.21,
         295.08,
         [
          [
           "broken clouds",
           "04n",
           803,
           "Clouds"
          ]
         ]
        ],
        [
         1,
         39.9526,
         -75.1652,
         1692954000,
         2.24,
         4.02,
         135,
         82,
         1011,
         null,
         293.48,
         296.21,
         295.36,
         [
          [
           "broken clouds",
           "04n",
           803,
           "Clouds"
          ]
         ]
        ],
        [
         1,
         39.9526,
         -75.1652,
         1692957600,
         2.06,
         null,
         0,
         75,
         1011,
         null,
         293.92,
         296.29,
         295.25,
         [
          [
           "broken clouds",
           "04n",
           803,
           "Clouds"
          ]
         ]
        ],
        [
         1,
         39.9526,
         -75.1652,
         1692961200,
         2.26,
         8.52,
         213,
         89,
         1012,
         null,
         293.58,
         296.08,
         295.18,
         [
          [
           "overcast clouds",
           "04d",
           804,
           "Clouds"
          ]
         ]
        ],
        [
         1,
         39.9526,
         -75.1652,
         1692964800,
         0.89,
         3.58,
         174,
         93,
         1011,
         0.42,
         293.87,
         296.46,
         295.33,
         [
          [
           "light rain",
           "10d",
           500,
           "Rain"
          ]
         ]
        ],
        [
         1,
         39.9526,
         -75.1652,
         1692968400,
         2.57,
         null,
         170,
         100,
         1010,
         0.37,
         294.32,
         296.41,
         295.49,
         [
          [
           "light rain",
           "10d",
           500,
           "Rain"
          ]
         ]
        ],
        [
         1,
         39.9526,
         -75.1652,
         1692972000,
         0.89,
         3.13,
         157,
         100,
         1010,
         null,
         294.79,
         297.62,
         296.23,
         [
          [
           "overcast clouds",
           "04d",
           804,
           "Clouds"
          ]
         ]
        ],
        [
         1,
         39.9526,
         -75.1652,
         1692975600,
         2.06,
         null,
         0,
         75,
         1012,
         null,
         295.15,
         298.97,
         297.11,
         [
          [
           "broken clouds",
           "04d",
           803,
           "Clouds"
          ]
         ]
        ],
        [
         1,
         39.9526,
         -75.1652,
         1692979200,
         3.6,
         null,
         210,
         100,
         1010,
         null,
         296.36,
         300.8,
         298.36,
         [
          [
           "overcast clouds",
           "04d",
           804,
           "Clouds"
          ]
         ]
        ],
        [
         1,
         39.9526,
         -75.1652,
         1692982800,
         4.12,
         null,
         230,
         75,
         1009,
         null,
         296.81,
         302.21,
         299.59,
         [
          [
           "broken clouds",
           "04d",
           803,
           "Clouds"
          ]
         ]
        ],
        [
         1,
         39.9526,
         -75.1652,
         1692986400,
         3.09,
         null,
         210,
         75,
         1010,
         null,
         298.34,
         303.74,
         301.08,
         [
          [
           "broken clouds",
           "04d",
           803,
           "Clouds"
          ]
         ]
        ],
        [
         1,
         39.9526,
         -75.1652,
         1692990000,
         3.6,
         null,
         250,
         75,
         1009,
         null,
         299.59,
         303.83,
         302.05,
         [
          [
           "broken clouds",
           "04d",
           803,
           "Clouds"
          ]
         ]
        ],
        [
         1,
         39.9526,
         -75.1652,
         1692993600,
         1.34,
         4.02,
         292,
         63,
         1009,
         null,
         300.92,
         304.29,
         302.58,
         [
          [
           "broken clouds",
           "04d",
           803,
           "Clouds"
          ]
         ]
        ],
        [
         1,
         39.9526,
         -75.1652,
         1692997200,
         1.79,
         5.36,
         219,
         55,
         1009,
         null,
         300.66,
         304.48,
         302.81,
         [
          [
           "broken clouds",
           "04d",
           803,
           "Clouds"
          ]
         ]
        ],
        [
         1,
         39.9526,
         -75.1652,
         1693000800,
         0.89,
         2.24,
         29,
         51,
         1009,
         null,
         300.25,
         304.1,
         302.37,
         [
          [
           "broken clouds",
           "04d",
           803,
           "Clouds"
          ]
         ]
        ],
        [
         1,
         39.9526,
         -75.1652,
         1693004400,
         1.34,
         4.02,
         192,
         42,
         1008,
         null,
         299.13,
         303.33,
         301.48,
         [
          [
           "scattered clouds",
           "03d",
           802,
           "Clouds"
          ]
         ]
        ],
        [
         1,
         39.9526,
         -75.1652,
         1693008000,
         0.64,
         0.97,
         87,
         79,
         1010,
         null,
         297.46,
         300.94,
         299.38,
         [
          [
           "broken clouds",
           "04n",
           803,
           "Clouds"
          ]
         ]
        ],
        [
         1,
         39.9526,
         -75.1652,
         1693011600,
         1.56,
         2.26,
         130,
         35,
         1010,
         null,
         295.8,
         299.6,
         298.02,
         [
          [
           "scattered clouds",
           "03n",
           802,
           "Clouds"
          ]
         ]
        ],
        [
         1,
         39.9526,
         -75.1652,
         1693015200,
         1.98,
         4.41,
         154,
         18,
         1010,
         null,
         295.15,
         298.74,
         297.15,
         [
          [
           "few clouds",
           "02n",
           801,
           "Clouds"
          ]
         ]
        ],
        [
         1,
         39.9526,
         -75.1652,
         1693018800,
         1.83,
         4.63,
         174,
         13,
         1010,
         null,
         294.62,
         298.18,
         296.63,
         [
          [
           "few clouds",
           "02n",
           801,
           "Clouds"
          ]
         ]
        ],
        [
         1,
         39.9526,
         -75.1652,
         1693022400,
         1.61,
         4.25,
         183,
         18,
         1010,
         null,
         294.36,
         297.86,
         296.3,
         [
          [
           "few clouds",
           "02n",
           801,
           "Clouds"
          ]
         ]
        ],
        [
         1,
         39.9526,
         -75.1652,
         1693026000,
         1.01,
         2.61,
         200,
         20,
         1010,
         null,
         294.04,
         297.68,
         296.15,
         [
          [
           "few clouds",
           "02n",
           801,
           "Clouds"
          ]
         ]
        ],
        [
         1,
         39.9526,
         -75.1652,
         1693029600,
         0.0,
         null,
         0,
         75,
         1010,
         null,
         294.04,
         297.31,
         295.93,
         [
          [
           "broken clouds",
           "04n",
           803,
           "Clouds"
          ]
         ]
        ],
        [
         1,
         39.9526,
         -75.1652,
         1693033200,
         2.06,
         null,
         160,
         40,
         1009,
         null,
         293.61,
         297.31,
         295.75,
         [
          [
           "scattered clouds",
           "03n",
           802,
           "Clouds"
          ]
         ]
        ],
        [
         1,
         39.9526,
         -75.1652,
         1693036800,
         0.57,
         1.17,
         340,
         33,
         1008,
         null,
         293.58,
         297.01,
         295.51,
         [
          [
           "scattered clouds",
           "03n",
           802,
           "Clouds"
          ]
         ]
        ],
        [
         1,
         39.9526,
         -75.1652,
         1693040400,
         0.0,
         null,
         0,
         40,
         1009,
         null,
         293.25,
         296.38,
         295.15,
         [
          [
           "scattered clouds",
           "03n",
           802,
           "Clouds"
          ]
         ]
        ],
        [
         1,
         39.9526,
         -75.1652,
         1693044000,
         1.61,
         2.91,
         346,
         49,
         1009,
         null,
         292.92,
         296.21,
         294.78,
         [
          [
           "scattered clouds",
           "03n",
           802,
           "Clouds"
          ]
         ]
        ],
        [
         1,
         39.9526,
         -75.1652,
         1693047600,
         1.79,
         4.54,
         349,
         43,
         1008,
         null,
         293.12,
         296.46,
         295.03,
         [
          [
           "scattered clouds",
           "03d",
           802,
           "Clouds"
          ]
         ]
        ],
        [
         1,
         39.9526,
         -75.1652,
         1693051200,
         0.89,
         2.24,
         113,
         35,
         1009,
         null,
         294.03,
         297.57,
         296.07,
         [
          [
           "scattered clouds",
           "03d",
           802,
           "Clouds"
          ]
         ]
        ],
        [
         1,
         39.9526,
         -75.1652,
         1693054800,
         2.57,
         null,
         30,
         20,
         1010,
         null,
         295.37,
         299.38,
         297.86,
         [
          [
           "few clouds",
           "02d",
           801,
           "Clouds"
          ]
         ]
        ],
        [
         1,
         39.9526,
         -75.1652,
         1693058400,
         5.14,
         null,
         30,
         20,
         1010,
         null,
         297.1,
         300.95,
         299.38,
         [
          [
           "few clouds",
           "02d",
           801,
           "Clouds"
          ]
         ]
        ],
        [
         1,
         39.9526,
         -75.1652,
         1693062000,
         1.34,
         5.36,
         47,
         33,
         1010,
         null,
         299.06,
         302.62,
         300.94,
         [
          [
           "scattered clouds",
           "03d",
           802,
           "Clouds"
          ]
         ]
        ],
        [
         1,
         39.9526,
         -75.1652,
         1693065600,
         1.34,
         6.26,
         86,
         39,
         1009,
         null,
         300.17,
         303.73,
         301.96,
         [
          [
           "scattered clouds",
           "03d",
           802,
           "Clouds"
          ]
         ]
        ],
        [
         1,
         39.9526,
         -75.1652,
         1693069200,
         1.34,
         4.47,
         88,
         43,
         1010,
         null,
         300.37,
         304.31,
         302.72,
         [
          [
           "scattered clouds",
           "03d",
           802,
           "Clouds"
          ]
         ]
        ],
        [
         1,
         39.9526,
         -75.1652,
         1693072800,
         4.12,
         8.23,
         330,
         75,
         1009,
         null,
         300.15,
         304.45,
         302.63,
         [
          [
           "broken clouds",
           "04d",
           803,
           "Clouds"
          ]
         ]
        ],
        [
         1,
         39.9526,
         -75.1652,
         1693076400,
         5.66,
         null,
         10,
         75,
         1009,
         null,
         300.47,
         304.84,
         302.83,
         [
          [
           "broken clouds",
           "04d",
           803,
           "Clouds"
          ]
         ]
        ],
        [
         1,
         39.9526,
         -75.1652,
         1693080000,
         0.89,
         4.47,
         0,
         88,
         1008,
         null,
         300.8,
         304.84,
         302.94,
         [
          [
           "overcast clouds",
           "04d",
           804,
           "Clouds"
          ]
         ]
        ],
        [
         1,
         39.9526,
         -75.1652,
         1693083600,
         1.34,
         4.47,
         277,
         68,
         1008,
         null,
         300.75,
         304.78,
         302.75,
         [
          [
           "broken clouds",
           "04d",
           803,
           "Clouds"
          ]
         ]
        ],
        [
         1,
         39.9526,
         -75.1652,
         1693087200,
         2.24,
         5.36,
         352,
         53,
         1009,
         null,
         300.37,
         303.86,
         302.39,
         [
          [
           "broken clouds",
           "04d",
           803,
           "Clouds"
          ]
         ]
        ],
        [
         1,
         39.9526,
         -75.1652,
         1693090800,
         1.79,
         4.47,
         288,
         44,
         1008,
         null,
         299.2,
         302.68,
         301.36,
         [
          [
           "scattered clouds",
           "03d",
           802,
           "Clouds"
          ]
         ]
        ],
        [
         1,
         39.9526,
         -75.1652,
         1693094400,
         0.89,
         4.02,
         344,
         55,
         1009,
         null,
         297.06,
         301.46,
         299.59,
         [
          [
           "broken clouds",
           "04n",
           803,
           "Clouds"
          ]
         ]
        ],
        [
         1,
         39.9526,
         -75.1652,
         1693098000,
         0.45,
         4.02,
         189,
         24,
         1011,
         null,
         294.72,
         300.21,
         297.99,
         [
          [
           "few clouds",
           "02n",
           801,
           "Clouds"
          ]
         ]
        ],
        [
         1,
         39.9526,
         -75.1652,
         1693101600,
         1.22,
         1.85,
         5,
         54,
         1011,
         null,
         293.28,
         299.21,
         296.65,
         [
          [
           "broken clouds",
           "04n",
           803,
           "Clouds"
          ]
         ]
        ],
        [
         1,
         39.9526,
         -75.1652,
         1693105200,
         2.4,
         6.74,
         11,
         43,
         1011,
         null,
         292.62,
         298.08,
         295.65,
         [
          [
           "scattered clouds",
           "03n",
           802,
           "Clouds"
          ]
         ]
        ],
        [
         1,
         39.9526,
         -75.1652,
         1693108800,
         2.74,
         8.01,
         25,
         35,
         1011,
         null,
         292.42,
         297.04,
         294.83,
         [
          [
           "scattered clouds",
           "03n",
           802,
           "Clouds"
          ]
         ]
        ],
        [
         1,
         39.9526,
         -75.1652,
         1693112400,
         2.3,
         7.01,
         12,
         47,
         1011,
         null,
         291.62,
         296.49,
         294.16,
         [
          [
           "scattered clouds",
           "03n",
           802,
           "Clouds"
          ]
         ]
        ],
        [
         1,
         39.9526,
         -75.1652,
         1693116000,
         2.72,
         7.69,
         10,
         44,
         1011,
         null,
         291.31,
         295.94,
         293.6,
         [
          [
           "scattered clouds",
           "03n",
           802,
           "Clouds"
          ]
         ]
        ],
        [
         1,
         39.9526,
         -75.1652,
         1693119600,
         2.06,
         null,
         340,
         0,
         1012,
         null,
         290.5,
         295.46,
         293.23,
         [
          [
           "clear sky",
           "01n",
           800,
           "Clear"
          ]
         ]
        ],
        [
         1,
         39.9526,
         -75.1652,
         1693123200,
         1.98,
         5.79,
         4,
         97,
         1011,
         null,
         290.25,
         294.97,
         292.85,
         [
          [
           "overcast clouds",
           "04n",
           804,
           "Clouds"
          ]
         ]
        ],
        [
         1,
         39.9526,
         -75.1652,
         1693126800,
         2.06,
         5.48,
         2,
         90,
         1012,
         null,
         289.7,
         294.9,
         292.61,
         [
          [
           "overcast clouds",
           "04n",
           804,
           "Clouds"
          ]
         ]
        ],
        [
         1,
         39.9526,
         -75.1652,
         1693130400,
         2.17,
         5.74,
         0,
         69,
         1012,
         null,
         289.68,
         294.05,
         292.08,
         [
          [
           "broken clouds",
           "04n",
           803,
           "Clouds"
          ]
         ]
        ],
        [
         1,
         39.9526,
         -75.1652,
         1693134000,
         2.36,
         6.45,
         5,
         57,
         1013,
         null,
         289.44,
         294.1,
         292.04,
         [
          [
           "broken clouds",
           "04d",
           803,
           "Clouds"
          ]
         ]
        ],
        [
         1,
         39.9526,
         -75.1652,
         1693137600,
         2.72,
         5.01,
         14,
         42,
         1013,
         null,
         291.36,
         296.21,
         293.81,
         [
          [
           "scattered clouds",
           "03d",
           802,
           "Clouds"
          ]
         ]
        ],
        [
         1,
         39.9526,
         -75.1652,
         1693141200,
         0.45,
         3.58,
         49,
         6,
         1012,
         null,
         293.87,
         298.12,
         296.37,
         [
          [
           "clear sky",
           "01d",
           800,
           "Clear"
          ]
         ]
        ],
        [
         1,
         39.9526,
         -75.1652,
         1693144800,
         1.34,
         4.92,
         66,
         7,
         1012,
         null,
         295.59,
         299.94,
         298.05,
         [
          [
           "clear sky",
           "01d",
           800,
           "Clear"
          ]
         ]
        ],
        [
         1,
         39.9526,
         -75.1652,
         1693148400,
         1.79,
         4.47,
         81,
         7,
         1013,
         null,
         297.47,
         301.51,
         299.65,
         [
          [
           "clear sky",
           "01d",
           800,
           "Clear"
          ]
         ]
        ],
        [
         1,
         39.9526,
         -75.1652,
         1693152000,
         0.89,
         3.58,
         96,
         7,
         1012,
         null,
         298.72,
         302.71,
         300.83,
         [
          [
           "clear sky",
           "01d",
           800,
           "Clear"
          ]
         ]
        ],
        [
         1,
         39.9526,
         -75.1652,
         1693155600,
         1.34,
         4.47,
         46,
         6,
         1012,
         null,
         299.83,
         303.76,
         301.93,
         [
          [
           "clear sky",
           "01d",
           800,
           "Clear"
          ]
         ]
        ],
        [
         1,
         39.9526,
         -75.1652,
         1693159200,
         0.89,
         4.47,
         89,
         6,
         1012,
         null,
         300.37,
         304.32,
         302.59,
         [
          [
           "clear sky",
           "01d",
           800,
           "Clear"
          ]
         ]
        ],
        [
         1,
         39.9526,
         -75.1652,
         1693162800,
         3.6,
         null,
         70,
         75,
         1012,
         null,
         300.25,
         304.41,
         302.57,
         [
          [
           "broken clouds",
           "04d",
           803,
           "Clouds"
          ]
         ]
        ],
        [
         1,
         39.9526,
         -75.1652,
         1693166400,
         2.24,
         4.47,
         88,
         96,
         1011,
         null,
         300.39,
         304.35,
         302.48,
         [
          [
           "overcast clouds",
           "04d",
           804,
           "Clouds"
          ]
         ]
        ],
        [
         1,
         39.9526,
         -75.1652,
         1693170000,
         0.89,
         2.68,
         84,
         97,
         1011,
         null,
         300.27,
         303.89,
         302.11,
         [
          [
           "overcast clouds",
           "04d",
           804,
           "Clouds"
          ]
         ]
        ],
        [
         1,
         39.9526,
         -75.1652,
         1693173600,
         0.89,
         4.02,
         74,
         98,
         1011,
         null,
         299.71,
         303.07,
         301.46,
         [
          [
           "overcast clouds",
           "04d",
           804,
           "Clouds"
          ]
         ]
        ],
        [
         1,
         39.9526,
         -75.1652,
         1693177200,
         0.89,
         3.13,
         70,
         98,
         1011,
         null,
         298.17,
         301.57,
         300.22,
         [
          [
           "overcast clouds",
           "04d",
           804,
           "Clouds"
          ]
         ]
        ],
        [
         1,
         39.9526,
         -75.1652,
         1693180800,
         1.34,
         4.47,
         223,
         99,
         1012,
         null,
         296.29,
         300.09,
         298.68,
         [
          [
           "overcast clouds",
           "04n",
           804,
           "Clouds"
          ]
         ]
        ],
        [
         1,
         39.9526,
         -75.1652,
         1693184400,
         0.45,
         2.68,
         128,
         100,
         1013,
         null,
         294.68,
         299.26,
         297.68,
         [
          [
           "overcast clouds",
           "04n",
           804,
           "Clouds"
          ]
         ]
        ],
        [
         1,
         39.9526,
         -75.1652,
         1693188000,
         1.82,
         3.43,
         133,
         100,
         1013,
         null,
         294.55,
         298.71,
         297.11,
         [
          [
           "overcast clouds",
           "04n",
           804,
           "Clouds"
          ]
         ]
        ],
        [
         1,
         39.9526,
         -75.1652,
         1693191600,
         1.43,
         2.51,
         124,
         100,
         1014,
         null,
         293.7,
         297.68,
         296.06,
         [
          [
           "overcast clouds",
           "04n",
           804,
           "Clouds"
          ]
         ]
        ],
        [
         1,
         39.9526,
         -75.1652,
         1693195200,
         1.8,
         3.12,
         109,
         100,
         1014,
         null,
         292.6,
         297.6,
         295.54,
         [
          [
           "overcast clouds",
           "04n",
           804,
           "Clouds"
          ]
         ]
        ],
        [
         1,
         39.9526,
         -75.1652,
         1693198800,
         1.48,
         3.02,
         118,
         100,
         1014,
         null,
         292.12,
         297.01,
         294.66,
         [
          [
           "overcast clouds",
           "04n",
           804,
           "Clouds"
          ]
         ]
        ],
        [
         1,
         39.9526,
         -75.1652,
         1693202400,
         0.0,
         null,
         0,
         75,
         1015,
         null,
         292.01,
         296.45,
         294.39,
         [
          [
           "broken clouds",
           "04n",
           803,
           "Clouds"
          ]
         ]
        ],
        [
         1,
         39.9526,
         -75.1652,
         1693206000,
         2.57,
         null,
         80,
         100,
         1014,
         null,
         291.29,
         296.27,
         294.31,
         [
          [
           "overcast clouds",
           "04n",
           804,
           "Clouds"
          ]
         ]
        ],
        [
         1,
         39.9526,
         -75.1652,
         1693209600,
         0.45,
         1.79,
         101,
         99,
         1014,
         null,
         291.29,
         295.97,
         294.08,
         [
          [
           "overcast clouds",
           "04n",
           804,
           "Clouds"
          ]
         ]
        ],
        [
         1,
         39.9526,
         -75.1652,
         1693213200,
         0.89,
         3.58,
         134,
         97,
         1014,
         null,
         291.29,
         295.21,
         293.83,
         [
          [
           "overcast clouds",
           "04n",
           804,
           "Clouds"
          ]
         ]
        ],
        [
         1,
         39.9526,
         -75.1652,
         1693216800,
         3.6,
         null,
         60,
         75,
         1014,
         null,
         291.16,
         295.21,
         293.59,
         [
          [
           "broken clouds",
           "04n",
           803,
           "Clouds"
          ]
         ]
        ],
        [
         1,
         39.9526,
         -75.1652,
         1693220400,
         3.09,
         null,
         80,
         75,
         1015,
         null,
         291.35,
         294.91,
         293.53,
         [
          [
           "broken clouds",
           "04d",
           803,
           "Clouds"
          ]
         ]
        ],
        [
         1,
         39.9526,
         -75.1652,
         1693224000,
         4.12,
         null,
         80,
         75,
         1015,
         null,
         292.59,
         295.4,
         294.42,
         [
          [
           "broken clouds",
           "04d",
           803,
           "Clouds"
          ]
         ]
        ],
        [
         1,
         39.9526,
         -75.1652,
         1693227600,
         4.63,
         null,
         100,
         100,
         1016,
         null,
         294.09,
         296.57,
         295.54,
         [
          [
           "overcast clouds",
           "04d",
           804,
           "Clouds"
          ]
         ]
        ],
        [
         1,
         39.9526,
         -75.1652,
         1693231200,
         5.14,
         null,
         90,
         100,
         1015,
         null,
         295.2,
         297.65,
         296.59,
         [
          [
           "overcast clouds",
           "04d",
           804,
           "Clouds"
          ]
         ]
        ],
        [
         1,
         39.9526,
         -75.1652,
         1693234800,
         1.34,
         5.81,
         158,
         100,
         1015,
         null,
         296.03,
         299.26,
         297.82,
         [
          [
           "overcast clouds",
           "04d",
           804,
           "Clouds"
          ]
         ]
        ],
        [
         1,
         39.9526,
         -75.1652,
         1693238400,
         6.69,
         null,
         80,
         40,
         1015,
         null,
         297.2,
         300.4,
         299.11,
         [
          [
           "scattered clouds",
           "03d",
           802,
           "Clouds"
          ]
         ]
        ],
        [
         1,
         39.9526,
         -75.1652,
         1693242000,
         1.34,
         4.47,
         70,
         100,
         1015,
         null,
         297.91,
         301.14,
         299.76,
         [
          [
           "overcast clouds",
           "04d",
           804,
           "Clouds"
          ]
         ]
        ],
        [
         1,
         39.9526,
         -75.1652,
         1693245600,
         5.14,
         null,
         100,
         75,
         1015,
         null,
         297.91,
         301.21,
         299.8,
         [
          [
           "broken clouds",
           "04d",
           803,
           "Clouds"
          ]
         ]
        ],
        [
         1,
         39.9526,
         -75.1652,
         1693249200,
         5.14,
         null,
         130,
         100,
         1015,
         null,
         297.67,
         300.65,
         299.44,
         [
          [
           "overcast clouds",
           "04d",
           804,
           "Clouds"
          ]
         ]
        ],
        [
         1,
         39.9526,
         -75.1652,
         1693252800,
         1.34,
         3.58,
         140,
         100,
         1014,
         null,
         297.01,
         300.4,
         298.86,
         [
          [
           "overcast clouds",
           "04d",
           804,
           "Clouds"
          ]
         ]
        ],
        [
         1,
         39.9526,
         -75.1652,
         1693256400,
         4.63,
         null,
         140,
         40,
         1015,
         null,
         296.81,
         299.91,
         298.35,
         [
          [
           "scattered clouds",
           "03d",
           802,
           "Clouds"
          ]
         ]
        ],
        [
         1,
         39.9526,
         -75.1652,
         1693260000,
         0.89,
         3.58,
         145,
         100,
         1015,
         null,
         296.41,
         299.1,
         297.87,
         [
          [
           "overcast clouds",
           "04d",
           804,
           "Clouds"
          ]
         ]
        ],
        [
         1,
         39.9526,
         -75.1652,
         1693263600,
         0.45,
         2.24,
         138,
         100,
         1014,
         null,
         295.47,
         298.23,
         297.05,
         [
          [
           "overcast clouds",
           "04d",
           804,
           "Clouds"
          ]
         ]
        ],
        [
         1,
         39.9526,
         -75.1652,
         1693267200,
         0.89,
         4.02,
         71,
         100,
         1015,
         null,
         294.34,
         297.43,
         296.12,
         [
          [
           "overcast clouds",
           "04n",
           804,
           "Clouds"
          ]
         ]
        ],
        [
         1,
         39.9526,
         -75.1652,
         1693270800,
         1.34,
         4.47,
         0,
         100,
         1015,
         null,
         293.57,
         296.54,
         295.43,
         [
          [
           "overcast clouds",
           "04n",
           804,
           "Clouds"
          ]
         ]
        ],
        [
         1,
         39.9526,
         -75.1652,
         1693274400,
         1.34,
         4.02,
         123,
         100,
         1015,
         null,
         293.01,
         296.21,
         294.91,
         [
          [
           "overcast clouds",
           "04n",
           804,
           "Clouds"
          ]
         ]
        ],
        [
         1,
         39.9526,
         -75.1652,
         1693278000,
         1.34,
         3.13,
         84,
         100,
         1015,
         null,
         292.46,
         295.96,
         294.63,
         [
          [
           "overcast clouds",
           "04n",
           804,
           "Clouds"
          ]
         ]
        ],
        [
         1,
         39.9526,
         -75.1652,
         1693281600,
         0.89,
         3.13,
         98,
         100,
         1015,
         null,
         292.14,
         295.46,
         294.33,
         [
          [
           "overcast clouds",
           "04n",
           804,
           "Clouds"
          ]
         ]
        ],
        [
         1,
         39.9526,
         -75.1652,
         1693285200,
         3.6,
         null,
         70,
         100,
         1015,
         null,
         292.15,
         295.4,
         294.18,
         [
          [
           "overcast clouds",
           "04n",
           804,
           "Clouds"
          ]
         ]
        ],
        [
         1,
         39.9526,
         -75.1652,
         1693288800,
         3.6,
         null,
         70,
         100,
         1015,
         null,
         292.15,
         295.4,
         294.05,
         [
          [
           "overcast clouds",
           "04n",
           804,
           "Clouds"
          ]
         ]
        ],
        [
         1,
         39.9526,
         -75.1652,
         1693292400,
         3.6,
         null,
         70,
         100,
         1014,
         null,
         291.9,
         295.25,
         293.8,
         [
          [
           "overcast clouds",
           "04n",
           804,
           "Clouds"
          ]
         ]
        ],
        [
         1,
         39.9526,
         -75.1652,
         1693296000,
         2.57,
         null,
         70,
         100,
         1014,
         null,
         291.91,
         295.09,
         293.6,
         [
          [
           "overcast clouds",
           "04n",
           804,
           "Clouds"
          ]
         ]
        ],
        [
         1,
         39.9526,
         -75.1652,
         1693299600,
         1.79,
         3.58,
         38,
         93,
         1013,
         null,
         291.81,
         294.69,
         293.56,
         [
          [
           "overcast clouds",
           "04n",
           804,
           "Clouds"
          ]
         ]
        ],
        [
         1,
         39.9526,
         -75.1652,
         1693303200,
         3.6,
         null,
         30,
         100,
         1013,
         null,
         292.27,
         294.82,
         293.63,
         [
          [
           "overcast clouds",
           "04n",
           804,
           "Clouds"
          ]
         ]
        ],
        [
         1,
         39.9526,
         -75.1652,
         1693306800,
         3.6,
         null,
         60,
         100,
         1014,
         null,
         292.2,
         294.65,
         293.65,
         [
          [
           "overcast clouds",
           "04d",
           804,
           "Clouds"
          ]
         ]
        ],
        [
         1,
         39.9526,
         -75.1652,
         1693310400,
         3.09,
         null,
         40,
         100,
         1014,
         null,
         292.82,
         295.21,
         294.16,
         [
          [
           "overcast clouds",
           "04d",
           804,
           "Clouds"
          ]
         ]
        ],
        [
         1,
         39.9526,
         -75.1652,
         1693314000,
         2.68,
         4.92,
         0,
         100,
         1013,
         null,
         293.41,
         296.04,
         294.83,
         [
          [
           "overcast clouds",
           "04d",
           804,
           "Clouds"
          ]
         ]
        ],
        [
         1,
         39.9526,
         -75.1652,
         1693317600,
         3.6,
         null,
         60,
         100,
         1014,
         null,
         293.99,
         297.07,
         295.58,
         [
          [
           "overcast clouds",
           "04d",
           804,
           "Clouds"
          ]
         ]
        ],
        [
         1,
         39.9526,
         -75.1652,
         1693321200,
         0.89,
         3.58,
         80,
         100,
         1013,
         null,
         295.1,
         297.65,
         296.48,
         [
          [
           "overcast clouds",
           "04d",
           804,
           "Clouds"
          ]
         ]
        ],
        [
         1,
         39.9526,
         -75.1652,
         1693324800,
         4.12,
         null,
         80,
         100,
         1014,
         null,
         296.22,
         298.8,
         297.4,
         [
          [
           "overcast clouds",
           "04d",
           804,
           "Clouds"
          ]
         ]
        ],
        [
         1,
         39.9526,
         -75.1652,
         1693328400,
         0.45,
         1.79,
         121,
         100,
         1013,
         null,
         296.61,
         299.74,
         298.12,
         [
          [
           "overcast clouds",
           "04d",
           804,
           "Clouds"
          ]
         ]
        ],
        [
         1,
         39.9526,
         -75.1652,
         1693332000,
         2.06,
         null,
         100,
         100,
         1013,
         null,
         297.14,
         300.13,
         298.57,
         [
          [
           "overcast clouds",
           "04d",
           804,
           "Clouds"
          ]
         ]
        ],
        [
         1,
         39.9526,
         -75.1652,
         1693335600,
         3.09,
         null,
         40,
         100,
         1012,
         null,
         297.66,
         300.68,
         298.79,
         [
          [
           "overcast clouds",
           "04d",
           804,
           "Clouds"
          ]
         ]
        ],
        [
         1,
         39.9526,
         -75.1652,
         1693339200,
         2.06,
         null,
         30,
         100,
         1011,
         null,
         297.37,
         300.75,
         298.83,
         [
          [
           "overcast clouds",
           "04d",
           804,
           "Clouds"
          ]
         ]
        ],
        [
         1,
         39.9526,
         -75.1652,
         1693342800,
         0.89,
         2.68,
         63,
         100,
         1010,
         null,
         297.66,
         300.6,
         298.88,
         [
          [
           "overcast clouds",
           "04d",
           804,
           "Clouds"
          ]
         ]
        ],
        [
         1,
         39.9526,
         -75.1652,
         1693346400,
         2.3,
         3.96,
         112,
         100,
         1009,
         null,
         297.25,
         299.97,
         298.55,
         [
          [
           "overcast clouds",
           "04d",
           804,
           "Clouds"
          ]
         ]
        ],
        [
         1,
         39.9526,
         -75.1652,
         1693350000,
         0.45,
         1.79,
         101,
         100,
         1009,
         null,
         296.56,
         299.29,
         298.01,
         [
          [
           "overcast clouds",
           "04d",
           804,
           "Clouds"
          ]
         ]
        ],
        [
         1,
         39.9526,
         -75.1652,
         1693353600,
         0.45,
         1.79,
         123,
         99,
         1009,
         null,
         296.03,
         298.74,
         297.53,
         [
          [
           "overcast clouds",
           "04n",
           804,
           "Clouds"
          ]
         ]
        ]
       ],
       "datasetInfos": [],
       "dbfsResultPath": null,
       "isJsonSchema": true,
       "metadata": {},
       "overflow": false,
       "plotOptions": {
        "customPlotOptions": {},
        "displayType": "table",
        "pivotAggregation": null,
        "pivotColumns": null,
        "xColumns": null,
        "yColumns": null
       },
       "removedWidgets": [],
       "schema": [
        {
         "metadata": "{}",
         "name": "id",
         "type": "\"long\""
        },
        {
         "metadata": "{}",
         "name": "lat",
         "type": "\"double\""
        },
        {
         "metadata": "{}",
         "name": "lon",
         "type": "\"double\""
        },
        {
         "metadata": "{}",
         "name": "dt",
         "type": "\"long\""
        },
        {
         "metadata": "{}",
         "name": "wind_speed",
         "type": "\"double\""
        },
        {
         "metadata": "{}",
         "name": "wind_gust",
         "type": "\"double\""
        },
        {
         "metadata": "{}",
         "name": "wind_deg",
         "type": "\"long\""
        },
        {
         "metadata": "{}",
         "name": "clouds_all",
         "type": "\"long\""
        },
        {
         "metadata": "{}",
         "name": "pressure",
         "type": "\"long\""
        },
        {
         "metadata": "{}",
         "name": "rain_1h",
         "type": "\"double\""
        },
        {
         "metadata": "{}",
         "name": "temp_min",
         "type": "\"double\""
        },
        {
         "metadata": "{}",
         "name": "temp_max",
         "type": "\"double\""
        },
        {
         "metadata": "{}",
         "name": "temp",
         "type": "\"double\""
        },
        {
         "metadata": "{}",
         "name": "weather",
         "type": "{\"type\":\"array\",\"elementType\":{\"type\":\"struct\",\"fields\":[{\"name\":\"description\",\"type\":\"string\",\"nullable\":true,\"metadata\":{}},{\"name\":\"icon\",\"type\":\"string\",\"nullable\":true,\"metadata\":{}},{\"name\":\"id\",\"type\":\"long\",\"nullable\":true,\"metadata\":{}},{\"name\":\"main\",\"type\":\"string\",\"nullable\":true,\"metadata\":{}}]},\"containsNull\":true}"
        }
       ],
       "type": "table"
      }
     },
     "output_type": "display_data"
    }
   ],
   "source": [
    "history_table = history_df\\\n",
    "    .join(\n",
    "        days_df.select(\n",
    "            F.col(\"city.coord.lat\").alias(\"lat\"),\n",
    "            F.col(\"city.coord.lon\").alias(\"lon\")\n",
    "        ),\n",
    "        how=\"inner\"\n",
    "    )\\\n",
    "    .withColumn(\"item\", F.explode(F.col(\"list\")))\\\n",
    "    .drop(\"list\", \"calctime\", \"cnt\", \"cod\", \"message\")\\\n",
    "    .select(\"*\", \"item.*\")\\\n",
    "    .select(\n",
    "        \"*\",\n",
    "        \"main.*\",\n",
    "        F.col(\"city_id\").alias(\"id\"),\n",
    "        F.col(\"clouds.all\").alias(\"clouds_all\"),\n",
    "        F.col(\"rain.1h\").alias(\"rain_1h\"),\n",
    "        F.col(\"wind.speed\").alias(\"wind_speed\"),\n",
    "        F.col(\"wind.gust\").alias(\"wind_gust\"),\n",
    "        F.col(\"wind.deg\").alias(\"wind_deg\")\n",
    "    )\\\n",
    "    .select([\n",
    "        'id',\n",
    "        'lat',\n",
    "        'lon',\n",
    "        'dt',\n",
    "        'wind_speed',\n",
    "        'wind_gust',\n",
    "        'wind_deg',\n",
    "        'clouds_all',\n",
    "        'pressure',\n",
    "        'rain_1h',\n",
    "        'temp_min',\n",
    "        'temp_max',\n",
    "        'temp',\n",
    "        'weather'\n",
    "    ])\n",
    "\n",
    "display(history_table)"
   ]
  },
  {
   "cell_type": "markdown",
   "metadata": {
    "application/vnd.databricks.v1+cell": {
     "cellMetadata": {
      "byteLimit": 2048000,
      "rowLimit": 10000
     },
     "inputWidgets": {},
     "nuid": "00818f46-6170-4628-94d9-9bd49cfd02da",
     "showTitle": false,
     "title": ""
    }
   },
   "source": [
    "### 5. Use the data from the created tables to create two visualizations (You can't use bar charts)."
   ]
  },
  {
   "cell_type": "code",
   "execution_count": 0,
   "metadata": {
    "application/vnd.databricks.v1+cell": {
     "cellMetadata": {
      "byteLimit": 2048000,
      "rowLimit": 10000
     },
     "inputWidgets": {},
     "nuid": "1311f5dd-40a1-45a2-8761-38d11adea318",
     "showTitle": false,
     "title": ""
    }
   },
   "outputs": [
    {
     "output_type": "display_data",
     "data": {
      "text/html": [
       "<style scoped>\n",
       "  .table-result-container {\n",
       "    max-height: 300px;\n",
       "    overflow: auto;\n",
       "  }\n",
       "  table, th, td {\n",
       "    border: 1px solid black;\n",
       "    border-collapse: collapse;\n",
       "  }\n",
       "  th, td {\n",
       "    padding: 5px;\n",
       "  }\n",
       "  th {\n",
       "    text-align: left;\n",
       "  }\n",
       "</style><div class='table-result-container'><table class='table-result'><thead style='background-color: white'><tr><th>id</th><th>name</th><th>lat</th><th>lon</th><th>timezone</th><th>population</th><th>dt</th><th>sunrise</th><th>sunset</th><th>pop</th><th>speed</th><th>gust</th><th>deg</th><th>clouds</th><th>pressure</th><th>rain</th><th>temp_min</th><th>temp_max</th><th>temp_morn</th><th>temp_day</th><th>temp_eve</th><th>temp_night</th><th>feels_like_morn</th><th>feels_like_day</th><th>feels_like_eve</th><th>feels_like_night</th><th>weather</th></tr></thead><tbody><tr><td>4560349</td><td>Philadelphia</td><td>39.9526</td><td>-75.1652</td><td>-14400</td><td>1526006</td><td>1697385600</td><td>1697368235</td><td>1697408522</td><td>1.0</td><td>6.28</td><td>12.33</td><td>318</td><td>9</td><td>1002</td><td>2.48</td><td>282.54</td><td>289.02</td><td>283.26</td><td>288.35</td><td>287.12</td><td>283.17</td><td>282.49</td><td>287.13</td><td>286.22</td><td>281.98</td><td>List(List(moderate rain, 10d, 501, Rain))</td></tr><tr><td>4560349</td><td>Philadelphia</td><td>39.9526</td><td>-75.1652</td><td>-14400</td><td>1526006</td><td>1697472000</td><td>1697454698</td><td>1697494833</td><td>0.37</td><td>3.86</td><td>10.11</td><td>302</td><td>100</td><td>1005</td><td>0.5</td><td>281.12</td><td>288.12</td><td>281.12</td><td>285.24</td><td>286.86</td><td>283.48</td><td>278.87</td><td>284.23</td><td>285.98</td><td>282.79</td><td>List(List(light rain, 10d, 500, Rain))</td></tr><tr><td>4560349</td><td>Philadelphia</td><td>39.9526</td><td>-75.1652</td><td>-14400</td><td>1526006</td><td>1697558400</td><td>1697541161</td><td>1697581145</td><td>0.11</td><td>3.05</td><td>6.99</td><td>331</td><td>29</td><td>1013</td><td>null</td><td>281.5</td><td>290.05</td><td>281.68</td><td>288.83</td><td>288.15</td><td>285.66</td><td>280.6</td><td>287.71</td><td>287.17</td><td>284.85</td><td>List(List(scattered clouds, 03d, 802, Clouds))</td></tr><tr><td>4560349</td><td>Philadelphia</td><td>39.9526</td><td>-75.1652</td><td>-14400</td><td>1526006</td><td>1697644800</td><td>1697627625</td><td>1697667457</td><td>0.0</td><td>1.96</td><td>4.38</td><td>181</td><td>100</td><td>1022</td><td>null</td><td>285.35</td><td>291.72</td><td>285.52</td><td>287.32</td><td>291.72</td><td>286.53</td><td>284.61</td><td>286.41</td><td>290.62</td><td>285.52</td><td>List(List(overcast clouds, 04d, 804, Clouds))</td></tr><tr><td>4560349</td><td>Philadelphia</td><td>39.9526</td><td>-75.1652</td><td>-14400</td><td>1526006</td><td>1697731200</td><td>1697714089</td><td>1697753770</td><td>0.0</td><td>4.29</td><td>11.93</td><td>196</td><td>4</td><td>1024</td><td>null</td><td>284.66</td><td>293.97</td><td>284.66</td><td>290.98</td><td>293.1</td><td>288.37</td><td>283.8</td><td>290.1</td><td>292.35</td><td>287.8</td><td>List(List(sky is clear, 01d, 800, Clear))</td></tr><tr><td>4560349</td><td>Philadelphia</td><td>39.9526</td><td>-75.1652</td><td>-14400</td><td>1526006</td><td>1697817600</td><td>1697800554</td><td>1697840085</td><td>0.36</td><td>5.6</td><td>12.3</td><td>190</td><td>100</td><td>1014</td><td>0.24</td><td>287.78</td><td>294.36</td><td>287.85</td><td>291.31</td><td>291.09</td><td>287.8</td><td>287.26</td><td>290.85</td><td>290.79</td><td>287.75</td><td>List(List(light rain, 10d, 500, Rain))</td></tr><tr><td>4560349</td><td>Philadelphia</td><td>39.9526</td><td>-75.1652</td><td>-14400</td><td>1526006</td><td>1697904000</td><td>1697887019</td><td>1697926400</td><td>1.0</td><td>6.74</td><td>14.38</td><td>282</td><td>100</td><td>995</td><td>5.8</td><td>285.92</td><td>290.67</td><td>288.04</td><td>288.74</td><td>288.89</td><td>285.92</td><td>288.07</td><td>288.73</td><td>288.53</td><td>285.21</td><td>List(List(light rain, 10d, 500, Rain))</td></tr><tr><td>4560349</td><td>Philadelphia</td><td>39.9526</td><td>-75.1652</td><td>-14400</td><td>1526006</td><td>1697990400</td><td>1697973484</td><td>1698012717</td><td>0.01</td><td>6.59</td><td>11.43</td><td>288</td><td>96</td><td>999</td><td>null</td><td>281.95</td><td>286.86</td><td>284.87</td><td>286.18</td><td>285.81</td><td>281.95</td><td>284.0</td><td>284.97</td><td>284.31</td><td>279.12</td><td>List(List(overcast clouds, 04d, 804, Clouds))</td></tr><tr><td>4560349</td><td>Philadelphia</td><td>39.9526</td><td>-75.1652</td><td>-14400</td><td>1526006</td><td>1698076800</td><td>1698059950</td><td>1698099034</td><td>0.0</td><td>5.28</td><td>10.22</td><td>306</td><td>99</td><td>1013</td><td>null</td><td>281.07</td><td>285.14</td><td>281.3</td><td>282.77</td><td>285.14</td><td>281.07</td><td>278.35</td><td>280.25</td><td>283.54</td><td>279.13</td><td>List(List(overcast clouds, 04d, 804, Clouds))</td></tr><tr><td>4560349</td><td>Philadelphia</td><td>39.9526</td><td>-75.1652</td><td>-14400</td><td>1526006</td><td>1698163200</td><td>1698146416</td><td>1698185353</td><td>0.0</td><td>5.46</td><td>10.03</td><td>343</td><td>0</td><td>1025</td><td>null</td><td>278.72</td><td>286.32</td><td>278.81</td><td>283.06</td><td>286.26</td><td>281.61</td><td>276.66</td><td>280.55</td><td>284.78</td><td>279.55</td><td>List(List(sky is clear, 01d, 800, Clear))</td></tr><tr><td>4560349</td><td>Philadelphia</td><td>39.9526</td><td>-75.1652</td><td>-14400</td><td>1526006</td><td>1698249600</td><td>1698232882</td><td>1698271673</td><td>0.0</td><td>3.77</td><td>8.87</td><td>30</td><td>3</td><td>1032</td><td>null</td><td>279.76</td><td>288.16</td><td>279.76</td><td>284.82</td><td>288.03</td><td>283.54</td><td>277.59</td><td>283.48</td><td>286.77</td><td>282.38</td><td>List(List(sky is clear, 01d, 800, Clear))</td></tr><tr><td>4560349</td><td>Philadelphia</td><td>39.9526</td><td>-75.1652</td><td>-14400</td><td>1526006</td><td>1698336000</td><td>1698319349</td><td>1698357993</td><td>0.0</td><td>3.57</td><td>8.49</td><td>348</td><td>0</td><td>1028</td><td>null</td><td>280.94</td><td>290.39</td><td>281.57</td><td>286.39</td><td>290.22</td><td>284.86</td><td>280.04</td><td>285.1</td><td>289.08</td><td>283.71</td><td>List(List(sky is clear, 01d, 800, Clear))</td></tr><tr><td>4560349</td><td>Philadelphia</td><td>39.9526</td><td>-75.1652</td><td>-14400</td><td>1526006</td><td>1698422400</td><td>1698405816</td><td>1698444316</td><td>0.0</td><td>3.71</td><td>8.95</td><td>323</td><td>3</td><td>1016</td><td>null</td><td>282.52</td><td>293.7</td><td>282.71</td><td>289.35</td><td>292.98</td><td>287.13</td><td>281.42</td><td>287.89</td><td>292.01</td><td>286.15</td><td>List(List(sky is clear, 01d, 800, Clear))</td></tr><tr><td>4560349</td><td>Philadelphia</td><td>39.9526</td><td>-75.1652</td><td>-14400</td><td>1526006</td><td>1698508800</td><td>1698492283</td><td>1698530639</td><td>0.0</td><td>3.55</td><td>9.24</td><td>280</td><td>3</td><td>1015</td><td>null</td><td>285.55</td><td>295.26</td><td>285.55</td><td>291.26</td><td>294.52</td><td>289.51</td><td>284.46</td><td>290.48</td><td>293.97</td><td>288.9</td><td>List(List(sky is clear, 01d, 800, Clear))</td></tr><tr><td>4560349</td><td>Philadelphia</td><td>39.9526</td><td>-75.1652</td><td>-14400</td><td>1526006</td><td>1698595200</td><td>1698578751</td><td>1698616964</td><td>0.87</td><td>5.58</td><td>11.39</td><td>336</td><td>100</td><td>1016</td><td>8.04</td><td>282.15</td><td>288.73</td><td>288.22</td><td>288.73</td><td>284.94</td><td>282.15</td><td>287.56</td><td>287.94</td><td>284.5</td><td>279.83</td><td>List(List(moderate rain, 10d, 501, Rain))</td></tr><tr><td>4560349</td><td>Philadelphia</td><td>39.9526</td><td>-75.1652</td><td>-14400</td><td>1526006</td><td>1698681600</td><td>1698665219</td><td>1698703290</td><td>0.27</td><td>4.69</td><td>11.5</td><td>322</td><td>2</td><td>1027</td><td>null</td><td>278.5</td><td>284.64</td><td>279.24</td><td>282.03</td><td>284.24</td><td>281.16</td><td>276.03</td><td>279.94</td><td>282.37</td><td>280.43</td><td>List(List(sky is clear, 01d, 800, Clear))</td></tr></tbody></table></div>"
      ]
     },
     "metadata": {
      "application/vnd.databricks.v1+output": {
       "addedWidgets": {},
       "aggData": [],
       "aggError": "",
       "aggOverflow": false,
       "aggSchema": [],
       "aggSeriesLimitReached": false,
       "aggType": "",
       "arguments": {},
       "columnCustomDisplayInfos": {},
       "data": [
        [
         4560349,
         "Philadelphia",
         39.9526,
         -75.1652,
         -14400,
         1526006,
         1697385600,
         1697368235,
         1697408522,
         1.0,
         6.28,
         12.33,
         318,
         9,
         1002,
         2.48,
         282.54,
         289.02,
         283.26,
         288.35,
         287.12,
         283.17,
         282.49,
         287.13,
         286.22,
         281.98,
         [
          [
           "moderate rain",
           "10d",
           501,
           "Rain"
          ]
         ]
        ],
        [
         4560349,
         "Philadelphia",
         39.9526,
         -75.1652,
         -14400,
         1526006,
         1697472000,
         1697454698,
         1697494833,
         0.37,
         3.86,
         10.11,
         302,
         100,
         1005,
         0.5,
         281.12,
         288.12,
         281.12,
         285.24,
         286.86,
         283.48,
         278.87,
         284.23,
         285.98,
         282.79,
         [
          [
           "light rain",
           "10d",
           500,
           "Rain"
          ]
         ]
        ],
        [
         4560349,
         "Philadelphia",
         39.9526,
         -75.1652,
         -14400,
         1526006,
         1697558400,
         1697541161,
         1697581145,
         0.11,
         3.05,
         6.99,
         331,
         29,
         1013,
         null,
         281.5,
         290.05,
         281.68,
         288.83,
         288.15,
         285.66,
         280.6,
         287.71,
         287.17,
         284.85,
         [
          [
           "scattered clouds",
           "03d",
           802,
           "Clouds"
          ]
         ]
        ],
        [
         4560349,
         "Philadelphia",
         39.9526,
         -75.1652,
         -14400,
         1526006,
         1697644800,
         1697627625,
         1697667457,
         0.0,
         1.96,
         4.38,
         181,
         100,
         1022,
         null,
         285.35,
         291.72,
         285.52,
         287.32,
         291.72,
         286.53,
         284.61,
         286.41,
         290.62,
         285.52,
         [
          [
           "overcast clouds",
           "04d",
           804,
           "Clouds"
          ]
         ]
        ],
        [
         4560349,
         "Philadelphia",
         39.9526,
         -75.1652,
         -14400,
         1526006,
         1697731200,
         1697714089,
         1697753770,
         0.0,
         4.29,
         11.93,
         196,
         4,
         1024,
         null,
         284.66,
         293.97,
         284.66,
         290.98,
         293.1,
         288.37,
         283.8,
         290.1,
         292.35,
         287.8,
         [
          [
           "sky is clear",
           "01d",
           800,
           "Clear"
          ]
         ]
        ],
        [
         4560349,
         "Philadelphia",
         39.9526,
         -75.1652,
         -14400,
         1526006,
         1697817600,
         1697800554,
         1697840085,
         0.36,
         5.6,
         12.3,
         190,
         100,
         1014,
         0.24,
         287.78,
         294.36,
         287.85,
         291.31,
         291.09,
         287.8,
         287.26,
         290.85,
         290.79,
         287.75,
         [
          [
           "light rain",
           "10d",
           500,
           "Rain"
          ]
         ]
        ],
        [
         4560349,
         "Philadelphia",
         39.9526,
         -75.1652,
         -14400,
         1526006,
         1697904000,
         1697887019,
         1697926400,
         1.0,
         6.74,
         14.38,
         282,
         100,
         995,
         5.8,
         285.92,
         290.67,
         288.04,
         288.74,
         288.89,
         285.92,
         288.07,
         288.73,
         288.53,
         285.21,
         [
          [
           "light rain",
           "10d",
           500,
           "Rain"
          ]
         ]
        ],
        [
         4560349,
         "Philadelphia",
         39.9526,
         -75.1652,
         -14400,
         1526006,
         1697990400,
         1697973484,
         1698012717,
         0.01,
         6.59,
         11.43,
         288,
         96,
         999,
         null,
         281.95,
         286.86,
         284.87,
         286.18,
         285.81,
         281.95,
         284.0,
         284.97,
         284.31,
         279.12,
         [
          [
           "overcast clouds",
           "04d",
           804,
           "Clouds"
          ]
         ]
        ],
        [
         4560349,
         "Philadelphia",
         39.9526,
         -75.1652,
         -14400,
         1526006,
         1698076800,
         1698059950,
         1698099034,
         0.0,
         5.28,
         10.22,
         306,
         99,
         1013,
         null,
         281.07,
         285.14,
         281.3,
         282.77,
         285.14,
         281.07,
         278.35,
         280.25,
         283.54,
         279.13,
         [
          [
           "overcast clouds",
           "04d",
           804,
           "Clouds"
          ]
         ]
        ],
        [
         4560349,
         "Philadelphia",
         39.9526,
         -75.1652,
         -14400,
         1526006,
         1698163200,
         1698146416,
         1698185353,
         0.0,
         5.46,
         10.03,
         343,
         0,
         1025,
         null,
         278.72,
         286.32,
         278.81,
         283.06,
         286.26,
         281.61,
         276.66,
         280.55,
         284.78,
         279.55,
         [
          [
           "sky is clear",
           "01d",
           800,
           "Clear"
          ]
         ]
        ],
        [
         4560349,
         "Philadelphia",
         39.9526,
         -75.1652,
         -14400,
         1526006,
         1698249600,
         1698232882,
         1698271673,
         0.0,
         3.77,
         8.87,
         30,
         3,
         1032,
         null,
         279.76,
         288.16,
         279.76,
         284.82,
         288.03,
         283.54,
         277.59,
         283.48,
         286.77,
         282.38,
         [
          [
           "sky is clear",
           "01d",
           800,
           "Clear"
          ]
         ]
        ],
        [
         4560349,
         "Philadelphia",
         39.9526,
         -75.1652,
         -14400,
         1526006,
         1698336000,
         1698319349,
         1698357993,
         0.0,
         3.57,
         8.49,
         348,
         0,
         1028,
         null,
         280.94,
         290.39,
         281.57,
         286.39,
         290.22,
         284.86,
         280.04,
         285.1,
         289.08,
         283.71,
         [
          [
           "sky is clear",
           "01d",
           800,
           "Clear"
          ]
         ]
        ],
        [
         4560349,
         "Philadelphia",
         39.9526,
         -75.1652,
         -14400,
         1526006,
         1698422400,
         1698405816,
         1698444316,
         0.0,
         3.71,
         8.95,
         323,
         3,
         1016,
         null,
         282.52,
         293.7,
         282.71,
         289.35,
         292.98,
         287.13,
         281.42,
         287.89,
         292.01,
         286.15,
         [
          [
           "sky is clear",
           "01d",
           800,
           "Clear"
          ]
         ]
        ],
        [
         4560349,
         "Philadelphia",
         39.9526,
         -75.1652,
         -14400,
         1526006,
         1698508800,
         1698492283,
         1698530639,
         0.0,
         3.55,
         9.24,
         280,
         3,
         1015,
         null,
         285.55,
         295.26,
         285.55,
         291.26,
         294.52,
         289.51,
         284.46,
         290.48,
         293.97,
         288.9,
         [
          [
           "sky is clear",
           "01d",
           800,
           "Clear"
          ]
         ]
        ],
        [
         4560349,
         "Philadelphia",
         39.9526,
         -75.1652,
         -14400,
         1526006,
         1698595200,
         1698578751,
         1698616964,
         0.87,
         5.58,
         11.39,
         336,
         100,
         1016,
         8.04,
         282.15,
         288.73,
         288.22,
         288.73,
         284.94,
         282.15,
         287.56,
         287.94,
         284.5,
         279.83,
         [
          [
           "moderate rain",
           "10d",
           501,
           "Rain"
          ]
         ]
        ],
        [
         4560349,
         "Philadelphia",
         39.9526,
         -75.1652,
         -14400,
         1526006,
         1698681600,
         1698665219,
         1698703290,
         0.27,
         4.69,
         11.5,
         322,
         2,
         1027,
         null,
         278.5,
         284.64,
         279.24,
         282.03,
         284.24,
         281.16,
         276.03,
         279.94,
         282.37,
         280.43,
         [
          [
           "sky is clear",
           "01d",
           800,
           "Clear"
          ]
         ]
        ]
       ],
       "datasetInfos": [],
       "dbfsResultPath": null,
       "isJsonSchema": true,
       "metadata": {},
       "overflow": false,
       "plotOptions": {
        "customPlotOptions": {},
        "displayType": "table",
        "pivotAggregation": null,
        "pivotColumns": null,
        "xColumns": null,
        "yColumns": null
       },
       "removedWidgets": [],
       "schema": [
        {
         "metadata": "{}",
         "name": "id",
         "type": "\"long\""
        },
        {
         "metadata": "{}",
         "name": "name",
         "type": "\"string\""
        },
        {
         "metadata": "{}",
         "name": "lat",
         "type": "\"double\""
        },
        {
         "metadata": "{}",
         "name": "lon",
         "type": "\"double\""
        },
        {
         "metadata": "{}",
         "name": "timezone",
         "type": "\"long\""
        },
        {
         "metadata": "{}",
         "name": "population",
         "type": "\"long\""
        },
        {
         "metadata": "{}",
         "name": "dt",
         "type": "\"long\""
        },
        {
         "metadata": "{}",
         "name": "sunrise",
         "type": "\"long\""
        },
        {
         "metadata": "{}",
         "name": "sunset",
         "type": "\"long\""
        },
        {
         "metadata": "{}",
         "name": "pop",
         "type": "\"double\""
        },
        {
         "metadata": "{}",
         "name": "speed",
         "type": "\"double\""
        },
        {
         "metadata": "{}",
         "name": "gust",
         "type": "\"double\""
        },
        {
         "metadata": "{}",
         "name": "deg",
         "type": "\"long\""
        },
        {
         "metadata": "{}",
         "name": "clouds",
         "type": "\"long\""
        },
        {
         "metadata": "{}",
         "name": "pressure",
         "type": "\"long\""
        },
        {
         "metadata": "{}",
         "name": "rain",
         "type": "\"double\""
        },
        {
         "metadata": "{}",
         "name": "temp_min",
         "type": "\"double\""
        },
        {
         "metadata": "{}",
         "name": "temp_max",
         "type": "\"double\""
        },
        {
         "metadata": "{}",
         "name": "temp_morn",
         "type": "\"double\""
        },
        {
         "metadata": "{}",
         "name": "temp_day",
         "type": "\"double\""
        },
        {
         "metadata": "{}",
         "name": "temp_eve",
         "type": "\"double\""
        },
        {
         "metadata": "{}",
         "name": "temp_night",
         "type": "\"double\""
        },
        {
         "metadata": "{}",
         "name": "feels_like_morn",
         "type": "\"double\""
        },
        {
         "metadata": "{}",
         "name": "feels_like_day",
         "type": "\"double\""
        },
        {
         "metadata": "{}",
         "name": "feels_like_eve",
         "type": "\"double\""
        },
        {
         "metadata": "{}",
         "name": "feels_like_night",
         "type": "\"double\""
        },
        {
         "metadata": "{}",
         "name": "weather",
         "type": "{\"type\":\"array\",\"elementType\":{\"type\":\"struct\",\"fields\":[{\"name\":\"description\",\"type\":\"string\",\"nullable\":true,\"metadata\":{}},{\"name\":\"icon\",\"type\":\"string\",\"nullable\":true,\"metadata\":{}},{\"name\":\"id\",\"type\":\"long\",\"nullable\":true,\"metadata\":{}},{\"name\":\"main\",\"type\":\"string\",\"nullable\":true,\"metadata\":{}}]},\"containsNull\":true}"
        }
       ],
       "type": "table"
      }
     },
     "output_type": "display_data"
    },
    {
     "output_type": "display_data",
     "data": {
      "text/plain": [
       "Databricks visualization. Run in Databricks to view."
      ]
     },
     "metadata": {
      "application/vnd.databricks.v1.subcommand+json": {
       "bindings": {},
       "collapsed": false,
       "command": "%python\n__backend_agg_display_orig = display\n__backend_agg_dfs = []\ndef __backend_agg_display_new(df):\n    __backend_agg_df_modules = [\"pandas.core.frame\", \"databricks.koalas.frame\", \"pyspark.sql.dataframe\", \"pyspark.pandas.frame\", \"pyspark.sql.connect.dataframe\"]\n    if (type(df).__module__ in __backend_agg_df_modules and type(df).__name__ == 'DataFrame') or isinstance(df, list):\n        __backend_agg_dfs.append(df)\n\ndisplay = __backend_agg_display_new\n\ndef __backend_agg_user_code_fn():\n    import base64\n    exec(base64.standard_b64decode(\"ZGlzcGxheShkYXlzX3RhYmxlKQ==\").decode())\n\ntry:\n    # run user code\n    __backend_agg_user_code_fn()\n\n    #reset display function\n    display = __backend_agg_display_orig\n\n    if len(__backend_agg_dfs) > 0:\n        # create a temp view\n        if type(__backend_agg_dfs[0]).__module__ == \"databricks.koalas.frame\":\n            # koalas dataframe\n            __backend_agg_dfs[0].to_spark().createOrReplaceTempView(\"DatabricksView8dde3f3\")\n        elif type(__backend_agg_dfs[0]).__module__ == \"pandas.core.frame\" or isinstance(__backend_agg_dfs[0], list):\n            # pandas dataframe\n            spark.createDataFrame(__backend_agg_dfs[0]).createOrReplaceTempView(\"DatabricksView8dde3f3\")\n        else:\n            __backend_agg_dfs[0].createOrReplaceTempView(\"DatabricksView8dde3f3\")\n        #run backend agg\n        display(spark.sql(\"\"\"WITH q AS (select * from DatabricksView8dde3f3) SELECT `rain`,AVG(`temp_min`) `column_cf189d7c540`,AVG(`temp_max`) `column_cf189d7c541` FROM q GROUP BY `rain`\"\"\"))\n    else:\n        displayHTML(\"dataframe no longer exists. If you're using dataframe.display(), use display(dataframe) instead.\")\n\n\nfinally:\n    spark.sql(\"drop view if exists DatabricksView8dde3f3\")\n    display = __backend_agg_display_orig\n    del __backend_agg_display_new\n    del __backend_agg_display_orig\n    del __backend_agg_dfs\n    del __backend_agg_user_code_fn\n\n",
       "commandTitle": "Visualization 1",
       "commandType": "auto",
       "commandVersion": 0,
       "commentThread": [],
       "commentsVisible": false,
       "contentSha256Hex": null,
       "customPlotOptions": {
        "redashChart": [
         {
          "key": "type",
          "value": "CHART"
         },
         {
          "key": "options",
          "value": {
           "alignYAxesAtZero": true,
           "coefficient": 1,
           "columnConfigurationMap": {
            "x": {
             "column": "rain",
             "id": "column_cf189d7c494"
            },
            "y": [
             {
              "column": "temp_min",
              "id": "column_cf189d7c540",
              "transform": "AVG"
             },
             {
              "column": "temp_max",
              "id": "column_cf189d7c541",
              "transform": "AVG"
             }
            ]
           },
           "dateTimeFormat": "DD/MM/YYYY HH:mm",
           "direction": {
            "type": "counterclockwise"
           },
           "error_y": {
            "type": "data",
            "visible": true
           },
           "globalSeriesType": "line",
           "hideXAxis": false,
           "hideYAxes": false,
           "isAggregationOn": true,
           "legend": {
            "traceorder": "normal"
           },
           "missingValuesAsZero": false,
           "numberFormat": "0,0[.]00000",
           "percentFormat": "0[.]00%",
           "series": {
            "error_y": {
             "type": "data",
             "visible": true
            },
            "stacking": null
           },
           "seriesOptions": {
            "column_cf189d7c540": {
             "color": "#356AFF",
             "name": "temp_min",
             "type": "line",
             "yAxis": 0,
             "zIndex": 1
            },
            "column_cf189d7c541": {
             "color": "#E92828",
             "name": "temp_max",
             "type": "line",
             "yAxis": 0,
             "zIndex": 0
            },
            "population": {
             "type": "line",
             "yAxis": 0
            },
            "speed": {
             "type": "line",
             "yAxis": 0
            },
            "temp_day": {
             "type": "line",
             "yAxis": 0
            },
            "temp_eve": {
             "type": "line",
             "yAxis": 0
            },
            "temp_max": {
             "color": "#E92828",
             "type": "line",
             "yAxis": 0,
             "zIndex": 0
            },
            "temp_min": {
             "color": "#356AFF",
             "type": "line",
             "yAxis": 0,
             "zIndex": 1
            },
            "temp_morn": {
             "type": "line",
             "yAxis": 0
            },
            "temp_night": {
             "type": "line",
             "yAxis": 0
            }
           },
           "showDataLabels": false,
           "sizemode": "diameter",
           "sortX": true,
           "sortY": true,
           "swappedAxes": false,
           "textFormat": "",
           "useAggregationsUi": true,
           "valuesOptions": {},
           "version": 2,
           "xAxis": {
            "labels": {
             "enabled": true
            },
            "title": {
             "text": "Rain (mm)"
            },
            "type": "-"
           },
           "yAxis": [
            {
             "title": {
              "text": "Average Temperature (K)"
             },
             "type": "-"
            },
            {
             "opposite": true,
             "type": "-"
            }
           ]
          }
         }
        ]
       },
       "datasetPreviewNameToCmdIdMap": {},
       "diffDeletes": [],
       "diffInserts": [],
       "displayType": "redashChart",
       "error": null,
       "errorSummary": null,
       "errorTraceType": null,
       "finishTime": 0,
       "globalVars": {},
       "guid": "",
       "height": "auto",
       "hideCommandCode": false,
       "hideCommandResult": false,
       "iPythonMetadata": null,
       "inputWidgets": {},
       "isLockedInExamMode": false,
       "latestUser": "a user",
       "latestUserId": null,
       "listResultMetadata": null,
       "metadata": {
        "byteLimit": 2048000,
        "rowLimit": 10000
       },
       "nuid": "c136901d-1267-4ebf-9eea-fee3dd1aaa5d",
       "origId": 0,
       "parentHierarchy": [],
       "pivotAggregation": null,
       "pivotColumns": null,
       "position": 12.0,
       "resultDbfsErrorMessage": null,
       "resultDbfsStatus": "INLINED_IN_TREE",
       "results": null,
       "showCommandTitle": false,
       "startTime": 0,
       "state": "finished",
       "streamStates": {},
       "subcommandOptions": {
        "queryPlan": {
         "groups": [
          {
           "column": "rain",
           "type": "column"
          }
         ],
         "selects": [
          {
           "column": "rain",
           "type": "column"
          },
          {
           "alias": "column_cf189d7c540",
           "args": [
            {
             "column": "temp_min",
             "type": "column"
            }
           ],
           "function": "AVG",
           "type": "function"
          },
          {
           "alias": "column_cf189d7c541",
           "args": [
            {
             "column": "temp_max",
             "type": "column"
            }
           ],
           "function": "AVG",
           "type": "function"
          }
         ]
        }
       },
       "submitTime": 0,
       "subtype": "tableResultSubCmd.visualization",
       "tableResultIndex": 0,
       "useConsistentColors": false,
       "version": "CommandV1",
       "width": "auto",
       "workflows": [],
       "xColumns": null,
       "yColumns": null
      }
     },
     "output_type": "display_data"
    }
   ],
   "source": [
    "display(days_table)"
   ]
  },
  {
   "cell_type": "code",
   "execution_count": 0,
   "metadata": {
    "application/vnd.databricks.v1+cell": {
     "cellMetadata": {
      "byteLimit": 2048000,
      "rowLimit": 10000
     },
     "inputWidgets": {},
     "nuid": "a1a5b2c4-6198-438a-816d-28f2da4bf3a3",
     "showTitle": false,
     "title": ""
    }
   },
   "outputs": [
    {
     "output_type": "display_data",
     "data": {
      "text/html": [
       "<style scoped>\n",
       "  .table-result-container {\n",
       "    max-height: 300px;\n",
       "    overflow: auto;\n",
       "  }\n",
       "  table, th, td {\n",
       "    border: 1px solid black;\n",
       "    border-collapse: collapse;\n",
       "  }\n",
       "  th, td {\n",
       "    padding: 5px;\n",
       "  }\n",
       "  th {\n",
       "    text-align: left;\n",
       "  }\n",
       "</style><div class='table-result-container'><table class='table-result'><thead style='background-color: white'><tr><th>id</th><th>lat</th><th>lon</th><th>dt</th><th>wind_speed</th><th>wind_gust</th><th>wind_deg</th><th>clouds_all</th><th>pressure</th><th>rain_1h</th><th>temp_min</th><th>temp_max</th><th>temp</th><th>weather</th></tr></thead><tbody><tr><td>1</td><td>39.9526</td><td>-75.1652</td><td>1692748800</td><td>2.91</td><td>7.36</td><td>22</td><td>99</td><td>1019</td><td>null</td><td>293.15</td><td>297.98</td><td>295.92</td><td>List(List(overcast clouds, 04n, 804, Clouds))</td></tr><tr><td>1</td><td>39.9526</td><td>-75.1652</td><td>1692752400</td><td>2.68</td><td>7.73</td><td>30</td><td>100</td><td>1019</td><td>null</td><td>290.15</td><td>296.21</td><td>293.39</td><td>List(List(overcast clouds, 04n, 804, Clouds))</td></tr><tr><td>1</td><td>39.9526</td><td>-75.1652</td><td>1692756000</td><td>2.23</td><td>7.51</td><td>34</td><td>76</td><td>1019</td><td>null</td><td>288.62</td><td>295.21</td><td>292.37</td><td>List(List(broken clouds, 04n, 803, Clouds))</td></tr><tr><td>1</td><td>39.9526</td><td>-75.1652</td><td>1692759600</td><td>1.36</td><td>4.76</td><td>33</td><td>64</td><td>1019</td><td>null</td><td>287.62</td><td>294.27</td><td>291.4</td><td>List(List(broken clouds, 04n, 803, Clouds))</td></tr><tr><td>1</td><td>39.9526</td><td>-75.1652</td><td>1692763200</td><td>1.15</td><td>3.03</td><td>13</td><td>51</td><td>1019</td><td>null</td><td>286.62</td><td>293.49</td><td>290.61</td><td>List(List(broken clouds, 04n, 803, Clouds))</td></tr><tr><td>1</td><td>39.9526</td><td>-75.1652</td><td>1692766800</td><td>1.24</td><td>2.88</td><td>2</td><td>42</td><td>1019</td><td>null</td><td>286.62</td><td>292.6</td><td>290.09</td><td>List(List(scattered clouds, 03n, 802, Clouds))</td></tr><tr><td>1</td><td>39.9526</td><td>-75.1652</td><td>1692770400</td><td>1.57</td><td>2.89</td><td>346</td><td>39</td><td>1020</td><td>null</td><td>286.62</td><td>292.43</td><td>290.13</td><td>List(List(scattered clouds, 03n, 802, Clouds))</td></tr><tr><td>1</td><td>39.9526</td><td>-75.1652</td><td>1692774000</td><td>3.09</td><td>null</td><td>330</td><td>0</td><td>1020</td><td>null</td><td>286.66</td><td>292.09</td><td>290.24</td><td>List(List(clear sky, 01n, 800, Clear))</td></tr><tr><td>1</td><td>39.9526</td><td>-75.1652</td><td>1692777600</td><td>0.89</td><td>3.58</td><td>331</td><td>3</td><td>1019</td><td>null</td><td>286.15</td><td>291.87</td><td>289.66</td><td>List(List(clear sky, 01n, 800, Clear))</td></tr><tr><td>1</td><td>39.9526</td><td>-75.1652</td><td>1692781200</td><td>0.45</td><td>3.58</td><td>234</td><td>2</td><td>1019</td><td>null</td><td>286.16</td><td>291.27</td><td>289.24</td><td>List(List(clear sky, 01n, 800, Clear))</td></tr><tr><td>1</td><td>39.9526</td><td>-75.1652</td><td>1692784800</td><td>0.45</td><td>0.89</td><td>220</td><td>5</td><td>1020</td><td>null</td><td>285.6</td><td>291.27</td><td>288.99</td><td>List(List(clear sky, 01n, 800, Clear))</td></tr><tr><td>1</td><td>39.9526</td><td>-75.1652</td><td>1692788400</td><td>1.38</td><td>4.31</td><td>14</td><td>8</td><td>1021</td><td>null</td><td>285.75</td><td>291.51</td><td>289.11</td><td>List(List(clear sky, 01d, 800, Clear))</td></tr><tr><td>1</td><td>39.9526</td><td>-75.1652</td><td>1692792000</td><td>0.45</td><td>1.79</td><td>0</td><td>7</td><td>1020</td><td>null</td><td>288.53</td><td>293.27</td><td>291.54</td><td>List(List(clear sky, 01d, 800, Clear))</td></tr><tr><td>1</td><td>39.9526</td><td>-75.1652</td><td>1692795600</td><td>2.49</td><td>3.94</td><td>36</td><td>10</td><td>1020</td><td>null</td><td>290.95</td><td>295.25</td><td>293.37</td><td>List(List(clear sky, 01d, 800, Clear))</td></tr><tr><td>1</td><td>39.9526</td><td>-75.1652</td><td>1692799200</td><td>0.45</td><td>3.58</td><td>71</td><td>44</td><td>1020</td><td>null</td><td>291.81</td><td>296.21</td><td>294.24</td><td>List(List(scattered clouds, 03d, 802, Clouds))</td></tr><tr><td>1</td><td>39.9526</td><td>-75.1652</td><td>1692802800</td><td>2.59</td><td>3.2</td><td>36</td><td>62</td><td>1020</td><td>null</td><td>293.48</td><td>296.97</td><td>295.29</td><td>List(List(broken clouds, 04d, 803, Clouds))</td></tr><tr><td>1</td><td>39.9526</td><td>-75.1652</td><td>1692806400</td><td>0.45</td><td>2.68</td><td>67</td><td>72</td><td>1019</td><td>null</td><td>295.39</td><td>298.83</td><td>297.18</td><td>List(List(broken clouds, 04d, 803, Clouds))</td></tr><tr><td>1</td><td>39.9526</td><td>-75.1652</td><td>1692810000</td><td>1.58</td><td>2.26</td><td>21</td><td>77</td><td>1020</td><td>null</td><td>296.41</td><td>299.85</td><td>297.98</td><td>List(List(broken clouds, 04d, 803, Clouds))</td></tr><tr><td>1</td><td>39.9526</td><td>-75.1652</td><td>1692813600</td><td>1.79</td><td>4.47</td><td>96</td><td>76</td><td>1019</td><td>null</td><td>297.05</td><td>300.65</td><td>299.06</td><td>List(List(broken clouds, 04d, 803, Clouds))</td></tr><tr><td>1</td><td>39.9526</td><td>-75.1652</td><td>1692817200</td><td>2.06</td><td>null</td><td>140</td><td>75</td><td>1018</td><td>null</td><td>297.46</td><td>301.21</td><td>299.56</td><td>List(List(broken clouds, 04d, 803, Clouds))</td></tr><tr><td>1</td><td>39.9526</td><td>-75.1652</td><td>1692820800</td><td>0.45</td><td>2.68</td><td>0</td><td>83</td><td>1018</td><td>null</td><td>296.8</td><td>300.76</td><td>299.13</td><td>List(List(broken clouds, 04d, 803, Clouds))</td></tr><tr><td>1</td><td>39.9526</td><td>-75.1652</td><td>1692824400</td><td>1.27</td><td>1.61</td><td>6</td><td>83</td><td>1017</td><td>null</td><td>296.35</td><td>300.21</td><td>298.62</td><td>List(List(broken clouds, 04d, 803, Clouds))</td></tr><tr><td>1</td><td>39.9526</td><td>-75.1652</td><td>1692828000</td><td>1.22</td><td>1.73</td><td>26</td><td>87</td><td>1016</td><td>null</td><td>295.8</td><td>299.32</td><td>298.05</td><td>List(List(overcast clouds, 04d, 804, Clouds))</td></tr><tr><td>1</td><td>39.9526</td><td>-75.1652</td><td>1692831600</td><td>1.65</td><td>2.76</td><td>67</td><td>90</td><td>1016</td><td>null</td><td>294.69</td><td>298.71</td><td>297.13</td><td>List(List(overcast clouds, 04d, 804, Clouds))</td></tr><tr><td>1</td><td>39.9526</td><td>-75.1652</td><td>1692835200</td><td>0.45</td><td>4.92</td><td>0</td><td>89</td><td>1015</td><td>null</td><td>293.58</td><td>297.38</td><td>295.78</td><td>List(List(overcast clouds, 04n, 804, Clouds))</td></tr><tr><td>1</td><td>39.9526</td><td>-75.1652</td><td>1692838800</td><td>1.79</td><td>6.26</td><td>132</td><td>100</td><td>1017</td><td>null</td><td>292.92</td><td>296.51</td><td>295.08</td><td>List(List(overcast clouds, 04n, 804, Clouds))</td></tr><tr><td>1</td><td>39.9526</td><td>-75.1652</td><td>1692842400</td><td>2.97</td><td>5.71</td><td>149</td><td>96</td><td>1017</td><td>null</td><td>292.97</td><td>295.68</td><td>294.58</td><td>List(List(overcast clouds, 04n, 804, Clouds))</td></tr><tr><td>1</td><td>39.9526</td><td>-75.1652</td><td>1692846000</td><td>2.33</td><td>4.8</td><td>155</td><td>98</td><td>1017</td><td>null</td><td>292.59</td><td>295.35</td><td>294.2</td><td>List(List(overcast clouds, 04n, 804, Clouds))</td></tr><tr><td>1</td><td>39.9526</td><td>-75.1652</td><td>1692849600</td><td>2.06</td><td>null</td><td>150</td><td>100</td><td>1018</td><td>null</td><td>292.14</td><td>294.91</td><td>293.86</td><td>List(List(overcast clouds, 04n, 804, Clouds))</td></tr><tr><td>1</td><td>39.9526</td><td>-75.1652</td><td>1692853200</td><td>1.88</td><td>5.46</td><td>146</td><td>99</td><td>1017</td><td>null</td><td>291.91</td><td>294.54</td><td>293.54</td><td>List(List(overcast clouds, 04n, 804, Clouds))</td></tr><tr><td>1</td><td>39.9526</td><td>-75.1652</td><td>1692856800</td><td>0.89</td><td>4.02</td><td>182</td><td>100</td><td>1018</td><td>null</td><td>291.48</td><td>294.65</td><td>293.42</td><td>List(List(overcast clouds, 04n, 804, Clouds))</td></tr><tr><td>1</td><td>39.9526</td><td>-75.1652</td><td>1692860400</td><td>1.54</td><td>null</td><td>130</td><td>100</td><td>1017</td><td>null</td><td>291.35</td><td>294.29</td><td>293.27</td><td>List(List(overcast clouds, 04n, 804, Clouds))</td></tr><tr><td>1</td><td>39.9526</td><td>-75.1652</td><td>1692864000</td><td>2.15</td><td>5.66</td><td>146</td><td>100</td><td>1017</td><td>null</td><td>291.15</td><td>294.65</td><td>293.29</td><td>List(List(overcast clouds, 04n, 804, Clouds))</td></tr><tr><td>1</td><td>39.9526</td><td>-75.1652</td><td>1692867600</td><td>2.04</td><td>5.66</td><td>149</td><td>100</td><td>1015</td><td>null</td><td>291.03</td><td>294.29</td><td>293.23</td><td>List(List(overcast clouds, 04n, 804, Clouds))</td></tr><tr><td>1</td><td>39.9526</td><td>-75.1652</td><td>1692871200</td><td>2.35</td><td>6.62</td><td>160</td><td>100</td><td>1015</td><td>null</td><td>291.03</td><td>294.35</td><td>293.17</td><td>List(List(overcast clouds, 04n, 804, Clouds))</td></tr><tr><td>1</td><td>39.9526</td><td>-75.1652</td><td>1692874800</td><td>2.53</td><td>6.55</td><td>158</td><td>100</td><td>1016</td><td>null</td><td>291.29</td><td>294.29</td><td>293.23</td><td>List(List(overcast clouds, 04d, 804, Clouds))</td></tr><tr><td>1</td><td>39.9526</td><td>-75.1652</td><td>1692878400</td><td>2.41</td><td>6.48</td><td>156</td><td>100</td><td>1017</td><td>null</td><td>291.48</td><td>294.54</td><td>293.39</td><td>List(List(overcast clouds, 04d, 804, Clouds))</td></tr><tr><td>1</td><td>39.9526</td><td>-75.1652</td><td>1692882000</td><td>0.89</td><td>4.02</td><td>0</td><td>100</td><td>1016</td><td>null</td><td>291.9</td><td>294.8</td><td>293.56</td><td>List(List(overcast clouds, 04d, 804, Clouds))</td></tr><tr><td>1</td><td>39.9526</td><td>-75.1652</td><td>1692885600</td><td>0.89</td><td>3.13</td><td>232</td><td>100</td><td>1017</td><td>null</td><td>292.42</td><td>295.35</td><td>294.03</td><td>List(List(overcast clouds, 04d, 804, Clouds))</td></tr><tr><td>1</td><td>39.9526</td><td>-75.1652</td><td>1692889200</td><td>1.34</td><td>4.47</td><td>156</td><td>100</td><td>1016</td><td>null</td><td>293.15</td><td>296.51</td><td>294.9</td><td>List(List(overcast clouds, 04d, 804, Clouds))</td></tr><tr><td>1</td><td>39.9526</td><td>-75.1652</td><td>1692892800</td><td>1.34</td><td>4.92</td><td>0</td><td>100</td><td>1016</td><td>null</td><td>293.88</td><td>296.57</td><td>295.31</td><td>List(List(overcast clouds, 04d, 804, Clouds))</td></tr><tr><td>1</td><td>39.9526</td><td>-75.1652</td><td>1692896400</td><td>0.89</td><td>2.68</td><td>149</td><td>100</td><td>1016</td><td>null</td><td>294.36</td><td>297.13</td><td>295.74</td><td>List(List(overcast clouds, 04d, 804, Clouds))</td></tr><tr><td>1</td><td>39.9526</td><td>-75.1652</td><td>1692900000</td><td>2.57</td><td>null</td><td>170</td><td>100</td><td>1015</td><td>null</td><td>294.7</td><td>297.68</td><td>296.1</td><td>List(List(overcast clouds, 04d, 804, Clouds))</td></tr><tr><td>1</td><td>39.9526</td><td>-75.1652</td><td>1692903600</td><td>4.12</td><td>null</td><td>140</td><td>100</td><td>1016</td><td>0.34</td><td>294.15</td><td>297.29</td><td>295.79</td><td>List(List(light rain, 10d, 500, Rain))</td></tr><tr><td>1</td><td>39.9526</td><td>-75.1652</td><td>1692907200</td><td>2.57</td><td>null</td><td>150</td><td>100</td><td>1015</td><td>null</td><td>292.66</td><td>296.42</td><td>294.78</td><td>List(List(overcast clouds, 04d, 804, Clouds))</td></tr><tr><td>1</td><td>39.9526</td><td>-75.1652</td><td>1692910800</td><td>0.45</td><td>3.58</td><td>175</td><td>100</td><td>1014</td><td>null</td><td>291.8</td><td>296.97</td><td>294.56</td><td>List(List(overcast clouds, 04d, 804, Clouds))</td></tr><tr><td>1</td><td>39.9526</td><td>-75.1652</td><td>1692914400</td><td>3.85</td><td>10.94</td><td>139</td><td>100</td><td>1015</td><td>null</td><td>292.14</td><td>296.97</td><td>294.77</td><td>List(List(overcast clouds, 04d, 804, Clouds))</td></tr><tr><td>1</td><td>39.9526</td><td>-75.1652</td><td>1692918000</td><td>0.45</td><td>4.47</td><td>233</td><td>100</td><td>1014</td><td>null</td><td>292.14</td><td>296.97</td><td>294.83</td><td>List(List(overcast clouds, 04d, 804, Clouds))</td></tr><tr><td>1</td><td>39.9526</td><td>-75.1652</td><td>1692921600</td><td>0.45</td><td>4.02</td><td>41</td><td>100</td><td>1015</td><td>null</td><td>292.37</td><td>296.36</td><td>294.6</td><td>List(List(overcast clouds, 04n, 804, Clouds))</td></tr><tr><td>1</td><td>39.9526</td><td>-75.1652</td><td>1692925200</td><td>3.74</td><td>11.02</td><td>147</td><td>100</td><td>1015</td><td>null</td><td>292.14</td><td>295.86</td><td>294.27</td><td>List(List(overcast clouds, 04n, 804, Clouds))</td></tr><tr><td>1</td><td>39.9526</td><td>-75.1652</td><td>1692928800</td><td>0.89</td><td>3.58</td><td>157</td><td>100</td><td>1014</td><td>null</td><td>292.16</td><td>295.61</td><td>294.08</td><td>List(List(overcast clouds, 04n, 804, Clouds))</td></tr><tr><td>1</td><td>39.9526</td><td>-75.1652</td><td>1692932400</td><td>1.79</td><td>4.02</td><td>111</td><td>100</td><td>1014</td><td>null</td><td>292.16</td><td>295.91</td><td>294.3</td><td>List(List(overcast clouds, 04n, 804, Clouds))</td></tr><tr><td>1</td><td>39.9526</td><td>-75.1652</td><td>1692936000</td><td>1.34</td><td>3.13</td><td>221</td><td>100</td><td>1013</td><td>null</td><td>292.33</td><td>295.96</td><td>294.28</td><td>List(List(overcast clouds, 04n, 804, Clouds))</td></tr><tr><td>1</td><td>39.9526</td><td>-75.1652</td><td>1692939600</td><td>0.45</td><td>3.13</td><td>3</td><td>98</td><td>1013</td><td>null</td><td>292.33</td><td>295.97</td><td>294.42</td><td>List(List(overcast clouds, 04n, 804, Clouds))</td></tr><tr><td>1</td><td>39.9526</td><td>-75.1652</td><td>1692943200</td><td>0.45</td><td>2.24</td><td>0</td><td>100</td><td>1013</td><td>null</td><td>292.45</td><td>296.21</td><td>294.63</td><td>List(List(overcast clouds, 04n, 804, Clouds))</td></tr><tr><td>1</td><td>39.9526</td><td>-75.1652</td><td>1692946800</td><td>1.54</td><td>null</td><td>150</td><td>100</td><td>1013</td><td>null</td><td>292.69</td><td>296.21</td><td>294.87</td><td>List(List(overcast clouds, 04n, 804, Clouds))</td></tr><tr><td>1</td><td>39.9526</td><td>-75.1652</td><td>1692950400</td><td>0.89</td><td>2.68</td><td>217</td><td>74</td><td>1012</td><td>null</td><td>293.1</td><td>296.21</td><td>295.08</td><td>List(List(broken clouds, 04n, 803, Clouds))</td></tr><tr><td>1</td><td>39.9526</td><td>-75.1652</td><td>1692954000</td><td>2.24</td><td>4.02</td><td>135</td><td>82</td><td>1011</td><td>null</td><td>293.48</td><td>296.21</td><td>295.36</td><td>List(List(broken clouds, 04n, 803, Clouds))</td></tr><tr><td>1</td><td>39.9526</td><td>-75.1652</td><td>1692957600</td><td>2.06</td><td>null</td><td>0</td><td>75</td><td>1011</td><td>null</td><td>293.92</td><td>296.29</td><td>295.25</td><td>List(List(broken clouds, 04n, 803, Clouds))</td></tr><tr><td>1</td><td>39.9526</td><td>-75.1652</td><td>1692961200</td><td>2.26</td><td>8.52</td><td>213</td><td>89</td><td>1012</td><td>null</td><td>293.58</td><td>296.08</td><td>295.18</td><td>List(List(overcast clouds, 04d, 804, Clouds))</td></tr><tr><td>1</td><td>39.9526</td><td>-75.1652</td><td>1692964800</td><td>0.89</td><td>3.58</td><td>174</td><td>93</td><td>1011</td><td>0.42</td><td>293.87</td><td>296.46</td><td>295.33</td><td>List(List(light rain, 10d, 500, Rain))</td></tr><tr><td>1</td><td>39.9526</td><td>-75.1652</td><td>1692968400</td><td>2.57</td><td>null</td><td>170</td><td>100</td><td>1010</td><td>0.37</td><td>294.32</td><td>296.41</td><td>295.49</td><td>List(List(light rain, 10d, 500, Rain))</td></tr><tr><td>1</td><td>39.9526</td><td>-75.1652</td><td>1692972000</td><td>0.89</td><td>3.13</td><td>157</td><td>100</td><td>1010</td><td>null</td><td>294.79</td><td>297.62</td><td>296.23</td><td>List(List(overcast clouds, 04d, 804, Clouds))</td></tr><tr><td>1</td><td>39.9526</td><td>-75.1652</td><td>1692975600</td><td>2.06</td><td>null</td><td>0</td><td>75</td><td>1012</td><td>null</td><td>295.15</td><td>298.97</td><td>297.11</td><td>List(List(broken clouds, 04d, 803, Clouds))</td></tr><tr><td>1</td><td>39.9526</td><td>-75.1652</td><td>1692979200</td><td>3.6</td><td>null</td><td>210</td><td>100</td><td>1010</td><td>null</td><td>296.36</td><td>300.8</td><td>298.36</td><td>List(List(overcast clouds, 04d, 804, Clouds))</td></tr><tr><td>1</td><td>39.9526</td><td>-75.1652</td><td>1692982800</td><td>4.12</td><td>null</td><td>230</td><td>75</td><td>1009</td><td>null</td><td>296.81</td><td>302.21</td><td>299.59</td><td>List(List(broken clouds, 04d, 803, Clouds))</td></tr><tr><td>1</td><td>39.9526</td><td>-75.1652</td><td>1692986400</td><td>3.09</td><td>null</td><td>210</td><td>75</td><td>1010</td><td>null</td><td>298.34</td><td>303.74</td><td>301.08</td><td>List(List(broken clouds, 04d, 803, Clouds))</td></tr><tr><td>1</td><td>39.9526</td><td>-75.1652</td><td>1692990000</td><td>3.6</td><td>null</td><td>250</td><td>75</td><td>1009</td><td>null</td><td>299.59</td><td>303.83</td><td>302.05</td><td>List(List(broken clouds, 04d, 803, Clouds))</td></tr><tr><td>1</td><td>39.9526</td><td>-75.1652</td><td>1692993600</td><td>1.34</td><td>4.02</td><td>292</td><td>63</td><td>1009</td><td>null</td><td>300.92</td><td>304.29</td><td>302.58</td><td>List(List(broken clouds, 04d, 803, Clouds))</td></tr><tr><td>1</td><td>39.9526</td><td>-75.1652</td><td>1692997200</td><td>1.79</td><td>5.36</td><td>219</td><td>55</td><td>1009</td><td>null</td><td>300.66</td><td>304.48</td><td>302.81</td><td>List(List(broken clouds, 04d, 803, Clouds))</td></tr><tr><td>1</td><td>39.9526</td><td>-75.1652</td><td>1693000800</td><td>0.89</td><td>2.24</td><td>29</td><td>51</td><td>1009</td><td>null</td><td>300.25</td><td>304.1</td><td>302.37</td><td>List(List(broken clouds, 04d, 803, Clouds))</td></tr><tr><td>1</td><td>39.9526</td><td>-75.1652</td><td>1693004400</td><td>1.34</td><td>4.02</td><td>192</td><td>42</td><td>1008</td><td>null</td><td>299.13</td><td>303.33</td><td>301.48</td><td>List(List(scattered clouds, 03d, 802, Clouds))</td></tr><tr><td>1</td><td>39.9526</td><td>-75.1652</td><td>1693008000</td><td>0.64</td><td>0.97</td><td>87</td><td>79</td><td>1010</td><td>null</td><td>297.46</td><td>300.94</td><td>299.38</td><td>List(List(broken clouds, 04n, 803, Clouds))</td></tr><tr><td>1</td><td>39.9526</td><td>-75.1652</td><td>1693011600</td><td>1.56</td><td>2.26</td><td>130</td><td>35</td><td>1010</td><td>null</td><td>295.8</td><td>299.6</td><td>298.02</td><td>List(List(scattered clouds, 03n, 802, Clouds))</td></tr><tr><td>1</td><td>39.9526</td><td>-75.1652</td><td>1693015200</td><td>1.98</td><td>4.41</td><td>154</td><td>18</td><td>1010</td><td>null</td><td>295.15</td><td>298.74</td><td>297.15</td><td>List(List(few clouds, 02n, 801, Clouds))</td></tr><tr><td>1</td><td>39.9526</td><td>-75.1652</td><td>1693018800</td><td>1.83</td><td>4.63</td><td>174</td><td>13</td><td>1010</td><td>null</td><td>294.62</td><td>298.18</td><td>296.63</td><td>List(List(few clouds, 02n, 801, Clouds))</td></tr><tr><td>1</td><td>39.9526</td><td>-75.1652</td><td>1693022400</td><td>1.61</td><td>4.25</td><td>183</td><td>18</td><td>1010</td><td>null</td><td>294.36</td><td>297.86</td><td>296.3</td><td>List(List(few clouds, 02n, 801, Clouds))</td></tr><tr><td>1</td><td>39.9526</td><td>-75.1652</td><td>1693026000</td><td>1.01</td><td>2.61</td><td>200</td><td>20</td><td>1010</td><td>null</td><td>294.04</td><td>297.68</td><td>296.15</td><td>List(List(few clouds, 02n, 801, Clouds))</td></tr><tr><td>1</td><td>39.9526</td><td>-75.1652</td><td>1693029600</td><td>0.0</td><td>null</td><td>0</td><td>75</td><td>1010</td><td>null</td><td>294.04</td><td>297.31</td><td>295.93</td><td>List(List(broken clouds, 04n, 803, Clouds))</td></tr><tr><td>1</td><td>39.9526</td><td>-75.1652</td><td>1693033200</td><td>2.06</td><td>null</td><td>160</td><td>40</td><td>1009</td><td>null</td><td>293.61</td><td>297.31</td><td>295.75</td><td>List(List(scattered clouds, 03n, 802, Clouds))</td></tr><tr><td>1</td><td>39.9526</td><td>-75.1652</td><td>1693036800</td><td>0.57</td><td>1.17</td><td>340</td><td>33</td><td>1008</td><td>null</td><td>293.58</td><td>297.01</td><td>295.51</td><td>List(List(scattered clouds, 03n, 802, Clouds))</td></tr><tr><td>1</td><td>39.9526</td><td>-75.1652</td><td>1693040400</td><td>0.0</td><td>null</td><td>0</td><td>40</td><td>1009</td><td>null</td><td>293.25</td><td>296.38</td><td>295.15</td><td>List(List(scattered clouds, 03n, 802, Clouds))</td></tr><tr><td>1</td><td>39.9526</td><td>-75.1652</td><td>1693044000</td><td>1.61</td><td>2.91</td><td>346</td><td>49</td><td>1009</td><td>null</td><td>292.92</td><td>296.21</td><td>294.78</td><td>List(List(scattered clouds, 03n, 802, Clouds))</td></tr><tr><td>1</td><td>39.9526</td><td>-75.1652</td><td>1693047600</td><td>1.79</td><td>4.54</td><td>349</td><td>43</td><td>1008</td><td>null</td><td>293.12</td><td>296.46</td><td>295.03</td><td>List(List(scattered clouds, 03d, 802, Clouds))</td></tr><tr><td>1</td><td>39.9526</td><td>-75.1652</td><td>1693051200</td><td>0.89</td><td>2.24</td><td>113</td><td>35</td><td>1009</td><td>null</td><td>294.03</td><td>297.57</td><td>296.07</td><td>List(List(scattered clouds, 03d, 802, Clouds))</td></tr><tr><td>1</td><td>39.9526</td><td>-75.1652</td><td>1693054800</td><td>2.57</td><td>null</td><td>30</td><td>20</td><td>1010</td><td>null</td><td>295.37</td><td>299.38</td><td>297.86</td><td>List(List(few clouds, 02d, 801, Clouds))</td></tr><tr><td>1</td><td>39.9526</td><td>-75.1652</td><td>1693058400</td><td>5.14</td><td>null</td><td>30</td><td>20</td><td>1010</td><td>null</td><td>297.1</td><td>300.95</td><td>299.38</td><td>List(List(few clouds, 02d, 801, Clouds))</td></tr><tr><td>1</td><td>39.9526</td><td>-75.1652</td><td>1693062000</td><td>1.34</td><td>5.36</td><td>47</td><td>33</td><td>1010</td><td>null</td><td>299.06</td><td>302.62</td><td>300.94</td><td>List(List(scattered clouds, 03d, 802, Clouds))</td></tr><tr><td>1</td><td>39.9526</td><td>-75.1652</td><td>1693065600</td><td>1.34</td><td>6.26</td><td>86</td><td>39</td><td>1009</td><td>null</td><td>300.17</td><td>303.73</td><td>301.96</td><td>List(List(scattered clouds, 03d, 802, Clouds))</td></tr><tr><td>1</td><td>39.9526</td><td>-75.1652</td><td>1693069200</td><td>1.34</td><td>4.47</td><td>88</td><td>43</td><td>1010</td><td>null</td><td>300.37</td><td>304.31</td><td>302.72</td><td>List(List(scattered clouds, 03d, 802, Clouds))</td></tr><tr><td>1</td><td>39.9526</td><td>-75.1652</td><td>1693072800</td><td>4.12</td><td>8.23</td><td>330</td><td>75</td><td>1009</td><td>null</td><td>300.15</td><td>304.45</td><td>302.63</td><td>List(List(broken clouds, 04d, 803, Clouds))</td></tr><tr><td>1</td><td>39.9526</td><td>-75.1652</td><td>1693076400</td><td>5.66</td><td>null</td><td>10</td><td>75</td><td>1009</td><td>null</td><td>300.47</td><td>304.84</td><td>302.83</td><td>List(List(broken clouds, 04d, 803, Clouds))</td></tr><tr><td>1</td><td>39.9526</td><td>-75.1652</td><td>1693080000</td><td>0.89</td><td>4.47</td><td>0</td><td>88</td><td>1008</td><td>null</td><td>300.8</td><td>304.84</td><td>302.94</td><td>List(List(overcast clouds, 04d, 804, Clouds))</td></tr><tr><td>1</td><td>39.9526</td><td>-75.1652</td><td>1693083600</td><td>1.34</td><td>4.47</td><td>277</td><td>68</td><td>1008</td><td>null</td><td>300.75</td><td>304.78</td><td>302.75</td><td>List(List(broken clouds, 04d, 803, Clouds))</td></tr><tr><td>1</td><td>39.9526</td><td>-75.1652</td><td>1693087200</td><td>2.24</td><td>5.36</td><td>352</td><td>53</td><td>1009</td><td>null</td><td>300.37</td><td>303.86</td><td>302.39</td><td>List(List(broken clouds, 04d, 803, Clouds))</td></tr><tr><td>1</td><td>39.9526</td><td>-75.1652</td><td>1693090800</td><td>1.79</td><td>4.47</td><td>288</td><td>44</td><td>1008</td><td>null</td><td>299.2</td><td>302.68</td><td>301.36</td><td>List(List(scattered clouds, 03d, 802, Clouds))</td></tr><tr><td>1</td><td>39.9526</td><td>-75.1652</td><td>1693094400</td><td>0.89</td><td>4.02</td><td>344</td><td>55</td><td>1009</td><td>null</td><td>297.06</td><td>301.46</td><td>299.59</td><td>List(List(broken clouds, 04n, 803, Clouds))</td></tr><tr><td>1</td><td>39.9526</td><td>-75.1652</td><td>1693098000</td><td>0.45</td><td>4.02</td><td>189</td><td>24</td><td>1011</td><td>null</td><td>294.72</td><td>300.21</td><td>297.99</td><td>List(List(few clouds, 02n, 801, Clouds))</td></tr><tr><td>1</td><td>39.9526</td><td>-75.1652</td><td>1693101600</td><td>1.22</td><td>1.85</td><td>5</td><td>54</td><td>1011</td><td>null</td><td>293.28</td><td>299.21</td><td>296.65</td><td>List(List(broken clouds, 04n, 803, Clouds))</td></tr><tr><td>1</td><td>39.9526</td><td>-75.1652</td><td>1693105200</td><td>2.4</td><td>6.74</td><td>11</td><td>43</td><td>1011</td><td>null</td><td>292.62</td><td>298.08</td><td>295.65</td><td>List(List(scattered clouds, 03n, 802, Clouds))</td></tr><tr><td>1</td><td>39.9526</td><td>-75.1652</td><td>1693108800</td><td>2.74</td><td>8.01</td><td>25</td><td>35</td><td>1011</td><td>null</td><td>292.42</td><td>297.04</td><td>294.83</td><td>List(List(scattered clouds, 03n, 802, Clouds))</td></tr><tr><td>1</td><td>39.9526</td><td>-75.1652</td><td>1693112400</td><td>2.3</td><td>7.01</td><td>12</td><td>47</td><td>1011</td><td>null</td><td>291.62</td><td>296.49</td><td>294.16</td><td>List(List(scattered clouds, 03n, 802, Clouds))</td></tr><tr><td>1</td><td>39.9526</td><td>-75.1652</td><td>1693116000</td><td>2.72</td><td>7.69</td><td>10</td><td>44</td><td>1011</td><td>null</td><td>291.31</td><td>295.94</td><td>293.6</td><td>List(List(scattered clouds, 03n, 802, Clouds))</td></tr><tr><td>1</td><td>39.9526</td><td>-75.1652</td><td>1693119600</td><td>2.06</td><td>null</td><td>340</td><td>0</td><td>1012</td><td>null</td><td>290.5</td><td>295.46</td><td>293.23</td><td>List(List(clear sky, 01n, 800, Clear))</td></tr><tr><td>1</td><td>39.9526</td><td>-75.1652</td><td>1693123200</td><td>1.98</td><td>5.79</td><td>4</td><td>97</td><td>1011</td><td>null</td><td>290.25</td><td>294.97</td><td>292.85</td><td>List(List(overcast clouds, 04n, 804, Clouds))</td></tr><tr><td>1</td><td>39.9526</td><td>-75.1652</td><td>1693126800</td><td>2.06</td><td>5.48</td><td>2</td><td>90</td><td>1012</td><td>null</td><td>289.7</td><td>294.9</td><td>292.61</td><td>List(List(overcast clouds, 04n, 804, Clouds))</td></tr><tr><td>1</td><td>39.9526</td><td>-75.1652</td><td>1693130400</td><td>2.17</td><td>5.74</td><td>0</td><td>69</td><td>1012</td><td>null</td><td>289.68</td><td>294.05</td><td>292.08</td><td>List(List(broken clouds, 04n, 803, Clouds))</td></tr><tr><td>1</td><td>39.9526</td><td>-75.1652</td><td>1693134000</td><td>2.36</td><td>6.45</td><td>5</td><td>57</td><td>1013</td><td>null</td><td>289.44</td><td>294.1</td><td>292.04</td><td>List(List(broken clouds, 04d, 803, Clouds))</td></tr><tr><td>1</td><td>39.9526</td><td>-75.1652</td><td>1693137600</td><td>2.72</td><td>5.01</td><td>14</td><td>42</td><td>1013</td><td>null</td><td>291.36</td><td>296.21</td><td>293.81</td><td>List(List(scattered clouds, 03d, 802, Clouds))</td></tr><tr><td>1</td><td>39.9526</td><td>-75.1652</td><td>1693141200</td><td>0.45</td><td>3.58</td><td>49</td><td>6</td><td>1012</td><td>null</td><td>293.87</td><td>298.12</td><td>296.37</td><td>List(List(clear sky, 01d, 800, Clear))</td></tr><tr><td>1</td><td>39.9526</td><td>-75.1652</td><td>1693144800</td><td>1.34</td><td>4.92</td><td>66</td><td>7</td><td>1012</td><td>null</td><td>295.59</td><td>299.94</td><td>298.05</td><td>List(List(clear sky, 01d, 800, Clear))</td></tr><tr><td>1</td><td>39.9526</td><td>-75.1652</td><td>1693148400</td><td>1.79</td><td>4.47</td><td>81</td><td>7</td><td>1013</td><td>null</td><td>297.47</td><td>301.51</td><td>299.65</td><td>List(List(clear sky, 01d, 800, Clear))</td></tr><tr><td>1</td><td>39.9526</td><td>-75.1652</td><td>1693152000</td><td>0.89</td><td>3.58</td><td>96</td><td>7</td><td>1012</td><td>null</td><td>298.72</td><td>302.71</td><td>300.83</td><td>List(List(clear sky, 01d, 800, Clear))</td></tr><tr><td>1</td><td>39.9526</td><td>-75.1652</td><td>1693155600</td><td>1.34</td><td>4.47</td><td>46</td><td>6</td><td>1012</td><td>null</td><td>299.83</td><td>303.76</td><td>301.93</td><td>List(List(clear sky, 01d, 800, Clear))</td></tr><tr><td>1</td><td>39.9526</td><td>-75.1652</td><td>1693159200</td><td>0.89</td><td>4.47</td><td>89</td><td>6</td><td>1012</td><td>null</td><td>300.37</td><td>304.32</td><td>302.59</td><td>List(List(clear sky, 01d, 800, Clear))</td></tr><tr><td>1</td><td>39.9526</td><td>-75.1652</td><td>1693162800</td><td>3.6</td><td>null</td><td>70</td><td>75</td><td>1012</td><td>null</td><td>300.25</td><td>304.41</td><td>302.57</td><td>List(List(broken clouds, 04d, 803, Clouds))</td></tr><tr><td>1</td><td>39.9526</td><td>-75.1652</td><td>1693166400</td><td>2.24</td><td>4.47</td><td>88</td><td>96</td><td>1011</td><td>null</td><td>300.39</td><td>304.35</td><td>302.48</td><td>List(List(overcast clouds, 04d, 804, Clouds))</td></tr><tr><td>1</td><td>39.9526</td><td>-75.1652</td><td>1693170000</td><td>0.89</td><td>2.68</td><td>84</td><td>97</td><td>1011</td><td>null</td><td>300.27</td><td>303.89</td><td>302.11</td><td>List(List(overcast clouds, 04d, 804, Clouds))</td></tr><tr><td>1</td><td>39.9526</td><td>-75.1652</td><td>1693173600</td><td>0.89</td><td>4.02</td><td>74</td><td>98</td><td>1011</td><td>null</td><td>299.71</td><td>303.07</td><td>301.46</td><td>List(List(overcast clouds, 04d, 804, Clouds))</td></tr><tr><td>1</td><td>39.9526</td><td>-75.1652</td><td>1693177200</td><td>0.89</td><td>3.13</td><td>70</td><td>98</td><td>1011</td><td>null</td><td>298.17</td><td>301.57</td><td>300.22</td><td>List(List(overcast clouds, 04d, 804, Clouds))</td></tr><tr><td>1</td><td>39.9526</td><td>-75.1652</td><td>1693180800</td><td>1.34</td><td>4.47</td><td>223</td><td>99</td><td>1012</td><td>null</td><td>296.29</td><td>300.09</td><td>298.68</td><td>List(List(overcast clouds, 04n, 804, Clouds))</td></tr><tr><td>1</td><td>39.9526</td><td>-75.1652</td><td>1693184400</td><td>0.45</td><td>2.68</td><td>128</td><td>100</td><td>1013</td><td>null</td><td>294.68</td><td>299.26</td><td>297.68</td><td>List(List(overcast clouds, 04n, 804, Clouds))</td></tr><tr><td>1</td><td>39.9526</td><td>-75.1652</td><td>1693188000</td><td>1.82</td><td>3.43</td><td>133</td><td>100</td><td>1013</td><td>null</td><td>294.55</td><td>298.71</td><td>297.11</td><td>List(List(overcast clouds, 04n, 804, Clouds))</td></tr><tr><td>1</td><td>39.9526</td><td>-75.1652</td><td>1693191600</td><td>1.43</td><td>2.51</td><td>124</td><td>100</td><td>1014</td><td>null</td><td>293.7</td><td>297.68</td><td>296.06</td><td>List(List(overcast clouds, 04n, 804, Clouds))</td></tr><tr><td>1</td><td>39.9526</td><td>-75.1652</td><td>1693195200</td><td>1.8</td><td>3.12</td><td>109</td><td>100</td><td>1014</td><td>null</td><td>292.6</td><td>297.6</td><td>295.54</td><td>List(List(overcast clouds, 04n, 804, Clouds))</td></tr><tr><td>1</td><td>39.9526</td><td>-75.1652</td><td>1693198800</td><td>1.48</td><td>3.02</td><td>118</td><td>100</td><td>1014</td><td>null</td><td>292.12</td><td>297.01</td><td>294.66</td><td>List(List(overcast clouds, 04n, 804, Clouds))</td></tr><tr><td>1</td><td>39.9526</td><td>-75.1652</td><td>1693202400</td><td>0.0</td><td>null</td><td>0</td><td>75</td><td>1015</td><td>null</td><td>292.01</td><td>296.45</td><td>294.39</td><td>List(List(broken clouds, 04n, 803, Clouds))</td></tr><tr><td>1</td><td>39.9526</td><td>-75.1652</td><td>1693206000</td><td>2.57</td><td>null</td><td>80</td><td>100</td><td>1014</td><td>null</td><td>291.29</td><td>296.27</td><td>294.31</td><td>List(List(overcast clouds, 04n, 804, Clouds))</td></tr><tr><td>1</td><td>39.9526</td><td>-75.1652</td><td>1693209600</td><td>0.45</td><td>1.79</td><td>101</td><td>99</td><td>1014</td><td>null</td><td>291.29</td><td>295.97</td><td>294.08</td><td>List(List(overcast clouds, 04n, 804, Clouds))</td></tr><tr><td>1</td><td>39.9526</td><td>-75.1652</td><td>1693213200</td><td>0.89</td><td>3.58</td><td>134</td><td>97</td><td>1014</td><td>null</td><td>291.29</td><td>295.21</td><td>293.83</td><td>List(List(overcast clouds, 04n, 804, Clouds))</td></tr><tr><td>1</td><td>39.9526</td><td>-75.1652</td><td>1693216800</td><td>3.6</td><td>null</td><td>60</td><td>75</td><td>1014</td><td>null</td><td>291.16</td><td>295.21</td><td>293.59</td><td>List(List(broken clouds, 04n, 803, Clouds))</td></tr><tr><td>1</td><td>39.9526</td><td>-75.1652</td><td>1693220400</td><td>3.09</td><td>null</td><td>80</td><td>75</td><td>1015</td><td>null</td><td>291.35</td><td>294.91</td><td>293.53</td><td>List(List(broken clouds, 04d, 803, Clouds))</td></tr><tr><td>1</td><td>39.9526</td><td>-75.1652</td><td>1693224000</td><td>4.12</td><td>null</td><td>80</td><td>75</td><td>1015</td><td>null</td><td>292.59</td><td>295.4</td><td>294.42</td><td>List(List(broken clouds, 04d, 803, Clouds))</td></tr><tr><td>1</td><td>39.9526</td><td>-75.1652</td><td>1693227600</td><td>4.63</td><td>null</td><td>100</td><td>100</td><td>1016</td><td>null</td><td>294.09</td><td>296.57</td><td>295.54</td><td>List(List(overcast clouds, 04d, 804, Clouds))</td></tr><tr><td>1</td><td>39.9526</td><td>-75.1652</td><td>1693231200</td><td>5.14</td><td>null</td><td>90</td><td>100</td><td>1015</td><td>null</td><td>295.2</td><td>297.65</td><td>296.59</td><td>List(List(overcast clouds, 04d, 804, Clouds))</td></tr><tr><td>1</td><td>39.9526</td><td>-75.1652</td><td>1693234800</td><td>1.34</td><td>5.81</td><td>158</td><td>100</td><td>1015</td><td>null</td><td>296.03</td><td>299.26</td><td>297.82</td><td>List(List(overcast clouds, 04d, 804, Clouds))</td></tr><tr><td>1</td><td>39.9526</td><td>-75.1652</td><td>1693238400</td><td>6.69</td><td>null</td><td>80</td><td>40</td><td>1015</td><td>null</td><td>297.2</td><td>300.4</td><td>299.11</td><td>List(List(scattered clouds, 03d, 802, Clouds))</td></tr><tr><td>1</td><td>39.9526</td><td>-75.1652</td><td>1693242000</td><td>1.34</td><td>4.47</td><td>70</td><td>100</td><td>1015</td><td>null</td><td>297.91</td><td>301.14</td><td>299.76</td><td>List(List(overcast clouds, 04d, 804, Clouds))</td></tr><tr><td>1</td><td>39.9526</td><td>-75.1652</td><td>1693245600</td><td>5.14</td><td>null</td><td>100</td><td>75</td><td>1015</td><td>null</td><td>297.91</td><td>301.21</td><td>299.8</td><td>List(List(broken clouds, 04d, 803, Clouds))</td></tr><tr><td>1</td><td>39.9526</td><td>-75.1652</td><td>1693249200</td><td>5.14</td><td>null</td><td>130</td><td>100</td><td>1015</td><td>null</td><td>297.67</td><td>300.65</td><td>299.44</td><td>List(List(overcast clouds, 04d, 804, Clouds))</td></tr><tr><td>1</td><td>39.9526</td><td>-75.1652</td><td>1693252800</td><td>1.34</td><td>3.58</td><td>140</td><td>100</td><td>1014</td><td>null</td><td>297.01</td><td>300.4</td><td>298.86</td><td>List(List(overcast clouds, 04d, 804, Clouds))</td></tr><tr><td>1</td><td>39.9526</td><td>-75.1652</td><td>1693256400</td><td>4.63</td><td>null</td><td>140</td><td>40</td><td>1015</td><td>null</td><td>296.81</td><td>299.91</td><td>298.35</td><td>List(List(scattered clouds, 03d, 802, Clouds))</td></tr><tr><td>1</td><td>39.9526</td><td>-75.1652</td><td>1693260000</td><td>0.89</td><td>3.58</td><td>145</td><td>100</td><td>1015</td><td>null</td><td>296.41</td><td>299.1</td><td>297.87</td><td>List(List(overcast clouds, 04d, 804, Clouds))</td></tr><tr><td>1</td><td>39.9526</td><td>-75.1652</td><td>1693263600</td><td>0.45</td><td>2.24</td><td>138</td><td>100</td><td>1014</td><td>null</td><td>295.47</td><td>298.23</td><td>297.05</td><td>List(List(overcast clouds, 04d, 804, Clouds))</td></tr><tr><td>1</td><td>39.9526</td><td>-75.1652</td><td>1693267200</td><td>0.89</td><td>4.02</td><td>71</td><td>100</td><td>1015</td><td>null</td><td>294.34</td><td>297.43</td><td>296.12</td><td>List(List(overcast clouds, 04n, 804, Clouds))</td></tr><tr><td>1</td><td>39.9526</td><td>-75.1652</td><td>1693270800</td><td>1.34</td><td>4.47</td><td>0</td><td>100</td><td>1015</td><td>null</td><td>293.57</td><td>296.54</td><td>295.43</td><td>List(List(overcast clouds, 04n, 804, Clouds))</td></tr><tr><td>1</td><td>39.9526</td><td>-75.1652</td><td>1693274400</td><td>1.34</td><td>4.02</td><td>123</td><td>100</td><td>1015</td><td>null</td><td>293.01</td><td>296.21</td><td>294.91</td><td>List(List(overcast clouds, 04n, 804, Clouds))</td></tr><tr><td>1</td><td>39.9526</td><td>-75.1652</td><td>1693278000</td><td>1.34</td><td>3.13</td><td>84</td><td>100</td><td>1015</td><td>null</td><td>292.46</td><td>295.96</td><td>294.63</td><td>List(List(overcast clouds, 04n, 804, Clouds))</td></tr><tr><td>1</td><td>39.9526</td><td>-75.1652</td><td>1693281600</td><td>0.89</td><td>3.13</td><td>98</td><td>100</td><td>1015</td><td>null</td><td>292.14</td><td>295.46</td><td>294.33</td><td>List(List(overcast clouds, 04n, 804, Clouds))</td></tr><tr><td>1</td><td>39.9526</td><td>-75.1652</td><td>1693285200</td><td>3.6</td><td>null</td><td>70</td><td>100</td><td>1015</td><td>null</td><td>292.15</td><td>295.4</td><td>294.18</td><td>List(List(overcast clouds, 04n, 804, Clouds))</td></tr><tr><td>1</td><td>39.9526</td><td>-75.1652</td><td>1693288800</td><td>3.6</td><td>null</td><td>70</td><td>100</td><td>1015</td><td>null</td><td>292.15</td><td>295.4</td><td>294.05</td><td>List(List(overcast clouds, 04n, 804, Clouds))</td></tr><tr><td>1</td><td>39.9526</td><td>-75.1652</td><td>1693292400</td><td>3.6</td><td>null</td><td>70</td><td>100</td><td>1014</td><td>null</td><td>291.9</td><td>295.25</td><td>293.8</td><td>List(List(overcast clouds, 04n, 804, Clouds))</td></tr><tr><td>1</td><td>39.9526</td><td>-75.1652</td><td>1693296000</td><td>2.57</td><td>null</td><td>70</td><td>100</td><td>1014</td><td>null</td><td>291.91</td><td>295.09</td><td>293.6</td><td>List(List(overcast clouds, 04n, 804, Clouds))</td></tr><tr><td>1</td><td>39.9526</td><td>-75.1652</td><td>1693299600</td><td>1.79</td><td>3.58</td><td>38</td><td>93</td><td>1013</td><td>null</td><td>291.81</td><td>294.69</td><td>293.56</td><td>List(List(overcast clouds, 04n, 804, Clouds))</td></tr><tr><td>1</td><td>39.9526</td><td>-75.1652</td><td>1693303200</td><td>3.6</td><td>null</td><td>30</td><td>100</td><td>1013</td><td>null</td><td>292.27</td><td>294.82</td><td>293.63</td><td>List(List(overcast clouds, 04n, 804, Clouds))</td></tr><tr><td>1</td><td>39.9526</td><td>-75.1652</td><td>1693306800</td><td>3.6</td><td>null</td><td>60</td><td>100</td><td>1014</td><td>null</td><td>292.2</td><td>294.65</td><td>293.65</td><td>List(List(overcast clouds, 04d, 804, Clouds))</td></tr><tr><td>1</td><td>39.9526</td><td>-75.1652</td><td>1693310400</td><td>3.09</td><td>null</td><td>40</td><td>100</td><td>1014</td><td>null</td><td>292.82</td><td>295.21</td><td>294.16</td><td>List(List(overcast clouds, 04d, 804, Clouds))</td></tr><tr><td>1</td><td>39.9526</td><td>-75.1652</td><td>1693314000</td><td>2.68</td><td>4.92</td><td>0</td><td>100</td><td>1013</td><td>null</td><td>293.41</td><td>296.04</td><td>294.83</td><td>List(List(overcast clouds, 04d, 804, Clouds))</td></tr><tr><td>1</td><td>39.9526</td><td>-75.1652</td><td>1693317600</td><td>3.6</td><td>null</td><td>60</td><td>100</td><td>1014</td><td>null</td><td>293.99</td><td>297.07</td><td>295.58</td><td>List(List(overcast clouds, 04d, 804, Clouds))</td></tr><tr><td>1</td><td>39.9526</td><td>-75.1652</td><td>1693321200</td><td>0.89</td><td>3.58</td><td>80</td><td>100</td><td>1013</td><td>null</td><td>295.1</td><td>297.65</td><td>296.48</td><td>List(List(overcast clouds, 04d, 804, Clouds))</td></tr><tr><td>1</td><td>39.9526</td><td>-75.1652</td><td>1693324800</td><td>4.12</td><td>null</td><td>80</td><td>100</td><td>1014</td><td>null</td><td>296.22</td><td>298.8</td><td>297.4</td><td>List(List(overcast clouds, 04d, 804, Clouds))</td></tr><tr><td>1</td><td>39.9526</td><td>-75.1652</td><td>1693328400</td><td>0.45</td><td>1.79</td><td>121</td><td>100</td><td>1013</td><td>null</td><td>296.61</td><td>299.74</td><td>298.12</td><td>List(List(overcast clouds, 04d, 804, Clouds))</td></tr><tr><td>1</td><td>39.9526</td><td>-75.1652</td><td>1693332000</td><td>2.06</td><td>null</td><td>100</td><td>100</td><td>1013</td><td>null</td><td>297.14</td><td>300.13</td><td>298.57</td><td>List(List(overcast clouds, 04d, 804, Clouds))</td></tr><tr><td>1</td><td>39.9526</td><td>-75.1652</td><td>1693335600</td><td>3.09</td><td>null</td><td>40</td><td>100</td><td>1012</td><td>null</td><td>297.66</td><td>300.68</td><td>298.79</td><td>List(List(overcast clouds, 04d, 804, Clouds))</td></tr><tr><td>1</td><td>39.9526</td><td>-75.1652</td><td>1693339200</td><td>2.06</td><td>null</td><td>30</td><td>100</td><td>1011</td><td>null</td><td>297.37</td><td>300.75</td><td>298.83</td><td>List(List(overcast clouds, 04d, 804, Clouds))</td></tr><tr><td>1</td><td>39.9526</td><td>-75.1652</td><td>1693342800</td><td>0.89</td><td>2.68</td><td>63</td><td>100</td><td>1010</td><td>null</td><td>297.66</td><td>300.6</td><td>298.88</td><td>List(List(overcast clouds, 04d, 804, Clouds))</td></tr><tr><td>1</td><td>39.9526</td><td>-75.1652</td><td>1693346400</td><td>2.3</td><td>3.96</td><td>112</td><td>100</td><td>1009</td><td>null</td><td>297.25</td><td>299.97</td><td>298.55</td><td>List(List(overcast clouds, 04d, 804, Clouds))</td></tr><tr><td>1</td><td>39.9526</td><td>-75.1652</td><td>1693350000</td><td>0.45</td><td>1.79</td><td>101</td><td>100</td><td>1009</td><td>null</td><td>296.56</td><td>299.29</td><td>298.01</td><td>List(List(overcast clouds, 04d, 804, Clouds))</td></tr><tr><td>1</td><td>39.9526</td><td>-75.1652</td><td>1693353600</td><td>0.45</td><td>1.79</td><td>123</td><td>99</td><td>1009</td><td>null</td><td>296.03</td><td>298.74</td><td>297.53</td><td>List(List(overcast clouds, 04n, 804, Clouds))</td></tr></tbody></table></div>"
      ]
     },
     "metadata": {
      "application/vnd.databricks.v1+output": {
       "addedWidgets": {},
       "aggData": [],
       "aggError": "",
       "aggOverflow": false,
       "aggSchema": [],
       "aggSeriesLimitReached": false,
       "aggType": "",
       "arguments": {},
       "columnCustomDisplayInfos": {},
       "data": [
        [
         1,
         39.9526,
         -75.1652,
         1692748800,
         2.91,
         7.36,
         22,
         99,
         1019,
         null,
         293.15,
         297.98,
         295.92,
         [
          [
           "overcast clouds",
           "04n",
           804,
           "Clouds"
          ]
         ]
        ],
        [
         1,
         39.9526,
         -75.1652,
         1692752400,
         2.68,
         7.73,
         30,
         100,
         1019,
         null,
         290.15,
         296.21,
         293.39,
         [
          [
           "overcast clouds",
           "04n",
           804,
           "Clouds"
          ]
         ]
        ],
        [
         1,
         39.9526,
         -75.1652,
         1692756000,
         2.23,
         7.51,
         34,
         76,
         1019,
         null,
         288.62,
         295.21,
         292.37,
         [
          [
           "broken clouds",
           "04n",
           803,
           "Clouds"
          ]
         ]
        ],
        [
         1,
         39.9526,
         -75.1652,
         1692759600,
         1.36,
         4.76,
         33,
         64,
         1019,
         null,
         287.62,
         294.27,
         291.4,
         [
          [
           "broken clouds",
           "04n",
           803,
           "Clouds"
          ]
         ]
        ],
        [
         1,
         39.9526,
         -75.1652,
         1692763200,
         1.15,
         3.03,
         13,
         51,
         1019,
         null,
         286.62,
         293.49,
         290.61,
         [
          [
           "broken clouds",
           "04n",
           803,
           "Clouds"
          ]
         ]
        ],
        [
         1,
         39.9526,
         -75.1652,
         1692766800,
         1.24,
         2.88,
         2,
         42,
         1019,
         null,
         286.62,
         292.6,
         290.09,
         [
          [
           "scattered clouds",
           "03n",
           802,
           "Clouds"
          ]
         ]
        ],
        [
         1,
         39.9526,
         -75.1652,
         1692770400,
         1.57,
         2.89,
         346,
         39,
         1020,
         null,
         286.62,
         292.43,
         290.13,
         [
          [
           "scattered clouds",
           "03n",
           802,
           "Clouds"
          ]
         ]
        ],
        [
         1,
         39.9526,
         -75.1652,
         1692774000,
         3.09,
         null,
         330,
         0,
         1020,
         null,
         286.66,
         292.09,
         290.24,
         [
          [
           "clear sky",
           "01n",
           800,
           "Clear"
          ]
         ]
        ],
        [
         1,
         39.9526,
         -75.1652,
         1692777600,
         0.89,
         3.58,
         331,
         3,
         1019,
         null,
         286.15,
         291.87,
         289.66,
         [
          [
           "clear sky",
           "01n",
           800,
           "Clear"
          ]
         ]
        ],
        [
         1,
         39.9526,
         -75.1652,
         1692781200,
         0.45,
         3.58,
         234,
         2,
         1019,
         null,
         286.16,
         291.27,
         289.24,
         [
          [
           "clear sky",
           "01n",
           800,
           "Clear"
          ]
         ]
        ],
        [
         1,
         39.9526,
         -75.1652,
         1692784800,
         0.45,
         0.89,
         220,
         5,
         1020,
         null,
         285.6,
         291.27,
         288.99,
         [
          [
           "clear sky",
           "01n",
           800,
           "Clear"
          ]
         ]
        ],
        [
         1,
         39.9526,
         -75.1652,
         1692788400,
         1.38,
         4.31,
         14,
         8,
         1021,
         null,
         285.75,
         291.51,
         289.11,
         [
          [
           "clear sky",
           "01d",
           800,
           "Clear"
          ]
         ]
        ],
        [
         1,
         39.9526,
         -75.1652,
         1692792000,
         0.45,
         1.79,
         0,
         7,
         1020,
         null,
         288.53,
         293.27,
         291.54,
         [
          [
           "clear sky",
           "01d",
           800,
           "Clear"
          ]
         ]
        ],
        [
         1,
         39.9526,
         -75.1652,
         1692795600,
         2.49,
         3.94,
         36,
         10,
         1020,
         null,
         290.95,
         295.25,
         293.37,
         [
          [
           "clear sky",
           "01d",
           800,
           "Clear"
          ]
         ]
        ],
        [
         1,
         39.9526,
         -75.1652,
         1692799200,
         0.45,
         3.58,
         71,
         44,
         1020,
         null,
         291.81,
         296.21,
         294.24,
         [
          [
           "scattered clouds",
           "03d",
           802,
           "Clouds"
          ]
         ]
        ],
        [
         1,
         39.9526,
         -75.1652,
         1692802800,
         2.59,
         3.2,
         36,
         62,
         1020,
         null,
         293.48,
         296.97,
         295.29,
         [
          [
           "broken clouds",
           "04d",
           803,
           "Clouds"
          ]
         ]
        ],
        [
         1,
         39.9526,
         -75.1652,
         1692806400,
         0.45,
         2.68,
         67,
         72,
         1019,
         null,
         295.39,
         298.83,
         297.18,
         [
          [
           "broken clouds",
           "04d",
           803,
           "Clouds"
          ]
         ]
        ],
        [
         1,
         39.9526,
         -75.1652,
         1692810000,
         1.58,
         2.26,
         21,
         77,
         1020,
         null,
         296.41,
         299.85,
         297.98,
         [
          [
           "broken clouds",
           "04d",
           803,
           "Clouds"
          ]
         ]
        ],
        [
         1,
         39.9526,
         -75.1652,
         1692813600,
         1.79,
         4.47,
         96,
         76,
         1019,
         null,
         297.05,
         300.65,
         299.06,
         [
          [
           "broken clouds",
           "04d",
           803,
           "Clouds"
          ]
         ]
        ],
        [
         1,
         39.9526,
         -75.1652,
         1692817200,
         2.06,
         null,
         140,
         75,
         1018,
         null,
         297.46,
         301.21,
         299.56,
         [
          [
           "broken clouds",
           "04d",
           803,
           "Clouds"
          ]
         ]
        ],
        [
         1,
         39.9526,
         -75.1652,
         1692820800,
         0.45,
         2.68,
         0,
         83,
         1018,
         null,
         296.8,
         300.76,
         299.13,
         [
          [
           "broken clouds",
           "04d",
           803,
           "Clouds"
          ]
         ]
        ],
        [
         1,
         39.9526,
         -75.1652,
         1692824400,
         1.27,
         1.61,
         6,
         83,
         1017,
         null,
         296.35,
         300.21,
         298.62,
         [
          [
           "broken clouds",
           "04d",
           803,
           "Clouds"
          ]
         ]
        ],
        [
         1,
         39.9526,
         -75.1652,
         1692828000,
         1.22,
         1.73,
         26,
         87,
         1016,
         null,
         295.8,
         299.32,
         298.05,
         [
          [
           "overcast clouds",
           "04d",
           804,
           "Clouds"
          ]
         ]
        ],
        [
         1,
         39.9526,
         -75.1652,
         1692831600,
         1.65,
         2.76,
         67,
         90,
         1016,
         null,
         294.69,
         298.71,
         297.13,
         [
          [
           "overcast clouds",
           "04d",
           804,
           "Clouds"
          ]
         ]
        ],
        [
         1,
         39.9526,
         -75.1652,
         1692835200,
         0.45,
         4.92,
         0,
         89,
         1015,
         null,
         293.58,
         297.38,
         295.78,
         [
          [
           "overcast clouds",
           "04n",
           804,
           "Clouds"
          ]
         ]
        ],
        [
         1,
         39.9526,
         -75.1652,
         1692838800,
         1.79,
         6.26,
         132,
         100,
         1017,
         null,
         292.92,
         296.51,
         295.08,
         [
          [
           "overcast clouds",
           "04n",
           804,
           "Clouds"
          ]
         ]
        ],
        [
         1,
         39.9526,
         -75.1652,
         1692842400,
         2.97,
         5.71,
         149,
         96,
         1017,
         null,
         292.97,
         295.68,
         294.58,
         [
          [
           "overcast clouds",
           "04n",
           804,
           "Clouds"
          ]
         ]
        ],
        [
         1,
         39.9526,
         -75.1652,
         1692846000,
         2.33,
         4.8,
         155,
         98,
         1017,
         null,
         292.59,
         295.35,
         294.2,
         [
          [
           "overcast clouds",
           "04n",
           804,
           "Clouds"
          ]
         ]
        ],
        [
         1,
         39.9526,
         -75.1652,
         1692849600,
         2.06,
         null,
         150,
         100,
         1018,
         null,
         292.14,
         294.91,
         293.86,
         [
          [
           "overcast clouds",
           "04n",
           804,
           "Clouds"
          ]
         ]
        ],
        [
         1,
         39.9526,
         -75.1652,
         1692853200,
         1.88,
         5.46,
         146,
         99,
         1017,
         null,
         291.91,
         294.54,
         293.54,
         [
          [
           "overcast clouds",
           "04n",
           804,
           "Clouds"
          ]
         ]
        ],
        [
         1,
         39.9526,
         -75.1652,
         1692856800,
         0.89,
         4.02,
         182,
         100,
         1018,
         null,
         291.48,
         294.65,
         293.42,
         [
          [
           "overcast clouds",
           "04n",
           804,
           "Clouds"
          ]
         ]
        ],
        [
         1,
         39.9526,
         -75.1652,
         1692860400,
         1.54,
         null,
         130,
         100,
         1017,
         null,
         291.35,
         294.29,
         293.27,
         [
          [
           "overcast clouds",
           "04n",
           804,
           "Clouds"
          ]
         ]
        ],
        [
         1,
         39.9526,
         -75.1652,
         1692864000,
         2.15,
         5.66,
         146,
         100,
         1017,
         null,
         291.15,
         294.65,
         293.29,
         [
          [
           "overcast clouds",
           "04n",
           804,
           "Clouds"
          ]
         ]
        ],
        [
         1,
         39.9526,
         -75.1652,
         1692867600,
         2.04,
         5.66,
         149,
         100,
         1015,
         null,
         291.03,
         294.29,
         293.23,
         [
          [
           "overcast clouds",
           "04n",
           804,
           "Clouds"
          ]
         ]
        ],
        [
         1,
         39.9526,
         -75.1652,
         1692871200,
         2.35,
         6.62,
         160,
         100,
         1015,
         null,
         291.03,
         294.35,
         293.17,
         [
          [
           "overcast clouds",
           "04n",
           804,
           "Clouds"
          ]
         ]
        ],
        [
         1,
         39.9526,
         -75.1652,
         1692874800,
         2.53,
         6.55,
         158,
         100,
         1016,
         null,
         291.29,
         294.29,
         293.23,
         [
          [
           "overcast clouds",
           "04d",
           804,
           "Clouds"
          ]
         ]
        ],
        [
         1,
         39.9526,
         -75.1652,
         1692878400,
         2.41,
         6.48,
         156,
         100,
         1017,
         null,
         291.48,
         294.54,
         293.39,
         [
          [
           "overcast clouds",
           "04d",
           804,
           "Clouds"
          ]
         ]
        ],
        [
         1,
         39.9526,
         -75.1652,
         1692882000,
         0.89,
         4.02,
         0,
         100,
         1016,
         null,
         291.9,
         294.8,
         293.56,
         [
          [
           "overcast clouds",
           "04d",
           804,
           "Clouds"
          ]
         ]
        ],
        [
         1,
         39.9526,
         -75.1652,
         1692885600,
         0.89,
         3.13,
         232,
         100,
         1017,
         null,
         292.42,
         295.35,
         294.03,
         [
          [
           "overcast clouds",
           "04d",
           804,
           "Clouds"
          ]
         ]
        ],
        [
         1,
         39.9526,
         -75.1652,
         1692889200,
         1.34,
         4.47,
         156,
         100,
         1016,
         null,
         293.15,
         296.51,
         294.9,
         [
          [
           "overcast clouds",
           "04d",
           804,
           "Clouds"
          ]
         ]
        ],
        [
         1,
         39.9526,
         -75.1652,
         1692892800,
         1.34,
         4.92,
         0,
         100,
         1016,
         null,
         293.88,
         296.57,
         295.31,
         [
          [
           "overcast clouds",
           "04d",
           804,
           "Clouds"
          ]
         ]
        ],
        [
         1,
         39.9526,
         -75.1652,
         1692896400,
         0.89,
         2.68,
         149,
         100,
         1016,
         null,
         294.36,
         297.13,
         295.74,
         [
          [
           "overcast clouds",
           "04d",
           804,
           "Clouds"
          ]
         ]
        ],
        [
         1,
         39.9526,
         -75.1652,
         1692900000,
         2.57,
         null,
         170,
         100,
         1015,
         null,
         294.7,
         297.68,
         296.1,
         [
          [
           "overcast clouds",
           "04d",
           804,
           "Clouds"
          ]
         ]
        ],
        [
         1,
         39.9526,
         -75.1652,
         1692903600,
         4.12,
         null,
         140,
         100,
         1016,
         0.34,
         294.15,
         297.29,
         295.79,
         [
          [
           "light rain",
           "10d",
           500,
           "Rain"
          ]
         ]
        ],
        [
         1,
         39.9526,
         -75.1652,
         1692907200,
         2.57,
         null,
         150,
         100,
         1015,
         null,
         292.66,
         296.42,
         294.78,
         [
          [
           "overcast clouds",
           "04d",
           804,
           "Clouds"
          ]
         ]
        ],
        [
         1,
         39.9526,
         -75.1652,
         1692910800,
         0.45,
         3.58,
         175,
         100,
         1014,
         null,
         291.8,
         296.97,
         294.56,
         [
          [
           "overcast clouds",
           "04d",
           804,
           "Clouds"
          ]
         ]
        ],
        [
         1,
         39.9526,
         -75.1652,
         1692914400,
         3.85,
         10.94,
         139,
         100,
         1015,
         null,
         292.14,
         296.97,
         294.77,
         [
          [
           "overcast clouds",
           "04d",
           804,
           "Clouds"
          ]
         ]
        ],
        [
         1,
         39.9526,
         -75.1652,
         1692918000,
         0.45,
         4.47,
         233,
         100,
         1014,
         null,
         292.14,
         296.97,
         294.83,
         [
          [
           "overcast clouds",
           "04d",
           804,
           "Clouds"
          ]
         ]
        ],
        [
         1,
         39.9526,
         -75.1652,
         1692921600,
         0.45,
         4.02,
         41,
         100,
         1015,
         null,
         292.37,
         296.36,
         294.6,
         [
          [
           "overcast clouds",
           "04n",
           804,
           "Clouds"
          ]
         ]
        ],
        [
         1,
         39.9526,
         -75.1652,
         1692925200,
         3.74,
         11.02,
         147,
         100,
         1015,
         null,
         292.14,
         295.86,
         294.27,
         [
          [
           "overcast clouds",
           "04n",
           804,
           "Clouds"
          ]
         ]
        ],
        [
         1,
         39.9526,
         -75.1652,
         1692928800,
         0.89,
         3.58,
         157,
         100,
         1014,
         null,
         292.16,
         295.61,
         294.08,
         [
          [
           "overcast clouds",
           "04n",
           804,
           "Clouds"
          ]
         ]
        ],
        [
         1,
         39.9526,
         -75.1652,
         1692932400,
         1.79,
         4.02,
         111,
         100,
         1014,
         null,
         292.16,
         295.91,
         294.3,
         [
          [
           "overcast clouds",
           "04n",
           804,
           "Clouds"
          ]
         ]
        ],
        [
         1,
         39.9526,
         -75.1652,
         1692936000,
         1.34,
         3.13,
         221,
         100,
         1013,
         null,
         292.33,
         295.96,
         294.28,
         [
          [
           "overcast clouds",
           "04n",
           804,
           "Clouds"
          ]
         ]
        ],
        [
         1,
         39.9526,
         -75.1652,
         1692939600,
         0.45,
         3.13,
         3,
         98,
         1013,
         null,
         292.33,
         295.97,
         294.42,
         [
          [
           "overcast clouds",
           "04n",
           804,
           "Clouds"
          ]
         ]
        ],
        [
         1,
         39.9526,
         -75.1652,
         1692943200,
         0.45,
         2.24,
         0,
         100,
         1013,
         null,
         292.45,
         296.21,
         294.63,
         [
          [
           "overcast clouds",
           "04n",
           804,
           "Clouds"
          ]
         ]
        ],
        [
         1,
         39.9526,
         -75.1652,
         1692946800,
         1.54,
         null,
         150,
         100,
         1013,
         null,
         292.69,
         296.21,
         294.87,
         [
          [
           "overcast clouds",
           "04n",
           804,
           "Clouds"
          ]
         ]
        ],
        [
         1,
         39.9526,
         -75.1652,
         1692950400,
         0.89,
         2.68,
         217,
         74,
         1012,
         null,
         293.1,
         296.21,
         295.08,
         [
          [
           "broken clouds",
           "04n",
           803,
           "Clouds"
          ]
         ]
        ],
        [
         1,
         39.9526,
         -75.1652,
         1692954000,
         2.24,
         4.02,
         135,
         82,
         1011,
         null,
         293.48,
         296.21,
         295.36,
         [
          [
           "broken clouds",
           "04n",
           803,
           "Clouds"
          ]
         ]
        ],
        [
         1,
         39.9526,
         -75.1652,
         1692957600,
         2.06,
         null,
         0,
         75,
         1011,
         null,
         293.92,
         296.29,
         295.25,
         [
          [
           "broken clouds",
           "04n",
           803,
           "Clouds"
          ]
         ]
        ],
        [
         1,
         39.9526,
         -75.1652,
         1692961200,
         2.26,
         8.52,
         213,
         89,
         1012,
         null,
         293.58,
         296.08,
         295.18,
         [
          [
           "overcast clouds",
           "04d",
           804,
           "Clouds"
          ]
         ]
        ],
        [
         1,
         39.9526,
         -75.1652,
         1692964800,
         0.89,
         3.58,
         174,
         93,
         1011,
         0.42,
         293.87,
         296.46,
         295.33,
         [
          [
           "light rain",
           "10d",
           500,
           "Rain"
          ]
         ]
        ],
        [
         1,
         39.9526,
         -75.1652,
         1692968400,
         2.57,
         null,
         170,
         100,
         1010,
         0.37,
         294.32,
         296.41,
         295.49,
         [
          [
           "light rain",
           "10d",
           500,
           "Rain"
          ]
         ]
        ],
        [
         1,
         39.9526,
         -75.1652,
         1692972000,
         0.89,
         3.13,
         157,
         100,
         1010,
         null,
         294.79,
         297.62,
         296.23,
         [
          [
           "overcast clouds",
           "04d",
           804,
           "Clouds"
          ]
         ]
        ],
        [
         1,
         39.9526,
         -75.1652,
         1692975600,
         2.06,
         null,
         0,
         75,
         1012,
         null,
         295.15,
         298.97,
         297.11,
         [
          [
           "broken clouds",
           "04d",
           803,
           "Clouds"
          ]
         ]
        ],
        [
         1,
         39.9526,
         -75.1652,
         1692979200,
         3.6,
         null,
         210,
         100,
         1010,
         null,
         296.36,
         300.8,
         298.36,
         [
          [
           "overcast clouds",
           "04d",
           804,
           "Clouds"
          ]
         ]
        ],
        [
         1,
         39.9526,
         -75.1652,
         1692982800,
         4.12,
         null,
         230,
         75,
         1009,
         null,
         296.81,
         302.21,
         299.59,
         [
          [
           "broken clouds",
           "04d",
           803,
           "Clouds"
          ]
         ]
        ],
        [
         1,
         39.9526,
         -75.1652,
         1692986400,
         3.09,
         null,
         210,
         75,
         1010,
         null,
         298.34,
         303.74,
         301.08,
         [
          [
           "broken clouds",
           "04d",
           803,
           "Clouds"
          ]
         ]
        ],
        [
         1,
         39.9526,
         -75.1652,
         1692990000,
         3.6,
         null,
         250,
         75,
         1009,
         null,
         299.59,
         303.83,
         302.05,
         [
          [
           "broken clouds",
           "04d",
           803,
           "Clouds"
          ]
         ]
        ],
        [
         1,
         39.9526,
         -75.1652,
         1692993600,
         1.34,
         4.02,
         292,
         63,
         1009,
         null,
         300.92,
         304.29,
         302.58,
         [
          [
           "broken clouds",
           "04d",
           803,
           "Clouds"
          ]
         ]
        ],
        [
         1,
         39.9526,
         -75.1652,
         1692997200,
         1.79,
         5.36,
         219,
         55,
         1009,
         null,
         300.66,
         304.48,
         302.81,
         [
          [
           "broken clouds",
           "04d",
           803,
           "Clouds"
          ]
         ]
        ],
        [
         1,
         39.9526,
         -75.1652,
         1693000800,
         0.89,
         2.24,
         29,
         51,
         1009,
         null,
         300.25,
         304.1,
         302.37,
         [
          [
           "broken clouds",
           "04d",
           803,
           "Clouds"
          ]
         ]
        ],
        [
         1,
         39.9526,
         -75.1652,
         1693004400,
         1.34,
         4.02,
         192,
         42,
         1008,
         null,
         299.13,
         303.33,
         301.48,
         [
          [
           "scattered clouds",
           "03d",
           802,
           "Clouds"
          ]
         ]
        ],
        [
         1,
         39.9526,
         -75.1652,
         1693008000,
         0.64,
         0.97,
         87,
         79,
         1010,
         null,
         297.46,
         300.94,
         299.38,
         [
          [
           "broken clouds",
           "04n",
           803,
           "Clouds"
          ]
         ]
        ],
        [
         1,
         39.9526,
         -75.1652,
         1693011600,
         1.56,
         2.26,
         130,
         35,
         1010,
         null,
         295.8,
         299.6,
         298.02,
         [
          [
           "scattered clouds",
           "03n",
           802,
           "Clouds"
          ]
         ]
        ],
        [
         1,
         39.9526,
         -75.1652,
         1693015200,
         1.98,
         4.41,
         154,
         18,
         1010,
         null,
         295.15,
         298.74,
         297.15,
         [
          [
           "few clouds",
           "02n",
           801,
           "Clouds"
          ]
         ]
        ],
        [
         1,
         39.9526,
         -75.1652,
         1693018800,
         1.83,
         4.63,
         174,
         13,
         1010,
         null,
         294.62,
         298.18,
         296.63,
         [
          [
           "few clouds",
           "02n",
           801,
           "Clouds"
          ]
         ]
        ],
        [
         1,
         39.9526,
         -75.1652,
         1693022400,
         1.61,
         4.25,
         183,
         18,
         1010,
         null,
         294.36,
         297.86,
         296.3,
         [
          [
           "few clouds",
           "02n",
           801,
           "Clouds"
          ]
         ]
        ],
        [
         1,
         39.9526,
         -75.1652,
         1693026000,
         1.01,
         2.61,
         200,
         20,
         1010,
         null,
         294.04,
         297.68,
         296.15,
         [
          [
           "few clouds",
           "02n",
           801,
           "Clouds"
          ]
         ]
        ],
        [
         1,
         39.9526,
         -75.1652,
         1693029600,
         0.0,
         null,
         0,
         75,
         1010,
         null,
         294.04,
         297.31,
         295.93,
         [
          [
           "broken clouds",
           "04n",
           803,
           "Clouds"
          ]
         ]
        ],
        [
         1,
         39.9526,
         -75.1652,
         1693033200,
         2.06,
         null,
         160,
         40,
         1009,
         null,
         293.61,
         297.31,
         295.75,
         [
          [
           "scattered clouds",
           "03n",
           802,
           "Clouds"
          ]
         ]
        ],
        [
         1,
         39.9526,
         -75.1652,
         1693036800,
         0.57,
         1.17,
         340,
         33,
         1008,
         null,
         293.58,
         297.01,
         295.51,
         [
          [
           "scattered clouds",
           "03n",
           802,
           "Clouds"
          ]
         ]
        ],
        [
         1,
         39.9526,
         -75.1652,
         1693040400,
         0.0,
         null,
         0,
         40,
         1009,
         null,
         293.25,
         296.38,
         295.15,
         [
          [
           "scattered clouds",
           "03n",
           802,
           "Clouds"
          ]
         ]
        ],
        [
         1,
         39.9526,
         -75.1652,
         1693044000,
         1.61,
         2.91,
         346,
         49,
         1009,
         null,
         292.92,
         296.21,
         294.78,
         [
          [
           "scattered clouds",
           "03n",
           802,
           "Clouds"
          ]
         ]
        ],
        [
         1,
         39.9526,
         -75.1652,
         1693047600,
         1.79,
         4.54,
         349,
         43,
         1008,
         null,
         293.12,
         296.46,
         295.03,
         [
          [
           "scattered clouds",
           "03d",
           802,
           "Clouds"
          ]
         ]
        ],
        [
         1,
         39.9526,
         -75.1652,
         1693051200,
         0.89,
         2.24,
         113,
         35,
         1009,
         null,
         294.03,
         297.57,
         296.07,
         [
          [
           "scattered clouds",
           "03d",
           802,
           "Clouds"
          ]
         ]
        ],
        [
         1,
         39.9526,
         -75.1652,
         1693054800,
         2.57,
         null,
         30,
         20,
         1010,
         null,
         295.37,
         299.38,
         297.86,
         [
          [
           "few clouds",
           "02d",
           801,
           "Clouds"
          ]
         ]
        ],
        [
         1,
         39.9526,
         -75.1652,
         1693058400,
         5.14,
         null,
         30,
         20,
         1010,
         null,
         297.1,
         300.95,
         299.38,
         [
          [
           "few clouds",
           "02d",
           801,
           "Clouds"
          ]
         ]
        ],
        [
         1,
         39.9526,
         -75.1652,
         1693062000,
         1.34,
         5.36,
         47,
         33,
         1010,
         null,
         299.06,
         302.62,
         300.94,
         [
          [
           "scattered clouds",
           "03d",
           802,
           "Clouds"
          ]
         ]
        ],
        [
         1,
         39.9526,
         -75.1652,
         1693065600,
         1.34,
         6.26,
         86,
         39,
         1009,
         null,
         300.17,
         303.73,
         301.96,
         [
          [
           "scattered clouds",
           "03d",
           802,
           "Clouds"
          ]
         ]
        ],
        [
         1,
         39.9526,
         -75.1652,
         1693069200,
         1.34,
         4.47,
         88,
         43,
         1010,
         null,
         300.37,
         304.31,
         302.72,
         [
          [
           "scattered clouds",
           "03d",
           802,
           "Clouds"
          ]
         ]
        ],
        [
         1,
         39.9526,
         -75.1652,
         1693072800,
         4.12,
         8.23,
         330,
         75,
         1009,
         null,
         300.15,
         304.45,
         302.63,
         [
          [
           "broken clouds",
           "04d",
           803,
           "Clouds"
          ]
         ]
        ],
        [
         1,
         39.9526,
         -75.1652,
         1693076400,
         5.66,
         null,
         10,
         75,
         1009,
         null,
         300.47,
         304.84,
         302.83,
         [
          [
           "broken clouds",
           "04d",
           803,
           "Clouds"
          ]
         ]
        ],
        [
         1,
         39.9526,
         -75.1652,
         1693080000,
         0.89,
         4.47,
         0,
         88,
         1008,
         null,
         300.8,
         304.84,
         302.94,
         [
          [
           "overcast clouds",
           "04d",
           804,
           "Clouds"
          ]
         ]
        ],
        [
         1,
         39.9526,
         -75.1652,
         1693083600,
         1.34,
         4.47,
         277,
         68,
         1008,
         null,
         300.75,
         304.78,
         302.75,
         [
          [
           "broken clouds",
           "04d",
           803,
           "Clouds"
          ]
         ]
        ],
        [
         1,
         39.9526,
         -75.1652,
         1693087200,
         2.24,
         5.36,
         352,
         53,
         1009,
         null,
         300.37,
         303.86,
         302.39,
         [
          [
           "broken clouds",
           "04d",
           803,
           "Clouds"
          ]
         ]
        ],
        [
         1,
         39.9526,
         -75.1652,
         1693090800,
         1.79,
         4.47,
         288,
         44,
         1008,
         null,
         299.2,
         302.68,
         301.36,
         [
          [
           "scattered clouds",
           "03d",
           802,
           "Clouds"
          ]
         ]
        ],
        [
         1,
         39.9526,
         -75.1652,
         1693094400,
         0.89,
         4.02,
         344,
         55,
         1009,
         null,
         297.06,
         301.46,
         299.59,
         [
          [
           "broken clouds",
           "04n",
           803,
           "Clouds"
          ]
         ]
        ],
        [
         1,
         39.9526,
         -75.1652,
         1693098000,
         0.45,
         4.02,
         189,
         24,
         1011,
         null,
         294.72,
         300.21,
         297.99,
         [
          [
           "few clouds",
           "02n",
           801,
           "Clouds"
          ]
         ]
        ],
        [
         1,
         39.9526,
         -75.1652,
         1693101600,
         1.22,
         1.85,
         5,
         54,
         1011,
         null,
         293.28,
         299.21,
         296.65,
         [
          [
           "broken clouds",
           "04n",
           803,
           "Clouds"
          ]
         ]
        ],
        [
         1,
         39.9526,
         -75.1652,
         1693105200,
         2.4,
         6.74,
         11,
         43,
         1011,
         null,
         292.62,
         298.08,
         295.65,
         [
          [
           "scattered clouds",
           "03n",
           802,
           "Clouds"
          ]
         ]
        ],
        [
         1,
         39.9526,
         -75.1652,
         1693108800,
         2.74,
         8.01,
         25,
         35,
         1011,
         null,
         292.42,
         297.04,
         294.83,
         [
          [
           "scattered clouds",
           "03n",
           802,
           "Clouds"
          ]
         ]
        ],
        [
         1,
         39.9526,
         -75.1652,
         1693112400,
         2.3,
         7.01,
         12,
         47,
         1011,
         null,
         291.62,
         296.49,
         294.16,
         [
          [
           "scattered clouds",
           "03n",
           802,
           "Clouds"
          ]
         ]
        ],
        [
         1,
         39.9526,
         -75.1652,
         1693116000,
         2.72,
         7.69,
         10,
         44,
         1011,
         null,
         291.31,
         295.94,
         293.6,
         [
          [
           "scattered clouds",
           "03n",
           802,
           "Clouds"
          ]
         ]
        ],
        [
         1,
         39.9526,
         -75.1652,
         1693119600,
         2.06,
         null,
         340,
         0,
         1012,
         null,
         290.5,
         295.46,
         293.23,
         [
          [
           "clear sky",
           "01n",
           800,
           "Clear"
          ]
         ]
        ],
        [
         1,
         39.9526,
         -75.1652,
         1693123200,
         1.98,
         5.79,
         4,
         97,
         1011,
         null,
         290.25,
         294.97,
         292.85,
         [
          [
           "overcast clouds",
           "04n",
           804,
           "Clouds"
          ]
         ]
        ],
        [
         1,
         39.9526,
         -75.1652,
         1693126800,
         2.06,
         5.48,
         2,
         90,
         1012,
         null,
         289.7,
         294.9,
         292.61,
         [
          [
           "overcast clouds",
           "04n",
           804,
           "Clouds"
          ]
         ]
        ],
        [
         1,
         39.9526,
         -75.1652,
         1693130400,
         2.17,
         5.74,
         0,
         69,
         1012,
         null,
         289.68,
         294.05,
         292.08,
         [
          [
           "broken clouds",
           "04n",
           803,
           "Clouds"
          ]
         ]
        ],
        [
         1,
         39.9526,
         -75.1652,
         1693134000,
         2.36,
         6.45,
         5,
         57,
         1013,
         null,
         289.44,
         294.1,
         292.04,
         [
          [
           "broken clouds",
           "04d",
           803,
           "Clouds"
          ]
         ]
        ],
        [
         1,
         39.9526,
         -75.1652,
         1693137600,
         2.72,
         5.01,
         14,
         42,
         1013,
         null,
         291.36,
         296.21,
         293.81,
         [
          [
           "scattered clouds",
           "03d",
           802,
           "Clouds"
          ]
         ]
        ],
        [
         1,
         39.9526,
         -75.1652,
         1693141200,
         0.45,
         3.58,
         49,
         6,
         1012,
         null,
         293.87,
         298.12,
         296.37,
         [
          [
           "clear sky",
           "01d",
           800,
           "Clear"
          ]
         ]
        ],
        [
         1,
         39.9526,
         -75.1652,
         1693144800,
         1.34,
         4.92,
         66,
         7,
         1012,
         null,
         295.59,
         299.94,
         298.05,
         [
          [
           "clear sky",
           "01d",
           800,
           "Clear"
          ]
         ]
        ],
        [
         1,
         39.9526,
         -75.1652,
         1693148400,
         1.79,
         4.47,
         81,
         7,
         1013,
         null,
         297.47,
         301.51,
         299.65,
         [
          [
           "clear sky",
           "01d",
           800,
           "Clear"
          ]
         ]
        ],
        [
         1,
         39.9526,
         -75.1652,
         1693152000,
         0.89,
         3.58,
         96,
         7,
         1012,
         null,
         298.72,
         302.71,
         300.83,
         [
          [
           "clear sky",
           "01d",
           800,
           "Clear"
          ]
         ]
        ],
        [
         1,
         39.9526,
         -75.1652,
         1693155600,
         1.34,
         4.47,
         46,
         6,
         1012,
         null,
         299.83,
         303.76,
         301.93,
         [
          [
           "clear sky",
           "01d",
           800,
           "Clear"
          ]
         ]
        ],
        [
         1,
         39.9526,
         -75.1652,
         1693159200,
         0.89,
         4.47,
         89,
         6,
         1012,
         null,
         300.37,
         304.32,
         302.59,
         [
          [
           "clear sky",
           "01d",
           800,
           "Clear"
          ]
         ]
        ],
        [
         1,
         39.9526,
         -75.1652,
         1693162800,
         3.6,
         null,
         70,
         75,
         1012,
         null,
         300.25,
         304.41,
         302.57,
         [
          [
           "broken clouds",
           "04d",
           803,
           "Clouds"
          ]
         ]
        ],
        [
         1,
         39.9526,
         -75.1652,
         1693166400,
         2.24,
         4.47,
         88,
         96,
         1011,
         null,
         300.39,
         304.35,
         302.48,
         [
          [
           "overcast clouds",
           "04d",
           804,
           "Clouds"
          ]
         ]
        ],
        [
         1,
         39.9526,
         -75.1652,
         1693170000,
         0.89,
         2.68,
         84,
         97,
         1011,
         null,
         300.27,
         303.89,
         302.11,
         [
          [
           "overcast clouds",
           "04d",
           804,
           "Clouds"
          ]
         ]
        ],
        [
         1,
         39.9526,
         -75.1652,
         1693173600,
         0.89,
         4.02,
         74,
         98,
         1011,
         null,
         299.71,
         303.07,
         301.46,
         [
          [
           "overcast clouds",
           "04d",
           804,
           "Clouds"
          ]
         ]
        ],
        [
         1,
         39.9526,
         -75.1652,
         1693177200,
         0.89,
         3.13,
         70,
         98,
         1011,
         null,
         298.17,
         301.57,
         300.22,
         [
          [
           "overcast clouds",
           "04d",
           804,
           "Clouds"
          ]
         ]
        ],
        [
         1,
         39.9526,
         -75.1652,
         1693180800,
         1.34,
         4.47,
         223,
         99,
         1012,
         null,
         296.29,
         300.09,
         298.68,
         [
          [
           "overcast clouds",
           "04n",
           804,
           "Clouds"
          ]
         ]
        ],
        [
         1,
         39.9526,
         -75.1652,
         1693184400,
         0.45,
         2.68,
         128,
         100,
         1013,
         null,
         294.68,
         299.26,
         297.68,
         [
          [
           "overcast clouds",
           "04n",
           804,
           "Clouds"
          ]
         ]
        ],
        [
         1,
         39.9526,
         -75.1652,
         1693188000,
         1.82,
         3.43,
         133,
         100,
         1013,
         null,
         294.55,
         298.71,
         297.11,
         [
          [
           "overcast clouds",
           "04n",
           804,
           "Clouds"
          ]
         ]
        ],
        [
         1,
         39.9526,
         -75.1652,
         1693191600,
         1.43,
         2.51,
         124,
         100,
         1014,
         null,
         293.7,
         297.68,
         296.06,
         [
          [
           "overcast clouds",
           "04n",
           804,
           "Clouds"
          ]
         ]
        ],
        [
         1,
         39.9526,
         -75.1652,
         1693195200,
         1.8,
         3.12,
         109,
         100,
         1014,
         null,
         292.6,
         297.6,
         295.54,
         [
          [
           "overcast clouds",
           "04n",
           804,
           "Clouds"
          ]
         ]
        ],
        [
         1,
         39.9526,
         -75.1652,
         1693198800,
         1.48,
         3.02,
         118,
         100,
         1014,
         null,
         292.12,
         297.01,
         294.66,
         [
          [
           "overcast clouds",
           "04n",
           804,
           "Clouds"
          ]
         ]
        ],
        [
         1,
         39.9526,
         -75.1652,
         1693202400,
         0.0,
         null,
         0,
         75,
         1015,
         null,
         292.01,
         296.45,
         294.39,
         [
          [
           "broken clouds",
           "04n",
           803,
           "Clouds"
          ]
         ]
        ],
        [
         1,
         39.9526,
         -75.1652,
         1693206000,
         2.57,
         null,
         80,
         100,
         1014,
         null,
         291.29,
         296.27,
         294.31,
         [
          [
           "overcast clouds",
           "04n",
           804,
           "Clouds"
          ]
         ]
        ],
        [
         1,
         39.9526,
         -75.1652,
         1693209600,
         0.45,
         1.79,
         101,
         99,
         1014,
         null,
         291.29,
         295.97,
         294.08,
         [
          [
           "overcast clouds",
           "04n",
           804,
           "Clouds"
          ]
         ]
        ],
        [
         1,
         39.9526,
         -75.1652,
         1693213200,
         0.89,
         3.58,
         134,
         97,
         1014,
         null,
         291.29,
         295.21,
         293.83,
         [
          [
           "overcast clouds",
           "04n",
           804,
           "Clouds"
          ]
         ]
        ],
        [
         1,
         39.9526,
         -75.1652,
         1693216800,
         3.6,
         null,
         60,
         75,
         1014,
         null,
         291.16,
         295.21,
         293.59,
         [
          [
           "broken clouds",
           "04n",
           803,
           "Clouds"
          ]
         ]
        ],
        [
         1,
         39.9526,
         -75.1652,
         1693220400,
         3.09,
         null,
         80,
         75,
         1015,
         null,
         291.35,
         294.91,
         293.53,
         [
          [
           "broken clouds",
           "04d",
           803,
           "Clouds"
          ]
         ]
        ],
        [
         1,
         39.9526,
         -75.1652,
         1693224000,
         4.12,
         null,
         80,
         75,
         1015,
         null,
         292.59,
         295.4,
         294.42,
         [
          [
           "broken clouds",
           "04d",
           803,
           "Clouds"
          ]
         ]
        ],
        [
         1,
         39.9526,
         -75.1652,
         1693227600,
         4.63,
         null,
         100,
         100,
         1016,
         null,
         294.09,
         296.57,
         295.54,
         [
          [
           "overcast clouds",
           "04d",
           804,
           "Clouds"
          ]
         ]
        ],
        [
         1,
         39.9526,
         -75.1652,
         1693231200,
         5.14,
         null,
         90,
         100,
         1015,
         null,
         295.2,
         297.65,
         296.59,
         [
          [
           "overcast clouds",
           "04d",
           804,
           "Clouds"
          ]
         ]
        ],
        [
         1,
         39.9526,
         -75.1652,
         1693234800,
         1.34,
         5.81,
         158,
         100,
         1015,
         null,
         296.03,
         299.26,
         297.82,
         [
          [
           "overcast clouds",
           "04d",
           804,
           "Clouds"
          ]
         ]
        ],
        [
         1,
         39.9526,
         -75.1652,
         1693238400,
         6.69,
         null,
         80,
         40,
         1015,
         null,
         297.2,
         300.4,
         299.11,
         [
          [
           "scattered clouds",
           "03d",
           802,
           "Clouds"
          ]
         ]
        ],
        [
         1,
         39.9526,
         -75.1652,
         1693242000,
         1.34,
         4.47,
         70,
         100,
         1015,
         null,
         297.91,
         301.14,
         299.76,
         [
          [
           "overcast clouds",
           "04d",
           804,
           "Clouds"
          ]
         ]
        ],
        [
         1,
         39.9526,
         -75.1652,
         1693245600,
         5.14,
         null,
         100,
         75,
         1015,
         null,
         297.91,
         301.21,
         299.8,
         [
          [
           "broken clouds",
           "04d",
           803,
           "Clouds"
          ]
         ]
        ],
        [
         1,
         39.9526,
         -75.1652,
         1693249200,
         5.14,
         null,
         130,
         100,
         1015,
         null,
         297.67,
         300.65,
         299.44,
         [
          [
           "overcast clouds",
           "04d",
           804,
           "Clouds"
          ]
         ]
        ],
        [
         1,
         39.9526,
         -75.1652,
         1693252800,
         1.34,
         3.58,
         140,
         100,
         1014,
         null,
         297.01,
         300.4,
         298.86,
         [
          [
           "overcast clouds",
           "04d",
           804,
           "Clouds"
          ]
         ]
        ],
        [
         1,
         39.9526,
         -75.1652,
         1693256400,
         4.63,
         null,
         140,
         40,
         1015,
         null,
         296.81,
         299.91,
         298.35,
         [
          [
           "scattered clouds",
           "03d",
           802,
           "Clouds"
          ]
         ]
        ],
        [
         1,
         39.9526,
         -75.1652,
         1693260000,
         0.89,
         3.58,
         145,
         100,
         1015,
         null,
         296.41,
         299.1,
         297.87,
         [
          [
           "overcast clouds",
           "04d",
           804,
           "Clouds"
          ]
         ]
        ],
        [
         1,
         39.9526,
         -75.1652,
         1693263600,
         0.45,
         2.24,
         138,
         100,
         1014,
         null,
         295.47,
         298.23,
         297.05,
         [
          [
           "overcast clouds",
           "04d",
           804,
           "Clouds"
          ]
         ]
        ],
        [
         1,
         39.9526,
         -75.1652,
         1693267200,
         0.89,
         4.02,
         71,
         100,
         1015,
         null,
         294.34,
         297.43,
         296.12,
         [
          [
           "overcast clouds",
           "04n",
           804,
           "Clouds"
          ]
         ]
        ],
        [
         1,
         39.9526,
         -75.1652,
         1693270800,
         1.34,
         4.47,
         0,
         100,
         1015,
         null,
         293.57,
         296.54,
         295.43,
         [
          [
           "overcast clouds",
           "04n",
           804,
           "Clouds"
          ]
         ]
        ],
        [
         1,
         39.9526,
         -75.1652,
         1693274400,
         1.34,
         4.02,
         123,
         100,
         1015,
         null,
         293.01,
         296.21,
         294.91,
         [
          [
           "overcast clouds",
           "04n",
           804,
           "Clouds"
          ]
         ]
        ],
        [
         1,
         39.9526,
         -75.1652,
         1693278000,
         1.34,
         3.13,
         84,
         100,
         1015,
         null,
         292.46,
         295.96,
         294.63,
         [
          [
           "overcast clouds",
           "04n",
           804,
           "Clouds"
          ]
         ]
        ],
        [
         1,
         39.9526,
         -75.1652,
         1693281600,
         0.89,
         3.13,
         98,
         100,
         1015,
         null,
         292.14,
         295.46,
         294.33,
         [
          [
           "overcast clouds",
           "04n",
           804,
           "Clouds"
          ]
         ]
        ],
        [
         1,
         39.9526,
         -75.1652,
         1693285200,
         3.6,
         null,
         70,
         100,
         1015,
         null,
         292.15,
         295.4,
         294.18,
         [
          [
           "overcast clouds",
           "04n",
           804,
           "Clouds"
          ]
         ]
        ],
        [
         1,
         39.9526,
         -75.1652,
         1693288800,
         3.6,
         null,
         70,
         100,
         1015,
         null,
         292.15,
         295.4,
         294.05,
         [
          [
           "overcast clouds",
           "04n",
           804,
           "Clouds"
          ]
         ]
        ],
        [
         1,
         39.9526,
         -75.1652,
         1693292400,
         3.6,
         null,
         70,
         100,
         1014,
         null,
         291.9,
         295.25,
         293.8,
         [
          [
           "overcast clouds",
           "04n",
           804,
           "Clouds"
          ]
         ]
        ],
        [
         1,
         39.9526,
         -75.1652,
         1693296000,
         2.57,
         null,
         70,
         100,
         1014,
         null,
         291.91,
         295.09,
         293.6,
         [
          [
           "overcast clouds",
           "04n",
           804,
           "Clouds"
          ]
         ]
        ],
        [
         1,
         39.9526,
         -75.1652,
         1693299600,
         1.79,
         3.58,
         38,
         93,
         1013,
         null,
         291.81,
         294.69,
         293.56,
         [
          [
           "overcast clouds",
           "04n",
           804,
           "Clouds"
          ]
         ]
        ],
        [
         1,
         39.9526,
         -75.1652,
         1693303200,
         3.6,
         null,
         30,
         100,
         1013,
         null,
         292.27,
         294.82,
         293.63,
         [
          [
           "overcast clouds",
           "04n",
           804,
           "Clouds"
          ]
         ]
        ],
        [
         1,
         39.9526,
         -75.1652,
         1693306800,
         3.6,
         null,
         60,
         100,
         1014,
         null,
         292.2,
         294.65,
         293.65,
         [
          [
           "overcast clouds",
           "04d",
           804,
           "Clouds"
          ]
         ]
        ],
        [
         1,
         39.9526,
         -75.1652,
         1693310400,
         3.09,
         null,
         40,
         100,
         1014,
         null,
         292.82,
         295.21,
         294.16,
         [
          [
           "overcast clouds",
           "04d",
           804,
           "Clouds"
          ]
         ]
        ],
        [
         1,
         39.9526,
         -75.1652,
         1693314000,
         2.68,
         4.92,
         0,
         100,
         1013,
         null,
         293.41,
         296.04,
         294.83,
         [
          [
           "overcast clouds",
           "04d",
           804,
           "Clouds"
          ]
         ]
        ],
        [
         1,
         39.9526,
         -75.1652,
         1693317600,
         3.6,
         null,
         60,
         100,
         1014,
         null,
         293.99,
         297.07,
         295.58,
         [
          [
           "overcast clouds",
           "04d",
           804,
           "Clouds"
          ]
         ]
        ],
        [
         1,
         39.9526,
         -75.1652,
         1693321200,
         0.89,
         3.58,
         80,
         100,
         1013,
         null,
         295.1,
         297.65,
         296.48,
         [
          [
           "overcast clouds",
           "04d",
           804,
           "Clouds"
          ]
         ]
        ],
        [
         1,
         39.9526,
         -75.1652,
         1693324800,
         4.12,
         null,
         80,
         100,
         1014,
         null,
         296.22,
         298.8,
         297.4,
         [
          [
           "overcast clouds",
           "04d",
           804,
           "Clouds"
          ]
         ]
        ],
        [
         1,
         39.9526,
         -75.1652,
         1693328400,
         0.45,
         1.79,
         121,
         100,
         1013,
         null,
         296.61,
         299.74,
         298.12,
         [
          [
           "overcast clouds",
           "04d",
           804,
           "Clouds"
          ]
         ]
        ],
        [
         1,
         39.9526,
         -75.1652,
         1693332000,
         2.06,
         null,
         100,
         100,
         1013,
         null,
         297.14,
         300.13,
         298.57,
         [
          [
           "overcast clouds",
           "04d",
           804,
           "Clouds"
          ]
         ]
        ],
        [
         1,
         39.9526,
         -75.1652,
         1693335600,
         3.09,
         null,
         40,
         100,
         1012,
         null,
         297.66,
         300.68,
         298.79,
         [
          [
           "overcast clouds",
           "04d",
           804,
           "Clouds"
          ]
         ]
        ],
        [
         1,
         39.9526,
         -75.1652,
         1693339200,
         2.06,
         null,
         30,
         100,
         1011,
         null,
         297.37,
         300.75,
         298.83,
         [
          [
           "overcast clouds",
           "04d",
           804,
           "Clouds"
          ]
         ]
        ],
        [
         1,
         39.9526,
         -75.1652,
         1693342800,
         0.89,
         2.68,
         63,
         100,
         1010,
         null,
         297.66,
         300.6,
         298.88,
         [
          [
           "overcast clouds",
           "04d",
           804,
           "Clouds"
          ]
         ]
        ],
        [
         1,
         39.9526,
         -75.1652,
         1693346400,
         2.3,
         3.96,
         112,
         100,
         1009,
         null,
         297.25,
         299.97,
         298.55,
         [
          [
           "overcast clouds",
           "04d",
           804,
           "Clouds"
          ]
         ]
        ],
        [
         1,
         39.9526,
         -75.1652,
         1693350000,
         0.45,
         1.79,
         101,
         100,
         1009,
         null,
         296.56,
         299.29,
         298.01,
         [
          [
           "overcast clouds",
           "04d",
           804,
           "Clouds"
          ]
         ]
        ],
        [
         1,
         39.9526,
         -75.1652,
         1693353600,
         0.45,
         1.79,
         123,
         99,
         1009,
         null,
         296.03,
         298.74,
         297.53,
         [
          [
           "overcast clouds",
           "04n",
           804,
           "Clouds"
          ]
         ]
        ]
       ],
       "datasetInfos": [],
       "dbfsResultPath": null,
       "isJsonSchema": true,
       "metadata": {},
       "overflow": false,
       "plotOptions": {
        "customPlotOptions": {},
        "displayType": "table",
        "pivotAggregation": null,
        "pivotColumns": null,
        "xColumns": null,
        "yColumns": null
       },
       "removedWidgets": [],
       "schema": [
        {
         "metadata": "{}",
         "name": "id",
         "type": "\"long\""
        },
        {
         "metadata": "{}",
         "name": "lat",
         "type": "\"double\""
        },
        {
         "metadata": "{}",
         "name": "lon",
         "type": "\"double\""
        },
        {
         "metadata": "{}",
         "name": "dt",
         "type": "\"long\""
        },
        {
         "metadata": "{}",
         "name": "wind_speed",
         "type": "\"double\""
        },
        {
         "metadata": "{}",
         "name": "wind_gust",
         "type": "\"double\""
        },
        {
         "metadata": "{}",
         "name": "wind_deg",
         "type": "\"long\""
        },
        {
         "metadata": "{}",
         "name": "clouds_all",
         "type": "\"long\""
        },
        {
         "metadata": "{}",
         "name": "pressure",
         "type": "\"long\""
        },
        {
         "metadata": "{}",
         "name": "rain_1h",
         "type": "\"double\""
        },
        {
         "metadata": "{}",
         "name": "temp_min",
         "type": "\"double\""
        },
        {
         "metadata": "{}",
         "name": "temp_max",
         "type": "\"double\""
        },
        {
         "metadata": "{}",
         "name": "temp",
         "type": "\"double\""
        },
        {
         "metadata": "{}",
         "name": "weather",
         "type": "{\"type\":\"array\",\"elementType\":{\"type\":\"struct\",\"fields\":[{\"name\":\"description\",\"type\":\"string\",\"nullable\":true,\"metadata\":{}},{\"name\":\"icon\",\"type\":\"string\",\"nullable\":true,\"metadata\":{}},{\"name\":\"id\",\"type\":\"long\",\"nullable\":true,\"metadata\":{}},{\"name\":\"main\",\"type\":\"string\",\"nullable\":true,\"metadata\":{}}]},\"containsNull\":true}"
        }
       ],
       "type": "table"
      }
     },
     "output_type": "display_data"
    },
    {
     "output_type": "display_data",
     "data": {
      "text/plain": [
       "Databricks visualization. Run in Databricks to view."
      ]
     },
     "metadata": {
      "application/vnd.databricks.v1.subcommand+json": {
       "bindings": {},
       "collapsed": false,
       "command": "%python\n__backend_agg_display_orig = display\n__backend_agg_dfs = []\ndef __backend_agg_display_new(df):\n    __backend_agg_df_modules = [\"pandas.core.frame\", \"databricks.koalas.frame\", \"pyspark.sql.dataframe\", \"pyspark.pandas.frame\", \"pyspark.sql.connect.dataframe\"]\n    if (type(df).__module__ in __backend_agg_df_modules and type(df).__name__ == 'DataFrame') or isinstance(df, list):\n        __backend_agg_dfs.append(df)\n\ndisplay = __backend_agg_display_new\n\ndef __backend_agg_user_code_fn():\n    import base64\n    exec(base64.standard_b64decode(\"ZGlzcGxheShoaXN0b3J5X3RhYmxlKQ==\").decode())\n\ntry:\n    # run user code\n    __backend_agg_user_code_fn()\n\n    #reset display function\n    display = __backend_agg_display_orig\n\n    if len(__backend_agg_dfs) > 0:\n        # create a temp view\n        if type(__backend_agg_dfs[0]).__module__ == \"databricks.koalas.frame\":\n            # koalas dataframe\n            __backend_agg_dfs[0].to_spark().createOrReplaceTempView(\"DatabricksView8b40653\")\n        elif type(__backend_agg_dfs[0]).__module__ == \"pandas.core.frame\" or isinstance(__backend_agg_dfs[0], list):\n            # pandas dataframe\n            spark.createDataFrame(__backend_agg_dfs[0]).createOrReplaceTempView(\"DatabricksView8b40653\")\n        else:\n            __backend_agg_dfs[0].createOrReplaceTempView(\"DatabricksView8b40653\")\n        #run backend agg\n        display(spark.sql(\"\"\"WITH q AS (select * from DatabricksView8b40653) SELECT `wind_speed`,`wind_deg` FROM q\"\"\"))\n    else:\n        displayHTML(\"dataframe no longer exists. If you're using dataframe.display(), use display(dataframe) instead.\")\n\n\nfinally:\n    spark.sql(\"drop view if exists DatabricksView8b40653\")\n    display = __backend_agg_display_orig\n    del __backend_agg_display_new\n    del __backend_agg_display_orig\n    del __backend_agg_dfs\n    del __backend_agg_user_code_fn\n\n",
       "commandTitle": "Visualization 1",
       "commandType": "auto",
       "commandVersion": 0,
       "commentThread": [],
       "commentsVisible": false,
       "contentSha256Hex": null,
       "customPlotOptions": {
        "redashChart": [
         {
          "key": "type",
          "value": "CHART"
         },
         {
          "key": "options",
          "value": {
           "alignYAxesAtZero": true,
           "coefficient": 2,
           "columnConfigurationMap": {
            "x": {
             "column": "wind_speed",
             "id": "column_4f2fe56b74"
            },
            "y": [
             {
              "column": "wind_deg",
              "id": "column_4f2fe56b86"
             }
            ]
           },
           "dateTimeFormat": "DD/MM/YYYY HH:mm",
           "direction": {
            "type": "counterclockwise"
           },
           "error_y": {
            "type": "data",
            "visible": true
           },
           "globalSeriesType": "box",
           "legend": {
            "traceorder": "normal"
           },
           "missingValuesAsZero": false,
           "numberFormat": "0,0[.]00000",
           "percentFormat": "0[.]00%",
           "series": {
            "error_y": {
             "type": "data",
             "visible": true
            },
            "stacking": null
           },
           "seriesOptions": {
            "clouds_all": {
             "type": "box",
             "yAxis": 0
            },
            "column_4f2fe56b81": {
             "type": "box",
             "yAxis": 0
            },
            "column_4f2fe56b82": {
             "type": "box",
             "yAxis": 0
            },
            "wind_deg": {
             "color": "#E92828",
             "type": "box",
             "yAxis": 0
            },
            "wind_gust": {
             "type": "box",
             "yAxis": 0
            }
           },
           "showDataLabels": false,
           "sizemode": "diameter",
           "sortX": true,
           "sortY": true,
           "swappedAxes": false,
           "textFormat": "",
           "useAggregationsUi": true,
           "valuesOptions": {},
           "version": 2,
           "xAxis": {
            "labels": {
             "enabled": true
            },
            "title": {
             "text": "Speed (meter/sec)"
            },
            "type": "-"
           },
           "yAxis": [
            {
             "title": {
              "text": "Degree (K)"
             },
             "type": "-"
            },
            {
             "opposite": true,
             "type": "-"
            }
           ]
          }
         }
        ]
       },
       "datasetPreviewNameToCmdIdMap": {},
       "diffDeletes": [],
       "diffInserts": [],
       "displayType": "redashChart",
       "error": null,
       "errorSummary": null,
       "errorTraceType": null,
       "finishTime": 0,
       "globalVars": {},
       "guid": "",
       "height": "auto",
       "hideCommandCode": false,
       "hideCommandResult": false,
       "iPythonMetadata": null,
       "inputWidgets": {},
       "isLockedInExamMode": false,
       "latestUser": "a user",
       "latestUserId": null,
       "listResultMetadata": null,
       "metadata": {
        "byteLimit": 2048000,
        "rowLimit": 10000
       },
       "nuid": "6339ecfa-8530-481c-8026-0dedd69283ba",
       "origId": 0,
       "parentHierarchy": [],
       "pivotAggregation": null,
       "pivotColumns": null,
       "position": 13.0,
       "resultDbfsErrorMessage": null,
       "resultDbfsStatus": "INLINED_IN_TREE",
       "results": null,
       "showCommandTitle": false,
       "startTime": 0,
       "state": "finished",
       "streamStates": {},
       "subcommandOptions": {
        "queryPlan": {
         "selects": [
          {
           "column": "wind_speed",
           "type": "column"
          },
          {
           "column": "wind_deg",
           "type": "column"
          }
         ]
        }
       },
       "submitTime": 0,
       "subtype": "tableResultSubCmd.visualization",
       "tableResultIndex": 0,
       "useConsistentColors": false,
       "version": "CommandV1",
       "width": "auto",
       "workflows": [],
       "xColumns": null,
       "yColumns": null
      }
     },
     "output_type": "display_data"
    }
   ],
   "source": [
    "display(history_table)"
   ]
  },
  {
   "cell_type": "markdown",
   "metadata": {
    "application/vnd.databricks.v1+cell": {
     "cellMetadata": {
      "byteLimit": 2048000,
      "rowLimit": 10000
     },
     "inputWidgets": {},
     "nuid": "6e3c8d44-0c92-45c6-a573-4e126d05ac02",
     "showTitle": false,
     "title": ""
    }
   },
   "source": [
    "### 6. Use the data from the created tables to create two summary tables (tables you would see in a report)."
   ]
  },
  {
   "cell_type": "code",
   "execution_count": 0,
   "metadata": {
    "application/vnd.databricks.v1+cell": {
     "cellMetadata": {
      "byteLimit": 2048000,
      "rowLimit": 10000
     },
     "inputWidgets": {},
     "nuid": "7fd50c05-00fe-431e-a340-28ff43215a0d",
     "showTitle": false,
     "title": ""
    }
   },
   "outputs": [
    {
     "output_type": "display_data",
     "data": {
      "text/html": [
       "<style scoped>\n",
       "  .table-result-container {\n",
       "    max-height: 300px;\n",
       "    overflow: auto;\n",
       "  }\n",
       "  table, th, td {\n",
       "    border: 1px solid black;\n",
       "    border-collapse: collapse;\n",
       "  }\n",
       "  th, td {\n",
       "    padding: 5px;\n",
       "  }\n",
       "  th {\n",
       "    text-align: left;\n",
       "  }\n",
       "</style><div class='table-result-container'><table class='table-result'><thead style='background-color: white'><tr><th>summary</th><th>id</th><th>name</th><th>lat</th><th>lon</th><th>timezone</th><th>population</th><th>dt</th><th>sunrise</th><th>sunset</th><th>pop</th><th>speed</th><th>gust</th><th>deg</th><th>clouds</th><th>pressure</th><th>rain</th><th>temp_min</th><th>temp_max</th><th>temp_morn</th><th>temp_day</th><th>temp_eve</th><th>temp_night</th><th>feels_like_morn</th><th>feels_like_day</th><th>feels_like_eve</th><th>feels_like_night</th></tr></thead><tbody><tr><td>count</td><td>16</td><td>16</td><td>16</td><td>16</td><td>16</td><td>16</td><td>16</td><td>16</td><td>16</td><td>16</td><td>16</td><td>16</td><td>16</td><td>16</td><td>16</td><td>5</td><td>16</td><td>16</td><td>16</td><td>16</td><td>16</td><td>16</td><td>16</td><td>16</td><td>16</td><td>16</td></tr><tr><td>mean</td><td>4560349.0</td><td>null</td><td>39.9526</td><td>-75.1652</td><td>-14400.0</td><td>1526006.0</td><td>1.6980336E9</td><td>1.6980167206875E9</td><td>1.6980558869375E9</td><td>0.249375</td><td>4.62375</td><td>10.158750000000001</td><td>273.5</td><td>46.75</td><td>1015.375</td><td>3.412</td><td>282.50187500000004</td><td>289.819375</td><td>283.385</td><td>287.21</td><td>288.6918749999999</td><td>284.619375</td><td>281.98812499999997</td><td>285.98499999999996</td><td>287.686875</td><td>283.4437500000001</td></tr><tr><td>stddev</td><td>0.0</td><td>null</td><td>0.0</td><td>0.0</td><td>0.0</td><td>0.0</td><td>411346.2774840682</td><td>411658.7289952598</td><td>410954.65429065254</td><td>0.3753659325689178</td><td>1.3707364200798537</td><td>2.3860004889633477</td><td>84.615207459022</td><td>48.316318844326986</td><td>10.849731179465575</td><td>3.4106773520812546</td><td>2.674213202046539</td><td>3.3107148648995337</td><td>3.1140648676609195</td><td>3.007625863257159</td><td>3.228731884708499</td><td>2.7361395401794337</td><td>3.9040973668698324</td><td>3.562768586366509</td><td>3.48754109892152</td><td>3.2904100554996525</td></tr><tr><td>min</td><td>4560349</td><td>Philadelphia</td><td>39.9526</td><td>-75.1652</td><td>-14400</td><td>1526006</td><td>1697385600</td><td>1697368235</td><td>1697408522</td><td>0.0</td><td>1.96</td><td>4.38</td><td>30</td><td>0</td><td>995</td><td>0.24</td><td>278.5</td><td>284.64</td><td>278.81</td><td>282.03</td><td>284.24</td><td>281.07</td><td>276.03</td><td>279.94</td><td>282.37</td><td>279.12</td></tr><tr><td>25%</td><td>4560349</td><td>null</td><td>39.9526</td><td>-75.1652</td><td>-14400</td><td>1526006</td><td>1697644800</td><td>1697627625</td><td>1697667457</td><td>0.0</td><td>3.57</td><td>8.87</td><td>196</td><td>3</td><td>1005</td><td>0.5</td><td>280.94</td><td>286.86</td><td>281.12</td><td>284.82</td><td>285.81</td><td>281.95</td><td>278.35</td><td>283.48</td><td>284.5</td><td>279.83</td></tr><tr><td>50%</td><td>4560349</td><td>null</td><td>39.9526</td><td>-75.1652</td><td>-14400</td><td>1526006</td><td>1697990400</td><td>1697973484</td><td>1698012717</td><td>0.0</td><td>4.29</td><td>10.11</td><td>302</td><td>9</td><td>1015</td><td>2.48</td><td>281.95</td><td>289.02</td><td>282.71</td><td>287.32</td><td>288.03</td><td>283.54</td><td>281.42</td><td>286.41</td><td>286.77</td><td>282.79</td></tr><tr><td>75%</td><td>4560349</td><td>null</td><td>39.9526</td><td>-75.1652</td><td>-14400</td><td>1526006</td><td>1698336000</td><td>1698319349</td><td>1698357993</td><td>0.36</td><td>5.58</td><td>11.5</td><td>323</td><td>100</td><td>1024</td><td>5.8</td><td>284.66</td><td>291.72</td><td>285.52</td><td>288.83</td><td>291.09</td><td>286.53</td><td>284.46</td><td>287.94</td><td>290.62</td><td>285.52</td></tr><tr><td>max</td><td>4560349</td><td>Philadelphia</td><td>39.9526</td><td>-75.1652</td><td>-14400</td><td>1526006</td><td>1698681600</td><td>1698665219</td><td>1698703290</td><td>1.0</td><td>6.74</td><td>14.38</td><td>348</td><td>100</td><td>1032</td><td>8.04</td><td>287.78</td><td>295.26</td><td>288.22</td><td>291.31</td><td>294.52</td><td>289.51</td><td>288.07</td><td>290.85</td><td>293.97</td><td>288.9</td></tr></tbody></table></div>"
      ]
     },
     "metadata": {
      "application/vnd.databricks.v1+output": {
       "addedWidgets": {},
       "aggData": [],
       "aggError": "",
       "aggOverflow": false,
       "aggSchema": [],
       "aggSeriesLimitReached": false,
       "aggType": "",
       "arguments": {},
       "columnCustomDisplayInfos": {},
       "data": [
        [
         "count",
         "16",
         "16",
         "16",
         "16",
         "16",
         "16",
         "16",
         "16",
         "16",
         "16",
         "16",
         "16",
         "16",
         "16",
         "16",
         "5",
         "16",
         "16",
         "16",
         "16",
         "16",
         "16",
         "16",
         "16",
         "16",
         "16"
        ],
        [
         "mean",
         "4560349.0",
         null,
         "39.9526",
         "-75.1652",
         "-14400.0",
         "1526006.0",
         "1.6980336E9",
         "1.6980167206875E9",
         "1.6980558869375E9",
         "0.249375",
         "4.62375",
         "10.158750000000001",
         "273.5",
         "46.75",
         "1015.375",
         "3.412",
         "282.50187500000004",
         "289.819375",
         "283.385",
         "287.21",
         "288.6918749999999",
         "284.619375",
         "281.98812499999997",
         "285.98499999999996",
         "287.686875",
         "283.4437500000001"
        ],
        [
         "stddev",
         "0.0",
         null,
         "0.0",
         "0.0",
         "0.0",
         "0.0",
         "411346.2774840682",
         "411658.7289952598",
         "410954.65429065254",
         "0.3753659325689178",
         "1.3707364200798537",
         "2.3860004889633477",
         "84.615207459022",
         "48.316318844326986",
         "10.849731179465575",
         "3.4106773520812546",
         "2.674213202046539",
         "3.3107148648995337",
         "3.1140648676609195",
         "3.007625863257159",
         "3.228731884708499",
         "2.7361395401794337",
         "3.9040973668698324",
         "3.562768586366509",
         "3.48754109892152",
         "3.2904100554996525"
        ],
        [
         "min",
         "4560349",
         "Philadelphia",
         "39.9526",
         "-75.1652",
         "-14400",
         "1526006",
         "1697385600",
         "1697368235",
         "1697408522",
         "0.0",
         "1.96",
         "4.38",
         "30",
         "0",
         "995",
         "0.24",
         "278.5",
         "284.64",
         "278.81",
         "282.03",
         "284.24",
         "281.07",
         "276.03",
         "279.94",
         "282.37",
         "279.12"
        ],
        [
         "25%",
         "4560349",
         null,
         "39.9526",
         "-75.1652",
         "-14400",
         "1526006",
         "1697644800",
         "1697627625",
         "1697667457",
         "0.0",
         "3.57",
         "8.87",
         "196",
         "3",
         "1005",
         "0.5",
         "280.94",
         "286.86",
         "281.12",
         "284.82",
         "285.81",
         "281.95",
         "278.35",
         "283.48",
         "284.5",
         "279.83"
        ],
        [
         "50%",
         "4560349",
         null,
         "39.9526",
         "-75.1652",
         "-14400",
         "1526006",
         "1697990400",
         "1697973484",
         "1698012717",
         "0.0",
         "4.29",
         "10.11",
         "302",
         "9",
         "1015",
         "2.48",
         "281.95",
         "289.02",
         "282.71",
         "287.32",
         "288.03",
         "283.54",
         "281.42",
         "286.41",
         "286.77",
         "282.79"
        ],
        [
         "75%",
         "4560349",
         null,
         "39.9526",
         "-75.1652",
         "-14400",
         "1526006",
         "1698336000",
         "1698319349",
         "1698357993",
         "0.36",
         "5.58",
         "11.5",
         "323",
         "100",
         "1024",
         "5.8",
         "284.66",
         "291.72",
         "285.52",
         "288.83",
         "291.09",
         "286.53",
         "284.46",
         "287.94",
         "290.62",
         "285.52"
        ],
        [
         "max",
         "4560349",
         "Philadelphia",
         "39.9526",
         "-75.1652",
         "-14400",
         "1526006",
         "1698681600",
         "1698665219",
         "1698703290",
         "1.0",
         "6.74",
         "14.38",
         "348",
         "100",
         "1032",
         "8.04",
         "287.78",
         "295.26",
         "288.22",
         "291.31",
         "294.52",
         "289.51",
         "288.07",
         "290.85",
         "293.97",
         "288.9"
        ]
       ],
       "datasetInfos": [],
       "dbfsResultPath": null,
       "isJsonSchema": true,
       "metadata": {},
       "overflow": false,
       "plotOptions": {
        "customPlotOptions": {},
        "displayType": "table",
        "pivotAggregation": null,
        "pivotColumns": null,
        "xColumns": null,
        "yColumns": null
       },
       "removedWidgets": [],
       "schema": [
        {
         "metadata": "{}",
         "name": "summary",
         "type": "\"string\""
        },
        {
         "metadata": "{}",
         "name": "id",
         "type": "\"string\""
        },
        {
         "metadata": "{}",
         "name": "name",
         "type": "\"string\""
        },
        {
         "metadata": "{}",
         "name": "lat",
         "type": "\"string\""
        },
        {
         "metadata": "{}",
         "name": "lon",
         "type": "\"string\""
        },
        {
         "metadata": "{}",
         "name": "timezone",
         "type": "\"string\""
        },
        {
         "metadata": "{}",
         "name": "population",
         "type": "\"string\""
        },
        {
         "metadata": "{}",
         "name": "dt",
         "type": "\"string\""
        },
        {
         "metadata": "{}",
         "name": "sunrise",
         "type": "\"string\""
        },
        {
         "metadata": "{}",
         "name": "sunset",
         "type": "\"string\""
        },
        {
         "metadata": "{}",
         "name": "pop",
         "type": "\"string\""
        },
        {
         "metadata": "{}",
         "name": "speed",
         "type": "\"string\""
        },
        {
         "metadata": "{}",
         "name": "gust",
         "type": "\"string\""
        },
        {
         "metadata": "{}",
         "name": "deg",
         "type": "\"string\""
        },
        {
         "metadata": "{}",
         "name": "clouds",
         "type": "\"string\""
        },
        {
         "metadata": "{}",
         "name": "pressure",
         "type": "\"string\""
        },
        {
         "metadata": "{}",
         "name": "rain",
         "type": "\"string\""
        },
        {
         "metadata": "{}",
         "name": "temp_min",
         "type": "\"string\""
        },
        {
         "metadata": "{}",
         "name": "temp_max",
         "type": "\"string\""
        },
        {
         "metadata": "{}",
         "name": "temp_morn",
         "type": "\"string\""
        },
        {
         "metadata": "{}",
         "name": "temp_day",
         "type": "\"string\""
        },
        {
         "metadata": "{}",
         "name": "temp_eve",
         "type": "\"string\""
        },
        {
         "metadata": "{}",
         "name": "temp_night",
         "type": "\"string\""
        },
        {
         "metadata": "{}",
         "name": "feels_like_morn",
         "type": "\"string\""
        },
        {
         "metadata": "{}",
         "name": "feels_like_day",
         "type": "\"string\""
        },
        {
         "metadata": "{}",
         "name": "feels_like_eve",
         "type": "\"string\""
        },
        {
         "metadata": "{}",
         "name": "feels_like_night",
         "type": "\"string\""
        }
       ],
       "type": "table"
      }
     },
     "output_type": "display_data"
    }
   ],
   "source": [
    "days_summary = days_table\\\n",
    "    .summary()\\\n",
    "\n",
    "display(days_summary)"
   ]
  },
  {
   "cell_type": "code",
   "execution_count": 0,
   "metadata": {
    "application/vnd.databricks.v1+cell": {
     "cellMetadata": {
      "byteLimit": 2048000,
      "rowLimit": 10000
     },
     "inputWidgets": {},
     "nuid": "20f0e8fb-ee19-4771-a7d7-54e7e2c77f12",
     "showTitle": false,
     "title": ""
    }
   },
   "outputs": [
    {
     "output_type": "display_data",
     "data": {
      "text/html": [
       "<style scoped>\n",
       "  .table-result-container {\n",
       "    max-height: 300px;\n",
       "    overflow: auto;\n",
       "  }\n",
       "  table, th, td {\n",
       "    border: 1px solid black;\n",
       "    border-collapse: collapse;\n",
       "  }\n",
       "  th, td {\n",
       "    padding: 5px;\n",
       "  }\n",
       "  th {\n",
       "    text-align: left;\n",
       "  }\n",
       "</style><div class='table-result-container'><table class='table-result'><thead style='background-color: white'><tr><th>summary</th><th>id</th><th>lat</th><th>lon</th><th>dt</th><th>wind_speed</th><th>wind_gust</th><th>wind_deg</th><th>clouds_all</th><th>pressure</th><th>rain_1h</th><th>temp_min</th><th>temp_max</th><th>temp</th></tr></thead><tbody><tr><td>count</td><td>169</td><td>169</td><td>169</td><td>169</td><td>169</td><td>123</td><td>169</td><td>169</td><td>169</td><td>3</td><td>169</td><td>169</td><td>169</td></tr><tr><td>mean</td><td>1.0</td><td>39.95259999999988</td><td>-75.1651999999999</td><td>1.6930512E9</td><td>1.914437869822484</td><td>4.1959349593495965</td><td>112.44378698224853</td><td>74.06508875739645</td><td>1013.5207100591716</td><td>0.37666666666666665</td><td>294.13201183431954</td><td>297.9169822485208</td><td>296.2731360946749</td></tr><tr><td>stddev</td><td>0.0</td><td>0.0</td><td>0.0</td><td>176148.80073392496</td><td>1.2556604494335346</td><td>1.8245380450136552</td><td>90.82445509176623</td><td>32.00542030207248</td><td>3.3257450962447614</td><td>0.04041451884327378</td><td>3.4649698651684324</td><td>3.239357814946439</td><td>3.2385007534625774</td></tr><tr><td>min</td><td>1</td><td>39.9526</td><td>-75.1652</td><td>1692748800</td><td>0.0</td><td>0.89</td><td>0</td><td>0</td><td>1008</td><td>0.34</td><td>285.6</td><td>291.27</td><td>288.99</td></tr><tr><td>25%</td><td>1</td><td>39.9526</td><td>-75.1652</td><td>1692900000</td><td>0.89</td><td>3.02</td><td>36</td><td>49</td><td>1011</td><td>0.34</td><td>292.14</td><td>295.61</td><td>294.16</td></tr><tr><td>50%</td><td>1</td><td>39.9526</td><td>-75.1652</td><td>1693051200</td><td>1.65</td><td>4.02</td><td>98</td><td>90</td><td>1014</td><td>0.37</td><td>293.61</td><td>297.07</td><td>295.54</td></tr><tr><td>75%</td><td>1</td><td>39.9526</td><td>-75.1652</td><td>1693202400</td><td>2.57</td><td>4.92</td><td>156</td><td>100</td><td>1015</td><td>0.42</td><td>296.61</td><td>300.13</td><td>298.55</td></tr><tr><td>max</td><td>1</td><td>39.9526</td><td>-75.1652</td><td>1693353600</td><td>6.69</td><td>11.02</td><td>352</td><td>100</td><td>1021</td><td>0.42</td><td>300.92</td><td>304.84</td><td>302.94</td></tr></tbody></table></div>"
      ]
     },
     "metadata": {
      "application/vnd.databricks.v1+output": {
       "addedWidgets": {},
       "aggData": [],
       "aggError": "",
       "aggOverflow": false,
       "aggSchema": [],
       "aggSeriesLimitReached": false,
       "aggType": "",
       "arguments": {},
       "columnCustomDisplayInfos": {},
       "data": [
        [
         "count",
         "169",
         "169",
         "169",
         "169",
         "169",
         "123",
         "169",
         "169",
         "169",
         "3",
         "169",
         "169",
         "169"
        ],
        [
         "mean",
         "1.0",
         "39.95259999999988",
         "-75.1651999999999",
         "1.6930512E9",
         "1.914437869822484",
         "4.1959349593495965",
         "112.44378698224853",
         "74.06508875739645",
         "1013.5207100591716",
         "0.37666666666666665",
         "294.13201183431954",
         "297.9169822485208",
         "296.2731360946749"
        ],
        [
         "stddev",
         "0.0",
         "0.0",
         "0.0",
         "176148.80073392496",
         "1.2556604494335346",
         "1.8245380450136552",
         "90.82445509176623",
         "32.00542030207248",
         "3.3257450962447614",
         "0.04041451884327378",
         "3.4649698651684324",
         "3.239357814946439",
         "3.2385007534625774"
        ],
        [
         "min",
         "1",
         "39.9526",
         "-75.1652",
         "1692748800",
         "0.0",
         "0.89",
         "0",
         "0",
         "1008",
         "0.34",
         "285.6",
         "291.27",
         "288.99"
        ],
        [
         "25%",
         "1",
         "39.9526",
         "-75.1652",
         "1692900000",
         "0.89",
         "3.02",
         "36",
         "49",
         "1011",
         "0.34",
         "292.14",
         "295.61",
         "294.16"
        ],
        [
         "50%",
         "1",
         "39.9526",
         "-75.1652",
         "1693051200",
         "1.65",
         "4.02",
         "98",
         "90",
         "1014",
         "0.37",
         "293.61",
         "297.07",
         "295.54"
        ],
        [
         "75%",
         "1",
         "39.9526",
         "-75.1652",
         "1693202400",
         "2.57",
         "4.92",
         "156",
         "100",
         "1015",
         "0.42",
         "296.61",
         "300.13",
         "298.55"
        ],
        [
         "max",
         "1",
         "39.9526",
         "-75.1652",
         "1693353600",
         "6.69",
         "11.02",
         "352",
         "100",
         "1021",
         "0.42",
         "300.92",
         "304.84",
         "302.94"
        ]
       ],
       "datasetInfos": [],
       "dbfsResultPath": null,
       "isJsonSchema": true,
       "metadata": {},
       "overflow": false,
       "plotOptions": {
        "customPlotOptions": {},
        "displayType": "table",
        "pivotAggregation": null,
        "pivotColumns": null,
        "xColumns": null,
        "yColumns": null
       },
       "removedWidgets": [],
       "schema": [
        {
         "metadata": "{}",
         "name": "summary",
         "type": "\"string\""
        },
        {
         "metadata": "{}",
         "name": "id",
         "type": "\"string\""
        },
        {
         "metadata": "{}",
         "name": "lat",
         "type": "\"string\""
        },
        {
         "metadata": "{}",
         "name": "lon",
         "type": "\"string\""
        },
        {
         "metadata": "{}",
         "name": "dt",
         "type": "\"string\""
        },
        {
         "metadata": "{}",
         "name": "wind_speed",
         "type": "\"string\""
        },
        {
         "metadata": "{}",
         "name": "wind_gust",
         "type": "\"string\""
        },
        {
         "metadata": "{}",
         "name": "wind_deg",
         "type": "\"string\""
        },
        {
         "metadata": "{}",
         "name": "clouds_all",
         "type": "\"string\""
        },
        {
         "metadata": "{}",
         "name": "pressure",
         "type": "\"string\""
        },
        {
         "metadata": "{}",
         "name": "rain_1h",
         "type": "\"string\""
        },
        {
         "metadata": "{}",
         "name": "temp_min",
         "type": "\"string\""
        },
        {
         "metadata": "{}",
         "name": "temp_max",
         "type": "\"string\""
        },
        {
         "metadata": "{}",
         "name": "temp",
         "type": "\"string\""
        }
       ],
       "type": "table"
      }
     },
     "output_type": "display_data"
    }
   ],
   "source": [
    "history_summary = history_table\\\n",
    "  .summary()\n",
    "\n",
    "display(history_summary)"
   ]
  },
  {
   "cell_type": "markdown",
   "metadata": {
    "application/vnd.databricks.v1+cell": {
     "cellMetadata": {
      "byteLimit": 2048000,
      "rowLimit": 10000
     },
     "inputWidgets": {},
     "nuid": "b1040d3b-c1a7-4a11-9a6d-c722e8cf8255",
     "showTitle": false,
     "title": ""
    }
   },
   "source": [
    "### 7. A short document that explains the differences between REST and GraphQL APIs (2-3 paragraphs)."
   ]
  },
  {
   "cell_type": "markdown",
   "metadata": {
    "application/vnd.databricks.v1+cell": {
     "cellMetadata": {},
     "inputWidgets": {},
     "nuid": "2647ac79-46b9-42db-ace7-ef3fe1e30a83",
     "showTitle": false,
     "title": ""
    }
   },
   "source": [
    "Rest API and GraphQL API are two different Application Programming Interface (API) used for data exchange over the internet. In layman's term, Rest API and GraphQL API are both differently structured ways of sending and getting data from one point of the internet to another. Rest API uses HTTP verbs to send and receive data. The HTTP verbs are: POST, GET, PUT, and DELETE. POST is used to create a new resource. GET is used to take something from a resource. PUT is used to update a current resource or create a new resource. DELETE is used to remove something from a resource. Using these verbs in the Rest API, one can do tasks like getting the follower counts of a user from a social media site by two GET commands. The first to get the id, then the second to get the follower count of the user with that id. Not only is this tiresome, but it is inconsistent. Sometimes the Rest API over-fetches info, and other time under-fetches info. GraphQL was created to eliminate all those extra commands without over or under-fetching. With GraphQL, we’d only have to do one HTTP Post command with exactly the user ID and followers to get the same data.\n",
    "\n",
    "\n",
    "Both Rest API and GraphQL API get info by using a get command with a URL. Once able to get the info, then both APIs can return a JSON object back to the site that requested the data. The difference lies in how it gets the data, as mentioned in the previous paragraph, and how the server determines the resources. Since the endpoint is the identity of the data that you requested in the Rest API, the server determines the shape and size of the resource. In GraphQL, on the other hand, the identity of the data is not its endpoint, and we can request for specific part of the data. This means that the server doesn’t determine the size of the data, the user request does. The server only determines what resources are available to get using GraphQL."
   ]
  }
 ],
 "metadata": {
  "application/vnd.databricks.v1+notebook": {
   "dashboards": [
    {
     "elements": [
      {
       "dashboardResultIndex": null,
       "elementNUID": "6339ecfa-8530-481c-8026-0dedd69283ba",
       "elementType": "command",
       "guid": "920e87c6-7578-498a-92b8-bfc02078f9c5",
       "options": null,
       "position": null,
       "resultIndex": null
      },
      {
       "dashboardResultIndex": 0,
       "elementNUID": "c136901d-1267-4ebf-9eea-fee3dd1aaa5d",
       "elementType": "command",
       "guid": "d66929a5-89ee-46e3-9f76-18d6c1eef0e3",
       "options": {
        "autoScaleImg": false,
        "scale": 0,
        "showRunButton": false,
        "showTitle": true,
        "title": "Rain Amount vs Avg Temp",
        "titleAlign": "center"
       },
       "position": {
        "height": 13,
        "width": 24,
        "x": 0,
        "y": 0,
        "z": null
       },
       "resultIndex": null
      }
     ],
     "globalVars": {},
     "guid": "",
     "layoutOption": {
      "grid": true,
      "stack": true
     },
     "nuid": "8ae89c57-f25a-4f0c-adb5-e9452f4c043d",
     "origId": 3801846679690660,
     "title": "Rain Amount vs Avg Temp",
     "version": "DashboardViewV1",
     "width": 1024
    },
    {
     "elements": [
      {
       "dashboardResultIndex": 0,
       "elementNUID": "6339ecfa-8530-481c-8026-0dedd69283ba",
       "elementType": "command",
       "guid": "838d208a-4322-4f7c-af96-058258fa99d1",
       "options": {
        "autoScaleImg": false,
        "scale": 0,
        "showTitle": true,
        "title": "Wind",
        "titleAlign": "center"
       },
       "position": {
        "height": 13,
        "width": 24,
        "x": 0,
        "y": 0,
        "z": null
       },
       "resultIndex": null
      }
     ],
     "globalVars": {},
     "guid": "",
     "layoutOption": {
      "grid": true,
      "stack": true
     },
     "nuid": "90ad2d65-56bc-4e59-bb3a-9b77ad16398a",
     "origId": 3801846679690661,
     "title": "Wind",
     "version": "DashboardViewV1",
     "width": 1024
    }
   ],
   "language": "python",
   "notebookMetadata": {
    "pythonIndentUnit": 4
   },
   "notebookName": "script",
   "widgets": {}
  },
  "language_info": {
   "name": "python"
  },
  "orig_nbformat": 4
 },
 "nbformat": 4,
 "nbformat_minor": 0
}

{
 "cells": [
  {
   "cell_type": "code",
   "execution_count": null,
   "metadata": {},
   "outputs": [],
   "source": [
    "# My jupyter notebook\n",
    "# assignment: Church Buildings in Utah vs Georgia\n",
    "\n",
    "# export to html / py before submitting to canvas"
   ]
  },
  {
   "cell_type": "code",
   "execution_count": 1,
   "metadata": {},
   "outputs": [],
   "source": [
    "# imports\n",
    "import polars as pl\n",
    "import pyarrow as pa\n",
    "import pyarrow.parquet as pq\n",
    "import numpy as np\n",
    "import plotly.express as px\n",
    "import plotly.io as pio"
   ]
  },
  {
   "cell_type": "code",
   "execution_count": 2,
   "metadata": {},
   "outputs": [],
   "source": [
    "# read parquet files\n",
    "# patterns = pl.read_parquet(\"../data/parquet/patterns.parquet\", use_pyarrow = True)\n",
    "# places = pl.read_parquet(\"../data/parquet/places.parquet\")\n",
    "\n",
    "# using this because the regular way had issues where I was getting null data\n",
    "patterns = pl.from_arrow(pq.read_table(\"../data/parquet/patterns.parquet\"))\n",
    "places = pl.from_arrow(pq.read_table(\"../data/parquet/places.parquet\"))"
   ]
  },
  {
   "cell_type": "code",
   "execution_count": 3,
   "metadata": {},
   "outputs": [
    {
     "data": {
      "text/plain": [
       "['placekey',\n",
       " 'date_range_start',\n",
       " 'date_range_end',\n",
       " 'raw_visit_counts',\n",
       " 'raw_visitor_counts',\n",
       " 'distance_from_home',\n",
       " 'median_dwell',\n",
       " 'bucketed_dwell_times',\n",
       " 'related_same_day_brand',\n",
       " 'related_same_month_brand',\n",
       " 'popularity_by_hour',\n",
       " 'popularity_by_day',\n",
       " 'device_type',\n",
       " 'visits_by_day',\n",
       " 'visitor_home_cbgs',\n",
       " 'visitor_home_aggregation',\n",
       " 'visitor_daytime_cbgs',\n",
       " 'visitor_country_of_origin',\n",
       " 'normalized_visits_by_state_scaling',\n",
       " 'normalized_visits_by_region_naics_visits',\n",
       " 'normalized_visits_by_region_naics_visitors',\n",
       " 'normalized_visits_by_total_visits']"
      ]
     },
     "execution_count": 3,
     "metadata": {},
     "output_type": "execute_result"
    }
   ],
   "source": [
    "# display patterns_parquet (original)\n",
    "#patterns_parquet\n",
    "list(patterns.columns)"
   ]
  },
  {
   "cell_type": "code",
   "execution_count": 13,
   "metadata": {},
   "outputs": [
    {
     "data": {
      "text/plain": [
       "['placekey',\n",
       " 'poi_cbg',\n",
       " 'parent_placekey',\n",
       " 'location_name',\n",
       " 'brands',\n",
       " 'safegraph_brand_ids',\n",
       " 'store_id',\n",
       " 'top_category',\n",
       " 'sub_category',\n",
       " 'naics_code',\n",
       " 'open_hours',\n",
       " 'category_tags',\n",
       " 'latitude',\n",
       " 'longitude',\n",
       " 'street_address',\n",
       " 'city',\n",
       " 'region',\n",
       " 'postal_code',\n",
       " 'iso_country_code',\n",
       " 'opened_on',\n",
       " 'closed_on',\n",
       " 'tracking_closed_since',\n",
       " 'websites',\n",
       " 'phone_number',\n",
       " 'wkt_area_sq_meters']"
      ]
     },
     "execution_count": 13,
     "metadata": {},
     "output_type": "execute_result"
    }
   ],
   "source": [
    "# display places_parquet (original)\n",
    "#places_parquet\n",
    "list(places.columns)"
   ]
  },
  {
   "cell_type": "code",
   "execution_count": 62,
   "metadata": {},
   "outputs": [
    {
     "name": "stdout",
     "output_type": "stream",
     "text": [
      "associated latter day media artists: 2\n",
      "bountiful utah north canyon stake church of jesus christ of latter d: 1\n",
      "bountiful utah orchard stake church of jesus christ of latter day sain: 1\n",
      "chambersburg pennsylvania stake church of jesus christ of latter d: 1\n",
      "charleston south carolina stake church of jesus christ of latter d: 1\n",
      "charleston west virginia stake church of jesus christ of latter d: 1\n",
      "church of jesus christ of latter day: 5\n",
      "church of jesus christ of latter day saint: 1\n",
      "church of jesus christ of latter day saints: 2\n",
      "church of jesus christ of latter day saints foundation: 1\n",
      "church of jesus christ of latter dy snts the cnt'd: 2\n",
      "corporation of the prophet of the body of jesus christ of latter day: 1\n",
      "farmington new mexico stake church of jesus christ of latter day sain: 2\n",
      "harvest of the latter rain: 1\n",
      "highlands ranch colorado stake church of jesus christ of latter d: 2\n",
      "indianapolis indiana north stake church of jesus christ of latter d: 2\n",
      "latter day church of christ: 1\n",
      "latter day ministries: 1\n",
      "latter day ministries church of god in christ: 1\n",
      "latter day saint charities: 1\n",
      "latter glory ministries 1 inc: 1\n",
      "latter rain christian church: 1\n",
      "latter rain christian church inc: 2\n",
      "latter rain church of jesus christ apostolic inc: 1\n",
      "latter rain ministries inc: 1\n",
      "latter rain non demominational ministries inc: 1\n",
      "lds church of jesus christ of latter day: 1\n",
      "liberty missouri stake church of jesus christ of latter day saints: 2\n",
      "lubbock texas stake church of jesus christ of latter day saints: 1\n",
      "north hollywood california stake church of jesus christ of latter d: 2\n",
      "oklahoma city oklahoma stake church of jesus christ of latter day sain: 2\n",
      "powder springs georgia stake church of jesus christ of latter day sain: 1\n",
      "reorganized church of jesus christ of latter day saints: 1\n",
      "riverton utah copperview stake church of jesus christ of latter d: 1\n",
      "spanish fork utah ysa stake church of jesus christ of latter day sain: 1\n",
      "springfield missouri stake church of jesus christ of latter day sain: 2\n",
      "st johns arizona stake church of jesus christ of latterday saints: 1\n",
      "st louis missouri south stake church of jesus christ of latter d: 2\n",
      "the church of jesus christ of latter: 1\n",
      "the church of jesus christ of latter day saints: 1819\n",
      "the church of jesus christ of latter day saints temple: 1\n",
      "washington terrace utah east stake church of jesus christ of latter d: 1\n"
     ]
    }
   ],
   "source": [
    "# all the different church names\n",
    "churches = {}\n",
    "for location in places[\"location_name\"]:\n",
    "    location = location.lower()\n",
    "    if location not in churches:\n",
    "        if (\"latter\" or \"day\" or \"saints\") in location:\n",
    "            churches[location] = 1\n",
    "    else:\n",
    "        churches[location] += 1\n",
    "\n",
    "myKeys = list(churches.keys())\n",
    "myKeys.sort()\n",
    "sorted_churches = {i: churches[i] for i in myKeys}\n",
    "\n",
    "for key,value in sorted_churches.items():\n",
    "    print(f\"{key}: {value}\")\n",
    "\n",
    "lds = []\n",
    "for key,value in sorted_churches.items():\n",
    "    if key.find(\"church of jesus christ\"):\n",
    "        lds.append(key)\n",
    "\n",
    "for item in lds:\n",
    "    print(item)"
   ]
  },
  {
   "cell_type": "code",
   "execution_count": 78,
   "metadata": {},
   "outputs": [
    {
     "data": {
      "text/html": [
       "<div><style>\n",
       ".dataframe > thead > tr > th,\n",
       ".dataframe > tbody > tr > td {\n",
       "  text-align: right;\n",
       "  white-space: pre-wrap;\n",
       "}\n",
       "</style>\n",
       "<small>shape: (5, 4)</small><table border=\"1\" class=\"dataframe\"><thead><tr><th>placekey</th><th>poi_cbg</th><th>region</th><th>location_name</th></tr><tr><td>str</td><td>str</td><td>str</td><td>str</td></tr></thead><tbody><tr><td>&quot;zzy-223@5qc-x4…</td><td>&quot;490490102203&quot;</td><td>&quot;UT&quot;</td><td>&quot;The Church of …</td></tr><tr><td>&quot;zzw-222@5qd-22…</td><td>&quot;490111258013&quot;</td><td>&quot;UT&quot;</td><td>&quot;The Church of …</td></tr><tr><td>&quot;zzw-222@5ws-h5…</td><td>&quot;490050014023&quot;</td><td>&quot;UT&quot;</td><td>&quot;The Church of …</td></tr><tr><td>&quot;zzy-222@5ws-mx…</td><td>null</td><td>&quot;UT&quot;</td><td>&quot;The Church of …</td></tr><tr><td>&quot;zzy-223@5qb-9z…</td><td>&quot;490490032011&quot;</td><td>&quot;UT&quot;</td><td>&quot;The Church of …</td></tr></tbody></table></div>"
      ],
      "text/plain": [
       "shape: (5, 4)\n",
       "┌─────────────────────┬──────────────┬────────┬───────────────────────────────────┐\n",
       "│ placekey            ┆ poi_cbg      ┆ region ┆ location_name                     │\n",
       "│ ---                 ┆ ---          ┆ ---    ┆ ---                               │\n",
       "│ str                 ┆ str          ┆ str    ┆ str                               │\n",
       "╞═════════════════════╪══════════════╪════════╪═══════════════════════════════════╡\n",
       "│ zzy-223@5qc-x49-gp9 ┆ 490490102203 ┆ UT     ┆ The Church of Jesus Christ of La… │\n",
       "│ zzw-222@5qd-22b-zj9 ┆ 490111258013 ┆ UT     ┆ The Church of Jesus Christ of La… │\n",
       "│ zzw-222@5ws-h5b-s3q ┆ 490050014023 ┆ UT     ┆ The Church of Jesus Christ of La… │\n",
       "│ zzy-222@5ws-mx6-qvf ┆ null         ┆ UT     ┆ The Church of Jesus Christ of La… │\n",
       "│ zzy-223@5qb-9z9-389 ┆ 490490032011 ┆ UT     ┆ The Church of Jesus Christ of La… │\n",
       "└─────────────────────┴──────────────┴────────┴───────────────────────────────────┘"
      ]
     },
     "execution_count": 78,
     "metadata": {},
     "output_type": "execute_result"
    }
   ],
   "source": [
    "# Question 1\n",
    "# What differences are there between iPhone and Android users when comparing visits to The Church of Jesus Christ buildings of Latter-day Saints in Utah and Georgia?\n",
    "\n",
    "# filter data to only include LDS buildings in Utah and Georgia\n",
    "# don't need to filter region by \"UT\" or \"GA\" since dataset is already limited to UT and GA\n",
    "places_lds = places.filter(\n",
    "    #pl.col(\"location_name\") == \"The Church of Jesus Christ of Latter day Saints\"\n",
    "    pl.col(\"location_name\").str.to_lowercase().is_in(lds)\n",
    ")\n",
    "# remove unnecessary columns\n",
    "places_lds = places_lds[[\"placekey\", \"poi_cbg\", \"region\", \"location_name\"]]\n",
    "\n",
    "len(places_lds)\n",
    "\n",
    "# for item in places_lds[\"location_name\"]:\n",
    "#     if item != \"The Church of Jesus Christ of Latter day Saints\":\n",
    "#         print(item)\n",
    "\n",
    "places_lds.head()"
   ]
  },
  {
   "cell_type": "code",
   "execution_count": 79,
   "metadata": {},
   "outputs": [
    {
     "data": {
      "text/html": [
       "<div><style>\n",
       ".dataframe > thead > tr > th,\n",
       ".dataframe > tbody > tr > td {\n",
       "  text-align: right;\n",
       "  white-space: pre-wrap;\n",
       "}\n",
       "</style>\n",
       "<small>shape: (5, 22)</small><table border=\"1\" class=\"dataframe\"><thead><tr><th>placekey</th><th>date_range_start</th><th>date_range_end</th><th>raw_visit_counts</th><th>raw_visitor_counts</th><th>distance_from_home</th><th>median_dwell</th><th>bucketed_dwell_times</th><th>related_same_day_brand</th><th>related_same_month_brand</th><th>popularity_by_hour</th><th>popularity_by_day</th><th>device_type</th><th>visits_by_day</th><th>visitor_home_cbgs</th><th>visitor_home_aggregation</th><th>visitor_daytime_cbgs</th><th>visitor_country_of_origin</th><th>normalized_visits_by_state_scaling</th><th>normalized_visits_by_region_naics_visits</th><th>normalized_visits_by_region_naics_visitors</th><th>normalized_visits_by_total_visits</th></tr><tr><td>str</td><td>str</td><td>str</td><td>f64</td><td>f64</td><td>f64</td><td>f64</td><td>list[struct[2]]</td><td>list[struct[2]]</td><td>list[struct[2]]</td><td>list[i32]</td><td>list[struct[2]]</td><td>list[struct[2]]</td><td>list[i32]</td><td>list[struct[2]]</td><td>list[struct[2]]</td><td>list[struct[2]]</td><td>list[struct[2]]</td><td>f64</td><td>f64</td><td>f64</td><td>f64</td></tr></thead><tbody><tr><td>&quot;222-223@8g7-2n…</td><td>&quot;2019-10-01T00:…</td><td>&quot;2019-11-01T00:…</td><td>10.0</td><td>6.0</td><td>12439.0</td><td>30.0</td><td>[{&quot;&lt;5&quot;,1}, {&quot;5-10&quot;,1}, … {&quot;&gt;240&quot;,1}]</td><td>[{&quot;Chevrolet&quot;,11}, {&quot;Marco&#x27;s Pizza&quot;,11}, … {&quot;Shell Oil&quot;,11}]</td><td>[{&quot;Toyota&quot;,33}, {&quot;Walmart&quot;,33}, … {&quot;CVS&quot;,33}]</td><td>[1, 1, … 1]</td><td>[{&quot;Monday&quot;,3}, {&quot;Tuesday&quot;,1}, … {&quot;Sunday&quot;,2}]</td><td>[{&quot;android&quot;,4}, {&quot;ios&quot;,5}]</td><td>[1, 0, … 0]</td><td>[{&quot;131350505461&quot;,4}]</td><td>[{&quot;13135050540&quot;,4}, {&quot;13135050546&quot;,4}]</td><td>[{&quot;131390015021&quot;,4}]</td><td>[{&quot;US&quot;,9}]</td><td>106.203073</td><td>0.000008</td><td>0.00002</td><td>1.2499e-7</td></tr><tr><td>&quot;222-223@8g7-2n…</td><td>&quot;2019-10-01T00:…</td><td>&quot;2019-11-01T00:…</td><td>10.0</td><td>6.0</td><td>12439.0</td><td>30.0</td><td>[{&quot;&lt;5&quot;,1}, {&quot;5-10&quot;,1}, … {&quot;&gt;240&quot;,1}]</td><td>[{&quot;Chevrolet&quot;,11}, {&quot;Marco&#x27;s Pizza&quot;,11}, … {&quot;Shell Oil&quot;,11}]</td><td>[{&quot;Toyota&quot;,33}, {&quot;Walmart&quot;,33}, … {&quot;CVS&quot;,33}]</td><td>[1, 1, … 1]</td><td>[{&quot;Monday&quot;,3}, {&quot;Tuesday&quot;,1}, … {&quot;Sunday&quot;,2}]</td><td>[{&quot;android&quot;,4}, {&quot;ios&quot;,5}]</td><td>[1, 0, … 0]</td><td>[{&quot;131350505461&quot;,4}]</td><td>[{&quot;13135050540&quot;,4}, {&quot;13135050546&quot;,4}]</td><td>[{&quot;131390015021&quot;,4}]</td><td>[{&quot;US&quot;,9}]</td><td>106.203073</td><td>0.000008</td><td>0.00002</td><td>1.2499e-7</td></tr><tr><td>&quot;222-222@8g7-3z…</td><td>&quot;2019-11-01T00:…</td><td>&quot;2019-12-01T00:…</td><td>49.0</td><td>32.0</td><td>7412.0</td><td>29.0</td><td>[{&quot;&lt;5&quot;,1}, {&quot;5-10&quot;,14}, … {&quot;&gt;240&quot;,9}]</td><td>[{&quot;FleetPride&quot;,2}, {&quot;Walmart&quot;,4}, … {&quot;Dollar Tree&quot;,4}]</td><td>[{&quot;Walmart&quot;,50}, {&quot;Chevron&quot;,38}, … {&quot;Dollar Tree&quot;,22}]</td><td>[7, 6, … 6]</td><td>[{&quot;Monday&quot;,7}, {&quot;Tuesday&quot;,2}, … {&quot;Sunday&quot;,8}]</td><td>[{&quot;android&quot;,17}, {&quot;ios&quot;,14}]</td><td>[1, 2, … 3]</td><td>[{&quot;131210038001&quot;,4}, {&quot;131210086013&quot;,4}, … {&quot;131210077042&quot;,4}]</td><td>[{&quot;13121010209&quot;,7}, {&quot;13121007704&quot;,4}, … {&quot;13121002400&quot;,4}]</td><td>[{&quot;131210077042&quot;,4}, {&quot;131210038001&quot;,4}, … {&quot;130970801031&quot;,4}]</td><td>[{&quot;US&quot;,27}]</td><td>600.035254</td><td>0.000042</td><td>0.000108</td><td>6.5526e-7</td></tr><tr><td>&quot;zzy-223@5qc-x6…</td><td>&quot;2019-11-01T00:…</td><td>&quot;2019-12-01T00:…</td><td>123.0</td><td>70.0</td><td>5527.0</td><td>61.0</td><td>[{&quot;&lt;5&quot;,1}, {&quot;5-10&quot;,23}, … {&quot;&gt;240&quot;,8}]</td><td>[{&quot;Menchie&#x27;s&quot;,1}, {&quot;Walmart&quot;,5}, … {&quot;Dollar Tree&quot;,2}]</td><td>[{&quot;Walmart&quot;,51}, {&quot;Target&quot;,27}, … {&quot;Dollar Tree&quot;,20}]</td><td>[2, 0, … 2]</td><td>[{&quot;Monday&quot;,5}, {&quot;Tuesday&quot;,6}, … {&quot;Sunday&quot;,55}]</td><td>[{&quot;android&quot;,44}, {&quot;ios&quot;,25}]</td><td>[5, 0, … 6]</td><td>[{&quot;490490008013&quot;,12}, {&quot;490490008011&quot;,7}, … {&quot;490351125012&quot;,4}]</td><td>[{&quot;49049000801&quot;,16}, {&quot;49049000706&quot;,8}, … {&quot;08059011723&quot;,4}]</td><td>[{&quot;490490008013&quot;,10}, {&quot;490490009012&quot;,5}, … {&quot;490490004001&quot;,4}]</td><td>[{&quot;US&quot;,66}]</td><td>1984.161444</td><td>0.000436</td><td>0.001085</td><td>0.000008</td></tr><tr><td>&quot;222-222@5qd-38…</td><td>&quot;2019-11-01T00:…</td><td>&quot;2019-12-01T00:…</td><td>111.0</td><td>22.0</td><td>3582.0</td><td>121.0</td><td>[{&quot;&lt;5&quot;,0}, {&quot;5-10&quot;,6}, … {&quot;&gt;240&quot;,45}]</td><td>[{&quot;Walmart&quot;,1}, {&quot;TacoTime&quot;,1}, … {&quot;Arby&#x27;s&quot;,2}]</td><td>[{&quot;Petco&quot;,9}, {&quot;Walmart&quot;,32}, … {&quot;Arby&#x27;s&quot;,14}]</td><td>[0, 0, … 0]</td><td>[{&quot;Monday&quot;,16}, {&quot;Tuesday&quot;,23}, … {&quot;Sunday&quot;,0}]</td><td>[{&quot;android&quot;,18}, {&quot;ios&quot;,4}]</td><td>[7, 0, … 0]</td><td>[{&quot;490351011012&quot;,4}, {&quot;490351036002&quot;,4}, … {&quot;490451307022&quot;,4}]</td><td>[{&quot;49035103100&quot;,5}, {&quot;49011126901&quot;,4}, … {&quot;49035102900&quot;,4}]</td><td>[{&quot;490351020002&quot;,4}, {&quot;490351014003&quot;,4}]</td><td>[{&quot;US&quot;,20}]</td><td>1790.584718</td><td>0.000393</td><td>0.000979</td><td>0.000007</td></tr></tbody></table></div>"
      ],
      "text/plain": [
       "shape: (5, 22)\n",
       "┌───────────┬───────────┬───────────┬───────────┬───┬───────────┬───────────┬───────────┬──────────┐\n",
       "│ placekey  ┆ date_rang ┆ date_rang ┆ raw_visit ┆ … ┆ normalize ┆ normalize ┆ normalize ┆ normaliz │\n",
       "│ ---       ┆ e_start   ┆ e_end     ┆ _counts   ┆   ┆ d_visits_ ┆ d_visits_ ┆ d_visits_ ┆ ed_visit │\n",
       "│ str       ┆ ---       ┆ ---       ┆ ---       ┆   ┆ by_state_ ┆ by_region ┆ by_region ┆ s_by_tot │\n",
       "│           ┆ str       ┆ str       ┆ f64       ┆   ┆ scali…    ┆ _naic…    ┆ _naic…    ┆ al_visit │\n",
       "│           ┆           ┆           ┆           ┆   ┆ ---       ┆ ---       ┆ ---       ┆ …        │\n",
       "│           ┆           ┆           ┆           ┆   ┆ f64       ┆ f64       ┆ f64       ┆ ---      │\n",
       "│           ┆           ┆           ┆           ┆   ┆           ┆           ┆           ┆ f64      │\n",
       "╞═══════════╪═══════════╪═══════════╪═══════════╪═══╪═══════════╪═══════════╪═══════════╪══════════╡\n",
       "│ 222-223@8 ┆ 2019-10-0 ┆ 2019-11-0 ┆ 10.0      ┆ … ┆ 106.20307 ┆ 0.000008  ┆ 0.00002   ┆ 1.2499e- │\n",
       "│ g7-2n2-td ┆ 1T00:00:0 ┆ 1T00:00:0 ┆           ┆   ┆ 3         ┆           ┆           ┆ 7        │\n",
       "│ 9         ┆ 0-04:00   ┆ 0-04:00   ┆           ┆   ┆           ┆           ┆           ┆          │\n",
       "│ 222-223@8 ┆ 2019-10-0 ┆ 2019-11-0 ┆ 10.0      ┆ … ┆ 106.20307 ┆ 0.000008  ┆ 0.00002   ┆ 1.2499e- │\n",
       "│ g7-2n2-td ┆ 1T00:00:0 ┆ 1T00:00:0 ┆           ┆   ┆ 3         ┆           ┆           ┆ 7        │\n",
       "│ 9         ┆ 0-04:00   ┆ 0-04:00   ┆           ┆   ┆           ┆           ┆           ┆          │\n",
       "│ 222-222@8 ┆ 2019-11-0 ┆ 2019-12-0 ┆ 49.0      ┆ … ┆ 600.03525 ┆ 0.000042  ┆ 0.000108  ┆ 6.5526e- │\n",
       "│ g7-3zc-fc ┆ 1T00:00:0 ┆ 1T00:00:0 ┆           ┆   ┆ 4         ┆           ┆           ┆ 7        │\n",
       "│ q         ┆ 0-04:00   ┆ 0-05:00   ┆           ┆   ┆           ┆           ┆           ┆          │\n",
       "│ zzy-223@5 ┆ 2019-11-0 ┆ 2019-12-0 ┆ 123.0     ┆ … ┆ 1984.1614 ┆ 0.000436  ┆ 0.001085  ┆ 0.000008 │\n",
       "│ qc-x6f-8d ┆ 1T00:00:0 ┆ 1T00:00:0 ┆           ┆   ┆ 44        ┆           ┆           ┆          │\n",
       "│ 9         ┆ 0-06:00   ┆ 0-07:00   ┆           ┆   ┆           ┆           ┆           ┆          │\n",
       "│ 222-222@5 ┆ 2019-11-0 ┆ 2019-12-0 ┆ 111.0     ┆ … ┆ 1790.5847 ┆ 0.000393  ┆ 0.000979  ┆ 0.000007 │\n",
       "│ qd-38t-qx ┆ 1T00:00:0 ┆ 1T00:00:0 ┆           ┆   ┆ 18        ┆           ┆           ┆          │\n",
       "│ q         ┆ 0-06:00   ┆ 0-07:00   ┆           ┆   ┆           ┆           ┆           ┆          │\n",
       "└───────────┴───────────┴───────────┴───────────┴───┴───────────┴───────────┴───────────┴──────────┘"
      ]
     },
     "execution_count": 79,
     "metadata": {},
     "output_type": "execute_result"
    }
   ],
   "source": [
    "# filter out all the null device_type\n",
    "patterns_device_type = patterns.filter(\n",
    "    pl.all_horizontal(pl.col(\"device_type\").is_not_null())\n",
    ")\n",
    "\n",
    "patterns_device_type.head()"
   ]
  },
  {
   "cell_type": "code",
   "execution_count": 81,
   "metadata": {},
   "outputs": [
    {
     "data": {
      "text/html": [
       "<div><style>\n",
       ".dataframe > thead > tr > th,\n",
       ".dataframe > tbody > tr > td {\n",
       "  text-align: right;\n",
       "  white-space: pre-wrap;\n",
       "}\n",
       "</style>\n",
       "<small>shape: (5, 22)</small><table border=\"1\" class=\"dataframe\"><thead><tr><th>placekey</th><th>date_range_start</th><th>date_range_end</th><th>raw_visit_counts</th><th>raw_visitor_counts</th><th>distance_from_home</th><th>median_dwell</th><th>bucketed_dwell_times</th><th>related_same_day_brand</th><th>related_same_month_brand</th><th>popularity_by_hour</th><th>popularity_by_day</th><th>device_type</th><th>visits_by_day</th><th>visitor_home_cbgs</th><th>visitor_home_aggregation</th><th>visitor_daytime_cbgs</th><th>visitor_country_of_origin</th><th>normalized_visits_by_state_scaling</th><th>normalized_visits_by_region_naics_visits</th><th>normalized_visits_by_region_naics_visitors</th><th>normalized_visits_by_total_visits</th></tr><tr><td>str</td><td>str</td><td>str</td><td>f64</td><td>f64</td><td>f64</td><td>f64</td><td>list[struct[2]]</td><td>list[struct[2]]</td><td>list[struct[2]]</td><td>list[i32]</td><td>list[struct[2]]</td><td>list[struct[2]]</td><td>list[i32]</td><td>list[struct[2]]</td><td>list[struct[2]]</td><td>list[struct[2]]</td><td>list[struct[2]]</td><td>f64</td><td>f64</td><td>f64</td><td>f64</td></tr></thead><tbody><tr><td>&quot;zzy-223@5qc-x6…</td><td>&quot;2019-11-01T00:…</td><td>&quot;2019-12-01T00:…</td><td>123.0</td><td>70.0</td><td>5527.0</td><td>61.0</td><td>[{&quot;&lt;5&quot;,1}, {&quot;5-10&quot;,23}, … {&quot;&gt;240&quot;,8}]</td><td>[{&quot;Menchie&#x27;s&quot;,1}, {&quot;Walmart&quot;,5}, … {&quot;Dollar Tree&quot;,2}]</td><td>[{&quot;Walmart&quot;,51}, {&quot;Target&quot;,27}, … {&quot;Dollar Tree&quot;,20}]</td><td>[2, 0, … 2]</td><td>[{&quot;Monday&quot;,5}, {&quot;Tuesday&quot;,6}, … {&quot;Sunday&quot;,55}]</td><td>[{&quot;android&quot;,44}, {&quot;ios&quot;,25}]</td><td>[5, 0, … 6]</td><td>[{&quot;490490008013&quot;,12}, {&quot;490490008011&quot;,7}, … {&quot;490351125012&quot;,4}]</td><td>[{&quot;49049000801&quot;,16}, {&quot;49049000706&quot;,8}, … {&quot;08059011723&quot;,4}]</td><td>[{&quot;490490008013&quot;,10}, {&quot;490490009012&quot;,5}, … {&quot;490490004001&quot;,4}]</td><td>[{&quot;US&quot;,66}]</td><td>1984.161444</td><td>0.000436</td><td>0.001085</td><td>0.000008</td></tr><tr><td>&quot;zzw-222@5qd-38…</td><td>&quot;2019-11-01T00:…</td><td>&quot;2019-12-01T00:…</td><td>67.0</td><td>29.0</td><td>17080.0</td><td>97.0</td><td>[{&quot;&lt;5&quot;,0}, {&quot;5-10&quot;,4}, … {&quot;&gt;240&quot;,26}]</td><td>[{&quot;Audi&quot;,2}, {&quot;Walmart&quot;,11}, … {&quot;Cafe Rio&quot;,3}]</td><td>[{&quot;Walmart&quot;,41}, {&quot;Target&quot;,21}, … {&quot;Cafe Rio&quot;,21}]</td><td>[3, 3, … 2]</td><td>[{&quot;Monday&quot;,13}, {&quot;Tuesday&quot;,8}, … {&quot;Sunday&quot;,4}]</td><td>[{&quot;android&quot;,23}, {&quot;ios&quot;,4}]</td><td>[4, 0, … 1]</td><td>[{&quot;490111270021&quot;,4}, {&quot;490572105122&quot;,4}, … {&quot;490490022013&quot;,4}]</td><td>[{&quot;49011125303&quot;,4}, {&quot;49035112619&quot;,4}, … {&quot;49035114700&quot;,4}]</td><td>[{&quot;490351023002&quot;,9}, {&quot;490351135052&quot;,6}, … {&quot;490351020003&quot;,4}]</td><td>[{&quot;US&quot;,27}]</td><td>1080.803388</td><td>0.000237</td><td>0.000591</td><td>0.000005</td></tr><tr><td>&quot;zzy-222@5qd-38…</td><td>&quot;2019-12-01T00:…</td><td>&quot;2020-01-01T00:…</td><td>91.0</td><td>43.0</td><td>493.0</td><td>88.0</td><td>[{&quot;&lt;5&quot;,0}, {&quot;5-10&quot;,3}, … {&quot;&gt;240&quot;,2}]</td><td>[{&quot;Walmart&quot;,4}, {&quot;Vasa Fitness&quot;,2}, … {&quot;Sam&#x27;s Club&quot;,1}]</td><td>[{&quot;Walmart&quot;,65}, {&quot;Vasa Fitness&quot;,14}, … {&quot;Cafe Rio&quot;,16}]</td><td>[0, 0, … 0]</td><td>[{&quot;Monday&quot;,0}, {&quot;Tuesday&quot;,4}, … {&quot;Sunday&quot;,58}]</td><td>[{&quot;android&quot;,24}, {&quot;ios&quot;,20}]</td><td>[7, 0, … 0]</td><td>[{&quot;490351014002&quot;,23}, {&quot;490351040002&quot;,6}, … {&quot;320030054335&quot;,4}]</td><td>[{&quot;49035101400&quot;,26}, {&quot;49049010105&quot;,5}, … {&quot;49011125406&quot;,4}]</td><td>[{&quot;490351014002&quot;,21}, {&quot;490111254062&quot;,4}, … {&quot;490351102001&quot;,4}]</td><td>[{&quot;US&quot;,42}]</td><td>1382.403621</td><td>0.000291</td><td>0.00067</td><td>0.000006</td></tr><tr><td>&quot;zzy-222@5qc-x4…</td><td>&quot;2019-10-01T00:…</td><td>&quot;2019-11-01T00:…</td><td>72.0</td><td>16.0</td><td>1517.0</td><td>27.0</td><td>[{&quot;&lt;5&quot;,0}, {&quot;5-10&quot;,17}, … {&quot;&gt;240&quot;,1}]</td><td>[{&quot;Sonic&quot;,2}, {&quot;Walmart&quot;,26}, … {&quot;Phillips 66&quot;,5}]</td><td>[{&quot;Walmart&quot;,63}, {&quot;Chevron&quot;,50}, … {&quot;Cafe Rio&quot;,19}]</td><td>[0, 1, … 3]</td><td>[{&quot;Monday&quot;,13}, {&quot;Tuesday&quot;,10}, … {&quot;Sunday&quot;,10}]</td><td>[{&quot;android&quot;,5}, {&quot;ios&quot;,9}]</td><td>[1, 4, … 1]</td><td>[{&quot;490490102092&quot;,4}, {&quot;490490102113&quot;,4}]</td><td>[{&quot;49049010211&quot;,6}, {&quot;49035110200&quot;,4}, {&quot;49049002000&quot;,4}]</td><td>[{&quot;490490102113&quot;,6}]</td><td>[{&quot;US&quot;,14}]</td><td>968.85186</td><td>0.000255</td><td>0.000591</td><td>0.000004</td></tr><tr><td>&quot;zzy-222@5qc-x4…</td><td>&quot;2019-10-01T00:…</td><td>&quot;2019-11-01T00:…</td><td>72.0</td><td>16.0</td><td>1517.0</td><td>27.0</td><td>[{&quot;&lt;5&quot;,0}, {&quot;5-10&quot;,17}, … {&quot;&gt;240&quot;,1}]</td><td>[{&quot;Sonic&quot;,2}, {&quot;Walmart&quot;,26}, … {&quot;Phillips 66&quot;,5}]</td><td>[{&quot;Walmart&quot;,63}, {&quot;Chevron&quot;,50}, … {&quot;Cafe Rio&quot;,19}]</td><td>[0, 1, … 3]</td><td>[{&quot;Monday&quot;,13}, {&quot;Tuesday&quot;,10}, … {&quot;Sunday&quot;,10}]</td><td>[{&quot;android&quot;,5}, {&quot;ios&quot;,9}]</td><td>[1, 4, … 1]</td><td>[{&quot;490490102092&quot;,4}, {&quot;490490102113&quot;,4}]</td><td>[{&quot;49049010211&quot;,6}, {&quot;49035110200&quot;,4}, {&quot;49049002000&quot;,4}]</td><td>[{&quot;490490102113&quot;,6}]</td><td>[{&quot;US&quot;,14}]</td><td>968.85186</td><td>0.000255</td><td>0.000591</td><td>0.000004</td></tr></tbody></table></div>"
      ],
      "text/plain": [
       "shape: (5, 22)\n",
       "┌───────────┬───────────┬───────────┬───────────┬───┬───────────┬───────────┬───────────┬──────────┐\n",
       "│ placekey  ┆ date_rang ┆ date_rang ┆ raw_visit ┆ … ┆ normalize ┆ normalize ┆ normalize ┆ normaliz │\n",
       "│ ---       ┆ e_start   ┆ e_end     ┆ _counts   ┆   ┆ d_visits_ ┆ d_visits_ ┆ d_visits_ ┆ ed_visit │\n",
       "│ str       ┆ ---       ┆ ---       ┆ ---       ┆   ┆ by_state_ ┆ by_region ┆ by_region ┆ s_by_tot │\n",
       "│           ┆ str       ┆ str       ┆ f64       ┆   ┆ scali…    ┆ _naic…    ┆ _naic…    ┆ al_visit │\n",
       "│           ┆           ┆           ┆           ┆   ┆ ---       ┆ ---       ┆ ---       ┆ …        │\n",
       "│           ┆           ┆           ┆           ┆   ┆ f64       ┆ f64       ┆ f64       ┆ ---      │\n",
       "│           ┆           ┆           ┆           ┆   ┆           ┆           ┆           ┆ f64      │\n",
       "╞═══════════╪═══════════╪═══════════╪═══════════╪═══╪═══════════╪═══════════╪═══════════╪══════════╡\n",
       "│ zzy-223@5 ┆ 2019-11-0 ┆ 2019-12-0 ┆ 123.0     ┆ … ┆ 1984.1614 ┆ 0.000436  ┆ 0.001085  ┆ 0.000008 │\n",
       "│ qc-x6f-8d ┆ 1T00:00:0 ┆ 1T00:00:0 ┆           ┆   ┆ 44        ┆           ┆           ┆          │\n",
       "│ 9         ┆ 0-06:00   ┆ 0-07:00   ┆           ┆   ┆           ┆           ┆           ┆          │\n",
       "│ zzw-222@5 ┆ 2019-11-0 ┆ 2019-12-0 ┆ 67.0      ┆ … ┆ 1080.8033 ┆ 0.000237  ┆ 0.000591  ┆ 0.000005 │\n",
       "│ qd-38t-j3 ┆ 1T00:00:0 ┆ 1T00:00:0 ┆           ┆   ┆ 88        ┆           ┆           ┆          │\n",
       "│ 5         ┆ 0-06:00   ┆ 0-07:00   ┆           ┆   ┆           ┆           ┆           ┆          │\n",
       "│ zzy-222@5 ┆ 2019-12-0 ┆ 2020-01-0 ┆ 91.0      ┆ … ┆ 1382.4036 ┆ 0.000291  ┆ 0.00067   ┆ 0.000006 │\n",
       "│ qd-38r-yj ┆ 1T00:00:0 ┆ 1T00:00:0 ┆           ┆   ┆ 21        ┆           ┆           ┆          │\n",
       "│ v         ┆ 0-07:00   ┆ 0-07:00   ┆           ┆   ┆           ┆           ┆           ┆          │\n",
       "│ zzy-222@5 ┆ 2019-10-0 ┆ 2019-11-0 ┆ 72.0      ┆ … ┆ 968.85186 ┆ 0.000255  ┆ 0.000591  ┆ 0.000004 │\n",
       "│ qc-x45-4d ┆ 1T00:00:0 ┆ 1T00:00:0 ┆           ┆   ┆           ┆           ┆           ┆          │\n",
       "│ 9         ┆ 0-06:00   ┆ 0-06:00   ┆           ┆   ┆           ┆           ┆           ┆          │\n",
       "│ zzy-222@5 ┆ 2019-10-0 ┆ 2019-11-0 ┆ 72.0      ┆ … ┆ 968.85186 ┆ 0.000255  ┆ 0.000591  ┆ 0.000004 │\n",
       "│ qc-x45-4d ┆ 1T00:00:0 ┆ 1T00:00:0 ┆           ┆   ┆           ┆           ┆           ┆          │\n",
       "│ 9         ┆ 0-06:00   ┆ 0-06:00   ┆           ┆   ┆           ┆           ┆           ┆          │\n",
       "└───────────┴───────────┴───────────┴───────────┴───┴───────────┴───────────┴───────────┴──────────┘"
      ]
     },
     "execution_count": 81,
     "metadata": {},
     "output_type": "execute_result"
    }
   ],
   "source": [
    "# combine patterns and places based on placekey\n",
    "patterns_UT_GA = patterns_device_type.filter(\n",
    "    pl.all_horizontal(pl.col(\"placekey\").is_in(places_lds[\"placekey\"]))\n",
    ")\n",
    "\n",
    "len(patterns_UT_GA)\n",
    "patterns_UT_GA.head()"
   ]
  },
  {
   "cell_type": "code",
   "execution_count": null,
   "metadata": {},
   "outputs": [],
   "source": []
  }
 ],
 "metadata": {
  "kernelspec": {
   "display_name": "Python 3",
   "language": "python",
   "name": "python3"
  },
  "language_info": {
   "codemirror_mode": {
    "name": "ipython",
    "version": 3
   },
   "file_extension": ".py",
   "mimetype": "text/x-python",
   "name": "python",
   "nbconvert_exporter": "python",
   "pygments_lexer": "ipython3",
   "version": "3.10.5"
  },
  "orig_nbformat": 4
 },
 "nbformat": 4,
 "nbformat_minor": 2
}

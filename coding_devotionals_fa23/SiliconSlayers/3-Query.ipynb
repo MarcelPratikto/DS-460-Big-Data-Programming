{
 "cells": [
  {
   "cell_type": "markdown",
   "metadata": {
    "application/vnd.databricks.v1+cell": {
     "cellMetadata": {},
     "inputWidgets": {},
     "nuid": "65a360c3-4e4b-4bde-ada1-7294366ae77b",
     "showTitle": false,
     "title": ""
    }
   },
   "source": [
    "### Query\n",
    "This notebook represents the __Data Warehouse__ step of data engineering. \n",
    "\n",
    "Now that our data has been through the data engineering pipeline, it is ready to be consumed by end users. In real life, these could be BI Tools, ML Models, or Data Scientists. \n",
    "\n",
    "Below are some example queries they might run. "
   ]
  },
  {
   "cell_type": "code",
   "execution_count": null,
   "metadata": {
    "application/vnd.databricks.v1+cell": {
     "cellMetadata": {
      "byteLimit": 2048000,
      "implicitDf": true,
      "rowLimit": 10000
     },
     "inputWidgets": {},
     "nuid": "f7a95eeb-99c6-42e5-8c66-1e42e0da614d",
     "showTitle": false,
     "title": ""
    }
   },
   "outputs": [],
   "source": [
    "%sql\n",
    "-- See the songs dataset\n",
    "SELECT *\n",
    "FROM songs\n",
    "LIMIT 5;\n"
   ]
  },
  {
   "cell_type": "code",
   "execution_count": null,
   "metadata": {
    "application/vnd.databricks.v1+cell": {
     "cellMetadata": {
      "byteLimit": 2048000,
      "implicitDf": true,
      "rowLimit": 10000
     },
     "inputWidgets": {},
     "nuid": "681bf80f-6ee9-4f89-ab66-c094cc36e9ac",
     "showTitle": false,
     "title": ""
    }
   },
   "outputs": [],
   "source": [
    "%sql\n",
    "-- See the artists dataset\n",
    "SELECT *\n",
    "FROM artists\n",
    "LIMIT 5;"
   ]
  },
  {
   "cell_type": "code",
   "execution_count": null,
   "metadata": {
    "application/vnd.databricks.v1+cell": {
     "cellMetadata": {
      "byteLimit": 2048000,
      "implicitDf": true,
      "rowLimit": 10000
     },
     "inputWidgets": {},
     "nuid": "e2f36f58-cc51-4d10-a4a8-1ff0bd179b40",
     "showTitle": false,
     "title": ""
    }
   },
   "outputs": [],
   "source": [
    "%sql\n",
    "-- Get all of the artists with lat and long coordinates\n",
    "SELECT *\n",
    "FROM artists\n",
    "WHERE artist_lat is NOT NULL AND artist_long is NOT NULL\n",
    "LIMIT 5;"
   ]
  },
  {
   "cell_type": "code",
   "execution_count": null,
   "metadata": {
    "application/vnd.databricks.v1+cell": {
     "cellMetadata": {
      "byteLimit": 2048000,
      "implicitDf": true,
      "rowLimit": 10000
     },
     "inputWidgets": {},
     "nuid": "7e38773a-b99f-4fbf-b5f0-6a61fd92861a",
     "showTitle": false,
     "title": ""
    }
   },
   "outputs": [],
   "source": [
    "%sql\n",
    "-- Which artists have the most songs in the dataset? \n",
    "SELECT artist_name, count(song_id) AS num_songs\n",
    "FROM songs\n",
    "JOIN artists\n",
    "ON songs.artist_id == artists.artist_id\n",
    "GROUP BY artist_name\n",
    "ORDER BY num_songs DESC\n",
    "LIMIT 5; "
   ]
  },
  {
   "cell_type": "code",
   "execution_count": null,
   "metadata": {
    "application/vnd.databricks.v1+cell": {
     "cellMetadata": {
      "byteLimit": 2048000,
      "implicitDf": true,
      "rowLimit": 10000
     },
     "inputWidgets": {},
     "nuid": "58033e09-5c82-4050-95fb-d3727abfe0c6",
     "showTitle": false,
     "title": ""
    }
   },
   "outputs": [],
   "source": [
    "%sql\n",
    "-- Show the most popular extra long songs\n",
    "SELECT * \n",
    "FROM songs \n",
    "WHERE length == 'Extra Long'\n",
    "ORDER BY song_popularity DESC\n",
    "LIMIT 20; "
   ]
  },
  {
   "cell_type": "code",
   "execution_count": null,
   "metadata": {
    "application/vnd.databricks.v1+cell": {
     "cellMetadata": {},
     "inputWidgets": {},
     "nuid": "1625cc04-1ab6-4379-8a85-64bd9ae43e0b",
     "showTitle": false,
     "title": ""
    }
   },
   "outputs": [],
   "source": []
  }
 ],
 "metadata": {
  "application/vnd.databricks.v1+notebook": {
   "dashboards": [],
   "language": "python",
   "notebookMetadata": {
    "mostRecentlyExecutedCommandWithImplicitDF": {
     "commandId": 225196267333052,
     "dataframes": [
      "_sqldf"
     ]
    },
    "pythonIndentUnit": 4
   },
   "notebookName": "Data Pipelines-Query",
   "widgets": {}
  },
  "language_info": {
   "name": "python"
  }
 },
 "nbformat": 4,
 "nbformat_minor": 0
}

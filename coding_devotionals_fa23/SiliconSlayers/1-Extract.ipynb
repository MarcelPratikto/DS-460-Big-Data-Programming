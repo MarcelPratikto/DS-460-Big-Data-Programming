{
 "cells": [
  {
   "cell_type": "markdown",
   "metadata": {
    "application/vnd.databricks.v1+cell": {
     "cellMetadata": {},
     "inputWidgets": {},
     "nuid": "f6f4a0c7-cdea-4f1c-ae53-22338ad567d4",
     "showTitle": false,
     "title": ""
    }
   },
   "source": [
    "### Extract\n",
    "This notebook represents the __Extract__ step of data engineering. \n",
    "\n",
    "This code extracts the example songs dataset. First we must specify the schema and then load the raw songs data to a table. "
   ]
  },
  {
   "cell_type": "code",
   "execution_count": null,
   "metadata": {
    "application/vnd.databricks.v1+cell": {
     "cellMetadata": {
      "byteLimit": 2048000,
      "rowLimit": 10000
     },
     "inputWidgets": {},
     "nuid": "deb8de5f-0b52-4354-a61c-79c3c0a5a116",
     "showTitle": false,
     "title": ""
    }
   },
   "outputs": [],
   "source": [
    "from pyspark.sql.types import DoubleType, IntegerType, StringType, StructType, StructField\n",
    "\n",
    "# Define variables used in the code below\n",
    "file_path = \"/databricks-datasets/songs/data-001/\"\n",
    "table_name = \"raw_song_data\"\n",
    "checkpoint_path = \"/tmp/pipeline_get_started/_checkpoint/song_data\"\n",
    "\n",
    "schema = StructType(\n",
    "  [\n",
    "    StructField(\"artist_id\", StringType(), True),\n",
    "    StructField(\"artist_lat\", DoubleType(), True),\n",
    "    StructField(\"artist_long\", DoubleType(), True),\n",
    "    StructField(\"artist_location\", StringType(), True),\n",
    "    StructField(\"artist_name\", StringType(), True),\n",
    "    StructField(\"duration\", DoubleType(), True),\n",
    "    StructField(\"end_of_fade_in\", DoubleType(), True),\n",
    "    StructField(\"key\", IntegerType(), True),\n",
    "    StructField(\"key_confidence\", DoubleType(), True),\n",
    "    StructField(\"loudness\", DoubleType(), True),\n",
    "    StructField(\"release\", StringType(), True),\n",
    "    StructField(\"song_hotnes\", DoubleType(), True),\n",
    "    StructField(\"song_id\", StringType(), True),\n",
    "    StructField(\"start_of_fade_out\", DoubleType(), True),\n",
    "    StructField(\"tempo\", DoubleType(), True),\n",
    "    StructField(\"time_signature\", DoubleType(), True),\n",
    "    StructField(\"time_signature_confidence\", DoubleType(), True),\n",
    "    StructField(\"title\", StringType(), True),\n",
    "    StructField(\"year\", IntegerType(), True),\n",
    "    StructField(\"partial_sequence\", IntegerType(), True)\n",
    "  ]\n",
    ")\n",
    "\n",
    "(spark.readStream\n",
    "  .format(\"cloudFiles\")\n",
    "  .schema(schema)\n",
    "  .option(\"cloudFiles.format\", \"csv\")\n",
    "  .option(\"sep\",\"\\t\")\n",
    "  .load(file_path)\n",
    "  .writeStream\n",
    "  .option(\"checkpointLocation\", checkpoint_path)\n",
    "  .trigger(availableNow=True)\n",
    "  .toTable(table_name)\n",
    ")"
   ]
  },
  {
   "cell_type": "markdown",
   "metadata": {
    "application/vnd.databricks.v1+cell": {
     "cellMetadata": {},
     "inputWidgets": {},
     "nuid": "5186932f-db22-4e47-867d-4e220f858c45",
     "showTitle": false,
     "title": ""
    }
   },
   "source": [
    "Source: *Adapted from [this](https://docs.databricks.com/en/getting-started/data-pipeline-get-started.html) Databricks example.*\n"
   ]
  },
  {
   "cell_type": "code",
   "execution_count": null,
   "metadata": {
    "application/vnd.databricks.v1+cell": {
     "cellMetadata": {},
     "inputWidgets": {},
     "nuid": "fe7f2a0f-45c0-41a6-88f6-623bfa70cd53",
     "showTitle": false,
     "title": ""
    }
   },
   "outputs": [],
   "source": []
  }
 ],
 "metadata": {
  "application/vnd.databricks.v1+notebook": {
   "dashboards": [],
   "language": "python",
   "notebookMetadata": {
    "pythonIndentUnit": 4
   },
   "notebookName": "Data Pipelines-Extract",
   "widgets": {}
  },
  "language_info": {
   "name": "python"
  }
 },
 "nbformat": 4,
 "nbformat_minor": 0
}

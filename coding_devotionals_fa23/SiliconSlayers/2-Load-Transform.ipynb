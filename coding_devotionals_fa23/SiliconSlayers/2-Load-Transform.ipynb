{
 "cells": [
  {
   "cell_type": "markdown",
   "metadata": {
    "application/vnd.databricks.v1+cell": {
     "cellMetadata": {},
     "inputWidgets": {},
     "nuid": "2a50d669-67ec-4e4e-924e-0ccd43286f03",
     "showTitle": false,
     "title": ""
    }
   },
   "source": [
    "### Load and Transform\n",
    "This notebook represents the __Load__ and __Transform__ steps of data engineering. \n",
    "\n",
    "We are going to split the songs data into two relational tables so that the data is query ready. "
   ]
  },
  {
   "cell_type": "code",
   "execution_count": null,
   "metadata": {
    "vscode": {
     "languageId": "sql"
    }
   },
   "outputs": [],
   "source": [
    "%sql\n",
    "-- SELECT DISTINCT Columns from raw_song_data\n",
    "SELECT *\n",
    "FROM raw_song_data\n",
    "LIMIT 1;"
   ]
  },
  {
   "cell_type": "markdown",
   "metadata": {},
   "source": [
    "__TODO: Create table with artist_name, artist_location, artist_lat, artist_long, and processed_time columns with appropriate types. Then insert `raw_song_data` into the table.__"
   ]
  },
  {
   "cell_type": "code",
   "execution_count": null,
   "metadata": {
    "application/vnd.databricks.v1+cell": {
     "cellMetadata": {
      "byteLimit": 2048000,
      "implicitDf": true,
      "rowLimit": 10000
     },
     "inputWidgets": {},
     "nuid": "587351d2-6558-44e1-92c6-fc0f96d2f186",
     "showTitle": false,
     "title": ""
    },
    "vscode": {
     "languageId": "sql"
    }
   },
   "outputs": [],
   "source": [
    "%sql\n",
    "CREATE OR REPLACE TABLE\n",
    "    artists (\n",
    "        artist_id STRING,\n",
    "        artist_lat DOUBLE,\n",
    "        artist_long DOUBLE,\n",
    "        artist_location STRING,\n",
    "        artist_name STRING,\n",
    "        processed_time TIMESTAMP -- Add timestamp\n",
    "        );\n",
    "\n",
    "INSERT INTO artists\n",
    "    SELECT DISTINCT\n",
    "        artist_id,\n",
    "        artist_lat,\n",
    "        artist_long,\n",
    "        artist_location,\n",
    "        artist_name,\n",
    "        current_timestamp() -- Add timestamp\n",
    "    FROM raw_song_data\n",
    "    WHERE artist_id IS NOT NULL;"
   ]
  },
  {
   "cell_type": "markdown",
   "metadata": {},
   "source": [
    "__TODO: Create table with song_id, title, artist_id, year, duration, song_popularity, and loudness columns with appropriate types.__\n",
    "\n",
    "Additional Data Engineering Steps:\n",
    "- 1. Change the year column to be NULL if the value is 0\n",
    "- 2. Change the column name song_hotnes to song_popularity\n",
    "- 3. Add column `processed_time`: a timestamp column with the time the data was processed\n",
    "- 4. (Stretch) Add column `length`: a categorical column with the values 'Short', 'Medium', 'Long', and 'Extra Long' based on the duration of the song"
   ]
  },
  {
   "cell_type": "code",
   "execution_count": null,
   "metadata": {
    "application/vnd.databricks.v1+cell": {
     "cellMetadata": {
      "byteLimit": 2048000,
      "implicitDf": true,
      "rowLimit": 10000
     },
     "inputWidgets": {},
     "nuid": "db54a4dc-970f-4106-b61d-100a71919c6f",
     "showTitle": false,
     "title": ""
    },
    "vscode": {
     "languageId": "sql"
    }
   },
   "outputs": [],
   "source": [
    "%sql \n",
    "CREATE OR REPLACE TABLE\n",
    "    songs (\n",
    "        song_id STRING,\n",
    "        title STRING,\n",
    "        artist_id STRING,\n",
    "        year INT,\n",
    "        duration DOUBLE, -- Add duration category \n",
    "        length STRING,\n",
    "        song_popularity DOUBLE, -- Change from hotnes\n",
    "        loudness DOUBLE,\n",
    "        processed_time TIMESTAMP -- Add timestamp\n",
    "        );\n",
    "\n",
    "INSERT INTO songs\n",
    "    SELECT DISTINCT\n",
    "        song_id,\n",
    "        title,\n",
    "        artist_id,\n",
    "        NULLIF(year, 0) as year, -- Change to Null if 0\n",
    "        duration,\n",
    "        CASE\n",
    "            WHEN duration < 120 THEN 'Short'                      -- Less than 2 minutes\n",
    "            WHEN duration >= 120 AND duration < 300 THEN 'Medium' -- Less than 5 minutes\n",
    "            WHEN duration >= 300 AND duration < 480 THEN 'Long'   -- Less than 8 minutes\n",
    "            ELSE 'Extra Long'                                     -- Anything else\n",
    "        END AS length,\n",
    "        song_hotnes, -- Have to select original name\n",
    "        loudness,\n",
    "        current_timestamp() -- Add timestamp\n",
    "    FROM raw_song_data\n",
    "    WHERE song_id IS NOT NULL;"
   ]
  },
  {
   "cell_type": "code",
   "execution_count": null,
   "metadata": {
    "application/vnd.databricks.v1+cell": {
     "cellMetadata": {},
     "inputWidgets": {},
     "nuid": "6489c8b7-871a-449b-81a3-321950238554",
     "showTitle": false,
     "title": ""
    }
   },
   "outputs": [],
   "source": []
  }
 ],
 "metadata": {
  "application/vnd.databricks.v1+notebook": {
   "dashboards": [],
   "language": "python",
   "notebookMetadata": {
    "mostRecentlyExecutedCommandWithImplicitDF": {
     "commandId": 225196267333047,
     "dataframes": [
      "_sqldf"
     ]
    },
    "pythonIndentUnit": 4
   },
   "notebookName": "Data Pipelines-Load-Transform",
   "widgets": {}
  },
  "language_info": {
   "name": "python"
  }
 },
 "nbformat": 4,
 "nbformat_minor": 0
}
